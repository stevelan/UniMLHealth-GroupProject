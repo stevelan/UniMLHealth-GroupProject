{
 "cells": [
  {
   "cell_type": "markdown",
   "metadata": {},
   "source": [
    "How to configure dataspell for google cloud access\n",
    "====================================================\n",
    "[Install google cloud SDK](https://cloud.google.com/sdk) <- not sure if strictly necessary\n",
    "Create project with SDK\n",
    "\n",
    "Enable Big Query API @ https://console.cloud.google.com/\n",
    "\n",
    "Connect physionet mimic-iv database\n",
    "\n",
    "Install google [jdbc drivers](https://cloud.google.com/bigquery/docs/reference/odbc-jdbc-drivers)\n",
    "\n",
    "Create bigquery [datasource in dataspell via add new database](https://www.jetbrains.com/help/dataspell/connect-to-bigquery.html#step-1-connect-to-bigquery-from-product-gua)\n",
    "   * important, change to Google User Account not Google Service Account"
   ]
  },
  {
   "cell_type": "markdown",
   "metadata": {},
   "source": []
  },
  {
   "cell_type": "code",
   "execution_count": 1,
   "metadata": {
    "ExecuteTime": {
     "end_time": "2023-10-12T02:51:58.771039500Z",
     "start_time": "2023-10-12T02:51:49.656111Z"
    }
   },
   "outputs": [
    {
     "name": "stdout",
     "output_type": "stream",
     "text": [
      "<google.oauth2.credentials.Credentials object at 0x000002073B36CC10> mimic-iv-desktop\n",
      "\n",
      "Mimic query ====================\n",
      "  icd_code  icd_version                             long_title\n",
      "0     0010            9         Cholera due to vibrio cholerae\n",
      "1     0011            9  Cholera due to vibrio cholerae el tor\n",
      "2     0019            9                   Cholera, unspecified\n",
      "3     0020            9                          Typhoid fever\n",
      "4     0021            9                    Paratyphoid fever A\n",
      "Successfully connected to mimic DB on bigquery\n",
      "\n",
      "Stack Overflow Query ============\n",
      "                     creation_date  answer_count\n",
      "0 2020-10-02 20:24:36.460000+00:00             2\n",
      "1 2020-10-03 11:08:52.807000+00:00             2\n",
      "2 2020-10-06 07:11:42.210000+00:00             2\n",
      "3 2020-10-06 15:01:45.267000+00:00             1\n",
      "4 2020-10-06 18:49:10.107000+00:00             1\n",
      "Successfully connected to stack overflow DB on bigquery\n"
     ]
    }
   ],
   "source": [
    "# !pip install google-cloud-storage\n",
    "# !pip install google-auth\n",
    "# !pip install google-cloud\n",
    "# !pip install ibis-framework[bigquery]\n",
    "\n",
    "from google.cloud import bigquery\n",
    "import google.auth\n",
    "\n",
    "from detectdd.auth_bigquery import BigQueryClient\n",
    "\n",
    "stackoverflow_query = \"\"\"SELECT creation_date, answer_count\n",
    "                   FROM `bigquery-public-data.stackoverflow.posts_questions`\n",
    "                   LIMIT 5\"\"\"\n",
    "\n",
    "mimic_query = \"\"\"SELECT * FROM `physionet-data.mimiciv_hosp.d_icd_diagnoses` LIMIT 5\"\"\"\n",
    "\n",
    "\n",
    "\n",
    "\n",
    "def main():\n",
    "    \n",
    "    client = BigQueryClient.auth()\n",
    "    mimic_job = client.query(mimic_query)\n",
    "\n",
    "    stack_job = client.query(stackoverflow_query)\n",
    "\n",
    "    print(\"\\nMimic query ====================\")\n",
    "    print(mimic_job.result().to_dataframe())\n",
    "    print(\"Successfully connected to mimic DB on bigquery\")\n",
    "\n",
    "    print(\"\\nStack Overflow Query ============\")\n",
    "    print(stack_job.result().to_dataframe())\n",
    "    print(\"Successfully connected to stack overflow DB on bigquery\")\n",
    "\n",
    "\n",
    "if __name__ == \"__main__\":\n",
    "    main()\n"
   ]
  },
  {
   "cell_type": "code",
   "execution_count": 2,
   "metadata": {
    "ExecuteTime": {
     "end_time": "2023-10-11T00:42:47.523714300Z",
     "start_time": "2023-10-11T00:42:47.518481700Z"
    }
   },
   "outputs": [
    {
     "name": "stdout",
     "output_type": "stream",
     "text": [
      "Environment test succeeded\n"
     ]
    }
   ],
   "source": [
    "print(\"Environment test succeeded\")"
   ]
  }
 ],
 "metadata": {
  "kernelspec": {
   "display_name": "Python 3 (ipykernel)",
   "language": "python",
   "name": "python3"
  },
  "language_info": {
   "codemirror_mode": {
    "name": "ipython",
    "version": 3
   },
   "file_extension": ".py",
   "mimetype": "text/x-python",
   "name": "python",
   "nbconvert_exporter": "python",
   "pygments_lexer": "ipython3",
   "version": "3.11.3"
  }
 },
 "nbformat": 4,
 "nbformat_minor": 1
}
