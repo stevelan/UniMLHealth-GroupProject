{
 "cells": [
  {
   "cell_type": "markdown",
   "metadata": {},
   "source": [
    "How to configure dataspell for google cloud access\n",
    "====================================================\n",
    "[Install google cloud SDK](https://cloud.google.com/sdk) <- not sure if strictly necessary\n",
    "Create project with SDK\n",
    "\n",
    "Enable Big Query API @ https://console.cloud.google.com/\n",
    "\n",
    "Connect physionet mimic-iv database\n",
    "\n",
    "Install google [jdbc drivers](https://cloud.google.com/bigquery/docs/reference/odbc-jdbc-drivers)\n",
    "\n",
    "Create bigquery [datasource in dataspell via add new database](https://www.jetbrains.com/help/dataspell/connect-to-bigquery.html#step-1-connect-to-bigquery-from-product-gua)\n",
    "   * important, change to Google User Account not Google Service Account"
   ]
  },
  {
   "cell_type": "markdown",
   "metadata": {},
   "source": []
  },
  {
   "cell_type": "code",
   "execution_count": 2,
   "metadata": {},
   "outputs": [
    {
     "name": "stdout",
     "output_type": "stream",
     "text": [
      "<google.oauth2.credentials.Credentials object at 0x000002938F904310> mimic-iv-desktop\n",
      "\n",
      "Mimic query ====================\n",
      "  icd_code  icd_version                             long_title\n",
      "0     0010            9         Cholera due to vibrio cholerae\n",
      "1     0011            9  Cholera due to vibrio cholerae el tor\n",
      "2     0019            9                   Cholera, unspecified\n",
      "3     0020            9                          Typhoid fever\n",
      "4     0021            9                    Paratyphoid fever A\n",
      "Successfully connected to mimic DB on bigquery\n",
      "\n",
      "Stack Overflow Query ============\n",
      "                     creation_date  answer_count\n",
      "0 2008-11-26 10:42:37.477000+00:00             0\n",
      "1 2008-11-27 15:12:37.497000+00:00             0\n",
      "2 2008-12-24 01:49:54.230000+00:00             0\n",
      "3 2009-01-05 14:23:51.040000+00:00             0\n",
      "4 2009-01-18 10:22:52.177000+00:00             0\n",
      "Successfully connected to stack overflow DB on bigquery\n",
      "<google.oauth2.credentials.Credentials object at 0x000002938F928050> mimic-iv-desktop\n",
      "\n",
      "Mimic query ====================\n",
      "  icd_code  icd_version                             long_title\n",
      "0     0010            9         Cholera due to vibrio cholerae\n",
      "1     0011            9  Cholera due to vibrio cholerae el tor\n",
      "2     0019            9                   Cholera, unspecified\n",
      "3     0020            9                          Typhoid fever\n",
      "4     0021            9                    Paratyphoid fever A\n",
      "Successfully connected to mimic DB on bigquery\n",
      "\n",
      "Stack Overflow Query ============\n",
      "                     creation_date  answer_count\n",
      "0 2008-11-26 10:42:37.477000+00:00             0\n",
      "1 2008-11-27 15:12:37.497000+00:00             0\n",
      "2 2008-12-24 01:49:54.230000+00:00             0\n",
      "3 2009-01-05 14:23:51.040000+00:00             0\n",
      "4 2009-01-18 10:22:52.177000+00:00             0\n",
      "Successfully connected to stack overflow DB on bigquery\n"
     ]
    }
   ],
   "source": [
    "# !pip install google-cloud-storage\n",
    "# !pip install google-auth\n",
    "# !pip install google-cloud\n",
    "# !pip install ibis-framework[bigquery]\n",
    "\n",
    "from google.cloud import bigquery\n",
    "import google.auth\n",
    "\n",
    "stackoverflow_query = \"\"\"SELECT creation_date, answer_count\n",
    "                   FROM `bigquery-public-data.stackoverflow.posts_questions`\n",
    "                   LIMIT 5\"\"\"\n",
    "\n",
    "mimic_query = \"\"\"SELECT * FROM `physionet-data.mimiciv_hosp.d_icd_diagnoses` LIMIT 5\"\"\"\n",
    "\n",
    "def get_client(c,p):\n",
    "    return bigquery.Client(p, c)\n",
    "\n",
    "def get_gcreds(scopes = None):\n",
    "    if scopes == None:\n",
    "        scopes = [\"https://www.googleapis.com/auth/bigquery\"]\n",
    "    return google.auth.default(\n",
    "        scopes )\n",
    "\n",
    "\n",
    "def main():\n",
    "    cred = get_gcreds()\n",
    "    print(*cred)\n",
    "    client = get_client(*cred)\n",
    "    mimic_job = client.query(mimic_query)\n",
    "\n",
    "    stack_job = client.query(stackoverflow_query)\n",
    "\n",
    "    print(\"\\nMimic query ====================\")\n",
    "    print(mimic_job.result().to_dataframe())\n",
    "    print(\"Successfully connected to mimic DB on bigquery\")\n",
    "\n",
    "    print(\"\\nStack Overflow Query ============\")\n",
    "    print(stack_job.result().to_dataframe())\n",
    "    print(\"Successfully connected to stack overflow DB on bigquery\")\n",
    "\n",
    "\n",
    "if __name__ == \"__main__\":\n",
    "    main()\n"
   ]
  },
  {
   "cell_type": "code",
   "execution_count": 2,
   "metadata": {
    "ExecuteTime": {
     "end_time": "2023-10-11T00:42:47.523714300Z",
     "start_time": "2023-10-11T00:42:47.518481700Z"
    }
   },
   "outputs": [
    {
     "name": "stdout",
     "output_type": "stream",
     "text": [
      "Environment test succeeded\n"
     ]
    }
   ],
   "source": [
    "print(\"Environment test succeeded\")"
   ]
  }
 ],
 "metadata": {
  "kernelspec": {
   "display_name": "Python 3 (ipykernel)",
   "language": "python",
   "name": "python3"
  },
  "language_info": {
   "codemirror_mode": {
    "name": "ipython",
    "version": 3
   },
   "file_extension": ".py",
   "mimetype": "text/x-python",
   "name": "python",
   "nbconvert_exporter": "python",
   "pygments_lexer": "ipython3",
   "version": "3.11.3"
  }
 },
 "nbformat": 4,
 "nbformat_minor": 1
}
