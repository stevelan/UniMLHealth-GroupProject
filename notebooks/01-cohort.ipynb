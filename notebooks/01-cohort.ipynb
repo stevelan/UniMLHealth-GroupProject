{
 "cells": [
  {
   "cell_type": "code",
   "execution_count": 62,
   "metadata": {
    "ExecuteTime": {
     "end_time": "2023-11-01T05:52:23.391775700Z",
     "start_time": "2023-11-01T05:52:23.163352900Z"
    }
   },
   "outputs": [
    {
     "name": "stdout",
     "output_type": "stream",
     "text": [
      "running in FAST mode\n"
     ]
    }
   ],
   "source": [
    "from detectdd import config\n",
    "from detectdd.serializer import Serializer\n",
    "import root_config as rc #this is needed to resolve the local modules\n",
    "rc.configure()\n",
    "\n",
    "import os\n",
    "import pandas as pd\n",
    "from fuzzywuzzy import fuzz\n",
    "from fuzzywuzzy import process\n",
    "\n",
    "from detectdd.config import *\n",
    "from detectdd.auth_bigquery import BigQueryClient\n",
    "\n",
    "if config.isFastMode():\n",
    "    print(\"running in FAST mode\")\n",
    "else:\n",
    "    print(\"Running in FULL mode\")\n",
    "    \n",
    "serializer = Serializer()"
   ]
  },
  {
   "cell_type": "markdown",
   "metadata": {},
   "source": [
    "### Produces:\n",
    "cohort.out - has ddinter drug interactions\n",
    "non-drug-interactions.csv - has an administration of a drug from ddinter, without a corresponding interacting drug\n",
    "\n",
    "\n"
   ]
  },
  {
   "cell_type": "code",
   "execution_count": 63,
   "metadata": {
    "ExecuteTime": {
     "end_time": "2023-11-01T05:52:26.629764500Z",
     "start_time": "2023-11-01T05:52:23.187289200Z"
    }
   },
   "outputs": [
    {
     "name": "stdout",
     "output_type": "stream",
     "text": [
      "<google.oauth2.credentials.Credentials object at 0x0000021166A1E1D0> mimic-iv-desktop\n",
      "474\n"
     ]
    }
   ],
   "source": [
    "def main():\n",
    "    mimic_drugs = f\"\"\"\n",
    "        SELECT itemid, label, abbreviation, category, unitname\n",
    "        FROM {icu_d_items}\n",
    "        WHERE linksto='inputevents' \"\"\"\n",
    "\n",
    "    mimic_job = BigQueryClient.auth().query(mimic_drugs)\n",
    "    df = mimic_job.to_dataframe()\n",
    "    df.label = df.label.fillna(\"\")\n",
    "    df.label = df.label.apply(str.lower)\n",
    "    return df\n",
    "\n",
    "icu_drugs = main()\n",
    "print(len(icu_drugs))"
   ]
  },
  {
   "cell_type": "code",
   "execution_count": 64,
   "metadata": {
    "ExecuteTime": {
     "end_time": "2023-11-01T05:52:26.634750100Z",
     "start_time": "2023-11-01T05:52:26.618793200Z"
    }
   },
   "outputs": [
    {
     "data": {
      "text/plain": "     itemid                    label        abbreviation  \\\n0    222139        potassium acetate   Potassium ACEtate   \n1    222190               ranitidine          Ranitidine   \n2    225801               lipids 20%          Lipids 20%   \n3    225916            tpn w/ lipids       TPN w/ Lipids   \n4    225917       tpn without lipids  TPN without Lipids   \n..      ...                      ...                 ...   \n469  221209                peptisorb           Peptisorb   \n470  221210                  suplena             Suplena   \n471  221211  sodium bicarbonate 1,4%          NaBic 1,4%   \n472  221212             saline 0,18%        Saline 0,18%   \n473  221213               saline 30%          Saline 30%   \n\n                        category unitname  \n0        Nutrition - Supplements      mEq  \n1         Nutrition - Parenteral       mg  \n2         Nutrition - Parenteral       mL  \n3         Nutrition - Parenteral       mL  \n4         Nutrition - Parenteral       mL  \n..                           ...      ...  \n469  Fluids - Other (Not In Use)       mL  \n470  Fluids - Other (Not In Use)       mL  \n471  Fluids - Other (Not In Use)       mL  \n472  Fluids - Other (Not In Use)       mL  \n473  Fluids - Other (Not In Use)       mL  \n\n[474 rows x 5 columns]",
      "text/html": "<div>\n<style scoped>\n    .dataframe tbody tr th:only-of-type {\n        vertical-align: middle;\n    }\n\n    .dataframe tbody tr th {\n        vertical-align: top;\n    }\n\n    .dataframe thead th {\n        text-align: right;\n    }\n</style>\n<table border=\"1\" class=\"dataframe\">\n  <thead>\n    <tr style=\"text-align: right;\">\n      <th></th>\n      <th>itemid</th>\n      <th>label</th>\n      <th>abbreviation</th>\n      <th>category</th>\n      <th>unitname</th>\n    </tr>\n  </thead>\n  <tbody>\n    <tr>\n      <th>0</th>\n      <td>222139</td>\n      <td>potassium acetate</td>\n      <td>Potassium ACEtate</td>\n      <td>Nutrition - Supplements</td>\n      <td>mEq</td>\n    </tr>\n    <tr>\n      <th>1</th>\n      <td>222190</td>\n      <td>ranitidine</td>\n      <td>Ranitidine</td>\n      <td>Nutrition - Parenteral</td>\n      <td>mg</td>\n    </tr>\n    <tr>\n      <th>2</th>\n      <td>225801</td>\n      <td>lipids 20%</td>\n      <td>Lipids 20%</td>\n      <td>Nutrition - Parenteral</td>\n      <td>mL</td>\n    </tr>\n    <tr>\n      <th>3</th>\n      <td>225916</td>\n      <td>tpn w/ lipids</td>\n      <td>TPN w/ Lipids</td>\n      <td>Nutrition - Parenteral</td>\n      <td>mL</td>\n    </tr>\n    <tr>\n      <th>4</th>\n      <td>225917</td>\n      <td>tpn without lipids</td>\n      <td>TPN without Lipids</td>\n      <td>Nutrition - Parenteral</td>\n      <td>mL</td>\n    </tr>\n    <tr>\n      <th>...</th>\n      <td>...</td>\n      <td>...</td>\n      <td>...</td>\n      <td>...</td>\n      <td>...</td>\n    </tr>\n    <tr>\n      <th>469</th>\n      <td>221209</td>\n      <td>peptisorb</td>\n      <td>Peptisorb</td>\n      <td>Fluids - Other (Not In Use)</td>\n      <td>mL</td>\n    </tr>\n    <tr>\n      <th>470</th>\n      <td>221210</td>\n      <td>suplena</td>\n      <td>Suplena</td>\n      <td>Fluids - Other (Not In Use)</td>\n      <td>mL</td>\n    </tr>\n    <tr>\n      <th>471</th>\n      <td>221211</td>\n      <td>sodium bicarbonate 1,4%</td>\n      <td>NaBic 1,4%</td>\n      <td>Fluids - Other (Not In Use)</td>\n      <td>mL</td>\n    </tr>\n    <tr>\n      <th>472</th>\n      <td>221212</td>\n      <td>saline 0,18%</td>\n      <td>Saline 0,18%</td>\n      <td>Fluids - Other (Not In Use)</td>\n      <td>mL</td>\n    </tr>\n    <tr>\n      <th>473</th>\n      <td>221213</td>\n      <td>saline 30%</td>\n      <td>Saline 30%</td>\n      <td>Fluids - Other (Not In Use)</td>\n      <td>mL</td>\n    </tr>\n  </tbody>\n</table>\n<p>474 rows × 5 columns</p>\n</div>"
     },
     "execution_count": 64,
     "metadata": {},
     "output_type": "execute_result"
    }
   ],
   "source": [
    "icu_drugs"
   ]
  },
  {
   "cell_type": "code",
   "execution_count": 65,
   "metadata": {
    "ExecuteTime": {
     "end_time": "2023-11-01T05:52:26.692485Z",
     "start_time": "2023-11-01T05:52:26.633752700Z"
    }
   },
   "outputs": [
    {
     "data": {
      "text/plain": "      DrugBank ID     Accession Numbers          Common name           CAS  \\\n0         DB00001  BIOD00024 | BTD00024            Lepirudin   138068-37-8   \n1         DB00002  BIOD00071 | BTD00071            Cetuximab   205923-56-4   \n2         DB00003  BIOD00001 | BTD00001         Dornase alfa   143831-71-4   \n3         DB00004  BIOD00084 | BTD00084  Denileukin diftitox   173146-27-5   \n4         DB00005  BIOD00052 | BTD00052           Etanercept   185243-69-0   \n...           ...                   ...                  ...           ...   \n15230     DB17382                   NaN              AUM-601           NaN   \n15231     DB17383                   NaN              FN-1501  1429515-59-2   \n15232     DB17384                   NaN         Tinengotinib  2230490-29-4   \n15233     DB17385                   NaN            Lipotecan  1432468-79-5   \n15234     DB17386                   NaN         Xenon Xe-129    13965-99-6   \n\n             UNII                                           Synonyms  \\\n0      Y43GF64R34  [Leu1, Thr2]-63-desulfohirudin | Desulfatohiru...   \n1      PQX0D8J21J                Cetuximab | Cétuximab | Cetuximabum   \n2      953A26OA1Y  Deoxyribonuclease (human clone 18-1 protein mo...   \n3      25E79B5CTM  Denileukin | Denileukin diftitox | Interleukin...   \n4      OP401G7OJC  Etanercept | etanercept-szzs | etanercept-ykro...   \n...           ...                                                ...   \n15230         NaN  (R,E)-3-(5-(2-(2,5-difluorophenyl)pyrrolidin-1...   \n15231  6MC966B505  4-((7h-pyrrolo (2,3-d)pyrimidin-4-yl)amino)-n-...   \n15232  WZ9TJ0L9Y8  4-(5-(2-Chlorophenyl)-3-Methyl-2,10-Dihydropyr...   \n15233  D47234N30N  Lipothecan free base | Propanoic acid, 2-(((2,...   \n15234  9C7571UDT5  Xenon xe-129m | Xenon-129m | Xenon, isotope of...   \n\n                Standard InChI Key              cleaned  \n0                              NaN            lepirudin  \n1                              NaN            cetuximab  \n2                              NaN         dornase alfa  \n3                              NaN  denileukin diftitox  \n4                              NaN           etanercept  \n...                            ...                  ...  \n15230                          NaN              aum-601  \n15231  VXLAKHWYGRKCGI-UHFFFAOYSA-N              fn-1501  \n15232  DQFCVOOFMXEPOC-UHFFFAOYSA-N         tinengotinib  \n15233  JCCCLGDYMMTBPM-HXDHBHDHSA-N            lipotecan  \n15234  FHNFHKCVQCLJFQ-YPZZEJLDSA-N         xenon xe-129  \n\n[15235 rows x 8 columns]",
      "text/html": "<div>\n<style scoped>\n    .dataframe tbody tr th:only-of-type {\n        vertical-align: middle;\n    }\n\n    .dataframe tbody tr th {\n        vertical-align: top;\n    }\n\n    .dataframe thead th {\n        text-align: right;\n    }\n</style>\n<table border=\"1\" class=\"dataframe\">\n  <thead>\n    <tr style=\"text-align: right;\">\n      <th></th>\n      <th>DrugBank ID</th>\n      <th>Accession Numbers</th>\n      <th>Common name</th>\n      <th>CAS</th>\n      <th>UNII</th>\n      <th>Synonyms</th>\n      <th>Standard InChI Key</th>\n      <th>cleaned</th>\n    </tr>\n  </thead>\n  <tbody>\n    <tr>\n      <th>0</th>\n      <td>DB00001</td>\n      <td>BIOD00024 | BTD00024</td>\n      <td>Lepirudin</td>\n      <td>138068-37-8</td>\n      <td>Y43GF64R34</td>\n      <td>[Leu1, Thr2]-63-desulfohirudin | Desulfatohiru...</td>\n      <td>NaN</td>\n      <td>lepirudin</td>\n    </tr>\n    <tr>\n      <th>1</th>\n      <td>DB00002</td>\n      <td>BIOD00071 | BTD00071</td>\n      <td>Cetuximab</td>\n      <td>205923-56-4</td>\n      <td>PQX0D8J21J</td>\n      <td>Cetuximab | Cétuximab | Cetuximabum</td>\n      <td>NaN</td>\n      <td>cetuximab</td>\n    </tr>\n    <tr>\n      <th>2</th>\n      <td>DB00003</td>\n      <td>BIOD00001 | BTD00001</td>\n      <td>Dornase alfa</td>\n      <td>143831-71-4</td>\n      <td>953A26OA1Y</td>\n      <td>Deoxyribonuclease (human clone 18-1 protein mo...</td>\n      <td>NaN</td>\n      <td>dornase alfa</td>\n    </tr>\n    <tr>\n      <th>3</th>\n      <td>DB00004</td>\n      <td>BIOD00084 | BTD00084</td>\n      <td>Denileukin diftitox</td>\n      <td>173146-27-5</td>\n      <td>25E79B5CTM</td>\n      <td>Denileukin | Denileukin diftitox | Interleukin...</td>\n      <td>NaN</td>\n      <td>denileukin diftitox</td>\n    </tr>\n    <tr>\n      <th>4</th>\n      <td>DB00005</td>\n      <td>BIOD00052 | BTD00052</td>\n      <td>Etanercept</td>\n      <td>185243-69-0</td>\n      <td>OP401G7OJC</td>\n      <td>Etanercept | etanercept-szzs | etanercept-ykro...</td>\n      <td>NaN</td>\n      <td>etanercept</td>\n    </tr>\n    <tr>\n      <th>...</th>\n      <td>...</td>\n      <td>...</td>\n      <td>...</td>\n      <td>...</td>\n      <td>...</td>\n      <td>...</td>\n      <td>...</td>\n      <td>...</td>\n    </tr>\n    <tr>\n      <th>15230</th>\n      <td>DB17382</td>\n      <td>NaN</td>\n      <td>AUM-601</td>\n      <td>NaN</td>\n      <td>NaN</td>\n      <td>(R,E)-3-(5-(2-(2,5-difluorophenyl)pyrrolidin-1...</td>\n      <td>NaN</td>\n      <td>aum-601</td>\n    </tr>\n    <tr>\n      <th>15231</th>\n      <td>DB17383</td>\n      <td>NaN</td>\n      <td>FN-1501</td>\n      <td>1429515-59-2</td>\n      <td>6MC966B505</td>\n      <td>4-((7h-pyrrolo (2,3-d)pyrimidin-4-yl)amino)-n-...</td>\n      <td>VXLAKHWYGRKCGI-UHFFFAOYSA-N</td>\n      <td>fn-1501</td>\n    </tr>\n    <tr>\n      <th>15232</th>\n      <td>DB17384</td>\n      <td>NaN</td>\n      <td>Tinengotinib</td>\n      <td>2230490-29-4</td>\n      <td>WZ9TJ0L9Y8</td>\n      <td>4-(5-(2-Chlorophenyl)-3-Methyl-2,10-Dihydropyr...</td>\n      <td>DQFCVOOFMXEPOC-UHFFFAOYSA-N</td>\n      <td>tinengotinib</td>\n    </tr>\n    <tr>\n      <th>15233</th>\n      <td>DB17385</td>\n      <td>NaN</td>\n      <td>Lipotecan</td>\n      <td>1432468-79-5</td>\n      <td>D47234N30N</td>\n      <td>Lipothecan free base | Propanoic acid, 2-(((2,...</td>\n      <td>JCCCLGDYMMTBPM-HXDHBHDHSA-N</td>\n      <td>lipotecan</td>\n    </tr>\n    <tr>\n      <th>15234</th>\n      <td>DB17386</td>\n      <td>NaN</td>\n      <td>Xenon Xe-129</td>\n      <td>13965-99-6</td>\n      <td>9C7571UDT5</td>\n      <td>Xenon xe-129m | Xenon-129m | Xenon, isotope of...</td>\n      <td>FHNFHKCVQCLJFQ-YPZZEJLDSA-N</td>\n      <td>xenon xe-129</td>\n    </tr>\n  </tbody>\n</table>\n<p>15235 rows × 8 columns</p>\n</div>"
     },
     "execution_count": 65,
     "metadata": {},
     "output_type": "execute_result"
    }
   ],
   "source": [
    "from detectdd.drug_index import DrugIndex, index_mimic_drugs, clean\n",
    "\n",
    "drug_index = DrugIndex.get_drug_index()\n",
    "\n",
    "drug_index.drug_bank_df['cleaned'] = drug_index.drug_bank_df['Common name'].apply(clean)\n",
    "drug_index.drug_bank_df"
   ]
  },
  {
   "cell_type": "code",
   "execution_count": 66,
   "metadata": {
    "ExecuteTime": {
     "end_time": "2023-11-01T05:52:30.021028500Z",
     "start_time": "2023-11-01T05:52:26.664476200Z"
    }
   },
   "outputs": [
    {
     "name": "stdout",
     "output_type": "stream",
     "text": [
      "<google.oauth2.credentials.Credentials object at 0x000002117863F1F0> mimic-iv-desktop\n",
      "Number of hosp drugs found 4187\n"
     ]
    },
    {
     "data": {
      "text/plain": "0                 Nicotine Patch\n1                       Propofol\n2              Scopolamine Patch\n3               Fentanyl Citrate\n4                     Tacrolimus\n                  ...           \n4182                    Plegridy\n4183                      Levo-T\n4184            Belladonna-Opium\n4185    GenTeal Tears Severe Gel\n4186         INV-PEGPH20/Placebo\nName: medication, Length: 4187, dtype: object"
     },
     "execution_count": 66,
     "metadata": {},
     "output_type": "execute_result"
    }
   ],
   "source": [
    "from detectdd.drug_index import clean\n",
    "\n",
    "def read_hosp_drugs():\n",
    "    sql_hosp_drugs_query = f\"\"\"\n",
    "    SELECT distinct medication from {config.hosp}.emar\"\"\"\n",
    "    return BigQueryClient.auth().query(sql_hosp_drugs_query).to_dataframe()\n",
    "\n",
    "df_hosp_drugs = read_hosp_drugs()['medication'].astype(str)\n",
    "\n",
    "print(f\"Number of hosp drugs found {len(df_hosp_drugs)}\")\n",
    "df_hosp_drugs"
   ]
  },
  {
   "cell_type": "code",
   "execution_count": 67,
   "metadata": {
    "ExecuteTime": {
     "end_time": "2023-11-01T05:52:30.341279100Z",
     "start_time": "2023-11-01T05:52:30.024020500Z"
    }
   },
   "outputs": [
    {
     "name": "stdout",
     "output_type": "stream",
     "text": [
      "Hospital drugs matches against drug bank normalisation 3613, 86.29%\n"
     ]
    },
    {
     "data": {
      "text/plain": "                                                                          0\nnicotine patch            'Nicotine Patch' -- cleaned_db_name:nicotine p...\npropofol                  'Propofol' -- cleaned_db_name:propofol -- comm...\nscopolamine patch         'Scopolamine Patch' -- cleaned_db_name:scopola...\nfentanyl citrate          'fentaNYL citrate' -- cleaned_db_name:fentanyl...\ntacrolimus                'tacrolimus' -- cleaned_db_name:tacrolimus -- ...\n...                                                                     ...\nplegridy                  'Plegridy' -- cleaned_db_name:plegridy -- comm...\nlevo-t                    'Levo-T' -- cleaned_db_name:levo-t -- common_n...\nbelladonna-opium          'Belladonna-Opium' -- cleaned_db_name:belladon...\ngenteal tears severe gel  'GenTeal Tears Severe Gel' -- cleaned_db_name:...\ninv-pegph20/placebo       'INV-PEGPH20/Placebo' -- cleaned_db_name:inv-p...\n\n[3613 rows x 1 columns]",
      "text/html": "<div>\n<style scoped>\n    .dataframe tbody tr th:only-of-type {\n        vertical-align: middle;\n    }\n\n    .dataframe tbody tr th {\n        vertical-align: top;\n    }\n\n    .dataframe thead th {\n        text-align: right;\n    }\n</style>\n<table border=\"1\" class=\"dataframe\">\n  <thead>\n    <tr style=\"text-align: right;\">\n      <th></th>\n      <th>0</th>\n    </tr>\n  </thead>\n  <tbody>\n    <tr>\n      <th>nicotine patch</th>\n      <td>'Nicotine Patch' -- cleaned_db_name:nicotine p...</td>\n    </tr>\n    <tr>\n      <th>propofol</th>\n      <td>'Propofol' -- cleaned_db_name:propofol -- comm...</td>\n    </tr>\n    <tr>\n      <th>scopolamine patch</th>\n      <td>'Scopolamine Patch' -- cleaned_db_name:scopola...</td>\n    </tr>\n    <tr>\n      <th>fentanyl citrate</th>\n      <td>'fentaNYL citrate' -- cleaned_db_name:fentanyl...</td>\n    </tr>\n    <tr>\n      <th>tacrolimus</th>\n      <td>'tacrolimus' -- cleaned_db_name:tacrolimus -- ...</td>\n    </tr>\n    <tr>\n      <th>...</th>\n      <td>...</td>\n    </tr>\n    <tr>\n      <th>plegridy</th>\n      <td>'Plegridy' -- cleaned_db_name:plegridy -- comm...</td>\n    </tr>\n    <tr>\n      <th>levo-t</th>\n      <td>'Levo-T' -- cleaned_db_name:levo-t -- common_n...</td>\n    </tr>\n    <tr>\n      <th>belladonna-opium</th>\n      <td>'Belladonna-Opium' -- cleaned_db_name:belladon...</td>\n    </tr>\n    <tr>\n      <th>genteal tears severe gel</th>\n      <td>'GenTeal Tears Severe Gel' -- cleaned_db_name:...</td>\n    </tr>\n    <tr>\n      <th>inv-pegph20/placebo</th>\n      <td>'INV-PEGPH20/Placebo' -- cleaned_db_name:inv-p...</td>\n    </tr>\n  </tbody>\n</table>\n<p>3613 rows × 1 columns</p>\n</div>"
     },
     "execution_count": 67,
     "metadata": {},
     "output_type": "execute_result"
    }
   ],
   "source": [
    "pd.DataFrame(df_hosp_drugs)\n",
    "drugs_by_norm_name = index_mimic_drugs(pd.DataFrame(df_hosp_drugs), \"medication\", \"medication\")\n",
    "drugs= pd.DataFrame.from_dict(drugs_by_norm_name, orient=\"index\")\n",
    "\n",
    "print(f\"Hospital drugs matches against drug bank normalisation {len(drugs)}, {round(100 * len(drugs) / len(df_hosp_drugs), 2)}%\")\n",
    "drugs"
   ]
  },
  {
   "cell_type": "code",
   "execution_count": 68,
   "metadata": {
    "ExecuteTime": {
     "end_time": "2023-11-01T05:52:30.434539500Z",
     "start_time": "2023-11-01T05:52:30.332294400Z"
    }
   },
   "outputs": [
    {
     "name": "stdout",
     "output_type": "stream",
     "text": [
      "Hospital drugs matches against drug bank normalisation 469, 98.95%\n"
     ]
    }
   ],
   "source": [
    "icu_drugs_by_norm_name = index_mimic_drugs(pd.DataFrame(icu_drugs), id_col=\"itemid\")\n",
    "df_icu_drugs = pd.DataFrame.from_dict(icu_drugs_by_norm_name, orient=\"index\")\n",
    "\n",
    "matched_icu_drugs = len(df_icu_drugs)\n",
    "print(f\"Hospital drugs matches against drug bank normalisation {matched_icu_drugs}, {round((matched_icu_drugs / len(icu_drugs))*100, 2)}%\")"
   ]
  },
  {
   "cell_type": "code",
   "execution_count": 69,
   "metadata": {
    "ExecuteTime": {
     "end_time": "2023-11-01T05:52:36.891285300Z",
     "start_time": "2023-11-01T05:52:30.379688Z"
    }
   },
   "outputs": [
    {
     "name": "stdout",
     "output_type": "stream",
     "text": [
      "('potassium acetate', 100, 12440)\n",
      "Found match with score (100) : potassium acetate - potassium acetate -- norm label potassium acetate\n",
      "0\n",
      "('ranitidine', 100, 845)\n",
      "Found match with score (100) : ranitidine - ranitidine -- norm label ranitidine\n",
      "1\n",
      "('li-301', 53, 5107)\n",
      "2\n",
      "('tildipirosin', 50, 9536)\n",
      "3\n",
      "('titanium dioxide', 47, 8453)\n",
      "4\n",
      "('amrinone', 60, 1364)\n",
      "5\n",
      "('d-arginine', 48, 3788)\n",
      "6\n",
      "('pentavalent antimony', 51, 11032)\n",
      "7\n",
      "('heptaminol', 80, 11542)\n",
      "8\n",
      "('neamine', 82, 4523)\n",
      "9\n",
      "('felbamate', 67, 931)\n",
      "10\n",
      "('hydrochloric acid', 100, 11340)\n",
      "Found match with score (100) : hydrochloric acid - hydrochloric acid -- norm label hydrochloric acid\n",
      "11\n",
      "('potassium', 100, 12442)\n",
      "Found match with score (100) : potassium phosphate - potassium -- norm label potassium\n",
      "12\n",
      "('sodium acetate', 100, 8387)\n",
      "Found match with score (100) : sodium acetate - sodium acetate -- norm label sodium acetate\n",
      "13\n",
      "('dextrose, unspecified form', 84, 8346)\n",
      "14\n",
      "('amino acids', 100, 8385)\n",
      "Found match with score (100) : amino acids - amino acids -- norm label amino acids\n",
      "15\n",
      "('lipoic acid', 54, 155)\n",
      "16\n",
      "('rice bran oil', 50, 9391)\n",
      "17\n",
      "('onapristone', 57, 10638)\n",
      "18\n",
      "('methyl vanillate', 51, 7753)\n",
      "19\n",
      "('manganese gluconate', 49, 9261)\n",
      "20\n",
      "('magnesium hydroxide', 43, 8116)\n",
      "21\n",
      "('vanilla', 100, 8747)\n",
      "Found match with score (100) : vanilla scandi shake (mixed) - vanilla -- norm label vanilla\n",
      "22\n",
      "('choline salicylate', 52, 11965)\n",
      "23\n",
      "('vanilla', 100, 8747)\n",
      "Found match with score (100) : vanilla lactose free scandi shake (mixed) - vanilla -- norm label vanilla\n",
      "24\n",
      "('lsz-102', 62, 13284)\n",
      "25\n",
      "('flavin-adenine dinucleotide-n5-isobutyl ketone', 48, 3325)\n",
      "26\n",
      "('benproperine', 78, 11283)\n",
      "27\n",
      "('vancomycin', 100, 497)\n",
      "Found match with score (100) : vancomycin - vancomycin -- norm label vancomycin\n",
      "28\n",
      "('acyclovir', 100, 769)\n",
      "Found match with score (100) : acyclovir - acyclovir -- norm label acyclovir\n",
      "29\n",
      "('artemisone', 67, 14005)\n",
      "30\n",
      "('amikacin', 100, 466)\n",
      "Found match with score (100) : amikacin - amikacin -- norm label amikacin\n",
      "31\n",
      "('ampicillin', 100, 402)\n",
      "Found match with score (100) : ampicillin - ampicillin -- norm label ampicillin\n",
      "32\n",
      "('ampicillin', 100, 402)\n",
      "Found match with score (100) : ampicillin/sulbactam (unasyn) - ampicillin -- norm label ampicillin\n",
      "33\n",
      "('atovaquone', 100, 1096)\n",
      "Found match with score (100) : atovaquone - atovaquone -- norm label atovaquone\n",
      "34\n",
      "('azithromycin', 100, 196)\n",
      "Found match with score (100) : azithromycin - azithromycin -- norm label azithromycin\n",
      "35\n",
      "('aztreonam', 100, 343)\n",
      "Found match with score (100) : aztreonam - aztreonam -- norm label aztreonam\n",
      "36\n",
      "('caspofungin', 100, 505)\n",
      "Found match with score (100) : caspofungin - caspofungin -- norm label caspofungin\n",
      "37\n",
      "('cefazolin', 100, 1286)\n",
      "Found match with score (100) : cefazolin - cefazolin -- norm label cefazolin\n",
      "38\n",
      "('cefepime', 100, 1351)\n",
      "Found match with score (100) : cefepime - cefepime -- norm label cefepime\n",
      "39\n",
      "('ceftazidime', 100, 425)\n",
      "Found match with score (100) : ceftazidime - ceftazidime -- norm label ceftazidime\n",
      "40\n",
      "('ceftriaxone', 100, 1191)\n",
      "Found match with score (100) : ceftriaxone - ceftriaxone -- norm label ceftriaxone\n",
      "41\n",
      "('chloroquine', 100, 593)\n",
      "Found match with score (100) : chloroquine - chloroquine -- norm label chloroquine\n",
      "42\n",
      "('ciprofloxacin', 100, 522)\n",
      "Found match with score (100) : ciprofloxacin - ciprofloxacin -- norm label ciprofloxacin\n",
      "43\n",
      "('clindamycin', 100, 1169)\n",
      "Found match with score (100) : clindamycin - clindamycin -- norm label clindamycin\n",
      "44\n",
      "('colistin', 100, 785)\n",
      "Found match with score (100) : colistin - colistin -- norm label colistin\n",
      "45\n",
      "('daptomycin', 100, 74)\n",
      "Found match with score (100) : daptomycin - daptomycin -- norm label daptomycin\n",
      "46\n",
      "('doxycycline', 100, 243)\n",
      "Found match with score (100) : doxycycline - doxycycline -- norm label doxycycline\n",
      "47\n",
      "('erythromycin', 100, 188)\n",
      "Found match with score (100) : erythromycin - erythromycin -- norm label erythromycin\n",
      "48\n",
      "('ethambutol', 100, 318)\n",
      "Found match with score (100) : ethambutol - ethambutol -- norm label ethambutol\n",
      "49\n",
      "('fluconazole', 100, 185)\n",
      "Found match with score (100) : fluconazole - fluconazole -- norm label fluconazole\n",
      "50\n",
      "('foscarnet', 100, 514)\n",
      "Found match with score (100) : foscarnet - foscarnet -- norm label foscarnet\n",
      "51\n",
      "('ganciclovir', 91, 986)\n",
      "Found match with score (91) : gancyclovir - ganciclovir -- norm label ganciclovir\n",
      "52\n",
      "('gentamicin', 100, 780)\n",
      "Found match with score (100) : gentamicin - gentamicin -- norm label gentamicin\n",
      "53\n",
      "('imipenem', 100, 1525)\n",
      "Found match with score (100) : imipenem/cilastatin - imipenem -- norm label imipenem\n",
      "54\n",
      "('isoniazid', 100, 933)\n",
      "Found match with score (100) : isoniazid - isoniazid -- norm label isoniazid\n",
      "55\n",
      "('levofloxacin', 100, 1116)\n",
      "Found match with score (100) : levofloxacin - levofloxacin -- norm label levofloxacin\n",
      "56\n",
      "('linezolid', 100, 586)\n",
      "Found match with score (100) : linezolid - linezolid -- norm label linezolid\n",
      "57\n",
      "('mefloquine', 100, 346)\n",
      "Found match with score (100) : mefloquine - mefloquine -- norm label mefloquine\n",
      "58\n",
      "('meropenem', 100, 743)\n",
      "Found match with score (100) : meropenem - meropenem -- norm label meropenem\n",
      "59\n",
      "('metronidazole', 100, 898)\n",
      "Found match with score (100) : metronidazole - metronidazole -- norm label metronidazole\n",
      "60\n",
      "('micafungin', 100, 1120)\n",
      "Found match with score (100) : micafungin - micafungin -- norm label micafungin\n",
      "61\n",
      "('moxifloxacin', 100, 207)\n",
      "Found match with score (100) : moxifloxacin - moxifloxacin -- norm label moxifloxacin\n",
      "62\n",
      "('nafcillin', 100, 592)\n",
      "Found match with score (100) : nafcillin - nafcillin -- norm label nafcillin\n",
      "63\n",
      "('oxacillin', 100, 697)\n",
      "Found match with score (100) : oxacillin - oxacillin -- norm label oxacillin\n",
      "64\n",
      "('potassium', 100, 12442)\n",
      "Found match with score (100) : penicillin g potassium - potassium -- norm label potassium\n",
      "65\n",
      "('piperacillin', 100, 308)\n",
      "Found match with score (100) : piperacillin - piperacillin -- norm label piperacillin\n",
      "66\n",
      "('piperacillin', 100, 308)\n",
      "Found match with score (100) : piperacillin/tazobactam (zosyn) - piperacillin -- norm label piperacillin\n",
      "67\n",
      "('pyrazinamide', 100, 327)\n",
      "Found match with score (100) : pyrazinamide - pyrazinamide -- norm label pyrazinamide\n",
      "68\n",
      "('quinine', 100, 455)\n",
      "Found match with score (100) : quinine - quinine -- norm label quinine\n",
      "69\n",
      "('ribavirin', 100, 793)\n",
      "Found match with score (100) : ribavirin - ribavirin -- norm label ribavirin\n",
      "70\n",
      "('rifampicin', 89, 1025)\n",
      "Found match with score (89) : rifampin - rifampicin -- norm label rifampicin\n",
      "71\n",
      "('bactrl-spike', 59, 13724)\n",
      "72\n",
      "('dalfopristin', 100, 1679)\n",
      "Found match with score (100) : dalfopristin/quinupristin (synercid) - dalfopristin -- norm label dalfopristin\n",
      "73\n",
      "('tobramycin', 100, 668)\n",
      "Found match with score (100) : tobramycin - tobramycin -- norm label tobramycin\n",
      "74\n",
      "('valganciclovir', 93, 1537)\n",
      "Found match with score (93) : valgancyclovir - valganciclovir -- norm label valganciclovir\n",
      "75\n",
      "('voriconazole', 100, 567)\n",
      "Found match with score (100) : voriconazole - voriconazole -- norm label voriconazole\n",
      "76\n",
      "('kale', 60, 12506)\n",
      "77\n",
      "('talniflumate', 63, 8301)\n",
      "78\n",
      "('chloramphenicol', 100, 433)\n",
      "Found match with score (100) : chloramphenicol - chloramphenicol -- norm label chloramphenicol\n",
      "79\n",
      "('ertapenem', 100, 292)\n",
      "Found match with score (100) : ertapenem sodium (invanz) - ertapenem -- norm label ertapenem\n",
      "80\n",
      "('tigecycline', 100, 545)\n",
      "Found match with score (100) : tigecycline - tigecycline -- norm label tigecycline\n",
      "81\n",
      "('ceftaroline fosamil', 100, 5741)\n",
      "Found match with score (100) : ceftaroline - ceftaroline fosamil -- norm label ceftaroline fosamil\n",
      "82\n",
      "('dextrose, unspecified form', 89, 8346)\n",
      "Found match with score (89) : dextrose 5% - dextrose, unspecified form -- norm label dextrose, unspecified form\n",
      "214\n",
      "('dextrose, unspecified form', 84, 8346)\n",
      "215\n",
      "('dextrose, unspecified form', 84, 8346)\n",
      "216\n",
      "('nap-226-90', 56, 4281)\n",
      "217\n",
      "('ncx 1015', 59, 5275)\n",
      "218\n",
      "('n-(3-carboxypropanoyl)-l-norvaline', 54, 7607)\n",
      "219\n",
      "('prinomastat', 67, 4779)\n",
      "220\n",
      "('prinomastat', 67, 4779)\n",
      "221\n",
      "('triethyl citrate', 61, 14675)\n",
      "222\n",
      "('bismuth subcarbonate', 72, 9381)\n",
      "223\n",
      "('freselestat', 57, 3691)\n",
      "224\n",
      "('gastric intrinsic factor', 74, 8354)\n",
      "225\n",
      "('drf-1042', 50, 15000)\n",
      "226\n",
      "('donu', 50, 10956)\n",
      "227\n",
      "('dill', 50, 8830)\n",
      "228\n",
      "('liotrix', 44, 1512)\n",
      "229\n",
      "('multistem', 64, 13658)\n",
      "230\n",
      "('d-157495', 50, 14786)\n",
      "231\n",
      "('soblidotin', 67, 10676)\n",
      "232\n",
      "('serine vanadate', 64, 3792)\n",
      "233\n",
      "('pam2csk4', 47, 14362)\n",
      "234\n",
      "('prednisolone hemisuccinate', 48, 12574)\n",
      "235\n",
      "('zinc glycinate citrate', 49, 13475)\n",
      "236\n",
      "('cathine', 64, 1421)\n",
      "237\n",
      "('o-acetyl-l-serine', 47, 1747)\n",
      "238\n",
      "('potassium chloride', 49, 744)\n",
      "239\n",
      "('pinus echinata pollen', 57, 8664)\n",
      "240\n",
      "('guanosine', 53, 2692)\n",
      "241\n",
      "('glyceryl trioleate', 51, 11024)\n",
      "242\n",
      "('geranyl diphosphate', 44, 2412)\n",
      "243\n",
      "('propatyl nitrate', 56, 11230)\n",
      "244\n",
      "('gts-21', 43, 5194)\n",
      "245\n",
      "('sodium bicarbonate', 100, 1331)\n",
      "Found match with score (100) : sodium bicarbonate 8.4% (amp) - sodium bicarbonate -- norm label sodium bicarbonate\n",
      "246\n",
      "('dextrose, unspecified form', 84, 8346)\n",
      "247\n",
      "('dextrose, unspecified form', 84, 8346)\n",
      "248\n",
      "('dextrose, unspecified form', 84, 8346)\n",
      "249\n",
      "('nap-226-90', 53, 4281)\n",
      "250\n",
      "('nitrocefin acyl-serine', 51, 3802)\n",
      "251\n",
      "('infliximab', 48, 61)\n",
      "252\n",
      "('ivermectin', 44, 587)\n",
      "253\n",
      "('propylene glycol', 58, 1749)\n",
      "254\n",
      "('previtamin d(3)', 52, 13531)\n",
      "255\n",
      "('n~2~-succinylornithine', 44, 3369)\n",
      "256\n",
      "('vilazodone', 45, 5808)\n",
      "257\n",
      "('remestemcel-l', 56, 11933)\n",
      "258\n",
      "('red bell pepper', 47, 9037)\n",
      "259\n",
      "('ensulizole', 57, 9238)\n",
      "260\n",
      "('benproperine', 78, 11283)\n",
      "261\n",
      "('n-[(2s,4s,6r)-2-(dihydroxymethyl)-4-hydroxy-3,3-dimethyl-7-oxo-4lambda~4~-thia-1-azabicyclo[3.2.0]hept-6-yl]-2-phenylacetamide', 67, 7612)\n",
      "262\n",
      "('nutlin-3', 60, 14887)\n",
      "263\n",
      "('n-[(2s,4s,6r)-2-(dihydroxymethyl)-4-hydroxy-3,3-dimethyl-7-oxo-4lambda~4~-thia-1-azabicyclo[3.2.0]hept-6-yl]-2-phenylacetamide', 67, 7612)\n",
      "264\n",
      "('n-[(2s,4s,6r)-2-(dihydroxymethyl)-4-hydroxy-3,3-dimethyl-7-oxo-4lambda~4~-thia-1-azabicyclo[3.2.0]hept-6-yl]-2-phenylacetamide', 59, 7612)\n",
      "265\n",
      "('imcy-0141', 63, 14867)\n",
      "266\n",
      "('idm-2', 53, 4937)\n",
      "267\n",
      "('ipl-344', 59, 14806)\n",
      "268\n",
      "('invac-1', 59, 14104)\n",
      "269\n",
      "('inositol 1,3-bisphosphate', 48, 2771)\n",
      "270\n",
      "('iofolastat i-123', 49, 10522)\n",
      "271\n",
      "('inositol 1,3-bisphosphate', 48, 2771)\n",
      "272\n",
      "('iofolastat i-123', 49, 10522)\n",
      "273\n",
      "('naphthalene-1,2,4,5,7-pentol', 55, 6024)\n",
      "274\n",
      "('naphthalene-1,2,4,5,7-pentol', 50, 6024)\n",
      "275\n",
      "('naphthalene-1,2,4,5,7-pentol', 50, 6024)\n",
      "276\n",
      "('naphthalene-1,2,4,5,7-pentol', 55, 6024)\n",
      "277\n",
      "('previtamin d(3)', 57, 13531)\n",
      "278\n",
      "('phosporic acid mono-[3,4-dihydroxy-5-(5-methoxy-benzoimidazol-1-yl)-tetrahydro-furan-2-ylmethyl] ester', 61, 3931)\n",
      "279\n",
      "('phosporic acid mono-[3,4-dihydroxy-5-(5-methoxy-benzoimidazol-1-yl)-tetrahydro-furan-2-ylmethyl] ester', 61, 3931)\n",
      "280\n",
      "('previtamin d(3)', 57, 13531)\n",
      "281\n",
      "('proflavine', 58, 1102)\n",
      "282\n",
      "('prostaglandin d2', 60, 1948)\n",
      "283\n",
      "('proflavine', 58, 1102)\n",
      "284\n",
      "('prostaglandin d2', 60, 1948)\n",
      "285\n",
      "('reteplase', 50, 14)\n",
      "286\n",
      "('reteplase', 50, 14)\n",
      "287\n",
      "('reteplase', 50, 14)\n",
      "288\n",
      "('reversin 121', 52, 12024)\n",
      "289\n",
      "('reactive red 1 dye', 45, 3273)\n",
      "290\n",
      "('ro-5126766 free base', 43, 13180)\n",
      "291\n",
      "('reactive red 1 dye', 40, 3273)\n",
      "292\n",
      "('ro-5126766 free base', 48, 13180)\n",
      "293\n",
      "('vx-148', 59, 5421)\n",
      "294\n",
      "('vilazodone', 48, 5808)\n",
      "295\n",
      "('vilazodone', 48, 5808)\n",
      "296\n",
      "('vxa-cov2-1', 57, 14340)\n",
      "297\n",
      "('enflurane', 53, 217)\n",
      "298\n",
      "('enflurane', 53, 217)\n",
      "299\n",
      "('ensulizole', 46, 9238)\n",
      "300\n",
      "('etonogestrel', 44, 283)\n",
      "301\n",
      "('ehp-102', 45, 14781)\n",
      "302\n",
      "('n-sulfo-flavin mononucleotide', 48, 2051)\n",
      "303\n",
      "('nutlin-3', 50, 14887)\n",
      "304\n",
      "('neocitrullamon', 47, 11369)\n",
      "305\n",
      "('enflurane', 53, 217)\n",
      "306\n",
      "('etonogestrel', 44, 283)\n",
      "307\n",
      "('p-fluorofentanyl', 48, 8184)\n",
      "308\n",
      "('previtamin d(3)', 60, 13531)\n",
      "309\n",
      "('previtamin d(3)', 60, 13531)\n",
      "310\n",
      "('previtamin d(3)', 53, 13531)\n",
      "311\n",
      "('previtamin d(3)', 53, 13531)\n",
      "312\n",
      "('n-[(2s,4s,6r)-2-(dihydroxymethyl)-4-hydroxy-3,3-dimethyl-7-oxo-4lambda~4~-thia-1-azabicyclo[3.2.0]hept-6-yl]-2-phenylacetamide', 67, 7612)\n",
      "313\n",
      "('fibrinogen human', 51, 8229)\n",
      "314\n",
      "('fibrinogen human', 53, 8229)\n",
      "315\n",
      "('fibrinogen human', 53, 8229)\n",
      "316\n",
      "('fibrinogen human', 53, 8229)\n",
      "317\n",
      "('fibrinogen human', 53, 8229)\n",
      "318\n",
      "('nonan-1-ol', 47, 2958)\n",
      "319\n",
      "('nonan-1-ol', 47, 2958)\n",
      "320\n",
      "('nnc-55-0396 free base', 49, 14885)\n",
      "321\n",
      "('n-butyl isocyanide', 46, 1736)\n",
      "322\n",
      "('beta-d-glucose', 67, 2251)\n",
      "323\n",
      "('beta-d-glucose', 67, 2251)\n",
      "324\n",
      "('beta-d-glucose', 67, 2251)\n",
      "325\n",
      "('beta-d-glucose', 67, 2251)\n",
      "326\n",
      "('isosorbide', 56, 8391)\n",
      "327\n",
      "('isosorbide', 56, 8391)\n",
      "328\n",
      "('imino[2-(2-oxo-1,2-dihydro-3-pyridinyl)-1h-benzimidazol-5-yl]methanaminium', 58, 4173)\n",
      "329\n",
      "('inositol 1,3,4,5-tetrakisphosphate', 58, 1771)\n",
      "330\n",
      "('iso-1 f-18', 57, 12836)\n",
      "331\n",
      "('neo-212', 75, 14948)\n",
      "332\n",
      "('neo-212', 62, 14948)\n",
      "333\n",
      "('nerofe', 53, 12727)\n",
      "334\n",
      "('nerofe', 50, 12727)\n",
      "335\n",
      "('endothelin-1', 55, 10652)\n",
      "336\n",
      "('endothelin-1', 55, 10652)\n",
      "337\n",
      "('enalkiren', 53, 3199)\n",
      "338\n",
      "('english sole', 52, 9051)\n",
      "339\n",
      "('glycerin', 60, 8419)\n",
      "340\n",
      "('glycerin', 60, 8419)\n",
      "341\n",
      "('glycerin', 60, 8419)\n",
      "342\n",
      "('glycerin', 57, 8419)\n",
      "343\n",
      "('pilocarpine', 58, 1064)\n",
      "344\n",
      "('pilocarpine', 58, 1064)\n",
      "345\n",
      "('pilocarpine', 58, 1064)\n",
      "346\n",
      "('pilocarpine', 56, 1064)\n",
      "347\n",
      "('tvi-brain-1', 48, 15075)\n",
      "348\n",
      "('tvi-brain-1', 48, 15075)\n",
      "349\n",
      "('threo-3-methyl-l-aspartic acid', 45, 4264)\n",
      "350\n",
      "('tilia cordata pollen', 46, 9096)\n",
      "351\n",
      "('pancreatic polypeptide', 58, 10815)\n",
      "352\n",
      "('protein c', 57, 9406)\n",
      "353\n",
      "('jtc-801 free base', 44, 14881)\n",
      "354\n",
      "('jtc-801 free base', 44, 14881)\n",
      "355\n",
      "('vit-100', 48, 5309)\n",
      "356\n",
      "('glycerin', 48, 8419)\n",
      "357\n",
      "('perfluorooctane', 47, 13905)\n",
      "358\n",
      "('estradiol acetate', 47, 11912)\n",
      "359\n",
      "('glycerin', 48, 8419)\n",
      "360\n",
      "('viral macrophage-inflammatory protein', 60, 13664)\n",
      "361\n",
      "('olomoucine ii', 47, 4381)\n",
      "362\n",
      "('albumin human', 82, 59)\n",
      "363\n",
      "('albumin human', 88, 59)\n",
      "Found match with score (88) : albumin 5% - albumin human -- norm label albumin human\n",
      "364\n",
      "('freselestat', 53, 3691)\n",
      "365\n",
      "('fibroblast growth factor-1', 71, 5149)\n",
      "366\n",
      "('placental mesenchymal stem cells', 52, 13646)\n",
      "367\n",
      "('platelet lysate', 67, 13779)\n",
      "368\n",
      "('cyproheptadine', 62, 421)\n",
      "369\n",
      "('celery', 62, 8692)\n",
      "370\n",
      "('heptane-1,2,3-triol', 47, 3837)\n",
      "371\n",
      "('dextran', 100, 8262)\n",
      "Found match with score (100) : dextran 40 - dextran -- norm label dextran\n",
      "372\n",
      "('dextran', 100, 8262)\n",
      "Found match with score (100) : dextran 70 - dextran -- norm label dextran\n",
      "373\n",
      "('fibroblast growth factor-1', 71, 5149)\n",
      "374\n",
      "('proline', 82, 161)\n",
      "375\n",
      "('olodaterol', 52, 8092)\n",
      "376\n",
      "('oxabolone cipionate', 44, 11163)\n",
      "377\n",
      "('ontorpacept', 52, 14964)\n",
      "378\n",
      "('ontorpacept', 55, 14964)\n",
      "379\n",
      "('o-acetyl-l-serine', 47, 1747)\n",
      "380\n",
      "('orvepitant', 51, 10442)\n",
      "381\n",
      "('o-acetyl-l-serine', 54, 1747)\n",
      "382\n",
      "('potassium chloride', 54, 744)\n",
      "383\n",
      "('phenylmercuric nitrate', 50, 11362)\n",
      "384\n",
      "('platelet lysate', 70, 13779)\n",
      "385\n",
      "('pinazepam', 58, 11309)\n",
      "386\n",
      "('insulin glulisine', 55, 1277)\n",
      "387\n",
      "('plasma protein fraction (human)', 57, 11928)\n",
      "388\n",
      "('granotapide', 61, 10923)\n",
      "389\n",
      "('albumin human', 100, 59)\n",
      "Found match with score (100) : albumin (human) 20% - albumin human -- norm label albumin human\n",
      "390\n",
      "('albumin human', 100, 59)\n",
      "Found match with score (100) : albumin (human) 4% - albumin human -- norm label albumin human\n",
      "391\n",
      "('acadesine', 60, 4649)\n",
      "392\n",
      "('dantron', 62, 4531)\n",
      "393\n",
      "('dextrose, unspecified form', 84, 8346)\n",
      "394\n",
      "('rigosertib', 59, 10170)\n",
      "395\n",
      "('sertraline', 60, 1083)\n",
      "396\n",
      "('roxatidine acetate', 67, 7844)\n",
      "397\n",
      "('roxatidine acetate', 73, 7844)\n",
      "398\n",
      "('sirna-027', 57, 5334)\n",
      "399\n",
      "('sertraline', 60, 1083)\n",
      "400\n",
      "('sertraline', 57, 1083)\n",
      "401\n",
      "('sertraline', 57, 1083)\n",
      "402\n",
      "('sertraline', 67, 1083)\n",
      "403\n",
      "('d-erythrose 4-phosphate', 55, 3703)\n",
      "404\n",
      "('dextroamphetamine', 58, 1505)\n",
      "405\n",
      "('d-erythrose 4-phosphate', 58, 3703)\n",
      "406\n",
      "('d-erythrose 4-phosphate', 55, 3703)\n",
      "407\n",
      "('dextroamphetamine', 56, 1505)\n",
      "408\n",
      "('dolastatin 10', 60, 10728)\n",
      "409\n",
      "('ferrous tartrate', 50, 11605)\n",
      "410\n",
      "('ebola zaire vaccine (live, attenuated)', 46, 13513)\n",
      "411\n",
      "('octopamine', 67, 11226)\n",
      "412\n",
      "('glucosamine', 67, 1269)\n",
      "413\n",
      "('pentastarch', 100, 8123)\n",
      "Found match with score (100) : pentastarch 6% (haes, hemohes) - pentastarch -- norm label pentastarch\n",
      "414\n",
      "('pentastarch', 100, 8123)\n",
      "Found match with score (100) : pentastarch 10% (haes, hemohes) - pentastarch -- norm label pentastarch\n",
      "415\n",
      "('harmaline', 50, 11839)\n",
      "416\n",
      "('hedera helix leaf extract', 46, 11169)\n",
      "417\n",
      "('interleukin-10', 67, 10872)\n",
      "418\n",
      "('interleukin-10', 59, 10872)\n",
      "419\n",
      "('interleukin-10', 59, 10872)\n",
      "420\n",
      "('mannitol', 100, 725)\n",
      "Found match with score (100) : mannitol 5% - mannitol -- norm label mannitol\n",
      "421\n",
      "('mannitol', 100, 725)\n",
      "Found match with score (100) : mannitol 10% - mannitol -- norm label mannitol\n",
      "422\n",
      "('mannitol', 100, 725)\n",
      "Found match with score (100) : mannitol 15% - mannitol -- norm label mannitol\n",
      "423\n",
      "('mannitol', 100, 725)\n",
      "Found match with score (100) : mannitol 20% - mannitol -- norm label mannitol\n",
      "424\n",
      "('mannitol', 100, 725)\n",
      "Found match with score (100) : mannitol 25% - mannitol -- norm label mannitol\n",
      "425\n",
      "('placental mesenchymal stem cells', 50, 13646)\n",
      "426\n",
      "('dextran', 100, 8262)\n",
      "Found match with score (100) : dextran 40 / dextrose 5% (gentran - rheomacrodex) - dextran -- norm label dextran\n",
      "427\n",
      "('dextran', 100, 8262)\n",
      "Found match with score (100) : dextran 40 / saline 0,9% (gentran - rheomacrodex) - dextran -- norm label dextran\n",
      "428\n",
      "('dextran', 100, 8262)\n",
      "Found match with score (100) : dextran 70 / dextrose 5% (gentran - macrodex - rescueflow) - dextran -- norm label dextran\n",
      "429\n",
      "('dextran', 100, 8262)\n",
      "Found match with score (100) : dextran 70 / saline 0,9% (gentran - macrodex - rescueflow) - dextran -- norm label dextran\n",
      "430\n",
      "('tenonitrozole', 51, 11625)\n",
      "431\n",
      "('vitamin b 12 factor iiim', 49, 2519)\n",
      "432\n",
      "('vitamin b 12 factor iiim', 49, 2519)\n",
      "433\n",
      "('vitamin b 12 factor iiim', 48, 2519)\n",
      "434\n",
      "('vxa-cov2-1', 58, 14340)\n",
      "435\n",
      "('vitamin e', 55, 153)\n",
      "436\n",
      "('vilazodone', 45, 5808)\n",
      "437\n",
      "('varenicline', 50, 1251)\n",
      "438\n",
      "('wheat bran', 48, 8839)\n",
      "439\n",
      "('dextrose, unspecified form', 84, 8346)\n",
      "440\n",
      "('enflurane', 67, 217)\n",
      "441\n",
      "('etonogestrel', 52, 283)\n",
      "442\n",
      "('dextrose, unspecified form', 80, 8346)\n",
      "443\n",
      "('nitrosoethane', 53, 2499)\n",
      "444\n",
      "('nomegestrol acetate', 55, 11941)\n",
      "445\n",
      "('norgestrienone', 55, 11531)\n",
      "446\n",
      "('norethindrone enanthate', 48, 12619)\n",
      "447\n",
      "('n-sulfo-flavin mononucleotide', 49, 2051)\n",
      "448\n",
      "('pegadricase', 70, 13062)\n",
      "449\n",
      "('pilocarpine', 70, 1064)\n",
      "450\n",
      "('selepressin', 63, 10506)\n",
      "451\n",
      "('olesoxime', 59, 4860)\n",
      "452\n",
      "('je-2147', 47, 2520)\n",
      "453\n",
      "('juniper tar', 35, 14490)\n",
      "454\n",
      "('auranofin', 64, 977)\n",
      "455\n",
      "('hexane-1,6-diol', 48, 2092)\n",
      "456\n",
      "('fosinopril', 59, 479)\n",
      "457\n",
      "('foreskin fibroblast (neonatal)', 63, 8920)\n",
      "458\n",
      "('felypressin', 54, 86)\n",
      "459\n",
      "('fenebrutinib', 48, 12726)\n",
      "460\n",
      "('fibrin', 92, 14455)\n",
      "Found match with score (92) : fibrini - fibrin -- norm label fibrin\n",
      "461\n",
      "('fenebrutinib', 62, 12726)\n",
      "462\n",
      "('infigratinib', 76, 9916)\n",
      "463\n",
      "('naquotinib', 71, 10061)\n",
      "464\n",
      "('tenitramine', 74, 11603)\n",
      "465\n",
      "('nitarsone', 67, 9508)\n",
      "466\n",
      "('nor-noha', 56, 2253)\n",
      "467\n",
      "('nomegestrol', 63, 9670)\n",
      "468\n",
      "('pegaptanib', 63, 4610)\n",
      "469\n",
      "('sulindac', 67, 590)\n",
      "470\n",
      "('sodium bicarbonate', 100, 1331)\n",
      "Found match with score (100) : sodium bicarbonate 1,4% - sodium bicarbonate -- norm label sodium bicarbonate\n",
      "471\n",
      "('sertraline', 57, 1083)\n",
      "472\n",
      "('sgn-30', 67, 5074)\n",
      "473\n"
     ]
    },
    {
     "data": {
      "text/plain": "    index  itemid                                              label  \\\n0       0  222139                                  potassium acetate   \n1       1  222190                                         ranitidine   \n2      11  225924                                  hydrochloric acid   \n3      12  225925                                potassium phosphate   \n4      13  225926                                     sodium acetate   \n..    ...     ...                                                ...   \n74    428  221001  dextran 40 / saline 0,9% (gentran - rheomacrodex)   \n75    429  221002  dextran 70 / dextrose 5% (gentran - macrodex -...   \n76    430  221003  dextran 70 / saline 0,9% (gentran - macrodex -...   \n77    461  221200                                            fibrini   \n78    471  221211                            sodium bicarbonate 1,4%   \n\n            norm_label       matched_label  score  norm_index  \n0    potassium acetate   potassium acetate    100       12440  \n1           ranitidine          ranitidine    100         845  \n2    hydrochloric acid   hydrochloric acid    100       11340  \n3            potassium           potassium    100       12442  \n4       sodium acetate      sodium acetate    100        8387  \n..                 ...                 ...    ...         ...  \n74             dextran             dextran    100        8262  \n75             dextran             dextran    100        8262  \n76             dextran             dextran    100        8262  \n77              fibrin              fibrin     92       14455  \n78  sodium bicarbonate  sodium bicarbonate    100        1331  \n\n[79 rows x 7 columns]",
      "text/html": "<div>\n<style scoped>\n    .dataframe tbody tr th:only-of-type {\n        vertical-align: middle;\n    }\n\n    .dataframe tbody tr th {\n        vertical-align: top;\n    }\n\n    .dataframe thead th {\n        text-align: right;\n    }\n</style>\n<table border=\"1\" class=\"dataframe\">\n  <thead>\n    <tr style=\"text-align: right;\">\n      <th></th>\n      <th>index</th>\n      <th>itemid</th>\n      <th>label</th>\n      <th>norm_label</th>\n      <th>matched_label</th>\n      <th>score</th>\n      <th>norm_index</th>\n    </tr>\n  </thead>\n  <tbody>\n    <tr>\n      <th>0</th>\n      <td>0</td>\n      <td>222139</td>\n      <td>potassium acetate</td>\n      <td>potassium acetate</td>\n      <td>potassium acetate</td>\n      <td>100</td>\n      <td>12440</td>\n    </tr>\n    <tr>\n      <th>1</th>\n      <td>1</td>\n      <td>222190</td>\n      <td>ranitidine</td>\n      <td>ranitidine</td>\n      <td>ranitidine</td>\n      <td>100</td>\n      <td>845</td>\n    </tr>\n    <tr>\n      <th>2</th>\n      <td>11</td>\n      <td>225924</td>\n      <td>hydrochloric acid</td>\n      <td>hydrochloric acid</td>\n      <td>hydrochloric acid</td>\n      <td>100</td>\n      <td>11340</td>\n    </tr>\n    <tr>\n      <th>3</th>\n      <td>12</td>\n      <td>225925</td>\n      <td>potassium phosphate</td>\n      <td>potassium</td>\n      <td>potassium</td>\n      <td>100</td>\n      <td>12442</td>\n    </tr>\n    <tr>\n      <th>4</th>\n      <td>13</td>\n      <td>225926</td>\n      <td>sodium acetate</td>\n      <td>sodium acetate</td>\n      <td>sodium acetate</td>\n      <td>100</td>\n      <td>8387</td>\n    </tr>\n    <tr>\n      <th>...</th>\n      <td>...</td>\n      <td>...</td>\n      <td>...</td>\n      <td>...</td>\n      <td>...</td>\n      <td>...</td>\n      <td>...</td>\n    </tr>\n    <tr>\n      <th>74</th>\n      <td>428</td>\n      <td>221001</td>\n      <td>dextran 40 / saline 0,9% (gentran - rheomacrodex)</td>\n      <td>dextran</td>\n      <td>dextran</td>\n      <td>100</td>\n      <td>8262</td>\n    </tr>\n    <tr>\n      <th>75</th>\n      <td>429</td>\n      <td>221002</td>\n      <td>dextran 70 / dextrose 5% (gentran - macrodex -...</td>\n      <td>dextran</td>\n      <td>dextran</td>\n      <td>100</td>\n      <td>8262</td>\n    </tr>\n    <tr>\n      <th>76</th>\n      <td>430</td>\n      <td>221003</td>\n      <td>dextran 70 / saline 0,9% (gentran - macrodex -...</td>\n      <td>dextran</td>\n      <td>dextran</td>\n      <td>100</td>\n      <td>8262</td>\n    </tr>\n    <tr>\n      <th>77</th>\n      <td>461</td>\n      <td>221200</td>\n      <td>fibrini</td>\n      <td>fibrin</td>\n      <td>fibrin</td>\n      <td>92</td>\n      <td>14455</td>\n    </tr>\n    <tr>\n      <th>78</th>\n      <td>471</td>\n      <td>221211</td>\n      <td>sodium bicarbonate 1,4%</td>\n      <td>sodium bicarbonate</td>\n      <td>sodium bicarbonate</td>\n      <td>100</td>\n      <td>1331</td>\n    </tr>\n  </tbody>\n</table>\n<p>79 rows × 7 columns</p>\n</div>"
     },
     "execution_count": 69,
     "metadata": {},
     "output_type": "execute_result"
    }
   ],
   "source": [
    "\n",
    "def fuzzy_match(str1, str2):\n",
    "    return fuzz.token_set_ratio(str1, str2)\n",
    "\n",
    "def match_dataframe(df1, key1, df2, key2, threshold=88): #threshold from inspection of data\n",
    "    matches = []\n",
    "    # matches = pd.DataFrame(columns=['index', 'label', 'norm_label', 'match0', 'match1'])\n",
    "    for i, row in df1.iterrows():\n",
    "        drug_name = row[key1]\n",
    "        fast = True\n",
    "        to_match = df2[key2]\n",
    "        if config.isFastMode():\n",
    "            to_match = to_match.loc[to_match.str.startswith(drug_name[0])] # speed up fuzzy matching by only considering synonyms that start with the same letter\n",
    "\n",
    "        match = process.extractOne(drug_name, to_match, scorer=fuzzy_match)\n",
    "        print(match)\n",
    "        matched_label = match[0]\n",
    "        match_score = match[1]\n",
    "        match_index = match[2]\n",
    "        if match_score >= threshold:\n",
    "            raw_match = df2.loc[match_index]\n",
    "            norm_label = raw_match[key2]\n",
    "            print(f\"Found match with score ({str(match[1])}) : {row[key1]} - {matched_label} -- norm label {norm_label}\")\n",
    "            matches.append([i, row['itemid'],row[key1], norm_label, matched_label, match_score, match_index])\n",
    "        print(i)\n",
    "\n",
    "    return pd.DataFrame(matches, columns=['index', 'itemid', 'label', 'norm_label', 'matched_label', 'score', 'norm_index'])\n",
    "\n",
    "def fuzzy_merge():\n",
    "    medications = icu_drugs.loc[(~icu_drugs['category'].isin(['Medications']))]\n",
    "\n",
    "    proprietary = match_dataframe(medications, \"label\", drug_index.drug_bank_df, \"cleaned\")\n",
    "    return proprietary\n",
    "\n",
    "fuzzy_matched = fuzzy_merge()\n",
    "fuzzy_matched"
   ]
  },
  {
   "cell_type": "code",
   "execution_count": 70,
   "metadata": {
    "ExecuteTime": {
     "end_time": "2023-11-01T05:52:36.925195300Z",
     "start_time": "2023-11-01T05:52:36.894278700Z"
    }
   },
   "outputs": [
    {
     "data": {
      "text/plain": "    index  itemid                                              label  \\\n0       0  222139                                  potassium acetate   \n1       1  222190                                         ranitidine   \n2      11  225924                                  hydrochloric acid   \n3      12  225925                                potassium phosphate   \n4      13  225926                                     sodium acetate   \n..    ...     ...                                                ...   \n74    428  221001  dextran 40 / saline 0,9% (gentran - rheomacrodex)   \n75    429  221002  dextran 70 / dextrose 5% (gentran - macrodex -...   \n76    430  221003  dextran 70 / saline 0,9% (gentran - macrodex -...   \n77    461  221200                                            fibrini   \n78    471  221211                            sodium bicarbonate 1,4%   \n\n            norm_label       matched_label  score  norm_index  \n0    potassium acetate   potassium acetate    100       12440  \n1           ranitidine          ranitidine    100         845  \n2    hydrochloric acid   hydrochloric acid    100       11340  \n3            potassium           potassium    100       12442  \n4       sodium acetate      sodium acetate    100        8387  \n..                 ...                 ...    ...         ...  \n74             dextran             dextran    100        8262  \n75             dextran             dextran    100        8262  \n76             dextran             dextran    100        8262  \n77              fibrin              fibrin     92       14455  \n78  sodium bicarbonate  sodium bicarbonate    100        1331  \n\n[79 rows x 7 columns]",
      "text/html": "<div>\n<style scoped>\n    .dataframe tbody tr th:only-of-type {\n        vertical-align: middle;\n    }\n\n    .dataframe tbody tr th {\n        vertical-align: top;\n    }\n\n    .dataframe thead th {\n        text-align: right;\n    }\n</style>\n<table border=\"1\" class=\"dataframe\">\n  <thead>\n    <tr style=\"text-align: right;\">\n      <th></th>\n      <th>index</th>\n      <th>itemid</th>\n      <th>label</th>\n      <th>norm_label</th>\n      <th>matched_label</th>\n      <th>score</th>\n      <th>norm_index</th>\n    </tr>\n  </thead>\n  <tbody>\n    <tr>\n      <th>0</th>\n      <td>0</td>\n      <td>222139</td>\n      <td>potassium acetate</td>\n      <td>potassium acetate</td>\n      <td>potassium acetate</td>\n      <td>100</td>\n      <td>12440</td>\n    </tr>\n    <tr>\n      <th>1</th>\n      <td>1</td>\n      <td>222190</td>\n      <td>ranitidine</td>\n      <td>ranitidine</td>\n      <td>ranitidine</td>\n      <td>100</td>\n      <td>845</td>\n    </tr>\n    <tr>\n      <th>2</th>\n      <td>11</td>\n      <td>225924</td>\n      <td>hydrochloric acid</td>\n      <td>hydrochloric acid</td>\n      <td>hydrochloric acid</td>\n      <td>100</td>\n      <td>11340</td>\n    </tr>\n    <tr>\n      <th>3</th>\n      <td>12</td>\n      <td>225925</td>\n      <td>potassium phosphate</td>\n      <td>potassium</td>\n      <td>potassium</td>\n      <td>100</td>\n      <td>12442</td>\n    </tr>\n    <tr>\n      <th>4</th>\n      <td>13</td>\n      <td>225926</td>\n      <td>sodium acetate</td>\n      <td>sodium acetate</td>\n      <td>sodium acetate</td>\n      <td>100</td>\n      <td>8387</td>\n    </tr>\n    <tr>\n      <th>...</th>\n      <td>...</td>\n      <td>...</td>\n      <td>...</td>\n      <td>...</td>\n      <td>...</td>\n      <td>...</td>\n      <td>...</td>\n    </tr>\n    <tr>\n      <th>74</th>\n      <td>428</td>\n      <td>221001</td>\n      <td>dextran 40 / saline 0,9% (gentran - rheomacrodex)</td>\n      <td>dextran</td>\n      <td>dextran</td>\n      <td>100</td>\n      <td>8262</td>\n    </tr>\n    <tr>\n      <th>75</th>\n      <td>429</td>\n      <td>221002</td>\n      <td>dextran 70 / dextrose 5% (gentran - macrodex -...</td>\n      <td>dextran</td>\n      <td>dextran</td>\n      <td>100</td>\n      <td>8262</td>\n    </tr>\n    <tr>\n      <th>76</th>\n      <td>430</td>\n      <td>221003</td>\n      <td>dextran 70 / saline 0,9% (gentran - macrodex -...</td>\n      <td>dextran</td>\n      <td>dextran</td>\n      <td>100</td>\n      <td>8262</td>\n    </tr>\n    <tr>\n      <th>77</th>\n      <td>461</td>\n      <td>221200</td>\n      <td>fibrini</td>\n      <td>fibrin</td>\n      <td>fibrin</td>\n      <td>92</td>\n      <td>14455</td>\n    </tr>\n    <tr>\n      <th>78</th>\n      <td>471</td>\n      <td>221211</td>\n      <td>sodium bicarbonate 1,4%</td>\n      <td>sodium bicarbonate</td>\n      <td>sodium bicarbonate</td>\n      <td>100</td>\n      <td>1331</td>\n    </tr>\n  </tbody>\n</table>\n<p>79 rows × 7 columns</p>\n</div>"
     },
     "execution_count": 70,
     "metadata": {},
     "output_type": "execute_result"
    }
   ],
   "source": [
    "\n",
    "fuzzy_matched\n"
   ]
  },
  {
   "cell_type": "code",
   "execution_count": 71,
   "metadata": {
    "ExecuteTime": {
     "end_time": "2023-11-01T05:52:36.959104500Z",
     "start_time": "2023-11-01T05:52:36.902259100Z"
    }
   },
   "outputs": [
    {
     "data": {
      "text/plain": "     itemid                    label        abbreviation  \\\n0    222139        potassium acetate   Potassium ACEtate   \n1    222190               ranitidine          Ranitidine   \n2    225801               lipids 20%          Lipids 20%   \n3    225916            tpn w/ lipids       TPN w/ Lipids   \n4    225917       tpn without lipids  TPN without Lipids   \n..      ...                      ...                 ...   \n469  221209                peptisorb           Peptisorb   \n470  221210                  suplena             Suplena   \n471  221211  sodium bicarbonate 1,4%          NaBic 1,4%   \n472  221212             saline 0,18%        Saline 0,18%   \n473  221213               saline 30%          Saline 30%   \n\n                        category unitname  \n0        Nutrition - Supplements      mEq  \n1         Nutrition - Parenteral       mg  \n2         Nutrition - Parenteral       mL  \n3         Nutrition - Parenteral       mL  \n4         Nutrition - Parenteral       mL  \n..                           ...      ...  \n469  Fluids - Other (Not In Use)       mL  \n470  Fluids - Other (Not In Use)       mL  \n471  Fluids - Other (Not In Use)       mL  \n472  Fluids - Other (Not In Use)       mL  \n473  Fluids - Other (Not In Use)       mL  \n\n[474 rows x 5 columns]",
      "text/html": "<div>\n<style scoped>\n    .dataframe tbody tr th:only-of-type {\n        vertical-align: middle;\n    }\n\n    .dataframe tbody tr th {\n        vertical-align: top;\n    }\n\n    .dataframe thead th {\n        text-align: right;\n    }\n</style>\n<table border=\"1\" class=\"dataframe\">\n  <thead>\n    <tr style=\"text-align: right;\">\n      <th></th>\n      <th>itemid</th>\n      <th>label</th>\n      <th>abbreviation</th>\n      <th>category</th>\n      <th>unitname</th>\n    </tr>\n  </thead>\n  <tbody>\n    <tr>\n      <th>0</th>\n      <td>222139</td>\n      <td>potassium acetate</td>\n      <td>Potassium ACEtate</td>\n      <td>Nutrition - Supplements</td>\n      <td>mEq</td>\n    </tr>\n    <tr>\n      <th>1</th>\n      <td>222190</td>\n      <td>ranitidine</td>\n      <td>Ranitidine</td>\n      <td>Nutrition - Parenteral</td>\n      <td>mg</td>\n    </tr>\n    <tr>\n      <th>2</th>\n      <td>225801</td>\n      <td>lipids 20%</td>\n      <td>Lipids 20%</td>\n      <td>Nutrition - Parenteral</td>\n      <td>mL</td>\n    </tr>\n    <tr>\n      <th>3</th>\n      <td>225916</td>\n      <td>tpn w/ lipids</td>\n      <td>TPN w/ Lipids</td>\n      <td>Nutrition - Parenteral</td>\n      <td>mL</td>\n    </tr>\n    <tr>\n      <th>4</th>\n      <td>225917</td>\n      <td>tpn without lipids</td>\n      <td>TPN without Lipids</td>\n      <td>Nutrition - Parenteral</td>\n      <td>mL</td>\n    </tr>\n    <tr>\n      <th>...</th>\n      <td>...</td>\n      <td>...</td>\n      <td>...</td>\n      <td>...</td>\n      <td>...</td>\n    </tr>\n    <tr>\n      <th>469</th>\n      <td>221209</td>\n      <td>peptisorb</td>\n      <td>Peptisorb</td>\n      <td>Fluids - Other (Not In Use)</td>\n      <td>mL</td>\n    </tr>\n    <tr>\n      <th>470</th>\n      <td>221210</td>\n      <td>suplena</td>\n      <td>Suplena</td>\n      <td>Fluids - Other (Not In Use)</td>\n      <td>mL</td>\n    </tr>\n    <tr>\n      <th>471</th>\n      <td>221211</td>\n      <td>sodium bicarbonate 1,4%</td>\n      <td>NaBic 1,4%</td>\n      <td>Fluids - Other (Not In Use)</td>\n      <td>mL</td>\n    </tr>\n    <tr>\n      <th>472</th>\n      <td>221212</td>\n      <td>saline 0,18%</td>\n      <td>Saline 0,18%</td>\n      <td>Fluids - Other (Not In Use)</td>\n      <td>mL</td>\n    </tr>\n    <tr>\n      <th>473</th>\n      <td>221213</td>\n      <td>saline 30%</td>\n      <td>Saline 30%</td>\n      <td>Fluids - Other (Not In Use)</td>\n      <td>mL</td>\n    </tr>\n  </tbody>\n</table>\n<p>474 rows × 5 columns</p>\n</div>"
     },
     "execution_count": 71,
     "metadata": {},
     "output_type": "execute_result"
    }
   ],
   "source": [
    "icu_drugs"
   ]
  },
  {
   "cell_type": "code",
   "execution_count": 72,
   "metadata": {
    "ExecuteTime": {
     "end_time": "2023-11-01T05:52:37.349299800Z",
     "start_time": "2023-11-01T05:52:36.917219100Z"
    }
   },
   "outputs": [
    {
     "data": {
      "text/plain": "      DDInterID_A              Drug_A  DDInterID_B                  Drug_B  \\\n2       DDInter58  aluminum hydroxide   DDInter582            dolutegravir   \n4      DDInter138         attapulgite   DDInter582            dolutegravir   \n5      DDInter270     calcium acetate   DDInter582            dolutegravir   \n6      DDInter271   calcium carbonate   DDInter582            dolutegravir   \n7      DDInter582        dolutegravir   DDInter273         calcium citrate   \n...           ...                 ...          ...                     ...   \n9531  DDInter1910          valdecoxib   DDInter967                 ioxilan   \n9651  DDInter1831            tolmetin   DDInter957              iodipamide   \n9652  DDInter1831            tolmetin   DDInter958               iodixanol   \n9653  DDInter1838         tositumomab  DDInter1831                tolmetin   \n9658  DDInter1838         tositumomab  DDInter1894  typhoid vaccine (live)   \n\n      Level  \n2     Major  \n4     Major  \n5     Major  \n6     Major  \n7     Major  \n...     ...  \n9531  Major  \n9651  Major  \n9652  Major  \n9653  Major  \n9658  Major  \n\n[26914 rows x 5 columns]",
      "text/html": "<div>\n<style scoped>\n    .dataframe tbody tr th:only-of-type {\n        vertical-align: middle;\n    }\n\n    .dataframe tbody tr th {\n        vertical-align: top;\n    }\n\n    .dataframe thead th {\n        text-align: right;\n    }\n</style>\n<table border=\"1\" class=\"dataframe\">\n  <thead>\n    <tr style=\"text-align: right;\">\n      <th></th>\n      <th>DDInterID_A</th>\n      <th>Drug_A</th>\n      <th>DDInterID_B</th>\n      <th>Drug_B</th>\n      <th>Level</th>\n    </tr>\n  </thead>\n  <tbody>\n    <tr>\n      <th>2</th>\n      <td>DDInter58</td>\n      <td>aluminum hydroxide</td>\n      <td>DDInter582</td>\n      <td>dolutegravir</td>\n      <td>Major</td>\n    </tr>\n    <tr>\n      <th>4</th>\n      <td>DDInter138</td>\n      <td>attapulgite</td>\n      <td>DDInter582</td>\n      <td>dolutegravir</td>\n      <td>Major</td>\n    </tr>\n    <tr>\n      <th>5</th>\n      <td>DDInter270</td>\n      <td>calcium acetate</td>\n      <td>DDInter582</td>\n      <td>dolutegravir</td>\n      <td>Major</td>\n    </tr>\n    <tr>\n      <th>6</th>\n      <td>DDInter271</td>\n      <td>calcium carbonate</td>\n      <td>DDInter582</td>\n      <td>dolutegravir</td>\n      <td>Major</td>\n    </tr>\n    <tr>\n      <th>7</th>\n      <td>DDInter582</td>\n      <td>dolutegravir</td>\n      <td>DDInter273</td>\n      <td>calcium citrate</td>\n      <td>Major</td>\n    </tr>\n    <tr>\n      <th>...</th>\n      <td>...</td>\n      <td>...</td>\n      <td>...</td>\n      <td>...</td>\n      <td>...</td>\n    </tr>\n    <tr>\n      <th>9531</th>\n      <td>DDInter1910</td>\n      <td>valdecoxib</td>\n      <td>DDInter967</td>\n      <td>ioxilan</td>\n      <td>Major</td>\n    </tr>\n    <tr>\n      <th>9651</th>\n      <td>DDInter1831</td>\n      <td>tolmetin</td>\n      <td>DDInter957</td>\n      <td>iodipamide</td>\n      <td>Major</td>\n    </tr>\n    <tr>\n      <th>9652</th>\n      <td>DDInter1831</td>\n      <td>tolmetin</td>\n      <td>DDInter958</td>\n      <td>iodixanol</td>\n      <td>Major</td>\n    </tr>\n    <tr>\n      <th>9653</th>\n      <td>DDInter1838</td>\n      <td>tositumomab</td>\n      <td>DDInter1831</td>\n      <td>tolmetin</td>\n      <td>Major</td>\n    </tr>\n    <tr>\n      <th>9658</th>\n      <td>DDInter1838</td>\n      <td>tositumomab</td>\n      <td>DDInter1894</td>\n      <td>typhoid vaccine (live)</td>\n      <td>Major</td>\n    </tr>\n  </tbody>\n</table>\n<p>26914 rows × 5 columns</p>\n</div>"
     },
     "execution_count": 72,
     "metadata": {},
     "output_type": "execute_result"
    }
   ],
   "source": [
    "def read_ddinter():\n",
    "    ddinter_files = os.listdir(ddinter_data_dir)\n",
    "\n",
    "    # loop through ddinter files\n",
    "    df = pd.DataFrame()\n",
    "    for file_name in ddinter_files:\n",
    "        df = pd.concat([df, pd.read_csv(ddinter_data_dir / file_name)])\n",
    "\n",
    "    df.Drug_B = df.Drug_B.fillna(\"\")\n",
    "    df.Drug_B = df.Drug_B.apply(clean)\n",
    "\n",
    "    df.Drug_A = df.Drug_A.fillna(\"\")\n",
    "    df.Drug_A = df.Drug_A.apply(clean)\n",
    "    return df\n",
    "\n",
    "ddinter = read_ddinter()\n",
    "cleaned= ddinter.loc[ddinter.Level.isin( ['Major'])]\n",
    "cleaned = cleaned.drop_duplicates()\n",
    "cleaned"
   ]
  },
  {
   "cell_type": "code",
   "execution_count": 73,
   "metadata": {
    "ExecuteTime": {
     "end_time": "2023-11-01T05:52:37.349299800Z",
     "start_time": "2023-11-01T05:52:37.337332800Z"
    }
   },
   "outputs": [],
   "source": [
    "def get_ddinter_multimap():\n",
    "    multimap = cleaned.groupby('Drug_A')['Drug_B'].apply(set).to_dict()\n",
    "    opp_direction = cleaned.groupby('Drug_B')['Drug_A'].apply(set).to_dict()\n",
    "    for key in opp_direction.keys():\n",
    "        existing = multimap.get(key)\n",
    "        if existing is None:\n",
    "            existing = set()\n",
    "        existing |= opp_direction[key]\n",
    "        multimap[key] = existing\n",
    "    return multimap\n",
    "    \n",
    "    multimap"
   ]
  },
  {
   "cell_type": "code",
   "execution_count": 74,
   "metadata": {
    "ExecuteTime": {
     "end_time": "2023-11-01T05:52:37.379220700Z",
     "start_time": "2023-11-01T05:52:37.353289Z"
    }
   },
   "outputs": [],
   "source": [
    "def get_interaction_clause_with_synonyms(with_interactions):\n",
    "    multimap = get_ddinter_multimap()\n",
    "    \n",
    "    clauses= []\n",
    "    conjunction = 'AND' if with_interactions else 'AND NOT'\n",
    "    for key in multimap.keys():\n",
    "        first_ids = fuzzy_matched.loc[(fuzzy_matched['norm_label'] == key)]['itemid']\n",
    "\n",
    "        second_ids = fuzzy_matched.loc[(fuzzy_matched['norm_label'].isin(multimap[key]))]['itemid']\n",
    "        if first_ids.any() & second_ids.any():\n",
    "            sql = f\"(first_ie.itemid IN ({','.join([str(item) for item in first_ids if item])}) {conjunction} second_ie.itemid IN ({','.join([str(item) for item in second_ids if item])}))\"\n",
    "            clauses.append(sql)\n",
    "    print(len(clauses))\n",
    "    clause = \" OR \".join(clauses)\n",
    "    print (clause)\n",
    "    print(f\"Found {len(clauses)} first ids\")\n",
    "    return clause"
   ]
  },
  {
   "cell_type": "code",
   "execution_count": 75,
   "metadata": {
    "ExecuteTime": {
     "end_time": "2023-11-01T05:52:37.409652100Z",
     "start_time": "2023-11-01T05:52:37.368248500Z"
    }
   },
   "outputs": [],
   "source": [
    "def get_interaction_clause_raw(with_interactions):\n",
    "    multimap = get_ddinter_multimap()\n",
    "    print(len(multimap))\n",
    "    clauses= []\n",
    "    first_match_count = 0\n",
    "    \n",
    "    conjunction = 'AND' if with_interactions else 'AND NOT'\n",
    "    \n",
    "    for key in multimap.keys():\n",
    "        first_ids = icu_drugs.loc[(icu_drugs['label'] == key)]['itemid']\n",
    "        if first_ids.any():\n",
    "            first_match_count += 1\n",
    "        \n",
    "        second_ids = icu_drugs.loc[(icu_drugs['label'].isin(multimap[key]))]['itemid']\n",
    "\n",
    "        if first_ids.any() & second_ids.any():\n",
    "            sql = f\"\"\"\\n(first_ie.itemid IN ({','.join([str(item) for item in first_ids if item])}) \n",
    "            {conjunction} \n",
    "            second_ie.itemid IN ({','.join([str(item) for item in second_ids if item])}))\"\"\"\n",
    "            clauses.append(sql)\n",
    "    clause = \" OR \".join(clauses)\n",
    "    print(f\"Found {first_match_count} administered ddinter keys\")\n",
    "    print(f\"Found {len(clauses)} clauses\")\n",
    "    return clause"
   ]
  },
  {
   "cell_type": "code",
   "execution_count": 76,
   "metadata": {
    "ExecuteTime": {
     "end_time": "2023-11-01T05:52:37.524864400Z",
     "start_time": "2023-11-01T05:52:37.388197300Z"
    }
   },
   "outputs": [
    {
     "data": {
      "text/plain": "               dinter\n0            abacavir\n1            abarelix\n2           abatacept\n3           abciximab\n4         abemaciclib\n...               ...\n1275      ziprasidone\n1276  zoledronic acid\n1277     zolmitriptan\n1278         zolpidem\n1279       zonisamide\n\n[1501 rows x 1 columns]",
      "text/html": "<div>\n<style scoped>\n    .dataframe tbody tr th:only-of-type {\n        vertical-align: middle;\n    }\n\n    .dataframe tbody tr th {\n        vertical-align: top;\n    }\n\n    .dataframe thead th {\n        text-align: right;\n    }\n</style>\n<table border=\"1\" class=\"dataframe\">\n  <thead>\n    <tr style=\"text-align: right;\">\n      <th></th>\n      <th>dinter</th>\n    </tr>\n  </thead>\n  <tbody>\n    <tr>\n      <th>0</th>\n      <td>abacavir</td>\n    </tr>\n    <tr>\n      <th>1</th>\n      <td>abarelix</td>\n    </tr>\n    <tr>\n      <th>2</th>\n      <td>abatacept</td>\n    </tr>\n    <tr>\n      <th>3</th>\n      <td>abciximab</td>\n    </tr>\n    <tr>\n      <th>4</th>\n      <td>abemaciclib</td>\n    </tr>\n    <tr>\n      <th>...</th>\n      <td>...</td>\n    </tr>\n    <tr>\n      <th>1275</th>\n      <td>ziprasidone</td>\n    </tr>\n    <tr>\n      <th>1276</th>\n      <td>zoledronic acid</td>\n    </tr>\n    <tr>\n      <th>1277</th>\n      <td>zolmitriptan</td>\n    </tr>\n    <tr>\n      <th>1278</th>\n      <td>zolpidem</td>\n    </tr>\n    <tr>\n      <th>1279</th>\n      <td>zonisamide</td>\n    </tr>\n  </tbody>\n</table>\n<p>1501 rows × 1 columns</p>\n</div>"
     },
     "execution_count": 76,
     "metadata": {},
     "output_type": "execute_result"
    }
   ],
   "source": [
    "multimap = get_ddinter_multimap()\n",
    "df = pd.DataFrame()\n",
    "df['dinter'] = pd.Series(multimap.keys()).sort_values()\n",
    "df"
   ]
  },
  {
   "cell_type": "code",
   "execution_count": 77,
   "metadata": {
    "ExecuteTime": {
     "end_time": "2023-11-01T05:52:37.582717200Z",
     "start_time": "2023-11-01T05:52:37.514890600Z"
    }
   },
   "outputs": [
    {
     "name": "stdout",
     "output_type": "stream",
     "text": [
      "Found 1393 ddinter keys in drugbank of 1501\n",
      "\n",
      "\n",
      "Total 474 icu drugs\n",
      "Found 74 icu drugs in dinter without using synonyms\n",
      "Found 17 icu drugs in indexed common names\n",
      "Found 8 icu drugs in indexed synonyms\n",
      "\n",
      "Total 4187 hosp drugs\n",
      "Found 392 hosp drugs in dinter without using synonyms\n",
      "Found 135 icu drugs in indexed common names\n",
      "Found 26 icu drugs in indexed synonyms\n",
      "Found 4157 hosp drugs not in icu_labels\n"
     ]
    }
   ],
   "source": [
    "\n",
    "print(f\"Found {len(df.loc[df['dinter'].isin(drug_index.common_names)])} ddinter keys in drugbank of {len(df['dinter'])}\")\n",
    "\n",
    "\n",
    "medication = pd.DataFrame()\n",
    "medication['medication'] = icu_drugs['label']\n",
    "print()\n",
    "\n",
    "def compare_to_ddinter(to_compare, descriptor):\n",
    "    print(f\"\\nTotal {len(to_compare)} {descriptor} drugs\")\n",
    "    print(f\"Found {len(to_compare.loc[to_compare['medication'].isin(df['dinter'])])} {descriptor} drugs in dinter without using synonyms\")\n",
    "    to_compare = to_compare.loc[~to_compare['medication'].isin(df['dinter'])]['medication']\n",
    "    print(f\"Found {len(to_compare.loc[to_compare.isin(drug_index.common_names)])} icu drugs in indexed common names\")\n",
    "    to_compare = to_compare.loc[~to_compare.isin(drug_index.common_names)]\n",
    "    print(f\"Found {len(to_compare.loc[to_compare.isin(drug_index.indexed_synonyms)])} icu drugs in indexed synonyms\")\n",
    "\n",
    "compare_to_ddinter(medication, 'icu')\n",
    "medication = pd.DataFrame()\n",
    "medication['medication'] = df_hosp_drugs\n",
    "compare_to_ddinter(medication, 'hosp')\n",
    "\n",
    "print(f\"Found {len(df_hosp_drugs[~df_hosp_drugs.isin(icu_drugs['label'])])} hosp drugs not in icu_labels\")"
   ]
  },
  {
   "cell_type": "code",
   "execution_count": 78,
   "metadata": {
    "ExecuteTime": {
     "end_time": "2023-11-01T05:53:18.237662300Z",
     "start_time": "2023-11-01T05:52:37.573730800Z"
    }
   },
   "outputs": [
    {
     "name": "stdout",
     "output_type": "stream",
     "text": [
      "1501\n",
      "Found 74 administered ddinter keys\n",
      "Found 45 clauses\n",
      "\n",
      "\n",
      " SELECT first_ie.subject_id, \n",
      "            first_ie.hadm_id, \n",
      "            first_ie.stay_id, \n",
      "            first_ie.itemid as drug_a_item_id, \n",
      "            second_ie.itemid as drug_b_item_id, \n",
      "            MAX(second_ie.starttime) as dose_b_time, \n",
      "            count(*) as event_count\n",
      "        FROM `physionet-data.mimiciv_icu.inputevents` as first_ie\n",
      "        INNER JOIN `physionet-data.mimiciv_icu.inputevents` as second_ie ON first_ie.stay_id = second_ie.stay_id\n",
      "        WHERE \n",
      "(first_ie.itemid IN (221282) \n",
      "            AND \n",
      "            second_ie.itemid IN (225896)) OR \n",
      "(first_ie.itemid IN (225840) \n",
      "            AND \n",
      "            second_ie.itemid IN (225871,221555,222011,222062,227531,229233)) OR \n",
      "(first_ie.itemid IN (221342) \n",
      "            AND \n",
      "            second_ie.itemid IN (225859,221429,225153,225974)) OR \n",
      "(first_ie.itemid IN (221347) \n",
      "            AND \n",
      "            second_ie.itemid IN (225857,225866,225869,225879,225882,225896)) OR \n",
      "(first_ie.itemid IN (225147) \n",
      "            AND \n",
      "            second_ie.itemid IN (225908)) OR \n",
      "(first_ie.itemid IN (221393) \n",
      "            AND \n",
      "            second_ie.itemid IN (225166)) OR \n",
      "(first_ie.itemid IN (225845) \n",
      "            AND \n",
      "            second_ie.itemid IN (225857)) OR \n",
      "(first_ie.itemid IN (229618) \n",
      "            AND \n",
      "            second_ie.itemid IN (225855)) OR \n",
      "(first_ie.itemid IN (221456) \n",
      "            AND \n",
      "            second_ie.itemid IN (225855)) OR \n",
      "(first_ie.itemid IN (225855) \n",
      "            AND \n",
      "            second_ie.itemid IN (221456,229618)) OR \n",
      "(first_ie.itemid IN (225857) \n",
      "            AND \n",
      "            second_ie.itemid IN (225845,225859,225866,225869,225871,225879,225886,225896,225905,221347,222151,222315)) OR \n",
      "(first_ie.itemid IN (225859) \n",
      "            AND \n",
      "            second_ie.itemid IN (225857,221342)) OR \n",
      "(first_ie.itemid IN (221555) \n",
      "            AND \n",
      "            second_ie.itemid IN (225840,225875)) OR \n",
      "(first_ie.itemid IN (227534) \n",
      "            AND \n",
      "            second_ie.itemid IN (225866,225871,225905)) OR \n",
      "(first_ie.itemid IN (221468) \n",
      "            AND \n",
      "            second_ie.itemid IN (225866)) OR \n",
      "(first_ie.itemid IN (221289) \n",
      "            AND \n",
      "            second_ie.itemid IN (225881,225153)) OR \n",
      "(first_ie.itemid IN (225866) \n",
      "            AND \n",
      "            second_ie.itemid IN (225857,225869,225886,225896,225905,221347,221468,221744,222151,222318,227534)) OR \n",
      "(first_ie.itemid IN (221429) \n",
      "            AND \n",
      "            second_ie.itemid IN (221342)) OR \n",
      "(first_ie.itemid IN (221744) \n",
      "            AND \n",
      "            second_ie.itemid IN (225866,225869)) OR \n",
      "(first_ie.itemid IN (225869) \n",
      "            AND \n",
      "            second_ie.itemid IN (225857,225866,225886,221347,221744,222151,227690)) OR \n",
      "(first_ie.itemid IN (225908) \n",
      "            AND \n",
      "            second_ie.itemid IN (221892,225147)) OR \n",
      "(first_ie.itemid IN (225871) \n",
      "            AND \n",
      "            second_ie.itemid IN (225840,225857,225875,227534)) OR \n",
      "(first_ie.itemid IN (227690) \n",
      "            AND \n",
      "            second_ie.itemid IN (225869)) OR \n",
      "(first_ie.itemid IN (225875) \n",
      "            AND \n",
      "            second_ie.itemid IN (225871,221555,222011,222062,227531,229233)) OR \n",
      "(first_ie.itemid IN (225153) \n",
      "            AND \n",
      "            second_ie.itemid IN (221289,221342)) OR \n",
      "(first_ie.itemid IN (221892) \n",
      "            AND \n",
      "            second_ie.itemid IN (225908)) OR \n",
      "(first_ie.itemid IN (225879) \n",
      "            AND \n",
      "            second_ie.itemid IN (225857,221347,222151)) OR \n",
      "(first_ie.itemid IN (225881) \n",
      "            AND \n",
      "            second_ie.itemid IN (221289,221749)) OR \n",
      "(first_ie.itemid IN (222011) \n",
      "            AND \n",
      "            second_ie.itemid IN (225840,225875,225902)) OR \n",
      "(first_ie.itemid IN (227531) \n",
      "            AND \n",
      "            second_ie.itemid IN (225840,225875,225902)) OR \n",
      "(first_ie.itemid IN (225882) \n",
      "            AND \n",
      "            second_ie.itemid IN (225886,221347,222151)) OR \n",
      "(first_ie.itemid IN (225974) \n",
      "            AND \n",
      "            second_ie.itemid IN (221342)) OR \n",
      "(first_ie.itemid IN (225886) \n",
      "            AND \n",
      "            second_ie.itemid IN (225857,225866,225869,225882,225896)) OR \n",
      "(first_ie.itemid IN (221749) \n",
      "            AND \n",
      "            second_ie.itemid IN (225881)) OR \n",
      "(first_ie.itemid IN (225892) \n",
      "            AND \n",
      "            second_ie.itemid IN (225798)) OR \n",
      "(first_ie.itemid IN (225166) \n",
      "            AND \n",
      "            second_ie.itemid IN (221393)) OR \n",
      "(first_ie.itemid IN (222151) \n",
      "            AND \n",
      "            second_ie.itemid IN (225857,225866,225869,225879,225882,225896)) OR \n",
      "(first_ie.itemid IN (225896) \n",
      "            AND \n",
      "            second_ie.itemid IN (225857,225866,225886,221282,221347,222151)) OR \n",
      "(first_ie.itemid IN (229233) \n",
      "            AND \n",
      "            second_ie.itemid IN (225840,225875)) OR \n",
      "(first_ie.itemid IN (225902) \n",
      "            AND \n",
      "            second_ie.itemid IN (222011,227531)) OR \n",
      "(first_ie.itemid IN (225798) \n",
      "            AND \n",
      "            second_ie.itemid IN (225892)) OR \n",
      "(first_ie.itemid IN (222315) \n",
      "            AND \n",
      "            second_ie.itemid IN (225857)) OR \n",
      "(first_ie.itemid IN (222062) \n",
      "            AND \n",
      "            second_ie.itemid IN (225840,225875)) OR \n",
      "(first_ie.itemid IN (222318) \n",
      "            AND \n",
      "            second_ie.itemid IN (225866)) OR \n",
      "(first_ie.itemid IN (225905) \n",
      "            AND \n",
      "            second_ie.itemid IN (225857,225866,227534)) AND first_ie.amount > 0\n",
      "            AND second_ie.amount > 0\n",
      "            AND first_ie.starttime < second_ie.starttime\n",
      "            AND DATETIME_DIFF(second_ie.starttime, first_ie.starttime, MINUTE) < 720\n",
      "        GROUP BY first_ie.subject_id, first_ie.hadm_id, first_ie.stay_id, first_ie.itemid, second_ie.itemid, second_ie.starttime\n",
      "        LIMIT 500000\n",
      "    \n",
      "<google.oauth2.credentials.Credentials object at 0x00000211638CF310> mimic-iv-desktop\n",
      "19\n",
      "(first_ie.itemid IN (225840) AND second_ie.itemid IN (225871,220988,220989,220990,220991,220992)) OR (first_ie.itemid IN (225845) AND second_ie.itemid IN (225857)) OR (first_ie.itemid IN (225857) AND second_ie.itemid IN (225845,225859,225866,225869,225871,225879,225886,225896,225905)) OR (first_ie.itemid IN (225859) AND second_ie.itemid IN (225857)) OR (first_ie.itemid IN (225900) AND second_ie.itemid IN (225866)) OR (first_ie.itemid IN (225866) AND second_ie.itemid IN (225857,225869,225886,225896,225900,225905)) OR (first_ie.itemid IN (225869) AND second_ie.itemid IN (225857,225866,225886,225898)) OR (first_ie.itemid IN (225871) AND second_ie.itemid IN (225840,225857,225875)) OR (first_ie.itemid IN (225875) AND second_ie.itemid IN (225871,220988,220989,220990,220991,220992)) OR (first_ie.itemid IN (225879) AND second_ie.itemid IN (225857)) OR (first_ie.itemid IN (220988,220989,220990,220991,220992) AND second_ie.itemid IN (225840,225875,225902)) OR (first_ie.itemid IN (225882) AND second_ie.itemid IN (225886)) OR (first_ie.itemid IN (225886) AND second_ie.itemid IN (225857,225866,225869,225882,225896)) OR (first_ie.itemid IN (225892,225893) AND second_ie.itemid IN (225798)) OR (first_ie.itemid IN (225896) AND second_ie.itemid IN (225857,225866,225886,225898)) OR (first_ie.itemid IN (225898) AND second_ie.itemid IN (225869,225896)) OR (first_ie.itemid IN (225902) AND second_ie.itemid IN (220988,220989,220990,220991,220992)) OR (first_ie.itemid IN (225798) AND second_ie.itemid IN (225892,225893)) OR (first_ie.itemid IN (225905) AND second_ie.itemid IN (225857,225866))\n",
      "Found 19 first ids\n",
      "\n",
      "\n",
      " SELECT first_ie.subject_id, \n",
      "            first_ie.hadm_id, \n",
      "            first_ie.stay_id, \n",
      "            first_ie.itemid as drug_a_item_id, \n",
      "            second_ie.itemid as drug_b_item_id, \n",
      "            MAX(second_ie.starttime) as dose_b_time, \n",
      "            count(*) as event_count\n",
      "        FROM `physionet-data.mimiciv_icu.inputevents` as first_ie\n",
      "        INNER JOIN `physionet-data.mimiciv_icu.inputevents` as second_ie ON first_ie.stay_id = second_ie.stay_id\n",
      "        WHERE (first_ie.itemid IN (225840) AND second_ie.itemid IN (225871,220988,220989,220990,220991,220992)) OR (first_ie.itemid IN (225845) AND second_ie.itemid IN (225857)) OR (first_ie.itemid IN (225857) AND second_ie.itemid IN (225845,225859,225866,225869,225871,225879,225886,225896,225905)) OR (first_ie.itemid IN (225859) AND second_ie.itemid IN (225857)) OR (first_ie.itemid IN (225900) AND second_ie.itemid IN (225866)) OR (first_ie.itemid IN (225866) AND second_ie.itemid IN (225857,225869,225886,225896,225900,225905)) OR (first_ie.itemid IN (225869) AND second_ie.itemid IN (225857,225866,225886,225898)) OR (first_ie.itemid IN (225871) AND second_ie.itemid IN (225840,225857,225875)) OR (first_ie.itemid IN (225875) AND second_ie.itemid IN (225871,220988,220989,220990,220991,220992)) OR (first_ie.itemid IN (225879) AND second_ie.itemid IN (225857)) OR (first_ie.itemid IN (220988,220989,220990,220991,220992) AND second_ie.itemid IN (225840,225875,225902)) OR (first_ie.itemid IN (225882) AND second_ie.itemid IN (225886)) OR (first_ie.itemid IN (225886) AND second_ie.itemid IN (225857,225866,225869,225882,225896)) OR (first_ie.itemid IN (225892,225893) AND second_ie.itemid IN (225798)) OR (first_ie.itemid IN (225896) AND second_ie.itemid IN (225857,225866,225886,225898)) OR (first_ie.itemid IN (225898) AND second_ie.itemid IN (225869,225896)) OR (first_ie.itemid IN (225902) AND second_ie.itemid IN (220988,220989,220990,220991,220992)) OR (first_ie.itemid IN (225798) AND second_ie.itemid IN (225892,225893)) OR (first_ie.itemid IN (225905) AND second_ie.itemid IN (225857,225866)) AND first_ie.amount > 0\n",
      "            AND second_ie.amount > 0\n",
      "            AND first_ie.starttime < second_ie.starttime\n",
      "            AND DATETIME_DIFF(second_ie.starttime, first_ie.starttime, MINUTE) < 720\n",
      "        GROUP BY first_ie.subject_id, first_ie.hadm_id, first_ie.stay_id, first_ie.itemid, second_ie.itemid, second_ie.starttime\n",
      "        LIMIT 500000\n",
      "    \n",
      "<google.oauth2.credentials.Credentials object at 0x0000021172D9E320> mimic-iv-desktop\n",
      "raw interactions 104814\n",
      "synonym interactions 123154\n",
      "combined interactions 199422\n",
      "Total unique hadms: 10205\n"
     ]
    }
   ],
   "source": [
    "def query_for_drug_interactions(type='synonyms', with_interactions = True):\n",
    "   \n",
    "    if type == 'synonyms':\n",
    "        clause = get_interaction_clause_with_synonyms(with_interactions)\n",
    "    else:\n",
    "        clause = get_interaction_clause_raw(with_interactions)\n",
    "    icu = \"physionet-data.mimiciv_icu\"\n",
    "\n",
    "    sql = f\"\"\"SELECT first_ie.subject_id, \n",
    "            first_ie.hadm_id, \n",
    "            first_ie.stay_id, \n",
    "            first_ie.itemid as drug_a_item_id, \n",
    "            second_ie.itemid as drug_b_item_id, \n",
    "            MAX(second_ie.starttime) as dose_b_time, \n",
    "            count(*) as event_count\n",
    "        FROM `{icu}.inputevents` as first_ie\n",
    "        INNER JOIN `{icu}.inputevents` as second_ie ON first_ie.stay_id = second_ie.stay_id\n",
    "        WHERE {clause} AND first_ie.amount > 0\n",
    "            AND second_ie.amount > 0\n",
    "            AND first_ie.starttime < second_ie.starttime\n",
    "            AND DATETIME_DIFF(second_ie.starttime, first_ie.starttime, MINUTE) < 720\n",
    "        GROUP BY first_ie.subject_id, first_ie.hadm_id, first_ie.stay_id, first_ie.itemid, second_ie.itemid, second_ie.starttime\n",
    "        LIMIT 500000\n",
    "    \"\"\"\n",
    "    print(\"\\n\\n\",sql)\n",
    "    mimic_job = BigQueryClient.auth().query(sql)\n",
    "    return mimic_job.to_dataframe()\n",
    "\n",
    "interaction_clause = 'synonyms'\n",
    "if config.isFastMode():\n",
    "    interaction_clause = 'raw'\n",
    "\n",
    "interaction_clause = 'raw'\n",
    "icu_drug_interactions_raw = query_for_drug_interactions(type='raw')\n",
    "icu_drug_interactions_synonyms = query_for_drug_interactions(type='synonyms')\n",
    "print(f\"raw interactions {len(icu_drug_interactions_raw)}\")\n",
    "print(f\"synonym interactions {len(icu_drug_interactions_synonyms)}\")\n",
    "icu_drug_interactions = pd.concat([icu_drug_interactions_synonyms, icu_drug_interactions_raw]).drop_duplicates()\n",
    "print(f\"combined interactions {len(icu_drug_interactions)}\")\n",
    "print(f\"Total unique hadms: {len(icu_drug_interactions.drop_duplicates()['hadm_id'].drop_duplicates())}\")"
   ]
  },
  {
   "cell_type": "markdown",
   "metadata": {},
   "source": []
  },
  {
   "cell_type": "code",
   "execution_count": 79,
   "metadata": {
    "ExecuteTime": {
     "end_time": "2023-11-01T05:53:18.279995300Z",
     "start_time": "2023-11-01T05:53:18.238660100Z"
    }
   },
   "outputs": [
    {
     "data": {
      "text/plain": "        subject_id   hadm_id   stay_id  drug_a_item_id  drug_b_item_id  \\\n0         10245250  26727785  32875883          225798          225893   \n1         10404109  29867820  31722715          225798          225893   \n2         10404109  29867820  31722715          225798          225893   \n3         10404109  29867820  31722715          225798          225893   \n4         10404109  29867820  31722715          225798          225893   \n...            ...       ...       ...             ...             ...   \n104809    15886366  20745767  37318329          221393          225166   \n104810    16030116  28017146  37104426          221393          225166   \n104811    16030116  28017146  37104426          221393          225166   \n104812    16030116  28017146  37104426          221393          225166   \n104813    16030116  28017146  37104426          221393          225166   \n\n               dose_b_time  event_count  \n0      2186-05-05 07:50:00            5  \n1      2146-12-28 20:00:00            4  \n2      2146-12-29 08:06:00            4  \n3      2146-12-31 07:56:00            4  \n4      2146-12-30 14:00:00            4  \n...                    ...          ...  \n104809 2186-10-26 07:57:00            1  \n104810 2180-06-19 16:41:00            1  \n104811 2180-06-24 12:28:00            1  \n104812 2180-06-27 09:32:00            1  \n104813 2180-06-25 04:30:00            1  \n\n[199422 rows x 7 columns]",
      "text/html": "<div>\n<style scoped>\n    .dataframe tbody tr th:only-of-type {\n        vertical-align: middle;\n    }\n\n    .dataframe tbody tr th {\n        vertical-align: top;\n    }\n\n    .dataframe thead th {\n        text-align: right;\n    }\n</style>\n<table border=\"1\" class=\"dataframe\">\n  <thead>\n    <tr style=\"text-align: right;\">\n      <th></th>\n      <th>subject_id</th>\n      <th>hadm_id</th>\n      <th>stay_id</th>\n      <th>drug_a_item_id</th>\n      <th>drug_b_item_id</th>\n      <th>dose_b_time</th>\n      <th>event_count</th>\n    </tr>\n  </thead>\n  <tbody>\n    <tr>\n      <th>0</th>\n      <td>10245250</td>\n      <td>26727785</td>\n      <td>32875883</td>\n      <td>225798</td>\n      <td>225893</td>\n      <td>2186-05-05 07:50:00</td>\n      <td>5</td>\n    </tr>\n    <tr>\n      <th>1</th>\n      <td>10404109</td>\n      <td>29867820</td>\n      <td>31722715</td>\n      <td>225798</td>\n      <td>225893</td>\n      <td>2146-12-28 20:00:00</td>\n      <td>4</td>\n    </tr>\n    <tr>\n      <th>2</th>\n      <td>10404109</td>\n      <td>29867820</td>\n      <td>31722715</td>\n      <td>225798</td>\n      <td>225893</td>\n      <td>2146-12-29 08:06:00</td>\n      <td>4</td>\n    </tr>\n    <tr>\n      <th>3</th>\n      <td>10404109</td>\n      <td>29867820</td>\n      <td>31722715</td>\n      <td>225798</td>\n      <td>225893</td>\n      <td>2146-12-31 07:56:00</td>\n      <td>4</td>\n    </tr>\n    <tr>\n      <th>4</th>\n      <td>10404109</td>\n      <td>29867820</td>\n      <td>31722715</td>\n      <td>225798</td>\n      <td>225893</td>\n      <td>2146-12-30 14:00:00</td>\n      <td>4</td>\n    </tr>\n    <tr>\n      <th>...</th>\n      <td>...</td>\n      <td>...</td>\n      <td>...</td>\n      <td>...</td>\n      <td>...</td>\n      <td>...</td>\n      <td>...</td>\n    </tr>\n    <tr>\n      <th>104809</th>\n      <td>15886366</td>\n      <td>20745767</td>\n      <td>37318329</td>\n      <td>221393</td>\n      <td>225166</td>\n      <td>2186-10-26 07:57:00</td>\n      <td>1</td>\n    </tr>\n    <tr>\n      <th>104810</th>\n      <td>16030116</td>\n      <td>28017146</td>\n      <td>37104426</td>\n      <td>221393</td>\n      <td>225166</td>\n      <td>2180-06-19 16:41:00</td>\n      <td>1</td>\n    </tr>\n    <tr>\n      <th>104811</th>\n      <td>16030116</td>\n      <td>28017146</td>\n      <td>37104426</td>\n      <td>221393</td>\n      <td>225166</td>\n      <td>2180-06-24 12:28:00</td>\n      <td>1</td>\n    </tr>\n    <tr>\n      <th>104812</th>\n      <td>16030116</td>\n      <td>28017146</td>\n      <td>37104426</td>\n      <td>221393</td>\n      <td>225166</td>\n      <td>2180-06-27 09:32:00</td>\n      <td>1</td>\n    </tr>\n    <tr>\n      <th>104813</th>\n      <td>16030116</td>\n      <td>28017146</td>\n      <td>37104426</td>\n      <td>221393</td>\n      <td>225166</td>\n      <td>2180-06-25 04:30:00</td>\n      <td>1</td>\n    </tr>\n  </tbody>\n</table>\n<p>199422 rows × 7 columns</p>\n</div>"
     },
     "execution_count": 79,
     "metadata": {},
     "output_type": "execute_result"
    }
   ],
   "source": [
    "icu_drug_interactions"
   ]
  },
  {
   "cell_type": "code",
   "execution_count": 80,
   "metadata": {
    "ExecuteTime": {
     "end_time": "2023-11-01T05:53:18.398739100Z",
     "start_time": "2023-11-01T05:53:18.266994Z"
    }
   },
   "outputs": [
    {
     "data": {
      "text/plain": "0         26727785\n1         29867820\n5         21894314\n6         27541056\n8         24861440\n            ...   \n102213    25916500\n102215    21861394\n102256    20691315\n102726    29724406\n102738    25304418\nName: hadm_id, Length: 10205, dtype: Int64"
     },
     "execution_count": 80,
     "metadata": {},
     "output_type": "execute_result"
    }
   ],
   "source": [
    "icu_drug_interactions.drop_duplicates()['hadm_id'].drop_duplicates()"
   ]
  },
  {
   "cell_type": "code",
   "execution_count": 81,
   "metadata": {
    "ExecuteTime": {
     "end_time": "2023-11-01T05:53:18.481029300Z",
     "start_time": "2023-11-01T05:53:18.331820500Z"
    }
   },
   "outputs": [
    {
     "name": "stdout",
     "output_type": "stream",
     "text": [
      "Found 354 hosp interactions\n"
     ]
    },
    {
     "data": {
      "text/plain": "[\"(e1.medication = 'abatacept' AND e2.medication IN ('fingolimod','Cladribine','teriflunomide','tocilizumab','etanercept','InFLIXimab','adalimumab','leflunomide','tofacitinib'))\\n\",\n \"(e1.medication = 'Abciximab' AND e2.medication IN ('TiCLOPIDINE','warfarin','clopidogrel','Prasugrel','rivaroxaban','Tirofiban','apixaban','dasatinib','Fondaparinux','Cabozantinib','Ibrutinib','Alteplase','enoxaparin','defibrotide','Eptifibatide','Heparin','dalteparin','Dipyridamole','Argatroban','anagrelide','Ponatinib','acalabrutinib','Edoxaban','deferasirox','cangrelor'))\\n\",\n \"(e1.medication = 'acalabrutinib' AND e2.medication IN ('erythromycin','Ruxolitinib ','Piroxicam','TiCLOPIDINE','Voriconazole','Prasugrel','cobicistat','Tirofiban','dasatinib','Fondaparinux','teriflunomide','Cabozantinib','Clozapine','Alteplase','miFEPRIStone','pentoxifylline','carBAMazepine','Heparin','treprostinil','Epoprostenol','indinavir','Aspirin','ibuprofen','cilostazol','Sulindac','Ibrutinib','nelFINavir','ticagrelor','defibrotide','Abciximab','Eptifibatide','Omeprazole','Argatroban','anagrelide','indomethacin','ketoconazole','Esomeprazole','adalimumab','Dronedarone','tofacitinib','clopidogrel','Nefazodone','Nabumetone','meloxicam','Phenytoin','binimetinib','Clarithromycin','Enzalutamide','idelalisib','apixaban','ketorolac','Pantoprazole','RITONAvir','duvelisib','Dipyridamole','dalteparin','Itraconazole','encorafenib','naproxen','Ponatinib','fosaprepitant','leflunomide','FLUCONAZOLE','Bivalirudin','voxelotor','warfarin','primiDONE','crizotinib','Aprepitant','fingolimod','fosamprenavir','Imatinib','Cladribine','bromfenac','rivaroxaban','etodolac','enoxaparin','RifAMPin','dexlansoprazole','etanercept','Darunavir','Diltiazem','InFLIXimab','letermovir','Edoxaban','RABEprazole','deferasirox','cangrelor','Fosphenytoin','PHENobarbital','Posaconazole','Lansoprazole','atazanavir','verapamil','ciprofloxacin'))\\n\",\n \"(e1.medication = 'Acarbose' AND e2.medication IN ('teriflunomide','gatifloxacin','leflunomide'))\\n\",\n \"(e1.medication = 'Acebutolol' AND e2.medication IN ('theophylline','fingolimod','dolasetron'))\\n\",\n \"(e1.medication = 'AcetaZOLamide' AND e2.medication IN ('Arsenic Trioxide','metFORMIN','Aspirin'))\\n\",\n \"(e1.medication = 'Aspirin' AND e2.medication IN ('warfarin','methazolAMIDE','ibuprofen','rivaroxaban','apixaban','ketorolac','dasatinib','Fondaparinux','teriflunomide','Cabozantinib','Ibrutinib','enoxaparin','defibrotide','AcetaZOLamide','dalteparin','Methotrexate','Ponatinib','acalabrutinib','Edoxaban','deferasirox','leflunomide'))\\n\",\n \"(e1.medication = 'acitretin' AND e2.medication IN ('levonorgestrel','MedroxyPROGESTERone Acetate','teriflunomide','vitamin A','Tetracycline','Retinoic Acid','Methotrexate','minocycline','leflunomide'))\\n\",\n \"(e1.medication = 'Adenosine' AND e2.medication IN ('osimertinib','crizotinib','ivosidenib','anagrelide','Cabozantinib','Arsenic Trioxide','nilotinib','dolasetron','vemurafenib'))\\n\",\n \"(e1.medication = 'Aldesleukin' AND e2.medication IN ('Thalidomide','fingolimod','Cladribine','Intron A','tiZANidine','CISplatin','teriflunomide','Clozapine','BuPROPion','Dacarbazine','etanercept','InFLIXimab','traMADol','Cidofovir','adalimumab','leflunomide','tofacitinib'))\\n\",\n \"(e1.medication = 'alfuzosin' AND e2.medication IN ('osimertinib','erythromycin','crizotinib','fingolimod','ivosidenib','Chloroquine','cobicistat','Clarithromycin','idelalisib','Cabozantinib','Arsenic Trioxide','nilotinib','hydroxychloroquine','anagrelide','ketoconazole','dolasetron','vemurafenib'))\\n\",\n \"(e1.medication = 'ALPRAZolam' AND e2.medication IN ('morphine','FLUCONAZOLE','ketoconazole'))\\n\",\n \"(e1.medication = 'alvimopan' AND e2.medication IN ('meperidine','HYDROmorphone','traMADol','oxyMORphone','morphine','fentaNYL','oxyCODONE','methadone','Buprenorphine'))\\n\",\n \"(e1.medication = 'Amantadine' AND e2.medication IN ('BuPROPion'))\\n\",\n \"(e1.medication = 'Ambrisentan' AND e2.medication IN ('teriflunomide','cycloSPORINE','leflunomide'))\\n\",\n \"(e1.medication = 'Amikacin' AND e2.medication IN ('foscarnet','tacrolimus','Magnesium Sulfate','bacitracin','everolimus','Mannitol','Sirolimus','onabotulinumtoxinA','ioversol','Succinylcholine','Cidofovir','deferasirox','rocuronium','furosemide','Ethacrynic Acid','Bumetanide','torsemide'))\\n\",\n \"(e1.medication = 'aminosalicylic acid' AND e2.medication IN ('deferasirox','teriflunomide','leflunomide'))\\n\",\n \"(e1.medication = 'amiodarone' AND e2.medication IN ('erythromycin','nilutamide','simvastatin','Midostaurin','SORAfenib','tacrolimus','cobicistat','Clarithromycin','Enzalutamide','dasatinib','teriflunomide','CISplatin','Cabozantinib','Arsenic Trioxide','Sunitinib','venetoclax ','Isoproterenol','Oxytocin','encorafenib','PAZOPanib','fludrocortisone','GILTERITINIB','DAUNOrubicin','Eribulin','bosutinib','loperamide','Flutamide','IDArubicin','leflunomide','FLUCONAZOLE','clotrimazole','vemurafenib','osimertinib','ondansetron','warfarin','crizotinib','Panitumumab','fingolimod','ivosidenib','Chloroquine','DOXOrubicin','doxepin','nilotinib','abiraterone','promethazine','hydroxychloroquine','bicalutamide','lapatinib','hydrocorTISone','anagrelide','pirfenidone','OXALIplatin','Edoxaban','lenvatinib','levofloxacin','ketoconazole','dexamethasone','palonosetron','dolasetron','granisetron','amphotericin B'))\\n\",\n \"(e1.medication = 'amLODIPine' AND e2.medication IN ('simvastatin','dolasetron','Enzalutamide'))\\n\",\n \"(e1.medication = 'amoxicillin' AND e2.medication IN ('Methotrexate'))\\n\",\n \"(e1.medication = 'amphotericin B' AND e2.medication IN ('amiodarone','foscarnet','Dofetilide','tacrolimus','Droperidol','Arsenic Trioxide','everolimus','Sirolimus','ioversol','Cidofovir','deferasirox','pimozide','Dronedarone'))\\n\",\n \"(e1.medication = 'ampicillin' AND e2.medication IN ('Methotrexate'))\\n\",\n \"(e1.medication = 'anakinra' AND e2.medication IN ('fingolimod','Cladribine','teriflunomide','tocilizumab','etanercept','InFLIXimab','adalimumab','leflunomide','tofacitinib'))\\n\",\n \"(e1.medication = 'apixaban' AND e2.medication IN ('Ruxolitinib ','Piroxicam','TiCLOPIDINE','clopidogrel','Voriconazole','Nabumetone','Prasugrel','meloxicam','cobicistat','Phenytoin','Enzalutamide','Tirofiban','dasatinib','Fondaparinux','ketorolac','Cabozantinib','Alteplase','miFEPRIStone','RITONAvir','carBAMazepine','Heparin','treprostinil','Dipyridamole','dalteparin','Itraconazole','Epoprostenol','naproxen','Ponatinib','Aspirin','Bivalirudin','primiDONE','warfarin','ibuprofen','cilostazol','bromfenac','rivaroxaban','etodolac','Sulindac','Ibrutinib','ticagrelor','defibrotide','Abciximab','enoxaparin','RifAMPin','Eptifibatide','Argatroban','anagrelide','Edoxaban','acalabrutinib','indomethacin','deferasirox','PHENobarbital','Fosphenytoin','cangrelor','ketoconazole','Posaconazole','nelFINavir'))\\n\",\n \"(e1.medication = 'apremilast' AND e2.medication IN ('PHENobarbital','Fosphenytoin','primiDONE','carBAMazepine','Phenytoin','Enzalutamide','RifAMPin'))\\n\",\n \"(e1.medication = 'ARIPiprazole' AND e2.medication IN ('morphine','BuPROPion','metoCLOPramide'))\\n\",\n \"(e1.medication = 'armodafiniL' AND e2.medication IN ('Olaparib '))\\n\",\n \"(e1.medication = 'ASENapine' AND e2.medication IN ('osimertinib','crizotinib','fingolimod','ivosidenib','Chloroquine','metoCLOPramide','Cabozantinib','Arsenic Trioxide','nilotinib','BuPROPion','hydroxychloroquine','anagrelide','morphine','dolasetron','vemurafenib'))\\n\",\n \"(e1.medication = 'atenolol' AND e2.medication IN ('theophylline','fingolimod','dolasetron'))\\n\",\n \"(e1.medication = 'Atezolizumab' AND e2.medication IN ('etanercept','Thalidomide','fingolimod','InFLIXimab','Pomalidomide','Cladribine','teriflunomide','adalimumab','leflunomide','tofacitinib','LENALIDOMIDE'))\\n\",\n \"(e1.medication = 'azaTHIOprine' AND e2.medication IN ('febuxostat','fingolimod','Cladribine','ribavirin','teriflunomide','Clozapine','allopurinol','etanercept','InFLIXimab','adalimumab','mercaptopurine','leflunomide','tofacitinib'))\\n\",\n \"(e1.medication = 'bacitracin' AND e2.medication IN ('gentamicin','tobramycin','Amikacin','tacrolimus','everolimus','Sirolimus','ioversol','Cidofovir','deferasirox'))\\n\",\n \"(e1.medication = 'baclofen' AND e2.medication IN ('morphine'))\\n\",\n \"(e1.medication = 'balsalazide' AND e2.medication IN ('tacrolimus','Sirolimus','ioversol','Cidofovir','deferasirox'))\\n\",\n \"(e1.medication = 'beclomethasone dipropionate' AND e2.medication IN ('miFEPRIStone'))\\n\",\n \"(e1.medication = 'bedaquiline' AND e2.medication IN ('erythromycin','nilutamide','lorlatinib','Midostaurin','SORAfenib','tacrolimus','Clarithromycin','Enzalutamide','dasatinib','teriflunomide','Cabozantinib','Arsenic Trioxide','Sunitinib','Isoproterenol','Oxytocin','encorafenib','Dabrafenib','PAZOPanib','DAUNOrubicin','GILTERITINIB','Eribulin','bosutinib','Flutamide','IDArubicin','leflunomide','FLUCONAZOLE','vemurafenib','osimertinib','ondansetron','crizotinib','fingolimod','ivosidenib','Chloroquine','DOXOrubicin','cilostazol','doxepin','nilotinib','abiraterone','hydroxychloroquine','bicalutamide','lapatinib','anagrelide','OXALIplatin','lenvatinib','levofloxacin','ketoconazole','dexamethasone','palonosetron','dolasetron','granisetron','promethazine'))\\n\",\n \"(e1.medication = 'Belatacept' AND e2.medication IN ('fingolimod','Cladribine','teriflunomide','Clozapine','etanercept','InFLIXimab','adalimumab','leflunomide','tofacitinib'))\\n\",\n \"(e1.medication = 'BENDAmustine' AND e2.medication IN ('fingolimod','Cladribine','teriflunomide','Clozapine','etanercept','InFLIXimab','adalimumab','leflunomide','tofacitinib'))\\n\",\n \"(e1.medication = 'betaxolol' AND e2.medication IN ('theophylline','fingolimod','dolasetron'))\\n\",\n \"(e1.medication = 'Bethanechol' AND e2.medication IN ('BuPROPion'))\\n\",\n \"(e1.medication = 'bicalutamide' AND e2.medication IN ('osimertinib','amiodarone','crizotinib','gatifloxacin','fingolimod','ivosidenib','Dofetilide','Droperidol','Procainamide','teriflunomide','Cabozantinib','Clozapine','ivabradine','Arsenic Trioxide','nilotinib','haloperidol','sotalol','miFEPRIStone','ILOperidone','anagrelide','Moxifloxacin','Citalopram','bedaquiline','pimozide','Dronedarone','dolasetron','leflunomide','methadone','vemurafenib'))\\n\",\n \"(e1.medication = 'binimetinib' AND e2.medication IN ('Thalidomide','Ponatinib','acalabrutinib','leflunomide','dasatinib','teriflunomide','deferasirox','Cabozantinib','Ibrutinib'))\\n\",\n \"(e1.medication = 'Bivalirudin' AND e2.medication IN ('warfarin','Prasugrel','cilostazol','rivaroxaban','apixaban','dasatinib','Fondaparinux','Cabozantinib','Alteplase','Ibrutinib','miFEPRIStone','enoxaparin','defibrotide','Heparin','dalteparin','Argatroban','anagrelide','Ponatinib','acalabrutinib','Edoxaban','deferasirox'))\\n\",\n \"(e1.medication = 'Bleomycin' AND e2.medication IN ('Thalidomide','fingolimod','Brentuximab Vedotin','Cladribine','teriflunomide','Clozapine','etanercept','InFLIXimab','adalimumab','leflunomide','tofacitinib'))\\n\",\n \"(e1.medication = 'Blinatumomab' AND e2.medication IN ('fingolimod','Cladribine','teriflunomide','Clozapine','BuPROPion','etanercept','InFLIXimab','traMADol','adalimumab','leflunomide','tofacitinib'))\\n\",\n \"(e1.medication = 'bortezomib' AND e2.medication IN ('primiDONE','fingolimod','Phenytoin','Rifabutin','Cladribine','Enzalutamide','teriflunomide','Clozapine','RifAMPin','etanercept','carBAMazepine','InFLIXimab','PHENobarbital','Fosphenytoin','adalimumab','leflunomide','tofacitinib'))\\n\",\n \"(e1.medication = 'bosentan' AND e2.medication IN ('lorlatinib','Brigatinib','MedroxyPROGESTERone Acetate','cobicistat','teriflunomide','glyBURIDE','venetoclax ','cycloSPORINE','encorafenib','axitinib','bosutinib','leflunomide','Olaparib '))\\n\",\n \"(e1.medication = 'bosutinib' AND e2.medication IN ('erythromycin','lorlatinib','amiodarone','gatifloxacin','Voriconazole','cobicistat','teriflunomide','Cabozantinib','Clozapine','haloperidol','ivabradine','Arsenic Trioxide','miFEPRIStone','carBAMazepine','Moxifloxacin','indinavir','methadone','vemurafenib','ivosidenib','Chloroquine','Nafcillin','Procainamide','bosentan','nelFINavir','ILOperidone','anagrelide','ketoconazole','dexamethasone','adalimumab','Dronedarone','tofacitinib','Nefazodone','Dofetilide','Droperidol','Phenytoin','Rifabutin','Clarithromycin','Enzalutamide','idelalisib','modafinil','RITONAvir','duvelisib','Itraconazole','etravirine','Efavirenz','fosaprepitant','leflunomide','FLUCONAZOLE','osimertinib','voxelotor','primiDONE','crizotinib','Aprepitant','fingolimod','fosamprenavir','Imatinib','Cladribine','sotalol','hydroxychloroquine','RifAMPin','etanercept','Darunavir','Diltiazem','InFLIXimab','letermovir','PHENobarbital','Fosphenytoin','Citalopram','Posaconazole','bedaquiline','atazanavir','pimozide','dolasetron','verapamil','ciprofloxacin'))\\n\",\n \"(e1.medication = 'brexpiprazole' AND e2.medication IN ('erythromycin','crizotinib','Aprepitant','DiphenhydrAMINE','Imatinib','cobicistat','Clarithromycin','idelalisib','metoCLOPramide','nilotinib','BuPROPion','abiraterone','cinacalcet','cimetidine','morphine','CELECOXIB','ketoconazole','FLUCONAZOLE','clotrimazole'))\\n\",\n \"(e1.medication = 'Brigatinib' AND e2.medication IN ('erythromycin','lorlatinib','Voriconazole','Nefazodone','levonorgestrel','MedroxyPROGESTERone Acetate','cobicistat','Phenytoin','Rifabutin','Clarithromycin','Enzalutamide','idelalisib','teriflunomide','miFEPRIStone','modafinil','RITONAvir','neVIRapine','carBAMazepine','Itraconazole','Dabrafenib','etravirine','indinavir','Efavirenz','fosaprepitant','leflunomide','FLUCONAZOLE','voxelotor','primiDONE','crizotinib','Aprepitant','fingolimod','fosamprenavir','Imatinib','Nafcillin','Cladribine','eslicarbazepine','bosentan','nelFINavir','RifAMPin','etanercept','Darunavir','Diltiazem','InFLIXimab','letermovir','PHENobarbital','Fosphenytoin','ketoconazole','dexamethasone','Posaconazole','atazanavir','adalimumab','Dronedarone','tofacitinib','verapamil','ciprofloxacin'))\\n\",\n \"(e1.medication = 'bromfenac' AND e2.medication IN ('warfarin','Prasugrel','tacrolimus','rivaroxaban','apixaban','dasatinib','teriflunomide','Fondaparinux','Cabozantinib','Ibrutinib','enoxaparin','everolimus','dalteparin','Sirolimus','Methotrexate','Ponatinib','acalabrutinib','Edoxaban','ioversol','deferasirox','leflunomide'))\\n\",\n \"(e1.medication = 'BuPROPion' AND e2.medication IN ('milnacipran','dextroamphetamine','gatifloxacin','meperidine','OLANZapine','galantamine','Meropenem','procarbazine','teriflunomide','nortriptyline','brexpiprazole','Clozapine','interferon beta-1a','haloperidol','rivastigmine','HYDROmorphone','cosyntropin','Moxifloxacin','ertapenem','vortioxetine','morphine','selegiline','Neostigmine','mexiletine','Amantadine','Bethanechol','PARoxetine','4-aminopyridine','fluvoxaMINE','methadone','ondansetron','foscarnet','Chloroquine','methylphenidate','Methylprednisolone','ASENapine','Imipramine','ILOperidone','Cyclobenzaprine','Fluphenazine','perphenazine','dexmethylphenidate','traMADol','ciprofloxacin','venlafaxine','Prednisone','desvenlafaxine','Prochlorperazine','Thiothixene','dexamethasone','CycloSERINE','palonosetron','tapentadol','Duloxetine','granisetron','tetrabenazine','Nefazodone','phentermine','cariprazine','Enzalutamide','Donepezil','TraZODone','RISperidone','FLUoxetine','Blinatumomab','dronabinol','rasagiline','fludrocortisone','ClomiPRAMINE','oxyMORphone','chlorproMAZINE','lisdexamfetamine','Desipramine','Aldesleukin','oxyCODONE','leflunomide','sertraline','Intron A','metoCLOPramide','vilazodone','lurasidone','linezolid','doxepin','Prednisolone','protriptyline','mirtazapine','Buprenorphine','QUEtiapine','theophylline','Peginterferon Alfa-2a','deutetrabenazine','lithium carbonate','hydrocorTISone','ofloxacin','lidocaine','amitriptyline','ARIPiprazole','interferon beta-1b','Citalopram','fentaNYL','levofloxacin','valbenazine','pimozide','dolasetron','promethazine'))\\n\",\n \"(e1.medication = 'Cabazitaxel' AND e2.medication IN ('fingolimod','Cladribine','teriflunomide','Clozapine','etanercept','InFLIXimab','adalimumab','leflunomide','tofacitinib'))\\n\",\n \"(e1.medication = 'Cabozantinib' AND e2.medication IN ('erythromycin','Ruxolitinib ','amiodarone','Midostaurin','tacrolimus','nortriptyline','Clozapine','ivabradine','Arsenic Trioxide','miFEPRIStone','carBAMazepine','treprostinil','Oxytocin','PAZOPanib','indinavir','Eribulin','alfuzosin','Flutamide','Clofazimine ','IDArubicin','methadone','vemurafenib','ondansetron','ibuprofen','ivosidenib','Chloroquine','Procainamide','Sulindac','Ibrutinib','ASENapine','ticagrelor','bicalutamide','Adenosine','ILOperidone','Eptifibatide','Fluphenazine','traMADol','venlafaxine','acalabrutinib','palonosetron','Dronedarone','granisetron','tetrabenazine','Nefazodone','Nabumetone','SORAfenib','Droperidol','Rifabutin','Clarithromycin','Enzalutamide','apixaban','tiZANidine','HydrOXYzine','RITONAvir','RISperidone','FLUoxetine','Dipyridamole','Efavirenz','bosutinib','lisdexamfetamine','FLUCONAZOLE','Bivalirudin','primiDONE','crizotinib','fingolimod','fosamprenavir','sertraline','rivaroxaban','etodolac','telavancin','hydroxychloroquine','Buprenorphine','deutetrabenazine','amitriptyline','Edoxaban','lenvatinib','PHENobarbital','cangrelor','Fosphenytoin','Citalopram','bedaquiline','atazanavir','pimozide','propafenone','dolasetron','nelFINavir','ciprofloxacin','promethazine','Piroxicam','TiCLOPIDINE','gatifloxacin','Voriconazole','Prasugrel','cobicistat','Tirofiban','dasatinib','Fondaparinux','Alteplase','haloperidol','Sunitinib','Heparin','Epoprostenol','Moxifloxacin','DAUNOrubicin','Aspirin','pimavanserin','Thalidomide','foscarnet','cilostazol','DOXOrubicin','nilotinib','abiraterone','defibrotide','Abciximab','Imipramine','perphenazine','Argatroban','anagrelide','indomethacin','Prochlorperazine','ketoconazole','nilutamide','clopidogrel','Dofetilide','meloxicam','Phenytoin','binimetinib','ketorolac','colchicine','venetoclax ','atomoxetine','TraZODone','solifenacin','dalteparin','Isoproterenol','encorafenib','Itraconazole','rilpivirine','naproxen','Ponatinib','GILTERITINIB','ClomiPRAMINE','chlorproMAZINE','Desipramine','osimertinib','azithromycin','Vasopressin','warfarin','bromfenac','doxepin','sotalol','ranolazine','protriptyline','enoxaparin','RifAMPin','QUEtiapine','lithium carbonate','lapatinib','ofloxacin','OXALIplatin','deferasirox','levofloxacin','flecainide','valbenazine','Posaconazole'))\\n\",\n \"(e1.medication = 'Calcium Acetate' AND e2.medication IN ('dolutegravir'))\\n\",\n \"(e1.medication = 'calcium citrate' AND e2.medication IN ('dolutegravir'))\\n\",\n \"(e1.medication = 'calcium gluconate' AND e2.medication IN ('Digoxin','CeftriaXONE','dolutegravir'))\\n\",\n \"(e1.medication = 'cangrelor' AND e2.medication IN ('TiCLOPIDINE','warfarin','clopidogrel','Prasugrel','rivaroxaban','Tirofiban','apixaban','dasatinib','Fondaparinux','Cabozantinib','Ibrutinib','Alteplase','miFEPRIStone','enoxaparin','defibrotide','Abciximab','Eptifibatide','Heparin','Dipyridamole','dalteparin','Argatroban','Ponatinib','Edoxaban','acalabrutinib','deferasirox'))\\n\",\n \"(e1.medication = 'Captopril' AND e2.medication IN ('potassium gluconate','Potassium Citrate','teriflunomide','Potassium Iodide','leflunomide','Potassium Chloride','venetoclax '))\\n\",\n \"(e1.medication = 'CARBOplatin' AND e2.medication IN ('Thalidomide','fingolimod','SORAfenib','Thiotepa','Cladribine','teriflunomide','Clozapine','etanercept','InFLIXimab','Cidofovir','adalimumab','leflunomide','tofacitinib'))\\n\",\n \"(e1.medication = 'cariprazine' AND e2.medication IN ('morphine','ketoconazole','cobicistat','BuPROPion','Clarithromycin','idelalisib','metoCLOPramide'))\\n\",\n \"(e1.medication = 'carisoprodoL' AND e2.medication IN ('morphine'))\\n\",\n \"(e1.medication = 'CARVedilol' AND e2.medication IN ('theophylline','fingolimod','Albuterol','PAZOPanib','Edoxaban','EPINEPHrine','salmeterol','venetoclax ','dolasetron'))\\n\",\n \"(e1.medication = 'CeftriaXONE' AND e2.medication IN ('Leucovorin','Calcium Chloride','calcium gluconate'))\\n\",\n \"(e1.medication = 'Cetuximab' AND e2.medication IN ('Thalidomide'))\\n\",\n \"(e1.medication = 'Chlorambucil' AND e2.medication IN ('Thalidomide','fingolimod','Thiotepa','Cladribine','teriflunomide','Clozapine','etanercept','InFLIXimab','adalimumab','leflunomide','tofacitinib'))\\n\",\n \"(e1.medication = 'ChlordiazePOXIDE' AND e2.medication IN ('morphine'))\\n\",\n \"(e1.medication = 'Chloroquine' AND e2.medication IN ('erythromycin','Midostaurin','amiodarone','gatifloxacin','Voriconazole','tacrolimus','dasatinib','nortriptyline','Cabozantinib','Clozapine','haloperidol','ivabradine','Arsenic Trioxide','miFEPRIStone','Sunitinib','Oxytocin','Moxifloxacin','PAZOPanib','DAUNOrubicin','pimavanserin','Eribulin','alfuzosin','IDArubicin','Clofazimine ','methadone','vemurafenib','ondansetron','foscarnet','ivosidenib','DOXOrubicin','cilostazol','Procainamide','Remdesivir','nilotinib','BuPROPion','ASENapine','Imipramine','ILOperidone','Fluphenazine','perphenazine','anagrelide','traMADol','ciprofloxacin','venlafaxine','Prochlorperazine','ketoconazole','palonosetron','Dronedarone','granisetron','tetrabenazine','SORAfenib','Dofetilide','Droperidol','Clarithromycin','tiZANidine','HydrOXYzine','atomoxetine','TraZODone','RISperidone','solifenacin','FLUoxetine','rilpivirine','encorafenib','GILTERITINIB','Efavirenz','ClomiPRAMINE','chlorproMAZINE','bosutinib','Desipramine','lisdexamfetamine','FLUCONAZOLE','osimertinib','azithromycin','Vasopressin','crizotinib','fingolimod','sertraline','telavancin','doxepin','sotalol','ranolazine','hydroxychloroquine','mirtazapine','protriptyline','Buprenorphine','QUEtiapine','deutetrabenazine','lapatinib','lithium carbonate','ofloxacin','amitriptyline','OXALIplatin','lenvatinib','Citalopram','levofloxacin','flecainide','valbenazine','Posaconazole','bedaquiline','pimozide','propafenone','dolasetron','promethazine'))\\n\",\n \"(e1.medication = 'chlorproMAZINE' AND e2.medication IN ('osimertinib','Potassium Citrate','crizotinib','fingolimod','ivosidenib','Chloroquine','metoCLOPramide','Cabozantinib','Arsenic Trioxide','nilotinib','BuPROPion','hydroxychloroquine','anagrelide','morphine','dolasetron','Potassium Chloride','vemurafenib'))\\n\",\n \"(e1.medication = 'Cholestyramine' AND e2.medication IN ('teriflunomide'))\\n\",\n \"(e1.medication = 'ciclesonide' AND e2.medication IN ('Cladribine'))\\n\",\n \"(e1.medication = 'cilostazol' AND e2.medication IN ('erythromycin','TiCLOPIDINE','gatifloxacin','Voriconazole','Nefazodone','Dofetilide','Droperidol','cobicistat','Clarithromycin','apixaban','idelalisib','dasatinib','Fondaparinux','Cabozantinib','Clozapine','haloperidol','ivabradine','Arsenic Trioxide','miFEPRIStone','RITONAvir','duvelisib','dalteparin','Itraconazole','Moxifloxacin','PAZOPanib','Ponatinib','indinavir','fosaprepitant','methadone','fluvoxaMINE','FLUCONAZOLE','Bivalirudin','vemurafenib','osimertinib','crizotinib','Aprepitant','fingolimod','fosamprenavir','ivosidenib','Chloroquine','Imatinib','rivaroxaban','Procainamide','Ibrutinib','sotalol','nelFINavir','hydroxychloroquine','enoxaparin','defibrotide','Darunavir','ILOperidone','Diltiazem','Omeprazole','Argatroban','letermovir','acalabrutinib','Edoxaban','deferasirox','Posaconazole','bedaquiline','ketoconazole','Lansoprazole','atazanavir','pimozide','Dronedarone','dolasetron','verapamil'))\\n\",\n \"(e1.medication = 'cimetidine' AND e2.medication IN ('Dofetilide','Phenytoin','tiZANidine','dasatinib','brexpiprazole','rilpivirine','PAZOPanib','lomustine','loperamide','Fosphenytoin','Carmustine','Citalopram','atazanavir','pimozide','oxyCODONE'))\\n\",\n \"(e1.medication = 'ciprofloxacin' AND e2.medication IN ('Cabozantinib','Arsenic Trioxide','venetoclax ','fludrocortisone','bosutinib','glimepiride','vemurafenib','warfarin','crizotinib','Brigatinib','fingolimod','repaglinide','ivosidenib','Chloroquine','insulin glargine','Methylprednisolone','Ibrutinib','glyBURIDE','nilotinib','BuPROPion','Prednisolone','hydroxychloroquine','insulin degludec','glipiZIDE','theophylline','hydrocorTISone','anagrelide','pirfenidone','Prednisone','acalabrutinib','naloxegol','dexamethasone','dolasetron','Olaparib ','Nateglinide'))\\n\",\n \"(e1.medication = 'Cladribine' AND e2.medication IN ('thioguanine','Ruxolitinib ','Obinutuzumab','Midostaurin','Brentuximab Vedotin','PEMEtrexed','tacrolimus','dupilumab','Belatacept','Mechlorethamine','procarbazine','Pentostatin','abatacept','dasatinib','teriflunomide','Daratumumab','Clozapine','Cabazitaxel','Dacarbazine','tbo-filgrastim','anakinra','carBAMazepine','Cyclophosphamide','Elotuzumab','cosyntropin','Pomalidomide','PAZOPanib','DAUNOrubicin','Alemtuzumab','Carmustine','Eribulin','Ixazomib','IDArubicin','hydroxyurea','Mitomycin','Basiliximab','Thalidomide','ciclesonide','Brigatinib','Thiotepa','budesonide','DOXOrubicin','palbociclib','Procainamide','Bleomycin','Methylprednisolone','Ibrutinib','Decitabine','nilotinib','roflumilast','vedolizumab','BENDAmustine','ustekinumab','azaTHIOprine','everolimus','Trastuzumab','ganciclovir','Methotrexate','Prednisone','acalabrutinib','Cytarabine','lomustine','Axicabtagene Ciloleucel','dexamethasone','adalimumab','tofacitinib','Olaparib ','Albendazole','Anti-Thymocyte Globulin (Rabbit)','bortezomib','abemaciclib','Flucytosine','CARBOplatin','idelalisib','Atezolizumab','CISplatin','tocilizumab','Penicillamine','Busulfan','Zidovudine','Dapsone','colchicine','Pralatrexate','capecitabine','duvelisib','mitoXANTRONE','venetoclax ','dimethyl fumarate','Blinatumomab','fludrocortisone','Ponatinib','TEMOZOLOMIDE','Ifosfamide','Gemcitabine','bosutinib','Chlorambucil','mycophenolate mofetil','Aldesleukin','fluticasone','leflunomide','ValGANCIclovir','riTUXimab','LENALIDOMIDE','Sargramostim','osimertinib','azaCITIDine','Clofarabine','fingolimod','Imatinib','Streptozocin','Intron A','fluorouracil','linezolid','Prednisolone','DACTINomycin','etanercept','cycloSPORINE','Peginterferon Alfa-2a','hydrocorTISone','Pegfilgrastim-cbqv','InFLIXimab','flunisolide','Sirolimus','OXALIplatin','Etoposide','Felbamate','mercaptopurine','Carfilzomib','Melphalan'))\\n\",\n \"(e1.medication = 'Clarithromycin' AND e2.medication IN ('erythromycin','Ruxolitinib ','lorlatinib','Midostaurin','simvastatin','amiodarone','gatifloxacin','tamsulosin','tacrolimus','dasatinib','teriflunomide','Cabozantinib','brexpiprazole','ivabradine','haloperidol','Arsenic Trioxide','miFEPRIStone','carBAMazepine','Moxifloxacin','PAZOPanib','pimavanserin','alfuzosin','fesoterodine','maraviroc','methadone','eletriptan','Tolvaptan','vemurafenib','Atorvastatin','cabergoline','Brigatinib','ivosidenib','Chloroquine','budesonide','cilostazol','palbociclib','Procainamide','Methylprednisolone','Ibrutinib','nilotinib','ticagrelor','everolimus','ILOperidone','anagrelide','guanFACINE','acalabrutinib','axitinib','naloxegol','eszopiclone','Dronedarone','tofacitinib','Olaparib ','abemaciclib','lovastatin','Dofetilide','Droperidol','simeprevir','silodosin','cariprazine','niMODipine','colchicine','duvelisib','venetoclax ','daclatasvir','solifenacin','Digoxin','encorafenib','Ponatinib','GILTERITINIB','bosutinib','loperamide','fluticasone','oxyCODONE','leflunomide','osimertinib','voxelotor','macitentan','warfarin','crizotinib','fingolimod','vilazodone','lurasidone','sotalol','ranolazine','hydroxychloroquine','QUEtiapine','cycloSPORINE','lapatinib','Eplerenone','sildenafil','Sirolimus','larotrectinib','Edoxaban','Citalopram','fentaNYL','valbenazine','salmeterol','bedaquiline','pimozide','dolasetron','suvorexant'))\\n\",\n \"(e1.medication = 'Clevidipine' AND e2.medication IN ('dolasetron'))\\n\",\n \"(e1.medication = 'clobazam' AND e2.medication IN ('morphine'))\\n\",\n \"(e1.medication = 'CloniDINE' AND e2.medication IN ('doxepin'))\\n\",\n \"(e1.medication = 'clopidogrel' AND e2.medication IN ('TiCLOPIDINE','warfarin','repaglinide','Prasugrel','cobicistat','rivaroxaban','Tirofiban','apixaban','pioglitazone','dasatinib','Fondaparinux','Cabozantinib','Ibrutinib','miFEPRIStone','RITONAvir','enoxaparin','defibrotide','Abciximab','Eptifibatide','FLUoxetine','dalteparin','Omeprazole','Argatroban','Ponatinib','acalabrutinib','Edoxaban','RABEprazole','deferasirox','loperamide','cangrelor','Esomeprazole','fluvoxaMINE','FLUCONAZOLE'))\\n\",\n \"(e1.medication = 'colchicine' AND e2.medication IN ('erythromycin','simvastatin','Midostaurin','crizotinib','Aprepitant','SORAfenib','tacrolimus','cobicistat','Imatinib','Cladribine','Clarithromycin','idelalisib','Cabozantinib','nilotinib','venetoclax ','cycloSPORINE','lapatinib','rosuvastatin','Ponatinib','GILTERITINIB','ketoconazole','FLUCONAZOLE','vemurafenib'))\\n\",\n \"(e1.medication = 'colesevelam' AND e2.medication IN ('teriflunomide'))\\n\",\n \"(e1.medication = 'colestipol' AND e2.medication IN ('teriflunomide'))\\n\",\n \"(e1.medication = 'CycloSERINE' AND e2.medication IN ('BuPROPion'))\\n\",\n \"(e1.medication = 'cycloSPORINE' AND e2.medication IN ('erythromycin','simvastatin','Voriconazole','tacrolimus','cobicistat','teriflunomide','Ambrisentan','miFEPRIStone','carBAMazepine','PAZOPanib','indinavir','Atorvastatin','foscarnet','bosentan','SulfADIAzine','everolimus','Aliskiren','Cidofovir','ketoconazole','adalimumab','Dronedarone','tofacitinib','pravastatin','lovastatin','Nefazodone','simeprevir','Rifabutin','Clarithromycin','idelalisib','colchicine','RITONAvir','venetoclax ','rosuvastatin','Itraconazole','loperamide','pitavastatin','leflunomide','fingolimod','fosamprenavir','repaglinide','Cladribine','RifAMPin','etanercept','Darunavir','InFLIXimab','letermovir','ioversol','Edoxaban','deferasirox','Posaconazole','atazanavir','pimozide','nelFINavir'))\\n\",\n \"(e1.medication = 'Dacarbazine' AND e2.medication IN ('Thalidomide','fingolimod','Cladribine','teriflunomide','Clozapine','etanercept','InFLIXimab','Aldesleukin','adalimumab','leflunomide','tofacitinib'))\\n\",\n \"(e1.medication = '4-aminopyridine' AND e2.medication IN ('BuPROPion'))\\n\",\n \"(e1.medication = 'dalteparin' AND e2.medication IN ('Ruxolitinib ','Piroxicam','TiCLOPIDINE','clopidogrel','Nabumetone','Prasugrel','meloxicam','Tirofiban','apixaban','ketorolac','dasatinib','Fondaparinux','Cabozantinib','Alteplase','miFEPRIStone','Heparin','treprostinil','Dipyridamole','Epoprostenol','naproxen','Ponatinib','Aspirin','Bivalirudin','warfarin','ibuprofen','cilostazol','bromfenac','rivaroxaban','etodolac','Sulindac','Ibrutinib','ticagrelor','enoxaparin','defibrotide','Abciximab','Eptifibatide','Argatroban','anagrelide','Edoxaban','acalabrutinib','indomethacin','deferasirox','cangrelor'))\\n\",\n \"(e1.medication = 'dantrolene' AND e2.medication IN ('morphine','teriflunomide','leflunomide'))\\n\",\n \"(e1.medication = 'Daratumumab' AND e2.medication IN ('etanercept','fingolimod','InFLIXimab','Cladribine','teriflunomide','Clozapine','adalimumab','leflunomide','tofacitinib'))\\n\",\n \"(e1.medication = 'darifenacin' AND e2.medication IN ('Potassium Citrate','ketoconazole','cobicistat','Potassium Chloride','idelalisib'))\\n\",\n \"(e1.medication = 'Darunavir' AND e2.medication IN ('simvastatin','Brigatinib','ivosidenib','tacrolimus','cilostazol','dasatinib','teriflunomide','Ibrutinib','venetoclax ','everolimus','cycloSPORINE','rosuvastatin','encorafenib','acalabrutinib','bosutinib','naloxegol','salmeterol','leflunomide','Olaparib '))\\n\",\n \"(e1.medication = 'DAUNOrubicin' AND e2.medication IN ('amiodarone','gatifloxacin','Dofetilide','Droperidol','teriflunomide','Cabozantinib','Clozapine','haloperidol','ivabradine','Arsenic Trioxide','miFEPRIStone','Moxifloxacin','Efavirenz','leflunomide','methadone','vemurafenib','osimertinib','Thalidomide','crizotinib','fingolimod','ivosidenib','Chloroquine','Cladribine','Procainamide','nilotinib','sotalol','hydroxychloroquine','etanercept','Trastuzumab','ILOperidone','InFLIXimab','anagrelide','Citalopram','bedaquiline','adalimumab','pimozide','Dronedarone','dolasetron','tofacitinib'))\\n\",\n \"(e1.medication = 'deferasirox' AND e2.medication IN ('Ruxolitinib ','balsalazide','Piroxicam','TiCLOPIDINE','Amikacin','Prasugrel','tacrolimus','Tirofiban','dasatinib','Fondaparinux','teriflunomide','Pamidronate','Cabozantinib','Clozapine','Alteplase','aminosalicylic acid','Heparin','treprostinil','Epoprostenol','Aspirin','mesalamine','CELECOXIB','foscarnet','ibuprofen','cilostazol','Sulindac','Methylprednisolone','Ibrutinib','ticagrelor','defibrotide','Abciximab','Eptifibatide','risedronate','Argatroban','anagrelide','Methotrexate','Prednisone','acalabrutinib','indomethacin','Cidofovir','VANCOMYCIN','dexamethasone','Bismuth Subsalicylate','Salsalate','clopidogrel','Nabumetone','ibandronate','meloxicam','binimetinib','olsalazine','apixaban','tiZANidine','ketorolac','CISplatin','bacitracin','Dipyridamole','dalteparin','encorafenib','naproxen','Ponatinib','fludrocortisone','rasagiline','leflunomide','Bivalirudin','warfarin','gentamicin','tobramycin','bromfenac','rivaroxaban','etodolac','telavancin','Prednisolone','enoxaparin','cycloSPORINE','theophylline','lithium carbonate','hydrocorTISone','Sirolimus','ioversol','Edoxaban','cangrelor','zoledronic acid','amphotericin B'))\\n\",\n \"(e1.medication = 'deutetrabenazine' AND e2.medication IN ('osimertinib','crizotinib','fingolimod','ivosidenib','Chloroquine','procarbazine','metoCLOPramide','Cabozantinib','Arsenic Trioxide','nilotinib','BuPROPion','hydroxychloroquine','anagrelide','dolasetron','cinacalcet','promethazine','vemurafenib'))\\n\",\n \"(e1.medication = 'dexamethasone' AND e2.medication IN ('lorlatinib','amiodarone','gatifloxacin','simeprevir','dasatinib','teriflunomide','miFEPRIStone','venetoclax ','daclatasvir','rilpivirine','encorafenib','Moxifloxacin','bosutinib','oxyCODONE','leflunomide','methadone','voxelotor','Thalidomide','Brigatinib','fingolimod','Cladribine','nilotinib','BuPROPion','ranolazine','everolimus','etanercept','ofloxacin','InFLIXimab','guanFACINE','doravirine','deferasirox','axitinib','fentaNYL','levofloxacin','bedaquiline','adalimumab','tofacitinib','Olaparib ','ciprofloxacin'))\\n\",\n \"(e1.medication = 'dexlansoprazole' AND e2.medication IN ('dasatinib','erlotinib','rilpivirine','atazanavir','tacrolimus','nelFINavir','Methotrexate','PAZOPanib','acalabrutinib'))\\n\",\n \"(e1.medication = 'diazePAM' AND e2.medication IN ('morphine'))\\n\",\n \"(e1.medication = 'didanosine' AND e2.medication IN ('hydroxyurea','teriflunomide','leflunomide'))\\n\",\n \"(e1.medication = 'Digoxin' AND e2.medication IN ('lapatinib','parathyroid hormone','calcium gluconate','fingolimod','dolasetron','Calcium Chloride','Clarithromycin'))\\n\",\n \"(e1.medication = 'DiphenhydrAMINE' AND e2.medication IN ('Potassium Citrate','zonisamide','brexpiprazole','topiramate','Potassium Chloride'))\\n\",\n \"(e1.medication = 'Disulfiram' AND e2.medication IN ('MetroNIDAZOLE','teriflunomide','sertraline','leflunomide','RITONAvir'))\\n\",\n \"(e1.medication = 'DOBUTamine' AND e2.medication IN ('doxepin'))\\n\",\n \"(e1.medication = 'Donepezil' AND e2.medication IN ('BuPROPion'))\\n\",\n \"(e1.medication = 'Doxercalciferol' AND e2.medication IN ('Vitamin D2','sucralfate','Paricalcitol','calcitriol','Vitamin D3'))\\n\",\n \"(e1.medication = 'DOXOrubicin' AND e2.medication IN ('amiodarone','gatifloxacin','Dofetilide','Droperidol','teriflunomide','Cabozantinib','Clozapine','haloperidol','ivabradine','Arsenic Trioxide','miFEPRIStone','Moxifloxacin','Efavirenz','leflunomide','methadone','vemurafenib','osimertinib','Thalidomide','crizotinib','fingolimod','ivosidenib','Chloroquine','Cladribine','Procainamide','nilotinib','sotalol','hydroxychloroquine','etanercept','Trastuzumab','ILOperidone','InFLIXimab','anagrelide','Citalopram','bedaquiline','adalimumab','pimozide','Dronedarone','dolasetron','tofacitinib'))\\n\",\n \"(e1.medication = 'dronabinol' AND e2.medication IN ('BuPROPion','traMADol','Buprenorphine'))\\n\",\n \"(e1.medication = 'Edoxaban' AND e2.medication IN ('erythromycin','Ruxolitinib ','Piroxicam','amiodarone','Midostaurin','TiCLOPIDINE','Prasugrel','tacrolimus','cobicistat','Tirofiban','dasatinib','Fondaparinux','Cabozantinib','Alteplase','miFEPRIStone','Heparin','treprostinil','Epoprostenol','Aspirin','vemurafenib','ibuprofen','cilostazol','Sulindac','Ibrutinib','nilotinib','abiraterone','ticagrelor','defibrotide','Abciximab','proGESTerone','Eptifibatide','Argatroban','anagrelide','acalabrutinib','indomethacin','ketoconazole','verapamil','Dronedarone','clopidogrel','Nabumetone','SORAfenib','meloxicam','simeprevir','Clarithromycin','apixaban','ketorolac','ulipristal','RITONAvir','daclatasvir','Dipyridamole','dalteparin','Itraconazole','alpelisib','naproxen','Ponatinib','GILTERITINIB','Bivalirudin','azithromycin','warfarin','crizotinib','felodipine','bromfenac','rivaroxaban','etodolac','ranolazine','enoxaparin','RifAMPin','CARVedilol','cycloSPORINE','Diltiazem','lapatinib','Spironolactone','deferasirox','cangrelor','atazanavir','nelFINavir','suvorexant'))\\n\",\n \"(e1.medication = 'Efavirenz' AND e2.medication IN ('erythromycin','lorlatinib','SORAfenib','tacrolimus','dasatinib','teriflunomide','Cabozantinib','Arsenic Trioxide','Sunitinib','venetoclax ','Isoproterenol','Oxytocin','encorafenib','PAZOPanib','DAUNOrubicin','GILTERITINIB','bosutinib','Eribulin','IDArubicin','leflunomide','FLUCONAZOLE','vemurafenib','osimertinib','ondansetron','crizotinib','Brigatinib','fingolimod','ivosidenib','Chloroquine','DOXOrubicin','doxepin','nilotinib','hydroxychloroquine','lapatinib','anagrelide','OXALIplatin','lenvatinib','axitinib','levofloxacin','Olaparib ','ketoconazole','palonosetron','dolasetron','granisetron','promethazine'))\\n\",\n \"(e1.medication = 'eltrombopag' AND e2.medication IN ('teriflunomide','Carfilzomib','Peginterferon Alfa-2a','leflunomide','Intron A'))\\n\",\n \"(e1.medication = 'Enasidenib' AND e2.medication IN ('rosuvastatin'))\\n\",\n \"(e1.medication = 'enoxaparin' AND e2.medication IN ('Ruxolitinib ','Piroxicam','TiCLOPIDINE','clopidogrel','Nabumetone','Prasugrel','meloxicam','Tirofiban','apixaban','ketorolac','dasatinib','Fondaparinux','Cabozantinib','Alteplase','miFEPRIStone','Heparin','treprostinil','Dipyridamole','dalteparin','Epoprostenol','naproxen','Ponatinib','Aspirin','Bivalirudin','warfarin','ibuprofen','cilostazol','bromfenac','rivaroxaban','etodolac','Sulindac','Ibrutinib','ticagrelor','defibrotide','Abciximab','Eptifibatide','Argatroban','anagrelide','Edoxaban','acalabrutinib','indomethacin','deferasirox','cangrelor'))\\n\",\n \"(e1.medication = 'entacapone' AND e2.medication IN ('procarbazine'))\\n\",\n \"(e1.medication = 'Enzalutamide' AND e2.medication IN ('lorlatinib','amiodarone','Midostaurin','gatifloxacin','nisoldipine','tacrolimus','cobicistat','dasatinib','Cabozantinib','Clozapine','ivabradine','haloperidol','amLODIPine','Arsenic Trioxide','miFEPRIStone','Sunitinib','Moxifloxacin','apremilast','Ixazomib','maraviroc','methadone','Tolvaptan','vemurafenib','Brigatinib','ivosidenib','palbociclib','Procainamide','Ibrutinib','nilotinib','BuPROPion','abiraterone','ticagrelor','everolimus','ILOperidone','anagrelide','traMADol','guanFACINE','acalabrutinib','doravirine','axitinib','naloxegol','Dronedarone','tofacitinib','Olaparib ','bortezomib','abemaciclib','isradipine','Dofetilide','Droperidol','simeprevir','idelalisib','apixaban','niMODipine','RITONAvir','duvelisib','venetoclax ','daclatasvir','rilpivirine','encorafenib','etravirine','alpelisib','sofosbuvir','bosutinib','praziquantel','oxyCODONE','BusPIRone','osimertinib','voxelotor','macitentan','crizotinib','NiCARdipine','fingolimod','Imatinib','felodipine','rivaroxaban','lurasidone','sotalol','ranolazine','QUEtiapine','NIFEdipine','Sirolimus','larotrectinib','Citalopram','fentaNYL','valbenazine','bedaquiline','pimozide','dolasetron','suvorexant'))\\n\",\n \"(e1.medication = 'EPINEPHrine' AND e2.medication IN ('Labetalol','nortriptyline','Nadolol','doxepin','linezolid','sotalol','timolol','protriptyline','CARVedilol','Imipramine','amitriptyline','ClomiPRAMINE','Desipramine','propranolol','Pindolol'))\\n\",\n \"(e1.medication = 'Epoprostenol' AND e2.medication IN ('rivaroxaban','apixaban','tiZANidine','dasatinib','Fondaparinux','Cabozantinib','Ibrutinib','enoxaparin','dalteparin','Ponatinib','Edoxaban','acalabrutinib','deferasirox'))\\n\",\n \"(e1.medication = 'Eptifibatide' AND e2.medication IN ('TiCLOPIDINE','warfarin','clopidogrel','Prasugrel','rivaroxaban','Tirofiban','apixaban','dasatinib','Fondaparinux','Cabozantinib','Ibrutinib','Alteplase','enoxaparin','defibrotide','Abciximab','Heparin','Dipyridamole','dalteparin','Argatroban','anagrelide','Ponatinib','Edoxaban','acalabrutinib','deferasirox','cangrelor'))\\n\",\n \"(e1.medication = 'Eribulin' AND e2.medication IN ('amiodarone','gatifloxacin','Dofetilide','Droperidol','teriflunomide','Cabozantinib','Clozapine','haloperidol','ivabradine','Arsenic Trioxide','miFEPRIStone','Moxifloxacin','Efavirenz','leflunomide','methadone','vemurafenib','osimertinib','crizotinib','fingolimod','ivosidenib','Chloroquine','Cladribine','Procainamide','nilotinib','sotalol','hydroxychloroquine','etanercept','ILOperidone','InFLIXimab','anagrelide','Citalopram','bedaquiline','adalimumab','pimozide','Dronedarone','dolasetron','tofacitinib'))\\n\",\n \"(e1.medication = 'ertapenem' AND e2.medication IN ('BuPROPion'))\\n\",\n \"(e1.medication = 'erythromycin' AND e2.medication IN ('simvastatin','amiodarone','gatifloxacin','Voriconazole','tacrolimus','cobicistat','dasatinib','teriflunomide','Cabozantinib','brexpiprazole','haloperidol','ivabradine','Arsenic Trioxide','miFEPRIStone','carBAMazepine','Moxifloxacin','PAZOPanib','indinavir','alfuzosin','methadone','eletriptan','vemurafenib','Atorvastatin','cabergoline','Brigatinib','Chloroquine','ivosidenib','cilostazol','Procainamide','Ibrutinib','nilotinib','nelFINavir','everolimus','ILOperidone','anagrelide','guanFACINE','acalabrutinib','axitinib','naloxegol','ketoconazole','Dronedarone','Olaparib ','lovastatin','Nefazodone','Dofetilide','Droperidol','simeprevir','Clarithromycin','idelalisib','colchicine','RITONAvir','venetoclax ','solifenacin','Itraconazole','encorafenib','Efavirenz','loperamide','bosutinib','pitavastatin','oxyCODONE','leflunomide','FLUCONAZOLE','osimertinib','macitentan','warfarin','crizotinib','fingolimod','fosamprenavir','lurasidone','sotalol','ranolazine','hydroxychloroquine','QUEtiapine','cycloSPORINE','Diltiazem','Eplerenone','sildenafil','Sirolimus','Edoxaban','Citalopram','fentaNYL','Posaconazole','bedaquiline','pimozide','dolasetron','verapamil','suvorexant'))\\n\",\n \"(e1.medication = 'esmolol' AND e2.medication IN ('theophylline','fingolimod','dolasetron'))\\n\",\n \"(e1.medication = 'Esomeprazole' AND e2.medication IN ('dasatinib','Citalopram','clopidogrel','erlotinib','rilpivirine','atazanavir','tacrolimus','nelFINavir','Methotrexate','PAZOPanib','acalabrutinib'))\\n\",\n \"(e1.medication = 'estradiol' AND e2.medication IN ('Thalidomide','tranexamic acid','Pomalidomide','Carfilzomib','LENALIDOMIDE'))\\n\",\n \"(e1.medication = 'eszopiclone' AND e2.medication IN ('morphine','ketoconazole','cobicistat','Clarithromycin','idelalisib'))\\n\",\n \"(e1.medication = 'etodolac' AND e2.medication IN ('warfarin','Prasugrel','tacrolimus','rivaroxaban','apixaban','dasatinib','teriflunomide','Fondaparinux','Cabozantinib','Ibrutinib','enoxaparin','everolimus','dalteparin','Sirolimus','Methotrexate','Ponatinib','acalabrutinib','Edoxaban','ioversol','deferasirox','leflunomide'))\\n\",\n \"(e1.medication = 'everolimus' AND e2.medication IN ('erythromycin','Piroxicam','Voriconazole','Amikacin','cobicistat','teriflunomide','miFEPRIStone','carBAMazepine','indinavir','CELECOXIB','foscarnet','ibuprofen','Sulindac','nelFINavir','Methotrexate','indomethacin','VANCOMYCIN','valACYclovir','ketoconazole','dexamethasone','adalimumab','Dronedarone','tofacitinib','Salsalate','Nefazodone','Nabumetone','meloxicam','Phenytoin','Rifabutin','Clarithromycin','Enzalutamide','idelalisib','ketorolac','CISplatin','bacitracin','RITONAvir','duvelisib','Itraconazole','naproxen','fosaprepitant','leflunomide','FLUCONAZOLE','acyclovir','voxelotor','primiDONE','crizotinib','gentamicin','Aprepitant','fingolimod','tobramycin','fosamprenavir','Imatinib','Cladribine','bromfenac','etodolac','telavancin','RifAMPin','etanercept','cycloSPORINE','Darunavir','lithium carbonate','Diltiazem','InFLIXimab','letermovir','ioversol','PHENobarbital','Fosphenytoin','Posaconazole','atazanavir','verapamil','amphotericin B'))\\n\",\n \"(e1.medication = 'exemestane' AND e2.medication IN ('Thalidomide'))\\n\",\n \"(e1.medication = 'Famotidine' AND e2.medication IN ('dasatinib','rilpivirine','atazanavir','PAZOPanib','tiZANidine'))\\n\",\n \"(e1.medication = 'Felbamate' AND e2.medication IN ('teriflunomide','leflunomide','Cladribine'))\\n\",\n \"(e1.medication = 'felodipine' AND e2.medication IN ('ketoconazole','Enzalutamide','dolasetron','Edoxaban','venetoclax '))\\n\",\n \"(e1.medication = 'fenofibrate' AND e2.medication IN ('rosuvastatin','warfarin','teriflunomide','simvastatin','leflunomide'))\\n\",\n \"(e1.medication = 'fentaNYL' AND e2.medication IN ('erythromycin','lorlatinib','ondansetron','crizotinib','Aprepitant','ivosidenib','cobicistat','Imatinib','Clarithromycin','Enzalutamide','idelalisib','procarbazine','dasatinib','naltrexone','doxepin','nilotinib','BuPROPion','lapatinib','clotrimazole','zafirlukast','Dabrafenib','alvimopan','morphine','ketoconazole','dexamethasone','palonosetron','dolasetron','granisetron','FLUCONAZOLE'))\\n\",\n \"(e1.medication = 'fidaxomicin' AND e2.medication IN ('venetoclax '))\\n\",\n \"(e1.medication = 'tbo-filgrastim' AND e2.medication IN ('Cladribine'))\\n\",\n \"(e1.medication = 'fingolimod' AND e2.medication IN ('erythromycin','Ruxolitinib ','Obinutuzumab','amiodarone','Midostaurin','Brentuximab Vedotin','tacrolimus','dupilumab','Belatacept','Mechlorethamine','abatacept','Daratumumab','nortriptyline','Clozapine','Arsenic Trioxide','miFEPRIStone','Oxytocin','Pomalidomide','PAZOPanib','Eribulin','Carmustine','alfuzosin','Flutamide','Ixazomib','Clofazimine ','hydroxyurea','IDArubicin','Basiliximab','methadone','nebivolol','vemurafenib','ondansetron','ivosidenib','Chloroquine','budesonide','palbociclib','Procainamide','Methylprednisolone','Ibrutinib','vedolizumab','ASENapine','azaTHIOprine','bicalutamide','everolimus','ILOperidone','Fluphenazine','Acebutolol','traMADol','venlafaxine','Prednisone','acalabrutinib','Cytarabine','Axicabtagene Ciloleucel','palonosetron','Dronedarone','granisetron','Olaparib ','tetrabenazine','bortezomib','abemaciclib','SORAfenib','Droperidol','Clarithromycin','Enzalutamide','idelalisib','tiZANidine','Atezolizumab','Busulfan','Zidovudine','timolol','HydrOXYzine','Pralatrexate','capecitabine','mitoXANTRONE','RISperidone','FLUoxetine','Digoxin','fludrocortisone','Efavirenz','TEMOZOLOMIDE','Gemcitabine','bosutinib','lisdexamfetamine','Chlorambucil','leflunomide','FLUCONAZOLE','riTUXimab','azaCITIDine','crizotinib','Clofarabine','sertraline','Cladribine','Intron A','telavancin','linezolid','Prednisolone','hydroxychloroquine','DACTINomycin','Buprenorphine','cycloSPORINE','Peginterferon Alfa-2a','deutetrabenazine','InFLIXimab','amitriptyline','Sirolimus','lenvatinib','Citalopram','Pegaspargase','bedaquiline','propranolol','pimozide','propafenone','dolasetron','verapamil','ciprofloxacin','promethazine','Melphalan','thioguanine','gatifloxacin','Voriconazole','PEMEtrexed','procarbazine','Pentostatin','dasatinib','teriflunomide','Cabozantinib','haloperidol','Cabazitaxel','Sunitinib','Dacarbazine','anakinra','Cyclophosphamide','Elotuzumab','cosyntropin','Moxifloxacin','DAUNOrubicin','Alemtuzumab','pimavanserin','esmolol','Mitomycin','Pindolol','Labetalol','Thalidomide','foscarnet','Brigatinib','betaxolol','Thiotepa','DOXOrubicin','cilostazol','Bleomycin','Decitabine','nilotinib','abiraterone','BENDAmustine','ustekinumab','Imipramine','Trastuzumab','perphenazine','anagrelide','atenolol','Methotrexate','lomustine','Prochlorperazine','dexamethasone','adalimumab','tofacitinib','Anti-Thymocyte Globulin (Rabbit)','nilutamide','Dofetilide','CARBOplatin','CISplatin','tocilizumab','duvelisib','venetoclax ','atomoxetine','TraZODone','solifenacin','rilpivirine','dimethyl fumarate','Blinatumomab','encorafenib','Ponatinib','GILTERITINIB','Ifosfamide','ClomiPRAMINE','chlorproMAZINE','Desipramine','mycophenolate mofetil','Aldesleukin','LENALIDOMIDE','osimertinib','azithromycin','Vasopressin','Imatinib','Streptozocin','fluorouracil','Nadolol','doxepin','sotalol','ranolazine','protriptyline','CARVedilol','QUEtiapine','etanercept','lithium carbonate','Diltiazem','hydrocorTISone','lapatinib','ofloxacin','OXALIplatin','levofloxacin','flecainide','valbenazine','Posaconazole','Etoposide','mercaptopurine','Carfilzomib'))\\n\",\n \"(e1.medication = 'flecainide' AND e2.medication IN ('osimertinib','crizotinib','fingolimod','ivosidenib','Chloroquine','cobicistat','Cabozantinib','Arsenic Trioxide','nilotinib','hydroxychloroquine','anagrelide','dolasetron','vemurafenib'))\\n\",\n \"(e1.medication = 'FLUCONAZOLE' AND e2.medication IN ('erythromycin','Ruxolitinib ','simvastatin','amiodarone','gatifloxacin','tacrolimus','teriflunomide','Cabozantinib','brexpiprazole','Clozapine','haloperidol','ivabradine','Arsenic Trioxide','miFEPRIStone','Moxifloxacin','methadone','glimepiride','vemurafenib','Atorvastatin','Brigatinib','Chloroquine','ivosidenib','cilostazol','Procainamide','TRIAzolam','Ibrutinib','nilotinib','everolimus','ILOperidone','anagrelide','guanFACINE','acalabrutinib','midazolam','naloxegol','Dronedarone','tofacitinib','Olaparib ','clopidogrel','lovastatin','Dofetilide','Droperidol','Phenytoin','simeprevir','colchicine','Retinoic Acid','venetoclax ','encorafenib','Efavirenz','bosutinib','ALPRAZolam','oxyCODONE','leflunomide','osimertinib','voxelotor','warfarin','crizotinib','fingolimod','lurasidone','glyBURIDE','sotalol','ranolazine','hydroxychloroquine','RifAMPin','glipiZIDE','Eplerenone','Sirolimus','Citalopram','fentaNYL','Fosphenytoin','bedaquiline','pimozide','dolasetron','suvorexant'))\\n\",\n \"(e1.medication = 'Flumazenil' AND e2.medication IN ('nortriptyline','Desipramine','amitriptyline','doxepin','protriptyline','ClomiPRAMINE','Imipramine'))\\n\",\n \"(e1.medication = 'fluorouracil' AND e2.medication IN ('FoLIC Acid','Thalidomide','warfarin','fingolimod','Cladribine','teriflunomide','Clozapine','Leucovorin','etanercept','InFLIXimab','L-Methylfolate','adalimumab','Mitomycin','leflunomide','tofacitinib'))\\n\",\n \"(e1.medication = 'Fluphenazine' AND e2.medication IN ('osimertinib','Potassium Citrate','crizotinib','fingolimod','ivosidenib','Chloroquine','metoCLOPramide','Cabozantinib','Arsenic Trioxide','nilotinib','BuPROPion','hydroxychloroquine','anagrelide','morphine','methimazole','Propylthiouracil','dolasetron','Potassium Chloride','vemurafenib'))\\n\",\n \"(e1.medication = 'Flutamide' AND e2.medication IN ('osimertinib','amiodarone','crizotinib','gatifloxacin','fingolimod','ivosidenib','Dofetilide','Droperidol','Procainamide','teriflunomide','Cabozantinib','Clozapine','ivabradine','haloperidol','Arsenic Trioxide','nilotinib','miFEPRIStone','sotalol','ILOperidone','anagrelide','Moxifloxacin','Citalopram','bedaquiline','pimozide','Dronedarone','dolasetron','leflunomide','methadone','vemurafenib'))\\n\",\n \"(e1.medication = 'fluticasone' AND e2.medication IN ('Voriconazole','Nefazodone','fosamprenavir','Itraconazole','cobicistat','Cladribine','Clarithromycin','idelalisib','indinavir','ketoconazole','Posaconazole','atazanavir','miFEPRIStone','RITONAvir','nelFINavir'))\\n\",\n \"(e1.medication = 'fluvoxaMINE' AND e2.medication IN ('ondansetron','clopidogrel','alosetron','phentermine','cilostazol','procarbazine','doxepin','BuPROPion','theophylline','pirfenidone','palonosetron','dolasetron','granisetron'))\\n\",\n \"(e1.medication = 'Fondaparinux' AND e2.medication IN ('Ruxolitinib ','Piroxicam','TiCLOPIDINE','clopidogrel','Nabumetone','Prasugrel','meloxicam','Tirofiban','apixaban','ketorolac','dasatinib','Cabozantinib','Alteplase','miFEPRIStone','Heparin','treprostinil','Dipyridamole','dalteparin','Epoprostenol','naproxen','Ponatinib','Aspirin','Bivalirudin','warfarin','ibuprofen','cilostazol','bromfenac','rivaroxaban','etodolac','Sulindac','Ibrutinib','ticagrelor','defibrotide','enoxaparin','Abciximab','Eptifibatide','Argatroban','anagrelide','acalabrutinib','Edoxaban','indomethacin','deferasirox','cangrelor'))\\n\",\n \"(e1.medication = 'fosaprepitant' AND e2.medication IN ('everolimus','Brigatinib','ivosidenib','encorafenib','cilostazol','acalabrutinib','bosutinib','naloxegol','Ibrutinib','Olaparib ','venetoclax '))\\n\",\n \"(e1.medication = 'Fosphenytoin' AND e2.medication IN ('osimertinib','abemaciclib','lorlatinib','Midostaurin','crizotinib','Brigatinib','ivosidenib','tacrolimus','cobicistat','Imatinib','palbociclib','rivaroxaban','apixaban','idelalisib','dasatinib','bortezomib','teriflunomide','Cabozantinib','Ibrutinib','nilotinib','abiraterone','Sunitinib','ticagrelor','venetoclax ','everolimus','encorafenib','alpelisib','larotrectinib','acalabrutinib','GILTERITINIB','Sirolimus','cimetidine','axitinib','apremilast','bosutinib','naloxegol','Ixazomib','praziquantel','leflunomide','tofacitinib','Olaparib ','FLUCONAZOLE','vemurafenib'))\\n\",\n \"(e1.medication = 'galantamine' AND e2.medication IN ('BuPROPion'))\\n\",\n \"(e1.medication = 'gemfibrozil' AND e2.medication IN ('pioglitazone','simvastatin','selexipag','loperamide','warfarin','repaglinide','rosuvastatin'))\\n\",\n \"(e1.medication = 'gentamicin' AND e2.medication IN ('foscarnet','tacrolimus','Magnesium Sulfate','bacitracin','everolimus','Mannitol','Sirolimus','onabotulinumtoxinA','ioversol','Succinylcholine','Cidofovir','deferasirox','rocuronium','furosemide','Ethacrynic Acid','Bumetanide','torsemide'))\\n\",\n \"(e1.medication = 'glimepiride' AND e2.medication IN ('gatifloxacin','ofloxacin','Voriconazole','Moxifloxacin','levofloxacin','FLUCONAZOLE','ciprofloxacin'))\\n\",\n \"(e1.medication = 'glipiZIDE' AND e2.medication IN ('gatifloxacin','ofloxacin','Voriconazole','ciprofloxacin','Moxifloxacin','levofloxacin','FLUCONAZOLE'))\\n\",\n \"(e1.medication = 'guanFACINE' AND e2.medication IN ('erythromycin','lorlatinib','crizotinib','Aprepitant','cobicistat','Dabrafenib','Imatinib','Clarithromycin','Enzalutamide','idelalisib','ketoconazole','dexamethasone','FLUCONAZOLE'))\\n\",\n \"(e1.medication = 'haloperidol' AND e2.medication IN ('erythromycin','Midostaurin','tacrolimus','dasatinib','Cabozantinib','Arsenic Trioxide','Sunitinib','Oxytocin','PAZOPanib','DAUNOrubicin','morphine','Eribulin','Flutamide','IDArubicin','vemurafenib','ondansetron','ivosidenib','Chloroquine','DOXOrubicin','cilostazol','nilotinib','BuPROPion','abiraterone','bicalutamide','anagrelide','ketoconazole','palonosetron','granisetron','nilutamide','SORAfenib','Clarithromycin','Enzalutamide','Isoproterenol','encorafenib','GILTERITINIB','bosutinib','FLUCONAZOLE','osimertinib','crizotinib','fingolimod','metoCLOPramide','doxepin','hydroxychloroquine','lapatinib','OXALIplatin','lenvatinib','levofloxacin','dolasetron','promethazine'))\\n\",\n \"(e1.medication = 'hydrocorTISone' AND e2.medication IN ('amiodarone','Thalidomide','gatifloxacin','fingolimod','Dofetilide','Droperidol','Cladribine','teriflunomide','Arsenic Trioxide','miFEPRIStone','BuPROPion','etanercept','ofloxacin','InFLIXimab','Moxifloxacin','deferasirox','levofloxacin','adalimumab','pimozide','Dronedarone','leflunomide','tofacitinib','ciprofloxacin'))\\n\",\n \"(e1.medication = 'HYDROmorphone' AND e2.medication IN ('morphine','naltrexone','BuPROPion','alvimopan','procarbazine'))\\n\",\n \"(e1.medication = 'hydroxyurea' AND e2.medication IN ('Thalidomide','fingolimod','Cladribine','teriflunomide','Clozapine','didanosine','etanercept','InFLIXimab','adalimumab','leflunomide','tofacitinib'))\\n\",\n \"(e1.medication = 'HydrOXYzine' AND e2.medication IN ('osimertinib','Potassium Citrate','crizotinib','fingolimod','ivosidenib','Chloroquine','Cabozantinib','Arsenic Trioxide','nilotinib','hydroxychloroquine','anagrelide','morphine','dolasetron','Potassium Chloride','vemurafenib'))\\n\",\n \"(e1.medication = 'Ibrutinib' AND e2.medication IN ('erythromycin','Ruxolitinib ','Piroxicam','TiCLOPIDINE','Voriconazole','Prasugrel','cobicistat','Tirofiban','dasatinib','Fondaparinux','teriflunomide','Cabozantinib','Clozapine','Alteplase','Heparin','treprostinil','carBAMazepine','Epoprostenol','indinavir','Aspirin','ibuprofen','cilostazol','Sulindac','ticagrelor','defibrotide','Abciximab','Eptifibatide','Argatroban','anagrelide','acalabrutinib','indomethacin','ketoconazole','adalimumab','verapamil','Dronedarone','tofacitinib','clopidogrel','Nefazodone','Nabumetone','meloxicam','Phenytoin','Rifabutin','binimetinib','Clarithromycin','Enzalutamide','idelalisib','apixaban','ketorolac','RITONAvir','duvelisib','venetoclax ','Dipyridamole','dalteparin','Itraconazole','encorafenib','naproxen','Ponatinib','fosaprepitant','leflunomide','FLUCONAZOLE','Bivalirudin','warfarin','crizotinib','Aprepitant','fingolimod','fosamprenavir','Imatinib','Cladribine','bromfenac','vitamin E','rivaroxaban','etodolac','enoxaparin','RifAMPin','etanercept','Darunavir','Diltiazem','InFLIXimab','Edoxaban','deferasirox','PHENobarbital','cangrelor','Fosphenytoin','Posaconazole','atazanavir','nelFINavir','ciprofloxacin'))\\n\",\n \"(e1.medication = 'ibuprofen' AND e2.medication IN ('warfarin','Prasugrel','tacrolimus','rivaroxaban','apixaban','ketorolac','dasatinib','teriflunomide','Fondaparinux','Cabozantinib','Ibrutinib','enoxaparin','everolimus','lithium carbonate','dalteparin','Sirolimus','Methotrexate','Ponatinib','acalabrutinib','Edoxaban','ioversol','Cidofovir','Aspirin','deferasirox','leflunomide'))\\n\",\n \"(e1.medication = 'IDArubicin' AND e2.medication IN ('amiodarone','gatifloxacin','Dofetilide','Droperidol','teriflunomide','Cabozantinib','Clozapine','haloperidol','ivabradine','Arsenic Trioxide','miFEPRIStone','Moxifloxacin','Efavirenz','leflunomide','methadone','vemurafenib','osimertinib','Thalidomide','crizotinib','fingolimod','ivosidenib','Chloroquine','Cladribine','Procainamide','nilotinib','sotalol','hydroxychloroquine','etanercept','Trastuzumab','ILOperidone','InFLIXimab','anagrelide','Citalopram','bedaquiline','adalimumab','pimozide','Dronedarone','dolasetron','tofacitinib'))\\n\",\n \"(e1.medication = 'Ifosfamide' AND e2.medication IN ('Thalidomide','fingolimod','Thiotepa','Cladribine','teriflunomide','Clozapine','etanercept','InFLIXimab','ioversol','Cidofovir','adalimumab','leflunomide','tofacitinib'))\\n\",\n \"(e1.medication = 'indomethacin' AND e2.medication IN ('warfarin','Prasugrel','tacrolimus','rivaroxaban','apixaban','dasatinib','Fondaparinux','teriflunomide','Cabozantinib','Ibrutinib','enoxaparin','everolimus','dalteparin','Sirolimus','Methotrexate','Ponatinib','acalabrutinib','Edoxaban','ioversol','deferasirox','leflunomide'))\\n\",\n \"(e1.medication = 'insulin degludec' AND e2.medication IN ('gatifloxacin','levofloxacin','ofloxacin','Moxifloxacin','ciprofloxacin'))\\n\",\n \"(e1.medication = 'insulin glargine' AND e2.medication IN ('gatifloxacin','levofloxacin','ofloxacin','Moxifloxacin','ciprofloxacin'))\\n\",\n \"(e1.medication = 'interferon beta-1a' AND e2.medication IN ('teriflunomide','Zidovudine','BuPROPion','traMADol','leflunomide'))\\n\",\n \"(e1.medication = 'interferon beta-1b' AND e2.medication IN ('teriflunomide','Zidovudine','BuPROPion','traMADol','leflunomide'))\\n\",\n \"(e1.medication = 'iron' AND e2.medication IN ('dolutegravir'))\\n\",\n \"(e1.medication = 'Isoproterenol' AND e2.medication IN ('osimertinib','amiodarone','crizotinib','gatifloxacin','ivosidenib','Dofetilide','Droperidol','Procainamide','Cabozantinib','Clozapine','haloperidol','Arsenic Trioxide','nilotinib','miFEPRIStone','ILOperidone','anagrelide','Moxifloxacin','Efavirenz','Citalopram','bedaquiline','pimozide','Dronedarone','dolasetron','methadone','vemurafenib'))\\n\",\n \"(e1.medication = 'Itraconazole' AND e2.medication IN ('erythromycin','Ruxolitinib ','abemaciclib','lorlatinib','Midostaurin','simvastatin','tacrolimus','apixaban','dasatinib','teriflunomide','Cabozantinib','Retinoic Acid','venetoclax ','encorafenib','PAZOPanib','Ponatinib','GILTERITINIB','bosutinib','loperamide','fluticasone','leflunomide','osimertinib','crizotinib','Brigatinib','ivosidenib','budesonide','cilostazol','palbociclib','rivaroxaban','Methylprednisolone','Ibrutinib','nilotinib','ticagrelor','everolimus','cycloSPORINE','lapatinib','Sirolimus','larotrectinib','acalabrutinib','Edoxaban','axitinib','naloxegol','salmeterol','tofacitinib','Olaparib '))\\n\",\n \"(e1.medication = 'ivabradine' AND e2.medication IN ('erythromycin','nilutamide','Midostaurin','SORAfenib','tacrolimus','cobicistat','Clarithromycin','Enzalutamide','idelalisib','dasatinib','Cabozantinib','Arsenic Trioxide','Sunitinib','Oxytocin','encorafenib','PAZOPanib','DAUNOrubicin','GILTERITINIB','Eribulin','bosutinib','Flutamide','IDArubicin','FLUCONAZOLE','clotrimazole','vemurafenib','osimertinib','ondansetron','crizotinib','Aprepitant','ivosidenib','Chloroquine','Imatinib','DOXOrubicin','cilostazol','doxepin','nilotinib','abiraterone','hydroxychloroquine','bicalutamide','lapatinib','anagrelide','OXALIplatin','lenvatinib','levofloxacin','ketoconazole','palonosetron','dolasetron','granisetron','promethazine'))\\n\",\n \"(e1.medication = 'Ixazomib' AND e2.medication IN ('primiDONE','fingolimod','Phenytoin','Rifabutin','Cladribine','Enzalutamide','teriflunomide','Clozapine','RifAMPin','etanercept','carBAMazepine','InFLIXimab','PHENobarbital','Fosphenytoin','adalimumab','leflunomide','tofacitinib'))\\n\",\n \"(e1.medication = 'ketoconazole' AND e2.medication IN ('erythromycin','Ruxolitinib ','lorlatinib','amiodarone','Midostaurin','gatifloxacin','simvastatin','tamsulosin','nisoldipine','tacrolimus','dasatinib','teriflunomide','Cabozantinib','brexpiprazole','Clozapine','ivabradine','haloperidol','Arsenic Trioxide','miFEPRIStone','Moxifloxacin','PAZOPanib','pimavanserin','alfuzosin','fesoterodine','maraviroc','methadone','eletriptan','Tolvaptan','vemurafenib','Atorvastatin','Brigatinib','ivosidenib','Chloroquine','budesonide','cilostazol','palbociclib','Procainamide','Methylprednisolone','TRIAzolam','Ibrutinib','nilotinib','ticagrelor','everolimus','ILOperidone','anagrelide','guanFACINE','acalabrutinib','midazolam','axitinib','naloxegol','eszopiclone','Dronedarone','tofacitinib','riociguat','Olaparib ','abemaciclib','lovastatin','Dofetilide','Droperidol','simeprevir','silodosin','Rifabutin','cariprazine','apixaban','niMODipine','colchicine','RITONAvir','Retinoic Acid','duvelisib','venetoclax ','daclatasvir','solifenacin','encorafenib','Ponatinib','GILTERITINIB','Efavirenz','bosutinib','loperamide','ALPRAZolam','fluticasone','oxyCODONE','leflunomide','osimertinib','voxelotor','macitentan','crizotinib','felodipine','rivaroxaban','vilazodone','lurasidone','sotalol','ranolazine','hydroxychloroquine','RifAMPin','QUEtiapine','cycloSPORINE','lapatinib','Eplerenone','sildenafil','Sirolimus','larotrectinib','Edoxaban','Citalopram','fentaNYL','valbenazine','salmeterol','bedaquiline','darifenacin','pimozide','dolasetron','suvorexant'))\\n\",\n \"(e1.medication = 'ketorolac' AND e2.medication IN ('warfarin','ibuprofen','Prasugrel','tacrolimus','rivaroxaban','apixaban','dasatinib','Fondaparinux','teriflunomide','Cabozantinib','Ibrutinib','pentoxifylline','enoxaparin','everolimus','dalteparin','Sirolimus','Methotrexate','Ponatinib','acalabrutinib','Edoxaban','ioversol','Aspirin','deferasirox','CELECOXIB','leflunomide'))\\n\",\n \"(e1.medication = 'LACOSamide' AND e2.medication IN ('dolasetron'))\\n\",\n \"(e1.medication = 'Lansoprazole' AND e2.medication IN ('dasatinib','Citalopram','erlotinib','rilpivirine','atazanavir','tacrolimus','nelFINavir','cilostazol','Methotrexate','PAZOPanib','acalabrutinib'))\\n\",\n \"(e1.medication = 'lapatinib' AND e2.medication IN ('amiodarone','gatifloxacin','Voriconazole','Nefazodone','Dofetilide','Droperidol','cobicistat','Clarithromycin','idelalisib','teriflunomide','Cabozantinib','Clozapine','ivabradine','colchicine','haloperidol','Arsenic Trioxide','miFEPRIStone','RITONAvir','venetoclax ','Digoxin','Itraconazole','Moxifloxacin','PAZOPanib','indinavir','Efavirenz','loperamide','leflunomide','methadone','vemurafenib','osimertinib','crizotinib','fingolimod','fosamprenavir','ivosidenib','Chloroquine','Procainamide','nilotinib','sotalol','ranolazine','hydroxychloroquine','ILOperidone','anagrelide','Edoxaban','Citalopram','fentaNYL','Posaconazole','ketoconazole','bedaquiline','atazanavir','pimozide','Dronedarone','dolasetron','nelFINavir'))\\n\",\n \"(e1.medication = 'LENALIDOMIDE' AND e2.medication IN ('pravastatin','simvastatin','Atorvastatin','lovastatin','fingolimod','estradiol','Cladribine','epoetin alfa','Atezolizumab','teriflunomide','PEMBROlizumab','Clozapine','etanercept','InFLIXimab','rosuvastatin','raloxifene','pitavastatin','adalimumab','Nivolumab','leflunomide','tofacitinib'))\\n\",\n \"(e1.medication = 'letermovir' AND e2.medication IN ('everolimus','simvastatin','cycloSPORINE','Brigatinib','ivosidenib','tacrolimus','cilostazol','Sirolimus','acalabrutinib','bosutinib','naloxegol','Olaparib ','venetoclax '))\\n\",\n \"(e1.medication = 'levodopa' AND e2.medication IN ('procarbazine'))\\n\",\n \"(e1.medication = 'levonorgestrel' AND e2.medication IN ('tranexamic acid','Carfilzomib','Brigatinib','encorafenib','acitretin','Sugammadex','Dabrafenib'))\\n\",\n \"(e1.medication = 'loperamide' AND e2.medication IN ('erythromycin','amiodarone','clopidogrel','Voriconazole','Nefazodone','fosamprenavir','tacrolimus','cobicistat','Clarithromycin','idelalisib','nelFINavir','abiraterone','RITONAvir','cycloSPORINE','lapatinib','Diltiazem','Spironolactone','Itraconazole','Ranitidine','indinavir','cimetidine','gemfibrozil','ketoconazole','Posaconazole','atazanavir','Dronedarone','verapamil'))\\n\",\n \"(e1.medication = 'LORazepam' AND e2.medication IN ('morphine'))\\n\",\n \"(e1.medication = 'lorlatinib' AND e2.medication IN ('Voriconazole','Nefazodone','Phenytoin','cobicistat','Rifabutin','Clarithromycin','Enzalutamide','idelalisib','modafinil','RITONAvir','venetoclax ','neVIRapine','daclatasvir','carBAMazepine','Itraconazole','encorafenib','Dabrafenib','etravirine','indinavir','Efavirenz','bosutinib','sofosbuvir','oxyCODONE','methadone','voxelotor','primiDONE','Brigatinib','Nafcillin','eslicarbazepine','bosentan','nelFINavir','ranolazine','RifAMPin','guanFACINE','doravirine','axitinib','PHENobarbital','Fosphenytoin','fentaNYL','ketoconazole','dexamethasone','bedaquiline','Posaconazole','atazanavir','Olaparib '))\\n\",\n \"(e1.medication = 'lurasidone' AND e2.medication IN ('erythromycin','crizotinib','Aprepitant','cobicistat','Imatinib','Clarithromycin','Enzalutamide','idelalisib','metoCLOPramide','morphine','ketoconazole','BuPROPion','FLUCONAZOLE'))\\n\",\n \"(e1.medication = 'magnesium chloride' AND e2.medication IN ('dolutegravir'))\\n\",\n \"(e1.medication = 'magnesium citrate' AND e2.medication IN ('dolutegravir'))\\n\",\n \"(e1.medication = 'magnesium oxide' AND e2.medication IN ('dolutegravir'))\\n\",\n \"(e1.medication = 'Mechlorethamine' AND e2.medication IN ('Thalidomide','fingolimod','Thiotepa','Cladribine','teriflunomide','Clozapine','etanercept','InFLIXimab','adalimumab','leflunomide','tofacitinib'))\\n\",\n \"(e1.medication = 'MedroxyPROGESTERone Acetate' AND e2.medication IN ('tranexamic acid','Brigatinib','fosamprenavir','mycophenolate mofetil','bosentan','encorafenib','Sugammadex','Dabrafenib','acitretin'))\\n\",\n \"(e1.medication = 'meloxicam' AND e2.medication IN ('warfarin','Prasugrel','tacrolimus','rivaroxaban','apixaban','dasatinib','teriflunomide','Fondaparinux','Cabozantinib','Ibrutinib','enoxaparin','everolimus','dalteparin','Sirolimus','Methotrexate','Ponatinib','acalabrutinib','Edoxaban','ioversol','deferasirox','leflunomide'))\\n\",\n \"(e1.medication = 'Melphalan' AND e2.medication IN ('Thalidomide','fingolimod','Thiotepa','Cladribine','teriflunomide','Clozapine','etanercept','InFLIXimab','adalimumab','leflunomide','tofacitinib'))\\n\",\n \"(e1.medication = 'meprobamate' AND e2.medication IN ('morphine'))\\n\",\n \"(e1.medication = 'Meropenem' AND e2.medication IN ('BuPROPion'))\\n\",\n \"(e1.medication = 'mesalamine' AND e2.medication IN ('tacrolimus','Sirolimus','ioversol','Cidofovir','deferasirox'))\\n\",\n \"(e1.medication = 'metaxalone' AND e2.medication IN ('morphine','teriflunomide','leflunomide'))\\n\",\n \"(e1.medication = 'methazolAMIDE' AND e2.medication IN ('Arsenic Trioxide','metFORMIN','Aspirin'))\\n\",\n \"(e1.medication = 'Methocarbamol' AND e2.medication IN ('morphine'))\\n\",\n \"(e1.medication = 'Methotrexate' AND e2.medication IN ('Piroxicam','tacrolimus','teriflunomide','Clozapine','Oxacillin','Trimethoprim','Aspirin','Thalidomide','ibuprofen','acitretin','Nafcillin','Sulindac','everolimus','Omeprazole','ampicillin','indomethacin','DiCLOXacillin','Cidofovir','Esomeprazole','adalimumab','tofacitinib','Bismuth Subsalicylate','Salsalate','Nabumetone','meloxicam','Probenecid','ketorolac','Pantoprazole','naproxen','leflunomide','fingolimod','Cladribine','bromfenac','etodolac','dexlansoprazole','etanercept','InFLIXimab','Sirolimus','ioversol','RABEprazole','deferasirox','amoxicillin','Lansoprazole'))\\n\",\n \"(e1.medication = 'Methyldopa' AND e2.medication IN ('teriflunomide','procarbazine','leflunomide'))\\n\",\n \"(e1.medication = 'metoCLOPramide' AND e2.medication IN ('OLANZapine','Droperidol','cariprazine','brexpiprazole','lurasidone','Clozapine','haloperidol','BuPROPion','ASENapine','QUEtiapine','deutetrabenazine','ILOperidone','RISperidone','Fluphenazine','perphenazine','traMADol','ARIPiprazole','chlorproMAZINE','Prochlorperazine','Thiothixene','pimozide','promethazine','tetrabenazine'))\\n\",\n \"(e1.medication = 'MetroNIDAZOLE' AND e2.medication IN ('Disulfiram','warfarin','Busulfan'))\\n\",\n \"(e1.medication = 'minocycline' AND e2.medication IN ('teriflunomide','vitamin A','Retinoic Acid','acitretin','leflunomide'))\\n\",\n \"(e1.medication = 'Minoxidil' AND e2.medication IN ('tiZANidine'))\\n\",\n \"(e1.medication = 'mirabegron' AND e2.medication IN ('venetoclax '))\\n\",\n \"(e1.medication = 'Mitomycin' AND e2.medication IN ('Thalidomide','fingolimod','Cladribine','teriflunomide','Clozapine','fluorouracil','etanercept','InFLIXimab','adalimumab','leflunomide','tofacitinib'))\\n\",\n \"(e1.medication = 'mitoXANTRONE' AND e2.medication IN ('Thalidomide','fingolimod','Cladribine','teriflunomide','Clozapine','etanercept','InFLIXimab','adalimumab','dolasetron','leflunomide','tofacitinib'))\\n\",\n \"(e1.medication = 'modafinil' AND e2.medication IN ('lorlatinib','axitinib','bosutinib','Brigatinib','encorafenib','Olaparib ','venetoclax '))\\n\",\n \"(e1.medication = 'morphine' AND e2.medication IN ('temazepam','diazePAM','meperidine','OLANZapine','procarbazine','naltrexone','brexpiprazole','Clozapine','haloperidol','Oxazepam','HYDROmorphone','alvimopan','pimavanserin','pregabalin','methadone','dantrolene','estazolam','clobazam','clonazePAM','zolpidem','metaxalone','TRIAzolam','BuPROPion','ASENapine','ILOperidone','Cyclobenzaprine','chloral hydrate','Fluphenazine','perphenazine','traMADol','eszopiclone','Thiothixene','tapentadol','baclofen','Droperidol','ramelteon','cariprazine','tiZANidine','Gabapentin','HydrOXYzine','ChlordiazePOXIDE','RISperidone','meprobamate','rasagiline','oxyMORphone','chlorproMAZINE','ALPRAZolam','Methocarbamol','oxyCODONE','carisoprodoL','BusPIRone','LORazepam','primiDONE','lurasidone','linezolid','zaleplon','Buprenorphine','QUEtiapine','ARIPiprazole','PHENobarbital','fentaNYL','pimozide','suvorexant'))\\n\",\n \"(e1.medication = 'mycophenolate mofetil' AND e2.medication IN ('etanercept','fingolimod','InFLIXimab','MedroxyPROGESTERone Acetate','Cladribine','teriflunomide','adalimumab','leflunomide','tofacitinib'))\\n\",\n \"(e1.medication = 'Nabumetone' AND e2.medication IN ('warfarin','Prasugrel','tacrolimus','rivaroxaban','apixaban','dasatinib','Fondaparinux','teriflunomide','Cabozantinib','Ibrutinib','enoxaparin','everolimus','dalteparin','Sirolimus','Methotrexate','Ponatinib','acalabrutinib','Edoxaban','ioversol','deferasirox','leflunomide'))\\n\",\n \"(e1.medication = 'Nafcillin' AND e2.medication IN ('lorlatinib','warfarin','Brigatinib','encorafenib','Methotrexate','axitinib','bosutinib','Olaparib ','venetoclax '))\\n\",\n \"(e1.medication = 'naltrexone' AND e2.medication IN ('meperidine','Droperidol','teriflunomide','methadone','Buprenorphine','HYDROmorphone','traMADol','oxyMORphone','morphine','fentaNYL','oxyCODONE','tapentadol','leflunomide'))\\n\",\n \"(e1.medication = 'naproxen' AND e2.medication IN ('warfarin','Prasugrel','tacrolimus','rivaroxaban','apixaban','dasatinib','teriflunomide','Fondaparinux','Cabozantinib','Ibrutinib','enoxaparin','everolimus','dalteparin','Sirolimus','Methotrexate','Ponatinib','acalabrutinib','Edoxaban','ioversol','deferasirox','leflunomide'))\\n\",\n \"(e1.medication = 'naratriptan' AND e2.medication IN ('ondansetron','procarbazine','palonosetron','dolasetron','granisetron'))\\n\",\n \"(e1.medication = 'Nateglinide' AND e2.medication IN ('gatifloxacin','levofloxacin','ofloxacin','Moxifloxacin','ciprofloxacin'))\\n\",\n \"(e1.medication = 'nebivolol' AND e2.medication IN ('theophylline','fingolimod','dolasetron'))\\n\",\n \"(e1.medication = 'nelFINavir' AND e2.medication IN ('erythromycin','Ruxolitinib ','lorlatinib','simvastatin','Midostaurin','tacrolimus','dasatinib','Cabozantinib','PAZOPanib','Brigatinib','ivosidenib','budesonide','cilostazol','palbociclib','Methylprednisolone','Ibrutinib','nilotinib','ticagrelor','everolimus','Omeprazole','acalabrutinib','axitinib','naloxegol','Esomeprazole','tofacitinib','Olaparib ','abemaciclib','apixaban','Pantoprazole','venetoclax ','rosuvastatin','encorafenib','Ponatinib','GILTERITINIB','loperamide','bosutinib','fluticasone','osimertinib','crizotinib','rivaroxaban','dexlansoprazole','cycloSPORINE','lapatinib','Sirolimus','larotrectinib','Edoxaban','RABEprazole','Lansoprazole','salmeterol'))\\n\",\n \"(e1.medication = 'Neostigmine' AND e2.medication IN ('BuPROPion'))\\n\",\n \"(e1.medication = 'NIFEdipine' AND e2.medication IN ('dolasetron','Enzalutamide','venetoclax '))\\n\",\n \"(e1.medication = 'nilutamide' AND e2.medication IN ('osimertinib','amiodarone','crizotinib','gatifloxacin','fingolimod','ivosidenib','Dofetilide','Droperidol','Procainamide','teriflunomide','Cabozantinib','Clozapine','ivabradine','haloperidol','Arsenic Trioxide','nilotinib','miFEPRIStone','sotalol','ILOperidone','anagrelide','Moxifloxacin','Citalopram','bedaquiline','pimozide','Dronedarone','dolasetron','leflunomide','methadone','vemurafenib'))\\n\",\n \"(e1.medication = 'nisoldipine' AND e2.medication IN ('ketoconazole','dolasetron','Enzalutamide'))\\n\",\n \"(e1.medication = 'Norepinephrine' AND e2.medication IN ('doxepin'))\\n\",\n \"(e1.medication = 'obeticholic acid' AND e2.medication IN ('tiZANidine'))\\n\",\n \"(e1.medication = 'Obinutuzumab' AND e2.medication IN ('etanercept','fingolimod','InFLIXimab','Cladribine','teriflunomide','Clozapine','adalimumab','leflunomide','tofacitinib'))\\n\",\n \"(e1.medication = 'ofloxacin' AND e2.medication IN ('osimertinib','crizotinib','warfarin','fingolimod','ivosidenib','repaglinide','Chloroquine','insulin glargine','Cabozantinib','Methylprednisolone','Arsenic Trioxide','nilotinib','glyBURIDE','BuPROPion','Prednisolone','hydroxychloroquine','insulin degludec','glipiZIDE','hydrocorTISone','anagrelide','fludrocortisone','Prednisone','dexamethasone','dolasetron','glimepiride','Nateglinide','vemurafenib'))\\n\",\n \"(e1.medication = 'OLANZapine' AND e2.medication IN ('morphine','Potassium Citrate','BuPROPion','Potassium Chloride','metoCLOPramide'))\\n\",\n \"(e1.medication = 'olsalazine' AND e2.medication IN ('tacrolimus','Sirolimus','ioversol','Cidofovir','deferasirox'))\\n\",\n \"(e1.medication = 'Oxazepam' AND e2.medication IN ('morphine'))\\n\",\n \"(e1.medication = 'Oxcarbazepine' AND e2.medication IN ('procarbazine'))\\n\",\n \"(e1.medication = 'oxyCODONE' AND e2.medication IN ('erythromycin','lorlatinib','crizotinib','Aprepitant','ivosidenib','cobicistat','Imatinib','Clarithromycin','Enzalutamide','idelalisib','procarbazine','naltrexone','BuPROPion','abiraterone','clotrimazole','Dabrafenib','alvimopan','PAZOPanib','cimetidine','morphine','ketoconazole','dexamethasone','FLUCONAZOLE'))\\n\",\n \"(e1.medication = 'oxyMORphone' AND e2.medication IN ('morphine','naltrexone','procarbazine','BuPROPion','alvimopan'))\\n\",\n \"(e1.medication = 'Paricalcitol' AND e2.medication IN ('Vitamin D2','sucralfate','calcitriol','Vitamin D3','Doxercalciferol'))\\n\",\n \"(e1.medication = 'Pegaspargase' AND e2.medication IN ('Thalidomide','fingolimod','teriflunomide','Clozapine','etanercept','InFLIXimab','adalimumab','leflunomide','tofacitinib'))\\n\",\n \"(e1.medication = 'Pegfilgrastim-cbqv' AND e2.medication IN ('Cladribine'))\\n\",\n \"(e1.medication = 'perphenazine' AND e2.medication IN ('osimertinib','Potassium Citrate','crizotinib','Potassium Chloride','fingolimod','ivosidenib','Chloroquine','metoCLOPramide','Cabozantinib','Arsenic Trioxide','nilotinib','BuPROPion','hydroxychloroquine','anagrelide','morphine','dolasetron','vemurafenib'))\\n\",\n \"(e1.medication = 'phentermine' AND e2.medication IN ('milnacipran','sertraline','procarbazine','vilazodone','linezolid','BuPROPion','FLUoxetine','traMADol','venlafaxine','vortioxetine','desvenlafaxine','selegiline','Citalopram','PARoxetine','Duloxetine','tapentadol','fluvoxaMINE'))\\n\",\n \"(e1.medication = 'Phenytoin' AND e2.medication IN ('osimertinib','abemaciclib','lorlatinib','Midostaurin','crizotinib','Brigatinib','ivosidenib','tacrolimus','Imatinib','cobicistat','palbociclib','rivaroxaban','idelalisib','apixaban','dasatinib','bortezomib','teriflunomide','Cabozantinib','Ibrutinib','nilotinib','abiraterone','Sunitinib','ticagrelor','venetoclax ','everolimus','encorafenib','alpelisib','larotrectinib','acalabrutinib','GILTERITINIB','Sirolimus','cimetidine','axitinib','apremilast','bosutinib','naloxegol','praziquantel','Ixazomib','leflunomide','tofacitinib','Olaparib ','FLUCONAZOLE','vemurafenib'))\\n\",\n \"(e1.medication = 'pimavanserin' AND e2.medication IN ('osimertinib','crizotinib','fingolimod','ivosidenib','Chloroquine','cobicistat','Clarithromycin','idelalisib','Cabozantinib','Arsenic Trioxide','nilotinib','hydroxychloroquine','anagrelide','morphine','ketoconazole','dolasetron','vemurafenib'))\\n\",\n \"(e1.medication = 'pioglitazone' AND e2.medication IN ('teriflunomide','gemfibrozil','clopidogrel','gatifloxacin','leflunomide'))\\n\",\n \"(e1.medication = 'Piroxicam' AND e2.medication IN ('warfarin','Prasugrel','tacrolimus','rivaroxaban','apixaban','dasatinib','Fondaparinux','teriflunomide','Cabozantinib','Ibrutinib','enoxaparin','everolimus','dalteparin','Sirolimus','Methotrexate','Ponatinib','acalabrutinib','Edoxaban','ioversol','deferasirox','leflunomide'))\\n\",\n \"(e1.medication = 'pitavastatin' AND e2.medication IN ('erythromycin','teriflunomide','cycloSPORINE','leflunomide','LENALIDOMIDE'))\\n\",\n \"(e1.medication = 'Pomalidomide' AND e2.medication IN ('fingolimod','estradiol','Cladribine','epoetin alfa','Atezolizumab','teriflunomide','PEMBROlizumab','Clozapine','etanercept','InFLIXimab','raloxifene','adalimumab','Nivolumab','leflunomide','tofacitinib'))\\n\",\n \"(e1.medication = 'Potassium Iodide' AND e2.medication IN ('fosinopril','Captopril','lisinopril','Eplerenone','quinapril','benazepriL','losartan','ramipril','irbesartan','Trandolapril','Moexipril','olmesartan','Trimethoprim','telmisartan','valsartan'))\\n\",\n \"(e1.medication = 'Pralatrexate' AND e2.medication IN ('fingolimod','Cladribine','teriflunomide','Clozapine','etanercept','InFLIXimab','adalimumab','leflunomide','tofacitinib'))\\n\",\n \"(e1.medication = 'Prasugrel' AND e2.medication IN ('Ruxolitinib ','Piroxicam','TiCLOPIDINE','clopidogrel','Nabumetone','meloxicam','Tirofiban','apixaban','ketorolac','dasatinib','Fondaparinux','Cabozantinib','Alteplase','miFEPRIStone','Dipyridamole','dalteparin','naproxen','Ponatinib','Bivalirudin','warfarin','ibuprofen','bromfenac','rivaroxaban','etodolac','Sulindac','Ibrutinib','enoxaparin','defibrotide','Abciximab','Eptifibatide','Argatroban','anagrelide','Edoxaban','acalabrutinib','indomethacin','deferasirox','cangrelor'))\\n\",\n \"(e1.medication = 'Prednisolone' AND e2.medication IN ('Thalidomide','gatifloxacin','fingolimod','Cladribine','teriflunomide','miFEPRIStone','BuPROPion','etanercept','ofloxacin','InFLIXimab','Moxifloxacin','deferasirox','levofloxacin','adalimumab','leflunomide','tofacitinib','ciprofloxacin'))\\n\",\n \"(e1.medication = 'Prednisone' AND e2.medication IN ('Thalidomide','gatifloxacin','fingolimod','Cladribine','teriflunomide','miFEPRIStone','BuPROPion','etanercept','ofloxacin','InFLIXimab','Moxifloxacin','deferasirox','levofloxacin','adalimumab','leflunomide','tofacitinib','ciprofloxacin'))\\n\",\n \"(e1.medication = 'pregabalin' AND e2.medication IN ('morphine'))\\n\",\n \"(e1.medication = 'primiDONE' AND e2.medication IN ('osimertinib','abemaciclib','lorlatinib','Midostaurin','crizotinib','Brigatinib','ivosidenib','tacrolimus','cobicistat','Imatinib','palbociclib','rivaroxaban','idelalisib','apixaban','dasatinib','bortezomib','Cabozantinib','nilotinib','abiraterone','Sunitinib','ticagrelor','venetoclax ','everolimus','encorafenib','alpelisib','larotrectinib','acalabrutinib','Sirolimus','warfarin','morphine','axitinib','apremilast','bosutinib','naloxegol','praziquantel','Ixazomib','tofacitinib','Olaparib ','vemurafenib'))\\n\",\n \"(e1.medication = 'Probenecid' AND e2.medication IN ('Methotrexate'))\\n\",\n \"(e1.medication = 'Procainamide' AND e2.medication IN ('erythromycin','nilutamide','Midostaurin','SORAfenib','tacrolimus','Clarithromycin','Enzalutamide','dasatinib','Cabozantinib','Arsenic Trioxide','Sunitinib','Isoproterenol','Oxytocin','encorafenib','PAZOPanib','DAUNOrubicin','GILTERITINIB','Eribulin','bosutinib','Flutamide','IDArubicin','FLUCONAZOLE','vemurafenib','osimertinib','ondansetron','crizotinib','fingolimod','ivosidenib','Chloroquine','DOXOrubicin','cilostazol','Cladribine','doxepin','nilotinib','abiraterone','hydroxychloroquine','bicalutamide','lapatinib','anagrelide','OXALIplatin','lenvatinib','levofloxacin','ketoconazole','palonosetron','dolasetron','granisetron','promethazine'))\\n\",\n \"(e1.medication = 'propafenone' AND e2.medication IN ('osimertinib','crizotinib','fingolimod','ivosidenib','Chloroquine','cobicistat','Cabozantinib','nilotinib','Arsenic Trioxide','hydroxychloroquine','venetoclax ','anagrelide','PAZOPanib','dolasetron','vemurafenib'))\\n\",\n \"(e1.medication = 'Propylthiouracil' AND e2.medication IN ('teriflunomide','Fluphenazine','leflunomide'))\\n\",\n \"(e1.medication = 'Pseudoephedrine' AND e2.medication IN ('selegiline','linezolid','procarbazine'))\\n\",\n \"(e1.medication = 'QUEtiapine' AND e2.medication IN ('osimertinib','erythromycin','crizotinib','fingolimod','ivosidenib','Chloroquine','cobicistat','Clarithromycin','Enzalutamide','idelalisib','metoCLOPramide','Cabozantinib','Arsenic Trioxide','nilotinib','BuPROPion','hydroxychloroquine','anagrelide','morphine','ketoconazole','dolasetron','vemurafenib'))\\n\",\n \"(e1.medication = 'RABEprazole' AND e2.medication IN ('dasatinib','clopidogrel','erlotinib','rilpivirine','atazanavir','nelFINavir','Methotrexate','PAZOPanib','acalabrutinib'))\\n\",\n \"(e1.medication = 'raloxifene' AND e2.medication IN ('Thalidomide','tranexamic acid','Pomalidomide','Carfilzomib','LENALIDOMIDE'))\\n\",\n \"(e1.medication = 'raltegravir' AND e2.medication IN ('Milk of Magnesia','zinc sulfate','zinc gluconate','zinc chloride','calcium carbonate'))\\n\",\n \"(e1.medication = 'Ranitidine' AND e2.medication IN ('dasatinib','loperamide','rilpivirine','atazanavir','PAZOPanib'))\\n\",\n \"(e1.medication = 'ranolazine' AND e2.medication IN ('osimertinib','erythromycin','lorlatinib','simvastatin','crizotinib','Aprepitant','fingolimod','ivosidenib','Chloroquine','Imatinib','cobicistat','Clarithromycin','Enzalutamide','idelalisib','Cabozantinib','Arsenic Trioxide','nilotinib','hydroxychloroquine','venetoclax ','lapatinib','anagrelide','Dabrafenib','Edoxaban','ketoconazole','dexamethasone','dolasetron','FLUCONAZOLE','clotrimazole','vemurafenib'))\\n\",\n \"(e1.medication = 'rasagiline' AND e2.medication IN ('TiCLOPIDINE','procarbazine','morphine','deferasirox','doxepin','BuPROPion','vemurafenib'))\\n\",\n \"(e1.medication = 'Rifabutin' AND e2.medication IN ('osimertinib','lorlatinib','warfarin','crizotinib','Brigatinib','tacrolimus','Imatinib','cobicistat','palbociclib','dasatinib','bortezomib','Cabozantinib','Ibrutinib','nilotinib','abiraterone','venetoclax ','everolimus','cycloSPORINE','encorafenib','alpelisib','larotrectinib','Sirolimus','axitinib','bosutinib','praziquantel','ketoconazole','Ixazomib','Olaparib ','vemurafenib'))\\n\",\n \"(e1.medication = 'RifAMPin' AND e2.medication IN ('abemaciclib','lorlatinib','Midostaurin','simvastatin','tacrolimus','cobicistat','apixaban','idelalisib','dasatinib','teriflunomide','Cabozantinib','Sunitinib','venetoclax ','encorafenib','alpelisib','GILTERITINIB','apremilast','bosutinib','praziquantel','Ixazomib','leflunomide','FLUCONAZOLE','vemurafenib','osimertinib','crizotinib','warfarin','Brigatinib','ivosidenib','Imatinib','palbociclib','rivaroxaban','Ibrutinib','nilotinib','abiraterone','ticagrelor','everolimus','cycloSPORINE','Sirolimus','larotrectinib','acalabrutinib','Edoxaban','axitinib','naloxegol','Olaparib ','ketoconazole','tofacitinib','bortezomib'))\\n\",\n \"(e1.medication = 'rilpivirine' AND e2.medication IN ('osimertinib','Famotidine','crizotinib','fingolimod','ivosidenib','Chloroquine','Enzalutamide','teriflunomide','Cabozantinib','Pantoprazole','Arsenic Trioxide','nilotinib','hydroxychloroquine','dexlansoprazole','Omeprazole','anagrelide','Ranitidine','cimetidine','RABEprazole','dexamethasone','Lansoprazole','Esomeprazole','dolasetron','leflunomide','vemurafenib'))\\n\",\n \"(e1.medication = 'risedronate' AND e2.medication IN ('deferasirox'))\\n\",\n \"(e1.medication = 'RISperidone' AND e2.medication IN ('osimertinib','crizotinib','fingolimod','ivosidenib','Chloroquine','metoCLOPramide','Cabozantinib','Arsenic Trioxide','nilotinib','BuPROPion','hydroxychloroquine','anagrelide','morphine','dolasetron','vemurafenib'))\\n\",\n \"(e1.medication = 'RITONAvir' AND e2.medication IN ('erythromycin','Ruxolitinib ','lorlatinib','simvastatin','Midostaurin','tacrolimus','dasatinib','teriflunomide','Cabozantinib','PAZOPanib','Brigatinib','ivosidenib','budesonide','cilostazol','palbociclib','Methylprednisolone','Ibrutinib','nilotinib','ticagrelor','everolimus','acalabrutinib','axitinib','naloxegol','ketoconazole','tofacitinib','Olaparib ','abemaciclib','clopidogrel','Enzalutamide','apixaban','venetoclax ','rosuvastatin','encorafenib','Ponatinib','GILTERITINIB','loperamide','bosutinib','fluticasone','leflunomide','osimertinib','Disulfiram','crizotinib','rivaroxaban','cycloSPORINE','lapatinib','Sirolimus','larotrectinib','Edoxaban','salmeterol'))\\n\",\n \"(e1.medication = 'rivaroxaban' AND e2.medication IN ('Ruxolitinib ','Piroxicam','TiCLOPIDINE','clopidogrel','Voriconazole','Nabumetone','Prasugrel','meloxicam','cobicistat','Phenytoin','Enzalutamide','Tirofiban','apixaban','dasatinib','Fondaparinux','ketorolac','Cabozantinib','Alteplase','miFEPRIStone','RITONAvir','carBAMazepine','Heparin','treprostinil','Dipyridamole','dalteparin','Itraconazole','Epoprostenol','naproxen','Ponatinib','Aspirin','Bivalirudin','warfarin','primiDONE','ibuprofen','cilostazol','bromfenac','etodolac','Sulindac','Ibrutinib','ticagrelor','defibrotide','Abciximab','enoxaparin','RifAMPin','Eptifibatide','Argatroban','anagrelide','Edoxaban','acalabrutinib','indomethacin','deferasirox','PHENobarbital','cangrelor','Fosphenytoin','ketoconazole','Posaconazole','nelFINavir'))\\n\",\n \"(e1.medication = 'rivastigmine' AND e2.medication IN ('BuPROPion'))\\n\",\n \"(e1.medication = 'rizatriptan' AND e2.medication IN ('ondansetron','procarbazine','palonosetron','dolasetron','granisetron'))\\n\",\n \"(e1.medication = 'rocuronium' AND e2.medication IN ('paromomycin','gentamicin','Amikacin'))\\n\",\n \"(e1.medication = 'romiPLOStim' AND e2.medication IN ('Carfilzomib'))\\n\",\n \"(e1.medication = 'rosiglitazone' AND e2.medication IN ('teriflunomide','gatifloxacin','leflunomide'))\\n\",\n \"(e1.medication = 'Sargramostim' AND e2.medication IN ('Cladribine'))\\n\",\n \"(e1.medication = 'sildenafil' AND e2.medication IN ('erythromycin','ketoconazole','cobicistat','Clarithromycin','idelalisib'))\\n\",\n \"(e1.medication = 'simeprevir' AND e2.medication IN ('erythromycin','cycloSPORINE','dexamethasone','ketoconazole','rosuvastatin','FLUCONAZOLE','cobicistat','Enzalutamide','Clarithromycin','Edoxaban','venetoclax '))\\n\",\n \"(e1.medication = 'simvastatin' AND e2.medication IN ('erythromycin','Niacin','amiodarone','Voriconazole','Nefazodone','fosamprenavir','cobicistat','Clarithromycin','idelalisib','teriflunomide','amLODIPine','fenofibrate','colchicine','miFEPRIStone','nelFINavir','RITONAvir','ranolazine','RifAMPin','fenofibric acid','cycloSPORINE','Darunavir','Diltiazem','Itraconazole','letermovir','indinavir','danazol','gemfibrozil','Posaconazole','ketoconazole','atazanavir','Dronedarone','leflunomide','verapamil','FLUCONAZOLE','LENALIDOMIDE'))\\n\",\n \"(e1.medication = 'Sodium Bicarbonate' AND e2.medication IN ('dolutegravir'))\\n\",\n \"(e1.medication = 'solifenacin' AND e2.medication IN ('osimertinib','erythromycin','Potassium Citrate','crizotinib','fingolimod','ivosidenib','Chloroquine','cobicistat','Clarithromycin','idelalisib','Cabozantinib','Arsenic Trioxide','nilotinib','hydroxychloroquine','anagrelide','ketoconazole','dolasetron','Potassium Chloride','vemurafenib'))\\n\",\n \"(e1.medication = 'sotalol' AND e2.medication IN ('erythromycin','Midostaurin','tacrolimus','Albuterol','dasatinib','Cabozantinib','Arsenic Trioxide','Sunitinib','Oxytocin','PAZOPanib','DAUNOrubicin','Eribulin','Flutamide','IDArubicin','vemurafenib','ondansetron','ivosidenib','Chloroquine','DOXOrubicin','cilostazol','nilotinib','abiraterone','bicalutamide','anagrelide','ketoconazole','palonosetron','granisetron','nilutamide','SORAfenib','Clarithromycin','Enzalutamide','encorafenib','GILTERITINIB','bosutinib','FLUCONAZOLE','osimertinib','crizotinib','fingolimod','doxepin','hydroxychloroquine','theophylline','lapatinib','OXALIplatin','lenvatinib','EPINEPHrine','levofloxacin','salmeterol','dolasetron','promethazine'))\\n\",\n \"(e1.medication = 'Streptozocin' AND e2.medication IN ('Thalidomide','fingolimod','Thiotepa','Cladribine','teriflunomide','Clozapine','etanercept','InFLIXimab','ioversol','Cidofovir','adalimumab','leflunomide','tofacitinib'))\\n\",\n \"(e1.medication = 'Succinylcholine' AND e2.medication IN ('paromomycin','gentamicin','Amikacin'))\\n\",\n \"(e1.medication = 'sucralfate' AND e2.medication IN ('Paricalcitol','Doxercalciferol','dolutegravir'))\\n\",\n \"(e1.medication = 'Sulindac' AND e2.medication IN ('warfarin','Prasugrel','tacrolimus','rivaroxaban','apixaban','dasatinib','teriflunomide','Fondaparinux','Cabozantinib','Ibrutinib','enoxaparin','everolimus','dalteparin','Sirolimus','Methotrexate','Ponatinib','acalabrutinib','Edoxaban','ioversol','deferasirox','leflunomide'))\\n\",\n \"(e1.medication = 'SUMAtriptan' AND e2.medication IN ('ondansetron','palonosetron','dolasetron','granisetron','procarbazine'))\\n\",\n \"(e1.medication = 'Sunitinib' AND e2.medication IN ('amiodarone','gatifloxacin','Dofetilide','Droperidol','Phenytoin','Enzalutamide','teriflunomide','Cabozantinib','Clozapine','haloperidol','ivabradine','Arsenic Trioxide','miFEPRIStone','carBAMazepine','Moxifloxacin','Efavirenz','leflunomide','methadone','vemurafenib','osimertinib','primiDONE','crizotinib','fingolimod','ivosidenib','Chloroquine','Procainamide','nilotinib','sotalol','hydroxychloroquine','RifAMPin','ILOperidone','anagrelide','PHENobarbital','Fosphenytoin','Citalopram','bedaquiline','pimozide','Dronedarone','dolasetron'))\\n\",\n \"(e1.medication = 'suvorexant' AND e2.medication IN ('erythromycin','crizotinib','Aprepitant','cobicistat','Imatinib','Clarithromycin','Edoxaban','idelalisib','Enzalutamide','morphine','ketoconazole','FLUCONAZOLE','venetoclax '))\\n\",\n \"(e1.medication = 'tacrolimus' AND e2.medication IN ('erythromycin','balsalazide','amiodarone','gatifloxacin','Piroxicam','Voriconazole','cobicistat','Amikacin','teriflunomide','Pamidronate','Cabozantinib','Clozapine','haloperidol','ivabradine','Arsenic Trioxide','miFEPRIStone','carBAMazepine','Moxifloxacin','PAZOPanib','indinavir','mesalamine','CELECOXIB','methadone','vemurafenib','foscarnet','ibuprofen','ivosidenib','Chloroquine','Procainamide','Sulindac','nilotinib','ILOperidone','Omeprazole','anagrelide','Methotrexate','indomethacin','aMILoride','Cidofovir','VANCOMYCIN','valACYclovir','ketoconazole','Esomeprazole','adalimumab','Dronedarone','tofacitinib','Salsalate','Nefazodone','Nabumetone','ibandronate','Dofetilide','Droperidol','meloxicam','Phenytoin','Rifabutin','Clarithromycin','olsalazine','Enzalutamide','idelalisib','ketorolac','CISplatin','colchicine','bacitracin','RITONAvir','venetoclax ','Itraconazole','naproxen','Efavirenz','Triamterene','loperamide','leflunomide','FLUCONAZOLE','acyclovir','clotrimazole','primiDONE','crizotinib','gentamicin','fingolimod','fosamprenavir','tobramycin','Cladribine','bromfenac','etodolac','telavancin','sotalol','hydroxychloroquine','RifAMPin','dexlansoprazole','etanercept','cycloSPORINE','Darunavir','lithium carbonate','Spironolactone','InFLIXimab','letermovir','ioversol','Edoxaban','deferasirox','PHENobarbital','Fosphenytoin','Citalopram','Posaconazole','Lansoprazole','bedaquiline','atazanavir','zoledronic acid','pimozide','dolasetron','nelFINavir','amphotericin B'))\\n\",\n \"(e1.medication = 'temazepam' AND e2.medication IN ('morphine'))\\n\",\n \"(e1.medication = 'teriflunomide' AND e2.medication IN ('erythromycin','Ruxolitinib ','Obinutuzumab','amiodarone','Midostaurin','milnacipran','Brentuximab Vedotin','tacrolimus','dupilumab','Belatacept','Mechlorethamine','abatacept','Daratumumab','Clozapine','Methyldopa','aminosalicylic acid','carBAMazepine','gefitinib','Phenazopyridine','Pomalidomide','PAZOPanib','CELECOXIB','Carmustine','Eribulin','Flutamide','methimazole','Ixazomib','Moexipril','IDArubicin','Trandolapril','hydroxyurea','Basiliximab','vemurafenib','Atorvastatin','ibuprofen','quinapril','budesonide','palbociclib','Sulindac','Methylprednisolone','Ibrutinib','bosentan','vedolizumab','BuPROPion','tolcapone','fenofibric acid','Acarbose','azaTHIOprine','bicalutamide','everolimus','Prednisone','acalabrutinib','Cytarabine','laMIVudine','Axicabtagene Ciloleucel','Dronedarone','Duloxetine','Olaparib ','riluzole','bortezomib','Salsalate','abemaciclib','pravastatin','Nefazodone','Nabumetone','SORAfenib','Clarithromycin','idelalisib','tiZANidine','zileuton','Atezolizumab','Busulfan','Zidovudine','RITONAvir','Pralatrexate','Retinoic Acid','capecitabine','mitoXANTRONE','erlotinib','APAP','fludrocortisone','TEMOZOLOMIDE','Efavirenz','Emtricitabine','Gemcitabine','bosutinib','testosterone','Chlorambucil','leflunomide','FLUCONAZOLE','riTUXimab','fosinopril','Pyrazinamide','azaCITIDine','crizotinib','Clofarabine','febuxostat','fingolimod','Cladribine','Intron A','etodolac','valproic acid','ethionamide','linezolid','Prednisolone','hydroxychloroquine','didanosine','Alectinib','DACTINomycin','cycloSPORINE','Darunavir','Peginterferon Alfa-2a','stavudine','InFLIXimab','Sirolimus','larotrectinib','lenvatinib','Pegaspargase','Fosphenytoin','bedaquiline','Felbamate','Melphalan','thioguanine','Niacin','simvastatin','Piroxicam','Voriconazole','PEMEtrexed','ramipril','procarbazine','Pentostatin','dasatinib','naltrexone','Ambrisentan','interferon beta-1a','Cabazitaxel','Sunitinib','eltrombopag','Dacarbazine','neVIRapine','anakinra','colesevelam','Cyclophosphamide','lisinopril','Elotuzumab','cosyntropin','Moxifloxacin','DAUNOrubicin','Aspirin','Alemtuzumab','Mitomycin','maraviroc','oxandrolone','Tolvaptan','abacavir','dantrolene','Labetalol','Thalidomide','Brigatinib','Thiotepa','acitretin','DOXOrubicin','cannabidiol','Bleomycin','pioglitazone','metaxalone','rosiglitazone','Decitabine','nilotinib','abiraterone','ustekinumab','BENDAmustine','Trastuzumab','colestipol','zafirlukast','pirfenidone','Methotrexate','indomethacin','lomustine','minocycline','axitinib','ketoconazole','dexamethasone','Propylthiouracil','adalimumab','tofacitinib','Anti-Thymocyte Globulin (Rabbit)','nilutamide','lovastatin','Phenytoin','meloxicam','benazepriL','binimetinib','nitrofurantoin macrocrystal','CARBOplatin','ketorolac','CISplatin','Erwinaze','tocilizumab','Penicillamine','duvelisib','venetoclax ','atomoxetine','Captopril','rosuvastatin','dimethyl fumarate','Blinatumomab','Itraconazole','rilpivirine','naproxen','Ponatinib','GILTERITINIB','Ifosfamide','danazol','pitavastatin','mycophenolate mofetil','Aldesleukin','clotrimazole','LENALIDOMIDE','osimertinib','azithromycin','macitentan','Disulfiram','Niacinamide ','Imatinib','Streptozocin','bromfenac','fluorouracil','fenofibrate','isoniazid','RifAMPin','etanercept','lapatinib','hydrocorTISone','OXALIplatin','interferon beta-1b','deferasirox','levofloxacin','Posaconazole','Cholestyramine','Etoposide','mercaptopurine','Carfilzomib'))\\n\",\n \"(e1.medication = 'testosterone' AND e2.medication IN ('teriflunomide','warfarin','leflunomide','PAZOPanib','Carfilzomib'))\\n\",\n \"(e1.medication = 'tetrabenazine' AND e2.medication IN ('osimertinib','crizotinib','fingolimod','ivosidenib','Chloroquine','procarbazine','metoCLOPramide','Cabozantinib','Arsenic Trioxide','nilotinib','BuPROPion','hydroxychloroquine','anagrelide','dolasetron','cinacalcet','promethazine','vemurafenib'))\\n\",\n \"(e1.medication = 'Tetracycline' AND e2.medication IN ('vitamin A','acitretin','Retinoic Acid'))\\n\",\n \"(e1.medication = 'theophylline' AND e2.medication IN ('Labetalol','betaxolol','Nadolol','sotalol','timolol','BuPROPion','nebivolol','CARVedilol','Pindolol','Acebutolol','atenolol','ciprofloxacin','traMADol','deferasirox','riociguat','esmolol','mexiletine','propranolol','fluvoxaMINE'))\\n\",\n \"(e1.medication = 'Thiotepa' AND e2.medication IN ('Thalidomide','fingolimod','Cladribine','Streptozocin','Mechlorethamine','CARBOplatin','teriflunomide','CISplatin','Busulfan','Clozapine','etanercept','InFLIXimab','Cyclophosphamide','Ifosfamide','lomustine','Carmustine','Chlorambucil','adalimumab','leflunomide','tofacitinib','Melphalan'))\\n\",\n \"(e1.medication = 'Thiothixene' AND e2.medication IN ('morphine','Potassium Citrate','BuPROPion','Potassium Chloride','metoCLOPramide'))\\n\",\n \"(e1.medication = 'Tirofiban' AND e2.medication IN ('TiCLOPIDINE','warfarin','clopidogrel','Prasugrel','rivaroxaban','apixaban','dasatinib','Fondaparinux','Cabozantinib','Ibrutinib','Alteplase','enoxaparin','defibrotide','Abciximab','Heparin','Eptifibatide','Dipyridamole','dalteparin','Argatroban','anagrelide','Ponatinib','Edoxaban','acalabrutinib','deferasirox','cangrelor'))\\n\",\n \"(e1.medication = 'tiZANidine' AND e2.medication IN ('Famotidine','TiCLOPIDINE','crizotinib','fingolimod','ivosidenib','Chloroquine','Intron A','diazoxide','teriflunomide','Cabozantinib','Arsenic Trioxide','nilotinib','hydroxychloroquine','Peginterferon Alfa-2a','treprostinil','obeticholic acid','Minoxidil','Epoprostenol','anagrelide','cimetidine','morphine','deferasirox','Aldesleukin','dolasetron','leflunomide','acyclovir','vemurafenib'))\\n\",\n \"(e1.medication = 'tofacitinib' AND e2.medication IN ('thioguanine','Ruxolitinib ','Obinutuzumab','Midostaurin','Voriconazole','Brentuximab Vedotin','PEMEtrexed','cobicistat','dupilumab','tacrolimus','Belatacept','Mechlorethamine','procarbazine','Pentostatin','abatacept','dasatinib','Daratumumab','teriflunomide','Clozapine','Cabazitaxel','Dacarbazine','anakinra','carBAMazepine','Cyclophosphamide','Elotuzumab','cosyntropin','Pomalidomide','PAZOPanib','DAUNOrubicin','indinavir','Alemtuzumab','Carmustine','Eribulin','Ixazomib','Mitomycin','hydroxyurea','IDArubicin','Basiliximab','Thalidomide','Brigatinib','Thiotepa','budesonide','DOXOrubicin','palbociclib','Bleomycin','Methylprednisolone','Ibrutinib','Decitabine','vedolizumab','nilotinib','BENDAmustine','ustekinumab','azaTHIOprine','everolimus','Trastuzumab','Methotrexate','Prednisone','acalabrutinib','lomustine','Cytarabine','Axicabtagene Ciloleucel','ketoconazole','dexamethasone','adalimumab','Olaparib ','Anti-Thymocyte Globulin (Rabbit)','bortezomib','abemaciclib','Nefazodone','Phenytoin','Clarithromycin','Enzalutamide','idelalisib','CARBOplatin','Atezolizumab','CISplatin','tocilizumab','Busulfan','Zidovudine','RITONAvir','Pralatrexate','duvelisib','venetoclax ','capecitabine','mitoXANTRONE','dimethyl fumarate','Blinatumomab','Itraconazole','fludrocortisone','Ponatinib','TEMOZOLOMIDE','Ifosfamide','Gemcitabine','bosutinib','Chlorambucil','mycophenolate mofetil','Aldesleukin','leflunomide','FLUCONAZOLE','riTUXimab','LENALIDOMIDE','osimertinib','azaCITIDine','primiDONE','Clofarabine','fingolimod','fosamprenavir','Imatinib','Cladribine','Streptozocin','Intron A','fluorouracil','linezolid','Prednisolone','DACTINomycin','RifAMPin','etanercept','cycloSPORINE','Peginterferon Alfa-2a','hydrocorTISone','InFLIXimab','Sirolimus','OXALIplatin','PHENobarbital','Pegaspargase','Fosphenytoin','Posaconazole','Etoposide','atazanavir','mercaptopurine','nelFINavir','Carfilzomib','Melphalan'))\\n\",\n \"(e1.medication = 'tolcapone' AND e2.medication IN ('teriflunomide','procarbazine','leflunomide'))\\n\",\n \"(e1.medication = 'Tolvaptan' AND e2.medication IN ('teriflunomide','ketoconazole','cobicistat','leflunomide','Clarithromycin','Enzalutamide','idelalisib'))\\n\",\n \"(e1.medication = 'traMADol' AND e2.medication IN ('phentermine','Enzalutamide','procarbazine','naltrexone','Cabozantinib','interferon beta-1a','Arsenic Trioxide','Blinatumomab','dronabinol','alvimopan','morphine','Aldesleukin','vemurafenib','osimertinib','ondansetron','crizotinib','fingolimod','ivosidenib','Chloroquine','Intron A','metoCLOPramide','doxepin','nilotinib','BuPROPion','hydroxychloroquine','theophylline','Peginterferon Alfa-2a','lidocaine','anagrelide','interferon beta-1b','levofloxacin','palonosetron','dolasetron','granisetron','promethazine'))\\n\",\n \"(e1.medication = 'Trastuzumab' AND e2.medication IN ('Thalidomide','fingolimod','DOXOrubicin','Cladribine','teriflunomide','Clozapine','etanercept','InFLIXimab','DAUNOrubicin','IDArubicin','adalimumab','leflunomide','tofacitinib'))\\n\",\n \"(e1.medication = 'treprostinil' AND e2.medication IN ('rivaroxaban','tiZANidine','apixaban','dasatinib','Fondaparinux','Cabozantinib','Ibrutinib','enoxaparin','dalteparin','Ponatinib','Edoxaban','acalabrutinib','deferasirox'))\\n\",\n \"(e1.medication = 'TRIAzolam' AND e2.medication IN ('morphine','ketoconazole','cobicistat','FLUCONAZOLE','idelalisib'))\\n\",\n \"(e1.medication = 'ustekinumab' AND e2.medication IN ('fingolimod','Cladribine','teriflunomide','tocilizumab','etanercept','InFLIXimab','adalimumab','leflunomide','tofacitinib'))\\n\",\n \"(e1.medication = 'valproic acid' AND e2.medication IN ('vorinostat','teriflunomide','leflunomide'))\\n\",\n \"(e1.medication = 'venetoclax ' AND e2.medication IN ('erythromycin','lorlatinib','amiodarone','Midostaurin','Voriconazole','tacrolimus','cobicistat','teriflunomide','Cabozantinib','Clozapine','miFEPRIStone','neVIRapine','carBAMazepine','Dabrafenib','indinavir','mirabegron','vemurafenib','Nafcillin','fidaxomicin','Ibrutinib','bosentan','nilotinib','nelFINavir','abiraterone','ticagrelor','proGESTerone','ketoconazole','dexamethasone','adalimumab','Dronedarone','tofacitinib','Nefazodone','SORAfenib','Phenytoin','simeprevir','Rifabutin','Clarithromycin','Enzalutamide','idelalisib','colchicine','ulipristal','modafinil','RITONAvir','duvelisib','daclatasvir','Captopril','Itraconazole','etravirine','Ponatinib','Efavirenz','fosaprepitant','leflunomide','FLUCONAZOLE','primiDONE','crizotinib','Aprepitant','fingolimod','fosamprenavir','Imatinib','felodipine','Cladribine','eslicarbazepine','ranolazine','CARVedilol','RifAMPin','etanercept','cycloSPORINE','Darunavir','Diltiazem','lapatinib','Spironolactone','InFLIXimab','NIFEdipine','letermovir','PHENobarbital','Fosphenytoin','valbenazine','Posaconazole','atazanavir','propafenone','verapamil','ciprofloxacin','suvorexant'))\\n\",\n \"(e1.medication = 'venlafaxine' AND e2.medication IN ('osimertinib','ondansetron','crizotinib','fingolimod','ivosidenib','Chloroquine','phentermine','procarbazine','Cabozantinib','Arsenic Trioxide','doxepin','nilotinib','BuPROPion','hydroxychloroquine','anagrelide','palonosetron','dolasetron','granisetron','vemurafenib'))\\n\",\n \"(e1.medication = 'vitamin E' AND e2.medication IN ('Ibrutinib'))\\n\",\n \"(e1.medication = 'Voriconazole' AND e2.medication IN ('erythromycin','Ruxolitinib ','lorlatinib','simvastatin','Midostaurin','tacrolimus','dasatinib','teriflunomide','Cabozantinib','Arsenic Trioxide','PAZOPanib','glimepiride','vemurafenib','Brigatinib','ivosidenib','Chloroquine','budesonide','cilostazol','palbociclib','Methylprednisolone','Ibrutinib','nilotinib','ticagrelor','everolimus','anagrelide','acalabrutinib','axitinib','naloxegol','tofacitinib','Olaparib ','abemaciclib','apixaban','Retinoic Acid','venetoclax ','encorafenib','Ponatinib','GILTERITINIB','loperamide','bosutinib','fluticasone','leflunomide','osimertinib','warfarin','crizotinib','fingolimod','rivaroxaban','glyBURIDE','hydroxychloroquine','glipiZIDE','cycloSPORINE','lapatinib','Sirolimus','larotrectinib','salmeterol','dolasetron'))\\n\",\n \"(e1.medication = 'vortioxetine' AND e2.medication IN ('granisetron','ondansetron','phentermine','procarbazine','palonosetron','doxepin','BuPROPion','dolasetron','cinacalcet'))\\n\",\n \"(e1.medication = 'Zidovudine' AND e2.medication IN ('etanercept','fingolimod','InFLIXimab','Cladribine','Intron A','teriflunomide','interferon beta-1b','interferon beta-1a','adalimumab','leflunomide','tofacitinib'))\\n\",\n \"(e1.medication = 'ZOLMitriptan' AND e2.medication IN ('ondansetron','palonosetron','dolasetron','granisetron','procarbazine'))\\n\",\n \"(e1.medication = 'zolpidem' AND e2.medication IN ('morphine'))\\n\",\n \"(e1.medication = 'Aliskiren' AND e2.medication IN ('cycloSPORINE'))\\n\",\n \"(e1.medication = 'alosetron' AND e2.medication IN ('fluvoxaMINE'))\\n\",\n \"(e1.medication = 'alpelisib' AND e2.medication IN ('PHENobarbital','Fosphenytoin','primiDONE','carBAMazepine','RifAMPin','Phenytoin','Enzalutamide','Rifabutin','Edoxaban'))\\n\",\n \"(e1.medication = 'anastrozole' AND e2.medication IN ('Thalidomide'))\\n\",\n \"(e1.medication = 'Erwinaze' AND e2.medication IN ('Thalidomide','teriflunomide','leflunomide'))\\n\",\n \"(e1.medication = 'chloral hydrate' AND e2.medication IN ('morphine'))\\n\",\n \"(e1.medication = 'clonazePAM' AND e2.medication IN ('morphine'))\\n\",\n \"(e1.medication = 'dapagliflozin' AND e2.medication IN ('gatifloxacin'))\\n\",\n \"(e1.medication = 'diazoxide' AND e2.medication IN ('tiZANidine'))\\n\",\n \"(e1.medication = 'dulaglutide' AND e2.medication IN ('gatifloxacin'))\\n\",\n \"(e1.medication = 'empagliflozin' AND e2.medication IN ('gatifloxacin'))\\n\",\n \"(e1.medication = 'eslicarbazepine' AND e2.medication IN ('lorlatinib','Brigatinib','venetoclax '))\\n\",\n \"(e1.medication = 'estazolam' AND e2.medication IN ('morphine'))\\n\",\n \"(e1.medication = 'exenatide' AND e2.medication IN ('gatifloxacin'))\\n\",\n \"(e1.medication = 'factor XIII' AND e2.medication IN ('Carfilzomib'))\\n\",\n \"(e1.medication = 'fenofibric acid' AND e2.medication IN ('rosuvastatin','simvastatin','teriflunomide','warfarin','leflunomide'))\\n\",\n \"(e1.medication = 'ferrous fumarate' AND e2.medication IN ('dolutegravir'))\\n\",\n \"(e1.medication = 'Ferrous GLUCONATE' AND e2.medication IN ('dolutegravir'))\\n\",\n \"(e1.medication = 'Gabapentin' AND e2.medication IN ('morphine'))\\n\",\n \"(e1.medication = 'larotrectinib' AND e2.medication IN ('primiDONE','Voriconazole','Nefazodone','fosamprenavir','Phenytoin','cobicistat','Rifabutin','Clarithromycin','Enzalutamide','idelalisib','teriflunomide','miFEPRIStone','RITONAvir','RifAMPin','carBAMazepine','Itraconazole','indinavir','PHENobarbital','Fosphenytoin','ketoconazole','Posaconazole','atazanavir','pimozide','leflunomide','nelFINavir'))\\n\",\n \"(e1.medication = 'linaGLIPtin' AND e2.medication IN ('gatifloxacin'))\\n\",\n \"(e1.medication = 'liraglutide' AND e2.medication IN ('gatifloxacin'))\\n\",\n \"(e1.medication = 'magnesium gluconate' AND e2.medication IN ('dolutegravir'))\\n\",\n \"(e1.medication = 'naloxone' AND e2.medication IN ('Droperidol'))\\n\",\n \"(e1.medication = 'Nivolumab' AND e2.medication IN ('Thalidomide','LENALIDOMIDE','Pomalidomide'))\\n\",\n \"(e1.medication = 'oritavancin' AND e2.medication IN ('Heparin'))\\n\",\n \"(e1.medication = 'Oxacillin' AND e2.medication IN ('Methotrexate'))\\n\",\n \"(e1.medication = 'parathyroid hormone' AND e2.medication IN ('Digoxin'))\\n\",\n \"(e1.medication = 'PEMBROlizumab' AND e2.medication IN ('Thalidomide','LENALIDOMIDE','Pomalidomide'))\\n\",\n \"(e1.medication = 'ramelteon' AND e2.medication IN ('morphine'))\\n\",\n \"(e1.medication = 'roflumilast' AND e2.medication IN ('Cladribine'))\\n\",\n \"(e1.medication = 'selexipag' AND e2.medication IN ('gemfibrozil'))\\n\",\n \"(e1.medication = 'semaglutide' AND e2.medication IN ('gatifloxacin'))\\n\",\n \"(e1.medication = 'sitaGLIPtin' AND e2.medication IN ('gatifloxacin'))\\n\",\n \"(e1.medication = 'Ferric Citrate' AND e2.medication IN ('dolutegravir'))\\n\",\n \"(e1.medication = 'Von Willebrand factor' AND e2.medication IN ('Carfilzomib'))\\n\",\n \"(e1.medication = 'voxelotor' AND e2.medication IN ('lorlatinib','everolimus','Brigatinib','encorafenib','cobicistat','Dabrafenib','Clarithromycin','Enzalutamide','idelalisib','acalabrutinib','bosutinib','naloxegol','ketoconazole','dexamethasone','FLUCONAZOLE'))\\n\",\n \"(e1.medication = 'zaleplon' AND e2.medication IN ('morphine'))\\n\",\n \"(e1.medication = 'zinc chloride' AND e2.medication IN ('raltegravir'))\\n\"]"
     },
     "execution_count": 81,
     "metadata": {},
     "output_type": "execute_result"
    }
   ],
   "source": [
    "def get_emar_interaction_clause():\n",
    "    multimap = get_ddinter_multimap()\n",
    "    clauses= []\n",
    "    for key in multimap.keys():\n",
    "        first_id = drugs_by_norm_name.get(key).db_identifier if drugs_by_norm_name.get(key) is not None else None\n",
    "        # first_ids = drugs_by_norm_name.get[(drugs_by_norm_name['common_name'] == key)]['db_identifier']\n",
    "\n",
    "        second_ids = []\n",
    "        for inter_key in multimap[key]:\n",
    "            if drugs_by_norm_name.get(inter_key):\n",
    "                second_ids.append(drugs_by_norm_name[inter_key].db_identifier)\n",
    "        \n",
    "        if bool(first_id) & len(second_ids) > 0:\n",
    "            inclause = \"','\".join([str(item) for item in second_ids if item])\n",
    "            sql = f\"(e1.medication = '{first_id}' AND e2.medication IN ('{inclause}'))\\n\"\n",
    "            clauses.append(sql)\n",
    "    print(f\"Found {len(clauses)} hosp interactions\")\n",
    "    return clauses\n",
    "\n",
    "get_emar_interaction_clause()"
   ]
  },
  {
   "cell_type": "code",
   "execution_count": 82,
   "metadata": {
    "ExecuteTime": {
     "end_time": "2023-11-01T05:53:26.618805100Z",
     "start_time": "2023-11-01T05:53:18.469061600Z"
    }
   },
   "outputs": [
    {
     "name": "stdout",
     "output_type": "stream",
     "text": [
      "Found 354 hosp interactions\n",
      "\n",
      "        SELECT e1.subject_id, e1.hadm_id, \n",
      "        e1.medication as medication_1, \n",
      "        e2.medication as medication_2,\n",
      "        e1.charttime as charttime_1 ,\n",
      "        e2.charttime as charttime_2,\n",
      "        e1.event_txt,\n",
      "        e2.event_txt, \n",
      "        stays.stay_id, \n",
      "        stays.intime\n",
      "        FROM `physionet-data.mimiciv_hosp.emar` as e1\n",
      "        INNER JOIN `physionet-data.mimiciv_hosp.emar` as e2\n",
      "            ON e1.hadm_id = e2.hadm_id \n",
      "                AND e2.charttime > e1.charttime\n",
      "                AND DATETIME_DIFF(e2.charttime, e1.charttime, MINUTE) < 720\n",
      "        INNER JOIN `physionet-data.mimiciv_icu.icustays` as stays ON e1.subject_id = stays.subject_id\n",
      "            AND (stays.intime > e2.charttime AND DATETIME_DIFF(stays.intime, e2.charttime, HOUR) < 24 OR (e2.charttime BETWEEN stays.intime AND stays.outtime))\n",
      "        WHERE\n",
      "            e1.event_txt NOT IN ('Not Given', 'Not Started', 'Not Confirmed')\n",
      "            AND e2.event_txt NOT IN ('Not Given', 'Not Started', 'Not Confirmed')\n",
      "            AND \n",
      "            (\n",
      "                (e1.medication = 'abatacept' AND e2.medication IN ('fingolimod','Cladribine','teriflunomide','tocilizumab','etanercept','InFLIXimab','adalimumab','leflunomide','tofacitinib'))\n",
      " OR (e1.medication = 'Abciximab' AND e2.medication IN ('TiCLOPIDINE','warfarin','clopidogrel','Prasugrel','rivaroxaban','Tirofiban','apixaban','dasatinib','Fondaparinux','Cabozantinib','Ibrutinib','Alteplase','enoxaparin','defibrotide','Eptifibatide','Heparin','dalteparin','Dipyridamole','Argatroban','anagrelide','Ponatinib','acalabrutinib','Edoxaban','deferasirox','cangrelor'))\n",
      " OR (e1.medication = 'acalabrutinib' AND e2.medication IN ('erythromycin','Ruxolitinib ','Piroxicam','TiCLOPIDINE','Voriconazole','Prasugrel','cobicistat','Tirofiban','dasatinib','Fondaparinux','teriflunomide','Cabozantinib','Clozapine','Alteplase','miFEPRIStone','pentoxifylline','carBAMazepine','Heparin','treprostinil','Epoprostenol','indinavir','Aspirin','ibuprofen','cilostazol','Sulindac','Ibrutinib','nelFINavir','ticagrelor','defibrotide','Abciximab','Eptifibatide','Omeprazole','Argatroban','anagrelide','indomethacin','ketoconazole','Esomeprazole','adalimumab','Dronedarone','tofacitinib','clopidogrel','Nefazodone','Nabumetone','meloxicam','Phenytoin','binimetinib','Clarithromycin','Enzalutamide','idelalisib','apixaban','ketorolac','Pantoprazole','RITONAvir','duvelisib','Dipyridamole','dalteparin','Itraconazole','encorafenib','naproxen','Ponatinib','fosaprepitant','leflunomide','FLUCONAZOLE','Bivalirudin','voxelotor','warfarin','primiDONE','crizotinib','Aprepitant','fingolimod','fosamprenavir','Imatinib','Cladribine','bromfenac','rivaroxaban','etodolac','enoxaparin','RifAMPin','dexlansoprazole','etanercept','Darunavir','Diltiazem','InFLIXimab','letermovir','Edoxaban','RABEprazole','deferasirox','cangrelor','Fosphenytoin','PHENobarbital','Posaconazole','Lansoprazole','atazanavir','verapamil','ciprofloxacin'))\n",
      " OR (e1.medication = 'Acarbose' AND e2.medication IN ('teriflunomide','gatifloxacin','leflunomide'))\n",
      " OR (e1.medication = 'Acebutolol' AND e2.medication IN ('theophylline','fingolimod','dolasetron'))\n",
      " OR (e1.medication = 'AcetaZOLamide' AND e2.medication IN ('Arsenic Trioxide','metFORMIN','Aspirin'))\n",
      " OR (e1.medication = 'Aspirin' AND e2.medication IN ('warfarin','methazolAMIDE','ibuprofen','rivaroxaban','apixaban','ketorolac','dasatinib','Fondaparinux','teriflunomide','Cabozantinib','Ibrutinib','enoxaparin','defibrotide','AcetaZOLamide','dalteparin','Methotrexate','Ponatinib','acalabrutinib','Edoxaban','deferasirox','leflunomide'))\n",
      " OR (e1.medication = 'acitretin' AND e2.medication IN ('levonorgestrel','MedroxyPROGESTERone Acetate','teriflunomide','vitamin A','Tetracycline','Retinoic Acid','Methotrexate','minocycline','leflunomide'))\n",
      " OR (e1.medication = 'Adenosine' AND e2.medication IN ('osimertinib','crizotinib','ivosidenib','anagrelide','Cabozantinib','Arsenic Trioxide','nilotinib','dolasetron','vemurafenib'))\n",
      " OR (e1.medication = 'Aldesleukin' AND e2.medication IN ('Thalidomide','fingolimod','Cladribine','Intron A','tiZANidine','CISplatin','teriflunomide','Clozapine','BuPROPion','Dacarbazine','etanercept','InFLIXimab','traMADol','Cidofovir','adalimumab','leflunomide','tofacitinib'))\n",
      " OR (e1.medication = 'alfuzosin' AND e2.medication IN ('osimertinib','erythromycin','crizotinib','fingolimod','ivosidenib','Chloroquine','cobicistat','Clarithromycin','idelalisib','Cabozantinib','Arsenic Trioxide','nilotinib','hydroxychloroquine','anagrelide','ketoconazole','dolasetron','vemurafenib'))\n",
      " OR (e1.medication = 'ALPRAZolam' AND e2.medication IN ('morphine','FLUCONAZOLE','ketoconazole'))\n",
      " OR (e1.medication = 'alvimopan' AND e2.medication IN ('meperidine','HYDROmorphone','traMADol','oxyMORphone','morphine','fentaNYL','oxyCODONE','methadone','Buprenorphine'))\n",
      " OR (e1.medication = 'Amantadine' AND e2.medication IN ('BuPROPion'))\n",
      " OR (e1.medication = 'Ambrisentan' AND e2.medication IN ('teriflunomide','cycloSPORINE','leflunomide'))\n",
      " OR (e1.medication = 'Amikacin' AND e2.medication IN ('foscarnet','tacrolimus','Magnesium Sulfate','bacitracin','everolimus','Mannitol','Sirolimus','onabotulinumtoxinA','ioversol','Succinylcholine','Cidofovir','deferasirox','rocuronium','furosemide','Ethacrynic Acid','Bumetanide','torsemide'))\n",
      " OR (e1.medication = 'aminosalicylic acid' AND e2.medication IN ('deferasirox','teriflunomide','leflunomide'))\n",
      " OR (e1.medication = 'amiodarone' AND e2.medication IN ('erythromycin','nilutamide','simvastatin','Midostaurin','SORAfenib','tacrolimus','cobicistat','Clarithromycin','Enzalutamide','dasatinib','teriflunomide','CISplatin','Cabozantinib','Arsenic Trioxide','Sunitinib','venetoclax ','Isoproterenol','Oxytocin','encorafenib','PAZOPanib','fludrocortisone','GILTERITINIB','DAUNOrubicin','Eribulin','bosutinib','loperamide','Flutamide','IDArubicin','leflunomide','FLUCONAZOLE','clotrimazole','vemurafenib','osimertinib','ondansetron','warfarin','crizotinib','Panitumumab','fingolimod','ivosidenib','Chloroquine','DOXOrubicin','doxepin','nilotinib','abiraterone','promethazine','hydroxychloroquine','bicalutamide','lapatinib','hydrocorTISone','anagrelide','pirfenidone','OXALIplatin','Edoxaban','lenvatinib','levofloxacin','ketoconazole','dexamethasone','palonosetron','dolasetron','granisetron','amphotericin B'))\n",
      " OR (e1.medication = 'amLODIPine' AND e2.medication IN ('simvastatin','dolasetron','Enzalutamide'))\n",
      " OR (e1.medication = 'amoxicillin' AND e2.medication IN ('Methotrexate'))\n",
      " OR (e1.medication = 'amphotericin B' AND e2.medication IN ('amiodarone','foscarnet','Dofetilide','tacrolimus','Droperidol','Arsenic Trioxide','everolimus','Sirolimus','ioversol','Cidofovir','deferasirox','pimozide','Dronedarone'))\n",
      " OR (e1.medication = 'ampicillin' AND e2.medication IN ('Methotrexate'))\n",
      " OR (e1.medication = 'anakinra' AND e2.medication IN ('fingolimod','Cladribine','teriflunomide','tocilizumab','etanercept','InFLIXimab','adalimumab','leflunomide','tofacitinib'))\n",
      " OR (e1.medication = 'apixaban' AND e2.medication IN ('Ruxolitinib ','Piroxicam','TiCLOPIDINE','clopidogrel','Voriconazole','Nabumetone','Prasugrel','meloxicam','cobicistat','Phenytoin','Enzalutamide','Tirofiban','dasatinib','Fondaparinux','ketorolac','Cabozantinib','Alteplase','miFEPRIStone','RITONAvir','carBAMazepine','Heparin','treprostinil','Dipyridamole','dalteparin','Itraconazole','Epoprostenol','naproxen','Ponatinib','Aspirin','Bivalirudin','primiDONE','warfarin','ibuprofen','cilostazol','bromfenac','rivaroxaban','etodolac','Sulindac','Ibrutinib','ticagrelor','defibrotide','Abciximab','enoxaparin','RifAMPin','Eptifibatide','Argatroban','anagrelide','Edoxaban','acalabrutinib','indomethacin','deferasirox','PHENobarbital','Fosphenytoin','cangrelor','ketoconazole','Posaconazole','nelFINavir'))\n",
      " OR (e1.medication = 'apremilast' AND e2.medication IN ('PHENobarbital','Fosphenytoin','primiDONE','carBAMazepine','Phenytoin','Enzalutamide','RifAMPin'))\n",
      " OR (e1.medication = 'ARIPiprazole' AND e2.medication IN ('morphine','BuPROPion','metoCLOPramide'))\n",
      " OR (e1.medication = 'armodafiniL' AND e2.medication IN ('Olaparib '))\n",
      " OR (e1.medication = 'ASENapine' AND e2.medication IN ('osimertinib','crizotinib','fingolimod','ivosidenib','Chloroquine','metoCLOPramide','Cabozantinib','Arsenic Trioxide','nilotinib','BuPROPion','hydroxychloroquine','anagrelide','morphine','dolasetron','vemurafenib'))\n",
      " OR (e1.medication = 'atenolol' AND e2.medication IN ('theophylline','fingolimod','dolasetron'))\n",
      " OR (e1.medication = 'Atezolizumab' AND e2.medication IN ('etanercept','Thalidomide','fingolimod','InFLIXimab','Pomalidomide','Cladribine','teriflunomide','adalimumab','leflunomide','tofacitinib','LENALIDOMIDE'))\n",
      " OR (e1.medication = 'azaTHIOprine' AND e2.medication IN ('febuxostat','fingolimod','Cladribine','ribavirin','teriflunomide','Clozapine','allopurinol','etanercept','InFLIXimab','adalimumab','mercaptopurine','leflunomide','tofacitinib'))\n",
      " OR (e1.medication = 'bacitracin' AND e2.medication IN ('gentamicin','tobramycin','Amikacin','tacrolimus','everolimus','Sirolimus','ioversol','Cidofovir','deferasirox'))\n",
      " OR (e1.medication = 'baclofen' AND e2.medication IN ('morphine'))\n",
      " OR (e1.medication = 'balsalazide' AND e2.medication IN ('tacrolimus','Sirolimus','ioversol','Cidofovir','deferasirox'))\n",
      " OR (e1.medication = 'beclomethasone dipropionate' AND e2.medication IN ('miFEPRIStone'))\n",
      " OR (e1.medication = 'bedaquiline' AND e2.medication IN ('erythromycin','nilutamide','lorlatinib','Midostaurin','SORAfenib','tacrolimus','Clarithromycin','Enzalutamide','dasatinib','teriflunomide','Cabozantinib','Arsenic Trioxide','Sunitinib','Isoproterenol','Oxytocin','encorafenib','Dabrafenib','PAZOPanib','DAUNOrubicin','GILTERITINIB','Eribulin','bosutinib','Flutamide','IDArubicin','leflunomide','FLUCONAZOLE','vemurafenib','osimertinib','ondansetron','crizotinib','fingolimod','ivosidenib','Chloroquine','DOXOrubicin','cilostazol','doxepin','nilotinib','abiraterone','hydroxychloroquine','bicalutamide','lapatinib','anagrelide','OXALIplatin','lenvatinib','levofloxacin','ketoconazole','dexamethasone','palonosetron','dolasetron','granisetron','promethazine'))\n",
      " OR (e1.medication = 'Belatacept' AND e2.medication IN ('fingolimod','Cladribine','teriflunomide','Clozapine','etanercept','InFLIXimab','adalimumab','leflunomide','tofacitinib'))\n",
      " OR (e1.medication = 'BENDAmustine' AND e2.medication IN ('fingolimod','Cladribine','teriflunomide','Clozapine','etanercept','InFLIXimab','adalimumab','leflunomide','tofacitinib'))\n",
      " OR (e1.medication = 'betaxolol' AND e2.medication IN ('theophylline','fingolimod','dolasetron'))\n",
      " OR (e1.medication = 'Bethanechol' AND e2.medication IN ('BuPROPion'))\n",
      " OR (e1.medication = 'bicalutamide' AND e2.medication IN ('osimertinib','amiodarone','crizotinib','gatifloxacin','fingolimod','ivosidenib','Dofetilide','Droperidol','Procainamide','teriflunomide','Cabozantinib','Clozapine','ivabradine','Arsenic Trioxide','nilotinib','haloperidol','sotalol','miFEPRIStone','ILOperidone','anagrelide','Moxifloxacin','Citalopram','bedaquiline','pimozide','Dronedarone','dolasetron','leflunomide','methadone','vemurafenib'))\n",
      " OR (e1.medication = 'binimetinib' AND e2.medication IN ('Thalidomide','Ponatinib','acalabrutinib','leflunomide','dasatinib','teriflunomide','deferasirox','Cabozantinib','Ibrutinib'))\n",
      " OR (e1.medication = 'Bivalirudin' AND e2.medication IN ('warfarin','Prasugrel','cilostazol','rivaroxaban','apixaban','dasatinib','Fondaparinux','Cabozantinib','Alteplase','Ibrutinib','miFEPRIStone','enoxaparin','defibrotide','Heparin','dalteparin','Argatroban','anagrelide','Ponatinib','acalabrutinib','Edoxaban','deferasirox'))\n",
      " OR (e1.medication = 'Bleomycin' AND e2.medication IN ('Thalidomide','fingolimod','Brentuximab Vedotin','Cladribine','teriflunomide','Clozapine','etanercept','InFLIXimab','adalimumab','leflunomide','tofacitinib'))\n",
      " OR (e1.medication = 'Blinatumomab' AND e2.medication IN ('fingolimod','Cladribine','teriflunomide','Clozapine','BuPROPion','etanercept','InFLIXimab','traMADol','adalimumab','leflunomide','tofacitinib'))\n",
      " OR (e1.medication = 'bortezomib' AND e2.medication IN ('primiDONE','fingolimod','Phenytoin','Rifabutin','Cladribine','Enzalutamide','teriflunomide','Clozapine','RifAMPin','etanercept','carBAMazepine','InFLIXimab','PHENobarbital','Fosphenytoin','adalimumab','leflunomide','tofacitinib'))\n",
      " OR (e1.medication = 'bosentan' AND e2.medication IN ('lorlatinib','Brigatinib','MedroxyPROGESTERone Acetate','cobicistat','teriflunomide','glyBURIDE','venetoclax ','cycloSPORINE','encorafenib','axitinib','bosutinib','leflunomide','Olaparib '))\n",
      " OR (e1.medication = 'bosutinib' AND e2.medication IN ('erythromycin','lorlatinib','amiodarone','gatifloxacin','Voriconazole','cobicistat','teriflunomide','Cabozantinib','Clozapine','haloperidol','ivabradine','Arsenic Trioxide','miFEPRIStone','carBAMazepine','Moxifloxacin','indinavir','methadone','vemurafenib','ivosidenib','Chloroquine','Nafcillin','Procainamide','bosentan','nelFINavir','ILOperidone','anagrelide','ketoconazole','dexamethasone','adalimumab','Dronedarone','tofacitinib','Nefazodone','Dofetilide','Droperidol','Phenytoin','Rifabutin','Clarithromycin','Enzalutamide','idelalisib','modafinil','RITONAvir','duvelisib','Itraconazole','etravirine','Efavirenz','fosaprepitant','leflunomide','FLUCONAZOLE','osimertinib','voxelotor','primiDONE','crizotinib','Aprepitant','fingolimod','fosamprenavir','Imatinib','Cladribine','sotalol','hydroxychloroquine','RifAMPin','etanercept','Darunavir','Diltiazem','InFLIXimab','letermovir','PHENobarbital','Fosphenytoin','Citalopram','Posaconazole','bedaquiline','atazanavir','pimozide','dolasetron','verapamil','ciprofloxacin'))\n",
      " OR (e1.medication = 'brexpiprazole' AND e2.medication IN ('erythromycin','crizotinib','Aprepitant','DiphenhydrAMINE','Imatinib','cobicistat','Clarithromycin','idelalisib','metoCLOPramide','nilotinib','BuPROPion','abiraterone','cinacalcet','cimetidine','morphine','CELECOXIB','ketoconazole','FLUCONAZOLE','clotrimazole'))\n",
      " OR (e1.medication = 'Brigatinib' AND e2.medication IN ('erythromycin','lorlatinib','Voriconazole','Nefazodone','levonorgestrel','MedroxyPROGESTERone Acetate','cobicistat','Phenytoin','Rifabutin','Clarithromycin','Enzalutamide','idelalisib','teriflunomide','miFEPRIStone','modafinil','RITONAvir','neVIRapine','carBAMazepine','Itraconazole','Dabrafenib','etravirine','indinavir','Efavirenz','fosaprepitant','leflunomide','FLUCONAZOLE','voxelotor','primiDONE','crizotinib','Aprepitant','fingolimod','fosamprenavir','Imatinib','Nafcillin','Cladribine','eslicarbazepine','bosentan','nelFINavir','RifAMPin','etanercept','Darunavir','Diltiazem','InFLIXimab','letermovir','PHENobarbital','Fosphenytoin','ketoconazole','dexamethasone','Posaconazole','atazanavir','adalimumab','Dronedarone','tofacitinib','verapamil','ciprofloxacin'))\n",
      " OR (e1.medication = 'bromfenac' AND e2.medication IN ('warfarin','Prasugrel','tacrolimus','rivaroxaban','apixaban','dasatinib','teriflunomide','Fondaparinux','Cabozantinib','Ibrutinib','enoxaparin','everolimus','dalteparin','Sirolimus','Methotrexate','Ponatinib','acalabrutinib','Edoxaban','ioversol','deferasirox','leflunomide'))\n",
      " OR (e1.medication = 'BuPROPion' AND e2.medication IN ('milnacipran','dextroamphetamine','gatifloxacin','meperidine','OLANZapine','galantamine','Meropenem','procarbazine','teriflunomide','nortriptyline','brexpiprazole','Clozapine','interferon beta-1a','haloperidol','rivastigmine','HYDROmorphone','cosyntropin','Moxifloxacin','ertapenem','vortioxetine','morphine','selegiline','Neostigmine','mexiletine','Amantadine','Bethanechol','PARoxetine','4-aminopyridine','fluvoxaMINE','methadone','ondansetron','foscarnet','Chloroquine','methylphenidate','Methylprednisolone','ASENapine','Imipramine','ILOperidone','Cyclobenzaprine','Fluphenazine','perphenazine','dexmethylphenidate','traMADol','ciprofloxacin','venlafaxine','Prednisone','desvenlafaxine','Prochlorperazine','Thiothixene','dexamethasone','CycloSERINE','palonosetron','tapentadol','Duloxetine','granisetron','tetrabenazine','Nefazodone','phentermine','cariprazine','Enzalutamide','Donepezil','TraZODone','RISperidone','FLUoxetine','Blinatumomab','dronabinol','rasagiline','fludrocortisone','ClomiPRAMINE','oxyMORphone','chlorproMAZINE','lisdexamfetamine','Desipramine','Aldesleukin','oxyCODONE','leflunomide','sertraline','Intron A','metoCLOPramide','vilazodone','lurasidone','linezolid','doxepin','Prednisolone','protriptyline','mirtazapine','Buprenorphine','QUEtiapine','theophylline','Peginterferon Alfa-2a','deutetrabenazine','lithium carbonate','hydrocorTISone','ofloxacin','lidocaine','amitriptyline','ARIPiprazole','interferon beta-1b','Citalopram','fentaNYL','levofloxacin','valbenazine','pimozide','dolasetron','promethazine'))\n",
      " OR (e1.medication = 'Cabazitaxel' AND e2.medication IN ('fingolimod','Cladribine','teriflunomide','Clozapine','etanercept','InFLIXimab','adalimumab','leflunomide','tofacitinib'))\n",
      " OR (e1.medication = 'Cabozantinib' AND e2.medication IN ('erythromycin','Ruxolitinib ','amiodarone','Midostaurin','tacrolimus','nortriptyline','Clozapine','ivabradine','Arsenic Trioxide','miFEPRIStone','carBAMazepine','treprostinil','Oxytocin','PAZOPanib','indinavir','Eribulin','alfuzosin','Flutamide','Clofazimine ','IDArubicin','methadone','vemurafenib','ondansetron','ibuprofen','ivosidenib','Chloroquine','Procainamide','Sulindac','Ibrutinib','ASENapine','ticagrelor','bicalutamide','Adenosine','ILOperidone','Eptifibatide','Fluphenazine','traMADol','venlafaxine','acalabrutinib','palonosetron','Dronedarone','granisetron','tetrabenazine','Nefazodone','Nabumetone','SORAfenib','Droperidol','Rifabutin','Clarithromycin','Enzalutamide','apixaban','tiZANidine','HydrOXYzine','RITONAvir','RISperidone','FLUoxetine','Dipyridamole','Efavirenz','bosutinib','lisdexamfetamine','FLUCONAZOLE','Bivalirudin','primiDONE','crizotinib','fingolimod','fosamprenavir','sertraline','rivaroxaban','etodolac','telavancin','hydroxychloroquine','Buprenorphine','deutetrabenazine','amitriptyline','Edoxaban','lenvatinib','PHENobarbital','cangrelor','Fosphenytoin','Citalopram','bedaquiline','atazanavir','pimozide','propafenone','dolasetron','nelFINavir','ciprofloxacin','promethazine','Piroxicam','TiCLOPIDINE','gatifloxacin','Voriconazole','Prasugrel','cobicistat','Tirofiban','dasatinib','Fondaparinux','Alteplase','haloperidol','Sunitinib','Heparin','Epoprostenol','Moxifloxacin','DAUNOrubicin','Aspirin','pimavanserin','Thalidomide','foscarnet','cilostazol','DOXOrubicin','nilotinib','abiraterone','defibrotide','Abciximab','Imipramine','perphenazine','Argatroban','anagrelide','indomethacin','Prochlorperazine','ketoconazole','nilutamide','clopidogrel','Dofetilide','meloxicam','Phenytoin','binimetinib','ketorolac','colchicine','venetoclax ','atomoxetine','TraZODone','solifenacin','dalteparin','Isoproterenol','encorafenib','Itraconazole','rilpivirine','naproxen','Ponatinib','GILTERITINIB','ClomiPRAMINE','chlorproMAZINE','Desipramine','osimertinib','azithromycin','Vasopressin','warfarin','bromfenac','doxepin','sotalol','ranolazine','protriptyline','enoxaparin','RifAMPin','QUEtiapine','lithium carbonate','lapatinib','ofloxacin','OXALIplatin','deferasirox','levofloxacin','flecainide','valbenazine','Posaconazole'))\n",
      " OR (e1.medication = 'Calcium Acetate' AND e2.medication IN ('dolutegravir'))\n",
      " OR (e1.medication = 'calcium citrate' AND e2.medication IN ('dolutegravir'))\n",
      " OR (e1.medication = 'calcium gluconate' AND e2.medication IN ('Digoxin','CeftriaXONE','dolutegravir'))\n",
      " OR (e1.medication = 'cangrelor' AND e2.medication IN ('TiCLOPIDINE','warfarin','clopidogrel','Prasugrel','rivaroxaban','Tirofiban','apixaban','dasatinib','Fondaparinux','Cabozantinib','Ibrutinib','Alteplase','miFEPRIStone','enoxaparin','defibrotide','Abciximab','Eptifibatide','Heparin','Dipyridamole','dalteparin','Argatroban','Ponatinib','Edoxaban','acalabrutinib','deferasirox'))\n",
      " OR (e1.medication = 'Captopril' AND e2.medication IN ('potassium gluconate','Potassium Citrate','teriflunomide','Potassium Iodide','leflunomide','Potassium Chloride','venetoclax '))\n",
      " OR (e1.medication = 'CARBOplatin' AND e2.medication IN ('Thalidomide','fingolimod','SORAfenib','Thiotepa','Cladribine','teriflunomide','Clozapine','etanercept','InFLIXimab','Cidofovir','adalimumab','leflunomide','tofacitinib'))\n",
      " OR (e1.medication = 'cariprazine' AND e2.medication IN ('morphine','ketoconazole','cobicistat','BuPROPion','Clarithromycin','idelalisib','metoCLOPramide'))\n",
      " OR (e1.medication = 'carisoprodoL' AND e2.medication IN ('morphine'))\n",
      " OR (e1.medication = 'CARVedilol' AND e2.medication IN ('theophylline','fingolimod','Albuterol','PAZOPanib','Edoxaban','EPINEPHrine','salmeterol','venetoclax ','dolasetron'))\n",
      " OR (e1.medication = 'CeftriaXONE' AND e2.medication IN ('Leucovorin','Calcium Chloride','calcium gluconate'))\n",
      " OR (e1.medication = 'Cetuximab' AND e2.medication IN ('Thalidomide'))\n",
      " OR (e1.medication = 'Chlorambucil' AND e2.medication IN ('Thalidomide','fingolimod','Thiotepa','Cladribine','teriflunomide','Clozapine','etanercept','InFLIXimab','adalimumab','leflunomide','tofacitinib'))\n",
      " OR (e1.medication = 'ChlordiazePOXIDE' AND e2.medication IN ('morphine'))\n",
      " OR (e1.medication = 'Chloroquine' AND e2.medication IN ('erythromycin','Midostaurin','amiodarone','gatifloxacin','Voriconazole','tacrolimus','dasatinib','nortriptyline','Cabozantinib','Clozapine','haloperidol','ivabradine','Arsenic Trioxide','miFEPRIStone','Sunitinib','Oxytocin','Moxifloxacin','PAZOPanib','DAUNOrubicin','pimavanserin','Eribulin','alfuzosin','IDArubicin','Clofazimine ','methadone','vemurafenib','ondansetron','foscarnet','ivosidenib','DOXOrubicin','cilostazol','Procainamide','Remdesivir','nilotinib','BuPROPion','ASENapine','Imipramine','ILOperidone','Fluphenazine','perphenazine','anagrelide','traMADol','ciprofloxacin','venlafaxine','Prochlorperazine','ketoconazole','palonosetron','Dronedarone','granisetron','tetrabenazine','SORAfenib','Dofetilide','Droperidol','Clarithromycin','tiZANidine','HydrOXYzine','atomoxetine','TraZODone','RISperidone','solifenacin','FLUoxetine','rilpivirine','encorafenib','GILTERITINIB','Efavirenz','ClomiPRAMINE','chlorproMAZINE','bosutinib','Desipramine','lisdexamfetamine','FLUCONAZOLE','osimertinib','azithromycin','Vasopressin','crizotinib','fingolimod','sertraline','telavancin','doxepin','sotalol','ranolazine','hydroxychloroquine','mirtazapine','protriptyline','Buprenorphine','QUEtiapine','deutetrabenazine','lapatinib','lithium carbonate','ofloxacin','amitriptyline','OXALIplatin','lenvatinib','Citalopram','levofloxacin','flecainide','valbenazine','Posaconazole','bedaquiline','pimozide','propafenone','dolasetron','promethazine'))\n",
      " OR (e1.medication = 'chlorproMAZINE' AND e2.medication IN ('osimertinib','Potassium Citrate','crizotinib','fingolimod','ivosidenib','Chloroquine','metoCLOPramide','Cabozantinib','Arsenic Trioxide','nilotinib','BuPROPion','hydroxychloroquine','anagrelide','morphine','dolasetron','Potassium Chloride','vemurafenib'))\n",
      " OR (e1.medication = 'Cholestyramine' AND e2.medication IN ('teriflunomide'))\n",
      " OR (e1.medication = 'ciclesonide' AND e2.medication IN ('Cladribine'))\n",
      " OR (e1.medication = 'cilostazol' AND e2.medication IN ('erythromycin','TiCLOPIDINE','gatifloxacin','Voriconazole','Nefazodone','Dofetilide','Droperidol','cobicistat','Clarithromycin','apixaban','idelalisib','dasatinib','Fondaparinux','Cabozantinib','Clozapine','haloperidol','ivabradine','Arsenic Trioxide','miFEPRIStone','RITONAvir','duvelisib','dalteparin','Itraconazole','Moxifloxacin','PAZOPanib','Ponatinib','indinavir','fosaprepitant','methadone','fluvoxaMINE','FLUCONAZOLE','Bivalirudin','vemurafenib','osimertinib','crizotinib','Aprepitant','fingolimod','fosamprenavir','ivosidenib','Chloroquine','Imatinib','rivaroxaban','Procainamide','Ibrutinib','sotalol','nelFINavir','hydroxychloroquine','enoxaparin','defibrotide','Darunavir','ILOperidone','Diltiazem','Omeprazole','Argatroban','letermovir','acalabrutinib','Edoxaban','deferasirox','Posaconazole','bedaquiline','ketoconazole','Lansoprazole','atazanavir','pimozide','Dronedarone','dolasetron','verapamil'))\n",
      " OR (e1.medication = 'cimetidine' AND e2.medication IN ('Dofetilide','Phenytoin','tiZANidine','dasatinib','brexpiprazole','rilpivirine','PAZOPanib','lomustine','loperamide','Fosphenytoin','Carmustine','Citalopram','atazanavir','pimozide','oxyCODONE'))\n",
      " OR (e1.medication = 'ciprofloxacin' AND e2.medication IN ('Cabozantinib','Arsenic Trioxide','venetoclax ','fludrocortisone','bosutinib','glimepiride','vemurafenib','warfarin','crizotinib','Brigatinib','fingolimod','repaglinide','ivosidenib','Chloroquine','insulin glargine','Methylprednisolone','Ibrutinib','glyBURIDE','nilotinib','BuPROPion','Prednisolone','hydroxychloroquine','insulin degludec','glipiZIDE','theophylline','hydrocorTISone','anagrelide','pirfenidone','Prednisone','acalabrutinib','naloxegol','dexamethasone','dolasetron','Olaparib ','Nateglinide'))\n",
      " OR (e1.medication = 'Cladribine' AND e2.medication IN ('thioguanine','Ruxolitinib ','Obinutuzumab','Midostaurin','Brentuximab Vedotin','PEMEtrexed','tacrolimus','dupilumab','Belatacept','Mechlorethamine','procarbazine','Pentostatin','abatacept','dasatinib','teriflunomide','Daratumumab','Clozapine','Cabazitaxel','Dacarbazine','tbo-filgrastim','anakinra','carBAMazepine','Cyclophosphamide','Elotuzumab','cosyntropin','Pomalidomide','PAZOPanib','DAUNOrubicin','Alemtuzumab','Carmustine','Eribulin','Ixazomib','IDArubicin','hydroxyurea','Mitomycin','Basiliximab','Thalidomide','ciclesonide','Brigatinib','Thiotepa','budesonide','DOXOrubicin','palbociclib','Procainamide','Bleomycin','Methylprednisolone','Ibrutinib','Decitabine','nilotinib','roflumilast','vedolizumab','BENDAmustine','ustekinumab','azaTHIOprine','everolimus','Trastuzumab','ganciclovir','Methotrexate','Prednisone','acalabrutinib','Cytarabine','lomustine','Axicabtagene Ciloleucel','dexamethasone','adalimumab','tofacitinib','Olaparib ','Albendazole','Anti-Thymocyte Globulin (Rabbit)','bortezomib','abemaciclib','Flucytosine','CARBOplatin','idelalisib','Atezolizumab','CISplatin','tocilizumab','Penicillamine','Busulfan','Zidovudine','Dapsone','colchicine','Pralatrexate','capecitabine','duvelisib','mitoXANTRONE','venetoclax ','dimethyl fumarate','Blinatumomab','fludrocortisone','Ponatinib','TEMOZOLOMIDE','Ifosfamide','Gemcitabine','bosutinib','Chlorambucil','mycophenolate mofetil','Aldesleukin','fluticasone','leflunomide','ValGANCIclovir','riTUXimab','LENALIDOMIDE','Sargramostim','osimertinib','azaCITIDine','Clofarabine','fingolimod','Imatinib','Streptozocin','Intron A','fluorouracil','linezolid','Prednisolone','DACTINomycin','etanercept','cycloSPORINE','Peginterferon Alfa-2a','hydrocorTISone','Pegfilgrastim-cbqv','InFLIXimab','flunisolide','Sirolimus','OXALIplatin','Etoposide','Felbamate','mercaptopurine','Carfilzomib','Melphalan'))\n",
      " OR (e1.medication = 'Clarithromycin' AND e2.medication IN ('erythromycin','Ruxolitinib ','lorlatinib','Midostaurin','simvastatin','amiodarone','gatifloxacin','tamsulosin','tacrolimus','dasatinib','teriflunomide','Cabozantinib','brexpiprazole','ivabradine','haloperidol','Arsenic Trioxide','miFEPRIStone','carBAMazepine','Moxifloxacin','PAZOPanib','pimavanserin','alfuzosin','fesoterodine','maraviroc','methadone','eletriptan','Tolvaptan','vemurafenib','Atorvastatin','cabergoline','Brigatinib','ivosidenib','Chloroquine','budesonide','cilostazol','palbociclib','Procainamide','Methylprednisolone','Ibrutinib','nilotinib','ticagrelor','everolimus','ILOperidone','anagrelide','guanFACINE','acalabrutinib','axitinib','naloxegol','eszopiclone','Dronedarone','tofacitinib','Olaparib ','abemaciclib','lovastatin','Dofetilide','Droperidol','simeprevir','silodosin','cariprazine','niMODipine','colchicine','duvelisib','venetoclax ','daclatasvir','solifenacin','Digoxin','encorafenib','Ponatinib','GILTERITINIB','bosutinib','loperamide','fluticasone','oxyCODONE','leflunomide','osimertinib','voxelotor','macitentan','warfarin','crizotinib','fingolimod','vilazodone','lurasidone','sotalol','ranolazine','hydroxychloroquine','QUEtiapine','cycloSPORINE','lapatinib','Eplerenone','sildenafil','Sirolimus','larotrectinib','Edoxaban','Citalopram','fentaNYL','valbenazine','salmeterol','bedaquiline','pimozide','dolasetron','suvorexant'))\n",
      " OR (e1.medication = 'Clevidipine' AND e2.medication IN ('dolasetron'))\n",
      " OR (e1.medication = 'clobazam' AND e2.medication IN ('morphine'))\n",
      " OR (e1.medication = 'CloniDINE' AND e2.medication IN ('doxepin'))\n",
      " OR (e1.medication = 'clopidogrel' AND e2.medication IN ('TiCLOPIDINE','warfarin','repaglinide','Prasugrel','cobicistat','rivaroxaban','Tirofiban','apixaban','pioglitazone','dasatinib','Fondaparinux','Cabozantinib','Ibrutinib','miFEPRIStone','RITONAvir','enoxaparin','defibrotide','Abciximab','Eptifibatide','FLUoxetine','dalteparin','Omeprazole','Argatroban','Ponatinib','acalabrutinib','Edoxaban','RABEprazole','deferasirox','loperamide','cangrelor','Esomeprazole','fluvoxaMINE','FLUCONAZOLE'))\n",
      " OR (e1.medication = 'colchicine' AND e2.medication IN ('erythromycin','simvastatin','Midostaurin','crizotinib','Aprepitant','SORAfenib','tacrolimus','cobicistat','Imatinib','Cladribine','Clarithromycin','idelalisib','Cabozantinib','nilotinib','venetoclax ','cycloSPORINE','lapatinib','rosuvastatin','Ponatinib','GILTERITINIB','ketoconazole','FLUCONAZOLE','vemurafenib'))\n",
      " OR (e1.medication = 'colesevelam' AND e2.medication IN ('teriflunomide'))\n",
      " OR (e1.medication = 'colestipol' AND e2.medication IN ('teriflunomide'))\n",
      " OR (e1.medication = 'CycloSERINE' AND e2.medication IN ('BuPROPion'))\n",
      " OR (e1.medication = 'cycloSPORINE' AND e2.medication IN ('erythromycin','simvastatin','Voriconazole','tacrolimus','cobicistat','teriflunomide','Ambrisentan','miFEPRIStone','carBAMazepine','PAZOPanib','indinavir','Atorvastatin','foscarnet','bosentan','SulfADIAzine','everolimus','Aliskiren','Cidofovir','ketoconazole','adalimumab','Dronedarone','tofacitinib','pravastatin','lovastatin','Nefazodone','simeprevir','Rifabutin','Clarithromycin','idelalisib','colchicine','RITONAvir','venetoclax ','rosuvastatin','Itraconazole','loperamide','pitavastatin','leflunomide','fingolimod','fosamprenavir','repaglinide','Cladribine','RifAMPin','etanercept','Darunavir','InFLIXimab','letermovir','ioversol','Edoxaban','deferasirox','Posaconazole','atazanavir','pimozide','nelFINavir'))\n",
      " OR (e1.medication = 'Dacarbazine' AND e2.medication IN ('Thalidomide','fingolimod','Cladribine','teriflunomide','Clozapine','etanercept','InFLIXimab','Aldesleukin','adalimumab','leflunomide','tofacitinib'))\n",
      " OR (e1.medication = '4-aminopyridine' AND e2.medication IN ('BuPROPion'))\n",
      " OR (e1.medication = 'dalteparin' AND e2.medication IN ('Ruxolitinib ','Piroxicam','TiCLOPIDINE','clopidogrel','Nabumetone','Prasugrel','meloxicam','Tirofiban','apixaban','ketorolac','dasatinib','Fondaparinux','Cabozantinib','Alteplase','miFEPRIStone','Heparin','treprostinil','Dipyridamole','Epoprostenol','naproxen','Ponatinib','Aspirin','Bivalirudin','warfarin','ibuprofen','cilostazol','bromfenac','rivaroxaban','etodolac','Sulindac','Ibrutinib','ticagrelor','enoxaparin','defibrotide','Abciximab','Eptifibatide','Argatroban','anagrelide','Edoxaban','acalabrutinib','indomethacin','deferasirox','cangrelor'))\n",
      " OR (e1.medication = 'dantrolene' AND e2.medication IN ('morphine','teriflunomide','leflunomide'))\n",
      " OR (e1.medication = 'Daratumumab' AND e2.medication IN ('etanercept','fingolimod','InFLIXimab','Cladribine','teriflunomide','Clozapine','adalimumab','leflunomide','tofacitinib'))\n",
      " OR (e1.medication = 'darifenacin' AND e2.medication IN ('Potassium Citrate','ketoconazole','cobicistat','Potassium Chloride','idelalisib'))\n",
      " OR (e1.medication = 'Darunavir' AND e2.medication IN ('simvastatin','Brigatinib','ivosidenib','tacrolimus','cilostazol','dasatinib','teriflunomide','Ibrutinib','venetoclax ','everolimus','cycloSPORINE','rosuvastatin','encorafenib','acalabrutinib','bosutinib','naloxegol','salmeterol','leflunomide','Olaparib '))\n",
      " OR (e1.medication = 'DAUNOrubicin' AND e2.medication IN ('amiodarone','gatifloxacin','Dofetilide','Droperidol','teriflunomide','Cabozantinib','Clozapine','haloperidol','ivabradine','Arsenic Trioxide','miFEPRIStone','Moxifloxacin','Efavirenz','leflunomide','methadone','vemurafenib','osimertinib','Thalidomide','crizotinib','fingolimod','ivosidenib','Chloroquine','Cladribine','Procainamide','nilotinib','sotalol','hydroxychloroquine','etanercept','Trastuzumab','ILOperidone','InFLIXimab','anagrelide','Citalopram','bedaquiline','adalimumab','pimozide','Dronedarone','dolasetron','tofacitinib'))\n",
      " OR (e1.medication = 'deferasirox' AND e2.medication IN ('Ruxolitinib ','balsalazide','Piroxicam','TiCLOPIDINE','Amikacin','Prasugrel','tacrolimus','Tirofiban','dasatinib','Fondaparinux','teriflunomide','Pamidronate','Cabozantinib','Clozapine','Alteplase','aminosalicylic acid','Heparin','treprostinil','Epoprostenol','Aspirin','mesalamine','CELECOXIB','foscarnet','ibuprofen','cilostazol','Sulindac','Methylprednisolone','Ibrutinib','ticagrelor','defibrotide','Abciximab','Eptifibatide','risedronate','Argatroban','anagrelide','Methotrexate','Prednisone','acalabrutinib','indomethacin','Cidofovir','VANCOMYCIN','dexamethasone','Bismuth Subsalicylate','Salsalate','clopidogrel','Nabumetone','ibandronate','meloxicam','binimetinib','olsalazine','apixaban','tiZANidine','ketorolac','CISplatin','bacitracin','Dipyridamole','dalteparin','encorafenib','naproxen','Ponatinib','fludrocortisone','rasagiline','leflunomide','Bivalirudin','warfarin','gentamicin','tobramycin','bromfenac','rivaroxaban','etodolac','telavancin','Prednisolone','enoxaparin','cycloSPORINE','theophylline','lithium carbonate','hydrocorTISone','Sirolimus','ioversol','Edoxaban','cangrelor','zoledronic acid','amphotericin B'))\n",
      " OR (e1.medication = 'deutetrabenazine' AND e2.medication IN ('osimertinib','crizotinib','fingolimod','ivosidenib','Chloroquine','procarbazine','metoCLOPramide','Cabozantinib','Arsenic Trioxide','nilotinib','BuPROPion','hydroxychloroquine','anagrelide','dolasetron','cinacalcet','promethazine','vemurafenib'))\n",
      " OR (e1.medication = 'dexamethasone' AND e2.medication IN ('lorlatinib','amiodarone','gatifloxacin','simeprevir','dasatinib','teriflunomide','miFEPRIStone','venetoclax ','daclatasvir','rilpivirine','encorafenib','Moxifloxacin','bosutinib','oxyCODONE','leflunomide','methadone','voxelotor','Thalidomide','Brigatinib','fingolimod','Cladribine','nilotinib','BuPROPion','ranolazine','everolimus','etanercept','ofloxacin','InFLIXimab','guanFACINE','doravirine','deferasirox','axitinib','fentaNYL','levofloxacin','bedaquiline','adalimumab','tofacitinib','Olaparib ','ciprofloxacin'))\n",
      " OR (e1.medication = 'dexlansoprazole' AND e2.medication IN ('dasatinib','erlotinib','rilpivirine','atazanavir','tacrolimus','nelFINavir','Methotrexate','PAZOPanib','acalabrutinib'))\n",
      " OR (e1.medication = 'diazePAM' AND e2.medication IN ('morphine'))\n",
      " OR (e1.medication = 'didanosine' AND e2.medication IN ('hydroxyurea','teriflunomide','leflunomide'))\n",
      " OR (e1.medication = 'Digoxin' AND e2.medication IN ('lapatinib','parathyroid hormone','calcium gluconate','fingolimod','dolasetron','Calcium Chloride','Clarithromycin'))\n",
      " OR (e1.medication = 'DiphenhydrAMINE' AND e2.medication IN ('Potassium Citrate','zonisamide','brexpiprazole','topiramate','Potassium Chloride'))\n",
      " OR (e1.medication = 'Disulfiram' AND e2.medication IN ('MetroNIDAZOLE','teriflunomide','sertraline','leflunomide','RITONAvir'))\n",
      " OR (e1.medication = 'DOBUTamine' AND e2.medication IN ('doxepin'))\n",
      " OR (e1.medication = 'Donepezil' AND e2.medication IN ('BuPROPion'))\n",
      " OR (e1.medication = 'Doxercalciferol' AND e2.medication IN ('Vitamin D2','sucralfate','Paricalcitol','calcitriol','Vitamin D3'))\n",
      " OR (e1.medication = 'DOXOrubicin' AND e2.medication IN ('amiodarone','gatifloxacin','Dofetilide','Droperidol','teriflunomide','Cabozantinib','Clozapine','haloperidol','ivabradine','Arsenic Trioxide','miFEPRIStone','Moxifloxacin','Efavirenz','leflunomide','methadone','vemurafenib','osimertinib','Thalidomide','crizotinib','fingolimod','ivosidenib','Chloroquine','Cladribine','Procainamide','nilotinib','sotalol','hydroxychloroquine','etanercept','Trastuzumab','ILOperidone','InFLIXimab','anagrelide','Citalopram','bedaquiline','adalimumab','pimozide','Dronedarone','dolasetron','tofacitinib'))\n",
      " OR (e1.medication = 'dronabinol' AND e2.medication IN ('BuPROPion','traMADol','Buprenorphine'))\n",
      " OR (e1.medication = 'Edoxaban' AND e2.medication IN ('erythromycin','Ruxolitinib ','Piroxicam','amiodarone','Midostaurin','TiCLOPIDINE','Prasugrel','tacrolimus','cobicistat','Tirofiban','dasatinib','Fondaparinux','Cabozantinib','Alteplase','miFEPRIStone','Heparin','treprostinil','Epoprostenol','Aspirin','vemurafenib','ibuprofen','cilostazol','Sulindac','Ibrutinib','nilotinib','abiraterone','ticagrelor','defibrotide','Abciximab','proGESTerone','Eptifibatide','Argatroban','anagrelide','acalabrutinib','indomethacin','ketoconazole','verapamil','Dronedarone','clopidogrel','Nabumetone','SORAfenib','meloxicam','simeprevir','Clarithromycin','apixaban','ketorolac','ulipristal','RITONAvir','daclatasvir','Dipyridamole','dalteparin','Itraconazole','alpelisib','naproxen','Ponatinib','GILTERITINIB','Bivalirudin','azithromycin','warfarin','crizotinib','felodipine','bromfenac','rivaroxaban','etodolac','ranolazine','enoxaparin','RifAMPin','CARVedilol','cycloSPORINE','Diltiazem','lapatinib','Spironolactone','deferasirox','cangrelor','atazanavir','nelFINavir','suvorexant'))\n",
      " OR (e1.medication = 'Efavirenz' AND e2.medication IN ('erythromycin','lorlatinib','SORAfenib','tacrolimus','dasatinib','teriflunomide','Cabozantinib','Arsenic Trioxide','Sunitinib','venetoclax ','Isoproterenol','Oxytocin','encorafenib','PAZOPanib','DAUNOrubicin','GILTERITINIB','bosutinib','Eribulin','IDArubicin','leflunomide','FLUCONAZOLE','vemurafenib','osimertinib','ondansetron','crizotinib','Brigatinib','fingolimod','ivosidenib','Chloroquine','DOXOrubicin','doxepin','nilotinib','hydroxychloroquine','lapatinib','anagrelide','OXALIplatin','lenvatinib','axitinib','levofloxacin','Olaparib ','ketoconazole','palonosetron','dolasetron','granisetron','promethazine'))\n",
      " OR (e1.medication = 'eltrombopag' AND e2.medication IN ('teriflunomide','Carfilzomib','Peginterferon Alfa-2a','leflunomide','Intron A'))\n",
      " OR (e1.medication = 'Enasidenib' AND e2.medication IN ('rosuvastatin'))\n",
      " OR (e1.medication = 'enoxaparin' AND e2.medication IN ('Ruxolitinib ','Piroxicam','TiCLOPIDINE','clopidogrel','Nabumetone','Prasugrel','meloxicam','Tirofiban','apixaban','ketorolac','dasatinib','Fondaparinux','Cabozantinib','Alteplase','miFEPRIStone','Heparin','treprostinil','Dipyridamole','dalteparin','Epoprostenol','naproxen','Ponatinib','Aspirin','Bivalirudin','warfarin','ibuprofen','cilostazol','bromfenac','rivaroxaban','etodolac','Sulindac','Ibrutinib','ticagrelor','defibrotide','Abciximab','Eptifibatide','Argatroban','anagrelide','Edoxaban','acalabrutinib','indomethacin','deferasirox','cangrelor'))\n",
      " OR (e1.medication = 'entacapone' AND e2.medication IN ('procarbazine'))\n",
      " OR (e1.medication = 'Enzalutamide' AND e2.medication IN ('lorlatinib','amiodarone','Midostaurin','gatifloxacin','nisoldipine','tacrolimus','cobicistat','dasatinib','Cabozantinib','Clozapine','ivabradine','haloperidol','amLODIPine','Arsenic Trioxide','miFEPRIStone','Sunitinib','Moxifloxacin','apremilast','Ixazomib','maraviroc','methadone','Tolvaptan','vemurafenib','Brigatinib','ivosidenib','palbociclib','Procainamide','Ibrutinib','nilotinib','BuPROPion','abiraterone','ticagrelor','everolimus','ILOperidone','anagrelide','traMADol','guanFACINE','acalabrutinib','doravirine','axitinib','naloxegol','Dronedarone','tofacitinib','Olaparib ','bortezomib','abemaciclib','isradipine','Dofetilide','Droperidol','simeprevir','idelalisib','apixaban','niMODipine','RITONAvir','duvelisib','venetoclax ','daclatasvir','rilpivirine','encorafenib','etravirine','alpelisib','sofosbuvir','bosutinib','praziquantel','oxyCODONE','BusPIRone','osimertinib','voxelotor','macitentan','crizotinib','NiCARdipine','fingolimod','Imatinib','felodipine','rivaroxaban','lurasidone','sotalol','ranolazine','QUEtiapine','NIFEdipine','Sirolimus','larotrectinib','Citalopram','fentaNYL','valbenazine','bedaquiline','pimozide','dolasetron','suvorexant'))\n",
      " OR (e1.medication = 'EPINEPHrine' AND e2.medication IN ('Labetalol','nortriptyline','Nadolol','doxepin','linezolid','sotalol','timolol','protriptyline','CARVedilol','Imipramine','amitriptyline','ClomiPRAMINE','Desipramine','propranolol','Pindolol'))\n",
      " OR (e1.medication = 'Epoprostenol' AND e2.medication IN ('rivaroxaban','apixaban','tiZANidine','dasatinib','Fondaparinux','Cabozantinib','Ibrutinib','enoxaparin','dalteparin','Ponatinib','Edoxaban','acalabrutinib','deferasirox'))\n",
      " OR (e1.medication = 'Eptifibatide' AND e2.medication IN ('TiCLOPIDINE','warfarin','clopidogrel','Prasugrel','rivaroxaban','Tirofiban','apixaban','dasatinib','Fondaparinux','Cabozantinib','Ibrutinib','Alteplase','enoxaparin','defibrotide','Abciximab','Heparin','Dipyridamole','dalteparin','Argatroban','anagrelide','Ponatinib','Edoxaban','acalabrutinib','deferasirox','cangrelor'))\n",
      " OR (e1.medication = 'Eribulin' AND e2.medication IN ('amiodarone','gatifloxacin','Dofetilide','Droperidol','teriflunomide','Cabozantinib','Clozapine','haloperidol','ivabradine','Arsenic Trioxide','miFEPRIStone','Moxifloxacin','Efavirenz','leflunomide','methadone','vemurafenib','osimertinib','crizotinib','fingolimod','ivosidenib','Chloroquine','Cladribine','Procainamide','nilotinib','sotalol','hydroxychloroquine','etanercept','ILOperidone','InFLIXimab','anagrelide','Citalopram','bedaquiline','adalimumab','pimozide','Dronedarone','dolasetron','tofacitinib'))\n",
      " OR (e1.medication = 'ertapenem' AND e2.medication IN ('BuPROPion'))\n",
      " OR (e1.medication = 'erythromycin' AND e2.medication IN ('simvastatin','amiodarone','gatifloxacin','Voriconazole','tacrolimus','cobicistat','dasatinib','teriflunomide','Cabozantinib','brexpiprazole','haloperidol','ivabradine','Arsenic Trioxide','miFEPRIStone','carBAMazepine','Moxifloxacin','PAZOPanib','indinavir','alfuzosin','methadone','eletriptan','vemurafenib','Atorvastatin','cabergoline','Brigatinib','Chloroquine','ivosidenib','cilostazol','Procainamide','Ibrutinib','nilotinib','nelFINavir','everolimus','ILOperidone','anagrelide','guanFACINE','acalabrutinib','axitinib','naloxegol','ketoconazole','Dronedarone','Olaparib ','lovastatin','Nefazodone','Dofetilide','Droperidol','simeprevir','Clarithromycin','idelalisib','colchicine','RITONAvir','venetoclax ','solifenacin','Itraconazole','encorafenib','Efavirenz','loperamide','bosutinib','pitavastatin','oxyCODONE','leflunomide','FLUCONAZOLE','osimertinib','macitentan','warfarin','crizotinib','fingolimod','fosamprenavir','lurasidone','sotalol','ranolazine','hydroxychloroquine','QUEtiapine','cycloSPORINE','Diltiazem','Eplerenone','sildenafil','Sirolimus','Edoxaban','Citalopram','fentaNYL','Posaconazole','bedaquiline','pimozide','dolasetron','verapamil','suvorexant'))\n",
      " OR (e1.medication = 'esmolol' AND e2.medication IN ('theophylline','fingolimod','dolasetron'))\n",
      " OR (e1.medication = 'Esomeprazole' AND e2.medication IN ('dasatinib','Citalopram','clopidogrel','erlotinib','rilpivirine','atazanavir','tacrolimus','nelFINavir','Methotrexate','PAZOPanib','acalabrutinib'))\n",
      " OR (e1.medication = 'estradiol' AND e2.medication IN ('Thalidomide','tranexamic acid','Pomalidomide','Carfilzomib','LENALIDOMIDE'))\n",
      " OR (e1.medication = 'eszopiclone' AND e2.medication IN ('morphine','ketoconazole','cobicistat','Clarithromycin','idelalisib'))\n",
      " OR (e1.medication = 'etodolac' AND e2.medication IN ('warfarin','Prasugrel','tacrolimus','rivaroxaban','apixaban','dasatinib','teriflunomide','Fondaparinux','Cabozantinib','Ibrutinib','enoxaparin','everolimus','dalteparin','Sirolimus','Methotrexate','Ponatinib','acalabrutinib','Edoxaban','ioversol','deferasirox','leflunomide'))\n",
      " OR (e1.medication = 'everolimus' AND e2.medication IN ('erythromycin','Piroxicam','Voriconazole','Amikacin','cobicistat','teriflunomide','miFEPRIStone','carBAMazepine','indinavir','CELECOXIB','foscarnet','ibuprofen','Sulindac','nelFINavir','Methotrexate','indomethacin','VANCOMYCIN','valACYclovir','ketoconazole','dexamethasone','adalimumab','Dronedarone','tofacitinib','Salsalate','Nefazodone','Nabumetone','meloxicam','Phenytoin','Rifabutin','Clarithromycin','Enzalutamide','idelalisib','ketorolac','CISplatin','bacitracin','RITONAvir','duvelisib','Itraconazole','naproxen','fosaprepitant','leflunomide','FLUCONAZOLE','acyclovir','voxelotor','primiDONE','crizotinib','gentamicin','Aprepitant','fingolimod','tobramycin','fosamprenavir','Imatinib','Cladribine','bromfenac','etodolac','telavancin','RifAMPin','etanercept','cycloSPORINE','Darunavir','lithium carbonate','Diltiazem','InFLIXimab','letermovir','ioversol','PHENobarbital','Fosphenytoin','Posaconazole','atazanavir','verapamil','amphotericin B'))\n",
      " OR (e1.medication = 'exemestane' AND e2.medication IN ('Thalidomide'))\n",
      " OR (e1.medication = 'Famotidine' AND e2.medication IN ('dasatinib','rilpivirine','atazanavir','PAZOPanib','tiZANidine'))\n",
      " OR (e1.medication = 'Felbamate' AND e2.medication IN ('teriflunomide','leflunomide','Cladribine'))\n",
      " OR (e1.medication = 'felodipine' AND e2.medication IN ('ketoconazole','Enzalutamide','dolasetron','Edoxaban','venetoclax '))\n",
      " OR (e1.medication = 'fenofibrate' AND e2.medication IN ('rosuvastatin','warfarin','teriflunomide','simvastatin','leflunomide'))\n",
      " OR (e1.medication = 'fentaNYL' AND e2.medication IN ('erythromycin','lorlatinib','ondansetron','crizotinib','Aprepitant','ivosidenib','cobicistat','Imatinib','Clarithromycin','Enzalutamide','idelalisib','procarbazine','dasatinib','naltrexone','doxepin','nilotinib','BuPROPion','lapatinib','clotrimazole','zafirlukast','Dabrafenib','alvimopan','morphine','ketoconazole','dexamethasone','palonosetron','dolasetron','granisetron','FLUCONAZOLE'))\n",
      " OR (e1.medication = 'fidaxomicin' AND e2.medication IN ('venetoclax '))\n",
      " OR (e1.medication = 'tbo-filgrastim' AND e2.medication IN ('Cladribine'))\n",
      " OR (e1.medication = 'fingolimod' AND e2.medication IN ('erythromycin','Ruxolitinib ','Obinutuzumab','amiodarone','Midostaurin','Brentuximab Vedotin','tacrolimus','dupilumab','Belatacept','Mechlorethamine','abatacept','Daratumumab','nortriptyline','Clozapine','Arsenic Trioxide','miFEPRIStone','Oxytocin','Pomalidomide','PAZOPanib','Eribulin','Carmustine','alfuzosin','Flutamide','Ixazomib','Clofazimine ','hydroxyurea','IDArubicin','Basiliximab','methadone','nebivolol','vemurafenib','ondansetron','ivosidenib','Chloroquine','budesonide','palbociclib','Procainamide','Methylprednisolone','Ibrutinib','vedolizumab','ASENapine','azaTHIOprine','bicalutamide','everolimus','ILOperidone','Fluphenazine','Acebutolol','traMADol','venlafaxine','Prednisone','acalabrutinib','Cytarabine','Axicabtagene Ciloleucel','palonosetron','Dronedarone','granisetron','Olaparib ','tetrabenazine','bortezomib','abemaciclib','SORAfenib','Droperidol','Clarithromycin','Enzalutamide','idelalisib','tiZANidine','Atezolizumab','Busulfan','Zidovudine','timolol','HydrOXYzine','Pralatrexate','capecitabine','mitoXANTRONE','RISperidone','FLUoxetine','Digoxin','fludrocortisone','Efavirenz','TEMOZOLOMIDE','Gemcitabine','bosutinib','lisdexamfetamine','Chlorambucil','leflunomide','FLUCONAZOLE','riTUXimab','azaCITIDine','crizotinib','Clofarabine','sertraline','Cladribine','Intron A','telavancin','linezolid','Prednisolone','hydroxychloroquine','DACTINomycin','Buprenorphine','cycloSPORINE','Peginterferon Alfa-2a','deutetrabenazine','InFLIXimab','amitriptyline','Sirolimus','lenvatinib','Citalopram','Pegaspargase','bedaquiline','propranolol','pimozide','propafenone','dolasetron','verapamil','ciprofloxacin','promethazine','Melphalan','thioguanine','gatifloxacin','Voriconazole','PEMEtrexed','procarbazine','Pentostatin','dasatinib','teriflunomide','Cabozantinib','haloperidol','Cabazitaxel','Sunitinib','Dacarbazine','anakinra','Cyclophosphamide','Elotuzumab','cosyntropin','Moxifloxacin','DAUNOrubicin','Alemtuzumab','pimavanserin','esmolol','Mitomycin','Pindolol','Labetalol','Thalidomide','foscarnet','Brigatinib','betaxolol','Thiotepa','DOXOrubicin','cilostazol','Bleomycin','Decitabine','nilotinib','abiraterone','BENDAmustine','ustekinumab','Imipramine','Trastuzumab','perphenazine','anagrelide','atenolol','Methotrexate','lomustine','Prochlorperazine','dexamethasone','adalimumab','tofacitinib','Anti-Thymocyte Globulin (Rabbit)','nilutamide','Dofetilide','CARBOplatin','CISplatin','tocilizumab','duvelisib','venetoclax ','atomoxetine','TraZODone','solifenacin','rilpivirine','dimethyl fumarate','Blinatumomab','encorafenib','Ponatinib','GILTERITINIB','Ifosfamide','ClomiPRAMINE','chlorproMAZINE','Desipramine','mycophenolate mofetil','Aldesleukin','LENALIDOMIDE','osimertinib','azithromycin','Vasopressin','Imatinib','Streptozocin','fluorouracil','Nadolol','doxepin','sotalol','ranolazine','protriptyline','CARVedilol','QUEtiapine','etanercept','lithium carbonate','Diltiazem','hydrocorTISone','lapatinib','ofloxacin','OXALIplatin','levofloxacin','flecainide','valbenazine','Posaconazole','Etoposide','mercaptopurine','Carfilzomib'))\n",
      " OR (e1.medication = 'flecainide' AND e2.medication IN ('osimertinib','crizotinib','fingolimod','ivosidenib','Chloroquine','cobicistat','Cabozantinib','Arsenic Trioxide','nilotinib','hydroxychloroquine','anagrelide','dolasetron','vemurafenib'))\n",
      " OR (e1.medication = 'FLUCONAZOLE' AND e2.medication IN ('erythromycin','Ruxolitinib ','simvastatin','amiodarone','gatifloxacin','tacrolimus','teriflunomide','Cabozantinib','brexpiprazole','Clozapine','haloperidol','ivabradine','Arsenic Trioxide','miFEPRIStone','Moxifloxacin','methadone','glimepiride','vemurafenib','Atorvastatin','Brigatinib','Chloroquine','ivosidenib','cilostazol','Procainamide','TRIAzolam','Ibrutinib','nilotinib','everolimus','ILOperidone','anagrelide','guanFACINE','acalabrutinib','midazolam','naloxegol','Dronedarone','tofacitinib','Olaparib ','clopidogrel','lovastatin','Dofetilide','Droperidol','Phenytoin','simeprevir','colchicine','Retinoic Acid','venetoclax ','encorafenib','Efavirenz','bosutinib','ALPRAZolam','oxyCODONE','leflunomide','osimertinib','voxelotor','warfarin','crizotinib','fingolimod','lurasidone','glyBURIDE','sotalol','ranolazine','hydroxychloroquine','RifAMPin','glipiZIDE','Eplerenone','Sirolimus','Citalopram','fentaNYL','Fosphenytoin','bedaquiline','pimozide','dolasetron','suvorexant'))\n",
      " OR (e1.medication = 'Flumazenil' AND e2.medication IN ('nortriptyline','Desipramine','amitriptyline','doxepin','protriptyline','ClomiPRAMINE','Imipramine'))\n",
      " OR (e1.medication = 'fluorouracil' AND e2.medication IN ('FoLIC Acid','Thalidomide','warfarin','fingolimod','Cladribine','teriflunomide','Clozapine','Leucovorin','etanercept','InFLIXimab','L-Methylfolate','adalimumab','Mitomycin','leflunomide','tofacitinib'))\n",
      " OR (e1.medication = 'Fluphenazine' AND e2.medication IN ('osimertinib','Potassium Citrate','crizotinib','fingolimod','ivosidenib','Chloroquine','metoCLOPramide','Cabozantinib','Arsenic Trioxide','nilotinib','BuPROPion','hydroxychloroquine','anagrelide','morphine','methimazole','Propylthiouracil','dolasetron','Potassium Chloride','vemurafenib'))\n",
      " OR (e1.medication = 'Flutamide' AND e2.medication IN ('osimertinib','amiodarone','crizotinib','gatifloxacin','fingolimod','ivosidenib','Dofetilide','Droperidol','Procainamide','teriflunomide','Cabozantinib','Clozapine','ivabradine','haloperidol','Arsenic Trioxide','nilotinib','miFEPRIStone','sotalol','ILOperidone','anagrelide','Moxifloxacin','Citalopram','bedaquiline','pimozide','Dronedarone','dolasetron','leflunomide','methadone','vemurafenib'))\n",
      " OR (e1.medication = 'fluticasone' AND e2.medication IN ('Voriconazole','Nefazodone','fosamprenavir','Itraconazole','cobicistat','Cladribine','Clarithromycin','idelalisib','indinavir','ketoconazole','Posaconazole','atazanavir','miFEPRIStone','RITONAvir','nelFINavir'))\n",
      " OR (e1.medication = 'fluvoxaMINE' AND e2.medication IN ('ondansetron','clopidogrel','alosetron','phentermine','cilostazol','procarbazine','doxepin','BuPROPion','theophylline','pirfenidone','palonosetron','dolasetron','granisetron'))\n",
      " OR (e1.medication = 'Fondaparinux' AND e2.medication IN ('Ruxolitinib ','Piroxicam','TiCLOPIDINE','clopidogrel','Nabumetone','Prasugrel','meloxicam','Tirofiban','apixaban','ketorolac','dasatinib','Cabozantinib','Alteplase','miFEPRIStone','Heparin','treprostinil','Dipyridamole','dalteparin','Epoprostenol','naproxen','Ponatinib','Aspirin','Bivalirudin','warfarin','ibuprofen','cilostazol','bromfenac','rivaroxaban','etodolac','Sulindac','Ibrutinib','ticagrelor','defibrotide','enoxaparin','Abciximab','Eptifibatide','Argatroban','anagrelide','acalabrutinib','Edoxaban','indomethacin','deferasirox','cangrelor'))\n",
      " OR (e1.medication = 'fosaprepitant' AND e2.medication IN ('everolimus','Brigatinib','ivosidenib','encorafenib','cilostazol','acalabrutinib','bosutinib','naloxegol','Ibrutinib','Olaparib ','venetoclax '))\n",
      " OR (e1.medication = 'Fosphenytoin' AND e2.medication IN ('osimertinib','abemaciclib','lorlatinib','Midostaurin','crizotinib','Brigatinib','ivosidenib','tacrolimus','cobicistat','Imatinib','palbociclib','rivaroxaban','apixaban','idelalisib','dasatinib','bortezomib','teriflunomide','Cabozantinib','Ibrutinib','nilotinib','abiraterone','Sunitinib','ticagrelor','venetoclax ','everolimus','encorafenib','alpelisib','larotrectinib','acalabrutinib','GILTERITINIB','Sirolimus','cimetidine','axitinib','apremilast','bosutinib','naloxegol','Ixazomib','praziquantel','leflunomide','tofacitinib','Olaparib ','FLUCONAZOLE','vemurafenib'))\n",
      " OR (e1.medication = 'galantamine' AND e2.medication IN ('BuPROPion'))\n",
      " OR (e1.medication = 'gemfibrozil' AND e2.medication IN ('pioglitazone','simvastatin','selexipag','loperamide','warfarin','repaglinide','rosuvastatin'))\n",
      " OR (e1.medication = 'gentamicin' AND e2.medication IN ('foscarnet','tacrolimus','Magnesium Sulfate','bacitracin','everolimus','Mannitol','Sirolimus','onabotulinumtoxinA','ioversol','Succinylcholine','Cidofovir','deferasirox','rocuronium','furosemide','Ethacrynic Acid','Bumetanide','torsemide'))\n",
      " OR (e1.medication = 'glimepiride' AND e2.medication IN ('gatifloxacin','ofloxacin','Voriconazole','Moxifloxacin','levofloxacin','FLUCONAZOLE','ciprofloxacin'))\n",
      " OR (e1.medication = 'glipiZIDE' AND e2.medication IN ('gatifloxacin','ofloxacin','Voriconazole','ciprofloxacin','Moxifloxacin','levofloxacin','FLUCONAZOLE'))\n",
      " OR (e1.medication = 'guanFACINE' AND e2.medication IN ('erythromycin','lorlatinib','crizotinib','Aprepitant','cobicistat','Dabrafenib','Imatinib','Clarithromycin','Enzalutamide','idelalisib','ketoconazole','dexamethasone','FLUCONAZOLE'))\n",
      " OR (e1.medication = 'haloperidol' AND e2.medication IN ('erythromycin','Midostaurin','tacrolimus','dasatinib','Cabozantinib','Arsenic Trioxide','Sunitinib','Oxytocin','PAZOPanib','DAUNOrubicin','morphine','Eribulin','Flutamide','IDArubicin','vemurafenib','ondansetron','ivosidenib','Chloroquine','DOXOrubicin','cilostazol','nilotinib','BuPROPion','abiraterone','bicalutamide','anagrelide','ketoconazole','palonosetron','granisetron','nilutamide','SORAfenib','Clarithromycin','Enzalutamide','Isoproterenol','encorafenib','GILTERITINIB','bosutinib','FLUCONAZOLE','osimertinib','crizotinib','fingolimod','metoCLOPramide','doxepin','hydroxychloroquine','lapatinib','OXALIplatin','lenvatinib','levofloxacin','dolasetron','promethazine'))\n",
      " OR (e1.medication = 'hydrocorTISone' AND e2.medication IN ('amiodarone','Thalidomide','gatifloxacin','fingolimod','Dofetilide','Droperidol','Cladribine','teriflunomide','Arsenic Trioxide','miFEPRIStone','BuPROPion','etanercept','ofloxacin','InFLIXimab','Moxifloxacin','deferasirox','levofloxacin','adalimumab','pimozide','Dronedarone','leflunomide','tofacitinib','ciprofloxacin'))\n",
      " OR (e1.medication = 'HYDROmorphone' AND e2.medication IN ('morphine','naltrexone','BuPROPion','alvimopan','procarbazine'))\n",
      " OR (e1.medication = 'hydroxyurea' AND e2.medication IN ('Thalidomide','fingolimod','Cladribine','teriflunomide','Clozapine','didanosine','etanercept','InFLIXimab','adalimumab','leflunomide','tofacitinib'))\n",
      " OR (e1.medication = 'HydrOXYzine' AND e2.medication IN ('osimertinib','Potassium Citrate','crizotinib','fingolimod','ivosidenib','Chloroquine','Cabozantinib','Arsenic Trioxide','nilotinib','hydroxychloroquine','anagrelide','morphine','dolasetron','Potassium Chloride','vemurafenib'))\n",
      " OR (e1.medication = 'Ibrutinib' AND e2.medication IN ('erythromycin','Ruxolitinib ','Piroxicam','TiCLOPIDINE','Voriconazole','Prasugrel','cobicistat','Tirofiban','dasatinib','Fondaparinux','teriflunomide','Cabozantinib','Clozapine','Alteplase','Heparin','treprostinil','carBAMazepine','Epoprostenol','indinavir','Aspirin','ibuprofen','cilostazol','Sulindac','ticagrelor','defibrotide','Abciximab','Eptifibatide','Argatroban','anagrelide','acalabrutinib','indomethacin','ketoconazole','adalimumab','verapamil','Dronedarone','tofacitinib','clopidogrel','Nefazodone','Nabumetone','meloxicam','Phenytoin','Rifabutin','binimetinib','Clarithromycin','Enzalutamide','idelalisib','apixaban','ketorolac','RITONAvir','duvelisib','venetoclax ','Dipyridamole','dalteparin','Itraconazole','encorafenib','naproxen','Ponatinib','fosaprepitant','leflunomide','FLUCONAZOLE','Bivalirudin','warfarin','crizotinib','Aprepitant','fingolimod','fosamprenavir','Imatinib','Cladribine','bromfenac','vitamin E','rivaroxaban','etodolac','enoxaparin','RifAMPin','etanercept','Darunavir','Diltiazem','InFLIXimab','Edoxaban','deferasirox','PHENobarbital','cangrelor','Fosphenytoin','Posaconazole','atazanavir','nelFINavir','ciprofloxacin'))\n",
      " OR (e1.medication = 'ibuprofen' AND e2.medication IN ('warfarin','Prasugrel','tacrolimus','rivaroxaban','apixaban','ketorolac','dasatinib','teriflunomide','Fondaparinux','Cabozantinib','Ibrutinib','enoxaparin','everolimus','lithium carbonate','dalteparin','Sirolimus','Methotrexate','Ponatinib','acalabrutinib','Edoxaban','ioversol','Cidofovir','Aspirin','deferasirox','leflunomide'))\n",
      " OR (e1.medication = 'IDArubicin' AND e2.medication IN ('amiodarone','gatifloxacin','Dofetilide','Droperidol','teriflunomide','Cabozantinib','Clozapine','haloperidol','ivabradine','Arsenic Trioxide','miFEPRIStone','Moxifloxacin','Efavirenz','leflunomide','methadone','vemurafenib','osimertinib','Thalidomide','crizotinib','fingolimod','ivosidenib','Chloroquine','Cladribine','Procainamide','nilotinib','sotalol','hydroxychloroquine','etanercept','Trastuzumab','ILOperidone','InFLIXimab','anagrelide','Citalopram','bedaquiline','adalimumab','pimozide','Dronedarone','dolasetron','tofacitinib'))\n",
      " OR (e1.medication = 'Ifosfamide' AND e2.medication IN ('Thalidomide','fingolimod','Thiotepa','Cladribine','teriflunomide','Clozapine','etanercept','InFLIXimab','ioversol','Cidofovir','adalimumab','leflunomide','tofacitinib'))\n",
      " OR (e1.medication = 'indomethacin' AND e2.medication IN ('warfarin','Prasugrel','tacrolimus','rivaroxaban','apixaban','dasatinib','Fondaparinux','teriflunomide','Cabozantinib','Ibrutinib','enoxaparin','everolimus','dalteparin','Sirolimus','Methotrexate','Ponatinib','acalabrutinib','Edoxaban','ioversol','deferasirox','leflunomide'))\n",
      " OR (e1.medication = 'insulin degludec' AND e2.medication IN ('gatifloxacin','levofloxacin','ofloxacin','Moxifloxacin','ciprofloxacin'))\n",
      " OR (e1.medication = 'insulin glargine' AND e2.medication IN ('gatifloxacin','levofloxacin','ofloxacin','Moxifloxacin','ciprofloxacin'))\n",
      " OR (e1.medication = 'interferon beta-1a' AND e2.medication IN ('teriflunomide','Zidovudine','BuPROPion','traMADol','leflunomide'))\n",
      " OR (e1.medication = 'interferon beta-1b' AND e2.medication IN ('teriflunomide','Zidovudine','BuPROPion','traMADol','leflunomide'))\n",
      " OR (e1.medication = 'iron' AND e2.medication IN ('dolutegravir'))\n",
      " OR (e1.medication = 'Isoproterenol' AND e2.medication IN ('osimertinib','amiodarone','crizotinib','gatifloxacin','ivosidenib','Dofetilide','Droperidol','Procainamide','Cabozantinib','Clozapine','haloperidol','Arsenic Trioxide','nilotinib','miFEPRIStone','ILOperidone','anagrelide','Moxifloxacin','Efavirenz','Citalopram','bedaquiline','pimozide','Dronedarone','dolasetron','methadone','vemurafenib'))\n",
      " OR (e1.medication = 'Itraconazole' AND e2.medication IN ('erythromycin','Ruxolitinib ','abemaciclib','lorlatinib','Midostaurin','simvastatin','tacrolimus','apixaban','dasatinib','teriflunomide','Cabozantinib','Retinoic Acid','venetoclax ','encorafenib','PAZOPanib','Ponatinib','GILTERITINIB','bosutinib','loperamide','fluticasone','leflunomide','osimertinib','crizotinib','Brigatinib','ivosidenib','budesonide','cilostazol','palbociclib','rivaroxaban','Methylprednisolone','Ibrutinib','nilotinib','ticagrelor','everolimus','cycloSPORINE','lapatinib','Sirolimus','larotrectinib','acalabrutinib','Edoxaban','axitinib','naloxegol','salmeterol','tofacitinib','Olaparib '))\n",
      " OR (e1.medication = 'ivabradine' AND e2.medication IN ('erythromycin','nilutamide','Midostaurin','SORAfenib','tacrolimus','cobicistat','Clarithromycin','Enzalutamide','idelalisib','dasatinib','Cabozantinib','Arsenic Trioxide','Sunitinib','Oxytocin','encorafenib','PAZOPanib','DAUNOrubicin','GILTERITINIB','Eribulin','bosutinib','Flutamide','IDArubicin','FLUCONAZOLE','clotrimazole','vemurafenib','osimertinib','ondansetron','crizotinib','Aprepitant','ivosidenib','Chloroquine','Imatinib','DOXOrubicin','cilostazol','doxepin','nilotinib','abiraterone','hydroxychloroquine','bicalutamide','lapatinib','anagrelide','OXALIplatin','lenvatinib','levofloxacin','ketoconazole','palonosetron','dolasetron','granisetron','promethazine'))\n",
      " OR (e1.medication = 'Ixazomib' AND e2.medication IN ('primiDONE','fingolimod','Phenytoin','Rifabutin','Cladribine','Enzalutamide','teriflunomide','Clozapine','RifAMPin','etanercept','carBAMazepine','InFLIXimab','PHENobarbital','Fosphenytoin','adalimumab','leflunomide','tofacitinib'))\n",
      " OR (e1.medication = 'ketoconazole' AND e2.medication IN ('erythromycin','Ruxolitinib ','lorlatinib','amiodarone','Midostaurin','gatifloxacin','simvastatin','tamsulosin','nisoldipine','tacrolimus','dasatinib','teriflunomide','Cabozantinib','brexpiprazole','Clozapine','ivabradine','haloperidol','Arsenic Trioxide','miFEPRIStone','Moxifloxacin','PAZOPanib','pimavanserin','alfuzosin','fesoterodine','maraviroc','methadone','eletriptan','Tolvaptan','vemurafenib','Atorvastatin','Brigatinib','ivosidenib','Chloroquine','budesonide','cilostazol','palbociclib','Procainamide','Methylprednisolone','TRIAzolam','Ibrutinib','nilotinib','ticagrelor','everolimus','ILOperidone','anagrelide','guanFACINE','acalabrutinib','midazolam','axitinib','naloxegol','eszopiclone','Dronedarone','tofacitinib','riociguat','Olaparib ','abemaciclib','lovastatin','Dofetilide','Droperidol','simeprevir','silodosin','Rifabutin','cariprazine','apixaban','niMODipine','colchicine','RITONAvir','Retinoic Acid','duvelisib','venetoclax ','daclatasvir','solifenacin','encorafenib','Ponatinib','GILTERITINIB','Efavirenz','bosutinib','loperamide','ALPRAZolam','fluticasone','oxyCODONE','leflunomide','osimertinib','voxelotor','macitentan','crizotinib','felodipine','rivaroxaban','vilazodone','lurasidone','sotalol','ranolazine','hydroxychloroquine','RifAMPin','QUEtiapine','cycloSPORINE','lapatinib','Eplerenone','sildenafil','Sirolimus','larotrectinib','Edoxaban','Citalopram','fentaNYL','valbenazine','salmeterol','bedaquiline','darifenacin','pimozide','dolasetron','suvorexant'))\n",
      " OR (e1.medication = 'ketorolac' AND e2.medication IN ('warfarin','ibuprofen','Prasugrel','tacrolimus','rivaroxaban','apixaban','dasatinib','Fondaparinux','teriflunomide','Cabozantinib','Ibrutinib','pentoxifylline','enoxaparin','everolimus','dalteparin','Sirolimus','Methotrexate','Ponatinib','acalabrutinib','Edoxaban','ioversol','Aspirin','deferasirox','CELECOXIB','leflunomide'))\n",
      " OR (e1.medication = 'LACOSamide' AND e2.medication IN ('dolasetron'))\n",
      " OR (e1.medication = 'Lansoprazole' AND e2.medication IN ('dasatinib','Citalopram','erlotinib','rilpivirine','atazanavir','tacrolimus','nelFINavir','cilostazol','Methotrexate','PAZOPanib','acalabrutinib'))\n",
      " OR (e1.medication = 'lapatinib' AND e2.medication IN ('amiodarone','gatifloxacin','Voriconazole','Nefazodone','Dofetilide','Droperidol','cobicistat','Clarithromycin','idelalisib','teriflunomide','Cabozantinib','Clozapine','ivabradine','colchicine','haloperidol','Arsenic Trioxide','miFEPRIStone','RITONAvir','venetoclax ','Digoxin','Itraconazole','Moxifloxacin','PAZOPanib','indinavir','Efavirenz','loperamide','leflunomide','methadone','vemurafenib','osimertinib','crizotinib','fingolimod','fosamprenavir','ivosidenib','Chloroquine','Procainamide','nilotinib','sotalol','ranolazine','hydroxychloroquine','ILOperidone','anagrelide','Edoxaban','Citalopram','fentaNYL','Posaconazole','ketoconazole','bedaquiline','atazanavir','pimozide','Dronedarone','dolasetron','nelFINavir'))\n",
      " OR (e1.medication = 'LENALIDOMIDE' AND e2.medication IN ('pravastatin','simvastatin','Atorvastatin','lovastatin','fingolimod','estradiol','Cladribine','epoetin alfa','Atezolizumab','teriflunomide','PEMBROlizumab','Clozapine','etanercept','InFLIXimab','rosuvastatin','raloxifene','pitavastatin','adalimumab','Nivolumab','leflunomide','tofacitinib'))\n",
      " OR (e1.medication = 'letermovir' AND e2.medication IN ('everolimus','simvastatin','cycloSPORINE','Brigatinib','ivosidenib','tacrolimus','cilostazol','Sirolimus','acalabrutinib','bosutinib','naloxegol','Olaparib ','venetoclax '))\n",
      " OR (e1.medication = 'levodopa' AND e2.medication IN ('procarbazine'))\n",
      " OR (e1.medication = 'levonorgestrel' AND e2.medication IN ('tranexamic acid','Carfilzomib','Brigatinib','encorafenib','acitretin','Sugammadex','Dabrafenib'))\n",
      " OR (e1.medication = 'loperamide' AND e2.medication IN ('erythromycin','amiodarone','clopidogrel','Voriconazole','Nefazodone','fosamprenavir','tacrolimus','cobicistat','Clarithromycin','idelalisib','nelFINavir','abiraterone','RITONAvir','cycloSPORINE','lapatinib','Diltiazem','Spironolactone','Itraconazole','Ranitidine','indinavir','cimetidine','gemfibrozil','ketoconazole','Posaconazole','atazanavir','Dronedarone','verapamil'))\n",
      " OR (e1.medication = 'LORazepam' AND e2.medication IN ('morphine'))\n",
      " OR (e1.medication = 'lorlatinib' AND e2.medication IN ('Voriconazole','Nefazodone','Phenytoin','cobicistat','Rifabutin','Clarithromycin','Enzalutamide','idelalisib','modafinil','RITONAvir','venetoclax ','neVIRapine','daclatasvir','carBAMazepine','Itraconazole','encorafenib','Dabrafenib','etravirine','indinavir','Efavirenz','bosutinib','sofosbuvir','oxyCODONE','methadone','voxelotor','primiDONE','Brigatinib','Nafcillin','eslicarbazepine','bosentan','nelFINavir','ranolazine','RifAMPin','guanFACINE','doravirine','axitinib','PHENobarbital','Fosphenytoin','fentaNYL','ketoconazole','dexamethasone','bedaquiline','Posaconazole','atazanavir','Olaparib '))\n",
      " OR (e1.medication = 'lurasidone' AND e2.medication IN ('erythromycin','crizotinib','Aprepitant','cobicistat','Imatinib','Clarithromycin','Enzalutamide','idelalisib','metoCLOPramide','morphine','ketoconazole','BuPROPion','FLUCONAZOLE'))\n",
      " OR (e1.medication = 'magnesium chloride' AND e2.medication IN ('dolutegravir'))\n",
      " OR (e1.medication = 'magnesium citrate' AND e2.medication IN ('dolutegravir'))\n",
      " OR (e1.medication = 'magnesium oxide' AND e2.medication IN ('dolutegravir'))\n",
      " OR (e1.medication = 'Mechlorethamine' AND e2.medication IN ('Thalidomide','fingolimod','Thiotepa','Cladribine','teriflunomide','Clozapine','etanercept','InFLIXimab','adalimumab','leflunomide','tofacitinib'))\n",
      " OR (e1.medication = 'MedroxyPROGESTERone Acetate' AND e2.medication IN ('tranexamic acid','Brigatinib','fosamprenavir','mycophenolate mofetil','bosentan','encorafenib','Sugammadex','Dabrafenib','acitretin'))\n",
      " OR (e1.medication = 'meloxicam' AND e2.medication IN ('warfarin','Prasugrel','tacrolimus','rivaroxaban','apixaban','dasatinib','teriflunomide','Fondaparinux','Cabozantinib','Ibrutinib','enoxaparin','everolimus','dalteparin','Sirolimus','Methotrexate','Ponatinib','acalabrutinib','Edoxaban','ioversol','deferasirox','leflunomide'))\n",
      " OR (e1.medication = 'Melphalan' AND e2.medication IN ('Thalidomide','fingolimod','Thiotepa','Cladribine','teriflunomide','Clozapine','etanercept','InFLIXimab','adalimumab','leflunomide','tofacitinib'))\n",
      " OR (e1.medication = 'meprobamate' AND e2.medication IN ('morphine'))\n",
      " OR (e1.medication = 'Meropenem' AND e2.medication IN ('BuPROPion'))\n",
      " OR (e1.medication = 'mesalamine' AND e2.medication IN ('tacrolimus','Sirolimus','ioversol','Cidofovir','deferasirox'))\n",
      " OR (e1.medication = 'metaxalone' AND e2.medication IN ('morphine','teriflunomide','leflunomide'))\n",
      " OR (e1.medication = 'methazolAMIDE' AND e2.medication IN ('Arsenic Trioxide','metFORMIN','Aspirin'))\n",
      " OR (e1.medication = 'Methocarbamol' AND e2.medication IN ('morphine'))\n",
      " OR (e1.medication = 'Methotrexate' AND e2.medication IN ('Piroxicam','tacrolimus','teriflunomide','Clozapine','Oxacillin','Trimethoprim','Aspirin','Thalidomide','ibuprofen','acitretin','Nafcillin','Sulindac','everolimus','Omeprazole','ampicillin','indomethacin','DiCLOXacillin','Cidofovir','Esomeprazole','adalimumab','tofacitinib','Bismuth Subsalicylate','Salsalate','Nabumetone','meloxicam','Probenecid','ketorolac','Pantoprazole','naproxen','leflunomide','fingolimod','Cladribine','bromfenac','etodolac','dexlansoprazole','etanercept','InFLIXimab','Sirolimus','ioversol','RABEprazole','deferasirox','amoxicillin','Lansoprazole'))\n",
      " OR (e1.medication = 'Methyldopa' AND e2.medication IN ('teriflunomide','procarbazine','leflunomide'))\n",
      " OR (e1.medication = 'metoCLOPramide' AND e2.medication IN ('OLANZapine','Droperidol','cariprazine','brexpiprazole','lurasidone','Clozapine','haloperidol','BuPROPion','ASENapine','QUEtiapine','deutetrabenazine','ILOperidone','RISperidone','Fluphenazine','perphenazine','traMADol','ARIPiprazole','chlorproMAZINE','Prochlorperazine','Thiothixene','pimozide','promethazine','tetrabenazine'))\n",
      " OR (e1.medication = 'MetroNIDAZOLE' AND e2.medication IN ('Disulfiram','warfarin','Busulfan'))\n",
      " OR (e1.medication = 'minocycline' AND e2.medication IN ('teriflunomide','vitamin A','Retinoic Acid','acitretin','leflunomide'))\n",
      " OR (e1.medication = 'Minoxidil' AND e2.medication IN ('tiZANidine'))\n",
      " OR (e1.medication = 'mirabegron' AND e2.medication IN ('venetoclax '))\n",
      " OR (e1.medication = 'Mitomycin' AND e2.medication IN ('Thalidomide','fingolimod','Cladribine','teriflunomide','Clozapine','fluorouracil','etanercept','InFLIXimab','adalimumab','leflunomide','tofacitinib'))\n",
      " OR (e1.medication = 'mitoXANTRONE' AND e2.medication IN ('Thalidomide','fingolimod','Cladribine','teriflunomide','Clozapine','etanercept','InFLIXimab','adalimumab','dolasetron','leflunomide','tofacitinib'))\n",
      " OR (e1.medication = 'modafinil' AND e2.medication IN ('lorlatinib','axitinib','bosutinib','Brigatinib','encorafenib','Olaparib ','venetoclax '))\n",
      " OR (e1.medication = 'morphine' AND e2.medication IN ('temazepam','diazePAM','meperidine','OLANZapine','procarbazine','naltrexone','brexpiprazole','Clozapine','haloperidol','Oxazepam','HYDROmorphone','alvimopan','pimavanserin','pregabalin','methadone','dantrolene','estazolam','clobazam','clonazePAM','zolpidem','metaxalone','TRIAzolam','BuPROPion','ASENapine','ILOperidone','Cyclobenzaprine','chloral hydrate','Fluphenazine','perphenazine','traMADol','eszopiclone','Thiothixene','tapentadol','baclofen','Droperidol','ramelteon','cariprazine','tiZANidine','Gabapentin','HydrOXYzine','ChlordiazePOXIDE','RISperidone','meprobamate','rasagiline','oxyMORphone','chlorproMAZINE','ALPRAZolam','Methocarbamol','oxyCODONE','carisoprodoL','BusPIRone','LORazepam','primiDONE','lurasidone','linezolid','zaleplon','Buprenorphine','QUEtiapine','ARIPiprazole','PHENobarbital','fentaNYL','pimozide','suvorexant'))\n",
      " OR (e1.medication = 'mycophenolate mofetil' AND e2.medication IN ('etanercept','fingolimod','InFLIXimab','MedroxyPROGESTERone Acetate','Cladribine','teriflunomide','adalimumab','leflunomide','tofacitinib'))\n",
      " OR (e1.medication = 'Nabumetone' AND e2.medication IN ('warfarin','Prasugrel','tacrolimus','rivaroxaban','apixaban','dasatinib','Fondaparinux','teriflunomide','Cabozantinib','Ibrutinib','enoxaparin','everolimus','dalteparin','Sirolimus','Methotrexate','Ponatinib','acalabrutinib','Edoxaban','ioversol','deferasirox','leflunomide'))\n",
      " OR (e1.medication = 'Nafcillin' AND e2.medication IN ('lorlatinib','warfarin','Brigatinib','encorafenib','Methotrexate','axitinib','bosutinib','Olaparib ','venetoclax '))\n",
      " OR (e1.medication = 'naltrexone' AND e2.medication IN ('meperidine','Droperidol','teriflunomide','methadone','Buprenorphine','HYDROmorphone','traMADol','oxyMORphone','morphine','fentaNYL','oxyCODONE','tapentadol','leflunomide'))\n",
      " OR (e1.medication = 'naproxen' AND e2.medication IN ('warfarin','Prasugrel','tacrolimus','rivaroxaban','apixaban','dasatinib','teriflunomide','Fondaparinux','Cabozantinib','Ibrutinib','enoxaparin','everolimus','dalteparin','Sirolimus','Methotrexate','Ponatinib','acalabrutinib','Edoxaban','ioversol','deferasirox','leflunomide'))\n",
      " OR (e1.medication = 'naratriptan' AND e2.medication IN ('ondansetron','procarbazine','palonosetron','dolasetron','granisetron'))\n",
      " OR (e1.medication = 'Nateglinide' AND e2.medication IN ('gatifloxacin','levofloxacin','ofloxacin','Moxifloxacin','ciprofloxacin'))\n",
      " OR (e1.medication = 'nebivolol' AND e2.medication IN ('theophylline','fingolimod','dolasetron'))\n",
      " OR (e1.medication = 'nelFINavir' AND e2.medication IN ('erythromycin','Ruxolitinib ','lorlatinib','simvastatin','Midostaurin','tacrolimus','dasatinib','Cabozantinib','PAZOPanib','Brigatinib','ivosidenib','budesonide','cilostazol','palbociclib','Methylprednisolone','Ibrutinib','nilotinib','ticagrelor','everolimus','Omeprazole','acalabrutinib','axitinib','naloxegol','Esomeprazole','tofacitinib','Olaparib ','abemaciclib','apixaban','Pantoprazole','venetoclax ','rosuvastatin','encorafenib','Ponatinib','GILTERITINIB','loperamide','bosutinib','fluticasone','osimertinib','crizotinib','rivaroxaban','dexlansoprazole','cycloSPORINE','lapatinib','Sirolimus','larotrectinib','Edoxaban','RABEprazole','Lansoprazole','salmeterol'))\n",
      " OR (e1.medication = 'Neostigmine' AND e2.medication IN ('BuPROPion'))\n",
      " OR (e1.medication = 'NIFEdipine' AND e2.medication IN ('dolasetron','Enzalutamide','venetoclax '))\n",
      " OR (e1.medication = 'nilutamide' AND e2.medication IN ('osimertinib','amiodarone','crizotinib','gatifloxacin','fingolimod','ivosidenib','Dofetilide','Droperidol','Procainamide','teriflunomide','Cabozantinib','Clozapine','ivabradine','haloperidol','Arsenic Trioxide','nilotinib','miFEPRIStone','sotalol','ILOperidone','anagrelide','Moxifloxacin','Citalopram','bedaquiline','pimozide','Dronedarone','dolasetron','leflunomide','methadone','vemurafenib'))\n",
      " OR (e1.medication = 'nisoldipine' AND e2.medication IN ('ketoconazole','dolasetron','Enzalutamide'))\n",
      " OR (e1.medication = 'Norepinephrine' AND e2.medication IN ('doxepin'))\n",
      " OR (e1.medication = 'obeticholic acid' AND e2.medication IN ('tiZANidine'))\n",
      " OR (e1.medication = 'Obinutuzumab' AND e2.medication IN ('etanercept','fingolimod','InFLIXimab','Cladribine','teriflunomide','Clozapine','adalimumab','leflunomide','tofacitinib'))\n",
      " OR (e1.medication = 'ofloxacin' AND e2.medication IN ('osimertinib','crizotinib','warfarin','fingolimod','ivosidenib','repaglinide','Chloroquine','insulin glargine','Cabozantinib','Methylprednisolone','Arsenic Trioxide','nilotinib','glyBURIDE','BuPROPion','Prednisolone','hydroxychloroquine','insulin degludec','glipiZIDE','hydrocorTISone','anagrelide','fludrocortisone','Prednisone','dexamethasone','dolasetron','glimepiride','Nateglinide','vemurafenib'))\n",
      " OR (e1.medication = 'OLANZapine' AND e2.medication IN ('morphine','Potassium Citrate','BuPROPion','Potassium Chloride','metoCLOPramide'))\n",
      " OR (e1.medication = 'olsalazine' AND e2.medication IN ('tacrolimus','Sirolimus','ioversol','Cidofovir','deferasirox'))\n",
      " OR (e1.medication = 'Oxazepam' AND e2.medication IN ('morphine'))\n",
      " OR (e1.medication = 'Oxcarbazepine' AND e2.medication IN ('procarbazine'))\n",
      " OR (e1.medication = 'oxyCODONE' AND e2.medication IN ('erythromycin','lorlatinib','crizotinib','Aprepitant','ivosidenib','cobicistat','Imatinib','Clarithromycin','Enzalutamide','idelalisib','procarbazine','naltrexone','BuPROPion','abiraterone','clotrimazole','Dabrafenib','alvimopan','PAZOPanib','cimetidine','morphine','ketoconazole','dexamethasone','FLUCONAZOLE'))\n",
      " OR (e1.medication = 'oxyMORphone' AND e2.medication IN ('morphine','naltrexone','procarbazine','BuPROPion','alvimopan'))\n",
      " OR (e1.medication = 'Paricalcitol' AND e2.medication IN ('Vitamin D2','sucralfate','calcitriol','Vitamin D3','Doxercalciferol'))\n",
      " OR (e1.medication = 'Pegaspargase' AND e2.medication IN ('Thalidomide','fingolimod','teriflunomide','Clozapine','etanercept','InFLIXimab','adalimumab','leflunomide','tofacitinib'))\n",
      " OR (e1.medication = 'Pegfilgrastim-cbqv' AND e2.medication IN ('Cladribine'))\n",
      " OR (e1.medication = 'perphenazine' AND e2.medication IN ('osimertinib','Potassium Citrate','crizotinib','Potassium Chloride','fingolimod','ivosidenib','Chloroquine','metoCLOPramide','Cabozantinib','Arsenic Trioxide','nilotinib','BuPROPion','hydroxychloroquine','anagrelide','morphine','dolasetron','vemurafenib'))\n",
      " OR (e1.medication = 'phentermine' AND e2.medication IN ('milnacipran','sertraline','procarbazine','vilazodone','linezolid','BuPROPion','FLUoxetine','traMADol','venlafaxine','vortioxetine','desvenlafaxine','selegiline','Citalopram','PARoxetine','Duloxetine','tapentadol','fluvoxaMINE'))\n",
      " OR (e1.medication = 'Phenytoin' AND e2.medication IN ('osimertinib','abemaciclib','lorlatinib','Midostaurin','crizotinib','Brigatinib','ivosidenib','tacrolimus','Imatinib','cobicistat','palbociclib','rivaroxaban','idelalisib','apixaban','dasatinib','bortezomib','teriflunomide','Cabozantinib','Ibrutinib','nilotinib','abiraterone','Sunitinib','ticagrelor','venetoclax ','everolimus','encorafenib','alpelisib','larotrectinib','acalabrutinib','GILTERITINIB','Sirolimus','cimetidine','axitinib','apremilast','bosutinib','naloxegol','praziquantel','Ixazomib','leflunomide','tofacitinib','Olaparib ','FLUCONAZOLE','vemurafenib'))\n",
      " OR (e1.medication = 'pimavanserin' AND e2.medication IN ('osimertinib','crizotinib','fingolimod','ivosidenib','Chloroquine','cobicistat','Clarithromycin','idelalisib','Cabozantinib','Arsenic Trioxide','nilotinib','hydroxychloroquine','anagrelide','morphine','ketoconazole','dolasetron','vemurafenib'))\n",
      " OR (e1.medication = 'pioglitazone' AND e2.medication IN ('teriflunomide','gemfibrozil','clopidogrel','gatifloxacin','leflunomide'))\n",
      " OR (e1.medication = 'Piroxicam' AND e2.medication IN ('warfarin','Prasugrel','tacrolimus','rivaroxaban','apixaban','dasatinib','Fondaparinux','teriflunomide','Cabozantinib','Ibrutinib','enoxaparin','everolimus','dalteparin','Sirolimus','Methotrexate','Ponatinib','acalabrutinib','Edoxaban','ioversol','deferasirox','leflunomide'))\n",
      " OR (e1.medication = 'pitavastatin' AND e2.medication IN ('erythromycin','teriflunomide','cycloSPORINE','leflunomide','LENALIDOMIDE'))\n",
      " OR (e1.medication = 'Pomalidomide' AND e2.medication IN ('fingolimod','estradiol','Cladribine','epoetin alfa','Atezolizumab','teriflunomide','PEMBROlizumab','Clozapine','etanercept','InFLIXimab','raloxifene','adalimumab','Nivolumab','leflunomide','tofacitinib'))\n",
      " OR (e1.medication = 'Potassium Iodide' AND e2.medication IN ('fosinopril','Captopril','lisinopril','Eplerenone','quinapril','benazepriL','losartan','ramipril','irbesartan','Trandolapril','Moexipril','olmesartan','Trimethoprim','telmisartan','valsartan'))\n",
      " OR (e1.medication = 'Pralatrexate' AND e2.medication IN ('fingolimod','Cladribine','teriflunomide','Clozapine','etanercept','InFLIXimab','adalimumab','leflunomide','tofacitinib'))\n",
      " OR (e1.medication = 'Prasugrel' AND e2.medication IN ('Ruxolitinib ','Piroxicam','TiCLOPIDINE','clopidogrel','Nabumetone','meloxicam','Tirofiban','apixaban','ketorolac','dasatinib','Fondaparinux','Cabozantinib','Alteplase','miFEPRIStone','Dipyridamole','dalteparin','naproxen','Ponatinib','Bivalirudin','warfarin','ibuprofen','bromfenac','rivaroxaban','etodolac','Sulindac','Ibrutinib','enoxaparin','defibrotide','Abciximab','Eptifibatide','Argatroban','anagrelide','Edoxaban','acalabrutinib','indomethacin','deferasirox','cangrelor'))\n",
      " OR (e1.medication = 'Prednisolone' AND e2.medication IN ('Thalidomide','gatifloxacin','fingolimod','Cladribine','teriflunomide','miFEPRIStone','BuPROPion','etanercept','ofloxacin','InFLIXimab','Moxifloxacin','deferasirox','levofloxacin','adalimumab','leflunomide','tofacitinib','ciprofloxacin'))\n",
      " OR (e1.medication = 'Prednisone' AND e2.medication IN ('Thalidomide','gatifloxacin','fingolimod','Cladribine','teriflunomide','miFEPRIStone','BuPROPion','etanercept','ofloxacin','InFLIXimab','Moxifloxacin','deferasirox','levofloxacin','adalimumab','leflunomide','tofacitinib','ciprofloxacin'))\n",
      " OR (e1.medication = 'pregabalin' AND e2.medication IN ('morphine'))\n",
      " OR (e1.medication = 'primiDONE' AND e2.medication IN ('osimertinib','abemaciclib','lorlatinib','Midostaurin','crizotinib','Brigatinib','ivosidenib','tacrolimus','cobicistat','Imatinib','palbociclib','rivaroxaban','idelalisib','apixaban','dasatinib','bortezomib','Cabozantinib','nilotinib','abiraterone','Sunitinib','ticagrelor','venetoclax ','everolimus','encorafenib','alpelisib','larotrectinib','acalabrutinib','Sirolimus','warfarin','morphine','axitinib','apremilast','bosutinib','naloxegol','praziquantel','Ixazomib','tofacitinib','Olaparib ','vemurafenib'))\n",
      " OR (e1.medication = 'Probenecid' AND e2.medication IN ('Methotrexate'))\n",
      " OR (e1.medication = 'Procainamide' AND e2.medication IN ('erythromycin','nilutamide','Midostaurin','SORAfenib','tacrolimus','Clarithromycin','Enzalutamide','dasatinib','Cabozantinib','Arsenic Trioxide','Sunitinib','Isoproterenol','Oxytocin','encorafenib','PAZOPanib','DAUNOrubicin','GILTERITINIB','Eribulin','bosutinib','Flutamide','IDArubicin','FLUCONAZOLE','vemurafenib','osimertinib','ondansetron','crizotinib','fingolimod','ivosidenib','Chloroquine','DOXOrubicin','cilostazol','Cladribine','doxepin','nilotinib','abiraterone','hydroxychloroquine','bicalutamide','lapatinib','anagrelide','OXALIplatin','lenvatinib','levofloxacin','ketoconazole','palonosetron','dolasetron','granisetron','promethazine'))\n",
      " OR (e1.medication = 'propafenone' AND e2.medication IN ('osimertinib','crizotinib','fingolimod','ivosidenib','Chloroquine','cobicistat','Cabozantinib','nilotinib','Arsenic Trioxide','hydroxychloroquine','venetoclax ','anagrelide','PAZOPanib','dolasetron','vemurafenib'))\n",
      " OR (e1.medication = 'Propylthiouracil' AND e2.medication IN ('teriflunomide','Fluphenazine','leflunomide'))\n",
      " OR (e1.medication = 'Pseudoephedrine' AND e2.medication IN ('selegiline','linezolid','procarbazine'))\n",
      " OR (e1.medication = 'QUEtiapine' AND e2.medication IN ('osimertinib','erythromycin','crizotinib','fingolimod','ivosidenib','Chloroquine','cobicistat','Clarithromycin','Enzalutamide','idelalisib','metoCLOPramide','Cabozantinib','Arsenic Trioxide','nilotinib','BuPROPion','hydroxychloroquine','anagrelide','morphine','ketoconazole','dolasetron','vemurafenib'))\n",
      " OR (e1.medication = 'RABEprazole' AND e2.medication IN ('dasatinib','clopidogrel','erlotinib','rilpivirine','atazanavir','nelFINavir','Methotrexate','PAZOPanib','acalabrutinib'))\n",
      " OR (e1.medication = 'raloxifene' AND e2.medication IN ('Thalidomide','tranexamic acid','Pomalidomide','Carfilzomib','LENALIDOMIDE'))\n",
      " OR (e1.medication = 'raltegravir' AND e2.medication IN ('Milk of Magnesia','zinc sulfate','zinc gluconate','zinc chloride','calcium carbonate'))\n",
      " OR (e1.medication = 'Ranitidine' AND e2.medication IN ('dasatinib','loperamide','rilpivirine','atazanavir','PAZOPanib'))\n",
      " OR (e1.medication = 'ranolazine' AND e2.medication IN ('osimertinib','erythromycin','lorlatinib','simvastatin','crizotinib','Aprepitant','fingolimod','ivosidenib','Chloroquine','Imatinib','cobicistat','Clarithromycin','Enzalutamide','idelalisib','Cabozantinib','Arsenic Trioxide','nilotinib','hydroxychloroquine','venetoclax ','lapatinib','anagrelide','Dabrafenib','Edoxaban','ketoconazole','dexamethasone','dolasetron','FLUCONAZOLE','clotrimazole','vemurafenib'))\n",
      " OR (e1.medication = 'rasagiline' AND e2.medication IN ('TiCLOPIDINE','procarbazine','morphine','deferasirox','doxepin','BuPROPion','vemurafenib'))\n",
      " OR (e1.medication = 'Rifabutin' AND e2.medication IN ('osimertinib','lorlatinib','warfarin','crizotinib','Brigatinib','tacrolimus','Imatinib','cobicistat','palbociclib','dasatinib','bortezomib','Cabozantinib','Ibrutinib','nilotinib','abiraterone','venetoclax ','everolimus','cycloSPORINE','encorafenib','alpelisib','larotrectinib','Sirolimus','axitinib','bosutinib','praziquantel','ketoconazole','Ixazomib','Olaparib ','vemurafenib'))\n",
      " OR (e1.medication = 'RifAMPin' AND e2.medication IN ('abemaciclib','lorlatinib','Midostaurin','simvastatin','tacrolimus','cobicistat','apixaban','idelalisib','dasatinib','teriflunomide','Cabozantinib','Sunitinib','venetoclax ','encorafenib','alpelisib','GILTERITINIB','apremilast','bosutinib','praziquantel','Ixazomib','leflunomide','FLUCONAZOLE','vemurafenib','osimertinib','crizotinib','warfarin','Brigatinib','ivosidenib','Imatinib','palbociclib','rivaroxaban','Ibrutinib','nilotinib','abiraterone','ticagrelor','everolimus','cycloSPORINE','Sirolimus','larotrectinib','acalabrutinib','Edoxaban','axitinib','naloxegol','Olaparib ','ketoconazole','tofacitinib','bortezomib'))\n",
      " OR (e1.medication = 'rilpivirine' AND e2.medication IN ('osimertinib','Famotidine','crizotinib','fingolimod','ivosidenib','Chloroquine','Enzalutamide','teriflunomide','Cabozantinib','Pantoprazole','Arsenic Trioxide','nilotinib','hydroxychloroquine','dexlansoprazole','Omeprazole','anagrelide','Ranitidine','cimetidine','RABEprazole','dexamethasone','Lansoprazole','Esomeprazole','dolasetron','leflunomide','vemurafenib'))\n",
      " OR (e1.medication = 'risedronate' AND e2.medication IN ('deferasirox'))\n",
      " OR (e1.medication = 'RISperidone' AND e2.medication IN ('osimertinib','crizotinib','fingolimod','ivosidenib','Chloroquine','metoCLOPramide','Cabozantinib','Arsenic Trioxide','nilotinib','BuPROPion','hydroxychloroquine','anagrelide','morphine','dolasetron','vemurafenib'))\n",
      " OR (e1.medication = 'RITONAvir' AND e2.medication IN ('erythromycin','Ruxolitinib ','lorlatinib','simvastatin','Midostaurin','tacrolimus','dasatinib','teriflunomide','Cabozantinib','PAZOPanib','Brigatinib','ivosidenib','budesonide','cilostazol','palbociclib','Methylprednisolone','Ibrutinib','nilotinib','ticagrelor','everolimus','acalabrutinib','axitinib','naloxegol','ketoconazole','tofacitinib','Olaparib ','abemaciclib','clopidogrel','Enzalutamide','apixaban','venetoclax ','rosuvastatin','encorafenib','Ponatinib','GILTERITINIB','loperamide','bosutinib','fluticasone','leflunomide','osimertinib','Disulfiram','crizotinib','rivaroxaban','cycloSPORINE','lapatinib','Sirolimus','larotrectinib','Edoxaban','salmeterol'))\n",
      " OR (e1.medication = 'rivaroxaban' AND e2.medication IN ('Ruxolitinib ','Piroxicam','TiCLOPIDINE','clopidogrel','Voriconazole','Nabumetone','Prasugrel','meloxicam','cobicistat','Phenytoin','Enzalutamide','Tirofiban','apixaban','dasatinib','Fondaparinux','ketorolac','Cabozantinib','Alteplase','miFEPRIStone','RITONAvir','carBAMazepine','Heparin','treprostinil','Dipyridamole','dalteparin','Itraconazole','Epoprostenol','naproxen','Ponatinib','Aspirin','Bivalirudin','warfarin','primiDONE','ibuprofen','cilostazol','bromfenac','etodolac','Sulindac','Ibrutinib','ticagrelor','defibrotide','Abciximab','enoxaparin','RifAMPin','Eptifibatide','Argatroban','anagrelide','Edoxaban','acalabrutinib','indomethacin','deferasirox','PHENobarbital','cangrelor','Fosphenytoin','ketoconazole','Posaconazole','nelFINavir'))\n",
      " OR (e1.medication = 'rivastigmine' AND e2.medication IN ('BuPROPion'))\n",
      " OR (e1.medication = 'rizatriptan' AND e2.medication IN ('ondansetron','procarbazine','palonosetron','dolasetron','granisetron'))\n",
      " OR (e1.medication = 'rocuronium' AND e2.medication IN ('paromomycin','gentamicin','Amikacin'))\n",
      " OR (e1.medication = 'romiPLOStim' AND e2.medication IN ('Carfilzomib'))\n",
      " OR (e1.medication = 'rosiglitazone' AND e2.medication IN ('teriflunomide','gatifloxacin','leflunomide'))\n",
      " OR (e1.medication = 'Sargramostim' AND e2.medication IN ('Cladribine'))\n",
      " OR (e1.medication = 'sildenafil' AND e2.medication IN ('erythromycin','ketoconazole','cobicistat','Clarithromycin','idelalisib'))\n",
      " OR (e1.medication = 'simeprevir' AND e2.medication IN ('erythromycin','cycloSPORINE','dexamethasone','ketoconazole','rosuvastatin','FLUCONAZOLE','cobicistat','Enzalutamide','Clarithromycin','Edoxaban','venetoclax '))\n",
      " OR (e1.medication = 'simvastatin' AND e2.medication IN ('erythromycin','Niacin','amiodarone','Voriconazole','Nefazodone','fosamprenavir','cobicistat','Clarithromycin','idelalisib','teriflunomide','amLODIPine','fenofibrate','colchicine','miFEPRIStone','nelFINavir','RITONAvir','ranolazine','RifAMPin','fenofibric acid','cycloSPORINE','Darunavir','Diltiazem','Itraconazole','letermovir','indinavir','danazol','gemfibrozil','Posaconazole','ketoconazole','atazanavir','Dronedarone','leflunomide','verapamil','FLUCONAZOLE','LENALIDOMIDE'))\n",
      " OR (e1.medication = 'Sodium Bicarbonate' AND e2.medication IN ('dolutegravir'))\n",
      " OR (e1.medication = 'solifenacin' AND e2.medication IN ('osimertinib','erythromycin','Potassium Citrate','crizotinib','fingolimod','ivosidenib','Chloroquine','cobicistat','Clarithromycin','idelalisib','Cabozantinib','Arsenic Trioxide','nilotinib','hydroxychloroquine','anagrelide','ketoconazole','dolasetron','Potassium Chloride','vemurafenib'))\n",
      " OR (e1.medication = 'sotalol' AND e2.medication IN ('erythromycin','Midostaurin','tacrolimus','Albuterol','dasatinib','Cabozantinib','Arsenic Trioxide','Sunitinib','Oxytocin','PAZOPanib','DAUNOrubicin','Eribulin','Flutamide','IDArubicin','vemurafenib','ondansetron','ivosidenib','Chloroquine','DOXOrubicin','cilostazol','nilotinib','abiraterone','bicalutamide','anagrelide','ketoconazole','palonosetron','granisetron','nilutamide','SORAfenib','Clarithromycin','Enzalutamide','encorafenib','GILTERITINIB','bosutinib','FLUCONAZOLE','osimertinib','crizotinib','fingolimod','doxepin','hydroxychloroquine','theophylline','lapatinib','OXALIplatin','lenvatinib','EPINEPHrine','levofloxacin','salmeterol','dolasetron','promethazine'))\n",
      " OR (e1.medication = 'Streptozocin' AND e2.medication IN ('Thalidomide','fingolimod','Thiotepa','Cladribine','teriflunomide','Clozapine','etanercept','InFLIXimab','ioversol','Cidofovir','adalimumab','leflunomide','tofacitinib'))\n",
      " OR (e1.medication = 'Succinylcholine' AND e2.medication IN ('paromomycin','gentamicin','Amikacin'))\n",
      " OR (e1.medication = 'sucralfate' AND e2.medication IN ('Paricalcitol','Doxercalciferol','dolutegravir'))\n",
      " OR (e1.medication = 'Sulindac' AND e2.medication IN ('warfarin','Prasugrel','tacrolimus','rivaroxaban','apixaban','dasatinib','teriflunomide','Fondaparinux','Cabozantinib','Ibrutinib','enoxaparin','everolimus','dalteparin','Sirolimus','Methotrexate','Ponatinib','acalabrutinib','Edoxaban','ioversol','deferasirox','leflunomide'))\n",
      " OR (e1.medication = 'SUMAtriptan' AND e2.medication IN ('ondansetron','palonosetron','dolasetron','granisetron','procarbazine'))\n",
      " OR (e1.medication = 'Sunitinib' AND e2.medication IN ('amiodarone','gatifloxacin','Dofetilide','Droperidol','Phenytoin','Enzalutamide','teriflunomide','Cabozantinib','Clozapine','haloperidol','ivabradine','Arsenic Trioxide','miFEPRIStone','carBAMazepine','Moxifloxacin','Efavirenz','leflunomide','methadone','vemurafenib','osimertinib','primiDONE','crizotinib','fingolimod','ivosidenib','Chloroquine','Procainamide','nilotinib','sotalol','hydroxychloroquine','RifAMPin','ILOperidone','anagrelide','PHENobarbital','Fosphenytoin','Citalopram','bedaquiline','pimozide','Dronedarone','dolasetron'))\n",
      " OR (e1.medication = 'suvorexant' AND e2.medication IN ('erythromycin','crizotinib','Aprepitant','cobicistat','Imatinib','Clarithromycin','Edoxaban','idelalisib','Enzalutamide','morphine','ketoconazole','FLUCONAZOLE','venetoclax '))\n",
      " OR (e1.medication = 'tacrolimus' AND e2.medication IN ('erythromycin','balsalazide','amiodarone','gatifloxacin','Piroxicam','Voriconazole','cobicistat','Amikacin','teriflunomide','Pamidronate','Cabozantinib','Clozapine','haloperidol','ivabradine','Arsenic Trioxide','miFEPRIStone','carBAMazepine','Moxifloxacin','PAZOPanib','indinavir','mesalamine','CELECOXIB','methadone','vemurafenib','foscarnet','ibuprofen','ivosidenib','Chloroquine','Procainamide','Sulindac','nilotinib','ILOperidone','Omeprazole','anagrelide','Methotrexate','indomethacin','aMILoride','Cidofovir','VANCOMYCIN','valACYclovir','ketoconazole','Esomeprazole','adalimumab','Dronedarone','tofacitinib','Salsalate','Nefazodone','Nabumetone','ibandronate','Dofetilide','Droperidol','meloxicam','Phenytoin','Rifabutin','Clarithromycin','olsalazine','Enzalutamide','idelalisib','ketorolac','CISplatin','colchicine','bacitracin','RITONAvir','venetoclax ','Itraconazole','naproxen','Efavirenz','Triamterene','loperamide','leflunomide','FLUCONAZOLE','acyclovir','clotrimazole','primiDONE','crizotinib','gentamicin','fingolimod','fosamprenavir','tobramycin','Cladribine','bromfenac','etodolac','telavancin','sotalol','hydroxychloroquine','RifAMPin','dexlansoprazole','etanercept','cycloSPORINE','Darunavir','lithium carbonate','Spironolactone','InFLIXimab','letermovir','ioversol','Edoxaban','deferasirox','PHENobarbital','Fosphenytoin','Citalopram','Posaconazole','Lansoprazole','bedaquiline','atazanavir','zoledronic acid','pimozide','dolasetron','nelFINavir','amphotericin B'))\n",
      " OR (e1.medication = 'temazepam' AND e2.medication IN ('morphine'))\n",
      " OR (e1.medication = 'teriflunomide' AND e2.medication IN ('erythromycin','Ruxolitinib ','Obinutuzumab','amiodarone','Midostaurin','milnacipran','Brentuximab Vedotin','tacrolimus','dupilumab','Belatacept','Mechlorethamine','abatacept','Daratumumab','Clozapine','Methyldopa','aminosalicylic acid','carBAMazepine','gefitinib','Phenazopyridine','Pomalidomide','PAZOPanib','CELECOXIB','Carmustine','Eribulin','Flutamide','methimazole','Ixazomib','Moexipril','IDArubicin','Trandolapril','hydroxyurea','Basiliximab','vemurafenib','Atorvastatin','ibuprofen','quinapril','budesonide','palbociclib','Sulindac','Methylprednisolone','Ibrutinib','bosentan','vedolizumab','BuPROPion','tolcapone','fenofibric acid','Acarbose','azaTHIOprine','bicalutamide','everolimus','Prednisone','acalabrutinib','Cytarabine','laMIVudine','Axicabtagene Ciloleucel','Dronedarone','Duloxetine','Olaparib ','riluzole','bortezomib','Salsalate','abemaciclib','pravastatin','Nefazodone','Nabumetone','SORAfenib','Clarithromycin','idelalisib','tiZANidine','zileuton','Atezolizumab','Busulfan','Zidovudine','RITONAvir','Pralatrexate','Retinoic Acid','capecitabine','mitoXANTRONE','erlotinib','APAP','fludrocortisone','TEMOZOLOMIDE','Efavirenz','Emtricitabine','Gemcitabine','bosutinib','testosterone','Chlorambucil','leflunomide','FLUCONAZOLE','riTUXimab','fosinopril','Pyrazinamide','azaCITIDine','crizotinib','Clofarabine','febuxostat','fingolimod','Cladribine','Intron A','etodolac','valproic acid','ethionamide','linezolid','Prednisolone','hydroxychloroquine','didanosine','Alectinib','DACTINomycin','cycloSPORINE','Darunavir','Peginterferon Alfa-2a','stavudine','InFLIXimab','Sirolimus','larotrectinib','lenvatinib','Pegaspargase','Fosphenytoin','bedaquiline','Felbamate','Melphalan','thioguanine','Niacin','simvastatin','Piroxicam','Voriconazole','PEMEtrexed','ramipril','procarbazine','Pentostatin','dasatinib','naltrexone','Ambrisentan','interferon beta-1a','Cabazitaxel','Sunitinib','eltrombopag','Dacarbazine','neVIRapine','anakinra','colesevelam','Cyclophosphamide','lisinopril','Elotuzumab','cosyntropin','Moxifloxacin','DAUNOrubicin','Aspirin','Alemtuzumab','Mitomycin','maraviroc','oxandrolone','Tolvaptan','abacavir','dantrolene','Labetalol','Thalidomide','Brigatinib','Thiotepa','acitretin','DOXOrubicin','cannabidiol','Bleomycin','pioglitazone','metaxalone','rosiglitazone','Decitabine','nilotinib','abiraterone','ustekinumab','BENDAmustine','Trastuzumab','colestipol','zafirlukast','pirfenidone','Methotrexate','indomethacin','lomustine','minocycline','axitinib','ketoconazole','dexamethasone','Propylthiouracil','adalimumab','tofacitinib','Anti-Thymocyte Globulin (Rabbit)','nilutamide','lovastatin','Phenytoin','meloxicam','benazepriL','binimetinib','nitrofurantoin macrocrystal','CARBOplatin','ketorolac','CISplatin','Erwinaze','tocilizumab','Penicillamine','duvelisib','venetoclax ','atomoxetine','Captopril','rosuvastatin','dimethyl fumarate','Blinatumomab','Itraconazole','rilpivirine','naproxen','Ponatinib','GILTERITINIB','Ifosfamide','danazol','pitavastatin','mycophenolate mofetil','Aldesleukin','clotrimazole','LENALIDOMIDE','osimertinib','azithromycin','macitentan','Disulfiram','Niacinamide ','Imatinib','Streptozocin','bromfenac','fluorouracil','fenofibrate','isoniazid','RifAMPin','etanercept','lapatinib','hydrocorTISone','OXALIplatin','interferon beta-1b','deferasirox','levofloxacin','Posaconazole','Cholestyramine','Etoposide','mercaptopurine','Carfilzomib'))\n",
      " OR (e1.medication = 'testosterone' AND e2.medication IN ('teriflunomide','warfarin','leflunomide','PAZOPanib','Carfilzomib'))\n",
      " OR (e1.medication = 'tetrabenazine' AND e2.medication IN ('osimertinib','crizotinib','fingolimod','ivosidenib','Chloroquine','procarbazine','metoCLOPramide','Cabozantinib','Arsenic Trioxide','nilotinib','BuPROPion','hydroxychloroquine','anagrelide','dolasetron','cinacalcet','promethazine','vemurafenib'))\n",
      " OR (e1.medication = 'Tetracycline' AND e2.medication IN ('vitamin A','acitretin','Retinoic Acid'))\n",
      " OR (e1.medication = 'theophylline' AND e2.medication IN ('Labetalol','betaxolol','Nadolol','sotalol','timolol','BuPROPion','nebivolol','CARVedilol','Pindolol','Acebutolol','atenolol','ciprofloxacin','traMADol','deferasirox','riociguat','esmolol','mexiletine','propranolol','fluvoxaMINE'))\n",
      " OR (e1.medication = 'Thiotepa' AND e2.medication IN ('Thalidomide','fingolimod','Cladribine','Streptozocin','Mechlorethamine','CARBOplatin','teriflunomide','CISplatin','Busulfan','Clozapine','etanercept','InFLIXimab','Cyclophosphamide','Ifosfamide','lomustine','Carmustine','Chlorambucil','adalimumab','leflunomide','tofacitinib','Melphalan'))\n",
      " OR (e1.medication = 'Thiothixene' AND e2.medication IN ('morphine','Potassium Citrate','BuPROPion','Potassium Chloride','metoCLOPramide'))\n",
      " OR (e1.medication = 'Tirofiban' AND e2.medication IN ('TiCLOPIDINE','warfarin','clopidogrel','Prasugrel','rivaroxaban','apixaban','dasatinib','Fondaparinux','Cabozantinib','Ibrutinib','Alteplase','enoxaparin','defibrotide','Abciximab','Heparin','Eptifibatide','Dipyridamole','dalteparin','Argatroban','anagrelide','Ponatinib','Edoxaban','acalabrutinib','deferasirox','cangrelor'))\n",
      " OR (e1.medication = 'tiZANidine' AND e2.medication IN ('Famotidine','TiCLOPIDINE','crizotinib','fingolimod','ivosidenib','Chloroquine','Intron A','diazoxide','teriflunomide','Cabozantinib','Arsenic Trioxide','nilotinib','hydroxychloroquine','Peginterferon Alfa-2a','treprostinil','obeticholic acid','Minoxidil','Epoprostenol','anagrelide','cimetidine','morphine','deferasirox','Aldesleukin','dolasetron','leflunomide','acyclovir','vemurafenib'))\n",
      " OR (e1.medication = 'tofacitinib' AND e2.medication IN ('thioguanine','Ruxolitinib ','Obinutuzumab','Midostaurin','Voriconazole','Brentuximab Vedotin','PEMEtrexed','cobicistat','dupilumab','tacrolimus','Belatacept','Mechlorethamine','procarbazine','Pentostatin','abatacept','dasatinib','Daratumumab','teriflunomide','Clozapine','Cabazitaxel','Dacarbazine','anakinra','carBAMazepine','Cyclophosphamide','Elotuzumab','cosyntropin','Pomalidomide','PAZOPanib','DAUNOrubicin','indinavir','Alemtuzumab','Carmustine','Eribulin','Ixazomib','Mitomycin','hydroxyurea','IDArubicin','Basiliximab','Thalidomide','Brigatinib','Thiotepa','budesonide','DOXOrubicin','palbociclib','Bleomycin','Methylprednisolone','Ibrutinib','Decitabine','vedolizumab','nilotinib','BENDAmustine','ustekinumab','azaTHIOprine','everolimus','Trastuzumab','Methotrexate','Prednisone','acalabrutinib','lomustine','Cytarabine','Axicabtagene Ciloleucel','ketoconazole','dexamethasone','adalimumab','Olaparib ','Anti-Thymocyte Globulin (Rabbit)','bortezomib','abemaciclib','Nefazodone','Phenytoin','Clarithromycin','Enzalutamide','idelalisib','CARBOplatin','Atezolizumab','CISplatin','tocilizumab','Busulfan','Zidovudine','RITONAvir','Pralatrexate','duvelisib','venetoclax ','capecitabine','mitoXANTRONE','dimethyl fumarate','Blinatumomab','Itraconazole','fludrocortisone','Ponatinib','TEMOZOLOMIDE','Ifosfamide','Gemcitabine','bosutinib','Chlorambucil','mycophenolate mofetil','Aldesleukin','leflunomide','FLUCONAZOLE','riTUXimab','LENALIDOMIDE','osimertinib','azaCITIDine','primiDONE','Clofarabine','fingolimod','fosamprenavir','Imatinib','Cladribine','Streptozocin','Intron A','fluorouracil','linezolid','Prednisolone','DACTINomycin','RifAMPin','etanercept','cycloSPORINE','Peginterferon Alfa-2a','hydrocorTISone','InFLIXimab','Sirolimus','OXALIplatin','PHENobarbital','Pegaspargase','Fosphenytoin','Posaconazole','Etoposide','atazanavir','mercaptopurine','nelFINavir','Carfilzomib','Melphalan'))\n",
      " OR (e1.medication = 'tolcapone' AND e2.medication IN ('teriflunomide','procarbazine','leflunomide'))\n",
      " OR (e1.medication = 'Tolvaptan' AND e2.medication IN ('teriflunomide','ketoconazole','cobicistat','leflunomide','Clarithromycin','Enzalutamide','idelalisib'))\n",
      " OR (e1.medication = 'traMADol' AND e2.medication IN ('phentermine','Enzalutamide','procarbazine','naltrexone','Cabozantinib','interferon beta-1a','Arsenic Trioxide','Blinatumomab','dronabinol','alvimopan','morphine','Aldesleukin','vemurafenib','osimertinib','ondansetron','crizotinib','fingolimod','ivosidenib','Chloroquine','Intron A','metoCLOPramide','doxepin','nilotinib','BuPROPion','hydroxychloroquine','theophylline','Peginterferon Alfa-2a','lidocaine','anagrelide','interferon beta-1b','levofloxacin','palonosetron','dolasetron','granisetron','promethazine'))\n",
      " OR (e1.medication = 'Trastuzumab' AND e2.medication IN ('Thalidomide','fingolimod','DOXOrubicin','Cladribine','teriflunomide','Clozapine','etanercept','InFLIXimab','DAUNOrubicin','IDArubicin','adalimumab','leflunomide','tofacitinib'))\n",
      " OR (e1.medication = 'treprostinil' AND e2.medication IN ('rivaroxaban','tiZANidine','apixaban','dasatinib','Fondaparinux','Cabozantinib','Ibrutinib','enoxaparin','dalteparin','Ponatinib','Edoxaban','acalabrutinib','deferasirox'))\n",
      " OR (e1.medication = 'TRIAzolam' AND e2.medication IN ('morphine','ketoconazole','cobicistat','FLUCONAZOLE','idelalisib'))\n",
      " OR (e1.medication = 'ustekinumab' AND e2.medication IN ('fingolimod','Cladribine','teriflunomide','tocilizumab','etanercept','InFLIXimab','adalimumab','leflunomide','tofacitinib'))\n",
      " OR (e1.medication = 'valproic acid' AND e2.medication IN ('vorinostat','teriflunomide','leflunomide'))\n",
      " OR (e1.medication = 'venetoclax ' AND e2.medication IN ('erythromycin','lorlatinib','amiodarone','Midostaurin','Voriconazole','tacrolimus','cobicistat','teriflunomide','Cabozantinib','Clozapine','miFEPRIStone','neVIRapine','carBAMazepine','Dabrafenib','indinavir','mirabegron','vemurafenib','Nafcillin','fidaxomicin','Ibrutinib','bosentan','nilotinib','nelFINavir','abiraterone','ticagrelor','proGESTerone','ketoconazole','dexamethasone','adalimumab','Dronedarone','tofacitinib','Nefazodone','SORAfenib','Phenytoin','simeprevir','Rifabutin','Clarithromycin','Enzalutamide','idelalisib','colchicine','ulipristal','modafinil','RITONAvir','duvelisib','daclatasvir','Captopril','Itraconazole','etravirine','Ponatinib','Efavirenz','fosaprepitant','leflunomide','FLUCONAZOLE','primiDONE','crizotinib','Aprepitant','fingolimod','fosamprenavir','Imatinib','felodipine','Cladribine','eslicarbazepine','ranolazine','CARVedilol','RifAMPin','etanercept','cycloSPORINE','Darunavir','Diltiazem','lapatinib','Spironolactone','InFLIXimab','NIFEdipine','letermovir','PHENobarbital','Fosphenytoin','valbenazine','Posaconazole','atazanavir','propafenone','verapamil','ciprofloxacin','suvorexant'))\n",
      " OR (e1.medication = 'venlafaxine' AND e2.medication IN ('osimertinib','ondansetron','crizotinib','fingolimod','ivosidenib','Chloroquine','phentermine','procarbazine','Cabozantinib','Arsenic Trioxide','doxepin','nilotinib','BuPROPion','hydroxychloroquine','anagrelide','palonosetron','dolasetron','granisetron','vemurafenib'))\n",
      " OR (e1.medication = 'vitamin E' AND e2.medication IN ('Ibrutinib'))\n",
      " OR (e1.medication = 'Voriconazole' AND e2.medication IN ('erythromycin','Ruxolitinib ','lorlatinib','simvastatin','Midostaurin','tacrolimus','dasatinib','teriflunomide','Cabozantinib','Arsenic Trioxide','PAZOPanib','glimepiride','vemurafenib','Brigatinib','ivosidenib','Chloroquine','budesonide','cilostazol','palbociclib','Methylprednisolone','Ibrutinib','nilotinib','ticagrelor','everolimus','anagrelide','acalabrutinib','axitinib','naloxegol','tofacitinib','Olaparib ','abemaciclib','apixaban','Retinoic Acid','venetoclax ','encorafenib','Ponatinib','GILTERITINIB','loperamide','bosutinib','fluticasone','leflunomide','osimertinib','warfarin','crizotinib','fingolimod','rivaroxaban','glyBURIDE','hydroxychloroquine','glipiZIDE','cycloSPORINE','lapatinib','Sirolimus','larotrectinib','salmeterol','dolasetron'))\n",
      " OR (e1.medication = 'vortioxetine' AND e2.medication IN ('granisetron','ondansetron','phentermine','procarbazine','palonosetron','doxepin','BuPROPion','dolasetron','cinacalcet'))\n",
      " OR (e1.medication = 'Zidovudine' AND e2.medication IN ('etanercept','fingolimod','InFLIXimab','Cladribine','Intron A','teriflunomide','interferon beta-1b','interferon beta-1a','adalimumab','leflunomide','tofacitinib'))\n",
      " OR (e1.medication = 'ZOLMitriptan' AND e2.medication IN ('ondansetron','palonosetron','dolasetron','granisetron','procarbazine'))\n",
      " OR (e1.medication = 'zolpidem' AND e2.medication IN ('morphine'))\n",
      " OR (e1.medication = 'Aliskiren' AND e2.medication IN ('cycloSPORINE'))\n",
      " OR (e1.medication = 'alosetron' AND e2.medication IN ('fluvoxaMINE'))\n",
      " OR (e1.medication = 'alpelisib' AND e2.medication IN ('PHENobarbital','Fosphenytoin','primiDONE','carBAMazepine','RifAMPin','Phenytoin','Enzalutamide','Rifabutin','Edoxaban'))\n",
      " OR (e1.medication = 'anastrozole' AND e2.medication IN ('Thalidomide'))\n",
      " OR (e1.medication = 'Erwinaze' AND e2.medication IN ('Thalidomide','teriflunomide','leflunomide'))\n",
      " OR (e1.medication = 'chloral hydrate' AND e2.medication IN ('morphine'))\n",
      " OR (e1.medication = 'clonazePAM' AND e2.medication IN ('morphine'))\n",
      " OR (e1.medication = 'dapagliflozin' AND e2.medication IN ('gatifloxacin'))\n",
      " OR (e1.medication = 'diazoxide' AND e2.medication IN ('tiZANidine'))\n",
      " OR (e1.medication = 'dulaglutide' AND e2.medication IN ('gatifloxacin'))\n",
      " OR (e1.medication = 'empagliflozin' AND e2.medication IN ('gatifloxacin'))\n",
      " OR (e1.medication = 'eslicarbazepine' AND e2.medication IN ('lorlatinib','Brigatinib','venetoclax '))\n",
      " OR (e1.medication = 'estazolam' AND e2.medication IN ('morphine'))\n",
      " OR (e1.medication = 'exenatide' AND e2.medication IN ('gatifloxacin'))\n",
      " OR (e1.medication = 'factor XIII' AND e2.medication IN ('Carfilzomib'))\n",
      " OR (e1.medication = 'fenofibric acid' AND e2.medication IN ('rosuvastatin','simvastatin','teriflunomide','warfarin','leflunomide'))\n",
      " OR (e1.medication = 'ferrous fumarate' AND e2.medication IN ('dolutegravir'))\n",
      " OR (e1.medication = 'Ferrous GLUCONATE' AND e2.medication IN ('dolutegravir'))\n",
      " OR (e1.medication = 'Gabapentin' AND e2.medication IN ('morphine'))\n",
      " OR (e1.medication = 'larotrectinib' AND e2.medication IN ('primiDONE','Voriconazole','Nefazodone','fosamprenavir','Phenytoin','cobicistat','Rifabutin','Clarithromycin','Enzalutamide','idelalisib','teriflunomide','miFEPRIStone','RITONAvir','RifAMPin','carBAMazepine','Itraconazole','indinavir','PHENobarbital','Fosphenytoin','ketoconazole','Posaconazole','atazanavir','pimozide','leflunomide','nelFINavir'))\n",
      " OR (e1.medication = 'linaGLIPtin' AND e2.medication IN ('gatifloxacin'))\n",
      " OR (e1.medication = 'liraglutide' AND e2.medication IN ('gatifloxacin'))\n",
      " OR (e1.medication = 'magnesium gluconate' AND e2.medication IN ('dolutegravir'))\n",
      " OR (e1.medication = 'naloxone' AND e2.medication IN ('Droperidol'))\n",
      " OR (e1.medication = 'Nivolumab' AND e2.medication IN ('Thalidomide','LENALIDOMIDE','Pomalidomide'))\n",
      " OR (e1.medication = 'oritavancin' AND e2.medication IN ('Heparin'))\n",
      " OR (e1.medication = 'Oxacillin' AND e2.medication IN ('Methotrexate'))\n",
      " OR (e1.medication = 'parathyroid hormone' AND e2.medication IN ('Digoxin'))\n",
      " OR (e1.medication = 'PEMBROlizumab' AND e2.medication IN ('Thalidomide','LENALIDOMIDE','Pomalidomide'))\n",
      " OR (e1.medication = 'ramelteon' AND e2.medication IN ('morphine'))\n",
      " OR (e1.medication = 'roflumilast' AND e2.medication IN ('Cladribine'))\n",
      " OR (e1.medication = 'selexipag' AND e2.medication IN ('gemfibrozil'))\n",
      " OR (e1.medication = 'semaglutide' AND e2.medication IN ('gatifloxacin'))\n",
      " OR (e1.medication = 'sitaGLIPtin' AND e2.medication IN ('gatifloxacin'))\n",
      " OR (e1.medication = 'Ferric Citrate' AND e2.medication IN ('dolutegravir'))\n",
      " OR (e1.medication = 'Von Willebrand factor' AND e2.medication IN ('Carfilzomib'))\n",
      " OR (e1.medication = 'voxelotor' AND e2.medication IN ('lorlatinib','everolimus','Brigatinib','encorafenib','cobicistat','Dabrafenib','Clarithromycin','Enzalutamide','idelalisib','acalabrutinib','bosutinib','naloxegol','ketoconazole','dexamethasone','FLUCONAZOLE'))\n",
      " OR (e1.medication = 'zaleplon' AND e2.medication IN ('morphine'))\n",
      " OR (e1.medication = 'zinc chloride' AND e2.medication IN ('raltegravir'))\n",
      "\n",
      "            )\n",
      "    \n",
      "<google.oauth2.credentials.Credentials object at 0x000002116B67DCC0> mimic-iv-desktop\n",
      "Found 3418 emar drug events\n"
     ]
    },
    {
     "data": {
      "text/plain": "0       26210891\n1       23246205\n6       23360920\n7       21361138\n9       24685559\n          ...   \n3387    20901634\n3393    23152070\n3394    20626504\n3407    21877380\n3409    28038733\nName: hadm_id, Length: 683, dtype: Int64"
     },
     "execution_count": 82,
     "metadata": {},
     "output_type": "execute_result"
    }
   ],
   "source": [
    "# emar table has more drugs administered than the icu records\n",
    "def query_for_emar_drug_interactions():\n",
    "    # clauses = [\"e1.medication = 'Citalopram' AND e2.medication IN ('Insulin')\", \"e1.medication = 'Insulin' AND e2.medication IN ('Citalopram')\"]\n",
    "    clauses = get_emar_interaction_clause()\n",
    "    event_txt_not_status = ('Not Given', 'Not Started', 'Not Confirmed')\n",
    "    sql = f\"\"\"\n",
    "        SELECT e1.subject_id, e1.hadm_id, \n",
    "        e1.medication as medication_1, \n",
    "        e2.medication as medication_2,\n",
    "        e1.charttime as charttime_1 ,\n",
    "        e2.charttime as charttime_2,\n",
    "        e1.event_txt,\n",
    "        e2.event_txt, \n",
    "        stays.stay_id, \n",
    "        stays.intime\n",
    "        FROM `physionet-data.mimiciv_hosp.emar` as e1\n",
    "        INNER JOIN `physionet-data.mimiciv_hosp.emar` as e2\n",
    "            ON e1.hadm_id = e2.hadm_id \n",
    "                AND e2.charttime > e1.charttime\n",
    "                AND DATETIME_DIFF(e2.charttime, e1.charttime, MINUTE) < 720\n",
    "        INNER JOIN `physionet-data.mimiciv_icu.icustays` as stays ON e1.subject_id = stays.subject_id\n",
    "            AND (stays.intime > e2.charttime AND DATETIME_DIFF(stays.intime, e2.charttime, HOUR) < 24 OR (e2.charttime BETWEEN stays.intime AND stays.outtime))\n",
    "        WHERE\n",
    "            e1.event_txt NOT IN {event_txt_not_status}\n",
    "            AND e2.event_txt NOT IN {event_txt_not_status}\n",
    "            AND \n",
    "            (\n",
    "                {' OR '.join(clauses)}\n",
    "            )\n",
    "    \"\"\"\n",
    "    print(sql)\n",
    "    return BigQueryClient.auth().query(sql).to_dataframe()\n",
    "    \n",
    "hosp_drug_interactions = query_for_emar_drug_interactions()    \n",
    "print(f\"Found {len(hosp_drug_interactions)} emar drug events\")\n",
    "\n",
    "hosp_drug_interactions = hosp_drug_interactions.drop_duplicates()\n",
    "hosp_drug_interactions['hadm_id'].drop_duplicates()\n",
    "\n"
   ]
  },
  {
   "cell_type": "code",
   "execution_count": 83,
   "metadata": {
    "ExecuteTime": {
     "end_time": "2023-11-01T05:53:26.659687900Z",
     "start_time": "2023-11-01T05:53:26.615806100Z"
    }
   },
   "outputs": [
    {
     "data": {
      "text/plain": "        subject_id   hadm_id   stay_id  drug_a_item_id  drug_b_item_id  \\\n0         10245250  26727785  32875883          225798          225893   \n1         10404109  29867820  31722715          225798          225893   \n2         10404109  29867820  31722715          225798          225893   \n3         10404109  29867820  31722715          225798          225893   \n4         10404109  29867820  31722715          225798          225893   \n...            ...       ...       ...             ...             ...   \n104809    15886366  20745767  37318329          221393          225166   \n104810    16030116  28017146  37104426          221393          225166   \n104811    16030116  28017146  37104426          221393          225166   \n104812    16030116  28017146  37104426          221393          225166   \n104813    16030116  28017146  37104426          221393          225166   \n\n               dose_b_time  event_count  \n0      2186-05-05 07:50:00            5  \n1      2146-12-28 20:00:00            4  \n2      2146-12-29 08:06:00            4  \n3      2146-12-31 07:56:00            4  \n4      2146-12-30 14:00:00            4  \n...                    ...          ...  \n104809 2186-10-26 07:57:00            1  \n104810 2180-06-19 16:41:00            1  \n104811 2180-06-24 12:28:00            1  \n104812 2180-06-27 09:32:00            1  \n104813 2180-06-25 04:30:00            1  \n\n[199422 rows x 7 columns]",
      "text/html": "<div>\n<style scoped>\n    .dataframe tbody tr th:only-of-type {\n        vertical-align: middle;\n    }\n\n    .dataframe tbody tr th {\n        vertical-align: top;\n    }\n\n    .dataframe thead th {\n        text-align: right;\n    }\n</style>\n<table border=\"1\" class=\"dataframe\">\n  <thead>\n    <tr style=\"text-align: right;\">\n      <th></th>\n      <th>subject_id</th>\n      <th>hadm_id</th>\n      <th>stay_id</th>\n      <th>drug_a_item_id</th>\n      <th>drug_b_item_id</th>\n      <th>dose_b_time</th>\n      <th>event_count</th>\n    </tr>\n  </thead>\n  <tbody>\n    <tr>\n      <th>0</th>\n      <td>10245250</td>\n      <td>26727785</td>\n      <td>32875883</td>\n      <td>225798</td>\n      <td>225893</td>\n      <td>2186-05-05 07:50:00</td>\n      <td>5</td>\n    </tr>\n    <tr>\n      <th>1</th>\n      <td>10404109</td>\n      <td>29867820</td>\n      <td>31722715</td>\n      <td>225798</td>\n      <td>225893</td>\n      <td>2146-12-28 20:00:00</td>\n      <td>4</td>\n    </tr>\n    <tr>\n      <th>2</th>\n      <td>10404109</td>\n      <td>29867820</td>\n      <td>31722715</td>\n      <td>225798</td>\n      <td>225893</td>\n      <td>2146-12-29 08:06:00</td>\n      <td>4</td>\n    </tr>\n    <tr>\n      <th>3</th>\n      <td>10404109</td>\n      <td>29867820</td>\n      <td>31722715</td>\n      <td>225798</td>\n      <td>225893</td>\n      <td>2146-12-31 07:56:00</td>\n      <td>4</td>\n    </tr>\n    <tr>\n      <th>4</th>\n      <td>10404109</td>\n      <td>29867820</td>\n      <td>31722715</td>\n      <td>225798</td>\n      <td>225893</td>\n      <td>2146-12-30 14:00:00</td>\n      <td>4</td>\n    </tr>\n    <tr>\n      <th>...</th>\n      <td>...</td>\n      <td>...</td>\n      <td>...</td>\n      <td>...</td>\n      <td>...</td>\n      <td>...</td>\n      <td>...</td>\n    </tr>\n    <tr>\n      <th>104809</th>\n      <td>15886366</td>\n      <td>20745767</td>\n      <td>37318329</td>\n      <td>221393</td>\n      <td>225166</td>\n      <td>2186-10-26 07:57:00</td>\n      <td>1</td>\n    </tr>\n    <tr>\n      <th>104810</th>\n      <td>16030116</td>\n      <td>28017146</td>\n      <td>37104426</td>\n      <td>221393</td>\n      <td>225166</td>\n      <td>2180-06-19 16:41:00</td>\n      <td>1</td>\n    </tr>\n    <tr>\n      <th>104811</th>\n      <td>16030116</td>\n      <td>28017146</td>\n      <td>37104426</td>\n      <td>221393</td>\n      <td>225166</td>\n      <td>2180-06-24 12:28:00</td>\n      <td>1</td>\n    </tr>\n    <tr>\n      <th>104812</th>\n      <td>16030116</td>\n      <td>28017146</td>\n      <td>37104426</td>\n      <td>221393</td>\n      <td>225166</td>\n      <td>2180-06-27 09:32:00</td>\n      <td>1</td>\n    </tr>\n    <tr>\n      <th>104813</th>\n      <td>16030116</td>\n      <td>28017146</td>\n      <td>37104426</td>\n      <td>221393</td>\n      <td>225166</td>\n      <td>2180-06-25 04:30:00</td>\n      <td>1</td>\n    </tr>\n  </tbody>\n</table>\n<p>199422 rows × 7 columns</p>\n</div>"
     },
     "execution_count": 83,
     "metadata": {},
     "output_type": "execute_result"
    }
   ],
   "source": [
    "icu_drug_interactions"
   ]
  },
  {
   "cell_type": "code",
   "execution_count": 121,
   "metadata": {
    "ExecuteTime": {
     "end_time": "2023-11-01T10:41:26.114381800Z",
     "start_time": "2023-11-01T10:41:25.796152800Z"
    }
   },
   "outputs": [
    {
     "name": "stdout",
     "output_type": "stream",
     "text": [
      "Index(['subject_id', 'hadm_id', 'stay_id', 'drug_a_item_id', 'drug_b_item_id',\n",
      "       'dose_b_time', 'event_count'],\n",
      "      dtype='object')\n",
      "202828\n",
      "30091\n",
      "count    30091.000000\n",
      "mean         6.740487\n",
      "std         11.602103\n",
      "min          1.000000\n",
      "25%          2.000000\n",
      "50%          3.000000\n",
      "75%          7.000000\n",
      "90%         15.000000\n",
      "99%         53.000000\n",
      "max        388.000000\n",
      "Name: subject_id, dtype: float64\n",
      "count    52249.000000\n",
      "mean         4.716454\n",
      "std          4.431064\n",
      "min          1.000000\n",
      "25%          1.000000\n",
      "50%          3.000000\n",
      "75%          6.000000\n",
      "90%         11.000000\n",
      "99%         20.000000\n",
      "max         21.000000\n",
      "Name: admin_count, dtype: float64\n"
     ]
    },
    {
     "data": {
      "text/plain": "      subject_id   hadm_id   stay_id   drug_a_item_id      drug_b_item_id  \\\n0       10245250  26727785  32875883           225798              225893   \n1       10404109  29867820  31722715           225798              225893   \n2       10404109  29867820  31722715           225798              225893   \n3       10404109  29867820  31722715           225798              225893   \n4       10404109  29867820  31722715           225798              225893   \n...          ...       ...       ...              ...                 ...   \n3410    11554445  28038733  36346298  DiphenhydrAMINE  Potassium Chloride   \n3411    13368060  20901634  30372315    AcetaZOLamide             Aspirin   \n3412    13368060  20901634  30372315          Aspirin       AcetaZOLamide   \n3413    12442684  20791333  34678414        Captopril  Potassium Chloride   \n3417    13368060  20901634  30372315          Aspirin       AcetaZOLamide   \n\n             dose_b_time  event_count  admin_count  \n0    2186-05-05 07:50:00            5          1.0  \n1    2146-12-28 20:00:00            4          1.0  \n2    2146-12-29 08:06:00            4          3.0  \n3    2146-12-31 07:56:00            4         10.0  \n4    2146-12-30 14:00:00            4         16.0  \n...                  ...          ...          ...  \n3410 2133-10-08 10:38:00            0          9.0  \n3411 2126-06-30 08:13:00            0          3.0  \n3412 2126-06-29 18:47:00            0          3.0  \n3413 2135-05-16 04:06:00            0          4.0  \n3417 2126-06-30 17:44:00            0          1.0  \n\n[52249 rows x 8 columns]",
      "text/html": "<div>\n<style scoped>\n    .dataframe tbody tr th:only-of-type {\n        vertical-align: middle;\n    }\n\n    .dataframe tbody tr th {\n        vertical-align: top;\n    }\n\n    .dataframe thead th {\n        text-align: right;\n    }\n</style>\n<table border=\"1\" class=\"dataframe\">\n  <thead>\n    <tr style=\"text-align: right;\">\n      <th></th>\n      <th>subject_id</th>\n      <th>hadm_id</th>\n      <th>stay_id</th>\n      <th>drug_a_item_id</th>\n      <th>drug_b_item_id</th>\n      <th>dose_b_time</th>\n      <th>event_count</th>\n      <th>admin_count</th>\n    </tr>\n  </thead>\n  <tbody>\n    <tr>\n      <th>0</th>\n      <td>10245250</td>\n      <td>26727785</td>\n      <td>32875883</td>\n      <td>225798</td>\n      <td>225893</td>\n      <td>2186-05-05 07:50:00</td>\n      <td>5</td>\n      <td>1.0</td>\n    </tr>\n    <tr>\n      <th>1</th>\n      <td>10404109</td>\n      <td>29867820</td>\n      <td>31722715</td>\n      <td>225798</td>\n      <td>225893</td>\n      <td>2146-12-28 20:00:00</td>\n      <td>4</td>\n      <td>1.0</td>\n    </tr>\n    <tr>\n      <th>2</th>\n      <td>10404109</td>\n      <td>29867820</td>\n      <td>31722715</td>\n      <td>225798</td>\n      <td>225893</td>\n      <td>2146-12-29 08:06:00</td>\n      <td>4</td>\n      <td>3.0</td>\n    </tr>\n    <tr>\n      <th>3</th>\n      <td>10404109</td>\n      <td>29867820</td>\n      <td>31722715</td>\n      <td>225798</td>\n      <td>225893</td>\n      <td>2146-12-31 07:56:00</td>\n      <td>4</td>\n      <td>10.0</td>\n    </tr>\n    <tr>\n      <th>4</th>\n      <td>10404109</td>\n      <td>29867820</td>\n      <td>31722715</td>\n      <td>225798</td>\n      <td>225893</td>\n      <td>2146-12-30 14:00:00</td>\n      <td>4</td>\n      <td>16.0</td>\n    </tr>\n    <tr>\n      <th>...</th>\n      <td>...</td>\n      <td>...</td>\n      <td>...</td>\n      <td>...</td>\n      <td>...</td>\n      <td>...</td>\n      <td>...</td>\n      <td>...</td>\n    </tr>\n    <tr>\n      <th>3410</th>\n      <td>11554445</td>\n      <td>28038733</td>\n      <td>36346298</td>\n      <td>DiphenhydrAMINE</td>\n      <td>Potassium Chloride</td>\n      <td>2133-10-08 10:38:00</td>\n      <td>0</td>\n      <td>9.0</td>\n    </tr>\n    <tr>\n      <th>3411</th>\n      <td>13368060</td>\n      <td>20901634</td>\n      <td>30372315</td>\n      <td>AcetaZOLamide</td>\n      <td>Aspirin</td>\n      <td>2126-06-30 08:13:00</td>\n      <td>0</td>\n      <td>3.0</td>\n    </tr>\n    <tr>\n      <th>3412</th>\n      <td>13368060</td>\n      <td>20901634</td>\n      <td>30372315</td>\n      <td>Aspirin</td>\n      <td>AcetaZOLamide</td>\n      <td>2126-06-29 18:47:00</td>\n      <td>0</td>\n      <td>3.0</td>\n    </tr>\n    <tr>\n      <th>3413</th>\n      <td>12442684</td>\n      <td>20791333</td>\n      <td>34678414</td>\n      <td>Captopril</td>\n      <td>Potassium Chloride</td>\n      <td>2135-05-16 04:06:00</td>\n      <td>0</td>\n      <td>4.0</td>\n    </tr>\n    <tr>\n      <th>3417</th>\n      <td>13368060</td>\n      <td>20901634</td>\n      <td>30372315</td>\n      <td>Aspirin</td>\n      <td>AcetaZOLamide</td>\n      <td>2126-06-30 17:44:00</td>\n      <td>0</td>\n      <td>1.0</td>\n    </tr>\n  </tbody>\n</table>\n<p>52249 rows × 8 columns</p>\n</div>"
     },
     "execution_count": 121,
     "metadata": {},
     "output_type": "execute_result"
    },
    {
     "data": {
      "text/plain": "<Figure size 640x480 with 1 Axes>",
      "image/png": "[encoded data removed]"
     },
     "metadata": {},
     "output_type": "display_data"
    }
   ],
   "source": [
    "# merge icu and emar drug interactions\n",
    "\n",
    "mergeable_hosp_interactions = pd.DataFrame(hosp_drug_interactions[['subject_id', 'hadm_id', 'stay_id']])\n",
    "mergeable_hosp_interactions['drug_a_item_id'] = hosp_drug_interactions.medication_1\n",
    "mergeable_hosp_interactions['drug_b_item_id'] = hosp_drug_interactions.medication_2\n",
    "mergeable_hosp_interactions['dose_b_time'] = hosp_drug_interactions.charttime_2\n",
    "mergeable_hosp_interactions['event_count'] = 0 # dummy value\n",
    "\n",
    "combined_drug_interactions = pd.concat([icu_drug_interactions, mergeable_hosp_interactions])\n",
    "\n",
    "print(combined_drug_interactions.columns)\n",
    "print(len(combined_drug_interactions))\n",
    "counts = combined_drug_interactions.groupby(['hadm_id', 'drug_a_item_id', 'drug_b_item_id']).count()\n",
    "print(len(counts))\n",
    "print(counts.subject_id.describe(percentiles=[0.25,0.5,0.75,0.9, 0.99]))\n",
    "combined_drug_interactions['admin_count'] = counts.reset_index().subject_id\n",
    "\n",
    "combined_drug_interactions.boxplot(column='admin_count')\n",
    "\n",
    "combined_drug_interactions = combined_drug_interactions[combined_drug_interactions.admin_count < (7 + 1.5 * 5)] # 3 * IQR\n",
    "print(combined_drug_interactions.admin_count.describe(percentiles=[0.25,0.5,0.75,0.9, 0.99]))\n",
    "\n",
    "combined_drug_interactions"
   ]
  },
  {
   "cell_type": "code",
   "execution_count": 122,
   "outputs": [
    {
     "data": {
      "text/plain": "<Axes: >"
     },
     "execution_count": 122,
     "metadata": {},
     "output_type": "execute_result"
    },
    {
     "data": {
      "text/plain": "<Figure size 640x480 with 1 Axes>",
      "image/png": "[encoded data removed]"
     },
     "metadata": {},
     "output_type": "display_data"
    }
   ],
   "source": [
    "combined_drug_interactions.boxplot(column='admin_count')"
   ],
   "metadata": {
    "collapsed": false,
    "ExecuteTime": {
     "end_time": "2023-11-01T10:41:27.701451600Z",
     "start_time": "2023-11-01T10:41:27.518432500Z"
    }
   }
  },
  {
   "cell_type": "code",
   "execution_count": 123,
   "outputs": [
    {
     "data": {
      "text/plain": "7659"
     },
     "execution_count": 123,
     "metadata": {},
     "output_type": "execute_result"
    }
   ],
   "source": [
    "combined_drug_interactions[\"hadm_id\"].nunique()"
   ],
   "metadata": {
    "collapsed": false,
    "ExecuteTime": {
     "end_time": "2023-11-01T10:41:28.825362700Z",
     "start_time": "2023-11-01T10:41:28.762560800Z"
    }
   }
  },
  {
   "cell_type": "code",
   "execution_count": 107,
   "metadata": {
    "ExecuteTime": {
     "end_time": "2023-11-01T10:33:46.697062900Z",
     "start_time": "2023-11-01T10:33:46.658146200Z"
    }
   },
   "outputs": [
    {
     "name": "stdout",
     "output_type": "stream",
     "text": [
      "Saved cohort to ..\\out\\total-drug-interactions.out\n"
     ]
    }
   ],
   "source": [
    "from detectdd.serializer import Serializer \n",
    "serializer = Serializer()\n",
    "serializer.write_total_drug_interactions(combined_drug_interactions)"
   ]
  },
  {
   "cell_type": "code",
   "execution_count": 108,
   "metadata": {
    "ExecuteTime": {
     "end_time": "2023-11-01T10:33:54.927508700Z",
     "start_time": "2023-11-01T10:33:54.897589800Z"
    }
   },
   "outputs": [
    {
     "name": "stdout",
     "output_type": "stream",
     "text": [
      "Saved cohort to ..\\out\\icu-drug-interactions.out\n"
     ]
    }
   ],
   "source": [
    "serializer.write_icu_drug_interactions(icu_drug_interactions)"
   ]
  },
  {
   "cell_type": "code",
   "execution_count": 109,
   "metadata": {
    "ExecuteTime": {
     "end_time": "2023-11-01T10:33:55.458706800Z",
     "start_time": "2023-11-01T10:33:55.385899700Z"
    }
   },
   "outputs": [
    {
     "name": "stdout",
     "output_type": "stream",
     "text": [
      "Saved cohort to ..\\out\\emar-drug-interactions.out\n"
     ]
    }
   ],
   "source": [
    "serializer.write_emar_drug_interactions(hosp_drug_interactions.drop_duplicates())"
   ]
  },
  {
   "cell_type": "code",
   "execution_count": 110,
   "metadata": {
    "ExecuteTime": {
     "end_time": "2023-11-01T10:33:55.905564700Z",
     "start_time": "2023-11-01T10:33:55.826616400Z"
    }
   },
   "outputs": [
    {
     "name": "stdout",
     "output_type": "stream",
     "text": [
      "Loaded cohort from ..\\out\\total-drug-interactions.out\n"
     ]
    },
    {
     "data": {
      "text/plain": "      subject_id   hadm_id   stay_id   drug_a_item_id      drug_b_item_id  \\\n0       10245250  26727785  32875883           225798              225893   \n1       10404109  29867820  31722715           225798              225893   \n2       10404109  29867820  31722715           225798              225893   \n3       10404109  29867820  31722715           225798              225893   \n6       10990398  27541056  32331290           225798              225893   \n...          ...       ...       ...              ...                 ...   \n3410    11554445  28038733  36346298  DiphenhydrAMINE  Potassium Chloride   \n3411    13368060  20901634  30372315    AcetaZOLamide             Aspirin   \n3412    13368060  20901634  30372315          Aspirin       AcetaZOLamide   \n3413    12442684  20791333  34678414        Captopril  Potassium Chloride   \n3417    13368060  20901634  30372315          Aspirin       AcetaZOLamide   \n\n             dose_b_time  event_count  admin_count  \n0    2186-05-05 07:50:00            5          1.0  \n1    2146-12-28 20:00:00            4          1.0  \n2    2146-12-29 08:06:00            4          3.0  \n3    2146-12-31 07:56:00            4         10.0  \n6    2175-12-13 11:00:00            9          7.0  \n...                  ...          ...          ...  \n3410 2133-10-08 10:38:00            0          9.0  \n3411 2126-06-30 08:13:00            0          3.0  \n3412 2126-06-29 18:47:00            0          3.0  \n3413 2135-05-16 04:06:00            0          4.0  \n3417 2126-06-30 17:44:00            0          1.0  \n\n[49552 rows x 8 columns]",
      "text/html": "<div>\n<style scoped>\n    .dataframe tbody tr th:only-of-type {\n        vertical-align: middle;\n    }\n\n    .dataframe tbody tr th {\n        vertical-align: top;\n    }\n\n    .dataframe thead th {\n        text-align: right;\n    }\n</style>\n<table border=\"1\" class=\"dataframe\">\n  <thead>\n    <tr style=\"text-align: right;\">\n      <th></th>\n      <th>subject_id</th>\n      <th>hadm_id</th>\n      <th>stay_id</th>\n      <th>drug_a_item_id</th>\n      <th>drug_b_item_id</th>\n      <th>dose_b_time</th>\n      <th>event_count</th>\n      <th>admin_count</th>\n    </tr>\n  </thead>\n  <tbody>\n    <tr>\n      <th>0</th>\n      <td>10245250</td>\n      <td>26727785</td>\n      <td>32875883</td>\n      <td>225798</td>\n      <td>225893</td>\n      <td>2186-05-05 07:50:00</td>\n      <td>5</td>\n      <td>1.0</td>\n    </tr>\n    <tr>\n      <th>1</th>\n      <td>10404109</td>\n      <td>29867820</td>\n      <td>31722715</td>\n      <td>225798</td>\n      <td>225893</td>\n      <td>2146-12-28 20:00:00</td>\n      <td>4</td>\n      <td>1.0</td>\n    </tr>\n    <tr>\n      <th>2</th>\n      <td>10404109</td>\n      <td>29867820</td>\n      <td>31722715</td>\n      <td>225798</td>\n      <td>225893</td>\n      <td>2146-12-29 08:06:00</td>\n      <td>4</td>\n      <td>3.0</td>\n    </tr>\n    <tr>\n      <th>3</th>\n      <td>10404109</td>\n      <td>29867820</td>\n      <td>31722715</td>\n      <td>225798</td>\n      <td>225893</td>\n      <td>2146-12-31 07:56:00</td>\n      <td>4</td>\n      <td>10.0</td>\n    </tr>\n    <tr>\n      <th>6</th>\n      <td>10990398</td>\n      <td>27541056</td>\n      <td>32331290</td>\n      <td>225798</td>\n      <td>225893</td>\n      <td>2175-12-13 11:00:00</td>\n      <td>9</td>\n      <td>7.0</td>\n    </tr>\n    <tr>\n      <th>...</th>\n      <td>...</td>\n      <td>...</td>\n      <td>...</td>\n      <td>...</td>\n      <td>...</td>\n      <td>...</td>\n      <td>...</td>\n      <td>...</td>\n    </tr>\n    <tr>\n      <th>3410</th>\n      <td>11554445</td>\n      <td>28038733</td>\n      <td>36346298</td>\n      <td>DiphenhydrAMINE</td>\n      <td>Potassium Chloride</td>\n      <td>2133-10-08 10:38:00</td>\n      <td>0</td>\n      <td>9.0</td>\n    </tr>\n    <tr>\n      <th>3411</th>\n      <td>13368060</td>\n      <td>20901634</td>\n      <td>30372315</td>\n      <td>AcetaZOLamide</td>\n      <td>Aspirin</td>\n      <td>2126-06-30 08:13:00</td>\n      <td>0</td>\n      <td>3.0</td>\n    </tr>\n    <tr>\n      <th>3412</th>\n      <td>13368060</td>\n      <td>20901634</td>\n      <td>30372315</td>\n      <td>Aspirin</td>\n      <td>AcetaZOLamide</td>\n      <td>2126-06-29 18:47:00</td>\n      <td>0</td>\n      <td>3.0</td>\n    </tr>\n    <tr>\n      <th>3413</th>\n      <td>12442684</td>\n      <td>20791333</td>\n      <td>34678414</td>\n      <td>Captopril</td>\n      <td>Potassium Chloride</td>\n      <td>2135-05-16 04:06:00</td>\n      <td>0</td>\n      <td>4.0</td>\n    </tr>\n    <tr>\n      <th>3417</th>\n      <td>13368060</td>\n      <td>20901634</td>\n      <td>30372315</td>\n      <td>Aspirin</td>\n      <td>AcetaZOLamide</td>\n      <td>2126-06-30 17:44:00</td>\n      <td>0</td>\n      <td>1.0</td>\n    </tr>\n  </tbody>\n</table>\n<p>49552 rows × 8 columns</p>\n</div>"
     },
     "execution_count": 110,
     "metadata": {},
     "output_type": "execute_result"
    }
   ],
   "source": [
    "serializer.read_total_drug_interactions()"
   ]
  },
  {
   "cell_type": "code",
   "execution_count": 111,
   "metadata": {
    "ExecuteTime": {
     "end_time": "2023-11-01T10:33:56.418415300Z",
     "start_time": "2023-11-01T10:33:56.379373300Z"
    }
   },
   "outputs": [
    {
     "name": "stdout",
     "output_type": "stream",
     "text": [
      "49552\n"
     ]
    }
   ],
   "source": [
    "print(len(combined_drug_interactions))"
   ]
  },
  {
   "cell_type": "code",
   "execution_count": 112,
   "metadata": {
    "ExecuteTime": {
     "end_time": "2023-11-01T10:33:57.118650100Z",
     "start_time": "2023-11-01T10:33:57.051182200Z"
    }
   },
   "outputs": [
    {
     "name": "stdout",
     "output_type": "stream",
     "text": [
      "1951152\n"
     ]
    },
    {
     "data": {
      "text/plain": "        subject_id   hadm_id   stay_id  drug_a_item_id  drug_b_item_id  \\\n0         10245250  26727785  32875883          225798          225893   \n1         10404109  29867820  31722715          225798          225893   \n2         10404109  29867820  31722715          225798          225893   \n3         10404109  29867820  31722715          225798          225893   \n4         10404109  29867820  31722715          225798          225893   \n...            ...       ...       ...             ...             ...   \n104809    15886366  20745767  37318329          221393          225166   \n104810    16030116  28017146  37104426          221393          225166   \n104811    16030116  28017146  37104426          221393          225166   \n104812    16030116  28017146  37104426          221393          225166   \n104813    16030116  28017146  37104426          221393          225166   \n\n               dose_b_time  event_count  \n0      2186-05-05 07:50:00            5  \n1      2146-12-28 20:00:00            4  \n2      2146-12-29 08:06:00            4  \n3      2146-12-31 07:56:00            4  \n4      2146-12-30 14:00:00            4  \n...                    ...          ...  \n104809 2186-10-26 07:57:00            1  \n104810 2180-06-19 16:41:00            1  \n104811 2180-06-24 12:28:00            1  \n104812 2180-06-27 09:32:00            1  \n104813 2180-06-25 04:30:00            1  \n\n[199422 rows x 7 columns]",
      "text/html": "<div>\n<style scoped>\n    .dataframe tbody tr th:only-of-type {\n        vertical-align: middle;\n    }\n\n    .dataframe tbody tr th {\n        vertical-align: top;\n    }\n\n    .dataframe thead th {\n        text-align: right;\n    }\n</style>\n<table border=\"1\" class=\"dataframe\">\n  <thead>\n    <tr style=\"text-align: right;\">\n      <th></th>\n      <th>subject_id</th>\n      <th>hadm_id</th>\n      <th>stay_id</th>\n      <th>drug_a_item_id</th>\n      <th>drug_b_item_id</th>\n      <th>dose_b_time</th>\n      <th>event_count</th>\n    </tr>\n  </thead>\n  <tbody>\n    <tr>\n      <th>0</th>\n      <td>10245250</td>\n      <td>26727785</td>\n      <td>32875883</td>\n      <td>225798</td>\n      <td>225893</td>\n      <td>2186-05-05 07:50:00</td>\n      <td>5</td>\n    </tr>\n    <tr>\n      <th>1</th>\n      <td>10404109</td>\n      <td>29867820</td>\n      <td>31722715</td>\n      <td>225798</td>\n      <td>225893</td>\n      <td>2146-12-28 20:00:00</td>\n      <td>4</td>\n    </tr>\n    <tr>\n      <th>2</th>\n      <td>10404109</td>\n      <td>29867820</td>\n      <td>31722715</td>\n      <td>225798</td>\n      <td>225893</td>\n      <td>2146-12-29 08:06:00</td>\n      <td>4</td>\n    </tr>\n    <tr>\n      <th>3</th>\n      <td>10404109</td>\n      <td>29867820</td>\n      <td>31722715</td>\n      <td>225798</td>\n      <td>225893</td>\n      <td>2146-12-31 07:56:00</td>\n      <td>4</td>\n    </tr>\n    <tr>\n      <th>4</th>\n      <td>10404109</td>\n      <td>29867820</td>\n      <td>31722715</td>\n      <td>225798</td>\n      <td>225893</td>\n      <td>2146-12-30 14:00:00</td>\n      <td>4</td>\n    </tr>\n    <tr>\n      <th>...</th>\n      <td>...</td>\n      <td>...</td>\n      <td>...</td>\n      <td>...</td>\n      <td>...</td>\n      <td>...</td>\n      <td>...</td>\n    </tr>\n    <tr>\n      <th>104809</th>\n      <td>15886366</td>\n      <td>20745767</td>\n      <td>37318329</td>\n      <td>221393</td>\n      <td>225166</td>\n      <td>2186-10-26 07:57:00</td>\n      <td>1</td>\n    </tr>\n    <tr>\n      <th>104810</th>\n      <td>16030116</td>\n      <td>28017146</td>\n      <td>37104426</td>\n      <td>221393</td>\n      <td>225166</td>\n      <td>2180-06-19 16:41:00</td>\n      <td>1</td>\n    </tr>\n    <tr>\n      <th>104811</th>\n      <td>16030116</td>\n      <td>28017146</td>\n      <td>37104426</td>\n      <td>221393</td>\n      <td>225166</td>\n      <td>2180-06-24 12:28:00</td>\n      <td>1</td>\n    </tr>\n    <tr>\n      <th>104812</th>\n      <td>16030116</td>\n      <td>28017146</td>\n      <td>37104426</td>\n      <td>221393</td>\n      <td>225166</td>\n      <td>2180-06-27 09:32:00</td>\n      <td>1</td>\n    </tr>\n    <tr>\n      <th>104813</th>\n      <td>16030116</td>\n      <td>28017146</td>\n      <td>37104426</td>\n      <td>221393</td>\n      <td>225166</td>\n      <td>2180-06-25 04:30:00</td>\n      <td>1</td>\n    </tr>\n  </tbody>\n</table>\n<p>199422 rows × 7 columns</p>\n</div>"
     },
     "execution_count": 112,
     "metadata": {},
     "output_type": "execute_result"
    }
   ],
   "source": [
    "print(icu_drug_interactions.event_count.sum())\n",
    "\n",
    "icu_drug_interactions"
   ]
  },
  {
   "cell_type": "code",
   "execution_count": 112,
   "outputs": [],
   "source": [],
   "metadata": {
    "collapsed": false,
    "ExecuteTime": {
     "end_time": "2023-11-01T10:33:57.587597300Z",
     "start_time": "2023-11-01T10:33:57.554657Z"
    }
   }
  },
  {
   "cell_type": "code",
   "execution_count": 113,
   "metadata": {
    "ExecuteTime": {
     "end_time": "2023-11-01T10:33:58.019197400Z",
     "start_time": "2023-11-01T10:33:57.989278Z"
    }
   },
   "outputs": [
    {
     "data": {
      "text/plain": "count     199422.0\nmean      9.784036\nstd      15.599533\nmin            1.0\n25%            2.0\n50%            5.0\n75%           11.0\nmax          304.0\nName: event_count, dtype: Float64"
     },
     "execution_count": 113,
     "metadata": {},
     "output_type": "execute_result"
    }
   ],
   "source": [
    "icu_drug_interactions.event_count.describe(percentiles=[0.25,0.5,0.75])"
   ]
  },
  {
   "cell_type": "code",
   "execution_count": 114,
   "metadata": {
    "ExecuteTime": {
     "end_time": "2023-11-01T10:33:58.891758Z",
     "start_time": "2023-11-01T10:33:58.437833600Z"
    }
   },
   "outputs": [
    {
     "data": {
      "text/plain": "<Figure size 640x480 with 1 Axes>",
      "image/png": "[encoded data removed]"
     },
     "metadata": {},
     "output_type": "display_data"
    }
   ],
   "source": [
    "%matplotlib inline\n",
    "plt = icu_drug_interactions.boxplot(column=\"event_count\")\n"
   ]
  },
  {
   "cell_type": "code",
   "execution_count": 114,
   "metadata": {
    "ExecuteTime": {
     "end_time": "2023-11-01T10:33:59.078674500Z",
     "start_time": "2023-11-01T10:33:59.025287100Z"
    }
   },
   "outputs": [],
   "source": []
  },
  {
   "cell_type": "code",
   "execution_count": 115,
   "metadata": {
    "ExecuteTime": {
     "end_time": "2023-11-01T10:33:59.839933900Z",
     "start_time": "2023-11-01T10:33:59.575615300Z"
    }
   },
   "outputs": [
    {
     "name": "stdout",
     "output_type": "stream",
     "text": [
      "175290\n"
     ]
    },
    {
     "data": {
      "text/plain": "<Figure size 640x480 with 1 Axes>",
      "image/png": "[encoded data removed]"
     },
     "metadata": {},
     "output_type": "display_data"
    }
   ],
   "source": [
    "# remove outliers, q75 + 1.5 x IQR = 11 + 1.5 * 6 =  20\n",
    "# filter for events with count below \n",
    "drug_interactions_truncated = icu_drug_interactions.loc[icu_drug_interactions.event_count < 20]\n",
    "print(len(drug_interactions_truncated))\n",
    "plt = drug_interactions_truncated.boxplot(column=\"event_count\")\n"
   ]
  },
  {
   "cell_type": "code",
   "execution_count": 116,
   "metadata": {
    "ExecuteTime": {
     "end_time": "2023-11-01T10:35:57.031693400Z",
     "start_time": "2023-11-01T10:34:00.504394Z"
    }
   },
   "outputs": [
    {
     "name": "stdout",
     "output_type": "stream",
     "text": [
      "1501\n",
      "Found 74 administered ddinter keys\n",
      "Found 45 clauses\n",
      "\n",
      "\n",
      " SELECT first_ie.subject_id, \n",
      "            first_ie.hadm_id, \n",
      "            first_ie.stay_id, \n",
      "            first_ie.itemid as drug_a_item_id, \n",
      "            second_ie.itemid as drug_b_item_id, \n",
      "            MAX(second_ie.starttime) as dose_b_time, \n",
      "            count(*) as event_count\n",
      "        FROM `physionet-data.mimiciv_icu.inputevents` as first_ie\n",
      "        INNER JOIN `physionet-data.mimiciv_icu.inputevents` as second_ie ON first_ie.stay_id = second_ie.stay_id\n",
      "        WHERE \n",
      "(first_ie.itemid IN (221282) \n",
      "            AND NOT \n",
      "            second_ie.itemid IN (225896)) OR \n",
      "(first_ie.itemid IN (225840) \n",
      "            AND NOT \n",
      "            second_ie.itemid IN (225871,221555,222011,222062,227531,229233)) OR \n",
      "(first_ie.itemid IN (221342) \n",
      "            AND NOT \n",
      "            second_ie.itemid IN (225859,221429,225153,225974)) OR \n",
      "(first_ie.itemid IN (221347) \n",
      "            AND NOT \n",
      "            second_ie.itemid IN (225857,225866,225869,225879,225882,225896)) OR \n",
      "(first_ie.itemid IN (225147) \n",
      "            AND NOT \n",
      "            second_ie.itemid IN (225908)) OR \n",
      "(first_ie.itemid IN (221393) \n",
      "            AND NOT \n",
      "            second_ie.itemid IN (225166)) OR \n",
      "(first_ie.itemid IN (225845) \n",
      "            AND NOT \n",
      "            second_ie.itemid IN (225857)) OR \n",
      "(first_ie.itemid IN (229618) \n",
      "            AND NOT \n",
      "            second_ie.itemid IN (225855)) OR \n",
      "(first_ie.itemid IN (221456) \n",
      "            AND NOT \n",
      "            second_ie.itemid IN (225855)) OR \n",
      "(first_ie.itemid IN (225855) \n",
      "            AND NOT \n",
      "            second_ie.itemid IN (221456,229618)) OR \n",
      "(first_ie.itemid IN (225857) \n",
      "            AND NOT \n",
      "            second_ie.itemid IN (225845,225859,225866,225869,225871,225879,225886,225896,225905,221347,222151,222315)) OR \n",
      "(first_ie.itemid IN (225859) \n",
      "            AND NOT \n",
      "            second_ie.itemid IN (225857,221342)) OR \n",
      "(first_ie.itemid IN (221555) \n",
      "            AND NOT \n",
      "            second_ie.itemid IN (225840,225875)) OR \n",
      "(first_ie.itemid IN (227534) \n",
      "            AND NOT \n",
      "            second_ie.itemid IN (225866,225871,225905)) OR \n",
      "(first_ie.itemid IN (221468) \n",
      "            AND NOT \n",
      "            second_ie.itemid IN (225866)) OR \n",
      "(first_ie.itemid IN (221289) \n",
      "            AND NOT \n",
      "            second_ie.itemid IN (225881,225153)) OR \n",
      "(first_ie.itemid IN (225866) \n",
      "            AND NOT \n",
      "            second_ie.itemid IN (225857,225869,225886,225896,225905,221347,221468,221744,222151,222318,227534)) OR \n",
      "(first_ie.itemid IN (221429) \n",
      "            AND NOT \n",
      "            second_ie.itemid IN (221342)) OR \n",
      "(first_ie.itemid IN (221744) \n",
      "            AND NOT \n",
      "            second_ie.itemid IN (225866,225869)) OR \n",
      "(first_ie.itemid IN (225869) \n",
      "            AND NOT \n",
      "            second_ie.itemid IN (225857,225866,225886,221347,221744,222151,227690)) OR \n",
      "(first_ie.itemid IN (225908) \n",
      "            AND NOT \n",
      "            second_ie.itemid IN (221892,225147)) OR \n",
      "(first_ie.itemid IN (225871) \n",
      "            AND NOT \n",
      "            second_ie.itemid IN (225840,225857,225875,227534)) OR \n",
      "(first_ie.itemid IN (227690) \n",
      "            AND NOT \n",
      "            second_ie.itemid IN (225869)) OR \n",
      "(first_ie.itemid IN (225875) \n",
      "            AND NOT \n",
      "            second_ie.itemid IN (225871,221555,222011,222062,227531,229233)) OR \n",
      "(first_ie.itemid IN (225153) \n",
      "            AND NOT \n",
      "            second_ie.itemid IN (221289,221342)) OR \n",
      "(first_ie.itemid IN (221892) \n",
      "            AND NOT \n",
      "            second_ie.itemid IN (225908)) OR \n",
      "(first_ie.itemid IN (225879) \n",
      "            AND NOT \n",
      "            second_ie.itemid IN (225857,221347,222151)) OR \n",
      "(first_ie.itemid IN (225881) \n",
      "            AND NOT \n",
      "            second_ie.itemid IN (221289,221749)) OR \n",
      "(first_ie.itemid IN (222011) \n",
      "            AND NOT \n",
      "            second_ie.itemid IN (225840,225875,225902)) OR \n",
      "(first_ie.itemid IN (227531) \n",
      "            AND NOT \n",
      "            second_ie.itemid IN (225840,225875,225902)) OR \n",
      "(first_ie.itemid IN (225882) \n",
      "            AND NOT \n",
      "            second_ie.itemid IN (225886,221347,222151)) OR \n",
      "(first_ie.itemid IN (225974) \n",
      "            AND NOT \n",
      "            second_ie.itemid IN (221342)) OR \n",
      "(first_ie.itemid IN (225886) \n",
      "            AND NOT \n",
      "            second_ie.itemid IN (225857,225866,225869,225882,225896)) OR \n",
      "(first_ie.itemid IN (221749) \n",
      "            AND NOT \n",
      "            second_ie.itemid IN (225881)) OR \n",
      "(first_ie.itemid IN (225892) \n",
      "            AND NOT \n",
      "            second_ie.itemid IN (225798)) OR \n",
      "(first_ie.itemid IN (225166) \n",
      "            AND NOT \n",
      "            second_ie.itemid IN (221393)) OR \n",
      "(first_ie.itemid IN (222151) \n",
      "            AND NOT \n",
      "            second_ie.itemid IN (225857,225866,225869,225879,225882,225896)) OR \n",
      "(first_ie.itemid IN (225896) \n",
      "            AND NOT \n",
      "            second_ie.itemid IN (225857,225866,225886,221282,221347,222151)) OR \n",
      "(first_ie.itemid IN (229233) \n",
      "            AND NOT \n",
      "            second_ie.itemid IN (225840,225875)) OR \n",
      "(first_ie.itemid IN (225902) \n",
      "            AND NOT \n",
      "            second_ie.itemid IN (222011,227531)) OR \n",
      "(first_ie.itemid IN (225798) \n",
      "            AND NOT \n",
      "            second_ie.itemid IN (225892)) OR \n",
      "(first_ie.itemid IN (222315) \n",
      "            AND NOT \n",
      "            second_ie.itemid IN (225857)) OR \n",
      "(first_ie.itemid IN (222062) \n",
      "            AND NOT \n",
      "            second_ie.itemid IN (225840,225875)) OR \n",
      "(first_ie.itemid IN (222318) \n",
      "            AND NOT \n",
      "            second_ie.itemid IN (225866)) OR \n",
      "(first_ie.itemid IN (225905) \n",
      "            AND NOT \n",
      "            second_ie.itemid IN (225857,225866,227534)) AND first_ie.amount > 0\n",
      "            AND second_ie.amount > 0\n",
      "            AND first_ie.starttime < second_ie.starttime\n",
      "            AND DATETIME_DIFF(second_ie.starttime, first_ie.starttime, MINUTE) < 720\n",
      "        GROUP BY first_ie.subject_id, first_ie.hadm_id, first_ie.stay_id, first_ie.itemid, second_ie.itemid, second_ie.starttime\n",
      "        LIMIT 500000\n",
      "    \n",
      "<google.oauth2.credentials.Credentials object at 0x000002110E1E2080> mimic-iv-desktop\n"
     ]
    }
   ],
   "source": [
    "not_drug_interactions = query_for_drug_interactions(type='raw', with_interactions=False)"
   ]
  },
  {
   "cell_type": "code",
   "execution_count": 117,
   "metadata": {
    "ExecuteTime": {
     "end_time": "2023-11-01T10:35:57.285446700Z",
     "start_time": "2023-11-01T10:35:57.035683Z"
    }
   },
   "outputs": [
    {
     "name": "stdout",
     "output_type": "stream",
     "text": [
      "Truncating cohort to 75th percentile (18)\n",
      "count      38518.0\n",
      "mean     12.980944\n",
      "std      31.528447\n",
      "min            1.0\n",
      "25%            2.0\n",
      "50%            4.0\n",
      "75%           10.0\n",
      "95%           56.0\n",
      "99%          147.0\n",
      "max         1297.0\n",
      "Name: count, dtype: Float64\n",
      "count     32411.0\n",
      "mean     4.331616\n",
      "std      3.936176\n",
      "min           1.0\n",
      "25%           1.0\n",
      "50%           3.0\n",
      "75%           6.0\n",
      "90%          10.0\n",
      "95%          13.0\n",
      "99%          17.0\n",
      "max          18.0\n",
      "Name: count, dtype: Float64\n",
      "count    140392.0\n",
      "mean     3.900835\n",
      "std      3.615302\n",
      "min           1.0\n",
      "25%           1.0\n",
      "50%           3.0\n",
      "75%           5.0\n",
      "90%           9.0\n",
      "95%          12.0\n",
      "99%          17.0\n",
      "max          19.0\n",
      "Name: event_count, dtype: Float64\n",
      "140392\n",
      "199422\n",
      "Stay ids in truncated drug interactions 10712\n",
      "Stay ids in non-drug interactions 32411\n",
      "Stay ids in non drug interactions after modification 13184\n"
     ]
    }
   ],
   "source": [
    "print(\"Truncating cohort to 75th percentile (18)\")\n",
    "counts = not_drug_interactions['stay_id'].value_counts()\n",
    "\n",
    "print(counts.describe(percentiles=[0.25, 0.5,0.75, 0.95, 0.99]))\n",
    "not_drug_interactions_truncated = not_drug_interactions[not_drug_interactions['stay_id'].map(counts) <= 18]\n",
    "not_drug_interactions_truncated = not_drug_interactions_truncated[not_drug_interactions_truncated.event_count < 20]\n",
    "\n",
    "print(not_drug_interactions_truncated['stay_id'].value_counts().describe(percentiles=[0.25,0.5,0.75,0.9, 0.95, 0.99]))\n",
    "print(not_drug_interactions_truncated['event_count'].describe(percentiles=[0.25,0.5,0.75,0.9, 0.95, 0.99]))\n",
    "print(len(not_drug_interactions_truncated))\n",
    "print(len(icu_drug_interactions))\n",
    "print(f\"Stay ids in truncated drug interactions {drug_interactions_truncated['stay_id'].nunique()}\")\n",
    "print(f\"Stay ids in non-drug interactions {not_drug_interactions_truncated['stay_id'].nunique()}\")\n",
    "not_drug_interactions_truncated = not_drug_interactions.sample(int(len(icu_drug_interactions) / 6))\n",
    "print(f\"Stay ids in non drug interactions after modification {not_drug_interactions_truncated['stay_id'].nunique()}\")\n",
    "not_drug_interactions_truncated.to_csv(out_dir / \"non-drug-interactions.csv\")"
   ]
  },
  {
   "cell_type": "code",
   "execution_count": 96,
   "metadata": {
    "ExecuteTime": {
     "end_time": "2023-11-01T05:55:17.235670600Z",
     "start_time": "2023-11-01T05:55:17.195406600Z"
    }
   },
   "outputs": [
    {
     "name": "stdout",
     "output_type": "stream",
     "text": [
      "count     13201.0\n",
      "mean     2.517764\n",
      "std      3.297773\n",
      "min           1.0\n",
      "25%           1.0\n",
      "50%           1.0\n",
      "75%           3.0\n",
      "95%           8.0\n",
      "99%          16.0\n",
      "max          81.0\n",
      "Name: count, dtype: Float64\n"
     ]
    }
   ],
   "source": [
    "counts = not_drug_interactions_truncated['stay_id'].value_counts()\n",
    "\n",
    "print(counts.describe(percentiles=[0.25, 0.5,0.75, 0.95, 0.99]))\n"
   ]
  },
  {
   "cell_type": "code",
   "execution_count": 97,
   "metadata": {
    "ExecuteTime": {
     "end_time": "2023-11-01T05:55:17.289744100Z",
     "start_time": "2023-11-01T05:55:17.206723300Z"
    }
   },
   "outputs": [
    {
     "data": {
      "text/plain": "        subject_id   hadm_id   stay_id  drug_a_item_id  drug_b_item_id  \\\n1         16302564  27374757  34953703          227690          221828   \n2         18837391  23317190  37598381          221393          225158   \n3         19131048  20480844  35630749          221282          225158   \n4         11410426  27299736  39722758          227690          225158   \n5         17276872  23574719  34998479          221282          225158   \n...            ...       ...       ...             ...             ...   \n499995    12601474  20931771  34488757          221429          221906   \n499996    18655864  23670440  34559008          221429          222168   \n499997    15658481  25731558  34699916          221429          222168   \n499998    10005817  28661809  31316840          221429          222168   \n499999    13990571  27156036  38911695          221429          228315   \n\n               dose_b_time  event_count  \n1      2115-08-26 21:09:00           13  \n2      2172-10-07 11:08:00            2  \n3      2143-05-02 02:07:00            2  \n4      2115-06-29 12:06:00           28  \n5      2188-09-17 14:00:00            1  \n...                    ...          ...  \n499995 2131-03-06 20:29:00           45  \n499996 2148-12-04 04:03:00            7  \n499997 2202-03-13 13:00:00            1  \n499998 2135-01-08 11:13:00            1  \n499999 2143-07-08 20:30:00            6  \n\n[368280 rows x 7 columns]",
      "text/html": "<div>\n<style scoped>\n    .dataframe tbody tr th:only-of-type {\n        vertical-align: middle;\n    }\n\n    .dataframe tbody tr th {\n        vertical-align: top;\n    }\n\n    .dataframe thead th {\n        text-align: right;\n    }\n</style>\n<table border=\"1\" class=\"dataframe\">\n  <thead>\n    <tr style=\"text-align: right;\">\n      <th></th>\n      <th>subject_id</th>\n      <th>hadm_id</th>\n      <th>stay_id</th>\n      <th>drug_a_item_id</th>\n      <th>drug_b_item_id</th>\n      <th>dose_b_time</th>\n      <th>event_count</th>\n    </tr>\n  </thead>\n  <tbody>\n    <tr>\n      <th>1</th>\n      <td>16302564</td>\n      <td>27374757</td>\n      <td>34953703</td>\n      <td>227690</td>\n      <td>221828</td>\n      <td>2115-08-26 21:09:00</td>\n      <td>13</td>\n    </tr>\n    <tr>\n      <th>2</th>\n      <td>18837391</td>\n      <td>23317190</td>\n      <td>37598381</td>\n      <td>221393</td>\n      <td>225158</td>\n      <td>2172-10-07 11:08:00</td>\n      <td>2</td>\n    </tr>\n    <tr>\n      <th>3</th>\n      <td>19131048</td>\n      <td>20480844</td>\n      <td>35630749</td>\n      <td>221282</td>\n      <td>225158</td>\n      <td>2143-05-02 02:07:00</td>\n      <td>2</td>\n    </tr>\n    <tr>\n      <th>4</th>\n      <td>11410426</td>\n      <td>27299736</td>\n      <td>39722758</td>\n      <td>227690</td>\n      <td>225158</td>\n      <td>2115-06-29 12:06:00</td>\n      <td>28</td>\n    </tr>\n    <tr>\n      <th>5</th>\n      <td>17276872</td>\n      <td>23574719</td>\n      <td>34998479</td>\n      <td>221282</td>\n      <td>225158</td>\n      <td>2188-09-17 14:00:00</td>\n      <td>1</td>\n    </tr>\n    <tr>\n      <th>...</th>\n      <td>...</td>\n      <td>...</td>\n      <td>...</td>\n      <td>...</td>\n      <td>...</td>\n      <td>...</td>\n      <td>...</td>\n    </tr>\n    <tr>\n      <th>499995</th>\n      <td>12601474</td>\n      <td>20931771</td>\n      <td>34488757</td>\n      <td>221429</td>\n      <td>221906</td>\n      <td>2131-03-06 20:29:00</td>\n      <td>45</td>\n    </tr>\n    <tr>\n      <th>499996</th>\n      <td>18655864</td>\n      <td>23670440</td>\n      <td>34559008</td>\n      <td>221429</td>\n      <td>222168</td>\n      <td>2148-12-04 04:03:00</td>\n      <td>7</td>\n    </tr>\n    <tr>\n      <th>499997</th>\n      <td>15658481</td>\n      <td>25731558</td>\n      <td>34699916</td>\n      <td>221429</td>\n      <td>222168</td>\n      <td>2202-03-13 13:00:00</td>\n      <td>1</td>\n    </tr>\n    <tr>\n      <th>499998</th>\n      <td>10005817</td>\n      <td>28661809</td>\n      <td>31316840</td>\n      <td>221429</td>\n      <td>222168</td>\n      <td>2135-01-08 11:13:00</td>\n      <td>1</td>\n    </tr>\n    <tr>\n      <th>499999</th>\n      <td>13990571</td>\n      <td>27156036</td>\n      <td>38911695</td>\n      <td>221429</td>\n      <td>228315</td>\n      <td>2143-07-08 20:30:00</td>\n      <td>6</td>\n    </tr>\n  </tbody>\n</table>\n<p>368280 rows × 7 columns</p>\n</div>"
     },
     "execution_count": 97,
     "metadata": {},
     "output_type": "execute_result"
    }
   ],
   "source": [
    "not_drug_interactions[not_drug_interactions['stay_id'].map(counts) <= 18]"
   ]
  },
  {
   "cell_type": "code",
   "execution_count": 97,
   "metadata": {
    "ExecuteTime": {
     "end_time": "2023-11-01T05:55:17.311684900Z",
     "start_time": "2023-11-01T05:55:17.268589Z"
    }
   },
   "outputs": [],
   "source": []
  }
 ],
 "metadata": {
  "kernelspec": {
   "display_name": "Python 3 (ipykernel)",
   "language": "python",
   "name": "python3"
  },
  "language_info": {
   "codemirror_mode": {
    "name": "ipython",
    "version": 3
   },
   "file_extension": ".py",
   "mimetype": "text/x-python",
   "name": "python",
   "nbconvert_exporter": "python",
   "pygments_lexer": "ipython3",
   "version": "3.10.13"
  }
 },
 "nbformat": 4,
 "nbformat_minor": 1
}
