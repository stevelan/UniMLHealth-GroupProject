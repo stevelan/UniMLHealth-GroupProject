{
 "cells": [
  {
   "cell_type": "code",
   "execution_count": null,
   "outputs": [],
   "source": [
    "from detectdd.auth_bigquery import BigQueryClient\n",
    "%load_ext autoreload\n",
    "%autoreload 2\n",
    "\n",
    "import pandas as pd\n",
    "from fuzzywuzzy import fuzz\n",
    "from fuzzywuzzy import process\n",
    "\n",
    "from detectdd.config import *"
   ],
   "metadata": {
    "collapsed": false
   }
  },
  {
   "cell_type": "code",
   "execution_count": null,
   "outputs": [],
   "source": [
    "# def get_client(c,p):\n",
    "#     return bigquery.Client(p, c)\n",
    "# \n",
    "# def get_gcreds(scopes = None):\n",
    "#     if scopes is None:\n",
    "#         scopes = [\"https://www.googleapis.com/auth/bigquery\"]\n",
    "#     return google.auth.default(\n",
    "#         scopes )\n",
    "# \n",
    "# def get_authed_client():\n",
    "#     cred = get_gcreds()\n",
    "#     print(*cred)\n",
    "#     return get_client(*cred)\n",
    "\n",
    "def main():\n",
    "    mimic_drugs = f\"\"\"\n",
    "        SELECT itemid, label, abbreviation, category, unitname\n",
    "        FROM {icu_d_items}\n",
    "        WHERE linksto='inputevents' \"\"\"\n",
    "\n",
    "    mimic_job = BigQueryClient.auth().query(mimic_drugs)\n",
    "    df = mimic_job.to_dataframe()\n",
    "    df.label = df.label.fillna(\"\")\n",
    "    df.label = df.label.apply(str.lower)\n",
    "    return df\n",
    "\n",
    "icu_drugs = main()"
   ],
   "metadata": {
    "collapsed": false
   }
  },
  {
   "cell_type": "code",
   "execution_count": null,
   "outputs": [],
   "source": [
    "def read_drugs():\n",
    "    df = pd.read_csv(data_dir / \"NDC_product_table.csv\", encoding='ISO-8859-1')\n",
    "    df.NONPROPRIETARYNAME = df.NONPROPRIETARYNAME.fillna(\"\")\n",
    "    df.NONPROPRIETARYNAME = df.NONPROPRIETARYNAME.apply(str.lower)\n",
    "    df.PROPRIETARYNAME = df.PROPRIETARYNAME.fillna(\"\")\n",
    "    df.PROPRIETARYNAME = df.PROPRIETARYNAME.apply(str.lower)\n",
    "    return df\n",
    "ndc_drug_synonyms = read_drugs()\n",
    "ndc_drug_synonyms"
   ],
   "metadata": {
    "collapsed": false
   }
  },
  {
   "cell_type": "code",
   "execution_count": null,
   "outputs": [],
   "source": [
    "from detectdd.drug_index import DrugIndex\n",
    "\n",
    "drug_index = DrugIndex.init_with_drugbank()\n"
   ],
   "metadata": {
    "collapsed": false
   }
  },
  {
   "cell_type": "code",
   "execution_count": null,
   "outputs": [],
   "source": [
    "def read_hosp_drugs():\n",
    "    sql_hosp_drugs_query = \"\"\"\n",
    "    SELECT \"\"\"\n",
    "    BigQueryClient.auth()"
   ],
   "metadata": {
    "collapsed": false
   }
  },
  {
   "cell_type": "code",
   "execution_count": null,
   "outputs": [],
   "source": [
    "def match():\n",
    "    df = icu_drugs.merge(\n",
    "        ndc_drug_synonyms.drop_duplicates(subset=\"NONPROPRIETARYNAME\"), left_on= ['label'], right_on=['NONPROPRIETARYNAME'], how='left', indicator=True)[['itemid', 'label', 'category', 'PRODUCTID', 'NONPROPRIETARYNAME']]\\\n",
    "        .merge(ndc_drug_synonyms.drop_duplicates(subset=\"PROPRIETARYNAME\"), left_on=['label'], right_on='PROPRIETARYNAME', how='left', indicator=True)\n",
    "    print(df.count())\n",
    "    return df\n",
    "\n",
    "\n",
    "matched = match()\n",
    "matched"
   ],
   "metadata": {
    "collapsed": false
   }
  },
  {
   "cell_type": "code",
   "execution_count": null,
   "outputs": [],
   "source": [
    "\n",
    "def fuzzy_match(str1, str2):\n",
    "    return fuzz.token_set_ratio(str1, str2)\n",
    "\n",
    "def match_dataframe(df1, key1, df2, key2, threshold=90):\n",
    "    matches = []\n",
    "    # matches = pd.DataFrame(columns=['index', 'label', 'norm_label', 'match0', 'match1'])\n",
    "    for i, row in df1.iterrows():\n",
    "        drug_name = row[key1]\n",
    "        fast = True\n",
    "        to_match = df2[key2]\n",
    "        if fast:\n",
    "            to_match = to_match.loc[to_match.str.startswith(drug_name[0])] # speed up fuzzy matching by only considering synonyms that start with the same letter\n",
    "\n",
    "        match = process.extractOne(drug_name, to_match, scorer=fuzzy_match)\n",
    "\n",
    "        if match[1] >= threshold:\n",
    "            print(f\"Found match with score ({str(match[1])}) : {row[key1]} - {match[0]}\")\n",
    "            matches.append([i, row['itemid'],row[key1], match[0], match[1], match[2]])\n",
    "        print(i)\n",
    "\n",
    "    return pd.DataFrame(matches, columns=['index', 'itemid', 'label', 'norm_label', 'score', 'norm_index'])\n",
    "\n",
    "\n",
    "\n",
    "def fuzzy_merge():\n",
    "    medications = icu_drugs.loc[(~matched['category'].isin(['Medications']))]\n",
    "    return match_dataframe(medications, \"label\", ndc_drug_synonyms, \"PROPRIETARYNAME\")\n",
    "\n",
    "fuzzy_matched = fuzzy_merge()\n",
    "fuzzy_matched"
   ],
   "metadata": {
    "collapsed": false
   }
  },
  {
   "cell_type": "code",
   "execution_count": null,
   "outputs": [],
   "source": [
    "fuzzy_matched"
   ],
   "metadata": {
    "collapsed": false
   }
  },
  {
   "cell_type": "code",
   "execution_count": null,
   "outputs": [],
   "source": [
    "m1 = ndc_drug_synonyms['PROPRIETARYNAME'].str.startswith(\"glyc\")\n",
    "ndc_drug_synonyms.loc[m1]\n"
   ],
   "metadata": {
    "collapsed": false
   }
  },
  {
   "cell_type": "code",
   "execution_count": null,
   "outputs": [],
   "source": [
    "m1 = ~matched['PRODUCTID_x'].isnull()\n",
    "m2 = ~matched['PRODUCTID_y'].isnull()\n",
    "has_product_id = m1 | m2\n",
    "matched.loc[~has_product_id].groupby('category').count()\n"
   ],
   "metadata": {
    "collapsed": false
   }
  },
  {
   "cell_type": "code",
   "execution_count": null,
   "outputs": [],
   "source": [
    "matched.loc[(~matched['category'].isin(['Medications'])) & has_product_id]"
   ],
   "metadata": {
    "collapsed": false
   }
  },
  {
   "cell_type": "code",
   "execution_count": null,
   "outputs": [],
   "source": [
    "icu_drugs"
   ],
   "metadata": {
    "collapsed": false
   }
  },
  {
   "cell_type": "code",
   "execution_count": null,
   "outputs": [],
   "source": [
    "def read_ddinter():\n",
    "    df = pd.read_csv(ddinter_data_dir / \"ddinter_downloads_code_B.csv\")\n",
    "    df.Drug_B = df.Drug_B.fillna(\"\")\n",
    "    df.Drug_B = df.Drug_B.apply(str.lower)\n",
    "    df.Drug_B = df.Drug_B.fillna(\"\")\n",
    "    df.Drug_B = df.Drug_B.apply(str.lower)\n",
    "\n",
    "    df.Drug_A = df.Drug_A.fillna(\"\")\n",
    "    df.Drug_A = df.Drug_A.apply(str.lower)\n",
    "    df.Drug_A = df.Drug_A.fillna(\"\")\n",
    "    df.Drug_A = df.Drug_A.apply(str.lower)\n",
    "    return df\n",
    "\n",
    "ddinter = read_ddinter()\n",
    "cleaned= ddinter\n",
    "cleaned.loc[(cleaned['Drug_B'].isin( fuzzy_matched['norm_label']) | cleaned['Drug_A'].isin( fuzzy_matched['norm_label'])) & cleaned.Level.isin( ['Major'])]\n"
   ],
   "metadata": {
    "collapsed": false
   }
  },
  {
   "cell_type": "code",
   "execution_count": null,
   "outputs": [],
   "source": [
    "def query_for_drug_interactions():\n",
    "    multimap = cleaned.groupby('Drug_A')['Drug_B'].apply(list).to_dict()\n",
    "    clauses= []\n",
    "    for key in multimap.keys():\n",
    "        first_ids = fuzzy_matched.loc[(fuzzy_matched['norm_label'] == key)]['itemid']\n",
    "\n",
    "        second_ids = fuzzy_matched.loc[(fuzzy_matched['norm_label'].isin(multimap[key]))]['itemid']\n",
    "        if first_ids.any() & second_ids.any():\n",
    "            sql = f\"(first_ie.itemid IN ({','.join([str(item) for item in first_ids if item])}) AND second_ie.itemid IN ({','.join([str(item) for item in second_ids if item])}))\"\n",
    "            clauses.append(sql)\n",
    "    print(len(clauses))\n",
    "    clause = \" OR \".join(clauses)\n",
    "    print (clause)\n",
    "\n",
    "    icu = \"physionet-data.mimiciv_icu\"\n",
    "\n",
    "    sql = f\"\"\"SELECT first_ie.subject_id, first_ie.stay_id, first_ie.itemid, second_ie.itemid, MAX(second_ie.starttime) as dose2_time, count(*)\n",
    "        FROM `{icu}.inputevents` as first_ie\n",
    "        INNER JOIN `{icu}.inputevents` as second_ie ON first_ie.stay_id = second_ie.stay_id\n",
    "        WHERE {clause} AND first_ie.amount > 0\n",
    "            AND second_ie.amount > 0\n",
    "            AND first_ie.starttime < second_ie.starttime\n",
    "            AND DATETIME_DIFF(second_ie.starttime, first_ie.starttime, MINUTE) < 300\n",
    "        GROUP BY first_ie.subject_id, first_ie.stay_id, first_ie.itemid, second_ie.itemid, second_ie.starttime\n",
    "\n",
    "    \"\"\"\n",
    "    print(\"\\n\\n\",sql)\n",
    "    mimic_job = BigQueryClient.auth().query(sql)\n",
    "    return mimic_job.to_dataframe()\n",
    "\n",
    "drug_interactions = query_for_drug_interactions()\n",
    "drug_interactions"
   ],
   "metadata": {
    "collapsed": false
   }
  },
  {
   "cell_type": "code",
   "execution_count": null,
   "outputs": [],
   "source": [
    "from detectdd.serializer import Serializer\n",
    "\n",
    "serializer = Serializer()\n",
    "serializer.write_cohort(drug_interactions)"
   ],
   "metadata": {
    "collapsed": false
   }
  },
  {
   "cell_type": "code",
   "execution_count": null,
   "outputs": [],
   "source": [
    "serializer.read_cohort()"
   ],
   "metadata": {
    "collapsed": false
   }
  },
  {
   "cell_type": "code",
   "execution_count": null,
   "outputs": [],
   "source": [
    "drug_interactions"
   ],
   "metadata": {
    "collapsed": false
   }
  },
  {
   "cell_type": "code",
   "execution_count": null,
   "outputs": [],
   "source": [],
   "metadata": {
    "collapsed": false
   }
  }
 ],
 "metadata": {
  "kernelspec": {
   "display_name": "Python 3",
   "language": "python",
   "name": "python3"
  },
  "language_info": {
   "codemirror_mode": {
    "name": "ipython",
    "version": 2
   },
   "file_extension": ".py",
   "mimetype": "text/x-python",
   "name": "python",
   "nbconvert_exporter": "python",
   "pygments_lexer": "ipython2",
   "version": "2.7.6"
  }
 },
 "nbformat": 4,
 "nbformat_minor": 0
}
