{
 "cells": [
  {
   "cell_type": "markdown",
   "source": [
    "## Liver-related laboratory data after receiving the second dose of medication."
   ],
   "metadata": {
    "collapsed": false
   },
   "id": "a263dc4dd381cf24"
  },
  {
   "cell_type": "code",
   "execution_count": null,
   "outputs": [],
   "source": [
    "import root_config as rc\n",
    "\n",
    "rc.configure()\n",
    "\n",
    "from detectdd.auth_bigquery import BigQueryClient\n",
    "from detectdd.serializer import Serializer\n",
    "\n",
    "try:\n",
    "    cohort = Serializer().read_cohort()  # need to run 01-cohort.ipynb to produce the cohort\n",
    "except FileNotFoundError:\n",
    "    raise Exception(\"Need to run [01-cohort.ipynb] at least once to create the cohort file in the /out directory\")\n",
    "\n",
    "\n",
    "big_query = BigQueryClient.auth()\n",
    "\n",
    "cohort.describe()"
   ],
   "metadata": {
    "collapsed": false
   },
   "id": "75948a5719b3140a"
  },
  {
   "cell_type": "code",
   "execution_count": null,
   "outputs": [],
   "source": [
    "icu = 'physionet-data.mimiciv_icu'"
   ],
   "metadata": {
    "collapsed": false
   },
   "id": "79bf6317db5da2ca"
  },
  {
   "cell_type": "code",
   "execution_count": null,
   "outputs": [],
   "source": [
    "# keywords = [\"creatinine\", \"bun\", \"uric acid\"]\n",
    "\n",
    "\n",
    "sql = f\"\"\"\n",
    "SELECT itemid, label \n",
    "FROM `{icu}.d_items` \n",
    "WHERE label LIKE '%ALT%'\n",
    "\"\"\"\n",
    "query_job = big_query.query(sql)\n",
    "results = query_job.result()\n",
    "\n",
    "for row in results:\n",
    "    print(row.itemid, row.label)\n"
   ],
   "metadata": {
    "collapsed": false
   },
   "id": "7a7036b0bcbca4a8"
  },
  {
   "cell_type": "code",
   "execution_count": null,
   "outputs": [],
   "source": [
    "sql = f\"\"\"\n",
    "SELECT itemid, label \n",
    "FROM `{icu}.d_items` \n",
    "WHERE label LIKE '%AST%'\n",
    "\"\"\"\n",
    "query_job = big_query.query(sql)\n",
    "results = query_job.result()\n",
    "\n",
    "for row in results:\n",
    "    print(row.itemid, row.label)"
   ],
   "metadata": {
    "collapsed": false
   },
   "id": "ff0040ab5d047dcd"
  },
  {
   "cell_type": "code",
   "execution_count": null,
   "outputs": [],
   "source": [
    "sql = f\"\"\"\n",
    "SELECT itemid, label \n",
    "FROM `{icu}.d_items` \n",
    "WHERE label LIKE '%Alkaline%'\n",
    "\"\"\"\n",
    "query_job = big_query.query(sql)\n",
    "results = query_job.result()\n",
    "\n",
    "for row in results:\n",
    "    print(row.itemid, row.label)"
   ],
   "metadata": {
    "collapsed": false
   },
   "id": "8decff2c8c99ea8a"
  },
  {
   "cell_type": "code",
   "execution_count": null,
   "outputs": [],
   "source": [
    "from detectdd.query_multiplexer import QueryMultiplexer, WhereClauseGenerator\n",
    "from detectdd import config\n",
    "\n",
    "icu = 'physionet-data.mimiciv_icu'\n",
    "\n",
    "selected_itemids = {\n",
    "    \"ALT\": 220644,\n",
    "    \"AST\": 220587,\n",
    "    \"Alkaline Phosphate\": 225612\n",
    "}\n",
    "\n",
    "query_multiplexer = QueryMultiplexer(BigQueryClient().auth())\n",
    "\n",
    "def fetch_data():\n",
    "    sql_template = f\"\"\"SELECT ce.subject_id AS subject_id,\n",
    "            ce.stay_id AS stay_id,\n",
    "            ce.hadm_id AS hadm_id,\n",
    "            ce.itemid AS item_id,\n",
    "            ce.charttime AS chart_time,\n",
    "            ce.valuenum AS value,\n",
    "            CASE\n",
    "                WHEN ce.itemid = 220644 THEN 'ALT'\n",
    "                WHEN ce.itemid = 220587 THEN 'AST'\n",
    "                WHEN ce.itemid = 225612 THEN 'Alkaline Phosphate'\n",
    "            END AS parameter_name\n",
    "        FROM `{icu}.chartevents` AS ce\n",
    "        WHERE ce.itemid IN {tuple(selected_itemids.values())}\n",
    "        AND ($where)\"\"\"\n",
    "    \n",
    "    where_fragment = \"(ce.stay_id= $stay_id AND DATETIME_DIFF(ce.charttime, '$dose_b_time', HOUR) BETWEEN 0 AND 12)\"\n",
    "\n",
    "    multimap_data = {k: v.tolist() for k, v in cohort.groupby('stay_id')['dose_b_time']}\n",
    "    results = query_multiplexer.multiplex_query(sql_template, multi_map_data=multimap_data, where_clause=WhereClauseGenerator(where_fragment, \"stay_id\", \"dose_b_time\"))\n",
    "    \n",
    "    return results\n",
    "\n",
    "results = fetch_data()\n",
    "print(results)\n"
   ],
   "metadata": {
    "collapsed": false
   },
   "id": "706a0d136883fb6d"
  },
  {
   "cell_type": "code",
   "execution_count": null,
   "outputs": [],
   "source": [
    "results"
   ],
   "metadata": {
    "collapsed": false
   },
   "id": "6b581d6a0c27097a"
  }
 ],
 "metadata": {
  "kernelspec": {
   "display_name": "Python 3",
   "language": "python",
   "name": "python3"
  },
  "language_info": {
   "codemirror_mode": {
    "name": "ipython",
    "version": 2
   },
   "file_extension": ".py",
   "mimetype": "text/x-python",
   "name": "python",
   "nbconvert_exporter": "python",
   "pygments_lexer": "ipython2",
   "version": "2.7.6"
  }
 },
 "nbformat": 4,
 "nbformat_minor": 5
}
