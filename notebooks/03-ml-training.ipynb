{
 "cells": [
  {
   "cell_type": "code",
   "execution_count": 471,
   "outputs": [],
   "source": [
    "from detectdd import config\n",
    "import numpy as np\n",
    "import tensorflow as tf\n",
    "from matplotlib import pyplot as plt\n",
    "from tensorflow import keras\n",
    "\n",
    "\n",
    "import pandas as pd\n",
    "from detectdd.serializer import Serializer\n",
    "\n",
    "from sklearn.model_selection import train_test_split\n",
    "\n"
   ],
   "metadata": {
    "collapsed": false,
    "ExecuteTime": {
     "end_time": "2023-11-03T04:44:23.268522700Z",
     "start_time": "2023-11-03T04:44:22.920309100Z"
    }
   },
   "id": "73b44864dc58cc8c"
  },
  {
   "cell_type": "markdown",
   "source": [
    "### Pipeline selection\n",
    "The data array and the features in the csv need to match, so uncomment both of them out\n"
   ],
   "metadata": {
    "collapsed": false
   },
   "id": "8cb8a81d04b781d"
  },
  {
   "cell_type": "code",
   "execution_count": 472,
   "outputs": [
    {
     "name": "stdout",
     "output_type": "stream",
     "text": [
      "Duplicates found: 1706\n",
      "Remaining duplicates: 0\n"
     ]
    },
    {
     "data": {
      "text/plain": "     Unnamed: 0.1  Unnamed: 0   stay_id          dose_b_time  subject_id  \\\n0               0           0  30002654  2154-10-19 06:31:00    15978672   \n1               1           1  30002654  2154-10-19 06:31:00    15978672   \n2               2           2  30002654  2154-10-19 06:31:00    15978672   \n3               3           3  30002654  2154-10-19 06:31:00    15978672   \n4               4           4  30002654  2154-10-19 06:31:00    15978672   \n..            ...         ...       ...                  ...         ...   \n495           495         495  30044183  2144-07-03 08:51:00    12006413   \n496           496         496  30044183  2144-07-03 08:51:00    12006413   \n497           497         497  30044183  2144-07-03 08:51:00    12006413   \n498           498         498  30044183  2144-07-03 08:51:00    12006413   \n499           499         499  30044183  2144-07-03 08:51:00    12006413   \n\n               charttime  heart_rate    sbp   dbp   mbp  \n0    2154-10-19 06:05:00         NaN  112.0  64.0  77.0  \n1    2154-10-19 13:00:00        65.0  109.0  67.0  77.0  \n2    2154-10-19 15:00:00        71.0    NaN   NaN   NaN  \n3    2154-10-19 10:00:00        67.0    NaN   NaN   NaN  \n4    2154-10-19 08:00:00        69.0    NaN   NaN   NaN  \n..                   ...         ...    ...   ...   ...  \n495  2144-07-03 08:00:00       101.0    NaN   NaN   NaN  \n496  2144-07-03 09:11:00        94.0   92.0  50.0  59.0  \n497  2144-07-03 12:00:00        75.0    NaN   NaN   NaN  \n498  2144-07-03 12:04:00       102.0  115.0  68.0  79.0  \n499  2144-07-03 14:30:00       118.0    NaN   NaN   NaN  \n\n[500 rows x 10 columns]",
      "text/html": "<div>\n<style scoped>\n    .dataframe tbody tr th:only-of-type {\n        vertical-align: middle;\n    }\n\n    .dataframe tbody tr th {\n        vertical-align: top;\n    }\n\n    .dataframe thead th {\n        text-align: right;\n    }\n</style>\n<table border=\"1\" class=\"dataframe\">\n  <thead>\n    <tr style=\"text-align: right;\">\n      <th></th>\n      <th>Unnamed: 0.1</th>\n      <th>Unnamed: 0</th>\n      <th>stay_id</th>\n      <th>dose_b_time</th>\n      <th>subject_id</th>\n      <th>charttime</th>\n      <th>heart_rate</th>\n      <th>sbp</th>\n      <th>dbp</th>\n      <th>mbp</th>\n    </tr>\n  </thead>\n  <tbody>\n    <tr>\n      <th>0</th>\n      <td>0</td>\n      <td>0</td>\n      <td>30002654</td>\n      <td>2154-10-19 06:31:00</td>\n      <td>15978672</td>\n      <td>2154-10-19 06:05:00</td>\n      <td>NaN</td>\n      <td>112.0</td>\n      <td>64.0</td>\n      <td>77.0</td>\n    </tr>\n    <tr>\n      <th>1</th>\n      <td>1</td>\n      <td>1</td>\n      <td>30002654</td>\n      <td>2154-10-19 06:31:00</td>\n      <td>15978672</td>\n      <td>2154-10-19 13:00:00</td>\n      <td>65.0</td>\n      <td>109.0</td>\n      <td>67.0</td>\n      <td>77.0</td>\n    </tr>\n    <tr>\n      <th>2</th>\n      <td>2</td>\n      <td>2</td>\n      <td>30002654</td>\n      <td>2154-10-19 06:31:00</td>\n      <td>15978672</td>\n      <td>2154-10-19 15:00:00</td>\n      <td>71.0</td>\n      <td>NaN</td>\n      <td>NaN</td>\n      <td>NaN</td>\n    </tr>\n    <tr>\n      <th>3</th>\n      <td>3</td>\n      <td>3</td>\n      <td>30002654</td>\n      <td>2154-10-19 06:31:00</td>\n      <td>15978672</td>\n      <td>2154-10-19 10:00:00</td>\n      <td>67.0</td>\n      <td>NaN</td>\n      <td>NaN</td>\n      <td>NaN</td>\n    </tr>\n    <tr>\n      <th>4</th>\n      <td>4</td>\n      <td>4</td>\n      <td>30002654</td>\n      <td>2154-10-19 06:31:00</td>\n      <td>15978672</td>\n      <td>2154-10-19 08:00:00</td>\n      <td>69.0</td>\n      <td>NaN</td>\n      <td>NaN</td>\n      <td>NaN</td>\n    </tr>\n    <tr>\n      <th>...</th>\n      <td>...</td>\n      <td>...</td>\n      <td>...</td>\n      <td>...</td>\n      <td>...</td>\n      <td>...</td>\n      <td>...</td>\n      <td>...</td>\n      <td>...</td>\n      <td>...</td>\n    </tr>\n    <tr>\n      <th>495</th>\n      <td>495</td>\n      <td>495</td>\n      <td>30044183</td>\n      <td>2144-07-03 08:51:00</td>\n      <td>12006413</td>\n      <td>2144-07-03 08:00:00</td>\n      <td>101.0</td>\n      <td>NaN</td>\n      <td>NaN</td>\n      <td>NaN</td>\n    </tr>\n    <tr>\n      <th>496</th>\n      <td>496</td>\n      <td>496</td>\n      <td>30044183</td>\n      <td>2144-07-03 08:51:00</td>\n      <td>12006413</td>\n      <td>2144-07-03 09:11:00</td>\n      <td>94.0</td>\n      <td>92.0</td>\n      <td>50.0</td>\n      <td>59.0</td>\n    </tr>\n    <tr>\n      <th>497</th>\n      <td>497</td>\n      <td>497</td>\n      <td>30044183</td>\n      <td>2144-07-03 08:51:00</td>\n      <td>12006413</td>\n      <td>2144-07-03 12:00:00</td>\n      <td>75.0</td>\n      <td>NaN</td>\n      <td>NaN</td>\n      <td>NaN</td>\n    </tr>\n    <tr>\n      <th>498</th>\n      <td>498</td>\n      <td>498</td>\n      <td>30044183</td>\n      <td>2144-07-03 08:51:00</td>\n      <td>12006413</td>\n      <td>2144-07-03 12:04:00</td>\n      <td>102.0</td>\n      <td>115.0</td>\n      <td>68.0</td>\n      <td>79.0</td>\n    </tr>\n    <tr>\n      <th>499</th>\n      <td>499</td>\n      <td>499</td>\n      <td>30044183</td>\n      <td>2144-07-03 08:51:00</td>\n      <td>12006413</td>\n      <td>2144-07-03 14:30:00</td>\n      <td>118.0</td>\n      <td>NaN</td>\n      <td>NaN</td>\n      <td>NaN</td>\n    </tr>\n  </tbody>\n</table>\n<p>500 rows × 10 columns</p>\n</div>"
     },
     "execution_count": 472,
     "metadata": {},
     "output_type": "execute_result"
    }
   ],
   "source": [
    "# Switch between different csv files, haven't automated detection of this yet. The data array\n",
    "# needs to match the feature columns in the csv, or those features will be ignored.\n",
    "\n",
    "##### uncomment this set of features and \n",
    "data_arrays = [\"heart_rate\", \"sbp\", \"dbp\", \"mbp\"]\n",
    "\n",
    "#vitals_filename='vitals_data_before_and_after.csv'\n",
    "vitals_filename = 'vitals_data_before_and_after_ABCD.csv'\n",
    "# vitals_filename = 'vitals_data_before_and_after_ABC.csv'\n",
    "\n",
    "# this is the file produced by 02-ml-data-preprocessing-mulitplexed-bp\n",
    "vitals_data_df = pd.read_csv(config.out_dir / vitals_filename)\n",
    "vitals_no_ddi = pd.read_csv(config.out_dir / 'vitals_data_before_and_after_no_drug_interaction.csv')\n",
    "\n",
    "# data_arrays = [\"heart_rate\", \"sbp\", \"dbp\", \"mbp\", \"uric acid\", \"creatinine\"]\n",
    "# vitals_data_df = pd.read_csv('vitals_kidney_data.csv')\n",
    "\n",
    "print(f\"Duplicates found: {vitals_no_ddi[vitals_no_ddi['subject_id'].isin(vitals_data_df['subject_id'])]['subject_id'].nunique()}\")\n",
    "vitals_no_ddi = vitals_no_ddi[~vitals_no_ddi['subject_id'].isin(vitals_data_df['subject_id'])]\n",
    "print(f\"Remaining duplicates: {vitals_no_ddi[vitals_no_ddi['subject_id'].isin(vitals_data_df['subject_id'])]['subject_id'].nunique()}\")\n",
    "vitals_data_df.head(500)"
   ],
   "metadata": {
    "collapsed": false,
    "ExecuteTime": {
     "end_time": "2023-11-03T04:44:26.127866100Z",
     "start_time": "2023-11-03T04:44:22.960553900Z"
    }
   },
   "id": "11242a814e8b0279"
  },
  {
   "cell_type": "code",
   "execution_count": 473,
   "outputs": [
    {
     "name": "stdout",
     "output_type": "stream",
     "text": [
      "Unique subject ids 2844\n"
     ]
    }
   ],
   "source": [
    "print(f\"Unique subject ids {vitals_data_df['subject_id'].nunique()}\")"
   ],
   "metadata": {
    "collapsed": false,
    "ExecuteTime": {
     "end_time": "2023-11-03T04:44:26.214796700Z",
     "start_time": "2023-11-03T04:44:26.129860900Z"
    }
   },
   "id": "4259c7e73622c3e1"
  },
  {
   "cell_type": "code",
   "execution_count": 474,
   "outputs": [
    {
     "name": "stdout",
     "output_type": "stream",
     "text": [
      "Drug interaction events subject_id      2844\n",
      "dose_b_time    12690\n",
      "dtype: int64\n"
     ]
    }
   ],
   "source": [
    "print(f\"Drug interaction events {vitals_data_df[['subject_id', 'dose_b_time']].nunique()}\")"
   ],
   "metadata": {
    "collapsed": false,
    "ExecuteTime": {
     "end_time": "2023-11-03T04:44:26.357447500Z",
     "start_time": "2023-11-03T04:44:26.157947Z"
    }
   },
   "id": "c185567799ba93ac"
  },
  {
   "cell_type": "code",
   "execution_count": 475,
   "outputs": [
    {
     "name": "stdout",
     "output_type": "stream",
     "text": [
      "Loaded cohort from ..\\out\\cohort-full.out\n",
      "        Unnamed: 0.1     Unnamed: 0       stay_id          dose_b_time  \\\n",
      "count  457106.000000  457106.000000  4.571060e+05               457106   \n",
      "mean   228552.500000    9824.537274  3.504841e+07  2154-09-28 01:09:57   \n",
      "min         0.000000       0.000000  3.000265e+07  2110-03-01 01:04:00   \n",
      "25%    114276.250000    3658.000000  3.245463e+07  2134-11-22 20:30:00   \n",
      "50%    228552.500000    7733.000000  3.508056e+07  2154-07-17 10:48:00   \n",
      "75%    342828.750000   13392.000000  3.765520e+07  2175-08-25 08:23:00   \n",
      "max    457105.000000   44296.000000  3.999923e+07  2209-08-27 08:29:00   \n",
      "std    131955.280411    8431.525500  2.934036e+06                  NaN   \n",
      "\n",
      "         subject_id            charttime     heart_rate            sbp  \\\n",
      "count  4.571060e+05               457106  334863.000000  343611.000000   \n",
      "mean   1.506163e+07  2154-09-28 01:12:00      89.893388     115.387503   \n",
      "min    1.000188e+07  2110-03-01 00:00:00       5.000000       3.000000   \n",
      "25%    1.255123e+07  2134-11-22 09:15:00      76.000000     100.000000   \n",
      "50%    1.511767e+07  2154-07-17 18:15:00      88.000000     112.500000   \n",
      "75%    1.758453e+07  2175-08-25 06:00:00     102.000000     128.000000   \n",
      "max    1.999560e+07  2209-08-27 20:01:00     220.000000     357.000000   \n",
      "std    2.894560e+06                  NaN      19.597446      21.767816   \n",
      "\n",
      "                 dbp            mbp  \n",
      "count  343555.000000  343966.000000  \n",
      "mean       60.926873      76.927421  \n",
      "min         1.000000       1.000000  \n",
      "25%        51.000000      67.000000  \n",
      "50%        59.000000      75.000000  \n",
      "75%        69.000000      85.000000  \n",
      "max       290.000000     299.000000  \n",
      "std        14.153066      15.600465  \n",
      "       Unnamed: 0.1     Unnamed: 0       stay_id          dose_b_time  \\\n",
      "count  7.794940e+05  779494.000000  7.794940e+05               779494   \n",
      "mean   5.101488e+05   17985.179551  3.502407e+07  2154-02-20 15:16:37   \n",
      "min    0.000000e+00       0.000000  3.000048e+07  2110-01-13 14:39:00   \n",
      "25%    2.464582e+05    5081.000000  3.240001e+07  2134-02-20 19:50:00   \n",
      "50%    4.980055e+05   12953.000000  3.500698e+07  2154-07-14 00:00:00   \n",
      "75%    7.709708e+05   26913.000000  3.755698e+07  2174-06-28 22:10:00   \n",
      "max    1.060729e+06   61638.000000  3.999862e+07  2210-04-19 06:37:00   \n",
      "std    3.050981e+05   16089.822178  2.924369e+06                  NaN   \n",
      "\n",
      "         subject_id            charttime     heart_rate            sbp  \\\n",
      "count  7.794940e+05               779494  646976.000000  664210.000000   \n",
      "mean   1.496173e+07  2154-02-20 15:20:47      88.926753     117.261388   \n",
      "min    1.000122e+07  2110-01-13 11:53:00       1.000000       1.000000   \n",
      "25%    1.247678e+07  2134-02-20 18:15:45      76.000000     101.000000   \n",
      "50%    1.494082e+07  2154-07-13 15:37:30      87.000000     114.000000   \n",
      "75%    1.741757e+07  2174-06-28 18:00:00     101.000000     131.000000   \n",
      "max    1.999984e+07  2210-04-19 11:01:00     280.000000     341.000000   \n",
      "std    2.866572e+06                  NaN      19.115808      23.359595   \n",
      "\n",
      "                 dbp            mbp  \n",
      "count  664035.000000  663785.000000  \n",
      "mean       60.222656      77.166342  \n",
      "min         1.000000       1.000000  \n",
      "25%        50.500000      66.000000  \n",
      "50%        58.000000      75.000000  \n",
      "75%        68.000000      86.000000  \n",
      "max       275.000000     299.000000  \n",
      "std        14.310506      16.504383  \n"
     ]
    },
    {
     "data": {
      "text/plain": "        Unnamed: 0.1  Unnamed: 0   stay_id         dose_b_time  subject_id  \\\n321039        321039           1  30002654 2154-10-18 05:34:00    15978672   \n321051        321051          13  30002654 2154-10-18 05:34:00    15978672   \n321042        321042           4  30002654 2154-10-18 05:34:00    15978672   \n321058        321058          20  30002654 2154-10-18 05:34:00    15978672   \n321041        321041           3  30002654 2154-10-18 05:34:00    15978672   \n...              ...         ...       ...                 ...         ...   \n348894        348894          49  30015010 2154-07-28 09:00:00    11365767   \n348893        348893          48  30015010 2154-07-28 09:00:00    11365767   \n348887        348887          42  30015010 2154-07-28 09:00:00    11365767   \n348885        348885          40  30015010 2154-07-28 09:00:00    11365767   \n348878        348878          33  30015010 2154-07-28 09:00:00    11365767   \n\n                 charttime  heart_rate    sbp   dbp   mbp  \n321039 2154-10-18 02:25:00        75.0    NaN   NaN   NaN  \n321051 2154-10-18 02:26:00         NaN  116.0  65.0  77.0  \n321042 2154-10-18 02:33:00        72.0    NaN   NaN   NaN  \n321058 2154-10-18 03:00:00        73.0  123.0  66.0  79.0  \n321041 2154-10-18 04:00:00        77.0    NaN   NaN   NaN  \n...                    ...         ...    ...   ...   ...  \n348894 2154-07-28 00:00:00        96.0  134.0  81.0  99.0  \n348893 2154-07-28 01:00:00       109.0  132.0  80.0  95.0  \n348887 2154-07-28 02:00:00       102.0  103.0  65.0  78.0  \n348885 2154-07-28 03:00:00       108.0  120.0  74.0  89.0  \n348878 2154-07-28 04:00:00       104.0  119.0  73.0  88.0  \n\n[500 rows x 10 columns]",
      "text/html": "<div>\n<style scoped>\n    .dataframe tbody tr th:only-of-type {\n        vertical-align: middle;\n    }\n\n    .dataframe tbody tr th {\n        vertical-align: top;\n    }\n\n    .dataframe thead th {\n        text-align: right;\n    }\n</style>\n<table border=\"1\" class=\"dataframe\">\n  <thead>\n    <tr style=\"text-align: right;\">\n      <th></th>\n      <th>Unnamed: 0.1</th>\n      <th>Unnamed: 0</th>\n      <th>stay_id</th>\n      <th>dose_b_time</th>\n      <th>subject_id</th>\n      <th>charttime</th>\n      <th>heart_rate</th>\n      <th>sbp</th>\n      <th>dbp</th>\n      <th>mbp</th>\n    </tr>\n  </thead>\n  <tbody>\n    <tr>\n      <th>321039</th>\n      <td>321039</td>\n      <td>1</td>\n      <td>30002654</td>\n      <td>2154-10-18 05:34:00</td>\n      <td>15978672</td>\n      <td>2154-10-18 02:25:00</td>\n      <td>75.0</td>\n      <td>NaN</td>\n      <td>NaN</td>\n      <td>NaN</td>\n    </tr>\n    <tr>\n      <th>321051</th>\n      <td>321051</td>\n      <td>13</td>\n      <td>30002654</td>\n      <td>2154-10-18 05:34:00</td>\n      <td>15978672</td>\n      <td>2154-10-18 02:26:00</td>\n      <td>NaN</td>\n      <td>116.0</td>\n      <td>65.0</td>\n      <td>77.0</td>\n    </tr>\n    <tr>\n      <th>321042</th>\n      <td>321042</td>\n      <td>4</td>\n      <td>30002654</td>\n      <td>2154-10-18 05:34:00</td>\n      <td>15978672</td>\n      <td>2154-10-18 02:33:00</td>\n      <td>72.0</td>\n      <td>NaN</td>\n      <td>NaN</td>\n      <td>NaN</td>\n    </tr>\n    <tr>\n      <th>321058</th>\n      <td>321058</td>\n      <td>20</td>\n      <td>30002654</td>\n      <td>2154-10-18 05:34:00</td>\n      <td>15978672</td>\n      <td>2154-10-18 03:00:00</td>\n      <td>73.0</td>\n      <td>123.0</td>\n      <td>66.0</td>\n      <td>79.0</td>\n    </tr>\n    <tr>\n      <th>321041</th>\n      <td>321041</td>\n      <td>3</td>\n      <td>30002654</td>\n      <td>2154-10-18 05:34:00</td>\n      <td>15978672</td>\n      <td>2154-10-18 04:00:00</td>\n      <td>77.0</td>\n      <td>NaN</td>\n      <td>NaN</td>\n      <td>NaN</td>\n    </tr>\n    <tr>\n      <th>...</th>\n      <td>...</td>\n      <td>...</td>\n      <td>...</td>\n      <td>...</td>\n      <td>...</td>\n      <td>...</td>\n      <td>...</td>\n      <td>...</td>\n      <td>...</td>\n      <td>...</td>\n    </tr>\n    <tr>\n      <th>348894</th>\n      <td>348894</td>\n      <td>49</td>\n      <td>30015010</td>\n      <td>2154-07-28 09:00:00</td>\n      <td>11365767</td>\n      <td>2154-07-28 00:00:00</td>\n      <td>96.0</td>\n      <td>134.0</td>\n      <td>81.0</td>\n      <td>99.0</td>\n    </tr>\n    <tr>\n      <th>348893</th>\n      <td>348893</td>\n      <td>48</td>\n      <td>30015010</td>\n      <td>2154-07-28 09:00:00</td>\n      <td>11365767</td>\n      <td>2154-07-28 01:00:00</td>\n      <td>109.0</td>\n      <td>132.0</td>\n      <td>80.0</td>\n      <td>95.0</td>\n    </tr>\n    <tr>\n      <th>348887</th>\n      <td>348887</td>\n      <td>42</td>\n      <td>30015010</td>\n      <td>2154-07-28 09:00:00</td>\n      <td>11365767</td>\n      <td>2154-07-28 02:00:00</td>\n      <td>102.0</td>\n      <td>103.0</td>\n      <td>65.0</td>\n      <td>78.0</td>\n    </tr>\n    <tr>\n      <th>348885</th>\n      <td>348885</td>\n      <td>40</td>\n      <td>30015010</td>\n      <td>2154-07-28 09:00:00</td>\n      <td>11365767</td>\n      <td>2154-07-28 03:00:00</td>\n      <td>108.0</td>\n      <td>120.0</td>\n      <td>74.0</td>\n      <td>89.0</td>\n    </tr>\n    <tr>\n      <th>348878</th>\n      <td>348878</td>\n      <td>33</td>\n      <td>30015010</td>\n      <td>2154-07-28 09:00:00</td>\n      <td>11365767</td>\n      <td>2154-07-28 04:00:00</td>\n      <td>104.0</td>\n      <td>119.0</td>\n      <td>73.0</td>\n      <td>88.0</td>\n    </tr>\n  </tbody>\n</table>\n<p>500 rows × 10 columns</p>\n</div>"
     },
     "execution_count": 475,
     "metadata": {},
     "output_type": "execute_result"
    }
   ],
   "source": [
    "def fix_csv_data_types(df):\n",
    "    df[\"charttime\"] = df[\"charttime\"].astype(\"datetime64[s]\")\n",
    "    df[\"dose_b_time\"] = df[\"dose_b_time\"].astype(\"datetime64[s]\")\n",
    "    return df\n",
    "\n",
    "vitals_data_df = fix_csv_data_types(vitals_data_df)\n",
    "vitals_no_ddi = fix_csv_data_types(vitals_no_ddi)\n",
    "\n",
    "vitals_data_df = vitals_data_df.sort_values(by=[\"stay_id\", \"dose_b_time\", \"charttime\"])\n",
    "\n",
    "try:\n",
    "    serializer = Serializer()\n",
    "    cohort_with_icd = serializer.read_cohort()  # need to run 01-cohort.ipynb to produce the cohort\n",
    "except FileNotFoundError:\n",
    "    raise Exception(\"Need to run [01-cohort.ipynb] at least once to create the cohort file in the /out directory\")\n",
    "\n",
    "print(vitals_data_df.describe())\n",
    "print(vitals_no_ddi.describe())\n",
    "vitals_data_df.head(500)"
   ],
   "metadata": {
    "collapsed": false,
    "ExecuteTime": {
     "end_time": "2023-11-03T04:44:28.228330100Z",
     "start_time": "2023-11-03T04:44:26.240241900Z"
    }
   },
   "id": "initial_id"
  },
  {
   "cell_type": "code",
   "execution_count": 476,
   "outputs": [
    {
     "name": "stdout",
     "output_type": "stream",
     "text": [
      "       subject_id  num_icd_codes\n",
      "4        10990398              1\n",
      "11       11343484              2\n",
      "14       11549427              2\n",
      "47       12181540              1\n",
      "87       14482820              1\n",
      "...           ...            ...\n",
      "49449    10828900              1\n",
      "49491    16331109              1\n",
      "49496    13370388              1\n",
      "49508    18260575              2\n",
      "49524    18896122              1\n",
      "\n",
      "[1544 rows x 2 columns]\n",
      "has_icd ratio 1.0\n",
      "Unique subject ids 1540\n"
     ]
    },
    {
     "data": {
      "text/plain": "     Unnamed: 0.1  Unnamed: 0   stay_id         dose_b_time  subject_id  \\\n0          111002          37  30004144 2126-04-04 18:43:00    10369174   \n1          111020          55  30004144 2126-04-04 18:43:00    10369174   \n2          110999          34  30004144 2126-04-04 18:43:00    10369174   \n3          111027          62  30004144 2126-04-04 18:43:00    10369174   \n4          111016          51  30004144 2126-04-04 18:43:00    10369174   \n..            ...         ...       ...                 ...         ...   \n495        391512          11  30015010 2154-08-09 20:00:00    11365767   \n496        391517          16  30015010 2154-08-09 20:00:00    11365767   \n497        419201           2  30015010 2154-08-10 20:00:00    11365767   \n498        419210          11  30015010 2154-08-10 20:00:00    11365767   \n499        419212          13  30015010 2154-08-10 20:00:00    11365767   \n\n              charttime  heart_rate    sbp   dbp   mbp  num_icd_codes  has_icd  \n0   2126-04-04 13:20:00        60.0    NaN   NaN   NaN              2     True  \n1   2126-04-04 13:21:00         NaN  132.0  53.0  78.0              2     True  \n2   2126-04-04 13:30:00        65.0    NaN   NaN   NaN              2     True  \n3   2126-04-04 13:31:00         NaN  139.0  60.0  87.0              2     True  \n4   2126-04-04 13:32:00        63.0  150.0  63.0  93.0              2     True  \n..                  ...         ...    ...   ...   ...            ...      ...  \n495 2154-08-10 06:00:00       101.0  116.0  84.0  92.0              1     True  \n496 2154-08-10 07:00:00        93.0  110.0  73.0  82.0              1     True  \n497 2154-08-10 09:00:00        85.0    NaN   NaN   NaN              1     True  \n498 2154-08-10 09:05:00         NaN  105.0  63.0  73.0              1     True  \n499 2154-08-10 10:00:00         NaN  108.0  74.0  81.0              1     True  \n\n[500 rows x 12 columns]",
      "text/html": "<div>\n<style scoped>\n    .dataframe tbody tr th:only-of-type {\n        vertical-align: middle;\n    }\n\n    .dataframe tbody tr th {\n        vertical-align: top;\n    }\n\n    .dataframe thead th {\n        text-align: right;\n    }\n</style>\n<table border=\"1\" class=\"dataframe\">\n  <thead>\n    <tr style=\"text-align: right;\">\n      <th></th>\n      <th>Unnamed: 0.1</th>\n      <th>Unnamed: 0</th>\n      <th>stay_id</th>\n      <th>dose_b_time</th>\n      <th>subject_id</th>\n      <th>charttime</th>\n      <th>heart_rate</th>\n      <th>sbp</th>\n      <th>dbp</th>\n      <th>mbp</th>\n      <th>num_icd_codes</th>\n      <th>has_icd</th>\n    </tr>\n  </thead>\n  <tbody>\n    <tr>\n      <th>0</th>\n      <td>111002</td>\n      <td>37</td>\n      <td>30004144</td>\n      <td>2126-04-04 18:43:00</td>\n      <td>10369174</td>\n      <td>2126-04-04 13:20:00</td>\n      <td>60.0</td>\n      <td>NaN</td>\n      <td>NaN</td>\n      <td>NaN</td>\n      <td>2</td>\n      <td>True</td>\n    </tr>\n    <tr>\n      <th>1</th>\n      <td>111020</td>\n      <td>55</td>\n      <td>30004144</td>\n      <td>2126-04-04 18:43:00</td>\n      <td>10369174</td>\n      <td>2126-04-04 13:21:00</td>\n      <td>NaN</td>\n      <td>132.0</td>\n      <td>53.0</td>\n      <td>78.0</td>\n      <td>2</td>\n      <td>True</td>\n    </tr>\n    <tr>\n      <th>2</th>\n      <td>110999</td>\n      <td>34</td>\n      <td>30004144</td>\n      <td>2126-04-04 18:43:00</td>\n      <td>10369174</td>\n      <td>2126-04-04 13:30:00</td>\n      <td>65.0</td>\n      <td>NaN</td>\n      <td>NaN</td>\n      <td>NaN</td>\n      <td>2</td>\n      <td>True</td>\n    </tr>\n    <tr>\n      <th>3</th>\n      <td>111027</td>\n      <td>62</td>\n      <td>30004144</td>\n      <td>2126-04-04 18:43:00</td>\n      <td>10369174</td>\n      <td>2126-04-04 13:31:00</td>\n      <td>NaN</td>\n      <td>139.0</td>\n      <td>60.0</td>\n      <td>87.0</td>\n      <td>2</td>\n      <td>True</td>\n    </tr>\n    <tr>\n      <th>4</th>\n      <td>111016</td>\n      <td>51</td>\n      <td>30004144</td>\n      <td>2126-04-04 18:43:00</td>\n      <td>10369174</td>\n      <td>2126-04-04 13:32:00</td>\n      <td>63.0</td>\n      <td>150.0</td>\n      <td>63.0</td>\n      <td>93.0</td>\n      <td>2</td>\n      <td>True</td>\n    </tr>\n    <tr>\n      <th>...</th>\n      <td>...</td>\n      <td>...</td>\n      <td>...</td>\n      <td>...</td>\n      <td>...</td>\n      <td>...</td>\n      <td>...</td>\n      <td>...</td>\n      <td>...</td>\n      <td>...</td>\n      <td>...</td>\n      <td>...</td>\n    </tr>\n    <tr>\n      <th>495</th>\n      <td>391512</td>\n      <td>11</td>\n      <td>30015010</td>\n      <td>2154-08-09 20:00:00</td>\n      <td>11365767</td>\n      <td>2154-08-10 06:00:00</td>\n      <td>101.0</td>\n      <td>116.0</td>\n      <td>84.0</td>\n      <td>92.0</td>\n      <td>1</td>\n      <td>True</td>\n    </tr>\n    <tr>\n      <th>496</th>\n      <td>391517</td>\n      <td>16</td>\n      <td>30015010</td>\n      <td>2154-08-09 20:00:00</td>\n      <td>11365767</td>\n      <td>2154-08-10 07:00:00</td>\n      <td>93.0</td>\n      <td>110.0</td>\n      <td>73.0</td>\n      <td>82.0</td>\n      <td>1</td>\n      <td>True</td>\n    </tr>\n    <tr>\n      <th>497</th>\n      <td>419201</td>\n      <td>2</td>\n      <td>30015010</td>\n      <td>2154-08-10 20:00:00</td>\n      <td>11365767</td>\n      <td>2154-08-10 09:00:00</td>\n      <td>85.0</td>\n      <td>NaN</td>\n      <td>NaN</td>\n      <td>NaN</td>\n      <td>1</td>\n      <td>True</td>\n    </tr>\n    <tr>\n      <th>498</th>\n      <td>419210</td>\n      <td>11</td>\n      <td>30015010</td>\n      <td>2154-08-10 20:00:00</td>\n      <td>11365767</td>\n      <td>2154-08-10 09:05:00</td>\n      <td>NaN</td>\n      <td>105.0</td>\n      <td>63.0</td>\n      <td>73.0</td>\n      <td>1</td>\n      <td>True</td>\n    </tr>\n    <tr>\n      <th>499</th>\n      <td>419212</td>\n      <td>13</td>\n      <td>30015010</td>\n      <td>2154-08-10 20:00:00</td>\n      <td>11365767</td>\n      <td>2154-08-10 10:00:00</td>\n      <td>NaN</td>\n      <td>108.0</td>\n      <td>74.0</td>\n      <td>81.0</td>\n      <td>1</td>\n      <td>True</td>\n    </tr>\n  </tbody>\n</table>\n<p>500 rows × 12 columns</p>\n</div>"
     },
     "execution_count": 476,
     "metadata": {},
     "output_type": "execute_result"
    }
   ],
   "source": [
    "# join with icd code info to create has_icd\n",
    "\n",
    "unique_subject_num_icd_codes = cohort_with_icd[[\"subject_id\", \"num_icd_codes\"]].drop_duplicates(subset=\"subject_id\")\n",
    "print(unique_subject_num_icd_codes)\n",
    "\n",
    "vitals_data_df = vitals_data_df.drop_duplicates()\n",
    "\n",
    "vitals_data_df = pd.merge(left=vitals_data_df, right=unique_subject_num_icd_codes, how=\"inner\", on='subject_id')\n",
    "# generate the has_icd ground truth value\n",
    "vitals_data_df[\"has_icd\"] = ~vitals_data_df['num_icd_codes'].isna()\n",
    "\n",
    "print(f\"has_icd ratio {vitals_data_df['has_icd'].sum() / vitals_data_df['subject_id'].count()}\")\n",
    "print(f\"Unique subject ids {vitals_data_df['subject_id'].nunique()}\")\n",
    "\n",
    "vitals_data_df.head(500)"
   ],
   "metadata": {
    "collapsed": false,
    "ExecuteTime": {
     "end_time": "2023-11-03T04:44:28.628343Z",
     "start_time": "2023-11-03T04:44:28.231322100Z"
    }
   },
   "id": "a617a1d7e69e44d7"
  },
  {
   "cell_type": "code",
   "execution_count": 477,
   "outputs": [
    {
     "name": "stdout",
     "output_type": "stream",
     "text": [
      "(244985, 12)\n",
      "(779494, 10)\n",
      "RangeIndex(start=0, stop=244985, step=1)\n",
      "Index([      0,       1,       2,       3,       4,       5,       6,       7,\n",
      "             8,       9,\n",
      "       ...\n",
      "       1060720, 1060721, 1060722, 1060723, 1060724, 1060725, 1060726, 1060727,\n",
      "       1060728, 1060729],\n",
      "      dtype='int64', length=779494)\n"
     ]
    },
    {
     "data": {
      "text/plain": "          stay_id         dose_b_time  subject_id           charttime  \\\n0        30000484 2136-01-15 22:02:00    18421337 2136-01-15 18:00:00   \n1        30000484 2136-01-15 22:02:00    18421337 2136-01-16 01:00:00   \n2        30000484 2136-01-15 22:02:00    18421337 2136-01-15 14:30:00   \n3        30000484 2136-01-15 22:02:00    18421337 2136-01-16 00:00:00   \n4        30000484 2136-01-15 22:02:00    18421337 2136-01-15 14:00:00   \n...           ...                 ...         ...                 ...   \n1060725  39323481 2121-03-10 08:34:00    11652327 2121-03-10 19:00:00   \n1060726  39323481 2121-03-10 08:34:00    11652327 2121-03-09 22:30:00   \n1060727  39323481 2121-03-10 08:34:00    11652327 2121-03-09 22:15:00   \n1060728  39323481 2121-03-10 08:34:00    11652327 2121-03-09 22:00:00   \n1060729  39323481 2121-03-10 08:34:00    11652327 2121-03-10 08:00:00   \n\n         has_icd  num_icd_codes  heart_rate    sbp    dbp   mbp  \n0          False              0        89.0  103.0   22.0  41.0  \n1          False              0        99.0    NaN    NaN   NaN  \n2          False              0         NaN  129.0  113.0   NaN  \n3          False              0        97.0    NaN    NaN   NaN  \n4          False              0        92.0    NaN    NaN  58.0  \n...          ...            ...         ...    ...    ...   ...  \n1060725    False              0       119.0  108.0   56.0  72.0  \n1060726    False              0       111.0  139.0   71.0  94.0  \n1060727    False              0       109.0  125.0   63.0  85.0  \n1060728    False              0       110.0  129.0   65.0  87.0  \n1060729    False              0       112.0  100.0   52.0  67.0  \n\n[779494 rows x 10 columns]",
      "text/html": "<div>\n<style scoped>\n    .dataframe tbody tr th:only-of-type {\n        vertical-align: middle;\n    }\n\n    .dataframe tbody tr th {\n        vertical-align: top;\n    }\n\n    .dataframe thead th {\n        text-align: right;\n    }\n</style>\n<table border=\"1\" class=\"dataframe\">\n  <thead>\n    <tr style=\"text-align: right;\">\n      <th></th>\n      <th>stay_id</th>\n      <th>dose_b_time</th>\n      <th>subject_id</th>\n      <th>charttime</th>\n      <th>has_icd</th>\n      <th>num_icd_codes</th>\n      <th>heart_rate</th>\n      <th>sbp</th>\n      <th>dbp</th>\n      <th>mbp</th>\n    </tr>\n  </thead>\n  <tbody>\n    <tr>\n      <th>0</th>\n      <td>30000484</td>\n      <td>2136-01-15 22:02:00</td>\n      <td>18421337</td>\n      <td>2136-01-15 18:00:00</td>\n      <td>False</td>\n      <td>0</td>\n      <td>89.0</td>\n      <td>103.0</td>\n      <td>22.0</td>\n      <td>41.0</td>\n    </tr>\n    <tr>\n      <th>1</th>\n      <td>30000484</td>\n      <td>2136-01-15 22:02:00</td>\n      <td>18421337</td>\n      <td>2136-01-16 01:00:00</td>\n      <td>False</td>\n      <td>0</td>\n      <td>99.0</td>\n      <td>NaN</td>\n      <td>NaN</td>\n      <td>NaN</td>\n    </tr>\n    <tr>\n      <th>2</th>\n      <td>30000484</td>\n      <td>2136-01-15 22:02:00</td>\n      <td>18421337</td>\n      <td>2136-01-15 14:30:00</td>\n      <td>False</td>\n      <td>0</td>\n      <td>NaN</td>\n      <td>129.0</td>\n      <td>113.0</td>\n      <td>NaN</td>\n    </tr>\n    <tr>\n      <th>3</th>\n      <td>30000484</td>\n      <td>2136-01-15 22:02:00</td>\n      <td>18421337</td>\n      <td>2136-01-16 00:00:00</td>\n      <td>False</td>\n      <td>0</td>\n      <td>97.0</td>\n      <td>NaN</td>\n      <td>NaN</td>\n      <td>NaN</td>\n    </tr>\n    <tr>\n      <th>4</th>\n      <td>30000484</td>\n      <td>2136-01-15 22:02:00</td>\n      <td>18421337</td>\n      <td>2136-01-15 14:00:00</td>\n      <td>False</td>\n      <td>0</td>\n      <td>92.0</td>\n      <td>NaN</td>\n      <td>NaN</td>\n      <td>58.0</td>\n    </tr>\n    <tr>\n      <th>...</th>\n      <td>...</td>\n      <td>...</td>\n      <td>...</td>\n      <td>...</td>\n      <td>...</td>\n      <td>...</td>\n      <td>...</td>\n      <td>...</td>\n      <td>...</td>\n      <td>...</td>\n    </tr>\n    <tr>\n      <th>1060725</th>\n      <td>39323481</td>\n      <td>2121-03-10 08:34:00</td>\n      <td>11652327</td>\n      <td>2121-03-10 19:00:00</td>\n      <td>False</td>\n      <td>0</td>\n      <td>119.0</td>\n      <td>108.0</td>\n      <td>56.0</td>\n      <td>72.0</td>\n    </tr>\n    <tr>\n      <th>1060726</th>\n      <td>39323481</td>\n      <td>2121-03-10 08:34:00</td>\n      <td>11652327</td>\n      <td>2121-03-09 22:30:00</td>\n      <td>False</td>\n      <td>0</td>\n      <td>111.0</td>\n      <td>139.0</td>\n      <td>71.0</td>\n      <td>94.0</td>\n    </tr>\n    <tr>\n      <th>1060727</th>\n      <td>39323481</td>\n      <td>2121-03-10 08:34:00</td>\n      <td>11652327</td>\n      <td>2121-03-09 22:15:00</td>\n      <td>False</td>\n      <td>0</td>\n      <td>109.0</td>\n      <td>125.0</td>\n      <td>63.0</td>\n      <td>85.0</td>\n    </tr>\n    <tr>\n      <th>1060728</th>\n      <td>39323481</td>\n      <td>2121-03-10 08:34:00</td>\n      <td>11652327</td>\n      <td>2121-03-09 22:00:00</td>\n      <td>False</td>\n      <td>0</td>\n      <td>110.0</td>\n      <td>129.0</td>\n      <td>65.0</td>\n      <td>87.0</td>\n    </tr>\n    <tr>\n      <th>1060729</th>\n      <td>39323481</td>\n      <td>2121-03-10 08:34:00</td>\n      <td>11652327</td>\n      <td>2121-03-10 08:00:00</td>\n      <td>False</td>\n      <td>0</td>\n      <td>112.0</td>\n      <td>100.0</td>\n      <td>52.0</td>\n      <td>67.0</td>\n    </tr>\n  </tbody>\n</table>\n<p>779494 rows × 10 columns</p>\n</div>"
     },
     "execution_count": 477,
     "metadata": {},
     "output_type": "execute_result"
    }
   ],
   "source": [
    "# create the negative cohort\n",
    "vitals_no_ddi['num_icd_codes'] = 0\n",
    "vitals_no_ddi['has_icd'] = False\n",
    "vitals_no_ddi = vitals_no_ddi[['stay_id', 'dose_b_time', 'subject_id', 'charttime', 'has_icd', 'num_icd_codes'] + data_arrays]\n",
    "print(vitals_data_df.shape)\n",
    "print(vitals_no_ddi.shape)\n",
    "print(vitals_data_df.index)\n",
    "print(vitals_no_ddi.index)\n",
    "\n",
    "vitals_no_ddi"
   ],
   "metadata": {
    "collapsed": false,
    "ExecuteTime": {
     "end_time": "2023-11-03T04:44:28.745780Z",
     "start_time": "2023-11-03T04:44:28.633330Z"
    }
   },
   "id": "d1ad953ea560d0d2"
  },
  {
   "cell_type": "markdown",
   "source": [],
   "metadata": {
    "collapsed": false,
    "ExecuteTime": {
     "end_time": "2023-10-26T13:30:03.112051400Z",
     "start_time": "2023-10-26T13:30:02.901022Z"
    }
   },
   "id": "71bb824da43eebaa"
  },
  {
   "cell_type": "code",
   "execution_count": 478,
   "outputs": [
    {
     "name": "stdout",
     "output_type": "stream",
     "text": [
      "1724\n",
      "9255\n",
      "1724\n",
      "Size of target 244985, size of negative 152172, size of combined 397157\n",
      "Unnamed: 0.1             float64\n",
      "Unnamed: 0               float64\n",
      "stay_id                    int64\n",
      "dose_b_time        datetime64[s]\n",
      "subject_id                 int64\n",
      "charttime          datetime64[s]\n",
      "heart_rate               float64\n",
      "sbp                      float64\n",
      "dbp                      float64\n",
      "mbp                      float64\n",
      "num_icd_codes              Int64\n",
      "has_icd                     bool\n",
      "timestep          timedelta64[s]\n",
      "timestep_float           float64\n",
      "dtype: object\n",
      "Unnamed: 0.1             float64\n",
      "Unnamed: 0               float64\n",
      "stay_id                    int64\n",
      "dose_b_time        datetime64[s]\n",
      "subject_id                 int64\n",
      "charttime          datetime64[s]\n",
      "heart_rate               float64\n",
      "sbp                      float64\n",
      "dbp                      float64\n",
      "mbp                      float64\n",
      "num_icd_codes              Int64\n",
      "has_icd                     bool\n",
      "timestep          timedelta64[s]\n",
      "timestep_float           float64\n",
      "dtype: object\n",
      "count     397157\n",
      "unique         2\n",
      "top         True\n",
      "freq      244985\n",
      "Name: has_icd, dtype: object\n"
     ]
    },
    {
     "data": {
      "text/plain": "    Unnamed: 0.1  Unnamed: 0   stay_id         dose_b_time  subject_id  \\\n0       111002.0        37.0  30004144 2126-04-04 18:43:00    10369174   \n1       111020.0        55.0  30004144 2126-04-04 18:43:00    10369174   \n2       110999.0        34.0  30004144 2126-04-04 18:43:00    10369174   \n3       111027.0        62.0  30004144 2126-04-04 18:43:00    10369174   \n4       111016.0        51.0  30004144 2126-04-04 18:43:00    10369174   \n5       111024.0        59.0  30004144 2126-04-04 18:43:00    10369174   \n6       111021.0        56.0  30004144 2126-04-04 18:43:00    10369174   \n7       111010.0        45.0  30004144 2126-04-04 18:43:00    10369174   \n8       111028.0        63.0  30004144 2126-04-04 18:43:00    10369174   \n9       111001.0        36.0  30004144 2126-04-04 18:43:00    10369174   \n10      111026.0        61.0  30004144 2126-04-04 18:43:00    10369174   \n11      111014.0        49.0  30004144 2126-04-04 18:43:00    10369174   \n12      110997.0        32.0  30004144 2126-04-04 18:43:00    10369174   \n13      111009.0        44.0  30004144 2126-04-04 18:43:00    10369174   \n14      110998.0        33.0  30004144 2126-04-04 18:43:00    10369174   \n15      110996.0        31.0  30004144 2126-04-04 18:43:00    10369174   \n16      111015.0        50.0  30004144 2126-04-04 18:43:00    10369174   \n17      111018.0        53.0  30004144 2126-04-04 18:43:00    10369174   \n18      111025.0        60.0  30004144 2126-04-04 18:43:00    10369174   \n19      111008.0        43.0  30004144 2126-04-04 18:43:00    10369174   \n20      111013.0        48.0  30004144 2126-04-04 18:43:00    10369174   \n21      111019.0        54.0  30004144 2126-04-04 18:43:00    10369174   \n22      111007.0        42.0  30004144 2126-04-04 18:43:00    10369174   \n23      111017.0        52.0  30004144 2126-04-04 18:43:00    10369174   \n24      111003.0        38.0  30004144 2126-04-04 18:43:00    10369174   \n25      111004.0        39.0  30004144 2126-04-04 18:43:00    10369174   \n26      111006.0        41.0  30004144 2126-04-04 18:43:00    10369174   \n27      111023.0        58.0  30004144 2126-04-04 18:43:00    10369174   \n28      111011.0        46.0  30004144 2126-04-04 18:43:00    10369174   \n29      111012.0        47.0  30004144 2126-04-04 18:43:00    10369174   \n30      111005.0        40.0  30004144 2126-04-04 18:43:00    10369174   \n31      111022.0        57.0  30004144 2126-04-04 18:43:00    10369174   \n32      111000.0        35.0  30004144 2126-04-04 18:43:00    10369174   \n33          51.0        51.0  30004144 2126-04-07 11:46:00    10369174   \n34          44.0        44.0  30004144 2126-04-07 11:46:00    10369174   \n35          59.0        59.0  30004144 2126-04-07 11:46:00    10369174   \n36          50.0        50.0  30004144 2126-04-07 11:46:00    10369174   \n37          64.0        64.0  30004144 2126-04-07 11:46:00    10369174   \n38          37.0        37.0  30004144 2126-04-07 11:46:00    10369174   \n39          58.0        58.0  30004144 2126-04-07 11:46:00    10369174   \n40          65.0        65.0  30004144 2126-04-07 11:46:00    10369174   \n41          47.0        47.0  30004144 2126-04-07 11:46:00    10369174   \n42          38.0        38.0  30004144 2126-04-07 11:46:00    10369174   \n43          43.0        43.0  30004144 2126-04-07 11:46:00    10369174   \n44          56.0        56.0  30004144 2126-04-07 11:46:00    10369174   \n45          46.0        46.0  30004144 2126-04-07 11:46:00    10369174   \n46          41.0        41.0  30004144 2126-04-07 11:46:00    10369174   \n47          55.0        55.0  30004144 2126-04-07 11:46:00    10369174   \n48          60.0        60.0  30004144 2126-04-07 11:46:00    10369174   \n49          52.0        52.0  30004144 2126-04-07 11:46:00    10369174   \n\n             charttime  heart_rate    sbp   dbp    mbp  num_icd_codes  \\\n0  2126-04-04 13:20:00        60.0    NaN   NaN    NaN              2   \n1  2126-04-04 13:21:00         NaN  132.0  53.0   78.0              2   \n2  2126-04-04 13:30:00        65.0    NaN   NaN    NaN              2   \n3  2126-04-04 13:31:00         NaN  139.0  60.0   87.0              2   \n4  2126-04-04 13:32:00        63.0  150.0  63.0   93.0              2   \n5  2126-04-04 13:45:00        63.0  140.0  59.0   86.0              2   \n6  2126-04-04 14:00:00        94.0  135.0  58.0   82.0              2   \n7  2126-04-04 14:15:00        67.0  156.0  66.0  100.0              2   \n8  2126-04-04 14:30:00         NaN  141.0  67.0   95.0              2   \n9  2126-04-04 14:31:00        70.0    NaN   NaN    NaN              2   \n10 2126-04-04 14:34:00        63.0  136.0  57.0   83.0              2   \n11 2126-04-04 14:45:00        64.0  131.0  54.0   81.0              2   \n12 2126-04-04 15:00:00        68.0  159.0  69.0  102.0              2   \n13 2126-04-04 16:00:00         NaN  143.0  63.0   92.0              2   \n14 2126-04-04 16:01:00        73.0    NaN   NaN    NaN              2   \n15 2126-04-04 17:00:00        72.0  154.0  67.0   96.0              2   \n16 2126-04-04 18:00:00       101.0  132.0  66.0   89.0              2   \n17 2126-04-04 19:00:00        81.0  115.0  56.0   74.0              2   \n18 2126-04-04 20:00:00       111.0  120.0  60.0   79.0              2   \n19 2126-04-04 21:00:00       100.0  126.0  58.0   80.0              2   \n20 2126-04-04 22:00:00        91.0  114.0  55.0   73.0              2   \n21 2126-04-04 23:00:00        93.0  122.0  58.0   78.0              2   \n22 2126-04-04 23:45:00        73.0  123.0  51.0   72.0              2   \n23 2126-04-05 00:00:00        71.0   96.0  42.0   57.0              2   \n24 2126-04-05 00:15:00        70.0   95.0  43.0   58.0              2   \n25 2126-04-05 00:30:00        71.0   99.0  45.0   60.0              2   \n26 2126-04-05 01:00:00        75.0  115.0  50.0   68.0              2   \n27 2126-04-05 02:00:00        74.0  138.0  56.0   82.0              2   \n28 2126-04-05 03:00:00        68.0  114.0  46.0   65.0              2   \n29 2126-04-05 04:00:00        69.0  128.0  50.0   73.0              2   \n30 2126-04-05 05:00:00        61.0  114.0  42.0   60.0              2   \n31 2126-04-05 06:00:00         NaN  139.0  57.0   82.0              2   \n32 2126-04-05 06:03:00        74.0    NaN   NaN    NaN              2   \n33 2126-04-07 00:00:00        65.0  142.0  82.0  100.0              2   \n34 2126-04-07 01:00:00        63.0  150.0  78.0   98.0              2   \n35 2126-04-07 02:00:00        62.0  131.0  72.0   88.0              2   \n36 2126-04-07 03:00:00        60.0  123.0  56.0   78.0              2   \n37 2126-04-07 04:00:00        61.0  127.0  60.0   83.0              2   \n38 2126-04-07 05:00:00        66.0  136.0  65.0   89.0              2   \n39 2126-04-07 06:00:00        61.0  127.0  60.0   81.0              2   \n40 2126-04-07 07:00:00        61.0  137.0  67.0   90.0              2   \n41 2126-04-07 08:00:00        63.0  136.0  66.0   87.0              2   \n42 2126-04-07 09:00:00        60.0  133.0  65.0   82.0              2   \n43 2126-04-07 10:00:00        60.0  133.0  63.0   81.0              2   \n44 2126-04-07 11:00:00        60.0  138.0  62.0   82.0              2   \n45 2126-04-07 12:00:00        75.0  149.0  56.0   85.0              2   \n46 2126-04-07 13:00:00        80.0  155.0  61.0   91.0              2   \n47 2126-04-07 14:00:00        60.0  135.0  57.0   80.0              2   \n48 2126-04-07 15:00:00        76.0  160.0  71.0  100.0              2   \n49 2126-04-07 16:00:00        64.0  148.0  66.0   92.0              2   \n\n    has_icd          timestep  timestep_float  \n0      True -1 days +18:37:00        -19380.0  \n1      True -1 days +18:38:00        -19320.0  \n2      True -1 days +18:47:00        -18780.0  \n3      True -1 days +18:48:00        -18720.0  \n4      True -1 days +18:49:00        -18660.0  \n5      True -1 days +19:02:00        -17880.0  \n6      True -1 days +19:17:00        -16980.0  \n7      True -1 days +19:32:00        -16080.0  \n8      True -1 days +19:47:00        -15180.0  \n9      True -1 days +19:48:00        -15120.0  \n10     True -1 days +19:51:00        -14940.0  \n11     True -1 days +20:02:00        -14280.0  \n12     True -1 days +20:17:00        -13380.0  \n13     True -1 days +21:17:00         -9780.0  \n14     True -1 days +21:18:00         -9720.0  \n15     True -1 days +22:17:00         -6180.0  \n16     True -1 days +23:17:00         -2580.0  \n17     True   0 days 00:17:00          1020.0  \n18     True   0 days 01:17:00          4620.0  \n19     True   0 days 02:17:00          8220.0  \n20     True   0 days 03:17:00         11820.0  \n21     True   0 days 04:17:00         15420.0  \n22     True   0 days 05:02:00         18120.0  \n23     True   0 days 05:17:00         19020.0  \n24     True   0 days 05:32:00         19920.0  \n25     True   0 days 05:47:00         20820.0  \n26     True   0 days 06:17:00         22620.0  \n27     True   0 days 07:17:00         26220.0  \n28     True   0 days 08:17:00         29820.0  \n29     True   0 days 09:17:00         33420.0  \n30     True   0 days 10:17:00         37020.0  \n31     True   0 days 11:17:00         40620.0  \n32     True   0 days 11:20:00         40800.0  \n33     True -1 days +12:14:00        -42360.0  \n34     True -1 days +13:14:00        -38760.0  \n35     True -1 days +14:14:00        -35160.0  \n36     True -1 days +15:14:00        -31560.0  \n37     True -1 days +16:14:00        -27960.0  \n38     True -1 days +17:14:00        -24360.0  \n39     True -1 days +18:14:00        -20760.0  \n40     True -1 days +19:14:00        -17160.0  \n41     True -1 days +20:14:00        -13560.0  \n42     True -1 days +21:14:00         -9960.0  \n43     True -1 days +22:14:00         -6360.0  \n44     True -1 days +23:14:00         -2760.0  \n45     True   0 days 00:14:00           840.0  \n46     True   0 days 01:14:00          4440.0  \n47     True   0 days 02:14:00          8040.0  \n48     True   0 days 03:14:00         11640.0  \n49     True   0 days 04:14:00         15240.0  ",
      "text/html": "<div>\n<style scoped>\n    .dataframe tbody tr th:only-of-type {\n        vertical-align: middle;\n    }\n\n    .dataframe tbody tr th {\n        vertical-align: top;\n    }\n\n    .dataframe thead th {\n        text-align: right;\n    }\n</style>\n<table border=\"1\" class=\"dataframe\">\n  <thead>\n    <tr style=\"text-align: right;\">\n      <th></th>\n      <th>Unnamed: 0.1</th>\n      <th>Unnamed: 0</th>\n      <th>stay_id</th>\n      <th>dose_b_time</th>\n      <th>subject_id</th>\n      <th>charttime</th>\n      <th>heart_rate</th>\n      <th>sbp</th>\n      <th>dbp</th>\n      <th>mbp</th>\n      <th>num_icd_codes</th>\n      <th>has_icd</th>\n      <th>timestep</th>\n      <th>timestep_float</th>\n    </tr>\n  </thead>\n  <tbody>\n    <tr>\n      <th>0</th>\n      <td>111002.0</td>\n      <td>37.0</td>\n      <td>30004144</td>\n      <td>2126-04-04 18:43:00</td>\n      <td>10369174</td>\n      <td>2126-04-04 13:20:00</td>\n      <td>60.0</td>\n      <td>NaN</td>\n      <td>NaN</td>\n      <td>NaN</td>\n      <td>2</td>\n      <td>True</td>\n      <td>-1 days +18:37:00</td>\n      <td>-19380.0</td>\n    </tr>\n    <tr>\n      <th>1</th>\n      <td>111020.0</td>\n      <td>55.0</td>\n      <td>30004144</td>\n      <td>2126-04-04 18:43:00</td>\n      <td>10369174</td>\n      <td>2126-04-04 13:21:00</td>\n      <td>NaN</td>\n      <td>132.0</td>\n      <td>53.0</td>\n      <td>78.0</td>\n      <td>2</td>\n      <td>True</td>\n      <td>-1 days +18:38:00</td>\n      <td>-19320.0</td>\n    </tr>\n    <tr>\n      <th>2</th>\n      <td>110999.0</td>\n      <td>34.0</td>\n      <td>30004144</td>\n      <td>2126-04-04 18:43:00</td>\n      <td>10369174</td>\n      <td>2126-04-04 13:30:00</td>\n      <td>65.0</td>\n      <td>NaN</td>\n      <td>NaN</td>\n      <td>NaN</td>\n      <td>2</td>\n      <td>True</td>\n      <td>-1 days +18:47:00</td>\n      <td>-18780.0</td>\n    </tr>\n    <tr>\n      <th>3</th>\n      <td>111027.0</td>\n      <td>62.0</td>\n      <td>30004144</td>\n      <td>2126-04-04 18:43:00</td>\n      <td>10369174</td>\n      <td>2126-04-04 13:31:00</td>\n      <td>NaN</td>\n      <td>139.0</td>\n      <td>60.0</td>\n      <td>87.0</td>\n      <td>2</td>\n      <td>True</td>\n      <td>-1 days +18:48:00</td>\n      <td>-18720.0</td>\n    </tr>\n    <tr>\n      <th>4</th>\n      <td>111016.0</td>\n      <td>51.0</td>\n      <td>30004144</td>\n      <td>2126-04-04 18:43:00</td>\n      <td>10369174</td>\n      <td>2126-04-04 13:32:00</td>\n      <td>63.0</td>\n      <td>150.0</td>\n      <td>63.0</td>\n      <td>93.0</td>\n      <td>2</td>\n      <td>True</td>\n      <td>-1 days +18:49:00</td>\n      <td>-18660.0</td>\n    </tr>\n    <tr>\n      <th>5</th>\n      <td>111024.0</td>\n      <td>59.0</td>\n      <td>30004144</td>\n      <td>2126-04-04 18:43:00</td>\n      <td>10369174</td>\n      <td>2126-04-04 13:45:00</td>\n      <td>63.0</td>\n      <td>140.0</td>\n      <td>59.0</td>\n      <td>86.0</td>\n      <td>2</td>\n      <td>True</td>\n      <td>-1 days +19:02:00</td>\n      <td>-17880.0</td>\n    </tr>\n    <tr>\n      <th>6</th>\n      <td>111021.0</td>\n      <td>56.0</td>\n      <td>30004144</td>\n      <td>2126-04-04 18:43:00</td>\n      <td>10369174</td>\n      <td>2126-04-04 14:00:00</td>\n      <td>94.0</td>\n      <td>135.0</td>\n      <td>58.0</td>\n      <td>82.0</td>\n      <td>2</td>\n      <td>True</td>\n      <td>-1 days +19:17:00</td>\n      <td>-16980.0</td>\n    </tr>\n    <tr>\n      <th>7</th>\n      <td>111010.0</td>\n      <td>45.0</td>\n      <td>30004144</td>\n      <td>2126-04-04 18:43:00</td>\n      <td>10369174</td>\n      <td>2126-04-04 14:15:00</td>\n      <td>67.0</td>\n      <td>156.0</td>\n      <td>66.0</td>\n      <td>100.0</td>\n      <td>2</td>\n      <td>True</td>\n      <td>-1 days +19:32:00</td>\n      <td>-16080.0</td>\n    </tr>\n    <tr>\n      <th>8</th>\n      <td>111028.0</td>\n      <td>63.0</td>\n      <td>30004144</td>\n      <td>2126-04-04 18:43:00</td>\n      <td>10369174</td>\n      <td>2126-04-04 14:30:00</td>\n      <td>NaN</td>\n      <td>141.0</td>\n      <td>67.0</td>\n      <td>95.0</td>\n      <td>2</td>\n      <td>True</td>\n      <td>-1 days +19:47:00</td>\n      <td>-15180.0</td>\n    </tr>\n    <tr>\n      <th>9</th>\n      <td>111001.0</td>\n      <td>36.0</td>\n      <td>30004144</td>\n      <td>2126-04-04 18:43:00</td>\n      <td>10369174</td>\n      <td>2126-04-04 14:31:00</td>\n      <td>70.0</td>\n      <td>NaN</td>\n      <td>NaN</td>\n      <td>NaN</td>\n      <td>2</td>\n      <td>True</td>\n      <td>-1 days +19:48:00</td>\n      <td>-15120.0</td>\n    </tr>\n    <tr>\n      <th>10</th>\n      <td>111026.0</td>\n      <td>61.0</td>\n      <td>30004144</td>\n      <td>2126-04-04 18:43:00</td>\n      <td>10369174</td>\n      <td>2126-04-04 14:34:00</td>\n      <td>63.0</td>\n      <td>136.0</td>\n      <td>57.0</td>\n      <td>83.0</td>\n      <td>2</td>\n      <td>True</td>\n      <td>-1 days +19:51:00</td>\n      <td>-14940.0</td>\n    </tr>\n    <tr>\n      <th>11</th>\n      <td>111014.0</td>\n      <td>49.0</td>\n      <td>30004144</td>\n      <td>2126-04-04 18:43:00</td>\n      <td>10369174</td>\n      <td>2126-04-04 14:45:00</td>\n      <td>64.0</td>\n      <td>131.0</td>\n      <td>54.0</td>\n      <td>81.0</td>\n      <td>2</td>\n      <td>True</td>\n      <td>-1 days +20:02:00</td>\n      <td>-14280.0</td>\n    </tr>\n    <tr>\n      <th>12</th>\n      <td>110997.0</td>\n      <td>32.0</td>\n      <td>30004144</td>\n      <td>2126-04-04 18:43:00</td>\n      <td>10369174</td>\n      <td>2126-04-04 15:00:00</td>\n      <td>68.0</td>\n      <td>159.0</td>\n      <td>69.0</td>\n      <td>102.0</td>\n      <td>2</td>\n      <td>True</td>\n      <td>-1 days +20:17:00</td>\n      <td>-13380.0</td>\n    </tr>\n    <tr>\n      <th>13</th>\n      <td>111009.0</td>\n      <td>44.0</td>\n      <td>30004144</td>\n      <td>2126-04-04 18:43:00</td>\n      <td>10369174</td>\n      <td>2126-04-04 16:00:00</td>\n      <td>NaN</td>\n      <td>143.0</td>\n      <td>63.0</td>\n      <td>92.0</td>\n      <td>2</td>\n      <td>True</td>\n      <td>-1 days +21:17:00</td>\n      <td>-9780.0</td>\n    </tr>\n    <tr>\n      <th>14</th>\n      <td>110998.0</td>\n      <td>33.0</td>\n      <td>30004144</td>\n      <td>2126-04-04 18:43:00</td>\n      <td>10369174</td>\n      <td>2126-04-04 16:01:00</td>\n      <td>73.0</td>\n      <td>NaN</td>\n      <td>NaN</td>\n      <td>NaN</td>\n      <td>2</td>\n      <td>True</td>\n      <td>-1 days +21:18:00</td>\n      <td>-9720.0</td>\n    </tr>\n    <tr>\n      <th>15</th>\n      <td>110996.0</td>\n      <td>31.0</td>\n      <td>30004144</td>\n      <td>2126-04-04 18:43:00</td>\n      <td>10369174</td>\n      <td>2126-04-04 17:00:00</td>\n      <td>72.0</td>\n      <td>154.0</td>\n      <td>67.0</td>\n      <td>96.0</td>\n      <td>2</td>\n      <td>True</td>\n      <td>-1 days +22:17:00</td>\n      <td>-6180.0</td>\n    </tr>\n    <tr>\n      <th>16</th>\n      <td>111015.0</td>\n      <td>50.0</td>\n      <td>30004144</td>\n      <td>2126-04-04 18:43:00</td>\n      <td>10369174</td>\n      <td>2126-04-04 18:00:00</td>\n      <td>101.0</td>\n      <td>132.0</td>\n      <td>66.0</td>\n      <td>89.0</td>\n      <td>2</td>\n      <td>True</td>\n      <td>-1 days +23:17:00</td>\n      <td>-2580.0</td>\n    </tr>\n    <tr>\n      <th>17</th>\n      <td>111018.0</td>\n      <td>53.0</td>\n      <td>30004144</td>\n      <td>2126-04-04 18:43:00</td>\n      <td>10369174</td>\n      <td>2126-04-04 19:00:00</td>\n      <td>81.0</td>\n      <td>115.0</td>\n      <td>56.0</td>\n      <td>74.0</td>\n      <td>2</td>\n      <td>True</td>\n      <td>0 days 00:17:00</td>\n      <td>1020.0</td>\n    </tr>\n    <tr>\n      <th>18</th>\n      <td>111025.0</td>\n      <td>60.0</td>\n      <td>30004144</td>\n      <td>2126-04-04 18:43:00</td>\n      <td>10369174</td>\n      <td>2126-04-04 20:00:00</td>\n      <td>111.0</td>\n      <td>120.0</td>\n      <td>60.0</td>\n      <td>79.0</td>\n      <td>2</td>\n      <td>True</td>\n      <td>0 days 01:17:00</td>\n      <td>4620.0</td>\n    </tr>\n    <tr>\n      <th>19</th>\n      <td>111008.0</td>\n      <td>43.0</td>\n      <td>30004144</td>\n      <td>2126-04-04 18:43:00</td>\n      <td>10369174</td>\n      <td>2126-04-04 21:00:00</td>\n      <td>100.0</td>\n      <td>126.0</td>\n      <td>58.0</td>\n      <td>80.0</td>\n      <td>2</td>\n      <td>True</td>\n      <td>0 days 02:17:00</td>\n      <td>8220.0</td>\n    </tr>\n    <tr>\n      <th>20</th>\n      <td>111013.0</td>\n      <td>48.0</td>\n      <td>30004144</td>\n      <td>2126-04-04 18:43:00</td>\n      <td>10369174</td>\n      <td>2126-04-04 22:00:00</td>\n      <td>91.0</td>\n      <td>114.0</td>\n      <td>55.0</td>\n      <td>73.0</td>\n      <td>2</td>\n      <td>True</td>\n      <td>0 days 03:17:00</td>\n      <td>11820.0</td>\n    </tr>\n    <tr>\n      <th>21</th>\n      <td>111019.0</td>\n      <td>54.0</td>\n      <td>30004144</td>\n      <td>2126-04-04 18:43:00</td>\n      <td>10369174</td>\n      <td>2126-04-04 23:00:00</td>\n      <td>93.0</td>\n      <td>122.0</td>\n      <td>58.0</td>\n      <td>78.0</td>\n      <td>2</td>\n      <td>True</td>\n      <td>0 days 04:17:00</td>\n      <td>15420.0</td>\n    </tr>\n    <tr>\n      <th>22</th>\n      <td>111007.0</td>\n      <td>42.0</td>\n      <td>30004144</td>\n      <td>2126-04-04 18:43:00</td>\n      <td>10369174</td>\n      <td>2126-04-04 23:45:00</td>\n      <td>73.0</td>\n      <td>123.0</td>\n      <td>51.0</td>\n      <td>72.0</td>\n      <td>2</td>\n      <td>True</td>\n      <td>0 days 05:02:00</td>\n      <td>18120.0</td>\n    </tr>\n    <tr>\n      <th>23</th>\n      <td>111017.0</td>\n      <td>52.0</td>\n      <td>30004144</td>\n      <td>2126-04-04 18:43:00</td>\n      <td>10369174</td>\n      <td>2126-04-05 00:00:00</td>\n      <td>71.0</td>\n      <td>96.0</td>\n      <td>42.0</td>\n      <td>57.0</td>\n      <td>2</td>\n      <td>True</td>\n      <td>0 days 05:17:00</td>\n      <td>19020.0</td>\n    </tr>\n    <tr>\n      <th>24</th>\n      <td>111003.0</td>\n      <td>38.0</td>\n      <td>30004144</td>\n      <td>2126-04-04 18:43:00</td>\n      <td>10369174</td>\n      <td>2126-04-05 00:15:00</td>\n      <td>70.0</td>\n      <td>95.0</td>\n      <td>43.0</td>\n      <td>58.0</td>\n      <td>2</td>\n      <td>True</td>\n      <td>0 days 05:32:00</td>\n      <td>19920.0</td>\n    </tr>\n    <tr>\n      <th>25</th>\n      <td>111004.0</td>\n      <td>39.0</td>\n      <td>30004144</td>\n      <td>2126-04-04 18:43:00</td>\n      <td>10369174</td>\n      <td>2126-04-05 00:30:00</td>\n      <td>71.0</td>\n      <td>99.0</td>\n      <td>45.0</td>\n      <td>60.0</td>\n      <td>2</td>\n      <td>True</td>\n      <td>0 days 05:47:00</td>\n      <td>20820.0</td>\n    </tr>\n    <tr>\n      <th>26</th>\n      <td>111006.0</td>\n      <td>41.0</td>\n      <td>30004144</td>\n      <td>2126-04-04 18:43:00</td>\n      <td>10369174</td>\n      <td>2126-04-05 01:00:00</td>\n      <td>75.0</td>\n      <td>115.0</td>\n      <td>50.0</td>\n      <td>68.0</td>\n      <td>2</td>\n      <td>True</td>\n      <td>0 days 06:17:00</td>\n      <td>22620.0</td>\n    </tr>\n    <tr>\n      <th>27</th>\n      <td>111023.0</td>\n      <td>58.0</td>\n      <td>30004144</td>\n      <td>2126-04-04 18:43:00</td>\n      <td>10369174</td>\n      <td>2126-04-05 02:00:00</td>\n      <td>74.0</td>\n      <td>138.0</td>\n      <td>56.0</td>\n      <td>82.0</td>\n      <td>2</td>\n      <td>True</td>\n      <td>0 days 07:17:00</td>\n      <td>26220.0</td>\n    </tr>\n    <tr>\n      <th>28</th>\n      <td>111011.0</td>\n      <td>46.0</td>\n      <td>30004144</td>\n      <td>2126-04-04 18:43:00</td>\n      <td>10369174</td>\n      <td>2126-04-05 03:00:00</td>\n      <td>68.0</td>\n      <td>114.0</td>\n      <td>46.0</td>\n      <td>65.0</td>\n      <td>2</td>\n      <td>True</td>\n      <td>0 days 08:17:00</td>\n      <td>29820.0</td>\n    </tr>\n    <tr>\n      <th>29</th>\n      <td>111012.0</td>\n      <td>47.0</td>\n      <td>30004144</td>\n      <td>2126-04-04 18:43:00</td>\n      <td>10369174</td>\n      <td>2126-04-05 04:00:00</td>\n      <td>69.0</td>\n      <td>128.0</td>\n      <td>50.0</td>\n      <td>73.0</td>\n      <td>2</td>\n      <td>True</td>\n      <td>0 days 09:17:00</td>\n      <td>33420.0</td>\n    </tr>\n    <tr>\n      <th>30</th>\n      <td>111005.0</td>\n      <td>40.0</td>\n      <td>30004144</td>\n      <td>2126-04-04 18:43:00</td>\n      <td>10369174</td>\n      <td>2126-04-05 05:00:00</td>\n      <td>61.0</td>\n      <td>114.0</td>\n      <td>42.0</td>\n      <td>60.0</td>\n      <td>2</td>\n      <td>True</td>\n      <td>0 days 10:17:00</td>\n      <td>37020.0</td>\n    </tr>\n    <tr>\n      <th>31</th>\n      <td>111022.0</td>\n      <td>57.0</td>\n      <td>30004144</td>\n      <td>2126-04-04 18:43:00</td>\n      <td>10369174</td>\n      <td>2126-04-05 06:00:00</td>\n      <td>NaN</td>\n      <td>139.0</td>\n      <td>57.0</td>\n      <td>82.0</td>\n      <td>2</td>\n      <td>True</td>\n      <td>0 days 11:17:00</td>\n      <td>40620.0</td>\n    </tr>\n    <tr>\n      <th>32</th>\n      <td>111000.0</td>\n      <td>35.0</td>\n      <td>30004144</td>\n      <td>2126-04-04 18:43:00</td>\n      <td>10369174</td>\n      <td>2126-04-05 06:03:00</td>\n      <td>74.0</td>\n      <td>NaN</td>\n      <td>NaN</td>\n      <td>NaN</td>\n      <td>2</td>\n      <td>True</td>\n      <td>0 days 11:20:00</td>\n      <td>40800.0</td>\n    </tr>\n    <tr>\n      <th>33</th>\n      <td>51.0</td>\n      <td>51.0</td>\n      <td>30004144</td>\n      <td>2126-04-07 11:46:00</td>\n      <td>10369174</td>\n      <td>2126-04-07 00:00:00</td>\n      <td>65.0</td>\n      <td>142.0</td>\n      <td>82.0</td>\n      <td>100.0</td>\n      <td>2</td>\n      <td>True</td>\n      <td>-1 days +12:14:00</td>\n      <td>-42360.0</td>\n    </tr>\n    <tr>\n      <th>34</th>\n      <td>44.0</td>\n      <td>44.0</td>\n      <td>30004144</td>\n      <td>2126-04-07 11:46:00</td>\n      <td>10369174</td>\n      <td>2126-04-07 01:00:00</td>\n      <td>63.0</td>\n      <td>150.0</td>\n      <td>78.0</td>\n      <td>98.0</td>\n      <td>2</td>\n      <td>True</td>\n      <td>-1 days +13:14:00</td>\n      <td>-38760.0</td>\n    </tr>\n    <tr>\n      <th>35</th>\n      <td>59.0</td>\n      <td>59.0</td>\n      <td>30004144</td>\n      <td>2126-04-07 11:46:00</td>\n      <td>10369174</td>\n      <td>2126-04-07 02:00:00</td>\n      <td>62.0</td>\n      <td>131.0</td>\n      <td>72.0</td>\n      <td>88.0</td>\n      <td>2</td>\n      <td>True</td>\n      <td>-1 days +14:14:00</td>\n      <td>-35160.0</td>\n    </tr>\n    <tr>\n      <th>36</th>\n      <td>50.0</td>\n      <td>50.0</td>\n      <td>30004144</td>\n      <td>2126-04-07 11:46:00</td>\n      <td>10369174</td>\n      <td>2126-04-07 03:00:00</td>\n      <td>60.0</td>\n      <td>123.0</td>\n      <td>56.0</td>\n      <td>78.0</td>\n      <td>2</td>\n      <td>True</td>\n      <td>-1 days +15:14:00</td>\n      <td>-31560.0</td>\n    </tr>\n    <tr>\n      <th>37</th>\n      <td>64.0</td>\n      <td>64.0</td>\n      <td>30004144</td>\n      <td>2126-04-07 11:46:00</td>\n      <td>10369174</td>\n      <td>2126-04-07 04:00:00</td>\n      <td>61.0</td>\n      <td>127.0</td>\n      <td>60.0</td>\n      <td>83.0</td>\n      <td>2</td>\n      <td>True</td>\n      <td>-1 days +16:14:00</td>\n      <td>-27960.0</td>\n    </tr>\n    <tr>\n      <th>38</th>\n      <td>37.0</td>\n      <td>37.0</td>\n      <td>30004144</td>\n      <td>2126-04-07 11:46:00</td>\n      <td>10369174</td>\n      <td>2126-04-07 05:00:00</td>\n      <td>66.0</td>\n      <td>136.0</td>\n      <td>65.0</td>\n      <td>89.0</td>\n      <td>2</td>\n      <td>True</td>\n      <td>-1 days +17:14:00</td>\n      <td>-24360.0</td>\n    </tr>\n    <tr>\n      <th>39</th>\n      <td>58.0</td>\n      <td>58.0</td>\n      <td>30004144</td>\n      <td>2126-04-07 11:46:00</td>\n      <td>10369174</td>\n      <td>2126-04-07 06:00:00</td>\n      <td>61.0</td>\n      <td>127.0</td>\n      <td>60.0</td>\n      <td>81.0</td>\n      <td>2</td>\n      <td>True</td>\n      <td>-1 days +18:14:00</td>\n      <td>-20760.0</td>\n    </tr>\n    <tr>\n      <th>40</th>\n      <td>65.0</td>\n      <td>65.0</td>\n      <td>30004144</td>\n      <td>2126-04-07 11:46:00</td>\n      <td>10369174</td>\n      <td>2126-04-07 07:00:00</td>\n      <td>61.0</td>\n      <td>137.0</td>\n      <td>67.0</td>\n      <td>90.0</td>\n      <td>2</td>\n      <td>True</td>\n      <td>-1 days +19:14:00</td>\n      <td>-17160.0</td>\n    </tr>\n    <tr>\n      <th>41</th>\n      <td>47.0</td>\n      <td>47.0</td>\n      <td>30004144</td>\n      <td>2126-04-07 11:46:00</td>\n      <td>10369174</td>\n      <td>2126-04-07 08:00:00</td>\n      <td>63.0</td>\n      <td>136.0</td>\n      <td>66.0</td>\n      <td>87.0</td>\n      <td>2</td>\n      <td>True</td>\n      <td>-1 days +20:14:00</td>\n      <td>-13560.0</td>\n    </tr>\n    <tr>\n      <th>42</th>\n      <td>38.0</td>\n      <td>38.0</td>\n      <td>30004144</td>\n      <td>2126-04-07 11:46:00</td>\n      <td>10369174</td>\n      <td>2126-04-07 09:00:00</td>\n      <td>60.0</td>\n      <td>133.0</td>\n      <td>65.0</td>\n      <td>82.0</td>\n      <td>2</td>\n      <td>True</td>\n      <td>-1 days +21:14:00</td>\n      <td>-9960.0</td>\n    </tr>\n    <tr>\n      <th>43</th>\n      <td>43.0</td>\n      <td>43.0</td>\n      <td>30004144</td>\n      <td>2126-04-07 11:46:00</td>\n      <td>10369174</td>\n      <td>2126-04-07 10:00:00</td>\n      <td>60.0</td>\n      <td>133.0</td>\n      <td>63.0</td>\n      <td>81.0</td>\n      <td>2</td>\n      <td>True</td>\n      <td>-1 days +22:14:00</td>\n      <td>-6360.0</td>\n    </tr>\n    <tr>\n      <th>44</th>\n      <td>56.0</td>\n      <td>56.0</td>\n      <td>30004144</td>\n      <td>2126-04-07 11:46:00</td>\n      <td>10369174</td>\n      <td>2126-04-07 11:00:00</td>\n      <td>60.0</td>\n      <td>138.0</td>\n      <td>62.0</td>\n      <td>82.0</td>\n      <td>2</td>\n      <td>True</td>\n      <td>-1 days +23:14:00</td>\n      <td>-2760.0</td>\n    </tr>\n    <tr>\n      <th>45</th>\n      <td>46.0</td>\n      <td>46.0</td>\n      <td>30004144</td>\n      <td>2126-04-07 11:46:00</td>\n      <td>10369174</td>\n      <td>2126-04-07 12:00:00</td>\n      <td>75.0</td>\n      <td>149.0</td>\n      <td>56.0</td>\n      <td>85.0</td>\n      <td>2</td>\n      <td>True</td>\n      <td>0 days 00:14:00</td>\n      <td>840.0</td>\n    </tr>\n    <tr>\n      <th>46</th>\n      <td>41.0</td>\n      <td>41.0</td>\n      <td>30004144</td>\n      <td>2126-04-07 11:46:00</td>\n      <td>10369174</td>\n      <td>2126-04-07 13:00:00</td>\n      <td>80.0</td>\n      <td>155.0</td>\n      <td>61.0</td>\n      <td>91.0</td>\n      <td>2</td>\n      <td>True</td>\n      <td>0 days 01:14:00</td>\n      <td>4440.0</td>\n    </tr>\n    <tr>\n      <th>47</th>\n      <td>55.0</td>\n      <td>55.0</td>\n      <td>30004144</td>\n      <td>2126-04-07 11:46:00</td>\n      <td>10369174</td>\n      <td>2126-04-07 14:00:00</td>\n      <td>60.0</td>\n      <td>135.0</td>\n      <td>57.0</td>\n      <td>80.0</td>\n      <td>2</td>\n      <td>True</td>\n      <td>0 days 02:14:00</td>\n      <td>8040.0</td>\n    </tr>\n    <tr>\n      <th>48</th>\n      <td>60.0</td>\n      <td>60.0</td>\n      <td>30004144</td>\n      <td>2126-04-07 11:46:00</td>\n      <td>10369174</td>\n      <td>2126-04-07 15:00:00</td>\n      <td>76.0</td>\n      <td>160.0</td>\n      <td>71.0</td>\n      <td>100.0</td>\n      <td>2</td>\n      <td>True</td>\n      <td>0 days 03:14:00</td>\n      <td>11640.0</td>\n    </tr>\n    <tr>\n      <th>49</th>\n      <td>52.0</td>\n      <td>52.0</td>\n      <td>30004144</td>\n      <td>2126-04-07 11:46:00</td>\n      <td>10369174</td>\n      <td>2126-04-07 16:00:00</td>\n      <td>64.0</td>\n      <td>148.0</td>\n      <td>66.0</td>\n      <td>92.0</td>\n      <td>2</td>\n      <td>True</td>\n      <td>0 days 04:14:00</td>\n      <td>15240.0</td>\n    </tr>\n  </tbody>\n</table>\n</div>"
     },
     "execution_count": 478,
     "metadata": {},
     "output_type": "execute_result"
    }
   ],
   "source": [
    "# make the target cohort and the negative cohort the same shape and join them together\n",
    "stay_ids_with_icd = vitals_data_df[\"stay_id\"].unique()\n",
    "stay_ids_without_icd = vitals_no_ddi[\"stay_id\"].unique()\n",
    "\n",
    "print(len(stay_ids_with_icd))\n",
    "print(len(stay_ids_without_icd))\n",
    "min_balanced_len = min(len(stay_ids_with_icd), len(stay_ids_without_icd))\n",
    "print(min_balanced_len)\n",
    "\n",
    "balanced_with = vitals_data_df[vitals_data_df[\"stay_id\"].isin(stay_ids_with_icd[:min_balanced_len])]\n",
    "balanced_without = vitals_no_ddi[vitals_no_ddi[\"stay_id\"].isin(stay_ids_without_icd[:min_balanced_len])]\n",
    "\n",
    "df = pd.concat([balanced_with, balanced_without])\n",
    "print(f\"Size of target {len(balanced_with)}, size of negative {len(balanced_without)}, size of combined {len(df)}\")\n",
    "\n",
    "## convert chart_time to timestep relative to dose b time\n",
    "df[\"timestep\"] = df[\"charttime\"] - df[\"dose_b_time\"]\n",
    "## and convert to float64 for tensor flow\n",
    "df['timestep_float'] = df['timestep'].dt.total_seconds().astype('float64')\n",
    "\n",
    "print(df.dtypes)\n",
    "\n",
    "for data in data_arrays:\n",
    "    df[data] = df[data].astype('float64')\n",
    "\n",
    "print(df.dtypes)\n",
    "print(df['has_icd'].describe())\n",
    "df.head(50)"
   ],
   "metadata": {
    "collapsed": false,
    "ExecuteTime": {
     "end_time": "2023-11-03T04:44:28.958981600Z",
     "start_time": "2023-11-03T04:44:28.689420600Z"
    }
   },
   "id": "bbdedf0ecd5747bd"
  },
  {
   "cell_type": "code",
   "execution_count": 479,
   "outputs": [
    {
     "data": {
      "text/plain": "     stay_id          timestep  timestep_float         dose_b_time  \\\n5   30000484 -1 days +12:58:00        -39720.0 2136-01-15 22:02:00   \n6   30000484 -1 days +13:58:00        -36120.0 2136-01-15 22:02:00   \n7   30000484 -1 days +14:58:00        -32520.0 2136-01-15 22:02:00   \n4   30000484 -1 days +15:58:00        -28920.0 2136-01-15 22:02:00   \n2   30000484 -1 days +16:28:00        -27120.0 2136-01-15 22:02:00   \n24  30000484 -1 days +16:58:00        -25320.0 2136-01-15 22:02:00   \n19  30000484 -1 days +17:58:00        -21720.0 2136-01-15 22:02:00   \n17  30000484 -1 days +18:58:00        -18120.0 2136-01-15 22:02:00   \n0   30000484 -1 days +19:58:00        -14520.0 2136-01-15 22:02:00   \n20  30000484 -1 days +20:58:00        -10920.0 2136-01-15 22:02:00   \n22  30000484 -1 days +21:58:00         -7320.0 2136-01-15 22:02:00   \n26  30000484 -1 days +22:58:00         -3720.0 2136-01-15 22:02:00   \n12  30000484 -1 days +23:58:00          -120.0 2136-01-15 22:02:00   \n15  30000484   0 days 00:58:00          3480.0 2136-01-15 22:02:00   \n3   30000484   0 days 01:58:00          7080.0 2136-01-15 22:02:00   \n11  30000484   0 days 01:59:00          7140.0 2136-01-15 22:02:00   \n1   30000484   0 days 02:58:00         10680.0 2136-01-15 22:02:00   \n16  30000484   0 days 03:10:00         11400.0 2136-01-15 22:02:00   \n18  30000484   0 days 03:58:00         14280.0 2136-01-15 22:02:00   \n14  30000484   0 days 04:58:00         17880.0 2136-01-15 22:02:00   \n8   30000484   0 days 05:58:00         21480.0 2136-01-15 22:02:00   \n23  30000484   0 days 06:58:00         25080.0 2136-01-15 22:02:00   \n25  30000484   0 days 07:58:00         28680.0 2136-01-15 22:02:00   \n9   30000484   0 days 08:58:00         32280.0 2136-01-15 22:02:00   \n10  30000484   0 days 09:58:00         35880.0 2136-01-15 22:02:00   \n21  30000484   0 days 10:58:00         39480.0 2136-01-15 22:02:00   \n13  30000484   0 days 11:58:00         43080.0 2136-01-15 22:02:00   \n50  30004018 -1 days +12:45:00        -40500.0 2158-12-30 06:15:00   \n34  30004018 -1 days +13:45:00        -36900.0 2158-12-30 06:15:00   \n32  30004018 -1 days +14:45:00        -33300.0 2158-12-30 06:15:00   \n30  30004018 -1 days +15:45:00        -29700.0 2158-12-30 06:15:00   \n49  30004018 -1 days +16:45:00        -26100.0 2158-12-30 06:15:00   \n45  30004018 -1 days +17:45:00        -22500.0 2158-12-30 06:15:00   \n48  30004018 -1 days +18:45:00        -18900.0 2158-12-30 06:15:00   \n39  30004018 -1 days +19:45:00        -15300.0 2158-12-30 06:15:00   \n41  30004018 -1 days +20:45:00        -11700.0 2158-12-30 06:15:00   \n33  30004018 -1 days +21:45:00         -8100.0 2158-12-30 06:15:00   \n35  30004018 -1 days +22:45:00         -4500.0 2158-12-30 06:15:00   \n46  30004018 -1 days +23:45:00          -900.0 2158-12-30 06:15:00   \n38  30004018   0 days 00:45:00          2700.0 2158-12-30 06:15:00   \n37  30004018   0 days 01:45:00          6300.0 2158-12-30 06:15:00   \n42  30004018   0 days 02:45:00          9900.0 2158-12-30 06:15:00   \n27  30004018   0 days 03:45:00         13500.0 2158-12-30 06:15:00   \n43  30004018   0 days 04:45:00         17100.0 2158-12-30 06:15:00   \n44  30004018   0 days 05:45:00         20700.0 2158-12-30 06:15:00   \n29  30004018   0 days 06:45:00         24300.0 2158-12-30 06:15:00   \n28  30004018   0 days 07:45:00         27900.0 2158-12-30 06:15:00   \n31  30004018   0 days 08:45:00         31500.0 2158-12-30 06:15:00   \n40  30004018   0 days 09:45:00         35100.0 2158-12-30 06:15:00   \n36  30004018   0 days 10:45:00         38700.0 2158-12-30 06:15:00   \n\n             charttime  has_icd  heart_rate    sbp    dbp   mbp  \n5  2136-01-15 11:00:00    False        94.0  108.0   43.0  60.0  \n6  2136-01-15 12:00:00    False        93.0  114.0   44.0  60.0  \n7  2136-01-15 13:00:00    False        95.0  113.0   66.0  72.0  \n4  2136-01-15 14:00:00    False        92.0    NaN    NaN  58.0  \n2  2136-01-15 14:30:00    False         NaN  129.0  113.0   NaN  \n24 2136-01-15 15:00:00    False        94.0  133.0   61.0  79.0  \n19 2136-01-15 16:00:00    False        93.0  117.0   74.0  82.0  \n17 2136-01-15 17:00:00    False        87.0  119.0   65.0  78.0  \n0  2136-01-15 18:00:00    False        89.0  103.0   22.0  41.0  \n20 2136-01-15 19:00:00    False        88.0  118.0   74.0  82.0  \n22 2136-01-15 20:00:00    False        90.0  116.0   62.0  75.0  \n26 2136-01-15 21:00:00    False        95.0  137.0   71.0  87.0  \n12 2136-01-15 22:00:00    False       105.0  147.0   79.0  96.0  \n15 2136-01-15 23:00:00    False        96.0  126.0   70.0  81.0  \n3  2136-01-16 00:00:00    False        97.0    NaN    NaN   NaN  \n11 2136-01-16 00:01:00    False         NaN  106.0   93.0  96.0  \n1  2136-01-16 01:00:00    False        99.0    NaN    NaN   NaN  \n16 2136-01-16 01:12:00    False         NaN  145.0   66.0  85.0  \n18 2136-01-16 02:00:00    False        94.0  126.0   70.0  82.0  \n14 2136-01-16 03:00:00    False        93.0  121.0   64.0  77.0  \n8  2136-01-16 04:00:00    False        96.0  126.0   61.0  76.0  \n23 2136-01-16 05:00:00    False        96.0  118.0   63.0  75.0  \n25 2136-01-16 06:00:00    False        99.0  141.0   73.0  87.0  \n9  2136-01-16 07:00:00    False        97.0  131.0   68.0  84.0  \n10 2136-01-16 08:00:00    False        97.0  136.0   69.0  84.0  \n21 2136-01-16 09:00:00    False        92.0  111.0   53.0  67.0  \n13 2136-01-16 10:00:00    False        92.0  117.0   58.0  73.0  \n50 2158-12-29 19:00:00    False        97.0  131.0   60.0  78.0  \n34 2158-12-29 20:00:00    False       100.0  130.0   62.0  76.0  \n32 2158-12-29 21:00:00    False        96.0  114.0   53.0  68.0  \n30 2158-12-29 22:00:00    False        94.0  112.0   45.0  62.0  \n49 2158-12-29 23:00:00    False       102.0  125.0   65.0  78.0  \n45 2158-12-30 00:00:00    False        96.0  118.0   56.0  70.0  \n48 2158-12-30 01:00:00    False       100.0  114.0   65.0  74.0  \n39 2158-12-30 02:00:00    False        94.0  106.0   61.0  73.0  \n41 2158-12-30 03:00:00    False        91.0   91.0   53.0  61.0  \n33 2158-12-30 04:00:00    False        91.0  104.0   60.0  72.0  \n35 2158-12-30 05:00:00    False        92.0  114.0   66.0  76.0  \n46 2158-12-30 06:00:00    False        97.0  113.0   64.0  74.0  \n38 2158-12-30 07:00:00    False        95.0  109.0   58.0  69.0  \n37 2158-12-30 08:00:00    False       103.0  140.0   83.0  96.0  \n42 2158-12-30 09:00:00    False        99.0  108.0   46.0  61.0  \n27 2158-12-30 10:00:00    False       100.0   56.0   21.0  28.0  \n43 2158-12-30 11:00:00    False        99.0  107.0   53.0  66.0  \n44 2158-12-30 12:00:00    False       101.0  114.0   57.0  70.0  \n29 2158-12-30 13:00:00    False        98.0   92.0   48.0  58.0  \n28 2158-12-30 14:00:00    False        97.0   78.0   38.0  47.0  \n31 2158-12-30 15:00:00    False        94.0  113.0   49.0  64.0  \n40 2158-12-30 16:00:00    False        89.0   98.0   46.0  57.0  \n36 2158-12-30 17:00:00    False        95.0  124.0   73.0  84.0  ",
      "text/html": "<div>\n<style scoped>\n    .dataframe tbody tr th:only-of-type {\n        vertical-align: middle;\n    }\n\n    .dataframe tbody tr th {\n        vertical-align: top;\n    }\n\n    .dataframe thead th {\n        text-align: right;\n    }\n</style>\n<table border=\"1\" class=\"dataframe\">\n  <thead>\n    <tr style=\"text-align: right;\">\n      <th></th>\n      <th>stay_id</th>\n      <th>timestep</th>\n      <th>timestep_float</th>\n      <th>dose_b_time</th>\n      <th>charttime</th>\n      <th>has_icd</th>\n      <th>heart_rate</th>\n      <th>sbp</th>\n      <th>dbp</th>\n      <th>mbp</th>\n    </tr>\n  </thead>\n  <tbody>\n    <tr>\n      <th>5</th>\n      <td>30000484</td>\n      <td>-1 days +12:58:00</td>\n      <td>-39720.0</td>\n      <td>2136-01-15 22:02:00</td>\n      <td>2136-01-15 11:00:00</td>\n      <td>False</td>\n      <td>94.0</td>\n      <td>108.0</td>\n      <td>43.0</td>\n      <td>60.0</td>\n    </tr>\n    <tr>\n      <th>6</th>\n      <td>30000484</td>\n      <td>-1 days +13:58:00</td>\n      <td>-36120.0</td>\n      <td>2136-01-15 22:02:00</td>\n      <td>2136-01-15 12:00:00</td>\n      <td>False</td>\n      <td>93.0</td>\n      <td>114.0</td>\n      <td>44.0</td>\n      <td>60.0</td>\n    </tr>\n    <tr>\n      <th>7</th>\n      <td>30000484</td>\n      <td>-1 days +14:58:00</td>\n      <td>-32520.0</td>\n      <td>2136-01-15 22:02:00</td>\n      <td>2136-01-15 13:00:00</td>\n      <td>False</td>\n      <td>95.0</td>\n      <td>113.0</td>\n      <td>66.0</td>\n      <td>72.0</td>\n    </tr>\n    <tr>\n      <th>4</th>\n      <td>30000484</td>\n      <td>-1 days +15:58:00</td>\n      <td>-28920.0</td>\n      <td>2136-01-15 22:02:00</td>\n      <td>2136-01-15 14:00:00</td>\n      <td>False</td>\n      <td>92.0</td>\n      <td>NaN</td>\n      <td>NaN</td>\n      <td>58.0</td>\n    </tr>\n    <tr>\n      <th>2</th>\n      <td>30000484</td>\n      <td>-1 days +16:28:00</td>\n      <td>-27120.0</td>\n      <td>2136-01-15 22:02:00</td>\n      <td>2136-01-15 14:30:00</td>\n      <td>False</td>\n      <td>NaN</td>\n      <td>129.0</td>\n      <td>113.0</td>\n      <td>NaN</td>\n    </tr>\n    <tr>\n      <th>24</th>\n      <td>30000484</td>\n      <td>-1 days +16:58:00</td>\n      <td>-25320.0</td>\n      <td>2136-01-15 22:02:00</td>\n      <td>2136-01-15 15:00:00</td>\n      <td>False</td>\n      <td>94.0</td>\n      <td>133.0</td>\n      <td>61.0</td>\n      <td>79.0</td>\n    </tr>\n    <tr>\n      <th>19</th>\n      <td>30000484</td>\n      <td>-1 days +17:58:00</td>\n      <td>-21720.0</td>\n      <td>2136-01-15 22:02:00</td>\n      <td>2136-01-15 16:00:00</td>\n      <td>False</td>\n      <td>93.0</td>\n      <td>117.0</td>\n      <td>74.0</td>\n      <td>82.0</td>\n    </tr>\n    <tr>\n      <th>17</th>\n      <td>30000484</td>\n      <td>-1 days +18:58:00</td>\n      <td>-18120.0</td>\n      <td>2136-01-15 22:02:00</td>\n      <td>2136-01-15 17:00:00</td>\n      <td>False</td>\n      <td>87.0</td>\n      <td>119.0</td>\n      <td>65.0</td>\n      <td>78.0</td>\n    </tr>\n    <tr>\n      <th>0</th>\n      <td>30000484</td>\n      <td>-1 days +19:58:00</td>\n      <td>-14520.0</td>\n      <td>2136-01-15 22:02:00</td>\n      <td>2136-01-15 18:00:00</td>\n      <td>False</td>\n      <td>89.0</td>\n      <td>103.0</td>\n      <td>22.0</td>\n      <td>41.0</td>\n    </tr>\n    <tr>\n      <th>20</th>\n      <td>30000484</td>\n      <td>-1 days +20:58:00</td>\n      <td>-10920.0</td>\n      <td>2136-01-15 22:02:00</td>\n      <td>2136-01-15 19:00:00</td>\n      <td>False</td>\n      <td>88.0</td>\n      <td>118.0</td>\n      <td>74.0</td>\n      <td>82.0</td>\n    </tr>\n    <tr>\n      <th>22</th>\n      <td>30000484</td>\n      <td>-1 days +21:58:00</td>\n      <td>-7320.0</td>\n      <td>2136-01-15 22:02:00</td>\n      <td>2136-01-15 20:00:00</td>\n      <td>False</td>\n      <td>90.0</td>\n      <td>116.0</td>\n      <td>62.0</td>\n      <td>75.0</td>\n    </tr>\n    <tr>\n      <th>26</th>\n      <td>30000484</td>\n      <td>-1 days +22:58:00</td>\n      <td>-3720.0</td>\n      <td>2136-01-15 22:02:00</td>\n      <td>2136-01-15 21:00:00</td>\n      <td>False</td>\n      <td>95.0</td>\n      <td>137.0</td>\n      <td>71.0</td>\n      <td>87.0</td>\n    </tr>\n    <tr>\n      <th>12</th>\n      <td>30000484</td>\n      <td>-1 days +23:58:00</td>\n      <td>-120.0</td>\n      <td>2136-01-15 22:02:00</td>\n      <td>2136-01-15 22:00:00</td>\n      <td>False</td>\n      <td>105.0</td>\n      <td>147.0</td>\n      <td>79.0</td>\n      <td>96.0</td>\n    </tr>\n    <tr>\n      <th>15</th>\n      <td>30000484</td>\n      <td>0 days 00:58:00</td>\n      <td>3480.0</td>\n      <td>2136-01-15 22:02:00</td>\n      <td>2136-01-15 23:00:00</td>\n      <td>False</td>\n      <td>96.0</td>\n      <td>126.0</td>\n      <td>70.0</td>\n      <td>81.0</td>\n    </tr>\n    <tr>\n      <th>3</th>\n      <td>30000484</td>\n      <td>0 days 01:58:00</td>\n      <td>7080.0</td>\n      <td>2136-01-15 22:02:00</td>\n      <td>2136-01-16 00:00:00</td>\n      <td>False</td>\n      <td>97.0</td>\n      <td>NaN</td>\n      <td>NaN</td>\n      <td>NaN</td>\n    </tr>\n    <tr>\n      <th>11</th>\n      <td>30000484</td>\n      <td>0 days 01:59:00</td>\n      <td>7140.0</td>\n      <td>2136-01-15 22:02:00</td>\n      <td>2136-01-16 00:01:00</td>\n      <td>False</td>\n      <td>NaN</td>\n      <td>106.0</td>\n      <td>93.0</td>\n      <td>96.0</td>\n    </tr>\n    <tr>\n      <th>1</th>\n      <td>30000484</td>\n      <td>0 days 02:58:00</td>\n      <td>10680.0</td>\n      <td>2136-01-15 22:02:00</td>\n      <td>2136-01-16 01:00:00</td>\n      <td>False</td>\n      <td>99.0</td>\n      <td>NaN</td>\n      <td>NaN</td>\n      <td>NaN</td>\n    </tr>\n    <tr>\n      <th>16</th>\n      <td>30000484</td>\n      <td>0 days 03:10:00</td>\n      <td>11400.0</td>\n      <td>2136-01-15 22:02:00</td>\n      <td>2136-01-16 01:12:00</td>\n      <td>False</td>\n      <td>NaN</td>\n      <td>145.0</td>\n      <td>66.0</td>\n      <td>85.0</td>\n    </tr>\n    <tr>\n      <th>18</th>\n      <td>30000484</td>\n      <td>0 days 03:58:00</td>\n      <td>14280.0</td>\n      <td>2136-01-15 22:02:00</td>\n      <td>2136-01-16 02:00:00</td>\n      <td>False</td>\n      <td>94.0</td>\n      <td>126.0</td>\n      <td>70.0</td>\n      <td>82.0</td>\n    </tr>\n    <tr>\n      <th>14</th>\n      <td>30000484</td>\n      <td>0 days 04:58:00</td>\n      <td>17880.0</td>\n      <td>2136-01-15 22:02:00</td>\n      <td>2136-01-16 03:00:00</td>\n      <td>False</td>\n      <td>93.0</td>\n      <td>121.0</td>\n      <td>64.0</td>\n      <td>77.0</td>\n    </tr>\n    <tr>\n      <th>8</th>\n      <td>30000484</td>\n      <td>0 days 05:58:00</td>\n      <td>21480.0</td>\n      <td>2136-01-15 22:02:00</td>\n      <td>2136-01-16 04:00:00</td>\n      <td>False</td>\n      <td>96.0</td>\n      <td>126.0</td>\n      <td>61.0</td>\n      <td>76.0</td>\n    </tr>\n    <tr>\n      <th>23</th>\n      <td>30000484</td>\n      <td>0 days 06:58:00</td>\n      <td>25080.0</td>\n      <td>2136-01-15 22:02:00</td>\n      <td>2136-01-16 05:00:00</td>\n      <td>False</td>\n      <td>96.0</td>\n      <td>118.0</td>\n      <td>63.0</td>\n      <td>75.0</td>\n    </tr>\n    <tr>\n      <th>25</th>\n      <td>30000484</td>\n      <td>0 days 07:58:00</td>\n      <td>28680.0</td>\n      <td>2136-01-15 22:02:00</td>\n      <td>2136-01-16 06:00:00</td>\n      <td>False</td>\n      <td>99.0</td>\n      <td>141.0</td>\n      <td>73.0</td>\n      <td>87.0</td>\n    </tr>\n    <tr>\n      <th>9</th>\n      <td>30000484</td>\n      <td>0 days 08:58:00</td>\n      <td>32280.0</td>\n      <td>2136-01-15 22:02:00</td>\n      <td>2136-01-16 07:00:00</td>\n      <td>False</td>\n      <td>97.0</td>\n      <td>131.0</td>\n      <td>68.0</td>\n      <td>84.0</td>\n    </tr>\n    <tr>\n      <th>10</th>\n      <td>30000484</td>\n      <td>0 days 09:58:00</td>\n      <td>35880.0</td>\n      <td>2136-01-15 22:02:00</td>\n      <td>2136-01-16 08:00:00</td>\n      <td>False</td>\n      <td>97.0</td>\n      <td>136.0</td>\n      <td>69.0</td>\n      <td>84.0</td>\n    </tr>\n    <tr>\n      <th>21</th>\n      <td>30000484</td>\n      <td>0 days 10:58:00</td>\n      <td>39480.0</td>\n      <td>2136-01-15 22:02:00</td>\n      <td>2136-01-16 09:00:00</td>\n      <td>False</td>\n      <td>92.0</td>\n      <td>111.0</td>\n      <td>53.0</td>\n      <td>67.0</td>\n    </tr>\n    <tr>\n      <th>13</th>\n      <td>30000484</td>\n      <td>0 days 11:58:00</td>\n      <td>43080.0</td>\n      <td>2136-01-15 22:02:00</td>\n      <td>2136-01-16 10:00:00</td>\n      <td>False</td>\n      <td>92.0</td>\n      <td>117.0</td>\n      <td>58.0</td>\n      <td>73.0</td>\n    </tr>\n    <tr>\n      <th>50</th>\n      <td>30004018</td>\n      <td>-1 days +12:45:00</td>\n      <td>-40500.0</td>\n      <td>2158-12-30 06:15:00</td>\n      <td>2158-12-29 19:00:00</td>\n      <td>False</td>\n      <td>97.0</td>\n      <td>131.0</td>\n      <td>60.0</td>\n      <td>78.0</td>\n    </tr>\n    <tr>\n      <th>34</th>\n      <td>30004018</td>\n      <td>-1 days +13:45:00</td>\n      <td>-36900.0</td>\n      <td>2158-12-30 06:15:00</td>\n      <td>2158-12-29 20:00:00</td>\n      <td>False</td>\n      <td>100.0</td>\n      <td>130.0</td>\n      <td>62.0</td>\n      <td>76.0</td>\n    </tr>\n    <tr>\n      <th>32</th>\n      <td>30004018</td>\n      <td>-1 days +14:45:00</td>\n      <td>-33300.0</td>\n      <td>2158-12-30 06:15:00</td>\n      <td>2158-12-29 21:00:00</td>\n      <td>False</td>\n      <td>96.0</td>\n      <td>114.0</td>\n      <td>53.0</td>\n      <td>68.0</td>\n    </tr>\n    <tr>\n      <th>30</th>\n      <td>30004018</td>\n      <td>-1 days +15:45:00</td>\n      <td>-29700.0</td>\n      <td>2158-12-30 06:15:00</td>\n      <td>2158-12-29 22:00:00</td>\n      <td>False</td>\n      <td>94.0</td>\n      <td>112.0</td>\n      <td>45.0</td>\n      <td>62.0</td>\n    </tr>\n    <tr>\n      <th>49</th>\n      <td>30004018</td>\n      <td>-1 days +16:45:00</td>\n      <td>-26100.0</td>\n      <td>2158-12-30 06:15:00</td>\n      <td>2158-12-29 23:00:00</td>\n      <td>False</td>\n      <td>102.0</td>\n      <td>125.0</td>\n      <td>65.0</td>\n      <td>78.0</td>\n    </tr>\n    <tr>\n      <th>45</th>\n      <td>30004018</td>\n      <td>-1 days +17:45:00</td>\n      <td>-22500.0</td>\n      <td>2158-12-30 06:15:00</td>\n      <td>2158-12-30 00:00:00</td>\n      <td>False</td>\n      <td>96.0</td>\n      <td>118.0</td>\n      <td>56.0</td>\n      <td>70.0</td>\n    </tr>\n    <tr>\n      <th>48</th>\n      <td>30004018</td>\n      <td>-1 days +18:45:00</td>\n      <td>-18900.0</td>\n      <td>2158-12-30 06:15:00</td>\n      <td>2158-12-30 01:00:00</td>\n      <td>False</td>\n      <td>100.0</td>\n      <td>114.0</td>\n      <td>65.0</td>\n      <td>74.0</td>\n    </tr>\n    <tr>\n      <th>39</th>\n      <td>30004018</td>\n      <td>-1 days +19:45:00</td>\n      <td>-15300.0</td>\n      <td>2158-12-30 06:15:00</td>\n      <td>2158-12-30 02:00:00</td>\n      <td>False</td>\n      <td>94.0</td>\n      <td>106.0</td>\n      <td>61.0</td>\n      <td>73.0</td>\n    </tr>\n    <tr>\n      <th>41</th>\n      <td>30004018</td>\n      <td>-1 days +20:45:00</td>\n      <td>-11700.0</td>\n      <td>2158-12-30 06:15:00</td>\n      <td>2158-12-30 03:00:00</td>\n      <td>False</td>\n      <td>91.0</td>\n      <td>91.0</td>\n      <td>53.0</td>\n      <td>61.0</td>\n    </tr>\n    <tr>\n      <th>33</th>\n      <td>30004018</td>\n      <td>-1 days +21:45:00</td>\n      <td>-8100.0</td>\n      <td>2158-12-30 06:15:00</td>\n      <td>2158-12-30 04:00:00</td>\n      <td>False</td>\n      <td>91.0</td>\n      <td>104.0</td>\n      <td>60.0</td>\n      <td>72.0</td>\n    </tr>\n    <tr>\n      <th>35</th>\n      <td>30004018</td>\n      <td>-1 days +22:45:00</td>\n      <td>-4500.0</td>\n      <td>2158-12-30 06:15:00</td>\n      <td>2158-12-30 05:00:00</td>\n      <td>False</td>\n      <td>92.0</td>\n      <td>114.0</td>\n      <td>66.0</td>\n      <td>76.0</td>\n    </tr>\n    <tr>\n      <th>46</th>\n      <td>30004018</td>\n      <td>-1 days +23:45:00</td>\n      <td>-900.0</td>\n      <td>2158-12-30 06:15:00</td>\n      <td>2158-12-30 06:00:00</td>\n      <td>False</td>\n      <td>97.0</td>\n      <td>113.0</td>\n      <td>64.0</td>\n      <td>74.0</td>\n    </tr>\n    <tr>\n      <th>38</th>\n      <td>30004018</td>\n      <td>0 days 00:45:00</td>\n      <td>2700.0</td>\n      <td>2158-12-30 06:15:00</td>\n      <td>2158-12-30 07:00:00</td>\n      <td>False</td>\n      <td>95.0</td>\n      <td>109.0</td>\n      <td>58.0</td>\n      <td>69.0</td>\n    </tr>\n    <tr>\n      <th>37</th>\n      <td>30004018</td>\n      <td>0 days 01:45:00</td>\n      <td>6300.0</td>\n      <td>2158-12-30 06:15:00</td>\n      <td>2158-12-30 08:00:00</td>\n      <td>False</td>\n      <td>103.0</td>\n      <td>140.0</td>\n      <td>83.0</td>\n      <td>96.0</td>\n    </tr>\n    <tr>\n      <th>42</th>\n      <td>30004018</td>\n      <td>0 days 02:45:00</td>\n      <td>9900.0</td>\n      <td>2158-12-30 06:15:00</td>\n      <td>2158-12-30 09:00:00</td>\n      <td>False</td>\n      <td>99.0</td>\n      <td>108.0</td>\n      <td>46.0</td>\n      <td>61.0</td>\n    </tr>\n    <tr>\n      <th>27</th>\n      <td>30004018</td>\n      <td>0 days 03:45:00</td>\n      <td>13500.0</td>\n      <td>2158-12-30 06:15:00</td>\n      <td>2158-12-30 10:00:00</td>\n      <td>False</td>\n      <td>100.0</td>\n      <td>56.0</td>\n      <td>21.0</td>\n      <td>28.0</td>\n    </tr>\n    <tr>\n      <th>43</th>\n      <td>30004018</td>\n      <td>0 days 04:45:00</td>\n      <td>17100.0</td>\n      <td>2158-12-30 06:15:00</td>\n      <td>2158-12-30 11:00:00</td>\n      <td>False</td>\n      <td>99.0</td>\n      <td>107.0</td>\n      <td>53.0</td>\n      <td>66.0</td>\n    </tr>\n    <tr>\n      <th>44</th>\n      <td>30004018</td>\n      <td>0 days 05:45:00</td>\n      <td>20700.0</td>\n      <td>2158-12-30 06:15:00</td>\n      <td>2158-12-30 12:00:00</td>\n      <td>False</td>\n      <td>101.0</td>\n      <td>114.0</td>\n      <td>57.0</td>\n      <td>70.0</td>\n    </tr>\n    <tr>\n      <th>29</th>\n      <td>30004018</td>\n      <td>0 days 06:45:00</td>\n      <td>24300.0</td>\n      <td>2158-12-30 06:15:00</td>\n      <td>2158-12-30 13:00:00</td>\n      <td>False</td>\n      <td>98.0</td>\n      <td>92.0</td>\n      <td>48.0</td>\n      <td>58.0</td>\n    </tr>\n    <tr>\n      <th>28</th>\n      <td>30004018</td>\n      <td>0 days 07:45:00</td>\n      <td>27900.0</td>\n      <td>2158-12-30 06:15:00</td>\n      <td>2158-12-30 14:00:00</td>\n      <td>False</td>\n      <td>97.0</td>\n      <td>78.0</td>\n      <td>38.0</td>\n      <td>47.0</td>\n    </tr>\n    <tr>\n      <th>31</th>\n      <td>30004018</td>\n      <td>0 days 08:45:00</td>\n      <td>31500.0</td>\n      <td>2158-12-30 06:15:00</td>\n      <td>2158-12-30 15:00:00</td>\n      <td>False</td>\n      <td>94.0</td>\n      <td>113.0</td>\n      <td>49.0</td>\n      <td>64.0</td>\n    </tr>\n    <tr>\n      <th>40</th>\n      <td>30004018</td>\n      <td>0 days 09:45:00</td>\n      <td>35100.0</td>\n      <td>2158-12-30 06:15:00</td>\n      <td>2158-12-30 16:00:00</td>\n      <td>False</td>\n      <td>89.0</td>\n      <td>98.0</td>\n      <td>46.0</td>\n      <td>57.0</td>\n    </tr>\n    <tr>\n      <th>36</th>\n      <td>30004018</td>\n      <td>0 days 10:45:00</td>\n      <td>38700.0</td>\n      <td>2158-12-30 06:15:00</td>\n      <td>2158-12-30 17:00:00</td>\n      <td>False</td>\n      <td>95.0</td>\n      <td>124.0</td>\n      <td>73.0</td>\n      <td>84.0</td>\n    </tr>\n  </tbody>\n</table>\n</div>"
     },
     "execution_count": 479,
     "metadata": {},
     "output_type": "execute_result"
    }
   ],
   "source": [
    "df = df[[\"stay_id\", \"timestep\", \"timestep_float\", \"dose_b_time\", \"charttime\",\n",
    "         \"has_icd\"] + data_arrays].sort_values([\"stay_id\", \"dose_b_time\", \"timestep\"])\n",
    "df.head(50)"
   ],
   "metadata": {
    "collapsed": false,
    "ExecuteTime": {
     "end_time": "2023-11-03T04:44:29.103110700Z",
     "start_time": "2023-11-03T04:44:28.890654600Z"
    }
   },
   "id": "9425cee888566589"
  },
  {
   "cell_type": "markdown",
   "source": [
    "# Interpolate\n",
    "The data has missing values, use pandas built in interpolation to fill those based on the timestamp"
   ],
   "metadata": {
    "collapsed": false
   },
   "id": "2108b67729841627"
  },
  {
   "cell_type": "markdown",
   "source": [],
   "metadata": {
    "collapsed": false,
    "ExecuteTime": {
     "start_time": "2023-10-26T13:29:22.035511Z"
    }
   },
   "id": "a849a0e0ee1357b9"
  },
  {
   "cell_type": "code",
   "execution_count": 480,
   "outputs": [
    {
     "name": "stdout",
     "output_type": "stream",
     "text": [
      "stay_id                    int64\n",
      "timestep          timedelta64[s]\n",
      "timestep_float           float64\n",
      "dose_b_time        datetime64[s]\n",
      "charttime          datetime64[s]\n",
      "has_icd                     bool\n",
      "heart_rate               float64\n",
      "sbp                      float64\n",
      "dbp                      float64\n",
      "mbp                      float64\n",
      "dtype: object\n",
      "charttime          datetime64[s]\n",
      "stay_id                    int64\n",
      "timestep          timedelta64[s]\n",
      "timestep_float           float64\n",
      "dose_b_time        datetime64[s]\n",
      "has_icd                     bool\n",
      "heart_rate               float64\n",
      "sbp                      float64\n",
      "dbp                      float64\n",
      "mbp                      float64\n",
      "dtype: object\n",
      "Index(['stay_id', 'dose_b_time', 'timestep_float', 'has_icd', 'heart_rate',\n",
      "       'sbp', 'dbp', 'mbp'],\n",
      "      dtype='object')\n",
      "(397157, 8)\n"
     ]
    },
    {
     "data": {
      "text/plain": "     stay_id         dose_b_time  timestep_float  has_icd  heart_rate  \\\n0   30000484 2136-01-15 22:02:00        -39720.0    False   94.000000   \n1   30000484 2136-01-15 22:02:00        -36120.0    False   93.000000   \n2   30000484 2136-01-15 22:02:00        -32520.0    False   95.000000   \n3   30000484 2136-01-15 22:02:00        -28920.0    False   92.000000   \n4   30000484 2136-01-15 22:02:00        -27120.0    False   93.000000   \n5   30000484 2136-01-15 22:02:00        -25320.0    False   94.000000   \n6   30000484 2136-01-15 22:02:00        -21720.0    False   93.000000   \n7   30000484 2136-01-15 22:02:00        -18120.0    False   87.000000   \n8   30000484 2136-01-15 22:02:00        -14520.0    False   89.000000   \n9   30000484 2136-01-15 22:02:00        -10920.0    False   88.000000   \n10  30000484 2136-01-15 22:02:00         -7320.0    False   90.000000   \n11  30000484 2136-01-15 22:02:00         -3720.0    False   95.000000   \n12  30000484 2136-01-15 22:02:00          -120.0    False  105.000000   \n13  30000484 2136-01-15 22:02:00          3480.0    False   96.000000   \n14  30000484 2136-01-15 22:02:00          7080.0    False   97.000000   \n15  30000484 2136-01-15 22:02:00          7140.0    False   97.033333   \n16  30000484 2136-01-15 22:02:00         10680.0    False   99.000000   \n17  30000484 2136-01-15 22:02:00         11400.0    False   98.000000   \n18  30000484 2136-01-15 22:02:00         14280.0    False   94.000000   \n19  30000484 2136-01-15 22:02:00         17880.0    False   93.000000   \n20  30000484 2136-01-15 22:02:00         21480.0    False   96.000000   \n21  30000484 2136-01-15 22:02:00         25080.0    False   96.000000   \n22  30000484 2136-01-15 22:02:00         28680.0    False   99.000000   \n23  30000484 2136-01-15 22:02:00         32280.0    False   97.000000   \n24  30000484 2136-01-15 22:02:00         35880.0    False   97.000000   \n25  30000484 2136-01-15 22:02:00         39480.0    False   92.000000   \n26  30000484 2136-01-15 22:02:00         43080.0    False   92.000000   \n27  30004018 2158-12-30 06:15:00        -40500.0    False   97.000000   \n28  30004018 2158-12-30 06:15:00        -36900.0    False  100.000000   \n29  30004018 2158-12-30 06:15:00        -33300.0    False   96.000000   \n30  30004018 2158-12-30 06:15:00        -29700.0    False   94.000000   \n31  30004018 2158-12-30 06:15:00        -26100.0    False  102.000000   \n32  30004018 2158-12-30 06:15:00        -22500.0    False   96.000000   \n33  30004018 2158-12-30 06:15:00        -18900.0    False  100.000000   \n34  30004018 2158-12-30 06:15:00        -15300.0    False   94.000000   \n35  30004018 2158-12-30 06:15:00        -11700.0    False   91.000000   \n36  30004018 2158-12-30 06:15:00         -8100.0    False   91.000000   \n37  30004018 2158-12-30 06:15:00         -4500.0    False   92.000000   \n38  30004018 2158-12-30 06:15:00          -900.0    False   97.000000   \n39  30004018 2158-12-30 06:15:00          2700.0    False   95.000000   \n40  30004018 2158-12-30 06:15:00          6300.0    False  103.000000   \n41  30004018 2158-12-30 06:15:00          9900.0    False   99.000000   \n42  30004018 2158-12-30 06:15:00         13500.0    False  100.000000   \n43  30004018 2158-12-30 06:15:00         17100.0    False   99.000000   \n44  30004018 2158-12-30 06:15:00         20700.0    False  101.000000   \n45  30004018 2158-12-30 06:15:00         24300.0    False   98.000000   \n46  30004018 2158-12-30 06:15:00         27900.0    False   97.000000   \n47  30004018 2158-12-30 06:15:00         31500.0    False   94.000000   \n48  30004018 2158-12-30 06:15:00         35100.0    False   89.000000   \n49  30004018 2158-12-30 06:15:00         38700.0    False   95.000000   \n\n           sbp         dbp        mbp  \n0   108.000000   43.000000  60.000000  \n1   114.000000   44.000000  60.000000  \n2   113.000000   66.000000  72.000000  \n3   123.666667   97.333333  58.000000  \n4   129.000000  113.000000  68.500000  \n5   133.000000   61.000000  79.000000  \n6   117.000000   74.000000  82.000000  \n7   119.000000   65.000000  78.000000  \n8   103.000000   22.000000  41.000000  \n9   118.000000   74.000000  82.000000  \n10  116.000000   62.000000  75.000000  \n11  137.000000   71.000000  87.000000  \n12  147.000000   79.000000  96.000000  \n13  126.000000   70.000000  81.000000  \n14  106.327869   92.622951  95.754098  \n15  106.000000   93.000000  96.000000  \n16  138.408451   70.563380  86.859155  \n17  145.000000   66.000000  85.000000  \n18  126.000000   70.000000  82.000000  \n19  121.000000   64.000000  77.000000  \n20  126.000000   61.000000  76.000000  \n21  118.000000   63.000000  75.000000  \n22  141.000000   73.000000  87.000000  \n23  131.000000   68.000000  84.000000  \n24  136.000000   69.000000  84.000000  \n25  111.000000   53.000000  67.000000  \n26  117.000000   58.000000  73.000000  \n27  131.000000   60.000000  78.000000  \n28  130.000000   62.000000  76.000000  \n29  114.000000   53.000000  68.000000  \n30  112.000000   45.000000  62.000000  \n31  125.000000   65.000000  78.000000  \n32  118.000000   56.000000  70.000000  \n33  114.000000   65.000000  74.000000  \n34  106.000000   61.000000  73.000000  \n35   91.000000   53.000000  61.000000  \n36  104.000000   60.000000  72.000000  \n37  114.000000   66.000000  76.000000  \n38  113.000000   64.000000  74.000000  \n39  109.000000   58.000000  69.000000  \n40  140.000000   83.000000  96.000000  \n41  108.000000   46.000000  61.000000  \n42   56.000000   21.000000  28.000000  \n43  107.000000   53.000000  66.000000  \n44  114.000000   57.000000  70.000000  \n45   92.000000   48.000000  58.000000  \n46   78.000000   38.000000  47.000000  \n47  113.000000   49.000000  64.000000  \n48   98.000000   46.000000  57.000000  \n49  124.000000   73.000000  84.000000  ",
      "text/html": "<div>\n<style scoped>\n    .dataframe tbody tr th:only-of-type {\n        vertical-align: middle;\n    }\n\n    .dataframe tbody tr th {\n        vertical-align: top;\n    }\n\n    .dataframe thead th {\n        text-align: right;\n    }\n</style>\n<table border=\"1\" class=\"dataframe\">\n  <thead>\n    <tr style=\"text-align: right;\">\n      <th></th>\n      <th>stay_id</th>\n      <th>dose_b_time</th>\n      <th>timestep_float</th>\n      <th>has_icd</th>\n      <th>heart_rate</th>\n      <th>sbp</th>\n      <th>dbp</th>\n      <th>mbp</th>\n    </tr>\n  </thead>\n  <tbody>\n    <tr>\n      <th>0</th>\n      <td>30000484</td>\n      <td>2136-01-15 22:02:00</td>\n      <td>-39720.0</td>\n      <td>False</td>\n      <td>94.000000</td>\n      <td>108.000000</td>\n      <td>43.000000</td>\n      <td>60.000000</td>\n    </tr>\n    <tr>\n      <th>1</th>\n      <td>30000484</td>\n      <td>2136-01-15 22:02:00</td>\n      <td>-36120.0</td>\n      <td>False</td>\n      <td>93.000000</td>\n      <td>114.000000</td>\n      <td>44.000000</td>\n      <td>60.000000</td>\n    </tr>\n    <tr>\n      <th>2</th>\n      <td>30000484</td>\n      <td>2136-01-15 22:02:00</td>\n      <td>-32520.0</td>\n      <td>False</td>\n      <td>95.000000</td>\n      <td>113.000000</td>\n      <td>66.000000</td>\n      <td>72.000000</td>\n    </tr>\n    <tr>\n      <th>3</th>\n      <td>30000484</td>\n      <td>2136-01-15 22:02:00</td>\n      <td>-28920.0</td>\n      <td>False</td>\n      <td>92.000000</td>\n      <td>123.666667</td>\n      <td>97.333333</td>\n      <td>58.000000</td>\n    </tr>\n    <tr>\n      <th>4</th>\n      <td>30000484</td>\n      <td>2136-01-15 22:02:00</td>\n      <td>-27120.0</td>\n      <td>False</td>\n      <td>93.000000</td>\n      <td>129.000000</td>\n      <td>113.000000</td>\n      <td>68.500000</td>\n    </tr>\n    <tr>\n      <th>5</th>\n      <td>30000484</td>\n      <td>2136-01-15 22:02:00</td>\n      <td>-25320.0</td>\n      <td>False</td>\n      <td>94.000000</td>\n      <td>133.000000</td>\n      <td>61.000000</td>\n      <td>79.000000</td>\n    </tr>\n    <tr>\n      <th>6</th>\n      <td>30000484</td>\n      <td>2136-01-15 22:02:00</td>\n      <td>-21720.0</td>\n      <td>False</td>\n      <td>93.000000</td>\n      <td>117.000000</td>\n      <td>74.000000</td>\n      <td>82.000000</td>\n    </tr>\n    <tr>\n      <th>7</th>\n      <td>30000484</td>\n      <td>2136-01-15 22:02:00</td>\n      <td>-18120.0</td>\n      <td>False</td>\n      <td>87.000000</td>\n      <td>119.000000</td>\n      <td>65.000000</td>\n      <td>78.000000</td>\n    </tr>\n    <tr>\n      <th>8</th>\n      <td>30000484</td>\n      <td>2136-01-15 22:02:00</td>\n      <td>-14520.0</td>\n      <td>False</td>\n      <td>89.000000</td>\n      <td>103.000000</td>\n      <td>22.000000</td>\n      <td>41.000000</td>\n    </tr>\n    <tr>\n      <th>9</th>\n      <td>30000484</td>\n      <td>2136-01-15 22:02:00</td>\n      <td>-10920.0</td>\n      <td>False</td>\n      <td>88.000000</td>\n      <td>118.000000</td>\n      <td>74.000000</td>\n      <td>82.000000</td>\n    </tr>\n    <tr>\n      <th>10</th>\n      <td>30000484</td>\n      <td>2136-01-15 22:02:00</td>\n      <td>-7320.0</td>\n      <td>False</td>\n      <td>90.000000</td>\n      <td>116.000000</td>\n      <td>62.000000</td>\n      <td>75.000000</td>\n    </tr>\n    <tr>\n      <th>11</th>\n      <td>30000484</td>\n      <td>2136-01-15 22:02:00</td>\n      <td>-3720.0</td>\n      <td>False</td>\n      <td>95.000000</td>\n      <td>137.000000</td>\n      <td>71.000000</td>\n      <td>87.000000</td>\n    </tr>\n    <tr>\n      <th>12</th>\n      <td>30000484</td>\n      <td>2136-01-15 22:02:00</td>\n      <td>-120.0</td>\n      <td>False</td>\n      <td>105.000000</td>\n      <td>147.000000</td>\n      <td>79.000000</td>\n      <td>96.000000</td>\n    </tr>\n    <tr>\n      <th>13</th>\n      <td>30000484</td>\n      <td>2136-01-15 22:02:00</td>\n      <td>3480.0</td>\n      <td>False</td>\n      <td>96.000000</td>\n      <td>126.000000</td>\n      <td>70.000000</td>\n      <td>81.000000</td>\n    </tr>\n    <tr>\n      <th>14</th>\n      <td>30000484</td>\n      <td>2136-01-15 22:02:00</td>\n      <td>7080.0</td>\n      <td>False</td>\n      <td>97.000000</td>\n      <td>106.327869</td>\n      <td>92.622951</td>\n      <td>95.754098</td>\n    </tr>\n    <tr>\n      <th>15</th>\n      <td>30000484</td>\n      <td>2136-01-15 22:02:00</td>\n      <td>7140.0</td>\n      <td>False</td>\n      <td>97.033333</td>\n      <td>106.000000</td>\n      <td>93.000000</td>\n      <td>96.000000</td>\n    </tr>\n    <tr>\n      <th>16</th>\n      <td>30000484</td>\n      <td>2136-01-15 22:02:00</td>\n      <td>10680.0</td>\n      <td>False</td>\n      <td>99.000000</td>\n      <td>138.408451</td>\n      <td>70.563380</td>\n      <td>86.859155</td>\n    </tr>\n    <tr>\n      <th>17</th>\n      <td>30000484</td>\n      <td>2136-01-15 22:02:00</td>\n      <td>11400.0</td>\n      <td>False</td>\n      <td>98.000000</td>\n      <td>145.000000</td>\n      <td>66.000000</td>\n      <td>85.000000</td>\n    </tr>\n    <tr>\n      <th>18</th>\n      <td>30000484</td>\n      <td>2136-01-15 22:02:00</td>\n      <td>14280.0</td>\n      <td>False</td>\n      <td>94.000000</td>\n      <td>126.000000</td>\n      <td>70.000000</td>\n      <td>82.000000</td>\n    </tr>\n    <tr>\n      <th>19</th>\n      <td>30000484</td>\n      <td>2136-01-15 22:02:00</td>\n      <td>17880.0</td>\n      <td>False</td>\n      <td>93.000000</td>\n      <td>121.000000</td>\n      <td>64.000000</td>\n      <td>77.000000</td>\n    </tr>\n    <tr>\n      <th>20</th>\n      <td>30000484</td>\n      <td>2136-01-15 22:02:00</td>\n      <td>21480.0</td>\n      <td>False</td>\n      <td>96.000000</td>\n      <td>126.000000</td>\n      <td>61.000000</td>\n      <td>76.000000</td>\n    </tr>\n    <tr>\n      <th>21</th>\n      <td>30000484</td>\n      <td>2136-01-15 22:02:00</td>\n      <td>25080.0</td>\n      <td>False</td>\n      <td>96.000000</td>\n      <td>118.000000</td>\n      <td>63.000000</td>\n      <td>75.000000</td>\n    </tr>\n    <tr>\n      <th>22</th>\n      <td>30000484</td>\n      <td>2136-01-15 22:02:00</td>\n      <td>28680.0</td>\n      <td>False</td>\n      <td>99.000000</td>\n      <td>141.000000</td>\n      <td>73.000000</td>\n      <td>87.000000</td>\n    </tr>\n    <tr>\n      <th>23</th>\n      <td>30000484</td>\n      <td>2136-01-15 22:02:00</td>\n      <td>32280.0</td>\n      <td>False</td>\n      <td>97.000000</td>\n      <td>131.000000</td>\n      <td>68.000000</td>\n      <td>84.000000</td>\n    </tr>\n    <tr>\n      <th>24</th>\n      <td>30000484</td>\n      <td>2136-01-15 22:02:00</td>\n      <td>35880.0</td>\n      <td>False</td>\n      <td>97.000000</td>\n      <td>136.000000</td>\n      <td>69.000000</td>\n      <td>84.000000</td>\n    </tr>\n    <tr>\n      <th>25</th>\n      <td>30000484</td>\n      <td>2136-01-15 22:02:00</td>\n      <td>39480.0</td>\n      <td>False</td>\n      <td>92.000000</td>\n      <td>111.000000</td>\n      <td>53.000000</td>\n      <td>67.000000</td>\n    </tr>\n    <tr>\n      <th>26</th>\n      <td>30000484</td>\n      <td>2136-01-15 22:02:00</td>\n      <td>43080.0</td>\n      <td>False</td>\n      <td>92.000000</td>\n      <td>117.000000</td>\n      <td>58.000000</td>\n      <td>73.000000</td>\n    </tr>\n    <tr>\n      <th>27</th>\n      <td>30004018</td>\n      <td>2158-12-30 06:15:00</td>\n      <td>-40500.0</td>\n      <td>False</td>\n      <td>97.000000</td>\n      <td>131.000000</td>\n      <td>60.000000</td>\n      <td>78.000000</td>\n    </tr>\n    <tr>\n      <th>28</th>\n      <td>30004018</td>\n      <td>2158-12-30 06:15:00</td>\n      <td>-36900.0</td>\n      <td>False</td>\n      <td>100.000000</td>\n      <td>130.000000</td>\n      <td>62.000000</td>\n      <td>76.000000</td>\n    </tr>\n    <tr>\n      <th>29</th>\n      <td>30004018</td>\n      <td>2158-12-30 06:15:00</td>\n      <td>-33300.0</td>\n      <td>False</td>\n      <td>96.000000</td>\n      <td>114.000000</td>\n      <td>53.000000</td>\n      <td>68.000000</td>\n    </tr>\n    <tr>\n      <th>30</th>\n      <td>30004018</td>\n      <td>2158-12-30 06:15:00</td>\n      <td>-29700.0</td>\n      <td>False</td>\n      <td>94.000000</td>\n      <td>112.000000</td>\n      <td>45.000000</td>\n      <td>62.000000</td>\n    </tr>\n    <tr>\n      <th>31</th>\n      <td>30004018</td>\n      <td>2158-12-30 06:15:00</td>\n      <td>-26100.0</td>\n      <td>False</td>\n      <td>102.000000</td>\n      <td>125.000000</td>\n      <td>65.000000</td>\n      <td>78.000000</td>\n    </tr>\n    <tr>\n      <th>32</th>\n      <td>30004018</td>\n      <td>2158-12-30 06:15:00</td>\n      <td>-22500.0</td>\n      <td>False</td>\n      <td>96.000000</td>\n      <td>118.000000</td>\n      <td>56.000000</td>\n      <td>70.000000</td>\n    </tr>\n    <tr>\n      <th>33</th>\n      <td>30004018</td>\n      <td>2158-12-30 06:15:00</td>\n      <td>-18900.0</td>\n      <td>False</td>\n      <td>100.000000</td>\n      <td>114.000000</td>\n      <td>65.000000</td>\n      <td>74.000000</td>\n    </tr>\n    <tr>\n      <th>34</th>\n      <td>30004018</td>\n      <td>2158-12-30 06:15:00</td>\n      <td>-15300.0</td>\n      <td>False</td>\n      <td>94.000000</td>\n      <td>106.000000</td>\n      <td>61.000000</td>\n      <td>73.000000</td>\n    </tr>\n    <tr>\n      <th>35</th>\n      <td>30004018</td>\n      <td>2158-12-30 06:15:00</td>\n      <td>-11700.0</td>\n      <td>False</td>\n      <td>91.000000</td>\n      <td>91.000000</td>\n      <td>53.000000</td>\n      <td>61.000000</td>\n    </tr>\n    <tr>\n      <th>36</th>\n      <td>30004018</td>\n      <td>2158-12-30 06:15:00</td>\n      <td>-8100.0</td>\n      <td>False</td>\n      <td>91.000000</td>\n      <td>104.000000</td>\n      <td>60.000000</td>\n      <td>72.000000</td>\n    </tr>\n    <tr>\n      <th>37</th>\n      <td>30004018</td>\n      <td>2158-12-30 06:15:00</td>\n      <td>-4500.0</td>\n      <td>False</td>\n      <td>92.000000</td>\n      <td>114.000000</td>\n      <td>66.000000</td>\n      <td>76.000000</td>\n    </tr>\n    <tr>\n      <th>38</th>\n      <td>30004018</td>\n      <td>2158-12-30 06:15:00</td>\n      <td>-900.0</td>\n      <td>False</td>\n      <td>97.000000</td>\n      <td>113.000000</td>\n      <td>64.000000</td>\n      <td>74.000000</td>\n    </tr>\n    <tr>\n      <th>39</th>\n      <td>30004018</td>\n      <td>2158-12-30 06:15:00</td>\n      <td>2700.0</td>\n      <td>False</td>\n      <td>95.000000</td>\n      <td>109.000000</td>\n      <td>58.000000</td>\n      <td>69.000000</td>\n    </tr>\n    <tr>\n      <th>40</th>\n      <td>30004018</td>\n      <td>2158-12-30 06:15:00</td>\n      <td>6300.0</td>\n      <td>False</td>\n      <td>103.000000</td>\n      <td>140.000000</td>\n      <td>83.000000</td>\n      <td>96.000000</td>\n    </tr>\n    <tr>\n      <th>41</th>\n      <td>30004018</td>\n      <td>2158-12-30 06:15:00</td>\n      <td>9900.0</td>\n      <td>False</td>\n      <td>99.000000</td>\n      <td>108.000000</td>\n      <td>46.000000</td>\n      <td>61.000000</td>\n    </tr>\n    <tr>\n      <th>42</th>\n      <td>30004018</td>\n      <td>2158-12-30 06:15:00</td>\n      <td>13500.0</td>\n      <td>False</td>\n      <td>100.000000</td>\n      <td>56.000000</td>\n      <td>21.000000</td>\n      <td>28.000000</td>\n    </tr>\n    <tr>\n      <th>43</th>\n      <td>30004018</td>\n      <td>2158-12-30 06:15:00</td>\n      <td>17100.0</td>\n      <td>False</td>\n      <td>99.000000</td>\n      <td>107.000000</td>\n      <td>53.000000</td>\n      <td>66.000000</td>\n    </tr>\n    <tr>\n      <th>44</th>\n      <td>30004018</td>\n      <td>2158-12-30 06:15:00</td>\n      <td>20700.0</td>\n      <td>False</td>\n      <td>101.000000</td>\n      <td>114.000000</td>\n      <td>57.000000</td>\n      <td>70.000000</td>\n    </tr>\n    <tr>\n      <th>45</th>\n      <td>30004018</td>\n      <td>2158-12-30 06:15:00</td>\n      <td>24300.0</td>\n      <td>False</td>\n      <td>98.000000</td>\n      <td>92.000000</td>\n      <td>48.000000</td>\n      <td>58.000000</td>\n    </tr>\n    <tr>\n      <th>46</th>\n      <td>30004018</td>\n      <td>2158-12-30 06:15:00</td>\n      <td>27900.0</td>\n      <td>False</td>\n      <td>97.000000</td>\n      <td>78.000000</td>\n      <td>38.000000</td>\n      <td>47.000000</td>\n    </tr>\n    <tr>\n      <th>47</th>\n      <td>30004018</td>\n      <td>2158-12-30 06:15:00</td>\n      <td>31500.0</td>\n      <td>False</td>\n      <td>94.000000</td>\n      <td>113.000000</td>\n      <td>49.000000</td>\n      <td>64.000000</td>\n    </tr>\n    <tr>\n      <th>48</th>\n      <td>30004018</td>\n      <td>2158-12-30 06:15:00</td>\n      <td>35100.0</td>\n      <td>False</td>\n      <td>89.000000</td>\n      <td>98.000000</td>\n      <td>46.000000</td>\n      <td>57.000000</td>\n    </tr>\n    <tr>\n      <th>49</th>\n      <td>30004018</td>\n      <td>2158-12-30 06:15:00</td>\n      <td>38700.0</td>\n      <td>False</td>\n      <td>95.000000</td>\n      <td>124.000000</td>\n      <td>73.000000</td>\n      <td>84.000000</td>\n    </tr>\n  </tbody>\n</table>\n</div>"
     },
     "execution_count": 480,
     "metadata": {},
     "output_type": "execute_result"
    }
   ],
   "source": [
    "import pandas as pd\n",
    "\n",
    "print(df.dtypes)\n",
    "# df = df.reset_index()\n",
    "df.set_index('charttime', inplace=True)\n",
    "\n",
    "def interpolate_group(group):\n",
    "    if group.name in data_arrays:\n",
    "        # Perform interpolation for the group\n",
    "        group = group.interpolate(method='time')\n",
    "\n",
    "    return group\n",
    "\n",
    "# Apply the interpolation function to each group\n",
    "df = df.apply(interpolate_group).reset_index()\n",
    "\n",
    "grouped_df = df[[\"stay_id\", \"dose_b_time\", \"timestep_float\",\"has_icd\"]+data_arrays]\n",
    "print(df.dtypes)\n",
    "print(grouped_df.columns)\n",
    "print(grouped_df.shape)\n",
    "grouped_df.head(50)"
   ],
   "metadata": {
    "collapsed": false,
    "ExecuteTime": {
     "end_time": "2023-11-03T04:44:29.411378400Z",
     "start_time": "2023-11-03T04:44:29.101119200Z"
    }
   },
   "id": "973f50807e404908"
  },
  {
   "cell_type": "markdown",
   "source": [
    "# Remove outliers"
   ],
   "metadata": {
    "collapsed": false
   },
   "id": "2f573370ebcbbac0"
  },
  {
   "cell_type": "code",
   "execution_count": 481,
   "outputs": [
    {
     "name": "stdout",
     "output_type": "stream",
     "text": [
      "           val\n",
      "count  11904.0\n",
      "mean       2.0\n",
      "std        0.0\n",
      "min        2.0\n",
      "1%         2.0\n",
      "2.5%       2.0\n",
      "25%        2.0\n",
      "50%        2.0\n",
      "75%        2.0\n",
      "97.5%      2.0\n",
      "99%        2.0\n",
      "99.9%      2.0\n",
      "max        2.0\n",
      "stay_id                   int64\n",
      "dose_b_time       datetime64[s]\n",
      "timestep_float          float64\n",
      "has_icd                    bool\n",
      "heart_rate              float64\n",
      "sbp                     float64\n",
      "dbp                     float64\n",
      "mbp                     float64\n",
      "dtype: object\n",
      "['heart_rate', 'sbp', 'dbp', 'mbp', 'timestep_float']\n",
      "['heart_rate', 'sbp', 'dbp', 'mbp']\n",
      "2\n"
     ]
    },
    {
     "data": {
      "text/plain": "         stay_id         dose_b_time  timestep_float  has_icd  heart_rate  \\\n0       30000484 2136-01-15 22:02:00        -39720.0    False        94.0   \n1       30000484 2136-01-15 22:02:00        -36120.0    False        93.0   \n2       30000484 2136-01-15 22:02:00        -32520.0    False        95.0   \n3       30000484 2136-01-15 22:02:00        -28920.0    False        92.0   \n4       30000484 2136-01-15 22:02:00        -27120.0    False        93.0   \n...          ...                 ...             ...      ...         ...   \n397152  39999230 2147-09-08 00:23:00         27420.0     True        69.0   \n397153  39999230 2147-09-08 00:23:00         31020.0     True        79.0   \n397154  39999230 2147-09-08 00:23:00         34620.0     True        66.0   \n397155  39999230 2147-09-08 00:23:00         38220.0     True        63.0   \n397156  39999230 2147-09-08 00:23:00         41820.0     True        76.0   \n\n               sbp         dbp   mbp  \n0       108.000000   43.000000  60.0  \n1       114.000000   44.000000  60.0  \n2       113.000000   66.000000  72.0  \n3       123.666667   97.333333  58.0  \n4       129.000000  113.000000  68.5  \n...            ...         ...   ...  \n397152  117.000000   58.000000  79.0  \n397153  123.000000   65.000000  87.0  \n397154  111.000000   59.000000  78.0  \n397155  110.000000   57.000000  76.0  \n397156  114.000000   68.000000  83.0  \n\n[393998 rows x 8 columns]",
      "text/html": "<div>\n<style scoped>\n    .dataframe tbody tr th:only-of-type {\n        vertical-align: middle;\n    }\n\n    .dataframe tbody tr th {\n        vertical-align: top;\n    }\n\n    .dataframe thead th {\n        text-align: right;\n    }\n</style>\n<table border=\"1\" class=\"dataframe\">\n  <thead>\n    <tr style=\"text-align: right;\">\n      <th></th>\n      <th>stay_id</th>\n      <th>dose_b_time</th>\n      <th>timestep_float</th>\n      <th>has_icd</th>\n      <th>heart_rate</th>\n      <th>sbp</th>\n      <th>dbp</th>\n      <th>mbp</th>\n    </tr>\n  </thead>\n  <tbody>\n    <tr>\n      <th>0</th>\n      <td>30000484</td>\n      <td>2136-01-15 22:02:00</td>\n      <td>-39720.0</td>\n      <td>False</td>\n      <td>94.0</td>\n      <td>108.000000</td>\n      <td>43.000000</td>\n      <td>60.0</td>\n    </tr>\n    <tr>\n      <th>1</th>\n      <td>30000484</td>\n      <td>2136-01-15 22:02:00</td>\n      <td>-36120.0</td>\n      <td>False</td>\n      <td>93.0</td>\n      <td>114.000000</td>\n      <td>44.000000</td>\n      <td>60.0</td>\n    </tr>\n    <tr>\n      <th>2</th>\n      <td>30000484</td>\n      <td>2136-01-15 22:02:00</td>\n      <td>-32520.0</td>\n      <td>False</td>\n      <td>95.0</td>\n      <td>113.000000</td>\n      <td>66.000000</td>\n      <td>72.0</td>\n    </tr>\n    <tr>\n      <th>3</th>\n      <td>30000484</td>\n      <td>2136-01-15 22:02:00</td>\n      <td>-28920.0</td>\n      <td>False</td>\n      <td>92.0</td>\n      <td>123.666667</td>\n      <td>97.333333</td>\n      <td>58.0</td>\n    </tr>\n    <tr>\n      <th>4</th>\n      <td>30000484</td>\n      <td>2136-01-15 22:02:00</td>\n      <td>-27120.0</td>\n      <td>False</td>\n      <td>93.0</td>\n      <td>129.000000</td>\n      <td>113.000000</td>\n      <td>68.5</td>\n    </tr>\n    <tr>\n      <th>...</th>\n      <td>...</td>\n      <td>...</td>\n      <td>...</td>\n      <td>...</td>\n      <td>...</td>\n      <td>...</td>\n      <td>...</td>\n      <td>...</td>\n    </tr>\n    <tr>\n      <th>397152</th>\n      <td>39999230</td>\n      <td>2147-09-08 00:23:00</td>\n      <td>27420.0</td>\n      <td>True</td>\n      <td>69.0</td>\n      <td>117.000000</td>\n      <td>58.000000</td>\n      <td>79.0</td>\n    </tr>\n    <tr>\n      <th>397153</th>\n      <td>39999230</td>\n      <td>2147-09-08 00:23:00</td>\n      <td>31020.0</td>\n      <td>True</td>\n      <td>79.0</td>\n      <td>123.000000</td>\n      <td>65.000000</td>\n      <td>87.0</td>\n    </tr>\n    <tr>\n      <th>397154</th>\n      <td>39999230</td>\n      <td>2147-09-08 00:23:00</td>\n      <td>34620.0</td>\n      <td>True</td>\n      <td>66.0</td>\n      <td>111.000000</td>\n      <td>59.000000</td>\n      <td>78.0</td>\n    </tr>\n    <tr>\n      <th>397155</th>\n      <td>39999230</td>\n      <td>2147-09-08 00:23:00</td>\n      <td>38220.0</td>\n      <td>True</td>\n      <td>63.0</td>\n      <td>110.000000</td>\n      <td>57.000000</td>\n      <td>76.0</td>\n    </tr>\n    <tr>\n      <th>397156</th>\n      <td>39999230</td>\n      <td>2147-09-08 00:23:00</td>\n      <td>41820.0</td>\n      <td>True</td>\n      <td>76.0</td>\n      <td>114.000000</td>\n      <td>68.000000</td>\n      <td>83.0</td>\n    </tr>\n  </tbody>\n</table>\n<p>393998 rows × 8 columns</p>\n</div>"
     },
     "execution_count": 481,
     "metadata": {},
     "output_type": "execute_result"
    }
   ],
   "source": [
    "# reduce the size of the data arrays to the p999 to get rid of the extreme outliers\n",
    "length = pd.DataFrame()\n",
    "length[\"val\"] = [len(array) for array in grouped_df.groupby([\"stay_id\", \"dose_b_time\"])[\"mbp\"]]\n",
    "print(length.describe(percentiles=[0.01, 0.025, 0.25, 0.5, 0.75, 0.975, 0.99, 0.999]))\n",
    "print(grouped_df.dtypes)\n",
    "max_size = 90  # p999\n",
    "\n",
    "data_array_with_time = data_arrays.copy()\n",
    "data_array_with_time.append(\"timestep_float\")\n",
    "print(data_array_with_time)\n",
    "print(data_arrays)\n",
    "\n",
    "grouped_df = grouped_df.groupby([\"stay_id\", \"dose_b_time\"]).head(max_size)\n",
    "\n",
    "max_sequence_length = max(len(array) for array in grouped_df.groupby([\"stay_id\", \"dose_b_time\"])[\"sbp\"])\n",
    "print(max_sequence_length)\n",
    "\n",
    "grouped_df"
   ],
   "metadata": {
    "collapsed": false,
    "ExecuteTime": {
     "end_time": "2023-11-03T04:44:30.513181600Z",
     "start_time": "2023-11-03T04:44:29.390427500Z"
    }
   },
   "id": "7577b32922b217c7"
  },
  {
   "cell_type": "markdown",
   "source": [
    "# Unify timesteps\n",
    "The time measurement data varies per dosage, this step aligns all the time steps to 10 minute intervals, and interpolates between our \n",
    "existing time measures to produce 12 hours of 10 minute timestaps "
   ],
   "metadata": {
    "collapsed": false
   },
   "id": "7d458e55c120a81b"
  },
  {
   "cell_type": "code",
   "execution_count": 482,
   "outputs": [
    {
     "name": "stdout",
     "output_type": "stream",
     "text": [
      "                                          intr-heart_rate  intr-sbp  intr-dbp  \\\n",
      "stay_id  has_icd dose_b_time                                                    \n",
      "30000484 False   2136-01-15 22:02:00 0              105.0     147.0      79.0   \n",
      "                                     1              105.0     147.0      79.0   \n",
      "                                     2              105.0     147.0      79.0   \n",
      "                                     3              105.0     147.0      79.0   \n",
      "                                     4              105.0     147.0      79.0   \n",
      "...                                                   ...       ...       ...   \n",
      "39999230 True    2147-09-08 00:23:00 139             66.0     110.0      57.0   \n",
      "                                     140             66.0     110.0      57.0   \n",
      "                                     141             66.0     110.0      57.0   \n",
      "                                     142             66.0     110.0      57.0   \n",
      "                                     143             66.0     110.0      57.0   \n",
      "\n",
      "                                          intr-mbp  common_timestep  \n",
      "stay_id  has_icd dose_b_time                                         \n",
      "30000484 False   2136-01-15 22:02:00 0        96.0             -720  \n",
      "                                     1        96.0             -710  \n",
      "                                     2        96.0             -700  \n",
      "                                     3        96.0             -690  \n",
      "                                     4        96.0             -680  \n",
      "...                                            ...              ...  \n",
      "39999230 True    2147-09-08 00:23:00 139      76.0              670  \n",
      "                                     140      76.0              680  \n",
      "                                     141      76.0              690  \n",
      "                                     142      76.0              700  \n",
      "                                     143      76.0              710  \n",
      "\n",
      "[1714176 rows x 5 columns]\n"
     ]
    },
    {
     "data": {
      "text/plain": "                                         intr-heart_rate  intr-sbp  intr-dbp  \\\nstay_id  has_icd dose_b_time                                                   \n30000484 False   2136-01-15 22:02:00 0             105.0     147.0      79.0   \n                                     1             105.0     147.0      79.0   \n                                     2             105.0     147.0      79.0   \n                                     3             105.0     147.0      79.0   \n                                     4             105.0     147.0      79.0   \n...                                                  ...       ...       ...   \n30004144 True    2126-04-04 18:43:00 63             81.0     115.0      56.0   \n                                     64             81.0     115.0      56.0   \n                                     65             81.0     115.0      56.0   \n                                     66             81.0     115.0      56.0   \n                                     67             81.0     115.0      56.0   \n\n                                         intr-mbp  common_timestep  \nstay_id  has_icd dose_b_time                                        \n30000484 False   2136-01-15 22:02:00 0       96.0             -720  \n                                     1       96.0             -710  \n                                     2       96.0             -700  \n                                     3       96.0             -690  \n                                     4       96.0             -680  \n...                                           ...              ...  \n30004144 True    2126-04-04 18:43:00 63      74.0              -90  \n                                     64      74.0              -80  \n                                     65      74.0              -70  \n                                     66      74.0              -60  \n                                     67      74.0              -50  \n\n[500 rows x 5 columns]",
      "text/html": "<div>\n<style scoped>\n    .dataframe tbody tr th:only-of-type {\n        vertical-align: middle;\n    }\n\n    .dataframe tbody tr th {\n        vertical-align: top;\n    }\n\n    .dataframe thead th {\n        text-align: right;\n    }\n</style>\n<table border=\"1\" class=\"dataframe\">\n  <thead>\n    <tr style=\"text-align: right;\">\n      <th></th>\n      <th></th>\n      <th></th>\n      <th></th>\n      <th>intr-heart_rate</th>\n      <th>intr-sbp</th>\n      <th>intr-dbp</th>\n      <th>intr-mbp</th>\n      <th>common_timestep</th>\n    </tr>\n    <tr>\n      <th>stay_id</th>\n      <th>has_icd</th>\n      <th>dose_b_time</th>\n      <th></th>\n      <th></th>\n      <th></th>\n      <th></th>\n      <th></th>\n      <th></th>\n    </tr>\n  </thead>\n  <tbody>\n    <tr>\n      <th rowspan=\"5\" valign=\"top\">30000484</th>\n      <th rowspan=\"5\" valign=\"top\">False</th>\n      <th rowspan=\"5\" valign=\"top\">2136-01-15 22:02:00</th>\n      <th>0</th>\n      <td>105.0</td>\n      <td>147.0</td>\n      <td>79.0</td>\n      <td>96.0</td>\n      <td>-720</td>\n    </tr>\n    <tr>\n      <th>1</th>\n      <td>105.0</td>\n      <td>147.0</td>\n      <td>79.0</td>\n      <td>96.0</td>\n      <td>-710</td>\n    </tr>\n    <tr>\n      <th>2</th>\n      <td>105.0</td>\n      <td>147.0</td>\n      <td>79.0</td>\n      <td>96.0</td>\n      <td>-700</td>\n    </tr>\n    <tr>\n      <th>3</th>\n      <td>105.0</td>\n      <td>147.0</td>\n      <td>79.0</td>\n      <td>96.0</td>\n      <td>-690</td>\n    </tr>\n    <tr>\n      <th>4</th>\n      <td>105.0</td>\n      <td>147.0</td>\n      <td>79.0</td>\n      <td>96.0</td>\n      <td>-680</td>\n    </tr>\n    <tr>\n      <th>...</th>\n      <th>...</th>\n      <th>...</th>\n      <th>...</th>\n      <td>...</td>\n      <td>...</td>\n      <td>...</td>\n      <td>...</td>\n      <td>...</td>\n    </tr>\n    <tr>\n      <th rowspan=\"5\" valign=\"top\">30004144</th>\n      <th rowspan=\"5\" valign=\"top\">True</th>\n      <th rowspan=\"5\" valign=\"top\">2126-04-04 18:43:00</th>\n      <th>63</th>\n      <td>81.0</td>\n      <td>115.0</td>\n      <td>56.0</td>\n      <td>74.0</td>\n      <td>-90</td>\n    </tr>\n    <tr>\n      <th>64</th>\n      <td>81.0</td>\n      <td>115.0</td>\n      <td>56.0</td>\n      <td>74.0</td>\n      <td>-80</td>\n    </tr>\n    <tr>\n      <th>65</th>\n      <td>81.0</td>\n      <td>115.0</td>\n      <td>56.0</td>\n      <td>74.0</td>\n      <td>-70</td>\n    </tr>\n    <tr>\n      <th>66</th>\n      <td>81.0</td>\n      <td>115.0</td>\n      <td>56.0</td>\n      <td>74.0</td>\n      <td>-60</td>\n    </tr>\n    <tr>\n      <th>67</th>\n      <td>81.0</td>\n      <td>115.0</td>\n      <td>56.0</td>\n      <td>74.0</td>\n      <td>-50</td>\n    </tr>\n  </tbody>\n</table>\n<p>500 rows × 5 columns</p>\n</div>"
     },
     "execution_count": 482,
     "metadata": {},
     "output_type": "execute_result"
    }
   ],
   "source": [
    "# first fill blank values through interpellation\n",
    "from scipy.interpolate import interp1d\n",
    "\n",
    "HOURS = 12\n",
    "MIN_INCREMENTS = 10\n",
    "\n",
    "def interpolate_row(row):\n",
    "    vals = pd.DataFrame()\n",
    "    time_steps = np.array(row[\"timestep_float\"])\n",
    "    common_time_interval = range(HOURS * -60, HOURS * 60, MIN_INCREMENTS)\n",
    "\n",
    "    for data_array in data_arrays:\n",
    "        interp_func = interp1d(time_steps, row[data_array], kind='next', fill_value='extrapolate')\n",
    "        vals[\"intr-\" + data_array] = interp_func(common_time_interval)\n",
    "\n",
    "    vals[\"common_timestep\"] = common_time_interval\n",
    "    return vals\n",
    "\n",
    "\n",
    "# Apply the function to the specific subset of rows\n",
    "interpolated_df = grouped_df.groupby(['stay_id', 'has_icd', 'dose_b_time']).apply(interpolate_row)\n",
    "print(interpolated_df)\n",
    "\n",
    "interpolated_df.head(500)"
   ],
   "metadata": {
    "collapsed": false,
    "ExecuteTime": {
     "end_time": "2023-11-03T04:45:01.721028400Z",
     "start_time": "2023-11-03T04:44:30.501214400Z"
    }
   },
   "id": "5bf9396b30fdfa6e"
  },
  {
   "cell_type": "markdown",
   "source": [
    "# Normalise and scale data"
   ],
   "metadata": {
    "collapsed": false
   },
   "id": "26913a26a7502d87"
  },
  {
   "cell_type": "code",
   "execution_count": 483,
   "outputs": [
    {
     "name": "stdout",
     "output_type": "stream",
     "text": [
      "['intr-heart_rate', 'intr-sbp', 'intr-dbp', 'intr-mbp']\n",
      "                                         intr-heart_rate  intr-sbp  intr-dbp  \\\n",
      "stay_id  has_icd dose_b_time                                                   \n",
      "30000484 False   2136-01-15 22:02:00 0              0.68  1.103448  1.176471   \n",
      "                                     1              0.68  1.103448  1.176471   \n",
      "                                     2              0.68  1.103448  1.176471   \n",
      "                                     3              0.68  1.103448  1.176471   \n",
      "                                     4              0.68  1.103448  1.176471   \n",
      "                                     5              0.68  1.103448  1.176471   \n",
      "                                     6              0.68  1.103448  1.176471   \n",
      "                                     7              0.68  1.103448  1.176471   \n",
      "                                     8              0.68  1.103448  1.176471   \n",
      "                                     9              0.68  1.103448  1.176471   \n",
      "                                     10             0.68  1.103448  1.176471   \n",
      "                                     11             0.68  1.103448  1.176471   \n",
      "                                     12             0.68  1.103448  1.176471   \n",
      "                                     13             0.68  1.103448  1.176471   \n",
      "                                     14             0.68  1.103448  1.176471   \n",
      "                                     15             0.68  1.103448  1.176471   \n",
      "                                     16             0.68  1.103448  1.176471   \n",
      "                                     17             0.68  1.103448  1.176471   \n",
      "                                     18             0.68  1.103448  1.176471   \n",
      "                                     19             0.68  1.103448  1.176471   \n",
      "                                     20             0.68  1.103448  1.176471   \n",
      "                                     21             0.68  1.103448  1.176471   \n",
      "                                     22             0.68  1.103448  1.176471   \n",
      "                                     23             0.68  1.103448  1.176471   \n",
      "                                     24             0.68  1.103448  1.176471   \n",
      "                                     25             0.68  1.103448  1.176471   \n",
      "                                     26             0.68  1.103448  1.176471   \n",
      "                                     27             0.68  1.103448  1.176471   \n",
      "                                     28             0.68  1.103448  1.176471   \n",
      "                                     29             0.68  1.103448  1.176471   \n",
      "                                     30             0.68  1.103448  1.176471   \n",
      "                                     31             0.68  1.103448  1.176471   \n",
      "                                     32             0.68  1.103448  1.176471   \n",
      "                                     33             0.68  1.103448  1.176471   \n",
      "                                     34             0.68  1.103448  1.176471   \n",
      "                                     35             0.68  1.103448  1.176471   \n",
      "                                     36             0.68  1.103448  1.176471   \n",
      "                                     37             0.68  1.103448  1.176471   \n",
      "                                     38             0.68  1.103448  1.176471   \n",
      "                                     39             0.68  1.103448  1.176471   \n",
      "                                     40             0.68  1.103448  1.176471   \n",
      "                                     41             0.68  1.103448  1.176471   \n",
      "                                     42             0.68  1.103448  1.176471   \n",
      "                                     43             0.68  1.103448  1.176471   \n",
      "                                     44             0.68  1.103448  1.176471   \n",
      "                                     45             0.68  1.103448  1.176471   \n",
      "                                     46             0.68  1.103448  1.176471   \n",
      "                                     47             0.68  1.103448  1.176471   \n",
      "                                     48             0.68  1.103448  1.176471   \n",
      "                                     49             0.68  1.103448  1.176471   \n",
      "\n",
      "                                         intr-mbp  common_timestep  \n",
      "stay_id  has_icd dose_b_time                                        \n",
      "30000484 False   2136-01-15 22:02:00 0   1.064035             -720  \n",
      "                                     1   1.064035             -710  \n",
      "                                     2   1.064035             -700  \n",
      "                                     3   1.064035             -690  \n",
      "                                     4   1.064035             -680  \n",
      "                                     5   1.064035             -670  \n",
      "                                     6   1.064035             -660  \n",
      "                                     7   1.064035             -650  \n",
      "                                     8   1.064035             -640  \n",
      "                                     9   1.064035             -630  \n",
      "                                     10  1.064035             -620  \n",
      "                                     11  1.064035             -610  \n",
      "                                     12  1.064035             -600  \n",
      "                                     13  1.064035             -590  \n",
      "                                     14  1.064035             -580  \n",
      "                                     15  1.064035             -570  \n",
      "                                     16  1.064035             -560  \n",
      "                                     17  1.064035             -550  \n",
      "                                     18  1.064035             -540  \n",
      "                                     19  1.064035             -530  \n",
      "                                     20  1.064035             -520  \n",
      "                                     21  1.064035             -510  \n",
      "                                     22  1.064035             -500  \n",
      "                                     23  1.064035             -490  \n",
      "                                     24  1.064035             -480  \n",
      "                                     25  1.064035             -470  \n",
      "                                     26  1.064035             -460  \n",
      "                                     27  1.064035             -450  \n",
      "                                     28  1.064035             -440  \n",
      "                                     29  1.064035             -430  \n",
      "                                     30  1.064035             -420  \n",
      "                                     31  1.064035             -410  \n",
      "                                     32  1.064035             -400  \n",
      "                                     33  1.064035             -390  \n",
      "                                     34  1.064035             -380  \n",
      "                                     35  1.064035             -370  \n",
      "                                     36  1.064035             -360  \n",
      "                                     37  1.064035             -350  \n",
      "                                     38  1.064035             -340  \n",
      "                                     39  1.064035             -330  \n",
      "                                     40  1.064035             -320  \n",
      "                                     41  1.064035             -310  \n",
      "                                     42  1.064035             -300  \n",
      "                                     43  1.064035             -290  \n",
      "                                     44  1.064035             -280  \n",
      "                                     45  1.064035             -270  \n",
      "                                     46  1.064035             -260  \n",
      "                                     47  1.064035             -250  \n",
      "                                     48  1.064035             -240  \n",
      "                                     49  1.064035             -230  \n"
     ]
    }
   ],
   "source": [
    "from sklearn.preprocessing import RobustScaler\n",
    "# \n",
    "features = []\n",
    "for data in data_arrays:\n",
    "    features.append('intr-'+data)\n",
    "\n",
    "print(features)\n",
    "# Initialize the RobustScaler\n",
    "scaler = RobustScaler()\n",
    "\n",
    "# Fit and transform the column\n",
    "\n",
    "for feature in features:\n",
    "    interpolated_df[feature] = scaler.fit_transform(interpolated_df[[feature]])\n",
    "\n",
    "print(interpolated_df.head(50))\n"
   ],
   "metadata": {
    "collapsed": false,
    "ExecuteTime": {
     "end_time": "2023-11-03T04:45:01.985359300Z",
     "start_time": "2023-11-03T04:45:01.722025200Z"
    }
   },
   "id": "87733823e74147e8"
  },
  {
   "cell_type": "code",
   "execution_count": 484,
   "outputs": [
    {
     "name": "stdout",
     "output_type": "stream",
     "text": [
      "1724\n",
      "3448\n",
      "0.5\n"
     ]
    },
    {
     "data": {
      "text/plain": "(1714176, 9)"
     },
     "execution_count": 484,
     "metadata": {},
     "output_type": "execute_result"
    }
   ],
   "source": [
    "interpolated_df = interpolated_df.reset_index()\n",
    "print(interpolated_df.groupby(['stay_id'])['has_icd'].agg(lambda x : all(x)).sum())\n",
    "has_icd = interpolated_df.groupby(['stay_id'])['has_icd'].agg(lambda x : all(x)).sum()\n",
    "print(len(interpolated_df['stay_id'].unique()))\n",
    "print (has_icd / len(interpolated_df['stay_id'].unique()))\n",
    "interpolated_df.shape"
   ],
   "metadata": {
    "collapsed": false,
    "ExecuteTime": {
     "end_time": "2023-11-03T04:45:03.679175900Z",
     "start_time": "2023-11-03T04:45:01.954438500Z"
    }
   },
   "id": "162e8aa935f5f712"
  },
  {
   "cell_type": "code",
   "execution_count": 485,
   "outputs": [
    {
     "data": {
      "text/plain": "     stay_id  has_icd         dose_b_time  level_3  intr-heart_rate  intr-sbp  \\\n0   30000484    False 2136-01-15 22:02:00        0             0.68  1.103448   \n1   30000484    False 2136-01-15 22:02:00        1             0.68  1.103448   \n2   30000484    False 2136-01-15 22:02:00        2             0.68  1.103448   \n3   30000484    False 2136-01-15 22:02:00        3             0.68  1.103448   \n4   30000484    False 2136-01-15 22:02:00        4             0.68  1.103448   \n..       ...      ...                 ...      ...              ...       ...   \n95  30000484    False 2136-01-15 22:02:00       95             0.32  0.379310   \n96  30000484    False 2136-01-15 22:02:00       96             0.32  0.379310   \n97  30000484    False 2136-01-15 22:02:00       97             0.32  0.379310   \n98  30000484    False 2136-01-15 22:02:00       98             0.32  0.379310   \n99  30000484    False 2136-01-15 22:02:00       99             0.32  0.379310   \n\n    intr-dbp  intr-mbp  common_timestep  \n0   1.176471  1.064035             -720  \n1   1.176471  1.064035             -710  \n2   1.176471  1.064035             -700  \n3   1.176471  1.064035             -690  \n4   1.176471  1.064035             -680  \n..       ...       ...              ...  \n95  0.647059  0.274561              230  \n96  0.647059  0.274561              240  \n97  0.647059  0.274561              250  \n98  0.647059  0.274561              260  \n99  0.647059  0.274561              270  \n\n[100 rows x 9 columns]",
      "text/html": "<div>\n<style scoped>\n    .dataframe tbody tr th:only-of-type {\n        vertical-align: middle;\n    }\n\n    .dataframe tbody tr th {\n        vertical-align: top;\n    }\n\n    .dataframe thead th {\n        text-align: right;\n    }\n</style>\n<table border=\"1\" class=\"dataframe\">\n  <thead>\n    <tr style=\"text-align: right;\">\n      <th></th>\n      <th>stay_id</th>\n      <th>has_icd</th>\n      <th>dose_b_time</th>\n      <th>level_3</th>\n      <th>intr-heart_rate</th>\n      <th>intr-sbp</th>\n      <th>intr-dbp</th>\n      <th>intr-mbp</th>\n      <th>common_timestep</th>\n    </tr>\n  </thead>\n  <tbody>\n    <tr>\n      <th>0</th>\n      <td>30000484</td>\n      <td>False</td>\n      <td>2136-01-15 22:02:00</td>\n      <td>0</td>\n      <td>0.68</td>\n      <td>1.103448</td>\n      <td>1.176471</td>\n      <td>1.064035</td>\n      <td>-720</td>\n    </tr>\n    <tr>\n      <th>1</th>\n      <td>30000484</td>\n      <td>False</td>\n      <td>2136-01-15 22:02:00</td>\n      <td>1</td>\n      <td>0.68</td>\n      <td>1.103448</td>\n      <td>1.176471</td>\n      <td>1.064035</td>\n      <td>-710</td>\n    </tr>\n    <tr>\n      <th>2</th>\n      <td>30000484</td>\n      <td>False</td>\n      <td>2136-01-15 22:02:00</td>\n      <td>2</td>\n      <td>0.68</td>\n      <td>1.103448</td>\n      <td>1.176471</td>\n      <td>1.064035</td>\n      <td>-700</td>\n    </tr>\n    <tr>\n      <th>3</th>\n      <td>30000484</td>\n      <td>False</td>\n      <td>2136-01-15 22:02:00</td>\n      <td>3</td>\n      <td>0.68</td>\n      <td>1.103448</td>\n      <td>1.176471</td>\n      <td>1.064035</td>\n      <td>-690</td>\n    </tr>\n    <tr>\n      <th>4</th>\n      <td>30000484</td>\n      <td>False</td>\n      <td>2136-01-15 22:02:00</td>\n      <td>4</td>\n      <td>0.68</td>\n      <td>1.103448</td>\n      <td>1.176471</td>\n      <td>1.064035</td>\n      <td>-680</td>\n    </tr>\n    <tr>\n      <th>...</th>\n      <td>...</td>\n      <td>...</td>\n      <td>...</td>\n      <td>...</td>\n      <td>...</td>\n      <td>...</td>\n      <td>...</td>\n      <td>...</td>\n      <td>...</td>\n    </tr>\n    <tr>\n      <th>95</th>\n      <td>30000484</td>\n      <td>False</td>\n      <td>2136-01-15 22:02:00</td>\n      <td>95</td>\n      <td>0.32</td>\n      <td>0.379310</td>\n      <td>0.647059</td>\n      <td>0.274561</td>\n      <td>230</td>\n    </tr>\n    <tr>\n      <th>96</th>\n      <td>30000484</td>\n      <td>False</td>\n      <td>2136-01-15 22:02:00</td>\n      <td>96</td>\n      <td>0.32</td>\n      <td>0.379310</td>\n      <td>0.647059</td>\n      <td>0.274561</td>\n      <td>240</td>\n    </tr>\n    <tr>\n      <th>97</th>\n      <td>30000484</td>\n      <td>False</td>\n      <td>2136-01-15 22:02:00</td>\n      <td>97</td>\n      <td>0.32</td>\n      <td>0.379310</td>\n      <td>0.647059</td>\n      <td>0.274561</td>\n      <td>250</td>\n    </tr>\n    <tr>\n      <th>98</th>\n      <td>30000484</td>\n      <td>False</td>\n      <td>2136-01-15 22:02:00</td>\n      <td>98</td>\n      <td>0.32</td>\n      <td>0.379310</td>\n      <td>0.647059</td>\n      <td>0.274561</td>\n      <td>260</td>\n    </tr>\n    <tr>\n      <th>99</th>\n      <td>30000484</td>\n      <td>False</td>\n      <td>2136-01-15 22:02:00</td>\n      <td>99</td>\n      <td>0.32</td>\n      <td>0.379310</td>\n      <td>0.647059</td>\n      <td>0.274561</td>\n      <td>270</td>\n    </tr>\n  </tbody>\n</table>\n<p>100 rows × 9 columns</p>\n</div>"
     },
     "execution_count": 485,
     "metadata": {},
     "output_type": "execute_result"
    }
   ],
   "source": [
    "interpolated_df.head(100)"
   ],
   "metadata": {
    "collapsed": false,
    "ExecuteTime": {
     "end_time": "2023-11-03T04:45:03.691983200Z",
     "start_time": "2023-11-03T04:45:03.653202500Z"
    }
   },
   "id": "2991c8f1f2b5fd9b"
  },
  {
   "cell_type": "markdown",
   "source": [
    "# Reshape the arrays to be a uniform 3D tensor\n",
    "Pads with extra zeros for dosages that do not have max_dosage measures"
   ],
   "metadata": {
    "collapsed": false
   },
   "id": "2b115ba2a4b575ed"
  },
  {
   "cell_type": "code",
   "execution_count": 486,
   "outputs": [
    {
     "name": "stdout",
     "output_type": "stream",
     "text": [
      "count    7145.0\n",
      "mean      144.0\n",
      "std         0.0\n",
      "min       144.0\n",
      "25%       144.0\n",
      "50%       144.0\n",
      "75%       144.0\n",
      "max       144.0\n",
      "Name: common_timestep, dtype: float64\n",
      "count    4759.0\n",
      "mean      144.0\n",
      "std         0.0\n",
      "min       144.0\n",
      "25%       144.0\n",
      "50%       144.0\n",
      "75%       144.0\n",
      "max       144.0\n",
      "Name: common_timestep, dtype: float64\n",
      "Max sequence length 144\n",
      "Max dosages 10\n",
      "Found array values with NaN 30007565 \n",
      "Found array values with NaN 30062341 \n",
      "Found array values with NaN 30215114 \n",
      "Found array values with NaN 30282193 \n",
      "Found array values with NaN 30459604 \n",
      "Found array values with NaN 30709267 \n",
      "Found array values with NaN 30865290 \n",
      "Found array values with NaN 31035417 \n",
      "Found array values with NaN 31044655 \n",
      "Found array values with NaN 31169797 \n",
      "Found array values with NaN 31277766 \n",
      "Found array values with NaN 31339001 \n",
      "Found array values with NaN 31651307 \n",
      "Found array values with NaN 31706336 \n",
      "Found array values with NaN 31762339 \n",
      "Found array values with NaN 31762339 \n",
      "Found array values with NaN 31762339 \n",
      "Found array values with NaN 31848963 \n",
      "Found array values with NaN 32636257 \n",
      "Found array values with NaN 33682689 \n",
      "Found array values with NaN 33682689 \n",
      "Found array values with NaN 33883845 \n",
      "Found array values with NaN 33995657 \n",
      "Found array values with NaN 34188978 \n",
      "Found array values with NaN 34478728 \n",
      "Found array values with NaN 34912155 \n",
      "Found array values with NaN 34960775 \n",
      "Found array values with NaN 35543685 \n",
      "Found array values with NaN 36149963 \n",
      "Found array values with NaN 36355994 \n",
      "Found array values with NaN 36400935 \n",
      "Found array values with NaN 36400935 \n",
      "Found array values with NaN 36644426 \n",
      "Found array values with NaN 37764963 \n",
      "Found array values with NaN 37974899 \n",
      "Found array values with NaN 38466543 \n",
      "Found array values with NaN 38581674 \n",
      "Found array values with NaN 38637564 \n",
      "Found array values with NaN 39205095 \n",
      "Found array values with NaN 39425075 \n",
      "Original shape (3440, 4, 144, 4)\n",
      "4\n",
      "Reshaped X (3440, 144, 16)\n",
      "Shape of Y (3440,)\n",
      "Found 40 - [30007565, 30062341, 30215114, 30282193, 30459604, 30709267, 30865290, 31035417, 31044655, 31169797, 31277766, 31339001, 31651307, 31706336, 31762339, 31762339, 31762339, 31848963, 32636257, 33682689, 33682689, 33883845, 33995657, 34188978, 34478728, 34912155, 34960775, 35543685, 36149963, 36355994, 36400935, 36400935, 36644426, 37764963, 37974899, 38466543, 38581674, 38637564, 39205095, 39425075]\n"
     ]
    }
   ],
   "source": [
    "from numpy import shape\n",
    "from keras_preprocessing.sequence import pad_sequences\n",
    "\n",
    "target = 'has_icd'\n",
    "\n",
    "# Extract features and timestep data\n",
    "\n",
    "# interpolated_df = interpolated_df.reset_index()\n",
    "timesteps_with_icd = interpolated_df[interpolated_df[\"has_icd\"]].groupby([\"stay_id\", \"dose_b_time\"])['common_timestep'].count()\n",
    "timesteps_without_icd = interpolated_df[~interpolated_df[\"has_icd\"]].groupby([\"stay_id\", \"dose_b_time\"])['common_timestep'].count()\n",
    "print(timesteps_with_icd.describe())\n",
    "print(timesteps_without_icd.describe())\n",
    "\n",
    "timesteps = interpolated_df.groupby([\"stay_id\", \"dose_b_time\"])['common_timestep'].count()\n",
    "\n",
    "# Determine the maximum sequence length\n",
    "max_sequence_length = max(timesteps)\n",
    "print(f\"Max sequence length {max_sequence_length}\")\n",
    "\n",
    "max_dosages = min(df.groupby(\"stay_id\")[\"dose_b_time\"].nunique().max(), 10)\n",
    "print(f\"Max dosages {max_dosages}\")\n",
    "\n",
    "X_sequences = []\n",
    "y_sequences = []\n",
    "zeros = np.zeros((max_sequence_length, len(features))) # an array of timestep zeros * features for padding the tensor\n",
    "\n",
    "# Initialize an empty list to store arrays\n",
    "result = []\n",
    "\n",
    "# Collect any invalid stays\n",
    "invalid_stays = []\n",
    "\n",
    "# Organize data by stay_id\n",
    "stay_ids = interpolated_df['stay_id'].unique()\n",
    "for stay_id in stay_ids:\n",
    "    # Filter the DataFrame for the current key1\n",
    "    df_stays = interpolated_df[interpolated_df[\"stay_id\"] == stay_id]\n",
    "\n",
    "    # Create a list to store arrays for the current key1\n",
    "    stays_array = []\n",
    "\n",
    "    unique_doses = df_stays['dose_b_time'].unique()\n",
    "    # Iterate over unique values of key2 within the current key1\n",
    "    for idx, dose_b_time in enumerate(unique_doses):\n",
    "        if idx >= max_dosages:\n",
    "            break\n",
    "  \n",
    "            \n",
    "        # Filter the DataFrame for the current key2\n",
    "        df_dose = df_stays[df_stays[\"dose_b_time\"] == dose_b_time]\n",
    "    \n",
    "        # Extract the feature values\n",
    "        val_columns = df_dose[features].values\n",
    "        \n",
    "        # Append the extracted values as an array to the list if they are all valid\n",
    "        if ~np.any(np.isnan(val_columns)):\n",
    "            stays_array.append(val_columns)\n",
    "        else:\n",
    "            invalid_stays.append(stay_id) ## collect invalid stay ids if NaNs are found\n",
    "            print(f\"Found array values with NaN {stay_id} \")\n",
    "        \n",
    "    if len(stays_array) > 0:\n",
    "        # Convert the list of arrays to a NumPy array for the current key1\n",
    "        stays_array = np.array(stays_array)\n",
    "        if ~(np.all(df_stays[target]) | ~np.any(df_stays[target])):\n",
    "            print(f\"Found inconsistent icd code {df_stays[target]}\")\n",
    "            \n",
    "        y_sequences.append(df_stays[target].unique()[0])\n",
    "        # normalise the varying number of measure events, down to mean and variance of each time step\n",
    "        stay_summary_array = list()\n",
    "        stay_summary_array.append(np.mean(stays_array, axis=0))\n",
    "        stay_summary_array.append(np.var(stays_array, axis=0))\n",
    "        stay_summary_array.append(np.min(stays_array, axis=0))\n",
    "        stay_summary_array.append(np.max(stays_array, axis=0))\n",
    "        result.append(stay_summary_array)\n",
    "    \n",
    "\n",
    "# Convert the result list to a NumPy array\n",
    "X_sequences = np.array(result)\n",
    "y_sequences = np.array(y_sequences).astype(int)\n",
    "\n",
    "print(f\"Original shape {shape(X_sequences)}\")\n",
    "print(len(shape(X_sequences)))\n",
    "# flatten from 4D tensor to 3D tensor, this effectively creates features out of each summary stat for each\n",
    "# feature. We have 4 summary stats (min, max, mean and variance) and 4 features (bp, mbp, sbp, dbp)\n",
    "if len(shape(X_sequences)) > 3:\n",
    "    original_shape = X_sequences.shape\n",
    "    X_sequences = X_sequences.reshape(original_shape[0], original_shape[2], original_shape[1] * original_shape[3])\n",
    "    \n",
    "    print(f\"Reshaped X {shape(X_sequences)}\")\n",
    "    print(f\"Shape of Y {shape(y_sequences)}\")\n",
    "\n",
    "print(f\"Found {len(invalid_stays)} - {invalid_stays}\")"
   ],
   "metadata": {
    "collapsed": false,
    "ExecuteTime": {
     "end_time": "2023-11-03T04:45:23.574046Z",
     "start_time": "2023-11-03T04:45:03.692981300Z"
    }
   },
   "id": "1a076c674ca138cc"
  },
  {
   "cell_type": "code",
   "execution_count": 487,
   "outputs": [
    {
     "name": "stdout",
     "output_type": "stream",
     "text": [
      "Cohort reduced from 3440 to 3440 by sampling\n",
      "(3440, 144, 16)\n",
      "(3440,)\n",
      "Ratio of positive to negative, should be 0.5 0.4994186046511628\n"
     ]
    }
   ],
   "source": [
    "# Restrict the size of the data so speed things up, delete this for a full production run\n",
    "X = X_sequences #[:1500]\n",
    "y = y_sequences #[:1500]\n",
    "\n",
    "# Generate random indices for sampling, this is to reduce the sample size to speed up machine learning\n",
    "## XXXXXXXXXXXXXXX This sample size reduces the cohort XXXXX\n",
    "# sample_size = 2000\n",
    "# random_indices = np.random.choice(len(X), size=sample_size, replace=False)\n",
    "# \n",
    "# # Use the random indices to select elements from both arrays\n",
    "# X = X_sequences[random_indices]\n",
    "# y = y_sequences[random_indices]\n",
    "\n",
    "print(f\"Cohort reduced from {len(X_sequences)} to {len(X)} by sampling\")\n",
    "print(shape(X))\n",
    "print(shape(y))\n",
    "print(f\"Ratio of positive to negative, should be 0.5 {np.sum(y) / len(y)}\")\n"
   ],
   "metadata": {
    "collapsed": false,
    "ExecuteTime": {
     "end_time": "2023-11-03T04:45:23.634473800Z",
     "start_time": "2023-11-03T04:45:23.581026900Z"
    }
   },
   "id": "96411bfc952ab4a5"
  },
  {
   "cell_type": "markdown",
   "source": [
    "# Split into test and train sets"
   ],
   "metadata": {
    "collapsed": false
   },
   "id": "1d58b882b1ccdfa7"
  },
  {
   "cell_type": "code",
   "execution_count": 488,
   "outputs": [
    {
     "name": "stdout",
     "output_type": "stream",
     "text": [
      "3440\n",
      "3440\n",
      "3096\n",
      "(3096, 144, 16)\n",
      "(344, 144, 16)\n",
      "(3096,)\n",
      "(344,)\n"
     ]
    }
   ],
   "source": [
    "print(len(X))\n",
    "print(len(y))\n",
    "\n",
    "#Adjust the size of the testing set: we'll use 10% of the entire data. \n",
    "X_train, X_test, y_train, y_test = train_test_split(X, y, test_size=0.1, random_state=2)\n",
    "\n",
    "#Check the number of columns (features):\n",
    "print(len(X_train))\n",
    "print(shape(X_train))\n",
    "print(shape(X_test))\n",
    "print(shape(y_train))\n",
    "print(shape(y_test))\n"
   ],
   "metadata": {
    "collapsed": false,
    "ExecuteTime": {
     "end_time": "2023-11-03T04:45:23.646442700Z",
     "start_time": "2023-11-03T04:45:23.592994600Z"
    }
   },
   "id": "ba5b915cab2f0376"
  },
  {
   "cell_type": "markdown",
   "source": [
    "# The RNN Model selection\n",
    "Compare and constrast between two RNN implementations, GRU and LSTM models\n",
    "\n",
    "Hyperparameters of dropout, recurrrent_activation and number of units were compared"
   ],
   "metadata": {
    "collapsed": false
   },
   "id": "16a6953bdae39e1f"
  },
  {
   "cell_type": "code",
   "execution_count": 488,
   "outputs": [],
   "source": [
    "\n"
   ],
   "metadata": {
    "collapsed": false,
    "ExecuteTime": {
     "end_time": "2023-11-03T04:45:23.647439700Z",
     "start_time": "2023-11-03T04:45:23.621919300Z"
    }
   },
   "id": "4c1ca833717a939a"
  },
  {
   "cell_type": "markdown",
   "source": [
    "### Hyperparameter training for GRU"
   ],
   "metadata": {
    "collapsed": false
   },
   "id": "a45e92ba10733e43"
  },
  {
   "cell_type": "code",
   "execution_count": 489,
   "outputs": [
    {
     "name": "stdout",
     "output_type": "stream",
     "text": [
      "Fitting 3 folds for each of 9 candidates, totalling 27 fits\n"
     ]
    },
    {
     "name": "stderr",
     "output_type": "stream",
     "text": [
      "C:\\Users\\stlan\\AppData\\Local\\Temp\\ipykernel_17852\\2315931116.py:20: DeprecationWarning: KerasClassifier is deprecated, use Sci-Keras (https://github.com/adriangb/scikeras) instead. See https://www.adriangb.com/scikeras/stable/migration.html for help migrating.\n",
      "  kc = KerasClassifier(build_fn=create_gru_model, batch_size=25, epochs=5)\n"
     ]
    },
    {
     "name": "stdout",
     "output_type": "stream",
     "text": [
      "Epoch 1/5\n",
      "27/27 [==============================] - 6s 101ms/step - loss: 0.7376 - accuracy: 0.4805\n",
      "Epoch 2/5\n",
      "27/27 [==============================] - 3s 107ms/step - loss: 0.6824 - accuracy: 0.5586\n",
      "Epoch 3/5\n",
      "27/27 [==============================] - 3s 101ms/step - loss: 0.6714 - accuracy: 0.5781\n",
      "Epoch 4/5\n",
      "27/27 [==============================] - 3s 102ms/step - loss: 0.6714 - accuracy: 0.5961\n",
      "Epoch 5/5\n",
      "27/27 [==============================] - 3s 99ms/step - loss: 0.6708 - accuracy: 0.5856\n",
      "11/11 [==============================] - 1s 22ms/step\n",
      "Epoch 1/5\n",
      "27/27 [==============================] - 6s 98ms/step - loss: 0.6839 - accuracy: 0.6042\n",
      "Epoch 2/5\n",
      "27/27 [==============================] - 3s 99ms/step - loss: 0.6792 - accuracy: 0.5847\n",
      "Epoch 3/5\n",
      "27/27 [==============================] - 3s 99ms/step - loss: 0.6787 - accuracy: 0.5877\n",
      "Epoch 4/5\n",
      "27/27 [==============================] - 3s 99ms/step - loss: 0.6726 - accuracy: 0.5982\n",
      "Epoch 5/5\n",
      "27/27 [==============================] - 3s 105ms/step - loss: 0.6683 - accuracy: 0.6162\n",
      "11/11 [==============================] - 1s 19ms/step\n",
      "Epoch 1/5\n",
      "27/27 [==============================] - 6s 101ms/step - loss: 0.7141 - accuracy: 0.5172\n",
      "Epoch 2/5\n",
      "27/27 [==============================] - 3s 101ms/step - loss: 0.6720 - accuracy: 0.5742\n",
      "Epoch 3/5\n",
      "27/27 [==============================] - 3s 102ms/step - loss: 0.6724 - accuracy: 0.5802\n",
      "Epoch 4/5\n",
      "27/27 [==============================] - 3s 102ms/step - loss: 0.6704 - accuracy: 0.5982\n",
      "Epoch 5/5\n",
      "27/27 [==============================] - 3s 98ms/step - loss: 0.6615 - accuracy: 0.5922\n",
      "11/11 [==============================] - 1s 21ms/step\n",
      "Epoch 1/5\n",
      "27/27 [==============================] - 6s 101ms/step - loss: 0.6849 - accuracy: 0.5766\n",
      "Epoch 2/5\n",
      "27/27 [==============================] - 3s 106ms/step - loss: 0.6767 - accuracy: 0.5721\n",
      "Epoch 3/5\n",
      "27/27 [==============================] - 3s 103ms/step - loss: 0.6699 - accuracy: 0.5706\n",
      "Epoch 4/5\n",
      "27/27 [==============================] - 3s 100ms/step - loss: 0.6664 - accuracy: 0.5976\n",
      "Epoch 5/5\n",
      "27/27 [==============================] - 3s 103ms/step - loss: 0.6698 - accuracy: 0.6006\n",
      "11/11 [==============================] - 1s 22ms/step\n",
      "Epoch 1/5\n",
      "27/27 [==============================] - 5s 99ms/step - loss: 0.6824 - accuracy: 0.5592\n",
      "Epoch 2/5\n",
      "27/27 [==============================] - 3s 103ms/step - loss: 0.6754 - accuracy: 0.5862\n",
      "Epoch 3/5\n",
      "27/27 [==============================] - 3s 107ms/step - loss: 0.6726 - accuracy: 0.5982\n",
      "Epoch 4/5\n",
      "27/27 [==============================] - 3s 104ms/step - loss: 0.6646 - accuracy: 0.5937\n",
      "Epoch 5/5\n",
      "27/27 [==============================] - 3s 104ms/step - loss: 0.6653 - accuracy: 0.6192\n",
      "11/11 [==============================] - 1s 26ms/step\n",
      "Epoch 1/5\n",
      "27/27 [==============================] - 7s 106ms/step - loss: 0.6811 - accuracy: 0.5682\n",
      "Epoch 2/5\n",
      "27/27 [==============================] - 3s 105ms/step - loss: 0.6598 - accuracy: 0.5937\n",
      "Epoch 3/5\n",
      "27/27 [==============================] - 3s 106ms/step - loss: 0.6619 - accuracy: 0.5982\n",
      "Epoch 4/5\n",
      "27/27 [==============================] - 3s 106ms/step - loss: 0.6583 - accuracy: 0.6222\n",
      "Epoch 5/5\n",
      "27/27 [==============================] - 3s 107ms/step - loss: 0.6554 - accuracy: 0.6177\n",
      "11/11 [==============================] - 1s 21ms/step\n",
      "Epoch 1/5\n",
      "27/27 [==============================] - 7s 133ms/step - loss: 0.6854 - accuracy: 0.5556\n",
      "Epoch 2/5\n",
      "27/27 [==============================] - 4s 135ms/step - loss: 0.6677 - accuracy: 0.5916\n",
      "Epoch 3/5\n",
      "27/27 [==============================] - 4s 133ms/step - loss: 0.6713 - accuracy: 0.5676\n",
      "Epoch 4/5\n",
      "27/27 [==============================] - 4s 134ms/step - loss: 0.6672 - accuracy: 0.5916\n",
      "Epoch 5/5\n",
      "27/27 [==============================] - 4s 133ms/step - loss: 0.6591 - accuracy: 0.6036\n",
      "11/11 [==============================] - 1s 33ms/step\n",
      "Epoch 1/5\n",
      "27/27 [==============================] - 7s 130ms/step - loss: 0.6822 - accuracy: 0.5877\n",
      "Epoch 2/5\n",
      "27/27 [==============================] - 4s 137ms/step - loss: 0.6766 - accuracy: 0.5982\n",
      "Epoch 3/5\n",
      "27/27 [==============================] - 4s 135ms/step - loss: 0.6693 - accuracy: 0.5937\n",
      "Epoch 4/5\n",
      "27/27 [==============================] - 4s 136ms/step - loss: 0.6656 - accuracy: 0.6042\n",
      "Epoch 5/5\n",
      "27/27 [==============================] - 4s 133ms/step - loss: 0.6687 - accuracy: 0.5967\n",
      "11/11 [==============================] - 1s 35ms/step\n",
      "Epoch 1/5\n",
      "27/27 [==============================] - 7s 137ms/step - loss: 0.6804 - accuracy: 0.5727\n",
      "Epoch 2/5\n",
      "27/27 [==============================] - 4s 135ms/step - loss: 0.6632 - accuracy: 0.6177\n",
      "Epoch 3/5\n",
      "27/27 [==============================] - 4s 131ms/step - loss: 0.6639 - accuracy: 0.6057\n",
      "Epoch 4/5\n",
      "27/27 [==============================] - 3s 126ms/step - loss: 0.6624 - accuracy: 0.5967\n",
      "Epoch 5/5\n",
      "27/27 [==============================] - 3s 127ms/step - loss: 0.6574 - accuracy: 0.6222\n",
      "11/11 [==============================] - 1s 29ms/step\n",
      "Epoch 1/5\n",
      "27/27 [==============================] - 5s 97ms/step - loss: 0.7198 - accuracy: 0.4895\n",
      "Epoch 2/5\n",
      "27/27 [==============================] - 3s 102ms/step - loss: 0.6791 - accuracy: 0.5766\n",
      "Epoch 3/5\n",
      "27/27 [==============================] - 3s 99ms/step - loss: 0.6710 - accuracy: 0.5721\n",
      "Epoch 4/5\n",
      "27/27 [==============================] - 3s 105ms/step - loss: 0.6689 - accuracy: 0.5856\n",
      "Epoch 5/5\n",
      "27/27 [==============================] - 3s 104ms/step - loss: 0.6701 - accuracy: 0.5931\n",
      "11/11 [==============================] - 1s 22ms/step\n",
      "Epoch 1/5\n",
      "27/27 [==============================] - 7s 106ms/step - loss: 0.7018 - accuracy: 0.5052\n",
      "Epoch 2/5\n",
      "27/27 [==============================] - 3s 105ms/step - loss: 0.6957 - accuracy: 0.5367\n",
      "Epoch 3/5\n",
      "27/27 [==============================] - 3s 103ms/step - loss: 0.6761 - accuracy: 0.5832\n",
      "Epoch 4/5\n",
      "27/27 [==============================] - 3s 100ms/step - loss: 0.6827 - accuracy: 0.5937\n",
      "Epoch 5/5\n",
      "27/27 [==============================] - 3s 104ms/step - loss: 0.6750 - accuracy: 0.5802\n",
      "11/11 [==============================] - 1s 35ms/step\n",
      "Epoch 1/5\n",
      "27/27 [==============================] - 6s 99ms/step - loss: 0.6916 - accuracy: 0.5517\n",
      "Epoch 2/5\n",
      "27/27 [==============================] - 3s 100ms/step - loss: 0.6729 - accuracy: 0.5847\n",
      "Epoch 3/5\n",
      "27/27 [==============================] - 3s 101ms/step - loss: 0.6766 - accuracy: 0.6102\n",
      "Epoch 4/5\n",
      "27/27 [==============================] - 3s 105ms/step - loss: 0.6691 - accuracy: 0.6162\n",
      "Epoch 5/5\n",
      "27/27 [==============================] - 3s 102ms/step - loss: 0.6705 - accuracy: 0.6012\n",
      "11/11 [==============================] - 1s 21ms/step\n",
      "Epoch 1/5\n",
      "27/27 [==============================] - 5s 102ms/step - loss: 0.6866 - accuracy: 0.5601\n",
      "Epoch 2/5\n",
      "27/27 [==============================] - 3s 109ms/step - loss: 0.6709 - accuracy: 0.5871\n",
      "Epoch 3/5\n",
      "27/27 [==============================] - 3s 106ms/step - loss: 0.6737 - accuracy: 0.5991\n",
      "Epoch 4/5\n",
      "27/27 [==============================] - 3s 107ms/step - loss: 0.6724 - accuracy: 0.5841\n",
      "Epoch 5/5\n",
      "27/27 [==============================] - 3s 111ms/step - loss: 0.6720 - accuracy: 0.5796\n",
      "11/11 [==============================] - 1s 23ms/step\n",
      "Epoch 1/5\n",
      "27/27 [==============================] - 6s 105ms/step - loss: 0.7000 - accuracy: 0.5427\n",
      "Epoch 2/5\n",
      "27/27 [==============================] - 3s 108ms/step - loss: 0.6748 - accuracy: 0.5802\n",
      "Epoch 3/5\n",
      "27/27 [==============================] - 5s 182ms/step - loss: 0.6697 - accuracy: 0.5892\n",
      "Epoch 4/5\n",
      "27/27 [==============================] - 5s 196ms/step - loss: 0.6662 - accuracy: 0.6057\n",
      "Epoch 5/5\n",
      "27/27 [==============================] - 3s 100ms/step - loss: 0.6697 - accuracy: 0.6027\n",
      "11/11 [==============================] - 1s 26ms/step\n",
      "Epoch 1/5\n",
      "27/27 [==============================] - 6s 104ms/step - loss: 0.6867 - accuracy: 0.5442\n",
      "Epoch 2/5\n",
      "27/27 [==============================] - 3s 105ms/step - loss: 0.6759 - accuracy: 0.5832\n",
      "Epoch 3/5\n",
      "27/27 [==============================] - 3s 102ms/step - loss: 0.6669 - accuracy: 0.5967\n",
      "Epoch 4/5\n",
      "27/27 [==============================] - 3s 107ms/step - loss: 0.6671 - accuracy: 0.5952\n",
      "Epoch 5/5\n",
      "27/27 [==============================] - 3s 107ms/step - loss: 0.6563 - accuracy: 0.6102\n",
      "11/11 [==============================] - 1s 25ms/step\n",
      "Epoch 1/5\n",
      "27/27 [==============================] - 9s 147ms/step - loss: 0.6911 - accuracy: 0.5601\n",
      "Epoch 2/5\n",
      "27/27 [==============================] - 4s 148ms/step - loss: 0.6701 - accuracy: 0.5751\n",
      "Epoch 3/5\n",
      "27/27 [==============================] - 4s 154ms/step - loss: 0.6674 - accuracy: 0.5916\n",
      "Epoch 4/5\n",
      "27/27 [==============================] - 4s 150ms/step - loss: 0.6654 - accuracy: 0.6126\n",
      "Epoch 5/5\n",
      "27/27 [==============================] - 4s 157ms/step - loss: 0.6646 - accuracy: 0.6096\n",
      "11/11 [==============================] - 1s 39ms/step\n",
      "Epoch 1/5\n",
      "27/27 [==============================] - 7s 150ms/step - loss: 0.6932 - accuracy: 0.5562\n",
      "Epoch 2/5\n",
      "27/27 [==============================] - 4s 149ms/step - loss: 0.6775 - accuracy: 0.5997\n",
      "Epoch 3/5\n",
      "27/27 [==============================] - 4s 147ms/step - loss: 0.6648 - accuracy: 0.6162\n",
      "Epoch 4/5\n",
      "27/27 [==============================] - 4s 146ms/step - loss: 0.6793 - accuracy: 0.6042\n",
      "Epoch 5/5\n",
      "27/27 [==============================] - 4s 145ms/step - loss: 0.6710 - accuracy: 0.6027\n",
      "11/11 [==============================] - 1s 37ms/step\n",
      "Epoch 1/5\n",
      "27/27 [==============================] - 6s 142ms/step - loss: 0.6747 - accuracy: 0.5832\n",
      "Epoch 2/5\n",
      "27/27 [==============================] - 4s 138ms/step - loss: 0.6644 - accuracy: 0.6102\n",
      "Epoch 3/5\n",
      "27/27 [==============================] - 4s 143ms/step - loss: 0.6628 - accuracy: 0.6012\n",
      "Epoch 4/5\n",
      "27/27 [==============================] - 4s 138ms/step - loss: 0.6684 - accuracy: 0.5997\n",
      "Epoch 5/5\n",
      "27/27 [==============================] - 4s 141ms/step - loss: 0.6597 - accuracy: 0.6117\n",
      "11/11 [==============================] - 1s 38ms/step\n",
      "Epoch 1/5\n",
      "27/27 [==============================] - 6s 97ms/step - loss: 0.7111 - accuracy: 0.5661\n",
      "Epoch 2/5\n",
      "27/27 [==============================] - 3s 106ms/step - loss: 0.6893 - accuracy: 0.5556\n",
      "Epoch 3/5\n",
      "27/27 [==============================] - 3s 102ms/step - loss: 0.6699 - accuracy: 0.5781\n",
      "Epoch 4/5\n",
      "27/27 [==============================] - 3s 99ms/step - loss: 0.6761 - accuracy: 0.5856\n",
      "Epoch 5/5\n",
      "27/27 [==============================] - 3s 101ms/step - loss: 0.6739 - accuracy: 0.5811\n",
      "11/11 [==============================] - 1s 21ms/step\n",
      "Epoch 1/5\n",
      "27/27 [==============================] - 5s 96ms/step - loss: 0.7344 - accuracy: 0.4843\n",
      "Epoch 2/5\n",
      "27/27 [==============================] - 3s 101ms/step - loss: 0.6926 - accuracy: 0.5382\n",
      "Epoch 3/5\n",
      "27/27 [==============================] - 3s 102ms/step - loss: 0.6779 - accuracy: 0.5712\n",
      "Epoch 4/5\n",
      "27/27 [==============================] - 3s 100ms/step - loss: 0.6740 - accuracy: 0.6057\n",
      "Epoch 5/5\n",
      "27/27 [==============================] - 3s 103ms/step - loss: 0.6686 - accuracy: 0.5937\n",
      "11/11 [==============================] - 1s 22ms/step\n",
      "Epoch 1/5\n",
      "27/27 [==============================] - 6s 95ms/step - loss: 0.6937 - accuracy: 0.5202\n",
      "Epoch 2/5\n",
      "27/27 [==============================] - 3s 97ms/step - loss: 0.6779 - accuracy: 0.5712\n",
      "Epoch 3/5\n",
      "27/27 [==============================] - 3s 99ms/step - loss: 0.6697 - accuracy: 0.5997\n",
      "Epoch 4/5\n",
      "27/27 [==============================] - 3s 100ms/step - loss: 0.6725 - accuracy: 0.5997\n",
      "Epoch 5/5\n",
      "27/27 [==============================] - 3s 100ms/step - loss: 0.6641 - accuracy: 0.6177\n",
      "11/11 [==============================] - 1s 18ms/step\n",
      "Epoch 1/5\n",
      "27/27 [==============================] - 8s 106ms/step - loss: 0.7189 - accuracy: 0.5075\n",
      "Epoch 2/5\n",
      "27/27 [==============================] - 3s 108ms/step - loss: 0.6818 - accuracy: 0.5766\n",
      "Epoch 3/5\n",
      "27/27 [==============================] - 3s 102ms/step - loss: 0.6702 - accuracy: 0.5706\n",
      "Epoch 4/5\n",
      "27/27 [==============================] - 3s 103ms/step - loss: 0.6713 - accuracy: 0.5961\n",
      "Epoch 5/5\n",
      "27/27 [==============================] - 3s 101ms/step - loss: 0.6804 - accuracy: 0.5781\n",
      "11/11 [==============================] - 1s 26ms/step\n",
      "Epoch 1/5\n",
      "27/27 [==============================] - 6s 105ms/step - loss: 0.6984 - accuracy: 0.5472\n",
      "Epoch 2/5\n",
      "27/27 [==============================] - 3s 111ms/step - loss: 0.6759 - accuracy: 0.6042\n",
      "Epoch 3/5\n",
      "27/27 [==============================] - 3s 106ms/step - loss: 0.6707 - accuracy: 0.5847\n",
      "Epoch 4/5\n",
      "27/27 [==============================] - 3s 104ms/step - loss: 0.6776 - accuracy: 0.5817\n",
      "Epoch 5/5\n",
      "27/27 [==============================] - 3s 103ms/step - loss: 0.6695 - accuracy: 0.5967\n",
      "11/11 [==============================] - 1s 23ms/step\n",
      "Epoch 1/5\n",
      "27/27 [==============================] - 5s 99ms/step - loss: 0.6975 - accuracy: 0.5322\n",
      "Epoch 2/5\n",
      "27/27 [==============================] - 3s 102ms/step - loss: 0.6597 - accuracy: 0.5937\n",
      "Epoch 3/5\n",
      "27/27 [==============================] - 3s 99ms/step - loss: 0.6686 - accuracy: 0.6072\n",
      "Epoch 4/5\n",
      "27/27 [==============================] - 3s 102ms/step - loss: 0.6699 - accuracy: 0.5997\n",
      "Epoch 5/5\n",
      "27/27 [==============================] - 3s 103ms/step - loss: 0.6616 - accuracy: 0.6102\n",
      "11/11 [==============================] - 1s 25ms/step\n",
      "Epoch 1/5\n",
      "27/27 [==============================] - 7s 144ms/step - loss: 0.6821 - accuracy: 0.5856\n",
      "Epoch 2/5\n",
      "27/27 [==============================] - 4s 138ms/step - loss: 0.6679 - accuracy: 0.5811\n",
      "Epoch 3/5\n",
      "27/27 [==============================] - 4s 138ms/step - loss: 0.6821 - accuracy: 0.5931\n",
      "Epoch 4/5\n",
      "27/27 [==============================] - 4s 135ms/step - loss: 0.6699 - accuracy: 0.5961\n",
      "Epoch 5/5\n",
      "27/27 [==============================] - 4s 134ms/step - loss: 0.6709 - accuracy: 0.5931\n",
      "11/11 [==============================] - 1s 35ms/step\n",
      "Epoch 1/5\n",
      "27/27 [==============================] - 7s 133ms/step - loss: 0.6980 - accuracy: 0.5292\n",
      "Epoch 2/5\n",
      "27/27 [==============================] - 4s 137ms/step - loss: 0.6751 - accuracy: 0.5907\n",
      "Epoch 3/5\n",
      "27/27 [==============================] - 4s 151ms/step - loss: 0.6728 - accuracy: 0.5937\n",
      "Epoch 4/5\n",
      "27/27 [==============================] - 4s 133ms/step - loss: 0.6773 - accuracy: 0.5817\n",
      "Epoch 5/5\n",
      "27/27 [==============================] - 4s 138ms/step - loss: 0.6726 - accuracy: 0.6087\n",
      "11/11 [==============================] - 1s 34ms/step\n",
      "Epoch 1/5\n",
      "27/27 [==============================] - 8s 154ms/step - loss: 0.6819 - accuracy: 0.5472\n",
      "Epoch 2/5\n",
      "27/27 [==============================] - 4s 159ms/step - loss: 0.6711 - accuracy: 0.6012\n",
      "Epoch 3/5\n",
      "27/27 [==============================] - 4s 155ms/step - loss: 0.6656 - accuracy: 0.5877\n",
      "Epoch 4/5\n",
      "27/27 [==============================] - 4s 158ms/step - loss: 0.6573 - accuracy: 0.6282\n",
      "Epoch 5/5\n",
      "27/27 [==============================] - 4s 161ms/step - loss: 0.6630 - accuracy: 0.6147\n",
      "11/11 [==============================] - 1s 46ms/step\n"
     ]
    },
    {
     "data": {
      "text/plain": "GridSearchCV(cv=3,\n             estimator=<keras.wrappers.scikit_learn.KerasClassifier object at 0x000001621E808310>,\n             param_grid={'dropout': [0.2, 0.4, 0.5],\n                         'recurrent_activation': ['hard_sigmoid'],\n                         'units': [16, 32, 64]},\n             refit=False, scoring='accuracy', verbose=True)",
      "text/html": "<style>#sk-container-id-17 {color: black;}#sk-container-id-17 pre{padding: 0;}#sk-container-id-17 div.sk-toggleable {background-color: white;}#sk-container-id-17 label.sk-toggleable__label {cursor: pointer;display: block;width: 100%;margin-bottom: 0;padding: 0.3em;box-sizing: border-box;text-align: center;}#sk-container-id-17 label.sk-toggleable__label-arrow:before {content: \"▸\";float: left;margin-right: 0.25em;color: #696969;}#sk-container-id-17 label.sk-toggleable__label-arrow:hover:before {color: black;}#sk-container-id-17 div.sk-estimator:hover label.sk-toggleable__label-arrow:before {color: black;}#sk-container-id-17 div.sk-toggleable__content {max-height: 0;max-width: 0;overflow: hidden;text-align: left;background-color: #f0f8ff;}#sk-container-id-17 div.sk-toggleable__content pre {margin: 0.2em;color: black;border-radius: 0.25em;background-color: #f0f8ff;}#sk-container-id-17 input.sk-toggleable__control:checked~div.sk-toggleable__content {max-height: 200px;max-width: 100%;overflow: auto;}#sk-container-id-17 input.sk-toggleable__control:checked~label.sk-toggleable__label-arrow:before {content: \"▾\";}#sk-container-id-17 div.sk-estimator input.sk-toggleable__control:checked~label.sk-toggleable__label {background-color: #d4ebff;}#sk-container-id-17 div.sk-label input.sk-toggleable__control:checked~label.sk-toggleable__label {background-color: #d4ebff;}#sk-container-id-17 input.sk-hidden--visually {border: 0;clip: rect(1px 1px 1px 1px);clip: rect(1px, 1px, 1px, 1px);height: 1px;margin: -1px;overflow: hidden;padding: 0;position: absolute;width: 1px;}#sk-container-id-17 div.sk-estimator {font-family: monospace;background-color: #f0f8ff;border: 1px dotted black;border-radius: 0.25em;box-sizing: border-box;margin-bottom: 0.5em;}#sk-container-id-17 div.sk-estimator:hover {background-color: #d4ebff;}#sk-container-id-17 div.sk-parallel-item::after {content: \"\";width: 100%;border-bottom: 1px solid gray;flex-grow: 1;}#sk-container-id-17 div.sk-label:hover label.sk-toggleable__label {background-color: #d4ebff;}#sk-container-id-17 div.sk-serial::before {content: \"\";position: absolute;border-left: 1px solid gray;box-sizing: border-box;top: 0;bottom: 0;left: 50%;z-index: 0;}#sk-container-id-17 div.sk-serial {display: flex;flex-direction: column;align-items: center;background-color: white;padding-right: 0.2em;padding-left: 0.2em;position: relative;}#sk-container-id-17 div.sk-item {position: relative;z-index: 1;}#sk-container-id-17 div.sk-parallel {display: flex;align-items: stretch;justify-content: center;background-color: white;position: relative;}#sk-container-id-17 div.sk-item::before, #sk-container-id-17 div.sk-parallel-item::before {content: \"\";position: absolute;border-left: 1px solid gray;box-sizing: border-box;top: 0;bottom: 0;left: 50%;z-index: -1;}#sk-container-id-17 div.sk-parallel-item {display: flex;flex-direction: column;z-index: 1;position: relative;background-color: white;}#sk-container-id-17 div.sk-parallel-item:first-child::after {align-self: flex-end;width: 50%;}#sk-container-id-17 div.sk-parallel-item:last-child::after {align-self: flex-start;width: 50%;}#sk-container-id-17 div.sk-parallel-item:only-child::after {width: 0;}#sk-container-id-17 div.sk-dashed-wrapped {border: 1px dashed gray;margin: 0 0.4em 0.5em 0.4em;box-sizing: border-box;padding-bottom: 0.4em;background-color: white;}#sk-container-id-17 div.sk-label label {font-family: monospace;font-weight: bold;display: inline-block;line-height: 1.2em;}#sk-container-id-17 div.sk-label-container {text-align: center;}#sk-container-id-17 div.sk-container {/* jupyter's `normalize.less` sets `[hidden] { display: none; }` but bootstrap.min.css set `[hidden] { display: none !important; }` so we also need the `!important` here to be able to override the default hidden behavior on the sphinx rendered scikit-learn.org. See: https://github.com/scikit-learn/scikit-learn/issues/21755 */display: inline-block !important;position: relative;}#sk-container-id-17 div.sk-text-repr-fallback {display: none;}</style><div id=\"sk-container-id-17\" class=\"sk-top-container\"><div class=\"sk-text-repr-fallback\"><pre>GridSearchCV(cv=3,\n             estimator=&lt;keras.wrappers.scikit_learn.KerasClassifier object at 0x000001621E808310&gt;,\n             param_grid={&#x27;dropout&#x27;: [0.2, 0.4, 0.5],\n                         &#x27;recurrent_activation&#x27;: [&#x27;hard_sigmoid&#x27;],\n                         &#x27;units&#x27;: [16, 32, 64]},\n             refit=False, scoring=&#x27;accuracy&#x27;, verbose=True)</pre><b>In a Jupyter environment, please rerun this cell to show the HTML representation or trust the notebook. <br />On GitHub, the HTML representation is unable to render, please try loading this page with nbviewer.org.</b></div><div class=\"sk-container\" hidden><div class=\"sk-item sk-dashed-wrapped\"><div class=\"sk-label-container\"><div class=\"sk-label sk-toggleable\"><input class=\"sk-toggleable__control sk-hidden--visually\" id=\"sk-estimator-id-49\" type=\"checkbox\" ><label for=\"sk-estimator-id-49\" class=\"sk-toggleable__label sk-toggleable__label-arrow\">GridSearchCV</label><div class=\"sk-toggleable__content\"><pre>GridSearchCV(cv=3,\n             estimator=&lt;keras.wrappers.scikit_learn.KerasClassifier object at 0x000001621E808310&gt;,\n             param_grid={&#x27;dropout&#x27;: [0.2, 0.4, 0.5],\n                         &#x27;recurrent_activation&#x27;: [&#x27;hard_sigmoid&#x27;],\n                         &#x27;units&#x27;: [16, 32, 64]},\n             refit=False, scoring=&#x27;accuracy&#x27;, verbose=True)</pre></div></div></div><div class=\"sk-parallel\"><div class=\"sk-parallel-item\"><div class=\"sk-item\"><div class=\"sk-label-container\"><div class=\"sk-label sk-toggleable\"><input class=\"sk-toggleable__control sk-hidden--visually\" id=\"sk-estimator-id-50\" type=\"checkbox\" ><label for=\"sk-estimator-id-50\" class=\"sk-toggleable__label sk-toggleable__label-arrow\">estimator: KerasClassifier</label><div class=\"sk-toggleable__content\"><pre>&lt;keras.wrappers.scikit_learn.KerasClassifier object at 0x000001621E808310&gt;</pre></div></div></div><div class=\"sk-serial\"><div class=\"sk-item\"><div class=\"sk-estimator sk-toggleable\"><input class=\"sk-toggleable__control sk-hidden--visually\" id=\"sk-estimator-id-51\" type=\"checkbox\" ><label for=\"sk-estimator-id-51\" class=\"sk-toggleable__label sk-toggleable__label-arrow\">KerasClassifier</label><div class=\"sk-toggleable__content\"><pre>&lt;keras.wrappers.scikit_learn.KerasClassifier object at 0x000001621E808310&gt;</pre></div></div></div></div></div></div></div></div></div></div>"
     },
     "execution_count": 489,
     "metadata": {},
     "output_type": "execute_result"
    }
   ],
   "source": [
    "\n",
    "from keras.wrappers.scikit_learn import KerasClassifier\n",
    "from sklearn.model_selection import GridSearchCV\n",
    "\n",
    "param_grid = {\n",
    "    'units': [16, 32, 64],\n",
    "    'dropout': [0.2, 0.4, 0.5],\n",
    "    'recurrent_activation' : ['hard_sigmoid'],\n",
    "}\n",
    "\n",
    "def create_gru_model(units, dropout, recurrent_activation):\n",
    "    model = keras.Sequential()\n",
    "\n",
    "    model.add(keras.layers.Masking(mask_value=0))\n",
    "    # model.add(LSTM(32, dropout=0.2, return_sequences=True))\n",
    "    model.add(GRU(units=units, dropout=dropout, reset_after=True, activation='tanh', recurrent_activation=recurrent_activation))\n",
    "    model.add(Dense(1, activation='sigmoid'))\n",
    "    model.compile(loss='binary_crossentropy', optimizer='adam', metrics=['accuracy'])\n",
    "    return model\n",
    "\n",
    "kc = KerasClassifier(build_fn=create_gru_model, batch_size=25, epochs=5)\n",
    "\n",
    "## XXXXXXXXXXXXXXX This sample size reduces the cohort XXXXX\n",
    "sample_size = 1000\n",
    "random_indices = np.random.choice(len(X), size=sample_size, replace=False)\n",
    "\n",
    "# Use the random indices to select elements from both arrays\n",
    "X_cv = X_sequences[random_indices]\n",
    "y_cv = y_sequences[random_indices]\n",
    "\n",
    "#Call the GridSearchCV function to analyse each possible combination of parameters\n",
    "#split training data into 5 folds, train with 4 validate with the 5th, change the training 4\n",
    "CV_gru = GridSearchCV(estimator = kc, param_grid = param_grid, cv= 3, verbose=True, refit=False, scoring='accuracy')\n",
    "CV_gru.fit(X_cv, y_cv)\n"
   ],
   "metadata": {
    "collapsed": false,
    "ExecuteTime": {
     "end_time": "2023-11-03T04:54:26.531457700Z",
     "start_time": "2023-11-03T04:45:23.646442700Z"
    }
   },
   "id": "656049d685adf36b"
  },
  {
   "cell_type": "code",
   "execution_count": 490,
   "outputs": [
    {
     "data": {
      "text/plain": "{'dropout': 0.4, 'recurrent_activation': 'hard_sigmoid', 'units': 16}"
     },
     "execution_count": 490,
     "metadata": {},
     "output_type": "execute_result"
    }
   ],
   "source": [
    "CV_gru.best_params_"
   ],
   "metadata": {
    "collapsed": false,
    "ExecuteTime": {
     "end_time": "2023-11-03T04:54:26.567440600Z",
     "start_time": "2023-11-03T04:54:26.520976400Z"
    }
   },
   "id": "f2c80d65b2bcbb52"
  },
  {
   "cell_type": "code",
   "execution_count": 491,
   "outputs": [
    {
     "name": "stdout",
     "output_type": "stream",
     "text": [
      "Compiled with {'dropout': 0.4, 'recurrent_activation': 'hard_sigmoid', 'units': 16}\n"
     ]
    }
   ],
   "source": [
    "from keras.layers import LSTM, Dense, GRU\n",
    "from keras.callbacks import EarlyStopping\n",
    "\n",
    "model = create_gru_model(units=CV_gru.best_params_['units'], \n",
    "                         dropout=CV_gru.best_params_['dropout'],\n",
    "                         recurrent_activation=CV_gru.best_params_['recurrent_activation'])\n",
    "\n",
    "print(f\"Compiled with {CV_gru.best_params_}\")\n",
    "model.compile(loss='binary_crossentropy', optimizer='adam', metrics=['accuracy'])"
   ],
   "metadata": {
    "collapsed": false,
    "ExecuteTime": {
     "end_time": "2023-11-03T04:54:26.649022Z",
     "start_time": "2023-11-03T04:54:26.537970Z"
    }
   },
   "id": "705db1f81813ae1"
  },
  {
   "cell_type": "markdown",
   "source": [],
   "metadata": {
    "collapsed": false
   },
   "id": "7592b07dbe5cdf5c"
  },
  {
   "cell_type": "code",
   "execution_count": 492,
   "outputs": [
    {
     "name": "stdout",
     "output_type": "stream",
     "text": [
      "Running with EPOCHS100 and BATCH_SIZE100 and shape (3096, 144, 16)\n",
      "Epoch 1/100\n",
      "31/31 [==============================] - 7s 118ms/step - loss: 0.7050 - accuracy: 0.5491\n",
      "Epoch 2/100\n",
      "31/31 [==============================] - 4s 123ms/step - loss: 0.6819 - accuracy: 0.5791\n",
      "Epoch 3/100\n",
      "31/31 [==============================] - 4s 121ms/step - loss: 0.6807 - accuracy: 0.5775\n",
      "Epoch 4/100\n",
      "31/31 [==============================] - 4s 119ms/step - loss: 0.6786 - accuracy: 0.5882\n",
      "Epoch 5/100\n",
      "31/31 [==============================] - 4s 125ms/step - loss: 0.6769 - accuracy: 0.5801\n",
      "Epoch 6/100\n",
      "31/31 [==============================] - 4s 127ms/step - loss: 0.6721 - accuracy: 0.5911\n",
      "Epoch 7/100\n",
      "31/31 [==============================] - 4s 123ms/step - loss: 0.6704 - accuracy: 0.5940\n",
      "Epoch 8/100\n",
      "31/31 [==============================] - 4s 130ms/step - loss: 0.6723 - accuracy: 0.5992\n",
      "Epoch 9/100\n",
      "31/31 [==============================] - 4s 125ms/step - loss: 0.6728 - accuracy: 0.5940\n",
      "Epoch 10/100\n",
      "31/31 [==============================] - 4s 127ms/step - loss: 0.6702 - accuracy: 0.5943\n",
      "Epoch 11/100\n",
      "31/31 [==============================] - 4s 125ms/step - loss: 0.6684 - accuracy: 0.5988\n",
      "Epoch 12/100\n",
      "31/31 [==============================] - 4s 118ms/step - loss: 0.6670 - accuracy: 0.6066\n",
      "Epoch 13/100\n",
      "31/31 [==============================] - 4s 125ms/step - loss: 0.6683 - accuracy: 0.5988\n",
      "Epoch 14/100\n",
      "31/31 [==============================] - 4s 126ms/step - loss: 0.6692 - accuracy: 0.5946\n",
      "Epoch 15/100\n",
      "31/31 [==============================] - 4s 122ms/step - loss: 0.6679 - accuracy: 0.5959\n",
      "Epoch 16/100\n",
      "31/31 [==============================] - 4s 121ms/step - loss: 0.6684 - accuracy: 0.5995\n",
      "Epoch 17/100\n",
      "31/31 [==============================] - 4s 121ms/step - loss: 0.6667 - accuracy: 0.5956\n",
      "Epoch 18/100\n",
      "31/31 [==============================] - 4s 121ms/step - loss: 0.6686 - accuracy: 0.5972\n",
      "Epoch 19/100\n",
      "31/31 [==============================] - 4s 124ms/step - loss: 0.6653 - accuracy: 0.6050\n",
      "Epoch 20/100\n",
      "31/31 [==============================] - 4s 129ms/step - loss: 0.6651 - accuracy: 0.6024\n",
      "Epoch 21/100\n",
      "31/31 [==============================] - 4s 136ms/step - loss: 0.6675 - accuracy: 0.6027\n",
      "Epoch 22/100\n",
      "31/31 [==============================] - 4s 136ms/step - loss: 0.6717 - accuracy: 0.5933\n",
      "Epoch 23/100\n",
      "31/31 [==============================] - 4s 128ms/step - loss: 0.6664 - accuracy: 0.6027\n",
      "Epoch 24/100\n",
      "31/31 [==============================] - 4s 122ms/step - loss: 0.6647 - accuracy: 0.6047\n",
      "Epoch 25/100\n",
      "31/31 [==============================] - 4s 127ms/step - loss: 0.6657 - accuracy: 0.5982\n",
      "Epoch 26/100\n",
      "31/31 [==============================] - 4s 117ms/step - loss: 0.6648 - accuracy: 0.6008\n",
      "Epoch 27/100\n",
      "31/31 [==============================] - 4s 123ms/step - loss: 0.6646 - accuracy: 0.6017\n",
      "Epoch 27: early stopping\n"
     ]
    }
   ],
   "source": [
    "def fit_model(model):\n",
    "    EPOCHS = 100         # increase to at least 50\n",
    "    BATCH_SIZE = 100     # increase to at least 100\n",
    "    \n",
    "    early_stopping = EarlyStopping(monitor='accuracy', patience=15, mode='auto', verbose = 1, min_delta=0.002, restore_best_weights=False)\n",
    "    \n",
    "    # callbacks=[early_stopping],\n",
    "    print(f\"Running with EPOCHS{EPOCHS} and BATCH_SIZE{BATCH_SIZE} and shape {shape(X_train)}\")\n",
    "    \n",
    "    return model.fit(X_train, y_train, epochs=EPOCHS, batch_size=BATCH_SIZE, callbacks=[early_stopping],\n",
    "                           verbose=1)  #set verbose = 1 to see the fitting process\n",
    "\n",
    "gru_classifier = fit_model(model)"
   ],
   "metadata": {
    "collapsed": false,
    "ExecuteTime": {
     "end_time": "2023-11-03T04:56:14.596334200Z",
     "start_time": "2023-11-03T04:54:26.585957600Z"
    }
   },
   "id": "4263eb1674d3a26c"
  },
  {
   "cell_type": "markdown",
   "source": [
    "# Evaluate the training \n",
    "Plots of accuracy and loss for the training history"
   ],
   "metadata": {
    "collapsed": false
   },
   "id": "1c4b399c414fd2aa"
  },
  {
   "cell_type": "code",
   "execution_count": 493,
   "outputs": [
    {
     "data": {
      "text/plain": "<Figure size 640x480 with 1 Axes>",
      "image/png": "[encoded data removed]"
     },
     "metadata": {},
     "output_type": "display_data"
    },
    {
     "data": {
      "text/plain": "<Figure size 640x480 with 1 Axes>",
      "image/png": "[encoded data removed]"
     },
     "metadata": {},
     "output_type": "display_data"
    }
   ],
   "source": [
    "def plot_model(classifier):\n",
    "    # Plot Accuracy over the epochs\n",
    "    plt.plot(classifier.history['accuracy'])\n",
    "    plt.ylabel('accuracy')\n",
    "    plt.xlabel('epoch')\n",
    "    plt.title('model accuracy')\n",
    "    plt.legend(['train'], loc='upper left')\n",
    "    plt.show()\n",
    "    \n",
    "    # Plot Loss over the epochs\n",
    "    plt.plot(classifier.history['loss'])\n",
    "    plt.ylabel('loss')\n",
    "    plt.xlabel('epoch')\n",
    "    plt.title('model loss')\n",
    "    plt.legend(['train'], loc='upper left')\n",
    "    plt.show()\n",
    "\n",
    "plot_model(gru_classifier)"
   ],
   "metadata": {
    "collapsed": false,
    "ExecuteTime": {
     "end_time": "2023-11-03T04:56:16.461015700Z",
     "start_time": "2023-11-03T04:56:14.366987400Z"
    }
   },
   "id": "fd261ac8e14dba93"
  },
  {
   "cell_type": "code",
   "execution_count": 494,
   "outputs": [
    {
     "name": "stdout",
     "output_type": "stream",
     "text": [
      "32/32 [==============================] - 2s 23ms/step - loss: 0.6798 - accuracy: 0.5680\n",
      "Accuracy: 56.80\n",
      "0.68 0.568\n"
     ]
    }
   ],
   "source": [
    "# evaluate the keras model\n",
    "def evaluate_model(model):\n",
    "    loss, accuracy = model.evaluate(X_train[:1000], y_train[:1000])\n",
    "    print('Accuracy: %.2f' % (accuracy*100))\n",
    "    print(round(loss,3),round(accuracy,3))\n",
    "\n",
    "evaluate_model(model)"
   ],
   "metadata": {
    "collapsed": false,
    "ExecuteTime": {
     "end_time": "2023-11-03T04:56:17.614406400Z",
     "start_time": "2023-11-03T04:56:15.203608700Z"
    }
   },
   "id": "88743f97d504f1ce"
  },
  {
   "cell_type": "markdown",
   "source": [
    "# Test accuracy\n",
    "Run model predictions on the test data set and report metrics scores, including MCC and F1 "
   ],
   "metadata": {
    "collapsed": false
   },
   "id": "cf9fe5dd7c08859f"
  },
  {
   "cell_type": "code",
   "execution_count": 495,
   "outputs": [
    {
     "name": "stdout",
     "output_type": "stream",
     "text": [
      "************ GRU Evaluation ************\n",
      "Compiled with {'dropout': 0.4, 'recurrent_activation': 'hard_sigmoid', 'units': 16}\n",
      "vitals_data_before_and_after_ABCD.csv\n",
      "(3440, 144, 16)\n",
      "11/11 [==============================] - 1s 23ms/step\n",
      "   Accuracy  Balanced Accuracy    MCC  F1-Score\n",
      "0     0.596              0.597  0.195     0.595\n"
     ]
    }
   ],
   "source": [
    "from sklearn import metrics\n",
    "\n",
    "def test_accuracy(model):\n",
    "    # #Predict the testing set\n",
    "    predictions = (model.predict(X_test) > 0.5).astype(int)\n",
    "    \n",
    "    #Accuracy classification score\n",
    "    acc = float(round(metrics.accuracy_score(y_test, predictions),3))\n",
    "    \n",
    "    #Compute the balanced accuracy.\n",
    "    bacc = float(round(metrics.balanced_accuracy_score(y_test, predictions),3))\n",
    "    \n",
    "    #Compute the Matthews correlation coefficient (MCC)\n",
    "    mcc = float(round(metrics.matthews_corrcoef(y_test, predictions),3))\n",
    "    \n",
    "    #Compute the F1 score, also known as balanced F-score or F-measure.\n",
    "    f1 = float(round(metrics.f1_score(y_test, predictions),3))\n",
    "    \n",
    "    #Show results as a DataFrame:\n",
    "    results = {'Accuracy' : [acc], 'Balanced Accuracy' : [bacc], 'MCC' : [mcc], 'F1-Score' : [f1]}\n",
    "    df_results = pd.DataFrame.from_dict(data = results, orient='columns')\n",
    "    print(df_results)\n",
    "\n",
    "print(\"************ GRU Evaluation ************\")\n",
    "print(f\"Compiled with {CV_gru.best_params_}\")\n",
    "print(vitals_filename)\n",
    "print(shape(X_sequences))\n",
    "test_accuracy(model)"
   ],
   "metadata": {
    "collapsed": false,
    "ExecuteTime": {
     "end_time": "2023-11-03T04:56:18.003685200Z",
     "start_time": "2023-11-03T04:56:16.977131100Z"
    }
   },
   "id": "adc7ff17b9ec5650"
  },
  {
   "cell_type": "markdown",
   "source": [
    "### Comparison with LSTM"
   ],
   "metadata": {
    "collapsed": false
   },
   "id": "2b50c37c87819fe0"
  },
  {
   "cell_type": "code",
   "execution_count": 496,
   "outputs": [
    {
     "name": "stdout",
     "output_type": "stream",
     "text": [
      "Fitting 3 folds for each of 18 candidates, totalling 54 fits\n",
      "Epoch 1/5\n"
     ]
    },
    {
     "name": "stderr",
     "output_type": "stream",
     "text": [
      "C:\\Users\\stlan\\AppData\\Local\\Temp\\ipykernel_17852\\3364380845.py:20: DeprecationWarning: KerasClassifier is deprecated, use Sci-Keras (https://github.com/adriangb/scikeras) instead. See https://www.adriangb.com/scikeras/stable/migration.html for help migrating.\n",
      "  kc = KerasClassifier(build_fn=create_ltsm_model, batch_size=25, epochs=5)\n"
     ]
    },
    {
     "name": "stdout",
     "output_type": "stream",
     "text": [
      "27/27 [==============================] - 9s 67ms/step - loss: 0.6870 - accuracy: 0.5240\n",
      "Epoch 2/5\n",
      "27/27 [==============================] - 2s 74ms/step - loss: 0.6715 - accuracy: 0.5946\n",
      "Epoch 3/5\n",
      "27/27 [==============================] - 2s 73ms/step - loss: 0.6664 - accuracy: 0.5901\n",
      "Epoch 4/5\n",
      "27/27 [==============================] - 2s 69ms/step - loss: 0.6677 - accuracy: 0.5796\n",
      "Epoch 5/5\n",
      "27/27 [==============================] - 2s 68ms/step - loss: 0.6609 - accuracy: 0.5991\n",
      "11/11 [==============================] - 2s 16ms/step\n",
      "Epoch 1/5\n",
      "27/27 [==============================] - 10s 71ms/step - loss: 0.6952 - accuracy: 0.5142\n",
      "Epoch 2/5\n",
      "27/27 [==============================] - 2s 73ms/step - loss: 0.6720 - accuracy: 0.6087\n",
      "Epoch 3/5\n",
      "27/27 [==============================] - 2s 73ms/step - loss: 0.6643 - accuracy: 0.6162\n",
      "Epoch 4/5\n",
      "27/27 [==============================] - 2s 74ms/step - loss: 0.6625 - accuracy: 0.6012\n",
      "Epoch 5/5\n",
      "27/27 [==============================] - 2s 73ms/step - loss: 0.6616 - accuracy: 0.6012\n",
      "11/11 [==============================] - 3s 16ms/step\n",
      "Epoch 1/5\n",
      "27/27 [==============================] - 8s 69ms/step - loss: 0.6940 - accuracy: 0.5472\n",
      "Epoch 2/5\n",
      "27/27 [==============================] - 2s 72ms/step - loss: 0.6754 - accuracy: 0.5772\n",
      "Epoch 3/5\n",
      "27/27 [==============================] - 2s 71ms/step - loss: 0.6739 - accuracy: 0.5817\n",
      "Epoch 4/5\n",
      "27/27 [==============================] - 2s 73ms/step - loss: 0.6698 - accuracy: 0.5922\n",
      "Epoch 5/5\n",
      "27/27 [==============================] - 2s 72ms/step - loss: 0.6603 - accuracy: 0.6162\n",
      "11/11 [==============================] - 2s 17ms/step\n",
      "Epoch 1/5\n",
      "27/27 [==============================] - 8s 71ms/step - loss: 0.6902 - accuracy: 0.5420\n",
      "Epoch 2/5\n",
      "27/27 [==============================] - 2s 77ms/step - loss: 0.6742 - accuracy: 0.5826\n",
      "Epoch 3/5\n",
      "27/27 [==============================] - 2s 73ms/step - loss: 0.6712 - accuracy: 0.5886\n",
      "Epoch 4/5\n",
      "27/27 [==============================] - 2s 72ms/step - loss: 0.6683 - accuracy: 0.5931\n",
      "Epoch 5/5\n",
      "27/27 [==============================] - 2s 72ms/step - loss: 0.6642 - accuracy: 0.6051\n",
      "11/11 [==============================] - 2s 27ms/step\n",
      "Epoch 1/5\n",
      "27/27 [==============================] - 9s 75ms/step - loss: 0.7397 - accuracy: 0.4753\n",
      "Epoch 2/5\n",
      "27/27 [==============================] - 2s 77ms/step - loss: 0.6766 - accuracy: 0.5832\n",
      "Epoch 3/5\n",
      "27/27 [==============================] - 2s 74ms/step - loss: 0.6710 - accuracy: 0.5922\n",
      "Epoch 4/5\n",
      "27/27 [==============================] - 2s 73ms/step - loss: 0.6619 - accuracy: 0.6147\n",
      "Epoch 5/5\n",
      "27/27 [==============================] - 2s 72ms/step - loss: 0.6625 - accuracy: 0.6102\n",
      "11/11 [==============================] - 2s 25ms/step\n",
      "Epoch 1/5\n",
      "27/27 [==============================] - 8s 72ms/step - loss: 0.6866 - accuracy: 0.5472\n",
      "Epoch 2/5\n",
      "27/27 [==============================] - 2s 73ms/step - loss: 0.6741 - accuracy: 0.5922\n",
      "Epoch 3/5\n",
      "27/27 [==============================] - 2s 73ms/step - loss: 0.6714 - accuracy: 0.5997\n",
      "Epoch 4/5\n",
      "27/27 [==============================] - 2s 73ms/step - loss: 0.6660 - accuracy: 0.6072\n",
      "Epoch 5/5\n",
      "27/27 [==============================] - 2s 73ms/step - loss: 0.6644 - accuracy: 0.5922\n",
      "11/11 [==============================] - 2s 24ms/step\n",
      "Epoch 1/5\n",
      "27/27 [==============================] - 9s 109ms/step - loss: 0.6871 - accuracy: 0.5420\n",
      "Epoch 2/5\n",
      "27/27 [==============================] - 3s 116ms/step - loss: 0.6717 - accuracy: 0.5736\n",
      "Epoch 3/5\n",
      "27/27 [==============================] - 3s 115ms/step - loss: 0.6665 - accuracy: 0.5826\n",
      "Epoch 4/5\n",
      "27/27 [==============================] - 3s 112ms/step - loss: 0.6635 - accuracy: 0.5946\n",
      "Epoch 5/5\n",
      "27/27 [==============================] - 3s 115ms/step - loss: 0.6620 - accuracy: 0.5871\n",
      "11/11 [==============================] - 2s 38ms/step\n",
      "Epoch 1/5\n",
      "27/27 [==============================] - 10s 112ms/step - loss: 0.6914 - accuracy: 0.5307\n",
      "Epoch 2/5\n",
      "27/27 [==============================] - 3s 122ms/step - loss: 0.6697 - accuracy: 0.5967\n",
      "Epoch 3/5\n",
      "27/27 [==============================] - 3s 115ms/step - loss: 0.6640 - accuracy: 0.6087\n",
      "Epoch 4/5\n",
      "27/27 [==============================] - 3s 121ms/step - loss: 0.6618 - accuracy: 0.6072\n",
      "Epoch 5/5\n",
      "27/27 [==============================] - 3s 121ms/step - loss: 0.6582 - accuracy: 0.6102\n",
      "11/11 [==============================] - 3s 40ms/step\n",
      "Epoch 1/5\n",
      "27/27 [==============================] - 9s 109ms/step - loss: 0.6824 - accuracy: 0.5772\n",
      "Epoch 2/5\n",
      "27/27 [==============================] - 3s 114ms/step - loss: 0.6691 - accuracy: 0.5967\n",
      "Epoch 3/5\n",
      "27/27 [==============================] - 3s 110ms/step - loss: 0.6714 - accuracy: 0.6012\n",
      "Epoch 4/5\n",
      "27/27 [==============================] - 3s 114ms/step - loss: 0.6607 - accuracy: 0.6117\n",
      "Epoch 5/5\n",
      "27/27 [==============================] - 3s 126ms/step - loss: 0.6570 - accuracy: 0.6072\n",
      "11/11 [==============================] - 3s 38ms/step\n",
      "Epoch 1/5\n",
      "27/27 [==============================] - 6s 111ms/step - loss: 0.6935 - accuracy: 0.5285\n",
      "Epoch 2/5\n",
      "27/27 [==============================] - 3s 114ms/step - loss: 0.6753 - accuracy: 0.5886\n",
      "Epoch 3/5\n",
      "27/27 [==============================] - 3s 118ms/step - loss: 0.6681 - accuracy: 0.5931\n",
      "Epoch 4/5\n",
      "27/27 [==============================] - 3s 124ms/step - loss: 0.6639 - accuracy: 0.6006\n",
      "Epoch 5/5\n",
      "27/27 [==============================] - 3s 113ms/step - loss: 0.6625 - accuracy: 0.6006\n",
      "11/11 [==============================] - 1s 16ms/step\n",
      "Epoch 1/5\n",
      "27/27 [==============================] - 7s 115ms/step - loss: 0.6827 - accuracy: 0.5742\n",
      "Epoch 2/5\n",
      "27/27 [==============================] - 3s 116ms/step - loss: 0.6654 - accuracy: 0.6252\n",
      "Epoch 3/5\n",
      "27/27 [==============================] - 3s 113ms/step - loss: 0.6611 - accuracy: 0.6282\n",
      "Epoch 4/5\n",
      "27/27 [==============================] - 3s 111ms/step - loss: 0.6588 - accuracy: 0.6087\n",
      "Epoch 5/5\n",
      "27/27 [==============================] - 3s 111ms/step - loss: 0.6572 - accuracy: 0.6117\n",
      "11/11 [==============================] - 1s 15ms/step\n",
      "Epoch 1/5\n",
      "27/27 [==============================] - 6s 109ms/step - loss: 0.6801 - accuracy: 0.5757\n",
      "Epoch 2/5\n",
      "27/27 [==============================] - 3s 112ms/step - loss: 0.6718 - accuracy: 0.5832\n",
      "Epoch 3/5\n",
      "27/27 [==============================] - 3s 114ms/step - loss: 0.6663 - accuracy: 0.6072\n",
      "Epoch 4/5\n",
      "27/27 [==============================] - 3s 117ms/step - loss: 0.6638 - accuracy: 0.6012\n",
      "Epoch 5/5\n",
      "27/27 [==============================] - 3s 114ms/step - loss: 0.6637 - accuracy: 0.6162\n",
      "11/11 [==============================] - 1s 15ms/step\n",
      "Epoch 1/5\n",
      "27/27 [==============================] - 6s 111ms/step - loss: 0.6963 - accuracy: 0.5300\n",
      "Epoch 2/5\n",
      "27/27 [==============================] - 3s 115ms/step - loss: 0.6733 - accuracy: 0.5766\n",
      "Epoch 3/5\n",
      "27/27 [==============================] - 3s 117ms/step - loss: 0.6645 - accuracy: 0.6066\n",
      "Epoch 4/5\n",
      "27/27 [==============================] - 3s 115ms/step - loss: 0.6617 - accuracy: 0.5961\n",
      "Epoch 5/5\n",
      "27/27 [==============================] - 3s 115ms/step - loss: 0.6587 - accuracy: 0.6111\n",
      "11/11 [==============================] - 1s 21ms/step\n",
      "Epoch 1/5\n",
      "27/27 [==============================] - 7s 116ms/step - loss: 0.6778 - accuracy: 0.5832\n",
      "Epoch 2/5\n",
      "27/27 [==============================] - 3s 113ms/step - loss: 0.6695 - accuracy: 0.6027\n",
      "Epoch 3/5\n",
      "27/27 [==============================] - 3s 110ms/step - loss: 0.6614 - accuracy: 0.6207\n",
      "Epoch 4/5\n",
      "27/27 [==============================] - 3s 110ms/step - loss: 0.6615 - accuracy: 0.6042\n",
      "Epoch 5/5\n",
      "27/27 [==============================] - 3s 111ms/step - loss: 0.6604 - accuracy: 0.6147\n",
      "11/11 [==============================] - 1s 21ms/step\n",
      "Epoch 1/5\n",
      "27/27 [==============================] - 6s 109ms/step - loss: 0.6832 - accuracy: 0.5637\n",
      "Epoch 2/5\n",
      "27/27 [==============================] - 3s 116ms/step - loss: 0.6700 - accuracy: 0.5937\n",
      "Epoch 3/5\n",
      "27/27 [==============================] - 3s 115ms/step - loss: 0.6661 - accuracy: 0.6042\n",
      "Epoch 4/5\n",
      "27/27 [==============================] - 3s 110ms/step - loss: 0.6616 - accuracy: 0.6102\n",
      "Epoch 5/5\n",
      "27/27 [==============================] - 3s 111ms/step - loss: 0.6610 - accuracy: 0.6132\n",
      "11/11 [==============================] - 1s 22ms/step\n",
      "Epoch 1/5\n",
      "27/27 [==============================] - 8s 158ms/step - loss: 0.6822 - accuracy: 0.5465\n",
      "Epoch 2/5\n",
      "27/27 [==============================] - 4s 157ms/step - loss: 0.6701 - accuracy: 0.5826\n",
      "Epoch 3/5\n",
      "27/27 [==============================] - 5s 169ms/step - loss: 0.6650 - accuracy: 0.6111\n",
      "Epoch 4/5\n",
      "27/27 [==============================] - 4s 155ms/step - loss: 0.6600 - accuracy: 0.6096\n",
      "Epoch 5/5\n",
      "27/27 [==============================] - 4s 161ms/step - loss: 0.6582 - accuracy: 0.6096\n",
      "11/11 [==============================] - 1s 37ms/step\n",
      "Epoch 1/5\n",
      "27/27 [==============================] - 8s 157ms/step - loss: 0.6906 - accuracy: 0.5472\n",
      "Epoch 2/5\n",
      "27/27 [==============================] - 4s 155ms/step - loss: 0.6688 - accuracy: 0.6057\n",
      "Epoch 3/5\n",
      "27/27 [==============================] - 4s 150ms/step - loss: 0.6648 - accuracy: 0.5997\n",
      "Epoch 4/5\n",
      "27/27 [==============================] - 4s 150ms/step - loss: 0.6608 - accuracy: 0.6042\n",
      "Epoch 5/5\n",
      "27/27 [==============================] - 4s 150ms/step - loss: 0.6600 - accuracy: 0.6252\n",
      "11/11 [==============================] - 1s 31ms/step\n",
      "Epoch 1/5\n",
      "27/27 [==============================] - 7s 144ms/step - loss: 0.6826 - accuracy: 0.5637\n",
      "Epoch 2/5\n",
      "27/27 [==============================] - 4s 158ms/step - loss: 0.6702 - accuracy: 0.5907\n",
      "Epoch 3/5\n",
      "27/27 [==============================] - 4s 143ms/step - loss: 0.6634 - accuracy: 0.6117\n",
      "Epoch 4/5\n",
      "27/27 [==============================] - 4s 144ms/step - loss: 0.6657 - accuracy: 0.6012\n",
      "Epoch 5/5\n",
      "27/27 [==============================] - 4s 144ms/step - loss: 0.6651 - accuracy: 0.6162\n",
      "11/11 [==============================] - 1s 24ms/step\n",
      "Epoch 1/5\n",
      "27/27 [==============================] - 7s 66ms/step - loss: 0.6799 - accuracy: 0.5616\n",
      "Epoch 2/5\n",
      "27/27 [==============================] - 2s 68ms/step - loss: 0.6689 - accuracy: 0.5961\n",
      "Epoch 3/5\n",
      "27/27 [==============================] - 2s 73ms/step - loss: 0.6663 - accuracy: 0.5841\n",
      "Epoch 4/5\n",
      "27/27 [==============================] - 2s 71ms/step - loss: 0.6661 - accuracy: 0.5931\n",
      "Epoch 5/5\n",
      "27/27 [==============================] - 2s 68ms/step - loss: 0.6577 - accuracy: 0.6066\n",
      "11/11 [==============================] - 2s 15ms/step\n",
      "Epoch 1/5\n",
      "27/27 [==============================] - 9s 69ms/step - loss: 0.6999 - accuracy: 0.5082\n",
      "Epoch 2/5\n",
      "27/27 [==============================] - 2s 72ms/step - loss: 0.6756 - accuracy: 0.5877\n",
      "Epoch 3/5\n",
      "27/27 [==============================] - 2s 71ms/step - loss: 0.6681 - accuracy: 0.6147\n",
      "Epoch 4/5\n",
      "27/27 [==============================] - 2s 71ms/step - loss: 0.6650 - accuracy: 0.6027\n",
      "Epoch 5/5\n",
      "27/27 [==============================] - 2s 68ms/step - loss: 0.6610 - accuracy: 0.6147\n",
      "11/11 [==============================] - 2s 16ms/step\n",
      "Epoch 1/5\n",
      "27/27 [==============================] - 8s 69ms/step - loss: 0.6901 - accuracy: 0.5277\n",
      "Epoch 2/5\n",
      "27/27 [==============================] - 2s 71ms/step - loss: 0.6721 - accuracy: 0.5877\n",
      "Epoch 3/5\n",
      "27/27 [==============================] - 2s 71ms/step - loss: 0.6667 - accuracy: 0.6027\n",
      "Epoch 4/5\n",
      "27/27 [==============================] - 2s 73ms/step - loss: 0.6618 - accuracy: 0.6162\n",
      "Epoch 5/5\n",
      "27/27 [==============================] - 2s 71ms/step - loss: 0.6614 - accuracy: 0.6072\n",
      "11/11 [==============================] - 2s 16ms/step\n",
      "Epoch 1/5\n",
      "27/27 [==============================] - 8s 71ms/step - loss: 0.6899 - accuracy: 0.5495\n",
      "Epoch 2/5\n",
      "27/27 [==============================] - 2s 72ms/step - loss: 0.6714 - accuracy: 0.5916\n",
      "Epoch 3/5\n",
      "27/27 [==============================] - 2s 71ms/step - loss: 0.6651 - accuracy: 0.5856\n",
      "Epoch 4/5\n",
      "27/27 [==============================] - 2s 71ms/step - loss: 0.6665 - accuracy: 0.5796\n",
      "Epoch 5/5\n",
      "27/27 [==============================] - 2s 71ms/step - loss: 0.6643 - accuracy: 0.6006\n",
      "11/11 [==============================] - 2s 24ms/step\n",
      "Epoch 1/5\n",
      "27/27 [==============================] - 8s 73ms/step - loss: 0.6989 - accuracy: 0.5067\n",
      "Epoch 2/5\n",
      "27/27 [==============================] - 2s 72ms/step - loss: 0.6710 - accuracy: 0.5757\n",
      "Epoch 3/5\n",
      "27/27 [==============================] - 2s 72ms/step - loss: 0.6666 - accuracy: 0.5892\n",
      "Epoch 4/5\n",
      "27/27 [==============================] - 2s 72ms/step - loss: 0.6633 - accuracy: 0.6162\n",
      "Epoch 5/5\n",
      "27/27 [==============================] - 2s 72ms/step - loss: 0.6615 - accuracy: 0.6282\n",
      "11/11 [==============================] - 2s 24ms/step\n",
      "Epoch 1/5\n",
      "27/27 [==============================] - 7s 71ms/step - loss: 0.6917 - accuracy: 0.5337\n",
      "Epoch 2/5\n",
      "27/27 [==============================] - 2s 72ms/step - loss: 0.6729 - accuracy: 0.5832\n",
      "Epoch 3/5\n",
      "27/27 [==============================] - 2s 73ms/step - loss: 0.6636 - accuracy: 0.5982\n",
      "Epoch 4/5\n",
      "27/27 [==============================] - 2s 71ms/step - loss: 0.6606 - accuracy: 0.6102\n",
      "Epoch 5/5\n",
      "27/27 [==============================] - 2s 71ms/step - loss: 0.6596 - accuracy: 0.6177\n",
      "11/11 [==============================] - 2s 24ms/step\n",
      "Epoch 1/5\n",
      "27/27 [==============================] - 10s 110ms/step - loss: 0.6859 - accuracy: 0.5706\n",
      "Epoch 2/5\n",
      "27/27 [==============================] - 3s 113ms/step - loss: 0.6730 - accuracy: 0.5901\n",
      "Epoch 3/5\n",
      "27/27 [==============================] - 3s 115ms/step - loss: 0.6712 - accuracy: 0.5751\n",
      "Epoch 4/5\n",
      "27/27 [==============================] - 3s 111ms/step - loss: 0.6650 - accuracy: 0.5991\n",
      "Epoch 5/5\n",
      "27/27 [==============================] - 3s 111ms/step - loss: 0.6616 - accuracy: 0.6021\n",
      "11/11 [==============================] - 2s 39ms/step\n",
      "Epoch 1/5\n",
      "27/27 [==============================] - 9s 113ms/step - loss: 0.6845 - accuracy: 0.5802\n",
      "Epoch 2/5\n",
      "27/27 [==============================] - 3s 121ms/step - loss: 0.6712 - accuracy: 0.5892\n",
      "Epoch 3/5\n",
      "27/27 [==============================] - 3s 123ms/step - loss: 0.6635 - accuracy: 0.6177\n",
      "Epoch 4/5\n",
      "27/27 [==============================] - 3s 113ms/step - loss: 0.6629 - accuracy: 0.6207\n",
      "Epoch 5/5\n",
      "27/27 [==============================] - 3s 120ms/step - loss: 0.6632 - accuracy: 0.6282\n",
      "11/11 [==============================] - 2s 36ms/step\n",
      "Epoch 1/5\n",
      "27/27 [==============================] - 9s 108ms/step - loss: 0.6832 - accuracy: 0.5517\n",
      "Epoch 2/5\n",
      "27/27 [==============================] - 3s 110ms/step - loss: 0.6731 - accuracy: 0.5847\n",
      "Epoch 3/5\n",
      "27/27 [==============================] - 3s 116ms/step - loss: 0.6720 - accuracy: 0.5982\n",
      "Epoch 4/5\n",
      "27/27 [==============================] - 3s 112ms/step - loss: 0.6644 - accuracy: 0.5937\n",
      "Epoch 5/5\n",
      "27/27 [==============================] - 3s 120ms/step - loss: 0.6591 - accuracy: 0.6162\n",
      "11/11 [==============================] - 3s 38ms/step\n",
      "Epoch 1/5\n",
      "27/27 [==============================] - 7s 117ms/step - loss: 0.6938 - accuracy: 0.5300\n",
      "Epoch 2/5\n",
      "27/27 [==============================] - 3s 109ms/step - loss: 0.6795 - accuracy: 0.5751\n",
      "Epoch 3/5\n",
      "27/27 [==============================] - 3s 113ms/step - loss: 0.6704 - accuracy: 0.5781\n",
      "Epoch 4/5\n",
      "27/27 [==============================] - 3s 112ms/step - loss: 0.6703 - accuracy: 0.5751\n",
      "Epoch 5/5\n",
      "27/27 [==============================] - 3s 113ms/step - loss: 0.6658 - accuracy: 0.5841\n",
      "11/11 [==============================] - 1s 15ms/step\n",
      "Epoch 1/5\n",
      "27/27 [==============================] - 7s 112ms/step - loss: 0.7098 - accuracy: 0.4573\n",
      "Epoch 2/5\n",
      "27/27 [==============================] - 3s 112ms/step - loss: 0.6836 - accuracy: 0.5712\n",
      "Epoch 3/5\n",
      "27/27 [==============================] - 3s 112ms/step - loss: 0.6727 - accuracy: 0.5952\n",
      "Epoch 4/5\n",
      "27/27 [==============================] - 3s 111ms/step - loss: 0.6661 - accuracy: 0.6177\n",
      "Epoch 5/5\n",
      "27/27 [==============================] - 3s 113ms/step - loss: 0.6620 - accuracy: 0.6132\n",
      "11/11 [==============================] - 1s 15ms/step\n",
      "Epoch 1/5\n",
      "27/27 [==============================] - 6s 110ms/step - loss: 0.7017 - accuracy: 0.5517\n",
      "Epoch 2/5\n",
      "27/27 [==============================] - 3s 112ms/step - loss: 0.6721 - accuracy: 0.5787\n",
      "Epoch 3/5\n",
      "27/27 [==============================] - 3s 108ms/step - loss: 0.6691 - accuracy: 0.5922\n",
      "Epoch 4/5\n",
      "27/27 [==============================] - 3s 117ms/step - loss: 0.6641 - accuracy: 0.6027\n",
      "Epoch 5/5\n",
      "27/27 [==============================] - 3s 111ms/step - loss: 0.6636 - accuracy: 0.5982\n",
      "11/11 [==============================] - 1s 14ms/step\n",
      "Epoch 1/5\n",
      "27/27 [==============================] - 7s 109ms/step - loss: 0.6799 - accuracy: 0.5721\n",
      "Epoch 2/5\n",
      "27/27 [==============================] - 3s 111ms/step - loss: 0.6718 - accuracy: 0.5751\n",
      "Epoch 3/5\n",
      "27/27 [==============================] - 3s 112ms/step - loss: 0.6673 - accuracy: 0.5841\n",
      "Epoch 4/5\n",
      "27/27 [==============================] - 3s 110ms/step - loss: 0.6674 - accuracy: 0.6021\n",
      "Epoch 5/5\n",
      "27/27 [==============================] - 3s 110ms/step - loss: 0.6638 - accuracy: 0.5901\n",
      "11/11 [==============================] - 1s 18ms/step\n",
      "Epoch 1/5\n",
      "27/27 [==============================] - 7s 113ms/step - loss: 0.6890 - accuracy: 0.5247\n",
      "Epoch 2/5\n",
      "27/27 [==============================] - 3s 115ms/step - loss: 0.6680 - accuracy: 0.5937\n",
      "Epoch 3/5\n",
      "27/27 [==============================] - 3s 115ms/step - loss: 0.6664 - accuracy: 0.6057\n",
      "Epoch 4/5\n",
      "27/27 [==============================] - 3s 117ms/step - loss: 0.6617 - accuracy: 0.6222\n",
      "Epoch 5/5\n",
      "27/27 [==============================] - 3s 116ms/step - loss: 0.6564 - accuracy: 0.6192\n",
      "11/11 [==============================] - 1s 22ms/step\n",
      "Epoch 1/5\n",
      "27/27 [==============================] - 6s 114ms/step - loss: 0.6912 - accuracy: 0.5622\n",
      "Epoch 2/5\n",
      "27/27 [==============================] - 3s 115ms/step - loss: 0.6772 - accuracy: 0.5907\n",
      "Epoch 3/5\n",
      "27/27 [==============================] - 3s 120ms/step - loss: 0.6711 - accuracy: 0.5997\n",
      "Epoch 4/5\n",
      "27/27 [==============================] - 3s 123ms/step - loss: 0.6696 - accuracy: 0.6087\n",
      "Epoch 5/5\n",
      "27/27 [==============================] - 3s 115ms/step - loss: 0.6659 - accuracy: 0.6027\n",
      "11/11 [==============================] - 1s 22ms/step\n",
      "Epoch 1/5\n",
      "27/27 [==============================] - 8s 155ms/step - loss: 0.6856 - accuracy: 0.5480\n",
      "Epoch 2/5\n",
      "27/27 [==============================] - 4s 152ms/step - loss: 0.6744 - accuracy: 0.5616\n",
      "Epoch 3/5\n",
      "27/27 [==============================] - 4s 153ms/step - loss: 0.6635 - accuracy: 0.5961\n",
      "Epoch 4/5\n",
      "27/27 [==============================] - 4s 153ms/step - loss: 0.6661 - accuracy: 0.5946\n",
      "Epoch 5/5\n",
      "27/27 [==============================] - 4s 160ms/step - loss: 0.6610 - accuracy: 0.6051\n",
      "11/11 [==============================] - 2s 42ms/step\n",
      "Epoch 1/5\n",
      "27/27 [==============================] - 8s 153ms/step - loss: 0.6816 - accuracy: 0.5712\n",
      "Epoch 2/5\n",
      "27/27 [==============================] - 4s 151ms/step - loss: 0.6718 - accuracy: 0.6177\n",
      "Epoch 3/5\n",
      "27/27 [==============================] - 4s 154ms/step - loss: 0.6620 - accuracy: 0.6162\n",
      "Epoch 4/5\n",
      "27/27 [==============================] - 4s 142ms/step - loss: 0.6623 - accuracy: 0.6147\n",
      "Epoch 5/5\n",
      "27/27 [==============================] - 4s 149ms/step - loss: 0.6617 - accuracy: 0.6102\n",
      "11/11 [==============================] - 1s 32ms/step\n",
      "Epoch 1/5\n",
      "27/27 [==============================] - 7s 144ms/step - loss: 0.6859 - accuracy: 0.5472\n",
      "Epoch 2/5\n",
      "27/27 [==============================] - 4s 146ms/step - loss: 0.6702 - accuracy: 0.5787\n",
      "Epoch 3/5\n",
      "27/27 [==============================] - 4s 145ms/step - loss: 0.6640 - accuracy: 0.6102\n",
      "Epoch 4/5\n",
      "27/27 [==============================] - 4s 144ms/step - loss: 0.6653 - accuracy: 0.6042\n",
      "Epoch 5/5\n",
      "27/27 [==============================] - 4s 147ms/step - loss: 0.6572 - accuracy: 0.6162\n",
      "11/11 [==============================] - 1s 26ms/step\n",
      "Epoch 1/5\n",
      "27/27 [==============================] - 9s 69ms/step - loss: 0.6987 - accuracy: 0.5420\n",
      "Epoch 2/5\n",
      "27/27 [==============================] - 2s 71ms/step - loss: 0.6767 - accuracy: 0.5616\n",
      "Epoch 3/5\n",
      "27/27 [==============================] - 2s 71ms/step - loss: 0.6721 - accuracy: 0.5706\n",
      "Epoch 4/5\n",
      "27/27 [==============================] - 2s 71ms/step - loss: 0.6716 - accuracy: 0.5796\n",
      "Epoch 5/5\n",
      "27/27 [==============================] - 2s 73ms/step - loss: 0.6692 - accuracy: 0.5931\n",
      "11/11 [==============================] - 2s 16ms/step\n",
      "Epoch 1/5\n",
      "27/27 [==============================] - 9s 70ms/step - loss: 0.7104 - accuracy: 0.4993\n",
      "Epoch 2/5\n",
      "27/27 [==============================] - 2s 74ms/step - loss: 0.6754 - accuracy: 0.5937\n",
      "Epoch 3/5\n",
      "27/27 [==============================] - 2s 77ms/step - loss: 0.6685 - accuracy: 0.5982\n",
      "Epoch 4/5\n",
      "27/27 [==============================] - 2s 76ms/step - loss: 0.6643 - accuracy: 0.6072\n",
      "Epoch 5/5\n",
      "27/27 [==============================] - 2s 76ms/step - loss: 0.6636 - accuracy: 0.5907\n",
      "11/11 [==============================] - 2s 16ms/step\n",
      "Epoch 1/5\n",
      "27/27 [==============================] - 9s 69ms/step - loss: 0.6873 - accuracy: 0.5307\n",
      "Epoch 2/5\n",
      "27/27 [==============================] - 2s 71ms/step - loss: 0.6731 - accuracy: 0.5877\n",
      "Epoch 3/5\n",
      "27/27 [==============================] - 2s 70ms/step - loss: 0.6691 - accuracy: 0.5922\n",
      "Epoch 4/5\n",
      "27/27 [==============================] - 2s 71ms/step - loss: 0.6658 - accuracy: 0.6012\n",
      "Epoch 5/5\n",
      "27/27 [==============================] - 2s 70ms/step - loss: 0.6624 - accuracy: 0.6252\n",
      "11/11 [==============================] - 2s 16ms/step\n",
      "Epoch 1/5\n",
      "27/27 [==============================] - 8s 72ms/step - loss: 0.6823 - accuracy: 0.5526\n",
      "Epoch 2/5\n",
      "27/27 [==============================] - 2s 72ms/step - loss: 0.6760 - accuracy: 0.5706\n",
      "Epoch 3/5\n",
      "27/27 [==============================] - 2s 72ms/step - loss: 0.6698 - accuracy: 0.5946\n",
      "Epoch 4/5\n",
      "27/27 [==============================] - 2s 73ms/step - loss: 0.6713 - accuracy: 0.6036\n",
      "Epoch 5/5\n",
      "27/27 [==============================] - 2s 76ms/step - loss: 0.6661 - accuracy: 0.6021\n",
      "11/11 [==============================] - 2s 24ms/step\n",
      "Epoch 1/5\n",
      "27/27 [==============================] - 7s 70ms/step - loss: 0.6901 - accuracy: 0.5427\n",
      "Epoch 2/5\n",
      "27/27 [==============================] - 2s 71ms/step - loss: 0.6715 - accuracy: 0.5937\n",
      "Epoch 3/5\n",
      "27/27 [==============================] - 2s 71ms/step - loss: 0.6685 - accuracy: 0.5982\n",
      "Epoch 4/5\n",
      "27/27 [==============================] - 2s 72ms/step - loss: 0.6622 - accuracy: 0.6207\n",
      "Epoch 5/5\n",
      "27/27 [==============================] - 2s 73ms/step - loss: 0.6589 - accuracy: 0.6192\n",
      "11/11 [==============================] - 2s 24ms/step\n",
      "Epoch 1/5\n",
      "27/27 [==============================] - 9s 72ms/step - loss: 0.6827 - accuracy: 0.5622\n",
      "Epoch 2/5\n",
      "27/27 [==============================] - 2s 74ms/step - loss: 0.6683 - accuracy: 0.5952\n",
      "Epoch 3/5\n",
      "27/27 [==============================] - 2s 73ms/step - loss: 0.6677 - accuracy: 0.6117\n",
      "Epoch 4/5\n",
      "27/27 [==============================] - 2s 74ms/step - loss: 0.6641 - accuracy: 0.6192\n",
      "Epoch 5/5\n",
      "27/27 [==============================] - 2s 76ms/step - loss: 0.6634 - accuracy: 0.6177\n",
      "11/11 [==============================] - 2s 24ms/step\n",
      "Epoch 1/5\n",
      "27/27 [==============================] - 9s 113ms/step - loss: 0.6872 - accuracy: 0.5495\n",
      "Epoch 2/5\n",
      "27/27 [==============================] - 3s 118ms/step - loss: 0.6690 - accuracy: 0.5916\n",
      "Epoch 3/5\n",
      "27/27 [==============================] - 4s 134ms/step - loss: 0.6666 - accuracy: 0.5826\n",
      "Epoch 4/5\n",
      "27/27 [==============================] - 3s 128ms/step - loss: 0.6686 - accuracy: 0.5976\n",
      "Epoch 5/5\n",
      "27/27 [==============================] - 3s 120ms/step - loss: 0.6630 - accuracy: 0.6081\n",
      "11/11 [==============================] - 2s 39ms/step\n",
      "Epoch 1/5\n",
      "27/27 [==============================] - 9s 111ms/step - loss: 0.6888 - accuracy: 0.5442\n",
      "Epoch 2/5\n",
      "27/27 [==============================] - 3s 117ms/step - loss: 0.6673 - accuracy: 0.5982\n",
      "Epoch 3/5\n",
      "27/27 [==============================] - 3s 118ms/step - loss: 0.6693 - accuracy: 0.5997\n",
      "Epoch 4/5\n",
      "27/27 [==============================] - 3s 120ms/step - loss: 0.6593 - accuracy: 0.6177\n",
      "Epoch 5/5\n",
      "27/27 [==============================] - 3s 117ms/step - loss: 0.6634 - accuracy: 0.6087\n",
      "11/11 [==============================] - 2s 40ms/step\n",
      "Epoch 1/5\n",
      "27/27 [==============================] - 12s 117ms/step - loss: 0.6922 - accuracy: 0.5187\n",
      "Epoch 2/5\n",
      "27/27 [==============================] - 3s 125ms/step - loss: 0.6713 - accuracy: 0.5997\n",
      "Epoch 3/5\n",
      "27/27 [==============================] - 3s 129ms/step - loss: 0.6694 - accuracy: 0.6072\n",
      "Epoch 4/5\n",
      "27/27 [==============================] - 3s 128ms/step - loss: 0.6655 - accuracy: 0.6147\n",
      "Epoch 5/5\n",
      "27/27 [==============================] - 4s 131ms/step - loss: 0.6632 - accuracy: 0.6192\n",
      "11/11 [==============================] - 2s 39ms/step\n",
      "Epoch 1/5\n",
      "27/27 [==============================] - 6s 116ms/step - loss: 0.7040 - accuracy: 0.5105\n",
      "Epoch 2/5\n",
      "27/27 [==============================] - 3s 113ms/step - loss: 0.6782 - accuracy: 0.5661\n",
      "Epoch 3/5\n",
      "27/27 [==============================] - 3s 111ms/step - loss: 0.6772 - accuracy: 0.5646\n",
      "Epoch 4/5\n",
      "27/27 [==============================] - 3s 111ms/step - loss: 0.6694 - accuracy: 0.5736\n",
      "Epoch 5/5\n",
      "27/27 [==============================] - 3s 109ms/step - loss: 0.6647 - accuracy: 0.6051\n",
      "11/11 [==============================] - 1s 14ms/step\n",
      "Epoch 1/5\n",
      "27/27 [==============================] - 7s 115ms/step - loss: 0.6903 - accuracy: 0.5442\n",
      "Epoch 2/5\n",
      "27/27 [==============================] - 3s 115ms/step - loss: 0.6768 - accuracy: 0.5892\n",
      "Epoch 3/5\n",
      "27/27 [==============================] - 3s 111ms/step - loss: 0.6699 - accuracy: 0.6117\n",
      "Epoch 4/5\n",
      "27/27 [==============================] - 3s 111ms/step - loss: 0.6641 - accuracy: 0.6027\n",
      "Epoch 5/5\n",
      "27/27 [==============================] - 3s 113ms/step - loss: 0.6635 - accuracy: 0.6162\n",
      "11/11 [==============================] - 1s 16ms/step\n",
      "Epoch 1/5\n",
      "27/27 [==============================] - 6s 107ms/step - loss: 0.7365 - accuracy: 0.4528\n",
      "Epoch 2/5\n",
      "27/27 [==============================] - 3s 108ms/step - loss: 0.6811 - accuracy: 0.5472\n",
      "Epoch 3/5\n",
      "27/27 [==============================] - 3s 108ms/step - loss: 0.6707 - accuracy: 0.5922\n",
      "Epoch 4/5\n",
      "27/27 [==============================] - 3s 111ms/step - loss: 0.6696 - accuracy: 0.5937\n",
      "Epoch 5/5\n",
      "27/27 [==============================] - 3s 112ms/step - loss: 0.6702 - accuracy: 0.5952\n",
      "11/11 [==============================] - 0s 14ms/step\n",
      "Epoch 1/5\n",
      "27/27 [==============================] - 7s 113ms/step - loss: 0.6887 - accuracy: 0.5616\n",
      "Epoch 2/5\n",
      "27/27 [==============================] - 3s 111ms/step - loss: 0.6692 - accuracy: 0.5916\n",
      "Epoch 3/5\n",
      "27/27 [==============================] - 3s 111ms/step - loss: 0.6655 - accuracy: 0.5901\n",
      "Epoch 4/5\n",
      "27/27 [==============================] - 3s 112ms/step - loss: 0.6632 - accuracy: 0.5976\n",
      "Epoch 5/5\n",
      "27/27 [==============================] - 3s 119ms/step - loss: 0.6656 - accuracy: 0.6066\n",
      "11/11 [==============================] - 1s 23ms/step\n",
      "Epoch 1/5\n",
      "27/27 [==============================] - 6s 117ms/step - loss: 0.7100 - accuracy: 0.5052\n",
      "Epoch 2/5\n",
      "27/27 [==============================] - 3s 115ms/step - loss: 0.6725 - accuracy: 0.5892\n",
      "Epoch 3/5\n",
      "27/27 [==============================] - 3s 115ms/step - loss: 0.6697 - accuracy: 0.6192\n",
      "Epoch 4/5\n",
      "27/27 [==============================] - 3s 116ms/step - loss: 0.6604 - accuracy: 0.6117\n",
      "Epoch 5/5\n",
      "27/27 [==============================] - 3s 114ms/step - loss: 0.6634 - accuracy: 0.6012\n",
      "11/11 [==============================] - 1s 27ms/step\n",
      "Epoch 1/5\n",
      "27/27 [==============================] - 7s 116ms/step - loss: 0.6931 - accuracy: 0.5172\n",
      "Epoch 2/5\n",
      "27/27 [==============================] - 3s 114ms/step - loss: 0.6732 - accuracy: 0.5922\n",
      "Epoch 3/5\n",
      "27/27 [==============================] - 3s 113ms/step - loss: 0.6654 - accuracy: 0.5952\n",
      "Epoch 4/5\n",
      "27/27 [==============================] - 3s 113ms/step - loss: 0.6635 - accuracy: 0.6147\n",
      "Epoch 5/5\n",
      "27/27 [==============================] - 3s 117ms/step - loss: 0.6649 - accuracy: 0.6162\n",
      "11/11 [==============================] - 1s 19ms/step\n",
      "Epoch 1/5\n",
      "27/27 [==============================] - 7s 145ms/step - loss: 0.6960 - accuracy: 0.5135\n",
      "Epoch 2/5\n",
      "27/27 [==============================] - 4s 145ms/step - loss: 0.6737 - accuracy: 0.5676\n",
      "Epoch 3/5\n",
      "27/27 [==============================] - 4s 152ms/step - loss: 0.6711 - accuracy: 0.5931\n",
      "Epoch 4/5\n",
      "27/27 [==============================] - 4s 145ms/step - loss: 0.6654 - accuracy: 0.5871\n",
      "Epoch 5/5\n",
      "27/27 [==============================] - 4s 144ms/step - loss: 0.6660 - accuracy: 0.5976\n",
      "11/11 [==============================] - 1s 25ms/step\n",
      "Epoch 1/5\n",
      "27/27 [==============================] - 7s 139ms/step - loss: 0.6968 - accuracy: 0.5262\n",
      "Epoch 2/5\n",
      "27/27 [==============================] - 4s 140ms/step - loss: 0.6740 - accuracy: 0.5922\n",
      "Epoch 3/5\n",
      "27/27 [==============================] - 4s 142ms/step - loss: 0.6700 - accuracy: 0.6012\n",
      "Epoch 4/5\n",
      "27/27 [==============================] - 4s 139ms/step - loss: 0.6609 - accuracy: 0.6162\n",
      "Epoch 5/5\n",
      "27/27 [==============================] - 5s 182ms/step - loss: 0.6651 - accuracy: 0.6192\n",
      "11/11 [==============================] - 1s 27ms/step\n",
      "Epoch 1/5\n",
      "27/27 [==============================] - 9s 169ms/step - loss: 0.6789 - accuracy: 0.5787\n",
      "Epoch 2/5\n",
      "27/27 [==============================] - 4s 156ms/step - loss: 0.6691 - accuracy: 0.5877\n",
      "Epoch 3/5\n",
      "27/27 [==============================] - 4s 162ms/step - loss: 0.6689 - accuracy: 0.6072\n",
      "Epoch 4/5\n",
      "27/27 [==============================] - 5s 184ms/step - loss: 0.6668 - accuracy: 0.6192\n",
      "Epoch 5/5\n",
      "27/27 [==============================] - 4s 163ms/step - loss: 0.6624 - accuracy: 0.6042\n",
      "11/11 [==============================] - 1s 38ms/step\n"
     ]
    },
    {
     "data": {
      "text/plain": "GridSearchCV(cv=3,\n             estimator=<keras.wrappers.scikit_learn.KerasClassifier object at 0x0000016190CE23B0>,\n             param_grid={'dropout': [0.15, 0.2, 0.3],\n                         'recurrent_activation': ['sigmoid', 'hard_sigmoid'],\n                         'units': [24, 32, 48]},\n             refit=False, scoring='accuracy', verbose=True)",
      "text/html": "<style>#sk-container-id-18 {color: black;}#sk-container-id-18 pre{padding: 0;}#sk-container-id-18 div.sk-toggleable {background-color: white;}#sk-container-id-18 label.sk-toggleable__label {cursor: pointer;display: block;width: 100%;margin-bottom: 0;padding: 0.3em;box-sizing: border-box;text-align: center;}#sk-container-id-18 label.sk-toggleable__label-arrow:before {content: \"▸\";float: left;margin-right: 0.25em;color: #696969;}#sk-container-id-18 label.sk-toggleable__label-arrow:hover:before {color: black;}#sk-container-id-18 div.sk-estimator:hover label.sk-toggleable__label-arrow:before {color: black;}#sk-container-id-18 div.sk-toggleable__content {max-height: 0;max-width: 0;overflow: hidden;text-align: left;background-color: #f0f8ff;}#sk-container-id-18 div.sk-toggleable__content pre {margin: 0.2em;color: black;border-radius: 0.25em;background-color: #f0f8ff;}#sk-container-id-18 input.sk-toggleable__control:checked~div.sk-toggleable__content {max-height: 200px;max-width: 100%;overflow: auto;}#sk-container-id-18 input.sk-toggleable__control:checked~label.sk-toggleable__label-arrow:before {content: \"▾\";}#sk-container-id-18 div.sk-estimator input.sk-toggleable__control:checked~label.sk-toggleable__label {background-color: #d4ebff;}#sk-container-id-18 div.sk-label input.sk-toggleable__control:checked~label.sk-toggleable__label {background-color: #d4ebff;}#sk-container-id-18 input.sk-hidden--visually {border: 0;clip: rect(1px 1px 1px 1px);clip: rect(1px, 1px, 1px, 1px);height: 1px;margin: -1px;overflow: hidden;padding: 0;position: absolute;width: 1px;}#sk-container-id-18 div.sk-estimator {font-family: monospace;background-color: #f0f8ff;border: 1px dotted black;border-radius: 0.25em;box-sizing: border-box;margin-bottom: 0.5em;}#sk-container-id-18 div.sk-estimator:hover {background-color: #d4ebff;}#sk-container-id-18 div.sk-parallel-item::after {content: \"\";width: 100%;border-bottom: 1px solid gray;flex-grow: 1;}#sk-container-id-18 div.sk-label:hover label.sk-toggleable__label {background-color: #d4ebff;}#sk-container-id-18 div.sk-serial::before {content: \"\";position: absolute;border-left: 1px solid gray;box-sizing: border-box;top: 0;bottom: 0;left: 50%;z-index: 0;}#sk-container-id-18 div.sk-serial {display: flex;flex-direction: column;align-items: center;background-color: white;padding-right: 0.2em;padding-left: 0.2em;position: relative;}#sk-container-id-18 div.sk-item {position: relative;z-index: 1;}#sk-container-id-18 div.sk-parallel {display: flex;align-items: stretch;justify-content: center;background-color: white;position: relative;}#sk-container-id-18 div.sk-item::before, #sk-container-id-18 div.sk-parallel-item::before {content: \"\";position: absolute;border-left: 1px solid gray;box-sizing: border-box;top: 0;bottom: 0;left: 50%;z-index: -1;}#sk-container-id-18 div.sk-parallel-item {display: flex;flex-direction: column;z-index: 1;position: relative;background-color: white;}#sk-container-id-18 div.sk-parallel-item:first-child::after {align-self: flex-end;width: 50%;}#sk-container-id-18 div.sk-parallel-item:last-child::after {align-self: flex-start;width: 50%;}#sk-container-id-18 div.sk-parallel-item:only-child::after {width: 0;}#sk-container-id-18 div.sk-dashed-wrapped {border: 1px dashed gray;margin: 0 0.4em 0.5em 0.4em;box-sizing: border-box;padding-bottom: 0.4em;background-color: white;}#sk-container-id-18 div.sk-label label {font-family: monospace;font-weight: bold;display: inline-block;line-height: 1.2em;}#sk-container-id-18 div.sk-label-container {text-align: center;}#sk-container-id-18 div.sk-container {/* jupyter's `normalize.less` sets `[hidden] { display: none; }` but bootstrap.min.css set `[hidden] { display: none !important; }` so we also need the `!important` here to be able to override the default hidden behavior on the sphinx rendered scikit-learn.org. See: https://github.com/scikit-learn/scikit-learn/issues/21755 */display: inline-block !important;position: relative;}#sk-container-id-18 div.sk-text-repr-fallback {display: none;}</style><div id=\"sk-container-id-18\" class=\"sk-top-container\"><div class=\"sk-text-repr-fallback\"><pre>GridSearchCV(cv=3,\n             estimator=&lt;keras.wrappers.scikit_learn.KerasClassifier object at 0x0000016190CE23B0&gt;,\n             param_grid={&#x27;dropout&#x27;: [0.15, 0.2, 0.3],\n                         &#x27;recurrent_activation&#x27;: [&#x27;sigmoid&#x27;, &#x27;hard_sigmoid&#x27;],\n                         &#x27;units&#x27;: [24, 32, 48]},\n             refit=False, scoring=&#x27;accuracy&#x27;, verbose=True)</pre><b>In a Jupyter environment, please rerun this cell to show the HTML representation or trust the notebook. <br />On GitHub, the HTML representation is unable to render, please try loading this page with nbviewer.org.</b></div><div class=\"sk-container\" hidden><div class=\"sk-item sk-dashed-wrapped\"><div class=\"sk-label-container\"><div class=\"sk-label sk-toggleable\"><input class=\"sk-toggleable__control sk-hidden--visually\" id=\"sk-estimator-id-52\" type=\"checkbox\" ><label for=\"sk-estimator-id-52\" class=\"sk-toggleable__label sk-toggleable__label-arrow\">GridSearchCV</label><div class=\"sk-toggleable__content\"><pre>GridSearchCV(cv=3,\n             estimator=&lt;keras.wrappers.scikit_learn.KerasClassifier object at 0x0000016190CE23B0&gt;,\n             param_grid={&#x27;dropout&#x27;: [0.15, 0.2, 0.3],\n                         &#x27;recurrent_activation&#x27;: [&#x27;sigmoid&#x27;, &#x27;hard_sigmoid&#x27;],\n                         &#x27;units&#x27;: [24, 32, 48]},\n             refit=False, scoring=&#x27;accuracy&#x27;, verbose=True)</pre></div></div></div><div class=\"sk-parallel\"><div class=\"sk-parallel-item\"><div class=\"sk-item\"><div class=\"sk-label-container\"><div class=\"sk-label sk-toggleable\"><input class=\"sk-toggleable__control sk-hidden--visually\" id=\"sk-estimator-id-53\" type=\"checkbox\" ><label for=\"sk-estimator-id-53\" class=\"sk-toggleable__label sk-toggleable__label-arrow\">estimator: KerasClassifier</label><div class=\"sk-toggleable__content\"><pre>&lt;keras.wrappers.scikit_learn.KerasClassifier object at 0x0000016190CE23B0&gt;</pre></div></div></div><div class=\"sk-serial\"><div class=\"sk-item\"><div class=\"sk-estimator sk-toggleable\"><input class=\"sk-toggleable__control sk-hidden--visually\" id=\"sk-estimator-id-54\" type=\"checkbox\" ><label for=\"sk-estimator-id-54\" class=\"sk-toggleable__label sk-toggleable__label-arrow\">KerasClassifier</label><div class=\"sk-toggleable__content\"><pre>&lt;keras.wrappers.scikit_learn.KerasClassifier object at 0x0000016190CE23B0&gt;</pre></div></div></div></div></div></div></div></div></div></div>"
     },
     "execution_count": 496,
     "metadata": {},
     "output_type": "execute_result"
    }
   ],
   "source": [
    "from keras.wrappers.scikit_learn import KerasClassifier\n",
    "from sklearn.model_selection import GridSearchCV\n",
    "\n",
    "param_grid = {\n",
    "    'units': [24, 32, 48],\n",
    "    'dropout': [0.15, 0.2, 0.3],\n",
    "    'recurrent_activation' : ['sigmoid', 'hard_sigmoid'],\n",
    "}\n",
    "\n",
    "def create_ltsm_model(units, dropout, recurrent_activation):\n",
    "    model = keras.Sequential()\n",
    "\n",
    "    model.add(keras.layers.Masking(mask_value=0))\n",
    "    # model.add(LSTM(32, dropout=0.2, return_sequences=True))\n",
    "    model.add(LSTM(units=units, dropout=dropout, activation='tanh', recurrent_activation=recurrent_activation))\n",
    "    model.add(Dense(1, activation='sigmoid'))\n",
    "    model.compile(loss='binary_crossentropy', optimizer='adam', metrics=['accuracy'])\n",
    "    return model\n",
    "\n",
    "kc = KerasClassifier(build_fn=create_ltsm_model, batch_size=25, epochs=5)\n",
    "\n",
    "## XXXXXXXXXXXXXXX This sample size reduces the cohort XXXXX\n",
    "sample_size = 1000\n",
    "random_indices = np.random.choice(len(X), size=sample_size, replace=False)\n",
    "\n",
    "# Use the random indices to select elements from both arrays\n",
    "X_cv = X_sequences[random_indices]\n",
    "y_cv = y_sequences[random_indices]\n",
    "\n",
    "#Call the GridSearchCV function to analyse each possible combination of parameters\n",
    "#split training data into 5 folds, train with 4 validate with the 5th, change the training 4\n",
    "CV_ltsm = GridSearchCV(estimator = kc, param_grid = param_grid, cv= 3, verbose=True, refit=False, scoring='accuracy')\n",
    "CV_ltsm.fit(X_cv, y_cv)\n"
   ],
   "metadata": {
    "collapsed": false,
    "ExecuteTime": {
     "end_time": "2023-11-03T05:15:11.471774500Z",
     "start_time": "2023-11-03T04:56:17.876200600Z"
    }
   },
   "id": "2503b93d8ff2dc8c"
  },
  {
   "cell_type": "code",
   "execution_count": 497,
   "outputs": [
    {
     "data": {
      "text/plain": "{'dropout': 0.3, 'recurrent_activation': 'hard_sigmoid', 'units': 48}"
     },
     "execution_count": 497,
     "metadata": {},
     "output_type": "execute_result"
    }
   ],
   "source": [
    "CV_ltsm.best_params_"
   ],
   "metadata": {
    "collapsed": false,
    "ExecuteTime": {
     "end_time": "2023-11-03T05:15:11.562048900Z",
     "start_time": "2023-11-03T05:15:11.448321900Z"
    }
   },
   "id": "2965f3d7e3958fb0"
  },
  {
   "cell_type": "code",
   "execution_count": 498,
   "outputs": [
    {
     "name": "stdout",
     "output_type": "stream",
     "text": [
      "Compiled with {'dropout': 0.3, 'recurrent_activation': 'hard_sigmoid', 'units': 48}\n"
     ]
    }
   ],
   "source": [
    "from keras.layers import LSTM, Dense, GRU\n",
    "from keras.callbacks import EarlyStopping\n",
    "\n",
    "ltsm_model = create_ltsm_model(units=CV_ltsm.best_params_['units'],\n",
    "                          dropout=CV_ltsm.best_params_['dropout'],\n",
    "                          recurrent_activation=CV_ltsm.best_params_['recurrent_activation'])\n",
    "\n",
    "print(f\"Compiled with {CV_ltsm.best_params_}\")\n",
    "ltsm_model.compile(loss='binary_crossentropy', optimizer='adam', metrics=['accuracy'])"
   ],
   "metadata": {
    "collapsed": false,
    "ExecuteTime": {
     "end_time": "2023-11-03T05:15:11.610917900Z",
     "start_time": "2023-11-03T05:15:11.475763200Z"
    }
   },
   "id": "b713cebaa975c4ee"
  },
  {
   "cell_type": "code",
   "execution_count": 499,
   "outputs": [
    {
     "name": "stdout",
     "output_type": "stream",
     "text": [
      "Running with EPOCHS100 and BATCH_SIZE100 and shape (3096, 144, 16)\n",
      "Epoch 1/100\n",
      "31/31 [==============================] - 10s 217ms/step - loss: 0.6769 - accuracy: 0.5633\n",
      "Epoch 2/100\n",
      "31/31 [==============================] - 7s 216ms/step - loss: 0.6652 - accuracy: 0.5963\n",
      "Epoch 3/100\n",
      "31/31 [==============================] - 7s 210ms/step - loss: 0.6657 - accuracy: 0.5988\n",
      "Epoch 4/100\n",
      "31/31 [==============================] - 7s 211ms/step - loss: 0.6648 - accuracy: 0.6050\n",
      "Epoch 5/100\n",
      "31/31 [==============================] - 6s 209ms/step - loss: 0.6669 - accuracy: 0.6043\n",
      "Epoch 6/100\n",
      "31/31 [==============================] - 7s 212ms/step - loss: 0.6648 - accuracy: 0.5975\n",
      "Epoch 7/100\n",
      "31/31 [==============================] - 7s 210ms/step - loss: 0.6624 - accuracy: 0.6059\n",
      "Epoch 8/100\n",
      "31/31 [==============================] - 7s 210ms/step - loss: 0.6612 - accuracy: 0.6008\n",
      "Epoch 9/100\n",
      "31/31 [==============================] - 6s 209ms/step - loss: 0.6594 - accuracy: 0.6118\n",
      "Epoch 10/100\n",
      "31/31 [==============================] - 7s 210ms/step - loss: 0.6594 - accuracy: 0.6072\n",
      "Epoch 11/100\n",
      "31/31 [==============================] - 7s 214ms/step - loss: 0.6608 - accuracy: 0.6034\n",
      "Epoch 12/100\n",
      "31/31 [==============================] - 7s 217ms/step - loss: 0.6606 - accuracy: 0.6066\n",
      "Epoch 13/100\n",
      "31/31 [==============================] - 7s 213ms/step - loss: 0.6582 - accuracy: 0.6176\n",
      "Epoch 14/100\n",
      "31/31 [==============================] - 7s 217ms/step - loss: 0.6580 - accuracy: 0.6082\n",
      "Epoch 15/100\n",
      "31/31 [==============================] - 7s 223ms/step - loss: 0.6566 - accuracy: 0.6098\n",
      "Epoch 16/100\n",
      "31/31 [==============================] - 7s 214ms/step - loss: 0.6556 - accuracy: 0.6101\n",
      "Epoch 17/100\n",
      "31/31 [==============================] - 7s 214ms/step - loss: 0.6543 - accuracy: 0.6114\n",
      "Epoch 18/100\n",
      "31/31 [==============================] - 7s 210ms/step - loss: 0.6515 - accuracy: 0.6156\n",
      "Epoch 19/100\n",
      "31/31 [==============================] - 6s 209ms/step - loss: 0.6470 - accuracy: 0.6263\n",
      "Epoch 20/100\n",
      "31/31 [==============================] - 7s 212ms/step - loss: 0.6486 - accuracy: 0.6282\n",
      "Epoch 21/100\n",
      "31/31 [==============================] - 7s 215ms/step - loss: 0.6454 - accuracy: 0.6234\n",
      "Epoch 22/100\n",
      "31/31 [==============================] - 7s 210ms/step - loss: 0.6467 - accuracy: 0.6269\n",
      "Epoch 23/100\n",
      "31/31 [==============================] - 7s 211ms/step - loss: 0.6438 - accuracy: 0.6286\n",
      "Epoch 24/100\n",
      "31/31 [==============================] - 7s 223ms/step - loss: 0.6433 - accuracy: 0.6298\n",
      "Epoch 25/100\n",
      "31/31 [==============================] - 7s 213ms/step - loss: 0.6371 - accuracy: 0.6357\n",
      "Epoch 26/100\n",
      "31/31 [==============================] - 7s 215ms/step - loss: 0.6431 - accuracy: 0.6231\n",
      "Epoch 27/100\n",
      "31/31 [==============================] - 7s 212ms/step - loss: 0.6423 - accuracy: 0.6357\n",
      "Epoch 28/100\n",
      "31/31 [==============================] - 7s 221ms/step - loss: 0.6352 - accuracy: 0.6386\n",
      "Epoch 29/100\n",
      "31/31 [==============================] - 7s 215ms/step - loss: 0.6373 - accuracy: 0.6382\n",
      "Epoch 30/100\n",
      "31/31 [==============================] - 7s 217ms/step - loss: 0.6320 - accuracy: 0.6405\n",
      "Epoch 31/100\n",
      "31/31 [==============================] - 7s 214ms/step - loss: 0.6390 - accuracy: 0.6366\n",
      "Epoch 32/100\n",
      "31/31 [==============================] - 7s 214ms/step - loss: 0.6343 - accuracy: 0.6408\n",
      "Epoch 33/100\n",
      "31/31 [==============================] - 7s 224ms/step - loss: 0.6306 - accuracy: 0.6470\n",
      "Epoch 34/100\n",
      "31/31 [==============================] - 7s 218ms/step - loss: 0.6288 - accuracy: 0.6453\n",
      "Epoch 35/100\n",
      "31/31 [==============================] - 7s 226ms/step - loss: 0.6256 - accuracy: 0.6573\n",
      "Epoch 36/100\n",
      "31/31 [==============================] - 7s 212ms/step - loss: 0.6236 - accuracy: 0.6505\n",
      "Epoch 37/100\n",
      "31/31 [==============================] - 7s 213ms/step - loss: 0.6233 - accuracy: 0.6576\n",
      "Epoch 38/100\n",
      "31/31 [==============================] - 7s 210ms/step - loss: 0.6165 - accuracy: 0.6615\n",
      "Epoch 39/100\n",
      "31/31 [==============================] - 7s 210ms/step - loss: 0.6164 - accuracy: 0.6550\n",
      "Epoch 40/100\n",
      "31/31 [==============================] - 6s 209ms/step - loss: 0.6182 - accuracy: 0.6579\n",
      "Epoch 41/100\n",
      "31/31 [==============================] - 7s 212ms/step - loss: 0.6243 - accuracy: 0.6512\n",
      "Epoch 42/100\n",
      "31/31 [==============================] - 7s 211ms/step - loss: 0.6306 - accuracy: 0.6486\n",
      "Epoch 43/100\n",
      "31/31 [==============================] - 7s 211ms/step - loss: 0.6226 - accuracy: 0.6609\n",
      "Epoch 44/100\n",
      "31/31 [==============================] - 7s 214ms/step - loss: 0.6181 - accuracy: 0.6589\n",
      "Epoch 45/100\n",
      "31/31 [==============================] - 7s 216ms/step - loss: 0.6110 - accuracy: 0.6612\n",
      "Epoch 46/100\n",
      "31/31 [==============================] - 7s 220ms/step - loss: 0.6169 - accuracy: 0.6576\n",
      "Epoch 47/100\n",
      "31/31 [==============================] - 7s 213ms/step - loss: 0.6155 - accuracy: 0.6625\n",
      "Epoch 48/100\n",
      "31/31 [==============================] - 7s 212ms/step - loss: 0.6105 - accuracy: 0.6657\n",
      "Epoch 49/100\n",
      "31/31 [==============================] - 7s 220ms/step - loss: 0.6084 - accuracy: 0.6560\n",
      "Epoch 50/100\n",
      "31/31 [==============================] - 7s 220ms/step - loss: 0.6072 - accuracy: 0.6667\n",
      "Epoch 51/100\n",
      "31/31 [==============================] - 7s 230ms/step - loss: 0.6101 - accuracy: 0.6609\n",
      "Epoch 52/100\n",
      "31/31 [==============================] - 7s 220ms/step - loss: 0.6081 - accuracy: 0.6560\n",
      "Epoch 53/100\n",
      "31/31 [==============================] - 7s 212ms/step - loss: 0.6146 - accuracy: 0.6560\n",
      "Epoch 54/100\n",
      "31/31 [==============================] - 6s 210ms/step - loss: 0.6170 - accuracy: 0.6654\n",
      "Epoch 55/100\n",
      "31/31 [==============================] - 7s 210ms/step - loss: 0.6122 - accuracy: 0.6670\n",
      "Epoch 56/100\n",
      "31/31 [==============================] - 7s 211ms/step - loss: 0.6039 - accuracy: 0.6831\n",
      "Epoch 57/100\n",
      "31/31 [==============================] - 7s 225ms/step - loss: 0.6001 - accuracy: 0.6738\n",
      "Epoch 58/100\n",
      "31/31 [==============================] - 7s 221ms/step - loss: 0.6002 - accuracy: 0.6702\n",
      "Epoch 59/100\n",
      "31/31 [==============================] - 7s 218ms/step - loss: 0.5943 - accuracy: 0.6815\n",
      "Epoch 60/100\n",
      "31/31 [==============================] - 7s 217ms/step - loss: 0.5904 - accuracy: 0.6860\n",
      "Epoch 61/100\n",
      "31/31 [==============================] - 7s 211ms/step - loss: 0.5894 - accuracy: 0.6796\n",
      "Epoch 62/100\n",
      "31/31 [==============================] - 7s 214ms/step - loss: 0.6009 - accuracy: 0.6741\n",
      "Epoch 63/100\n",
      "31/31 [==============================] - 7s 221ms/step - loss: 0.5959 - accuracy: 0.6802\n",
      "Epoch 64/100\n",
      "31/31 [==============================] - 7s 213ms/step - loss: 0.5916 - accuracy: 0.6754\n",
      "Epoch 65/100\n",
      "31/31 [==============================] - 7s 221ms/step - loss: 0.5931 - accuracy: 0.6828\n",
      "Epoch 66/100\n",
      "31/31 [==============================] - 7s 219ms/step - loss: 0.6012 - accuracy: 0.6673\n",
      "Epoch 67/100\n",
      "31/31 [==============================] - 7s 212ms/step - loss: 0.5986 - accuracy: 0.6818\n",
      "Epoch 68/100\n",
      "31/31 [==============================] - 7s 212ms/step - loss: 0.5947 - accuracy: 0.6828\n",
      "Epoch 69/100\n",
      "31/31 [==============================] - 7s 221ms/step - loss: 0.5969 - accuracy: 0.6702\n",
      "Epoch 70/100\n",
      "31/31 [==============================] - 7s 213ms/step - loss: 0.5970 - accuracy: 0.6741\n",
      "Epoch 71/100\n",
      "31/31 [==============================] - 7s 213ms/step - loss: 0.5918 - accuracy: 0.6767\n",
      "Epoch 72/100\n",
      "31/31 [==============================] - 7s 223ms/step - loss: 0.5893 - accuracy: 0.6780\n",
      "Epoch 73/100\n",
      "31/31 [==============================] - 7s 215ms/step - loss: 0.5905 - accuracy: 0.6812\n",
      "Epoch 74/100\n",
      "31/31 [==============================] - 7s 214ms/step - loss: 0.5977 - accuracy: 0.6731\n",
      "Epoch 75/100\n",
      "31/31 [==============================] - 7s 216ms/step - loss: 0.5859 - accuracy: 0.6886\n",
      "Epoch 76/100\n",
      "31/31 [==============================] - 7s 217ms/step - loss: 0.5905 - accuracy: 0.6751\n",
      "Epoch 77/100\n",
      "31/31 [==============================] - 7s 217ms/step - loss: 0.5919 - accuracy: 0.6822\n",
      "Epoch 78/100\n",
      "31/31 [==============================] - 7s 215ms/step - loss: 0.5843 - accuracy: 0.6857\n",
      "Epoch 79/100\n",
      "31/31 [==============================] - 7s 210ms/step - loss: 0.5767 - accuracy: 0.6922\n",
      "Epoch 80/100\n",
      "31/31 [==============================] - 7s 214ms/step - loss: 0.5759 - accuracy: 0.6899\n",
      "Epoch 81/100\n",
      "31/31 [==============================] - 7s 210ms/step - loss: 0.5688 - accuracy: 0.7045\n",
      "Epoch 82/100\n",
      "31/31 [==============================] - 7s 220ms/step - loss: 0.5716 - accuracy: 0.6925\n",
      "Epoch 83/100\n",
      "31/31 [==============================] - 7s 218ms/step - loss: 0.5748 - accuracy: 0.6967\n",
      "Epoch 84/100\n",
      "31/31 [==============================] - 7s 218ms/step - loss: 0.5750 - accuracy: 0.6961\n",
      "Epoch 85/100\n",
      "31/31 [==============================] - 7s 215ms/step - loss: 0.5715 - accuracy: 0.7006\n",
      "Epoch 86/100\n",
      "31/31 [==============================] - 7s 223ms/step - loss: 0.5643 - accuracy: 0.7006\n",
      "Epoch 87/100\n",
      "31/31 [==============================] - 7s 220ms/step - loss: 0.5603 - accuracy: 0.7070\n",
      "Epoch 88/100\n",
      "31/31 [==============================] - 7s 224ms/step - loss: 0.5617 - accuracy: 0.7019\n",
      "Epoch 89/100\n",
      "31/31 [==============================] - 7s 222ms/step - loss: 0.5658 - accuracy: 0.7064\n",
      "Epoch 90/100\n",
      "31/31 [==============================] - 7s 224ms/step - loss: 0.5687 - accuracy: 0.6964\n",
      "Epoch 91/100\n",
      "31/31 [==============================] - 7s 222ms/step - loss: 0.5588 - accuracy: 0.7025\n",
      "Epoch 92/100\n",
      "31/31 [==============================] - 7s 223ms/step - loss: 0.5622 - accuracy: 0.7032\n",
      "Epoch 93/100\n",
      "31/31 [==============================] - 7s 226ms/step - loss: 0.5734 - accuracy: 0.6867\n",
      "Epoch 94/100\n",
      "31/31 [==============================] - 7s 221ms/step - loss: 0.5656 - accuracy: 0.7048\n",
      "Epoch 95/100\n",
      "31/31 [==============================] - 7s 214ms/step - loss: 0.5691 - accuracy: 0.6928\n",
      "Epoch 96/100\n",
      "31/31 [==============================] - 7s 210ms/step - loss: 0.5615 - accuracy: 0.7038\n",
      "Epoch 97/100\n",
      "31/31 [==============================] - 7s 211ms/step - loss: 0.5530 - accuracy: 0.7032\n",
      "Epoch 98/100\n",
      "31/31 [==============================] - 7s 215ms/step - loss: 0.5440 - accuracy: 0.7109\n",
      "Epoch 99/100\n",
      "31/31 [==============================] - 6s 209ms/step - loss: 0.5520 - accuracy: 0.7116\n",
      "Epoch 100/100\n",
      "31/31 [==============================] - 6s 208ms/step - loss: 0.5389 - accuracy: 0.7213\n"
     ]
    }
   ],
   "source": [
    "ltsm_classifer = fit_model(ltsm_model)"
   ],
   "metadata": {
    "collapsed": false,
    "ExecuteTime": {
     "end_time": "2023-11-03T05:26:23.435129600Z",
     "start_time": "2023-11-03T05:15:11.521641100Z"
    }
   },
   "id": "74360e3f58e32aa6"
  },
  {
   "cell_type": "code",
   "execution_count": 500,
   "outputs": [
    {
     "data": {
      "text/plain": "<Figure size 640x480 with 1 Axes>",
      "image/png": "[encoded data removed]"
     },
     "metadata": {},
     "output_type": "display_data"
    },
    {
     "data": {
      "text/plain": "<Figure size 640x480 with 1 Axes>",
      "image/png": "[encoded data removed]"
     },
     "metadata": {},
     "output_type": "display_data"
    }
   ],
   "source": [
    "plot_model(ltsm_classifer)"
   ],
   "metadata": {
    "collapsed": false,
    "ExecuteTime": {
     "end_time": "2023-11-03T05:26:24.286116100Z",
     "start_time": "2023-11-03T05:26:23.420170300Z"
    }
   },
   "id": "1b4a287d591aed43"
  },
  {
   "cell_type": "code",
   "execution_count": 501,
   "outputs": [
    {
     "name": "stdout",
     "output_type": "stream",
     "text": [
      "32/32 [==============================] - 2s 39ms/step - loss: 0.5284 - accuracy: 0.7260\n",
      "Accuracy: 72.60\n",
      "0.528 0.726\n"
     ]
    }
   ],
   "source": [
    "evaluate_model(ltsm_model)"
   ],
   "metadata": {
    "collapsed": false,
    "ExecuteTime": {
     "end_time": "2023-11-03T05:26:26.383530700Z",
     "start_time": "2023-11-03T05:26:24.287111900Z"
    }
   },
   "id": "b3e67ac5ac7c60e0"
  },
  {
   "cell_type": "code",
   "execution_count": 502,
   "outputs": [
    {
     "name": "stdout",
     "output_type": "stream",
     "text": [
      "************ LSTM Evaluation ************\n",
      "Compiled with {'dropout': 0.3, 'recurrent_activation': 'hard_sigmoid', 'units': 48}\n",
      "vitals_data_before_and_after_ABCD.csv\n",
      "(3440, 144, 16)\n",
      "Unique subject ids 1540\n",
      "11/11 [==============================] - 1s 34ms/step\n",
      "   Accuracy  Balanced Accuracy    MCC  F1-Score\n",
      "0      0.57              0.571  0.143     0.567\n"
     ]
    }
   ],
   "source": [
    "print(\"************ LSTM Evaluation ************\")\n",
    "print(f\"Compiled with {CV_ltsm.best_params_}\")\n",
    "print(vitals_filename)\n",
    "print(shape(X_sequences))\n",
    "print(f\"Unique subject ids {vitals_data_df['subject_id'].nunique()}\\n\")\n",
    "test_accuracy(ltsm_model)"
   ],
   "metadata": {
    "collapsed": false,
    "ExecuteTime": {
     "end_time": "2023-11-03T05:26:27.384356700Z",
     "start_time": "2023-11-03T05:26:26.353096500Z"
    }
   },
   "id": "df2500ccc84adabe"
  },
  {
   "cell_type": "code",
   "execution_count": 502,
   "outputs": [],
   "source": [
    "\n"
   ],
   "metadata": {
    "collapsed": false,
    "ExecuteTime": {
     "end_time": "2023-11-03T05:26:27.385354100Z",
     "start_time": "2023-11-03T05:26:27.362905600Z"
    }
   },
   "id": "f0e58b9c2e41ece7"
  },
  {
   "cell_type": "code",
   "execution_count": 502,
   "outputs": [],
   "source": [],
   "metadata": {
    "collapsed": false,
    "ExecuteTime": {
     "end_time": "2023-11-03T05:26:27.480609500Z",
     "start_time": "2023-11-03T05:26:27.376378400Z"
    }
   },
   "id": "cb7bda538d082829"
  }
 ],
 "metadata": {
  "kernelspec": {
   "display_name": "Python 3",
   "language": "python",
   "name": "python3"
  },
  "language_info": {
   "codemirror_mode": {
    "name": "ipython",
    "version": 2
   },
   "file_extension": ".py",
   "mimetype": "text/x-python",
   "name": "python",
   "nbconvert_exporter": "python",
   "pygments_lexer": "ipython2",
   "version": "2.7.6"
  }
 },
 "nbformat": 4,
 "nbformat_minor": 5
}
