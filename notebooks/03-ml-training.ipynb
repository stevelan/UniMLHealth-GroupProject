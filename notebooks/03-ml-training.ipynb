{
 "cells": [
  {
   "cell_type": "code",
   "execution_count": 2,
   "outputs": [],
   "source": [
    "from detectdd import config\n",
    "import numpy as np\n",
    "import tensorflow as tf\n",
    "from matplotlib import pyplot as plt\n",
    "from tensorflow import keras\n",
    "\n",
    "import root_config as rc\n",
    "import pandas as pd\n",
    "from detectdd.serializer import Serializer\n",
    "\n",
    "from sklearn.model_selection import train_test_split\n",
    "\n",
    "rc.configure()\n",
    "\n"
   ],
   "metadata": {
    "collapsed": false,
    "ExecuteTime": {
     "end_time": "2023-10-31T06:32:21.515965900Z",
     "start_time": "2023-10-31T06:32:14.725974Z"
    }
   },
   "id": "73b44864dc58cc8c"
  },
  {
   "cell_type": "markdown",
   "source": [
    "### Pipeline selection\n",
    "The data array and the features in the csv need to match, so uncomment both of them out\n"
   ],
   "metadata": {
    "collapsed": false
   },
   "id": "8cb8a81d04b781d"
  },
  {
   "cell_type": "code",
   "execution_count": 3,
   "outputs": [
    {
     "name": "stdout",
     "output_type": "stream",
     "text": [
      "Unnamed: 0       int64\n",
      "stay_id          int64\n",
      "dose_b_time     object\n",
      "subject_id       int64\n",
      "charttime       object\n",
      "heart_rate     float64\n",
      "sbp            float64\n",
      "dbp            float64\n",
      "mbp            float64\n",
      "dtype: object\n",
      "Duplicates found: 2161\n",
      "Remaining duplicates: 0\n"
     ]
    },
    {
     "data": {
      "text/plain": "     Unnamed: 0   stay_id          dose_b_time  subject_id  \\\n0             0  30000484  2136-01-15 00:59:00    18421337   \n1             1  30000484  2136-01-15 00:59:00    18421337   \n2             2  30000484  2136-01-15 00:59:00    18421337   \n3             3  30000484  2136-01-15 00:59:00    18421337   \n4             4  30000484  2136-01-15 00:59:00    18421337   \n..          ...       ...                  ...         ...   \n495         495  30031686  2144-10-31 16:00:00    18284271   \n496         496  30031686  2144-10-31 16:00:00    18284271   \n497         497  30031686  2144-10-31 16:00:00    18284271   \n498         498  30031686  2144-10-31 16:00:00    18284271   \n499         499  30031686  2144-10-31 16:00:00    18284271   \n\n               charttime  heart_rate    sbp   dbp   mbp  \n0    2136-01-15 03:00:00        84.0   90.0  44.0  54.0  \n1    2136-01-15 07:00:00        83.0   88.0  38.0  50.0  \n2    2136-01-15 09:00:00        83.0  111.0  23.0  46.0  \n3    2136-01-15 08:00:00        90.0  113.0  61.0  75.0  \n4    2136-01-14 18:38:00       106.0    NaN   NaN   NaN  \n..                   ...         ...    ...   ...   ...  \n495  2144-10-31 20:00:00        76.0  156.0  67.0  88.0  \n496  2144-10-31 14:45:00        75.0  110.0  52.0  66.0  \n497  2144-10-31 14:30:00        77.0  120.0  52.0  68.0  \n498  2144-10-31 13:15:00        82.0  120.0  62.0  70.0  \n499  2144-11-01 02:00:00        87.0  108.0  57.0  61.0  \n\n[500 rows x 9 columns]",
      "text/html": "<div>\n<style scoped>\n    .dataframe tbody tr th:only-of-type {\n        vertical-align: middle;\n    }\n\n    .dataframe tbody tr th {\n        vertical-align: top;\n    }\n\n    .dataframe thead th {\n        text-align: right;\n    }\n</style>\n<table border=\"1\" class=\"dataframe\">\n  <thead>\n    <tr style=\"text-align: right;\">\n      <th></th>\n      <th>Unnamed: 0</th>\n      <th>stay_id</th>\n      <th>dose_b_time</th>\n      <th>subject_id</th>\n      <th>charttime</th>\n      <th>heart_rate</th>\n      <th>sbp</th>\n      <th>dbp</th>\n      <th>mbp</th>\n    </tr>\n  </thead>\n  <tbody>\n    <tr>\n      <th>0</th>\n      <td>0</td>\n      <td>30000484</td>\n      <td>2136-01-15 00:59:00</td>\n      <td>18421337</td>\n      <td>2136-01-15 03:00:00</td>\n      <td>84.0</td>\n      <td>90.0</td>\n      <td>44.0</td>\n      <td>54.0</td>\n    </tr>\n    <tr>\n      <th>1</th>\n      <td>1</td>\n      <td>30000484</td>\n      <td>2136-01-15 00:59:00</td>\n      <td>18421337</td>\n      <td>2136-01-15 07:00:00</td>\n      <td>83.0</td>\n      <td>88.0</td>\n      <td>38.0</td>\n      <td>50.0</td>\n    </tr>\n    <tr>\n      <th>2</th>\n      <td>2</td>\n      <td>30000484</td>\n      <td>2136-01-15 00:59:00</td>\n      <td>18421337</td>\n      <td>2136-01-15 09:00:00</td>\n      <td>83.0</td>\n      <td>111.0</td>\n      <td>23.0</td>\n      <td>46.0</td>\n    </tr>\n    <tr>\n      <th>3</th>\n      <td>3</td>\n      <td>30000484</td>\n      <td>2136-01-15 00:59:00</td>\n      <td>18421337</td>\n      <td>2136-01-15 08:00:00</td>\n      <td>90.0</td>\n      <td>113.0</td>\n      <td>61.0</td>\n      <td>75.0</td>\n    </tr>\n    <tr>\n      <th>4</th>\n      <td>4</td>\n      <td>30000484</td>\n      <td>2136-01-15 00:59:00</td>\n      <td>18421337</td>\n      <td>2136-01-14 18:38:00</td>\n      <td>106.0</td>\n      <td>NaN</td>\n      <td>NaN</td>\n      <td>NaN</td>\n    </tr>\n    <tr>\n      <th>...</th>\n      <td>...</td>\n      <td>...</td>\n      <td>...</td>\n      <td>...</td>\n      <td>...</td>\n      <td>...</td>\n      <td>...</td>\n      <td>...</td>\n      <td>...</td>\n    </tr>\n    <tr>\n      <th>495</th>\n      <td>495</td>\n      <td>30031686</td>\n      <td>2144-10-31 16:00:00</td>\n      <td>18284271</td>\n      <td>2144-10-31 20:00:00</td>\n      <td>76.0</td>\n      <td>156.0</td>\n      <td>67.0</td>\n      <td>88.0</td>\n    </tr>\n    <tr>\n      <th>496</th>\n      <td>496</td>\n      <td>30031686</td>\n      <td>2144-10-31 16:00:00</td>\n      <td>18284271</td>\n      <td>2144-10-31 14:45:00</td>\n      <td>75.0</td>\n      <td>110.0</td>\n      <td>52.0</td>\n      <td>66.0</td>\n    </tr>\n    <tr>\n      <th>497</th>\n      <td>497</td>\n      <td>30031686</td>\n      <td>2144-10-31 16:00:00</td>\n      <td>18284271</td>\n      <td>2144-10-31 14:30:00</td>\n      <td>77.0</td>\n      <td>120.0</td>\n      <td>52.0</td>\n      <td>68.0</td>\n    </tr>\n    <tr>\n      <th>498</th>\n      <td>498</td>\n      <td>30031686</td>\n      <td>2144-10-31 16:00:00</td>\n      <td>18284271</td>\n      <td>2144-10-31 13:15:00</td>\n      <td>82.0</td>\n      <td>120.0</td>\n      <td>62.0</td>\n      <td>70.0</td>\n    </tr>\n    <tr>\n      <th>499</th>\n      <td>499</td>\n      <td>30031686</td>\n      <td>2144-10-31 16:00:00</td>\n      <td>18284271</td>\n      <td>2144-11-01 02:00:00</td>\n      <td>87.0</td>\n      <td>108.0</td>\n      <td>57.0</td>\n      <td>61.0</td>\n    </tr>\n  </tbody>\n</table>\n<p>500 rows × 9 columns</p>\n</div>"
     },
     "execution_count": 3,
     "metadata": {},
     "output_type": "execute_result"
    }
   ],
   "source": [
    "# Switch between different csv files, haven't automated detection of this yet. The data array\n",
    "# needs to match the feature columns in the csv, or those features will be ignored.\n",
    "\n",
    "##### uncomment this set of features and \n",
    "data_arrays = [\"heart_rate\", \"sbp\", \"dbp\", \"mbp\"]\n",
    "vitals_data_df = pd.read_csv(config.out_dir / 'vitals_data_before_and_after.csv')\n",
    "vitals_no_ddi = pd.read_csv(config.out_dir / 'vitals_data_no_drug_interaction.csv')\n",
    "\n",
    "# data_arrays = [\"heart_rate\", \"sbp\", \"dbp\", \"mbp\", \"uric acid\", \"creatinine\"]\n",
    "# vitals_data_df = pd.read_csv('vitals_kidney_data.csv')\n",
    "\n",
    "print(vitals_data_df.dtypes)\n",
    "\n",
    "print(f\"Duplicates found: {vitals_no_ddi[vitals_no_ddi['subject_id'].isin(vitals_data_df['subject_id'])]['subject_id'].nunique()}\")\n",
    "vitals_no_ddi = vitals_no_ddi[~vitals_no_ddi['subject_id'].isin(vitals_data_df['subject_id'])]\n",
    "print(f\"Remaining duplicates: {vitals_no_ddi[vitals_no_ddi['subject_id'].isin(vitals_data_df['subject_id'])]['subject_id'].nunique()}\")\n",
    "vitals_data_df.head(500)"
   ],
   "metadata": {
    "collapsed": false,
    "ExecuteTime": {
     "end_time": "2023-10-31T06:32:23.588152700Z",
     "start_time": "2023-10-31T06:32:21.519954800Z"
    }
   },
   "id": "11242a814e8b0279"
  },
  {
   "cell_type": "code",
   "execution_count": 4,
   "outputs": [
    {
     "name": "stdout",
     "output_type": "stream",
     "text": [
      "Loaded cohort from ..\\out\\cohort-full.out\n",
      "          Unnamed: 0       stay_id          dose_b_time    subject_id  \\\n",
      "count  645016.000000  6.450160e+05               645016  6.450160e+05   \n",
      "mean     9736.582455  3.494730e+07  2154-10-22 22:26:14  1.495971e+07   \n",
      "min         0.000000  3.000048e+07  2110-02-10 06:30:00  1.000340e+07   \n",
      "25%      3935.000000  3.239262e+07  2134-10-08 07:30:00  1.246546e+07   \n",
      "50%      8215.000000  3.490524e+07  2154-08-31 23:13:00  1.499385e+07   \n",
      "75%     14322.000000  3.742226e+07  2175-05-28 20:09:00  1.744485e+07   \n",
      "max     36171.000000  3.999521e+07  2209-05-30 09:27:00  1.999983e+07   \n",
      "std      7171.342570  2.884265e+06                  NaN  2.861291e+06   \n",
      "\n",
      "                 charttime     heart_rate            sbp            dbp  \\\n",
      "count               645016  484306.000000  484670.000000  484611.000000   \n",
      "mean   2154-10-22 22:27:30      88.689389     115.707828      61.483698   \n",
      "min    2110-02-09 22:10:00       1.000000      11.000000       2.000000   \n",
      "25%    2134-10-08 18:45:00      75.000000     100.000000      51.000000   \n",
      "50%    2154-09-01 00:02:30      88.000000     113.000000      60.000000   \n",
      "75%    2175-05-29 00:40:00     100.000000     129.000000      70.000000   \n",
      "max    2209-05-30 17:02:00     229.000000     328.000000     279.000000   \n",
      "std                    NaN      18.825960      21.872007      14.721063   \n",
      "\n",
      "                 mbp  \n",
      "count  484548.000000  \n",
      "mean       76.540531  \n",
      "min         1.000000  \n",
      "25%        66.000000  \n",
      "50%        74.000000  \n",
      "75%        85.000000  \n",
      "max       299.000000  \n",
      "std        15.996281  \n",
      "          Unnamed: 0       stay_id          dose_b_time    subject_id  \\\n",
      "count  828139.000000  8.281390e+05               828139  8.281390e+05   \n",
      "mean    17100.803666  3.502204e+07  2153-04-03 14:29:14  1.496445e+07   \n",
      "min         0.000000  3.000402e+07  2110-01-13 14:39:00  1.000122e+07   \n",
      "25%      4549.000000  3.237450e+07  2133-07-07 00:33:00  1.243341e+07   \n",
      "50%     11933.000000  3.500818e+07  2153-05-31 18:42:00  1.499892e+07   \n",
      "75%     25587.000000  3.762055e+07  2173-08-09 09:00:00  1.741757e+07   \n",
      "max     61665.000000  3.999923e+07  2210-04-19 06:37:00  1.999984e+07   \n",
      "std     15806.637747  2.947460e+06                  NaN  2.892849e+06   \n",
      "\n",
      "                 charttime     heart_rate            sbp            dbp  \\\n",
      "count               828139  679415.000000  699443.000000  699264.000000   \n",
      "mean   2153-04-03 14:33:40      89.312498     116.928288      60.017840   \n",
      "min    2110-01-13 11:53:00       1.000000       1.000000       1.000000   \n",
      "25%    2133-07-06 17:37:00      76.000000     101.000000      50.000000   \n",
      "50%    2153-05-31 14:00:00      88.000000     114.000000      58.000000   \n",
      "75%    2173-08-09 11:00:30     101.000000     130.000000      68.000000   \n",
      "max    2210-04-19 11:01:00     280.000000     357.000000     290.000000   \n",
      "std                    NaN      19.280098      23.067702      14.269847   \n",
      "\n",
      "                 mbp  \n",
      "count  698928.000000  \n",
      "mean       76.997622  \n",
      "min         1.000000  \n",
      "25%        66.000000  \n",
      "50%        75.000000  \n",
      "75%        85.000000  \n",
      "max       299.000000  \n",
      "std        16.321739  \n"
     ]
    },
    {
     "data": {
      "text/plain": "        Unnamed: 0   stay_id         dose_b_time  subject_id  \\\n4                4  30000484 2136-01-15 00:59:00    18421337   \n379694           5  30000484 2136-01-15 00:59:00    18421337   \n6                6  30000484 2136-01-15 00:59:00    18421337   \n379706          17  30000484 2136-01-15 00:59:00    18421337   \n15              15  30000484 2136-01-15 00:59:00    18421337   \n...            ...       ...                 ...         ...   \n159802         162  30011624 2164-03-07 02:00:00    14833679   \n159797         157  30011624 2164-03-07 02:00:00    14833679   \n159785         145  30011624 2164-03-07 02:00:00    14833679   \n159786         146  30011624 2164-03-07 02:00:00    14833679   \n159782         142  30011624 2164-03-07 02:00:00    14833679   \n\n                 charttime  heart_rate    sbp   dbp   mbp  \n4      2136-01-14 18:38:00       106.0    NaN   NaN   NaN  \n379694 2136-01-14 18:38:00       106.0    NaN   NaN   NaN  \n6      2136-01-14 18:44:00         NaN  101.0  75.0  81.0  \n379706 2136-01-14 18:44:00         NaN  101.0  75.0  81.0  \n15     2136-01-14 18:47:00         NaN  101.0  75.0  81.0  \n...                    ...         ...    ...   ...   ...  \n159802 2164-03-07 03:00:00        63.0  109.0  58.0  71.0  \n159797 2164-03-07 04:00:00        65.0  154.0  65.0  86.0  \n159785 2164-03-07 05:00:00        71.0  157.0  60.0  84.0  \n159786 2164-03-07 06:00:00        61.0  157.0  60.0  84.0  \n159782 2164-03-07 07:00:00        65.0  137.0  60.0  80.0  \n\n[500 rows x 9 columns]",
      "text/html": "<div>\n<style scoped>\n    .dataframe tbody tr th:only-of-type {\n        vertical-align: middle;\n    }\n\n    .dataframe tbody tr th {\n        vertical-align: top;\n    }\n\n    .dataframe thead th {\n        text-align: right;\n    }\n</style>\n<table border=\"1\" class=\"dataframe\">\n  <thead>\n    <tr style=\"text-align: right;\">\n      <th></th>\n      <th>Unnamed: 0</th>\n      <th>stay_id</th>\n      <th>dose_b_time</th>\n      <th>subject_id</th>\n      <th>charttime</th>\n      <th>heart_rate</th>\n      <th>sbp</th>\n      <th>dbp</th>\n      <th>mbp</th>\n    </tr>\n  </thead>\n  <tbody>\n    <tr>\n      <th>4</th>\n      <td>4</td>\n      <td>30000484</td>\n      <td>2136-01-15 00:59:00</td>\n      <td>18421337</td>\n      <td>2136-01-14 18:38:00</td>\n      <td>106.0</td>\n      <td>NaN</td>\n      <td>NaN</td>\n      <td>NaN</td>\n    </tr>\n    <tr>\n      <th>379694</th>\n      <td>5</td>\n      <td>30000484</td>\n      <td>2136-01-15 00:59:00</td>\n      <td>18421337</td>\n      <td>2136-01-14 18:38:00</td>\n      <td>106.0</td>\n      <td>NaN</td>\n      <td>NaN</td>\n      <td>NaN</td>\n    </tr>\n    <tr>\n      <th>6</th>\n      <td>6</td>\n      <td>30000484</td>\n      <td>2136-01-15 00:59:00</td>\n      <td>18421337</td>\n      <td>2136-01-14 18:44:00</td>\n      <td>NaN</td>\n      <td>101.0</td>\n      <td>75.0</td>\n      <td>81.0</td>\n    </tr>\n    <tr>\n      <th>379706</th>\n      <td>17</td>\n      <td>30000484</td>\n      <td>2136-01-15 00:59:00</td>\n      <td>18421337</td>\n      <td>2136-01-14 18:44:00</td>\n      <td>NaN</td>\n      <td>101.0</td>\n      <td>75.0</td>\n      <td>81.0</td>\n    </tr>\n    <tr>\n      <th>15</th>\n      <td>15</td>\n      <td>30000484</td>\n      <td>2136-01-15 00:59:00</td>\n      <td>18421337</td>\n      <td>2136-01-14 18:47:00</td>\n      <td>NaN</td>\n      <td>101.0</td>\n      <td>75.0</td>\n      <td>81.0</td>\n    </tr>\n    <tr>\n      <th>...</th>\n      <td>...</td>\n      <td>...</td>\n      <td>...</td>\n      <td>...</td>\n      <td>...</td>\n      <td>...</td>\n      <td>...</td>\n      <td>...</td>\n      <td>...</td>\n    </tr>\n    <tr>\n      <th>159802</th>\n      <td>162</td>\n      <td>30011624</td>\n      <td>2164-03-07 02:00:00</td>\n      <td>14833679</td>\n      <td>2164-03-07 03:00:00</td>\n      <td>63.0</td>\n      <td>109.0</td>\n      <td>58.0</td>\n      <td>71.0</td>\n    </tr>\n    <tr>\n      <th>159797</th>\n      <td>157</td>\n      <td>30011624</td>\n      <td>2164-03-07 02:00:00</td>\n      <td>14833679</td>\n      <td>2164-03-07 04:00:00</td>\n      <td>65.0</td>\n      <td>154.0</td>\n      <td>65.0</td>\n      <td>86.0</td>\n    </tr>\n    <tr>\n      <th>159785</th>\n      <td>145</td>\n      <td>30011624</td>\n      <td>2164-03-07 02:00:00</td>\n      <td>14833679</td>\n      <td>2164-03-07 05:00:00</td>\n      <td>71.0</td>\n      <td>157.0</td>\n      <td>60.0</td>\n      <td>84.0</td>\n    </tr>\n    <tr>\n      <th>159786</th>\n      <td>146</td>\n      <td>30011624</td>\n      <td>2164-03-07 02:00:00</td>\n      <td>14833679</td>\n      <td>2164-03-07 06:00:00</td>\n      <td>61.0</td>\n      <td>157.0</td>\n      <td>60.0</td>\n      <td>84.0</td>\n    </tr>\n    <tr>\n      <th>159782</th>\n      <td>142</td>\n      <td>30011624</td>\n      <td>2164-03-07 02:00:00</td>\n      <td>14833679</td>\n      <td>2164-03-07 07:00:00</td>\n      <td>65.0</td>\n      <td>137.0</td>\n      <td>60.0</td>\n      <td>80.0</td>\n    </tr>\n  </tbody>\n</table>\n<p>500 rows × 9 columns</p>\n</div>"
     },
     "execution_count": 4,
     "metadata": {},
     "output_type": "execute_result"
    }
   ],
   "source": [
    "def fix_csv_data_types(df):\n",
    "    df[\"charttime\"] = df[\"charttime\"].astype(\"datetime64[s]\")\n",
    "    df[\"dose_b_time\"] = df[\"dose_b_time\"].astype(\"datetime64[s]\")\n",
    "    return df\n",
    "\n",
    "vitals_data_df = fix_csv_data_types(vitals_data_df)\n",
    "vitals_no_ddi = fix_csv_data_types(vitals_no_ddi)\n",
    "\n",
    "vitals_data_df = vitals_data_df.sort_values(by=[\"stay_id\", \"dose_b_time\", \"charttime\"])\n",
    "\n",
    "try:\n",
    "    serializer = Serializer()\n",
    "    cohort_with_icd = serializer.read_cohort()  # need to run 01-cohort.ipynb to produce the cohort\n",
    "except FileNotFoundError:\n",
    "    raise Exception(\"Need to run [01-cohort.ipynb] at least once to create the cohort file in the /out directory\")\n",
    "\n",
    "\n",
    "\n",
    "print(vitals_data_df.describe())\n",
    "print(vitals_no_ddi.describe())\n",
    "vitals_data_df.head(500)\n",
    "\n"
   ],
   "metadata": {
    "collapsed": false,
    "ExecuteTime": {
     "end_time": "2023-10-31T06:32:26.086898300Z",
     "start_time": "2023-10-31T06:32:23.590659500Z"
    }
   },
   "id": "initial_id"
  },
  {
   "cell_type": "code",
   "execution_count": 5,
   "outputs": [
    {
     "name": "stdout",
     "output_type": "stream",
     "text": [
      "        subject_id  num_icd_codes\n",
      "191       12405185              1\n",
      "301       11474034              1\n",
      "353       15925315              1\n",
      "430       19193410              1\n",
      "479       10308342              1\n",
      "...            ...            ...\n",
      "202663    14323503              1\n",
      "202680    17974554              3\n",
      "202694    10160622              1\n",
      "202700    18777601              2\n",
      "202710    17387174              1\n",
      "\n",
      "[1754 rows x 2 columns]\n",
      "has_icd ratio Unnamed: 0       1.000000\n",
      "stay_id          1.000000\n",
      "dose_b_time      1.000000\n",
      "subject_id       1.000000\n",
      "charttime        1.000000\n",
      "heart_rate       1.370781\n",
      "sbp              1.370895\n",
      "dbp              1.371036\n",
      "mbp              1.371188\n",
      "num_icd_codes    1.000000\n",
      "has_icd          1.000000\n",
      "dtype: float64\n"
     ]
    },
    {
     "data": {
      "text/plain": "     Unnamed: 0   stay_id         dose_b_time  subject_id           charttime  \\\n0            79  30004144 2126-04-04 18:43:00    10369174 2126-04-04 13:20:00   \n1            97  30004144 2126-04-04 18:43:00    10369174 2126-04-04 13:21:00   \n2            78  30004144 2126-04-04 18:43:00    10369174 2126-04-04 13:30:00   \n3           104  30004144 2126-04-04 18:43:00    10369174 2126-04-04 13:31:00   \n4            93  30004144 2126-04-04 18:43:00    10369174 2126-04-04 13:32:00   \n..          ...       ...                 ...         ...                 ...   \n495          42  30027612 2147-11-03 21:49:00    12595991 2147-11-03 19:00:00   \n496          70  30027612 2147-11-03 21:49:00    12595991 2147-11-03 19:03:00   \n497          44  30027612 2147-11-03 21:49:00    12595991 2147-11-03 19:15:00   \n498          54  30027612 2147-11-03 21:49:00    12595991 2147-11-03 19:30:00   \n499          43  30027612 2147-11-03 21:49:00    12595991 2147-11-03 20:00:00   \n\n     heart_rate    sbp   dbp   mbp  num_icd_codes  has_icd  \n0          60.0    NaN   NaN   NaN              2     True  \n1           NaN  132.0  53.0  78.0              2     True  \n2          65.0    NaN   NaN   NaN              2     True  \n3           NaN  139.0  60.0  87.0              2     True  \n4          63.0  150.0  63.0  93.0              2     True  \n..          ...    ...   ...   ...            ...      ...  \n495        74.0   81.0  51.0  61.0              1     True  \n496         NaN   60.0  43.0  47.0              1     True  \n497        73.0  101.0  56.5  70.5              1     True  \n498        74.0  103.5  57.5  73.0              1     True  \n499        76.0  108.5  53.0  70.0              1     True  \n\n[500 rows x 11 columns]",
      "text/html": "<div>\n<style scoped>\n    .dataframe tbody tr th:only-of-type {\n        vertical-align: middle;\n    }\n\n    .dataframe tbody tr th {\n        vertical-align: top;\n    }\n\n    .dataframe thead th {\n        text-align: right;\n    }\n</style>\n<table border=\"1\" class=\"dataframe\">\n  <thead>\n    <tr style=\"text-align: right;\">\n      <th></th>\n      <th>Unnamed: 0</th>\n      <th>stay_id</th>\n      <th>dose_b_time</th>\n      <th>subject_id</th>\n      <th>charttime</th>\n      <th>heart_rate</th>\n      <th>sbp</th>\n      <th>dbp</th>\n      <th>mbp</th>\n      <th>num_icd_codes</th>\n      <th>has_icd</th>\n    </tr>\n  </thead>\n  <tbody>\n    <tr>\n      <th>0</th>\n      <td>79</td>\n      <td>30004144</td>\n      <td>2126-04-04 18:43:00</td>\n      <td>10369174</td>\n      <td>2126-04-04 13:20:00</td>\n      <td>60.0</td>\n      <td>NaN</td>\n      <td>NaN</td>\n      <td>NaN</td>\n      <td>2</td>\n      <td>True</td>\n    </tr>\n    <tr>\n      <th>1</th>\n      <td>97</td>\n      <td>30004144</td>\n      <td>2126-04-04 18:43:00</td>\n      <td>10369174</td>\n      <td>2126-04-04 13:21:00</td>\n      <td>NaN</td>\n      <td>132.0</td>\n      <td>53.0</td>\n      <td>78.0</td>\n      <td>2</td>\n      <td>True</td>\n    </tr>\n    <tr>\n      <th>2</th>\n      <td>78</td>\n      <td>30004144</td>\n      <td>2126-04-04 18:43:00</td>\n      <td>10369174</td>\n      <td>2126-04-04 13:30:00</td>\n      <td>65.0</td>\n      <td>NaN</td>\n      <td>NaN</td>\n      <td>NaN</td>\n      <td>2</td>\n      <td>True</td>\n    </tr>\n    <tr>\n      <th>3</th>\n      <td>104</td>\n      <td>30004144</td>\n      <td>2126-04-04 18:43:00</td>\n      <td>10369174</td>\n      <td>2126-04-04 13:31:00</td>\n      <td>NaN</td>\n      <td>139.0</td>\n      <td>60.0</td>\n      <td>87.0</td>\n      <td>2</td>\n      <td>True</td>\n    </tr>\n    <tr>\n      <th>4</th>\n      <td>93</td>\n      <td>30004144</td>\n      <td>2126-04-04 18:43:00</td>\n      <td>10369174</td>\n      <td>2126-04-04 13:32:00</td>\n      <td>63.0</td>\n      <td>150.0</td>\n      <td>63.0</td>\n      <td>93.0</td>\n      <td>2</td>\n      <td>True</td>\n    </tr>\n    <tr>\n      <th>...</th>\n      <td>...</td>\n      <td>...</td>\n      <td>...</td>\n      <td>...</td>\n      <td>...</td>\n      <td>...</td>\n      <td>...</td>\n      <td>...</td>\n      <td>...</td>\n      <td>...</td>\n      <td>...</td>\n    </tr>\n    <tr>\n      <th>495</th>\n      <td>42</td>\n      <td>30027612</td>\n      <td>2147-11-03 21:49:00</td>\n      <td>12595991</td>\n      <td>2147-11-03 19:00:00</td>\n      <td>74.0</td>\n      <td>81.0</td>\n      <td>51.0</td>\n      <td>61.0</td>\n      <td>1</td>\n      <td>True</td>\n    </tr>\n    <tr>\n      <th>496</th>\n      <td>70</td>\n      <td>30027612</td>\n      <td>2147-11-03 21:49:00</td>\n      <td>12595991</td>\n      <td>2147-11-03 19:03:00</td>\n      <td>NaN</td>\n      <td>60.0</td>\n      <td>43.0</td>\n      <td>47.0</td>\n      <td>1</td>\n      <td>True</td>\n    </tr>\n    <tr>\n      <th>497</th>\n      <td>44</td>\n      <td>30027612</td>\n      <td>2147-11-03 21:49:00</td>\n      <td>12595991</td>\n      <td>2147-11-03 19:15:00</td>\n      <td>73.0</td>\n      <td>101.0</td>\n      <td>56.5</td>\n      <td>70.5</td>\n      <td>1</td>\n      <td>True</td>\n    </tr>\n    <tr>\n      <th>498</th>\n      <td>54</td>\n      <td>30027612</td>\n      <td>2147-11-03 21:49:00</td>\n      <td>12595991</td>\n      <td>2147-11-03 19:30:00</td>\n      <td>74.0</td>\n      <td>103.5</td>\n      <td>57.5</td>\n      <td>73.0</td>\n      <td>1</td>\n      <td>True</td>\n    </tr>\n    <tr>\n      <th>499</th>\n      <td>43</td>\n      <td>30027612</td>\n      <td>2147-11-03 21:49:00</td>\n      <td>12595991</td>\n      <td>2147-11-03 20:00:00</td>\n      <td>76.0</td>\n      <td>108.5</td>\n      <td>53.0</td>\n      <td>70.0</td>\n      <td>1</td>\n      <td>True</td>\n    </tr>\n  </tbody>\n</table>\n<p>500 rows × 11 columns</p>\n</div>"
     },
     "execution_count": 5,
     "metadata": {},
     "output_type": "execute_result"
    }
   ],
   "source": [
    "# join with icd code info to create has_icd\n",
    "\n",
    "unique_subject_num_icd_codes = cohort_with_icd[[\"subject_id\", \"num_icd_codes\"]].drop_duplicates(subset=\"subject_id\")\n",
    "print(unique_subject_num_icd_codes)\n",
    "\n",
    "vitals_data_df = vitals_data_df.drop_duplicates()\n",
    "\n",
    "vitals_data_df = pd.merge(left=vitals_data_df, right=unique_subject_num_icd_codes, how=\"inner\", on='subject_id')\n",
    "# generate the has_icd ground truth value\n",
    "vitals_data_df[\"has_icd\"] = ~vitals_data_df['num_icd_codes'].isna()\n",
    "\n",
    "print(f\"has_icd ratio {vitals_data_df['has_icd'].sum() / vitals_data_df.count()}\")\n",
    "\n",
    "vitals_data_df.head(500)"
   ],
   "metadata": {
    "collapsed": false,
    "ExecuteTime": {
     "end_time": "2023-10-31T06:32:26.582176400Z",
     "start_time": "2023-10-31T06:32:26.089892400Z"
    }
   },
   "id": "a617a1d7e69e44d7"
  },
  {
   "cell_type": "code",
   "execution_count": 6,
   "outputs": [
    {
     "name": "stdout",
     "output_type": "stream",
     "text": [
      "(345985, 11)\n",
      "(828139, 10)\n",
      "RangeIndex(start=0, stop=345985, step=1)\n",
      "Index([     27,      28,      29,      30,      31,      32,      33,      34,\n",
      "            35,      36,\n",
      "       ...\n",
      "       1060720, 1060721, 1060722, 1060723, 1060724, 1060725, 1060726, 1060727,\n",
      "       1060728, 1060729],\n",
      "      dtype='int64', length=828139)\n"
     ]
    },
    {
     "data": {
      "text/plain": "          stay_id         dose_b_time  subject_id           charttime  \\\n27       30004018 2158-12-30 06:15:00    11101925 2158-12-30 10:00:00   \n28       30004018 2158-12-30 06:15:00    11101925 2158-12-30 14:00:00   \n29       30004018 2158-12-30 06:15:00    11101925 2158-12-30 13:00:00   \n30       30004018 2158-12-30 06:15:00    11101925 2158-12-29 22:00:00   \n31       30004018 2158-12-30 06:15:00    11101925 2158-12-30 15:00:00   \n...           ...                 ...         ...                 ...   \n1060725  39323481 2121-03-10 08:34:00    11652327 2121-03-10 19:00:00   \n1060726  39323481 2121-03-10 08:34:00    11652327 2121-03-09 22:30:00   \n1060727  39323481 2121-03-10 08:34:00    11652327 2121-03-09 22:15:00   \n1060728  39323481 2121-03-10 08:34:00    11652327 2121-03-09 22:00:00   \n1060729  39323481 2121-03-10 08:34:00    11652327 2121-03-10 08:00:00   \n\n         has_icd  num_icd_codes  heart_rate    sbp   dbp   mbp  \n27         False              0       100.0   56.0  21.0  28.0  \n28         False              0        97.0   78.0  38.0  47.0  \n29         False              0        98.0   92.0  48.0  58.0  \n30         False              0        94.0  112.0  45.0  62.0  \n31         False              0        94.0  113.0  49.0  64.0  \n...          ...            ...         ...    ...   ...   ...  \n1060725    False              0       119.0  108.0  56.0  72.0  \n1060726    False              0       111.0  139.0  71.0  94.0  \n1060727    False              0       109.0  125.0  63.0  85.0  \n1060728    False              0       110.0  129.0  65.0  87.0  \n1060729    False              0       112.0  100.0  52.0  67.0  \n\n[828139 rows x 10 columns]",
      "text/html": "<div>\n<style scoped>\n    .dataframe tbody tr th:only-of-type {\n        vertical-align: middle;\n    }\n\n    .dataframe tbody tr th {\n        vertical-align: top;\n    }\n\n    .dataframe thead th {\n        text-align: right;\n    }\n</style>\n<table border=\"1\" class=\"dataframe\">\n  <thead>\n    <tr style=\"text-align: right;\">\n      <th></th>\n      <th>stay_id</th>\n      <th>dose_b_time</th>\n      <th>subject_id</th>\n      <th>charttime</th>\n      <th>has_icd</th>\n      <th>num_icd_codes</th>\n      <th>heart_rate</th>\n      <th>sbp</th>\n      <th>dbp</th>\n      <th>mbp</th>\n    </tr>\n  </thead>\n  <tbody>\n    <tr>\n      <th>27</th>\n      <td>30004018</td>\n      <td>2158-12-30 06:15:00</td>\n      <td>11101925</td>\n      <td>2158-12-30 10:00:00</td>\n      <td>False</td>\n      <td>0</td>\n      <td>100.0</td>\n      <td>56.0</td>\n      <td>21.0</td>\n      <td>28.0</td>\n    </tr>\n    <tr>\n      <th>28</th>\n      <td>30004018</td>\n      <td>2158-12-30 06:15:00</td>\n      <td>11101925</td>\n      <td>2158-12-30 14:00:00</td>\n      <td>False</td>\n      <td>0</td>\n      <td>97.0</td>\n      <td>78.0</td>\n      <td>38.0</td>\n      <td>47.0</td>\n    </tr>\n    <tr>\n      <th>29</th>\n      <td>30004018</td>\n      <td>2158-12-30 06:15:00</td>\n      <td>11101925</td>\n      <td>2158-12-30 13:00:00</td>\n      <td>False</td>\n      <td>0</td>\n      <td>98.0</td>\n      <td>92.0</td>\n      <td>48.0</td>\n      <td>58.0</td>\n    </tr>\n    <tr>\n      <th>30</th>\n      <td>30004018</td>\n      <td>2158-12-30 06:15:00</td>\n      <td>11101925</td>\n      <td>2158-12-29 22:00:00</td>\n      <td>False</td>\n      <td>0</td>\n      <td>94.0</td>\n      <td>112.0</td>\n      <td>45.0</td>\n      <td>62.0</td>\n    </tr>\n    <tr>\n      <th>31</th>\n      <td>30004018</td>\n      <td>2158-12-30 06:15:00</td>\n      <td>11101925</td>\n      <td>2158-12-30 15:00:00</td>\n      <td>False</td>\n      <td>0</td>\n      <td>94.0</td>\n      <td>113.0</td>\n      <td>49.0</td>\n      <td>64.0</td>\n    </tr>\n    <tr>\n      <th>...</th>\n      <td>...</td>\n      <td>...</td>\n      <td>...</td>\n      <td>...</td>\n      <td>...</td>\n      <td>...</td>\n      <td>...</td>\n      <td>...</td>\n      <td>...</td>\n      <td>...</td>\n    </tr>\n    <tr>\n      <th>1060725</th>\n      <td>39323481</td>\n      <td>2121-03-10 08:34:00</td>\n      <td>11652327</td>\n      <td>2121-03-10 19:00:00</td>\n      <td>False</td>\n      <td>0</td>\n      <td>119.0</td>\n      <td>108.0</td>\n      <td>56.0</td>\n      <td>72.0</td>\n    </tr>\n    <tr>\n      <th>1060726</th>\n      <td>39323481</td>\n      <td>2121-03-10 08:34:00</td>\n      <td>11652327</td>\n      <td>2121-03-09 22:30:00</td>\n      <td>False</td>\n      <td>0</td>\n      <td>111.0</td>\n      <td>139.0</td>\n      <td>71.0</td>\n      <td>94.0</td>\n    </tr>\n    <tr>\n      <th>1060727</th>\n      <td>39323481</td>\n      <td>2121-03-10 08:34:00</td>\n      <td>11652327</td>\n      <td>2121-03-09 22:15:00</td>\n      <td>False</td>\n      <td>0</td>\n      <td>109.0</td>\n      <td>125.0</td>\n      <td>63.0</td>\n      <td>85.0</td>\n    </tr>\n    <tr>\n      <th>1060728</th>\n      <td>39323481</td>\n      <td>2121-03-10 08:34:00</td>\n      <td>11652327</td>\n      <td>2121-03-09 22:00:00</td>\n      <td>False</td>\n      <td>0</td>\n      <td>110.0</td>\n      <td>129.0</td>\n      <td>65.0</td>\n      <td>87.0</td>\n    </tr>\n    <tr>\n      <th>1060729</th>\n      <td>39323481</td>\n      <td>2121-03-10 08:34:00</td>\n      <td>11652327</td>\n      <td>2121-03-10 08:00:00</td>\n      <td>False</td>\n      <td>0</td>\n      <td>112.0</td>\n      <td>100.0</td>\n      <td>52.0</td>\n      <td>67.0</td>\n    </tr>\n  </tbody>\n</table>\n<p>828139 rows × 10 columns</p>\n</div>"
     },
     "execution_count": 6,
     "metadata": {},
     "output_type": "execute_result"
    }
   ],
   "source": [
    "# create the negative cohort\n",
    "vitals_no_ddi['num_icd_codes'] = 0\n",
    "vitals_no_ddi['has_icd'] = False\n",
    "vitals_no_ddi = vitals_no_ddi[['stay_id', 'dose_b_time', 'subject_id', 'charttime', 'has_icd', 'num_icd_codes'] + data_arrays]\n",
    "print(vitals_data_df.shape)\n",
    "print(vitals_no_ddi.shape)\n",
    "print(vitals_data_df.index)\n",
    "print(vitals_no_ddi.index)\n",
    "\n",
    "vitals_no_ddi"
   ],
   "metadata": {
    "collapsed": false,
    "ExecuteTime": {
     "end_time": "2023-10-31T06:32:26.643525800Z",
     "start_time": "2023-10-31T06:32:26.554249900Z"
    }
   },
   "id": "d1ad953ea560d0d2"
  },
  {
   "cell_type": "markdown",
   "source": [],
   "metadata": {
    "collapsed": false,
    "ExecuteTime": {
     "end_time": "2023-10-26T13:30:03.112051400Z",
     "start_time": "2023-10-26T13:30:02.901022Z"
    }
   },
   "id": "71bb824da43eebaa"
  },
  {
   "cell_type": "code",
   "execution_count": 7,
   "outputs": [
    {
     "name": "stdout",
     "output_type": "stream",
     "text": [
      "1789\n",
      "8715\n",
      "1789\n",
      "Size of target 345985, size of negative 177645, size of combined 523630\n",
      "Unnamed: 0               float64\n",
      "stay_id                    int64\n",
      "dose_b_time        datetime64[s]\n",
      "subject_id                 int64\n",
      "charttime          datetime64[s]\n",
      "heart_rate               float64\n",
      "sbp                      float64\n",
      "dbp                      float64\n",
      "mbp                      float64\n",
      "num_icd_codes              Int64\n",
      "has_icd                     bool\n",
      "timestep          timedelta64[s]\n",
      "timestep_float           float64\n",
      "dtype: object\n",
      "Unnamed: 0               float64\n",
      "stay_id                    int64\n",
      "dose_b_time        datetime64[s]\n",
      "subject_id                 int64\n",
      "charttime          datetime64[s]\n",
      "heart_rate               float64\n",
      "sbp                      float64\n",
      "dbp                      float64\n",
      "mbp                      float64\n",
      "num_icd_codes              Int64\n",
      "has_icd                     bool\n",
      "timestep          timedelta64[s]\n",
      "timestep_float           float64\n",
      "dtype: object\n",
      "count     523630\n",
      "unique         2\n",
      "top         True\n",
      "freq      345985\n",
      "Name: has_icd, dtype: object\n"
     ]
    },
    {
     "data": {
      "text/plain": "    Unnamed: 0   stay_id         dose_b_time  subject_id           charttime  \\\n0         79.0  30004144 2126-04-04 18:43:00    10369174 2126-04-04 13:20:00   \n1         97.0  30004144 2126-04-04 18:43:00    10369174 2126-04-04 13:21:00   \n2         78.0  30004144 2126-04-04 18:43:00    10369174 2126-04-04 13:30:00   \n3        104.0  30004144 2126-04-04 18:43:00    10369174 2126-04-04 13:31:00   \n4         93.0  30004144 2126-04-04 18:43:00    10369174 2126-04-04 13:32:00   \n5        101.0  30004144 2126-04-04 18:43:00    10369174 2126-04-04 13:45:00   \n6         99.0  30004144 2126-04-04 18:43:00    10369174 2126-04-04 14:00:00   \n7         73.0  30004144 2126-04-04 18:43:00    10369174 2126-04-04 14:15:00   \n8        105.0  30004144 2126-04-04 18:43:00    10369174 2126-04-04 14:30:00   \n9         77.0  30004144 2126-04-04 18:43:00    10369174 2126-04-04 14:31:00   \n10       103.0  30004144 2126-04-04 18:43:00    10369174 2126-04-04 14:34:00   \n11        91.0  30004144 2126-04-04 18:43:00    10369174 2126-04-04 14:45:00   \n12        74.0  30004144 2126-04-04 18:43:00    10369174 2126-04-04 15:00:00   \n13        86.0  30004144 2126-04-04 18:43:00    10369174 2126-04-04 16:00:00   \n14        76.0  30004144 2126-04-04 18:43:00    10369174 2126-04-04 16:01:00   \n15        87.0  30004144 2126-04-04 18:43:00    10369174 2126-04-04 17:00:00   \n16        92.0  30004144 2126-04-04 18:43:00    10369174 2126-04-04 18:00:00   \n17        95.0  30004144 2126-04-04 18:43:00    10369174 2126-04-04 19:00:00   \n18       102.0  30004144 2126-04-04 18:43:00    10369174 2126-04-04 20:00:00   \n19        85.0  30004144 2126-04-04 18:43:00    10369174 2126-04-04 21:00:00   \n20        90.0  30004144 2126-04-04 18:43:00    10369174 2126-04-04 22:00:00   \n21        96.0  30004144 2126-04-04 18:43:00    10369174 2126-04-04 23:00:00   \n22        84.0  30004144 2126-04-04 18:43:00    10369174 2126-04-04 23:45:00   \n23        94.0  30004144 2126-04-04 18:43:00    10369174 2126-04-05 00:00:00   \n24        80.0  30004144 2126-04-04 18:43:00    10369174 2126-04-05 00:15:00   \n25        82.0  30004144 2126-04-04 18:43:00    10369174 2126-04-05 00:30:00   \n26        83.0  30004144 2126-04-04 18:43:00    10369174 2126-04-05 01:00:00   \n27       100.0  30004144 2126-04-04 18:43:00    10369174 2126-04-05 02:00:00   \n28        88.0  30004144 2126-04-04 18:43:00    10369174 2126-04-05 03:00:00   \n29        89.0  30004144 2126-04-04 18:43:00    10369174 2126-04-05 04:00:00   \n30        81.0  30004144 2126-04-04 18:43:00    10369174 2126-04-05 05:00:00   \n31        98.0  30004144 2126-04-04 18:43:00    10369174 2126-04-05 06:00:00   \n32        75.0  30004144 2126-04-04 18:43:00    10369174 2126-04-05 06:03:00   \n33        94.0  30004144 2126-04-07 11:46:00    10369174 2126-04-07 00:00:00   \n34        99.0  30004144 2126-04-07 11:46:00    10369174 2126-04-07 01:00:00   \n35       107.0  30004144 2126-04-07 11:46:00    10369174 2126-04-07 02:00:00   \n36        93.0  30004144 2126-04-07 11:46:00    10369174 2126-04-07 03:00:00   \n37        90.0  30004144 2126-04-07 11:46:00    10369174 2126-04-07 04:00:00   \n38       110.0  30004144 2126-04-07 11:46:00    10369174 2126-04-07 05:00:00   \n39       106.0  30004144 2126-04-07 11:46:00    10369174 2126-04-07 06:00:00   \n40        91.0  30004144 2126-04-07 11:46:00    10369174 2126-04-07 07:00:00   \n41       102.0  30004144 2126-04-07 11:46:00    10369174 2126-04-07 08:00:00   \n42       111.0  30004144 2126-04-07 11:46:00    10369174 2126-04-07 09:00:00   \n43        98.0  30004144 2126-04-07 11:46:00    10369174 2126-04-07 10:00:00   \n44       104.0  30004144 2126-04-07 11:46:00    10369174 2126-04-07 11:00:00   \n45       101.0  30004144 2126-04-07 11:46:00    10369174 2126-04-07 12:00:00   \n46        96.0  30004144 2126-04-07 11:46:00    10369174 2126-04-07 13:00:00   \n47        86.0  30004144 2126-04-07 11:46:00    10369174 2126-04-07 14:00:00   \n48       108.0  30004144 2126-04-07 11:46:00    10369174 2126-04-07 15:00:00   \n49        95.0  30004144 2126-04-07 11:46:00    10369174 2126-04-07 16:00:00   \n\n    heart_rate    sbp   dbp    mbp  num_icd_codes  has_icd          timestep  \\\n0         60.0    NaN   NaN    NaN              2     True -1 days +18:37:00   \n1          NaN  132.0  53.0   78.0              2     True -1 days +18:38:00   \n2         65.0    NaN   NaN    NaN              2     True -1 days +18:47:00   \n3          NaN  139.0  60.0   87.0              2     True -1 days +18:48:00   \n4         63.0  150.0  63.0   93.0              2     True -1 days +18:49:00   \n5         63.0  140.0  59.0   86.0              2     True -1 days +19:02:00   \n6         94.0  135.0  58.0   82.0              2     True -1 days +19:17:00   \n7         67.0  156.0  66.0  100.0              2     True -1 days +19:32:00   \n8          NaN  141.0  67.0   95.0              2     True -1 days +19:47:00   \n9         70.0    NaN   NaN    NaN              2     True -1 days +19:48:00   \n10        63.0  136.0  57.0   83.0              2     True -1 days +19:51:00   \n11        64.0  131.0  54.0   81.0              2     True -1 days +20:02:00   \n12        68.0  159.0  69.0  102.0              2     True -1 days +20:17:00   \n13         NaN  143.0  63.0   92.0              2     True -1 days +21:17:00   \n14        73.0    NaN   NaN    NaN              2     True -1 days +21:18:00   \n15        72.0  154.0  67.0   96.0              2     True -1 days +22:17:00   \n16       101.0  132.0  66.0   89.0              2     True -1 days +23:17:00   \n17        81.0  115.0  56.0   74.0              2     True   0 days 00:17:00   \n18       111.0  120.0  60.0   79.0              2     True   0 days 01:17:00   \n19       100.0  126.0  58.0   80.0              2     True   0 days 02:17:00   \n20        91.0  114.0  55.0   73.0              2     True   0 days 03:17:00   \n21        93.0  122.0  58.0   78.0              2     True   0 days 04:17:00   \n22        73.0  123.0  51.0   72.0              2     True   0 days 05:02:00   \n23        71.0   96.0  42.0   57.0              2     True   0 days 05:17:00   \n24        70.0   95.0  43.0   58.0              2     True   0 days 05:32:00   \n25        71.0   99.0  45.0   60.0              2     True   0 days 05:47:00   \n26        75.0  115.0  50.0   68.0              2     True   0 days 06:17:00   \n27        74.0  138.0  56.0   82.0              2     True   0 days 07:17:00   \n28        68.0  114.0  46.0   65.0              2     True   0 days 08:17:00   \n29        69.0  128.0  50.0   73.0              2     True   0 days 09:17:00   \n30        61.0  114.0  42.0   60.0              2     True   0 days 10:17:00   \n31         NaN  139.0  57.0   82.0              2     True   0 days 11:17:00   \n32        74.0    NaN   NaN    NaN              2     True   0 days 11:20:00   \n33        65.0  142.0  82.0  100.0              2     True -1 days +12:14:00   \n34        63.0  150.0  78.0   98.0              2     True -1 days +13:14:00   \n35        62.0  131.0  72.0   88.0              2     True -1 days +14:14:00   \n36        60.0  123.0  56.0   78.0              2     True -1 days +15:14:00   \n37        61.0  127.0  60.0   83.0              2     True -1 days +16:14:00   \n38        66.0  136.0  65.0   89.0              2     True -1 days +17:14:00   \n39        61.0  127.0  60.0   81.0              2     True -1 days +18:14:00   \n40        61.0  137.0  67.0   90.0              2     True -1 days +19:14:00   \n41        63.0  136.0  66.0   87.0              2     True -1 days +20:14:00   \n42        60.0  133.0  65.0   82.0              2     True -1 days +21:14:00   \n43        60.0  133.0  63.0   81.0              2     True -1 days +22:14:00   \n44        60.0  138.0  62.0   82.0              2     True -1 days +23:14:00   \n45        75.0  149.0  56.0   85.0              2     True   0 days 00:14:00   \n46        80.0  155.0  61.0   91.0              2     True   0 days 01:14:00   \n47        60.0  135.0  57.0   80.0              2     True   0 days 02:14:00   \n48        76.0  160.0  71.0  100.0              2     True   0 days 03:14:00   \n49        64.0  148.0  66.0   92.0              2     True   0 days 04:14:00   \n\n    timestep_float  \n0         -19380.0  \n1         -19320.0  \n2         -18780.0  \n3         -18720.0  \n4         -18660.0  \n5         -17880.0  \n6         -16980.0  \n7         -16080.0  \n8         -15180.0  \n9         -15120.0  \n10        -14940.0  \n11        -14280.0  \n12        -13380.0  \n13         -9780.0  \n14         -9720.0  \n15         -6180.0  \n16         -2580.0  \n17          1020.0  \n18          4620.0  \n19          8220.0  \n20         11820.0  \n21         15420.0  \n22         18120.0  \n23         19020.0  \n24         19920.0  \n25         20820.0  \n26         22620.0  \n27         26220.0  \n28         29820.0  \n29         33420.0  \n30         37020.0  \n31         40620.0  \n32         40800.0  \n33        -42360.0  \n34        -38760.0  \n35        -35160.0  \n36        -31560.0  \n37        -27960.0  \n38        -24360.0  \n39        -20760.0  \n40        -17160.0  \n41        -13560.0  \n42         -9960.0  \n43         -6360.0  \n44         -2760.0  \n45           840.0  \n46          4440.0  \n47          8040.0  \n48         11640.0  \n49         15240.0  ",
      "text/html": "<div>\n<style scoped>\n    .dataframe tbody tr th:only-of-type {\n        vertical-align: middle;\n    }\n\n    .dataframe tbody tr th {\n        vertical-align: top;\n    }\n\n    .dataframe thead th {\n        text-align: right;\n    }\n</style>\n<table border=\"1\" class=\"dataframe\">\n  <thead>\n    <tr style=\"text-align: right;\">\n      <th></th>\n      <th>Unnamed: 0</th>\n      <th>stay_id</th>\n      <th>dose_b_time</th>\n      <th>subject_id</th>\n      <th>charttime</th>\n      <th>heart_rate</th>\n      <th>sbp</th>\n      <th>dbp</th>\n      <th>mbp</th>\n      <th>num_icd_codes</th>\n      <th>has_icd</th>\n      <th>timestep</th>\n      <th>timestep_float</th>\n    </tr>\n  </thead>\n  <tbody>\n    <tr>\n      <th>0</th>\n      <td>79.0</td>\n      <td>30004144</td>\n      <td>2126-04-04 18:43:00</td>\n      <td>10369174</td>\n      <td>2126-04-04 13:20:00</td>\n      <td>60.0</td>\n      <td>NaN</td>\n      <td>NaN</td>\n      <td>NaN</td>\n      <td>2</td>\n      <td>True</td>\n      <td>-1 days +18:37:00</td>\n      <td>-19380.0</td>\n    </tr>\n    <tr>\n      <th>1</th>\n      <td>97.0</td>\n      <td>30004144</td>\n      <td>2126-04-04 18:43:00</td>\n      <td>10369174</td>\n      <td>2126-04-04 13:21:00</td>\n      <td>NaN</td>\n      <td>132.0</td>\n      <td>53.0</td>\n      <td>78.0</td>\n      <td>2</td>\n      <td>True</td>\n      <td>-1 days +18:38:00</td>\n      <td>-19320.0</td>\n    </tr>\n    <tr>\n      <th>2</th>\n      <td>78.0</td>\n      <td>30004144</td>\n      <td>2126-04-04 18:43:00</td>\n      <td>10369174</td>\n      <td>2126-04-04 13:30:00</td>\n      <td>65.0</td>\n      <td>NaN</td>\n      <td>NaN</td>\n      <td>NaN</td>\n      <td>2</td>\n      <td>True</td>\n      <td>-1 days +18:47:00</td>\n      <td>-18780.0</td>\n    </tr>\n    <tr>\n      <th>3</th>\n      <td>104.0</td>\n      <td>30004144</td>\n      <td>2126-04-04 18:43:00</td>\n      <td>10369174</td>\n      <td>2126-04-04 13:31:00</td>\n      <td>NaN</td>\n      <td>139.0</td>\n      <td>60.0</td>\n      <td>87.0</td>\n      <td>2</td>\n      <td>True</td>\n      <td>-1 days +18:48:00</td>\n      <td>-18720.0</td>\n    </tr>\n    <tr>\n      <th>4</th>\n      <td>93.0</td>\n      <td>30004144</td>\n      <td>2126-04-04 18:43:00</td>\n      <td>10369174</td>\n      <td>2126-04-04 13:32:00</td>\n      <td>63.0</td>\n      <td>150.0</td>\n      <td>63.0</td>\n      <td>93.0</td>\n      <td>2</td>\n      <td>True</td>\n      <td>-1 days +18:49:00</td>\n      <td>-18660.0</td>\n    </tr>\n    <tr>\n      <th>5</th>\n      <td>101.0</td>\n      <td>30004144</td>\n      <td>2126-04-04 18:43:00</td>\n      <td>10369174</td>\n      <td>2126-04-04 13:45:00</td>\n      <td>63.0</td>\n      <td>140.0</td>\n      <td>59.0</td>\n      <td>86.0</td>\n      <td>2</td>\n      <td>True</td>\n      <td>-1 days +19:02:00</td>\n      <td>-17880.0</td>\n    </tr>\n    <tr>\n      <th>6</th>\n      <td>99.0</td>\n      <td>30004144</td>\n      <td>2126-04-04 18:43:00</td>\n      <td>10369174</td>\n      <td>2126-04-04 14:00:00</td>\n      <td>94.0</td>\n      <td>135.0</td>\n      <td>58.0</td>\n      <td>82.0</td>\n      <td>2</td>\n      <td>True</td>\n      <td>-1 days +19:17:00</td>\n      <td>-16980.0</td>\n    </tr>\n    <tr>\n      <th>7</th>\n      <td>73.0</td>\n      <td>30004144</td>\n      <td>2126-04-04 18:43:00</td>\n      <td>10369174</td>\n      <td>2126-04-04 14:15:00</td>\n      <td>67.0</td>\n      <td>156.0</td>\n      <td>66.0</td>\n      <td>100.0</td>\n      <td>2</td>\n      <td>True</td>\n      <td>-1 days +19:32:00</td>\n      <td>-16080.0</td>\n    </tr>\n    <tr>\n      <th>8</th>\n      <td>105.0</td>\n      <td>30004144</td>\n      <td>2126-04-04 18:43:00</td>\n      <td>10369174</td>\n      <td>2126-04-04 14:30:00</td>\n      <td>NaN</td>\n      <td>141.0</td>\n      <td>67.0</td>\n      <td>95.0</td>\n      <td>2</td>\n      <td>True</td>\n      <td>-1 days +19:47:00</td>\n      <td>-15180.0</td>\n    </tr>\n    <tr>\n      <th>9</th>\n      <td>77.0</td>\n      <td>30004144</td>\n      <td>2126-04-04 18:43:00</td>\n      <td>10369174</td>\n      <td>2126-04-04 14:31:00</td>\n      <td>70.0</td>\n      <td>NaN</td>\n      <td>NaN</td>\n      <td>NaN</td>\n      <td>2</td>\n      <td>True</td>\n      <td>-1 days +19:48:00</td>\n      <td>-15120.0</td>\n    </tr>\n    <tr>\n      <th>10</th>\n      <td>103.0</td>\n      <td>30004144</td>\n      <td>2126-04-04 18:43:00</td>\n      <td>10369174</td>\n      <td>2126-04-04 14:34:00</td>\n      <td>63.0</td>\n      <td>136.0</td>\n      <td>57.0</td>\n      <td>83.0</td>\n      <td>2</td>\n      <td>True</td>\n      <td>-1 days +19:51:00</td>\n      <td>-14940.0</td>\n    </tr>\n    <tr>\n      <th>11</th>\n      <td>91.0</td>\n      <td>30004144</td>\n      <td>2126-04-04 18:43:00</td>\n      <td>10369174</td>\n      <td>2126-04-04 14:45:00</td>\n      <td>64.0</td>\n      <td>131.0</td>\n      <td>54.0</td>\n      <td>81.0</td>\n      <td>2</td>\n      <td>True</td>\n      <td>-1 days +20:02:00</td>\n      <td>-14280.0</td>\n    </tr>\n    <tr>\n      <th>12</th>\n      <td>74.0</td>\n      <td>30004144</td>\n      <td>2126-04-04 18:43:00</td>\n      <td>10369174</td>\n      <td>2126-04-04 15:00:00</td>\n      <td>68.0</td>\n      <td>159.0</td>\n      <td>69.0</td>\n      <td>102.0</td>\n      <td>2</td>\n      <td>True</td>\n      <td>-1 days +20:17:00</td>\n      <td>-13380.0</td>\n    </tr>\n    <tr>\n      <th>13</th>\n      <td>86.0</td>\n      <td>30004144</td>\n      <td>2126-04-04 18:43:00</td>\n      <td>10369174</td>\n      <td>2126-04-04 16:00:00</td>\n      <td>NaN</td>\n      <td>143.0</td>\n      <td>63.0</td>\n      <td>92.0</td>\n      <td>2</td>\n      <td>True</td>\n      <td>-1 days +21:17:00</td>\n      <td>-9780.0</td>\n    </tr>\n    <tr>\n      <th>14</th>\n      <td>76.0</td>\n      <td>30004144</td>\n      <td>2126-04-04 18:43:00</td>\n      <td>10369174</td>\n      <td>2126-04-04 16:01:00</td>\n      <td>73.0</td>\n      <td>NaN</td>\n      <td>NaN</td>\n      <td>NaN</td>\n      <td>2</td>\n      <td>True</td>\n      <td>-1 days +21:18:00</td>\n      <td>-9720.0</td>\n    </tr>\n    <tr>\n      <th>15</th>\n      <td>87.0</td>\n      <td>30004144</td>\n      <td>2126-04-04 18:43:00</td>\n      <td>10369174</td>\n      <td>2126-04-04 17:00:00</td>\n      <td>72.0</td>\n      <td>154.0</td>\n      <td>67.0</td>\n      <td>96.0</td>\n      <td>2</td>\n      <td>True</td>\n      <td>-1 days +22:17:00</td>\n      <td>-6180.0</td>\n    </tr>\n    <tr>\n      <th>16</th>\n      <td>92.0</td>\n      <td>30004144</td>\n      <td>2126-04-04 18:43:00</td>\n      <td>10369174</td>\n      <td>2126-04-04 18:00:00</td>\n      <td>101.0</td>\n      <td>132.0</td>\n      <td>66.0</td>\n      <td>89.0</td>\n      <td>2</td>\n      <td>True</td>\n      <td>-1 days +23:17:00</td>\n      <td>-2580.0</td>\n    </tr>\n    <tr>\n      <th>17</th>\n      <td>95.0</td>\n      <td>30004144</td>\n      <td>2126-04-04 18:43:00</td>\n      <td>10369174</td>\n      <td>2126-04-04 19:00:00</td>\n      <td>81.0</td>\n      <td>115.0</td>\n      <td>56.0</td>\n      <td>74.0</td>\n      <td>2</td>\n      <td>True</td>\n      <td>0 days 00:17:00</td>\n      <td>1020.0</td>\n    </tr>\n    <tr>\n      <th>18</th>\n      <td>102.0</td>\n      <td>30004144</td>\n      <td>2126-04-04 18:43:00</td>\n      <td>10369174</td>\n      <td>2126-04-04 20:00:00</td>\n      <td>111.0</td>\n      <td>120.0</td>\n      <td>60.0</td>\n      <td>79.0</td>\n      <td>2</td>\n      <td>True</td>\n      <td>0 days 01:17:00</td>\n      <td>4620.0</td>\n    </tr>\n    <tr>\n      <th>19</th>\n      <td>85.0</td>\n      <td>30004144</td>\n      <td>2126-04-04 18:43:00</td>\n      <td>10369174</td>\n      <td>2126-04-04 21:00:00</td>\n      <td>100.0</td>\n      <td>126.0</td>\n      <td>58.0</td>\n      <td>80.0</td>\n      <td>2</td>\n      <td>True</td>\n      <td>0 days 02:17:00</td>\n      <td>8220.0</td>\n    </tr>\n    <tr>\n      <th>20</th>\n      <td>90.0</td>\n      <td>30004144</td>\n      <td>2126-04-04 18:43:00</td>\n      <td>10369174</td>\n      <td>2126-04-04 22:00:00</td>\n      <td>91.0</td>\n      <td>114.0</td>\n      <td>55.0</td>\n      <td>73.0</td>\n      <td>2</td>\n      <td>True</td>\n      <td>0 days 03:17:00</td>\n      <td>11820.0</td>\n    </tr>\n    <tr>\n      <th>21</th>\n      <td>96.0</td>\n      <td>30004144</td>\n      <td>2126-04-04 18:43:00</td>\n      <td>10369174</td>\n      <td>2126-04-04 23:00:00</td>\n      <td>93.0</td>\n      <td>122.0</td>\n      <td>58.0</td>\n      <td>78.0</td>\n      <td>2</td>\n      <td>True</td>\n      <td>0 days 04:17:00</td>\n      <td>15420.0</td>\n    </tr>\n    <tr>\n      <th>22</th>\n      <td>84.0</td>\n      <td>30004144</td>\n      <td>2126-04-04 18:43:00</td>\n      <td>10369174</td>\n      <td>2126-04-04 23:45:00</td>\n      <td>73.0</td>\n      <td>123.0</td>\n      <td>51.0</td>\n      <td>72.0</td>\n      <td>2</td>\n      <td>True</td>\n      <td>0 days 05:02:00</td>\n      <td>18120.0</td>\n    </tr>\n    <tr>\n      <th>23</th>\n      <td>94.0</td>\n      <td>30004144</td>\n      <td>2126-04-04 18:43:00</td>\n      <td>10369174</td>\n      <td>2126-04-05 00:00:00</td>\n      <td>71.0</td>\n      <td>96.0</td>\n      <td>42.0</td>\n      <td>57.0</td>\n      <td>2</td>\n      <td>True</td>\n      <td>0 days 05:17:00</td>\n      <td>19020.0</td>\n    </tr>\n    <tr>\n      <th>24</th>\n      <td>80.0</td>\n      <td>30004144</td>\n      <td>2126-04-04 18:43:00</td>\n      <td>10369174</td>\n      <td>2126-04-05 00:15:00</td>\n      <td>70.0</td>\n      <td>95.0</td>\n      <td>43.0</td>\n      <td>58.0</td>\n      <td>2</td>\n      <td>True</td>\n      <td>0 days 05:32:00</td>\n      <td>19920.0</td>\n    </tr>\n    <tr>\n      <th>25</th>\n      <td>82.0</td>\n      <td>30004144</td>\n      <td>2126-04-04 18:43:00</td>\n      <td>10369174</td>\n      <td>2126-04-05 00:30:00</td>\n      <td>71.0</td>\n      <td>99.0</td>\n      <td>45.0</td>\n      <td>60.0</td>\n      <td>2</td>\n      <td>True</td>\n      <td>0 days 05:47:00</td>\n      <td>20820.0</td>\n    </tr>\n    <tr>\n      <th>26</th>\n      <td>83.0</td>\n      <td>30004144</td>\n      <td>2126-04-04 18:43:00</td>\n      <td>10369174</td>\n      <td>2126-04-05 01:00:00</td>\n      <td>75.0</td>\n      <td>115.0</td>\n      <td>50.0</td>\n      <td>68.0</td>\n      <td>2</td>\n      <td>True</td>\n      <td>0 days 06:17:00</td>\n      <td>22620.0</td>\n    </tr>\n    <tr>\n      <th>27</th>\n      <td>100.0</td>\n      <td>30004144</td>\n      <td>2126-04-04 18:43:00</td>\n      <td>10369174</td>\n      <td>2126-04-05 02:00:00</td>\n      <td>74.0</td>\n      <td>138.0</td>\n      <td>56.0</td>\n      <td>82.0</td>\n      <td>2</td>\n      <td>True</td>\n      <td>0 days 07:17:00</td>\n      <td>26220.0</td>\n    </tr>\n    <tr>\n      <th>28</th>\n      <td>88.0</td>\n      <td>30004144</td>\n      <td>2126-04-04 18:43:00</td>\n      <td>10369174</td>\n      <td>2126-04-05 03:00:00</td>\n      <td>68.0</td>\n      <td>114.0</td>\n      <td>46.0</td>\n      <td>65.0</td>\n      <td>2</td>\n      <td>True</td>\n      <td>0 days 08:17:00</td>\n      <td>29820.0</td>\n    </tr>\n    <tr>\n      <th>29</th>\n      <td>89.0</td>\n      <td>30004144</td>\n      <td>2126-04-04 18:43:00</td>\n      <td>10369174</td>\n      <td>2126-04-05 04:00:00</td>\n      <td>69.0</td>\n      <td>128.0</td>\n      <td>50.0</td>\n      <td>73.0</td>\n      <td>2</td>\n      <td>True</td>\n      <td>0 days 09:17:00</td>\n      <td>33420.0</td>\n    </tr>\n    <tr>\n      <th>30</th>\n      <td>81.0</td>\n      <td>30004144</td>\n      <td>2126-04-04 18:43:00</td>\n      <td>10369174</td>\n      <td>2126-04-05 05:00:00</td>\n      <td>61.0</td>\n      <td>114.0</td>\n      <td>42.0</td>\n      <td>60.0</td>\n      <td>2</td>\n      <td>True</td>\n      <td>0 days 10:17:00</td>\n      <td>37020.0</td>\n    </tr>\n    <tr>\n      <th>31</th>\n      <td>98.0</td>\n      <td>30004144</td>\n      <td>2126-04-04 18:43:00</td>\n      <td>10369174</td>\n      <td>2126-04-05 06:00:00</td>\n      <td>NaN</td>\n      <td>139.0</td>\n      <td>57.0</td>\n      <td>82.0</td>\n      <td>2</td>\n      <td>True</td>\n      <td>0 days 11:17:00</td>\n      <td>40620.0</td>\n    </tr>\n    <tr>\n      <th>32</th>\n      <td>75.0</td>\n      <td>30004144</td>\n      <td>2126-04-04 18:43:00</td>\n      <td>10369174</td>\n      <td>2126-04-05 06:03:00</td>\n      <td>74.0</td>\n      <td>NaN</td>\n      <td>NaN</td>\n      <td>NaN</td>\n      <td>2</td>\n      <td>True</td>\n      <td>0 days 11:20:00</td>\n      <td>40800.0</td>\n    </tr>\n    <tr>\n      <th>33</th>\n      <td>94.0</td>\n      <td>30004144</td>\n      <td>2126-04-07 11:46:00</td>\n      <td>10369174</td>\n      <td>2126-04-07 00:00:00</td>\n      <td>65.0</td>\n      <td>142.0</td>\n      <td>82.0</td>\n      <td>100.0</td>\n      <td>2</td>\n      <td>True</td>\n      <td>-1 days +12:14:00</td>\n      <td>-42360.0</td>\n    </tr>\n    <tr>\n      <th>34</th>\n      <td>99.0</td>\n      <td>30004144</td>\n      <td>2126-04-07 11:46:00</td>\n      <td>10369174</td>\n      <td>2126-04-07 01:00:00</td>\n      <td>63.0</td>\n      <td>150.0</td>\n      <td>78.0</td>\n      <td>98.0</td>\n      <td>2</td>\n      <td>True</td>\n      <td>-1 days +13:14:00</td>\n      <td>-38760.0</td>\n    </tr>\n    <tr>\n      <th>35</th>\n      <td>107.0</td>\n      <td>30004144</td>\n      <td>2126-04-07 11:46:00</td>\n      <td>10369174</td>\n      <td>2126-04-07 02:00:00</td>\n      <td>62.0</td>\n      <td>131.0</td>\n      <td>72.0</td>\n      <td>88.0</td>\n      <td>2</td>\n      <td>True</td>\n      <td>-1 days +14:14:00</td>\n      <td>-35160.0</td>\n    </tr>\n    <tr>\n      <th>36</th>\n      <td>93.0</td>\n      <td>30004144</td>\n      <td>2126-04-07 11:46:00</td>\n      <td>10369174</td>\n      <td>2126-04-07 03:00:00</td>\n      <td>60.0</td>\n      <td>123.0</td>\n      <td>56.0</td>\n      <td>78.0</td>\n      <td>2</td>\n      <td>True</td>\n      <td>-1 days +15:14:00</td>\n      <td>-31560.0</td>\n    </tr>\n    <tr>\n      <th>37</th>\n      <td>90.0</td>\n      <td>30004144</td>\n      <td>2126-04-07 11:46:00</td>\n      <td>10369174</td>\n      <td>2126-04-07 04:00:00</td>\n      <td>61.0</td>\n      <td>127.0</td>\n      <td>60.0</td>\n      <td>83.0</td>\n      <td>2</td>\n      <td>True</td>\n      <td>-1 days +16:14:00</td>\n      <td>-27960.0</td>\n    </tr>\n    <tr>\n      <th>38</th>\n      <td>110.0</td>\n      <td>30004144</td>\n      <td>2126-04-07 11:46:00</td>\n      <td>10369174</td>\n      <td>2126-04-07 05:00:00</td>\n      <td>66.0</td>\n      <td>136.0</td>\n      <td>65.0</td>\n      <td>89.0</td>\n      <td>2</td>\n      <td>True</td>\n      <td>-1 days +17:14:00</td>\n      <td>-24360.0</td>\n    </tr>\n    <tr>\n      <th>39</th>\n      <td>106.0</td>\n      <td>30004144</td>\n      <td>2126-04-07 11:46:00</td>\n      <td>10369174</td>\n      <td>2126-04-07 06:00:00</td>\n      <td>61.0</td>\n      <td>127.0</td>\n      <td>60.0</td>\n      <td>81.0</td>\n      <td>2</td>\n      <td>True</td>\n      <td>-1 days +18:14:00</td>\n      <td>-20760.0</td>\n    </tr>\n    <tr>\n      <th>40</th>\n      <td>91.0</td>\n      <td>30004144</td>\n      <td>2126-04-07 11:46:00</td>\n      <td>10369174</td>\n      <td>2126-04-07 07:00:00</td>\n      <td>61.0</td>\n      <td>137.0</td>\n      <td>67.0</td>\n      <td>90.0</td>\n      <td>2</td>\n      <td>True</td>\n      <td>-1 days +19:14:00</td>\n      <td>-17160.0</td>\n    </tr>\n    <tr>\n      <th>41</th>\n      <td>102.0</td>\n      <td>30004144</td>\n      <td>2126-04-07 11:46:00</td>\n      <td>10369174</td>\n      <td>2126-04-07 08:00:00</td>\n      <td>63.0</td>\n      <td>136.0</td>\n      <td>66.0</td>\n      <td>87.0</td>\n      <td>2</td>\n      <td>True</td>\n      <td>-1 days +20:14:00</td>\n      <td>-13560.0</td>\n    </tr>\n    <tr>\n      <th>42</th>\n      <td>111.0</td>\n      <td>30004144</td>\n      <td>2126-04-07 11:46:00</td>\n      <td>10369174</td>\n      <td>2126-04-07 09:00:00</td>\n      <td>60.0</td>\n      <td>133.0</td>\n      <td>65.0</td>\n      <td>82.0</td>\n      <td>2</td>\n      <td>True</td>\n      <td>-1 days +21:14:00</td>\n      <td>-9960.0</td>\n    </tr>\n    <tr>\n      <th>43</th>\n      <td>98.0</td>\n      <td>30004144</td>\n      <td>2126-04-07 11:46:00</td>\n      <td>10369174</td>\n      <td>2126-04-07 10:00:00</td>\n      <td>60.0</td>\n      <td>133.0</td>\n      <td>63.0</td>\n      <td>81.0</td>\n      <td>2</td>\n      <td>True</td>\n      <td>-1 days +22:14:00</td>\n      <td>-6360.0</td>\n    </tr>\n    <tr>\n      <th>44</th>\n      <td>104.0</td>\n      <td>30004144</td>\n      <td>2126-04-07 11:46:00</td>\n      <td>10369174</td>\n      <td>2126-04-07 11:00:00</td>\n      <td>60.0</td>\n      <td>138.0</td>\n      <td>62.0</td>\n      <td>82.0</td>\n      <td>2</td>\n      <td>True</td>\n      <td>-1 days +23:14:00</td>\n      <td>-2760.0</td>\n    </tr>\n    <tr>\n      <th>45</th>\n      <td>101.0</td>\n      <td>30004144</td>\n      <td>2126-04-07 11:46:00</td>\n      <td>10369174</td>\n      <td>2126-04-07 12:00:00</td>\n      <td>75.0</td>\n      <td>149.0</td>\n      <td>56.0</td>\n      <td>85.0</td>\n      <td>2</td>\n      <td>True</td>\n      <td>0 days 00:14:00</td>\n      <td>840.0</td>\n    </tr>\n    <tr>\n      <th>46</th>\n      <td>96.0</td>\n      <td>30004144</td>\n      <td>2126-04-07 11:46:00</td>\n      <td>10369174</td>\n      <td>2126-04-07 13:00:00</td>\n      <td>80.0</td>\n      <td>155.0</td>\n      <td>61.0</td>\n      <td>91.0</td>\n      <td>2</td>\n      <td>True</td>\n      <td>0 days 01:14:00</td>\n      <td>4440.0</td>\n    </tr>\n    <tr>\n      <th>47</th>\n      <td>86.0</td>\n      <td>30004144</td>\n      <td>2126-04-07 11:46:00</td>\n      <td>10369174</td>\n      <td>2126-04-07 14:00:00</td>\n      <td>60.0</td>\n      <td>135.0</td>\n      <td>57.0</td>\n      <td>80.0</td>\n      <td>2</td>\n      <td>True</td>\n      <td>0 days 02:14:00</td>\n      <td>8040.0</td>\n    </tr>\n    <tr>\n      <th>48</th>\n      <td>108.0</td>\n      <td>30004144</td>\n      <td>2126-04-07 11:46:00</td>\n      <td>10369174</td>\n      <td>2126-04-07 15:00:00</td>\n      <td>76.0</td>\n      <td>160.0</td>\n      <td>71.0</td>\n      <td>100.0</td>\n      <td>2</td>\n      <td>True</td>\n      <td>0 days 03:14:00</td>\n      <td>11640.0</td>\n    </tr>\n    <tr>\n      <th>49</th>\n      <td>95.0</td>\n      <td>30004144</td>\n      <td>2126-04-07 11:46:00</td>\n      <td>10369174</td>\n      <td>2126-04-07 16:00:00</td>\n      <td>64.0</td>\n      <td>148.0</td>\n      <td>66.0</td>\n      <td>92.0</td>\n      <td>2</td>\n      <td>True</td>\n      <td>0 days 04:14:00</td>\n      <td>15240.0</td>\n    </tr>\n  </tbody>\n</table>\n</div>"
     },
     "execution_count": 7,
     "metadata": {},
     "output_type": "execute_result"
    }
   ],
   "source": [
    "# make the target cohort and the negative cohort the same shape and join them together\n",
    "stay_ids_with_icd = vitals_data_df[\"stay_id\"].unique()\n",
    "stay_ids_without_icd = vitals_no_ddi[\"stay_id\"].unique()\n",
    "\n",
    "print(len(stay_ids_with_icd))\n",
    "print(len(stay_ids_without_icd))\n",
    "min_balanced_len = min(len(stay_ids_with_icd), len(stay_ids_without_icd))\n",
    "print(min_balanced_len)\n",
    "\n",
    "balanced_with = vitals_data_df[vitals_data_df[\"stay_id\"].isin(stay_ids_with_icd[:min_balanced_len])]\n",
    "balanced_without = vitals_no_ddi[vitals_no_ddi[\"stay_id\"].isin(stay_ids_without_icd[:min_balanced_len])]\n",
    "\n",
    "df = pd.concat([balanced_with, balanced_without])\n",
    "print(f\"Size of target {len(balanced_with)}, size of negative {len(balanced_without)}, size of combined {len(df)}\")\n",
    "\n",
    "## convert chart_time to timestep relative to dose b time\n",
    "df[\"timestep\"] = df[\"charttime\"] - df[\"dose_b_time\"]\n",
    "## and convert to float64 for tensor flow\n",
    "df['timestep_float'] = df['timestep'].dt.total_seconds().astype('float64')\n",
    "\n",
    "print(df.dtypes)\n",
    "\n",
    "for data in data_arrays:\n",
    "    df[data] = df[data].astype('float64')\n",
    "\n",
    "print(df.dtypes)\n",
    "print(df['has_icd'].describe())\n",
    "df.head(50)"
   ],
   "metadata": {
    "collapsed": false,
    "ExecuteTime": {
     "end_time": "2023-10-31T06:32:26.890898300Z",
     "start_time": "2023-10-31T06:32:26.619590Z"
    }
   },
   "id": "bbdedf0ecd5747bd"
  },
  {
   "cell_type": "code",
   "execution_count": 8,
   "outputs": [
    {
     "data": {
      "text/plain": "         stay_id          timestep  timestep_float         dose_b_time  \\\n50      30004018 -1 days +12:45:00        -40500.0 2158-12-30 06:15:00   \n34      30004018 -1 days +13:45:00        -36900.0 2158-12-30 06:15:00   \n32      30004018 -1 days +14:45:00        -33300.0 2158-12-30 06:15:00   \n30      30004018 -1 days +15:45:00        -29700.0 2158-12-30 06:15:00   \n49      30004018 -1 days +16:45:00        -26100.0 2158-12-30 06:15:00   \n45      30004018 -1 days +17:45:00        -22500.0 2158-12-30 06:15:00   \n48      30004018 -1 days +18:45:00        -18900.0 2158-12-30 06:15:00   \n39      30004018 -1 days +19:45:00        -15300.0 2158-12-30 06:15:00   \n41      30004018 -1 days +20:45:00        -11700.0 2158-12-30 06:15:00   \n33      30004018 -1 days +21:45:00         -8100.0 2158-12-30 06:15:00   \n35      30004018 -1 days +22:45:00         -4500.0 2158-12-30 06:15:00   \n46      30004018 -1 days +23:45:00          -900.0 2158-12-30 06:15:00   \n38      30004018   0 days 00:45:00          2700.0 2158-12-30 06:15:00   \n37      30004018   0 days 01:45:00          6300.0 2158-12-30 06:15:00   \n42      30004018   0 days 02:45:00          9900.0 2158-12-30 06:15:00   \n27      30004018   0 days 03:45:00         13500.0 2158-12-30 06:15:00   \n43      30004018   0 days 04:45:00         17100.0 2158-12-30 06:15:00   \n44      30004018   0 days 05:45:00         20700.0 2158-12-30 06:15:00   \n29      30004018   0 days 06:45:00         24300.0 2158-12-30 06:15:00   \n28      30004018   0 days 07:45:00         27900.0 2158-12-30 06:15:00   \n31      30004018   0 days 08:45:00         31500.0 2158-12-30 06:15:00   \n40      30004018   0 days 09:45:00         35100.0 2158-12-30 06:15:00   \n36      30004018   0 days 10:45:00         38700.0 2158-12-30 06:15:00   \n47      30004018   0 days 11:45:00         42300.0 2158-12-30 06:15:00   \n365092  30004018 -1 days +12:02:00        -43080.0 2159-01-07 04:58:00   \n365102  30004018 -1 days +13:02:00        -39480.0 2159-01-07 04:58:00   \n365104  30004018 -1 days +14:02:00        -35880.0 2159-01-07 04:58:00   \n365098  30004018 -1 days +15:02:00        -32280.0 2159-01-07 04:58:00   \n365101  30004018 -1 days +16:02:00        -28680.0 2159-01-07 04:58:00   \n365099  30004018 -1 days +17:02:00        -25080.0 2159-01-07 04:58:00   \n365089  30004018 -1 days +18:02:00        -21480.0 2159-01-07 04:58:00   \n365085  30004018 -1 days +19:02:00        -17880.0 2159-01-07 04:58:00   \n365103  30004018 -1 days +19:17:00        -16980.0 2159-01-07 04:58:00   \n365096  30004018 -1 days +20:02:00        -14280.0 2159-01-07 04:58:00   \n365105  30004018 -1 days +21:02:00        -10680.0 2159-01-07 04:58:00   \n365095  30004018 -1 days +22:02:00         -7080.0 2159-01-07 04:58:00   \n365088  30004018 -1 days +23:02:00         -3480.0 2159-01-07 04:58:00   \n365087  30004018   0 days 00:02:00           120.0 2159-01-07 04:58:00   \n365091  30004018   0 days 01:02:00          3720.0 2159-01-07 04:58:00   \n365090  30004018   0 days 02:02:00          7320.0 2159-01-07 04:58:00   \n365106  30004018   0 days 03:02:00         10920.0 2159-01-07 04:58:00   \n365086  30004018   0 days 04:05:00         14700.0 2159-01-07 04:58:00   \n365100  30004018   0 days 04:17:00         15420.0 2159-01-07 04:58:00   \n365097  30004018   0 days 05:02:00         18120.0 2159-01-07 04:58:00   \n365107  30004018   0 days 06:02:00         21720.0 2159-01-07 04:58:00   \n365084  30004018   0 days 07:02:00         25320.0 2159-01-07 04:58:00   \n365094  30004018   0 days 08:02:00         28920.0 2159-01-07 04:58:00   \n365083  30004018   0 days 09:02:00         32520.0 2159-01-07 04:58:00   \n365093  30004018   0 days 10:02:00         36120.0 2159-01-07 04:58:00   \n365108  30004018   0 days 11:02:00         39720.0 2159-01-07 04:58:00   \n\n                 charttime  has_icd  heart_rate    sbp    dbp    mbp  \n50     2158-12-29 19:00:00    False        97.0  131.0   60.0   78.0  \n34     2158-12-29 20:00:00    False       100.0  130.0   62.0   76.0  \n32     2158-12-29 21:00:00    False        96.0  114.0   53.0   68.0  \n30     2158-12-29 22:00:00    False        94.0  112.0   45.0   62.0  \n49     2158-12-29 23:00:00    False       102.0  125.0   65.0   78.0  \n45     2158-12-30 00:00:00    False        96.0  118.0   56.0   70.0  \n48     2158-12-30 01:00:00    False       100.0  114.0   65.0   74.0  \n39     2158-12-30 02:00:00    False        94.0  106.0   61.0   73.0  \n41     2158-12-30 03:00:00    False        91.0   91.0   53.0   61.0  \n33     2158-12-30 04:00:00    False        91.0  104.0   60.0   72.0  \n35     2158-12-30 05:00:00    False        92.0  114.0   66.0   76.0  \n46     2158-12-30 06:00:00    False        97.0  113.0   64.0   74.0  \n38     2158-12-30 07:00:00    False        95.0  109.0   58.0   69.0  \n37     2158-12-30 08:00:00    False       103.0  140.0   83.0   96.0  \n42     2158-12-30 09:00:00    False        99.0  108.0   46.0   61.0  \n27     2158-12-30 10:00:00    False       100.0   56.0   21.0   28.0  \n43     2158-12-30 11:00:00    False        99.0  107.0   53.0   66.0  \n44     2158-12-30 12:00:00    False       101.0  114.0   57.0   70.0  \n29     2158-12-30 13:00:00    False        98.0   92.0   48.0   58.0  \n28     2158-12-30 14:00:00    False        97.0   78.0   38.0   47.0  \n31     2158-12-30 15:00:00    False        94.0  113.0   49.0   64.0  \n40     2158-12-30 16:00:00    False        89.0   98.0   46.0   57.0  \n36     2158-12-30 17:00:00    False        95.0  124.0   73.0   84.0  \n47     2158-12-30 18:00:00    False       104.0  118.0   60.0   74.0  \n365092 2159-01-06 17:00:00    False        98.0  117.0   70.0   80.0  \n365102 2159-01-06 18:00:00    False        94.0   99.0   53.0   63.0  \n365104 2159-01-06 19:00:00    False        97.0  104.0   57.0   67.0  \n365098 2159-01-06 20:00:00    False       102.0  117.0   72.0   81.0  \n365101 2159-01-06 21:00:00    False       106.0  148.0   88.0  101.0  \n365099 2159-01-06 22:00:00    False       101.0  144.0   80.0   93.0  \n365089 2159-01-06 23:00:00    False       103.0  114.0   53.0   68.0  \n365085 2159-01-07 00:00:00    False        99.0    NaN    NaN    NaN  \n365103 2159-01-07 00:15:00    False         NaN  102.0   54.0   66.0  \n365096 2159-01-07 01:00:00    False        97.0  100.0   55.0   65.0  \n365105 2159-01-07 02:00:00    False        95.0   99.0   59.0   67.0  \n365095 2159-01-07 03:00:00    False        95.0   99.0   55.0   65.0  \n365088 2159-01-07 04:00:00    False        98.0  111.0   54.0   68.0  \n365087 2159-01-07 05:00:00    False        95.0   90.0   54.0   62.0  \n365091 2159-01-07 06:00:00    False       108.0  123.0   69.0   80.0  \n365090 2159-01-07 07:00:00    False       101.0  122.0   68.0   80.0  \n365106 2159-01-07 08:00:00    False        98.0  111.0   64.0   75.0  \n365086 2159-01-07 09:03:00    False       113.0    NaN    NaN    NaN  \n365100 2159-01-07 09:15:00    False         NaN  145.0   79.0   93.0  \n365097 2159-01-07 10:00:00    False        99.0  111.0   67.0   77.0  \n365107 2159-01-07 11:00:00    False       102.0  114.0   78.0   87.0  \n365084 2159-01-07 12:00:00    False       115.0  170.0  107.0  117.0  \n365094 2159-01-07 13:00:00    False       119.0  152.0   89.0  100.0  \n365083 2159-01-07 14:00:00    False       125.0  127.0  100.0  106.0  \n365093 2159-01-07 15:00:00    False       129.0  118.0   74.0   80.0  \n365108 2159-01-07 16:00:00    False       131.0  137.0   83.0   95.0  ",
      "text/html": "<div>\n<style scoped>\n    .dataframe tbody tr th:only-of-type {\n        vertical-align: middle;\n    }\n\n    .dataframe tbody tr th {\n        vertical-align: top;\n    }\n\n    .dataframe thead th {\n        text-align: right;\n    }\n</style>\n<table border=\"1\" class=\"dataframe\">\n  <thead>\n    <tr style=\"text-align: right;\">\n      <th></th>\n      <th>stay_id</th>\n      <th>timestep</th>\n      <th>timestep_float</th>\n      <th>dose_b_time</th>\n      <th>charttime</th>\n      <th>has_icd</th>\n      <th>heart_rate</th>\n      <th>sbp</th>\n      <th>dbp</th>\n      <th>mbp</th>\n    </tr>\n  </thead>\n  <tbody>\n    <tr>\n      <th>50</th>\n      <td>30004018</td>\n      <td>-1 days +12:45:00</td>\n      <td>-40500.0</td>\n      <td>2158-12-30 06:15:00</td>\n      <td>2158-12-29 19:00:00</td>\n      <td>False</td>\n      <td>97.0</td>\n      <td>131.0</td>\n      <td>60.0</td>\n      <td>78.0</td>\n    </tr>\n    <tr>\n      <th>34</th>\n      <td>30004018</td>\n      <td>-1 days +13:45:00</td>\n      <td>-36900.0</td>\n      <td>2158-12-30 06:15:00</td>\n      <td>2158-12-29 20:00:00</td>\n      <td>False</td>\n      <td>100.0</td>\n      <td>130.0</td>\n      <td>62.0</td>\n      <td>76.0</td>\n    </tr>\n    <tr>\n      <th>32</th>\n      <td>30004018</td>\n      <td>-1 days +14:45:00</td>\n      <td>-33300.0</td>\n      <td>2158-12-30 06:15:00</td>\n      <td>2158-12-29 21:00:00</td>\n      <td>False</td>\n      <td>96.0</td>\n      <td>114.0</td>\n      <td>53.0</td>\n      <td>68.0</td>\n    </tr>\n    <tr>\n      <th>30</th>\n      <td>30004018</td>\n      <td>-1 days +15:45:00</td>\n      <td>-29700.0</td>\n      <td>2158-12-30 06:15:00</td>\n      <td>2158-12-29 22:00:00</td>\n      <td>False</td>\n      <td>94.0</td>\n      <td>112.0</td>\n      <td>45.0</td>\n      <td>62.0</td>\n    </tr>\n    <tr>\n      <th>49</th>\n      <td>30004018</td>\n      <td>-1 days +16:45:00</td>\n      <td>-26100.0</td>\n      <td>2158-12-30 06:15:00</td>\n      <td>2158-12-29 23:00:00</td>\n      <td>False</td>\n      <td>102.0</td>\n      <td>125.0</td>\n      <td>65.0</td>\n      <td>78.0</td>\n    </tr>\n    <tr>\n      <th>45</th>\n      <td>30004018</td>\n      <td>-1 days +17:45:00</td>\n      <td>-22500.0</td>\n      <td>2158-12-30 06:15:00</td>\n      <td>2158-12-30 00:00:00</td>\n      <td>False</td>\n      <td>96.0</td>\n      <td>118.0</td>\n      <td>56.0</td>\n      <td>70.0</td>\n    </tr>\n    <tr>\n      <th>48</th>\n      <td>30004018</td>\n      <td>-1 days +18:45:00</td>\n      <td>-18900.0</td>\n      <td>2158-12-30 06:15:00</td>\n      <td>2158-12-30 01:00:00</td>\n      <td>False</td>\n      <td>100.0</td>\n      <td>114.0</td>\n      <td>65.0</td>\n      <td>74.0</td>\n    </tr>\n    <tr>\n      <th>39</th>\n      <td>30004018</td>\n      <td>-1 days +19:45:00</td>\n      <td>-15300.0</td>\n      <td>2158-12-30 06:15:00</td>\n      <td>2158-12-30 02:00:00</td>\n      <td>False</td>\n      <td>94.0</td>\n      <td>106.0</td>\n      <td>61.0</td>\n      <td>73.0</td>\n    </tr>\n    <tr>\n      <th>41</th>\n      <td>30004018</td>\n      <td>-1 days +20:45:00</td>\n      <td>-11700.0</td>\n      <td>2158-12-30 06:15:00</td>\n      <td>2158-12-30 03:00:00</td>\n      <td>False</td>\n      <td>91.0</td>\n      <td>91.0</td>\n      <td>53.0</td>\n      <td>61.0</td>\n    </tr>\n    <tr>\n      <th>33</th>\n      <td>30004018</td>\n      <td>-1 days +21:45:00</td>\n      <td>-8100.0</td>\n      <td>2158-12-30 06:15:00</td>\n      <td>2158-12-30 04:00:00</td>\n      <td>False</td>\n      <td>91.0</td>\n      <td>104.0</td>\n      <td>60.0</td>\n      <td>72.0</td>\n    </tr>\n    <tr>\n      <th>35</th>\n      <td>30004018</td>\n      <td>-1 days +22:45:00</td>\n      <td>-4500.0</td>\n      <td>2158-12-30 06:15:00</td>\n      <td>2158-12-30 05:00:00</td>\n      <td>False</td>\n      <td>92.0</td>\n      <td>114.0</td>\n      <td>66.0</td>\n      <td>76.0</td>\n    </tr>\n    <tr>\n      <th>46</th>\n      <td>30004018</td>\n      <td>-1 days +23:45:00</td>\n      <td>-900.0</td>\n      <td>2158-12-30 06:15:00</td>\n      <td>2158-12-30 06:00:00</td>\n      <td>False</td>\n      <td>97.0</td>\n      <td>113.0</td>\n      <td>64.0</td>\n      <td>74.0</td>\n    </tr>\n    <tr>\n      <th>38</th>\n      <td>30004018</td>\n      <td>0 days 00:45:00</td>\n      <td>2700.0</td>\n      <td>2158-12-30 06:15:00</td>\n      <td>2158-12-30 07:00:00</td>\n      <td>False</td>\n      <td>95.0</td>\n      <td>109.0</td>\n      <td>58.0</td>\n      <td>69.0</td>\n    </tr>\n    <tr>\n      <th>37</th>\n      <td>30004018</td>\n      <td>0 days 01:45:00</td>\n      <td>6300.0</td>\n      <td>2158-12-30 06:15:00</td>\n      <td>2158-12-30 08:00:00</td>\n      <td>False</td>\n      <td>103.0</td>\n      <td>140.0</td>\n      <td>83.0</td>\n      <td>96.0</td>\n    </tr>\n    <tr>\n      <th>42</th>\n      <td>30004018</td>\n      <td>0 days 02:45:00</td>\n      <td>9900.0</td>\n      <td>2158-12-30 06:15:00</td>\n      <td>2158-12-30 09:00:00</td>\n      <td>False</td>\n      <td>99.0</td>\n      <td>108.0</td>\n      <td>46.0</td>\n      <td>61.0</td>\n    </tr>\n    <tr>\n      <th>27</th>\n      <td>30004018</td>\n      <td>0 days 03:45:00</td>\n      <td>13500.0</td>\n      <td>2158-12-30 06:15:00</td>\n      <td>2158-12-30 10:00:00</td>\n      <td>False</td>\n      <td>100.0</td>\n      <td>56.0</td>\n      <td>21.0</td>\n      <td>28.0</td>\n    </tr>\n    <tr>\n      <th>43</th>\n      <td>30004018</td>\n      <td>0 days 04:45:00</td>\n      <td>17100.0</td>\n      <td>2158-12-30 06:15:00</td>\n      <td>2158-12-30 11:00:00</td>\n      <td>False</td>\n      <td>99.0</td>\n      <td>107.0</td>\n      <td>53.0</td>\n      <td>66.0</td>\n    </tr>\n    <tr>\n      <th>44</th>\n      <td>30004018</td>\n      <td>0 days 05:45:00</td>\n      <td>20700.0</td>\n      <td>2158-12-30 06:15:00</td>\n      <td>2158-12-30 12:00:00</td>\n      <td>False</td>\n      <td>101.0</td>\n      <td>114.0</td>\n      <td>57.0</td>\n      <td>70.0</td>\n    </tr>\n    <tr>\n      <th>29</th>\n      <td>30004018</td>\n      <td>0 days 06:45:00</td>\n      <td>24300.0</td>\n      <td>2158-12-30 06:15:00</td>\n      <td>2158-12-30 13:00:00</td>\n      <td>False</td>\n      <td>98.0</td>\n      <td>92.0</td>\n      <td>48.0</td>\n      <td>58.0</td>\n    </tr>\n    <tr>\n      <th>28</th>\n      <td>30004018</td>\n      <td>0 days 07:45:00</td>\n      <td>27900.0</td>\n      <td>2158-12-30 06:15:00</td>\n      <td>2158-12-30 14:00:00</td>\n      <td>False</td>\n      <td>97.0</td>\n      <td>78.0</td>\n      <td>38.0</td>\n      <td>47.0</td>\n    </tr>\n    <tr>\n      <th>31</th>\n      <td>30004018</td>\n      <td>0 days 08:45:00</td>\n      <td>31500.0</td>\n      <td>2158-12-30 06:15:00</td>\n      <td>2158-12-30 15:00:00</td>\n      <td>False</td>\n      <td>94.0</td>\n      <td>113.0</td>\n      <td>49.0</td>\n      <td>64.0</td>\n    </tr>\n    <tr>\n      <th>40</th>\n      <td>30004018</td>\n      <td>0 days 09:45:00</td>\n      <td>35100.0</td>\n      <td>2158-12-30 06:15:00</td>\n      <td>2158-12-30 16:00:00</td>\n      <td>False</td>\n      <td>89.0</td>\n      <td>98.0</td>\n      <td>46.0</td>\n      <td>57.0</td>\n    </tr>\n    <tr>\n      <th>36</th>\n      <td>30004018</td>\n      <td>0 days 10:45:00</td>\n      <td>38700.0</td>\n      <td>2158-12-30 06:15:00</td>\n      <td>2158-12-30 17:00:00</td>\n      <td>False</td>\n      <td>95.0</td>\n      <td>124.0</td>\n      <td>73.0</td>\n      <td>84.0</td>\n    </tr>\n    <tr>\n      <th>47</th>\n      <td>30004018</td>\n      <td>0 days 11:45:00</td>\n      <td>42300.0</td>\n      <td>2158-12-30 06:15:00</td>\n      <td>2158-12-30 18:00:00</td>\n      <td>False</td>\n      <td>104.0</td>\n      <td>118.0</td>\n      <td>60.0</td>\n      <td>74.0</td>\n    </tr>\n    <tr>\n      <th>365092</th>\n      <td>30004018</td>\n      <td>-1 days +12:02:00</td>\n      <td>-43080.0</td>\n      <td>2159-01-07 04:58:00</td>\n      <td>2159-01-06 17:00:00</td>\n      <td>False</td>\n      <td>98.0</td>\n      <td>117.0</td>\n      <td>70.0</td>\n      <td>80.0</td>\n    </tr>\n    <tr>\n      <th>365102</th>\n      <td>30004018</td>\n      <td>-1 days +13:02:00</td>\n      <td>-39480.0</td>\n      <td>2159-01-07 04:58:00</td>\n      <td>2159-01-06 18:00:00</td>\n      <td>False</td>\n      <td>94.0</td>\n      <td>99.0</td>\n      <td>53.0</td>\n      <td>63.0</td>\n    </tr>\n    <tr>\n      <th>365104</th>\n      <td>30004018</td>\n      <td>-1 days +14:02:00</td>\n      <td>-35880.0</td>\n      <td>2159-01-07 04:58:00</td>\n      <td>2159-01-06 19:00:00</td>\n      <td>False</td>\n      <td>97.0</td>\n      <td>104.0</td>\n      <td>57.0</td>\n      <td>67.0</td>\n    </tr>\n    <tr>\n      <th>365098</th>\n      <td>30004018</td>\n      <td>-1 days +15:02:00</td>\n      <td>-32280.0</td>\n      <td>2159-01-07 04:58:00</td>\n      <td>2159-01-06 20:00:00</td>\n      <td>False</td>\n      <td>102.0</td>\n      <td>117.0</td>\n      <td>72.0</td>\n      <td>81.0</td>\n    </tr>\n    <tr>\n      <th>365101</th>\n      <td>30004018</td>\n      <td>-1 days +16:02:00</td>\n      <td>-28680.0</td>\n      <td>2159-01-07 04:58:00</td>\n      <td>2159-01-06 21:00:00</td>\n      <td>False</td>\n      <td>106.0</td>\n      <td>148.0</td>\n      <td>88.0</td>\n      <td>101.0</td>\n    </tr>\n    <tr>\n      <th>365099</th>\n      <td>30004018</td>\n      <td>-1 days +17:02:00</td>\n      <td>-25080.0</td>\n      <td>2159-01-07 04:58:00</td>\n      <td>2159-01-06 22:00:00</td>\n      <td>False</td>\n      <td>101.0</td>\n      <td>144.0</td>\n      <td>80.0</td>\n      <td>93.0</td>\n    </tr>\n    <tr>\n      <th>365089</th>\n      <td>30004018</td>\n      <td>-1 days +18:02:00</td>\n      <td>-21480.0</td>\n      <td>2159-01-07 04:58:00</td>\n      <td>2159-01-06 23:00:00</td>\n      <td>False</td>\n      <td>103.0</td>\n      <td>114.0</td>\n      <td>53.0</td>\n      <td>68.0</td>\n    </tr>\n    <tr>\n      <th>365085</th>\n      <td>30004018</td>\n      <td>-1 days +19:02:00</td>\n      <td>-17880.0</td>\n      <td>2159-01-07 04:58:00</td>\n      <td>2159-01-07 00:00:00</td>\n      <td>False</td>\n      <td>99.0</td>\n      <td>NaN</td>\n      <td>NaN</td>\n      <td>NaN</td>\n    </tr>\n    <tr>\n      <th>365103</th>\n      <td>30004018</td>\n      <td>-1 days +19:17:00</td>\n      <td>-16980.0</td>\n      <td>2159-01-07 04:58:00</td>\n      <td>2159-01-07 00:15:00</td>\n      <td>False</td>\n      <td>NaN</td>\n      <td>102.0</td>\n      <td>54.0</td>\n      <td>66.0</td>\n    </tr>\n    <tr>\n      <th>365096</th>\n      <td>30004018</td>\n      <td>-1 days +20:02:00</td>\n      <td>-14280.0</td>\n      <td>2159-01-07 04:58:00</td>\n      <td>2159-01-07 01:00:00</td>\n      <td>False</td>\n      <td>97.0</td>\n      <td>100.0</td>\n      <td>55.0</td>\n      <td>65.0</td>\n    </tr>\n    <tr>\n      <th>365105</th>\n      <td>30004018</td>\n      <td>-1 days +21:02:00</td>\n      <td>-10680.0</td>\n      <td>2159-01-07 04:58:00</td>\n      <td>2159-01-07 02:00:00</td>\n      <td>False</td>\n      <td>95.0</td>\n      <td>99.0</td>\n      <td>59.0</td>\n      <td>67.0</td>\n    </tr>\n    <tr>\n      <th>365095</th>\n      <td>30004018</td>\n      <td>-1 days +22:02:00</td>\n      <td>-7080.0</td>\n      <td>2159-01-07 04:58:00</td>\n      <td>2159-01-07 03:00:00</td>\n      <td>False</td>\n      <td>95.0</td>\n      <td>99.0</td>\n      <td>55.0</td>\n      <td>65.0</td>\n    </tr>\n    <tr>\n      <th>365088</th>\n      <td>30004018</td>\n      <td>-1 days +23:02:00</td>\n      <td>-3480.0</td>\n      <td>2159-01-07 04:58:00</td>\n      <td>2159-01-07 04:00:00</td>\n      <td>False</td>\n      <td>98.0</td>\n      <td>111.0</td>\n      <td>54.0</td>\n      <td>68.0</td>\n    </tr>\n    <tr>\n      <th>365087</th>\n      <td>30004018</td>\n      <td>0 days 00:02:00</td>\n      <td>120.0</td>\n      <td>2159-01-07 04:58:00</td>\n      <td>2159-01-07 05:00:00</td>\n      <td>False</td>\n      <td>95.0</td>\n      <td>90.0</td>\n      <td>54.0</td>\n      <td>62.0</td>\n    </tr>\n    <tr>\n      <th>365091</th>\n      <td>30004018</td>\n      <td>0 days 01:02:00</td>\n      <td>3720.0</td>\n      <td>2159-01-07 04:58:00</td>\n      <td>2159-01-07 06:00:00</td>\n      <td>False</td>\n      <td>108.0</td>\n      <td>123.0</td>\n      <td>69.0</td>\n      <td>80.0</td>\n    </tr>\n    <tr>\n      <th>365090</th>\n      <td>30004018</td>\n      <td>0 days 02:02:00</td>\n      <td>7320.0</td>\n      <td>2159-01-07 04:58:00</td>\n      <td>2159-01-07 07:00:00</td>\n      <td>False</td>\n      <td>101.0</td>\n      <td>122.0</td>\n      <td>68.0</td>\n      <td>80.0</td>\n    </tr>\n    <tr>\n      <th>365106</th>\n      <td>30004018</td>\n      <td>0 days 03:02:00</td>\n      <td>10920.0</td>\n      <td>2159-01-07 04:58:00</td>\n      <td>2159-01-07 08:00:00</td>\n      <td>False</td>\n      <td>98.0</td>\n      <td>111.0</td>\n      <td>64.0</td>\n      <td>75.0</td>\n    </tr>\n    <tr>\n      <th>365086</th>\n      <td>30004018</td>\n      <td>0 days 04:05:00</td>\n      <td>14700.0</td>\n      <td>2159-01-07 04:58:00</td>\n      <td>2159-01-07 09:03:00</td>\n      <td>False</td>\n      <td>113.0</td>\n      <td>NaN</td>\n      <td>NaN</td>\n      <td>NaN</td>\n    </tr>\n    <tr>\n      <th>365100</th>\n      <td>30004018</td>\n      <td>0 days 04:17:00</td>\n      <td>15420.0</td>\n      <td>2159-01-07 04:58:00</td>\n      <td>2159-01-07 09:15:00</td>\n      <td>False</td>\n      <td>NaN</td>\n      <td>145.0</td>\n      <td>79.0</td>\n      <td>93.0</td>\n    </tr>\n    <tr>\n      <th>365097</th>\n      <td>30004018</td>\n      <td>0 days 05:02:00</td>\n      <td>18120.0</td>\n      <td>2159-01-07 04:58:00</td>\n      <td>2159-01-07 10:00:00</td>\n      <td>False</td>\n      <td>99.0</td>\n      <td>111.0</td>\n      <td>67.0</td>\n      <td>77.0</td>\n    </tr>\n    <tr>\n      <th>365107</th>\n      <td>30004018</td>\n      <td>0 days 06:02:00</td>\n      <td>21720.0</td>\n      <td>2159-01-07 04:58:00</td>\n      <td>2159-01-07 11:00:00</td>\n      <td>False</td>\n      <td>102.0</td>\n      <td>114.0</td>\n      <td>78.0</td>\n      <td>87.0</td>\n    </tr>\n    <tr>\n      <th>365084</th>\n      <td>30004018</td>\n      <td>0 days 07:02:00</td>\n      <td>25320.0</td>\n      <td>2159-01-07 04:58:00</td>\n      <td>2159-01-07 12:00:00</td>\n      <td>False</td>\n      <td>115.0</td>\n      <td>170.0</td>\n      <td>107.0</td>\n      <td>117.0</td>\n    </tr>\n    <tr>\n      <th>365094</th>\n      <td>30004018</td>\n      <td>0 days 08:02:00</td>\n      <td>28920.0</td>\n      <td>2159-01-07 04:58:00</td>\n      <td>2159-01-07 13:00:00</td>\n      <td>False</td>\n      <td>119.0</td>\n      <td>152.0</td>\n      <td>89.0</td>\n      <td>100.0</td>\n    </tr>\n    <tr>\n      <th>365083</th>\n      <td>30004018</td>\n      <td>0 days 09:02:00</td>\n      <td>32520.0</td>\n      <td>2159-01-07 04:58:00</td>\n      <td>2159-01-07 14:00:00</td>\n      <td>False</td>\n      <td>125.0</td>\n      <td>127.0</td>\n      <td>100.0</td>\n      <td>106.0</td>\n    </tr>\n    <tr>\n      <th>365093</th>\n      <td>30004018</td>\n      <td>0 days 10:02:00</td>\n      <td>36120.0</td>\n      <td>2159-01-07 04:58:00</td>\n      <td>2159-01-07 15:00:00</td>\n      <td>False</td>\n      <td>129.0</td>\n      <td>118.0</td>\n      <td>74.0</td>\n      <td>80.0</td>\n    </tr>\n    <tr>\n      <th>365108</th>\n      <td>30004018</td>\n      <td>0 days 11:02:00</td>\n      <td>39720.0</td>\n      <td>2159-01-07 04:58:00</td>\n      <td>2159-01-07 16:00:00</td>\n      <td>False</td>\n      <td>131.0</td>\n      <td>137.0</td>\n      <td>83.0</td>\n      <td>95.0</td>\n    </tr>\n  </tbody>\n</table>\n</div>"
     },
     "execution_count": 8,
     "metadata": {},
     "output_type": "execute_result"
    }
   ],
   "source": [
    "df = df[[\"stay_id\", \"timestep\", \"timestep_float\", \"dose_b_time\", \"charttime\",\n",
    "         \"has_icd\"] + data_arrays].sort_values([\"stay_id\", \"dose_b_time\", \"timestep\"])\n",
    "df.head(50)"
   ],
   "metadata": {
    "collapsed": false,
    "ExecuteTime": {
     "end_time": "2023-10-31T06:32:27.229050300Z",
     "start_time": "2023-10-31T06:32:26.803130900Z"
    }
   },
   "id": "9425cee888566589"
  },
  {
   "cell_type": "markdown",
   "source": [
    "# Interpolate\n",
    "The data has missing values, use pandas built in interpolation to fill those based on the timestamp"
   ],
   "metadata": {
    "collapsed": false
   },
   "id": "2108b67729841627"
  },
  {
   "cell_type": "markdown",
   "source": [],
   "metadata": {
    "collapsed": false,
    "ExecuteTime": {
     "start_time": "2023-10-26T13:29:22.035511Z"
    }
   },
   "id": "a849a0e0ee1357b9"
  },
  {
   "cell_type": "code",
   "execution_count": 9,
   "outputs": [
    {
     "name": "stdout",
     "output_type": "stream",
     "text": [
      "stay_id                    int64\n",
      "timestep          timedelta64[s]\n",
      "timestep_float           float64\n",
      "dose_b_time        datetime64[s]\n",
      "charttime          datetime64[s]\n",
      "has_icd                     bool\n",
      "heart_rate               float64\n",
      "sbp                      float64\n",
      "dbp                      float64\n",
      "mbp                      float64\n",
      "dtype: object\n",
      "charttime          datetime64[s]\n",
      "stay_id                    int64\n",
      "timestep          timedelta64[s]\n",
      "timestep_float           float64\n",
      "dose_b_time        datetime64[s]\n",
      "has_icd                     bool\n",
      "heart_rate               float64\n",
      "sbp                      float64\n",
      "dbp                      float64\n",
      "mbp                      float64\n",
      "dtype: object\n",
      "stay_id                   int64\n",
      "dose_b_time       datetime64[s]\n",
      "timestep_float          float64\n",
      "has_icd                    bool\n",
      "heart_rate              float64\n",
      "sbp                     float64\n",
      "dbp                     float64\n",
      "mbp                     float64\n",
      "dtype: object\n",
      "(523630, 8)\n"
     ]
    },
    {
     "data": {
      "text/plain": "     stay_id         dose_b_time  timestep_float  has_icd  heart_rate     sbp  \\\n0   30004018 2158-12-30 06:15:00        -40500.0    False   97.000000  131.00   \n1   30004018 2158-12-30 06:15:00        -36900.0    False  100.000000  130.00   \n2   30004018 2158-12-30 06:15:00        -33300.0    False   96.000000  114.00   \n3   30004018 2158-12-30 06:15:00        -29700.0    False   94.000000  112.00   \n4   30004018 2158-12-30 06:15:00        -26100.0    False  102.000000  125.00   \n5   30004018 2158-12-30 06:15:00        -22500.0    False   96.000000  118.00   \n6   30004018 2158-12-30 06:15:00        -18900.0    False  100.000000  114.00   \n7   30004018 2158-12-30 06:15:00        -15300.0    False   94.000000  106.00   \n8   30004018 2158-12-30 06:15:00        -11700.0    False   91.000000   91.00   \n9   30004018 2158-12-30 06:15:00         -8100.0    False   91.000000  104.00   \n10  30004018 2158-12-30 06:15:00         -4500.0    False   92.000000  114.00   \n11  30004018 2158-12-30 06:15:00          -900.0    False   97.000000  113.00   \n12  30004018 2158-12-30 06:15:00          2700.0    False   95.000000  109.00   \n13  30004018 2158-12-30 06:15:00          6300.0    False  103.000000  140.00   \n14  30004018 2158-12-30 06:15:00          9900.0    False   99.000000  108.00   \n15  30004018 2158-12-30 06:15:00         13500.0    False  100.000000   56.00   \n16  30004018 2158-12-30 06:15:00         17100.0    False   99.000000  107.00   \n17  30004018 2158-12-30 06:15:00         20700.0    False  101.000000  114.00   \n18  30004018 2158-12-30 06:15:00         24300.0    False   98.000000   92.00   \n19  30004018 2158-12-30 06:15:00         27900.0    False   97.000000   78.00   \n20  30004018 2158-12-30 06:15:00         31500.0    False   94.000000  113.00   \n21  30004018 2158-12-30 06:15:00         35100.0    False   89.000000   98.00   \n22  30004018 2158-12-30 06:15:00         38700.0    False   95.000000  124.00   \n23  30004018 2158-12-30 06:15:00         42300.0    False  104.000000  118.00   \n24  30004018 2159-01-07 04:58:00        -43080.0    False   98.000000  117.00   \n25  30004018 2159-01-07 04:58:00        -39480.0    False   94.000000   99.00   \n26  30004018 2159-01-07 04:58:00        -35880.0    False   97.000000  104.00   \n27  30004018 2159-01-07 04:58:00        -32280.0    False  102.000000  117.00   \n28  30004018 2159-01-07 04:58:00        -28680.0    False  106.000000  148.00   \n29  30004018 2159-01-07 04:58:00        -25080.0    False  101.000000  144.00   \n30  30004018 2159-01-07 04:58:00        -21480.0    False  103.000000  114.00   \n31  30004018 2159-01-07 04:58:00        -17880.0    False   99.000000  104.40   \n32  30004018 2159-01-07 04:58:00        -16980.0    False   98.500000  102.00   \n33  30004018 2159-01-07 04:58:00        -14280.0    False   97.000000  100.00   \n34  30004018 2159-01-07 04:58:00        -10680.0    False   95.000000   99.00   \n35  30004018 2159-01-07 04:58:00         -7080.0    False   95.000000   99.00   \n36  30004018 2159-01-07 04:58:00         -3480.0    False   98.000000  111.00   \n37  30004018 2159-01-07 04:58:00           120.0    False   95.000000   90.00   \n38  30004018 2159-01-07 04:58:00          3720.0    False  108.000000  123.00   \n39  30004018 2159-01-07 04:58:00          7320.0    False  101.000000  122.00   \n40  30004018 2159-01-07 04:58:00         10920.0    False   98.000000  111.00   \n41  30004018 2159-01-07 04:58:00         14700.0    False  113.000000  139.56   \n42  30004018 2159-01-07 04:58:00         15420.0    False  110.052632  145.00   \n43  30004018 2159-01-07 04:58:00         18120.0    False   99.000000  111.00   \n44  30004018 2159-01-07 04:58:00         21720.0    False  102.000000  114.00   \n45  30004018 2159-01-07 04:58:00         25320.0    False  115.000000  170.00   \n46  30004018 2159-01-07 04:58:00         28920.0    False  119.000000  152.00   \n47  30004018 2159-01-07 04:58:00         32520.0    False  125.000000  127.00   \n48  30004018 2159-01-07 04:58:00         36120.0    False  129.000000  118.00   \n49  30004018 2159-01-07 04:58:00         39720.0    False  131.000000  137.00   \n\n      dbp     mbp  \n0    60.0   78.00  \n1    62.0   76.00  \n2    53.0   68.00  \n3    45.0   62.00  \n4    65.0   78.00  \n5    56.0   70.00  \n6    65.0   74.00  \n7    61.0   73.00  \n8    53.0   61.00  \n9    60.0   72.00  \n10   66.0   76.00  \n11   64.0   74.00  \n12   58.0   69.00  \n13   83.0   96.00  \n14   46.0   61.00  \n15   21.0   28.00  \n16   53.0   66.00  \n17   57.0   70.00  \n18   48.0   58.00  \n19   38.0   47.00  \n20   49.0   64.00  \n21   46.0   57.00  \n22   73.0   84.00  \n23   60.0   74.00  \n24   70.0   80.00  \n25   53.0   63.00  \n26   57.0   67.00  \n27   72.0   81.00  \n28   88.0  101.00  \n29   80.0   93.00  \n30   53.0   68.00  \n31   53.8   66.40  \n32   54.0   66.00  \n33   55.0   65.00  \n34   59.0   67.00  \n35   55.0   65.00  \n36   54.0   68.00  \n37   54.0   62.00  \n38   69.0   80.00  \n39   68.0   80.00  \n40   64.0   75.00  \n41   76.6   90.12  \n42   79.0   93.00  \n43   67.0   77.00  \n44   78.0   87.00  \n45  107.0  117.00  \n46   89.0  100.00  \n47  100.0  106.00  \n48   74.0   80.00  \n49   83.0   95.00  ",
      "text/html": "<div>\n<style scoped>\n    .dataframe tbody tr th:only-of-type {\n        vertical-align: middle;\n    }\n\n    .dataframe tbody tr th {\n        vertical-align: top;\n    }\n\n    .dataframe thead th {\n        text-align: right;\n    }\n</style>\n<table border=\"1\" class=\"dataframe\">\n  <thead>\n    <tr style=\"text-align: right;\">\n      <th></th>\n      <th>stay_id</th>\n      <th>dose_b_time</th>\n      <th>timestep_float</th>\n      <th>has_icd</th>\n      <th>heart_rate</th>\n      <th>sbp</th>\n      <th>dbp</th>\n      <th>mbp</th>\n    </tr>\n  </thead>\n  <tbody>\n    <tr>\n      <th>0</th>\n      <td>30004018</td>\n      <td>2158-12-30 06:15:00</td>\n      <td>-40500.0</td>\n      <td>False</td>\n      <td>97.000000</td>\n      <td>131.00</td>\n      <td>60.0</td>\n      <td>78.00</td>\n    </tr>\n    <tr>\n      <th>1</th>\n      <td>30004018</td>\n      <td>2158-12-30 06:15:00</td>\n      <td>-36900.0</td>\n      <td>False</td>\n      <td>100.000000</td>\n      <td>130.00</td>\n      <td>62.0</td>\n      <td>76.00</td>\n    </tr>\n    <tr>\n      <th>2</th>\n      <td>30004018</td>\n      <td>2158-12-30 06:15:00</td>\n      <td>-33300.0</td>\n      <td>False</td>\n      <td>96.000000</td>\n      <td>114.00</td>\n      <td>53.0</td>\n      <td>68.00</td>\n    </tr>\n    <tr>\n      <th>3</th>\n      <td>30004018</td>\n      <td>2158-12-30 06:15:00</td>\n      <td>-29700.0</td>\n      <td>False</td>\n      <td>94.000000</td>\n      <td>112.00</td>\n      <td>45.0</td>\n      <td>62.00</td>\n    </tr>\n    <tr>\n      <th>4</th>\n      <td>30004018</td>\n      <td>2158-12-30 06:15:00</td>\n      <td>-26100.0</td>\n      <td>False</td>\n      <td>102.000000</td>\n      <td>125.00</td>\n      <td>65.0</td>\n      <td>78.00</td>\n    </tr>\n    <tr>\n      <th>5</th>\n      <td>30004018</td>\n      <td>2158-12-30 06:15:00</td>\n      <td>-22500.0</td>\n      <td>False</td>\n      <td>96.000000</td>\n      <td>118.00</td>\n      <td>56.0</td>\n      <td>70.00</td>\n    </tr>\n    <tr>\n      <th>6</th>\n      <td>30004018</td>\n      <td>2158-12-30 06:15:00</td>\n      <td>-18900.0</td>\n      <td>False</td>\n      <td>100.000000</td>\n      <td>114.00</td>\n      <td>65.0</td>\n      <td>74.00</td>\n    </tr>\n    <tr>\n      <th>7</th>\n      <td>30004018</td>\n      <td>2158-12-30 06:15:00</td>\n      <td>-15300.0</td>\n      <td>False</td>\n      <td>94.000000</td>\n      <td>106.00</td>\n      <td>61.0</td>\n      <td>73.00</td>\n    </tr>\n    <tr>\n      <th>8</th>\n      <td>30004018</td>\n      <td>2158-12-30 06:15:00</td>\n      <td>-11700.0</td>\n      <td>False</td>\n      <td>91.000000</td>\n      <td>91.00</td>\n      <td>53.0</td>\n      <td>61.00</td>\n    </tr>\n    <tr>\n      <th>9</th>\n      <td>30004018</td>\n      <td>2158-12-30 06:15:00</td>\n      <td>-8100.0</td>\n      <td>False</td>\n      <td>91.000000</td>\n      <td>104.00</td>\n      <td>60.0</td>\n      <td>72.00</td>\n    </tr>\n    <tr>\n      <th>10</th>\n      <td>30004018</td>\n      <td>2158-12-30 06:15:00</td>\n      <td>-4500.0</td>\n      <td>False</td>\n      <td>92.000000</td>\n      <td>114.00</td>\n      <td>66.0</td>\n      <td>76.00</td>\n    </tr>\n    <tr>\n      <th>11</th>\n      <td>30004018</td>\n      <td>2158-12-30 06:15:00</td>\n      <td>-900.0</td>\n      <td>False</td>\n      <td>97.000000</td>\n      <td>113.00</td>\n      <td>64.0</td>\n      <td>74.00</td>\n    </tr>\n    <tr>\n      <th>12</th>\n      <td>30004018</td>\n      <td>2158-12-30 06:15:00</td>\n      <td>2700.0</td>\n      <td>False</td>\n      <td>95.000000</td>\n      <td>109.00</td>\n      <td>58.0</td>\n      <td>69.00</td>\n    </tr>\n    <tr>\n      <th>13</th>\n      <td>30004018</td>\n      <td>2158-12-30 06:15:00</td>\n      <td>6300.0</td>\n      <td>False</td>\n      <td>103.000000</td>\n      <td>140.00</td>\n      <td>83.0</td>\n      <td>96.00</td>\n    </tr>\n    <tr>\n      <th>14</th>\n      <td>30004018</td>\n      <td>2158-12-30 06:15:00</td>\n      <td>9900.0</td>\n      <td>False</td>\n      <td>99.000000</td>\n      <td>108.00</td>\n      <td>46.0</td>\n      <td>61.00</td>\n    </tr>\n    <tr>\n      <th>15</th>\n      <td>30004018</td>\n      <td>2158-12-30 06:15:00</td>\n      <td>13500.0</td>\n      <td>False</td>\n      <td>100.000000</td>\n      <td>56.00</td>\n      <td>21.0</td>\n      <td>28.00</td>\n    </tr>\n    <tr>\n      <th>16</th>\n      <td>30004018</td>\n      <td>2158-12-30 06:15:00</td>\n      <td>17100.0</td>\n      <td>False</td>\n      <td>99.000000</td>\n      <td>107.00</td>\n      <td>53.0</td>\n      <td>66.00</td>\n    </tr>\n    <tr>\n      <th>17</th>\n      <td>30004018</td>\n      <td>2158-12-30 06:15:00</td>\n      <td>20700.0</td>\n      <td>False</td>\n      <td>101.000000</td>\n      <td>114.00</td>\n      <td>57.0</td>\n      <td>70.00</td>\n    </tr>\n    <tr>\n      <th>18</th>\n      <td>30004018</td>\n      <td>2158-12-30 06:15:00</td>\n      <td>24300.0</td>\n      <td>False</td>\n      <td>98.000000</td>\n      <td>92.00</td>\n      <td>48.0</td>\n      <td>58.00</td>\n    </tr>\n    <tr>\n      <th>19</th>\n      <td>30004018</td>\n      <td>2158-12-30 06:15:00</td>\n      <td>27900.0</td>\n      <td>False</td>\n      <td>97.000000</td>\n      <td>78.00</td>\n      <td>38.0</td>\n      <td>47.00</td>\n    </tr>\n    <tr>\n      <th>20</th>\n      <td>30004018</td>\n      <td>2158-12-30 06:15:00</td>\n      <td>31500.0</td>\n      <td>False</td>\n      <td>94.000000</td>\n      <td>113.00</td>\n      <td>49.0</td>\n      <td>64.00</td>\n    </tr>\n    <tr>\n      <th>21</th>\n      <td>30004018</td>\n      <td>2158-12-30 06:15:00</td>\n      <td>35100.0</td>\n      <td>False</td>\n      <td>89.000000</td>\n      <td>98.00</td>\n      <td>46.0</td>\n      <td>57.00</td>\n    </tr>\n    <tr>\n      <th>22</th>\n      <td>30004018</td>\n      <td>2158-12-30 06:15:00</td>\n      <td>38700.0</td>\n      <td>False</td>\n      <td>95.000000</td>\n      <td>124.00</td>\n      <td>73.0</td>\n      <td>84.00</td>\n    </tr>\n    <tr>\n      <th>23</th>\n      <td>30004018</td>\n      <td>2158-12-30 06:15:00</td>\n      <td>42300.0</td>\n      <td>False</td>\n      <td>104.000000</td>\n      <td>118.00</td>\n      <td>60.0</td>\n      <td>74.00</td>\n    </tr>\n    <tr>\n      <th>24</th>\n      <td>30004018</td>\n      <td>2159-01-07 04:58:00</td>\n      <td>-43080.0</td>\n      <td>False</td>\n      <td>98.000000</td>\n      <td>117.00</td>\n      <td>70.0</td>\n      <td>80.00</td>\n    </tr>\n    <tr>\n      <th>25</th>\n      <td>30004018</td>\n      <td>2159-01-07 04:58:00</td>\n      <td>-39480.0</td>\n      <td>False</td>\n      <td>94.000000</td>\n      <td>99.00</td>\n      <td>53.0</td>\n      <td>63.00</td>\n    </tr>\n    <tr>\n      <th>26</th>\n      <td>30004018</td>\n      <td>2159-01-07 04:58:00</td>\n      <td>-35880.0</td>\n      <td>False</td>\n      <td>97.000000</td>\n      <td>104.00</td>\n      <td>57.0</td>\n      <td>67.00</td>\n    </tr>\n    <tr>\n      <th>27</th>\n      <td>30004018</td>\n      <td>2159-01-07 04:58:00</td>\n      <td>-32280.0</td>\n      <td>False</td>\n      <td>102.000000</td>\n      <td>117.00</td>\n      <td>72.0</td>\n      <td>81.00</td>\n    </tr>\n    <tr>\n      <th>28</th>\n      <td>30004018</td>\n      <td>2159-01-07 04:58:00</td>\n      <td>-28680.0</td>\n      <td>False</td>\n      <td>106.000000</td>\n      <td>148.00</td>\n      <td>88.0</td>\n      <td>101.00</td>\n    </tr>\n    <tr>\n      <th>29</th>\n      <td>30004018</td>\n      <td>2159-01-07 04:58:00</td>\n      <td>-25080.0</td>\n      <td>False</td>\n      <td>101.000000</td>\n      <td>144.00</td>\n      <td>80.0</td>\n      <td>93.00</td>\n    </tr>\n    <tr>\n      <th>30</th>\n      <td>30004018</td>\n      <td>2159-01-07 04:58:00</td>\n      <td>-21480.0</td>\n      <td>False</td>\n      <td>103.000000</td>\n      <td>114.00</td>\n      <td>53.0</td>\n      <td>68.00</td>\n    </tr>\n    <tr>\n      <th>31</th>\n      <td>30004018</td>\n      <td>2159-01-07 04:58:00</td>\n      <td>-17880.0</td>\n      <td>False</td>\n      <td>99.000000</td>\n      <td>104.40</td>\n      <td>53.8</td>\n      <td>66.40</td>\n    </tr>\n    <tr>\n      <th>32</th>\n      <td>30004018</td>\n      <td>2159-01-07 04:58:00</td>\n      <td>-16980.0</td>\n      <td>False</td>\n      <td>98.500000</td>\n      <td>102.00</td>\n      <td>54.0</td>\n      <td>66.00</td>\n    </tr>\n    <tr>\n      <th>33</th>\n      <td>30004018</td>\n      <td>2159-01-07 04:58:00</td>\n      <td>-14280.0</td>\n      <td>False</td>\n      <td>97.000000</td>\n      <td>100.00</td>\n      <td>55.0</td>\n      <td>65.00</td>\n    </tr>\n    <tr>\n      <th>34</th>\n      <td>30004018</td>\n      <td>2159-01-07 04:58:00</td>\n      <td>-10680.0</td>\n      <td>False</td>\n      <td>95.000000</td>\n      <td>99.00</td>\n      <td>59.0</td>\n      <td>67.00</td>\n    </tr>\n    <tr>\n      <th>35</th>\n      <td>30004018</td>\n      <td>2159-01-07 04:58:00</td>\n      <td>-7080.0</td>\n      <td>False</td>\n      <td>95.000000</td>\n      <td>99.00</td>\n      <td>55.0</td>\n      <td>65.00</td>\n    </tr>\n    <tr>\n      <th>36</th>\n      <td>30004018</td>\n      <td>2159-01-07 04:58:00</td>\n      <td>-3480.0</td>\n      <td>False</td>\n      <td>98.000000</td>\n      <td>111.00</td>\n      <td>54.0</td>\n      <td>68.00</td>\n    </tr>\n    <tr>\n      <th>37</th>\n      <td>30004018</td>\n      <td>2159-01-07 04:58:00</td>\n      <td>120.0</td>\n      <td>False</td>\n      <td>95.000000</td>\n      <td>90.00</td>\n      <td>54.0</td>\n      <td>62.00</td>\n    </tr>\n    <tr>\n      <th>38</th>\n      <td>30004018</td>\n      <td>2159-01-07 04:58:00</td>\n      <td>3720.0</td>\n      <td>False</td>\n      <td>108.000000</td>\n      <td>123.00</td>\n      <td>69.0</td>\n      <td>80.00</td>\n    </tr>\n    <tr>\n      <th>39</th>\n      <td>30004018</td>\n      <td>2159-01-07 04:58:00</td>\n      <td>7320.0</td>\n      <td>False</td>\n      <td>101.000000</td>\n      <td>122.00</td>\n      <td>68.0</td>\n      <td>80.00</td>\n    </tr>\n    <tr>\n      <th>40</th>\n      <td>30004018</td>\n      <td>2159-01-07 04:58:00</td>\n      <td>10920.0</td>\n      <td>False</td>\n      <td>98.000000</td>\n      <td>111.00</td>\n      <td>64.0</td>\n      <td>75.00</td>\n    </tr>\n    <tr>\n      <th>41</th>\n      <td>30004018</td>\n      <td>2159-01-07 04:58:00</td>\n      <td>14700.0</td>\n      <td>False</td>\n      <td>113.000000</td>\n      <td>139.56</td>\n      <td>76.6</td>\n      <td>90.12</td>\n    </tr>\n    <tr>\n      <th>42</th>\n      <td>30004018</td>\n      <td>2159-01-07 04:58:00</td>\n      <td>15420.0</td>\n      <td>False</td>\n      <td>110.052632</td>\n      <td>145.00</td>\n      <td>79.0</td>\n      <td>93.00</td>\n    </tr>\n    <tr>\n      <th>43</th>\n      <td>30004018</td>\n      <td>2159-01-07 04:58:00</td>\n      <td>18120.0</td>\n      <td>False</td>\n      <td>99.000000</td>\n      <td>111.00</td>\n      <td>67.0</td>\n      <td>77.00</td>\n    </tr>\n    <tr>\n      <th>44</th>\n      <td>30004018</td>\n      <td>2159-01-07 04:58:00</td>\n      <td>21720.0</td>\n      <td>False</td>\n      <td>102.000000</td>\n      <td>114.00</td>\n      <td>78.0</td>\n      <td>87.00</td>\n    </tr>\n    <tr>\n      <th>45</th>\n      <td>30004018</td>\n      <td>2159-01-07 04:58:00</td>\n      <td>25320.0</td>\n      <td>False</td>\n      <td>115.000000</td>\n      <td>170.00</td>\n      <td>107.0</td>\n      <td>117.00</td>\n    </tr>\n    <tr>\n      <th>46</th>\n      <td>30004018</td>\n      <td>2159-01-07 04:58:00</td>\n      <td>28920.0</td>\n      <td>False</td>\n      <td>119.000000</td>\n      <td>152.00</td>\n      <td>89.0</td>\n      <td>100.00</td>\n    </tr>\n    <tr>\n      <th>47</th>\n      <td>30004018</td>\n      <td>2159-01-07 04:58:00</td>\n      <td>32520.0</td>\n      <td>False</td>\n      <td>125.000000</td>\n      <td>127.00</td>\n      <td>100.0</td>\n      <td>106.00</td>\n    </tr>\n    <tr>\n      <th>48</th>\n      <td>30004018</td>\n      <td>2159-01-07 04:58:00</td>\n      <td>36120.0</td>\n      <td>False</td>\n      <td>129.000000</td>\n      <td>118.00</td>\n      <td>74.0</td>\n      <td>80.00</td>\n    </tr>\n    <tr>\n      <th>49</th>\n      <td>30004018</td>\n      <td>2159-01-07 04:58:00</td>\n      <td>39720.0</td>\n      <td>False</td>\n      <td>131.000000</td>\n      <td>137.00</td>\n      <td>83.0</td>\n      <td>95.00</td>\n    </tr>\n  </tbody>\n</table>\n</div>"
     },
     "execution_count": 9,
     "metadata": {},
     "output_type": "execute_result"
    }
   ],
   "source": [
    "import pandas as pd\n",
    "\n",
    "print(df.dtypes)\n",
    "# df = df.reset_index()\n",
    "df.set_index('charttime', inplace=True)\n",
    "\n",
    "def interpolate_group(group):\n",
    "    if group.name in data_arrays:\n",
    "        # Perform interpolation for the group\n",
    "        group = group.interpolate(method='time')\n",
    "\n",
    "    return group\n",
    "\n",
    "# Apply the interpolation function to each group\n",
    "df = df.apply(interpolate_group).reset_index()\n",
    "\n",
    "grouped_df = df[[\"stay_id\", \"dose_b_time\", \"timestep_float\",\"has_icd\"]+data_arrays]\n",
    "print(df.dtypes)\n",
    "print(grouped_df.dtypes)\n",
    "\n",
    "print(grouped_df.shape)\n",
    "grouped_df.head(50)"
   ],
   "metadata": {
    "collapsed": false,
    "ExecuteTime": {
     "end_time": "2023-10-31T06:32:27.550913200Z",
     "start_time": "2023-10-31T06:32:27.083413Z"
    }
   },
   "id": "973f50807e404908"
  },
  {
   "cell_type": "markdown",
   "source": [
    "# Remove outliers"
   ],
   "metadata": {
    "collapsed": false
   },
   "id": "2f573370ebcbbac0"
  },
  {
   "cell_type": "code",
   "execution_count": 10,
   "outputs": [
    {
     "name": "stdout",
     "output_type": "stream",
     "text": [
      "           val\n",
      "count  15260.0\n",
      "mean       2.0\n",
      "std        0.0\n",
      "min        2.0\n",
      "1%         2.0\n",
      "2.5%       2.0\n",
      "25%        2.0\n",
      "50%        2.0\n",
      "75%        2.0\n",
      "97.5%      2.0\n",
      "99%        2.0\n",
      "99.9%      2.0\n",
      "max        2.0\n",
      "stay_id                   int64\n",
      "dose_b_time       datetime64[s]\n",
      "timestep_float          float64\n",
      "has_icd                    bool\n",
      "heart_rate              float64\n",
      "sbp                     float64\n",
      "dbp                     float64\n",
      "mbp                     float64\n",
      "dtype: object\n",
      "['heart_rate', 'sbp', 'dbp', 'mbp', 'timestep_float']\n",
      "['heart_rate', 'sbp', 'dbp', 'mbp']\n",
      "2\n",
      "stay_id                   int64\n",
      "dose_b_time       datetime64[s]\n",
      "timestep_float          float64\n",
      "has_icd                    bool\n",
      "heart_rate              float64\n",
      "sbp                     float64\n",
      "dbp                     float64\n",
      "mbp                     float64\n",
      "dtype: object\n"
     ]
    },
    {
     "data": {
      "text/plain": "         stay_id         dose_b_time  timestep_float  has_icd  heart_rate  \\\n0       30004018 2158-12-30 06:15:00        -40500.0    False   97.000000   \n1       30004018 2158-12-30 06:15:00        -36900.0    False  100.000000   \n2       30004018 2158-12-30 06:15:00        -33300.0    False   96.000000   \n3       30004018 2158-12-30 06:15:00        -29700.0    False   94.000000   \n4       30004018 2158-12-30 06:15:00        -26100.0    False  102.000000   \n...          ...                 ...             ...      ...         ...   \n523625  39986786 2145-02-25 11:00:00         32460.0     True   99.966667   \n523626  39986786 2145-02-25 11:00:00         36000.0     True   98.000000   \n523627  39986786 2145-02-25 11:00:00         36060.0     True   97.933333   \n523628  39986786 2145-02-25 11:00:00         39600.0     True   94.000000   \n523629  39986786 2145-02-25 11:00:00         39660.0     True   94.009762   \n\n               sbp        dbp         mbp  \n0       131.000000  60.000000   78.000000  \n1       130.000000  62.000000   76.000000  \n2       114.000000  53.000000   68.000000  \n3       112.000000  45.000000   62.000000  \n4       125.000000  65.000000   78.000000  \n...            ...        ...         ...  \n523625  174.000000  76.000000  101.000000  \n523626  170.066667  66.166667   91.166667  \n523627  170.000000  66.000000   91.000000  \n523628  164.100000  68.950000   91.000000  \n523629  164.000000  69.000000   91.000000  \n\n[518821 rows x 8 columns]",
      "text/html": "<div>\n<style scoped>\n    .dataframe tbody tr th:only-of-type {\n        vertical-align: middle;\n    }\n\n    .dataframe tbody tr th {\n        vertical-align: top;\n    }\n\n    .dataframe thead th {\n        text-align: right;\n    }\n</style>\n<table border=\"1\" class=\"dataframe\">\n  <thead>\n    <tr style=\"text-align: right;\">\n      <th></th>\n      <th>stay_id</th>\n      <th>dose_b_time</th>\n      <th>timestep_float</th>\n      <th>has_icd</th>\n      <th>heart_rate</th>\n      <th>sbp</th>\n      <th>dbp</th>\n      <th>mbp</th>\n    </tr>\n  </thead>\n  <tbody>\n    <tr>\n      <th>0</th>\n      <td>30004018</td>\n      <td>2158-12-30 06:15:00</td>\n      <td>-40500.0</td>\n      <td>False</td>\n      <td>97.000000</td>\n      <td>131.000000</td>\n      <td>60.000000</td>\n      <td>78.000000</td>\n    </tr>\n    <tr>\n      <th>1</th>\n      <td>30004018</td>\n      <td>2158-12-30 06:15:00</td>\n      <td>-36900.0</td>\n      <td>False</td>\n      <td>100.000000</td>\n      <td>130.000000</td>\n      <td>62.000000</td>\n      <td>76.000000</td>\n    </tr>\n    <tr>\n      <th>2</th>\n      <td>30004018</td>\n      <td>2158-12-30 06:15:00</td>\n      <td>-33300.0</td>\n      <td>False</td>\n      <td>96.000000</td>\n      <td>114.000000</td>\n      <td>53.000000</td>\n      <td>68.000000</td>\n    </tr>\n    <tr>\n      <th>3</th>\n      <td>30004018</td>\n      <td>2158-12-30 06:15:00</td>\n      <td>-29700.0</td>\n      <td>False</td>\n      <td>94.000000</td>\n      <td>112.000000</td>\n      <td>45.000000</td>\n      <td>62.000000</td>\n    </tr>\n    <tr>\n      <th>4</th>\n      <td>30004018</td>\n      <td>2158-12-30 06:15:00</td>\n      <td>-26100.0</td>\n      <td>False</td>\n      <td>102.000000</td>\n      <td>125.000000</td>\n      <td>65.000000</td>\n      <td>78.000000</td>\n    </tr>\n    <tr>\n      <th>...</th>\n      <td>...</td>\n      <td>...</td>\n      <td>...</td>\n      <td>...</td>\n      <td>...</td>\n      <td>...</td>\n      <td>...</td>\n      <td>...</td>\n    </tr>\n    <tr>\n      <th>523625</th>\n      <td>39986786</td>\n      <td>2145-02-25 11:00:00</td>\n      <td>32460.0</td>\n      <td>True</td>\n      <td>99.966667</td>\n      <td>174.000000</td>\n      <td>76.000000</td>\n      <td>101.000000</td>\n    </tr>\n    <tr>\n      <th>523626</th>\n      <td>39986786</td>\n      <td>2145-02-25 11:00:00</td>\n      <td>36000.0</td>\n      <td>True</td>\n      <td>98.000000</td>\n      <td>170.066667</td>\n      <td>66.166667</td>\n      <td>91.166667</td>\n    </tr>\n    <tr>\n      <th>523627</th>\n      <td>39986786</td>\n      <td>2145-02-25 11:00:00</td>\n      <td>36060.0</td>\n      <td>True</td>\n      <td>97.933333</td>\n      <td>170.000000</td>\n      <td>66.000000</td>\n      <td>91.000000</td>\n    </tr>\n    <tr>\n      <th>523628</th>\n      <td>39986786</td>\n      <td>2145-02-25 11:00:00</td>\n      <td>39600.0</td>\n      <td>True</td>\n      <td>94.000000</td>\n      <td>164.100000</td>\n      <td>68.950000</td>\n      <td>91.000000</td>\n    </tr>\n    <tr>\n      <th>523629</th>\n      <td>39986786</td>\n      <td>2145-02-25 11:00:00</td>\n      <td>39660.0</td>\n      <td>True</td>\n      <td>94.009762</td>\n      <td>164.000000</td>\n      <td>69.000000</td>\n      <td>91.000000</td>\n    </tr>\n  </tbody>\n</table>\n<p>518821 rows × 8 columns</p>\n</div>"
     },
     "execution_count": 10,
     "metadata": {},
     "output_type": "execute_result"
    }
   ],
   "source": [
    "# reduce the size of the data arrays to the p999 to get rid of the extreme outliers\n",
    "length = pd.DataFrame()\n",
    "length[\"val\"] = [len(array) for array in grouped_df.groupby([\"stay_id\", \"dose_b_time\"])[\"mbp\"]]\n",
    "print(length.describe(percentiles=[0.01, 0.025, 0.25, 0.5, 0.75, 0.975, 0.99, 0.999]))\n",
    "print(grouped_df.dtypes)\n",
    "max_size = 90  # p999\n",
    "\n",
    "data_array_with_time = data_arrays.copy()\n",
    "data_array_with_time.append(\"timestep_float\")\n",
    "print(data_array_with_time)\n",
    "print(data_arrays)\n",
    "\n",
    "grouped_df = grouped_df.groupby([\"stay_id\", \"dose_b_time\"]).head(max_size)\n",
    "\n",
    "max_sequence_length = max(len(array) for array in grouped_df.groupby([\"stay_id\", \"dose_b_time\"])[\"sbp\"])\n",
    "print(max_sequence_length)\n",
    "print(grouped_df.dtypes)\n",
    "grouped_df"
   ],
   "metadata": {
    "collapsed": false,
    "ExecuteTime": {
     "end_time": "2023-10-31T06:32:29.199445600Z",
     "start_time": "2023-10-31T06:32:27.476820100Z"
    }
   },
   "id": "7577b32922b217c7"
  },
  {
   "cell_type": "markdown",
   "source": [
    "# Unify timesteps\n",
    "The time measurement data varies per dosage, this step aligns all the time steps to 10 minute intervals, and interpolates between our \n",
    "existing time measures to produce 12 hours of 10 minute timestaps "
   ],
   "metadata": {
    "collapsed": false
   },
   "id": "7d458e55c120a81b"
  },
  {
   "cell_type": "code",
   "execution_count": 11,
   "outputs": [
    {
     "name": "stdout",
     "output_type": "stream",
     "text": [
      "                                          intr-heart_rate  intr-sbp  intr-dbp  \\\n",
      "stay_id  has_icd dose_b_time                                                    \n",
      "30004018 False   2158-12-30 06:15:00 0               95.0  109.0000  58.00000   \n",
      "                                     1               95.0  109.0000  58.00000   \n",
      "                                     2               95.0  109.0000  58.00000   \n",
      "                                     3               95.0  109.0000  58.00000   \n",
      "                                     4               95.0  109.0000  58.00000   \n",
      "...                                                   ...       ...       ...   \n",
      "39986786 True    2145-02-25 11:00:00 139            119.0  148.9375  46.15625   \n",
      "                                     140            119.0  148.9375  46.15625   \n",
      "                                     141            119.0  148.9375  46.15625   \n",
      "                                     142            119.0  148.9375  46.15625   \n",
      "                                     143            119.0  148.9375  46.15625   \n",
      "\n",
      "                                          intr-mbp  common_timestep  \n",
      "stay_id  has_icd dose_b_time                                         \n",
      "30004018 False   2158-12-30 06:15:00 0    69.00000             -720  \n",
      "                                     1    69.00000             -710  \n",
      "                                     2    69.00000             -700  \n",
      "                                     3    69.00000             -690  \n",
      "                                     4    69.00000             -680  \n",
      "...                                            ...              ...  \n",
      "39986786 True    2145-02-25 11:00:00 139  74.84375              670  \n",
      "                                     140  74.84375              680  \n",
      "                                     141  74.84375              690  \n",
      "                                     142  74.84375              700  \n",
      "                                     143  74.84375              710  \n",
      "\n",
      "[2197440 rows x 5 columns]\n",
      "stay_id                   int64\n",
      "dose_b_time       datetime64[s]\n",
      "timestep_float          float64\n",
      "has_icd                    bool\n",
      "heart_rate              float64\n",
      "sbp                     float64\n",
      "dbp                     float64\n",
      "mbp                     float64\n",
      "dtype: object\n"
     ]
    },
    {
     "data": {
      "text/plain": "                                         intr-heart_rate  intr-sbp  intr-dbp  \\\nstay_id  has_icd dose_b_time                                                   \n30004018 False   2158-12-30 06:15:00 0              95.0     109.0      58.0   \n                                     1              95.0     109.0      58.0   \n                                     2              95.0     109.0      58.0   \n                                     3              95.0     109.0      58.0   \n                                     4              95.0     109.0      58.0   \n...                                                  ...       ...       ...   \n30004144 True    2126-04-07 11:46:00 63             75.0     149.0      56.0   \n                                     64             75.0     149.0      56.0   \n                                     65             75.0     149.0      56.0   \n                                     66             75.0     149.0      56.0   \n                                     67             75.0     149.0      56.0   \n\n                                         intr-mbp  common_timestep  \nstay_id  has_icd dose_b_time                                        \n30004018 False   2158-12-30 06:15:00 0       69.0             -720  \n                                     1       69.0             -710  \n                                     2       69.0             -700  \n                                     3       69.0             -690  \n                                     4       69.0             -680  \n...                                           ...              ...  \n30004144 True    2126-04-07 11:46:00 63      85.0              -90  \n                                     64      85.0              -80  \n                                     65      85.0              -70  \n                                     66      85.0              -60  \n                                     67      85.0              -50  \n\n[500 rows x 5 columns]",
      "text/html": "<div>\n<style scoped>\n    .dataframe tbody tr th:only-of-type {\n        vertical-align: middle;\n    }\n\n    .dataframe tbody tr th {\n        vertical-align: top;\n    }\n\n    .dataframe thead th {\n        text-align: right;\n    }\n</style>\n<table border=\"1\" class=\"dataframe\">\n  <thead>\n    <tr style=\"text-align: right;\">\n      <th></th>\n      <th></th>\n      <th></th>\n      <th></th>\n      <th>intr-heart_rate</th>\n      <th>intr-sbp</th>\n      <th>intr-dbp</th>\n      <th>intr-mbp</th>\n      <th>common_timestep</th>\n    </tr>\n    <tr>\n      <th>stay_id</th>\n      <th>has_icd</th>\n      <th>dose_b_time</th>\n      <th></th>\n      <th></th>\n      <th></th>\n      <th></th>\n      <th></th>\n      <th></th>\n    </tr>\n  </thead>\n  <tbody>\n    <tr>\n      <th rowspan=\"5\" valign=\"top\">30004018</th>\n      <th rowspan=\"5\" valign=\"top\">False</th>\n      <th rowspan=\"5\" valign=\"top\">2158-12-30 06:15:00</th>\n      <th>0</th>\n      <td>95.0</td>\n      <td>109.0</td>\n      <td>58.0</td>\n      <td>69.0</td>\n      <td>-720</td>\n    </tr>\n    <tr>\n      <th>1</th>\n      <td>95.0</td>\n      <td>109.0</td>\n      <td>58.0</td>\n      <td>69.0</td>\n      <td>-710</td>\n    </tr>\n    <tr>\n      <th>2</th>\n      <td>95.0</td>\n      <td>109.0</td>\n      <td>58.0</td>\n      <td>69.0</td>\n      <td>-700</td>\n    </tr>\n    <tr>\n      <th>3</th>\n      <td>95.0</td>\n      <td>109.0</td>\n      <td>58.0</td>\n      <td>69.0</td>\n      <td>-690</td>\n    </tr>\n    <tr>\n      <th>4</th>\n      <td>95.0</td>\n      <td>109.0</td>\n      <td>58.0</td>\n      <td>69.0</td>\n      <td>-680</td>\n    </tr>\n    <tr>\n      <th>...</th>\n      <th>...</th>\n      <th>...</th>\n      <th>...</th>\n      <td>...</td>\n      <td>...</td>\n      <td>...</td>\n      <td>...</td>\n      <td>...</td>\n    </tr>\n    <tr>\n      <th rowspan=\"5\" valign=\"top\">30004144</th>\n      <th rowspan=\"5\" valign=\"top\">True</th>\n      <th rowspan=\"5\" valign=\"top\">2126-04-07 11:46:00</th>\n      <th>63</th>\n      <td>75.0</td>\n      <td>149.0</td>\n      <td>56.0</td>\n      <td>85.0</td>\n      <td>-90</td>\n    </tr>\n    <tr>\n      <th>64</th>\n      <td>75.0</td>\n      <td>149.0</td>\n      <td>56.0</td>\n      <td>85.0</td>\n      <td>-80</td>\n    </tr>\n    <tr>\n      <th>65</th>\n      <td>75.0</td>\n      <td>149.0</td>\n      <td>56.0</td>\n      <td>85.0</td>\n      <td>-70</td>\n    </tr>\n    <tr>\n      <th>66</th>\n      <td>75.0</td>\n      <td>149.0</td>\n      <td>56.0</td>\n      <td>85.0</td>\n      <td>-60</td>\n    </tr>\n    <tr>\n      <th>67</th>\n      <td>75.0</td>\n      <td>149.0</td>\n      <td>56.0</td>\n      <td>85.0</td>\n      <td>-50</td>\n    </tr>\n  </tbody>\n</table>\n<p>500 rows × 5 columns</p>\n</div>"
     },
     "execution_count": 11,
     "metadata": {},
     "output_type": "execute_result"
    }
   ],
   "source": [
    "# first fill blank values through interpellation\n",
    "from scipy.interpolate import interp1d\n",
    "\n",
    "HOURS = 12\n",
    "MIN_INCREMENTS = 10\n",
    "\n",
    "def interpolate_row(row):\n",
    "    vals = pd.DataFrame()\n",
    "    time_steps = np.array(row[\"timestep_float\"])\n",
    "    common_time_interval = range(HOURS * -60, HOURS * 60, MIN_INCREMENTS)\n",
    "\n",
    "    for data_array in data_arrays:\n",
    "        interp_func = interp1d(time_steps, row[data_array], kind='next', fill_value='extrapolate')\n",
    "        vals[\"intr-\" + data_array] = interp_func(common_time_interval)\n",
    "\n",
    "    vals[\"common_timestep\"] = common_time_interval\n",
    "    return vals\n",
    "\n",
    "\n",
    "# Apply the function to the specific subset of rows\n",
    "interpolated_df = grouped_df.groupby(['stay_id', 'has_icd', 'dose_b_time']).apply(interpolate_row)\n",
    "print(interpolated_df)\n",
    "print(grouped_df.dtypes)\n",
    "interpolated_df.head(500)"
   ],
   "metadata": {
    "collapsed": false,
    "ExecuteTime": {
     "end_time": "2023-10-31T06:33:06.933404100Z",
     "start_time": "2023-10-31T06:32:29.192453300Z"
    }
   },
   "id": "5bf9396b30fdfa6e"
  },
  {
   "cell_type": "markdown",
   "source": [
    "# Normalise and scale data"
   ],
   "metadata": {
    "collapsed": false
   },
   "id": "26913a26a7502d87"
  },
  {
   "cell_type": "code",
   "execution_count": 12,
   "outputs": [
    {
     "name": "stdout",
     "output_type": "stream",
     "text": [
      "['intr-heart_rate', 'intr-sbp', 'intr-dbp', 'intr-mbp']\n",
      "                                         intr-heart_rate  intr-sbp  intr-dbp  \\\n",
      "stay_id  has_icd dose_b_time                                                   \n",
      "30004018 False   2158-12-30 06:15:00 0          0.286104 -0.190433 -0.115942   \n",
      "                                     1          0.286104 -0.190433 -0.115942   \n",
      "                                     2          0.286104 -0.190433 -0.115942   \n",
      "                                     3          0.286104 -0.190433 -0.115942   \n",
      "                                     4          0.286104 -0.190433 -0.115942   \n",
      "                                     5          0.286104 -0.190433 -0.115942   \n",
      "                                     6          0.286104 -0.190433 -0.115942   \n",
      "                                     7          0.286104 -0.190433 -0.115942   \n",
      "                                     8          0.286104 -0.190433 -0.115942   \n",
      "                                     9          0.286104 -0.190433 -0.115942   \n",
      "                                     10         0.286104 -0.190433 -0.115942   \n",
      "                                     11         0.286104 -0.190433 -0.115942   \n",
      "                                     12         0.286104 -0.190433 -0.115942   \n",
      "                                     13         0.286104 -0.190433 -0.115942   \n",
      "                                     14         0.286104 -0.190433 -0.115942   \n",
      "                                     15         0.286104 -0.190433 -0.115942   \n",
      "                                     16         0.286104 -0.190433 -0.115942   \n",
      "                                     17         0.286104 -0.190433 -0.115942   \n",
      "                                     18         0.286104 -0.190433 -0.115942   \n",
      "                                     19         0.286104 -0.190433 -0.115942   \n",
      "                                     20         0.286104 -0.190433 -0.115942   \n",
      "                                     21         0.286104 -0.190433 -0.115942   \n",
      "                                     22         0.286104 -0.190433 -0.115942   \n",
      "                                     23         0.286104 -0.190433 -0.115942   \n",
      "                                     24         0.286104 -0.190433 -0.115942   \n",
      "                                     25         0.286104 -0.190433 -0.115942   \n",
      "                                     26         0.286104 -0.190433 -0.115942   \n",
      "                                     27         0.286104 -0.190433 -0.115942   \n",
      "                                     28         0.286104 -0.190433 -0.115942   \n",
      "                                     29         0.286104 -0.190433 -0.115942   \n",
      "                                     30         0.286104 -0.190433 -0.115942   \n",
      "                                     31         0.286104 -0.190433 -0.115942   \n",
      "                                     32         0.286104 -0.190433 -0.115942   \n",
      "                                     33         0.286104 -0.190433 -0.115942   \n",
      "                                     34         0.286104 -0.190433 -0.115942   \n",
      "                                     35         0.286104 -0.190433 -0.115942   \n",
      "                                     36         0.286104 -0.190433 -0.115942   \n",
      "                                     37         0.286104 -0.190433 -0.115942   \n",
      "                                     38         0.286104 -0.190433 -0.115942   \n",
      "                                     39         0.286104 -0.190433 -0.115942   \n",
      "                                     40         0.286104 -0.190433 -0.115942   \n",
      "                                     41         0.286104 -0.190433 -0.115942   \n",
      "                                     42         0.286104 -0.190433 -0.115942   \n",
      "                                     43         0.286104 -0.190433 -0.115942   \n",
      "                                     44         0.286104 -0.190433 -0.115942   \n",
      "                                     45         0.286104 -0.190433 -0.115942   \n",
      "                                     46         0.286104 -0.190433 -0.115942   \n",
      "                                     47         0.286104 -0.190433 -0.115942   \n",
      "                                     48         0.286104 -0.190433 -0.115942   \n",
      "                                     49         0.286104 -0.190433 -0.115942   \n",
      "\n",
      "                                         intr-mbp  common_timestep  \n",
      "stay_id  has_icd dose_b_time                                        \n",
      "30004018 False   2158-12-30 06:15:00 0  -0.316067             -720  \n",
      "                                     1  -0.316067             -710  \n",
      "                                     2  -0.316067             -700  \n",
      "                                     3  -0.316067             -690  \n",
      "                                     4  -0.316067             -680  \n",
      "                                     5  -0.316067             -670  \n",
      "                                     6  -0.316067             -660  \n",
      "                                     7  -0.316067             -650  \n",
      "                                     8  -0.316067             -640  \n",
      "                                     9  -0.316067             -630  \n",
      "                                     10 -0.316067             -620  \n",
      "                                     11 -0.316067             -610  \n",
      "                                     12 -0.316067             -600  \n",
      "                                     13 -0.316067             -590  \n",
      "                                     14 -0.316067             -580  \n",
      "                                     15 -0.316067             -570  \n",
      "                                     16 -0.316067             -560  \n",
      "                                     17 -0.316067             -550  \n",
      "                                     18 -0.316067             -540  \n",
      "                                     19 -0.316067             -530  \n",
      "                                     20 -0.316067             -520  \n",
      "                                     21 -0.316067             -510  \n",
      "                                     22 -0.316067             -500  \n",
      "                                     23 -0.316067             -490  \n",
      "                                     24 -0.316067             -480  \n",
      "                                     25 -0.316067             -470  \n",
      "                                     26 -0.316067             -460  \n",
      "                                     27 -0.316067             -450  \n",
      "                                     28 -0.316067             -440  \n",
      "                                     29 -0.316067             -430  \n",
      "                                     30 -0.316067             -420  \n",
      "                                     31 -0.316067             -410  \n",
      "                                     32 -0.316067             -400  \n",
      "                                     33 -0.316067             -390  \n",
      "                                     34 -0.316067             -380  \n",
      "                                     35 -0.316067             -370  \n",
      "                                     36 -0.316067             -360  \n",
      "                                     37 -0.316067             -350  \n",
      "                                     38 -0.316067             -340  \n",
      "                                     39 -0.316067             -330  \n",
      "                                     40 -0.316067             -320  \n",
      "                                     41 -0.316067             -310  \n",
      "                                     42 -0.316067             -300  \n",
      "                                     43 -0.316067             -290  \n",
      "                                     44 -0.316067             -280  \n",
      "                                     45 -0.316067             -270  \n",
      "                                     46 -0.316067             -260  \n",
      "                                     47 -0.316067             -250  \n",
      "                                     48 -0.316067             -240  \n",
      "                                     49 -0.316067             -230  \n"
     ]
    }
   ],
   "source": [
    "from sklearn.preprocessing import RobustScaler\n",
    "# \n",
    "features = []\n",
    "for data in data_arrays:\n",
    "    features.append('intr-'+data)\n",
    "\n",
    "print(features)\n",
    "# Initialize the RobustScaler\n",
    "scaler = RobustScaler()\n",
    "\n",
    "# Fit and transform the column\n",
    "\n",
    "for feature in features:\n",
    "    interpolated_df[feature] = scaler.fit_transform(interpolated_df[[feature]])\n",
    "\n",
    "print(interpolated_df.head(50))\n"
   ],
   "metadata": {
    "collapsed": false,
    "ExecuteTime": {
     "end_time": "2023-10-31T06:33:07.352627400Z",
     "start_time": "2023-10-31T06:33:06.933404100Z"
    }
   },
   "id": "87733823e74147e8"
  },
  {
   "cell_type": "code",
   "execution_count": 13,
   "outputs": [
    {
     "name": "stdout",
     "output_type": "stream",
     "text": [
      "1789\n",
      "3578\n",
      "0.5\n"
     ]
    },
    {
     "data": {
      "text/plain": "(2197440, 9)"
     },
     "execution_count": 13,
     "metadata": {},
     "output_type": "execute_result"
    }
   ],
   "source": [
    "interpolated_df = interpolated_df.reset_index()\n",
    "print(interpolated_df.groupby(['stay_id'])['has_icd'].agg(lambda x : all(x)).sum())\n",
    "has_icd = interpolated_df.groupby(['stay_id'])['has_icd'].agg(lambda x : all(x)).sum()\n",
    "print(len(interpolated_df['stay_id'].unique()))\n",
    "print (has_icd / len(interpolated_df['stay_id'].unique()))\n",
    "interpolated_df.shape"
   ],
   "metadata": {
    "collapsed": false,
    "ExecuteTime": {
     "end_time": "2023-10-31T06:33:08.603793500Z",
     "start_time": "2023-10-31T06:33:07.317718800Z"
    }
   },
   "id": "162e8aa935f5f712"
  },
  {
   "cell_type": "code",
   "execution_count": 14,
   "outputs": [
    {
     "data": {
      "text/plain": "     stay_id  has_icd         dose_b_time  level_3  intr-heart_rate  intr-sbp  \\\n0   30004018    False 2158-12-30 06:15:00        0         0.286104 -0.190433   \n1   30004018    False 2158-12-30 06:15:00        1         0.286104 -0.190433   \n2   30004018    False 2158-12-30 06:15:00        2         0.286104 -0.190433   \n3   30004018    False 2158-12-30 06:15:00        3         0.286104 -0.190433   \n4   30004018    False 2158-12-30 06:15:00        4         0.286104 -0.190433   \n..       ...      ...                 ...      ...              ...       ...   \n95  30004018    False 2158-12-30 06:15:00       95         0.286104 -0.190433   \n96  30004018    False 2158-12-30 06:15:00       96         0.286104 -0.190433   \n97  30004018    False 2158-12-30 06:15:00       97         0.286104 -0.190433   \n98  30004018    False 2158-12-30 06:15:00       98         0.286104 -0.190433   \n99  30004018    False 2158-12-30 06:15:00       99         0.286104 -0.190433   \n\n    intr-dbp  intr-mbp  common_timestep  \n0  -0.115942 -0.316067             -720  \n1  -0.115942 -0.316067             -710  \n2  -0.115942 -0.316067             -700  \n3  -0.115942 -0.316067             -690  \n4  -0.115942 -0.316067             -680  \n..       ...       ...              ...  \n95 -0.115942 -0.316067              230  \n96 -0.115942 -0.316067              240  \n97 -0.115942 -0.316067              250  \n98 -0.115942 -0.316067              260  \n99 -0.115942 -0.316067              270  \n\n[100 rows x 9 columns]",
      "text/html": "<div>\n<style scoped>\n    .dataframe tbody tr th:only-of-type {\n        vertical-align: middle;\n    }\n\n    .dataframe tbody tr th {\n        vertical-align: top;\n    }\n\n    .dataframe thead th {\n        text-align: right;\n    }\n</style>\n<table border=\"1\" class=\"dataframe\">\n  <thead>\n    <tr style=\"text-align: right;\">\n      <th></th>\n      <th>stay_id</th>\n      <th>has_icd</th>\n      <th>dose_b_time</th>\n      <th>level_3</th>\n      <th>intr-heart_rate</th>\n      <th>intr-sbp</th>\n      <th>intr-dbp</th>\n      <th>intr-mbp</th>\n      <th>common_timestep</th>\n    </tr>\n  </thead>\n  <tbody>\n    <tr>\n      <th>0</th>\n      <td>30004018</td>\n      <td>False</td>\n      <td>2158-12-30 06:15:00</td>\n      <td>0</td>\n      <td>0.286104</td>\n      <td>-0.190433</td>\n      <td>-0.115942</td>\n      <td>-0.316067</td>\n      <td>-720</td>\n    </tr>\n    <tr>\n      <th>1</th>\n      <td>30004018</td>\n      <td>False</td>\n      <td>2158-12-30 06:15:00</td>\n      <td>1</td>\n      <td>0.286104</td>\n      <td>-0.190433</td>\n      <td>-0.115942</td>\n      <td>-0.316067</td>\n      <td>-710</td>\n    </tr>\n    <tr>\n      <th>2</th>\n      <td>30004018</td>\n      <td>False</td>\n      <td>2158-12-30 06:15:00</td>\n      <td>2</td>\n      <td>0.286104</td>\n      <td>-0.190433</td>\n      <td>-0.115942</td>\n      <td>-0.316067</td>\n      <td>-700</td>\n    </tr>\n    <tr>\n      <th>3</th>\n      <td>30004018</td>\n      <td>False</td>\n      <td>2158-12-30 06:15:00</td>\n      <td>3</td>\n      <td>0.286104</td>\n      <td>-0.190433</td>\n      <td>-0.115942</td>\n      <td>-0.316067</td>\n      <td>-690</td>\n    </tr>\n    <tr>\n      <th>4</th>\n      <td>30004018</td>\n      <td>False</td>\n      <td>2158-12-30 06:15:00</td>\n      <td>4</td>\n      <td>0.286104</td>\n      <td>-0.190433</td>\n      <td>-0.115942</td>\n      <td>-0.316067</td>\n      <td>-680</td>\n    </tr>\n    <tr>\n      <th>...</th>\n      <td>...</td>\n      <td>...</td>\n      <td>...</td>\n      <td>...</td>\n      <td>...</td>\n      <td>...</td>\n      <td>...</td>\n      <td>...</td>\n      <td>...</td>\n    </tr>\n    <tr>\n      <th>95</th>\n      <td>30004018</td>\n      <td>False</td>\n      <td>2158-12-30 06:15:00</td>\n      <td>95</td>\n      <td>0.286104</td>\n      <td>-0.190433</td>\n      <td>-0.115942</td>\n      <td>-0.316067</td>\n      <td>230</td>\n    </tr>\n    <tr>\n      <th>96</th>\n      <td>30004018</td>\n      <td>False</td>\n      <td>2158-12-30 06:15:00</td>\n      <td>96</td>\n      <td>0.286104</td>\n      <td>-0.190433</td>\n      <td>-0.115942</td>\n      <td>-0.316067</td>\n      <td>240</td>\n    </tr>\n    <tr>\n      <th>97</th>\n      <td>30004018</td>\n      <td>False</td>\n      <td>2158-12-30 06:15:00</td>\n      <td>97</td>\n      <td>0.286104</td>\n      <td>-0.190433</td>\n      <td>-0.115942</td>\n      <td>-0.316067</td>\n      <td>250</td>\n    </tr>\n    <tr>\n      <th>98</th>\n      <td>30004018</td>\n      <td>False</td>\n      <td>2158-12-30 06:15:00</td>\n      <td>98</td>\n      <td>0.286104</td>\n      <td>-0.190433</td>\n      <td>-0.115942</td>\n      <td>-0.316067</td>\n      <td>260</td>\n    </tr>\n    <tr>\n      <th>99</th>\n      <td>30004018</td>\n      <td>False</td>\n      <td>2158-12-30 06:15:00</td>\n      <td>99</td>\n      <td>0.286104</td>\n      <td>-0.190433</td>\n      <td>-0.115942</td>\n      <td>-0.316067</td>\n      <td>270</td>\n    </tr>\n  </tbody>\n</table>\n<p>100 rows × 9 columns</p>\n</div>"
     },
     "execution_count": 14,
     "metadata": {},
     "output_type": "execute_result"
    }
   ],
   "source": [
    "interpolated_df.head(100)"
   ],
   "metadata": {
    "collapsed": false,
    "ExecuteTime": {
     "end_time": "2023-10-31T06:33:08.674601700Z",
     "start_time": "2023-10-31T06:33:08.603793500Z"
    }
   },
   "id": "2991c8f1f2b5fd9b"
  },
  {
   "cell_type": "markdown",
   "source": [
    "# Reshape the arrays to be a uniform 3D tensor\n",
    "Pads with extra zeros for dosages that do not have max_dosage measures"
   ],
   "metadata": {
    "collapsed": false
   },
   "id": "2b115ba2a4b575ed"
  },
  {
   "cell_type": "code",
   "execution_count": 27,
   "outputs": [
    {
     "name": "stdout",
     "output_type": "stream",
     "text": [
      "count    9803.0\n",
      "mean      144.0\n",
      "std         0.0\n",
      "min       144.0\n",
      "25%       144.0\n",
      "50%       144.0\n",
      "75%       144.0\n",
      "max       144.0\n",
      "Name: common_timestep, dtype: float64\n",
      "count    5457.0\n",
      "mean      144.0\n",
      "std         0.0\n",
      "min       144.0\n",
      "25%       144.0\n",
      "50%       144.0\n",
      "75%       144.0\n",
      "max       144.0\n",
      "Name: common_timestep, dtype: float64\n",
      "Max sequence length 144\n",
      "Max dosages 20\n",
      "Found array values with NaN 30007565 \n",
      "Found array values with NaN 30141941 \n",
      "Found array values with NaN 30215114 \n",
      "Found array values with NaN 30282193 \n",
      "Found array values with NaN 30421216 \n",
      "Found array values with NaN 30459604 \n",
      "Found array values with NaN 30482673 \n",
      "Found array values with NaN 30491307 \n",
      "Found array values with NaN 30497427 \n",
      "Found array values with NaN 30632193 \n",
      "Found array values with NaN 30689359 \n",
      "Found array values with NaN 30709267 \n",
      "Found array values with NaN 30823534 \n",
      "Found array values with NaN 30865290 \n",
      "Found array values with NaN 31035417 \n",
      "Found array values with NaN 31044655 \n",
      "Found array values with NaN 31150455 \n",
      "Found array values with NaN 31150455 \n",
      "Found array values with NaN 31218133 \n",
      "Found array values with NaN 31276057 \n",
      "Found array values with NaN 31277766 \n",
      "Found array values with NaN 31319568 \n",
      "Found array values with NaN 31319568 \n",
      "Found array values with NaN 31339001 \n",
      "Found array values with NaN 31518998 \n",
      "Found array values with NaN 31584871 \n",
      "Found array values with NaN 31634038 \n",
      "Found array values with NaN 31664383 \n",
      "Found array values with NaN 31675734 \n",
      "Found array values with NaN 31706336 \n",
      "Found array values with NaN 31762339 \n",
      "Found array values with NaN 31762339 \n",
      "Found array values with NaN 31762339 \n",
      "Found array values with NaN 31801765 \n",
      "Found array values with NaN 31854157 \n",
      "Found array values with NaN 31902332 \n",
      "Found array values with NaN 31984182 \n",
      "Found array values with NaN 32101481 \n",
      "Found array values with NaN 32101481 \n",
      "Found array values with NaN 32233246 \n",
      "Found array values with NaN 32240523 \n",
      "Found array values with NaN 32240523 \n",
      "Found array values with NaN 32339527 \n",
      "Found array values with NaN 32551273 \n",
      "Found array values with NaN 32660915 \n",
      "Found array values with NaN 32682586 \n",
      "Found array values with NaN 32833865 \n",
      "Found array values with NaN 33124357 \n",
      "Found array values with NaN 33182177 \n",
      "Found array values with NaN 33303998 \n",
      "Found array values with NaN 33426509 \n",
      "Found array values with NaN 33431764 \n",
      "Found array values with NaN 33452927 \n",
      "Found array values with NaN 33496373 \n",
      "Found array values with NaN 33538823 \n",
      "Found array values with NaN 33701183 \n",
      "Found array values with NaN 33703415 \n",
      "Found array values with NaN 33765664 \n",
      "Found array values with NaN 33765664 \n",
      "Found array values with NaN 33765664 \n",
      "Found array values with NaN 33765664 \n",
      "Found array values with NaN 33883845 \n",
      "Found array values with NaN 33995657 \n",
      "Found array values with NaN 34107418 \n",
      "Found array values with NaN 34135810 \n",
      "Found array values with NaN 34188978 \n",
      "Found array values with NaN 34253219 \n",
      "Found array values with NaN 34417953 \n",
      "Found array values with NaN 34478728 \n",
      "Found array values with NaN 34490411 \n",
      "Found array values with NaN 34602259 \n",
      "Found array values with NaN 34767193 \n",
      "Found array values with NaN 35168958 \n",
      "Found array values with NaN 35309425 \n",
      "Found array values with NaN 35432086 \n",
      "Found array values with NaN 35634570 \n",
      "Found array values with NaN 35707301 \n",
      "Found array values with NaN 36018186 \n",
      "Found array values with NaN 36051989 \n",
      "Found array values with NaN 36149963 \n",
      "Found array values with NaN 36275404 \n",
      "Found array values with NaN 36457788 \n",
      "Found array values with NaN 36622295 \n",
      "Found array values with NaN 36644426 \n",
      "Found array values with NaN 36672632 \n",
      "Found array values with NaN 36729000 \n",
      "Found array values with NaN 36998244 \n",
      "Found array values with NaN 37013349 \n",
      "Found array values with NaN 37024522 \n",
      "Found array values with NaN 37047554 \n",
      "Found array values with NaN 37068361 \n",
      "Found array values with NaN 37073578 \n",
      "Found array values with NaN 37304866 \n",
      "Found array values with NaN 37438065 \n",
      "Found array values with NaN 37514652 \n",
      "Found array values with NaN 37653861 \n",
      "Found array values with NaN 37764963 \n",
      "Found array values with NaN 37874625 \n",
      "Found array values with NaN 37900373 \n",
      "Found array values with NaN 37974899 \n",
      "Found array values with NaN 38011728 \n",
      "Found array values with NaN 38214806 \n",
      "Found array values with NaN 38322405 \n",
      "Found array values with NaN 38427713 \n",
      "Found array values with NaN 38466543 \n",
      "Found array values with NaN 38637564 \n",
      "Found array values with NaN 38730065 \n",
      "Found array values with NaN 38751725 \n",
      "Found array values with NaN 39205095 \n",
      "Found array values with NaN 39241249 \n",
      "Found array values with NaN 39251566 \n",
      "Found array values with NaN 39326166 \n",
      "Found array values with NaN 39547641 \n",
      "Found array values with NaN 39597497 \n",
      "Found array values with NaN 39612849 \n",
      "Found array values with NaN 39616887 \n",
      "Found array values with NaN 39745597 \n",
      "Found array values with NaN 39787977 \n",
      "Found array values with NaN 39909773 \n",
      "Original shape (3578, 20, 144, 4)\n",
      "Reshaped X (3578, 2880, 4)\n",
      "Shape of Y (3578,)\n",
      "Found 119 - [30007565, 30141941, 30215114, 30282193, 30421216, 30459604, 30482673, 30491307, 30497427, 30632193, 30689359, 30709267, 30823534, 30865290, 31035417, 31044655, 31150455, 31150455, 31218133, 31276057, 31277766, 31319568, 31319568, 31339001, 31518998, 31584871, 31634038, 31664383, 31675734, 31706336, 31762339, 31762339, 31762339, 31801765, 31854157, 31902332, 31984182, 32101481, 32101481, 32233246, 32240523, 32240523, 32339527, 32551273, 32660915, 32682586, 32833865, 33124357, 33182177, 33303998, 33426509, 33431764, 33452927, 33496373, 33538823, 33701183, 33703415, 33765664, 33765664, 33765664, 33765664, 33883845, 33995657, 34107418, 34135810, 34188978, 34253219, 34417953, 34478728, 34490411, 34602259, 34767193, 35168958, 35309425, 35432086, 35634570, 35707301, 36018186, 36051989, 36149963, 36275404, 36457788, 36622295, 36644426, 36672632, 36729000, 36998244, 37013349, 37024522, 37047554, 37068361, 37073578, 37304866, 37438065, 37514652, 37653861, 37764963, 37874625, 37900373, 37974899, 38011728, 38214806, 38322405, 38427713, 38466543, 38637564, 38730065, 38751725, 39205095, 39241249, 39251566, 39326166, 39547641, 39597497, 39612849, 39616887, 39745597, 39787977, 39909773]\n"
     ]
    }
   ],
   "source": [
    "from numpy import shape\n",
    "from keras_preprocessing.sequence import pad_sequences\n",
    "\n",
    "target = 'has_icd'\n",
    "\n",
    "# Extract features and timestep data\n",
    "\n",
    "interpolated_df = interpolated_df.reset_index()\n",
    "timesteps_with_icd = interpolated_df[interpolated_df[\"has_icd\"]].groupby([\"stay_id\", \"dose_b_time\"])['common_timestep'].count()\n",
    "timesteps_without_icd = interpolated_df[~interpolated_df[\"has_icd\"]].groupby([\"stay_id\", \"dose_b_time\"])['common_timestep'].count()\n",
    "print(timesteps_with_icd.describe())\n",
    "print(timesteps_without_icd.describe())\n",
    "\n",
    "timesteps = interpolated_df.groupby([\"stay_id\", \"dose_b_time\"])['common_timestep'].count()\n",
    "\n",
    "# Determine the maximum sequence length\n",
    "max_sequence_length = max(timesteps)\n",
    "print(f\"Max sequence length {max_sequence_length}\")\n",
    "\n",
    "max_dosages = min(df.groupby(\"stay_id\")[\"dose_b_time\"].nunique().max(), 20)\n",
    "print(f\"Max dosages {max_dosages}\")\n",
    "\n",
    "X_sequences = []\n",
    "y_sequences = []\n",
    "zeros = np.zeros((max_sequence_length, len(features))) # an array of timestep zeros * features for padding the tensor\n",
    "\n",
    "# Initialize an empty list to store arrays\n",
    "result = []\n",
    "\n",
    "# Collect any invalid stays\n",
    "invalid_stays = []\n",
    "\n",
    "# Organize data by stay_id\n",
    "stay_ids = interpolated_df['stay_id'].unique()\n",
    "for stay_id in stay_ids:\n",
    "    # Filter the DataFrame for the current key1\n",
    "    df_stays = interpolated_df[interpolated_df[\"stay_id\"] == stay_id]\n",
    "\n",
    "    # Create a list to store arrays for the current key1\n",
    "    stays_array = []\n",
    "\n",
    "    unique_doses = df_stays['dose_b_time'].unique()\n",
    "    # Iterate over unique values of key2 within the current key1\n",
    "    for idx, dose_b_time in enumerate(unique_doses):\n",
    "        if idx >= max_dosages:\n",
    "            break\n",
    "  \n",
    "            \n",
    "        # Filter the DataFrame for the current key2\n",
    "        df_dose = df_stays[df_stays[\"dose_b_time\"] == dose_b_time]\n",
    "    \n",
    "        # Extract the feature values\n",
    "        val_columns = df_dose[features].values\n",
    "        \n",
    "        # Append the extracted values as an array to the list if they are all valid\n",
    "        if ~np.any(np.isnan(val_columns)):\n",
    "            stays_array.append(val_columns)\n",
    "        else:\n",
    "            invalid_stays.append(stay_id) ## collect invalid stay ids if NaNs are found\n",
    "            print(f\"Found array values with NaN {stay_id} \")\n",
    "        \n",
    "        \n",
    "    # Pad out the second dimension with zeros, this ensures a uniform shape\n",
    "    while len(stays_array) < max_dosages:\n",
    "        stays_array.append(zeros)\n",
    "    \n",
    "        # Convert the list of arrays to a NumPy array for the current key1\n",
    "    stays_array = np.array(stays_array)\n",
    "    if ~(np.all(df_stays[target]) | ~np.any(df_stays[target])):\n",
    "        print(f\"Found inconsistent icd code {df_stays[target]}\")\n",
    "        \n",
    "    y_sequences.append(df_stays[target].unique()[0])\n",
    "    # Append the 3D array for the current key1 to the result list\n",
    "    result.append(stays_array)\n",
    "    \n",
    "\n",
    "# Convert the result list to a NumPy array\n",
    "X_sequences = np.array(result)\n",
    "y_sequences = np.array(y_sequences).astype(int)\n",
    "\n",
    "print(f\"Original shape {shape(X_sequences)}\")\n",
    "\n",
    "original_shape = X_sequences.shape\n",
    "X_sequences = X_sequences.reshape(original_shape[0], original_shape[1] * original_shape[2], original_shape[3])\n",
    "\n",
    "print(f\"Reshaped X {shape(X_sequences)}\")\n",
    "print(f\"Shape of Y {shape(y_sequences)}\")\n",
    "\n",
    "print(f\"Found {len(invalid_stays)} - {invalid_stays}\")"
   ],
   "metadata": {
    "collapsed": false,
    "ExecuteTime": {
     "end_time": "2023-10-31T06:42:21.904113900Z",
     "start_time": "2023-10-31T06:41:54.915450400Z"
    }
   },
   "id": "1a076c674ca138cc"
  },
  {
   "cell_type": "code",
   "execution_count": 46,
   "outputs": [
    {
     "name": "stdout",
     "output_type": "stream",
     "text": [
      "Cohort reduced from 3578 to 2000\n",
      "(2000, 2880, 4)\n",
      "(2000,)\n",
      "Ratio of positive to negative, should be 0.5 0.502\n"
     ]
    }
   ],
   "source": [
    "# Restrict the size of the data so speed things up, delete this for a full production run\n",
    "X = X_sequences #[:1500]\n",
    "y = y_sequences #[:1500]\n",
    "\n",
    "# Generate random indices for sampling\n",
    "## XXXXXXXXXXXXXXX This sample size reduces the cohort XXXXX\n",
    "sample_size = 2000\n",
    "random_indices = np.random.choice(len(X), size=sample_size, replace=False)\n",
    "\n",
    "# Use the random indices to select elements from both arrays\n",
    "X = X_sequences[random_indices]\n",
    "y = y_sequences[random_indices]\n",
    "\n",
    "print(f\"Cohort reduced from {len(X_sequences)} to {len(X)} by sampling\")\n",
    "print(shape(X))\n",
    "print(shape(y))\n",
    "print(f\"Ratio of positive to negative, should be 0.5 {np.sum(y) / len(y)}\")\n"
   ],
   "metadata": {
    "collapsed": false,
    "ExecuteTime": {
     "end_time": "2023-10-31T07:08:07.103483500Z",
     "start_time": "2023-10-31T07:08:07.027168800Z"
    }
   },
   "id": "96411bfc952ab4a5"
  },
  {
   "cell_type": "markdown",
   "source": [
    "# Split into test and train sets"
   ],
   "metadata": {
    "collapsed": false
   },
   "id": "1d58b882b1ccdfa7"
  },
  {
   "cell_type": "code",
   "execution_count": 47,
   "outputs": [
    {
     "name": "stdout",
     "output_type": "stream",
     "text": [
      "2000\n",
      "2000\n",
      "1800\n",
      "(1800, 2880, 4)\n",
      "(200, 2880, 4)\n",
      "(1800,)\n",
      "(200,)\n"
     ]
    }
   ],
   "source": [
    "print(len(X))\n",
    "print(len(y))\n",
    "\n",
    "#Adjust the size of the testing set: we'll use 10% of the entire data. \n",
    "X_train, X_test, y_train, y_test = train_test_split(X, y, test_size=0.1, random_state=2)\n",
    "\n",
    "#Check the number of columns (features):\n",
    "print(len(X_train))\n",
    "print(shape(X_train))\n",
    "print(shape(X_test))\n",
    "print(shape(y_train))\n",
    "print(shape(y_test))\n"
   ],
   "metadata": {
    "collapsed": false,
    "ExecuteTime": {
     "end_time": "2023-10-31T07:08:09.497104800Z",
     "start_time": "2023-10-31T07:08:09.431766Z"
    }
   },
   "id": "ba5b915cab2f0376"
  },
  {
   "cell_type": "markdown",
   "source": [
    "# The model\n",
    "LSTM model with 64 units, quite bare bones at the moment"
   ],
   "metadata": {
    "collapsed": false
   },
   "id": "16a6953bdae39e1f"
  },
  {
   "cell_type": "code",
   "execution_count": 48,
   "outputs": [],
   "source": [
    "from keras.layers import LSTM, Dense\n",
    "from keras.callbacks import EarlyStopping\n",
    "\n",
    "model = keras.Sequential()\n",
    "\n",
    "model.add(keras.layers.Masking(mask_value=0))\n",
    "# model.add(LSTM(32, dropout=0.2, return_sequences=True))\n",
    "model.add(LSTM(128, dropout=0.2))\n",
    "model.add(Dense(1, activation='sigmoid'))\n"
   ],
   "metadata": {
    "collapsed": false,
    "ExecuteTime": {
     "end_time": "2023-10-31T07:08:10.647470400Z",
     "start_time": "2023-10-31T07:08:10.620176500Z"
    }
   },
   "id": "4c1ca833717a939a"
  },
  {
   "cell_type": "code",
   "execution_count": 49,
   "outputs": [],
   "source": [
    "model.compile(loss='binary_crossentropy', optimizer='adam', metrics=['accuracy'])"
   ],
   "metadata": {
    "collapsed": false,
    "ExecuteTime": {
     "end_time": "2023-10-31T07:08:11.808055700Z",
     "start_time": "2023-10-31T07:08:11.781609Z"
    }
   },
   "id": "24fd5efbe0bd6613"
  },
  {
   "cell_type": "markdown",
   "source": [],
   "metadata": {
    "collapsed": false
   },
   "id": "7592b07dbe5cdf5c"
  },
  {
   "cell_type": "code",
   "execution_count": 50,
   "outputs": [
    {
     "name": "stdout",
     "output_type": "stream",
     "text": [
      "(1800, 2880, 4)\n",
      "Epoch 1/15\n",
      "18/18 [==============================] - 69s 3s/step - loss: 0.6911 - accuracy: 0.5317\n",
      "Epoch 2/15\n",
      "18/18 [==============================] - 60s 3s/step - loss: 0.6841 - accuracy: 0.5556\n",
      "Epoch 3/15\n",
      "18/18 [==============================] - 63s 4s/step - loss: 0.6838 - accuracy: 0.5606\n",
      "Epoch 4/15\n",
      "18/18 [==============================] - 63s 3s/step - loss: 0.6807 - accuracy: 0.5667\n",
      "Epoch 5/15\n",
      "18/18 [==============================] - 65s 4s/step - loss: 0.6825 - accuracy: 0.5656\n",
      "Epoch 6/15\n",
      "18/18 [==============================] - 61s 3s/step - loss: 0.6809 - accuracy: 0.5672\n",
      "Epoch 7/15\n",
      "18/18 [==============================] - 61s 3s/step - loss: 0.6786 - accuracy: 0.5789\n",
      "Epoch 8/15\n",
      "18/18 [==============================] - 61s 3s/step - loss: 0.6807 - accuracy: 0.5711\n",
      "Epoch 9/15\n",
      "18/18 [==============================] - 61s 3s/step - loss: 0.6800 - accuracy: 0.5683\n",
      "Epoch 10/15\n",
      "18/18 [==============================] - 61s 3s/step - loss: 0.6836 - accuracy: 0.5561\n",
      "Epoch 11/15\n",
      "18/18 [==============================] - 58s 3s/step - loss: 0.6809 - accuracy: 0.5633\n",
      "Epoch 12/15\n",
      "18/18 [==============================] - 58s 3s/step - loss: 0.6796 - accuracy: 0.5639\n",
      "Epoch 12: early stopping\n"
     ]
    }
   ],
   "source": [
    "EPOCHS = 15         # increase to at least 50\n",
    "BATCH_SIZE = 100     # increase to at least 100\n",
    "\n",
    "early_stopping = EarlyStopping(monitor='accuracy', patience=10, mode='auto', verbose = 1, min_delta=0.002 )\n",
    "\n",
    "# callbacks=[early_stopping],\n",
    "print(f\"Running with EPOCHS{EPOCHS} and BATCH_SIZE{BATCH_SIZE} and shape {shape(X_train)}\")\n",
    "\n",
    "classifier = model.fit(X_train, y_train, epochs=EPOCHS, batch_size=BATCH_SIZE, callbacks=[early_stopping],\n",
    "                       verbose=1)  #set verbose = 1 to see the fitting process"
   ],
   "metadata": {
    "collapsed": false,
    "ExecuteTime": {
     "end_time": "2023-10-31T07:20:34.348585600Z",
     "start_time": "2023-10-31T07:08:12.762975300Z"
    }
   },
   "id": "4263eb1674d3a26c"
  },
  {
   "cell_type": "markdown",
   "source": [
    "# Evaluate the training \n",
    "Plots of accuracy and loss for the training history"
   ],
   "metadata": {
    "collapsed": false
   },
   "id": "1c4b399c414fd2aa"
  },
  {
   "cell_type": "code",
   "execution_count": 51,
   "outputs": [
    {
     "data": {
      "text/plain": "<Figure size 640x480 with 1 Axes>",
      "image/png": "[encoded data removed]"
     },
     "metadata": {},
     "output_type": "display_data"
    },
    {
     "data": {
      "text/plain": "<Figure size 640x480 with 1 Axes>",
      "image/png": "[encoded data removed]"
     },
     "metadata": {},
     "output_type": "display_data"
    }
   ],
   "source": [
    "# Plot Accuracy over the epochs\n",
    "plt.plot(classifier.history['accuracy'])\n",
    "plt.ylabel('accuracy')\n",
    "plt.xlabel('epoch')\n",
    "plt.title('model accuracy')\n",
    "plt.legend(['train'], loc='upper left')\n",
    "plt.show()\n",
    "\n",
    "# Plot Loss over the epochs\n",
    "plt.plot(classifier.history['loss'])\n",
    "plt.ylabel('loss')\n",
    "plt.xlabel('epoch')\n",
    "plt.title('model loss')\n",
    "plt.legend(['train'], loc='upper left')\n",
    "plt.show()"
   ],
   "metadata": {
    "collapsed": false,
    "ExecuteTime": {
     "end_time": "2023-10-31T07:20:35.037425100Z",
     "start_time": "2023-10-31T07:20:34.353572500Z"
    }
   },
   "id": "fd261ac8e14dba93"
  },
  {
   "cell_type": "code",
   "execution_count": 52,
   "outputs": [
    {
     "name": "stdout",
     "output_type": "stream",
     "text": [
      "32/32 [==============================] - 29s 810ms/step - loss: 0.6696 - accuracy: 0.5940\n",
      "Accuracy: 59.40\n",
      "0.67 0.594\n"
     ]
    }
   ],
   "source": [
    "# evaluate the keras model\n",
    "loss, accuracy = model.evaluate(X_train[:1000], y_train[:1000])\n",
    "print('Accuracy: %.2f' % (accuracy*100))\n",
    "print(round(loss,3),round(accuracy,3))\n"
   ],
   "metadata": {
    "collapsed": false,
    "ExecuteTime": {
     "end_time": "2023-10-31T07:21:04.337848600Z",
     "start_time": "2023-10-31T07:20:35.040421700Z"
    }
   },
   "id": "88743f97d504f1ce"
  },
  {
   "cell_type": "code",
   "execution_count": 52,
   "outputs": [],
   "source": [],
   "metadata": {
    "collapsed": false,
    "ExecuteTime": {
     "end_time": "2023-10-31T07:21:04.355800500Z",
     "start_time": "2023-10-31T07:21:04.326878600Z"
    }
   },
   "id": "df54344b87d429f1"
  },
  {
   "cell_type": "code",
   "execution_count": 53,
   "outputs": [
    {
     "name": "stdout",
     "output_type": "stream",
     "text": [
      "0.67 0.594\n"
     ]
    }
   ],
   "source": [
    "print(round(loss,3),round(accuracy,3))"
   ],
   "metadata": {
    "collapsed": false,
    "ExecuteTime": {
     "end_time": "2023-10-31T07:21:04.384723100Z",
     "start_time": "2023-10-31T07:21:04.338846400Z"
    }
   },
   "id": "20ceebc152732763"
  },
  {
   "cell_type": "markdown",
   "source": [
    "# Test accuracy\n",
    "Run model predictions on the test data set and report metrics scores, including MCC and F1 "
   ],
   "metadata": {
    "collapsed": false
   },
   "id": "cf9fe5dd7c08859f"
  },
  {
   "cell_type": "code",
   "execution_count": 54,
   "outputs": [
    {
     "name": "stdout",
     "output_type": "stream",
     "text": [
      "7/7 [==============================] - 9s 944ms/step\n",
      "   Accuracy  Balanced Accuracy   MCC  F1-Score\n",
      "0     0.525              0.525  0.05     0.518\n"
     ]
    }
   ],
   "source": [
    "from sklearn import metrics\n",
    "\n",
    "# #Predict the testing set\n",
    "predictions = (model.predict(X_test) > 0.5).astype(int)\n",
    "\n",
    "#Accuracy classification score\n",
    "acc = float(round(metrics.accuracy_score(y_test, predictions),3))\n",
    "\n",
    "#Compute the balanced accuracy.\n",
    "bacc = float(round(metrics.balanced_accuracy_score(y_test, predictions),3))\n",
    "\n",
    "#Compute the Matthews correlation coefficient (MCC)\n",
    "mcc = float(round(metrics.matthews_corrcoef(y_test, predictions),3))\n",
    "\n",
    "#Compute the F1 score, also known as balanced F-score or F-measure.\n",
    "f1 = float(round(metrics.f1_score(y_test, predictions),3))\n",
    "\n",
    "#Show results as a DataFrame:\n",
    "results = {'Accuracy' : [acc], 'Balanced Accuracy' : [bacc], 'MCC' : [mcc], 'F1-Score' : [f1]}\n",
    "df_results = pd.DataFrame.from_dict(data = results, orient='columns')\n",
    "print(df_results)"
   ],
   "metadata": {
    "collapsed": false,
    "ExecuteTime": {
     "end_time": "2023-10-31T07:21:13.052495700Z",
     "start_time": "2023-10-31T07:21:04.360787Z"
    }
   },
   "id": "adc7ff17b9ec5650"
  },
  {
   "cell_type": "code",
   "execution_count": 24,
   "outputs": [],
   "source": [],
   "metadata": {
    "collapsed": false,
    "ExecuteTime": {
     "end_time": "2023-10-31T06:40:31.167445600Z",
     "start_time": "2023-10-31T06:40:31.152485700Z"
    }
   },
   "id": "7aac5e9987a8550f"
  }
 ],
 "metadata": {
  "kernelspec": {
   "display_name": "Python 3",
   "language": "python",
   "name": "python3"
  },
  "language_info": {
   "codemirror_mode": {
    "name": "ipython",
    "version": 2
   },
   "file_extension": ".py",
   "mimetype": "text/x-python",
   "name": "python",
   "nbconvert_exporter": "python",
   "pygments_lexer": "ipython2",
   "version": "2.7.6"
  }
 },
 "nbformat": 4,
 "nbformat_minor": 5
}
