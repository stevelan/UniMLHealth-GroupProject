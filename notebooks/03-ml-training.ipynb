{
 "cells": [
  {
   "cell_type": "code",
   "execution_count": null,
   "outputs": [],
   "source": [
    "from detectdd import config\n",
    "import numpy as np\n",
    "import tensorflow as tf\n",
    "from matplotlib import pyplot as plt\n",
    "from tensorflow import keras\n",
    "\n",
    "import root_config as rc\n",
    "import pandas as pd\n",
    "from detectdd.serializer import Serializer\n",
    "\n",
    "from sklearn.model_selection import train_test_split\n",
    "\n",
    "rc.configure()\n",
    "\n"
   ],
   "metadata": {
    "collapsed": false
   },
   "id": "73b44864dc58cc8c"
  },
  {
   "cell_type": "markdown",
   "source": [
    "### Pipeline selection\n",
    "The data array and the features in the csv need to match, so uncomment both of them out\n"
   ],
   "metadata": {
    "collapsed": false
   },
   "id": "8cb8a81d04b781d"
  },
  {
   "cell_type": "code",
   "execution_count": null,
   "outputs": [],
   "source": [
    "# Swith between different csvs, haven't automated detection of this yet. The data array\n",
    "# needs to match the feature columns in the csv, or those features will be ignored.\n",
    "\n",
    "##### uncomment this set of features and \n",
    "# data_arrays = [\"heart_rate\", \"sbp\", \"dbp\", \"mbp\"]\n",
    "# vitals_data_df = pd.read_csv(config.out_dir / 'vitals_data-abc-before-and-after.csv')\n",
    "\n",
    "data_arrays = [\"heart_rate\", \"sbp\", \"dbp\", \"mbp\", \"uric acid\", \"creatinine\"]\n",
    "vitals_data_df = pd.read_csv('vitals_kidney_data.csv')\n",
    "\n",
    "print(vitals_data_df.dtypes)"
   ],
   "metadata": {
    "collapsed": false
   },
   "id": "11242a814e8b0279"
  },
  {
   "cell_type": "code",
   "execution_count": 249,
   "outputs": [
    {
     "name": "stdout",
     "output_type": "stream",
     "text": [
      "stay_id          int64\n",
      "dose_b_time     object\n",
      "subject_id       int64\n",
      "charttime       object\n",
      "heart_rate     float64\n",
      "sbp            float64\n",
      "dbp            float64\n",
      "mbp            float64\n",
      "uric acid      float64\n",
      "creatinine     float64\n",
      "dtype: object\n",
      "Loaded cohort from ..\\out\\cohort-full.out\n",
      "13051\n",
      "Loaded cohort from ..\\out\\cohort-no-icd-file.out\n",
      "45578\n",
      "            stay_id          dose_b_time    subject_id            charttime  \\\n",
      "count  2.033090e+05               203309  2.033090e+05               203309   \n",
      "mean   3.495422e+07  2155-02-10 12:22:31  1.496973e+07  2155-02-10 18:08:08   \n",
      "min    3.000414e+07  2110-02-10 06:30:00  1.000188e+07  2110-02-10 07:00:00   \n",
      "25%    3.245687e+07  2133-09-25 05:03:00  1.248195e+07  2133-09-25 13:00:00   \n",
      "50%    3.472866e+07  2156-04-16 16:51:00  1.500986e+07  2156-04-16 20:00:00   \n",
      "75%    3.754626e+07  2176-07-15 09:15:00  1.741356e+07  2176-07-15 14:30:00   \n",
      "max    3.998748e+07  2208-06-15 13:43:00  1.999560e+07  2208-06-16 01:00:00   \n",
      "std    2.908613e+06                  NaN  2.839030e+06                  NaN   \n",
      "\n",
      "          heart_rate            sbp            dbp            mbp  \\\n",
      "count  203309.000000  203309.000000  203309.000000  203309.000000   \n",
      "mean       88.375190     115.547078      62.600177      77.343840   \n",
      "min        50.000000      70.000000      30.000000      30.000000   \n",
      "25%        75.000000     101.000000      53.000000      67.000000   \n",
      "50%        87.000000     113.000000      61.000000      75.000000   \n",
      "75%       100.000000     128.000000      71.000000      85.000000   \n",
      "max       150.000000     200.000000     164.000000     299.000000   \n",
      "std        18.104989      20.694746      14.145524      14.857217   \n",
      "\n",
      "           uric acid     creatinine  \n",
      "count  203309.000000  203309.000000  \n",
      "mean        4.589630       2.161423  \n",
      "min         1.100000       1.300000  \n",
      "25%         1.900000       2.200000  \n",
      "50%         3.900000       2.200000  \n",
      "75%         6.600000       2.200000  \n",
      "max         8.200000       2.300000  \n",
      "std         2.540652       0.219959  \n"
     ]
    },
    {
     "data": {
      "text/plain": "         stay_id         dose_b_time  subject_id           charttime  \\\n49462   30004144 2126-04-04 18:43:00    10369174 2126-04-04 19:00:00   \n49457   30004144 2126-04-04 18:43:00    10369174 2126-04-04 20:00:00   \n49463   30004144 2126-04-04 18:43:00    10369174 2126-04-04 21:00:00   \n49460   30004144 2126-04-04 18:43:00    10369174 2126-04-04 22:00:00   \n49450   30004144 2126-04-04 18:43:00    10369174 2126-04-04 23:00:00   \n...          ...                 ...         ...                 ...   \n153854  30031116 2144-08-03 19:08:00    18874154 2144-08-04 03:00:00   \n153844  30031116 2144-08-03 19:08:00    18874154 2144-08-04 04:00:00   \n153845  30031116 2144-08-03 19:08:00    18874154 2144-08-04 04:36:00   \n153842  30031116 2144-08-03 19:08:00    18874154 2144-08-04 05:00:00   \n153852  30031116 2144-08-03 19:08:00    18874154 2144-08-04 05:01:00   \n\n        heart_rate    sbp   dbp   mbp  uric acid  creatinine  \n49462         81.0  115.0  56.0  74.0        1.1         1.3  \n49457        111.0  120.0  60.0  79.0        1.1         1.3  \n49463        100.0  126.0  58.0  80.0        1.1         1.3  \n49460         91.0  114.0  55.0  73.0        1.1         1.3  \n49450         93.0  122.0  58.0  78.0        1.1         1.3  \n...            ...    ...   ...   ...        ...         ...  \n153854        79.0  121.0  53.0  70.0        3.0         2.2  \n153844        81.0  112.0  61.0  79.0        3.0         2.2  \n153845        81.0  115.0  45.0  62.0        3.0         2.2  \n153842        81.0  142.0  58.0  79.0        3.0         2.2  \n153852        81.0  121.0  47.0  63.0        3.0         2.2  \n\n[500 rows x 10 columns]",
      "text/html": "<div>\n<style scoped>\n    .dataframe tbody tr th:only-of-type {\n        vertical-align: middle;\n    }\n\n    .dataframe tbody tr th {\n        vertical-align: top;\n    }\n\n    .dataframe thead th {\n        text-align: right;\n    }\n</style>\n<table border=\"1\" class=\"dataframe\">\n  <thead>\n    <tr style=\"text-align: right;\">\n      <th></th>\n      <th>stay_id</th>\n      <th>dose_b_time</th>\n      <th>subject_id</th>\n      <th>charttime</th>\n      <th>heart_rate</th>\n      <th>sbp</th>\n      <th>dbp</th>\n      <th>mbp</th>\n      <th>uric acid</th>\n      <th>creatinine</th>\n    </tr>\n  </thead>\n  <tbody>\n    <tr>\n      <th>49462</th>\n      <td>30004144</td>\n      <td>2126-04-04 18:43:00</td>\n      <td>10369174</td>\n      <td>2126-04-04 19:00:00</td>\n      <td>81.0</td>\n      <td>115.0</td>\n      <td>56.0</td>\n      <td>74.0</td>\n      <td>1.1</td>\n      <td>1.3</td>\n    </tr>\n    <tr>\n      <th>49457</th>\n      <td>30004144</td>\n      <td>2126-04-04 18:43:00</td>\n      <td>10369174</td>\n      <td>2126-04-04 20:00:00</td>\n      <td>111.0</td>\n      <td>120.0</td>\n      <td>60.0</td>\n      <td>79.0</td>\n      <td>1.1</td>\n      <td>1.3</td>\n    </tr>\n    <tr>\n      <th>49463</th>\n      <td>30004144</td>\n      <td>2126-04-04 18:43:00</td>\n      <td>10369174</td>\n      <td>2126-04-04 21:00:00</td>\n      <td>100.0</td>\n      <td>126.0</td>\n      <td>58.0</td>\n      <td>80.0</td>\n      <td>1.1</td>\n      <td>1.3</td>\n    </tr>\n    <tr>\n      <th>49460</th>\n      <td>30004144</td>\n      <td>2126-04-04 18:43:00</td>\n      <td>10369174</td>\n      <td>2126-04-04 22:00:00</td>\n      <td>91.0</td>\n      <td>114.0</td>\n      <td>55.0</td>\n      <td>73.0</td>\n      <td>1.1</td>\n      <td>1.3</td>\n    </tr>\n    <tr>\n      <th>49450</th>\n      <td>30004144</td>\n      <td>2126-04-04 18:43:00</td>\n      <td>10369174</td>\n      <td>2126-04-04 23:00:00</td>\n      <td>93.0</td>\n      <td>122.0</td>\n      <td>58.0</td>\n      <td>78.0</td>\n      <td>1.1</td>\n      <td>1.3</td>\n    </tr>\n    <tr>\n      <th>...</th>\n      <td>...</td>\n      <td>...</td>\n      <td>...</td>\n      <td>...</td>\n      <td>...</td>\n      <td>...</td>\n      <td>...</td>\n      <td>...</td>\n      <td>...</td>\n      <td>...</td>\n    </tr>\n    <tr>\n      <th>153854</th>\n      <td>30031116</td>\n      <td>2144-08-03 19:08:00</td>\n      <td>18874154</td>\n      <td>2144-08-04 03:00:00</td>\n      <td>79.0</td>\n      <td>121.0</td>\n      <td>53.0</td>\n      <td>70.0</td>\n      <td>3.0</td>\n      <td>2.2</td>\n    </tr>\n    <tr>\n      <th>153844</th>\n      <td>30031116</td>\n      <td>2144-08-03 19:08:00</td>\n      <td>18874154</td>\n      <td>2144-08-04 04:00:00</td>\n      <td>81.0</td>\n      <td>112.0</td>\n      <td>61.0</td>\n      <td>79.0</td>\n      <td>3.0</td>\n      <td>2.2</td>\n    </tr>\n    <tr>\n      <th>153845</th>\n      <td>30031116</td>\n      <td>2144-08-03 19:08:00</td>\n      <td>18874154</td>\n      <td>2144-08-04 04:36:00</td>\n      <td>81.0</td>\n      <td>115.0</td>\n      <td>45.0</td>\n      <td>62.0</td>\n      <td>3.0</td>\n      <td>2.2</td>\n    </tr>\n    <tr>\n      <th>153842</th>\n      <td>30031116</td>\n      <td>2144-08-03 19:08:00</td>\n      <td>18874154</td>\n      <td>2144-08-04 05:00:00</td>\n      <td>81.0</td>\n      <td>142.0</td>\n      <td>58.0</td>\n      <td>79.0</td>\n      <td>3.0</td>\n      <td>2.2</td>\n    </tr>\n    <tr>\n      <th>153852</th>\n      <td>30031116</td>\n      <td>2144-08-03 19:08:00</td>\n      <td>18874154</td>\n      <td>2144-08-04 05:01:00</td>\n      <td>81.0</td>\n      <td>121.0</td>\n      <td>47.0</td>\n      <td>63.0</td>\n      <td>3.0</td>\n      <td>2.2</td>\n    </tr>\n  </tbody>\n</table>\n<p>500 rows × 10 columns</p>\n</div>"
     },
     "execution_count": 249,
     "metadata": {},
     "output_type": "execute_result"
    }
   ],
   "source": [
    "vitals_data_df[\"charttime\"] = vitals_data_df[\"charttime\"].astype(\"datetime64[s]\")\n",
    "vitals_data_df[\"dose_b_time\"] = vitals_data_df[\"dose_b_time\"].astype(\"datetime64[s]\")\n",
    "\n",
    "vitals_data_df = vitals_data_df.sort_values(by=[\"stay_id\", \"dose_b_time\", \"charttime\"])\n",
    "\n",
    "try:\n",
    "    serializer = Serializer()\n",
    "    cohort_with_icd = serializer.read_cohort()  # need to run 01-cohort.ipynb to produce the cohort\n",
    "    print(len(cohort_with_icd))\n",
    "    cohort_without_icd = serializer.read_cohort_with_no_icd()\n",
    "    print(len(cohort_without_icd))\n",
    "    cohort = pd.concat([cohort_with_icd, cohort_without_icd])\n",
    "except FileNotFoundError:\n",
    "    raise Exception(\"Need to run [01-cohort.ipynb] at least once to create the cohort file in the /out directory\")\n",
    "\n",
    "print(vitals_data_df.describe())\n",
    "vitals_data_df.head(500)"
   ],
   "metadata": {
    "collapsed": false,
    "ExecuteTime": {
     "start_time": "2023-10-27T12:08:44.352474300Z"
    }
   },
   "id": "initial_id"
  },
  {
   "cell_type": "code",
   "execution_count": 250,
   "outputs": [
    {
     "name": "stdout",
     "output_type": "stream",
     "text": [
      "        subject_id  num_icd_codes\n",
      "191       12405185              1\n",
      "301       11474034              1\n",
      "353       15925315              1\n",
      "430       19193410              1\n",
      "479       10308342              1\n",
      "...            ...            ...\n",
      "202692    12681365           <NA>\n",
      "202693    14191565           <NA>\n",
      "202696    10501852           <NA>\n",
      "202697    14117829           <NA>\n",
      "202707    19445052           <NA>\n",
      "\n",
      "[7437 rows x 2 columns]\n",
      "has_icd ratio stay_id          0.534271\n",
      "dose_b_time      0.534271\n",
      "subject_id       0.534271\n",
      "charttime        0.534271\n",
      "heart_rate       0.534271\n",
      "sbp              0.534271\n",
      "dbp              0.534271\n",
      "mbp              0.534271\n",
      "uric acid        0.534271\n",
      "creatinine       0.534271\n",
      "num_icd_codes    1.000000\n",
      "has_icd          0.534271\n",
      "dtype: float64\n",
      "1556\n",
      "1289\n",
      "1289\n",
      "1289\n",
      "1289\n",
      "has_icd ratio stay_id          0.491097\n",
      "dose_b_time      0.491097\n",
      "subject_id       0.491097\n",
      "charttime        0.491097\n",
      "heart_rate       0.491097\n",
      "sbp              0.491097\n",
      "dbp              0.491097\n",
      "mbp              0.491097\n",
      "uric acid        0.491097\n",
      "creatinine       0.491097\n",
      "num_icd_codes    1.000000\n",
      "has_icd          0.491097\n",
      "dtype: float64\n",
      "count     185562\n",
      "unique         2\n",
      "top        False\n",
      "freq       94433\n",
      "Name: has_icd, dtype: object\n"
     ]
    },
    {
     "data": {
      "text/plain": "      stay_id         dose_b_time  subject_id           charttime  heart_rate  \\\n0    30004144 2126-04-04 18:43:00    10369174 2126-04-04 19:00:00        81.0   \n1    30004144 2126-04-04 18:43:00    10369174 2126-04-04 20:00:00       111.0   \n2    30004144 2126-04-04 18:43:00    10369174 2126-04-04 21:00:00       100.0   \n3    30004144 2126-04-04 18:43:00    10369174 2126-04-04 22:00:00        91.0   \n4    30004144 2126-04-04 18:43:00    10369174 2126-04-04 23:00:00        93.0   \n..        ...                 ...         ...                 ...         ...   \n902  30034369 2169-10-28 00:31:00    11938332 2169-10-28 05:00:00        78.0   \n903  30034369 2169-10-28 00:31:00    11938332 2169-10-28 06:00:00        75.0   \n904  30034369 2169-10-28 00:31:00    11938332 2169-10-28 07:00:00        82.0   \n905  30034369 2169-10-28 00:31:00    11938332 2169-10-28 08:00:00        99.0   \n906  30034369 2169-10-28 00:31:00    11938332 2169-10-28 09:00:00       102.0   \n\n       sbp   dbp   mbp  uric acid  creatinine  num_icd_codes  has_icd  \n0    115.0  56.0  74.0        1.1         1.3              2     True  \n1    120.0  60.0  79.0        1.1         1.3              2     True  \n2    126.0  58.0  80.0        1.1         1.3              2     True  \n3    114.0  55.0  73.0        1.1         1.3              2     True  \n4    122.0  58.0  78.0        1.1         1.3              2     True  \n..     ...   ...   ...        ...         ...            ...      ...  \n902   92.0  53.0  62.0        3.0         2.2              3     True  \n903   95.0  57.0  66.0        3.0         2.2              3     True  \n904   97.0  52.0  62.0        3.0         2.2              3     True  \n905  115.0  59.0  70.0        3.0         2.2              3     True  \n906  112.0  62.0  73.0        3.0         2.2              3     True  \n\n[500 rows x 12 columns]",
      "text/html": "<div>\n<style scoped>\n    .dataframe tbody tr th:only-of-type {\n        vertical-align: middle;\n    }\n\n    .dataframe tbody tr th {\n        vertical-align: top;\n    }\n\n    .dataframe thead th {\n        text-align: right;\n    }\n</style>\n<table border=\"1\" class=\"dataframe\">\n  <thead>\n    <tr style=\"text-align: right;\">\n      <th></th>\n      <th>stay_id</th>\n      <th>dose_b_time</th>\n      <th>subject_id</th>\n      <th>charttime</th>\n      <th>heart_rate</th>\n      <th>sbp</th>\n      <th>dbp</th>\n      <th>mbp</th>\n      <th>uric acid</th>\n      <th>creatinine</th>\n      <th>num_icd_codes</th>\n      <th>has_icd</th>\n    </tr>\n  </thead>\n  <tbody>\n    <tr>\n      <th>0</th>\n      <td>30004144</td>\n      <td>2126-04-04 18:43:00</td>\n      <td>10369174</td>\n      <td>2126-04-04 19:00:00</td>\n      <td>81.0</td>\n      <td>115.0</td>\n      <td>56.0</td>\n      <td>74.0</td>\n      <td>1.1</td>\n      <td>1.3</td>\n      <td>2</td>\n      <td>True</td>\n    </tr>\n    <tr>\n      <th>1</th>\n      <td>30004144</td>\n      <td>2126-04-04 18:43:00</td>\n      <td>10369174</td>\n      <td>2126-04-04 20:00:00</td>\n      <td>111.0</td>\n      <td>120.0</td>\n      <td>60.0</td>\n      <td>79.0</td>\n      <td>1.1</td>\n      <td>1.3</td>\n      <td>2</td>\n      <td>True</td>\n    </tr>\n    <tr>\n      <th>2</th>\n      <td>30004144</td>\n      <td>2126-04-04 18:43:00</td>\n      <td>10369174</td>\n      <td>2126-04-04 21:00:00</td>\n      <td>100.0</td>\n      <td>126.0</td>\n      <td>58.0</td>\n      <td>80.0</td>\n      <td>1.1</td>\n      <td>1.3</td>\n      <td>2</td>\n      <td>True</td>\n    </tr>\n    <tr>\n      <th>3</th>\n      <td>30004144</td>\n      <td>2126-04-04 18:43:00</td>\n      <td>10369174</td>\n      <td>2126-04-04 22:00:00</td>\n      <td>91.0</td>\n      <td>114.0</td>\n      <td>55.0</td>\n      <td>73.0</td>\n      <td>1.1</td>\n      <td>1.3</td>\n      <td>2</td>\n      <td>True</td>\n    </tr>\n    <tr>\n      <th>4</th>\n      <td>30004144</td>\n      <td>2126-04-04 18:43:00</td>\n      <td>10369174</td>\n      <td>2126-04-04 23:00:00</td>\n      <td>93.0</td>\n      <td>122.0</td>\n      <td>58.0</td>\n      <td>78.0</td>\n      <td>1.1</td>\n      <td>1.3</td>\n      <td>2</td>\n      <td>True</td>\n    </tr>\n    <tr>\n      <th>...</th>\n      <td>...</td>\n      <td>...</td>\n      <td>...</td>\n      <td>...</td>\n      <td>...</td>\n      <td>...</td>\n      <td>...</td>\n      <td>...</td>\n      <td>...</td>\n      <td>...</td>\n      <td>...</td>\n      <td>...</td>\n    </tr>\n    <tr>\n      <th>902</th>\n      <td>30034369</td>\n      <td>2169-10-28 00:31:00</td>\n      <td>11938332</td>\n      <td>2169-10-28 05:00:00</td>\n      <td>78.0</td>\n      <td>92.0</td>\n      <td>53.0</td>\n      <td>62.0</td>\n      <td>3.0</td>\n      <td>2.2</td>\n      <td>3</td>\n      <td>True</td>\n    </tr>\n    <tr>\n      <th>903</th>\n      <td>30034369</td>\n      <td>2169-10-28 00:31:00</td>\n      <td>11938332</td>\n      <td>2169-10-28 06:00:00</td>\n      <td>75.0</td>\n      <td>95.0</td>\n      <td>57.0</td>\n      <td>66.0</td>\n      <td>3.0</td>\n      <td>2.2</td>\n      <td>3</td>\n      <td>True</td>\n    </tr>\n    <tr>\n      <th>904</th>\n      <td>30034369</td>\n      <td>2169-10-28 00:31:00</td>\n      <td>11938332</td>\n      <td>2169-10-28 07:00:00</td>\n      <td>82.0</td>\n      <td>97.0</td>\n      <td>52.0</td>\n      <td>62.0</td>\n      <td>3.0</td>\n      <td>2.2</td>\n      <td>3</td>\n      <td>True</td>\n    </tr>\n    <tr>\n      <th>905</th>\n      <td>30034369</td>\n      <td>2169-10-28 00:31:00</td>\n      <td>11938332</td>\n      <td>2169-10-28 08:00:00</td>\n      <td>99.0</td>\n      <td>115.0</td>\n      <td>59.0</td>\n      <td>70.0</td>\n      <td>3.0</td>\n      <td>2.2</td>\n      <td>3</td>\n      <td>True</td>\n    </tr>\n    <tr>\n      <th>906</th>\n      <td>30034369</td>\n      <td>2169-10-28 00:31:00</td>\n      <td>11938332</td>\n      <td>2169-10-28 09:00:00</td>\n      <td>102.0</td>\n      <td>112.0</td>\n      <td>62.0</td>\n      <td>73.0</td>\n      <td>3.0</td>\n      <td>2.2</td>\n      <td>3</td>\n      <td>True</td>\n    </tr>\n  </tbody>\n</table>\n<p>500 rows × 12 columns</p>\n</div>"
     },
     "execution_count": 250,
     "metadata": {},
     "output_type": "execute_result"
    }
   ],
   "source": [
    "# join with icd code info to create has_icd\n",
    "\n",
    "unique_subject_num_icd_codes = cohort[[\"subject_id\", \"num_icd_codes\"]].drop_duplicates(subset=\"subject_id\")\n",
    "print(unique_subject_num_icd_codes)\n",
    "\n",
    "vitals_data_df = vitals_data_df.drop_duplicates()\n",
    "\n",
    "vitals_data_df = pd.merge(left=vitals_data_df, right=unique_subject_num_icd_codes, how=\"inner\", on='subject_id')\n",
    "# generate the has_icd ground truth value\n",
    "vitals_data_df[\"has_icd\"] = ~vitals_data_df['num_icd_codes'].isna()\n",
    "\n",
    "print(f\"has_icd ratio {vitals_data_df['has_icd'].sum() / vitals_data_df.count()}\")\n",
    "\n",
    "stay_ids_with_icd = vitals_data_df[vitals_data_df['has_icd']==True][\"stay_id\"].unique()\n",
    "stay_ids_without_icd = vitals_data_df[vitals_data_df['has_icd']==False][\"stay_id\"].unique()\n",
    "\n",
    "print(len(stay_ids_with_icd))\n",
    "print(len(stay_ids_without_icd))\n",
    "min_balanced_len = min(len(stay_ids_with_icd), len(stay_ids_without_icd))\n",
    "print(min_balanced_len)\n",
    "\n",
    "balanced_with = vitals_data_df[vitals_data_df[\"stay_id\"].isin(stay_ids_with_icd[:min_balanced_len])]\n",
    "balanced_without = vitals_data_df[vitals_data_df[\"stay_id\"].isin(stay_ids_without_icd[:min_balanced_len])]\n",
    "vitals_data_df = pd.concat([balanced_with, balanced_without])\n",
    "\n",
    "stay_ids_with_icd = vitals_data_df[vitals_data_df['has_icd']==True][\"stay_id\"].unique()\n",
    "stay_ids_without_icd = vitals_data_df[vitals_data_df['has_icd']==False][\"stay_id\"].unique()\n",
    "\n",
    "print(len(stay_ids_with_icd))\n",
    "print(len(stay_ids_without_icd))\n",
    "max_balanced_len = max(len(stay_ids_with_icd), len(stay_ids_without_icd))\n",
    "\n",
    "print(f\"has_icd ratio {vitals_data_df['has_icd'].sum() / vitals_data_df.count()}\")\n",
    "print(vitals_data_df[\"has_icd\"].describe())\n",
    "vitals_data_df.head(500)"
   ],
   "metadata": {
    "collapsed": false,
    "ExecuteTime": {
     "end_time": "2023-10-27T12:08:45.406627700Z",
     "start_time": "2023-10-27T12:08:45.153700400Z"
    }
   },
   "id": "a617a1d7e69e44d7"
  },
  {
   "cell_type": "markdown",
   "source": [],
   "metadata": {
    "collapsed": false,
    "ExecuteTime": {
     "end_time": "2023-10-26T13:30:03.112051400Z",
     "start_time": "2023-10-26T13:30:02.901022Z"
    }
   },
   "id": "71bb824da43eebaa"
  },
  {
   "cell_type": "code",
   "execution_count": 251,
   "outputs": [
    {
     "data": {
      "text/plain": "stay_id                  int64\ndose_b_time      datetime64[s]\nsubject_id               int64\ncharttime        datetime64[s]\nheart_rate             float64\nsbp                    float64\ndbp                    float64\nmbp                    float64\nuric acid              float64\ncreatinine             float64\nnum_icd_codes            Int64\nhas_icd                   bool\ndtype: object"
     },
     "execution_count": 251,
     "metadata": {},
     "output_type": "execute_result"
    }
   ],
   "source": [
    "df = vitals_data_df\n",
    "df[\"charttime\"] = df[\"charttime\"].astype(\"datetime64[s]\")\n",
    "df[\"dose_b_time\"] = df[\"dose_b_time\"].astype(\"datetime64[s]\")\n",
    "\n",
    "df.dtypes"
   ],
   "metadata": {
    "collapsed": false,
    "ExecuteTime": {
     "end_time": "2023-10-27T12:08:45.410607500Z",
     "start_time": "2023-10-27T12:08:45.384677Z"
    }
   },
   "id": "9f74b3246f2c2e4"
  },
  {
   "cell_type": "code",
   "execution_count": 252,
   "outputs": [
    {
     "name": "stdout",
     "output_type": "stream",
     "text": [
      "stay_id                    int64\n",
      "dose_b_time        datetime64[s]\n",
      "subject_id                 int64\n",
      "charttime          datetime64[s]\n",
      "heart_rate               float64\n",
      "sbp                      float64\n",
      "dbp                      float64\n",
      "mbp                      float64\n",
      "uric acid                float64\n",
      "creatinine               float64\n",
      "num_icd_codes              Int64\n",
      "has_icd                     bool\n",
      "timestep          timedelta64[s]\n",
      "timestep_float           float64\n",
      "dtype: object\n"
     ]
    }
   ],
   "source": [
    "\n",
    "## convert chart_time to timestep relative to dose b time\n",
    "df[\"timestep\"] = df[\"charttime\"] - df[\"dose_b_time\"]\n",
    "## and convert to float64 for tensor flow\n",
    "df['timestep_float'] = df['timestep'].dt.total_seconds().astype('float64')\n",
    "\n",
    "\n",
    "for data in data_arrays:\n",
    "    df[data] = df[data].astype('float64')\n",
    "\n",
    "print(df.dtypes)"
   ],
   "metadata": {
    "collapsed": false,
    "ExecuteTime": {
     "end_time": "2023-10-27T12:08:45.458481100Z",
     "start_time": "2023-10-27T12:08:45.402664500Z"
    }
   },
   "id": "bbdedf0ecd5747bd"
  },
  {
   "cell_type": "code",
   "execution_count": 253,
   "outputs": [
    {
     "data": {
      "text/plain": "     stay_id        timestep  timestep_float         dose_b_time  \\\n0   30004144 0 days 00:17:00          1020.0 2126-04-04 18:43:00   \n1   30004144 0 days 01:17:00          4620.0 2126-04-04 18:43:00   \n2   30004144 0 days 02:17:00          8220.0 2126-04-04 18:43:00   \n3   30004144 0 days 03:17:00         11820.0 2126-04-04 18:43:00   \n4   30004144 0 days 04:17:00         15420.0 2126-04-04 18:43:00   \n5   30004144 0 days 05:02:00         18120.0 2126-04-04 18:43:00   \n6   30004144 0 days 05:17:00         19020.0 2126-04-04 18:43:00   \n7   30004144 0 days 05:32:00         19920.0 2126-04-04 18:43:00   \n8   30004144 0 days 05:47:00         20820.0 2126-04-04 18:43:00   \n9   30004144 0 days 06:17:00         22620.0 2126-04-04 18:43:00   \n10  30004144 0 days 07:17:00         26220.0 2126-04-04 18:43:00   \n11  30004144 0 days 08:17:00         29820.0 2126-04-04 18:43:00   \n12  30004144 0 days 09:17:00         33420.0 2126-04-04 18:43:00   \n13  30004144 0 days 10:17:00         37020.0 2126-04-04 18:43:00   \n14  30004144 0 days 11:17:00         40620.0 2126-04-04 18:43:00   \n15  30004144 0 days 11:20:00         40800.0 2126-04-04 18:43:00   \n16  30004144 0 days 00:20:00          1200.0 2126-04-04 19:40:00   \n17  30004144 0 days 01:20:00          4800.0 2126-04-04 19:40:00   \n18  30004144 0 days 02:20:00          8400.0 2126-04-04 19:40:00   \n19  30004144 0 days 03:20:00         12000.0 2126-04-04 19:40:00   \n20  30004144 0 days 04:05:00         14700.0 2126-04-04 19:40:00   \n21  30004144 0 days 04:20:00         15600.0 2126-04-04 19:40:00   \n22  30004144 0 days 04:35:00         16500.0 2126-04-04 19:40:00   \n23  30004144 0 days 04:50:00         17400.0 2126-04-04 19:40:00   \n24  30004144 0 days 05:20:00         19200.0 2126-04-04 19:40:00   \n25  30004144 0 days 06:20:00         22800.0 2126-04-04 19:40:00   \n26  30004144 0 days 07:20:00         26400.0 2126-04-04 19:40:00   \n27  30004144 0 days 08:20:00         30000.0 2126-04-04 19:40:00   \n28  30004144 0 days 09:20:00         33600.0 2126-04-04 19:40:00   \n29  30004144 0 days 10:20:00         37200.0 2126-04-04 19:40:00   \n30  30004144 0 days 10:23:00         37380.0 2126-04-04 19:40:00   \n31  30004144 0 days 11:20:00         40800.0 2126-04-04 19:40:00   \n32  30004144 0 days 00:14:00           840.0 2126-04-07 11:46:00   \n33  30004144 0 days 01:14:00          4440.0 2126-04-07 11:46:00   \n34  30004144 0 days 02:14:00          8040.0 2126-04-07 11:46:00   \n35  30004144 0 days 03:14:00         11640.0 2126-04-07 11:46:00   \n36  30004144 0 days 04:14:00         15240.0 2126-04-07 11:46:00   \n37  30004144 0 days 05:14:00         18840.0 2126-04-07 11:46:00   \n38  30004144 0 days 05:28:00         19680.0 2126-04-07 11:46:00   \n39  30004144 0 days 06:14:00         22440.0 2126-04-07 11:46:00   \n40  30004144 0 days 06:32:00         23520.0 2126-04-07 11:46:00   \n41  30004144 0 days 07:14:00         26040.0 2126-04-07 11:46:00   \n42  30004144 0 days 08:14:00         29640.0 2126-04-07 11:46:00   \n43  30004144 0 days 08:41:00         31260.0 2126-04-07 11:46:00   \n44  30004144 0 days 09:14:00         33240.0 2126-04-07 11:46:00   \n45  30004144 0 days 09:24:00         33840.0 2126-04-07 11:46:00   \n46  30004144 0 days 10:14:00         36840.0 2126-04-07 11:46:00   \n47  30004144 0 days 10:24:00         37440.0 2126-04-07 11:46:00   \n48  30004144 0 days 11:14:00         40440.0 2126-04-07 11:46:00   \n49  30004144 0 days 11:21:00         40860.0 2126-04-07 11:46:00   \n\n             charttime  has_icd  heart_rate    sbp   dbp    mbp  uric acid  \\\n0  2126-04-04 19:00:00     True        81.0  115.0  56.0   74.0        1.1   \n1  2126-04-04 20:00:00     True       111.0  120.0  60.0   79.0        1.1   \n2  2126-04-04 21:00:00     True       100.0  126.0  58.0   80.0        1.1   \n3  2126-04-04 22:00:00     True        91.0  114.0  55.0   73.0        1.1   \n4  2126-04-04 23:00:00     True        93.0  122.0  58.0   78.0        1.1   \n5  2126-04-04 23:45:00     True        73.0  123.0  51.0   72.0        1.1   \n6  2126-04-05 00:00:00     True        71.0   96.0  42.0   57.0        1.1   \n7  2126-04-05 00:15:00     True        70.0   95.0  43.0   58.0        1.1   \n8  2126-04-05 00:30:00     True        71.0   99.0  45.0   60.0        1.1   \n9  2126-04-05 01:00:00     True        75.0  115.0  50.0   68.0        1.1   \n10 2126-04-05 02:00:00     True        74.0  138.0  56.0   82.0        1.1   \n11 2126-04-05 03:00:00     True        68.0  114.0  46.0   65.0        1.1   \n12 2126-04-05 04:00:00     True        69.0  128.0  50.0   73.0        1.1   \n13 2126-04-05 05:00:00     True        61.0  114.0  42.0   60.0        1.1   \n14 2126-04-05 06:00:00     True        74.0  139.0  57.0   82.0        1.1   \n15 2126-04-05 06:03:00     True        74.0   95.0  43.0   58.0        1.1   \n16 2126-04-04 20:00:00     True       111.0  120.0  60.0   79.0        1.1   \n17 2126-04-04 21:00:00     True       100.0  126.0  58.0   80.0        1.1   \n18 2126-04-04 22:00:00     True        91.0  114.0  55.0   73.0        1.1   \n19 2126-04-04 23:00:00     True        93.0  122.0  58.0   78.0        1.1   \n20 2126-04-04 23:45:00     True        73.0  123.0  51.0   72.0        1.1   \n21 2126-04-05 00:00:00     True        71.0   96.0  42.0   57.0        1.1   \n22 2126-04-05 00:15:00     True        70.0   95.0  43.0   58.0        1.1   \n23 2126-04-05 00:30:00     True        71.0   99.0  45.0   60.0        1.1   \n24 2126-04-05 01:00:00     True        75.0  115.0  50.0   68.0        1.1   \n25 2126-04-05 02:00:00     True        74.0  138.0  56.0   82.0        1.1   \n26 2126-04-05 03:00:00     True        68.0  114.0  46.0   65.0        1.1   \n27 2126-04-05 04:00:00     True        69.0  128.0  50.0   73.0        1.1   \n28 2126-04-05 05:00:00     True        61.0  114.0  42.0   60.0        1.1   \n29 2126-04-05 06:00:00     True        74.0  139.0  57.0   82.0        1.1   \n30 2126-04-05 06:03:00     True        74.0  126.0  58.0   80.0        1.1   \n31 2126-04-05 07:00:00     True        83.0  161.0  63.0   94.0        1.1   \n32 2126-04-07 12:00:00     True        75.0  149.0  56.0   85.0        1.9   \n33 2126-04-07 13:00:00     True        80.0  155.0  61.0   91.0        1.9   \n34 2126-04-07 14:00:00     True        60.0  135.0  57.0   80.0        1.9   \n35 2126-04-07 15:00:00     True        76.0  160.0  71.0  100.0        1.9   \n36 2126-04-07 16:00:00     True        64.0  148.0  66.0   92.0        1.9   \n37 2126-04-07 17:00:00     True        68.0  153.0  69.0   96.0        1.9   \n38 2126-04-07 17:14:00     True        70.0  137.0  51.0   72.0        1.9   \n39 2126-04-07 18:00:00     True        71.0  153.0  69.0   96.0        1.9   \n40 2126-04-07 18:18:00     True        70.0  132.0  47.0   69.0        1.9   \n41 2126-04-07 19:00:00     True        63.0  144.0  50.0   73.0        1.9   \n42 2126-04-07 20:00:00     True        70.0  154.0  81.0   99.0        1.9   \n43 2126-04-07 20:27:00     True        65.0  153.0  69.0   96.0        1.9   \n44 2126-04-07 21:00:00     True        62.0  129.0  50.0   71.0        1.9   \n45 2126-04-07 21:10:00     True        60.0  129.0  50.0   71.0        1.9   \n46 2126-04-07 22:00:00     True        60.0  132.0  44.0   68.0        1.9   \n47 2126-04-07 22:10:00     True        60.0  135.0  57.0   80.0        1.9   \n48 2126-04-07 23:00:00     True        60.0  132.0  47.0   69.0        1.9   \n49 2126-04-07 23:07:00     True        60.0  144.0  50.0   73.0        1.9   \n\n    creatinine  \n0          1.3  \n1          1.3  \n2          1.3  \n3          1.3  \n4          1.3  \n5          1.3  \n6          1.3  \n7          1.3  \n8          1.3  \n9          1.3  \n10         1.3  \n11         1.3  \n12         1.3  \n13         1.3  \n14         1.3  \n15         1.3  \n16         2.2  \n17         2.2  \n18         2.2  \n19         2.2  \n20         2.2  \n21         2.2  \n22         2.2  \n23         2.2  \n24         2.2  \n25         2.2  \n26         2.2  \n27         2.2  \n28         2.2  \n29         2.2  \n30         2.2  \n31         2.2  \n32         2.2  \n33         2.2  \n34         2.2  \n35         2.2  \n36         2.2  \n37         2.2  \n38         2.2  \n39         2.2  \n40         2.2  \n41         2.2  \n42         2.2  \n43         2.2  \n44         2.2  \n45         2.2  \n46         2.2  \n47         2.2  \n48         2.2  \n49         2.2  ",
      "text/html": "<div>\n<style scoped>\n    .dataframe tbody tr th:only-of-type {\n        vertical-align: middle;\n    }\n\n    .dataframe tbody tr th {\n        vertical-align: top;\n    }\n\n    .dataframe thead th {\n        text-align: right;\n    }\n</style>\n<table border=\"1\" class=\"dataframe\">\n  <thead>\n    <tr style=\"text-align: right;\">\n      <th></th>\n      <th>stay_id</th>\n      <th>timestep</th>\n      <th>timestep_float</th>\n      <th>dose_b_time</th>\n      <th>charttime</th>\n      <th>has_icd</th>\n      <th>heart_rate</th>\n      <th>sbp</th>\n      <th>dbp</th>\n      <th>mbp</th>\n      <th>uric acid</th>\n      <th>creatinine</th>\n    </tr>\n  </thead>\n  <tbody>\n    <tr>\n      <th>0</th>\n      <td>30004144</td>\n      <td>0 days 00:17:00</td>\n      <td>1020.0</td>\n      <td>2126-04-04 18:43:00</td>\n      <td>2126-04-04 19:00:00</td>\n      <td>True</td>\n      <td>81.0</td>\n      <td>115.0</td>\n      <td>56.0</td>\n      <td>74.0</td>\n      <td>1.1</td>\n      <td>1.3</td>\n    </tr>\n    <tr>\n      <th>1</th>\n      <td>30004144</td>\n      <td>0 days 01:17:00</td>\n      <td>4620.0</td>\n      <td>2126-04-04 18:43:00</td>\n      <td>2126-04-04 20:00:00</td>\n      <td>True</td>\n      <td>111.0</td>\n      <td>120.0</td>\n      <td>60.0</td>\n      <td>79.0</td>\n      <td>1.1</td>\n      <td>1.3</td>\n    </tr>\n    <tr>\n      <th>2</th>\n      <td>30004144</td>\n      <td>0 days 02:17:00</td>\n      <td>8220.0</td>\n      <td>2126-04-04 18:43:00</td>\n      <td>2126-04-04 21:00:00</td>\n      <td>True</td>\n      <td>100.0</td>\n      <td>126.0</td>\n      <td>58.0</td>\n      <td>80.0</td>\n      <td>1.1</td>\n      <td>1.3</td>\n    </tr>\n    <tr>\n      <th>3</th>\n      <td>30004144</td>\n      <td>0 days 03:17:00</td>\n      <td>11820.0</td>\n      <td>2126-04-04 18:43:00</td>\n      <td>2126-04-04 22:00:00</td>\n      <td>True</td>\n      <td>91.0</td>\n      <td>114.0</td>\n      <td>55.0</td>\n      <td>73.0</td>\n      <td>1.1</td>\n      <td>1.3</td>\n    </tr>\n    <tr>\n      <th>4</th>\n      <td>30004144</td>\n      <td>0 days 04:17:00</td>\n      <td>15420.0</td>\n      <td>2126-04-04 18:43:00</td>\n      <td>2126-04-04 23:00:00</td>\n      <td>True</td>\n      <td>93.0</td>\n      <td>122.0</td>\n      <td>58.0</td>\n      <td>78.0</td>\n      <td>1.1</td>\n      <td>1.3</td>\n    </tr>\n    <tr>\n      <th>5</th>\n      <td>30004144</td>\n      <td>0 days 05:02:00</td>\n      <td>18120.0</td>\n      <td>2126-04-04 18:43:00</td>\n      <td>2126-04-04 23:45:00</td>\n      <td>True</td>\n      <td>73.0</td>\n      <td>123.0</td>\n      <td>51.0</td>\n      <td>72.0</td>\n      <td>1.1</td>\n      <td>1.3</td>\n    </tr>\n    <tr>\n      <th>6</th>\n      <td>30004144</td>\n      <td>0 days 05:17:00</td>\n      <td>19020.0</td>\n      <td>2126-04-04 18:43:00</td>\n      <td>2126-04-05 00:00:00</td>\n      <td>True</td>\n      <td>71.0</td>\n      <td>96.0</td>\n      <td>42.0</td>\n      <td>57.0</td>\n      <td>1.1</td>\n      <td>1.3</td>\n    </tr>\n    <tr>\n      <th>7</th>\n      <td>30004144</td>\n      <td>0 days 05:32:00</td>\n      <td>19920.0</td>\n      <td>2126-04-04 18:43:00</td>\n      <td>2126-04-05 00:15:00</td>\n      <td>True</td>\n      <td>70.0</td>\n      <td>95.0</td>\n      <td>43.0</td>\n      <td>58.0</td>\n      <td>1.1</td>\n      <td>1.3</td>\n    </tr>\n    <tr>\n      <th>8</th>\n      <td>30004144</td>\n      <td>0 days 05:47:00</td>\n      <td>20820.0</td>\n      <td>2126-04-04 18:43:00</td>\n      <td>2126-04-05 00:30:00</td>\n      <td>True</td>\n      <td>71.0</td>\n      <td>99.0</td>\n      <td>45.0</td>\n      <td>60.0</td>\n      <td>1.1</td>\n      <td>1.3</td>\n    </tr>\n    <tr>\n      <th>9</th>\n      <td>30004144</td>\n      <td>0 days 06:17:00</td>\n      <td>22620.0</td>\n      <td>2126-04-04 18:43:00</td>\n      <td>2126-04-05 01:00:00</td>\n      <td>True</td>\n      <td>75.0</td>\n      <td>115.0</td>\n      <td>50.0</td>\n      <td>68.0</td>\n      <td>1.1</td>\n      <td>1.3</td>\n    </tr>\n    <tr>\n      <th>10</th>\n      <td>30004144</td>\n      <td>0 days 07:17:00</td>\n      <td>26220.0</td>\n      <td>2126-04-04 18:43:00</td>\n      <td>2126-04-05 02:00:00</td>\n      <td>True</td>\n      <td>74.0</td>\n      <td>138.0</td>\n      <td>56.0</td>\n      <td>82.0</td>\n      <td>1.1</td>\n      <td>1.3</td>\n    </tr>\n    <tr>\n      <th>11</th>\n      <td>30004144</td>\n      <td>0 days 08:17:00</td>\n      <td>29820.0</td>\n      <td>2126-04-04 18:43:00</td>\n      <td>2126-04-05 03:00:00</td>\n      <td>True</td>\n      <td>68.0</td>\n      <td>114.0</td>\n      <td>46.0</td>\n      <td>65.0</td>\n      <td>1.1</td>\n      <td>1.3</td>\n    </tr>\n    <tr>\n      <th>12</th>\n      <td>30004144</td>\n      <td>0 days 09:17:00</td>\n      <td>33420.0</td>\n      <td>2126-04-04 18:43:00</td>\n      <td>2126-04-05 04:00:00</td>\n      <td>True</td>\n      <td>69.0</td>\n      <td>128.0</td>\n      <td>50.0</td>\n      <td>73.0</td>\n      <td>1.1</td>\n      <td>1.3</td>\n    </tr>\n    <tr>\n      <th>13</th>\n      <td>30004144</td>\n      <td>0 days 10:17:00</td>\n      <td>37020.0</td>\n      <td>2126-04-04 18:43:00</td>\n      <td>2126-04-05 05:00:00</td>\n      <td>True</td>\n      <td>61.0</td>\n      <td>114.0</td>\n      <td>42.0</td>\n      <td>60.0</td>\n      <td>1.1</td>\n      <td>1.3</td>\n    </tr>\n    <tr>\n      <th>14</th>\n      <td>30004144</td>\n      <td>0 days 11:17:00</td>\n      <td>40620.0</td>\n      <td>2126-04-04 18:43:00</td>\n      <td>2126-04-05 06:00:00</td>\n      <td>True</td>\n      <td>74.0</td>\n      <td>139.0</td>\n      <td>57.0</td>\n      <td>82.0</td>\n      <td>1.1</td>\n      <td>1.3</td>\n    </tr>\n    <tr>\n      <th>15</th>\n      <td>30004144</td>\n      <td>0 days 11:20:00</td>\n      <td>40800.0</td>\n      <td>2126-04-04 18:43:00</td>\n      <td>2126-04-05 06:03:00</td>\n      <td>True</td>\n      <td>74.0</td>\n      <td>95.0</td>\n      <td>43.0</td>\n      <td>58.0</td>\n      <td>1.1</td>\n      <td>1.3</td>\n    </tr>\n    <tr>\n      <th>16</th>\n      <td>30004144</td>\n      <td>0 days 00:20:00</td>\n      <td>1200.0</td>\n      <td>2126-04-04 19:40:00</td>\n      <td>2126-04-04 20:00:00</td>\n      <td>True</td>\n      <td>111.0</td>\n      <td>120.0</td>\n      <td>60.0</td>\n      <td>79.0</td>\n      <td>1.1</td>\n      <td>2.2</td>\n    </tr>\n    <tr>\n      <th>17</th>\n      <td>30004144</td>\n      <td>0 days 01:20:00</td>\n      <td>4800.0</td>\n      <td>2126-04-04 19:40:00</td>\n      <td>2126-04-04 21:00:00</td>\n      <td>True</td>\n      <td>100.0</td>\n      <td>126.0</td>\n      <td>58.0</td>\n      <td>80.0</td>\n      <td>1.1</td>\n      <td>2.2</td>\n    </tr>\n    <tr>\n      <th>18</th>\n      <td>30004144</td>\n      <td>0 days 02:20:00</td>\n      <td>8400.0</td>\n      <td>2126-04-04 19:40:00</td>\n      <td>2126-04-04 22:00:00</td>\n      <td>True</td>\n      <td>91.0</td>\n      <td>114.0</td>\n      <td>55.0</td>\n      <td>73.0</td>\n      <td>1.1</td>\n      <td>2.2</td>\n    </tr>\n    <tr>\n      <th>19</th>\n      <td>30004144</td>\n      <td>0 days 03:20:00</td>\n      <td>12000.0</td>\n      <td>2126-04-04 19:40:00</td>\n      <td>2126-04-04 23:00:00</td>\n      <td>True</td>\n      <td>93.0</td>\n      <td>122.0</td>\n      <td>58.0</td>\n      <td>78.0</td>\n      <td>1.1</td>\n      <td>2.2</td>\n    </tr>\n    <tr>\n      <th>20</th>\n      <td>30004144</td>\n      <td>0 days 04:05:00</td>\n      <td>14700.0</td>\n      <td>2126-04-04 19:40:00</td>\n      <td>2126-04-04 23:45:00</td>\n      <td>True</td>\n      <td>73.0</td>\n      <td>123.0</td>\n      <td>51.0</td>\n      <td>72.0</td>\n      <td>1.1</td>\n      <td>2.2</td>\n    </tr>\n    <tr>\n      <th>21</th>\n      <td>30004144</td>\n      <td>0 days 04:20:00</td>\n      <td>15600.0</td>\n      <td>2126-04-04 19:40:00</td>\n      <td>2126-04-05 00:00:00</td>\n      <td>True</td>\n      <td>71.0</td>\n      <td>96.0</td>\n      <td>42.0</td>\n      <td>57.0</td>\n      <td>1.1</td>\n      <td>2.2</td>\n    </tr>\n    <tr>\n      <th>22</th>\n      <td>30004144</td>\n      <td>0 days 04:35:00</td>\n      <td>16500.0</td>\n      <td>2126-04-04 19:40:00</td>\n      <td>2126-04-05 00:15:00</td>\n      <td>True</td>\n      <td>70.0</td>\n      <td>95.0</td>\n      <td>43.0</td>\n      <td>58.0</td>\n      <td>1.1</td>\n      <td>2.2</td>\n    </tr>\n    <tr>\n      <th>23</th>\n      <td>30004144</td>\n      <td>0 days 04:50:00</td>\n      <td>17400.0</td>\n      <td>2126-04-04 19:40:00</td>\n      <td>2126-04-05 00:30:00</td>\n      <td>True</td>\n      <td>71.0</td>\n      <td>99.0</td>\n      <td>45.0</td>\n      <td>60.0</td>\n      <td>1.1</td>\n      <td>2.2</td>\n    </tr>\n    <tr>\n      <th>24</th>\n      <td>30004144</td>\n      <td>0 days 05:20:00</td>\n      <td>19200.0</td>\n      <td>2126-04-04 19:40:00</td>\n      <td>2126-04-05 01:00:00</td>\n      <td>True</td>\n      <td>75.0</td>\n      <td>115.0</td>\n      <td>50.0</td>\n      <td>68.0</td>\n      <td>1.1</td>\n      <td>2.2</td>\n    </tr>\n    <tr>\n      <th>25</th>\n      <td>30004144</td>\n      <td>0 days 06:20:00</td>\n      <td>22800.0</td>\n      <td>2126-04-04 19:40:00</td>\n      <td>2126-04-05 02:00:00</td>\n      <td>True</td>\n      <td>74.0</td>\n      <td>138.0</td>\n      <td>56.0</td>\n      <td>82.0</td>\n      <td>1.1</td>\n      <td>2.2</td>\n    </tr>\n    <tr>\n      <th>26</th>\n      <td>30004144</td>\n      <td>0 days 07:20:00</td>\n      <td>26400.0</td>\n      <td>2126-04-04 19:40:00</td>\n      <td>2126-04-05 03:00:00</td>\n      <td>True</td>\n      <td>68.0</td>\n      <td>114.0</td>\n      <td>46.0</td>\n      <td>65.0</td>\n      <td>1.1</td>\n      <td>2.2</td>\n    </tr>\n    <tr>\n      <th>27</th>\n      <td>30004144</td>\n      <td>0 days 08:20:00</td>\n      <td>30000.0</td>\n      <td>2126-04-04 19:40:00</td>\n      <td>2126-04-05 04:00:00</td>\n      <td>True</td>\n      <td>69.0</td>\n      <td>128.0</td>\n      <td>50.0</td>\n      <td>73.0</td>\n      <td>1.1</td>\n      <td>2.2</td>\n    </tr>\n    <tr>\n      <th>28</th>\n      <td>30004144</td>\n      <td>0 days 09:20:00</td>\n      <td>33600.0</td>\n      <td>2126-04-04 19:40:00</td>\n      <td>2126-04-05 05:00:00</td>\n      <td>True</td>\n      <td>61.0</td>\n      <td>114.0</td>\n      <td>42.0</td>\n      <td>60.0</td>\n      <td>1.1</td>\n      <td>2.2</td>\n    </tr>\n    <tr>\n      <th>29</th>\n      <td>30004144</td>\n      <td>0 days 10:20:00</td>\n      <td>37200.0</td>\n      <td>2126-04-04 19:40:00</td>\n      <td>2126-04-05 06:00:00</td>\n      <td>True</td>\n      <td>74.0</td>\n      <td>139.0</td>\n      <td>57.0</td>\n      <td>82.0</td>\n      <td>1.1</td>\n      <td>2.2</td>\n    </tr>\n    <tr>\n      <th>30</th>\n      <td>30004144</td>\n      <td>0 days 10:23:00</td>\n      <td>37380.0</td>\n      <td>2126-04-04 19:40:00</td>\n      <td>2126-04-05 06:03:00</td>\n      <td>True</td>\n      <td>74.0</td>\n      <td>126.0</td>\n      <td>58.0</td>\n      <td>80.0</td>\n      <td>1.1</td>\n      <td>2.2</td>\n    </tr>\n    <tr>\n      <th>31</th>\n      <td>30004144</td>\n      <td>0 days 11:20:00</td>\n      <td>40800.0</td>\n      <td>2126-04-04 19:40:00</td>\n      <td>2126-04-05 07:00:00</td>\n      <td>True</td>\n      <td>83.0</td>\n      <td>161.0</td>\n      <td>63.0</td>\n      <td>94.0</td>\n      <td>1.1</td>\n      <td>2.2</td>\n    </tr>\n    <tr>\n      <th>32</th>\n      <td>30004144</td>\n      <td>0 days 00:14:00</td>\n      <td>840.0</td>\n      <td>2126-04-07 11:46:00</td>\n      <td>2126-04-07 12:00:00</td>\n      <td>True</td>\n      <td>75.0</td>\n      <td>149.0</td>\n      <td>56.0</td>\n      <td>85.0</td>\n      <td>1.9</td>\n      <td>2.2</td>\n    </tr>\n    <tr>\n      <th>33</th>\n      <td>30004144</td>\n      <td>0 days 01:14:00</td>\n      <td>4440.0</td>\n      <td>2126-04-07 11:46:00</td>\n      <td>2126-04-07 13:00:00</td>\n      <td>True</td>\n      <td>80.0</td>\n      <td>155.0</td>\n      <td>61.0</td>\n      <td>91.0</td>\n      <td>1.9</td>\n      <td>2.2</td>\n    </tr>\n    <tr>\n      <th>34</th>\n      <td>30004144</td>\n      <td>0 days 02:14:00</td>\n      <td>8040.0</td>\n      <td>2126-04-07 11:46:00</td>\n      <td>2126-04-07 14:00:00</td>\n      <td>True</td>\n      <td>60.0</td>\n      <td>135.0</td>\n      <td>57.0</td>\n      <td>80.0</td>\n      <td>1.9</td>\n      <td>2.2</td>\n    </tr>\n    <tr>\n      <th>35</th>\n      <td>30004144</td>\n      <td>0 days 03:14:00</td>\n      <td>11640.0</td>\n      <td>2126-04-07 11:46:00</td>\n      <td>2126-04-07 15:00:00</td>\n      <td>True</td>\n      <td>76.0</td>\n      <td>160.0</td>\n      <td>71.0</td>\n      <td>100.0</td>\n      <td>1.9</td>\n      <td>2.2</td>\n    </tr>\n    <tr>\n      <th>36</th>\n      <td>30004144</td>\n      <td>0 days 04:14:00</td>\n      <td>15240.0</td>\n      <td>2126-04-07 11:46:00</td>\n      <td>2126-04-07 16:00:00</td>\n      <td>True</td>\n      <td>64.0</td>\n      <td>148.0</td>\n      <td>66.0</td>\n      <td>92.0</td>\n      <td>1.9</td>\n      <td>2.2</td>\n    </tr>\n    <tr>\n      <th>37</th>\n      <td>30004144</td>\n      <td>0 days 05:14:00</td>\n      <td>18840.0</td>\n      <td>2126-04-07 11:46:00</td>\n      <td>2126-04-07 17:00:00</td>\n      <td>True</td>\n      <td>68.0</td>\n      <td>153.0</td>\n      <td>69.0</td>\n      <td>96.0</td>\n      <td>1.9</td>\n      <td>2.2</td>\n    </tr>\n    <tr>\n      <th>38</th>\n      <td>30004144</td>\n      <td>0 days 05:28:00</td>\n      <td>19680.0</td>\n      <td>2126-04-07 11:46:00</td>\n      <td>2126-04-07 17:14:00</td>\n      <td>True</td>\n      <td>70.0</td>\n      <td>137.0</td>\n      <td>51.0</td>\n      <td>72.0</td>\n      <td>1.9</td>\n      <td>2.2</td>\n    </tr>\n    <tr>\n      <th>39</th>\n      <td>30004144</td>\n      <td>0 days 06:14:00</td>\n      <td>22440.0</td>\n      <td>2126-04-07 11:46:00</td>\n      <td>2126-04-07 18:00:00</td>\n      <td>True</td>\n      <td>71.0</td>\n      <td>153.0</td>\n      <td>69.0</td>\n      <td>96.0</td>\n      <td>1.9</td>\n      <td>2.2</td>\n    </tr>\n    <tr>\n      <th>40</th>\n      <td>30004144</td>\n      <td>0 days 06:32:00</td>\n      <td>23520.0</td>\n      <td>2126-04-07 11:46:00</td>\n      <td>2126-04-07 18:18:00</td>\n      <td>True</td>\n      <td>70.0</td>\n      <td>132.0</td>\n      <td>47.0</td>\n      <td>69.0</td>\n      <td>1.9</td>\n      <td>2.2</td>\n    </tr>\n    <tr>\n      <th>41</th>\n      <td>30004144</td>\n      <td>0 days 07:14:00</td>\n      <td>26040.0</td>\n      <td>2126-04-07 11:46:00</td>\n      <td>2126-04-07 19:00:00</td>\n      <td>True</td>\n      <td>63.0</td>\n      <td>144.0</td>\n      <td>50.0</td>\n      <td>73.0</td>\n      <td>1.9</td>\n      <td>2.2</td>\n    </tr>\n    <tr>\n      <th>42</th>\n      <td>30004144</td>\n      <td>0 days 08:14:00</td>\n      <td>29640.0</td>\n      <td>2126-04-07 11:46:00</td>\n      <td>2126-04-07 20:00:00</td>\n      <td>True</td>\n      <td>70.0</td>\n      <td>154.0</td>\n      <td>81.0</td>\n      <td>99.0</td>\n      <td>1.9</td>\n      <td>2.2</td>\n    </tr>\n    <tr>\n      <th>43</th>\n      <td>30004144</td>\n      <td>0 days 08:41:00</td>\n      <td>31260.0</td>\n      <td>2126-04-07 11:46:00</td>\n      <td>2126-04-07 20:27:00</td>\n      <td>True</td>\n      <td>65.0</td>\n      <td>153.0</td>\n      <td>69.0</td>\n      <td>96.0</td>\n      <td>1.9</td>\n      <td>2.2</td>\n    </tr>\n    <tr>\n      <th>44</th>\n      <td>30004144</td>\n      <td>0 days 09:14:00</td>\n      <td>33240.0</td>\n      <td>2126-04-07 11:46:00</td>\n      <td>2126-04-07 21:00:00</td>\n      <td>True</td>\n      <td>62.0</td>\n      <td>129.0</td>\n      <td>50.0</td>\n      <td>71.0</td>\n      <td>1.9</td>\n      <td>2.2</td>\n    </tr>\n    <tr>\n      <th>45</th>\n      <td>30004144</td>\n      <td>0 days 09:24:00</td>\n      <td>33840.0</td>\n      <td>2126-04-07 11:46:00</td>\n      <td>2126-04-07 21:10:00</td>\n      <td>True</td>\n      <td>60.0</td>\n      <td>129.0</td>\n      <td>50.0</td>\n      <td>71.0</td>\n      <td>1.9</td>\n      <td>2.2</td>\n    </tr>\n    <tr>\n      <th>46</th>\n      <td>30004144</td>\n      <td>0 days 10:14:00</td>\n      <td>36840.0</td>\n      <td>2126-04-07 11:46:00</td>\n      <td>2126-04-07 22:00:00</td>\n      <td>True</td>\n      <td>60.0</td>\n      <td>132.0</td>\n      <td>44.0</td>\n      <td>68.0</td>\n      <td>1.9</td>\n      <td>2.2</td>\n    </tr>\n    <tr>\n      <th>47</th>\n      <td>30004144</td>\n      <td>0 days 10:24:00</td>\n      <td>37440.0</td>\n      <td>2126-04-07 11:46:00</td>\n      <td>2126-04-07 22:10:00</td>\n      <td>True</td>\n      <td>60.0</td>\n      <td>135.0</td>\n      <td>57.0</td>\n      <td>80.0</td>\n      <td>1.9</td>\n      <td>2.2</td>\n    </tr>\n    <tr>\n      <th>48</th>\n      <td>30004144</td>\n      <td>0 days 11:14:00</td>\n      <td>40440.0</td>\n      <td>2126-04-07 11:46:00</td>\n      <td>2126-04-07 23:00:00</td>\n      <td>True</td>\n      <td>60.0</td>\n      <td>132.0</td>\n      <td>47.0</td>\n      <td>69.0</td>\n      <td>1.9</td>\n      <td>2.2</td>\n    </tr>\n    <tr>\n      <th>49</th>\n      <td>30004144</td>\n      <td>0 days 11:21:00</td>\n      <td>40860.0</td>\n      <td>2126-04-07 11:46:00</td>\n      <td>2126-04-07 23:07:00</td>\n      <td>True</td>\n      <td>60.0</td>\n      <td>144.0</td>\n      <td>50.0</td>\n      <td>73.0</td>\n      <td>1.9</td>\n      <td>2.2</td>\n    </tr>\n  </tbody>\n</table>\n</div>"
     },
     "execution_count": 253,
     "metadata": {},
     "output_type": "execute_result"
    }
   ],
   "source": [
    "df = df[[\"stay_id\", \"timestep\", \"timestep_float\", \"dose_b_time\", \"charttime\",\n",
    "         \"has_icd\"] + data_arrays].sort_values([\"stay_id\", \"dose_b_time\", \"timestep\"])\n",
    "df.head(50)"
   ],
   "metadata": {
    "collapsed": false,
    "ExecuteTime": {
     "end_time": "2023-10-27T12:08:45.575216600Z",
     "start_time": "2023-10-27T12:08:45.432549400Z"
    }
   },
   "id": "9425cee888566589"
  },
  {
   "cell_type": "markdown",
   "source": [
    "# Interpolate\n",
    "The data has missing values, use pandas built in interpolation to fill those based on the timestamp"
   ],
   "metadata": {
    "collapsed": false
   },
   "id": "2108b67729841627"
  },
  {
   "cell_type": "markdown",
   "source": [],
   "metadata": {
    "collapsed": false,
    "ExecuteTime": {
     "start_time": "2023-10-26T13:29:22.035511Z"
    }
   },
   "id": "a849a0e0ee1357b9"
  },
  {
   "cell_type": "code",
   "execution_count": 254,
   "outputs": [
    {
     "name": "stdout",
     "output_type": "stream",
     "text": [
      "stay_id                    int64\n",
      "timestep          timedelta64[s]\n",
      "timestep_float           float64\n",
      "dose_b_time        datetime64[s]\n",
      "charttime          datetime64[s]\n",
      "has_icd                     bool\n",
      "heart_rate               float64\n",
      "sbp                      float64\n",
      "dbp                      float64\n",
      "mbp                      float64\n",
      "uric acid                float64\n",
      "creatinine               float64\n",
      "dtype: object\n",
      "charttime          datetime64[s]\n",
      "stay_id                    int64\n",
      "timestep          timedelta64[s]\n",
      "timestep_float           float64\n",
      "dose_b_time        datetime64[s]\n",
      "has_icd                     bool\n",
      "heart_rate               float64\n",
      "sbp                      float64\n",
      "dbp                      float64\n",
      "mbp                      float64\n",
      "uric acid                float64\n",
      "creatinine               float64\n",
      "dtype: object\n",
      "stay_id                   int64\n",
      "dose_b_time       datetime64[s]\n",
      "timestep_float          float64\n",
      "has_icd                    bool\n",
      "heart_rate              float64\n",
      "sbp                     float64\n",
      "dbp                     float64\n",
      "mbp                     float64\n",
      "uric acid               float64\n",
      "creatinine              float64\n",
      "dtype: object\n",
      "(185562, 10)\n"
     ]
    },
    {
     "data": {
      "text/plain": "     stay_id         dose_b_time  timestep_float  has_icd  heart_rate    sbp  \\\n0   30004144 2126-04-04 18:43:00          1020.0     True        81.0  115.0   \n1   30004144 2126-04-04 18:43:00          4620.0     True       111.0  120.0   \n2   30004144 2126-04-04 18:43:00          8220.0     True       100.0  126.0   \n3   30004144 2126-04-04 18:43:00         11820.0     True        91.0  114.0   \n4   30004144 2126-04-04 18:43:00         15420.0     True        93.0  122.0   \n5   30004144 2126-04-04 18:43:00         18120.0     True        73.0  123.0   \n6   30004144 2126-04-04 18:43:00         19020.0     True        71.0   96.0   \n7   30004144 2126-04-04 18:43:00         19920.0     True        70.0   95.0   \n8   30004144 2126-04-04 18:43:00         20820.0     True        71.0   99.0   \n9   30004144 2126-04-04 18:43:00         22620.0     True        75.0  115.0   \n10  30004144 2126-04-04 18:43:00         26220.0     True        74.0  138.0   \n11  30004144 2126-04-04 18:43:00         29820.0     True        68.0  114.0   \n12  30004144 2126-04-04 18:43:00         33420.0     True        69.0  128.0   \n13  30004144 2126-04-04 18:43:00         37020.0     True        61.0  114.0   \n14  30004144 2126-04-04 18:43:00         40620.0     True        74.0  139.0   \n15  30004144 2126-04-04 18:43:00         40800.0     True        74.0   95.0   \n16  30004144 2126-04-04 19:40:00          1200.0     True       111.0  120.0   \n17  30004144 2126-04-04 19:40:00          4800.0     True       100.0  126.0   \n18  30004144 2126-04-04 19:40:00          8400.0     True        91.0  114.0   \n19  30004144 2126-04-04 19:40:00         12000.0     True        93.0  122.0   \n20  30004144 2126-04-04 19:40:00         14700.0     True        73.0  123.0   \n21  30004144 2126-04-04 19:40:00         15600.0     True        71.0   96.0   \n22  30004144 2126-04-04 19:40:00         16500.0     True        70.0   95.0   \n23  30004144 2126-04-04 19:40:00         17400.0     True        71.0   99.0   \n24  30004144 2126-04-04 19:40:00         19200.0     True        75.0  115.0   \n25  30004144 2126-04-04 19:40:00         22800.0     True        74.0  138.0   \n26  30004144 2126-04-04 19:40:00         26400.0     True        68.0  114.0   \n27  30004144 2126-04-04 19:40:00         30000.0     True        69.0  128.0   \n28  30004144 2126-04-04 19:40:00         33600.0     True        61.0  114.0   \n29  30004144 2126-04-04 19:40:00         37200.0     True        74.0  139.0   \n30  30004144 2126-04-04 19:40:00         37380.0     True        74.0  126.0   \n31  30004144 2126-04-04 19:40:00         40800.0     True        83.0  161.0   \n32  30004144 2126-04-07 11:46:00           840.0     True        75.0  149.0   \n33  30004144 2126-04-07 11:46:00          4440.0     True        80.0  155.0   \n34  30004144 2126-04-07 11:46:00          8040.0     True        60.0  135.0   \n35  30004144 2126-04-07 11:46:00         11640.0     True        76.0  160.0   \n36  30004144 2126-04-07 11:46:00         15240.0     True        64.0  148.0   \n37  30004144 2126-04-07 11:46:00         18840.0     True        68.0  153.0   \n38  30004144 2126-04-07 11:46:00         19680.0     True        70.0  137.0   \n39  30004144 2126-04-07 11:46:00         22440.0     True        71.0  153.0   \n40  30004144 2126-04-07 11:46:00         23520.0     True        70.0  132.0   \n41  30004144 2126-04-07 11:46:00         26040.0     True        63.0  144.0   \n42  30004144 2126-04-07 11:46:00         29640.0     True        70.0  154.0   \n43  30004144 2126-04-07 11:46:00         31260.0     True        65.0  153.0   \n44  30004144 2126-04-07 11:46:00         33240.0     True        62.0  129.0   \n45  30004144 2126-04-07 11:46:00         33840.0     True        60.0  129.0   \n46  30004144 2126-04-07 11:46:00         36840.0     True        60.0  132.0   \n47  30004144 2126-04-07 11:46:00         37440.0     True        60.0  135.0   \n48  30004144 2126-04-07 11:46:00         40440.0     True        60.0  132.0   \n49  30004144 2126-04-07 11:46:00         40860.0     True        60.0  144.0   \n\n     dbp    mbp  uric acid  creatinine  \n0   56.0   74.0        1.1         1.3  \n1   60.0   79.0        1.1         1.3  \n2   58.0   80.0        1.1         1.3  \n3   55.0   73.0        1.1         1.3  \n4   58.0   78.0        1.1         1.3  \n5   51.0   72.0        1.1         1.3  \n6   42.0   57.0        1.1         1.3  \n7   43.0   58.0        1.1         1.3  \n8   45.0   60.0        1.1         1.3  \n9   50.0   68.0        1.1         1.3  \n10  56.0   82.0        1.1         1.3  \n11  46.0   65.0        1.1         1.3  \n12  50.0   73.0        1.1         1.3  \n13  42.0   60.0        1.1         1.3  \n14  57.0   82.0        1.1         1.3  \n15  43.0   58.0        1.1         1.3  \n16  60.0   79.0        1.1         2.2  \n17  58.0   80.0        1.1         2.2  \n18  55.0   73.0        1.1         2.2  \n19  58.0   78.0        1.1         2.2  \n20  51.0   72.0        1.1         2.2  \n21  42.0   57.0        1.1         2.2  \n22  43.0   58.0        1.1         2.2  \n23  45.0   60.0        1.1         2.2  \n24  50.0   68.0        1.1         2.2  \n25  56.0   82.0        1.1         2.2  \n26  46.0   65.0        1.1         2.2  \n27  50.0   73.0        1.1         2.2  \n28  42.0   60.0        1.1         2.2  \n29  57.0   82.0        1.1         2.2  \n30  58.0   80.0        1.1         2.2  \n31  63.0   94.0        1.1         2.2  \n32  56.0   85.0        1.9         2.2  \n33  61.0   91.0        1.9         2.2  \n34  57.0   80.0        1.9         2.2  \n35  71.0  100.0        1.9         2.2  \n36  66.0   92.0        1.9         2.2  \n37  69.0   96.0        1.9         2.2  \n38  51.0   72.0        1.9         2.2  \n39  69.0   96.0        1.9         2.2  \n40  47.0   69.0        1.9         2.2  \n41  50.0   73.0        1.9         2.2  \n42  81.0   99.0        1.9         2.2  \n43  69.0   96.0        1.9         2.2  \n44  50.0   71.0        1.9         2.2  \n45  50.0   71.0        1.9         2.2  \n46  44.0   68.0        1.9         2.2  \n47  57.0   80.0        1.9         2.2  \n48  47.0   69.0        1.9         2.2  \n49  50.0   73.0        1.9         2.2  ",
      "text/html": "<div>\n<style scoped>\n    .dataframe tbody tr th:only-of-type {\n        vertical-align: middle;\n    }\n\n    .dataframe tbody tr th {\n        vertical-align: top;\n    }\n\n    .dataframe thead th {\n        text-align: right;\n    }\n</style>\n<table border=\"1\" class=\"dataframe\">\n  <thead>\n    <tr style=\"text-align: right;\">\n      <th></th>\n      <th>stay_id</th>\n      <th>dose_b_time</th>\n      <th>timestep_float</th>\n      <th>has_icd</th>\n      <th>heart_rate</th>\n      <th>sbp</th>\n      <th>dbp</th>\n      <th>mbp</th>\n      <th>uric acid</th>\n      <th>creatinine</th>\n    </tr>\n  </thead>\n  <tbody>\n    <tr>\n      <th>0</th>\n      <td>30004144</td>\n      <td>2126-04-04 18:43:00</td>\n      <td>1020.0</td>\n      <td>True</td>\n      <td>81.0</td>\n      <td>115.0</td>\n      <td>56.0</td>\n      <td>74.0</td>\n      <td>1.1</td>\n      <td>1.3</td>\n    </tr>\n    <tr>\n      <th>1</th>\n      <td>30004144</td>\n      <td>2126-04-04 18:43:00</td>\n      <td>4620.0</td>\n      <td>True</td>\n      <td>111.0</td>\n      <td>120.0</td>\n      <td>60.0</td>\n      <td>79.0</td>\n      <td>1.1</td>\n      <td>1.3</td>\n    </tr>\n    <tr>\n      <th>2</th>\n      <td>30004144</td>\n      <td>2126-04-04 18:43:00</td>\n      <td>8220.0</td>\n      <td>True</td>\n      <td>100.0</td>\n      <td>126.0</td>\n      <td>58.0</td>\n      <td>80.0</td>\n      <td>1.1</td>\n      <td>1.3</td>\n    </tr>\n    <tr>\n      <th>3</th>\n      <td>30004144</td>\n      <td>2126-04-04 18:43:00</td>\n      <td>11820.0</td>\n      <td>True</td>\n      <td>91.0</td>\n      <td>114.0</td>\n      <td>55.0</td>\n      <td>73.0</td>\n      <td>1.1</td>\n      <td>1.3</td>\n    </tr>\n    <tr>\n      <th>4</th>\n      <td>30004144</td>\n      <td>2126-04-04 18:43:00</td>\n      <td>15420.0</td>\n      <td>True</td>\n      <td>93.0</td>\n      <td>122.0</td>\n      <td>58.0</td>\n      <td>78.0</td>\n      <td>1.1</td>\n      <td>1.3</td>\n    </tr>\n    <tr>\n      <th>5</th>\n      <td>30004144</td>\n      <td>2126-04-04 18:43:00</td>\n      <td>18120.0</td>\n      <td>True</td>\n      <td>73.0</td>\n      <td>123.0</td>\n      <td>51.0</td>\n      <td>72.0</td>\n      <td>1.1</td>\n      <td>1.3</td>\n    </tr>\n    <tr>\n      <th>6</th>\n      <td>30004144</td>\n      <td>2126-04-04 18:43:00</td>\n      <td>19020.0</td>\n      <td>True</td>\n      <td>71.0</td>\n      <td>96.0</td>\n      <td>42.0</td>\n      <td>57.0</td>\n      <td>1.1</td>\n      <td>1.3</td>\n    </tr>\n    <tr>\n      <th>7</th>\n      <td>30004144</td>\n      <td>2126-04-04 18:43:00</td>\n      <td>19920.0</td>\n      <td>True</td>\n      <td>70.0</td>\n      <td>95.0</td>\n      <td>43.0</td>\n      <td>58.0</td>\n      <td>1.1</td>\n      <td>1.3</td>\n    </tr>\n    <tr>\n      <th>8</th>\n      <td>30004144</td>\n      <td>2126-04-04 18:43:00</td>\n      <td>20820.0</td>\n      <td>True</td>\n      <td>71.0</td>\n      <td>99.0</td>\n      <td>45.0</td>\n      <td>60.0</td>\n      <td>1.1</td>\n      <td>1.3</td>\n    </tr>\n    <tr>\n      <th>9</th>\n      <td>30004144</td>\n      <td>2126-04-04 18:43:00</td>\n      <td>22620.0</td>\n      <td>True</td>\n      <td>75.0</td>\n      <td>115.0</td>\n      <td>50.0</td>\n      <td>68.0</td>\n      <td>1.1</td>\n      <td>1.3</td>\n    </tr>\n    <tr>\n      <th>10</th>\n      <td>30004144</td>\n      <td>2126-04-04 18:43:00</td>\n      <td>26220.0</td>\n      <td>True</td>\n      <td>74.0</td>\n      <td>138.0</td>\n      <td>56.0</td>\n      <td>82.0</td>\n      <td>1.1</td>\n      <td>1.3</td>\n    </tr>\n    <tr>\n      <th>11</th>\n      <td>30004144</td>\n      <td>2126-04-04 18:43:00</td>\n      <td>29820.0</td>\n      <td>True</td>\n      <td>68.0</td>\n      <td>114.0</td>\n      <td>46.0</td>\n      <td>65.0</td>\n      <td>1.1</td>\n      <td>1.3</td>\n    </tr>\n    <tr>\n      <th>12</th>\n      <td>30004144</td>\n      <td>2126-04-04 18:43:00</td>\n      <td>33420.0</td>\n      <td>True</td>\n      <td>69.0</td>\n      <td>128.0</td>\n      <td>50.0</td>\n      <td>73.0</td>\n      <td>1.1</td>\n      <td>1.3</td>\n    </tr>\n    <tr>\n      <th>13</th>\n      <td>30004144</td>\n      <td>2126-04-04 18:43:00</td>\n      <td>37020.0</td>\n      <td>True</td>\n      <td>61.0</td>\n      <td>114.0</td>\n      <td>42.0</td>\n      <td>60.0</td>\n      <td>1.1</td>\n      <td>1.3</td>\n    </tr>\n    <tr>\n      <th>14</th>\n      <td>30004144</td>\n      <td>2126-04-04 18:43:00</td>\n      <td>40620.0</td>\n      <td>True</td>\n      <td>74.0</td>\n      <td>139.0</td>\n      <td>57.0</td>\n      <td>82.0</td>\n      <td>1.1</td>\n      <td>1.3</td>\n    </tr>\n    <tr>\n      <th>15</th>\n      <td>30004144</td>\n      <td>2126-04-04 18:43:00</td>\n      <td>40800.0</td>\n      <td>True</td>\n      <td>74.0</td>\n      <td>95.0</td>\n      <td>43.0</td>\n      <td>58.0</td>\n      <td>1.1</td>\n      <td>1.3</td>\n    </tr>\n    <tr>\n      <th>16</th>\n      <td>30004144</td>\n      <td>2126-04-04 19:40:00</td>\n      <td>1200.0</td>\n      <td>True</td>\n      <td>111.0</td>\n      <td>120.0</td>\n      <td>60.0</td>\n      <td>79.0</td>\n      <td>1.1</td>\n      <td>2.2</td>\n    </tr>\n    <tr>\n      <th>17</th>\n      <td>30004144</td>\n      <td>2126-04-04 19:40:00</td>\n      <td>4800.0</td>\n      <td>True</td>\n      <td>100.0</td>\n      <td>126.0</td>\n      <td>58.0</td>\n      <td>80.0</td>\n      <td>1.1</td>\n      <td>2.2</td>\n    </tr>\n    <tr>\n      <th>18</th>\n      <td>30004144</td>\n      <td>2126-04-04 19:40:00</td>\n      <td>8400.0</td>\n      <td>True</td>\n      <td>91.0</td>\n      <td>114.0</td>\n      <td>55.0</td>\n      <td>73.0</td>\n      <td>1.1</td>\n      <td>2.2</td>\n    </tr>\n    <tr>\n      <th>19</th>\n      <td>30004144</td>\n      <td>2126-04-04 19:40:00</td>\n      <td>12000.0</td>\n      <td>True</td>\n      <td>93.0</td>\n      <td>122.0</td>\n      <td>58.0</td>\n      <td>78.0</td>\n      <td>1.1</td>\n      <td>2.2</td>\n    </tr>\n    <tr>\n      <th>20</th>\n      <td>30004144</td>\n      <td>2126-04-04 19:40:00</td>\n      <td>14700.0</td>\n      <td>True</td>\n      <td>73.0</td>\n      <td>123.0</td>\n      <td>51.0</td>\n      <td>72.0</td>\n      <td>1.1</td>\n      <td>2.2</td>\n    </tr>\n    <tr>\n      <th>21</th>\n      <td>30004144</td>\n      <td>2126-04-04 19:40:00</td>\n      <td>15600.0</td>\n      <td>True</td>\n      <td>71.0</td>\n      <td>96.0</td>\n      <td>42.0</td>\n      <td>57.0</td>\n      <td>1.1</td>\n      <td>2.2</td>\n    </tr>\n    <tr>\n      <th>22</th>\n      <td>30004144</td>\n      <td>2126-04-04 19:40:00</td>\n      <td>16500.0</td>\n      <td>True</td>\n      <td>70.0</td>\n      <td>95.0</td>\n      <td>43.0</td>\n      <td>58.0</td>\n      <td>1.1</td>\n      <td>2.2</td>\n    </tr>\n    <tr>\n      <th>23</th>\n      <td>30004144</td>\n      <td>2126-04-04 19:40:00</td>\n      <td>17400.0</td>\n      <td>True</td>\n      <td>71.0</td>\n      <td>99.0</td>\n      <td>45.0</td>\n      <td>60.0</td>\n      <td>1.1</td>\n      <td>2.2</td>\n    </tr>\n    <tr>\n      <th>24</th>\n      <td>30004144</td>\n      <td>2126-04-04 19:40:00</td>\n      <td>19200.0</td>\n      <td>True</td>\n      <td>75.0</td>\n      <td>115.0</td>\n      <td>50.0</td>\n      <td>68.0</td>\n      <td>1.1</td>\n      <td>2.2</td>\n    </tr>\n    <tr>\n      <th>25</th>\n      <td>30004144</td>\n      <td>2126-04-04 19:40:00</td>\n      <td>22800.0</td>\n      <td>True</td>\n      <td>74.0</td>\n      <td>138.0</td>\n      <td>56.0</td>\n      <td>82.0</td>\n      <td>1.1</td>\n      <td>2.2</td>\n    </tr>\n    <tr>\n      <th>26</th>\n      <td>30004144</td>\n      <td>2126-04-04 19:40:00</td>\n      <td>26400.0</td>\n      <td>True</td>\n      <td>68.0</td>\n      <td>114.0</td>\n      <td>46.0</td>\n      <td>65.0</td>\n      <td>1.1</td>\n      <td>2.2</td>\n    </tr>\n    <tr>\n      <th>27</th>\n      <td>30004144</td>\n      <td>2126-04-04 19:40:00</td>\n      <td>30000.0</td>\n      <td>True</td>\n      <td>69.0</td>\n      <td>128.0</td>\n      <td>50.0</td>\n      <td>73.0</td>\n      <td>1.1</td>\n      <td>2.2</td>\n    </tr>\n    <tr>\n      <th>28</th>\n      <td>30004144</td>\n      <td>2126-04-04 19:40:00</td>\n      <td>33600.0</td>\n      <td>True</td>\n      <td>61.0</td>\n      <td>114.0</td>\n      <td>42.0</td>\n      <td>60.0</td>\n      <td>1.1</td>\n      <td>2.2</td>\n    </tr>\n    <tr>\n      <th>29</th>\n      <td>30004144</td>\n      <td>2126-04-04 19:40:00</td>\n      <td>37200.0</td>\n      <td>True</td>\n      <td>74.0</td>\n      <td>139.0</td>\n      <td>57.0</td>\n      <td>82.0</td>\n      <td>1.1</td>\n      <td>2.2</td>\n    </tr>\n    <tr>\n      <th>30</th>\n      <td>30004144</td>\n      <td>2126-04-04 19:40:00</td>\n      <td>37380.0</td>\n      <td>True</td>\n      <td>74.0</td>\n      <td>126.0</td>\n      <td>58.0</td>\n      <td>80.0</td>\n      <td>1.1</td>\n      <td>2.2</td>\n    </tr>\n    <tr>\n      <th>31</th>\n      <td>30004144</td>\n      <td>2126-04-04 19:40:00</td>\n      <td>40800.0</td>\n      <td>True</td>\n      <td>83.0</td>\n      <td>161.0</td>\n      <td>63.0</td>\n      <td>94.0</td>\n      <td>1.1</td>\n      <td>2.2</td>\n    </tr>\n    <tr>\n      <th>32</th>\n      <td>30004144</td>\n      <td>2126-04-07 11:46:00</td>\n      <td>840.0</td>\n      <td>True</td>\n      <td>75.0</td>\n      <td>149.0</td>\n      <td>56.0</td>\n      <td>85.0</td>\n      <td>1.9</td>\n      <td>2.2</td>\n    </tr>\n    <tr>\n      <th>33</th>\n      <td>30004144</td>\n      <td>2126-04-07 11:46:00</td>\n      <td>4440.0</td>\n      <td>True</td>\n      <td>80.0</td>\n      <td>155.0</td>\n      <td>61.0</td>\n      <td>91.0</td>\n      <td>1.9</td>\n      <td>2.2</td>\n    </tr>\n    <tr>\n      <th>34</th>\n      <td>30004144</td>\n      <td>2126-04-07 11:46:00</td>\n      <td>8040.0</td>\n      <td>True</td>\n      <td>60.0</td>\n      <td>135.0</td>\n      <td>57.0</td>\n      <td>80.0</td>\n      <td>1.9</td>\n      <td>2.2</td>\n    </tr>\n    <tr>\n      <th>35</th>\n      <td>30004144</td>\n      <td>2126-04-07 11:46:00</td>\n      <td>11640.0</td>\n      <td>True</td>\n      <td>76.0</td>\n      <td>160.0</td>\n      <td>71.0</td>\n      <td>100.0</td>\n      <td>1.9</td>\n      <td>2.2</td>\n    </tr>\n    <tr>\n      <th>36</th>\n      <td>30004144</td>\n      <td>2126-04-07 11:46:00</td>\n      <td>15240.0</td>\n      <td>True</td>\n      <td>64.0</td>\n      <td>148.0</td>\n      <td>66.0</td>\n      <td>92.0</td>\n      <td>1.9</td>\n      <td>2.2</td>\n    </tr>\n    <tr>\n      <th>37</th>\n      <td>30004144</td>\n      <td>2126-04-07 11:46:00</td>\n      <td>18840.0</td>\n      <td>True</td>\n      <td>68.0</td>\n      <td>153.0</td>\n      <td>69.0</td>\n      <td>96.0</td>\n      <td>1.9</td>\n      <td>2.2</td>\n    </tr>\n    <tr>\n      <th>38</th>\n      <td>30004144</td>\n      <td>2126-04-07 11:46:00</td>\n      <td>19680.0</td>\n      <td>True</td>\n      <td>70.0</td>\n      <td>137.0</td>\n      <td>51.0</td>\n      <td>72.0</td>\n      <td>1.9</td>\n      <td>2.2</td>\n    </tr>\n    <tr>\n      <th>39</th>\n      <td>30004144</td>\n      <td>2126-04-07 11:46:00</td>\n      <td>22440.0</td>\n      <td>True</td>\n      <td>71.0</td>\n      <td>153.0</td>\n      <td>69.0</td>\n      <td>96.0</td>\n      <td>1.9</td>\n      <td>2.2</td>\n    </tr>\n    <tr>\n      <th>40</th>\n      <td>30004144</td>\n      <td>2126-04-07 11:46:00</td>\n      <td>23520.0</td>\n      <td>True</td>\n      <td>70.0</td>\n      <td>132.0</td>\n      <td>47.0</td>\n      <td>69.0</td>\n      <td>1.9</td>\n      <td>2.2</td>\n    </tr>\n    <tr>\n      <th>41</th>\n      <td>30004144</td>\n      <td>2126-04-07 11:46:00</td>\n      <td>26040.0</td>\n      <td>True</td>\n      <td>63.0</td>\n      <td>144.0</td>\n      <td>50.0</td>\n      <td>73.0</td>\n      <td>1.9</td>\n      <td>2.2</td>\n    </tr>\n    <tr>\n      <th>42</th>\n      <td>30004144</td>\n      <td>2126-04-07 11:46:00</td>\n      <td>29640.0</td>\n      <td>True</td>\n      <td>70.0</td>\n      <td>154.0</td>\n      <td>81.0</td>\n      <td>99.0</td>\n      <td>1.9</td>\n      <td>2.2</td>\n    </tr>\n    <tr>\n      <th>43</th>\n      <td>30004144</td>\n      <td>2126-04-07 11:46:00</td>\n      <td>31260.0</td>\n      <td>True</td>\n      <td>65.0</td>\n      <td>153.0</td>\n      <td>69.0</td>\n      <td>96.0</td>\n      <td>1.9</td>\n      <td>2.2</td>\n    </tr>\n    <tr>\n      <th>44</th>\n      <td>30004144</td>\n      <td>2126-04-07 11:46:00</td>\n      <td>33240.0</td>\n      <td>True</td>\n      <td>62.0</td>\n      <td>129.0</td>\n      <td>50.0</td>\n      <td>71.0</td>\n      <td>1.9</td>\n      <td>2.2</td>\n    </tr>\n    <tr>\n      <th>45</th>\n      <td>30004144</td>\n      <td>2126-04-07 11:46:00</td>\n      <td>33840.0</td>\n      <td>True</td>\n      <td>60.0</td>\n      <td>129.0</td>\n      <td>50.0</td>\n      <td>71.0</td>\n      <td>1.9</td>\n      <td>2.2</td>\n    </tr>\n    <tr>\n      <th>46</th>\n      <td>30004144</td>\n      <td>2126-04-07 11:46:00</td>\n      <td>36840.0</td>\n      <td>True</td>\n      <td>60.0</td>\n      <td>132.0</td>\n      <td>44.0</td>\n      <td>68.0</td>\n      <td>1.9</td>\n      <td>2.2</td>\n    </tr>\n    <tr>\n      <th>47</th>\n      <td>30004144</td>\n      <td>2126-04-07 11:46:00</td>\n      <td>37440.0</td>\n      <td>True</td>\n      <td>60.0</td>\n      <td>135.0</td>\n      <td>57.0</td>\n      <td>80.0</td>\n      <td>1.9</td>\n      <td>2.2</td>\n    </tr>\n    <tr>\n      <th>48</th>\n      <td>30004144</td>\n      <td>2126-04-07 11:46:00</td>\n      <td>40440.0</td>\n      <td>True</td>\n      <td>60.0</td>\n      <td>132.0</td>\n      <td>47.0</td>\n      <td>69.0</td>\n      <td>1.9</td>\n      <td>2.2</td>\n    </tr>\n    <tr>\n      <th>49</th>\n      <td>30004144</td>\n      <td>2126-04-07 11:46:00</td>\n      <td>40860.0</td>\n      <td>True</td>\n      <td>60.0</td>\n      <td>144.0</td>\n      <td>50.0</td>\n      <td>73.0</td>\n      <td>1.9</td>\n      <td>2.2</td>\n    </tr>\n  </tbody>\n</table>\n</div>"
     },
     "execution_count": 254,
     "metadata": {},
     "output_type": "execute_result"
    }
   ],
   "source": [
    "import pandas as pd\n",
    "\n",
    "print(df.dtypes)\n",
    "# df = df.reset_index()\n",
    "df.set_index('charttime', inplace=True)\n",
    "\n",
    "def interpolate_group(group):\n",
    "    if group.name in data_arrays:\n",
    "        # Perform interpolation for the group\n",
    "        group = group.interpolate(method='time')\n",
    "\n",
    "    return group\n",
    "\n",
    "# Apply the interpolation function to each group\n",
    "df = df.apply(interpolate_group).reset_index()\n",
    "\n",
    "grouped_df = df[[\"stay_id\", \"dose_b_time\", \"timestep_float\",\"has_icd\"]+data_arrays]\n",
    "print(df.dtypes)\n",
    "print(grouped_df.dtypes)\n",
    "\n",
    "print(grouped_df.shape)\n",
    "grouped_df.head(50)"
   ],
   "metadata": {
    "collapsed": false,
    "ExecuteTime": {
     "end_time": "2023-10-27T12:08:45.669261500Z",
     "start_time": "2023-10-27T12:08:45.540878300Z"
    }
   },
   "id": "973f50807e404908"
  },
  {
   "cell_type": "markdown",
   "source": [
    "# Remove outliers"
   ],
   "metadata": {
    "collapsed": false
   },
   "id": "2f573370ebcbbac0"
  },
  {
   "cell_type": "code",
   "execution_count": 255,
   "outputs": [
    {
     "name": "stdout",
     "output_type": "stream",
     "text": [
      "           val\n",
      "count  10188.0\n",
      "mean       2.0\n",
      "std        0.0\n",
      "min        2.0\n",
      "1%         2.0\n",
      "2.5%       2.0\n",
      "25%        2.0\n",
      "50%        2.0\n",
      "75%        2.0\n",
      "97.5%      2.0\n",
      "99%        2.0\n",
      "99.9%      2.0\n",
      "max        2.0\n",
      "stay_id                   int64\n",
      "dose_b_time       datetime64[s]\n",
      "timestep_float          float64\n",
      "has_icd                    bool\n",
      "heart_rate              float64\n",
      "sbp                     float64\n",
      "dbp                     float64\n",
      "mbp                     float64\n",
      "uric acid               float64\n",
      "creatinine              float64\n",
      "dtype: object\n",
      "['heart_rate', 'sbp', 'dbp', 'mbp', 'uric acid', 'creatinine', 'timestep_float']\n",
      "['heart_rate', 'sbp', 'dbp', 'mbp', 'uric acid', 'creatinine']\n",
      "2\n",
      "stay_id                   int64\n",
      "dose_b_time       datetime64[s]\n",
      "timestep_float          float64\n",
      "has_icd                    bool\n",
      "heart_rate              float64\n",
      "sbp                     float64\n",
      "dbp                     float64\n",
      "mbp                     float64\n",
      "uric acid               float64\n",
      "creatinine              float64\n",
      "dtype: object\n"
     ]
    },
    {
     "data": {
      "text/plain": "         stay_id         dose_b_time  timestep_float  has_icd  heart_rate  \\\n0       30004144 2126-04-04 18:43:00          1020.0     True        81.0   \n1       30004144 2126-04-04 18:43:00          4620.0     True       111.0   \n2       30004144 2126-04-04 18:43:00          8220.0     True       100.0   \n3       30004144 2126-04-04 18:43:00         11820.0     True        91.0   \n4       30004144 2126-04-04 18:43:00         15420.0     True        93.0   \n...          ...                 ...             ...      ...         ...   \n185557  39987478 2173-03-30 19:56:00         32640.0    False        99.0   \n185558  39987478 2173-03-30 19:56:00         33120.0    False        90.0   \n185559  39987478 2173-03-30 19:56:00         36240.0    False        92.0   \n185560  39987478 2173-03-30 19:56:00         39840.0    False        86.0   \n185561  39987478 2173-03-30 19:56:00         40860.0    False        90.0   \n\n          sbp   dbp   mbp  uric acid  creatinine  \n0       115.0  56.0  74.0        1.1         1.3  \n1       120.0  60.0  79.0        1.1         1.3  \n2       126.0  58.0  80.0        1.1         1.3  \n3       114.0  55.0  73.0        1.1         1.3  \n4       122.0  58.0  78.0        1.1         1.3  \n...       ...   ...   ...        ...         ...  \n185557   99.0  49.0  74.0        1.1         1.3  \n185558  110.0  53.0  74.0        1.1         1.3  \n185559  104.0  47.0  68.0        1.1         1.3  \n185560   99.0  49.0  68.0        1.1         1.3  \n185561   92.0  53.0  65.0        1.1         1.3  \n\n[184803 rows x 10 columns]",
      "text/html": "<div>\n<style scoped>\n    .dataframe tbody tr th:only-of-type {\n        vertical-align: middle;\n    }\n\n    .dataframe tbody tr th {\n        vertical-align: top;\n    }\n\n    .dataframe thead th {\n        text-align: right;\n    }\n</style>\n<table border=\"1\" class=\"dataframe\">\n  <thead>\n    <tr style=\"text-align: right;\">\n      <th></th>\n      <th>stay_id</th>\n      <th>dose_b_time</th>\n      <th>timestep_float</th>\n      <th>has_icd</th>\n      <th>heart_rate</th>\n      <th>sbp</th>\n      <th>dbp</th>\n      <th>mbp</th>\n      <th>uric acid</th>\n      <th>creatinine</th>\n    </tr>\n  </thead>\n  <tbody>\n    <tr>\n      <th>0</th>\n      <td>30004144</td>\n      <td>2126-04-04 18:43:00</td>\n      <td>1020.0</td>\n      <td>True</td>\n      <td>81.0</td>\n      <td>115.0</td>\n      <td>56.0</td>\n      <td>74.0</td>\n      <td>1.1</td>\n      <td>1.3</td>\n    </tr>\n    <tr>\n      <th>1</th>\n      <td>30004144</td>\n      <td>2126-04-04 18:43:00</td>\n      <td>4620.0</td>\n      <td>True</td>\n      <td>111.0</td>\n      <td>120.0</td>\n      <td>60.0</td>\n      <td>79.0</td>\n      <td>1.1</td>\n      <td>1.3</td>\n    </tr>\n    <tr>\n      <th>2</th>\n      <td>30004144</td>\n      <td>2126-04-04 18:43:00</td>\n      <td>8220.0</td>\n      <td>True</td>\n      <td>100.0</td>\n      <td>126.0</td>\n      <td>58.0</td>\n      <td>80.0</td>\n      <td>1.1</td>\n      <td>1.3</td>\n    </tr>\n    <tr>\n      <th>3</th>\n      <td>30004144</td>\n      <td>2126-04-04 18:43:00</td>\n      <td>11820.0</td>\n      <td>True</td>\n      <td>91.0</td>\n      <td>114.0</td>\n      <td>55.0</td>\n      <td>73.0</td>\n      <td>1.1</td>\n      <td>1.3</td>\n    </tr>\n    <tr>\n      <th>4</th>\n      <td>30004144</td>\n      <td>2126-04-04 18:43:00</td>\n      <td>15420.0</td>\n      <td>True</td>\n      <td>93.0</td>\n      <td>122.0</td>\n      <td>58.0</td>\n      <td>78.0</td>\n      <td>1.1</td>\n      <td>1.3</td>\n    </tr>\n    <tr>\n      <th>...</th>\n      <td>...</td>\n      <td>...</td>\n      <td>...</td>\n      <td>...</td>\n      <td>...</td>\n      <td>...</td>\n      <td>...</td>\n      <td>...</td>\n      <td>...</td>\n      <td>...</td>\n    </tr>\n    <tr>\n      <th>185557</th>\n      <td>39987478</td>\n      <td>2173-03-30 19:56:00</td>\n      <td>32640.0</td>\n      <td>False</td>\n      <td>99.0</td>\n      <td>99.0</td>\n      <td>49.0</td>\n      <td>74.0</td>\n      <td>1.1</td>\n      <td>1.3</td>\n    </tr>\n    <tr>\n      <th>185558</th>\n      <td>39987478</td>\n      <td>2173-03-30 19:56:00</td>\n      <td>33120.0</td>\n      <td>False</td>\n      <td>90.0</td>\n      <td>110.0</td>\n      <td>53.0</td>\n      <td>74.0</td>\n      <td>1.1</td>\n      <td>1.3</td>\n    </tr>\n    <tr>\n      <th>185559</th>\n      <td>39987478</td>\n      <td>2173-03-30 19:56:00</td>\n      <td>36240.0</td>\n      <td>False</td>\n      <td>92.0</td>\n      <td>104.0</td>\n      <td>47.0</td>\n      <td>68.0</td>\n      <td>1.1</td>\n      <td>1.3</td>\n    </tr>\n    <tr>\n      <th>185560</th>\n      <td>39987478</td>\n      <td>2173-03-30 19:56:00</td>\n      <td>39840.0</td>\n      <td>False</td>\n      <td>86.0</td>\n      <td>99.0</td>\n      <td>49.0</td>\n      <td>68.0</td>\n      <td>1.1</td>\n      <td>1.3</td>\n    </tr>\n    <tr>\n      <th>185561</th>\n      <td>39987478</td>\n      <td>2173-03-30 19:56:00</td>\n      <td>40860.0</td>\n      <td>False</td>\n      <td>90.0</td>\n      <td>92.0</td>\n      <td>53.0</td>\n      <td>65.0</td>\n      <td>1.1</td>\n      <td>1.3</td>\n    </tr>\n  </tbody>\n</table>\n<p>184803 rows × 10 columns</p>\n</div>"
     },
     "execution_count": 255,
     "metadata": {},
     "output_type": "execute_result"
    }
   ],
   "source": [
    "# reduce the size of the data arrays to the p999 to get rid of the extreme outliers\n",
    "length = pd.DataFrame()\n",
    "length[\"val\"] = [len(array) for array in grouped_df.groupby([\"stay_id\", \"dose_b_time\"])[\"mbp\"]]\n",
    "print(length.describe(percentiles=[0.01, 0.025, 0.25, 0.5, 0.75, 0.975, 0.99, 0.999]))\n",
    "print(grouped_df.dtypes)\n",
    "max_size = 90  # p999\n",
    "\n",
    "data_array_with_time = data_arrays.copy()\n",
    "data_array_with_time.append(\"timestep_float\")\n",
    "print(data_array_with_time)\n",
    "print(data_arrays)\n",
    "\n",
    "def resize(s):\n",
    "    s.head(max_size)\n",
    "\n",
    "\n",
    "grouped_df = grouped_df.groupby([\"stay_id\", \"dose_b_time\"]).head(max_size)\n",
    "\n",
    "max_sequence_length = max(len(array) for array in grouped_df.groupby([\"stay_id\", \"dose_b_time\"])[\"sbp\"])\n",
    "print(max_sequence_length)\n",
    "print(grouped_df.dtypes)\n",
    "grouped_df"
   ],
   "metadata": {
    "collapsed": false,
    "ExecuteTime": {
     "end_time": "2023-10-27T12:08:46.231693Z",
     "start_time": "2023-10-27T12:08:45.616107Z"
    }
   },
   "id": "7577b32922b217c7"
  },
  {
   "cell_type": "markdown",
   "source": [
    "# Unify timesteps\n",
    "The time measurement data varies per dosage, this step aligns all the time steps to 10 minute intervals, and interpolates between our \n",
    "existing time measures to produce 12 hours of 10 minute timestaps "
   ],
   "metadata": {
    "collapsed": false
   },
   "id": "7d458e55c120a81b"
  },
  {
   "cell_type": "code",
   "execution_count": 256,
   "outputs": [
    {
     "name": "stdout",
     "output_type": "stream",
     "text": [
      "                                          intr-heart_rate  intr-sbp  intr-dbp  \\\n",
      "stay_id  has_icd dose_b_time                                                    \n",
      "30004144 True    2126-04-04 18:43:00 0               81.0     115.0      56.0   \n",
      "                                     1               81.0     115.0      56.0   \n",
      "                                     2               81.0     115.0      56.0   \n",
      "                                     3               81.0     115.0      56.0   \n",
      "                                     4               81.0     115.0      56.0   \n",
      "...                                                   ...       ...       ...   \n",
      "39987478 False   2173-03-30 19:56:00 211             98.0     122.0      57.0   \n",
      "                                     212             98.0     122.0      57.0   \n",
      "                                     213             98.0     122.0      57.0   \n",
      "                                     214             98.0     122.0      57.0   \n",
      "                                     215             98.0     122.0      57.0   \n",
      "\n",
      "                                          intr-mbp  intr-uric acid  \\\n",
      "stay_id  has_icd dose_b_time                                         \n",
      "30004144 True    2126-04-04 18:43:00 0        74.0             1.1   \n",
      "                                     1        74.0             1.1   \n",
      "                                     2        74.0             1.1   \n",
      "                                     3        74.0             1.1   \n",
      "                                     4        74.0             1.1   \n",
      "...                                            ...             ...   \n",
      "39987478 False   2173-03-30 19:56:00 211      81.0             1.1   \n",
      "                                     212      81.0             1.1   \n",
      "                                     213      81.0             1.1   \n",
      "                                     214      81.0             1.1   \n",
      "                                     215      81.0             1.1   \n",
      "\n",
      "                                          intr-creatinine  common_timestep  \n",
      "stay_id  has_icd dose_b_time                                                \n",
      "30004144 True    2126-04-04 18:43:00 0                1.3             -720  \n",
      "                                     1                1.3             -710  \n",
      "                                     2                1.3             -700  \n",
      "                                     3                1.3             -690  \n",
      "                                     4                1.3             -680  \n",
      "...                                                   ...              ...  \n",
      "39987478 False   2173-03-30 19:56:00 211              1.3             1390  \n",
      "                                     212              1.3             1400  \n",
      "                                     213              1.3             1410  \n",
      "                                     214              1.3             1420  \n",
      "                                     215              1.3             1430  \n",
      "\n",
      "[2200608 rows x 7 columns]\n",
      "stay_id                   int64\n",
      "dose_b_time       datetime64[s]\n",
      "timestep_float          float64\n",
      "has_icd                    bool\n",
      "heart_rate              float64\n",
      "sbp                     float64\n",
      "dbp                     float64\n",
      "mbp                     float64\n",
      "uric acid               float64\n",
      "creatinine              float64\n",
      "dtype: object\n"
     ]
    },
    {
     "data": {
      "text/plain": "                                         intr-heart_rate  intr-sbp  intr-dbp  \\\nstay_id  has_icd dose_b_time                                                   \n30004144 True    2126-04-04 18:43:00 0              81.0     115.0      56.0   \n                                     1              81.0     115.0      56.0   \n                                     2              81.0     115.0      56.0   \n                                     3              81.0     115.0      56.0   \n                                     4              81.0     115.0      56.0   \n                                     5              81.0     115.0      56.0   \n                                     6              81.0     115.0      56.0   \n                                     7              81.0     115.0      56.0   \n                                     8              81.0     115.0      56.0   \n                                     9              81.0     115.0      56.0   \n                                     10             81.0     115.0      56.0   \n                                     11             81.0     115.0      56.0   \n                                     12             81.0     115.0      56.0   \n                                     13             81.0     115.0      56.0   \n                                     14             81.0     115.0      56.0   \n                                     15             81.0     115.0      56.0   \n                                     16             81.0     115.0      56.0   \n                                     17             81.0     115.0      56.0   \n                                     18             81.0     115.0      56.0   \n                                     19             81.0     115.0      56.0   \n                                     20             81.0     115.0      56.0   \n                                     21             81.0     115.0      56.0   \n                                     22             81.0     115.0      56.0   \n                                     23             81.0     115.0      56.0   \n                                     24             81.0     115.0      56.0   \n                                     25             81.0     115.0      56.0   \n                                     26             81.0     115.0      56.0   \n                                     27             81.0     115.0      56.0   \n                                     28             81.0     115.0      56.0   \n                                     29             81.0     115.0      56.0   \n                                     30             81.0     115.0      56.0   \n                                     31             81.0     115.0      56.0   \n                                     32             81.0     115.0      56.0   \n                                     33             81.0     115.0      56.0   \n                                     34             81.0     115.0      56.0   \n                                     35             81.0     115.0      56.0   \n                                     36             81.0     115.0      56.0   \n                                     37             81.0     115.0      56.0   \n                                     38             81.0     115.0      56.0   \n                                     39             81.0     115.0      56.0   \n                                     40             81.0     115.0      56.0   \n                                     41             81.0     115.0      56.0   \n                                     42             81.0     115.0      56.0   \n                                     43             81.0     115.0      56.0   \n                                     44             81.0     115.0      56.0   \n                                     45             81.0     115.0      56.0   \n                                     46             81.0     115.0      56.0   \n                                     47             81.0     115.0      56.0   \n                                     48             81.0     115.0      56.0   \n                                     49             81.0     115.0      56.0   \n\n                                         intr-mbp  intr-uric acid  \\\nstay_id  has_icd dose_b_time                                        \n30004144 True    2126-04-04 18:43:00 0       74.0             1.1   \n                                     1       74.0             1.1   \n                                     2       74.0             1.1   \n                                     3       74.0             1.1   \n                                     4       74.0             1.1   \n                                     5       74.0             1.1   \n                                     6       74.0             1.1   \n                                     7       74.0             1.1   \n                                     8       74.0             1.1   \n                                     9       74.0             1.1   \n                                     10      74.0             1.1   \n                                     11      74.0             1.1   \n                                     12      74.0             1.1   \n                                     13      74.0             1.1   \n                                     14      74.0             1.1   \n                                     15      74.0             1.1   \n                                     16      74.0             1.1   \n                                     17      74.0             1.1   \n                                     18      74.0             1.1   \n                                     19      74.0             1.1   \n                                     20      74.0             1.1   \n                                     21      74.0             1.1   \n                                     22      74.0             1.1   \n                                     23      74.0             1.1   \n                                     24      74.0             1.1   \n                                     25      74.0             1.1   \n                                     26      74.0             1.1   \n                                     27      74.0             1.1   \n                                     28      74.0             1.1   \n                                     29      74.0             1.1   \n                                     30      74.0             1.1   \n                                     31      74.0             1.1   \n                                     32      74.0             1.1   \n                                     33      74.0             1.1   \n                                     34      74.0             1.1   \n                                     35      74.0             1.1   \n                                     36      74.0             1.1   \n                                     37      74.0             1.1   \n                                     38      74.0             1.1   \n                                     39      74.0             1.1   \n                                     40      74.0             1.1   \n                                     41      74.0             1.1   \n                                     42      74.0             1.1   \n                                     43      74.0             1.1   \n                                     44      74.0             1.1   \n                                     45      74.0             1.1   \n                                     46      74.0             1.1   \n                                     47      74.0             1.1   \n                                     48      74.0             1.1   \n                                     49      74.0             1.1   \n\n                                         intr-creatinine  common_timestep  \nstay_id  has_icd dose_b_time                                               \n30004144 True    2126-04-04 18:43:00 0               1.3             -720  \n                                     1               1.3             -710  \n                                     2               1.3             -700  \n                                     3               1.3             -690  \n                                     4               1.3             -680  \n                                     5               1.3             -670  \n                                     6               1.3             -660  \n                                     7               1.3             -650  \n                                     8               1.3             -640  \n                                     9               1.3             -630  \n                                     10              1.3             -620  \n                                     11              1.3             -610  \n                                     12              1.3             -600  \n                                     13              1.3             -590  \n                                     14              1.3             -580  \n                                     15              1.3             -570  \n                                     16              1.3             -560  \n                                     17              1.3             -550  \n                                     18              1.3             -540  \n                                     19              1.3             -530  \n                                     20              1.3             -520  \n                                     21              1.3             -510  \n                                     22              1.3             -500  \n                                     23              1.3             -490  \n                                     24              1.3             -480  \n                                     25              1.3             -470  \n                                     26              1.3             -460  \n                                     27              1.3             -450  \n                                     28              1.3             -440  \n                                     29              1.3             -430  \n                                     30              1.3             -420  \n                                     31              1.3             -410  \n                                     32              1.3             -400  \n                                     33              1.3             -390  \n                                     34              1.3             -380  \n                                     35              1.3             -370  \n                                     36              1.3             -360  \n                                     37              1.3             -350  \n                                     38              1.3             -340  \n                                     39              1.3             -330  \n                                     40              1.3             -320  \n                                     41              1.3             -310  \n                                     42              1.3             -300  \n                                     43              1.3             -290  \n                                     44              1.3             -280  \n                                     45              1.3             -270  \n                                     46              1.3             -260  \n                                     47              1.3             -250  \n                                     48              1.3             -240  \n                                     49              1.3             -230  ",
      "text/html": "<div>\n<style scoped>\n    .dataframe tbody tr th:only-of-type {\n        vertical-align: middle;\n    }\n\n    .dataframe tbody tr th {\n        vertical-align: top;\n    }\n\n    .dataframe thead th {\n        text-align: right;\n    }\n</style>\n<table border=\"1\" class=\"dataframe\">\n  <thead>\n    <tr style=\"text-align: right;\">\n      <th></th>\n      <th></th>\n      <th></th>\n      <th></th>\n      <th>intr-heart_rate</th>\n      <th>intr-sbp</th>\n      <th>intr-dbp</th>\n      <th>intr-mbp</th>\n      <th>intr-uric acid</th>\n      <th>intr-creatinine</th>\n      <th>common_timestep</th>\n    </tr>\n    <tr>\n      <th>stay_id</th>\n      <th>has_icd</th>\n      <th>dose_b_time</th>\n      <th></th>\n      <th></th>\n      <th></th>\n      <th></th>\n      <th></th>\n      <th></th>\n      <th></th>\n      <th></th>\n    </tr>\n  </thead>\n  <tbody>\n    <tr>\n      <th rowspan=\"50\" valign=\"top\">30004144</th>\n      <th rowspan=\"50\" valign=\"top\">True</th>\n      <th rowspan=\"50\" valign=\"top\">2126-04-04 18:43:00</th>\n      <th>0</th>\n      <td>81.0</td>\n      <td>115.0</td>\n      <td>56.0</td>\n      <td>74.0</td>\n      <td>1.1</td>\n      <td>1.3</td>\n      <td>-720</td>\n    </tr>\n    <tr>\n      <th>1</th>\n      <td>81.0</td>\n      <td>115.0</td>\n      <td>56.0</td>\n      <td>74.0</td>\n      <td>1.1</td>\n      <td>1.3</td>\n      <td>-710</td>\n    </tr>\n    <tr>\n      <th>2</th>\n      <td>81.0</td>\n      <td>115.0</td>\n      <td>56.0</td>\n      <td>74.0</td>\n      <td>1.1</td>\n      <td>1.3</td>\n      <td>-700</td>\n    </tr>\n    <tr>\n      <th>3</th>\n      <td>81.0</td>\n      <td>115.0</td>\n      <td>56.0</td>\n      <td>74.0</td>\n      <td>1.1</td>\n      <td>1.3</td>\n      <td>-690</td>\n    </tr>\n    <tr>\n      <th>4</th>\n      <td>81.0</td>\n      <td>115.0</td>\n      <td>56.0</td>\n      <td>74.0</td>\n      <td>1.1</td>\n      <td>1.3</td>\n      <td>-680</td>\n    </tr>\n    <tr>\n      <th>5</th>\n      <td>81.0</td>\n      <td>115.0</td>\n      <td>56.0</td>\n      <td>74.0</td>\n      <td>1.1</td>\n      <td>1.3</td>\n      <td>-670</td>\n    </tr>\n    <tr>\n      <th>6</th>\n      <td>81.0</td>\n      <td>115.0</td>\n      <td>56.0</td>\n      <td>74.0</td>\n      <td>1.1</td>\n      <td>1.3</td>\n      <td>-660</td>\n    </tr>\n    <tr>\n      <th>7</th>\n      <td>81.0</td>\n      <td>115.0</td>\n      <td>56.0</td>\n      <td>74.0</td>\n      <td>1.1</td>\n      <td>1.3</td>\n      <td>-650</td>\n    </tr>\n    <tr>\n      <th>8</th>\n      <td>81.0</td>\n      <td>115.0</td>\n      <td>56.0</td>\n      <td>74.0</td>\n      <td>1.1</td>\n      <td>1.3</td>\n      <td>-640</td>\n    </tr>\n    <tr>\n      <th>9</th>\n      <td>81.0</td>\n      <td>115.0</td>\n      <td>56.0</td>\n      <td>74.0</td>\n      <td>1.1</td>\n      <td>1.3</td>\n      <td>-630</td>\n    </tr>\n    <tr>\n      <th>10</th>\n      <td>81.0</td>\n      <td>115.0</td>\n      <td>56.0</td>\n      <td>74.0</td>\n      <td>1.1</td>\n      <td>1.3</td>\n      <td>-620</td>\n    </tr>\n    <tr>\n      <th>11</th>\n      <td>81.0</td>\n      <td>115.0</td>\n      <td>56.0</td>\n      <td>74.0</td>\n      <td>1.1</td>\n      <td>1.3</td>\n      <td>-610</td>\n    </tr>\n    <tr>\n      <th>12</th>\n      <td>81.0</td>\n      <td>115.0</td>\n      <td>56.0</td>\n      <td>74.0</td>\n      <td>1.1</td>\n      <td>1.3</td>\n      <td>-600</td>\n    </tr>\n    <tr>\n      <th>13</th>\n      <td>81.0</td>\n      <td>115.0</td>\n      <td>56.0</td>\n      <td>74.0</td>\n      <td>1.1</td>\n      <td>1.3</td>\n      <td>-590</td>\n    </tr>\n    <tr>\n      <th>14</th>\n      <td>81.0</td>\n      <td>115.0</td>\n      <td>56.0</td>\n      <td>74.0</td>\n      <td>1.1</td>\n      <td>1.3</td>\n      <td>-580</td>\n    </tr>\n    <tr>\n      <th>15</th>\n      <td>81.0</td>\n      <td>115.0</td>\n      <td>56.0</td>\n      <td>74.0</td>\n      <td>1.1</td>\n      <td>1.3</td>\n      <td>-570</td>\n    </tr>\n    <tr>\n      <th>16</th>\n      <td>81.0</td>\n      <td>115.0</td>\n      <td>56.0</td>\n      <td>74.0</td>\n      <td>1.1</td>\n      <td>1.3</td>\n      <td>-560</td>\n    </tr>\n    <tr>\n      <th>17</th>\n      <td>81.0</td>\n      <td>115.0</td>\n      <td>56.0</td>\n      <td>74.0</td>\n      <td>1.1</td>\n      <td>1.3</td>\n      <td>-550</td>\n    </tr>\n    <tr>\n      <th>18</th>\n      <td>81.0</td>\n      <td>115.0</td>\n      <td>56.0</td>\n      <td>74.0</td>\n      <td>1.1</td>\n      <td>1.3</td>\n      <td>-540</td>\n    </tr>\n    <tr>\n      <th>19</th>\n      <td>81.0</td>\n      <td>115.0</td>\n      <td>56.0</td>\n      <td>74.0</td>\n      <td>1.1</td>\n      <td>1.3</td>\n      <td>-530</td>\n    </tr>\n    <tr>\n      <th>20</th>\n      <td>81.0</td>\n      <td>115.0</td>\n      <td>56.0</td>\n      <td>74.0</td>\n      <td>1.1</td>\n      <td>1.3</td>\n      <td>-520</td>\n    </tr>\n    <tr>\n      <th>21</th>\n      <td>81.0</td>\n      <td>115.0</td>\n      <td>56.0</td>\n      <td>74.0</td>\n      <td>1.1</td>\n      <td>1.3</td>\n      <td>-510</td>\n    </tr>\n    <tr>\n      <th>22</th>\n      <td>81.0</td>\n      <td>115.0</td>\n      <td>56.0</td>\n      <td>74.0</td>\n      <td>1.1</td>\n      <td>1.3</td>\n      <td>-500</td>\n    </tr>\n    <tr>\n      <th>23</th>\n      <td>81.0</td>\n      <td>115.0</td>\n      <td>56.0</td>\n      <td>74.0</td>\n      <td>1.1</td>\n      <td>1.3</td>\n      <td>-490</td>\n    </tr>\n    <tr>\n      <th>24</th>\n      <td>81.0</td>\n      <td>115.0</td>\n      <td>56.0</td>\n      <td>74.0</td>\n      <td>1.1</td>\n      <td>1.3</td>\n      <td>-480</td>\n    </tr>\n    <tr>\n      <th>25</th>\n      <td>81.0</td>\n      <td>115.0</td>\n      <td>56.0</td>\n      <td>74.0</td>\n      <td>1.1</td>\n      <td>1.3</td>\n      <td>-470</td>\n    </tr>\n    <tr>\n      <th>26</th>\n      <td>81.0</td>\n      <td>115.0</td>\n      <td>56.0</td>\n      <td>74.0</td>\n      <td>1.1</td>\n      <td>1.3</td>\n      <td>-460</td>\n    </tr>\n    <tr>\n      <th>27</th>\n      <td>81.0</td>\n      <td>115.0</td>\n      <td>56.0</td>\n      <td>74.0</td>\n      <td>1.1</td>\n      <td>1.3</td>\n      <td>-450</td>\n    </tr>\n    <tr>\n      <th>28</th>\n      <td>81.0</td>\n      <td>115.0</td>\n      <td>56.0</td>\n      <td>74.0</td>\n      <td>1.1</td>\n      <td>1.3</td>\n      <td>-440</td>\n    </tr>\n    <tr>\n      <th>29</th>\n      <td>81.0</td>\n      <td>115.0</td>\n      <td>56.0</td>\n      <td>74.0</td>\n      <td>1.1</td>\n      <td>1.3</td>\n      <td>-430</td>\n    </tr>\n    <tr>\n      <th>30</th>\n      <td>81.0</td>\n      <td>115.0</td>\n      <td>56.0</td>\n      <td>74.0</td>\n      <td>1.1</td>\n      <td>1.3</td>\n      <td>-420</td>\n    </tr>\n    <tr>\n      <th>31</th>\n      <td>81.0</td>\n      <td>115.0</td>\n      <td>56.0</td>\n      <td>74.0</td>\n      <td>1.1</td>\n      <td>1.3</td>\n      <td>-410</td>\n    </tr>\n    <tr>\n      <th>32</th>\n      <td>81.0</td>\n      <td>115.0</td>\n      <td>56.0</td>\n      <td>74.0</td>\n      <td>1.1</td>\n      <td>1.3</td>\n      <td>-400</td>\n    </tr>\n    <tr>\n      <th>33</th>\n      <td>81.0</td>\n      <td>115.0</td>\n      <td>56.0</td>\n      <td>74.0</td>\n      <td>1.1</td>\n      <td>1.3</td>\n      <td>-390</td>\n    </tr>\n    <tr>\n      <th>34</th>\n      <td>81.0</td>\n      <td>115.0</td>\n      <td>56.0</td>\n      <td>74.0</td>\n      <td>1.1</td>\n      <td>1.3</td>\n      <td>-380</td>\n    </tr>\n    <tr>\n      <th>35</th>\n      <td>81.0</td>\n      <td>115.0</td>\n      <td>56.0</td>\n      <td>74.0</td>\n      <td>1.1</td>\n      <td>1.3</td>\n      <td>-370</td>\n    </tr>\n    <tr>\n      <th>36</th>\n      <td>81.0</td>\n      <td>115.0</td>\n      <td>56.0</td>\n      <td>74.0</td>\n      <td>1.1</td>\n      <td>1.3</td>\n      <td>-360</td>\n    </tr>\n    <tr>\n      <th>37</th>\n      <td>81.0</td>\n      <td>115.0</td>\n      <td>56.0</td>\n      <td>74.0</td>\n      <td>1.1</td>\n      <td>1.3</td>\n      <td>-350</td>\n    </tr>\n    <tr>\n      <th>38</th>\n      <td>81.0</td>\n      <td>115.0</td>\n      <td>56.0</td>\n      <td>74.0</td>\n      <td>1.1</td>\n      <td>1.3</td>\n      <td>-340</td>\n    </tr>\n    <tr>\n      <th>39</th>\n      <td>81.0</td>\n      <td>115.0</td>\n      <td>56.0</td>\n      <td>74.0</td>\n      <td>1.1</td>\n      <td>1.3</td>\n      <td>-330</td>\n    </tr>\n    <tr>\n      <th>40</th>\n      <td>81.0</td>\n      <td>115.0</td>\n      <td>56.0</td>\n      <td>74.0</td>\n      <td>1.1</td>\n      <td>1.3</td>\n      <td>-320</td>\n    </tr>\n    <tr>\n      <th>41</th>\n      <td>81.0</td>\n      <td>115.0</td>\n      <td>56.0</td>\n      <td>74.0</td>\n      <td>1.1</td>\n      <td>1.3</td>\n      <td>-310</td>\n    </tr>\n    <tr>\n      <th>42</th>\n      <td>81.0</td>\n      <td>115.0</td>\n      <td>56.0</td>\n      <td>74.0</td>\n      <td>1.1</td>\n      <td>1.3</td>\n      <td>-300</td>\n    </tr>\n    <tr>\n      <th>43</th>\n      <td>81.0</td>\n      <td>115.0</td>\n      <td>56.0</td>\n      <td>74.0</td>\n      <td>1.1</td>\n      <td>1.3</td>\n      <td>-290</td>\n    </tr>\n    <tr>\n      <th>44</th>\n      <td>81.0</td>\n      <td>115.0</td>\n      <td>56.0</td>\n      <td>74.0</td>\n      <td>1.1</td>\n      <td>1.3</td>\n      <td>-280</td>\n    </tr>\n    <tr>\n      <th>45</th>\n      <td>81.0</td>\n      <td>115.0</td>\n      <td>56.0</td>\n      <td>74.0</td>\n      <td>1.1</td>\n      <td>1.3</td>\n      <td>-270</td>\n    </tr>\n    <tr>\n      <th>46</th>\n      <td>81.0</td>\n      <td>115.0</td>\n      <td>56.0</td>\n      <td>74.0</td>\n      <td>1.1</td>\n      <td>1.3</td>\n      <td>-260</td>\n    </tr>\n    <tr>\n      <th>47</th>\n      <td>81.0</td>\n      <td>115.0</td>\n      <td>56.0</td>\n      <td>74.0</td>\n      <td>1.1</td>\n      <td>1.3</td>\n      <td>-250</td>\n    </tr>\n    <tr>\n      <th>48</th>\n      <td>81.0</td>\n      <td>115.0</td>\n      <td>56.0</td>\n      <td>74.0</td>\n      <td>1.1</td>\n      <td>1.3</td>\n      <td>-240</td>\n    </tr>\n    <tr>\n      <th>49</th>\n      <td>81.0</td>\n      <td>115.0</td>\n      <td>56.0</td>\n      <td>74.0</td>\n      <td>1.1</td>\n      <td>1.3</td>\n      <td>-230</td>\n    </tr>\n  </tbody>\n</table>\n</div>"
     },
     "execution_count": 256,
     "metadata": {},
     "output_type": "execute_result"
    }
   ],
   "source": [
    "# first fill blank values through interpellation\n",
    "from scipy.interpolate import interp1d\n",
    "\n",
    "HOURS = 12\n",
    "MIN_INCREMENTS = 10\n",
    "\n",
    "def interpolate_row(row):\n",
    "    vals = pd.DataFrame()\n",
    "    time_steps = np.array(row[\"timestep_float\"])\n",
    "    common_time_interval = range(HOURS * -60, HOURS * 60 * 2, MIN_INCREMENTS)\n",
    "\n",
    "    for data_array in data_arrays:\n",
    "        interp_func = interp1d(time_steps, row[data_array], kind='next', fill_value='extrapolate')\n",
    "        vals[\"intr-\" + data_array] = interp_func(common_time_interval)\n",
    "\n",
    "    vals[\"common_timestep\"] = common_time_interval\n",
    "    return vals\n",
    "\n",
    "\n",
    "# Apply the function to the specific subset of rows\n",
    "interpolated_df = grouped_df.groupby(['stay_id', 'has_icd', 'dose_b_time']).apply(interpolate_row)\n",
    "print(interpolated_df)\n",
    "print(grouped_df.dtypes)\n",
    "interpolated_df.head(50)"
   ],
   "metadata": {
    "collapsed": false,
    "ExecuteTime": {
     "end_time": "2023-10-27T12:09:14.136298200Z",
     "start_time": "2023-10-27T12:08:46.229698100Z"
    }
   },
   "id": "5bf9396b30fdfa6e"
  },
  {
   "cell_type": "markdown",
   "source": [
    "# Normalise and scale data"
   ],
   "metadata": {
    "collapsed": false
   },
   "id": "26913a26a7502d87"
  },
  {
   "cell_type": "code",
   "execution_count": 257,
   "outputs": [
    {
     "name": "stdout",
     "output_type": "stream",
     "text": [
      "['intr-heart_rate', 'intr-sbp', 'intr-dbp', 'intr-mbp', 'intr-uric acid', 'intr-creatinine']\n",
      "                                         intr-heart_rate  intr-sbp  intr-dbp  \\\n",
      "stay_id  has_icd dose_b_time                                                   \n",
      "30004144 True    2126-04-04 18:43:00 0             -0.24  0.035714 -0.294118   \n",
      "                                     1             -0.24  0.035714 -0.294118   \n",
      "                                     2             -0.24  0.035714 -0.294118   \n",
      "                                     3             -0.24  0.035714 -0.294118   \n",
      "                                     4             -0.24  0.035714 -0.294118   \n",
      "                                     5             -0.24  0.035714 -0.294118   \n",
      "                                     6             -0.24  0.035714 -0.294118   \n",
      "                                     7             -0.24  0.035714 -0.294118   \n",
      "                                     8             -0.24  0.035714 -0.294118   \n",
      "                                     9             -0.24  0.035714 -0.294118   \n",
      "                                     10            -0.24  0.035714 -0.294118   \n",
      "                                     11            -0.24  0.035714 -0.294118   \n",
      "                                     12            -0.24  0.035714 -0.294118   \n",
      "                                     13            -0.24  0.035714 -0.294118   \n",
      "                                     14            -0.24  0.035714 -0.294118   \n",
      "                                     15            -0.24  0.035714 -0.294118   \n",
      "                                     16            -0.24  0.035714 -0.294118   \n",
      "                                     17            -0.24  0.035714 -0.294118   \n",
      "                                     18            -0.24  0.035714 -0.294118   \n",
      "                                     19            -0.24  0.035714 -0.294118   \n",
      "                                     20            -0.24  0.035714 -0.294118   \n",
      "                                     21            -0.24  0.035714 -0.294118   \n",
      "                                     22            -0.24  0.035714 -0.294118   \n",
      "                                     23            -0.24  0.035714 -0.294118   \n",
      "                                     24            -0.24  0.035714 -0.294118   \n",
      "                                     25            -0.24  0.035714 -0.294118   \n",
      "                                     26            -0.24  0.035714 -0.294118   \n",
      "                                     27            -0.24  0.035714 -0.294118   \n",
      "                                     28            -0.24  0.035714 -0.294118   \n",
      "                                     29            -0.24  0.035714 -0.294118   \n",
      "                                     30            -0.24  0.035714 -0.294118   \n",
      "                                     31            -0.24  0.035714 -0.294118   \n",
      "                                     32            -0.24  0.035714 -0.294118   \n",
      "                                     33            -0.24  0.035714 -0.294118   \n",
      "                                     34            -0.24  0.035714 -0.294118   \n",
      "                                     35            -0.24  0.035714 -0.294118   \n",
      "                                     36            -0.24  0.035714 -0.294118   \n",
      "                                     37            -0.24  0.035714 -0.294118   \n",
      "                                     38            -0.24  0.035714 -0.294118   \n",
      "                                     39            -0.24  0.035714 -0.294118   \n",
      "                                     40            -0.24  0.035714 -0.294118   \n",
      "                                     41            -0.24  0.035714 -0.294118   \n",
      "                                     42            -0.24  0.035714 -0.294118   \n",
      "                                     43            -0.24  0.035714 -0.294118   \n",
      "                                     44            -0.24  0.035714 -0.294118   \n",
      "                                     45            -0.24  0.035714 -0.294118   \n",
      "                                     46            -0.24  0.035714 -0.294118   \n",
      "                                     47            -0.24  0.035714 -0.294118   \n",
      "                                     48            -0.24  0.035714 -0.294118   \n",
      "                                     49            -0.24  0.035714 -0.294118   \n",
      "\n",
      "                                         intr-mbp  intr-uric acid  \\\n",
      "stay_id  has_icd dose_b_time                                        \n",
      "30004144 True    2126-04-04 18:43:00 0  -0.111111       -0.595745   \n",
      "                                     1  -0.111111       -0.595745   \n",
      "                                     2  -0.111111       -0.595745   \n",
      "                                     3  -0.111111       -0.595745   \n",
      "                                     4  -0.111111       -0.595745   \n",
      "                                     5  -0.111111       -0.595745   \n",
      "                                     6  -0.111111       -0.595745   \n",
      "                                     7  -0.111111       -0.595745   \n",
      "                                     8  -0.111111       -0.595745   \n",
      "                                     9  -0.111111       -0.595745   \n",
      "                                     10 -0.111111       -0.595745   \n",
      "                                     11 -0.111111       -0.595745   \n",
      "                                     12 -0.111111       -0.595745   \n",
      "                                     13 -0.111111       -0.595745   \n",
      "                                     14 -0.111111       -0.595745   \n",
      "                                     15 -0.111111       -0.595745   \n",
      "                                     16 -0.111111       -0.595745   \n",
      "                                     17 -0.111111       -0.595745   \n",
      "                                     18 -0.111111       -0.595745   \n",
      "                                     19 -0.111111       -0.595745   \n",
      "                                     20 -0.111111       -0.595745   \n",
      "                                     21 -0.111111       -0.595745   \n",
      "                                     22 -0.111111       -0.595745   \n",
      "                                     23 -0.111111       -0.595745   \n",
      "                                     24 -0.111111       -0.595745   \n",
      "                                     25 -0.111111       -0.595745   \n",
      "                                     26 -0.111111       -0.595745   \n",
      "                                     27 -0.111111       -0.595745   \n",
      "                                     28 -0.111111       -0.595745   \n",
      "                                     29 -0.111111       -0.595745   \n",
      "                                     30 -0.111111       -0.595745   \n",
      "                                     31 -0.111111       -0.595745   \n",
      "                                     32 -0.111111       -0.595745   \n",
      "                                     33 -0.111111       -0.595745   \n",
      "                                     34 -0.111111       -0.595745   \n",
      "                                     35 -0.111111       -0.595745   \n",
      "                                     36 -0.111111       -0.595745   \n",
      "                                     37 -0.111111       -0.595745   \n",
      "                                     38 -0.111111       -0.595745   \n",
      "                                     39 -0.111111       -0.595745   \n",
      "                                     40 -0.111111       -0.595745   \n",
      "                                     41 -0.111111       -0.595745   \n",
      "                                     42 -0.111111       -0.595745   \n",
      "                                     43 -0.111111       -0.595745   \n",
      "                                     44 -0.111111       -0.595745   \n",
      "                                     45 -0.111111       -0.595745   \n",
      "                                     46 -0.111111       -0.595745   \n",
      "                                     47 -0.111111       -0.595745   \n",
      "                                     48 -0.111111       -0.595745   \n",
      "                                     49 -0.111111       -0.595745   \n",
      "\n",
      "                                         intr-creatinine  common_timestep  \n",
      "stay_id  has_icd dose_b_time                                               \n",
      "30004144 True    2126-04-04 18:43:00 0              -0.9             -720  \n",
      "                                     1              -0.9             -710  \n",
      "                                     2              -0.9             -700  \n",
      "                                     3              -0.9             -690  \n",
      "                                     4              -0.9             -680  \n",
      "                                     5              -0.9             -670  \n",
      "                                     6              -0.9             -660  \n",
      "                                     7              -0.9             -650  \n",
      "                                     8              -0.9             -640  \n",
      "                                     9              -0.9             -630  \n",
      "                                     10             -0.9             -620  \n",
      "                                     11             -0.9             -610  \n",
      "                                     12             -0.9             -600  \n",
      "                                     13             -0.9             -590  \n",
      "                                     14             -0.9             -580  \n",
      "                                     15             -0.9             -570  \n",
      "                                     16             -0.9             -560  \n",
      "                                     17             -0.9             -550  \n",
      "                                     18             -0.9             -540  \n",
      "                                     19             -0.9             -530  \n",
      "                                     20             -0.9             -520  \n",
      "                                     21             -0.9             -510  \n",
      "                                     22             -0.9             -500  \n",
      "                                     23             -0.9             -490  \n",
      "                                     24             -0.9             -480  \n",
      "                                     25             -0.9             -470  \n",
      "                                     26             -0.9             -460  \n",
      "                                     27             -0.9             -450  \n",
      "                                     28             -0.9             -440  \n",
      "                                     29             -0.9             -430  \n",
      "                                     30             -0.9             -420  \n",
      "                                     31             -0.9             -410  \n",
      "                                     32             -0.9             -400  \n",
      "                                     33             -0.9             -390  \n",
      "                                     34             -0.9             -380  \n",
      "                                     35             -0.9             -370  \n",
      "                                     36             -0.9             -360  \n",
      "                                     37             -0.9             -350  \n",
      "                                     38             -0.9             -340  \n",
      "                                     39             -0.9             -330  \n",
      "                                     40             -0.9             -320  \n",
      "                                     41             -0.9             -310  \n",
      "                                     42             -0.9             -300  \n",
      "                                     43             -0.9             -290  \n",
      "                                     44             -0.9             -280  \n",
      "                                     45             -0.9             -270  \n",
      "                                     46             -0.9             -260  \n",
      "                                     47             -0.9             -250  \n",
      "                                     48             -0.9             -240  \n",
      "                                     49             -0.9             -230  \n"
     ]
    }
   ],
   "source": [
    "from sklearn.preprocessing import RobustScaler\n",
    "# \n",
    "features = []\n",
    "for data in data_arrays:\n",
    "    features.append('intr-'+data)\n",
    "\n",
    "print(features)\n",
    "# Initialize the RobustScaler\n",
    "scaler = RobustScaler()\n",
    "\n",
    "# Fit and transform the column\n",
    "\n",
    "for feature in features:\n",
    "    interpolated_df[feature] = scaler.fit_transform(interpolated_df[[feature]])\n",
    "\n",
    "print(interpolated_df.head(50))\n"
   ],
   "metadata": {
    "collapsed": false,
    "ExecuteTime": {
     "end_time": "2023-10-27T12:09:14.548319200Z",
     "start_time": "2023-10-27T12:09:14.141306600Z"
    }
   },
   "id": "87733823e74147e8"
  },
  {
   "cell_type": "code",
   "execution_count": 258,
   "outputs": [
    {
     "name": "stdout",
     "output_type": "stream",
     "text": [
      "1289\n",
      "2578\n",
      "0.5\n"
     ]
    }
   ],
   "source": [
    "interpolated_df = interpolated_df.reset_index()\n",
    "print(interpolated_df.groupby(['stay_id'])['has_icd'].agg(lambda x : all(x)).sum())\n",
    "has_icd = interpolated_df.groupby(['stay_id'])['has_icd'].agg(lambda x : all(x)).sum()\n",
    "print(len(interpolated_df['stay_id'].unique()))\n",
    "print (has_icd / len(interpolated_df['stay_id'].unique()))\n"
   ],
   "metadata": {
    "collapsed": false,
    "ExecuteTime": {
     "end_time": "2023-10-27T12:09:15.642063900Z",
     "start_time": "2023-10-27T12:09:14.552306100Z"
    }
   },
   "id": "162e8aa935f5f712"
  },
  {
   "cell_type": "code",
   "execution_count": 259,
   "outputs": [
    {
     "data": {
      "text/plain": "     stay_id  has_icd         dose_b_time  level_3  intr-heart_rate  intr-sbp  \\\n0   30004144     True 2126-04-04 18:43:00        0            -0.24  0.035714   \n1   30004144     True 2126-04-04 18:43:00        1            -0.24  0.035714   \n2   30004144     True 2126-04-04 18:43:00        2            -0.24  0.035714   \n3   30004144     True 2126-04-04 18:43:00        3            -0.24  0.035714   \n4   30004144     True 2126-04-04 18:43:00        4            -0.24  0.035714   \n..       ...      ...                 ...      ...              ...       ...   \n95  30004144     True 2126-04-04 18:43:00       95            -0.24  0.035714   \n96  30004144     True 2126-04-04 18:43:00       96            -0.24  0.035714   \n97  30004144     True 2126-04-04 18:43:00       97            -0.24  0.035714   \n98  30004144     True 2126-04-04 18:43:00       98            -0.24  0.035714   \n99  30004144     True 2126-04-04 18:43:00       99            -0.24  0.035714   \n\n    intr-dbp  intr-mbp  intr-uric acid  intr-creatinine  common_timestep  \n0  -0.294118 -0.111111       -0.595745             -0.9             -720  \n1  -0.294118 -0.111111       -0.595745             -0.9             -710  \n2  -0.294118 -0.111111       -0.595745             -0.9             -700  \n3  -0.294118 -0.111111       -0.595745             -0.9             -690  \n4  -0.294118 -0.111111       -0.595745             -0.9             -680  \n..       ...       ...             ...              ...              ...  \n95 -0.294118 -0.111111       -0.595745             -0.9              230  \n96 -0.294118 -0.111111       -0.595745             -0.9              240  \n97 -0.294118 -0.111111       -0.595745             -0.9              250  \n98 -0.294118 -0.111111       -0.595745             -0.9              260  \n99 -0.294118 -0.111111       -0.595745             -0.9              270  \n\n[100 rows x 11 columns]",
      "text/html": "<div>\n<style scoped>\n    .dataframe tbody tr th:only-of-type {\n        vertical-align: middle;\n    }\n\n    .dataframe tbody tr th {\n        vertical-align: top;\n    }\n\n    .dataframe thead th {\n        text-align: right;\n    }\n</style>\n<table border=\"1\" class=\"dataframe\">\n  <thead>\n    <tr style=\"text-align: right;\">\n      <th></th>\n      <th>stay_id</th>\n      <th>has_icd</th>\n      <th>dose_b_time</th>\n      <th>level_3</th>\n      <th>intr-heart_rate</th>\n      <th>intr-sbp</th>\n      <th>intr-dbp</th>\n      <th>intr-mbp</th>\n      <th>intr-uric acid</th>\n      <th>intr-creatinine</th>\n      <th>common_timestep</th>\n    </tr>\n  </thead>\n  <tbody>\n    <tr>\n      <th>0</th>\n      <td>30004144</td>\n      <td>True</td>\n      <td>2126-04-04 18:43:00</td>\n      <td>0</td>\n      <td>-0.24</td>\n      <td>0.035714</td>\n      <td>-0.294118</td>\n      <td>-0.111111</td>\n      <td>-0.595745</td>\n      <td>-0.9</td>\n      <td>-720</td>\n    </tr>\n    <tr>\n      <th>1</th>\n      <td>30004144</td>\n      <td>True</td>\n      <td>2126-04-04 18:43:00</td>\n      <td>1</td>\n      <td>-0.24</td>\n      <td>0.035714</td>\n      <td>-0.294118</td>\n      <td>-0.111111</td>\n      <td>-0.595745</td>\n      <td>-0.9</td>\n      <td>-710</td>\n    </tr>\n    <tr>\n      <th>2</th>\n      <td>30004144</td>\n      <td>True</td>\n      <td>2126-04-04 18:43:00</td>\n      <td>2</td>\n      <td>-0.24</td>\n      <td>0.035714</td>\n      <td>-0.294118</td>\n      <td>-0.111111</td>\n      <td>-0.595745</td>\n      <td>-0.9</td>\n      <td>-700</td>\n    </tr>\n    <tr>\n      <th>3</th>\n      <td>30004144</td>\n      <td>True</td>\n      <td>2126-04-04 18:43:00</td>\n      <td>3</td>\n      <td>-0.24</td>\n      <td>0.035714</td>\n      <td>-0.294118</td>\n      <td>-0.111111</td>\n      <td>-0.595745</td>\n      <td>-0.9</td>\n      <td>-690</td>\n    </tr>\n    <tr>\n      <th>4</th>\n      <td>30004144</td>\n      <td>True</td>\n      <td>2126-04-04 18:43:00</td>\n      <td>4</td>\n      <td>-0.24</td>\n      <td>0.035714</td>\n      <td>-0.294118</td>\n      <td>-0.111111</td>\n      <td>-0.595745</td>\n      <td>-0.9</td>\n      <td>-680</td>\n    </tr>\n    <tr>\n      <th>...</th>\n      <td>...</td>\n      <td>...</td>\n      <td>...</td>\n      <td>...</td>\n      <td>...</td>\n      <td>...</td>\n      <td>...</td>\n      <td>...</td>\n      <td>...</td>\n      <td>...</td>\n      <td>...</td>\n    </tr>\n    <tr>\n      <th>95</th>\n      <td>30004144</td>\n      <td>True</td>\n      <td>2126-04-04 18:43:00</td>\n      <td>95</td>\n      <td>-0.24</td>\n      <td>0.035714</td>\n      <td>-0.294118</td>\n      <td>-0.111111</td>\n      <td>-0.595745</td>\n      <td>-0.9</td>\n      <td>230</td>\n    </tr>\n    <tr>\n      <th>96</th>\n      <td>30004144</td>\n      <td>True</td>\n      <td>2126-04-04 18:43:00</td>\n      <td>96</td>\n      <td>-0.24</td>\n      <td>0.035714</td>\n      <td>-0.294118</td>\n      <td>-0.111111</td>\n      <td>-0.595745</td>\n      <td>-0.9</td>\n      <td>240</td>\n    </tr>\n    <tr>\n      <th>97</th>\n      <td>30004144</td>\n      <td>True</td>\n      <td>2126-04-04 18:43:00</td>\n      <td>97</td>\n      <td>-0.24</td>\n      <td>0.035714</td>\n      <td>-0.294118</td>\n      <td>-0.111111</td>\n      <td>-0.595745</td>\n      <td>-0.9</td>\n      <td>250</td>\n    </tr>\n    <tr>\n      <th>98</th>\n      <td>30004144</td>\n      <td>True</td>\n      <td>2126-04-04 18:43:00</td>\n      <td>98</td>\n      <td>-0.24</td>\n      <td>0.035714</td>\n      <td>-0.294118</td>\n      <td>-0.111111</td>\n      <td>-0.595745</td>\n      <td>-0.9</td>\n      <td>260</td>\n    </tr>\n    <tr>\n      <th>99</th>\n      <td>30004144</td>\n      <td>True</td>\n      <td>2126-04-04 18:43:00</td>\n      <td>99</td>\n      <td>-0.24</td>\n      <td>0.035714</td>\n      <td>-0.294118</td>\n      <td>-0.111111</td>\n      <td>-0.595745</td>\n      <td>-0.9</td>\n      <td>270</td>\n    </tr>\n  </tbody>\n</table>\n<p>100 rows × 11 columns</p>\n</div>"
     },
     "execution_count": 259,
     "metadata": {},
     "output_type": "execute_result"
    }
   ],
   "source": [
    "interpolated_df.head(100)"
   ],
   "metadata": {
    "collapsed": false,
    "ExecuteTime": {
     "end_time": "2023-10-27T12:09:15.673704Z",
     "start_time": "2023-10-27T12:09:15.643060700Z"
    }
   },
   "id": "2991c8f1f2b5fd9b"
  },
  {
   "cell_type": "markdown",
   "source": [
    "# Reshape the arrays to be a uniform 3D tensor\n",
    "Pads with extra zeros for dosages that do not have max_dosage measures"
   ],
   "metadata": {
    "collapsed": false
   },
   "id": "2b115ba2a4b575ed"
  },
  {
   "cell_type": "code",
   "execution_count": 260,
   "outputs": [
    {
     "name": "stdout",
     "output_type": "stream",
     "text": [
      "Max sequence length 216\n",
      "Max dosages 10\n",
      "Found array values with NaN 30840325 \n",
      "Found array values with NaN 30904052 \n",
      "Found array values with NaN 31276057 \n",
      "Found array values with NaN 31929757 \n",
      "Found array values with NaN 31972738 \n",
      "Found array values with NaN 32660915 \n",
      "Found array values with NaN 33182177 \n",
      "Found array values with NaN 33196642 \n",
      "Found array values with NaN 33426509 \n",
      "Found array values with NaN 33452927 \n",
      "Found array values with NaN 33496373 \n",
      "Found array values with NaN 33735626 \n",
      "Found array values with NaN 33947869 \n",
      "Found array values with NaN 34040468 \n",
      "Found array values with NaN 34478728 \n",
      "Found array values with NaN 34592853 \n",
      "Found array values with NaN 34715582 \n",
      "Found array values with NaN 34841654 \n",
      "Found array values with NaN 35236301 \n",
      "Found array values with NaN 35736966 \n",
      "Found array values with NaN 36150696 \n",
      "Found array values with NaN 36400935 \n",
      "Found array values with NaN 36704236 \n",
      "Found array values with NaN 36729000 \n",
      "Found array values with NaN 36784911 \n",
      "Found array values with NaN 36872097 \n",
      "Found array values with NaN 36959500 \n",
      "Found array values with NaN 37073578 \n",
      "Found array values with NaN 37514652 \n",
      "Found array values with NaN 37554127 \n",
      "Found array values with NaN 37558357 \n",
      "Found array values with NaN 37624293 \n",
      "Found array values with NaN 37650578 \n",
      "Found array values with NaN 38038006 \n",
      "Found array values with NaN 38190157 \n",
      "Found array values with NaN 38372218 \n",
      "Found array values with NaN 38397272 \n",
      "Found array values with NaN 38689092 \n",
      "Found array values with NaN 38914211 \n",
      "Found array values with NaN 39376877 \n",
      "Found array values with NaN 39745597 \n",
      "Original shape (2578, 10, 216, 6)\n",
      "Reshaped X (2578, 2160, 6)\n",
      "Shape of Y (2578,)\n",
      "Found 41 - [30840325, 30904052, 31276057, 31929757, 31972738, 32660915, 33182177, 33196642, 33426509, 33452927, 33496373, 33735626, 33947869, 34040468, 34478728, 34592853, 34715582, 34841654, 35236301, 35736966, 36150696, 36400935, 36704236, 36729000, 36784911, 36872097, 36959500, 37073578, 37514652, 37554127, 37558357, 37624293, 37650578, 38038006, 38190157, 38372218, 38397272, 38689092, 38914211, 39376877, 39745597]\n"
     ]
    }
   ],
   "source": [
    "from numpy import shape\n",
    "from keras_preprocessing.sequence import pad_sequences\n",
    "\n",
    "target = 'has_icd'\n",
    "\n",
    "# Extract features and timestep data\n",
    "\n",
    "interpolated_df = interpolated_df.reset_index()\n",
    "timesteps = interpolated_df.groupby([\"stay_id\", \"dose_b_time\"])['common_timestep'].count()\n",
    "\n",
    "# Determine the maximum sequence length\n",
    "max_sequence_length = max(timesteps)\n",
    "print(f\"Max sequence length {max_sequence_length}\")\n",
    "\n",
    "max_dosages = df.groupby(\"stay_id\")[\"dose_b_time\"].nunique().max()\n",
    "print(f\"Max dosages {max_dosages}\")\n",
    "\n",
    "X_sequences = []\n",
    "y_sequences = []\n",
    "zeros = np.zeros((max_sequence_length, len(features))) # an array of timestep zeros * features for padding the tensor\n",
    "\n",
    "# Initialize an empty list to store arrays\n",
    "result = []\n",
    "\n",
    "# Collect any invalid stays\n",
    "invalid_stays = []\n",
    "\n",
    "# Organize data by stay_id\n",
    "stay_ids = interpolated_df['stay_id'].unique()\n",
    "for stay_id in stay_ids:\n",
    "    # Filter the DataFrame for the current key1\n",
    "    df_stays = interpolated_df[interpolated_df[\"stay_id\"] == stay_id]\n",
    "\n",
    "    # Create a list to store arrays for the current key1\n",
    "    stays_array = []\n",
    "\n",
    "    unique_doses = df_stays['dose_b_time'].unique()\n",
    "    # Iterate over unique values of key2 within the current key1\n",
    "    for dose_b_time in unique_doses:\n",
    "    # Filter the DataFrame for the current key2\n",
    "        df_dose = df_stays[df_stays[\"dose_b_time\"] == dose_b_time]\n",
    "    \n",
    "        # Extract the feature values\n",
    "        val_columns = df_dose[features].values\n",
    "        \n",
    "        # Append the extracted values as an array to the list if they are all valid\n",
    "        if ~np.any(np.isnan(val_columns)):\n",
    "            stays_array.append(val_columns)\n",
    "        else:\n",
    "            invalid_stays.append(stay_id) ## collect invalid stay ids if NaNs are found\n",
    "            print(f\"Found array values with NaN {stay_id} \")\n",
    "        \n",
    "        \n",
    "    # Pad out the second dimension with zeros, this ensures a uniform shape\n",
    "    while len(stays_array) < max_dosages:\n",
    "        stays_array.append(zeros)\n",
    "    \n",
    "        # Convert the list of arrays to a NumPy array for the current key1\n",
    "    stays_array = np.array(stays_array)\n",
    "    if ~(np.all(df_stays[target]) | ~np.any(df_stays[target])):\n",
    "        print(f\"Found inconsistent icd code {df_stays[target]}\")\n",
    "        \n",
    "    y_sequences.append(df_stays[target].unique()[0])\n",
    "    # Append the 3D array for the current key1 to the result list\n",
    "    result.append(stays_array)\n",
    "    \n",
    "\n",
    "# Convert the result list to a NumPy array\n",
    "X_sequences = np.array(result)\n",
    "y_sequences = np.array(y_sequences).astype(int)\n",
    "\n",
    "print(f\"Original shape {shape(X_sequences)}\")\n",
    "\n",
    "original_shape = X_sequences.shape\n",
    "X_sequences = X_sequences.reshape(original_shape[0], original_shape[1] * original_shape[2], original_shape[3])\n",
    "\n",
    "print(f\"Reshaped X {shape(X_sequences)}\")\n",
    "print(f\"Shape of Y {shape(y_sequences)}\")\n",
    "\n",
    "print(f\"Found {len(invalid_stays)} - {invalid_stays}\")"
   ],
   "metadata": {
    "collapsed": false,
    "ExecuteTime": {
     "end_time": "2023-10-27T12:09:33.030443500Z",
     "start_time": "2023-10-27T12:09:15.680656800Z"
    }
   },
   "id": "1a076c674ca138cc"
  },
  {
   "cell_type": "code",
   "execution_count": 261,
   "outputs": [
    {
     "name": "stdout",
     "output_type": "stream",
     "text": [
      "(2578, 2160, 6)\n",
      "(2578,)\n",
      "Ratio of positive to negative, should be 0.5 0.5\n"
     ]
    }
   ],
   "source": [
    "# Restrict the size of the data so speed things up, delete this for a full production run\n",
    "X = X_sequences #[:3000]\n",
    "y = y_sequences #[:3000]\n",
    "\n",
    "print(shape(X))\n",
    "print(shape(y))\n",
    "print(f\"Ratio of positive to negative, should be 0.5 {np.sum(y) / len(y)}\")\n"
   ],
   "metadata": {
    "collapsed": false,
    "ExecuteTime": {
     "end_time": "2023-10-27T12:09:33.086804700Z",
     "start_time": "2023-10-27T12:09:33.027451900Z"
    }
   },
   "id": "96411bfc952ab4a5"
  },
  {
   "cell_type": "markdown",
   "source": [
    "# Split into test and train sets"
   ],
   "metadata": {
    "collapsed": false
   },
   "id": "1d58b882b1ccdfa7"
  },
  {
   "cell_type": "code",
   "execution_count": 262,
   "outputs": [
    {
     "name": "stdout",
     "output_type": "stream",
     "text": [
      "2578\n",
      "2578\n",
      "2320\n",
      "(2320, 2160, 6)\n",
      "(258, 2160, 6)\n",
      "(2320,)\n",
      "(258,)\n"
     ]
    }
   ],
   "source": [
    "print(len(X))\n",
    "print(len(y))\n",
    "\n",
    "#Adjust the size of the testing set: we'll use 10% of the entire data. \n",
    "X_train, X_test, y_train, y_test = train_test_split(X, y, test_size=0.1, random_state=1)\n",
    "\n",
    "#Check the number of columns (features):\n",
    "print(len(X_train))\n",
    "print(shape(X_train))\n",
    "print(shape(X_test))\n",
    "print(shape(y_train))\n",
    "print(shape(y_test))\n"
   ],
   "metadata": {
    "collapsed": false,
    "ExecuteTime": {
     "end_time": "2023-10-27T12:09:33.171092100Z",
     "start_time": "2023-10-27T12:09:33.061871600Z"
    }
   },
   "id": "ba5b915cab2f0376"
  },
  {
   "cell_type": "markdown",
   "source": [
    "# The model\n",
    "LSTM model with 64 units, quite bare bones at the moment"
   ],
   "metadata": {
    "collapsed": false
   },
   "id": "16a6953bdae39e1f"
  },
  {
   "cell_type": "code",
   "execution_count": 266,
   "outputs": [],
   "source": [
    "from keras.layers import LSTM, Dense\n",
    "from keras.callbacks import EarlyStopping\n",
    "\n",
    "model = keras.Sequential()\n",
    "\n",
    "model.add(keras.layers.Masking(mask_value=0))\n",
    "model.add(LSTM(64, dropout=0.2))\n",
    "\n",
    "model.add(Dense(1, activation='sigmoid'))\n"
   ],
   "metadata": {
    "collapsed": false,
    "ExecuteTime": {
     "end_time": "2023-10-27T12:10:55.650894200Z",
     "start_time": "2023-10-27T12:10:55.622761700Z"
    }
   },
   "id": "4c1ca833717a939a"
  },
  {
   "cell_type": "code",
   "execution_count": 267,
   "outputs": [],
   "source": [
    "model.compile(loss='binary_crossentropy', optimizer='adam', metrics=['accuracy'])"
   ],
   "metadata": {
    "collapsed": false,
    "ExecuteTime": {
     "end_time": "2023-10-27T12:10:56.300404100Z",
     "start_time": "2023-10-27T12:10:56.276469900Z"
    }
   },
   "id": "24fd5efbe0bd6613"
  },
  {
   "cell_type": "code",
   "execution_count": 268,
   "outputs": [
    {
     "name": "stdout",
     "output_type": "stream",
     "text": [
      "Epoch 1/20\n",
      "24/24 [==============================] - 42s 1s/step - loss: 0.6977 - accuracy: 0.4991\n",
      "Epoch 2/20\n",
      "24/24 [==============================] - 35s 1s/step - loss: 0.6882 - accuracy: 0.5328\n",
      "Epoch 3/20\n",
      "24/24 [==============================] - 35s 1s/step - loss: 0.6818 - accuracy: 0.5608\n",
      "Epoch 4/20\n",
      "24/24 [==============================] - 35s 1s/step - loss: 0.6764 - accuracy: 0.5655\n",
      "Epoch 5/20\n",
      "24/24 [==============================] - 35s 1s/step - loss: 0.6723 - accuracy: 0.5664\n",
      "Epoch 6/20\n",
      "24/24 [==============================] - 35s 1s/step - loss: 0.6723 - accuracy: 0.5642\n",
      "Epoch 7/20\n",
      "24/24 [==============================] - 35s 1s/step - loss: 0.6696 - accuracy: 0.5642\n",
      "Epoch 8/20\n",
      "24/24 [==============================] - 35s 1s/step - loss: 0.6712 - accuracy: 0.5703\n",
      "Epoch 9/20\n",
      "24/24 [==============================] - 35s 1s/step - loss: 0.6695 - accuracy: 0.5685\n",
      "Epoch 10/20\n",
      "24/24 [==============================] - 35s 1s/step - loss: 0.6698 - accuracy: 0.5720\n",
      "Epoch 11/20\n",
      "24/24 [==============================] - 35s 1s/step - loss: 0.6682 - accuracy: 0.5741\n",
      "Epoch 12/20\n",
      "24/24 [==============================] - 35s 1s/step - loss: 0.6689 - accuracy: 0.5647\n",
      "Epoch 13/20\n",
      "24/24 [==============================] - 35s 1s/step - loss: 0.6659 - accuracy: 0.5793\n",
      "Epoch 14/20\n",
      "24/24 [==============================] - 35s 1s/step - loss: 0.6661 - accuracy: 0.5806\n",
      "Epoch 15/20\n",
      "24/24 [==============================] - 35s 1s/step - loss: 0.6657 - accuracy: 0.5806\n",
      "Epoch 16/20\n",
      "24/24 [==============================] - 35s 1s/step - loss: 0.6660 - accuracy: 0.5780\n",
      "Epoch 17/20\n",
      "24/24 [==============================] - 35s 1s/step - loss: 0.6640 - accuracy: 0.5832\n",
      "Epoch 18/20\n",
      "24/24 [==============================] - 35s 1s/step - loss: 0.6673 - accuracy: 0.5776\n",
      "Epoch 19/20\n",
      "24/24 [==============================] - 35s 1s/step - loss: 0.6663 - accuracy: 0.5909\n",
      "Epoch 20/20\n",
      "24/24 [==============================] - 35s 1s/step - loss: 0.6687 - accuracy: 0.5759\n"
     ]
    }
   ],
   "source": [
    "EPOCHS = 10         # increase to at least 50\n",
    "BATCH_SIZE = 20     # increase to at least 100\n",
    "\n",
    "early_stopping = EarlyStopping(monitor='accuracy', patience=10, mode='auto', verbose = 1)\n",
    "\n",
    "classifier = model.fit(X_train, y_train, epochs=EPOCHS, batch_size=BATCH_SIZE, callbacks=[early_stopping],\n",
    "                       verbose=1)  #set verbose = 1 to see the fitting process"
   ],
   "metadata": {
    "collapsed": false,
    "ExecuteTime": {
     "end_time": "2023-10-27T12:22:48.992055600Z",
     "start_time": "2023-10-27T12:10:56.797834900Z"
    }
   },
   "id": "4263eb1674d3a26c"
  },
  {
   "cell_type": "markdown",
   "source": [
    "# Evaluate the training \n",
    "Plots of accuracy and loss for the training history"
   ],
   "metadata": {
    "collapsed": false
   },
   "id": "1c4b399c414fd2aa"
  },
  {
   "cell_type": "code",
   "execution_count": 269,
   "outputs": [
    {
     "data": {
      "text/plain": "<Figure size 640x480 with 1 Axes>",
      "image/png": "[encoded data removed]"
     },
     "metadata": {},
     "output_type": "display_data"
    },
    {
     "data": {
      "text/plain": "<Figure size 640x480 with 1 Axes>",
      "image/png": "[encoded data removed]"
     },
     "metadata": {},
     "output_type": "display_data"
    }
   ],
   "source": [
    "# Plot Accuracy over the epochs\n",
    "plt.plot(classifier.history['accuracy'])\n",
    "plt.ylabel('accuracy')\n",
    "plt.xlabel('epoch')\n",
    "plt.title('model accuracy')\n",
    "plt.legend(['train'], loc='upper left')\n",
    "plt.show()\n",
    "\n",
    "# Plot Loss over the epochs\n",
    "plt.plot(classifier.history['loss'])\n",
    "plt.ylabel('loss')\n",
    "plt.xlabel('epoch')\n",
    "plt.title('model loss')\n",
    "plt.legend(['train'], loc='upper left')\n",
    "plt.show()"
   ],
   "metadata": {
    "collapsed": false,
    "ExecuteTime": {
     "end_time": "2023-10-27T12:22:50.260348800Z",
     "start_time": "2023-10-27T12:22:48.994050Z"
    }
   },
   "id": "fd261ac8e14dba93"
  },
  {
   "cell_type": "code",
   "execution_count": 270,
   "outputs": [
    {
     "name": "stdout",
     "output_type": "stream",
     "text": [
      "32/32 [==============================] - 11s 293ms/step - loss: 0.6620 - accuracy: 0.5730\n",
      "Accuracy: 57.30\n",
      "0.662 0.573\n"
     ]
    }
   ],
   "source": [
    "# evaluate the keras model\n",
    "loss, accuracy = model.evaluate(X_train[:1000], y_train[:1000])\n",
    "print('Accuracy: %.2f' % (accuracy*100))\n",
    "print(round(loss,3),round(accuracy,3))\n"
   ],
   "metadata": {
    "collapsed": false,
    "ExecuteTime": {
     "end_time": "2023-10-27T12:23:01.098980900Z",
     "start_time": "2023-10-27T12:22:50.262344900Z"
    }
   },
   "id": "88743f97d504f1ce"
  },
  {
   "cell_type": "code",
   "execution_count": 270,
   "outputs": [],
   "source": [],
   "metadata": {
    "collapsed": false,
    "ExecuteTime": {
     "end_time": "2023-10-27T12:23:01.099977400Z",
     "start_time": "2023-10-27T12:23:01.074046600Z"
    }
   },
   "id": "df54344b87d429f1"
  },
  {
   "cell_type": "code",
   "execution_count": 271,
   "outputs": [
    {
     "name": "stdout",
     "output_type": "stream",
     "text": [
      "0.662 0.573\n"
     ]
    }
   ],
   "source": [
    "print(round(loss,3),round(accuracy,3))"
   ],
   "metadata": {
    "collapsed": false,
    "ExecuteTime": {
     "end_time": "2023-10-27T12:23:01.143862300Z",
     "start_time": "2023-10-27T12:23:01.088011500Z"
    }
   },
   "id": "20ceebc152732763"
  },
  {
   "cell_type": "markdown",
   "source": [
    "# Test accuracy\n",
    "Run model predictions on the test data set and report metrics scores, including MCC and F1 "
   ],
   "metadata": {
    "collapsed": false
   },
   "id": "cf9fe5dd7c08859f"
  },
  {
   "cell_type": "code",
   "execution_count": 272,
   "outputs": [
    {
     "name": "stdout",
     "output_type": "stream",
     "text": [
      "9/9 [==============================] - 4s 275ms/step\n",
      "   Accuracy  Balanced Accuracy  MCC  F1-Score\n",
      "0      0.55              0.549  0.1     0.594\n"
     ]
    }
   ],
   "source": [
    "from sklearn import metrics\n",
    "\n",
    "# #Predict the testing set\n",
    "predictions = (model.predict(X_test) > 0.5).astype(int)\n",
    "\n",
    "#Accuracy classification score\n",
    "acc = float(round(metrics.accuracy_score(y_test, predictions),3))\n",
    "\n",
    "#Compute the balanced accuracy.\n",
    "bacc = float(round(metrics.balanced_accuracy_score(y_test, predictions),3))\n",
    "\n",
    "#Compute the Matthews correlation coefficient (MCC)\n",
    "mcc = float(round(metrics.matthews_corrcoef(y_test, predictions),3))\n",
    "\n",
    "#Compute the F1 score, also known as balanced F-score or F-measure.\n",
    "f1 = float(round(metrics.f1_score(y_test, predictions),3))\n",
    "\n",
    "#Show results as a DataFrame:\n",
    "results = {'Accuracy' : [acc], 'Balanced Accuracy' : [bacc], 'MCC' : [mcc], 'F1-Score' : [f1]}\n",
    "df_results = pd.DataFrame.from_dict(data = results, orient='columns')\n",
    "print(df_results)"
   ],
   "metadata": {
    "collapsed": false,
    "ExecuteTime": {
     "end_time": "2023-10-27T12:23:05.027005700Z",
     "start_time": "2023-10-27T12:23:01.106957900Z"
    }
   },
   "id": "adc7ff17b9ec5650"
  },
  {
   "cell_type": "code",
   "execution_count": null,
   "outputs": [],
   "source": [],
   "metadata": {
    "collapsed": false,
    "ExecuteTime": {
     "start_time": "2023-10-27T12:10:53.127652600Z"
    }
   },
   "id": "7aac5e9987a8550f"
  }
 ],
 "metadata": {
  "kernelspec": {
   "display_name": "Python 3",
   "language": "python",
   "name": "python3"
  },
  "language_info": {
   "codemirror_mode": {
    "name": "ipython",
    "version": 2
   },
   "file_extension": ".py",
   "mimetype": "text/x-python",
   "name": "python",
   "nbconvert_exporter": "python",
   "pygments_lexer": "ipython2",
   "version": "2.7.6"
  }
 },
 "nbformat": 4,
 "nbformat_minor": 5
}
