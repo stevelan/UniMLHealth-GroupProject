{
 "cells": [
  {
   "cell_type": "code",
   "execution_count": 429,
   "outputs": [],
   "source": [
    "from detectdd import config\n",
    "import numpy as np\n",
    "import tensorflow as tf\n",
    "from matplotlib import pyplot as plt\n",
    "from tensorflow import keras\n",
    "\n",
    "import root_config as rc\n",
    "import pandas as pd\n",
    "from detectdd.serializer import Serializer\n",
    "\n",
    "from sklearn.model_selection import train_test_split\n",
    "\n",
    "rc.configure()"
   ],
   "metadata": {
    "collapsed": false,
    "ExecuteTime": {
     "end_time": "2023-11-03T02:02:42.440520300Z",
     "start_time": "2023-11-03T02:02:42.312341Z"
    }
   },
   "id": "73b44864dc58cc8c"
  },
  {
   "cell_type": "markdown",
   "source": [
    "### Pipeline selection\n",
    "The data array and the features in the csv need to match, so uncomment both of them out\n"
   ],
   "metadata": {
    "collapsed": false
   },
   "id": "8cb8a81d04b781d"
  },
  {
   "cell_type": "code",
   "execution_count": 430,
   "outputs": [
    {
     "name": "stdout",
     "output_type": "stream",
     "text": [
      "Duplicates found: 937\n",
      "Remaining duplicates: 0\n"
     ]
    },
    {
     "data": {
      "text/plain": "     Unnamed: 0   stay_id          dose_b_time  subject_id  \\\n0             0  30004144  2126-04-07 11:46:00    10369174   \n1             1  30004144  2126-04-07 11:46:00    10369174   \n2             2  30004144  2126-04-07 11:46:00    10369174   \n3             3  30004144  2126-04-07 11:46:00    10369174   \n4             4  30004144  2126-04-07 11:46:00    10369174   \n..          ...       ...                  ...         ...   \n495         495  30084052  2160-09-27 08:00:00    15997269   \n496         496  30084052  2160-09-27 08:00:00    15997269   \n497         497  30084052  2160-09-27 08:00:00    15997269   \n498         498  30084052  2160-09-27 08:00:00    15997269   \n499         499  30084052  2160-09-27 08:00:00    15997269   \n\n               charttime  heart_rate    sbp   dbp   mbp  \n0    2126-04-07 21:10:00        60.0    NaN   NaN   NaN  \n1    2126-04-07 21:00:00        62.0  129.0  50.0  71.0  \n2    2126-04-07 14:00:00        60.0  135.0  57.0  80.0  \n3    2126-04-07 22:10:00        60.0    NaN   NaN   NaN  \n4    2126-04-07 05:00:00        66.0  136.0  65.0  89.0  \n..                   ...         ...    ...   ...   ...  \n495  2160-09-27 09:00:00        98.0    NaN   NaN   NaN  \n496  2160-09-27 13:00:00       102.0  127.0  77.0  87.0  \n497  2160-09-27 15:00:00        94.0    NaN   NaN   NaN  \n498  2160-09-27 17:00:00        98.0  132.0  65.0  81.0  \n499  2160-09-27 19:00:00        94.0  126.0  73.0  84.0  \n\n[500 rows x 9 columns]",
      "text/html": "<div>\n<style scoped>\n    .dataframe tbody tr th:only-of-type {\n        vertical-align: middle;\n    }\n\n    .dataframe tbody tr th {\n        vertical-align: top;\n    }\n\n    .dataframe thead th {\n        text-align: right;\n    }\n</style>\n<table border=\"1\" class=\"dataframe\">\n  <thead>\n    <tr style=\"text-align: right;\">\n      <th></th>\n      <th>Unnamed: 0</th>\n      <th>stay_id</th>\n      <th>dose_b_time</th>\n      <th>subject_id</th>\n      <th>charttime</th>\n      <th>heart_rate</th>\n      <th>sbp</th>\n      <th>dbp</th>\n      <th>mbp</th>\n    </tr>\n  </thead>\n  <tbody>\n    <tr>\n      <th>0</th>\n      <td>0</td>\n      <td>30004144</td>\n      <td>2126-04-07 11:46:00</td>\n      <td>10369174</td>\n      <td>2126-04-07 21:10:00</td>\n      <td>60.0</td>\n      <td>NaN</td>\n      <td>NaN</td>\n      <td>NaN</td>\n    </tr>\n    <tr>\n      <th>1</th>\n      <td>1</td>\n      <td>30004144</td>\n      <td>2126-04-07 11:46:00</td>\n      <td>10369174</td>\n      <td>2126-04-07 21:00:00</td>\n      <td>62.0</td>\n      <td>129.0</td>\n      <td>50.0</td>\n      <td>71.0</td>\n    </tr>\n    <tr>\n      <th>2</th>\n      <td>2</td>\n      <td>30004144</td>\n      <td>2126-04-07 11:46:00</td>\n      <td>10369174</td>\n      <td>2126-04-07 14:00:00</td>\n      <td>60.0</td>\n      <td>135.0</td>\n      <td>57.0</td>\n      <td>80.0</td>\n    </tr>\n    <tr>\n      <th>3</th>\n      <td>3</td>\n      <td>30004144</td>\n      <td>2126-04-07 11:46:00</td>\n      <td>10369174</td>\n      <td>2126-04-07 22:10:00</td>\n      <td>60.0</td>\n      <td>NaN</td>\n      <td>NaN</td>\n      <td>NaN</td>\n    </tr>\n    <tr>\n      <th>4</th>\n      <td>4</td>\n      <td>30004144</td>\n      <td>2126-04-07 11:46:00</td>\n      <td>10369174</td>\n      <td>2126-04-07 05:00:00</td>\n      <td>66.0</td>\n      <td>136.0</td>\n      <td>65.0</td>\n      <td>89.0</td>\n    </tr>\n    <tr>\n      <th>...</th>\n      <td>...</td>\n      <td>...</td>\n      <td>...</td>\n      <td>...</td>\n      <td>...</td>\n      <td>...</td>\n      <td>...</td>\n      <td>...</td>\n      <td>...</td>\n    </tr>\n    <tr>\n      <th>495</th>\n      <td>495</td>\n      <td>30084052</td>\n      <td>2160-09-27 08:00:00</td>\n      <td>15997269</td>\n      <td>2160-09-27 09:00:00</td>\n      <td>98.0</td>\n      <td>NaN</td>\n      <td>NaN</td>\n      <td>NaN</td>\n    </tr>\n    <tr>\n      <th>496</th>\n      <td>496</td>\n      <td>30084052</td>\n      <td>2160-09-27 08:00:00</td>\n      <td>15997269</td>\n      <td>2160-09-27 13:00:00</td>\n      <td>102.0</td>\n      <td>127.0</td>\n      <td>77.0</td>\n      <td>87.0</td>\n    </tr>\n    <tr>\n      <th>497</th>\n      <td>497</td>\n      <td>30084052</td>\n      <td>2160-09-27 08:00:00</td>\n      <td>15997269</td>\n      <td>2160-09-27 15:00:00</td>\n      <td>94.0</td>\n      <td>NaN</td>\n      <td>NaN</td>\n      <td>NaN</td>\n    </tr>\n    <tr>\n      <th>498</th>\n      <td>498</td>\n      <td>30084052</td>\n      <td>2160-09-27 08:00:00</td>\n      <td>15997269</td>\n      <td>2160-09-27 17:00:00</td>\n      <td>98.0</td>\n      <td>132.0</td>\n      <td>65.0</td>\n      <td>81.0</td>\n    </tr>\n    <tr>\n      <th>499</th>\n      <td>499</td>\n      <td>30084052</td>\n      <td>2160-09-27 08:00:00</td>\n      <td>15997269</td>\n      <td>2160-09-27 19:00:00</td>\n      <td>94.0</td>\n      <td>126.0</td>\n      <td>73.0</td>\n      <td>84.0</td>\n    </tr>\n  </tbody>\n</table>\n<p>500 rows × 9 columns</p>\n</div>"
     },
     "execution_count": 430,
     "metadata": {},
     "output_type": "execute_result"
    }
   ],
   "source": [
    "# Switch between different csv files, haven't automated detection of this yet. The data array\n",
    "# needs to match the feature columns in the csv, or those features will be ignored.\n",
    "\n",
    "##### uncomment this set of features and \n",
    "data_arrays = [\"heart_rate\", \"sbp\", \"dbp\", \"mbp\"]\n",
    "\n",
    "#vitals_filename='vitals_data_before_and_after.csv'\n",
    "#vitals_filename = 'vitals_data_before_and_after_ABCD.csv')\n",
    "vitals_filename = 'vitals_data_before_and_after_ABC.csv'\n",
    "\n",
    "# this is the file produced by 02-ml-data-preprocessing-mulitplexed-bp\n",
    "vitals_data_df = pd.read_csv(config.out_dir / vitals_filename)\n",
    "vitals_no_ddi = pd.read_csv(config.out_dir / 'vitals_data_before_and_after_no_drug_interaction.csv')\n",
    "\n",
    "# data_arrays = [\"heart_rate\", \"sbp\", \"dbp\", \"mbp\", \"uric acid\", \"creatinine\"]\n",
    "# vitals_data_df = pd.read_csv('vitals_kidney_data.csv')\n",
    "\n",
    "print(f\"Duplicates found: {vitals_no_ddi[vitals_no_ddi['subject_id'].isin(vitals_data_df['subject_id'])]['subject_id'].nunique()}\")\n",
    "vitals_no_ddi = vitals_no_ddi[~vitals_no_ddi['subject_id'].isin(vitals_data_df['subject_id'])]\n",
    "print(f\"Remaining duplicates: {vitals_no_ddi[vitals_no_ddi['subject_id'].isin(vitals_data_df['subject_id'])]['subject_id'].nunique()}\")\n",
    "vitals_data_df.head(500)"
   ],
   "metadata": {
    "collapsed": false,
    "ExecuteTime": {
     "end_time": "2023-11-03T02:02:44.435259900Z",
     "start_time": "2023-11-03T02:02:42.329296300Z"
    }
   },
   "id": "11242a814e8b0279"
  },
  {
   "cell_type": "code",
   "execution_count": 431,
   "outputs": [
    {
     "name": "stdout",
     "output_type": "stream",
     "text": [
      "Unique subject ids 1539\n"
     ]
    }
   ],
   "source": [
    "print(f\"Unique subject ids {vitals_data_df['subject_id'].nunique()}\")"
   ],
   "metadata": {
    "collapsed": false,
    "ExecuteTime": {
     "end_time": "2023-11-03T02:02:44.496608800Z",
     "start_time": "2023-11-03T02:02:44.437253700Z"
    }
   },
   "id": "4259c7e73622c3e1"
  },
  {
   "cell_type": "code",
   "execution_count": 432,
   "outputs": [
    {
     "name": "stdout",
     "output_type": "stream",
     "text": [
      "Drug interaction events subject_id     1539\n",
      "dose_b_time    6897\n",
      "dtype: int64\n"
     ]
    }
   ],
   "source": [
    "print(f\"Drug interaction events {vitals_data_df[['subject_id', 'dose_b_time']].nunique()}\")"
   ],
   "metadata": {
    "collapsed": false,
    "ExecuteTime": {
     "end_time": "2023-11-03T02:02:44.575000700Z",
     "start_time": "2023-11-03T02:02:44.452728700Z"
    }
   },
   "id": "c185567799ba93ac"
  },
  {
   "cell_type": "code",
   "execution_count": 433,
   "outputs": [
    {
     "name": "stdout",
     "output_type": "stream",
     "text": [
      "Loaded cohort from ..\\out\\cohort-full.out\n",
      "          Unnamed: 0       stay_id          dose_b_time    subject_id  \\\n",
      "count  235790.000000  2.357900e+05               235790  2.357900e+05   \n",
      "mean     9225.066801  3.503665e+07  2154-03-01 20:05:48  1.494233e+07   \n",
      "min         0.000000  3.000414e+07  2110-03-02 18:20:00  1.000473e+07   \n",
      "25%      2878.000000  3.250448e+07  2133-10-25 16:44:00  1.242906e+07   \n",
      "50%      6527.000000  3.505892e+07  2154-01-19 13:42:00  1.491852e+07   \n",
      "75%     12760.000000  3.761153e+07  2175-10-03 12:42:00  1.750911e+07   \n",
      "max     39032.000000  3.999923e+07  2209-05-30 02:04:00  1.998326e+07   \n",
      "std      8624.111674  2.920039e+06                  NaN  2.886914e+06   \n",
      "\n",
      "                 charttime     heart_rate            sbp            dbp  \\\n",
      "count               235790  181098.000000  184156.000000  184113.000000   \n",
      "mean   2154-03-01 20:06:03      90.212652     116.615189      61.411769   \n",
      "min    2110-03-02 07:00:00       5.000000       8.000000       1.000000   \n",
      "25%    2133-10-25 16:06:15      76.000000     101.000000      52.000000   \n",
      "50%    2154-01-19 18:01:00      89.000000     114.000000      60.000000   \n",
      "75%    2175-10-03 21:45:00     102.000000     130.000000      69.000000   \n",
      "max    2209-05-30 14:00:00     217.000000     329.000000     290.000000   \n",
      "std                    NaN      19.709705      21.900488      14.349584   \n",
      "\n",
      "                 mbp  \n",
      "count  184207.000000  \n",
      "mean       77.415549  \n",
      "min         1.000000  \n",
      "25%        67.000000  \n",
      "50%        75.000000  \n",
      "75%        86.000000  \n",
      "max       299.000000  \n",
      "std        15.897094  \n",
      "       Unnamed: 0.1     Unnamed: 0       stay_id          dose_b_time  \\\n",
      "count  9.101920e+05  910192.000000  9.101920e+05               910192   \n",
      "mean   5.227950e+05   17674.876853  3.504640e+07  2154-01-04 01:26:36   \n",
      "min    0.000000e+00       0.000000  3.000048e+07  2110-01-13 14:39:00   \n",
      "25%    2.581528e+05    4902.000000  3.238052e+07  2134-03-15 20:43:00   \n",
      "50%    5.175595e+05   12595.000000  3.504974e+07  2154-04-11 00:54:00   \n",
      "75%    7.868122e+05   26448.000000  3.761708e+07  2174-07-05 15:05:00   \n",
      "max    1.060729e+06   61665.000000  3.999862e+07  2210-04-19 06:37:00   \n",
      "std    3.063192e+05   15982.684164  2.942292e+06                  NaN   \n",
      "\n",
      "         subject_id            charttime     heart_rate            sbp  \\\n",
      "count  9.101920e+05               910192  744009.000000  765738.000000   \n",
      "mean   1.498376e+07  2154-01-04 01:30:30      89.103474     116.828754   \n",
      "min    1.000122e+07  2110-01-13 11:53:00       1.000000       1.000000   \n",
      "25%    1.245736e+07  2134-03-16 01:45:00      76.000000     101.000000   \n",
      "50%    1.506291e+07  2154-04-11 03:03:00      88.000000     114.000000   \n",
      "75%    1.741757e+07  2174-07-05 14:15:00     101.000000     130.000000   \n",
      "max    1.999984e+07  2210-04-19 11:01:00     280.000000     357.000000   \n",
      "std    2.875095e+06                  NaN      19.224108      23.181000   \n",
      "\n",
      "                 dbp            mbp  \n",
      "count  765554.000000  765383.000000  \n",
      "mean       59.965831      76.921360  \n",
      "min         1.000000       1.000000  \n",
      "25%        50.000000      66.000000  \n",
      "50%        58.000000      75.000000  \n",
      "75%        68.000000      85.000000  \n",
      "max       278.000000     299.000000  \n",
      "std        14.246291      16.338405  \n"
     ]
    },
    {
     "data": {
      "text/plain": "        Unnamed: 0   stay_id         dose_b_time  subject_id  \\\n56335           16  30004144 2126-04-04 18:43:00    10369174   \n56343           24  30004144 2126-04-04 18:43:00    10369174   \n56337           18  30004144 2126-04-04 18:43:00    10369174   \n56322            3  30004144 2126-04-04 18:43:00    10369174   \n56327            8  30004144 2126-04-04 18:43:00    10369174   \n...            ...       ...                 ...         ...   \n201205           7  30015010 2154-08-09 20:00:00    11365767   \n201222          24  30015010 2154-08-09 20:00:00    11365767   \n215743          22  30015010 2154-08-10 20:00:00    11365767   \n215731          10  30015010 2154-08-10 20:00:00    11365767   \n215744          23  30015010 2154-08-10 20:00:00    11365767   \n\n                 charttime  heart_rate    sbp   dbp   mbp  \n56335  2126-04-04 13:20:00        60.0    NaN   NaN   NaN  \n56343  2126-04-04 13:21:00         NaN  132.0  53.0  78.0  \n56337  2126-04-04 13:30:00        65.0    NaN   NaN   NaN  \n56322  2126-04-04 13:31:00         NaN  139.0  60.0  87.0  \n56327  2126-04-04 13:32:00        63.0  150.0  63.0  93.0  \n...                    ...         ...    ...   ...   ...  \n201205 2154-08-10 06:00:00       101.0  116.0  84.0  92.0  \n201222 2154-08-10 07:00:00        93.0  110.0  73.0  82.0  \n215743 2154-08-10 09:00:00        85.0    NaN   NaN   NaN  \n215731 2154-08-10 09:05:00         NaN  105.0  63.0  73.0  \n215744 2154-08-10 10:00:00         NaN  108.0  74.0  81.0  \n\n[500 rows x 9 columns]",
      "text/html": "<div>\n<style scoped>\n    .dataframe tbody tr th:only-of-type {\n        vertical-align: middle;\n    }\n\n    .dataframe tbody tr th {\n        vertical-align: top;\n    }\n\n    .dataframe thead th {\n        text-align: right;\n    }\n</style>\n<table border=\"1\" class=\"dataframe\">\n  <thead>\n    <tr style=\"text-align: right;\">\n      <th></th>\n      <th>Unnamed: 0</th>\n      <th>stay_id</th>\n      <th>dose_b_time</th>\n      <th>subject_id</th>\n      <th>charttime</th>\n      <th>heart_rate</th>\n      <th>sbp</th>\n      <th>dbp</th>\n      <th>mbp</th>\n    </tr>\n  </thead>\n  <tbody>\n    <tr>\n      <th>56335</th>\n      <td>16</td>\n      <td>30004144</td>\n      <td>2126-04-04 18:43:00</td>\n      <td>10369174</td>\n      <td>2126-04-04 13:20:00</td>\n      <td>60.0</td>\n      <td>NaN</td>\n      <td>NaN</td>\n      <td>NaN</td>\n    </tr>\n    <tr>\n      <th>56343</th>\n      <td>24</td>\n      <td>30004144</td>\n      <td>2126-04-04 18:43:00</td>\n      <td>10369174</td>\n      <td>2126-04-04 13:21:00</td>\n      <td>NaN</td>\n      <td>132.0</td>\n      <td>53.0</td>\n      <td>78.0</td>\n    </tr>\n    <tr>\n      <th>56337</th>\n      <td>18</td>\n      <td>30004144</td>\n      <td>2126-04-04 18:43:00</td>\n      <td>10369174</td>\n      <td>2126-04-04 13:30:00</td>\n      <td>65.0</td>\n      <td>NaN</td>\n      <td>NaN</td>\n      <td>NaN</td>\n    </tr>\n    <tr>\n      <th>56322</th>\n      <td>3</td>\n      <td>30004144</td>\n      <td>2126-04-04 18:43:00</td>\n      <td>10369174</td>\n      <td>2126-04-04 13:31:00</td>\n      <td>NaN</td>\n      <td>139.0</td>\n      <td>60.0</td>\n      <td>87.0</td>\n    </tr>\n    <tr>\n      <th>56327</th>\n      <td>8</td>\n      <td>30004144</td>\n      <td>2126-04-04 18:43:00</td>\n      <td>10369174</td>\n      <td>2126-04-04 13:32:00</td>\n      <td>63.0</td>\n      <td>150.0</td>\n      <td>63.0</td>\n      <td>93.0</td>\n    </tr>\n    <tr>\n      <th>...</th>\n      <td>...</td>\n      <td>...</td>\n      <td>...</td>\n      <td>...</td>\n      <td>...</td>\n      <td>...</td>\n      <td>...</td>\n      <td>...</td>\n      <td>...</td>\n    </tr>\n    <tr>\n      <th>201205</th>\n      <td>7</td>\n      <td>30015010</td>\n      <td>2154-08-09 20:00:00</td>\n      <td>11365767</td>\n      <td>2154-08-10 06:00:00</td>\n      <td>101.0</td>\n      <td>116.0</td>\n      <td>84.0</td>\n      <td>92.0</td>\n    </tr>\n    <tr>\n      <th>201222</th>\n      <td>24</td>\n      <td>30015010</td>\n      <td>2154-08-09 20:00:00</td>\n      <td>11365767</td>\n      <td>2154-08-10 07:00:00</td>\n      <td>93.0</td>\n      <td>110.0</td>\n      <td>73.0</td>\n      <td>82.0</td>\n    </tr>\n    <tr>\n      <th>215743</th>\n      <td>22</td>\n      <td>30015010</td>\n      <td>2154-08-10 20:00:00</td>\n      <td>11365767</td>\n      <td>2154-08-10 09:00:00</td>\n      <td>85.0</td>\n      <td>NaN</td>\n      <td>NaN</td>\n      <td>NaN</td>\n    </tr>\n    <tr>\n      <th>215731</th>\n      <td>10</td>\n      <td>30015010</td>\n      <td>2154-08-10 20:00:00</td>\n      <td>11365767</td>\n      <td>2154-08-10 09:05:00</td>\n      <td>NaN</td>\n      <td>105.0</td>\n      <td>63.0</td>\n      <td>73.0</td>\n    </tr>\n    <tr>\n      <th>215744</th>\n      <td>23</td>\n      <td>30015010</td>\n      <td>2154-08-10 20:00:00</td>\n      <td>11365767</td>\n      <td>2154-08-10 10:00:00</td>\n      <td>NaN</td>\n      <td>108.0</td>\n      <td>74.0</td>\n      <td>81.0</td>\n    </tr>\n  </tbody>\n</table>\n<p>500 rows × 9 columns</p>\n</div>"
     },
     "execution_count": 433,
     "metadata": {},
     "output_type": "execute_result"
    }
   ],
   "source": [
    "def fix_csv_data_types(df):\n",
    "    df[\"charttime\"] = df[\"charttime\"].astype(\"datetime64[s]\")\n",
    "    df[\"dose_b_time\"] = df[\"dose_b_time\"].astype(\"datetime64[s]\")\n",
    "    return df\n",
    "\n",
    "vitals_data_df = fix_csv_data_types(vitals_data_df)\n",
    "vitals_no_ddi = fix_csv_data_types(vitals_no_ddi)\n",
    "\n",
    "vitals_data_df = vitals_data_df.sort_values(by=[\"stay_id\", \"dose_b_time\", \"charttime\"])\n",
    "\n",
    "try:\n",
    "    serializer = Serializer()\n",
    "    cohort_with_icd = serializer.read_cohort()  # need to run 01-cohort.ipynb to produce the cohort\n",
    "except FileNotFoundError:\n",
    "    raise Exception(\"Need to run [01-cohort.ipynb] at least once to create the cohort file in the /out directory\")\n",
    "\n",
    "\n",
    "\n",
    "print(vitals_data_df.describe())\n",
    "print(vitals_no_ddi.describe())\n",
    "vitals_data_df.head(500)\n",
    "\n"
   ],
   "metadata": {
    "collapsed": false,
    "ExecuteTime": {
     "end_time": "2023-11-03T02:02:46.170680100Z",
     "start_time": "2023-11-03T02:02:44.499618100Z"
    }
   },
   "id": "initial_id"
  },
  {
   "cell_type": "code",
   "execution_count": 434,
   "outputs": [
    {
     "name": "stdout",
     "output_type": "stream",
     "text": [
      "       subject_id  num_icd_codes\n",
      "4        10990398              1\n",
      "11       11343484              2\n",
      "14       11549427              2\n",
      "47       12181540              1\n",
      "87       14482820              1\n",
      "...           ...            ...\n",
      "49449    10828900              1\n",
      "49491    16331109              1\n",
      "49496    13370388              1\n",
      "49508    18260575              2\n",
      "49524    18896122              1\n",
      "\n",
      "[1544 rows x 2 columns]\n",
      "has_icd ratio 1.0\n",
      "Unique subject ids 1539\n"
     ]
    },
    {
     "data": {
      "text/plain": "     Unnamed: 0   stay_id         dose_b_time  subject_id           charttime  \\\n0            16  30004144 2126-04-04 18:43:00    10369174 2126-04-04 13:20:00   \n1            24  30004144 2126-04-04 18:43:00    10369174 2126-04-04 13:21:00   \n2            18  30004144 2126-04-04 18:43:00    10369174 2126-04-04 13:30:00   \n3             3  30004144 2126-04-04 18:43:00    10369174 2126-04-04 13:31:00   \n4             8  30004144 2126-04-04 18:43:00    10369174 2126-04-04 13:32:00   \n..          ...       ...                 ...         ...                 ...   \n495           7  30015010 2154-08-09 20:00:00    11365767 2154-08-10 06:00:00   \n496          24  30015010 2154-08-09 20:00:00    11365767 2154-08-10 07:00:00   \n497          22  30015010 2154-08-10 20:00:00    11365767 2154-08-10 09:00:00   \n498          10  30015010 2154-08-10 20:00:00    11365767 2154-08-10 09:05:00   \n499          23  30015010 2154-08-10 20:00:00    11365767 2154-08-10 10:00:00   \n\n     heart_rate    sbp   dbp   mbp  num_icd_codes  has_icd  \n0          60.0    NaN   NaN   NaN              2     True  \n1           NaN  132.0  53.0  78.0              2     True  \n2          65.0    NaN   NaN   NaN              2     True  \n3           NaN  139.0  60.0  87.0              2     True  \n4          63.0  150.0  63.0  93.0              2     True  \n..          ...    ...   ...   ...            ...      ...  \n495       101.0  116.0  84.0  92.0              1     True  \n496        93.0  110.0  73.0  82.0              1     True  \n497        85.0    NaN   NaN   NaN              1     True  \n498         NaN  105.0  63.0  73.0              1     True  \n499         NaN  108.0  74.0  81.0              1     True  \n\n[500 rows x 11 columns]",
      "text/html": "<div>\n<style scoped>\n    .dataframe tbody tr th:only-of-type {\n        vertical-align: middle;\n    }\n\n    .dataframe tbody tr th {\n        vertical-align: top;\n    }\n\n    .dataframe thead th {\n        text-align: right;\n    }\n</style>\n<table border=\"1\" class=\"dataframe\">\n  <thead>\n    <tr style=\"text-align: right;\">\n      <th></th>\n      <th>Unnamed: 0</th>\n      <th>stay_id</th>\n      <th>dose_b_time</th>\n      <th>subject_id</th>\n      <th>charttime</th>\n      <th>heart_rate</th>\n      <th>sbp</th>\n      <th>dbp</th>\n      <th>mbp</th>\n      <th>num_icd_codes</th>\n      <th>has_icd</th>\n    </tr>\n  </thead>\n  <tbody>\n    <tr>\n      <th>0</th>\n      <td>16</td>\n      <td>30004144</td>\n      <td>2126-04-04 18:43:00</td>\n      <td>10369174</td>\n      <td>2126-04-04 13:20:00</td>\n      <td>60.0</td>\n      <td>NaN</td>\n      <td>NaN</td>\n      <td>NaN</td>\n      <td>2</td>\n      <td>True</td>\n    </tr>\n    <tr>\n      <th>1</th>\n      <td>24</td>\n      <td>30004144</td>\n      <td>2126-04-04 18:43:00</td>\n      <td>10369174</td>\n      <td>2126-04-04 13:21:00</td>\n      <td>NaN</td>\n      <td>132.0</td>\n      <td>53.0</td>\n      <td>78.0</td>\n      <td>2</td>\n      <td>True</td>\n    </tr>\n    <tr>\n      <th>2</th>\n      <td>18</td>\n      <td>30004144</td>\n      <td>2126-04-04 18:43:00</td>\n      <td>10369174</td>\n      <td>2126-04-04 13:30:00</td>\n      <td>65.0</td>\n      <td>NaN</td>\n      <td>NaN</td>\n      <td>NaN</td>\n      <td>2</td>\n      <td>True</td>\n    </tr>\n    <tr>\n      <th>3</th>\n      <td>3</td>\n      <td>30004144</td>\n      <td>2126-04-04 18:43:00</td>\n      <td>10369174</td>\n      <td>2126-04-04 13:31:00</td>\n      <td>NaN</td>\n      <td>139.0</td>\n      <td>60.0</td>\n      <td>87.0</td>\n      <td>2</td>\n      <td>True</td>\n    </tr>\n    <tr>\n      <th>4</th>\n      <td>8</td>\n      <td>30004144</td>\n      <td>2126-04-04 18:43:00</td>\n      <td>10369174</td>\n      <td>2126-04-04 13:32:00</td>\n      <td>63.0</td>\n      <td>150.0</td>\n      <td>63.0</td>\n      <td>93.0</td>\n      <td>2</td>\n      <td>True</td>\n    </tr>\n    <tr>\n      <th>...</th>\n      <td>...</td>\n      <td>...</td>\n      <td>...</td>\n      <td>...</td>\n      <td>...</td>\n      <td>...</td>\n      <td>...</td>\n      <td>...</td>\n      <td>...</td>\n      <td>...</td>\n      <td>...</td>\n    </tr>\n    <tr>\n      <th>495</th>\n      <td>7</td>\n      <td>30015010</td>\n      <td>2154-08-09 20:00:00</td>\n      <td>11365767</td>\n      <td>2154-08-10 06:00:00</td>\n      <td>101.0</td>\n      <td>116.0</td>\n      <td>84.0</td>\n      <td>92.0</td>\n      <td>1</td>\n      <td>True</td>\n    </tr>\n    <tr>\n      <th>496</th>\n      <td>24</td>\n      <td>30015010</td>\n      <td>2154-08-09 20:00:00</td>\n      <td>11365767</td>\n      <td>2154-08-10 07:00:00</td>\n      <td>93.0</td>\n      <td>110.0</td>\n      <td>73.0</td>\n      <td>82.0</td>\n      <td>1</td>\n      <td>True</td>\n    </tr>\n    <tr>\n      <th>497</th>\n      <td>22</td>\n      <td>30015010</td>\n      <td>2154-08-10 20:00:00</td>\n      <td>11365767</td>\n      <td>2154-08-10 09:00:00</td>\n      <td>85.0</td>\n      <td>NaN</td>\n      <td>NaN</td>\n      <td>NaN</td>\n      <td>1</td>\n      <td>True</td>\n    </tr>\n    <tr>\n      <th>498</th>\n      <td>10</td>\n      <td>30015010</td>\n      <td>2154-08-10 20:00:00</td>\n      <td>11365767</td>\n      <td>2154-08-10 09:05:00</td>\n      <td>NaN</td>\n      <td>105.0</td>\n      <td>63.0</td>\n      <td>73.0</td>\n      <td>1</td>\n      <td>True</td>\n    </tr>\n    <tr>\n      <th>499</th>\n      <td>23</td>\n      <td>30015010</td>\n      <td>2154-08-10 20:00:00</td>\n      <td>11365767</td>\n      <td>2154-08-10 10:00:00</td>\n      <td>NaN</td>\n      <td>108.0</td>\n      <td>74.0</td>\n      <td>81.0</td>\n      <td>1</td>\n      <td>True</td>\n    </tr>\n  </tbody>\n</table>\n<p>500 rows × 11 columns</p>\n</div>"
     },
     "execution_count": 434,
     "metadata": {},
     "output_type": "execute_result"
    }
   ],
   "source": [
    "# join with icd code info to create has_icd\n",
    "\n",
    "unique_subject_num_icd_codes = cohort_with_icd[[\"subject_id\", \"num_icd_codes\"]].drop_duplicates(subset=\"subject_id\")\n",
    "print(unique_subject_num_icd_codes)\n",
    "\n",
    "vitals_data_df = vitals_data_df.drop_duplicates()\n",
    "\n",
    "vitals_data_df = pd.merge(left=vitals_data_df, right=unique_subject_num_icd_codes, how=\"inner\", on='subject_id')\n",
    "# generate the has_icd ground truth value\n",
    "vitals_data_df[\"has_icd\"] = ~vitals_data_df['num_icd_codes'].isna()\n",
    "\n",
    "print(f\"has_icd ratio {vitals_data_df['has_icd'].sum() / vitals_data_df['subject_id'].count()}\")\n",
    "print(f\"Unique subject ids {vitals_data_df['subject_id'].nunique()}\")\n",
    "\n",
    "vitals_data_df.head(500)"
   ],
   "metadata": {
    "collapsed": false,
    "ExecuteTime": {
     "end_time": "2023-11-03T02:02:46.343749400Z",
     "start_time": "2023-11-03T02:02:46.168684800Z"
    }
   },
   "id": "a617a1d7e69e44d7"
  },
  {
   "cell_type": "code",
   "execution_count": 435,
   "outputs": [
    {
     "name": "stdout",
     "output_type": "stream",
     "text": [
      "(235790, 11)\n",
      "(910192, 10)\n",
      "RangeIndex(start=0, stop=235790, step=1)\n",
      "Index([      0,       1,       2,       3,       4,       5,       6,       7,\n",
      "             8,       9,\n",
      "       ...\n",
      "       1060720, 1060721, 1060722, 1060723, 1060724, 1060725, 1060726, 1060727,\n",
      "       1060728, 1060729],\n",
      "      dtype='int64', length=910192)\n"
     ]
    },
    {
     "data": {
      "text/plain": "          stay_id         dose_b_time  subject_id           charttime  \\\n0        30000484 2136-01-15 22:02:00    18421337 2136-01-15 18:00:00   \n1        30000484 2136-01-15 22:02:00    18421337 2136-01-16 01:00:00   \n2        30000484 2136-01-15 22:02:00    18421337 2136-01-15 14:30:00   \n3        30000484 2136-01-15 22:02:00    18421337 2136-01-16 00:00:00   \n4        30000484 2136-01-15 22:02:00    18421337 2136-01-15 14:00:00   \n...           ...                 ...         ...                 ...   \n1060725  39323481 2121-03-10 08:34:00    11652327 2121-03-10 19:00:00   \n1060726  39323481 2121-03-10 08:34:00    11652327 2121-03-09 22:30:00   \n1060727  39323481 2121-03-10 08:34:00    11652327 2121-03-09 22:15:00   \n1060728  39323481 2121-03-10 08:34:00    11652327 2121-03-09 22:00:00   \n1060729  39323481 2121-03-10 08:34:00    11652327 2121-03-10 08:00:00   \n\n         has_icd  num_icd_codes  heart_rate    sbp    dbp   mbp  \n0          False              0        89.0  103.0   22.0  41.0  \n1          False              0        99.0    NaN    NaN   NaN  \n2          False              0         NaN  129.0  113.0   NaN  \n3          False              0        97.0    NaN    NaN   NaN  \n4          False              0        92.0    NaN    NaN  58.0  \n...          ...            ...         ...    ...    ...   ...  \n1060725    False              0       119.0  108.0   56.0  72.0  \n1060726    False              0       111.0  139.0   71.0  94.0  \n1060727    False              0       109.0  125.0   63.0  85.0  \n1060728    False              0       110.0  129.0   65.0  87.0  \n1060729    False              0       112.0  100.0   52.0  67.0  \n\n[910192 rows x 10 columns]",
      "text/html": "<div>\n<style scoped>\n    .dataframe tbody tr th:only-of-type {\n        vertical-align: middle;\n    }\n\n    .dataframe tbody tr th {\n        vertical-align: top;\n    }\n\n    .dataframe thead th {\n        text-align: right;\n    }\n</style>\n<table border=\"1\" class=\"dataframe\">\n  <thead>\n    <tr style=\"text-align: right;\">\n      <th></th>\n      <th>stay_id</th>\n      <th>dose_b_time</th>\n      <th>subject_id</th>\n      <th>charttime</th>\n      <th>has_icd</th>\n      <th>num_icd_codes</th>\n      <th>heart_rate</th>\n      <th>sbp</th>\n      <th>dbp</th>\n      <th>mbp</th>\n    </tr>\n  </thead>\n  <tbody>\n    <tr>\n      <th>0</th>\n      <td>30000484</td>\n      <td>2136-01-15 22:02:00</td>\n      <td>18421337</td>\n      <td>2136-01-15 18:00:00</td>\n      <td>False</td>\n      <td>0</td>\n      <td>89.0</td>\n      <td>103.0</td>\n      <td>22.0</td>\n      <td>41.0</td>\n    </tr>\n    <tr>\n      <th>1</th>\n      <td>30000484</td>\n      <td>2136-01-15 22:02:00</td>\n      <td>18421337</td>\n      <td>2136-01-16 01:00:00</td>\n      <td>False</td>\n      <td>0</td>\n      <td>99.0</td>\n      <td>NaN</td>\n      <td>NaN</td>\n      <td>NaN</td>\n    </tr>\n    <tr>\n      <th>2</th>\n      <td>30000484</td>\n      <td>2136-01-15 22:02:00</td>\n      <td>18421337</td>\n      <td>2136-01-15 14:30:00</td>\n      <td>False</td>\n      <td>0</td>\n      <td>NaN</td>\n      <td>129.0</td>\n      <td>113.0</td>\n      <td>NaN</td>\n    </tr>\n    <tr>\n      <th>3</th>\n      <td>30000484</td>\n      <td>2136-01-15 22:02:00</td>\n      <td>18421337</td>\n      <td>2136-01-16 00:00:00</td>\n      <td>False</td>\n      <td>0</td>\n      <td>97.0</td>\n      <td>NaN</td>\n      <td>NaN</td>\n      <td>NaN</td>\n    </tr>\n    <tr>\n      <th>4</th>\n      <td>30000484</td>\n      <td>2136-01-15 22:02:00</td>\n      <td>18421337</td>\n      <td>2136-01-15 14:00:00</td>\n      <td>False</td>\n      <td>0</td>\n      <td>92.0</td>\n      <td>NaN</td>\n      <td>NaN</td>\n      <td>58.0</td>\n    </tr>\n    <tr>\n      <th>...</th>\n      <td>...</td>\n      <td>...</td>\n      <td>...</td>\n      <td>...</td>\n      <td>...</td>\n      <td>...</td>\n      <td>...</td>\n      <td>...</td>\n      <td>...</td>\n      <td>...</td>\n    </tr>\n    <tr>\n      <th>1060725</th>\n      <td>39323481</td>\n      <td>2121-03-10 08:34:00</td>\n      <td>11652327</td>\n      <td>2121-03-10 19:00:00</td>\n      <td>False</td>\n      <td>0</td>\n      <td>119.0</td>\n      <td>108.0</td>\n      <td>56.0</td>\n      <td>72.0</td>\n    </tr>\n    <tr>\n      <th>1060726</th>\n      <td>39323481</td>\n      <td>2121-03-10 08:34:00</td>\n      <td>11652327</td>\n      <td>2121-03-09 22:30:00</td>\n      <td>False</td>\n      <td>0</td>\n      <td>111.0</td>\n      <td>139.0</td>\n      <td>71.0</td>\n      <td>94.0</td>\n    </tr>\n    <tr>\n      <th>1060727</th>\n      <td>39323481</td>\n      <td>2121-03-10 08:34:00</td>\n      <td>11652327</td>\n      <td>2121-03-09 22:15:00</td>\n      <td>False</td>\n      <td>0</td>\n      <td>109.0</td>\n      <td>125.0</td>\n      <td>63.0</td>\n      <td>85.0</td>\n    </tr>\n    <tr>\n      <th>1060728</th>\n      <td>39323481</td>\n      <td>2121-03-10 08:34:00</td>\n      <td>11652327</td>\n      <td>2121-03-09 22:00:00</td>\n      <td>False</td>\n      <td>0</td>\n      <td>110.0</td>\n      <td>129.0</td>\n      <td>65.0</td>\n      <td>87.0</td>\n    </tr>\n    <tr>\n      <th>1060729</th>\n      <td>39323481</td>\n      <td>2121-03-10 08:34:00</td>\n      <td>11652327</td>\n      <td>2121-03-10 08:00:00</td>\n      <td>False</td>\n      <td>0</td>\n      <td>112.0</td>\n      <td>100.0</td>\n      <td>52.0</td>\n      <td>67.0</td>\n    </tr>\n  </tbody>\n</table>\n<p>910192 rows × 10 columns</p>\n</div>"
     },
     "execution_count": 435,
     "metadata": {},
     "output_type": "execute_result"
    }
   ],
   "source": [
    "# create the negative cohort\n",
    "vitals_no_ddi['num_icd_codes'] = 0\n",
    "vitals_no_ddi['has_icd'] = False\n",
    "vitals_no_ddi = vitals_no_ddi[['stay_id', 'dose_b_time', 'subject_id', 'charttime', 'has_icd', 'num_icd_codes'] + data_arrays]\n",
    "print(vitals_data_df.shape)\n",
    "print(vitals_no_ddi.shape)\n",
    "print(vitals_data_df.index)\n",
    "print(vitals_no_ddi.index)\n",
    "\n",
    "vitals_no_ddi"
   ],
   "metadata": {
    "collapsed": false,
    "ExecuteTime": {
     "end_time": "2023-11-03T02:02:46.448109700Z",
     "start_time": "2023-11-03T02:02:46.340749Z"
    }
   },
   "id": "d1ad953ea560d0d2"
  },
  {
   "cell_type": "markdown",
   "source": [],
   "metadata": {
    "collapsed": false,
    "ExecuteTime": {
     "end_time": "2023-10-26T13:30:03.112051400Z",
     "start_time": "2023-10-26T13:30:02.901022Z"
    }
   },
   "id": "71bb824da43eebaa"
  },
  {
   "cell_type": "code",
   "execution_count": 436,
   "outputs": [
    {
     "name": "stdout",
     "output_type": "stream",
     "text": [
      "1672\n",
      "10182\n",
      "1672\n",
      "Size of target 235790, size of negative 152664, size of combined 388454\n",
      "Unnamed: 0               float64\n",
      "stay_id                    int64\n",
      "dose_b_time        datetime64[s]\n",
      "subject_id                 int64\n",
      "charttime          datetime64[s]\n",
      "heart_rate               float64\n",
      "sbp                      float64\n",
      "dbp                      float64\n",
      "mbp                      float64\n",
      "num_icd_codes              Int64\n",
      "has_icd                     bool\n",
      "timestep          timedelta64[s]\n",
      "timestep_float           float64\n",
      "dtype: object\n",
      "Unnamed: 0               float64\n",
      "stay_id                    int64\n",
      "dose_b_time        datetime64[s]\n",
      "subject_id                 int64\n",
      "charttime          datetime64[s]\n",
      "heart_rate               float64\n",
      "sbp                      float64\n",
      "dbp                      float64\n",
      "mbp                      float64\n",
      "num_icd_codes              Int64\n",
      "has_icd                     bool\n",
      "timestep          timedelta64[s]\n",
      "timestep_float           float64\n",
      "dtype: object\n",
      "count     388454\n",
      "unique         2\n",
      "top         True\n",
      "freq      235790\n",
      "Name: has_icd, dtype: object\n"
     ]
    },
    {
     "data": {
      "text/plain": "    Unnamed: 0   stay_id         dose_b_time  subject_id           charttime  \\\n0         16.0  30004144 2126-04-04 18:43:00    10369174 2126-04-04 13:20:00   \n1         24.0  30004144 2126-04-04 18:43:00    10369174 2126-04-04 13:21:00   \n2         18.0  30004144 2126-04-04 18:43:00    10369174 2126-04-04 13:30:00   \n3          3.0  30004144 2126-04-04 18:43:00    10369174 2126-04-04 13:31:00   \n4          8.0  30004144 2126-04-04 18:43:00    10369174 2126-04-04 13:32:00   \n5          7.0  30004144 2126-04-04 18:43:00    10369174 2126-04-04 13:45:00   \n6         10.0  30004144 2126-04-04 18:43:00    10369174 2126-04-04 14:00:00   \n7         19.0  30004144 2126-04-04 18:43:00    10369174 2126-04-04 14:15:00   \n8          0.0  30004144 2126-04-04 18:43:00    10369174 2126-04-04 14:30:00   \n9         23.0  30004144 2126-04-04 18:43:00    10369174 2126-04-04 14:31:00   \n10         6.0  30004144 2126-04-04 18:43:00    10369174 2126-04-04 14:34:00   \n11        32.0  30004144 2126-04-04 18:43:00    10369174 2126-04-04 14:45:00   \n12        14.0  30004144 2126-04-04 18:43:00    10369174 2126-04-04 15:00:00   \n13        25.0  30004144 2126-04-04 18:43:00    10369174 2126-04-04 16:00:00   \n14         2.0  30004144 2126-04-04 18:43:00    10369174 2126-04-04 16:01:00   \n15         9.0  30004144 2126-04-04 18:43:00    10369174 2126-04-04 17:00:00   \n16        12.0  30004144 2126-04-04 18:43:00    10369174 2126-04-04 18:00:00   \n17        21.0  30004144 2126-04-04 18:43:00    10369174 2126-04-04 19:00:00   \n18        31.0  30004144 2126-04-04 18:43:00    10369174 2126-04-04 20:00:00   \n19        22.0  30004144 2126-04-04 18:43:00    10369174 2126-04-04 21:00:00   \n20        17.0  30004144 2126-04-04 18:43:00    10369174 2126-04-04 22:00:00   \n21        11.0  30004144 2126-04-04 18:43:00    10369174 2126-04-04 23:00:00   \n22        28.0  30004144 2126-04-04 18:43:00    10369174 2126-04-04 23:45:00   \n23         4.0  30004144 2126-04-04 18:43:00    10369174 2126-04-05 00:00:00   \n24         1.0  30004144 2126-04-04 18:43:00    10369174 2126-04-05 00:15:00   \n25         5.0  30004144 2126-04-04 18:43:00    10369174 2126-04-05 00:30:00   \n26        29.0  30004144 2126-04-04 18:43:00    10369174 2126-04-05 01:00:00   \n27        13.0  30004144 2126-04-04 18:43:00    10369174 2126-04-05 02:00:00   \n28        20.0  30004144 2126-04-04 18:43:00    10369174 2126-04-05 03:00:00   \n29        15.0  30004144 2126-04-04 18:43:00    10369174 2126-04-05 04:00:00   \n30        30.0  30004144 2126-04-04 18:43:00    10369174 2126-04-05 05:00:00   \n31        27.0  30004144 2126-04-04 18:43:00    10369174 2126-04-05 06:00:00   \n32        26.0  30004144 2126-04-04 18:43:00    10369174 2126-04-05 06:03:00   \n33        15.0  30004144 2126-04-07 11:46:00    10369174 2126-04-07 00:00:00   \n34        25.0  30004144 2126-04-07 11:46:00    10369174 2126-04-07 01:00:00   \n35        20.0  30004144 2126-04-07 11:46:00    10369174 2126-04-07 02:00:00   \n36        14.0  30004144 2126-04-07 11:46:00    10369174 2126-04-07 03:00:00   \n37        11.0  30004144 2126-04-07 11:46:00    10369174 2126-04-07 04:00:00   \n38         4.0  30004144 2126-04-07 11:46:00    10369174 2126-04-07 05:00:00   \n39        19.0  30004144 2126-04-07 11:46:00    10369174 2126-04-07 06:00:00   \n40        12.0  30004144 2126-04-07 11:46:00    10369174 2126-04-07 07:00:00   \n41        28.0  30004144 2126-04-07 11:46:00    10369174 2126-04-07 08:00:00   \n42         5.0  30004144 2126-04-07 11:46:00    10369174 2126-04-07 09:00:00   \n43        24.0  30004144 2126-04-07 11:46:00    10369174 2126-04-07 10:00:00   \n44        17.0  30004144 2126-04-07 11:46:00    10369174 2126-04-07 11:00:00   \n45        27.0  30004144 2126-04-07 11:46:00    10369174 2126-04-07 12:00:00   \n46        22.0  30004144 2126-04-07 11:46:00    10369174 2126-04-07 13:00:00   \n47         2.0  30004144 2126-04-07 11:46:00    10369174 2126-04-07 14:00:00   \n48        21.0  30004144 2126-04-07 11:46:00    10369174 2126-04-07 15:00:00   \n49        16.0  30004144 2126-04-07 11:46:00    10369174 2126-04-07 16:00:00   \n\n    heart_rate    sbp   dbp    mbp  num_icd_codes  has_icd          timestep  \\\n0         60.0    NaN   NaN    NaN              2     True -1 days +18:37:00   \n1          NaN  132.0  53.0   78.0              2     True -1 days +18:38:00   \n2         65.0    NaN   NaN    NaN              2     True -1 days +18:47:00   \n3          NaN  139.0  60.0   87.0              2     True -1 days +18:48:00   \n4         63.0  150.0  63.0   93.0              2     True -1 days +18:49:00   \n5         63.0  140.0  59.0   86.0              2     True -1 days +19:02:00   \n6         94.0  135.0  58.0   82.0              2     True -1 days +19:17:00   \n7         67.0  156.0  66.0  100.0              2     True -1 days +19:32:00   \n8          NaN  141.0  67.0   95.0              2     True -1 days +19:47:00   \n9         70.0    NaN   NaN    NaN              2     True -1 days +19:48:00   \n10        63.0  136.0  57.0   83.0              2     True -1 days +19:51:00   \n11        64.0  131.0  54.0   81.0              2     True -1 days +20:02:00   \n12        68.0  159.0  69.0  102.0              2     True -1 days +20:17:00   \n13         NaN  143.0  63.0   92.0              2     True -1 days +21:17:00   \n14        73.0    NaN   NaN    NaN              2     True -1 days +21:18:00   \n15        72.0  154.0  67.0   96.0              2     True -1 days +22:17:00   \n16       101.0  132.0  66.0   89.0              2     True -1 days +23:17:00   \n17        81.0  115.0  56.0   74.0              2     True   0 days 00:17:00   \n18       111.0  120.0  60.0   79.0              2     True   0 days 01:17:00   \n19       100.0  126.0  58.0   80.0              2     True   0 days 02:17:00   \n20        91.0  114.0  55.0   73.0              2     True   0 days 03:17:00   \n21        93.0  122.0  58.0   78.0              2     True   0 days 04:17:00   \n22        73.0  123.0  51.0   72.0              2     True   0 days 05:02:00   \n23        71.0   96.0  42.0   57.0              2     True   0 days 05:17:00   \n24        70.0   95.0  43.0   58.0              2     True   0 days 05:32:00   \n25        71.0   99.0  45.0   60.0              2     True   0 days 05:47:00   \n26        75.0  115.0  50.0   68.0              2     True   0 days 06:17:00   \n27        74.0  138.0  56.0   82.0              2     True   0 days 07:17:00   \n28        68.0  114.0  46.0   65.0              2     True   0 days 08:17:00   \n29        69.0  128.0  50.0   73.0              2     True   0 days 09:17:00   \n30        61.0  114.0  42.0   60.0              2     True   0 days 10:17:00   \n31         NaN  139.0  57.0   82.0              2     True   0 days 11:17:00   \n32        74.0    NaN   NaN    NaN              2     True   0 days 11:20:00   \n33        65.0  142.0  82.0  100.0              2     True -1 days +12:14:00   \n34        63.0  150.0  78.0   98.0              2     True -1 days +13:14:00   \n35        62.0  131.0  72.0   88.0              2     True -1 days +14:14:00   \n36        60.0  123.0  56.0   78.0              2     True -1 days +15:14:00   \n37        61.0  127.0  60.0   83.0              2     True -1 days +16:14:00   \n38        66.0  136.0  65.0   89.0              2     True -1 days +17:14:00   \n39        61.0  127.0  60.0   81.0              2     True -1 days +18:14:00   \n40        61.0  137.0  67.0   90.0              2     True -1 days +19:14:00   \n41        63.0  136.0  66.0   87.0              2     True -1 days +20:14:00   \n42        60.0  133.0  65.0   82.0              2     True -1 days +21:14:00   \n43        60.0  133.0  63.0   81.0              2     True -1 days +22:14:00   \n44        60.0  138.0  62.0   82.0              2     True -1 days +23:14:00   \n45        75.0  149.0  56.0   85.0              2     True   0 days 00:14:00   \n46        80.0  155.0  61.0   91.0              2     True   0 days 01:14:00   \n47        60.0  135.0  57.0   80.0              2     True   0 days 02:14:00   \n48        76.0  160.0  71.0  100.0              2     True   0 days 03:14:00   \n49        64.0  148.0  66.0   92.0              2     True   0 days 04:14:00   \n\n    timestep_float  \n0         -19380.0  \n1         -19320.0  \n2         -18780.0  \n3         -18720.0  \n4         -18660.0  \n5         -17880.0  \n6         -16980.0  \n7         -16080.0  \n8         -15180.0  \n9         -15120.0  \n10        -14940.0  \n11        -14280.0  \n12        -13380.0  \n13         -9780.0  \n14         -9720.0  \n15         -6180.0  \n16         -2580.0  \n17          1020.0  \n18          4620.0  \n19          8220.0  \n20         11820.0  \n21         15420.0  \n22         18120.0  \n23         19020.0  \n24         19920.0  \n25         20820.0  \n26         22620.0  \n27         26220.0  \n28         29820.0  \n29         33420.0  \n30         37020.0  \n31         40620.0  \n32         40800.0  \n33        -42360.0  \n34        -38760.0  \n35        -35160.0  \n36        -31560.0  \n37        -27960.0  \n38        -24360.0  \n39        -20760.0  \n40        -17160.0  \n41        -13560.0  \n42         -9960.0  \n43         -6360.0  \n44         -2760.0  \n45           840.0  \n46          4440.0  \n47          8040.0  \n48         11640.0  \n49         15240.0  ",
      "text/html": "<div>\n<style scoped>\n    .dataframe tbody tr th:only-of-type {\n        vertical-align: middle;\n    }\n\n    .dataframe tbody tr th {\n        vertical-align: top;\n    }\n\n    .dataframe thead th {\n        text-align: right;\n    }\n</style>\n<table border=\"1\" class=\"dataframe\">\n  <thead>\n    <tr style=\"text-align: right;\">\n      <th></th>\n      <th>Unnamed: 0</th>\n      <th>stay_id</th>\n      <th>dose_b_time</th>\n      <th>subject_id</th>\n      <th>charttime</th>\n      <th>heart_rate</th>\n      <th>sbp</th>\n      <th>dbp</th>\n      <th>mbp</th>\n      <th>num_icd_codes</th>\n      <th>has_icd</th>\n      <th>timestep</th>\n      <th>timestep_float</th>\n    </tr>\n  </thead>\n  <tbody>\n    <tr>\n      <th>0</th>\n      <td>16.0</td>\n      <td>30004144</td>\n      <td>2126-04-04 18:43:00</td>\n      <td>10369174</td>\n      <td>2126-04-04 13:20:00</td>\n      <td>60.0</td>\n      <td>NaN</td>\n      <td>NaN</td>\n      <td>NaN</td>\n      <td>2</td>\n      <td>True</td>\n      <td>-1 days +18:37:00</td>\n      <td>-19380.0</td>\n    </tr>\n    <tr>\n      <th>1</th>\n      <td>24.0</td>\n      <td>30004144</td>\n      <td>2126-04-04 18:43:00</td>\n      <td>10369174</td>\n      <td>2126-04-04 13:21:00</td>\n      <td>NaN</td>\n      <td>132.0</td>\n      <td>53.0</td>\n      <td>78.0</td>\n      <td>2</td>\n      <td>True</td>\n      <td>-1 days +18:38:00</td>\n      <td>-19320.0</td>\n    </tr>\n    <tr>\n      <th>2</th>\n      <td>18.0</td>\n      <td>30004144</td>\n      <td>2126-04-04 18:43:00</td>\n      <td>10369174</td>\n      <td>2126-04-04 13:30:00</td>\n      <td>65.0</td>\n      <td>NaN</td>\n      <td>NaN</td>\n      <td>NaN</td>\n      <td>2</td>\n      <td>True</td>\n      <td>-1 days +18:47:00</td>\n      <td>-18780.0</td>\n    </tr>\n    <tr>\n      <th>3</th>\n      <td>3.0</td>\n      <td>30004144</td>\n      <td>2126-04-04 18:43:00</td>\n      <td>10369174</td>\n      <td>2126-04-04 13:31:00</td>\n      <td>NaN</td>\n      <td>139.0</td>\n      <td>60.0</td>\n      <td>87.0</td>\n      <td>2</td>\n      <td>True</td>\n      <td>-1 days +18:48:00</td>\n      <td>-18720.0</td>\n    </tr>\n    <tr>\n      <th>4</th>\n      <td>8.0</td>\n      <td>30004144</td>\n      <td>2126-04-04 18:43:00</td>\n      <td>10369174</td>\n      <td>2126-04-04 13:32:00</td>\n      <td>63.0</td>\n      <td>150.0</td>\n      <td>63.0</td>\n      <td>93.0</td>\n      <td>2</td>\n      <td>True</td>\n      <td>-1 days +18:49:00</td>\n      <td>-18660.0</td>\n    </tr>\n    <tr>\n      <th>5</th>\n      <td>7.0</td>\n      <td>30004144</td>\n      <td>2126-04-04 18:43:00</td>\n      <td>10369174</td>\n      <td>2126-04-04 13:45:00</td>\n      <td>63.0</td>\n      <td>140.0</td>\n      <td>59.0</td>\n      <td>86.0</td>\n      <td>2</td>\n      <td>True</td>\n      <td>-1 days +19:02:00</td>\n      <td>-17880.0</td>\n    </tr>\n    <tr>\n      <th>6</th>\n      <td>10.0</td>\n      <td>30004144</td>\n      <td>2126-04-04 18:43:00</td>\n      <td>10369174</td>\n      <td>2126-04-04 14:00:00</td>\n      <td>94.0</td>\n      <td>135.0</td>\n      <td>58.0</td>\n      <td>82.0</td>\n      <td>2</td>\n      <td>True</td>\n      <td>-1 days +19:17:00</td>\n      <td>-16980.0</td>\n    </tr>\n    <tr>\n      <th>7</th>\n      <td>19.0</td>\n      <td>30004144</td>\n      <td>2126-04-04 18:43:00</td>\n      <td>10369174</td>\n      <td>2126-04-04 14:15:00</td>\n      <td>67.0</td>\n      <td>156.0</td>\n      <td>66.0</td>\n      <td>100.0</td>\n      <td>2</td>\n      <td>True</td>\n      <td>-1 days +19:32:00</td>\n      <td>-16080.0</td>\n    </tr>\n    <tr>\n      <th>8</th>\n      <td>0.0</td>\n      <td>30004144</td>\n      <td>2126-04-04 18:43:00</td>\n      <td>10369174</td>\n      <td>2126-04-04 14:30:00</td>\n      <td>NaN</td>\n      <td>141.0</td>\n      <td>67.0</td>\n      <td>95.0</td>\n      <td>2</td>\n      <td>True</td>\n      <td>-1 days +19:47:00</td>\n      <td>-15180.0</td>\n    </tr>\n    <tr>\n      <th>9</th>\n      <td>23.0</td>\n      <td>30004144</td>\n      <td>2126-04-04 18:43:00</td>\n      <td>10369174</td>\n      <td>2126-04-04 14:31:00</td>\n      <td>70.0</td>\n      <td>NaN</td>\n      <td>NaN</td>\n      <td>NaN</td>\n      <td>2</td>\n      <td>True</td>\n      <td>-1 days +19:48:00</td>\n      <td>-15120.0</td>\n    </tr>\n    <tr>\n      <th>10</th>\n      <td>6.0</td>\n      <td>30004144</td>\n      <td>2126-04-04 18:43:00</td>\n      <td>10369174</td>\n      <td>2126-04-04 14:34:00</td>\n      <td>63.0</td>\n      <td>136.0</td>\n      <td>57.0</td>\n      <td>83.0</td>\n      <td>2</td>\n      <td>True</td>\n      <td>-1 days +19:51:00</td>\n      <td>-14940.0</td>\n    </tr>\n    <tr>\n      <th>11</th>\n      <td>32.0</td>\n      <td>30004144</td>\n      <td>2126-04-04 18:43:00</td>\n      <td>10369174</td>\n      <td>2126-04-04 14:45:00</td>\n      <td>64.0</td>\n      <td>131.0</td>\n      <td>54.0</td>\n      <td>81.0</td>\n      <td>2</td>\n      <td>True</td>\n      <td>-1 days +20:02:00</td>\n      <td>-14280.0</td>\n    </tr>\n    <tr>\n      <th>12</th>\n      <td>14.0</td>\n      <td>30004144</td>\n      <td>2126-04-04 18:43:00</td>\n      <td>10369174</td>\n      <td>2126-04-04 15:00:00</td>\n      <td>68.0</td>\n      <td>159.0</td>\n      <td>69.0</td>\n      <td>102.0</td>\n      <td>2</td>\n      <td>True</td>\n      <td>-1 days +20:17:00</td>\n      <td>-13380.0</td>\n    </tr>\n    <tr>\n      <th>13</th>\n      <td>25.0</td>\n      <td>30004144</td>\n      <td>2126-04-04 18:43:00</td>\n      <td>10369174</td>\n      <td>2126-04-04 16:00:00</td>\n      <td>NaN</td>\n      <td>143.0</td>\n      <td>63.0</td>\n      <td>92.0</td>\n      <td>2</td>\n      <td>True</td>\n      <td>-1 days +21:17:00</td>\n      <td>-9780.0</td>\n    </tr>\n    <tr>\n      <th>14</th>\n      <td>2.0</td>\n      <td>30004144</td>\n      <td>2126-04-04 18:43:00</td>\n      <td>10369174</td>\n      <td>2126-04-04 16:01:00</td>\n      <td>73.0</td>\n      <td>NaN</td>\n      <td>NaN</td>\n      <td>NaN</td>\n      <td>2</td>\n      <td>True</td>\n      <td>-1 days +21:18:00</td>\n      <td>-9720.0</td>\n    </tr>\n    <tr>\n      <th>15</th>\n      <td>9.0</td>\n      <td>30004144</td>\n      <td>2126-04-04 18:43:00</td>\n      <td>10369174</td>\n      <td>2126-04-04 17:00:00</td>\n      <td>72.0</td>\n      <td>154.0</td>\n      <td>67.0</td>\n      <td>96.0</td>\n      <td>2</td>\n      <td>True</td>\n      <td>-1 days +22:17:00</td>\n      <td>-6180.0</td>\n    </tr>\n    <tr>\n      <th>16</th>\n      <td>12.0</td>\n      <td>30004144</td>\n      <td>2126-04-04 18:43:00</td>\n      <td>10369174</td>\n      <td>2126-04-04 18:00:00</td>\n      <td>101.0</td>\n      <td>132.0</td>\n      <td>66.0</td>\n      <td>89.0</td>\n      <td>2</td>\n      <td>True</td>\n      <td>-1 days +23:17:00</td>\n      <td>-2580.0</td>\n    </tr>\n    <tr>\n      <th>17</th>\n      <td>21.0</td>\n      <td>30004144</td>\n      <td>2126-04-04 18:43:00</td>\n      <td>10369174</td>\n      <td>2126-04-04 19:00:00</td>\n      <td>81.0</td>\n      <td>115.0</td>\n      <td>56.0</td>\n      <td>74.0</td>\n      <td>2</td>\n      <td>True</td>\n      <td>0 days 00:17:00</td>\n      <td>1020.0</td>\n    </tr>\n    <tr>\n      <th>18</th>\n      <td>31.0</td>\n      <td>30004144</td>\n      <td>2126-04-04 18:43:00</td>\n      <td>10369174</td>\n      <td>2126-04-04 20:00:00</td>\n      <td>111.0</td>\n      <td>120.0</td>\n      <td>60.0</td>\n      <td>79.0</td>\n      <td>2</td>\n      <td>True</td>\n      <td>0 days 01:17:00</td>\n      <td>4620.0</td>\n    </tr>\n    <tr>\n      <th>19</th>\n      <td>22.0</td>\n      <td>30004144</td>\n      <td>2126-04-04 18:43:00</td>\n      <td>10369174</td>\n      <td>2126-04-04 21:00:00</td>\n      <td>100.0</td>\n      <td>126.0</td>\n      <td>58.0</td>\n      <td>80.0</td>\n      <td>2</td>\n      <td>True</td>\n      <td>0 days 02:17:00</td>\n      <td>8220.0</td>\n    </tr>\n    <tr>\n      <th>20</th>\n      <td>17.0</td>\n      <td>30004144</td>\n      <td>2126-04-04 18:43:00</td>\n      <td>10369174</td>\n      <td>2126-04-04 22:00:00</td>\n      <td>91.0</td>\n      <td>114.0</td>\n      <td>55.0</td>\n      <td>73.0</td>\n      <td>2</td>\n      <td>True</td>\n      <td>0 days 03:17:00</td>\n      <td>11820.0</td>\n    </tr>\n    <tr>\n      <th>21</th>\n      <td>11.0</td>\n      <td>30004144</td>\n      <td>2126-04-04 18:43:00</td>\n      <td>10369174</td>\n      <td>2126-04-04 23:00:00</td>\n      <td>93.0</td>\n      <td>122.0</td>\n      <td>58.0</td>\n      <td>78.0</td>\n      <td>2</td>\n      <td>True</td>\n      <td>0 days 04:17:00</td>\n      <td>15420.0</td>\n    </tr>\n    <tr>\n      <th>22</th>\n      <td>28.0</td>\n      <td>30004144</td>\n      <td>2126-04-04 18:43:00</td>\n      <td>10369174</td>\n      <td>2126-04-04 23:45:00</td>\n      <td>73.0</td>\n      <td>123.0</td>\n      <td>51.0</td>\n      <td>72.0</td>\n      <td>2</td>\n      <td>True</td>\n      <td>0 days 05:02:00</td>\n      <td>18120.0</td>\n    </tr>\n    <tr>\n      <th>23</th>\n      <td>4.0</td>\n      <td>30004144</td>\n      <td>2126-04-04 18:43:00</td>\n      <td>10369174</td>\n      <td>2126-04-05 00:00:00</td>\n      <td>71.0</td>\n      <td>96.0</td>\n      <td>42.0</td>\n      <td>57.0</td>\n      <td>2</td>\n      <td>True</td>\n      <td>0 days 05:17:00</td>\n      <td>19020.0</td>\n    </tr>\n    <tr>\n      <th>24</th>\n      <td>1.0</td>\n      <td>30004144</td>\n      <td>2126-04-04 18:43:00</td>\n      <td>10369174</td>\n      <td>2126-04-05 00:15:00</td>\n      <td>70.0</td>\n      <td>95.0</td>\n      <td>43.0</td>\n      <td>58.0</td>\n      <td>2</td>\n      <td>True</td>\n      <td>0 days 05:32:00</td>\n      <td>19920.0</td>\n    </tr>\n    <tr>\n      <th>25</th>\n      <td>5.0</td>\n      <td>30004144</td>\n      <td>2126-04-04 18:43:00</td>\n      <td>10369174</td>\n      <td>2126-04-05 00:30:00</td>\n      <td>71.0</td>\n      <td>99.0</td>\n      <td>45.0</td>\n      <td>60.0</td>\n      <td>2</td>\n      <td>True</td>\n      <td>0 days 05:47:00</td>\n      <td>20820.0</td>\n    </tr>\n    <tr>\n      <th>26</th>\n      <td>29.0</td>\n      <td>30004144</td>\n      <td>2126-04-04 18:43:00</td>\n      <td>10369174</td>\n      <td>2126-04-05 01:00:00</td>\n      <td>75.0</td>\n      <td>115.0</td>\n      <td>50.0</td>\n      <td>68.0</td>\n      <td>2</td>\n      <td>True</td>\n      <td>0 days 06:17:00</td>\n      <td>22620.0</td>\n    </tr>\n    <tr>\n      <th>27</th>\n      <td>13.0</td>\n      <td>30004144</td>\n      <td>2126-04-04 18:43:00</td>\n      <td>10369174</td>\n      <td>2126-04-05 02:00:00</td>\n      <td>74.0</td>\n      <td>138.0</td>\n      <td>56.0</td>\n      <td>82.0</td>\n      <td>2</td>\n      <td>True</td>\n      <td>0 days 07:17:00</td>\n      <td>26220.0</td>\n    </tr>\n    <tr>\n      <th>28</th>\n      <td>20.0</td>\n      <td>30004144</td>\n      <td>2126-04-04 18:43:00</td>\n      <td>10369174</td>\n      <td>2126-04-05 03:00:00</td>\n      <td>68.0</td>\n      <td>114.0</td>\n      <td>46.0</td>\n      <td>65.0</td>\n      <td>2</td>\n      <td>True</td>\n      <td>0 days 08:17:00</td>\n      <td>29820.0</td>\n    </tr>\n    <tr>\n      <th>29</th>\n      <td>15.0</td>\n      <td>30004144</td>\n      <td>2126-04-04 18:43:00</td>\n      <td>10369174</td>\n      <td>2126-04-05 04:00:00</td>\n      <td>69.0</td>\n      <td>128.0</td>\n      <td>50.0</td>\n      <td>73.0</td>\n      <td>2</td>\n      <td>True</td>\n      <td>0 days 09:17:00</td>\n      <td>33420.0</td>\n    </tr>\n    <tr>\n      <th>30</th>\n      <td>30.0</td>\n      <td>30004144</td>\n      <td>2126-04-04 18:43:00</td>\n      <td>10369174</td>\n      <td>2126-04-05 05:00:00</td>\n      <td>61.0</td>\n      <td>114.0</td>\n      <td>42.0</td>\n      <td>60.0</td>\n      <td>2</td>\n      <td>True</td>\n      <td>0 days 10:17:00</td>\n      <td>37020.0</td>\n    </tr>\n    <tr>\n      <th>31</th>\n      <td>27.0</td>\n      <td>30004144</td>\n      <td>2126-04-04 18:43:00</td>\n      <td>10369174</td>\n      <td>2126-04-05 06:00:00</td>\n      <td>NaN</td>\n      <td>139.0</td>\n      <td>57.0</td>\n      <td>82.0</td>\n      <td>2</td>\n      <td>True</td>\n      <td>0 days 11:17:00</td>\n      <td>40620.0</td>\n    </tr>\n    <tr>\n      <th>32</th>\n      <td>26.0</td>\n      <td>30004144</td>\n      <td>2126-04-04 18:43:00</td>\n      <td>10369174</td>\n      <td>2126-04-05 06:03:00</td>\n      <td>74.0</td>\n      <td>NaN</td>\n      <td>NaN</td>\n      <td>NaN</td>\n      <td>2</td>\n      <td>True</td>\n      <td>0 days 11:20:00</td>\n      <td>40800.0</td>\n    </tr>\n    <tr>\n      <th>33</th>\n      <td>15.0</td>\n      <td>30004144</td>\n      <td>2126-04-07 11:46:00</td>\n      <td>10369174</td>\n      <td>2126-04-07 00:00:00</td>\n      <td>65.0</td>\n      <td>142.0</td>\n      <td>82.0</td>\n      <td>100.0</td>\n      <td>2</td>\n      <td>True</td>\n      <td>-1 days +12:14:00</td>\n      <td>-42360.0</td>\n    </tr>\n    <tr>\n      <th>34</th>\n      <td>25.0</td>\n      <td>30004144</td>\n      <td>2126-04-07 11:46:00</td>\n      <td>10369174</td>\n      <td>2126-04-07 01:00:00</td>\n      <td>63.0</td>\n      <td>150.0</td>\n      <td>78.0</td>\n      <td>98.0</td>\n      <td>2</td>\n      <td>True</td>\n      <td>-1 days +13:14:00</td>\n      <td>-38760.0</td>\n    </tr>\n    <tr>\n      <th>35</th>\n      <td>20.0</td>\n      <td>30004144</td>\n      <td>2126-04-07 11:46:00</td>\n      <td>10369174</td>\n      <td>2126-04-07 02:00:00</td>\n      <td>62.0</td>\n      <td>131.0</td>\n      <td>72.0</td>\n      <td>88.0</td>\n      <td>2</td>\n      <td>True</td>\n      <td>-1 days +14:14:00</td>\n      <td>-35160.0</td>\n    </tr>\n    <tr>\n      <th>36</th>\n      <td>14.0</td>\n      <td>30004144</td>\n      <td>2126-04-07 11:46:00</td>\n      <td>10369174</td>\n      <td>2126-04-07 03:00:00</td>\n      <td>60.0</td>\n      <td>123.0</td>\n      <td>56.0</td>\n      <td>78.0</td>\n      <td>2</td>\n      <td>True</td>\n      <td>-1 days +15:14:00</td>\n      <td>-31560.0</td>\n    </tr>\n    <tr>\n      <th>37</th>\n      <td>11.0</td>\n      <td>30004144</td>\n      <td>2126-04-07 11:46:00</td>\n      <td>10369174</td>\n      <td>2126-04-07 04:00:00</td>\n      <td>61.0</td>\n      <td>127.0</td>\n      <td>60.0</td>\n      <td>83.0</td>\n      <td>2</td>\n      <td>True</td>\n      <td>-1 days +16:14:00</td>\n      <td>-27960.0</td>\n    </tr>\n    <tr>\n      <th>38</th>\n      <td>4.0</td>\n      <td>30004144</td>\n      <td>2126-04-07 11:46:00</td>\n      <td>10369174</td>\n      <td>2126-04-07 05:00:00</td>\n      <td>66.0</td>\n      <td>136.0</td>\n      <td>65.0</td>\n      <td>89.0</td>\n      <td>2</td>\n      <td>True</td>\n      <td>-1 days +17:14:00</td>\n      <td>-24360.0</td>\n    </tr>\n    <tr>\n      <th>39</th>\n      <td>19.0</td>\n      <td>30004144</td>\n      <td>2126-04-07 11:46:00</td>\n      <td>10369174</td>\n      <td>2126-04-07 06:00:00</td>\n      <td>61.0</td>\n      <td>127.0</td>\n      <td>60.0</td>\n      <td>81.0</td>\n      <td>2</td>\n      <td>True</td>\n      <td>-1 days +18:14:00</td>\n      <td>-20760.0</td>\n    </tr>\n    <tr>\n      <th>40</th>\n      <td>12.0</td>\n      <td>30004144</td>\n      <td>2126-04-07 11:46:00</td>\n      <td>10369174</td>\n      <td>2126-04-07 07:00:00</td>\n      <td>61.0</td>\n      <td>137.0</td>\n      <td>67.0</td>\n      <td>90.0</td>\n      <td>2</td>\n      <td>True</td>\n      <td>-1 days +19:14:00</td>\n      <td>-17160.0</td>\n    </tr>\n    <tr>\n      <th>41</th>\n      <td>28.0</td>\n      <td>30004144</td>\n      <td>2126-04-07 11:46:00</td>\n      <td>10369174</td>\n      <td>2126-04-07 08:00:00</td>\n      <td>63.0</td>\n      <td>136.0</td>\n      <td>66.0</td>\n      <td>87.0</td>\n      <td>2</td>\n      <td>True</td>\n      <td>-1 days +20:14:00</td>\n      <td>-13560.0</td>\n    </tr>\n    <tr>\n      <th>42</th>\n      <td>5.0</td>\n      <td>30004144</td>\n      <td>2126-04-07 11:46:00</td>\n      <td>10369174</td>\n      <td>2126-04-07 09:00:00</td>\n      <td>60.0</td>\n      <td>133.0</td>\n      <td>65.0</td>\n      <td>82.0</td>\n      <td>2</td>\n      <td>True</td>\n      <td>-1 days +21:14:00</td>\n      <td>-9960.0</td>\n    </tr>\n    <tr>\n      <th>43</th>\n      <td>24.0</td>\n      <td>30004144</td>\n      <td>2126-04-07 11:46:00</td>\n      <td>10369174</td>\n      <td>2126-04-07 10:00:00</td>\n      <td>60.0</td>\n      <td>133.0</td>\n      <td>63.0</td>\n      <td>81.0</td>\n      <td>2</td>\n      <td>True</td>\n      <td>-1 days +22:14:00</td>\n      <td>-6360.0</td>\n    </tr>\n    <tr>\n      <th>44</th>\n      <td>17.0</td>\n      <td>30004144</td>\n      <td>2126-04-07 11:46:00</td>\n      <td>10369174</td>\n      <td>2126-04-07 11:00:00</td>\n      <td>60.0</td>\n      <td>138.0</td>\n      <td>62.0</td>\n      <td>82.0</td>\n      <td>2</td>\n      <td>True</td>\n      <td>-1 days +23:14:00</td>\n      <td>-2760.0</td>\n    </tr>\n    <tr>\n      <th>45</th>\n      <td>27.0</td>\n      <td>30004144</td>\n      <td>2126-04-07 11:46:00</td>\n      <td>10369174</td>\n      <td>2126-04-07 12:00:00</td>\n      <td>75.0</td>\n      <td>149.0</td>\n      <td>56.0</td>\n      <td>85.0</td>\n      <td>2</td>\n      <td>True</td>\n      <td>0 days 00:14:00</td>\n      <td>840.0</td>\n    </tr>\n    <tr>\n      <th>46</th>\n      <td>22.0</td>\n      <td>30004144</td>\n      <td>2126-04-07 11:46:00</td>\n      <td>10369174</td>\n      <td>2126-04-07 13:00:00</td>\n      <td>80.0</td>\n      <td>155.0</td>\n      <td>61.0</td>\n      <td>91.0</td>\n      <td>2</td>\n      <td>True</td>\n      <td>0 days 01:14:00</td>\n      <td>4440.0</td>\n    </tr>\n    <tr>\n      <th>47</th>\n      <td>2.0</td>\n      <td>30004144</td>\n      <td>2126-04-07 11:46:00</td>\n      <td>10369174</td>\n      <td>2126-04-07 14:00:00</td>\n      <td>60.0</td>\n      <td>135.0</td>\n      <td>57.0</td>\n      <td>80.0</td>\n      <td>2</td>\n      <td>True</td>\n      <td>0 days 02:14:00</td>\n      <td>8040.0</td>\n    </tr>\n    <tr>\n      <th>48</th>\n      <td>21.0</td>\n      <td>30004144</td>\n      <td>2126-04-07 11:46:00</td>\n      <td>10369174</td>\n      <td>2126-04-07 15:00:00</td>\n      <td>76.0</td>\n      <td>160.0</td>\n      <td>71.0</td>\n      <td>100.0</td>\n      <td>2</td>\n      <td>True</td>\n      <td>0 days 03:14:00</td>\n      <td>11640.0</td>\n    </tr>\n    <tr>\n      <th>49</th>\n      <td>16.0</td>\n      <td>30004144</td>\n      <td>2126-04-07 11:46:00</td>\n      <td>10369174</td>\n      <td>2126-04-07 16:00:00</td>\n      <td>64.0</td>\n      <td>148.0</td>\n      <td>66.0</td>\n      <td>92.0</td>\n      <td>2</td>\n      <td>True</td>\n      <td>0 days 04:14:00</td>\n      <td>15240.0</td>\n    </tr>\n  </tbody>\n</table>\n</div>"
     },
     "execution_count": 436,
     "metadata": {},
     "output_type": "execute_result"
    }
   ],
   "source": [
    "# make the target cohort and the negative cohort the same shape and join them together\n",
    "stay_ids_with_icd = vitals_data_df[\"stay_id\"].unique()\n",
    "stay_ids_without_icd = vitals_no_ddi[\"stay_id\"].unique()\n",
    "\n",
    "print(len(stay_ids_with_icd))\n",
    "print(len(stay_ids_without_icd))\n",
    "min_balanced_len = min(len(stay_ids_with_icd), len(stay_ids_without_icd))\n",
    "print(min_balanced_len)\n",
    "\n",
    "balanced_with = vitals_data_df[vitals_data_df[\"stay_id\"].isin(stay_ids_with_icd[:min_balanced_len])]\n",
    "balanced_without = vitals_no_ddi[vitals_no_ddi[\"stay_id\"].isin(stay_ids_without_icd[:min_balanced_len])]\n",
    "\n",
    "df = pd.concat([balanced_with, balanced_without])\n",
    "print(f\"Size of target {len(balanced_with)}, size of negative {len(balanced_without)}, size of combined {len(df)}\")\n",
    "\n",
    "## convert chart_time to timestep relative to dose b time\n",
    "df[\"timestep\"] = df[\"charttime\"] - df[\"dose_b_time\"]\n",
    "## and convert to float64 for tensor flow\n",
    "df['timestep_float'] = df['timestep'].dt.total_seconds().astype('float64')\n",
    "\n",
    "print(df.dtypes)\n",
    "\n",
    "for data in data_arrays:\n",
    "    df[data] = df[data].astype('float64')\n",
    "\n",
    "print(df.dtypes)\n",
    "print(df['has_icd'].describe())\n",
    "df.head(50)"
   ],
   "metadata": {
    "collapsed": false,
    "ExecuteTime": {
     "end_time": "2023-11-03T02:02:46.582763900Z",
     "start_time": "2023-11-03T02:02:46.408201100Z"
    }
   },
   "id": "bbdedf0ecd5747bd"
  },
  {
   "cell_type": "code",
   "execution_count": 437,
   "outputs": [
    {
     "data": {
      "text/plain": "     stay_id          timestep  timestep_float         dose_b_time  \\\n5   30000484 -1 days +12:58:00        -39720.0 2136-01-15 22:02:00   \n6   30000484 -1 days +13:58:00        -36120.0 2136-01-15 22:02:00   \n7   30000484 -1 days +14:58:00        -32520.0 2136-01-15 22:02:00   \n4   30000484 -1 days +15:58:00        -28920.0 2136-01-15 22:02:00   \n2   30000484 -1 days +16:28:00        -27120.0 2136-01-15 22:02:00   \n24  30000484 -1 days +16:58:00        -25320.0 2136-01-15 22:02:00   \n19  30000484 -1 days +17:58:00        -21720.0 2136-01-15 22:02:00   \n17  30000484 -1 days +18:58:00        -18120.0 2136-01-15 22:02:00   \n0   30000484 -1 days +19:58:00        -14520.0 2136-01-15 22:02:00   \n20  30000484 -1 days +20:58:00        -10920.0 2136-01-15 22:02:00   \n22  30000484 -1 days +21:58:00         -7320.0 2136-01-15 22:02:00   \n26  30000484 -1 days +22:58:00         -3720.0 2136-01-15 22:02:00   \n12  30000484 -1 days +23:58:00          -120.0 2136-01-15 22:02:00   \n15  30000484   0 days 00:58:00          3480.0 2136-01-15 22:02:00   \n3   30000484   0 days 01:58:00          7080.0 2136-01-15 22:02:00   \n11  30000484   0 days 01:59:00          7140.0 2136-01-15 22:02:00   \n1   30000484   0 days 02:58:00         10680.0 2136-01-15 22:02:00   \n16  30000484   0 days 03:10:00         11400.0 2136-01-15 22:02:00   \n18  30000484   0 days 03:58:00         14280.0 2136-01-15 22:02:00   \n14  30000484   0 days 04:58:00         17880.0 2136-01-15 22:02:00   \n8   30000484   0 days 05:58:00         21480.0 2136-01-15 22:02:00   \n23  30000484   0 days 06:58:00         25080.0 2136-01-15 22:02:00   \n25  30000484   0 days 07:58:00         28680.0 2136-01-15 22:02:00   \n9   30000484   0 days 08:58:00         32280.0 2136-01-15 22:02:00   \n10  30000484   0 days 09:58:00         35880.0 2136-01-15 22:02:00   \n21  30000484   0 days 10:58:00         39480.0 2136-01-15 22:02:00   \n13  30000484   0 days 11:58:00         43080.0 2136-01-15 22:02:00   \n50  30004018 -1 days +12:45:00        -40500.0 2158-12-30 06:15:00   \n34  30004018 -1 days +13:45:00        -36900.0 2158-12-30 06:15:00   \n32  30004018 -1 days +14:45:00        -33300.0 2158-12-30 06:15:00   \n30  30004018 -1 days +15:45:00        -29700.0 2158-12-30 06:15:00   \n49  30004018 -1 days +16:45:00        -26100.0 2158-12-30 06:15:00   \n45  30004018 -1 days +17:45:00        -22500.0 2158-12-30 06:15:00   \n48  30004018 -1 days +18:45:00        -18900.0 2158-12-30 06:15:00   \n39  30004018 -1 days +19:45:00        -15300.0 2158-12-30 06:15:00   \n41  30004018 -1 days +20:45:00        -11700.0 2158-12-30 06:15:00   \n33  30004018 -1 days +21:45:00         -8100.0 2158-12-30 06:15:00   \n35  30004018 -1 days +22:45:00         -4500.0 2158-12-30 06:15:00   \n46  30004018 -1 days +23:45:00          -900.0 2158-12-30 06:15:00   \n38  30004018   0 days 00:45:00          2700.0 2158-12-30 06:15:00   \n37  30004018   0 days 01:45:00          6300.0 2158-12-30 06:15:00   \n42  30004018   0 days 02:45:00          9900.0 2158-12-30 06:15:00   \n27  30004018   0 days 03:45:00         13500.0 2158-12-30 06:15:00   \n43  30004018   0 days 04:45:00         17100.0 2158-12-30 06:15:00   \n44  30004018   0 days 05:45:00         20700.0 2158-12-30 06:15:00   \n29  30004018   0 days 06:45:00         24300.0 2158-12-30 06:15:00   \n28  30004018   0 days 07:45:00         27900.0 2158-12-30 06:15:00   \n31  30004018   0 days 08:45:00         31500.0 2158-12-30 06:15:00   \n40  30004018   0 days 09:45:00         35100.0 2158-12-30 06:15:00   \n36  30004018   0 days 10:45:00         38700.0 2158-12-30 06:15:00   \n\n             charttime  has_icd  heart_rate    sbp    dbp   mbp  \n5  2136-01-15 11:00:00    False        94.0  108.0   43.0  60.0  \n6  2136-01-15 12:00:00    False        93.0  114.0   44.0  60.0  \n7  2136-01-15 13:00:00    False        95.0  113.0   66.0  72.0  \n4  2136-01-15 14:00:00    False        92.0    NaN    NaN  58.0  \n2  2136-01-15 14:30:00    False         NaN  129.0  113.0   NaN  \n24 2136-01-15 15:00:00    False        94.0  133.0   61.0  79.0  \n19 2136-01-15 16:00:00    False        93.0  117.0   74.0  82.0  \n17 2136-01-15 17:00:00    False        87.0  119.0   65.0  78.0  \n0  2136-01-15 18:00:00    False        89.0  103.0   22.0  41.0  \n20 2136-01-15 19:00:00    False        88.0  118.0   74.0  82.0  \n22 2136-01-15 20:00:00    False        90.0  116.0   62.0  75.0  \n26 2136-01-15 21:00:00    False        95.0  137.0   71.0  87.0  \n12 2136-01-15 22:00:00    False       105.0  147.0   79.0  96.0  \n15 2136-01-15 23:00:00    False        96.0  126.0   70.0  81.0  \n3  2136-01-16 00:00:00    False        97.0    NaN    NaN   NaN  \n11 2136-01-16 00:01:00    False         NaN  106.0   93.0  96.0  \n1  2136-01-16 01:00:00    False        99.0    NaN    NaN   NaN  \n16 2136-01-16 01:12:00    False         NaN  145.0   66.0  85.0  \n18 2136-01-16 02:00:00    False        94.0  126.0   70.0  82.0  \n14 2136-01-16 03:00:00    False        93.0  121.0   64.0  77.0  \n8  2136-01-16 04:00:00    False        96.0  126.0   61.0  76.0  \n23 2136-01-16 05:00:00    False        96.0  118.0   63.0  75.0  \n25 2136-01-16 06:00:00    False        99.0  141.0   73.0  87.0  \n9  2136-01-16 07:00:00    False        97.0  131.0   68.0  84.0  \n10 2136-01-16 08:00:00    False        97.0  136.0   69.0  84.0  \n21 2136-01-16 09:00:00    False        92.0  111.0   53.0  67.0  \n13 2136-01-16 10:00:00    False        92.0  117.0   58.0  73.0  \n50 2158-12-29 19:00:00    False        97.0  131.0   60.0  78.0  \n34 2158-12-29 20:00:00    False       100.0  130.0   62.0  76.0  \n32 2158-12-29 21:00:00    False        96.0  114.0   53.0  68.0  \n30 2158-12-29 22:00:00    False        94.0  112.0   45.0  62.0  \n49 2158-12-29 23:00:00    False       102.0  125.0   65.0  78.0  \n45 2158-12-30 00:00:00    False        96.0  118.0   56.0  70.0  \n48 2158-12-30 01:00:00    False       100.0  114.0   65.0  74.0  \n39 2158-12-30 02:00:00    False        94.0  106.0   61.0  73.0  \n41 2158-12-30 03:00:00    False        91.0   91.0   53.0  61.0  \n33 2158-12-30 04:00:00    False        91.0  104.0   60.0  72.0  \n35 2158-12-30 05:00:00    False        92.0  114.0   66.0  76.0  \n46 2158-12-30 06:00:00    False        97.0  113.0   64.0  74.0  \n38 2158-12-30 07:00:00    False        95.0  109.0   58.0  69.0  \n37 2158-12-30 08:00:00    False       103.0  140.0   83.0  96.0  \n42 2158-12-30 09:00:00    False        99.0  108.0   46.0  61.0  \n27 2158-12-30 10:00:00    False       100.0   56.0   21.0  28.0  \n43 2158-12-30 11:00:00    False        99.0  107.0   53.0  66.0  \n44 2158-12-30 12:00:00    False       101.0  114.0   57.0  70.0  \n29 2158-12-30 13:00:00    False        98.0   92.0   48.0  58.0  \n28 2158-12-30 14:00:00    False        97.0   78.0   38.0  47.0  \n31 2158-12-30 15:00:00    False        94.0  113.0   49.0  64.0  \n40 2158-12-30 16:00:00    False        89.0   98.0   46.0  57.0  \n36 2158-12-30 17:00:00    False        95.0  124.0   73.0  84.0  ",
      "text/html": "<div>\n<style scoped>\n    .dataframe tbody tr th:only-of-type {\n        vertical-align: middle;\n    }\n\n    .dataframe tbody tr th {\n        vertical-align: top;\n    }\n\n    .dataframe thead th {\n        text-align: right;\n    }\n</style>\n<table border=\"1\" class=\"dataframe\">\n  <thead>\n    <tr style=\"text-align: right;\">\n      <th></th>\n      <th>stay_id</th>\n      <th>timestep</th>\n      <th>timestep_float</th>\n      <th>dose_b_time</th>\n      <th>charttime</th>\n      <th>has_icd</th>\n      <th>heart_rate</th>\n      <th>sbp</th>\n      <th>dbp</th>\n      <th>mbp</th>\n    </tr>\n  </thead>\n  <tbody>\n    <tr>\n      <th>5</th>\n      <td>30000484</td>\n      <td>-1 days +12:58:00</td>\n      <td>-39720.0</td>\n      <td>2136-01-15 22:02:00</td>\n      <td>2136-01-15 11:00:00</td>\n      <td>False</td>\n      <td>94.0</td>\n      <td>108.0</td>\n      <td>43.0</td>\n      <td>60.0</td>\n    </tr>\n    <tr>\n      <th>6</th>\n      <td>30000484</td>\n      <td>-1 days +13:58:00</td>\n      <td>-36120.0</td>\n      <td>2136-01-15 22:02:00</td>\n      <td>2136-01-15 12:00:00</td>\n      <td>False</td>\n      <td>93.0</td>\n      <td>114.0</td>\n      <td>44.0</td>\n      <td>60.0</td>\n    </tr>\n    <tr>\n      <th>7</th>\n      <td>30000484</td>\n      <td>-1 days +14:58:00</td>\n      <td>-32520.0</td>\n      <td>2136-01-15 22:02:00</td>\n      <td>2136-01-15 13:00:00</td>\n      <td>False</td>\n      <td>95.0</td>\n      <td>113.0</td>\n      <td>66.0</td>\n      <td>72.0</td>\n    </tr>\n    <tr>\n      <th>4</th>\n      <td>30000484</td>\n      <td>-1 days +15:58:00</td>\n      <td>-28920.0</td>\n      <td>2136-01-15 22:02:00</td>\n      <td>2136-01-15 14:00:00</td>\n      <td>False</td>\n      <td>92.0</td>\n      <td>NaN</td>\n      <td>NaN</td>\n      <td>58.0</td>\n    </tr>\n    <tr>\n      <th>2</th>\n      <td>30000484</td>\n      <td>-1 days +16:28:00</td>\n      <td>-27120.0</td>\n      <td>2136-01-15 22:02:00</td>\n      <td>2136-01-15 14:30:00</td>\n      <td>False</td>\n      <td>NaN</td>\n      <td>129.0</td>\n      <td>113.0</td>\n      <td>NaN</td>\n    </tr>\n    <tr>\n      <th>24</th>\n      <td>30000484</td>\n      <td>-1 days +16:58:00</td>\n      <td>-25320.0</td>\n      <td>2136-01-15 22:02:00</td>\n      <td>2136-01-15 15:00:00</td>\n      <td>False</td>\n      <td>94.0</td>\n      <td>133.0</td>\n      <td>61.0</td>\n      <td>79.0</td>\n    </tr>\n    <tr>\n      <th>19</th>\n      <td>30000484</td>\n      <td>-1 days +17:58:00</td>\n      <td>-21720.0</td>\n      <td>2136-01-15 22:02:00</td>\n      <td>2136-01-15 16:00:00</td>\n      <td>False</td>\n      <td>93.0</td>\n      <td>117.0</td>\n      <td>74.0</td>\n      <td>82.0</td>\n    </tr>\n    <tr>\n      <th>17</th>\n      <td>30000484</td>\n      <td>-1 days +18:58:00</td>\n      <td>-18120.0</td>\n      <td>2136-01-15 22:02:00</td>\n      <td>2136-01-15 17:00:00</td>\n      <td>False</td>\n      <td>87.0</td>\n      <td>119.0</td>\n      <td>65.0</td>\n      <td>78.0</td>\n    </tr>\n    <tr>\n      <th>0</th>\n      <td>30000484</td>\n      <td>-1 days +19:58:00</td>\n      <td>-14520.0</td>\n      <td>2136-01-15 22:02:00</td>\n      <td>2136-01-15 18:00:00</td>\n      <td>False</td>\n      <td>89.0</td>\n      <td>103.0</td>\n      <td>22.0</td>\n      <td>41.0</td>\n    </tr>\n    <tr>\n      <th>20</th>\n      <td>30000484</td>\n      <td>-1 days +20:58:00</td>\n      <td>-10920.0</td>\n      <td>2136-01-15 22:02:00</td>\n      <td>2136-01-15 19:00:00</td>\n      <td>False</td>\n      <td>88.0</td>\n      <td>118.0</td>\n      <td>74.0</td>\n      <td>82.0</td>\n    </tr>\n    <tr>\n      <th>22</th>\n      <td>30000484</td>\n      <td>-1 days +21:58:00</td>\n      <td>-7320.0</td>\n      <td>2136-01-15 22:02:00</td>\n      <td>2136-01-15 20:00:00</td>\n      <td>False</td>\n      <td>90.0</td>\n      <td>116.0</td>\n      <td>62.0</td>\n      <td>75.0</td>\n    </tr>\n    <tr>\n      <th>26</th>\n      <td>30000484</td>\n      <td>-1 days +22:58:00</td>\n      <td>-3720.0</td>\n      <td>2136-01-15 22:02:00</td>\n      <td>2136-01-15 21:00:00</td>\n      <td>False</td>\n      <td>95.0</td>\n      <td>137.0</td>\n      <td>71.0</td>\n      <td>87.0</td>\n    </tr>\n    <tr>\n      <th>12</th>\n      <td>30000484</td>\n      <td>-1 days +23:58:00</td>\n      <td>-120.0</td>\n      <td>2136-01-15 22:02:00</td>\n      <td>2136-01-15 22:00:00</td>\n      <td>False</td>\n      <td>105.0</td>\n      <td>147.0</td>\n      <td>79.0</td>\n      <td>96.0</td>\n    </tr>\n    <tr>\n      <th>15</th>\n      <td>30000484</td>\n      <td>0 days 00:58:00</td>\n      <td>3480.0</td>\n      <td>2136-01-15 22:02:00</td>\n      <td>2136-01-15 23:00:00</td>\n      <td>False</td>\n      <td>96.0</td>\n      <td>126.0</td>\n      <td>70.0</td>\n      <td>81.0</td>\n    </tr>\n    <tr>\n      <th>3</th>\n      <td>30000484</td>\n      <td>0 days 01:58:00</td>\n      <td>7080.0</td>\n      <td>2136-01-15 22:02:00</td>\n      <td>2136-01-16 00:00:00</td>\n      <td>False</td>\n      <td>97.0</td>\n      <td>NaN</td>\n      <td>NaN</td>\n      <td>NaN</td>\n    </tr>\n    <tr>\n      <th>11</th>\n      <td>30000484</td>\n      <td>0 days 01:59:00</td>\n      <td>7140.0</td>\n      <td>2136-01-15 22:02:00</td>\n      <td>2136-01-16 00:01:00</td>\n      <td>False</td>\n      <td>NaN</td>\n      <td>106.0</td>\n      <td>93.0</td>\n      <td>96.0</td>\n    </tr>\n    <tr>\n      <th>1</th>\n      <td>30000484</td>\n      <td>0 days 02:58:00</td>\n      <td>10680.0</td>\n      <td>2136-01-15 22:02:00</td>\n      <td>2136-01-16 01:00:00</td>\n      <td>False</td>\n      <td>99.0</td>\n      <td>NaN</td>\n      <td>NaN</td>\n      <td>NaN</td>\n    </tr>\n    <tr>\n      <th>16</th>\n      <td>30000484</td>\n      <td>0 days 03:10:00</td>\n      <td>11400.0</td>\n      <td>2136-01-15 22:02:00</td>\n      <td>2136-01-16 01:12:00</td>\n      <td>False</td>\n      <td>NaN</td>\n      <td>145.0</td>\n      <td>66.0</td>\n      <td>85.0</td>\n    </tr>\n    <tr>\n      <th>18</th>\n      <td>30000484</td>\n      <td>0 days 03:58:00</td>\n      <td>14280.0</td>\n      <td>2136-01-15 22:02:00</td>\n      <td>2136-01-16 02:00:00</td>\n      <td>False</td>\n      <td>94.0</td>\n      <td>126.0</td>\n      <td>70.0</td>\n      <td>82.0</td>\n    </tr>\n    <tr>\n      <th>14</th>\n      <td>30000484</td>\n      <td>0 days 04:58:00</td>\n      <td>17880.0</td>\n      <td>2136-01-15 22:02:00</td>\n      <td>2136-01-16 03:00:00</td>\n      <td>False</td>\n      <td>93.0</td>\n      <td>121.0</td>\n      <td>64.0</td>\n      <td>77.0</td>\n    </tr>\n    <tr>\n      <th>8</th>\n      <td>30000484</td>\n      <td>0 days 05:58:00</td>\n      <td>21480.0</td>\n      <td>2136-01-15 22:02:00</td>\n      <td>2136-01-16 04:00:00</td>\n      <td>False</td>\n      <td>96.0</td>\n      <td>126.0</td>\n      <td>61.0</td>\n      <td>76.0</td>\n    </tr>\n    <tr>\n      <th>23</th>\n      <td>30000484</td>\n      <td>0 days 06:58:00</td>\n      <td>25080.0</td>\n      <td>2136-01-15 22:02:00</td>\n      <td>2136-01-16 05:00:00</td>\n      <td>False</td>\n      <td>96.0</td>\n      <td>118.0</td>\n      <td>63.0</td>\n      <td>75.0</td>\n    </tr>\n    <tr>\n      <th>25</th>\n      <td>30000484</td>\n      <td>0 days 07:58:00</td>\n      <td>28680.0</td>\n      <td>2136-01-15 22:02:00</td>\n      <td>2136-01-16 06:00:00</td>\n      <td>False</td>\n      <td>99.0</td>\n      <td>141.0</td>\n      <td>73.0</td>\n      <td>87.0</td>\n    </tr>\n    <tr>\n      <th>9</th>\n      <td>30000484</td>\n      <td>0 days 08:58:00</td>\n      <td>32280.0</td>\n      <td>2136-01-15 22:02:00</td>\n      <td>2136-01-16 07:00:00</td>\n      <td>False</td>\n      <td>97.0</td>\n      <td>131.0</td>\n      <td>68.0</td>\n      <td>84.0</td>\n    </tr>\n    <tr>\n      <th>10</th>\n      <td>30000484</td>\n      <td>0 days 09:58:00</td>\n      <td>35880.0</td>\n      <td>2136-01-15 22:02:00</td>\n      <td>2136-01-16 08:00:00</td>\n      <td>False</td>\n      <td>97.0</td>\n      <td>136.0</td>\n      <td>69.0</td>\n      <td>84.0</td>\n    </tr>\n    <tr>\n      <th>21</th>\n      <td>30000484</td>\n      <td>0 days 10:58:00</td>\n      <td>39480.0</td>\n      <td>2136-01-15 22:02:00</td>\n      <td>2136-01-16 09:00:00</td>\n      <td>False</td>\n      <td>92.0</td>\n      <td>111.0</td>\n      <td>53.0</td>\n      <td>67.0</td>\n    </tr>\n    <tr>\n      <th>13</th>\n      <td>30000484</td>\n      <td>0 days 11:58:00</td>\n      <td>43080.0</td>\n      <td>2136-01-15 22:02:00</td>\n      <td>2136-01-16 10:00:00</td>\n      <td>False</td>\n      <td>92.0</td>\n      <td>117.0</td>\n      <td>58.0</td>\n      <td>73.0</td>\n    </tr>\n    <tr>\n      <th>50</th>\n      <td>30004018</td>\n      <td>-1 days +12:45:00</td>\n      <td>-40500.0</td>\n      <td>2158-12-30 06:15:00</td>\n      <td>2158-12-29 19:00:00</td>\n      <td>False</td>\n      <td>97.0</td>\n      <td>131.0</td>\n      <td>60.0</td>\n      <td>78.0</td>\n    </tr>\n    <tr>\n      <th>34</th>\n      <td>30004018</td>\n      <td>-1 days +13:45:00</td>\n      <td>-36900.0</td>\n      <td>2158-12-30 06:15:00</td>\n      <td>2158-12-29 20:00:00</td>\n      <td>False</td>\n      <td>100.0</td>\n      <td>130.0</td>\n      <td>62.0</td>\n      <td>76.0</td>\n    </tr>\n    <tr>\n      <th>32</th>\n      <td>30004018</td>\n      <td>-1 days +14:45:00</td>\n      <td>-33300.0</td>\n      <td>2158-12-30 06:15:00</td>\n      <td>2158-12-29 21:00:00</td>\n      <td>False</td>\n      <td>96.0</td>\n      <td>114.0</td>\n      <td>53.0</td>\n      <td>68.0</td>\n    </tr>\n    <tr>\n      <th>30</th>\n      <td>30004018</td>\n      <td>-1 days +15:45:00</td>\n      <td>-29700.0</td>\n      <td>2158-12-30 06:15:00</td>\n      <td>2158-12-29 22:00:00</td>\n      <td>False</td>\n      <td>94.0</td>\n      <td>112.0</td>\n      <td>45.0</td>\n      <td>62.0</td>\n    </tr>\n    <tr>\n      <th>49</th>\n      <td>30004018</td>\n      <td>-1 days +16:45:00</td>\n      <td>-26100.0</td>\n      <td>2158-12-30 06:15:00</td>\n      <td>2158-12-29 23:00:00</td>\n      <td>False</td>\n      <td>102.0</td>\n      <td>125.0</td>\n      <td>65.0</td>\n      <td>78.0</td>\n    </tr>\n    <tr>\n      <th>45</th>\n      <td>30004018</td>\n      <td>-1 days +17:45:00</td>\n      <td>-22500.0</td>\n      <td>2158-12-30 06:15:00</td>\n      <td>2158-12-30 00:00:00</td>\n      <td>False</td>\n      <td>96.0</td>\n      <td>118.0</td>\n      <td>56.0</td>\n      <td>70.0</td>\n    </tr>\n    <tr>\n      <th>48</th>\n      <td>30004018</td>\n      <td>-1 days +18:45:00</td>\n      <td>-18900.0</td>\n      <td>2158-12-30 06:15:00</td>\n      <td>2158-12-30 01:00:00</td>\n      <td>False</td>\n      <td>100.0</td>\n      <td>114.0</td>\n      <td>65.0</td>\n      <td>74.0</td>\n    </tr>\n    <tr>\n      <th>39</th>\n      <td>30004018</td>\n      <td>-1 days +19:45:00</td>\n      <td>-15300.0</td>\n      <td>2158-12-30 06:15:00</td>\n      <td>2158-12-30 02:00:00</td>\n      <td>False</td>\n      <td>94.0</td>\n      <td>106.0</td>\n      <td>61.0</td>\n      <td>73.0</td>\n    </tr>\n    <tr>\n      <th>41</th>\n      <td>30004018</td>\n      <td>-1 days +20:45:00</td>\n      <td>-11700.0</td>\n      <td>2158-12-30 06:15:00</td>\n      <td>2158-12-30 03:00:00</td>\n      <td>False</td>\n      <td>91.0</td>\n      <td>91.0</td>\n      <td>53.0</td>\n      <td>61.0</td>\n    </tr>\n    <tr>\n      <th>33</th>\n      <td>30004018</td>\n      <td>-1 days +21:45:00</td>\n      <td>-8100.0</td>\n      <td>2158-12-30 06:15:00</td>\n      <td>2158-12-30 04:00:00</td>\n      <td>False</td>\n      <td>91.0</td>\n      <td>104.0</td>\n      <td>60.0</td>\n      <td>72.0</td>\n    </tr>\n    <tr>\n      <th>35</th>\n      <td>30004018</td>\n      <td>-1 days +22:45:00</td>\n      <td>-4500.0</td>\n      <td>2158-12-30 06:15:00</td>\n      <td>2158-12-30 05:00:00</td>\n      <td>False</td>\n      <td>92.0</td>\n      <td>114.0</td>\n      <td>66.0</td>\n      <td>76.0</td>\n    </tr>\n    <tr>\n      <th>46</th>\n      <td>30004018</td>\n      <td>-1 days +23:45:00</td>\n      <td>-900.0</td>\n      <td>2158-12-30 06:15:00</td>\n      <td>2158-12-30 06:00:00</td>\n      <td>False</td>\n      <td>97.0</td>\n      <td>113.0</td>\n      <td>64.0</td>\n      <td>74.0</td>\n    </tr>\n    <tr>\n      <th>38</th>\n      <td>30004018</td>\n      <td>0 days 00:45:00</td>\n      <td>2700.0</td>\n      <td>2158-12-30 06:15:00</td>\n      <td>2158-12-30 07:00:00</td>\n      <td>False</td>\n      <td>95.0</td>\n      <td>109.0</td>\n      <td>58.0</td>\n      <td>69.0</td>\n    </tr>\n    <tr>\n      <th>37</th>\n      <td>30004018</td>\n      <td>0 days 01:45:00</td>\n      <td>6300.0</td>\n      <td>2158-12-30 06:15:00</td>\n      <td>2158-12-30 08:00:00</td>\n      <td>False</td>\n      <td>103.0</td>\n      <td>140.0</td>\n      <td>83.0</td>\n      <td>96.0</td>\n    </tr>\n    <tr>\n      <th>42</th>\n      <td>30004018</td>\n      <td>0 days 02:45:00</td>\n      <td>9900.0</td>\n      <td>2158-12-30 06:15:00</td>\n      <td>2158-12-30 09:00:00</td>\n      <td>False</td>\n      <td>99.0</td>\n      <td>108.0</td>\n      <td>46.0</td>\n      <td>61.0</td>\n    </tr>\n    <tr>\n      <th>27</th>\n      <td>30004018</td>\n      <td>0 days 03:45:00</td>\n      <td>13500.0</td>\n      <td>2158-12-30 06:15:00</td>\n      <td>2158-12-30 10:00:00</td>\n      <td>False</td>\n      <td>100.0</td>\n      <td>56.0</td>\n      <td>21.0</td>\n      <td>28.0</td>\n    </tr>\n    <tr>\n      <th>43</th>\n      <td>30004018</td>\n      <td>0 days 04:45:00</td>\n      <td>17100.0</td>\n      <td>2158-12-30 06:15:00</td>\n      <td>2158-12-30 11:00:00</td>\n      <td>False</td>\n      <td>99.0</td>\n      <td>107.0</td>\n      <td>53.0</td>\n      <td>66.0</td>\n    </tr>\n    <tr>\n      <th>44</th>\n      <td>30004018</td>\n      <td>0 days 05:45:00</td>\n      <td>20700.0</td>\n      <td>2158-12-30 06:15:00</td>\n      <td>2158-12-30 12:00:00</td>\n      <td>False</td>\n      <td>101.0</td>\n      <td>114.0</td>\n      <td>57.0</td>\n      <td>70.0</td>\n    </tr>\n    <tr>\n      <th>29</th>\n      <td>30004018</td>\n      <td>0 days 06:45:00</td>\n      <td>24300.0</td>\n      <td>2158-12-30 06:15:00</td>\n      <td>2158-12-30 13:00:00</td>\n      <td>False</td>\n      <td>98.0</td>\n      <td>92.0</td>\n      <td>48.0</td>\n      <td>58.0</td>\n    </tr>\n    <tr>\n      <th>28</th>\n      <td>30004018</td>\n      <td>0 days 07:45:00</td>\n      <td>27900.0</td>\n      <td>2158-12-30 06:15:00</td>\n      <td>2158-12-30 14:00:00</td>\n      <td>False</td>\n      <td>97.0</td>\n      <td>78.0</td>\n      <td>38.0</td>\n      <td>47.0</td>\n    </tr>\n    <tr>\n      <th>31</th>\n      <td>30004018</td>\n      <td>0 days 08:45:00</td>\n      <td>31500.0</td>\n      <td>2158-12-30 06:15:00</td>\n      <td>2158-12-30 15:00:00</td>\n      <td>False</td>\n      <td>94.0</td>\n      <td>113.0</td>\n      <td>49.0</td>\n      <td>64.0</td>\n    </tr>\n    <tr>\n      <th>40</th>\n      <td>30004018</td>\n      <td>0 days 09:45:00</td>\n      <td>35100.0</td>\n      <td>2158-12-30 06:15:00</td>\n      <td>2158-12-30 16:00:00</td>\n      <td>False</td>\n      <td>89.0</td>\n      <td>98.0</td>\n      <td>46.0</td>\n      <td>57.0</td>\n    </tr>\n    <tr>\n      <th>36</th>\n      <td>30004018</td>\n      <td>0 days 10:45:00</td>\n      <td>38700.0</td>\n      <td>2158-12-30 06:15:00</td>\n      <td>2158-12-30 17:00:00</td>\n      <td>False</td>\n      <td>95.0</td>\n      <td>124.0</td>\n      <td>73.0</td>\n      <td>84.0</td>\n    </tr>\n  </tbody>\n</table>\n</div>"
     },
     "execution_count": 437,
     "metadata": {},
     "output_type": "execute_result"
    }
   ],
   "source": [
    "df = df[[\"stay_id\", \"timestep\", \"timestep_float\", \"dose_b_time\", \"charttime\",\n",
    "         \"has_icd\"] + data_arrays].sort_values([\"stay_id\", \"dose_b_time\", \"timestep\"])\n",
    "df.head(50)"
   ],
   "metadata": {
    "collapsed": false,
    "ExecuteTime": {
     "end_time": "2023-11-03T02:02:46.754360200Z",
     "start_time": "2023-11-03T02:02:46.546336200Z"
    }
   },
   "id": "9425cee888566589"
  },
  {
   "cell_type": "markdown",
   "source": [
    "# Interpolate\n",
    "The data has missing values, use pandas built in interpolation to fill those based on the timestamp"
   ],
   "metadata": {
    "collapsed": false
   },
   "id": "2108b67729841627"
  },
  {
   "cell_type": "markdown",
   "source": [],
   "metadata": {
    "collapsed": false,
    "ExecuteTime": {
     "start_time": "2023-10-26T13:29:22.035511Z"
    }
   },
   "id": "a849a0e0ee1357b9"
  },
  {
   "cell_type": "code",
   "execution_count": 438,
   "outputs": [
    {
     "name": "stdout",
     "output_type": "stream",
     "text": [
      "stay_id                    int64\n",
      "timestep          timedelta64[s]\n",
      "timestep_float           float64\n",
      "dose_b_time        datetime64[s]\n",
      "charttime          datetime64[s]\n",
      "has_icd                     bool\n",
      "heart_rate               float64\n",
      "sbp                      float64\n",
      "dbp                      float64\n",
      "mbp                      float64\n",
      "dtype: object\n",
      "charttime          datetime64[s]\n",
      "stay_id                    int64\n",
      "timestep          timedelta64[s]\n",
      "timestep_float           float64\n",
      "dose_b_time        datetime64[s]\n",
      "has_icd                     bool\n",
      "heart_rate               float64\n",
      "sbp                      float64\n",
      "dbp                      float64\n",
      "mbp                      float64\n",
      "dtype: object\n",
      "(388454, 8)\n"
     ]
    },
    {
     "data": {
      "text/plain": "     stay_id         dose_b_time  timestep_float  has_icd  heart_rate  \\\n0   30000484 2136-01-15 22:02:00        -39720.0    False   94.000000   \n1   30000484 2136-01-15 22:02:00        -36120.0    False   93.000000   \n2   30000484 2136-01-15 22:02:00        -32520.0    False   95.000000   \n3   30000484 2136-01-15 22:02:00        -28920.0    False   92.000000   \n4   30000484 2136-01-15 22:02:00        -27120.0    False   93.000000   \n5   30000484 2136-01-15 22:02:00        -25320.0    False   94.000000   \n6   30000484 2136-01-15 22:02:00        -21720.0    False   93.000000   \n7   30000484 2136-01-15 22:02:00        -18120.0    False   87.000000   \n8   30000484 2136-01-15 22:02:00        -14520.0    False   89.000000   \n9   30000484 2136-01-15 22:02:00        -10920.0    False   88.000000   \n10  30000484 2136-01-15 22:02:00         -7320.0    False   90.000000   \n11  30000484 2136-01-15 22:02:00         -3720.0    False   95.000000   \n12  30000484 2136-01-15 22:02:00          -120.0    False  105.000000   \n13  30000484 2136-01-15 22:02:00          3480.0    False   96.000000   \n14  30000484 2136-01-15 22:02:00          7080.0    False   97.000000   \n15  30000484 2136-01-15 22:02:00          7140.0    False   97.033333   \n16  30000484 2136-01-15 22:02:00         10680.0    False   99.000000   \n17  30000484 2136-01-15 22:02:00         11400.0    False   98.000000   \n18  30000484 2136-01-15 22:02:00         14280.0    False   94.000000   \n19  30000484 2136-01-15 22:02:00         17880.0    False   93.000000   \n20  30000484 2136-01-15 22:02:00         21480.0    False   96.000000   \n21  30000484 2136-01-15 22:02:00         25080.0    False   96.000000   \n22  30000484 2136-01-15 22:02:00         28680.0    False   99.000000   \n23  30000484 2136-01-15 22:02:00         32280.0    False   97.000000   \n24  30000484 2136-01-15 22:02:00         35880.0    False   97.000000   \n25  30000484 2136-01-15 22:02:00         39480.0    False   92.000000   \n26  30000484 2136-01-15 22:02:00         43080.0    False   92.000000   \n27  30004018 2158-12-30 06:15:00        -40500.0    False   97.000000   \n28  30004018 2158-12-30 06:15:00        -36900.0    False  100.000000   \n29  30004018 2158-12-30 06:15:00        -33300.0    False   96.000000   \n30  30004018 2158-12-30 06:15:00        -29700.0    False   94.000000   \n31  30004018 2158-12-30 06:15:00        -26100.0    False  102.000000   \n32  30004018 2158-12-30 06:15:00        -22500.0    False   96.000000   \n33  30004018 2158-12-30 06:15:00        -18900.0    False  100.000000   \n34  30004018 2158-12-30 06:15:00        -15300.0    False   94.000000   \n35  30004018 2158-12-30 06:15:00        -11700.0    False   91.000000   \n36  30004018 2158-12-30 06:15:00         -8100.0    False   91.000000   \n37  30004018 2158-12-30 06:15:00         -4500.0    False   92.000000   \n38  30004018 2158-12-30 06:15:00          -900.0    False   97.000000   \n39  30004018 2158-12-30 06:15:00          2700.0    False   95.000000   \n40  30004018 2158-12-30 06:15:00          6300.0    False  103.000000   \n41  30004018 2158-12-30 06:15:00          9900.0    False   99.000000   \n42  30004018 2158-12-30 06:15:00         13500.0    False  100.000000   \n43  30004018 2158-12-30 06:15:00         17100.0    False   99.000000   \n44  30004018 2158-12-30 06:15:00         20700.0    False  101.000000   \n45  30004018 2158-12-30 06:15:00         24300.0    False   98.000000   \n46  30004018 2158-12-30 06:15:00         27900.0    False   97.000000   \n47  30004018 2158-12-30 06:15:00         31500.0    False   94.000000   \n48  30004018 2158-12-30 06:15:00         35100.0    False   89.000000   \n49  30004018 2158-12-30 06:15:00         38700.0    False   95.000000   \n\n           sbp         dbp        mbp  \n0   108.000000   43.000000  60.000000  \n1   114.000000   44.000000  60.000000  \n2   113.000000   66.000000  72.000000  \n3   123.666667   97.333333  58.000000  \n4   129.000000  113.000000  68.500000  \n5   133.000000   61.000000  79.000000  \n6   117.000000   74.000000  82.000000  \n7   119.000000   65.000000  78.000000  \n8   103.000000   22.000000  41.000000  \n9   118.000000   74.000000  82.000000  \n10  116.000000   62.000000  75.000000  \n11  137.000000   71.000000  87.000000  \n12  147.000000   79.000000  96.000000  \n13  126.000000   70.000000  81.000000  \n14  106.327869   92.622951  95.754098  \n15  106.000000   93.000000  96.000000  \n16  138.408451   70.563380  86.859155  \n17  145.000000   66.000000  85.000000  \n18  126.000000   70.000000  82.000000  \n19  121.000000   64.000000  77.000000  \n20  126.000000   61.000000  76.000000  \n21  118.000000   63.000000  75.000000  \n22  141.000000   73.000000  87.000000  \n23  131.000000   68.000000  84.000000  \n24  136.000000   69.000000  84.000000  \n25  111.000000   53.000000  67.000000  \n26  117.000000   58.000000  73.000000  \n27  131.000000   60.000000  78.000000  \n28  130.000000   62.000000  76.000000  \n29  114.000000   53.000000  68.000000  \n30  112.000000   45.000000  62.000000  \n31  125.000000   65.000000  78.000000  \n32  118.000000   56.000000  70.000000  \n33  114.000000   65.000000  74.000000  \n34  106.000000   61.000000  73.000000  \n35   91.000000   53.000000  61.000000  \n36  104.000000   60.000000  72.000000  \n37  114.000000   66.000000  76.000000  \n38  113.000000   64.000000  74.000000  \n39  109.000000   58.000000  69.000000  \n40  140.000000   83.000000  96.000000  \n41  108.000000   46.000000  61.000000  \n42   56.000000   21.000000  28.000000  \n43  107.000000   53.000000  66.000000  \n44  114.000000   57.000000  70.000000  \n45   92.000000   48.000000  58.000000  \n46   78.000000   38.000000  47.000000  \n47  113.000000   49.000000  64.000000  \n48   98.000000   46.000000  57.000000  \n49  124.000000   73.000000  84.000000  ",
      "text/html": "<div>\n<style scoped>\n    .dataframe tbody tr th:only-of-type {\n        vertical-align: middle;\n    }\n\n    .dataframe tbody tr th {\n        vertical-align: top;\n    }\n\n    .dataframe thead th {\n        text-align: right;\n    }\n</style>\n<table border=\"1\" class=\"dataframe\">\n  <thead>\n    <tr style=\"text-align: right;\">\n      <th></th>\n      <th>stay_id</th>\n      <th>dose_b_time</th>\n      <th>timestep_float</th>\n      <th>has_icd</th>\n      <th>heart_rate</th>\n      <th>sbp</th>\n      <th>dbp</th>\n      <th>mbp</th>\n    </tr>\n  </thead>\n  <tbody>\n    <tr>\n      <th>0</th>\n      <td>30000484</td>\n      <td>2136-01-15 22:02:00</td>\n      <td>-39720.0</td>\n      <td>False</td>\n      <td>94.000000</td>\n      <td>108.000000</td>\n      <td>43.000000</td>\n      <td>60.000000</td>\n    </tr>\n    <tr>\n      <th>1</th>\n      <td>30000484</td>\n      <td>2136-01-15 22:02:00</td>\n      <td>-36120.0</td>\n      <td>False</td>\n      <td>93.000000</td>\n      <td>114.000000</td>\n      <td>44.000000</td>\n      <td>60.000000</td>\n    </tr>\n    <tr>\n      <th>2</th>\n      <td>30000484</td>\n      <td>2136-01-15 22:02:00</td>\n      <td>-32520.0</td>\n      <td>False</td>\n      <td>95.000000</td>\n      <td>113.000000</td>\n      <td>66.000000</td>\n      <td>72.000000</td>\n    </tr>\n    <tr>\n      <th>3</th>\n      <td>30000484</td>\n      <td>2136-01-15 22:02:00</td>\n      <td>-28920.0</td>\n      <td>False</td>\n      <td>92.000000</td>\n      <td>123.666667</td>\n      <td>97.333333</td>\n      <td>58.000000</td>\n    </tr>\n    <tr>\n      <th>4</th>\n      <td>30000484</td>\n      <td>2136-01-15 22:02:00</td>\n      <td>-27120.0</td>\n      <td>False</td>\n      <td>93.000000</td>\n      <td>129.000000</td>\n      <td>113.000000</td>\n      <td>68.500000</td>\n    </tr>\n    <tr>\n      <th>5</th>\n      <td>30000484</td>\n      <td>2136-01-15 22:02:00</td>\n      <td>-25320.0</td>\n      <td>False</td>\n      <td>94.000000</td>\n      <td>133.000000</td>\n      <td>61.000000</td>\n      <td>79.000000</td>\n    </tr>\n    <tr>\n      <th>6</th>\n      <td>30000484</td>\n      <td>2136-01-15 22:02:00</td>\n      <td>-21720.0</td>\n      <td>False</td>\n      <td>93.000000</td>\n      <td>117.000000</td>\n      <td>74.000000</td>\n      <td>82.000000</td>\n    </tr>\n    <tr>\n      <th>7</th>\n      <td>30000484</td>\n      <td>2136-01-15 22:02:00</td>\n      <td>-18120.0</td>\n      <td>False</td>\n      <td>87.000000</td>\n      <td>119.000000</td>\n      <td>65.000000</td>\n      <td>78.000000</td>\n    </tr>\n    <tr>\n      <th>8</th>\n      <td>30000484</td>\n      <td>2136-01-15 22:02:00</td>\n      <td>-14520.0</td>\n      <td>False</td>\n      <td>89.000000</td>\n      <td>103.000000</td>\n      <td>22.000000</td>\n      <td>41.000000</td>\n    </tr>\n    <tr>\n      <th>9</th>\n      <td>30000484</td>\n      <td>2136-01-15 22:02:00</td>\n      <td>-10920.0</td>\n      <td>False</td>\n      <td>88.000000</td>\n      <td>118.000000</td>\n      <td>74.000000</td>\n      <td>82.000000</td>\n    </tr>\n    <tr>\n      <th>10</th>\n      <td>30000484</td>\n      <td>2136-01-15 22:02:00</td>\n      <td>-7320.0</td>\n      <td>False</td>\n      <td>90.000000</td>\n      <td>116.000000</td>\n      <td>62.000000</td>\n      <td>75.000000</td>\n    </tr>\n    <tr>\n      <th>11</th>\n      <td>30000484</td>\n      <td>2136-01-15 22:02:00</td>\n      <td>-3720.0</td>\n      <td>False</td>\n      <td>95.000000</td>\n      <td>137.000000</td>\n      <td>71.000000</td>\n      <td>87.000000</td>\n    </tr>\n    <tr>\n      <th>12</th>\n      <td>30000484</td>\n      <td>2136-01-15 22:02:00</td>\n      <td>-120.0</td>\n      <td>False</td>\n      <td>105.000000</td>\n      <td>147.000000</td>\n      <td>79.000000</td>\n      <td>96.000000</td>\n    </tr>\n    <tr>\n      <th>13</th>\n      <td>30000484</td>\n      <td>2136-01-15 22:02:00</td>\n      <td>3480.0</td>\n      <td>False</td>\n      <td>96.000000</td>\n      <td>126.000000</td>\n      <td>70.000000</td>\n      <td>81.000000</td>\n    </tr>\n    <tr>\n      <th>14</th>\n      <td>30000484</td>\n      <td>2136-01-15 22:02:00</td>\n      <td>7080.0</td>\n      <td>False</td>\n      <td>97.000000</td>\n      <td>106.327869</td>\n      <td>92.622951</td>\n      <td>95.754098</td>\n    </tr>\n    <tr>\n      <th>15</th>\n      <td>30000484</td>\n      <td>2136-01-15 22:02:00</td>\n      <td>7140.0</td>\n      <td>False</td>\n      <td>97.033333</td>\n      <td>106.000000</td>\n      <td>93.000000</td>\n      <td>96.000000</td>\n    </tr>\n    <tr>\n      <th>16</th>\n      <td>30000484</td>\n      <td>2136-01-15 22:02:00</td>\n      <td>10680.0</td>\n      <td>False</td>\n      <td>99.000000</td>\n      <td>138.408451</td>\n      <td>70.563380</td>\n      <td>86.859155</td>\n    </tr>\n    <tr>\n      <th>17</th>\n      <td>30000484</td>\n      <td>2136-01-15 22:02:00</td>\n      <td>11400.0</td>\n      <td>False</td>\n      <td>98.000000</td>\n      <td>145.000000</td>\n      <td>66.000000</td>\n      <td>85.000000</td>\n    </tr>\n    <tr>\n      <th>18</th>\n      <td>30000484</td>\n      <td>2136-01-15 22:02:00</td>\n      <td>14280.0</td>\n      <td>False</td>\n      <td>94.000000</td>\n      <td>126.000000</td>\n      <td>70.000000</td>\n      <td>82.000000</td>\n    </tr>\n    <tr>\n      <th>19</th>\n      <td>30000484</td>\n      <td>2136-01-15 22:02:00</td>\n      <td>17880.0</td>\n      <td>False</td>\n      <td>93.000000</td>\n      <td>121.000000</td>\n      <td>64.000000</td>\n      <td>77.000000</td>\n    </tr>\n    <tr>\n      <th>20</th>\n      <td>30000484</td>\n      <td>2136-01-15 22:02:00</td>\n      <td>21480.0</td>\n      <td>False</td>\n      <td>96.000000</td>\n      <td>126.000000</td>\n      <td>61.000000</td>\n      <td>76.000000</td>\n    </tr>\n    <tr>\n      <th>21</th>\n      <td>30000484</td>\n      <td>2136-01-15 22:02:00</td>\n      <td>25080.0</td>\n      <td>False</td>\n      <td>96.000000</td>\n      <td>118.000000</td>\n      <td>63.000000</td>\n      <td>75.000000</td>\n    </tr>\n    <tr>\n      <th>22</th>\n      <td>30000484</td>\n      <td>2136-01-15 22:02:00</td>\n      <td>28680.0</td>\n      <td>False</td>\n      <td>99.000000</td>\n      <td>141.000000</td>\n      <td>73.000000</td>\n      <td>87.000000</td>\n    </tr>\n    <tr>\n      <th>23</th>\n      <td>30000484</td>\n      <td>2136-01-15 22:02:00</td>\n      <td>32280.0</td>\n      <td>False</td>\n      <td>97.000000</td>\n      <td>131.000000</td>\n      <td>68.000000</td>\n      <td>84.000000</td>\n    </tr>\n    <tr>\n      <th>24</th>\n      <td>30000484</td>\n      <td>2136-01-15 22:02:00</td>\n      <td>35880.0</td>\n      <td>False</td>\n      <td>97.000000</td>\n      <td>136.000000</td>\n      <td>69.000000</td>\n      <td>84.000000</td>\n    </tr>\n    <tr>\n      <th>25</th>\n      <td>30000484</td>\n      <td>2136-01-15 22:02:00</td>\n      <td>39480.0</td>\n      <td>False</td>\n      <td>92.000000</td>\n      <td>111.000000</td>\n      <td>53.000000</td>\n      <td>67.000000</td>\n    </tr>\n    <tr>\n      <th>26</th>\n      <td>30000484</td>\n      <td>2136-01-15 22:02:00</td>\n      <td>43080.0</td>\n      <td>False</td>\n      <td>92.000000</td>\n      <td>117.000000</td>\n      <td>58.000000</td>\n      <td>73.000000</td>\n    </tr>\n    <tr>\n      <th>27</th>\n      <td>30004018</td>\n      <td>2158-12-30 06:15:00</td>\n      <td>-40500.0</td>\n      <td>False</td>\n      <td>97.000000</td>\n      <td>131.000000</td>\n      <td>60.000000</td>\n      <td>78.000000</td>\n    </tr>\n    <tr>\n      <th>28</th>\n      <td>30004018</td>\n      <td>2158-12-30 06:15:00</td>\n      <td>-36900.0</td>\n      <td>False</td>\n      <td>100.000000</td>\n      <td>130.000000</td>\n      <td>62.000000</td>\n      <td>76.000000</td>\n    </tr>\n    <tr>\n      <th>29</th>\n      <td>30004018</td>\n      <td>2158-12-30 06:15:00</td>\n      <td>-33300.0</td>\n      <td>False</td>\n      <td>96.000000</td>\n      <td>114.000000</td>\n      <td>53.000000</td>\n      <td>68.000000</td>\n    </tr>\n    <tr>\n      <th>30</th>\n      <td>30004018</td>\n      <td>2158-12-30 06:15:00</td>\n      <td>-29700.0</td>\n      <td>False</td>\n      <td>94.000000</td>\n      <td>112.000000</td>\n      <td>45.000000</td>\n      <td>62.000000</td>\n    </tr>\n    <tr>\n      <th>31</th>\n      <td>30004018</td>\n      <td>2158-12-30 06:15:00</td>\n      <td>-26100.0</td>\n      <td>False</td>\n      <td>102.000000</td>\n      <td>125.000000</td>\n      <td>65.000000</td>\n      <td>78.000000</td>\n    </tr>\n    <tr>\n      <th>32</th>\n      <td>30004018</td>\n      <td>2158-12-30 06:15:00</td>\n      <td>-22500.0</td>\n      <td>False</td>\n      <td>96.000000</td>\n      <td>118.000000</td>\n      <td>56.000000</td>\n      <td>70.000000</td>\n    </tr>\n    <tr>\n      <th>33</th>\n      <td>30004018</td>\n      <td>2158-12-30 06:15:00</td>\n      <td>-18900.0</td>\n      <td>False</td>\n      <td>100.000000</td>\n      <td>114.000000</td>\n      <td>65.000000</td>\n      <td>74.000000</td>\n    </tr>\n    <tr>\n      <th>34</th>\n      <td>30004018</td>\n      <td>2158-12-30 06:15:00</td>\n      <td>-15300.0</td>\n      <td>False</td>\n      <td>94.000000</td>\n      <td>106.000000</td>\n      <td>61.000000</td>\n      <td>73.000000</td>\n    </tr>\n    <tr>\n      <th>35</th>\n      <td>30004018</td>\n      <td>2158-12-30 06:15:00</td>\n      <td>-11700.0</td>\n      <td>False</td>\n      <td>91.000000</td>\n      <td>91.000000</td>\n      <td>53.000000</td>\n      <td>61.000000</td>\n    </tr>\n    <tr>\n      <th>36</th>\n      <td>30004018</td>\n      <td>2158-12-30 06:15:00</td>\n      <td>-8100.0</td>\n      <td>False</td>\n      <td>91.000000</td>\n      <td>104.000000</td>\n      <td>60.000000</td>\n      <td>72.000000</td>\n    </tr>\n    <tr>\n      <th>37</th>\n      <td>30004018</td>\n      <td>2158-12-30 06:15:00</td>\n      <td>-4500.0</td>\n      <td>False</td>\n      <td>92.000000</td>\n      <td>114.000000</td>\n      <td>66.000000</td>\n      <td>76.000000</td>\n    </tr>\n    <tr>\n      <th>38</th>\n      <td>30004018</td>\n      <td>2158-12-30 06:15:00</td>\n      <td>-900.0</td>\n      <td>False</td>\n      <td>97.000000</td>\n      <td>113.000000</td>\n      <td>64.000000</td>\n      <td>74.000000</td>\n    </tr>\n    <tr>\n      <th>39</th>\n      <td>30004018</td>\n      <td>2158-12-30 06:15:00</td>\n      <td>2700.0</td>\n      <td>False</td>\n      <td>95.000000</td>\n      <td>109.000000</td>\n      <td>58.000000</td>\n      <td>69.000000</td>\n    </tr>\n    <tr>\n      <th>40</th>\n      <td>30004018</td>\n      <td>2158-12-30 06:15:00</td>\n      <td>6300.0</td>\n      <td>False</td>\n      <td>103.000000</td>\n      <td>140.000000</td>\n      <td>83.000000</td>\n      <td>96.000000</td>\n    </tr>\n    <tr>\n      <th>41</th>\n      <td>30004018</td>\n      <td>2158-12-30 06:15:00</td>\n      <td>9900.0</td>\n      <td>False</td>\n      <td>99.000000</td>\n      <td>108.000000</td>\n      <td>46.000000</td>\n      <td>61.000000</td>\n    </tr>\n    <tr>\n      <th>42</th>\n      <td>30004018</td>\n      <td>2158-12-30 06:15:00</td>\n      <td>13500.0</td>\n      <td>False</td>\n      <td>100.000000</td>\n      <td>56.000000</td>\n      <td>21.000000</td>\n      <td>28.000000</td>\n    </tr>\n    <tr>\n      <th>43</th>\n      <td>30004018</td>\n      <td>2158-12-30 06:15:00</td>\n      <td>17100.0</td>\n      <td>False</td>\n      <td>99.000000</td>\n      <td>107.000000</td>\n      <td>53.000000</td>\n      <td>66.000000</td>\n    </tr>\n    <tr>\n      <th>44</th>\n      <td>30004018</td>\n      <td>2158-12-30 06:15:00</td>\n      <td>20700.0</td>\n      <td>False</td>\n      <td>101.000000</td>\n      <td>114.000000</td>\n      <td>57.000000</td>\n      <td>70.000000</td>\n    </tr>\n    <tr>\n      <th>45</th>\n      <td>30004018</td>\n      <td>2158-12-30 06:15:00</td>\n      <td>24300.0</td>\n      <td>False</td>\n      <td>98.000000</td>\n      <td>92.000000</td>\n      <td>48.000000</td>\n      <td>58.000000</td>\n    </tr>\n    <tr>\n      <th>46</th>\n      <td>30004018</td>\n      <td>2158-12-30 06:15:00</td>\n      <td>27900.0</td>\n      <td>False</td>\n      <td>97.000000</td>\n      <td>78.000000</td>\n      <td>38.000000</td>\n      <td>47.000000</td>\n    </tr>\n    <tr>\n      <th>47</th>\n      <td>30004018</td>\n      <td>2158-12-30 06:15:00</td>\n      <td>31500.0</td>\n      <td>False</td>\n      <td>94.000000</td>\n      <td>113.000000</td>\n      <td>49.000000</td>\n      <td>64.000000</td>\n    </tr>\n    <tr>\n      <th>48</th>\n      <td>30004018</td>\n      <td>2158-12-30 06:15:00</td>\n      <td>35100.0</td>\n      <td>False</td>\n      <td>89.000000</td>\n      <td>98.000000</td>\n      <td>46.000000</td>\n      <td>57.000000</td>\n    </tr>\n    <tr>\n      <th>49</th>\n      <td>30004018</td>\n      <td>2158-12-30 06:15:00</td>\n      <td>38700.0</td>\n      <td>False</td>\n      <td>95.000000</td>\n      <td>124.000000</td>\n      <td>73.000000</td>\n      <td>84.000000</td>\n    </tr>\n  </tbody>\n</table>\n</div>"
     },
     "execution_count": 438,
     "metadata": {},
     "output_type": "execute_result"
    }
   ],
   "source": [
    "import pandas as pd\n",
    "\n",
    "print(df.dtypes)\n",
    "# df = df.reset_index()\n",
    "df.set_index('charttime', inplace=True)\n",
    "\n",
    "def interpolate_group(group):\n",
    "    if group.name in data_arrays:\n",
    "        # Perform interpolation for the group\n",
    "        group = group.interpolate(method='time')\n",
    "\n",
    "    return group\n",
    "\n",
    "# Apply the interpolation function to each group\n",
    "df = df.apply(interpolate_group).reset_index()\n",
    "\n",
    "grouped_df = df[[\"stay_id\", \"dose_b_time\", \"timestep_float\",\"has_icd\"]+data_arrays]\n",
    "print(df.dtypes)\n",
    "\n",
    "print(grouped_df.shape)\n",
    "grouped_df.head(50)"
   ],
   "metadata": {
    "collapsed": false,
    "ExecuteTime": {
     "end_time": "2023-11-03T02:02:46.968818200Z",
     "start_time": "2023-11-03T02:02:46.717935800Z"
    }
   },
   "id": "973f50807e404908"
  },
  {
   "cell_type": "markdown",
   "source": [
    "# Remove outliers"
   ],
   "metadata": {
    "collapsed": false
   },
   "id": "2f573370ebcbbac0"
  },
  {
   "cell_type": "code",
   "execution_count": 439,
   "outputs": [
    {
     "name": "stdout",
     "output_type": "stream",
     "text": [
      "           val\n",
      "count  11608.0\n",
      "mean       2.0\n",
      "std        0.0\n",
      "min        2.0\n",
      "1%         2.0\n",
      "2.5%       2.0\n",
      "25%        2.0\n",
      "50%        2.0\n",
      "75%        2.0\n",
      "97.5%      2.0\n",
      "99%        2.0\n",
      "99.9%      2.0\n",
      "max        2.0\n",
      "stay_id                   int64\n",
      "dose_b_time       datetime64[s]\n",
      "timestep_float          float64\n",
      "has_icd                    bool\n",
      "heart_rate              float64\n",
      "sbp                     float64\n",
      "dbp                     float64\n",
      "mbp                     float64\n",
      "dtype: object\n",
      "['heart_rate', 'sbp', 'dbp', 'mbp', 'timestep_float']\n",
      "['heart_rate', 'sbp', 'dbp', 'mbp']\n",
      "2\n"
     ]
    },
    {
     "data": {
      "text/plain": "         stay_id         dose_b_time  timestep_float  has_icd  heart_rate  \\\n0       30000484 2136-01-15 22:02:00        -39720.0    False        94.0   \n1       30000484 2136-01-15 22:02:00        -36120.0    False        93.0   \n2       30000484 2136-01-15 22:02:00        -32520.0    False        95.0   \n3       30000484 2136-01-15 22:02:00        -28920.0    False        92.0   \n4       30000484 2136-01-15 22:02:00        -27120.0    False        93.0   \n...          ...                 ...             ...      ...         ...   \n388449  39999230 2147-09-08 00:23:00         27420.0     True        69.0   \n388450  39999230 2147-09-08 00:23:00         31020.0     True        79.0   \n388451  39999230 2147-09-08 00:23:00         34620.0     True        66.0   \n388452  39999230 2147-09-08 00:23:00         38220.0     True        63.0   \n388453  39999230 2147-09-08 00:23:00         41820.0     True        76.0   \n\n               sbp         dbp   mbp  \n0       108.000000   43.000000  60.0  \n1       114.000000   44.000000  60.0  \n2       113.000000   66.000000  72.0  \n3       123.666667   97.333333  58.0  \n4       129.000000  113.000000  68.5  \n...            ...         ...   ...  \n388449  117.000000   58.000000  79.0  \n388450  123.000000   65.000000  87.0  \n388451  111.000000   59.000000  78.0  \n388452  110.000000   57.000000  76.0  \n388453  114.000000   68.000000  83.0  \n\n[385368 rows x 8 columns]",
      "text/html": "<div>\n<style scoped>\n    .dataframe tbody tr th:only-of-type {\n        vertical-align: middle;\n    }\n\n    .dataframe tbody tr th {\n        vertical-align: top;\n    }\n\n    .dataframe thead th {\n        text-align: right;\n    }\n</style>\n<table border=\"1\" class=\"dataframe\">\n  <thead>\n    <tr style=\"text-align: right;\">\n      <th></th>\n      <th>stay_id</th>\n      <th>dose_b_time</th>\n      <th>timestep_float</th>\n      <th>has_icd</th>\n      <th>heart_rate</th>\n      <th>sbp</th>\n      <th>dbp</th>\n      <th>mbp</th>\n    </tr>\n  </thead>\n  <tbody>\n    <tr>\n      <th>0</th>\n      <td>30000484</td>\n      <td>2136-01-15 22:02:00</td>\n      <td>-39720.0</td>\n      <td>False</td>\n      <td>94.0</td>\n      <td>108.000000</td>\n      <td>43.000000</td>\n      <td>60.0</td>\n    </tr>\n    <tr>\n      <th>1</th>\n      <td>30000484</td>\n      <td>2136-01-15 22:02:00</td>\n      <td>-36120.0</td>\n      <td>False</td>\n      <td>93.0</td>\n      <td>114.000000</td>\n      <td>44.000000</td>\n      <td>60.0</td>\n    </tr>\n    <tr>\n      <th>2</th>\n      <td>30000484</td>\n      <td>2136-01-15 22:02:00</td>\n      <td>-32520.0</td>\n      <td>False</td>\n      <td>95.0</td>\n      <td>113.000000</td>\n      <td>66.000000</td>\n      <td>72.0</td>\n    </tr>\n    <tr>\n      <th>3</th>\n      <td>30000484</td>\n      <td>2136-01-15 22:02:00</td>\n      <td>-28920.0</td>\n      <td>False</td>\n      <td>92.0</td>\n      <td>123.666667</td>\n      <td>97.333333</td>\n      <td>58.0</td>\n    </tr>\n    <tr>\n      <th>4</th>\n      <td>30000484</td>\n      <td>2136-01-15 22:02:00</td>\n      <td>-27120.0</td>\n      <td>False</td>\n      <td>93.0</td>\n      <td>129.000000</td>\n      <td>113.000000</td>\n      <td>68.5</td>\n    </tr>\n    <tr>\n      <th>...</th>\n      <td>...</td>\n      <td>...</td>\n      <td>...</td>\n      <td>...</td>\n      <td>...</td>\n      <td>...</td>\n      <td>...</td>\n      <td>...</td>\n    </tr>\n    <tr>\n      <th>388449</th>\n      <td>39999230</td>\n      <td>2147-09-08 00:23:00</td>\n      <td>27420.0</td>\n      <td>True</td>\n      <td>69.0</td>\n      <td>117.000000</td>\n      <td>58.000000</td>\n      <td>79.0</td>\n    </tr>\n    <tr>\n      <th>388450</th>\n      <td>39999230</td>\n      <td>2147-09-08 00:23:00</td>\n      <td>31020.0</td>\n      <td>True</td>\n      <td>79.0</td>\n      <td>123.000000</td>\n      <td>65.000000</td>\n      <td>87.0</td>\n    </tr>\n    <tr>\n      <th>388451</th>\n      <td>39999230</td>\n      <td>2147-09-08 00:23:00</td>\n      <td>34620.0</td>\n      <td>True</td>\n      <td>66.0</td>\n      <td>111.000000</td>\n      <td>59.000000</td>\n      <td>78.0</td>\n    </tr>\n    <tr>\n      <th>388452</th>\n      <td>39999230</td>\n      <td>2147-09-08 00:23:00</td>\n      <td>38220.0</td>\n      <td>True</td>\n      <td>63.0</td>\n      <td>110.000000</td>\n      <td>57.000000</td>\n      <td>76.0</td>\n    </tr>\n    <tr>\n      <th>388453</th>\n      <td>39999230</td>\n      <td>2147-09-08 00:23:00</td>\n      <td>41820.0</td>\n      <td>True</td>\n      <td>76.0</td>\n      <td>114.000000</td>\n      <td>68.000000</td>\n      <td>83.0</td>\n    </tr>\n  </tbody>\n</table>\n<p>385368 rows × 8 columns</p>\n</div>"
     },
     "execution_count": 439,
     "metadata": {},
     "output_type": "execute_result"
    }
   ],
   "source": [
    "# reduce the size of the data arrays to the p999 to get rid of the extreme outliers\n",
    "length = pd.DataFrame()\n",
    "length[\"val\"] = [len(array) for array in grouped_df.groupby([\"stay_id\", \"dose_b_time\"])[\"mbp\"]]\n",
    "print(length.describe(percentiles=[0.01, 0.025, 0.25, 0.5, 0.75, 0.975, 0.99, 0.999]))\n",
    "print(grouped_df.dtypes)\n",
    "max_size = 90  # p999\n",
    "\n",
    "data_array_with_time = data_arrays.copy()\n",
    "data_array_with_time.append(\"timestep_float\")\n",
    "print(data_array_with_time)\n",
    "print(data_arrays)\n",
    "\n",
    "grouped_df = grouped_df.groupby([\"stay_id\", \"dose_b_time\"]).head(max_size)\n",
    "\n",
    "max_sequence_length = max(len(array) for array in grouped_df.groupby([\"stay_id\", \"dose_b_time\"])[\"sbp\"])\n",
    "print(max_sequence_length)\n",
    "\n",
    "grouped_df"
   ],
   "metadata": {
    "collapsed": false,
    "ExecuteTime": {
     "end_time": "2023-11-03T02:02:47.885950100Z",
     "start_time": "2023-11-03T02:02:46.968818200Z"
    }
   },
   "id": "7577b32922b217c7"
  },
  {
   "cell_type": "markdown",
   "source": [
    "# Unify timesteps\n",
    "The time measurement data varies per dosage, this step aligns all the time steps to 10 minute intervals, and interpolates between our \n",
    "existing time measures to produce 12 hours of 10 minute timestaps "
   ],
   "metadata": {
    "collapsed": false
   },
   "id": "7d458e55c120a81b"
  },
  {
   "cell_type": "code",
   "execution_count": 440,
   "outputs": [
    {
     "name": "stdout",
     "output_type": "stream",
     "text": [
      "                                          intr-heart_rate  intr-sbp  intr-dbp  \\\n",
      "stay_id  has_icd dose_b_time                                                    \n",
      "30000484 False   2136-01-15 22:02:00 0              105.0     147.0      79.0   \n",
      "                                     1              105.0     147.0      79.0   \n",
      "                                     2              105.0     147.0      79.0   \n",
      "                                     3              105.0     147.0      79.0   \n",
      "                                     4              105.0     147.0      79.0   \n",
      "...                                                   ...       ...       ...   \n",
      "39999230 True    2147-09-08 00:23:00 139             66.0     110.0      57.0   \n",
      "                                     140             66.0     110.0      57.0   \n",
      "                                     141             66.0     110.0      57.0   \n",
      "                                     142             66.0     110.0      57.0   \n",
      "                                     143             66.0     110.0      57.0   \n",
      "\n",
      "                                          intr-mbp  common_timestep  \n",
      "stay_id  has_icd dose_b_time                                         \n",
      "30000484 False   2136-01-15 22:02:00 0        96.0             -720  \n",
      "                                     1        96.0             -710  \n",
      "                                     2        96.0             -700  \n",
      "                                     3        96.0             -690  \n",
      "                                     4        96.0             -680  \n",
      "...                                            ...              ...  \n",
      "39999230 True    2147-09-08 00:23:00 139      76.0              670  \n",
      "                                     140      76.0              680  \n",
      "                                     141      76.0              690  \n",
      "                                     142      76.0              700  \n",
      "                                     143      76.0              710  \n",
      "\n",
      "[1671552 rows x 5 columns]\n"
     ]
    },
    {
     "data": {
      "text/plain": "                                         intr-heart_rate  intr-sbp  intr-dbp  \\\nstay_id  has_icd dose_b_time                                                   \n30000484 False   2136-01-15 22:02:00 0             105.0     147.0      79.0   \n                                     1             105.0     147.0      79.0   \n                                     2             105.0     147.0      79.0   \n                                     3             105.0     147.0      79.0   \n                                     4             105.0     147.0      79.0   \n...                                                  ...       ...       ...   \n30004144 True    2126-04-04 18:43:00 63             81.0     115.0      56.0   \n                                     64             81.0     115.0      56.0   \n                                     65             81.0     115.0      56.0   \n                                     66             81.0     115.0      56.0   \n                                     67             81.0     115.0      56.0   \n\n                                         intr-mbp  common_timestep  \nstay_id  has_icd dose_b_time                                        \n30000484 False   2136-01-15 22:02:00 0       96.0             -720  \n                                     1       96.0             -710  \n                                     2       96.0             -700  \n                                     3       96.0             -690  \n                                     4       96.0             -680  \n...                                           ...              ...  \n30004144 True    2126-04-04 18:43:00 63      74.0              -90  \n                                     64      74.0              -80  \n                                     65      74.0              -70  \n                                     66      74.0              -60  \n                                     67      74.0              -50  \n\n[500 rows x 5 columns]",
      "text/html": "<div>\n<style scoped>\n    .dataframe tbody tr th:only-of-type {\n        vertical-align: middle;\n    }\n\n    .dataframe tbody tr th {\n        vertical-align: top;\n    }\n\n    .dataframe thead th {\n        text-align: right;\n    }\n</style>\n<table border=\"1\" class=\"dataframe\">\n  <thead>\n    <tr style=\"text-align: right;\">\n      <th></th>\n      <th></th>\n      <th></th>\n      <th></th>\n      <th>intr-heart_rate</th>\n      <th>intr-sbp</th>\n      <th>intr-dbp</th>\n      <th>intr-mbp</th>\n      <th>common_timestep</th>\n    </tr>\n    <tr>\n      <th>stay_id</th>\n      <th>has_icd</th>\n      <th>dose_b_time</th>\n      <th></th>\n      <th></th>\n      <th></th>\n      <th></th>\n      <th></th>\n      <th></th>\n    </tr>\n  </thead>\n  <tbody>\n    <tr>\n      <th rowspan=\"5\" valign=\"top\">30000484</th>\n      <th rowspan=\"5\" valign=\"top\">False</th>\n      <th rowspan=\"5\" valign=\"top\">2136-01-15 22:02:00</th>\n      <th>0</th>\n      <td>105.0</td>\n      <td>147.0</td>\n      <td>79.0</td>\n      <td>96.0</td>\n      <td>-720</td>\n    </tr>\n    <tr>\n      <th>1</th>\n      <td>105.0</td>\n      <td>147.0</td>\n      <td>79.0</td>\n      <td>96.0</td>\n      <td>-710</td>\n    </tr>\n    <tr>\n      <th>2</th>\n      <td>105.0</td>\n      <td>147.0</td>\n      <td>79.0</td>\n      <td>96.0</td>\n      <td>-700</td>\n    </tr>\n    <tr>\n      <th>3</th>\n      <td>105.0</td>\n      <td>147.0</td>\n      <td>79.0</td>\n      <td>96.0</td>\n      <td>-690</td>\n    </tr>\n    <tr>\n      <th>4</th>\n      <td>105.0</td>\n      <td>147.0</td>\n      <td>79.0</td>\n      <td>96.0</td>\n      <td>-680</td>\n    </tr>\n    <tr>\n      <th>...</th>\n      <th>...</th>\n      <th>...</th>\n      <th>...</th>\n      <td>...</td>\n      <td>...</td>\n      <td>...</td>\n      <td>...</td>\n      <td>...</td>\n    </tr>\n    <tr>\n      <th rowspan=\"5\" valign=\"top\">30004144</th>\n      <th rowspan=\"5\" valign=\"top\">True</th>\n      <th rowspan=\"5\" valign=\"top\">2126-04-04 18:43:00</th>\n      <th>63</th>\n      <td>81.0</td>\n      <td>115.0</td>\n      <td>56.0</td>\n      <td>74.0</td>\n      <td>-90</td>\n    </tr>\n    <tr>\n      <th>64</th>\n      <td>81.0</td>\n      <td>115.0</td>\n      <td>56.0</td>\n      <td>74.0</td>\n      <td>-80</td>\n    </tr>\n    <tr>\n      <th>65</th>\n      <td>81.0</td>\n      <td>115.0</td>\n      <td>56.0</td>\n      <td>74.0</td>\n      <td>-70</td>\n    </tr>\n    <tr>\n      <th>66</th>\n      <td>81.0</td>\n      <td>115.0</td>\n      <td>56.0</td>\n      <td>74.0</td>\n      <td>-60</td>\n    </tr>\n    <tr>\n      <th>67</th>\n      <td>81.0</td>\n      <td>115.0</td>\n      <td>56.0</td>\n      <td>74.0</td>\n      <td>-50</td>\n    </tr>\n  </tbody>\n</table>\n<p>500 rows × 5 columns</p>\n</div>"
     },
     "execution_count": 440,
     "metadata": {},
     "output_type": "execute_result"
    }
   ],
   "source": [
    "# first fill blank values through interpellation\n",
    "from scipy.interpolate import interp1d\n",
    "\n",
    "HOURS = 12\n",
    "MIN_INCREMENTS = 10\n",
    "\n",
    "def interpolate_row(row):\n",
    "    vals = pd.DataFrame()\n",
    "    time_steps = np.array(row[\"timestep_float\"])\n",
    "    common_time_interval = range(HOURS * -60, HOURS * 60, MIN_INCREMENTS)\n",
    "\n",
    "    for data_array in data_arrays:\n",
    "        interp_func = interp1d(time_steps, row[data_array], kind='next', fill_value='extrapolate')\n",
    "        vals[\"intr-\" + data_array] = interp_func(common_time_interval)\n",
    "\n",
    "    vals[\"common_timestep\"] = common_time_interval\n",
    "    return vals\n",
    "\n",
    "\n",
    "# Apply the function to the specific subset of rows\n",
    "interpolated_df = grouped_df.groupby(['stay_id', 'has_icd', 'dose_b_time']).apply(interpolate_row)\n",
    "print(interpolated_df)\n",
    "\n",
    "interpolated_df.head(500)"
   ],
   "metadata": {
    "collapsed": false,
    "ExecuteTime": {
     "end_time": "2023-11-03T02:03:14.048278Z",
     "start_time": "2023-11-03T02:02:47.886920700Z"
    }
   },
   "id": "5bf9396b30fdfa6e"
  },
  {
   "cell_type": "markdown",
   "source": [
    "# Normalise and scale data"
   ],
   "metadata": {
    "collapsed": false
   },
   "id": "26913a26a7502d87"
  },
  {
   "cell_type": "code",
   "execution_count": 441,
   "outputs": [
    {
     "name": "stdout",
     "output_type": "stream",
     "text": [
      "['intr-heart_rate', 'intr-sbp', 'intr-dbp', 'intr-mbp']\n",
      "                                         intr-heart_rate  intr-sbp  intr-dbp  \\\n",
      "stay_id  has_icd dose_b_time                                                   \n",
      "30000484 False   2136-01-15 22:02:00 0              0.68  1.103448  1.132075   \n",
      "                                     1              0.68  1.103448  1.132075   \n",
      "                                     2              0.68  1.103448  1.132075   \n",
      "                                     3              0.68  1.103448  1.132075   \n",
      "                                     4              0.68  1.103448  1.132075   \n",
      "                                     5              0.68  1.103448  1.132075   \n",
      "                                     6              0.68  1.103448  1.132075   \n",
      "                                     7              0.68  1.103448  1.132075   \n",
      "                                     8              0.68  1.103448  1.132075   \n",
      "                                     9              0.68  1.103448  1.132075   \n",
      "                                     10             0.68  1.103448  1.132075   \n",
      "                                     11             0.68  1.103448  1.132075   \n",
      "                                     12             0.68  1.103448  1.132075   \n",
      "                                     13             0.68  1.103448  1.132075   \n",
      "                                     14             0.68  1.103448  1.132075   \n",
      "                                     15             0.68  1.103448  1.132075   \n",
      "                                     16             0.68  1.103448  1.132075   \n",
      "                                     17             0.68  1.103448  1.132075   \n",
      "                                     18             0.68  1.103448  1.132075   \n",
      "                                     19             0.68  1.103448  1.132075   \n",
      "                                     20             0.68  1.103448  1.132075   \n",
      "                                     21             0.68  1.103448  1.132075   \n",
      "                                     22             0.68  1.103448  1.132075   \n",
      "                                     23             0.68  1.103448  1.132075   \n",
      "                                     24             0.68  1.103448  1.132075   \n",
      "                                     25             0.68  1.103448  1.132075   \n",
      "                                     26             0.68  1.103448  1.132075   \n",
      "                                     27             0.68  1.103448  1.132075   \n",
      "                                     28             0.68  1.103448  1.132075   \n",
      "                                     29             0.68  1.103448  1.132075   \n",
      "                                     30             0.68  1.103448  1.132075   \n",
      "                                     31             0.68  1.103448  1.132075   \n",
      "                                     32             0.68  1.103448  1.132075   \n",
      "                                     33             0.68  1.103448  1.132075   \n",
      "                                     34             0.68  1.103448  1.132075   \n",
      "                                     35             0.68  1.103448  1.132075   \n",
      "                                     36             0.68  1.103448  1.132075   \n",
      "                                     37             0.68  1.103448  1.132075   \n",
      "                                     38             0.68  1.103448  1.132075   \n",
      "                                     39             0.68  1.103448  1.132075   \n",
      "                                     40             0.68  1.103448  1.132075   \n",
      "                                     41             0.68  1.103448  1.132075   \n",
      "                                     42             0.68  1.103448  1.132075   \n",
      "                                     43             0.68  1.103448  1.132075   \n",
      "                                     44             0.68  1.103448  1.132075   \n",
      "                                     45             0.68  1.103448  1.132075   \n",
      "                                     46             0.68  1.103448  1.132075   \n",
      "                                     47             0.68  1.103448  1.132075   \n",
      "                                     48             0.68  1.103448  1.132075   \n",
      "                                     49             0.68  1.103448  1.132075   \n",
      "\n",
      "                                         intr-mbp  common_timestep  \n",
      "stay_id  has_icd dose_b_time                                        \n",
      "30000484 False   2136-01-15 22:02:00 0   1.075391             -720  \n",
      "                                     1   1.075391             -710  \n",
      "                                     2   1.075391             -700  \n",
      "                                     3   1.075391             -690  \n",
      "                                     4   1.075391             -680  \n",
      "                                     5   1.075391             -670  \n",
      "                                     6   1.075391             -660  \n",
      "                                     7   1.075391             -650  \n",
      "                                     8   1.075391             -640  \n",
      "                                     9   1.075391             -630  \n",
      "                                     10  1.075391             -620  \n",
      "                                     11  1.075391             -610  \n",
      "                                     12  1.075391             -600  \n",
      "                                     13  1.075391             -590  \n",
      "                                     14  1.075391             -580  \n",
      "                                     15  1.075391             -570  \n",
      "                                     16  1.075391             -560  \n",
      "                                     17  1.075391             -550  \n",
      "                                     18  1.075391             -540  \n",
      "                                     19  1.075391             -530  \n",
      "                                     20  1.075391             -520  \n",
      "                                     21  1.075391             -510  \n",
      "                                     22  1.075391             -500  \n",
      "                                     23  1.075391             -490  \n",
      "                                     24  1.075391             -480  \n",
      "                                     25  1.075391             -470  \n",
      "                                     26  1.075391             -460  \n",
      "                                     27  1.075391             -450  \n",
      "                                     28  1.075391             -440  \n",
      "                                     29  1.075391             -430  \n",
      "                                     30  1.075391             -420  \n",
      "                                     31  1.075391             -410  \n",
      "                                     32  1.075391             -400  \n",
      "                                     33  1.075391             -390  \n",
      "                                     34  1.075391             -380  \n",
      "                                     35  1.075391             -370  \n",
      "                                     36  1.075391             -360  \n",
      "                                     37  1.075391             -350  \n",
      "                                     38  1.075391             -340  \n",
      "                                     39  1.075391             -330  \n",
      "                                     40  1.075391             -320  \n",
      "                                     41  1.075391             -310  \n",
      "                                     42  1.075391             -300  \n",
      "                                     43  1.075391             -290  \n",
      "                                     44  1.075391             -280  \n",
      "                                     45  1.075391             -270  \n",
      "                                     46  1.075391             -260  \n",
      "                                     47  1.075391             -250  \n",
      "                                     48  1.075391             -240  \n",
      "                                     49  1.075391             -230  \n"
     ]
    }
   ],
   "source": [
    "from sklearn.preprocessing import RobustScaler\n",
    "# \n",
    "features = []\n",
    "for data in data_arrays:\n",
    "    features.append('intr-'+data)\n",
    "\n",
    "print(features)\n",
    "# Initialize the RobustScaler\n",
    "scaler = RobustScaler()\n",
    "\n",
    "# Fit and transform the column\n",
    "\n",
    "for feature in features:\n",
    "    interpolated_df[feature] = scaler.fit_transform(interpolated_df[[feature]])\n",
    "\n",
    "print(interpolated_df.head(50))\n"
   ],
   "metadata": {
    "collapsed": false,
    "ExecuteTime": {
     "end_time": "2023-11-03T02:03:14.319080700Z",
     "start_time": "2023-11-03T02:03:14.041268600Z"
    }
   },
   "id": "87733823e74147e8"
  },
  {
   "cell_type": "code",
   "execution_count": 442,
   "outputs": [
    {
     "name": "stdout",
     "output_type": "stream",
     "text": [
      "1672\n",
      "3344\n",
      "0.5\n"
     ]
    },
    {
     "data": {
      "text/plain": "(1671552, 9)"
     },
     "execution_count": 442,
     "metadata": {},
     "output_type": "execute_result"
    }
   ],
   "source": [
    "interpolated_df = interpolated_df.reset_index()\n",
    "print(interpolated_df.groupby(['stay_id'])['has_icd'].agg(lambda x : all(x)).sum())\n",
    "has_icd = interpolated_df.groupby(['stay_id'])['has_icd'].agg(lambda x : all(x)).sum()\n",
    "print(len(interpolated_df['stay_id'].unique()))\n",
    "print (has_icd / len(interpolated_df['stay_id'].unique()))\n",
    "interpolated_df.shape"
   ],
   "metadata": {
    "collapsed": false,
    "ExecuteTime": {
     "end_time": "2023-11-03T02:03:15.353580400Z",
     "start_time": "2023-11-03T02:03:14.275679400Z"
    }
   },
   "id": "162e8aa935f5f712"
  },
  {
   "cell_type": "code",
   "execution_count": 443,
   "outputs": [
    {
     "data": {
      "text/plain": "     stay_id  has_icd         dose_b_time  level_3  intr-heart_rate  intr-sbp  \\\n0   30000484    False 2136-01-15 22:02:00        0             0.68  1.103448   \n1   30000484    False 2136-01-15 22:02:00        1             0.68  1.103448   \n2   30000484    False 2136-01-15 22:02:00        2             0.68  1.103448   \n3   30000484    False 2136-01-15 22:02:00        3             0.68  1.103448   \n4   30000484    False 2136-01-15 22:02:00        4             0.68  1.103448   \n..       ...      ...                 ...      ...              ...       ...   \n95  30000484    False 2136-01-15 22:02:00       95             0.32  0.379310   \n96  30000484    False 2136-01-15 22:02:00       96             0.32  0.379310   \n97  30000484    False 2136-01-15 22:02:00       97             0.32  0.379310   \n98  30000484    False 2136-01-15 22:02:00       98             0.32  0.379310   \n99  30000484    False 2136-01-15 22:02:00       99             0.32  0.379310   \n\n    intr-dbp  intr-mbp  common_timestep  \n0   1.132075  1.075391             -720  \n1   1.132075  1.075391             -710  \n2   1.132075  1.075391             -700  \n3   1.132075  1.075391             -690  \n4   1.132075  1.075391             -680  \n..       ...       ...              ...  \n95  0.622642  0.285917              230  \n96  0.622642  0.285917              240  \n97  0.622642  0.285917              250  \n98  0.622642  0.285917              260  \n99  0.622642  0.285917              270  \n\n[100 rows x 9 columns]",
      "text/html": "<div>\n<style scoped>\n    .dataframe tbody tr th:only-of-type {\n        vertical-align: middle;\n    }\n\n    .dataframe tbody tr th {\n        vertical-align: top;\n    }\n\n    .dataframe thead th {\n        text-align: right;\n    }\n</style>\n<table border=\"1\" class=\"dataframe\">\n  <thead>\n    <tr style=\"text-align: right;\">\n      <th></th>\n      <th>stay_id</th>\n      <th>has_icd</th>\n      <th>dose_b_time</th>\n      <th>level_3</th>\n      <th>intr-heart_rate</th>\n      <th>intr-sbp</th>\n      <th>intr-dbp</th>\n      <th>intr-mbp</th>\n      <th>common_timestep</th>\n    </tr>\n  </thead>\n  <tbody>\n    <tr>\n      <th>0</th>\n      <td>30000484</td>\n      <td>False</td>\n      <td>2136-01-15 22:02:00</td>\n      <td>0</td>\n      <td>0.68</td>\n      <td>1.103448</td>\n      <td>1.132075</td>\n      <td>1.075391</td>\n      <td>-720</td>\n    </tr>\n    <tr>\n      <th>1</th>\n      <td>30000484</td>\n      <td>False</td>\n      <td>2136-01-15 22:02:00</td>\n      <td>1</td>\n      <td>0.68</td>\n      <td>1.103448</td>\n      <td>1.132075</td>\n      <td>1.075391</td>\n      <td>-710</td>\n    </tr>\n    <tr>\n      <th>2</th>\n      <td>30000484</td>\n      <td>False</td>\n      <td>2136-01-15 22:02:00</td>\n      <td>2</td>\n      <td>0.68</td>\n      <td>1.103448</td>\n      <td>1.132075</td>\n      <td>1.075391</td>\n      <td>-700</td>\n    </tr>\n    <tr>\n      <th>3</th>\n      <td>30000484</td>\n      <td>False</td>\n      <td>2136-01-15 22:02:00</td>\n      <td>3</td>\n      <td>0.68</td>\n      <td>1.103448</td>\n      <td>1.132075</td>\n      <td>1.075391</td>\n      <td>-690</td>\n    </tr>\n    <tr>\n      <th>4</th>\n      <td>30000484</td>\n      <td>False</td>\n      <td>2136-01-15 22:02:00</td>\n      <td>4</td>\n      <td>0.68</td>\n      <td>1.103448</td>\n      <td>1.132075</td>\n      <td>1.075391</td>\n      <td>-680</td>\n    </tr>\n    <tr>\n      <th>...</th>\n      <td>...</td>\n      <td>...</td>\n      <td>...</td>\n      <td>...</td>\n      <td>...</td>\n      <td>...</td>\n      <td>...</td>\n      <td>...</td>\n      <td>...</td>\n    </tr>\n    <tr>\n      <th>95</th>\n      <td>30000484</td>\n      <td>False</td>\n      <td>2136-01-15 22:02:00</td>\n      <td>95</td>\n      <td>0.32</td>\n      <td>0.379310</td>\n      <td>0.622642</td>\n      <td>0.285917</td>\n      <td>230</td>\n    </tr>\n    <tr>\n      <th>96</th>\n      <td>30000484</td>\n      <td>False</td>\n      <td>2136-01-15 22:02:00</td>\n      <td>96</td>\n      <td>0.32</td>\n      <td>0.379310</td>\n      <td>0.622642</td>\n      <td>0.285917</td>\n      <td>240</td>\n    </tr>\n    <tr>\n      <th>97</th>\n      <td>30000484</td>\n      <td>False</td>\n      <td>2136-01-15 22:02:00</td>\n      <td>97</td>\n      <td>0.32</td>\n      <td>0.379310</td>\n      <td>0.622642</td>\n      <td>0.285917</td>\n      <td>250</td>\n    </tr>\n    <tr>\n      <th>98</th>\n      <td>30000484</td>\n      <td>False</td>\n      <td>2136-01-15 22:02:00</td>\n      <td>98</td>\n      <td>0.32</td>\n      <td>0.379310</td>\n      <td>0.622642</td>\n      <td>0.285917</td>\n      <td>260</td>\n    </tr>\n    <tr>\n      <th>99</th>\n      <td>30000484</td>\n      <td>False</td>\n      <td>2136-01-15 22:02:00</td>\n      <td>99</td>\n      <td>0.32</td>\n      <td>0.379310</td>\n      <td>0.622642</td>\n      <td>0.285917</td>\n      <td>270</td>\n    </tr>\n  </tbody>\n</table>\n<p>100 rows × 9 columns</p>\n</div>"
     },
     "execution_count": 443,
     "metadata": {},
     "output_type": "execute_result"
    }
   ],
   "source": [
    "interpolated_df.head(100)"
   ],
   "metadata": {
    "collapsed": false,
    "ExecuteTime": {
     "end_time": "2023-11-03T02:03:15.431914700Z",
     "start_time": "2023-11-03T02:03:15.356572600Z"
    }
   },
   "id": "2991c8f1f2b5fd9b"
  },
  {
   "cell_type": "markdown",
   "source": [
    "# Reshape the arrays to be a uniform 3D tensor\n",
    "Pads with extra zeros for dosages that do not have max_dosage measures"
   ],
   "metadata": {
    "collapsed": false
   },
   "id": "2b115ba2a4b575ed"
  },
  {
   "cell_type": "code",
   "execution_count": 444,
   "outputs": [
    {
     "name": "stdout",
     "output_type": "stream",
     "text": [
      "count    6899.0\n",
      "mean      144.0\n",
      "std         0.0\n",
      "min       144.0\n",
      "25%       144.0\n",
      "50%       144.0\n",
      "75%       144.0\n",
      "max       144.0\n",
      "Name: common_timestep, dtype: float64\n",
      "count    4709.0\n",
      "mean      144.0\n",
      "std         0.0\n",
      "min       144.0\n",
      "25%       144.0\n",
      "50%       144.0\n",
      "75%       144.0\n",
      "max       144.0\n",
      "Name: common_timestep, dtype: float64\n",
      "Max sequence length 144\n",
      "Max dosages 10\n",
      "Found array values with NaN 30007565 \n",
      "Found array values with NaN 30062341 \n",
      "Found array values with NaN 30215114 \n",
      "Found array values with NaN 30282193 \n",
      "Found array values with NaN 30459604 \n",
      "Found array values with NaN 30709267 \n",
      "Found array values with NaN 30865290 \n",
      "Found array values with NaN 31035417 \n",
      "Found array values with NaN 31044655 \n",
      "Found array values with NaN 31169797 \n",
      "Found array values with NaN 31277766 \n",
      "Found array values with NaN 31339001 \n",
      "Found array values with NaN 31540850 \n",
      "Found array values with NaN 31651307 \n",
      "Found array values with NaN 31706336 \n",
      "Found array values with NaN 31848963 \n",
      "Found array values with NaN 32636257 \n",
      "Found array values with NaN 33682689 \n",
      "Found array values with NaN 33682689 \n",
      "Found array values with NaN 33883845 \n",
      "Found array values with NaN 33995657 \n",
      "Found array values with NaN 34188978 \n",
      "Found array values with NaN 34478728 \n",
      "Found array values with NaN 34912155 \n",
      "Found array values with NaN 34960775 \n",
      "Found array values with NaN 35543685 \n",
      "Found array values with NaN 36149963 \n",
      "Found array values with NaN 36400935 \n",
      "Found array values with NaN 36400935 \n",
      "Found array values with NaN 36644426 \n",
      "Found array values with NaN 37764963 \n",
      "Found array values with NaN 37974899 \n",
      "Found array values with NaN 38466543 \n",
      "Found array values with NaN 38581674 \n",
      "Found array values with NaN 38637564 \n",
      "Found array values with NaN 39205095 \n",
      "Found array values with NaN 39425075 \n",
      "Original shape (3337, 4, 144, 4)\n",
      "4\n",
      "Reshaped X (3337, 144, 16)\n",
      "Shape of Y (3337,)\n",
      "Found 37 - [30007565, 30062341, 30215114, 30282193, 30459604, 30709267, 30865290, 31035417, 31044655, 31169797, 31277766, 31339001, 31540850, 31651307, 31706336, 31848963, 32636257, 33682689, 33682689, 33883845, 33995657, 34188978, 34478728, 34912155, 34960775, 35543685, 36149963, 36400935, 36400935, 36644426, 37764963, 37974899, 38466543, 38581674, 38637564, 39205095, 39425075]\n"
     ]
    }
   ],
   "source": [
    "from numpy import shape\n",
    "from keras_preprocessing.sequence import pad_sequences\n",
    "\n",
    "target = 'has_icd'\n",
    "\n",
    "# Extract features and timestep data\n",
    "\n",
    "# interpolated_df = interpolated_df.reset_index()\n",
    "timesteps_with_icd = interpolated_df[interpolated_df[\"has_icd\"]].groupby([\"stay_id\", \"dose_b_time\"])['common_timestep'].count()\n",
    "timesteps_without_icd = interpolated_df[~interpolated_df[\"has_icd\"]].groupby([\"stay_id\", \"dose_b_time\"])['common_timestep'].count()\n",
    "print(timesteps_with_icd.describe())\n",
    "print(timesteps_without_icd.describe())\n",
    "\n",
    "timesteps = interpolated_df.groupby([\"stay_id\", \"dose_b_time\"])['common_timestep'].count()\n",
    "\n",
    "# Determine the maximum sequence length\n",
    "max_sequence_length = max(timesteps)\n",
    "print(f\"Max sequence length {max_sequence_length}\")\n",
    "\n",
    "max_dosages = min(df.groupby(\"stay_id\")[\"dose_b_time\"].nunique().max(), 10)\n",
    "print(f\"Max dosages {max_dosages}\")\n",
    "\n",
    "X_sequences = []\n",
    "y_sequences = []\n",
    "zeros = np.zeros((max_sequence_length, len(features))) # an array of timestep zeros * features for padding the tensor\n",
    "\n",
    "# Initialize an empty list to store arrays\n",
    "result = []\n",
    "\n",
    "# Collect any invalid stays\n",
    "invalid_stays = []\n",
    "\n",
    "# Organize data by stay_id\n",
    "stay_ids = interpolated_df['stay_id'].unique()\n",
    "for stay_id in stay_ids:\n",
    "    # Filter the DataFrame for the current key1\n",
    "    df_stays = interpolated_df[interpolated_df[\"stay_id\"] == stay_id]\n",
    "\n",
    "    # Create a list to store arrays for the current key1\n",
    "    stays_array = []\n",
    "\n",
    "    unique_doses = df_stays['dose_b_time'].unique()\n",
    "    # Iterate over unique values of key2 within the current key1\n",
    "    for idx, dose_b_time in enumerate(unique_doses):\n",
    "        if idx >= max_dosages:\n",
    "            break\n",
    "  \n",
    "            \n",
    "        # Filter the DataFrame for the current key2\n",
    "        df_dose = df_stays[df_stays[\"dose_b_time\"] == dose_b_time]\n",
    "    \n",
    "        # Extract the feature values\n",
    "        val_columns = df_dose[features].values\n",
    "        \n",
    "        # Append the extracted values as an array to the list if they are all valid\n",
    "        if ~np.any(np.isnan(val_columns)):\n",
    "            stays_array.append(val_columns)\n",
    "        else:\n",
    "            invalid_stays.append(stay_id) ## collect invalid stay ids if NaNs are found\n",
    "            print(f\"Found array values with NaN {stay_id} \")\n",
    "        \n",
    "    if len(stays_array) > 0:\n",
    "        # Convert the list of arrays to a NumPy array for the current key1\n",
    "        stays_array = np.array(stays_array)\n",
    "        if ~(np.all(df_stays[target]) | ~np.any(df_stays[target])):\n",
    "            print(f\"Found inconsistent icd code {df_stays[target]}\")\n",
    "            \n",
    "        y_sequences.append(df_stays[target].unique()[0])\n",
    "        # normalise the varying number of measure events, down to mean and variance of each time step\n",
    "        stay_summary_array = list()\n",
    "        stay_summary_array.append(np.mean(stays_array, axis=0))\n",
    "        stay_summary_array.append(np.var(stays_array, axis=0))\n",
    "        stay_summary_array.append(np.min(stays_array, axis=0))\n",
    "        stay_summary_array.append(np.max(stays_array, axis=0))\n",
    "        result.append(stay_summary_array)\n",
    "    \n",
    "\n",
    "# Convert the result list to a NumPy array\n",
    "X_sequences = np.array(result)\n",
    "y_sequences = np.array(y_sequences).astype(int)\n",
    "\n",
    "print(f\"Original shape {shape(X_sequences)}\")\n",
    "print(len(shape(X_sequences)))\n",
    "# flatten from 4D tensor to 3D tensor, this effectively creates features out of each summary stat for each\n",
    "# feature. We have 4 summary stats (min, max, mean and variance) and 4 features (bp, mbp, sbp, dbp)\n",
    "if len(shape(X_sequences)) > 3:\n",
    "    original_shape = X_sequences.shape\n",
    "    X_sequences = X_sequences.reshape(original_shape[0], original_shape[2], original_shape[1] * original_shape[3])\n",
    "    \n",
    "    print(f\"Reshaped X {shape(X_sequences)}\")\n",
    "    print(f\"Shape of Y {shape(y_sequences)}\")\n",
    "\n",
    "print(f\"Found {len(invalid_stays)} - {invalid_stays}\")"
   ],
   "metadata": {
    "collapsed": false,
    "ExecuteTime": {
     "end_time": "2023-11-03T02:03:34.498790600Z",
     "start_time": "2023-11-03T02:03:15.385495200Z"
    }
   },
   "id": "1a076c674ca138cc"
  },
  {
   "cell_type": "code",
   "execution_count": 445,
   "outputs": [
    {
     "name": "stdout",
     "output_type": "stream",
     "text": [
      "Cohort reduced from 3337 to 3337 by sampling\n",
      "(3337, 144, 16)\n",
      "(3337,)\n",
      "Ratio of positive to negative, should be 0.5 0.49925082409349714\n"
     ]
    }
   ],
   "source": [
    "# Restrict the size of the data so speed things up, delete this for a full production run\n",
    "X = X_sequences #[:1500]\n",
    "y = y_sequences #[:1500]\n",
    "\n",
    "# Generate random indices for sampling, this is to reduce the sample size to speed up machine learning\n",
    "## XXXXXXXXXXXXXXX This sample size reduces the cohort XXXXX\n",
    "# sample_size = 2000\n",
    "# random_indices = np.random.choice(len(X), size=sample_size, replace=False)\n",
    "# \n",
    "# # Use the random indices to select elements from both arrays\n",
    "# X = X_sequences[random_indices]\n",
    "# y = y_sequences[random_indices]\n",
    "\n",
    "print(f\"Cohort reduced from {len(X_sequences)} to {len(X)} by sampling\")\n",
    "print(shape(X))\n",
    "print(shape(y))\n",
    "print(f\"Ratio of positive to negative, should be 0.5 {np.sum(y) / len(y)}\")\n"
   ],
   "metadata": {
    "collapsed": false,
    "ExecuteTime": {
     "end_time": "2023-11-03T02:03:34.514675800Z",
     "start_time": "2023-11-03T02:03:34.499715700Z"
    }
   },
   "id": "96411bfc952ab4a5"
  },
  {
   "cell_type": "markdown",
   "source": [
    "# Split into test and train sets"
   ],
   "metadata": {
    "collapsed": false
   },
   "id": "1d58b882b1ccdfa7"
  },
  {
   "cell_type": "code",
   "execution_count": 446,
   "outputs": [
    {
     "name": "stdout",
     "output_type": "stream",
     "text": [
      "3337\n",
      "3337\n",
      "3003\n",
      "(3003, 144, 16)\n",
      "(334, 144, 16)\n",
      "(3003,)\n",
      "(334,)\n"
     ]
    }
   ],
   "source": [
    "print(len(X))\n",
    "print(len(y))\n",
    "\n",
    "#Adjust the size of the testing set: we'll use 10% of the entire data. \n",
    "X_train, X_test, y_train, y_test = train_test_split(X, y, test_size=0.1, random_state=2)\n",
    "\n",
    "#Check the number of columns (features):\n",
    "print(len(X_train))\n",
    "print(shape(X_train))\n",
    "print(shape(X_test))\n",
    "print(shape(y_train))\n",
    "print(shape(y_test))\n"
   ],
   "metadata": {
    "collapsed": false,
    "ExecuteTime": {
     "end_time": "2023-11-03T02:03:34.570040900Z",
     "start_time": "2023-11-03T02:03:34.517667600Z"
    }
   },
   "id": "ba5b915cab2f0376"
  },
  {
   "cell_type": "markdown",
   "source": [
    "# The RNN Model selection\n",
    "Compare and constrast between two RNN implementations, GRU and LSTM models\n",
    "\n",
    "Hyperparameters of dropout, recurrrent_activation and number of units were compared"
   ],
   "metadata": {
    "collapsed": false
   },
   "id": "16a6953bdae39e1f"
  },
  {
   "cell_type": "code",
   "execution_count": 446,
   "outputs": [],
   "source": [
    "\n"
   ],
   "metadata": {
    "collapsed": false,
    "ExecuteTime": {
     "end_time": "2023-11-03T02:03:34.621647500Z",
     "start_time": "2023-11-03T02:03:34.564057600Z"
    }
   },
   "id": "4c1ca833717a939a"
  },
  {
   "cell_type": "markdown",
   "source": [
    "### Hyperparameter training for GRU"
   ],
   "metadata": {
    "collapsed": false
   },
   "id": "a45e92ba10733e43"
  },
  {
   "cell_type": "code",
   "execution_count": null,
   "outputs": [
    {
     "name": "stdout",
     "output_type": "stream",
     "text": [
      "Fitting 3 folds for each of 9 candidates, totalling 27 fits\n"
     ]
    },
    {
     "name": "stderr",
     "output_type": "stream",
     "text": [
      "C:\\Users\\stlan\\AppData\\Local\\Temp\\ipykernel_17852\\2315931116.py:20: DeprecationWarning: KerasClassifier is deprecated, use Sci-Keras (https://github.com/adriangb/scikeras) instead. See https://www.adriangb.com/scikeras/stable/migration.html for help migrating.\n",
      "  kc = KerasClassifier(build_fn=create_gru_model, batch_size=25, epochs=5)\n"
     ]
    },
    {
     "name": "stdout",
     "output_type": "stream",
     "text": [
      "Epoch 1/5\n",
      "27/27 [==============================] - 6s 101ms/step - loss: 0.6908 - accuracy: 0.5616\n",
      "Epoch 2/5\n",
      "27/27 [==============================] - 3s 102ms/step - loss: 0.6796 - accuracy: 0.5826\n",
      "Epoch 3/5\n",
      "27/27 [==============================] - 3s 101ms/step - loss: 0.6833 - accuracy: 0.5856\n",
      "Epoch 4/5\n",
      "27/27 [==============================] - 3s 101ms/step - loss: 0.6821 - accuracy: 0.5691\n",
      "Epoch 5/5\n",
      "27/27 [==============================] - 3s 101ms/step - loss: 0.6745 - accuracy: 0.5976\n",
      "11/11 [==============================] - 1s 20ms/step\n",
      "Epoch 1/5\n",
      "27/27 [==============================] - 5s 98ms/step - loss: 0.6929 - accuracy: 0.5262\n",
      "Epoch 2/5\n",
      "27/27 [==============================] - 3s 107ms/step - loss: 0.6722 - accuracy: 0.5907\n",
      "Epoch 3/5\n",
      "27/27 [==============================] - 3s 100ms/step - loss: 0.6663 - accuracy: 0.6087\n",
      "Epoch 4/5\n",
      "27/27 [==============================] - 3s 100ms/step - loss: 0.6755 - accuracy: 0.6027\n",
      "Epoch 5/5\n",
      "27/27 [==============================] - 3s 99ms/step - loss: 0.6601 - accuracy: 0.6327\n",
      "11/11 [==============================] - 1s 21ms/step\n",
      "Epoch 1/5\n",
      "27/27 [==============================] - 5s 97ms/step - loss: 0.7009 - accuracy: 0.5517\n",
      "Epoch 2/5\n",
      "27/27 [==============================] - 3s 99ms/step - loss: 0.6837 - accuracy: 0.5502\n",
      "Epoch 3/5\n",
      "27/27 [==============================] - 3s 99ms/step - loss: 0.6854 - accuracy: 0.5727\n",
      "Epoch 4/5\n",
      "27/27 [==============================] - 3s 99ms/step - loss: 0.6726 - accuracy: 0.5742\n",
      "Epoch 5/5\n",
      "27/27 [==============================] - 3s 99ms/step - loss: 0.6682 - accuracy: 0.5952\n",
      "11/11 [==============================] - 1s 20ms/step\n",
      "Epoch 1/5\n",
      "27/27 [==============================] - 5s 103ms/step - loss: 0.6941 - accuracy: 0.5405\n",
      "Epoch 2/5\n",
      "27/27 [==============================] - 3s 103ms/step - loss: 0.6742 - accuracy: 0.5976\n",
      "Epoch 3/5\n",
      "27/27 [==============================] - 3s 104ms/step - loss: 0.6701 - accuracy: 0.5901\n",
      "Epoch 4/5\n",
      "27/27 [==============================] - 3s 103ms/step - loss: 0.6710 - accuracy: 0.5991\n",
      "Epoch 5/5\n",
      "27/27 [==============================] - 3s 103ms/step - loss: 0.6686 - accuracy: 0.5991\n",
      "11/11 [==============================] - 1s 20ms/step\n",
      "Epoch 1/5\n",
      "27/27 [==============================] - 5s 100ms/step - loss: 0.6967 - accuracy: 0.5382\n",
      "Epoch 2/5\n",
      "27/27 [==============================] - 3s 102ms/step - loss: 0.6819 - accuracy: 0.5907\n",
      "Epoch 3/5\n",
      "27/27 [==============================] - 3s 102ms/step - loss: 0.6605 - accuracy: 0.6357\n",
      "Epoch 4/5\n",
      "27/27 [==============================] - 3s 102ms/step - loss: 0.6643 - accuracy: 0.6192\n",
      "Epoch 5/5\n",
      "27/27 [==============================] - 3s 102ms/step - loss: 0.6580 - accuracy: 0.6297\n",
      "11/11 [==============================] - 1s 22ms/step\n",
      "Epoch 1/5\n",
      "27/27 [==============================] - 7s 106ms/step - loss: 0.6940 - accuracy: 0.5232\n",
      "Epoch 2/5\n",
      "27/27 [==============================] - 3s 108ms/step - loss: 0.6765 - accuracy: 0.5892\n",
      "Epoch 3/5\n",
      "27/27 [==============================] - 3s 108ms/step - loss: 0.6722 - accuracy: 0.5922\n",
      "Epoch 4/5\n",
      "27/27 [==============================] - 3s 107ms/step - loss: 0.6736 - accuracy: 0.5937\n",
      "Epoch 5/5\n",
      "27/27 [==============================] - 3s 107ms/step - loss: 0.6673 - accuracy: 0.5847\n",
      "11/11 [==============================] - 1s 23ms/step\n",
      "Epoch 1/5\n",
      "27/27 [==============================] - 7s 159ms/step - loss: 0.6972 - accuracy: 0.5661\n",
      "Epoch 2/5\n",
      "27/27 [==============================] - 4s 161ms/step - loss: 0.6706 - accuracy: 0.5856\n",
      "Epoch 3/5\n",
      "27/27 [==============================] - 4s 161ms/step - loss: 0.6694 - accuracy: 0.5916\n",
      "Epoch 4/5\n",
      "27/27 [==============================] - 4s 161ms/step - loss: 0.6715 - accuracy: 0.6021\n",
      "Epoch 5/5\n",
      "27/27 [==============================] - 4s 162ms/step - loss: 0.6751 - accuracy: 0.5706\n",
      "11/11 [==============================] - 1s 49ms/step\n",
      "Epoch 1/5\n",
      "27/27 [==============================] - 7s 157ms/step - loss: 0.6841 - accuracy: 0.5907\n",
      "Epoch 2/5\n",
      "27/27 [==============================] - 4s 154ms/step - loss: 0.6706 - accuracy: 0.6072\n",
      "Epoch 3/5\n",
      "27/27 [==============================] - 5s 168ms/step - loss: 0.6654 - accuracy: 0.6222\n",
      "Epoch 4/5\n",
      "27/27 [==============================] - 4s 160ms/step - loss: 0.6645 - accuracy: 0.6117\n",
      "Epoch 5/5\n",
      "27/27 [==============================] - 4s 161ms/step - loss: 0.6682 - accuracy: 0.6042\n",
      "11/11 [==============================] - 1s 47ms/step\n",
      "Epoch 1/5\n",
      "27/27 [==============================] - 7s 164ms/step - loss: 0.6881 - accuracy: 0.5547\n",
      "Epoch 2/5\n",
      "27/27 [==============================] - 4s 154ms/step - loss: 0.6731 - accuracy: 0.5922\n",
      "Epoch 3/5\n",
      "27/27 [==============================] - 4s 154ms/step - loss: 0.6682 - accuracy: 0.5892\n",
      "Epoch 4/5\n",
      "27/27 [==============================] - 4s 155ms/step - loss: 0.6684 - accuracy: 0.5937\n",
      "Epoch 5/5\n",
      "27/27 [==============================] - 4s 155ms/step - loss: 0.6602 - accuracy: 0.6087\n",
      "11/11 [==============================] - 1s 45ms/step\n",
      "Epoch 1/5\n",
      "27/27 [==============================] - 5s 98ms/step - loss: 0.7046 - accuracy: 0.4970\n",
      "Epoch 2/5\n",
      "27/27 [==============================] - 3s 99ms/step - loss: 0.6898 - accuracy: 0.5646\n",
      "Epoch 3/5\n",
      "27/27 [==============================] - 3s 100ms/step - loss: 0.6814 - accuracy: 0.5616\n",
      "Epoch 4/5\n",
      "27/27 [==============================] - 3s 101ms/step - loss: 0.6657 - accuracy: 0.6051\n",
      "Epoch 5/5\n",
      "27/27 [==============================] - 3s 102ms/step - loss: 0.6723 - accuracy: 0.6006\n",
      "11/11 [==============================] - 1s 19ms/step\n",
      "Epoch 1/5\n",
      "27/27 [==============================] - 5s 98ms/step - loss: 0.6948 - accuracy: 0.5352\n",
      "Epoch 2/5\n",
      "27/27 [==============================] - 3s 100ms/step - loss: 0.6780 - accuracy: 0.6027\n",
      "Epoch 3/5\n",
      "27/27 [==============================] - 3s 99ms/step - loss: 0.6648 - accuracy: 0.5832\n",
      "Epoch 4/5\n",
      "27/27 [==============================] - 3s 98ms/step - loss: 0.6719 - accuracy: 0.5952\n",
      "Epoch 5/5\n",
      "27/27 [==============================] - 3s 98ms/step - loss: 0.6795 - accuracy: 0.5877\n",
      "11/11 [==============================] - 1s 20ms/step\n",
      "Epoch 1/5\n",
      "27/27 [==============================] - 6s 100ms/step - loss: 0.7192 - accuracy: 0.5127\n",
      "Epoch 2/5\n",
      "27/27 [==============================] - 3s 104ms/step - loss: 0.6844 - accuracy: 0.5622\n",
      "Epoch 3/5\n",
      "27/27 [==============================] - 3s 102ms/step - loss: 0.6814 - accuracy: 0.5712\n",
      "Epoch 4/5\n",
      "27/27 [==============================] - 3s 102ms/step - loss: 0.6765 - accuracy: 0.5712\n",
      "Epoch 5/5\n",
      "27/27 [==============================] - 3s 101ms/step - loss: 0.6756 - accuracy: 0.5832\n",
      "11/11 [==============================] - 1s 19ms/step\n",
      "Epoch 1/5\n",
      "27/27 [==============================] - 6s 105ms/step - loss: 0.7005 - accuracy: 0.5165\n",
      "Epoch 2/5\n",
      "27/27 [==============================] - 3s 107ms/step - loss: 0.6721 - accuracy: 0.5991\n",
      "Epoch 3/5\n",
      "27/27 [==============================] - 3s 107ms/step - loss: 0.6734 - accuracy: 0.5946\n",
      "Epoch 4/5\n",
      "27/27 [==============================] - 3s 105ms/step - loss: 0.6686 - accuracy: 0.5961\n",
      "Epoch 5/5\n",
      "27/27 [==============================] - 3s 105ms/step - loss: 0.6698 - accuracy: 0.5946\n",
      "11/11 [==============================] - 1s 24ms/step\n",
      "Epoch 1/5\n",
      "27/27 [==============================] - 6s 104ms/step - loss: 0.6805 - accuracy: 0.5772\n",
      "Epoch 2/5\n",
      "27/27 [==============================] - 3s 101ms/step - loss: 0.6779 - accuracy: 0.5982\n",
      "Epoch 3/5\n",
      "27/27 [==============================] - 3s 102ms/step - loss: 0.6670 - accuracy: 0.6072\n",
      "Epoch 4/5\n",
      "27/27 [==============================] - 3s 105ms/step - loss: 0.6738 - accuracy: 0.6087\n",
      "Epoch 5/5\n",
      "27/27 [==============================] - 3s 105ms/step - loss: 0.6673 - accuracy: 0.6117\n",
      "11/11 [==============================] - 1s 23ms/step\n",
      "Epoch 1/5\n",
      "27/27 [==============================] - 5s 103ms/step - loss: 0.6968 - accuracy: 0.5682\n",
      "Epoch 2/5\n",
      "27/27 [==============================] - 3s 105ms/step - loss: 0.6779 - accuracy: 0.5862\n",
      "Epoch 3/5\n",
      "27/27 [==============================] - 3s 105ms/step - loss: 0.6693 - accuracy: 0.6072\n",
      "Epoch 4/5\n",
      "27/27 [==============================] - 3s 103ms/step - loss: 0.6664 - accuracy: 0.5982\n",
      "Epoch 5/5\n",
      "27/27 [==============================] - 3s 103ms/step - loss: 0.6694 - accuracy: 0.5877\n",
      "11/11 [==============================] - 1s 20ms/step\n",
      "Epoch 1/5\n",
      "27/27 [==============================] - 6s 129ms/step - loss: 0.6841 - accuracy: 0.5796\n",
      "Epoch 2/5\n",
      "27/27 [==============================] - 4s 132ms/step - loss: 0.6780 - accuracy: 0.5796\n",
      "Epoch 3/5\n",
      "27/27 [==============================] - 4s 130ms/step - loss: 0.6716 - accuracy: 0.5646\n",
      "Epoch 4/5\n",
      "27/27 [==============================] - 4s 132ms/step - loss: 0.6686 - accuracy: 0.6066\n",
      "Epoch 5/5\n",
      "27/27 [==============================] - 4s 141ms/step - loss: 0.6706 - accuracy: 0.6021\n",
      "11/11 [==============================] - 1s 32ms/step\n",
      "Epoch 1/5\n",
      "27/27 [==============================] - 8s 161ms/step - loss: 0.6862 - accuracy: 0.5832\n",
      "Epoch 2/5\n",
      "27/27 [==============================] - 5s 170ms/step - loss: 0.6800 - accuracy: 0.5982\n",
      "Epoch 3/5\n",
      "27/27 [==============================] - 4s 166ms/step - loss: 0.6706 - accuracy: 0.6102\n",
      "Epoch 4/5\n",
      "27/27 [==============================] - 5s 173ms/step - loss: 0.6622 - accuracy: 0.6327\n",
      "Epoch 5/5\n",
      "27/27 [==============================] - 5s 191ms/step - loss: 0.6621 - accuracy: 0.6207\n",
      "11/11 [==============================] - 1s 61ms/step\n",
      "Epoch 1/5\n",
      "27/27 [==============================] - 8s 176ms/step - loss: 0.6938 - accuracy: 0.5322\n",
      "Epoch 2/5\n",
      "27/27 [==============================] - 5s 174ms/step - loss: 0.6852 - accuracy: 0.5712\n",
      "Epoch 3/5\n",
      "27/27 [==============================] - 4s 164ms/step - loss: 0.6725 - accuracy: 0.5907\n",
      "Epoch 4/5\n",
      "27/27 [==============================] - 4s 162ms/step - loss: 0.6689 - accuracy: 0.5892\n",
      "Epoch 5/5\n",
      "27/27 [==============================] - 5s 182ms/step - loss: 0.6641 - accuracy: 0.5982\n",
      "11/11 [==============================] - 1s 50ms/step\n",
      "Epoch 1/5\n",
      "27/27 [==============================] - 5s 100ms/step - loss: 0.7210 - accuracy: 0.5090\n",
      "Epoch 2/5\n",
      "27/27 [==============================] - 3s 100ms/step - loss: 0.6962 - accuracy: 0.5631\n",
      "Epoch 3/5\n",
      "27/27 [==============================] - 3s 99ms/step - loss: 0.6893 - accuracy: 0.5495\n",
      "Epoch 4/5\n",
      "27/27 [==============================] - 3s 100ms/step - loss: 0.6791 - accuracy: 0.5781\n",
      "Epoch 5/5\n",
      "27/27 [==============================] - 3s 104ms/step - loss: 0.6720 - accuracy: 0.5856\n",
      "11/11 [==============================] - 1s 19ms/step\n",
      "Epoch 1/5\n",
      "27/27 [==============================] - 6s 108ms/step - loss: 0.6925 - accuracy: 0.5352\n",
      "Epoch 2/5\n",
      "27/27 [==============================] - 3s 101ms/step - loss: 0.6839 - accuracy: 0.5637\n",
      "Epoch 3/5\n",
      "27/27 [==============================] - 3s 102ms/step - loss: 0.6791 - accuracy: 0.5637\n",
      "Epoch 4/5\n",
      "27/27 [==============================] - 3s 103ms/step - loss: 0.6712 - accuracy: 0.6057\n",
      "Epoch 5/5\n",
      "27/27 [==============================] - 3s 101ms/step - loss: 0.6674 - accuracy: 0.5937\n",
      "11/11 [==============================] - 1s 25ms/step\n",
      "Epoch 1/5\n",
      "27/27 [==============================] - 6s 96ms/step - loss: 0.7155 - accuracy: 0.5157\n",
      "Epoch 2/5\n",
      "27/27 [==============================] - 3s 95ms/step - loss: 0.7058 - accuracy: 0.5472\n",
      "Epoch 3/5\n",
      "27/27 [==============================] - 3s 96ms/step - loss: 0.6968 - accuracy: 0.5652\n",
      "Epoch 4/5\n",
      "27/27 [==============================] - 3s 97ms/step - loss: 0.6742 - accuracy: 0.5967\n",
      "Epoch 5/5\n",
      "27/27 [==============================] - 3s 95ms/step - loss: 0.6873 - accuracy: 0.5712\n",
      "11/11 [==============================] - 1s 18ms/step\n",
      "Epoch 1/5\n",
      "27/27 [==============================] - 4s 140ms/step - loss: 0.6817 - accuracy: 0.5826\n",
      "Epoch 3/5\n",
      "27/27 [==============================] - 3s 113ms/step - loss: 0.6804 - accuracy: 0.5991\n",
      "Epoch 4/5\n",
      "27/27 [==============================] - 4s 133ms/step - loss: 0.6700 - accuracy: 0.6081\n",
      "Epoch 5/5\n",
      "27/27 [==============================] - 3s 105ms/step - loss: 0.6655 - accuracy: 0.6126\n",
      "11/11 [==============================] - 1s 21ms/step\n",
      "Epoch 1/5\n",
      "27/27 [==============================] - 5s 103ms/step - loss: 0.6955 - accuracy: 0.5562\n",
      "Epoch 2/5\n",
      "27/27 [==============================] - 3s 103ms/step - loss: 0.6798 - accuracy: 0.5967\n",
      "Epoch 3/5\n",
      "27/27 [==============================] - 3s 104ms/step - loss: 0.6647 - accuracy: 0.6342\n",
      "Epoch 4/5\n",
      "27/27 [==============================] - 3s 102ms/step - loss: 0.6712 - accuracy: 0.6027\n",
      "Epoch 5/5\n",
      "27/27 [==============================] - 3s 102ms/step - loss: 0.6712 - accuracy: 0.6117\n",
      "11/11 [==============================] - 1s 20ms/step\n",
      "Epoch 1/5\n",
      "27/27 [==============================] - 5s 98ms/step - loss: 0.6899 - accuracy: 0.5532\n",
      "Epoch 2/5\n",
      "27/27 [==============================] - 3s 101ms/step - loss: 0.6802 - accuracy: 0.5817\n",
      "Epoch 3/5\n",
      "27/27 [==============================] - 3s 101ms/step - loss: 0.6762 - accuracy: 0.5847\n",
      "Epoch 4/5\n",
      "27/27 [==============================] - 3s 103ms/step - loss: 0.6666 - accuracy: 0.5922\n",
      "Epoch 5/5\n",
      "27/27 [==============================] - 3s 103ms/step - loss: 0.6799 - accuracy: 0.5727\n",
      "11/11 [==============================] - 1s 22ms/step\n",
      "Epoch 1/5\n",
      "27/27 [==============================] - 7s 164ms/step - loss: 0.6836 - accuracy: 0.5796\n",
      "Epoch 2/5\n",
      "27/27 [==============================] - 4s 161ms/step - loss: 0.6813 - accuracy: 0.5736\n",
      "Epoch 3/5\n",
      "27/27 [==============================] - 8s 105ms/step - loss: 0.6941 - accuracy: 0.5556\n",
      "Epoch 2/5\n",
      "27/27 [==============================] - 4s 154ms/step - loss: 0.6696 - accuracy: 0.5811\n",
      "Epoch 4/5\n",
      "27/27 [==============================] - 4s 157ms/step - loss: 0.6703 - accuracy: 0.6021\n",
      "Epoch 5/5\n",
      " 5/27 [====>.........................] - ETA: 3s - loss: 0.6544 - accuracy: 0.6080"
     ]
    }
   ],
   "source": [
    "\n",
    "from keras.wrappers.scikit_learn import KerasClassifier\n",
    "from sklearn.model_selection import GridSearchCV\n",
    "\n",
    "param_grid = {\n",
    "    'units': [16, 32, 64],\n",
    "    'dropout': [0.2, 0.4, 0.5],\n",
    "    'recurrent_activation' : ['hard_sigmoid'],\n",
    "}\n",
    "\n",
    "def create_gru_model(units, dropout, recurrent_activation):\n",
    "    model = keras.Sequential()\n",
    "\n",
    "    model.add(keras.layers.Masking(mask_value=0))\n",
    "    # model.add(LSTM(32, dropout=0.2, return_sequences=True))\n",
    "    model.add(GRU(units=units, dropout=dropout, reset_after=True, activation='tanh', recurrent_activation=recurrent_activation))\n",
    "    model.add(Dense(1, activation='sigmoid'))\n",
    "    model.compile(loss='binary_crossentropy', optimizer='adam', metrics=['accuracy'])\n",
    "    return model\n",
    "\n",
    "kc = KerasClassifier(build_fn=create_gru_model, batch_size=25, epochs=5)\n",
    "\n",
    "## XXXXXXXXXXXXXXX This sample size reduces the cohort XXXXX\n",
    "sample_size = 1000\n",
    "random_indices = np.random.choice(len(X), size=sample_size, replace=False)\n",
    "\n",
    "# Use the random indices to select elements from both arrays\n",
    "X_cv = X_sequences[random_indices]\n",
    "y_cv = y_sequences[random_indices]\n",
    "\n",
    "#Call the GridSearchCV function to analyse each possible combination of parameters\n",
    "#split training data into 5 folds, train with 4 validate with the 5th, change the training 4\n",
    "CV_gru = GridSearchCV(estimator = kc, param_grid = param_grid, cv= 3, verbose=True, refit=False, scoring='accuracy')\n",
    "CV_gru.fit(X_cv, y_cv)\n"
   ],
   "metadata": {
    "collapsed": false,
    "is_executing": true,
    "ExecuteTime": {
     "start_time": "2023-11-03T02:03:34.583006400Z"
    }
   },
   "id": "656049d685adf36b"
  },
  {
   "cell_type": "code",
   "execution_count": null,
   "outputs": [],
   "source": [
    "CV_gru.best_params_"
   ],
   "metadata": {
    "collapsed": false,
    "is_executing": true
   },
   "id": "f2c80d65b2bcbb52"
  },
  {
   "cell_type": "code",
   "execution_count": null,
   "outputs": [],
   "source": [
    "from keras.layers import LSTM, Dense, GRU\n",
    "from keras.callbacks import EarlyStopping\n",
    "\n",
    "model = create_gru_model(units=CV_gru.best_params_['units'], \n",
    "                         dropout=CV_gru.best_params_['dropout'],\n",
    "                         recurrent_activation=CV_gru.best_params_['recurrent_activation'])\n",
    "\n",
    "print(f\"Compiled with {CV_gru.best_params_}\")\n",
    "model.compile(loss='binary_crossentropy', optimizer='adam', metrics=['accuracy'])"
   ],
   "metadata": {
    "collapsed": false,
    "is_executing": true
   },
   "id": "705db1f81813ae1"
  },
  {
   "cell_type": "markdown",
   "source": [],
   "metadata": {
    "collapsed": false
   },
   "id": "7592b07dbe5cdf5c"
  },
  {
   "cell_type": "code",
   "execution_count": null,
   "outputs": [],
   "source": [
    "def fit_model(model):\n",
    "    EPOCHS = 100         # increase to at least 50\n",
    "    BATCH_SIZE = 100     # increase to at least 100\n",
    "    \n",
    "    early_stopping = EarlyStopping(monitor='accuracy', patience=15, mode='auto', verbose = 1, min_delta=0.002, restore_best_weights=False)\n",
    "    \n",
    "    # callbacks=[early_stopping],\n",
    "    print(f\"Running with EPOCHS{EPOCHS} and BATCH_SIZE{BATCH_SIZE} and shape {shape(X_train)}\")\n",
    "    \n",
    "    return model.fit(X_train, y_train, epochs=EPOCHS, batch_size=BATCH_SIZE,\n",
    "                           verbose=1)  #set verbose = 1 to see the fitting process\n",
    "\n",
    "gru_classifier = fit_model(model)"
   ],
   "metadata": {
    "collapsed": false,
    "is_executing": true
   },
   "id": "4263eb1674d3a26c"
  },
  {
   "cell_type": "markdown",
   "source": [
    "# Evaluate the training \n",
    "Plots of accuracy and loss for the training history"
   ],
   "metadata": {
    "collapsed": false
   },
   "id": "1c4b399c414fd2aa"
  },
  {
   "cell_type": "code",
   "execution_count": null,
   "outputs": [],
   "source": [
    "def plot_model(classifier):\n",
    "    # Plot Accuracy over the epochs\n",
    "    plt.plot(classifier.history['accuracy'])\n",
    "    plt.ylabel('accuracy')\n",
    "    plt.xlabel('epoch')\n",
    "    plt.title('model accuracy')\n",
    "    plt.legend(['train'], loc='upper left')\n",
    "    plt.show()\n",
    "    \n",
    "    # Plot Loss over the epochs\n",
    "    plt.plot(classifier.history['loss'])\n",
    "    plt.ylabel('loss')\n",
    "    plt.xlabel('epoch')\n",
    "    plt.title('model loss')\n",
    "    plt.legend(['train'], loc='upper left')\n",
    "    plt.show()\n",
    "\n",
    "plot_model(gru_classifier)"
   ],
   "metadata": {
    "collapsed": false,
    "is_executing": true
   },
   "id": "fd261ac8e14dba93"
  },
  {
   "cell_type": "code",
   "execution_count": null,
   "outputs": [],
   "source": [
    "# evaluate the keras model\n",
    "def evaluate_model(model):\n",
    "    loss, accuracy = model.evaluate(X_train[:1000], y_train[:1000])\n",
    "    print('Accuracy: %.2f' % (accuracy*100))\n",
    "    print(round(loss,3),round(accuracy,3))\n",
    "\n",
    "evaluate_model(model)"
   ],
   "metadata": {
    "collapsed": false,
    "is_executing": true
   },
   "id": "88743f97d504f1ce"
  },
  {
   "cell_type": "markdown",
   "source": [
    "# Test accuracy\n",
    "Run model predictions on the test data set and report metrics scores, including MCC and F1 "
   ],
   "metadata": {
    "collapsed": false
   },
   "id": "cf9fe5dd7c08859f"
  },
  {
   "cell_type": "code",
   "execution_count": null,
   "outputs": [],
   "source": [
    "from sklearn import metrics\n",
    "\n",
    "def test_accuracy(model):\n",
    "    # #Predict the testing set\n",
    "    predictions = (model.predict(X_test) > 0.5).astype(int)\n",
    "    \n",
    "    #Accuracy classification score\n",
    "    acc = float(round(metrics.accuracy_score(y_test, predictions),3))\n",
    "    \n",
    "    #Compute the balanced accuracy.\n",
    "    bacc = float(round(metrics.balanced_accuracy_score(y_test, predictions),3))\n",
    "    \n",
    "    #Compute the Matthews correlation coefficient (MCC)\n",
    "    mcc = float(round(metrics.matthews_corrcoef(y_test, predictions),3))\n",
    "    \n",
    "    #Compute the F1 score, also known as balanced F-score or F-measure.\n",
    "    f1 = float(round(metrics.f1_score(y_test, predictions),3))\n",
    "    \n",
    "    #Show results as a DataFrame:\n",
    "    results = {'Accuracy' : [acc], 'Balanced Accuracy' : [bacc], 'MCC' : [mcc], 'F1-Score' : [f1]}\n",
    "    df_results = pd.DataFrame.from_dict(data = results, orient='columns')\n",
    "    print(df_results)\n",
    "\n",
    "print(\"************ GRU Evaluation ************\")\n",
    "print(f\"Compiled with {CV_gru.best_params_}\")\n",
    "print(vitals_filename)\n",
    "test_accuracy(model)"
   ],
   "metadata": {
    "collapsed": false,
    "is_executing": true
   },
   "id": "adc7ff17b9ec5650"
  },
  {
   "cell_type": "markdown",
   "source": [
    "### Comparison with LSTM"
   ],
   "metadata": {
    "collapsed": false
   },
   "id": "2b50c37c87819fe0"
  },
  {
   "cell_type": "code",
   "execution_count": null,
   "outputs": [],
   "source": [
    "from keras.wrappers.scikit_learn import KerasClassifier\n",
    "from sklearn.model_selection import GridSearchCV\n",
    "\n",
    "param_grid = {\n",
    "    'units': [24, 32, 48, 64],\n",
    "    'dropout': [0.15, 0.2, 0.3],\n",
    "    'recurrent_activation' : ['sigmoid', 'hard_sigmoid'],\n",
    "}\n",
    "\n",
    "def create_ltsm_model(units, dropout, recurrent_activation):\n",
    "    model = keras.Sequential()\n",
    "\n",
    "    model.add(keras.layers.Masking(mask_value=0))\n",
    "    # model.add(LSTM(32, dropout=0.2, return_sequences=True))\n",
    "    model.add(LSTM(units=units, dropout=dropout, activation='tanh', recurrent_activation=recurrent_activation))\n",
    "    model.add(Dense(1, activation='sigmoid'))\n",
    "    model.compile(loss='binary_crossentropy', optimizer='adam', metrics=['accuracy'])\n",
    "    return model\n",
    "\n",
    "kc = KerasClassifier(build_fn=create_ltsm_model, batch_size=25, epochs=5)\n",
    "\n",
    "## XXXXXXXXXXXXXXX This sample size reduces the cohort XXXXX\n",
    "sample_size = 1000\n",
    "random_indices = np.random.choice(len(X), size=sample_size, replace=False)\n",
    "\n",
    "# Use the random indices to select elements from both arrays\n",
    "X_cv = X_sequences[random_indices]\n",
    "y_cv = y_sequences[random_indices]\n",
    "\n",
    "#Call the GridSearchCV function to analyse each possible combination of parameters\n",
    "#split training data into 5 folds, train with 4 validate with the 5th, change the training 4\n",
    "CV_ltsm = GridSearchCV(estimator = kc, param_grid = param_grid, cv= 3, verbose=True, refit=False, scoring='accuracy')\n",
    "CV_ltsm.fit(X_cv, y_cv)\n"
   ],
   "metadata": {
    "collapsed": false,
    "is_executing": true
   },
   "id": "2503b93d8ff2dc8c"
  },
  {
   "cell_type": "code",
   "execution_count": null,
   "outputs": [],
   "source": [
    "CV_ltsm.best_params_"
   ],
   "metadata": {
    "collapsed": false,
    "is_executing": true
   },
   "id": "2965f3d7e3958fb0"
  },
  {
   "cell_type": "code",
   "execution_count": null,
   "outputs": [],
   "source": [
    "from keras.layers import LSTM, Dense, GRU\n",
    "from keras.callbacks import EarlyStopping\n",
    "\n",
    "ltsm_model = create_ltsm_model(units=CV_ltsm.best_params_['units'],\n",
    "                          dropout=CV_ltsm.best_params_['dropout'],\n",
    "                          recurrent_activation=CV_ltsm.best_params_['recurrent_activation'])\n",
    "\n",
    "print(f\"Compiled with {CV_ltsm.best_params_}\")\n",
    "ltsm_model.compile(loss='binary_crossentropy', optimizer='adam', metrics=['accuracy'])"
   ],
   "metadata": {
    "collapsed": false,
    "is_executing": true
   },
   "id": "b713cebaa975c4ee"
  },
  {
   "cell_type": "code",
   "execution_count": null,
   "outputs": [],
   "source": [
    "ltsm_classifer = fit_model(ltsm_model)"
   ],
   "metadata": {
    "collapsed": false,
    "is_executing": true
   },
   "id": "74360e3f58e32aa6"
  },
  {
   "cell_type": "code",
   "execution_count": null,
   "outputs": [],
   "source": [
    "plot_model(ltsm_classifer)"
   ],
   "metadata": {
    "collapsed": false,
    "is_executing": true
   },
   "id": "1b4a287d591aed43"
  },
  {
   "cell_type": "code",
   "execution_count": null,
   "outputs": [],
   "source": [
    "evaluate_model(ltsm_model)"
   ],
   "metadata": {
    "collapsed": false,
    "is_executing": true
   },
   "id": "b3e67ac5ac7c60e0"
  },
  {
   "cell_type": "code",
   "execution_count": null,
   "outputs": [],
   "source": [
    "print(\"************ LSTM Evaluation ************\")\n",
    "print(f\"Compiled with {CV_ltsm.best_params_}\")\n",
    "print(vitals_filename)\n",
    "test_accuracy(ltsm_model)"
   ],
   "metadata": {
    "collapsed": false,
    "is_executing": true
   },
   "id": "df2500ccc84adabe"
  },
  {
   "cell_type": "code",
   "execution_count": null,
   "outputs": [],
   "source": [
    "print(f\"Unique subject ids {vitals_data_df['subject_id'].nunique()}\")\n"
   ],
   "metadata": {
    "collapsed": false,
    "is_executing": true
   },
   "id": "f0e58b9c2e41ece7"
  }
 ],
 "metadata": {
  "kernelspec": {
   "display_name": "Python 3",
   "language": "python",
   "name": "python3"
  },
  "language_info": {
   "codemirror_mode": {
    "name": "ipython",
    "version": 2
   },
   "file_extension": ".py",
   "mimetype": "text/x-python",
   "name": "python",
   "nbconvert_exporter": "python",
   "pygments_lexer": "ipython2",
   "version": "2.7.6"
  }
 },
 "nbformat": 4,
 "nbformat_minor": 5
}
