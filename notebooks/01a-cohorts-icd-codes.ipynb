{
 "cells": [
  {
   "cell_type": "code",
   "execution_count": null,
   "id": "initial_id",
   "metadata": {
    "collapsed": true
   },
   "outputs": [],
   "source": [
    "import pandas as pd\n",
    "from wordcloud import WordCloud\n",
    "import matplotlib.pyplot as plt\n",
    "\n",
    "from detectdd.auth_bigquery import BigQueryClient\n",
    "from detectdd.serializer import Serializer\n",
    "\n",
    "cohort_before_icd_filter = Serializer().read_cohort()\n",
    "cohort_before_icd_filter"
   ]
  },
  {
   "cell_type": "code",
   "execution_count": null,
   "outputs": [],
   "source": [
    "from detectdd.config import icd_data_file\n",
    "# read ICD code data\n",
    "icd_codes_raw = pd.read_csv(icd_data_file, encoding='ISO-8859-1')\n",
    "\n",
    "def filter_icd_codes(to_filter):\n",
    "    # The data contains filters with the following meaning.\n",
    "    #A.1\tInduced by medication\n",
    "    #A.2\tInduced by medication or other causes\n",
    "    #B.1\tPoisoning by medication\n",
    "    #B.2\tPoisoning by or harmful use of medication or other causes\n",
    "    #C\tADE very likely\n",
    "    #D\tADE likely\n",
    "    #E\tADE possible\n",
    "    #U\tADE unlikely\n",
    "    #V\tInduced by vaccine (added)\n",
    "    \n",
    "    # simple filter, only accept at A - D\n",
    "    category_prefixes = ('A', 'B', 'C', 'D')\n",
    "    #category_prefixes = ('A','B', 'C')\n",
    "    return to_filter.loc[to_filter.iloc[:, 2].str.startswith(category_prefixes, na=False)]\n",
    "    # TODO - exclude codes where it is unlikely to be drug drug interaction, i.e. T40\n",
    "    \n",
    "    \n",
    "icd_codes_filtered = filter_icd_codes(icd_codes_raw)\n",
    "icd_codes_filtered"
   ],
   "metadata": {
    "collapsed": false
   },
   "id": "a26709f2a10876e2"
  },
  {
   "cell_type": "code",
   "execution_count": null,
   "outputs": [],
   "source": [
    "hosp = \"physionet-data.mimiciv_hosp\"\n",
    "def get_hadm_id_with_matching_icd_code( hadm_ids = [24233473]):\n",
    "    icd_in_values = ', '.join([\"'\" + str(x).replace('.','') + \"'\" for x in icd_codes_filtered['Code'].tolist()])\n",
    "    print(icd_in_values)\n",
    "\n",
    "    likes = []\n",
    "    codes = icd_codes_filtered['Code']\n",
    "    \n",
    "    cleaned_codes = []\n",
    "    \n",
    "    for x in codes:\n",
    "        x = x.replace('.','')\n",
    "        if len(x) < 5:\n",
    "            cleaned_codes.append(x + 'X')\n",
    "    \n",
    "    cleaned_codes += [\"E93\", \"E94\", \"E85\", \"E86\"] #ICD 9 therapeutic use and poising prefix, maps to B and A categories\n",
    "  \n",
    "    for x in cleaned_codes:\n",
    "        likes.append(f\"d_icd.icd_code LIKE '{x}%'\")\n",
    "    like_clause = \"\\n OR \".join(likes)\n",
    "    \n",
    "    sql = f\"\"\"SELECT diag.hadm_id, \n",
    "        diag.subject_id, \n",
    "          \n",
    "        COUNT(distinct d_icd.icd_code) AS num_icd_codes,\n",
    "        \n",
    "        ARRAY_AGG(d_icd.icd_code) AS icd_code, \n",
    "        ARRAY_AGG(DISTINCT d_icd.icd_version) AS icd_versions,\n",
    "        STRING_AGG(d_icd.long_title) AS icd_titles\n",
    "        FROM `{hosp}.diagnoses_icd` AS diag\n",
    "        INNER JOIN `{hosp}.d_icd_diagnoses` AS d_icd\n",
    "            ON diag.icd_code = d_icd.icd_code\n",
    "            AND diag.icd_version= d_icd.icd_version\n",
    "            AND ( d_icd.icd_code IN ({icd_in_values}) OR \n",
    "                {like_clause})\n",
    "        WHERE diag.hadm_id IN ({','.join([str(x) for x in hadm_ids])})\n",
    "        GROUP BY diag.hadm_id, diag.subject_id\n",
    "        ORDER BY diag.subject_id\"\"\"\n",
    "    print(sql)\n",
    "    mimic_job = BigQueryClient.auth().query(sql)\n",
    "    return mimic_job.to_dataframe()\n",
    "\n",
    "hadm_with_icd_codes = get_hadm_id_with_matching_icd_code(hadm_ids = cohort_before_icd_filter[\"hadm_id\"])\n",
    "hadm_with_icd_codes"
   ],
   "metadata": {
    "collapsed": false
   },
   "id": "ab0b40b03a3577a8"
  },
  {
   "cell_type": "code",
   "execution_count": null,
   "outputs": [],
   "source": [
    "def create_word_cloud_from_column(df, column):\n",
    "        text = \",\".join(df[column])\n",
    "        wordcloud = WordCloud(width=800, height=400, background_color='white').generate(text)\n",
    "        \n",
    "        # Display the word cloud using matplotlib\n",
    "        plt.figure(figsize=(10, 6))\n",
    "        plt.imshow(wordcloud, interpolation='bilinear')\n",
    "        plt.axis('off')\n",
    "        plt.show()\n",
    "        \n",
    "create_word_cloud_from_column(hadm_with_icd_codes, \"icd_titles\")"
   ],
   "metadata": {
    "collapsed": false
   },
   "id": "5753e786f80c7f43"
  },
  {
   "cell_type": "code",
   "execution_count": null,
   "outputs": [],
   "source": [],
   "metadata": {
    "collapsed": false
   },
   "id": "df3fcd37bfd2ca1f"
  },
  {
   "cell_type": "code",
   "execution_count": null,
   "outputs": [],
   "source": [
    "icd_in_values = ', '.join([\"'\" + str(x).replace('.','') + \"'\" for x in icd_codes_filtered['Code'].tolist()])\n",
    "\n",
    "likes = []\n",
    "codes = icd_codes_filtered['Code']\n",
    "\n",
    "cleaned_codes = []\n",
    "\n",
    "for x in codes:\n",
    "    x = x.replace('.','')\n",
    "    if len(x) < 5:\n",
    "        cleaned_codes.append(x + 'X')\n",
    "\n",
    "cleaned_codes.append(\"E93\")\n",
    "cleaned_codes.append(\"E94\")\n",
    "for x in cleaned_codes:\n",
    "    likes.append(f\"d_icd.icd_code LIKE '{x}%'\")\n",
    "\n",
    "likes\n",
    "\n",
    "like_clause = \"\\n OR \".join(likes)\n",
    "print(like_clause)\n",
    "    \n",
    "sql = f\"\"\"SELECT *, \n",
    "        d_icd.icd_code AS icd_code\n",
    "        FROM `{hosp}.diagnoses_icd` AS diag\n",
    "        INNER JOIN `{hosp}.d_icd_diagnoses` AS d_icd\n",
    "        ON diag.icd_code = d_icd.icd_code\n",
    "            AND diag.icd_version= d_icd.icd_version\n",
    "            AND ( d_icd.icd_code IN ({icd_in_values}) OR\n",
    "             {like_clause})\n",
    "                \"\"\"\n",
    "\n",
    "\n",
    "print(sql)\n",
    "BigQueryClient.auth().query(sql).to_dataframe()\n"
   ],
   "metadata": {
    "collapsed": false
   },
   "id": "ebb6b636977a4458"
  },
  {
   "cell_type": "code",
   "execution_count": null,
   "outputs": [],
   "source": [],
   "metadata": {
    "collapsed": false
   },
   "id": "bb260f3e11864eab"
  }
 ],
 "metadata": {
  "kernelspec": {
   "display_name": "Python 3",
   "language": "python",
   "name": "python3"
  },
  "language_info": {
   "codemirror_mode": {
    "name": "ipython",
    "version": 2
   },
   "file_extension": ".py",
   "mimetype": "text/x-python",
   "name": "python",
   "nbconvert_exporter": "python",
   "pygments_lexer": "ipython2",
   "version": "2.7.6"
  }
 },
 "nbformat": 4,
 "nbformat_minor": 5
}
