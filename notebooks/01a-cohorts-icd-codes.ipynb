{
 "cells": [
  {
   "cell_type": "code",
   "execution_count": null,
   "outputs": [],
   "source": [
    "import pandas as pd\n",
    "from wordcloud import WordCloud\n",
    "import matplotlib.pyplot as plt\n",
    "\n",
    "from detectdd.auth_bigquery import BigQueryClient\n",
    "from detectdd.serializer import Serializer\n",
    "\n",
    "serializer = Serializer()\n",
    "cohort_before_icd_filter = serializer.read_total_drug_interactions()\n",
    "cohort_before_icd_filter"
   ],
   "metadata": {
    "collapsed": false
   },
   "id": "initial_id"
  },
  {
   "cell_type": "code",
   "execution_count": null,
   "outputs": [],
   "source": [
    "from detectdd.config import icd_data_file\n",
    "# read ICD code data\n",
    "icd_codes_raw = pd.read_csv(icd_data_file, encoding='ISO-8859-1')\n",
    "\n",
    "category_prefixes = ('A', 'B', 'C', 'D')\n",
    "# category_prefixes = ('A','B', 'C')\n",
    "\n",
    "def filter_icd_codes(to_filter):\n",
    "    # The data contains filters with the following meaning.\n",
    "    #A.1\tInduced by medication\n",
    "    #A.2\tInduced by medication or other causes\n",
    "    #B.1\tPoisoning by medication\n",
    "    #B.2\tPoisoning by or harmful use of medication or other causes\n",
    "    #C\tADE very likely\n",
    "    #D\tADE likely\n",
    "    #E\tADE possible\n",
    "    #U\tADE unlikely\n",
    "    #V\tInduced by vaccine (added)\n",
    "    \n",
    "    # simple filter, only accept at A - D\n",
    "    \n",
    "\n",
    "    return to_filter.loc[to_filter.iloc[:, 2].str.startswith(category_prefixes, na=False)]\n",
    "    # TODO - exclude codes where it is unlikely to be drug drug interaction, i.e. T40\n",
    "    \n",
    "    \n",
    "icd_codes_filtered = filter_icd_codes(icd_codes_raw)\n",
    "icd_codes_filtered"
   ],
   "metadata": {
    "collapsed": false
   },
   "id": "a26709f2a10876e2"
  },
  {
   "cell_type": "code",
   "execution_count": null,
   "outputs": [],
   "source": [
    "hosp = \"physionet-data.mimiciv_hosp\"\n",
    "def get_hadm_id_with_matching_icd_code(icd_codes_filtered=icd_codes_filtered, hadm_ids = [24233473]):\n",
    "    icd_in_values = ', '.join([\"'\" + str(x).replace('.','') + \"'\" for x in icd_codes_filtered['Code'].tolist()])\n",
    "\n",
    "    likes = []\n",
    "    codes = icd_codes_filtered['Code']\n",
    "    \n",
    "    cleaned_codes = []\n",
    "    \n",
    "    for x in codes:\n",
    "        x = x.replace('.','')\n",
    "        if len(x) < 5:\n",
    "            cleaned_codes.append(x + 'X')\n",
    "    \n",
    "    cleaned_codes += [\"E93\", \"E94\", \"E85\", \"E86\"] #ICD 9 therapeutic use and poising prefix, maps to B and A categories\n",
    "  \n",
    "    for x in cleaned_codes:\n",
    "        likes.append(f\"d_icd.icd_code LIKE '{x}%'\")\n",
    "    like_clause = \"\\n OR \".join(likes)\n",
    "    \n",
    "    sql = f\"\"\"SELECT diag.hadm_id, \n",
    "        diag.subject_id, \n",
    "          \n",
    "        COUNT(distinct d_icd.icd_code) AS num_icd_codes,\n",
    "        \n",
    "        ARRAY_AGG(d_icd.icd_code) AS icd_code, \n",
    "        ARRAY_AGG(DISTINCT d_icd.icd_version) AS icd_versions,\n",
    "        STRING_AGG(d_icd.long_title) AS icd_titles\n",
    "        FROM `{hosp}.diagnoses_icd` AS diag\n",
    "        INNER JOIN `{hosp}.d_icd_diagnoses` AS d_icd\n",
    "            ON diag.icd_code = d_icd.icd_code\n",
    "            AND diag.icd_version= d_icd.icd_version\n",
    "            AND ( d_icd.icd_code IN ({icd_in_values}) OR \n",
    "                {like_clause})\n",
    "        WHERE diag.hadm_id IN ({','.join([str(x) for x in hadm_ids])})\n",
    "        GROUP BY diag.hadm_id, diag.subject_id\n",
    "        ORDER BY diag.subject_id\"\"\"\n",
    "    print(sql)\n",
    "    mimic_job = BigQueryClient.auth().query(sql)\n",
    "    return mimic_job.to_dataframe()\n",
    "\n",
    "hadm_with_icd_codes = get_hadm_id_with_matching_icd_code(hadm_ids = cohort_before_icd_filter[\"hadm_id\"].drop_duplicates())\n",
    "print(f\"Found {len(hadm_with_icd_codes)} unique codes with icd stays in categories: {category_prefixes}\")\n",
    "hadm_with_icd_codes"
   ],
   "metadata": {
    "collapsed": false
   },
   "id": "ab0b40b03a3577a8"
  },
  {
   "cell_type": "code",
   "execution_count": null,
   "outputs": [],
   "source": [
    "def create_word_cloud_from_column(df, column):\n",
    "        text = \",\".join(df[column])\n",
    "        wordcloud = WordCloud(width=800, height=400, background_color='white').generate(text)\n",
    "        \n",
    "        # Display the word cloud using matplotlib\n",
    "        plt.figure(figsize=(10, 6))\n",
    "        plt.imshow(wordcloud, interpolation='bilinear')\n",
    "        plt.axis('off')\n",
    "        plt.show()\n",
    "        \n",
    "create_word_cloud_from_column(hadm_with_icd_codes, \"icd_titles\")"
   ],
   "metadata": {
    "collapsed": false
   },
   "id": "5753e786f80c7f43"
  },
  {
   "cell_type": "code",
   "execution_count": null,
   "outputs": [],
   "source": [
    "drug_interactions_joined_with_icd = pd.merge(left=cohort_before_icd_filter, right=hadm_with_icd_codes, how='left', on=['hadm_id', 'subject_id'], validate='many_to_one')\n",
    "\n",
    "drug_interactions_joined_with_icd"
   ],
   "metadata": {
    "collapsed": false
   },
   "id": "df3fcd37bfd2ca1f"
  },
  {
   "cell_type": "code",
   "execution_count": null,
   "outputs": [],
   "source": [
    "cohort_without_icd = drug_interactions_joined_with_icd[drug_interactions_joined_with_icd.num_icd_codes.isna()]\n",
    "cohort_with_icd = drug_interactions_joined_with_icd[~drug_interactions_joined_with_icd.num_icd_codes.isna()]\n",
    "print(f\"Total {len(drug_interactions_joined_with_icd)} drug interactions \")\n",
    "print(f\"Found {len(cohort_with_icd)} drug interactions with icd codes\")\n",
    "print(f\"Found {len(cohort_without_icd)} drug interactions without icd codes\")"
   ],
   "metadata": {
    "collapsed": false
   },
   "id": "bb260f3e11864eab"
  },
  {
   "cell_type": "code",
   "execution_count": null,
   "outputs": [],
   "source": [
    "serializer.write_cohort(cohort_with_icd)\n",
    "serializer.write_cohort_with_no_icd(cohort_without_icd)"
   ],
   "metadata": {
    "collapsed": false
   },
   "id": "4e106a459f10e3d5"
  },
  {
   "cell_type": "code",
   "execution_count": null,
   "outputs": [],
   "source": [
    "cohort_with_icd.groupby('stay_id').count().describe(percentiles=[ .25, .5, .75, 0.9, 0.95, 0.975, .99])"
   ],
   "metadata": {
    "collapsed": false
   },
   "id": "c4ec2eb6cec24b56"
  },
  {
   "cell_type": "code",
   "execution_count": null,
   "outputs": [],
   "source": [
    "data = {'key': [1, 2, 2, 3, 3, 3, 4, 4, 4, 4],\n",
    "        'values': ['A', 'B', 'C', 'D', 'E', 'F', 'G', 'H', 'I', 'J']}\n",
    "\n",
    "df = pd.DataFrame(data)\n",
    "\n",
    "# Group by 'key' and count occurrences\n",
    "counts = df['key'].value_counts()\n",
    "\n",
    "# Filter the DataFrame to exclude rows with counts greater than 100\n",
    "filtered_df = df[df['key'].map(counts) <= 3]\n",
    "filtered_df"
   ],
   "metadata": {
    "collapsed": false
   },
   "id": "2810e5dbe3fed40a"
  },
  {
   "cell_type": "code",
   "execution_count": null,
   "outputs": [],
   "source": [
    "print(\"Truncating cohort to 50th percentile (10)\")\n",
    "counts = cohort_with_icd['stay_id'].value_counts()\n",
    "truncacted_cohort = cohort_with_icd[cohort_with_icd['stay_id'].map(counts) <= 10]\n",
    "truncacted_cohort.describe()\n",
    "serializer.write_cohort(truncacted_cohort)"
   ],
   "metadata": {
    "collapsed": false
   },
   "id": "7597fc28b72f0003"
  },
  {
   "cell_type": "code",
   "execution_count": null,
   "outputs": [],
   "source": [
    "truncacted_cohort.groupby('stay_id').count().describe(percentiles=[ .25, .5, .75, 0.9, 0.95, 0.975, .99])"
   ],
   "metadata": {
    "collapsed": false
   },
   "id": "5ddfa4c99039c688"
  },
  {
   "cell_type": "code",
   "execution_count": null,
   "outputs": [],
   "source": [],
   "metadata": {
    "collapsed": false
   },
   "id": "e929c49a05a1d13"
  }
 ],
 "metadata": {
  "kernelspec": {
   "display_name": "Python 3",
   "language": "python",
   "name": "python3"
  },
  "language_info": {
   "codemirror_mode": {
    "name": "ipython",
    "version": 2
   },
   "file_extension": ".py",
   "mimetype": "text/x-python",
   "name": "python",
   "nbconvert_exporter": "python",
   "pygments_lexer": "ipython2",
   "version": "2.7.6"
  }
 },
 "nbformat": 4,
 "nbformat_minor": 5
}
