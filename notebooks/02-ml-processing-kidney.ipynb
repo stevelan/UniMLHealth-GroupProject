{
 "cells": [
  {
   "cell_type": "code",
   "execution_count": 1,
   "id": "initial_id",
   "metadata": {
    "collapsed": true,
    "ExecuteTime": {
     "end_time": "2023-10-24T19:46:48.150186900Z",
     "start_time": "2023-10-24T19:46:45.171094200Z"
    }
   },
   "outputs": [
    {
     "name": "stdout",
     "output_type": "stream",
     "text": [
      "Loaded cohort from ..\\out\\cohort-full.out\n",
      "<google.oauth2.credentials.Credentials object at 0x00000149A09A0DC0> lucky-curve-395616\n"
     ]
    },
    {
     "data": {
      "text/plain": "            subject_id          hadm_id          stay_id  \\\ncount          13918.0          13918.0          13918.0   \nmean   14962882.262107  24985829.341213  34988872.550582   \nmin         10001884.0       20022095.0       30004144.0   \n25%         12504186.0       22503715.0       32511600.0   \n50%         14978206.0       25025631.0       34986873.0   \n75%         17399295.0       27440064.0      37510396.25   \nmax         19995595.0       29997500.0       39987478.0   \nstd     2838772.908197   2855966.941545   2884324.657779   \n\n                      dose_b_time  event_count  num_icd_codes  \ncount                       13918      13918.0        13918.0  \nmean   2154-11-03 04:32:33.138382     2.140609       1.859103  \nmin           2110-02-10 06:30:00          0.0            1.0  \n25%           2133-06-25 10:45:00          1.0            1.0  \n50%           2155-12-23 12:44:30          2.0            2.0  \n75%           2176-03-09 16:44:00          3.0            2.0  \nmax           2208-06-15 19:48:00          9.0           10.0  \nstd                           NaN     1.619336       1.087754  ",
      "text/html": "<div>\n<style scoped>\n    .dataframe tbody tr th:only-of-type {\n        vertical-align: middle;\n    }\n\n    .dataframe tbody tr th {\n        vertical-align: top;\n    }\n\n    .dataframe thead th {\n        text-align: right;\n    }\n</style>\n<table border=\"1\" class=\"dataframe\">\n  <thead>\n    <tr style=\"text-align: right;\">\n      <th></th>\n      <th>subject_id</th>\n      <th>hadm_id</th>\n      <th>stay_id</th>\n      <th>dose_b_time</th>\n      <th>event_count</th>\n      <th>num_icd_codes</th>\n    </tr>\n  </thead>\n  <tbody>\n    <tr>\n      <th>count</th>\n      <td>13918.0</td>\n      <td>13918.0</td>\n      <td>13918.0</td>\n      <td>13918</td>\n      <td>13918.0</td>\n      <td>13918.0</td>\n    </tr>\n    <tr>\n      <th>mean</th>\n      <td>14962882.262107</td>\n      <td>24985829.341213</td>\n      <td>34988872.550582</td>\n      <td>2154-11-03 04:32:33.138382</td>\n      <td>2.140609</td>\n      <td>1.859103</td>\n    </tr>\n    <tr>\n      <th>min</th>\n      <td>10001884.0</td>\n      <td>20022095.0</td>\n      <td>30004144.0</td>\n      <td>2110-02-10 06:30:00</td>\n      <td>0.0</td>\n      <td>1.0</td>\n    </tr>\n    <tr>\n      <th>25%</th>\n      <td>12504186.0</td>\n      <td>22503715.0</td>\n      <td>32511600.0</td>\n      <td>2133-06-25 10:45:00</td>\n      <td>1.0</td>\n      <td>1.0</td>\n    </tr>\n    <tr>\n      <th>50%</th>\n      <td>14978206.0</td>\n      <td>25025631.0</td>\n      <td>34986873.0</td>\n      <td>2155-12-23 12:44:30</td>\n      <td>2.0</td>\n      <td>2.0</td>\n    </tr>\n    <tr>\n      <th>75%</th>\n      <td>17399295.0</td>\n      <td>27440064.0</td>\n      <td>37510396.25</td>\n      <td>2176-03-09 16:44:00</td>\n      <td>3.0</td>\n      <td>2.0</td>\n    </tr>\n    <tr>\n      <th>max</th>\n      <td>19995595.0</td>\n      <td>29997500.0</td>\n      <td>39987478.0</td>\n      <td>2208-06-15 19:48:00</td>\n      <td>9.0</td>\n      <td>10.0</td>\n    </tr>\n    <tr>\n      <th>std</th>\n      <td>2838772.908197</td>\n      <td>2855966.941545</td>\n      <td>2884324.657779</td>\n      <td>NaN</td>\n      <td>1.619336</td>\n      <td>1.087754</td>\n    </tr>\n  </tbody>\n</table>\n</div>"
     },
     "execution_count": 1,
     "metadata": {},
     "output_type": "execute_result"
    }
   ],
   "source": [
    "import root_config as rc\n",
    "\n",
    "rc.configure()\n",
    "\n",
    "from detectdd.auth_bigquery import BigQueryClient\n",
    "from detectdd.serializer import Serializer\n",
    "\n",
    "try:\n",
    "    cohort = Serializer().read_cohort()  # need to run 01-cohort.ipynb to produce the cohort\n",
    "except FileNotFoundError:\n",
    "    raise Exception(\"Need to run [01-cohort.ipynb] at least once to create the cohort file in the /out directory\")\n",
    "\n",
    "\n",
    "big_query = BigQueryClient.auth()\n",
    "\n",
    "cohort.describe()\n"
   ]
  },
  {
   "cell_type": "markdown",
   "source": [
    "## kidney diagnoses"
   ],
   "metadata": {
    "collapsed": false
   },
   "id": "2b17040148284aaa"
  },
  {
   "cell_type": "code",
   "execution_count": 2,
   "outputs": [],
   "source": [
    "kidney_diagnoses_query = \"\"\"\n",
    "SELECT d.subject_id, d.hadm_id, d.icd_code, i.long_title\n",
    "FROM `physionet-data.mimiciv_hosp.diagnoses_icd` d\n",
    "JOIN `physionet-data.mimiciv_hosp.d_icd_diagnoses` i ON d.icd_code = i.icd_code\n",
    "WHERE i.long_title LIKE '%kidney%'\n",
    "\"\"\"\n",
    "\n",
    "kidney_diagnoses_results = big_query.query(kidney_diagnoses_query).result().to_dataframe()\n"
   ],
   "metadata": {
    "collapsed": false,
    "ExecuteTime": {
     "end_time": "2023-10-24T19:47:09.091649200Z",
     "start_time": "2023-10-24T19:46:48.150186900Z"
    }
   },
   "id": "cdb18cb9cd91e6b1"
  },
  {
   "cell_type": "code",
   "execution_count": 3,
   "outputs": [
    {
     "data": {
      "text/plain": "        subject_id   hadm_id icd_code  \\\n0         10004235  24181354    58389   \n1         10030753  26429826    V1651   \n2         10116621  28927488     7944   \n3         10172206  26783176     5839   \n4         10597808  23151286     5932   \n...            ...       ...      ...   \n198914    19297319  27429566     I130   \n198915    12489419  20908680     I130   \n198916    16134144  27744298     I130   \n198917    19312736  21311611     I130   \n198918    11885720  27266103     I130   \n\n                                               long_title  \n0       Nephritis and nephropathy, not specified as ac...  \n1          Family history of malignant neoplasm of kidney  \n2       Nonspecific abnormal results of function study...  \n3       Nephritis and nephropathy, not specified as ac...  \n4                                Cyst of kidney, acquired  \n...                                                   ...  \n198914  Hypertensive heart and chronic kidney disease ...  \n198915  Hypertensive heart and chronic kidney disease ...  \n198916  Hypertensive heart and chronic kidney disease ...  \n198917  Hypertensive heart and chronic kidney disease ...  \n198918  Hypertensive heart and chronic kidney disease ...  \n\n[198919 rows x 4 columns]",
      "text/html": "<div>\n<style scoped>\n    .dataframe tbody tr th:only-of-type {\n        vertical-align: middle;\n    }\n\n    .dataframe tbody tr th {\n        vertical-align: top;\n    }\n\n    .dataframe thead th {\n        text-align: right;\n    }\n</style>\n<table border=\"1\" class=\"dataframe\">\n  <thead>\n    <tr style=\"text-align: right;\">\n      <th></th>\n      <th>subject_id</th>\n      <th>hadm_id</th>\n      <th>icd_code</th>\n      <th>long_title</th>\n    </tr>\n  </thead>\n  <tbody>\n    <tr>\n      <th>0</th>\n      <td>10004235</td>\n      <td>24181354</td>\n      <td>58389</td>\n      <td>Nephritis and nephropathy, not specified as ac...</td>\n    </tr>\n    <tr>\n      <th>1</th>\n      <td>10030753</td>\n      <td>26429826</td>\n      <td>V1651</td>\n      <td>Family history of malignant neoplasm of kidney</td>\n    </tr>\n    <tr>\n      <th>2</th>\n      <td>10116621</td>\n      <td>28927488</td>\n      <td>7944</td>\n      <td>Nonspecific abnormal results of function study...</td>\n    </tr>\n    <tr>\n      <th>3</th>\n      <td>10172206</td>\n      <td>26783176</td>\n      <td>5839</td>\n      <td>Nephritis and nephropathy, not specified as ac...</td>\n    </tr>\n    <tr>\n      <th>4</th>\n      <td>10597808</td>\n      <td>23151286</td>\n      <td>5932</td>\n      <td>Cyst of kidney, acquired</td>\n    </tr>\n    <tr>\n      <th>...</th>\n      <td>...</td>\n      <td>...</td>\n      <td>...</td>\n      <td>...</td>\n    </tr>\n    <tr>\n      <th>198914</th>\n      <td>19297319</td>\n      <td>27429566</td>\n      <td>I130</td>\n      <td>Hypertensive heart and chronic kidney disease ...</td>\n    </tr>\n    <tr>\n      <th>198915</th>\n      <td>12489419</td>\n      <td>20908680</td>\n      <td>I130</td>\n      <td>Hypertensive heart and chronic kidney disease ...</td>\n    </tr>\n    <tr>\n      <th>198916</th>\n      <td>16134144</td>\n      <td>27744298</td>\n      <td>I130</td>\n      <td>Hypertensive heart and chronic kidney disease ...</td>\n    </tr>\n    <tr>\n      <th>198917</th>\n      <td>19312736</td>\n      <td>21311611</td>\n      <td>I130</td>\n      <td>Hypertensive heart and chronic kidney disease ...</td>\n    </tr>\n    <tr>\n      <th>198918</th>\n      <td>11885720</td>\n      <td>27266103</td>\n      <td>I130</td>\n      <td>Hypertensive heart and chronic kidney disease ...</td>\n    </tr>\n  </tbody>\n</table>\n<p>198919 rows × 4 columns</p>\n</div>"
     },
     "execution_count": 3,
     "metadata": {},
     "output_type": "execute_result"
    }
   ],
   "source": [
    "kidney_diagnoses_results"
   ],
   "metadata": {
    "collapsed": false,
    "ExecuteTime": {
     "end_time": "2023-10-24T19:47:09.104592500Z",
     "start_time": "2023-10-24T19:47:09.094244900Z"
    }
   },
   "id": "e0b8ec339217a440"
  },
  {
   "cell_type": "markdown",
   "source": [
    "## kidney prescriptions"
   ],
   "metadata": {
    "collapsed": false
   },
   "id": "ac8872e7cb0b7735"
  },
  {
   "cell_type": "code",
   "execution_count": 4,
   "outputs": [],
   "source": [
    "kidney_prescriptions_query = \"\"\"\n",
    "WITH kidney_patients AS (\n",
    "    SELECT DISTINCT d.subject_id, d.hadm_id\n",
    "    FROM `physionet-data.mimiciv_hosp.diagnoses_icd` d\n",
    "    JOIN `physionet-data.mimiciv_hosp.d_icd_diagnoses` i ON d.icd_code = i.icd_code\n",
    "    WHERE i.long_title LIKE '%kidney%'\n",
    "    LIMIT 100000\n",
    ")\n",
    "\n",
    "SELECT p.subject_id, p.hadm_id, p.drug\n",
    "FROM `physionet-data.mimiciv_hosp.prescriptions` p\n",
    "JOIN kidney_patients kp ON p.subject_id = kp.subject_id AND p.hadm_id = kp.hadm_id\n",
    "LIMIT 100000\n",
    "\"\"\"\n",
    "\n",
    "kidney_prescriptions_results = big_query.query(kidney_prescriptions_query).result().to_dataframe()\n"
   ],
   "metadata": {
    "collapsed": false,
    "ExecuteTime": {
     "end_time": "2023-10-24T19:47:18.694203600Z",
     "start_time": "2023-10-24T19:47:09.101288600Z"
    }
   },
   "id": "320a54414dce258e"
  },
  {
   "cell_type": "code",
   "execution_count": 5,
   "outputs": [
    {
     "data": {
      "text/plain": "       subject_id   hadm_id                            drug\n0        10771068  24650455                         Heparin\n1        12723597  28612481                         Heparin\n2        15533039  28396110  Albuterol 0.083% Neb Soln 1Neb\n3        10386303  23372208               Calcium Gluconate\n4        11166600  25863147      EPINEPHrine (for dilution)\n...           ...       ...                             ...\n99995    18376342  23636482                 Calcium Acetate\n99996    16273932  25757574                 Calcium Acetate\n99997    17341130  28017025                 Calcium Acetate\n99998    18300417  26122760                 Calcium Acetate\n99999    18504241  25544840                 Calcium Acetate\n\n[100000 rows x 3 columns]",
      "text/html": "<div>\n<style scoped>\n    .dataframe tbody tr th:only-of-type {\n        vertical-align: middle;\n    }\n\n    .dataframe tbody tr th {\n        vertical-align: top;\n    }\n\n    .dataframe thead th {\n        text-align: right;\n    }\n</style>\n<table border=\"1\" class=\"dataframe\">\n  <thead>\n    <tr style=\"text-align: right;\">\n      <th></th>\n      <th>subject_id</th>\n      <th>hadm_id</th>\n      <th>drug</th>\n    </tr>\n  </thead>\n  <tbody>\n    <tr>\n      <th>0</th>\n      <td>10771068</td>\n      <td>24650455</td>\n      <td>Heparin</td>\n    </tr>\n    <tr>\n      <th>1</th>\n      <td>12723597</td>\n      <td>28612481</td>\n      <td>Heparin</td>\n    </tr>\n    <tr>\n      <th>2</th>\n      <td>15533039</td>\n      <td>28396110</td>\n      <td>Albuterol 0.083% Neb Soln 1Neb</td>\n    </tr>\n    <tr>\n      <th>3</th>\n      <td>10386303</td>\n      <td>23372208</td>\n      <td>Calcium Gluconate</td>\n    </tr>\n    <tr>\n      <th>4</th>\n      <td>11166600</td>\n      <td>25863147</td>\n      <td>EPINEPHrine (for dilution)</td>\n    </tr>\n    <tr>\n      <th>...</th>\n      <td>...</td>\n      <td>...</td>\n      <td>...</td>\n    </tr>\n    <tr>\n      <th>99995</th>\n      <td>18376342</td>\n      <td>23636482</td>\n      <td>Calcium Acetate</td>\n    </tr>\n    <tr>\n      <th>99996</th>\n      <td>16273932</td>\n      <td>25757574</td>\n      <td>Calcium Acetate</td>\n    </tr>\n    <tr>\n      <th>99997</th>\n      <td>17341130</td>\n      <td>28017025</td>\n      <td>Calcium Acetate</td>\n    </tr>\n    <tr>\n      <th>99998</th>\n      <td>18300417</td>\n      <td>26122760</td>\n      <td>Calcium Acetate</td>\n    </tr>\n    <tr>\n      <th>99999</th>\n      <td>18504241</td>\n      <td>25544840</td>\n      <td>Calcium Acetate</td>\n    </tr>\n  </tbody>\n</table>\n<p>100000 rows × 3 columns</p>\n</div>"
     },
     "execution_count": 5,
     "metadata": {},
     "output_type": "execute_result"
    }
   ],
   "source": [
    "kidney_prescriptions_results"
   ],
   "metadata": {
    "collapsed": false,
    "ExecuteTime": {
     "end_time": "2023-10-24T19:47:18.695208900Z",
     "start_time": "2023-10-24T19:47:18.682348300Z"
    }
   },
   "id": "57ce0c25f24e8a2a"
  },
  {
   "cell_type": "markdown",
   "source": [
    "## kidney lab"
   ],
   "metadata": {
    "collapsed": false
   },
   "id": "99e6f226b78d9ae"
  },
  {
   "cell_type": "code",
   "execution_count": 6,
   "outputs": [],
   "source": [
    "kidney_lab_query = \"\"\"\n",
    "WITH kidney_patients AS (\n",
    "    SELECT DISTINCT d.subject_id, d.hadm_id\n",
    "    FROM `physionet-data.mimiciv_hosp.diagnoses_icd` d\n",
    "    JOIN `physionet-data.mimiciv_hosp.d_icd_diagnoses` i ON d.icd_code = i.icd_code\n",
    "    WHERE i.long_title LIKE '%kidney%'\n",
    "    LIMIT 100000\n",
    ")\n",
    "\n",
    "SELECT l.subject_id, l.hadm_id, i.label, l.value, l.valuenum, l.valueuom\n",
    "FROM `physionet-data.mimiciv_hosp.labevents` l\n",
    "JOIN `physionet-data.mimiciv_hosp.d_labitems` i ON l.itemid = i.itemid\n",
    "WHERE i.label IN ('Creatinine', 'BUN') \n",
    "AND l.subject_id IN (SELECT subject_id FROM kidney_patients)\n",
    "AND l.hadm_id IN (SELECT hadm_id FROM kidney_patients)\n",
    "LIMIT 100000\n",
    "\"\"\"\n",
    "\n",
    "kidney_lab_results = big_query.query(kidney_lab_query).result().to_dataframe()\n"
   ],
   "metadata": {
    "collapsed": false,
    "ExecuteTime": {
     "end_time": "2023-10-24T19:47:48.752718900Z",
     "start_time": "2023-10-24T19:47:34.204150100Z"
    }
   },
   "id": "909dbfc303f2321"
  },
  {
   "cell_type": "code",
   "execution_count": 7,
   "outputs": [
    {
     "data": {
      "text/plain": "       subject_id   hadm_id       label value  valuenum valueuom\n0        10014136  24097334  Creatinine  11.8      11.8    mg/dL\n1        10015860  22413744  Creatinine   4.1       4.1    mg/dL\n2        10049941  21629437  Creatinine   7.3       7.3    mg/dL\n3        10099032  24194487  Creatinine   6.6       6.6    mg/dL\n4        10119992  27298430  Creatinine   4.5       4.5    mg/dL\n...           ...       ...         ...   ...       ...      ...\n99995    15360211  28546355  Creatinine   1.8       1.8    mg/dL\n99996    15519663  29912576  Creatinine   ___       1.8    mg/dL\n99997    15575292  26609301  Creatinine   1.8       1.8    mg/dL\n99998    15624993  24300186  Creatinine   1.8       1.8    mg/dL\n99999    15752385  29528291  Creatinine   1.8       1.8    mg/dL\n\n[100000 rows x 6 columns]",
      "text/html": "<div>\n<style scoped>\n    .dataframe tbody tr th:only-of-type {\n        vertical-align: middle;\n    }\n\n    .dataframe tbody tr th {\n        vertical-align: top;\n    }\n\n    .dataframe thead th {\n        text-align: right;\n    }\n</style>\n<table border=\"1\" class=\"dataframe\">\n  <thead>\n    <tr style=\"text-align: right;\">\n      <th></th>\n      <th>subject_id</th>\n      <th>hadm_id</th>\n      <th>label</th>\n      <th>value</th>\n      <th>valuenum</th>\n      <th>valueuom</th>\n    </tr>\n  </thead>\n  <tbody>\n    <tr>\n      <th>0</th>\n      <td>10014136</td>\n      <td>24097334</td>\n      <td>Creatinine</td>\n      <td>11.8</td>\n      <td>11.8</td>\n      <td>mg/dL</td>\n    </tr>\n    <tr>\n      <th>1</th>\n      <td>10015860</td>\n      <td>22413744</td>\n      <td>Creatinine</td>\n      <td>4.1</td>\n      <td>4.1</td>\n      <td>mg/dL</td>\n    </tr>\n    <tr>\n      <th>2</th>\n      <td>10049941</td>\n      <td>21629437</td>\n      <td>Creatinine</td>\n      <td>7.3</td>\n      <td>7.3</td>\n      <td>mg/dL</td>\n    </tr>\n    <tr>\n      <th>3</th>\n      <td>10099032</td>\n      <td>24194487</td>\n      <td>Creatinine</td>\n      <td>6.6</td>\n      <td>6.6</td>\n      <td>mg/dL</td>\n    </tr>\n    <tr>\n      <th>4</th>\n      <td>10119992</td>\n      <td>27298430</td>\n      <td>Creatinine</td>\n      <td>4.5</td>\n      <td>4.5</td>\n      <td>mg/dL</td>\n    </tr>\n    <tr>\n      <th>...</th>\n      <td>...</td>\n      <td>...</td>\n      <td>...</td>\n      <td>...</td>\n      <td>...</td>\n      <td>...</td>\n    </tr>\n    <tr>\n      <th>99995</th>\n      <td>15360211</td>\n      <td>28546355</td>\n      <td>Creatinine</td>\n      <td>1.8</td>\n      <td>1.8</td>\n      <td>mg/dL</td>\n    </tr>\n    <tr>\n      <th>99996</th>\n      <td>15519663</td>\n      <td>29912576</td>\n      <td>Creatinine</td>\n      <td>___</td>\n      <td>1.8</td>\n      <td>mg/dL</td>\n    </tr>\n    <tr>\n      <th>99997</th>\n      <td>15575292</td>\n      <td>26609301</td>\n      <td>Creatinine</td>\n      <td>1.8</td>\n      <td>1.8</td>\n      <td>mg/dL</td>\n    </tr>\n    <tr>\n      <th>99998</th>\n      <td>15624993</td>\n      <td>24300186</td>\n      <td>Creatinine</td>\n      <td>1.8</td>\n      <td>1.8</td>\n      <td>mg/dL</td>\n    </tr>\n    <tr>\n      <th>99999</th>\n      <td>15752385</td>\n      <td>29528291</td>\n      <td>Creatinine</td>\n      <td>1.8</td>\n      <td>1.8</td>\n      <td>mg/dL</td>\n    </tr>\n  </tbody>\n</table>\n<p>100000 rows × 6 columns</p>\n</div>"
     },
     "execution_count": 7,
     "metadata": {},
     "output_type": "execute_result"
    }
   ],
   "source": [
    "kidney_lab_results"
   ],
   "metadata": {
    "collapsed": false,
    "ExecuteTime": {
     "end_time": "2023-10-24T19:47:48.765096500Z",
     "start_time": "2023-10-24T19:47:48.752718900Z"
    }
   },
   "id": "77b8e6a1cea05630"
  },
  {
   "cell_type": "code",
   "execution_count": 8,
   "outputs": [],
   "source": [
    "merged_data = kidney_diagnoses_results.merge(kidney_lab_results, on=['subject_id', 'hadm_id'], how='left').merge(kidney_prescriptions_results, on=['subject_id', 'hadm_id'], how='left')"
   ],
   "metadata": {
    "collapsed": false,
    "ExecuteTime": {
     "end_time": "2023-10-24T19:50:37.817299800Z",
     "start_time": "2023-10-24T19:50:37.632200400Z"
    }
   },
   "id": "b17624d23907d1af"
  },
  {
   "cell_type": "code",
   "execution_count": 9,
   "outputs": [
    {
     "data": {
      "text/plain": "        subject_id   hadm_id icd_code  \\\n0         10004235  24181354    58389   \n1         10004235  24181354    58389   \n2         10030753  26429826    V1651   \n3         10116621  28927488     7944   \n4         10172206  26783176     5839   \n...            ...       ...      ...   \n582925    19312736  21311611     I130   \n582926    19312736  21311611     I130   \n582927    19312736  21311611     I130   \n582928    19312736  21311611     I130   \n582929    11885720  27266103     I130   \n\n                                               long_title       label value  \\\n0       Nephritis and nephropathy, not specified as ac...  Creatinine   4.8   \n1       Nephritis and nephropathy, not specified as ac...  Creatinine   2.5   \n2          Family history of malignant neoplasm of kidney         NaN   NaN   \n3       Nonspecific abnormal results of function study...  Creatinine   1.5   \n4       Nephritis and nephropathy, not specified as ac...  Creatinine   1.2   \n...                                                   ...         ...   ...   \n582925  Hypertensive heart and chronic kidney disease ...  Creatinine   0.9   \n582926  Hypertensive heart and chronic kidney disease ...  Creatinine   0.9   \n582927  Hypertensive heart and chronic kidney disease ...  Creatinine   0.9   \n582928  Hypertensive heart and chronic kidney disease ...  Creatinine   0.9   \n582929  Hypertensive heart and chronic kidney disease ...         NaN   NaN   \n\n        valuenum valueuom                 drug  \n0            4.8    mg/dL                  Bag  \n1            2.5    mg/dL                  Bag  \n2            NaN      NaN    Zolpidem Tartrate  \n3            1.5    mg/dL                  NaN  \n4            1.2    mg/dL                  Bag  \n...          ...      ...                  ...  \n582925       0.9    mg/dL  Metoprolol Tartrate  \n582926       0.9    mg/dL         Pantoprazole  \n582927       0.9    mg/dL  QUEtiapine Fumarate  \n582928       0.9    mg/dL           Amiodarone  \n582929       NaN      NaN                  NaN  \n\n[582930 rows x 9 columns]",
      "text/html": "<div>\n<style scoped>\n    .dataframe tbody tr th:only-of-type {\n        vertical-align: middle;\n    }\n\n    .dataframe tbody tr th {\n        vertical-align: top;\n    }\n\n    .dataframe thead th {\n        text-align: right;\n    }\n</style>\n<table border=\"1\" class=\"dataframe\">\n  <thead>\n    <tr style=\"text-align: right;\">\n      <th></th>\n      <th>subject_id</th>\n      <th>hadm_id</th>\n      <th>icd_code</th>\n      <th>long_title</th>\n      <th>label</th>\n      <th>value</th>\n      <th>valuenum</th>\n      <th>valueuom</th>\n      <th>drug</th>\n    </tr>\n  </thead>\n  <tbody>\n    <tr>\n      <th>0</th>\n      <td>10004235</td>\n      <td>24181354</td>\n      <td>58389</td>\n      <td>Nephritis and nephropathy, not specified as ac...</td>\n      <td>Creatinine</td>\n      <td>4.8</td>\n      <td>4.8</td>\n      <td>mg/dL</td>\n      <td>Bag</td>\n    </tr>\n    <tr>\n      <th>1</th>\n      <td>10004235</td>\n      <td>24181354</td>\n      <td>58389</td>\n      <td>Nephritis and nephropathy, not specified as ac...</td>\n      <td>Creatinine</td>\n      <td>2.5</td>\n      <td>2.5</td>\n      <td>mg/dL</td>\n      <td>Bag</td>\n    </tr>\n    <tr>\n      <th>2</th>\n      <td>10030753</td>\n      <td>26429826</td>\n      <td>V1651</td>\n      <td>Family history of malignant neoplasm of kidney</td>\n      <td>NaN</td>\n      <td>NaN</td>\n      <td>NaN</td>\n      <td>NaN</td>\n      <td>Zolpidem Tartrate</td>\n    </tr>\n    <tr>\n      <th>3</th>\n      <td>10116621</td>\n      <td>28927488</td>\n      <td>7944</td>\n      <td>Nonspecific abnormal results of function study...</td>\n      <td>Creatinine</td>\n      <td>1.5</td>\n      <td>1.5</td>\n      <td>mg/dL</td>\n      <td>NaN</td>\n    </tr>\n    <tr>\n      <th>4</th>\n      <td>10172206</td>\n      <td>26783176</td>\n      <td>5839</td>\n      <td>Nephritis and nephropathy, not specified as ac...</td>\n      <td>Creatinine</td>\n      <td>1.2</td>\n      <td>1.2</td>\n      <td>mg/dL</td>\n      <td>Bag</td>\n    </tr>\n    <tr>\n      <th>...</th>\n      <td>...</td>\n      <td>...</td>\n      <td>...</td>\n      <td>...</td>\n      <td>...</td>\n      <td>...</td>\n      <td>...</td>\n      <td>...</td>\n      <td>...</td>\n    </tr>\n    <tr>\n      <th>582925</th>\n      <td>19312736</td>\n      <td>21311611</td>\n      <td>I130</td>\n      <td>Hypertensive heart and chronic kidney disease ...</td>\n      <td>Creatinine</td>\n      <td>0.9</td>\n      <td>0.9</td>\n      <td>mg/dL</td>\n      <td>Metoprolol Tartrate</td>\n    </tr>\n    <tr>\n      <th>582926</th>\n      <td>19312736</td>\n      <td>21311611</td>\n      <td>I130</td>\n      <td>Hypertensive heart and chronic kidney disease ...</td>\n      <td>Creatinine</td>\n      <td>0.9</td>\n      <td>0.9</td>\n      <td>mg/dL</td>\n      <td>Pantoprazole</td>\n    </tr>\n    <tr>\n      <th>582927</th>\n      <td>19312736</td>\n      <td>21311611</td>\n      <td>I130</td>\n      <td>Hypertensive heart and chronic kidney disease ...</td>\n      <td>Creatinine</td>\n      <td>0.9</td>\n      <td>0.9</td>\n      <td>mg/dL</td>\n      <td>QUEtiapine Fumarate</td>\n    </tr>\n    <tr>\n      <th>582928</th>\n      <td>19312736</td>\n      <td>21311611</td>\n      <td>I130</td>\n      <td>Hypertensive heart and chronic kidney disease ...</td>\n      <td>Creatinine</td>\n      <td>0.9</td>\n      <td>0.9</td>\n      <td>mg/dL</td>\n      <td>Amiodarone</td>\n    </tr>\n    <tr>\n      <th>582929</th>\n      <td>11885720</td>\n      <td>27266103</td>\n      <td>I130</td>\n      <td>Hypertensive heart and chronic kidney disease ...</td>\n      <td>NaN</td>\n      <td>NaN</td>\n      <td>NaN</td>\n      <td>NaN</td>\n      <td>NaN</td>\n    </tr>\n  </tbody>\n</table>\n<p>582930 rows × 9 columns</p>\n</div>"
     },
     "execution_count": 9,
     "metadata": {},
     "output_type": "execute_result"
    }
   ],
   "source": [
    "merged_data"
   ],
   "metadata": {
    "collapsed": false,
    "ExecuteTime": {
     "end_time": "2023-10-24T19:50:38.816293300Z",
     "start_time": "2023-10-24T19:50:38.806992200Z"
    }
   },
   "id": "50ad8de52ab2344d"
  },
  {
   "cell_type": "code",
   "execution_count": 12,
   "outputs": [],
   "source": [
    "merged_data.to_csv('merged_kidney_data.csv', index=False)"
   ],
   "metadata": {
    "collapsed": false,
    "ExecuteTime": {
     "end_time": "2023-10-24T19:56:03.868594600Z",
     "start_time": "2023-10-24T19:56:02.744079600Z"
    }
   },
   "id": "e0f78a2226121482"
  }
 ],
 "metadata": {
  "kernelspec": {
   "display_name": "Python 3",
   "language": "python",
   "name": "python3"
  },
  "language_info": {
   "codemirror_mode": {
    "name": "ipython",
    "version": 2
   },
   "file_extension": ".py",
   "mimetype": "text/x-python",
   "name": "python",
   "nbconvert_exporter": "python",
   "pygments_lexer": "ipython2",
   "version": "2.7.6"
  }
 },
 "nbformat": 4,
 "nbformat_minor": 5
}
