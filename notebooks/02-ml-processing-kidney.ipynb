{
 "cells": [
  {
   "cell_type": "code",
   "execution_count": 29,
   "id": "initial_id",
   "metadata": {
    "collapsed": true,
    "ExecuteTime": {
     "end_time": "2023-10-23T22:12:10.120974200Z",
     "start_time": "2023-10-23T22:12:09.262891600Z"
    }
   },
   "outputs": [
    {
     "name": "stdout",
     "output_type": "stream",
     "text": [
      "Loaded cohort from ..\\out\\cohort-full.out\n",
      "<google.oauth2.credentials.Credentials object at 0x0000016513E8E560> lucky-curve-395616\n"
     ]
    },
    {
     "data": {
      "text/plain": "            subject_id          hadm_id          stay_id  \\\ncount          13918.0          13918.0          13918.0   \nmean   14962882.262107  24985829.341213  34988872.550582   \nmin         10001884.0       20022095.0       30004144.0   \n25%         12504186.0       22503715.0       32511600.0   \n50%         14978206.0       25025631.0       34986873.0   \n75%         17399295.0       27440064.0      37510396.25   \nmax         19995595.0       29997500.0       39987478.0   \nstd     2838772.908197   2855966.941545   2884324.657779   \n\n                      dose_b_time  event_count  num_icd_codes  \ncount                       13918      13918.0        13918.0  \nmean   2154-11-03 04:32:33.138382     2.140609       1.859103  \nmin           2110-02-10 06:30:00          0.0            1.0  \n25%           2133-06-25 10:45:00          1.0            1.0  \n50%           2155-12-23 12:44:30          2.0            2.0  \n75%           2176-03-09 16:44:00          3.0            2.0  \nmax           2208-06-15 19:48:00          9.0           10.0  \nstd                           NaN     1.619336       1.087754  ",
      "text/html": "<div>\n<style scoped>\n    .dataframe tbody tr th:only-of-type {\n        vertical-align: middle;\n    }\n\n    .dataframe tbody tr th {\n        vertical-align: top;\n    }\n\n    .dataframe thead th {\n        text-align: right;\n    }\n</style>\n<table border=\"1\" class=\"dataframe\">\n  <thead>\n    <tr style=\"text-align: right;\">\n      <th></th>\n      <th>subject_id</th>\n      <th>hadm_id</th>\n      <th>stay_id</th>\n      <th>dose_b_time</th>\n      <th>event_count</th>\n      <th>num_icd_codes</th>\n    </tr>\n  </thead>\n  <tbody>\n    <tr>\n      <th>count</th>\n      <td>13918.0</td>\n      <td>13918.0</td>\n      <td>13918.0</td>\n      <td>13918</td>\n      <td>13918.0</td>\n      <td>13918.0</td>\n    </tr>\n    <tr>\n      <th>mean</th>\n      <td>14962882.262107</td>\n      <td>24985829.341213</td>\n      <td>34988872.550582</td>\n      <td>2154-11-03 04:32:33.138382</td>\n      <td>2.140609</td>\n      <td>1.859103</td>\n    </tr>\n    <tr>\n      <th>min</th>\n      <td>10001884.0</td>\n      <td>20022095.0</td>\n      <td>30004144.0</td>\n      <td>2110-02-10 06:30:00</td>\n      <td>0.0</td>\n      <td>1.0</td>\n    </tr>\n    <tr>\n      <th>25%</th>\n      <td>12504186.0</td>\n      <td>22503715.0</td>\n      <td>32511600.0</td>\n      <td>2133-06-25 10:45:00</td>\n      <td>1.0</td>\n      <td>1.0</td>\n    </tr>\n    <tr>\n      <th>50%</th>\n      <td>14978206.0</td>\n      <td>25025631.0</td>\n      <td>34986873.0</td>\n      <td>2155-12-23 12:44:30</td>\n      <td>2.0</td>\n      <td>2.0</td>\n    </tr>\n    <tr>\n      <th>75%</th>\n      <td>17399295.0</td>\n      <td>27440064.0</td>\n      <td>37510396.25</td>\n      <td>2176-03-09 16:44:00</td>\n      <td>3.0</td>\n      <td>2.0</td>\n    </tr>\n    <tr>\n      <th>max</th>\n      <td>19995595.0</td>\n      <td>29997500.0</td>\n      <td>39987478.0</td>\n      <td>2208-06-15 19:48:00</td>\n      <td>9.0</td>\n      <td>10.0</td>\n    </tr>\n    <tr>\n      <th>std</th>\n      <td>2838772.908197</td>\n      <td>2855966.941545</td>\n      <td>2884324.657779</td>\n      <td>NaN</td>\n      <td>1.619336</td>\n      <td>1.087754</td>\n    </tr>\n  </tbody>\n</table>\n</div>"
     },
     "execution_count": 29,
     "metadata": {},
     "output_type": "execute_result"
    }
   ],
   "source": [
    "import root_config as rc\n",
    "\n",
    "rc.configure()\n",
    "\n",
    "from detectdd.auth_bigquery import BigQueryClient\n",
    "from detectdd.serializer import Serializer\n",
    "\n",
    "try:\n",
    "    cohort = Serializer().read_cohort()  # need to run 01-cohort.ipynb to produce the cohort\n",
    "except FileNotFoundError:\n",
    "    raise Exception(\"Need to run [01-cohort.ipynb] at least once to create the cohort file in the /out directory\")\n",
    "\n",
    "\n",
    "big_query = BigQueryClient.auth()\n",
    "\n",
    "cohort.describe()\n"
   ]
  },
  {
   "cell_type": "markdown",
   "source": [
    "## kidney diagnoses"
   ],
   "metadata": {
    "collapsed": false
   },
   "id": "2b17040148284aaa"
  },
  {
   "cell_type": "code",
   "execution_count": 30,
   "outputs": [],
   "source": [
    "kidney_diagnoses_query = \"\"\"\n",
    "SELECT d.subject_id, d.hadm_id, d.icd_code, i.long_title\n",
    "FROM `physionet-data.mimiciv_hosp.diagnoses_icd` d\n",
    "JOIN `physionet-data.mimiciv_hosp.d_icd_diagnoses` i ON d.icd_code = i.icd_code\n",
    "WHERE i.long_title LIKE '%kidney%'\n",
    "\"\"\"\n",
    "\n",
    "kidney_diagnoses_results = big_query.query(kidney_diagnoses_query).result().to_dataframe()\n"
   ],
   "metadata": {
    "collapsed": false,
    "ExecuteTime": {
     "end_time": "2023-10-23T22:12:31.038155700Z",
     "start_time": "2023-10-23T22:12:10.117961500Z"
    }
   },
   "id": "cdb18cb9cd91e6b1"
  },
  {
   "cell_type": "markdown",
   "source": [
    "## kidney prescriptions"
   ],
   "metadata": {
    "collapsed": false
   },
   "id": "ac8872e7cb0b7735"
  },
  {
   "cell_type": "code",
   "execution_count": 31,
   "outputs": [],
   "source": [
    "kidney_prescriptions_query = \"\"\"\n",
    "WITH kidney_patients AS (\n",
    "    SELECT DISTINCT d.subject_id, d.hadm_id\n",
    "    FROM `physionet-data.mimiciv_hosp.diagnoses_icd` d\n",
    "    JOIN `physionet-data.mimiciv_hosp.d_icd_diagnoses` i ON d.icd_code = i.icd_code\n",
    "    WHERE i.long_title LIKE '%kidney%'\n",
    "    LIMIT 100000\n",
    ")\n",
    "\n",
    "SELECT p.subject_id, p.hadm_id, p.drug\n",
    "FROM `physionet-data.mimiciv_hosp.prescriptions` p\n",
    "JOIN kidney_patients kp ON p.subject_id = kp.subject_id AND p.hadm_id = kp.hadm_id\n",
    "LIMIT 100000\n",
    "\"\"\"\n",
    "\n",
    "kidney_prescriptions_results = big_query.query(kidney_prescriptions_query).result().to_dataframe()\n"
   ],
   "metadata": {
    "collapsed": false,
    "ExecuteTime": {
     "end_time": "2023-10-23T22:12:43.075414Z",
     "start_time": "2023-10-23T22:12:31.039156700Z"
    }
   },
   "id": "320a54414dce258e"
  },
  {
   "cell_type": "code",
   "execution_count": 32,
   "outputs": [
    {
     "data": {
      "text/plain": "       subject_id   hadm_id                            drug\n0        10771068  24650455                         Heparin\n1        12723597  28612481                         Heparin\n2        15533039  28396110  Albuterol 0.083% Neb Soln 1Neb\n3        10386303  23372208               Calcium Gluconate\n4        11166600  25863147      EPINEPHrine (for dilution)\n...           ...       ...                             ...\n99995    18376342  23636482                 Calcium Acetate\n99996    16273932  25757574                 Calcium Acetate\n99997    17341130  28017025                 Calcium Acetate\n99998    18300417  26122760                 Calcium Acetate\n99999    18504241  25544840                 Calcium Acetate\n\n[100000 rows x 3 columns]",
      "text/html": "<div>\n<style scoped>\n    .dataframe tbody tr th:only-of-type {\n        vertical-align: middle;\n    }\n\n    .dataframe tbody tr th {\n        vertical-align: top;\n    }\n\n    .dataframe thead th {\n        text-align: right;\n    }\n</style>\n<table border=\"1\" class=\"dataframe\">\n  <thead>\n    <tr style=\"text-align: right;\">\n      <th></th>\n      <th>subject_id</th>\n      <th>hadm_id</th>\n      <th>drug</th>\n    </tr>\n  </thead>\n  <tbody>\n    <tr>\n      <th>0</th>\n      <td>10771068</td>\n      <td>24650455</td>\n      <td>Heparin</td>\n    </tr>\n    <tr>\n      <th>1</th>\n      <td>12723597</td>\n      <td>28612481</td>\n      <td>Heparin</td>\n    </tr>\n    <tr>\n      <th>2</th>\n      <td>15533039</td>\n      <td>28396110</td>\n      <td>Albuterol 0.083% Neb Soln 1Neb</td>\n    </tr>\n    <tr>\n      <th>3</th>\n      <td>10386303</td>\n      <td>23372208</td>\n      <td>Calcium Gluconate</td>\n    </tr>\n    <tr>\n      <th>4</th>\n      <td>11166600</td>\n      <td>25863147</td>\n      <td>EPINEPHrine (for dilution)</td>\n    </tr>\n    <tr>\n      <th>...</th>\n      <td>...</td>\n      <td>...</td>\n      <td>...</td>\n    </tr>\n    <tr>\n      <th>99995</th>\n      <td>18376342</td>\n      <td>23636482</td>\n      <td>Calcium Acetate</td>\n    </tr>\n    <tr>\n      <th>99996</th>\n      <td>16273932</td>\n      <td>25757574</td>\n      <td>Calcium Acetate</td>\n    </tr>\n    <tr>\n      <th>99997</th>\n      <td>17341130</td>\n      <td>28017025</td>\n      <td>Calcium Acetate</td>\n    </tr>\n    <tr>\n      <th>99998</th>\n      <td>18300417</td>\n      <td>26122760</td>\n      <td>Calcium Acetate</td>\n    </tr>\n    <tr>\n      <th>99999</th>\n      <td>18504241</td>\n      <td>25544840</td>\n      <td>Calcium Acetate</td>\n    </tr>\n  </tbody>\n</table>\n<p>100000 rows × 3 columns</p>\n</div>"
     },
     "execution_count": 32,
     "metadata": {},
     "output_type": "execute_result"
    }
   ],
   "source": [
    "kidney_prescriptions_results"
   ],
   "metadata": {
    "collapsed": false,
    "ExecuteTime": {
     "end_time": "2023-10-23T22:12:57.222209700Z",
     "start_time": "2023-10-23T22:12:57.216699Z"
    }
   },
   "id": "57ce0c25f24e8a2a"
  }
 ],
 "metadata": {
  "kernelspec": {
   "display_name": "Python 3",
   "language": "python",
   "name": "python3"
  },
  "language_info": {
   "codemirror_mode": {
    "name": "ipython",
    "version": 2
   },
   "file_extension": ".py",
   "mimetype": "text/x-python",
   "name": "python",
   "nbconvert_exporter": "python",
   "pygments_lexer": "ipython2",
   "version": "2.7.6"
  }
 },
 "nbformat": 4,
 "nbformat_minor": 5
}
