{
 "cells": [
  {
   "cell_type": "code",
   "execution_count": 2,
   "id": "initial_id",
   "metadata": {
    "collapsed": true,
    "ExecuteTime": {
     "end_time": "2023-10-26T06:17:19.681366200Z",
     "start_time": "2023-10-26T06:17:15.626500700Z"
    }
   },
   "outputs": [
    {
     "name": "stdout",
     "output_type": "stream",
     "text": [
      "Loaded cohort from ..\\out\\cohort-full.out\n",
      "<google.oauth2.credentials.Credentials object at 0x0000023169B17220> mimic-iv-desktop\n"
     ]
    },
    {
     "data": {
      "text/plain": "           subject_id          hadm_id          stay_id  \\\ncount         23924.0          23924.0          23924.0   \nmean   14952657.24373  25047174.107256  34995468.839534   \nmin        10001884.0       20022095.0       30002654.0   \n25%       12418872.25       22585455.0       32500877.0   \n50%        15013503.0       25099207.0       34974279.0   \n75%        17444849.0      27582114.25       37503072.0   \nmax        19995595.0       29997500.0       39995213.0   \nstd    2885815.078681   2884855.279498   2889069.445647   \n\n                      dose_b_time  event_count  num_icd_codes  \ncount                       23924      23924.0        23924.0  \nmean   2154-08-17 15:48:47.302291     3.019855       1.841331  \nmin           2110-02-10 06:30:00          0.0            1.0  \n25%           2134-04-14 20:37:30          1.0            1.0  \n50%           2154-11-04 05:00:00          2.0            1.0  \n75%           2175-05-29 13:51:45          4.0            2.0  \nmax           2209-05-30 09:27:00         17.0           10.0  \nstd                           NaN     2.558822       1.103696  ",
      "text/html": "<div>\n<style scoped>\n    .dataframe tbody tr th:only-of-type {\n        vertical-align: middle;\n    }\n\n    .dataframe tbody tr th {\n        vertical-align: top;\n    }\n\n    .dataframe thead th {\n        text-align: right;\n    }\n</style>\n<table border=\"1\" class=\"dataframe\">\n  <thead>\n    <tr style=\"text-align: right;\">\n      <th></th>\n      <th>subject_id</th>\n      <th>hadm_id</th>\n      <th>stay_id</th>\n      <th>dose_b_time</th>\n      <th>event_count</th>\n      <th>num_icd_codes</th>\n    </tr>\n  </thead>\n  <tbody>\n    <tr>\n      <th>count</th>\n      <td>23924.0</td>\n      <td>23924.0</td>\n      <td>23924.0</td>\n      <td>23924</td>\n      <td>23924.0</td>\n      <td>23924.0</td>\n    </tr>\n    <tr>\n      <th>mean</th>\n      <td>14952657.24373</td>\n      <td>25047174.107256</td>\n      <td>34995468.839534</td>\n      <td>2154-08-17 15:48:47.302291</td>\n      <td>3.019855</td>\n      <td>1.841331</td>\n    </tr>\n    <tr>\n      <th>min</th>\n      <td>10001884.0</td>\n      <td>20022095.0</td>\n      <td>30002654.0</td>\n      <td>2110-02-10 06:30:00</td>\n      <td>0.0</td>\n      <td>1.0</td>\n    </tr>\n    <tr>\n      <th>25%</th>\n      <td>12418872.25</td>\n      <td>22585455.0</td>\n      <td>32500877.0</td>\n      <td>2134-04-14 20:37:30</td>\n      <td>1.0</td>\n      <td>1.0</td>\n    </tr>\n    <tr>\n      <th>50%</th>\n      <td>15013503.0</td>\n      <td>25099207.0</td>\n      <td>34974279.0</td>\n      <td>2154-11-04 05:00:00</td>\n      <td>2.0</td>\n      <td>1.0</td>\n    </tr>\n    <tr>\n      <th>75%</th>\n      <td>17444849.0</td>\n      <td>27582114.25</td>\n      <td>37503072.0</td>\n      <td>2175-05-29 13:51:45</td>\n      <td>4.0</td>\n      <td>2.0</td>\n    </tr>\n    <tr>\n      <th>max</th>\n      <td>19995595.0</td>\n      <td>29997500.0</td>\n      <td>39995213.0</td>\n      <td>2209-05-30 09:27:00</td>\n      <td>17.0</td>\n      <td>10.0</td>\n    </tr>\n    <tr>\n      <th>std</th>\n      <td>2885815.078681</td>\n      <td>2884855.279498</td>\n      <td>2889069.445647</td>\n      <td>NaN</td>\n      <td>2.558822</td>\n      <td>1.103696</td>\n    </tr>\n  </tbody>\n</table>\n</div>"
     },
     "execution_count": 2,
     "metadata": {},
     "output_type": "execute_result"
    }
   ],
   "source": [
    "import root_config as rc\n",
    "\n",
    "rc.configure()\n",
    "\n",
    "from detectdd.auth_bigquery import BigQueryClient\n",
    "from detectdd.serializer import Serializer\n",
    "\n",
    "try:\n",
    "    cohort = Serializer().read_cohort()  # need to run 01-cohort.ipynb to produce the cohort\n",
    "except FileNotFoundError:\n",
    "    raise Exception(\"Need to run [01-cohort.ipynb] at least once to create the cohort file in the /out directory\")\n",
    "\n",
    "\n",
    "big_query = BigQueryClient.auth()\n",
    "\n",
    "cohort.describe()\n"
   ]
  },
  {
   "cell_type": "markdown",
   "source": [
    "## kidney diagnoses"
   ],
   "metadata": {
    "collapsed": false
   },
   "id": "2b17040148284aaa"
  },
  {
   "cell_type": "code",
   "execution_count": 3,
   "outputs": [],
   "source": [
    "kidney_diagnoses_query = \"\"\"\n",
    "SELECT d.subject_id, d.hadm_id, d.icd_code, i.long_title\n",
    "FROM `physionet-data.mimiciv_hosp.diagnoses_icd` d\n",
    "JOIN `physionet-data.mimiciv_hosp.d_icd_diagnoses` i ON d.icd_code = i.icd_code\n",
    "WHERE i.long_title LIKE '%kidney%'\n",
    "\"\"\"\n",
    "\n",
    "kidney_diagnoses_results = big_query.query(kidney_diagnoses_query).result().to_dataframe()\n"
   ],
   "metadata": {
    "collapsed": false,
    "ExecuteTime": {
     "end_time": "2023-10-26T06:17:42.472939600Z",
     "start_time": "2023-10-26T06:17:19.679859900Z"
    }
   },
   "id": "cdb18cb9cd91e6b1"
  },
  {
   "cell_type": "code",
   "execution_count": 4,
   "outputs": [
    {
     "data": {
      "text/plain": "        subject_id   hadm_id icd_code  \\\n0         10004235  24181354    58389   \n1         10030753  26429826    V1651   \n2         10116621  28927488     7944   \n3         10172206  26783176     5839   \n4         10597808  23151286     5932   \n...            ...       ...      ...   \n198914    19297319  27429566     I130   \n198915    12489419  20908680     I130   \n198916    16134144  27744298     I130   \n198917    19312736  21311611     I130   \n198918    11885720  27266103     I130   \n\n                                               long_title  \n0       Nephritis and nephropathy, not specified as ac...  \n1          Family history of malignant neoplasm of kidney  \n2       Nonspecific abnormal results of function study...  \n3       Nephritis and nephropathy, not specified as ac...  \n4                                Cyst of kidney, acquired  \n...                                                   ...  \n198914  Hypertensive heart and chronic kidney disease ...  \n198915  Hypertensive heart and chronic kidney disease ...  \n198916  Hypertensive heart and chronic kidney disease ...  \n198917  Hypertensive heart and chronic kidney disease ...  \n198918  Hypertensive heart and chronic kidney disease ...  \n\n[198919 rows x 4 columns]",
      "text/html": "<div>\n<style scoped>\n    .dataframe tbody tr th:only-of-type {\n        vertical-align: middle;\n    }\n\n    .dataframe tbody tr th {\n        vertical-align: top;\n    }\n\n    .dataframe thead th {\n        text-align: right;\n    }\n</style>\n<table border=\"1\" class=\"dataframe\">\n  <thead>\n    <tr style=\"text-align: right;\">\n      <th></th>\n      <th>subject_id</th>\n      <th>hadm_id</th>\n      <th>icd_code</th>\n      <th>long_title</th>\n    </tr>\n  </thead>\n  <tbody>\n    <tr>\n      <th>0</th>\n      <td>10004235</td>\n      <td>24181354</td>\n      <td>58389</td>\n      <td>Nephritis and nephropathy, not specified as ac...</td>\n    </tr>\n    <tr>\n      <th>1</th>\n      <td>10030753</td>\n      <td>26429826</td>\n      <td>V1651</td>\n      <td>Family history of malignant neoplasm of kidney</td>\n    </tr>\n    <tr>\n      <th>2</th>\n      <td>10116621</td>\n      <td>28927488</td>\n      <td>7944</td>\n      <td>Nonspecific abnormal results of function study...</td>\n    </tr>\n    <tr>\n      <th>3</th>\n      <td>10172206</td>\n      <td>26783176</td>\n      <td>5839</td>\n      <td>Nephritis and nephropathy, not specified as ac...</td>\n    </tr>\n    <tr>\n      <th>4</th>\n      <td>10597808</td>\n      <td>23151286</td>\n      <td>5932</td>\n      <td>Cyst of kidney, acquired</td>\n    </tr>\n    <tr>\n      <th>...</th>\n      <td>...</td>\n      <td>...</td>\n      <td>...</td>\n      <td>...</td>\n    </tr>\n    <tr>\n      <th>198914</th>\n      <td>19297319</td>\n      <td>27429566</td>\n      <td>I130</td>\n      <td>Hypertensive heart and chronic kidney disease ...</td>\n    </tr>\n    <tr>\n      <th>198915</th>\n      <td>12489419</td>\n      <td>20908680</td>\n      <td>I130</td>\n      <td>Hypertensive heart and chronic kidney disease ...</td>\n    </tr>\n    <tr>\n      <th>198916</th>\n      <td>16134144</td>\n      <td>27744298</td>\n      <td>I130</td>\n      <td>Hypertensive heart and chronic kidney disease ...</td>\n    </tr>\n    <tr>\n      <th>198917</th>\n      <td>19312736</td>\n      <td>21311611</td>\n      <td>I130</td>\n      <td>Hypertensive heart and chronic kidney disease ...</td>\n    </tr>\n    <tr>\n      <th>198918</th>\n      <td>11885720</td>\n      <td>27266103</td>\n      <td>I130</td>\n      <td>Hypertensive heart and chronic kidney disease ...</td>\n    </tr>\n  </tbody>\n</table>\n<p>198919 rows × 4 columns</p>\n</div>"
     },
     "execution_count": 4,
     "metadata": {},
     "output_type": "execute_result"
    }
   ],
   "source": [
    "kidney_diagnoses_results"
   ],
   "metadata": {
    "collapsed": false,
    "ExecuteTime": {
     "end_time": "2023-10-26T06:17:42.491361100Z",
     "start_time": "2023-10-26T06:17:42.480388900Z"
    }
   },
   "id": "e0b8ec339217a440"
  },
  {
   "cell_type": "markdown",
   "source": [
    "## kidney prescriptions"
   ],
   "metadata": {
    "collapsed": false
   },
   "id": "ac8872e7cb0b7735"
  },
  {
   "cell_type": "code",
   "execution_count": 5,
   "outputs": [],
   "source": [
    "kidney_prescriptions_query = \"\"\"\n",
    "WITH kidney_patients AS (\n",
    "    SELECT DISTINCT d.subject_id, d.hadm_id\n",
    "    FROM `physionet-data.mimiciv_hosp.diagnoses_icd` d\n",
    "    JOIN `physionet-data.mimiciv_hosp.d_icd_diagnoses` i ON d.icd_code = i.icd_code\n",
    "    WHERE i.long_title LIKE '%kidney%'\n",
    "    LIMIT 100000\n",
    ")\n",
    "\n",
    "SELECT p.subject_id, p.hadm_id, p.drug\n",
    "FROM `physionet-data.mimiciv_hosp.prescriptions` p\n",
    "JOIN kidney_patients kp ON p.subject_id = kp.subject_id AND p.hadm_id = kp.hadm_id\n",
    "LIMIT 100000\n",
    "\"\"\"\n",
    "\n",
    "kidney_prescriptions_results = big_query.query(kidney_prescriptions_query).result().to_dataframe()\n"
   ],
   "metadata": {
    "collapsed": false,
    "ExecuteTime": {
     "end_time": "2023-10-26T06:17:55.783837400Z",
     "start_time": "2023-10-26T06:17:42.489383400Z"
    }
   },
   "id": "320a54414dce258e"
  },
  {
   "cell_type": "code",
   "execution_count": 6,
   "outputs": [
    {
     "data": {
      "text/plain": "       subject_id   hadm_id                       drug\n0        16536691  25068958                    Heparin\n1        19295613  25201441  Albuterol 0.083% Neb Soln\n2        15483933  25067431                    Aspirin\n3        10099032  24194487          Calcium Gluconate\n4        16758327  22779550          Calcium Gluconate\n...           ...       ...                        ...\n99995    17277385  25913000                 Carvedilol\n99996    19907026  24069513                 Carvedilol\n99997    17906511  22562301                 Carvedilol\n99998    19714547  24785207                 Carvedilol\n99999    10583763  21877514                 Carvedilol\n\n[100000 rows x 3 columns]",
      "text/html": "<div>\n<style scoped>\n    .dataframe tbody tr th:only-of-type {\n        vertical-align: middle;\n    }\n\n    .dataframe tbody tr th {\n        vertical-align: top;\n    }\n\n    .dataframe thead th {\n        text-align: right;\n    }\n</style>\n<table border=\"1\" class=\"dataframe\">\n  <thead>\n    <tr style=\"text-align: right;\">\n      <th></th>\n      <th>subject_id</th>\n      <th>hadm_id</th>\n      <th>drug</th>\n    </tr>\n  </thead>\n  <tbody>\n    <tr>\n      <th>0</th>\n      <td>16536691</td>\n      <td>25068958</td>\n      <td>Heparin</td>\n    </tr>\n    <tr>\n      <th>1</th>\n      <td>19295613</td>\n      <td>25201441</td>\n      <td>Albuterol 0.083% Neb Soln</td>\n    </tr>\n    <tr>\n      <th>2</th>\n      <td>15483933</td>\n      <td>25067431</td>\n      <td>Aspirin</td>\n    </tr>\n    <tr>\n      <th>3</th>\n      <td>10099032</td>\n      <td>24194487</td>\n      <td>Calcium Gluconate</td>\n    </tr>\n    <tr>\n      <th>4</th>\n      <td>16758327</td>\n      <td>22779550</td>\n      <td>Calcium Gluconate</td>\n    </tr>\n    <tr>\n      <th>...</th>\n      <td>...</td>\n      <td>...</td>\n      <td>...</td>\n    </tr>\n    <tr>\n      <th>99995</th>\n      <td>17277385</td>\n      <td>25913000</td>\n      <td>Carvedilol</td>\n    </tr>\n    <tr>\n      <th>99996</th>\n      <td>19907026</td>\n      <td>24069513</td>\n      <td>Carvedilol</td>\n    </tr>\n    <tr>\n      <th>99997</th>\n      <td>17906511</td>\n      <td>22562301</td>\n      <td>Carvedilol</td>\n    </tr>\n    <tr>\n      <th>99998</th>\n      <td>19714547</td>\n      <td>24785207</td>\n      <td>Carvedilol</td>\n    </tr>\n    <tr>\n      <th>99999</th>\n      <td>10583763</td>\n      <td>21877514</td>\n      <td>Carvedilol</td>\n    </tr>\n  </tbody>\n</table>\n<p>100000 rows × 3 columns</p>\n</div>"
     },
     "execution_count": 6,
     "metadata": {},
     "output_type": "execute_result"
    }
   ],
   "source": [
    "kidney_prescriptions_results"
   ],
   "metadata": {
    "collapsed": false,
    "ExecuteTime": {
     "end_time": "2023-10-26T06:17:55.799839400Z",
     "start_time": "2023-10-26T06:17:55.790818600Z"
    }
   },
   "id": "57ce0c25f24e8a2a"
  },
  {
   "cell_type": "markdown",
   "source": [
    "## kidney lab"
   ],
   "metadata": {
    "collapsed": false
   },
   "id": "99e6f226b78d9ae"
  },
  {
   "cell_type": "code",
   "execution_count": 7,
   "outputs": [],
   "source": [
    "kidney_lab_query = \"\"\"\n",
    "WITH kidney_patients AS (\n",
    "    SELECT DISTINCT d.subject_id, d.hadm_id\n",
    "    FROM `physionet-data.mimiciv_hosp.diagnoses_icd` d\n",
    "    JOIN `physionet-data.mimiciv_hosp.d_icd_diagnoses` i ON d.icd_code = i.icd_code\n",
    "    WHERE i.long_title LIKE '%kidney%'\n",
    "    LIMIT 100000\n",
    ")\n",
    "\n",
    "SELECT l.subject_id, l.hadm_id, i.label, l.value, l.valuenum, l.valueuom\n",
    "FROM `physionet-data.mimiciv_hosp.labevents` l\n",
    "JOIN `physionet-data.mimiciv_hosp.d_labitems` i ON l.itemid = i.itemid\n",
    "WHERE i.label IN ('Creatinine', 'BUN') \n",
    "AND l.subject_id IN (SELECT subject_id FROM kidney_patients)\n",
    "AND l.hadm_id IN (SELECT hadm_id FROM kidney_patients)\n",
    "LIMIT 100000\n",
    "\"\"\"\n",
    "\n",
    "kidney_lab_results = big_query.query(kidney_lab_query).result().to_dataframe()\n"
   ],
   "metadata": {
    "collapsed": false,
    "ExecuteTime": {
     "end_time": "2023-10-26T06:18:11.725727400Z",
     "start_time": "2023-10-26T06:17:55.801834100Z"
    }
   },
   "id": "909dbfc303f2321"
  },
  {
   "cell_type": "code",
   "execution_count": 8,
   "outputs": [
    {
     "data": {
      "text/plain": "       subject_id   hadm_id       label value  valuenum valueuom\n0        10015860  25103777  Creatinine   8.1       8.1    mg/dL\n1        10016084  23267624  Creatinine   4.5       4.5    mg/dL\n2        10067389  23577021  Creatinine   4.2       4.2    mg/dL\n3        10094811  29711874  Creatinine   5.7       5.7    mg/dL\n4        10108523  26060973  Creatinine   5.2       5.2    mg/dL\n...           ...       ...         ...   ...       ...      ...\n99995    15622498  21977260  Creatinine   1.8       1.8    mg/dL\n99996    15788134  25022809  Creatinine   1.8       1.8    mg/dL\n99997    15814592  29816032  Creatinine   1.8       1.8    mg/dL\n99998    15906662  24072687  Creatinine   1.8       1.8    mg/dL\n99999    16155710  27288697  Creatinine   1.8       1.8    mg/dL\n\n[100000 rows x 6 columns]",
      "text/html": "<div>\n<style scoped>\n    .dataframe tbody tr th:only-of-type {\n        vertical-align: middle;\n    }\n\n    .dataframe tbody tr th {\n        vertical-align: top;\n    }\n\n    .dataframe thead th {\n        text-align: right;\n    }\n</style>\n<table border=\"1\" class=\"dataframe\">\n  <thead>\n    <tr style=\"text-align: right;\">\n      <th></th>\n      <th>subject_id</th>\n      <th>hadm_id</th>\n      <th>label</th>\n      <th>value</th>\n      <th>valuenum</th>\n      <th>valueuom</th>\n    </tr>\n  </thead>\n  <tbody>\n    <tr>\n      <th>0</th>\n      <td>10015860</td>\n      <td>25103777</td>\n      <td>Creatinine</td>\n      <td>8.1</td>\n      <td>8.1</td>\n      <td>mg/dL</td>\n    </tr>\n    <tr>\n      <th>1</th>\n      <td>10016084</td>\n      <td>23267624</td>\n      <td>Creatinine</td>\n      <td>4.5</td>\n      <td>4.5</td>\n      <td>mg/dL</td>\n    </tr>\n    <tr>\n      <th>2</th>\n      <td>10067389</td>\n      <td>23577021</td>\n      <td>Creatinine</td>\n      <td>4.2</td>\n      <td>4.2</td>\n      <td>mg/dL</td>\n    </tr>\n    <tr>\n      <th>3</th>\n      <td>10094811</td>\n      <td>29711874</td>\n      <td>Creatinine</td>\n      <td>5.7</td>\n      <td>5.7</td>\n      <td>mg/dL</td>\n    </tr>\n    <tr>\n      <th>4</th>\n      <td>10108523</td>\n      <td>26060973</td>\n      <td>Creatinine</td>\n      <td>5.2</td>\n      <td>5.2</td>\n      <td>mg/dL</td>\n    </tr>\n    <tr>\n      <th>...</th>\n      <td>...</td>\n      <td>...</td>\n      <td>...</td>\n      <td>...</td>\n      <td>...</td>\n      <td>...</td>\n    </tr>\n    <tr>\n      <th>99995</th>\n      <td>15622498</td>\n      <td>21977260</td>\n      <td>Creatinine</td>\n      <td>1.8</td>\n      <td>1.8</td>\n      <td>mg/dL</td>\n    </tr>\n    <tr>\n      <th>99996</th>\n      <td>15788134</td>\n      <td>25022809</td>\n      <td>Creatinine</td>\n      <td>1.8</td>\n      <td>1.8</td>\n      <td>mg/dL</td>\n    </tr>\n    <tr>\n      <th>99997</th>\n      <td>15814592</td>\n      <td>29816032</td>\n      <td>Creatinine</td>\n      <td>1.8</td>\n      <td>1.8</td>\n      <td>mg/dL</td>\n    </tr>\n    <tr>\n      <th>99998</th>\n      <td>15906662</td>\n      <td>24072687</td>\n      <td>Creatinine</td>\n      <td>1.8</td>\n      <td>1.8</td>\n      <td>mg/dL</td>\n    </tr>\n    <tr>\n      <th>99999</th>\n      <td>16155710</td>\n      <td>27288697</td>\n      <td>Creatinine</td>\n      <td>1.8</td>\n      <td>1.8</td>\n      <td>mg/dL</td>\n    </tr>\n  </tbody>\n</table>\n<p>100000 rows × 6 columns</p>\n</div>"
     },
     "execution_count": 8,
     "metadata": {},
     "output_type": "execute_result"
    }
   ],
   "source": [
    "kidney_lab_results"
   ],
   "metadata": {
    "collapsed": false,
    "ExecuteTime": {
     "end_time": "2023-10-26T06:18:11.741878Z",
     "start_time": "2023-10-26T06:18:11.734739700Z"
    }
   },
   "id": "77b8e6a1cea05630"
  },
  {
   "cell_type": "code",
   "execution_count": 9,
   "outputs": [],
   "source": [
    "merged_data = kidney_diagnoses_results.merge(kidney_lab_results, on=['subject_id', 'hadm_id'], how='left').merge(kidney_prescriptions_results, on=['subject_id', 'hadm_id'], how='left')"
   ],
   "metadata": {
    "collapsed": false,
    "ExecuteTime": {
     "end_time": "2023-10-26T06:18:11.946867Z",
     "start_time": "2023-10-26T06:18:11.742875200Z"
    }
   },
   "id": "b17624d23907d1af"
  },
  {
   "cell_type": "code",
   "execution_count": 10,
   "outputs": [
    {
     "data": {
      "text/plain": "        subject_id   hadm_id icd_code  \\\n0         10004235  24181354    58389   \n1         10004235  24181354    58389   \n2         10004235  24181354    58389   \n3         10004235  24181354    58389   \n4         10030753  26429826    V1651   \n...            ...       ...      ...   \n589702    19312736  21311611     I130   \n589703    19312736  21311611     I130   \n589704    19312736  21311611     I130   \n589705    19312736  21311611     I130   \n589706    11885720  27266103     I130   \n\n                                               long_title       label value  \\\n0       Nephritis and nephropathy, not specified as ac...  Creatinine   7.3   \n1       Nephritis and nephropathy, not specified as ac...  Creatinine   7.3   \n2       Nephritis and nephropathy, not specified as ac...  Creatinine   1.8   \n3       Nephritis and nephropathy, not specified as ac...  Creatinine   1.8   \n4          Family history of malignant neoplasm of kidney         NaN   NaN   \n...                                                   ...         ...   ...   \n589702  Hypertensive heart and chronic kidney disease ...  Creatinine   1.3   \n589703  Hypertensive heart and chronic kidney disease ...  Creatinine   1.3   \n589704  Hypertensive heart and chronic kidney disease ...  Creatinine   1.3   \n589705  Hypertensive heart and chronic kidney disease ...  Creatinine   1.3   \n589706  Hypertensive heart and chronic kidney disease ...         NaN   NaN   \n\n        valuenum valueuom                 drug  \n0            7.3    mg/dL           Amiodarone  \n1            7.3    mg/dL            Bisacodyl  \n2            1.8    mg/dL           Amiodarone  \n3            1.8    mg/dL            Bisacodyl  \n4            NaN      NaN        NIFEdipine CR  \n...          ...      ...                  ...  \n589702       1.3    mg/dL            Vitamin D  \n589703       1.3    mg/dL            Meropenem  \n589704       1.3    mg/dL           PredniSONE  \n589705       1.3    mg/dL  QUEtiapine Fumarate  \n589706       NaN      NaN                  NaN  \n\n[589707 rows x 9 columns]",
      "text/html": "<div>\n<style scoped>\n    .dataframe tbody tr th:only-of-type {\n        vertical-align: middle;\n    }\n\n    .dataframe tbody tr th {\n        vertical-align: top;\n    }\n\n    .dataframe thead th {\n        text-align: right;\n    }\n</style>\n<table border=\"1\" class=\"dataframe\">\n  <thead>\n    <tr style=\"text-align: right;\">\n      <th></th>\n      <th>subject_id</th>\n      <th>hadm_id</th>\n      <th>icd_code</th>\n      <th>long_title</th>\n      <th>label</th>\n      <th>value</th>\n      <th>valuenum</th>\n      <th>valueuom</th>\n      <th>drug</th>\n    </tr>\n  </thead>\n  <tbody>\n    <tr>\n      <th>0</th>\n      <td>10004235</td>\n      <td>24181354</td>\n      <td>58389</td>\n      <td>Nephritis and nephropathy, not specified as ac...</td>\n      <td>Creatinine</td>\n      <td>7.3</td>\n      <td>7.3</td>\n      <td>mg/dL</td>\n      <td>Amiodarone</td>\n    </tr>\n    <tr>\n      <th>1</th>\n      <td>10004235</td>\n      <td>24181354</td>\n      <td>58389</td>\n      <td>Nephritis and nephropathy, not specified as ac...</td>\n      <td>Creatinine</td>\n      <td>7.3</td>\n      <td>7.3</td>\n      <td>mg/dL</td>\n      <td>Bisacodyl</td>\n    </tr>\n    <tr>\n      <th>2</th>\n      <td>10004235</td>\n      <td>24181354</td>\n      <td>58389</td>\n      <td>Nephritis and nephropathy, not specified as ac...</td>\n      <td>Creatinine</td>\n      <td>1.8</td>\n      <td>1.8</td>\n      <td>mg/dL</td>\n      <td>Amiodarone</td>\n    </tr>\n    <tr>\n      <th>3</th>\n      <td>10004235</td>\n      <td>24181354</td>\n      <td>58389</td>\n      <td>Nephritis and nephropathy, not specified as ac...</td>\n      <td>Creatinine</td>\n      <td>1.8</td>\n      <td>1.8</td>\n      <td>mg/dL</td>\n      <td>Bisacodyl</td>\n    </tr>\n    <tr>\n      <th>4</th>\n      <td>10030753</td>\n      <td>26429826</td>\n      <td>V1651</td>\n      <td>Family history of malignant neoplasm of kidney</td>\n      <td>NaN</td>\n      <td>NaN</td>\n      <td>NaN</td>\n      <td>NaN</td>\n      <td>NIFEdipine CR</td>\n    </tr>\n    <tr>\n      <th>...</th>\n      <td>...</td>\n      <td>...</td>\n      <td>...</td>\n      <td>...</td>\n      <td>...</td>\n      <td>...</td>\n      <td>...</td>\n      <td>...</td>\n      <td>...</td>\n    </tr>\n    <tr>\n      <th>589702</th>\n      <td>19312736</td>\n      <td>21311611</td>\n      <td>I130</td>\n      <td>Hypertensive heart and chronic kidney disease ...</td>\n      <td>Creatinine</td>\n      <td>1.3</td>\n      <td>1.3</td>\n      <td>mg/dL</td>\n      <td>Vitamin D</td>\n    </tr>\n    <tr>\n      <th>589703</th>\n      <td>19312736</td>\n      <td>21311611</td>\n      <td>I130</td>\n      <td>Hypertensive heart and chronic kidney disease ...</td>\n      <td>Creatinine</td>\n      <td>1.3</td>\n      <td>1.3</td>\n      <td>mg/dL</td>\n      <td>Meropenem</td>\n    </tr>\n    <tr>\n      <th>589704</th>\n      <td>19312736</td>\n      <td>21311611</td>\n      <td>I130</td>\n      <td>Hypertensive heart and chronic kidney disease ...</td>\n      <td>Creatinine</td>\n      <td>1.3</td>\n      <td>1.3</td>\n      <td>mg/dL</td>\n      <td>PredniSONE</td>\n    </tr>\n    <tr>\n      <th>589705</th>\n      <td>19312736</td>\n      <td>21311611</td>\n      <td>I130</td>\n      <td>Hypertensive heart and chronic kidney disease ...</td>\n      <td>Creatinine</td>\n      <td>1.3</td>\n      <td>1.3</td>\n      <td>mg/dL</td>\n      <td>QUEtiapine Fumarate</td>\n    </tr>\n    <tr>\n      <th>589706</th>\n      <td>11885720</td>\n      <td>27266103</td>\n      <td>I130</td>\n      <td>Hypertensive heart and chronic kidney disease ...</td>\n      <td>NaN</td>\n      <td>NaN</td>\n      <td>NaN</td>\n      <td>NaN</td>\n      <td>NaN</td>\n    </tr>\n  </tbody>\n</table>\n<p>589707 rows × 9 columns</p>\n</div>"
     },
     "execution_count": 10,
     "metadata": {},
     "output_type": "execute_result"
    }
   ],
   "source": [
    "merged_data"
   ],
   "metadata": {
    "collapsed": false,
    "ExecuteTime": {
     "end_time": "2023-10-26T06:18:11.986274100Z",
     "start_time": "2023-10-26T06:18:11.947864200Z"
    }
   },
   "id": "50ad8de52ab2344d"
  },
  {
   "cell_type": "code",
   "execution_count": 11,
   "outputs": [],
   "source": [
    "# merged_data.to_csv('merged_kidney_data.csv', index=False)"
   ],
   "metadata": {
    "collapsed": false,
    "ExecuteTime": {
     "end_time": "2023-10-26T06:18:12.022180900Z",
     "start_time": "2023-10-26T06:18:11.980290200Z"
    }
   },
   "id": "e0f78a2226121482"
  },
  {
   "cell_type": "code",
   "execution_count": 13,
   "outputs": [
    {
     "data": {
      "text/plain": "              f0_\ncount         1.0\nmean   40442822.0\nstd          <NA>\nmin    40442822.0\n25%    40442822.0\n50%    40442822.0\n75%    40442822.0\nmax    40442822.0",
      "text/html": "<div>\n<style scoped>\n    .dataframe tbody tr th:only-of-type {\n        vertical-align: middle;\n    }\n\n    .dataframe tbody tr th {\n        vertical-align: top;\n    }\n\n    .dataframe thead th {\n        text-align: right;\n    }\n</style>\n<table border=\"1\" class=\"dataframe\">\n  <thead>\n    <tr style=\"text-align: right;\">\n      <th></th>\n      <th>f0_</th>\n    </tr>\n  </thead>\n  <tbody>\n    <tr>\n      <th>count</th>\n      <td>1.0</td>\n    </tr>\n    <tr>\n      <th>mean</th>\n      <td>40442822.0</td>\n    </tr>\n    <tr>\n      <th>std</th>\n      <td>&lt;NA&gt;</td>\n    </tr>\n    <tr>\n      <th>min</th>\n      <td>40442822.0</td>\n    </tr>\n    <tr>\n      <th>25%</th>\n      <td>40442822.0</td>\n    </tr>\n    <tr>\n      <th>50%</th>\n      <td>40442822.0</td>\n    </tr>\n    <tr>\n      <th>75%</th>\n      <td>40442822.0</td>\n    </tr>\n    <tr>\n      <th>max</th>\n      <td>40442822.0</td>\n    </tr>\n  </tbody>\n</table>\n</div>"
     },
     "execution_count": 13,
     "metadata": {},
     "output_type": "execute_result"
    }
   ],
   "source": [
    "drug_combinations_query = \"\"\"\n",
    "WITH kidney_patients AS (\n",
    "    SELECT DISTINCT d.subject_id, d.hadm_id\n",
    "    FROM `physionet-data.mimiciv_hosp.diagnoses_icd` d\n",
    "    JOIN `physionet-data.mimiciv_hosp.d_icd_diagnoses` i ON d.icd_code = i.icd_code\n",
    "    WHERE i.long_title LIKE '%kidney%'\n",
    "),\n",
    "\n",
    "drugs_within_same_hour AS (\n",
    "    SELECT \n",
    "        p1.subject_id,\n",
    "        p1.hadm_id,\n",
    "        p1.drug AS drug_a,\n",
    "        p2.drug AS drug_b,\n",
    "        p1.starttime AS starttime_a,\n",
    "        p2.starttime AS starttime_b,\n",
    "        COUNT(*) OVER (PARTITION BY p1.subject_id, p1.hadm_id, p1.drug, p2.drug) AS event_count\n",
    "    FROM `physionet-data.mimiciv_hosp.prescriptions` p1\n",
    "    JOIN `physionet-data.mimiciv_hosp.prescriptions` p2 \n",
    "        ON p1.subject_id = p2.subject_id AND p1.hadm_id = p2.hadm_id\n",
    "    WHERE p1.drug <> p2.drug \n",
    "        AND ABS(TIMESTAMP_DIFF(p1.starttime, p2.starttime, MINUTE)) <= 60\n",
    "        AND p1.subject_id IN (SELECT subject_id FROM kidney_patients)\n",
    "        AND p1.hadm_id IN (SELECT hadm_id FROM kidney_patients)\n",
    ")\n",
    "\n",
    "SELECT count(*) FROM drugs_within_same_hour\n",
    "--LIMIT 100000\n",
    "\"\"\"\n",
    "\n",
    "drugs_combinations_results = big_query.query(drug_combinations_query).result().to_dataframe()\n",
    "\n",
    "drugs_combinations_results.describe()\n"
   ],
   "metadata": {
    "collapsed": false,
    "ExecuteTime": {
     "end_time": "2023-10-26T06:21:15.685331300Z",
     "start_time": "2023-10-26T06:21:01.694162400Z"
    }
   },
   "id": "49090d80c69c1fea"
  },
  {
   "cell_type": "code",
   "execution_count": null,
   "outputs": [],
   "source": [
    "drugs_combinations_results"
   ],
   "metadata": {
    "collapsed": false
   },
   "id": "e55669c32dea9e96"
  }
 ],
 "metadata": {
  "kernelspec": {
   "display_name": "Python 3",
   "language": "python",
   "name": "python3"
  },
  "language_info": {
   "codemirror_mode": {
    "name": "ipython",
    "version": 2
   },
   "file_extension": ".py",
   "mimetype": "text/x-python",
   "name": "python",
   "nbconvert_exporter": "python",
   "pygments_lexer": "ipython2",
   "version": "2.7.6"
  }
 },
 "nbformat": 4,
 "nbformat_minor": 5
}
