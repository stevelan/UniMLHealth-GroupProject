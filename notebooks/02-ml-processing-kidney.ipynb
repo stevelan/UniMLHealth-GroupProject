{
 "cells": [
  {
   "cell_type": "markdown",
   "source": [
    "## Kidney-related laboratory data after receiving the second dose of medication"
   ],
   "metadata": {
    "collapsed": false
   },
   "id": "88b6ded5c699e41e"
  },
  {
   "cell_type": "code",
   "execution_count": null,
   "outputs": [],
   "source": [
    "import root_config as rc\n",
    "\n",
    "rc.configure()\n",
    "\n",
    "from detectdd.auth_bigquery import BigQueryClient\n",
    "from detectdd.serializer import Serializer\n",
    "\n",
    "try:\n",
    "    cohort = Serializer().read_cohort()  # need to run 01-cohort.ipynb to produce the cohort\n",
    "except FileNotFoundError:\n",
    "    raise Exception(\"Need to run [01-cohort.ipynb] at least once to create the cohort file in the /out directory\")\n",
    "\n",
    "\n",
    "big_query = BigQueryClient.auth()\n",
    "\n",
    "cohort.describe()"
   ],
   "metadata": {
    "collapsed": false
   },
   "id": "4c615b4c8f6fb495"
  },
  {
   "cell_type": "code",
   "execution_count": null,
   "outputs": [],
   "source": [
    "icu = 'physionet-data.mimiciv_icu'"
   ],
   "metadata": {
    "collapsed": false
   },
   "id": "79bf6317db5da2ca"
  },
  {
   "cell_type": "code",
   "execution_count": null,
   "outputs": [],
   "source": [
    "def fetch_itemids():\n",
    "    query_template = \"\"\"\n",
    "    SELECT itemid, label\n",
    "    FROM `physionet-data.mimiciv_hosp.d_labitems`\n",
    "    WHERE LOWER(label) LIKE '%{keyword}%'\n",
    "    \"\"\"\n",
    "    keywords = [\"creatinine\", \"bun\", \"uric acid\"]\n",
    "    item_ids = {}\n",
    "\n",
    "    for keyword in keywords:\n",
    "        query = query_template.format(keyword=keyword)\n",
    "        result = big_query.query(query).result().to_dataframe()\n",
    "        item_ids[keyword] = result['itemid'].tolist()\n",
    "\n",
    "    return item_ids\n",
    "\n",
    "item_ids = fetch_itemids()\n",
    "item_ids\n",
    "\n"
   ],
   "metadata": {
    "collapsed": false
   },
   "id": "5e2444197b1037db"
  },
  {
   "cell_type": "code",
   "execution_count": null,
   "outputs": [],
   "source": [
    "# 'creatinine': [52024,] 'bun': [51842],'uric acid': [51007]"
   ],
   "metadata": {
    "collapsed": false
   },
   "id": "fafa613c76345ccc"
  },
  {
   "cell_type": "code",
   "execution_count": null,
   "outputs": [],
   "source": [
    "def chartevents_query():\n",
    "    query = f\"\"\"\n",
    "    SELECT subject_id, hadm_id, itemid, charttime, valuenum, valueuom\n",
    "    FROM `physionet-data.mimiciv_hosp.labevents`\n",
    "    WHERE itemid = 52024\n",
    "    LIMIT 10\n",
    "    \"\"\"\n",
    "    result = big_query.query(query).result().to_dataframe()\n",
    "    return result\n",
    "\n",
    "sample_records = chartevents_query()\n",
    "print(sample_records)\n"
   ],
   "metadata": {
    "collapsed": false
   },
   "id": "648f898313ddfd58"
  },
  {
   "cell_type": "code",
   "execution_count": null,
   "outputs": [],
   "source": [
    "from detectdd.query_multiplexer import QueryMultiplexer, WhereClauseGenerator\n",
    "from detectdd import config\n",
    "\n",
    "def fetch_kidney_function_data():\n",
    "    item_ids = {\n",
    "        'creatinine': [52024],\n",
    "        'bun': [51842],\n",
    "        'uric acid': [51007]\n",
    "    }\n",
    "    \n",
    "    sql_template = f\"\"\"\n",
    "    SELECT le.subject_id AS subject_id,\n",
    "            le.hadm_id AS hadm_id,\n",
    "            le.itemid AS item_id,\n",
    "            le.charttime AS chart_time,\n",
    "            le.valuenum AS lab_value,\n",
    "            le.valueuom AS unit\n",
    "    FROM `physionet-data.mimiciv_hosp.labevents` AS le\n",
    "    WHERE le.itemid IN {tuple(item_ids['creatinine'] + item_ids['bun'] + item_ids['uric acid'])}\n",
    "    AND ($where)\n",
    "    \"\"\"\n",
    "    \n",
    "    where_fragment = \"(le.subject_id= $subject_id AND DATETIME_DIFF(le.charttime, '$dose_b_time', HOUR) BETWEEN 0 AND 12)\"\n",
    "\n",
    "    multimap_data = {k: v.tolist() for k, v in cohort.groupby('subject_id')['dose_b_time']}\n",
    "    \n",
    "    query_multiplexer = QueryMultiplexer(BigQueryClient().auth())\n",
    "\n",
    "    results = query_multiplexer.multiplex_query(sql_template, multi_map_data=multimap_data, where_clause=WhereClauseGenerator(where_fragment, \"subject_id\", \"dose_b_time\"))\n",
    "    \n",
    "    return results\n",
    "\n",
    "kidney_function_results = fetch_kidney_function_data()\n",
    "kidney_function_results\n"
   ],
   "metadata": {
    "collapsed": false
   },
   "id": "f1e11c8ea6498224"
  }
 ],
 "metadata": {
  "kernelspec": {
   "display_name": "Python 3",
   "language": "python",
   "name": "python3"
  },
  "language_info": {
   "codemirror_mode": {
    "name": "ipython",
    "version": 2
   },
   "file_extension": ".py",
   "mimetype": "text/x-python",
   "name": "python",
   "nbconvert_exporter": "python",
   "pygments_lexer": "ipython2",
   "version": "2.7.6"
  }
 },
 "nbformat": 4,
 "nbformat_minor": 5
}
