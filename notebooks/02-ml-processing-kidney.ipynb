{
 "cells": [
  {
   "cell_type": "code",
   "execution_count": null,
   "id": "initial_id",
   "metadata": {
    "collapsed": true
   },
   "outputs": [],
   "source": [
    "import root_config as rc\n",
    "\n",
    "rc.configure()\n",
    "\n",
    "from detectdd.auth_bigquery import BigQueryClient\n",
    "from detectdd.serializer import Serializer\n",
    "\n",
    "try:\n",
    "    cohort = Serializer().read_cohort()  # need to run 01-cohort.ipynb to produce the cohort\n",
    "except FileNotFoundError:\n",
    "    raise Exception(\"Need to run [01-cohort.ipynb] at least once to create the cohort file in the /out directory\")\n",
    "\n",
    "\n",
    "big_query = BigQueryClient.auth()\n",
    "\n",
    "cohort.describe()\n"
   ]
  },
  {
   "cell_type": "markdown",
   "source": [
    "## kidney diagnoses"
   ],
   "metadata": {
    "collapsed": false
   },
   "id": "2b17040148284aaa"
  },
  {
   "cell_type": "code",
   "execution_count": null,
   "outputs": [],
   "source": [
    "kidney_diagnoses_query = \"\"\"\n",
    "SELECT d.subject_id, d.hadm_id, d.icd_code, i.long_title\n",
    "FROM `physionet-data.mimiciv_hosp.diagnoses_icd` d\n",
    "JOIN `physionet-data.mimiciv_hosp.d_icd_diagnoses` i ON d.icd_code = i.icd_code\n",
    "WHERE i.long_title LIKE '%kidney%'\n",
    "\"\"\"\n",
    "\n",
    "kidney_diagnoses_results = big_query.query(kidney_diagnoses_query).result().to_dataframe()\n"
   ],
   "metadata": {
    "collapsed": false
   },
   "id": "cdb18cb9cd91e6b1"
  },
  {
   "cell_type": "code",
   "execution_count": null,
   "outputs": [],
   "source": [
    "kidney_diagnoses_results"
   ],
   "metadata": {
    "collapsed": false
   },
   "id": "e0b8ec339217a440"
  },
  {
   "cell_type": "markdown",
   "source": [
    "## kidney prescriptions"
   ],
   "metadata": {
    "collapsed": false
   },
   "id": "ac8872e7cb0b7735"
  },
  {
   "cell_type": "code",
   "execution_count": null,
   "outputs": [],
   "source": [
    "kidney_prescriptions_query = \"\"\"\n",
    "WITH kidney_patients AS (\n",
    "    SELECT DISTINCT d.subject_id, d.hadm_id\n",
    "    FROM `physionet-data.mimiciv_hosp.diagnoses_icd` d\n",
    "    JOIN `physionet-data.mimiciv_hosp.d_icd_diagnoses` i ON d.icd_code = i.icd_code\n",
    "    WHERE i.long_title LIKE '%kidney%'\n",
    "    LIMIT 100000\n",
    ")\n",
    "\n",
    "SELECT p.subject_id, p.hadm_id, p.drug\n",
    "FROM `physionet-data.mimiciv_hosp.prescriptions` p\n",
    "JOIN kidney_patients kp ON p.subject_id = kp.subject_id AND p.hadm_id = kp.hadm_id\n",
    "LIMIT 100000\n",
    "\"\"\"\n",
    "\n",
    "kidney_prescriptions_results = big_query.query(kidney_prescriptions_query).result().to_dataframe()\n"
   ],
   "metadata": {
    "collapsed": false
   },
   "id": "320a54414dce258e"
  },
  {
   "cell_type": "code",
   "execution_count": null,
   "outputs": [],
   "source": [
    "kidney_prescriptions_results"
   ],
   "metadata": {
    "collapsed": false
   },
   "id": "57ce0c25f24e8a2a"
  },
  {
   "cell_type": "markdown",
   "source": [
    "## kidney lab"
   ],
   "metadata": {
    "collapsed": false
   },
   "id": "99e6f226b78d9ae"
  },
  {
   "cell_type": "code",
   "execution_count": null,
   "outputs": [],
   "source": [
    "kidney_lab_query = \"\"\"\n",
    "WITH kidney_patients AS (\n",
    "    SELECT DISTINCT d.subject_id, d.hadm_id\n",
    "    FROM `physionet-data.mimiciv_hosp.diagnoses_icd` d\n",
    "    JOIN `physionet-data.mimiciv_hosp.d_icd_diagnoses` i ON d.icd_code = i.icd_code\n",
    "    WHERE i.long_title LIKE '%kidney%'\n",
    "    LIMIT 100000\n",
    ")\n",
    "\n",
    "SELECT l.subject_id, l.hadm_id, i.label, l.value, l.valuenum, l.valueuom\n",
    "FROM `physionet-data.mimiciv_hosp.labevents` l\n",
    "JOIN `physionet-data.mimiciv_hosp.d_labitems` i ON l.itemid = i.itemid\n",
    "WHERE i.label IN ('Creatinine', 'BUN') \n",
    "AND l.subject_id IN (SELECT subject_id FROM kidney_patients)\n",
    "AND l.hadm_id IN (SELECT hadm_id FROM kidney_patients)\n",
    "LIMIT 100000\n",
    "\"\"\"\n",
    "\n",
    "kidney_lab_results = big_query.query(kidney_lab_query).result().to_dataframe()\n"
   ],
   "metadata": {
    "collapsed": false
   },
   "id": "909dbfc303f2321"
  },
  {
   "cell_type": "code",
   "execution_count": null,
   "outputs": [],
   "source": [
    "kidney_lab_results"
   ],
   "metadata": {
    "collapsed": false
   },
   "id": "77b8e6a1cea05630"
  },
  {
   "cell_type": "code",
   "execution_count": null,
   "outputs": [],
   "source": [
    "merged_data = kidney_diagnoses_results.merge(kidney_lab_results, on=['subject_id', 'hadm_id'], how='left').merge(kidney_prescriptions_results, on=['subject_id', 'hadm_id'], how='left')"
   ],
   "metadata": {
    "collapsed": false
   },
   "id": "b17624d23907d1af"
  },
  {
   "cell_type": "code",
   "execution_count": null,
   "outputs": [],
   "source": [
    "merged_data"
   ],
   "metadata": {
    "collapsed": false
   },
   "id": "50ad8de52ab2344d"
  },
  {
   "cell_type": "code",
   "execution_count": null,
   "outputs": [],
   "source": [
    "# merged_data.to_csv('merged_kidney_data.csv', index=False)"
   ],
   "metadata": {
    "collapsed": false
   },
   "id": "e0f78a2226121482"
  },
  {
   "cell_type": "code",
   "execution_count": null,
   "outputs": [],
   "source": [
    "drug_combinations_query = \"\"\"\n",
    "WITH kidney_patients AS (\n",
    "    SELECT DISTINCT d.subject_id, d.hadm_id\n",
    "    FROM `physionet-data.mimiciv_hosp.diagnoses_icd` d\n",
    "    JOIN `physionet-data.mimiciv_hosp.d_icd_diagnoses` i ON d.icd_code = i.icd_code\n",
    "    WHERE i.long_title LIKE '%kidney%'\n",
    "),\n",
    "\n",
    "drugs_within_same_hour AS (\n",
    "    SELECT \n",
    "        p1.subject_id,\n",
    "        p1.hadm_id,\n",
    "        p1.drug AS drug_a,\n",
    "        p2.drug AS drug_b,\n",
    "        p1.starttime AS starttime_a,\n",
    "        p2.starttime AS starttime_b,\n",
    "        COUNT(*) OVER (PARTITION BY p1.subject_id, p1.hadm_id, p1.drug, p2.drug) AS event_count\n",
    "    FROM `physionet-data.mimiciv_hosp.prescriptions` p1\n",
    "    JOIN `physionet-data.mimiciv_hosp.prescriptions` p2 \n",
    "        ON p1.subject_id = p2.subject_id AND p1.hadm_id = p2.hadm_id\n",
    "    WHERE p1.drug <> p2.drug \n",
    "        AND ABS(TIMESTAMP_DIFF(p1.starttime, p2.starttime, MINUTE)) <= 60\n",
    "        AND p1.subject_id IN (SELECT subject_id FROM kidney_patients)\n",
    "        AND p1.hadm_id IN (SELECT hadm_id FROM kidney_patients)\n",
    ")\n",
    "\n",
    "SELECT * FROM drugs_within_same_hour\n",
    "LIMIT 100000\n",
    "\"\"\"\n",
    "\n",
    "drugs_combinations_results = big_query.query(drug_combinations_query).result().to_dataframe()\n",
    "\n",
    "drugs_combinations_results.describe()\n"
   ],
   "metadata": {
    "collapsed": false
   },
   "id": "49090d80c69c1fea"
  },
  {
   "cell_type": "code",
   "execution_count": null,
   "outputs": [],
   "source": [
    "drugs_combinations_results"
   ],
   "metadata": {
    "collapsed": false
   },
   "id": "e55669c32dea9e96"
  }
 ],
 "metadata": {
  "kernelspec": {
   "display_name": "Python 3",
   "language": "python",
   "name": "python3"
  },
  "language_info": {
   "codemirror_mode": {
    "name": "ipython",
    "version": 2
   },
   "file_extension": ".py",
   "mimetype": "text/x-python",
   "name": "python",
   "nbconvert_exporter": "python",
   "pygments_lexer": "ipython2",
   "version": "2.7.6"
  }
 },
 "nbformat": 4,
 "nbformat_minor": 5
}
