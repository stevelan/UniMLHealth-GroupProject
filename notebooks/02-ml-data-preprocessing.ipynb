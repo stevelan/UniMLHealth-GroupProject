{
 "cells": [
  {
   "cell_type": "markdown",
   "source": [
    "### ML Data pre-processing\n",
    "This notebook is for loading and cleaning the data that will be used to train the ML on.\n",
    "Things like patient heart rate and blood pressure readings that occurred around the time of the administration of the second dose \n",
    "\n",
    "It should persist the data into the \"out\" directory to be consumed by the ml training notebook"
   ],
   "metadata": {
    "collapsed": false
   },
   "id": "2f8191d46f8661e5"
  },
  {
   "cell_type": "code",
   "execution_count": 1,
   "outputs": [
    {
     "name": "stdout",
     "output_type": "stream",
     "text": [
      "Loaded cohort from ..\\out\\cohort-full.out\n",
      "<google.oauth2.credentials.Credentials object at 0x00000173CA0A60B0> assignment-1-395912\n"
     ]
    },
    {
     "data": {
      "text/plain": "            subject_id          stay_id  drug_a_item_id  drug_b_item_id  \\\ncount          65814.0          65814.0         65814.0         65814.0   \nmean   14861841.983545  34935152.596742   225337.914061   223402.287659   \nmin         10002428.0       30000484.0        221347.0        221289.0   \n25%        12350214.75       32259031.0        225855.0        221744.0   \n50%         14767018.0       34928659.0        225869.0        221744.0   \n75%         17362900.0       37550329.0        225892.0        225798.0   \nmax         19999840.0       39999230.0        229618.0        229233.0   \nstd     2903605.512713   2950984.617329     1422.498681     2057.698826   \n\n                      dose_b_time  event_count  \ncount                       65814      65814.0  \nmean   2154-08-20 12:07:36.738081     7.232534  \nmin           2110-01-19 21:15:00          1.0  \n25%           2134-03-24 07:48:00          1.0  \n50%           2155-03-14 18:23:00          3.0  \n75%           2174-09-03 21:18:00          8.0  \nmax           2209-05-31 15:15:00        304.0  \nstd                           NaN    16.848738  ",
      "text/html": "<div>\n<style scoped>\n    .dataframe tbody tr th:only-of-type {\n        vertical-align: middle;\n    }\n\n    .dataframe tbody tr th {\n        vertical-align: top;\n    }\n\n    .dataframe thead th {\n        text-align: right;\n    }\n</style>\n<table border=\"1\" class=\"dataframe\">\n  <thead>\n    <tr style=\"text-align: right;\">\n      <th></th>\n      <th>subject_id</th>\n      <th>stay_id</th>\n      <th>drug_a_item_id</th>\n      <th>drug_b_item_id</th>\n      <th>dose_b_time</th>\n      <th>event_count</th>\n    </tr>\n  </thead>\n  <tbody>\n    <tr>\n      <th>count</th>\n      <td>65814.0</td>\n      <td>65814.0</td>\n      <td>65814.0</td>\n      <td>65814.0</td>\n      <td>65814</td>\n      <td>65814.0</td>\n    </tr>\n    <tr>\n      <th>mean</th>\n      <td>14861841.983545</td>\n      <td>34935152.596742</td>\n      <td>225337.914061</td>\n      <td>223402.287659</td>\n      <td>2154-08-20 12:07:36.738081</td>\n      <td>7.232534</td>\n    </tr>\n    <tr>\n      <th>min</th>\n      <td>10002428.0</td>\n      <td>30000484.0</td>\n      <td>221347.0</td>\n      <td>221289.0</td>\n      <td>2110-01-19 21:15:00</td>\n      <td>1.0</td>\n    </tr>\n    <tr>\n      <th>25%</th>\n      <td>12350214.75</td>\n      <td>32259031.0</td>\n      <td>225855.0</td>\n      <td>221744.0</td>\n      <td>2134-03-24 07:48:00</td>\n      <td>1.0</td>\n    </tr>\n    <tr>\n      <th>50%</th>\n      <td>14767018.0</td>\n      <td>34928659.0</td>\n      <td>225869.0</td>\n      <td>221744.0</td>\n      <td>2155-03-14 18:23:00</td>\n      <td>3.0</td>\n    </tr>\n    <tr>\n      <th>75%</th>\n      <td>17362900.0</td>\n      <td>37550329.0</td>\n      <td>225892.0</td>\n      <td>225798.0</td>\n      <td>2174-09-03 21:18:00</td>\n      <td>8.0</td>\n    </tr>\n    <tr>\n      <th>max</th>\n      <td>19999840.0</td>\n      <td>39999230.0</td>\n      <td>229618.0</td>\n      <td>229233.0</td>\n      <td>2209-05-31 15:15:00</td>\n      <td>304.0</td>\n    </tr>\n    <tr>\n      <th>std</th>\n      <td>2903605.512713</td>\n      <td>2950984.617329</td>\n      <td>1422.498681</td>\n      <td>2057.698826</td>\n      <td>NaN</td>\n      <td>16.848738</td>\n    </tr>\n  </tbody>\n</table>\n</div>"
     },
     "execution_count": 1,
     "metadata": {},
     "output_type": "execute_result"
    }
   ],
   "source": [
    "import root_config as rc\n",
    "\n",
    "rc.configure()\n",
    "\n",
    "from detectdd.auth_bigquery import BigQueryClient\n",
    "from detectdd.serializer import Serializer\n",
    "\n",
    "try:\n",
    "    cohort = Serializer().read_cohort()  # need to run 01-cohort.ipynb to produce the cohort\n",
    "except FileNotFoundError:\n",
    "    raise Exception(\"Need to run [01-cohort.ipynb] at least once to create the cohort file in the /out directory\")\n",
    "\n",
    "\n",
    "big_query = BigQueryClient.auth()\n",
    "\n",
    "cohort.describe()"
   ],
   "metadata": {
    "collapsed": false,
    "ExecuteTime": {
     "end_time": "2023-10-23T08:57:09.205282200Z",
     "start_time": "2023-10-23T08:57:02.702778900Z"
    }
   },
   "id": "initial_id"
  },
  {
   "cell_type": "code",
   "execution_count": 2,
   "outputs": [
    {
     "name": "stdout",
     "output_type": "stream",
     "text": [
      "<google.oauth2.credentials.Credentials object at 0x00000173CA144970> assignment-1-395912\n",
      "Executing query 1, with 6664 pairs at 2023-10-23 19:57:10.811912\n",
      "Got result with 99653 values\n",
      "Executing query 2, with 5050 pairs at 2023-10-23 20:06:13.397627\n",
      "Got result with 76379 values\n",
      "Executing query 3, with 4039 pairs at 2023-10-23 20:12:59.855405\n",
      "Got result with 61486 values\n",
      "Executing query 4, with 3349 pairs at 2023-10-23 20:16:40.547709\n",
      "Got result with 51480 values\n",
      "Executing query 5, with 2847 pairs at 2023-10-23 20:19:36.499385\n",
      "Got result with 43810 values\n",
      "Executing query 6, with 2469 pairs at 2023-10-23 20:21:47.183168\n",
      "Got result with 37974 values\n",
      "Executing query 7, with 2186 pairs at 2023-10-23 20:23:14.149528\n",
      "Got result with 33779 values\n",
      "Executing query 8, with 1917 pairs at 2023-10-23 20:24:11.329104\n",
      "Got result with 29692 values\n",
      "Executing query 9, with 1717 pairs at 2023-10-23 20:24:58.985416\n",
      "Got result with 27052 values\n",
      "Executing query 10, with 1566 pairs at 2023-10-23 20:25:49.878316\n",
      "Got result with 24668 values\n",
      "Executing query 11, with 1451 pairs at 2023-10-23 20:26:28.676094\n",
      "Got result with 22538 values\n",
      "Executing query 12, with 1318 pairs at 2023-10-23 20:26:58.670698\n",
      "Got result with 20969 values\n",
      "Executing query 13, with 1201 pairs at 2023-10-23 20:27:25.982454\n",
      "Got result with 18526 values\n",
      "Executing query 14, with 1105 pairs at 2023-10-23 20:27:52.250815\n",
      "Got result with 17310 values\n",
      "Executing query 15, with 1024 pairs at 2023-10-23 20:28:14.748143\n",
      "Got result with 16232 values\n",
      "Executing query 16, with 959 pairs at 2023-10-23 20:28:36.789792\n",
      "Got result with 15051 values\n",
      "Executing query 17, with 909 pairs at 2023-10-23 20:28:54.788830\n",
      "Got result with 14287 values\n",
      "Executing query 18, with 844 pairs at 2023-10-23 20:29:11.173335\n",
      "Got result with 13191 values\n",
      "Executing query 19, with 799 pairs at 2023-10-23 20:29:28.399571\n",
      "Got result with 12897 values\n",
      "Executing query 20, with 759 pairs at 2023-10-23 20:29:42.239223\n",
      "Got result with 11897 values\n",
      "Executing query 21, with 718 pairs at 2023-10-23 20:29:56.734329\n",
      "Got result with 11702 values\n",
      "Executing query 22, with 682 pairs at 2023-10-23 20:30:10.605940\n",
      "Got result with 10662 values\n",
      "Executing query 23, with 645 pairs at 2023-10-23 20:30:23.178172\n",
      "Got result with 10460 values\n",
      "Executing query 24, with 611 pairs at 2023-10-23 20:30:35.139082\n",
      "Got result with 9705 values\n",
      "Executing query 25, with 585 pairs at 2023-10-23 20:30:46.779208\n",
      "Got result with 9257 values\n",
      "Executing query 26, with 561 pairs at 2023-10-23 20:30:57.038596\n",
      "Got result with 9034 values\n",
      "Executing query 27, with 538 pairs at 2023-10-23 20:31:07.787694\n",
      "Got result with 8524 values\n",
      "Executing query 28, with 510 pairs at 2023-10-23 20:31:14.905037\n",
      "Got result with 8099 values\n",
      "Executing query 29, with 490 pairs at 2023-10-23 20:31:21.784911\n",
      "Got result with 7760 values\n",
      "Executing query 30, with 471 pairs at 2023-10-23 20:31:28.005798\n",
      "Got result with 7430 values\n",
      "Executing query 31, with 456 pairs at 2023-10-23 20:31:34.017541\n",
      "Got result with 7326 values\n",
      "Executing query 32, with 437 pairs at 2023-10-23 20:31:39.980500\n",
      "Got result with 7124 values\n",
      "Executing query 33, with 429 pairs at 2023-10-23 20:31:45.467346\n",
      "Got result with 6837 values\n",
      "Executing query 34, with 416 pairs at 2023-10-23 20:31:51.483316\n",
      "Got result with 6781 values\n",
      "Executing query 35, with 403 pairs at 2023-10-23 20:31:57.058195\n",
      "Got result with 6473 values\n",
      "Executing query 36, with 389 pairs at 2023-10-23 20:32:02.147008\n",
      "Got result with 6186 values\n",
      "Executing query 37, with 378 pairs at 2023-10-23 20:32:08.116190\n",
      "Got result with 5997 values\n",
      "Executing query 38, with 361 pairs at 2023-10-23 20:32:12.909817\n",
      "Got result with 5736 values\n",
      "Executing query 39, with 350 pairs at 2023-10-23 20:32:18.128631\n",
      "Got result with 5548 values\n",
      "Executing query 40, with 337 pairs at 2023-10-23 20:32:23.126139\n",
      "Got result with 5365 values\n",
      "Executing query 41, with 332 pairs at 2023-10-23 20:32:27.912335\n",
      "Got result with 5288 values\n",
      "Executing query 42, with 320 pairs at 2023-10-23 20:32:32.523903\n",
      "Got result with 5036 values\n",
      "Executing query 43, with 307 pairs at 2023-10-23 20:32:37.234301\n",
      "Got result with 4784 values\n",
      "Executing query 44, with 300 pairs at 2023-10-23 20:32:41.587740\n",
      "Got result with 4687 values\n",
      "Executing query 45, with 294 pairs at 2023-10-23 20:32:46.151778\n",
      "Got result with 4812 values\n",
      "Executing query 46, with 288 pairs at 2023-10-23 20:32:50.502571\n",
      "Got result with 4515 values\n",
      "Executing query 47, with 274 pairs at 2023-10-23 20:32:54.567581\n",
      "Got result with 4482 values\n",
      "Executing query 48, with 269 pairs at 2023-10-23 20:32:58.485710\n",
      "Got result with 4367 values\n",
      "Executing query 49, with 263 pairs at 2023-10-23 20:33:02.505906\n",
      "Got result with 4127 values\n",
      "Executing query 50, with 253 pairs at 2023-10-23 20:33:06.204908\n",
      "Got result with 4062 values\n",
      "Executing query 51, with 247 pairs at 2023-10-23 20:33:10.061378\n",
      "Got result with 3789 values\n",
      "Executing query 52, with 241 pairs at 2023-10-23 20:33:13.500312\n",
      "Got result with 3847 values\n",
      "Executing query 53, with 236 pairs at 2023-10-23 20:33:17.347612\n",
      "Got result with 3703 values\n",
      "Executing query 54, with 230 pairs at 2023-10-23 20:33:20.952763\n",
      "Got result with 3548 values\n",
      "Executing query 55, with 220 pairs at 2023-10-23 20:33:24.621044\n",
      "Got result with 3399 values\n",
      "Executing query 56, with 215 pairs at 2023-10-23 20:33:28.055969\n",
      "Got result with 3394 values\n",
      "Executing query 57, with 207 pairs at 2023-10-23 20:33:31.401068\n",
      "Got result with 3219 values\n",
      "Executing query 58, with 202 pairs at 2023-10-23 20:33:34.922688\n",
      "Got result with 3161 values\n",
      "Executing query 59, with 198 pairs at 2023-10-23 20:33:38.580978\n",
      "Got result with 3117 values\n",
      "Executing query 60, with 190 pairs at 2023-10-23 20:33:41.982210\n",
      "Got result with 2947 values\n",
      "Executing query 61, with 186 pairs at 2023-10-23 20:33:45.335007\n",
      "Got result with 2856 values\n",
      "Executing query 62, with 181 pairs at 2023-10-23 20:33:48.576935\n",
      "Got result with 2741 values\n",
      "Executing query 63, with 175 pairs at 2023-10-23 20:33:51.647851\n",
      "Got result with 2759 values\n",
      "Executing query 64, with 170 pairs at 2023-10-23 20:33:54.918874\n",
      "Got result with 2507 values\n",
      "Executing query 65, with 163 pairs at 2023-10-23 20:33:57.909509\n",
      "Got result with 2503 values\n",
      "Executing query 66, with 162 pairs at 2023-10-23 20:34:00.860767\n",
      "Got result with 2543 values\n",
      "Executing query 67, with 157 pairs at 2023-10-23 20:34:04.007152\n",
      "Got result with 2456 values\n",
      "Executing query 68, with 156 pairs at 2023-10-23 20:34:06.933819\n",
      "Got result with 2461 values\n",
      "Executing query 69, with 155 pairs at 2023-10-23 20:34:10.185063\n",
      "Got result with 2558 values\n",
      "Executing query 70, with 148 pairs at 2023-10-23 20:34:13.283613\n",
      "Got result with 2405 values\n",
      "Executing query 71, with 144 pairs at 2023-10-23 20:34:16.239544\n",
      "Got result with 2315 values\n",
      "Executing query 72, with 140 pairs at 2023-10-23 20:34:19.117302\n",
      "Got result with 2207 values\n",
      "Executing query 73, with 139 pairs at 2023-10-23 20:34:21.941856\n",
      "Got result with 2161 values\n",
      "Executing query 74, with 137 pairs at 2023-10-23 20:34:25.084278\n",
      "Got result with 2122 values\n",
      "Executing query 75, with 133 pairs at 2023-10-23 20:34:28.242610\n",
      "Got result with 2105 values\n",
      "Executing query 76, with 131 pairs at 2023-10-23 20:34:31.087176\n",
      "Got result with 2014 values\n",
      "Executing query 77, with 129 pairs at 2023-10-23 20:34:34.052961\n",
      "Got result with 2046 values\n",
      "Executing query 78, with 122 pairs at 2023-10-23 20:34:37.022474\n",
      "Got result with 1891 values\n",
      "Executing query 79, with 118 pairs at 2023-10-23 20:34:39.857735\n",
      "Got result with 1864 values\n",
      "Executing query 80, with 117 pairs at 2023-10-23 20:34:42.775391\n",
      "Got result with 1813 values\n",
      "Executing query 81, with 114 pairs at 2023-10-23 20:34:45.629657\n",
      "Got result with 1762 values\n",
      "Executing query 82, with 114 pairs at 2023-10-23 20:34:48.690406\n"
     ]
    },
    {
     "ename": "Forbidden",
     "evalue": "403 Quota exceeded: Your project exceeded quota for free query bytes scanned. For more information, see https://cloud.google.com/bigquery/docs/troubleshoot-quotas\n\nLocation: US\nJob ID: 8df57abf-c648-4365-bc53-29368367a69f\n",
     "output_type": "error",
     "traceback": [
      "\u001B[1;31m---------------------------------------------------------------------------\u001B[0m",
      "\u001B[1;31mForbidden\u001B[0m                                 Traceback (most recent call last)",
      "Cell \u001B[1;32mIn[2], line 32\u001B[0m\n\u001B[0;32m     29\u001B[0m     results \u001B[38;5;241m=\u001B[39m query_multiplexer\u001B[38;5;241m.\u001B[39mmultiplex_query(sql_template, multi_map_data\u001B[38;5;241m=\u001B[39mmultimap_data, where_clause\u001B[38;5;241m=\u001B[39mWhereClauseGenerator(where_fragment, \u001B[38;5;124m\"\u001B[39m\u001B[38;5;124mstay_id\u001B[39m\u001B[38;5;124m\"\u001B[39m, \u001B[38;5;124m\"\u001B[39m\u001B[38;5;124mdose_b_time\u001B[39m\u001B[38;5;124m\"\u001B[39m))\n\u001B[0;32m     30\u001B[0m     \u001B[38;5;28;01mreturn\u001B[39;00m results\n\u001B[1;32m---> 32\u001B[0m results \u001B[38;5;241m=\u001B[39m \u001B[43mfetch_blood_pressure_data\u001B[49m\u001B[43m(\u001B[49m\u001B[43m)\u001B[49m\n\u001B[0;32m     33\u001B[0m results\n",
      "Cell \u001B[1;32mIn[2], line 29\u001B[0m, in \u001B[0;36mfetch_blood_pressure_data\u001B[1;34m()\u001B[0m\n\u001B[0;32m     26\u001B[0m where_fragment \u001B[38;5;241m=\u001B[39m \u001B[38;5;124m\"\u001B[39m\u001B[38;5;124m(ce.stay_id= $stay_id AND DATETIME_DIFF(ce.charttime, \u001B[39m\u001B[38;5;124m'\u001B[39m\u001B[38;5;124m$dose_b_time\u001B[39m\u001B[38;5;124m'\u001B[39m\u001B[38;5;124m, HOUR) BETWEEN 0 AND 12)\u001B[39m\u001B[38;5;124m\"\u001B[39m\n\u001B[0;32m     28\u001B[0m multimap_data \u001B[38;5;241m=\u001B[39m {k: v\u001B[38;5;241m.\u001B[39mtolist() \u001B[38;5;28;01mfor\u001B[39;00m k, v \u001B[38;5;129;01min\u001B[39;00m cohort\u001B[38;5;241m.\u001B[39mgroupby(\u001B[38;5;124m'\u001B[39m\u001B[38;5;124mstay_id\u001B[39m\u001B[38;5;124m'\u001B[39m)[\u001B[38;5;124m'\u001B[39m\u001B[38;5;124mdose_b_time\u001B[39m\u001B[38;5;124m'\u001B[39m]}\n\u001B[1;32m---> 29\u001B[0m results \u001B[38;5;241m=\u001B[39m \u001B[43mquery_multiplexer\u001B[49m\u001B[38;5;241;43m.\u001B[39;49m\u001B[43mmultiplex_query\u001B[49m\u001B[43m(\u001B[49m\u001B[43msql_template\u001B[49m\u001B[43m,\u001B[49m\u001B[43m \u001B[49m\u001B[43mmulti_map_data\u001B[49m\u001B[38;5;241;43m=\u001B[39;49m\u001B[43mmultimap_data\u001B[49m\u001B[43m,\u001B[49m\u001B[43m \u001B[49m\u001B[43mwhere_clause\u001B[49m\u001B[38;5;241;43m=\u001B[39;49m\u001B[43mWhereClauseGenerator\u001B[49m\u001B[43m(\u001B[49m\u001B[43mwhere_fragment\u001B[49m\u001B[43m,\u001B[49m\u001B[43m \u001B[49m\u001B[38;5;124;43m\"\u001B[39;49m\u001B[38;5;124;43mstay_id\u001B[39;49m\u001B[38;5;124;43m\"\u001B[39;49m\u001B[43m,\u001B[49m\u001B[43m \u001B[49m\u001B[38;5;124;43m\"\u001B[39;49m\u001B[38;5;124;43mdose_b_time\u001B[39;49m\u001B[38;5;124;43m\"\u001B[39;49m\u001B[43m)\u001B[49m\u001B[43m)\u001B[49m\n\u001B[0;32m     30\u001B[0m \u001B[38;5;28;01mreturn\u001B[39;00m results\n",
      "File \u001B[1;32m~\\OneDrive\\Desktop\\Assignment\\ML_Health3\\UniMLHealth-GroupProject\\detectdd\\query_multiplexer.py:86\u001B[0m, in \u001B[0;36mQueryMultiplexer.multiplex_query\u001B[1;34m(self, sql_template, where_clause, multi_map_data)\u001B[0m\n\u001B[0;32m     84\u001B[0m \u001B[38;5;28;01mif\u001B[39;00m found_some:\n\u001B[0;32m     85\u001B[0m     \u001B[38;5;28mprint\u001B[39m(\u001B[38;5;124mf\u001B[39m\u001B[38;5;124m\"\u001B[39m\u001B[38;5;124mExecuting query \u001B[39m\u001B[38;5;132;01m{\u001B[39;00mindex\u001B[38;5;241m+\u001B[39m\u001B[38;5;241m1\u001B[39m\u001B[38;5;132;01m}\u001B[39;00m\u001B[38;5;124m, with \u001B[39m\u001B[38;5;132;01m{\u001B[39;00m\u001B[38;5;28mlen\u001B[39m(key_val_pairs)\u001B[38;5;132;01m}\u001B[39;00m\u001B[38;5;124m pairs at \u001B[39m\u001B[38;5;132;01m{\u001B[39;00mdatetime\u001B[38;5;241m.\u001B[39mnow()\u001B[38;5;132;01m}\u001B[39;00m\u001B[38;5;124m\"\u001B[39m)\n\u001B[1;32m---> 86\u001B[0m     new_result \u001B[38;5;241m=\u001B[39m \u001B[38;5;28;43mself\u001B[39;49m\u001B[38;5;241;43m.\u001B[39;49m\u001B[43m_query\u001B[49m\u001B[43m(\u001B[49m\u001B[43msql_template\u001B[49m\u001B[43m,\u001B[49m\u001B[43m \u001B[49m\u001B[43mwhere_clause\u001B[49m\u001B[43m,\u001B[49m\u001B[43m \u001B[49m\u001B[43mkey_val_pairs\u001B[49m\u001B[43m)\u001B[49m\n\u001B[0;32m     87\u001B[0m     \u001B[38;5;28mprint\u001B[39m(\u001B[38;5;124mf\u001B[39m\u001B[38;5;124m\"\u001B[39m\u001B[38;5;124mGot result with \u001B[39m\u001B[38;5;132;01m{\u001B[39;00m\u001B[38;5;28mlen\u001B[39m(new_result)\u001B[38;5;132;01m}\u001B[39;00m\u001B[38;5;124m values\u001B[39m\u001B[38;5;124m\"\u001B[39m)\n\u001B[0;32m     88\u001B[0m     results \u001B[38;5;241m=\u001B[39m pd\u001B[38;5;241m.\u001B[39mconcat([results, new_result])\n",
      "File \u001B[1;32m~\\OneDrive\\Desktop\\Assignment\\ML_Health3\\UniMLHealth-GroupProject\\detectdd\\query_multiplexer.py:100\u001B[0m, in \u001B[0;36mQueryMultiplexer._query\u001B[1;34m(self, sql_template, where_clause_generator, key_val_pairs)\u001B[0m\n\u001B[0;32m     98\u001B[0m result \u001B[38;5;241m=\u001B[39m \u001B[38;5;28mself\u001B[39m\u001B[38;5;241m.\u001B[39mbiq_query_client\u001B[38;5;241m.\u001B[39mquery(full_sql)\n\u001B[0;32m     99\u001B[0m df \u001B[38;5;241m=\u001B[39m pd\u001B[38;5;241m.\u001B[39mDataFrame(key_val_pairs, columns\u001B[38;5;241m=\u001B[39m[where_clause_generator\u001B[38;5;241m.\u001B[39mkey_col, where_clause_generator\u001B[38;5;241m.\u001B[39mval_col])\n\u001B[1;32m--> 100\u001B[0m query_result_df \u001B[38;5;241m=\u001B[39m \u001B[43mresult\u001B[49m\u001B[38;5;241;43m.\u001B[39;49m\u001B[43mto_dataframe\u001B[49m\u001B[43m(\u001B[49m\u001B[43m)\u001B[49m\n\u001B[0;32m    101\u001B[0m \u001B[38;5;28;01mif\u001B[39;00m \u001B[38;5;28mlen\u001B[39m(query_result_df) \u001B[38;5;241m>\u001B[39m \u001B[38;5;241m0\u001B[39m:\n\u001B[0;32m    102\u001B[0m     \u001B[38;5;28;01mreturn\u001B[39;00m pd\u001B[38;5;241m.\u001B[39mmerge(left\u001B[38;5;241m=\u001B[39mdf, right\u001B[38;5;241m=\u001B[39mquery_result_df, how\u001B[38;5;241m=\u001B[39m\u001B[38;5;124m\"\u001B[39m\u001B[38;5;124minner\u001B[39m\u001B[38;5;124m\"\u001B[39m, on\u001B[38;5;241m=\u001B[39mwhere_clause_generator\u001B[38;5;241m.\u001B[39mkey_col,\n\u001B[0;32m    103\u001B[0m                 validate\u001B[38;5;241m=\u001B[39m\u001B[38;5;124m\"\u001B[39m\u001B[38;5;124mone_to_many\u001B[39m\u001B[38;5;124m\"\u001B[39m)\n",
      "File \u001B[1;32mF:\\Apps\\Anaconda\\envs\\detectdd\\lib\\site-packages\\google\\cloud\\bigquery\\job\\query.py:1860\u001B[0m, in \u001B[0;36mQueryJob.to_dataframe\u001B[1;34m(self, bqstorage_client, dtypes, progress_bar_type, create_bqstorage_client, max_results, geography_as_object, bool_dtype, int_dtype, float_dtype, string_dtype, date_dtype, datetime_dtype, time_dtype, timestamp_dtype)\u001B[0m\n\u001B[0;32m   1694\u001B[0m \u001B[38;5;28;01mdef\u001B[39;00m \u001B[38;5;21mto_dataframe\u001B[39m(\n\u001B[0;32m   1695\u001B[0m     \u001B[38;5;28mself\u001B[39m,\n\u001B[0;32m   1696\u001B[0m     bqstorage_client: Optional[\u001B[38;5;124m\"\u001B[39m\u001B[38;5;124mbigquery_storage.BigQueryReadClient\u001B[39m\u001B[38;5;124m\"\u001B[39m] \u001B[38;5;241m=\u001B[39m \u001B[38;5;28;01mNone\u001B[39;00m,\n\u001B[1;32m   (...)\u001B[0m\n\u001B[0;32m   1709\u001B[0m     timestamp_dtype: Union[Any, \u001B[38;5;28;01mNone\u001B[39;00m] \u001B[38;5;241m=\u001B[39m \u001B[38;5;28;01mNone\u001B[39;00m,\n\u001B[0;32m   1710\u001B[0m ) \u001B[38;5;241m-\u001B[39m\u001B[38;5;241m>\u001B[39m \u001B[38;5;124m\"\u001B[39m\u001B[38;5;124mpandas.DataFrame\u001B[39m\u001B[38;5;124m\"\u001B[39m:\n\u001B[0;32m   1711\u001B[0m \u001B[38;5;250m    \u001B[39m\u001B[38;5;124;03m\"\"\"Return a pandas DataFrame from a QueryJob\u001B[39;00m\n\u001B[0;32m   1712\u001B[0m \n\u001B[0;32m   1713\u001B[0m \u001B[38;5;124;03m    Args:\u001B[39;00m\n\u001B[1;32m   (...)\u001B[0m\n\u001B[0;32m   1858\u001B[0m \u001B[38;5;124;03m            :mod:`shapely` library cannot be imported.\u001B[39;00m\n\u001B[0;32m   1859\u001B[0m \u001B[38;5;124;03m    \"\"\"\u001B[39;00m\n\u001B[1;32m-> 1860\u001B[0m     query_result \u001B[38;5;241m=\u001B[39m \u001B[43mwait_for_query\u001B[49m\u001B[43m(\u001B[49m\u001B[38;5;28;43mself\u001B[39;49m\u001B[43m,\u001B[49m\u001B[43m \u001B[49m\u001B[43mprogress_bar_type\u001B[49m\u001B[43m,\u001B[49m\u001B[43m \u001B[49m\u001B[43mmax_results\u001B[49m\u001B[38;5;241;43m=\u001B[39;49m\u001B[43mmax_results\u001B[49m\u001B[43m)\u001B[49m\n\u001B[0;32m   1861\u001B[0m     \u001B[38;5;28;01mreturn\u001B[39;00m query_result\u001B[38;5;241m.\u001B[39mto_dataframe(\n\u001B[0;32m   1862\u001B[0m         bqstorage_client\u001B[38;5;241m=\u001B[39mbqstorage_client,\n\u001B[0;32m   1863\u001B[0m         dtypes\u001B[38;5;241m=\u001B[39mdtypes,\n\u001B[1;32m   (...)\u001B[0m\n\u001B[0;32m   1874\u001B[0m         timestamp_dtype\u001B[38;5;241m=\u001B[39mtimestamp_dtype,\n\u001B[0;32m   1875\u001B[0m     )\n",
      "File \u001B[1;32mF:\\Apps\\Anaconda\\envs\\detectdd\\lib\\site-packages\\google\\cloud\\bigquery\\_tqdm_helpers.py:104\u001B[0m, in \u001B[0;36mwait_for_query\u001B[1;34m(query_job, progress_bar_type, max_results)\u001B[0m\n\u001B[0;32m    100\u001B[0m progress_bar \u001B[38;5;241m=\u001B[39m get_progress_bar(\n\u001B[0;32m    101\u001B[0m     progress_bar_type, \u001B[38;5;124m\"\u001B[39m\u001B[38;5;124mQuery is running\u001B[39m\u001B[38;5;124m\"\u001B[39m, default_total, \u001B[38;5;124m\"\u001B[39m\u001B[38;5;124mquery\u001B[39m\u001B[38;5;124m\"\u001B[39m\n\u001B[0;32m    102\u001B[0m )\n\u001B[0;32m    103\u001B[0m \u001B[38;5;28;01mif\u001B[39;00m progress_bar \u001B[38;5;129;01mis\u001B[39;00m \u001B[38;5;28;01mNone\u001B[39;00m:\n\u001B[1;32m--> 104\u001B[0m     \u001B[38;5;28;01mreturn\u001B[39;00m \u001B[43mquery_job\u001B[49m\u001B[38;5;241;43m.\u001B[39;49m\u001B[43mresult\u001B[49m\u001B[43m(\u001B[49m\u001B[43mmax_results\u001B[49m\u001B[38;5;241;43m=\u001B[39;49m\u001B[43mmax_results\u001B[49m\u001B[43m)\u001B[49m\n\u001B[0;32m    106\u001B[0m i \u001B[38;5;241m=\u001B[39m \u001B[38;5;241m0\u001B[39m\n\u001B[0;32m    107\u001B[0m \u001B[38;5;28;01mwhile\u001B[39;00m \u001B[38;5;28;01mTrue\u001B[39;00m:\n",
      "File \u001B[1;32mF:\\Apps\\Anaconda\\envs\\detectdd\\lib\\site-packages\\google\\cloud\\bigquery\\job\\query.py:1581\u001B[0m, in \u001B[0;36mQueryJob.result\u001B[1;34m(self, page_size, max_results, retry, timeout, start_index, job_retry)\u001B[0m\n\u001B[0;32m   1578\u001B[0m     \u001B[38;5;28;01mif\u001B[39;00m retry_do_query \u001B[38;5;129;01mis\u001B[39;00m \u001B[38;5;129;01mnot\u001B[39;00m \u001B[38;5;28;01mNone\u001B[39;00m \u001B[38;5;129;01mand\u001B[39;00m job_retry \u001B[38;5;129;01mis\u001B[39;00m \u001B[38;5;129;01mnot\u001B[39;00m \u001B[38;5;28;01mNone\u001B[39;00m:\n\u001B[0;32m   1579\u001B[0m         do_get_result \u001B[38;5;241m=\u001B[39m job_retry(do_get_result)\n\u001B[1;32m-> 1581\u001B[0m     \u001B[43mdo_get_result\u001B[49m\u001B[43m(\u001B[49m\u001B[43m)\u001B[49m\n\u001B[0;32m   1583\u001B[0m \u001B[38;5;28;01mexcept\u001B[39;00m exceptions\u001B[38;5;241m.\u001B[39mGoogleAPICallError \u001B[38;5;28;01mas\u001B[39;00m exc:\n\u001B[0;32m   1584\u001B[0m     exc\u001B[38;5;241m.\u001B[39mmessage \u001B[38;5;241m=\u001B[39m _EXCEPTION_FOOTER_TEMPLATE\u001B[38;5;241m.\u001B[39mformat(\n\u001B[0;32m   1585\u001B[0m         message\u001B[38;5;241m=\u001B[39mexc\u001B[38;5;241m.\u001B[39mmessage, location\u001B[38;5;241m=\u001B[39m\u001B[38;5;28mself\u001B[39m\u001B[38;5;241m.\u001B[39mlocation, job_id\u001B[38;5;241m=\u001B[39m\u001B[38;5;28mself\u001B[39m\u001B[38;5;241m.\u001B[39mjob_id\n\u001B[0;32m   1586\u001B[0m     )\n",
      "File \u001B[1;32mF:\\Apps\\Anaconda\\envs\\detectdd\\lib\\site-packages\\google\\api_core\\retry.py:366\u001B[0m, in \u001B[0;36mRetry.__call__.<locals>.retry_wrapped_func\u001B[1;34m(*args, **kwargs)\u001B[0m\n\u001B[0;32m    362\u001B[0m target \u001B[38;5;241m=\u001B[39m functools\u001B[38;5;241m.\u001B[39mpartial(func, \u001B[38;5;241m*\u001B[39margs, \u001B[38;5;241m*\u001B[39m\u001B[38;5;241m*\u001B[39mkwargs)\n\u001B[0;32m    363\u001B[0m sleep_generator \u001B[38;5;241m=\u001B[39m exponential_sleep_generator(\n\u001B[0;32m    364\u001B[0m     \u001B[38;5;28mself\u001B[39m\u001B[38;5;241m.\u001B[39m_initial, \u001B[38;5;28mself\u001B[39m\u001B[38;5;241m.\u001B[39m_maximum, multiplier\u001B[38;5;241m=\u001B[39m\u001B[38;5;28mself\u001B[39m\u001B[38;5;241m.\u001B[39m_multiplier\n\u001B[0;32m    365\u001B[0m )\n\u001B[1;32m--> 366\u001B[0m \u001B[38;5;28;01mreturn\u001B[39;00m \u001B[43mretry_target\u001B[49m\u001B[43m(\u001B[49m\n\u001B[0;32m    367\u001B[0m \u001B[43m    \u001B[49m\u001B[43mtarget\u001B[49m\u001B[43m,\u001B[49m\n\u001B[0;32m    368\u001B[0m \u001B[43m    \u001B[49m\u001B[38;5;28;43mself\u001B[39;49m\u001B[38;5;241;43m.\u001B[39;49m\u001B[43m_predicate\u001B[49m\u001B[43m,\u001B[49m\n\u001B[0;32m    369\u001B[0m \u001B[43m    \u001B[49m\u001B[43msleep_generator\u001B[49m\u001B[43m,\u001B[49m\n\u001B[0;32m    370\u001B[0m \u001B[43m    \u001B[49m\u001B[38;5;28;43mself\u001B[39;49m\u001B[38;5;241;43m.\u001B[39;49m\u001B[43m_timeout\u001B[49m\u001B[43m,\u001B[49m\n\u001B[0;32m    371\u001B[0m \u001B[43m    \u001B[49m\u001B[43mon_error\u001B[49m\u001B[38;5;241;43m=\u001B[39;49m\u001B[43mon_error\u001B[49m\u001B[43m,\u001B[49m\n\u001B[0;32m    372\u001B[0m \u001B[43m\u001B[49m\u001B[43m)\u001B[49m\n",
      "File \u001B[1;32mF:\\Apps\\Anaconda\\envs\\detectdd\\lib\\site-packages\\google\\api_core\\retry.py:204\u001B[0m, in \u001B[0;36mretry_target\u001B[1;34m(target, predicate, sleep_generator, timeout, on_error, **kwargs)\u001B[0m\n\u001B[0;32m    202\u001B[0m \u001B[38;5;28;01mfor\u001B[39;00m sleep \u001B[38;5;129;01min\u001B[39;00m sleep_generator:\n\u001B[0;32m    203\u001B[0m     \u001B[38;5;28;01mtry\u001B[39;00m:\n\u001B[1;32m--> 204\u001B[0m         \u001B[38;5;28;01mreturn\u001B[39;00m \u001B[43mtarget\u001B[49m\u001B[43m(\u001B[49m\u001B[43m)\u001B[49m\n\u001B[0;32m    206\u001B[0m     \u001B[38;5;66;03m# pylint: disable=broad-except\u001B[39;00m\n\u001B[0;32m    207\u001B[0m     \u001B[38;5;66;03m# This function explicitly must deal with broad exceptions.\u001B[39;00m\n\u001B[0;32m    208\u001B[0m     \u001B[38;5;28;01mexcept\u001B[39;00m \u001B[38;5;167;01mException\u001B[39;00m \u001B[38;5;28;01mas\u001B[39;00m exc:\n",
      "File \u001B[1;32mF:\\Apps\\Anaconda\\envs\\detectdd\\lib\\site-packages\\google\\cloud\\bigquery\\job\\query.py:1571\u001B[0m, in \u001B[0;36mQueryJob.result.<locals>.do_get_result\u001B[1;34m()\u001B[0m\n\u001B[0;32m   1568\u001B[0m     \u001B[38;5;28mself\u001B[39m\u001B[38;5;241m.\u001B[39m_retry_do_query \u001B[38;5;241m=\u001B[39m retry_do_query\n\u001B[0;32m   1569\u001B[0m     \u001B[38;5;28mself\u001B[39m\u001B[38;5;241m.\u001B[39m_job_retry \u001B[38;5;241m=\u001B[39m job_retry\n\u001B[1;32m-> 1571\u001B[0m \u001B[38;5;28;43msuper\u001B[39;49m\u001B[43m(\u001B[49m\u001B[43mQueryJob\u001B[49m\u001B[43m,\u001B[49m\u001B[43m \u001B[49m\u001B[38;5;28;43mself\u001B[39;49m\u001B[43m)\u001B[49m\u001B[38;5;241;43m.\u001B[39;49m\u001B[43mresult\u001B[49m\u001B[43m(\u001B[49m\u001B[43mretry\u001B[49m\u001B[38;5;241;43m=\u001B[39;49m\u001B[43mretry\u001B[49m\u001B[43m,\u001B[49m\u001B[43m \u001B[49m\u001B[43mtimeout\u001B[49m\u001B[38;5;241;43m=\u001B[39;49m\u001B[43mtimeout\u001B[49m\u001B[43m)\u001B[49m\n\u001B[0;32m   1573\u001B[0m \u001B[38;5;66;03m# Since the job could already be \"done\" (e.g. got a finished job\u001B[39;00m\n\u001B[0;32m   1574\u001B[0m \u001B[38;5;66;03m# via client.get_job), the superclass call to done() might not\u001B[39;00m\n\u001B[0;32m   1575\u001B[0m \u001B[38;5;66;03m# set the self._query_results cache.\u001B[39;00m\n\u001B[0;32m   1576\u001B[0m \u001B[38;5;28mself\u001B[39m\u001B[38;5;241m.\u001B[39m_reload_query_results(retry\u001B[38;5;241m=\u001B[39mretry, timeout\u001B[38;5;241m=\u001B[39mtimeout)\n",
      "File \u001B[1;32mF:\\Apps\\Anaconda\\envs\\detectdd\\lib\\site-packages\\google\\cloud\\bigquery\\job\\base.py:922\u001B[0m, in \u001B[0;36m_AsyncJob.result\u001B[1;34m(self, retry, timeout)\u001B[0m\n\u001B[0;32m    919\u001B[0m     \u001B[38;5;28mself\u001B[39m\u001B[38;5;241m.\u001B[39m_begin(retry\u001B[38;5;241m=\u001B[39mretry, timeout\u001B[38;5;241m=\u001B[39mtimeout)\n\u001B[0;32m    921\u001B[0m kwargs \u001B[38;5;241m=\u001B[39m {} \u001B[38;5;28;01mif\u001B[39;00m retry \u001B[38;5;129;01mis\u001B[39;00m DEFAULT_RETRY \u001B[38;5;28;01melse\u001B[39;00m {\u001B[38;5;124m\"\u001B[39m\u001B[38;5;124mretry\u001B[39m\u001B[38;5;124m\"\u001B[39m: retry}\n\u001B[1;32m--> 922\u001B[0m \u001B[38;5;28;01mreturn\u001B[39;00m \u001B[38;5;28msuper\u001B[39m(_AsyncJob, \u001B[38;5;28mself\u001B[39m)\u001B[38;5;241m.\u001B[39mresult(timeout\u001B[38;5;241m=\u001B[39mtimeout, \u001B[38;5;241m*\u001B[39m\u001B[38;5;241m*\u001B[39mkwargs)\n",
      "File \u001B[1;32mF:\\Apps\\Anaconda\\envs\\detectdd\\lib\\site-packages\\google\\api_core\\future\\polling.py:261\u001B[0m, in \u001B[0;36mPollingFuture.result\u001B[1;34m(self, timeout, retry, polling)\u001B[0m\n\u001B[0;32m    256\u001B[0m \u001B[38;5;28mself\u001B[39m\u001B[38;5;241m.\u001B[39m_blocking_poll(timeout\u001B[38;5;241m=\u001B[39mtimeout, retry\u001B[38;5;241m=\u001B[39mretry, polling\u001B[38;5;241m=\u001B[39mpolling)\n\u001B[0;32m    258\u001B[0m \u001B[38;5;28;01mif\u001B[39;00m \u001B[38;5;28mself\u001B[39m\u001B[38;5;241m.\u001B[39m_exception \u001B[38;5;129;01mis\u001B[39;00m \u001B[38;5;129;01mnot\u001B[39;00m \u001B[38;5;28;01mNone\u001B[39;00m:\n\u001B[0;32m    259\u001B[0m     \u001B[38;5;66;03m# pylint: disable=raising-bad-type\u001B[39;00m\n\u001B[0;32m    260\u001B[0m     \u001B[38;5;66;03m# Pylint doesn't recognize that this is valid in this case.\u001B[39;00m\n\u001B[1;32m--> 261\u001B[0m     \u001B[38;5;28;01mraise\u001B[39;00m \u001B[38;5;28mself\u001B[39m\u001B[38;5;241m.\u001B[39m_exception\n\u001B[0;32m    263\u001B[0m \u001B[38;5;28;01mreturn\u001B[39;00m \u001B[38;5;28mself\u001B[39m\u001B[38;5;241m.\u001B[39m_result\n",
      "\u001B[1;31mForbidden\u001B[0m: 403 Quota exceeded: Your project exceeded quota for free query bytes scanned. For more information, see https://cloud.google.com/bigquery/docs/troubleshoot-quotas\n\nLocation: US\nJob ID: 8df57abf-c648-4365-bc53-29368367a69f\n"
     ]
    }
   ],
   "source": [
    "from detectdd.query_multiplexer import QueryMultiplexer, WhereClauseGenerator\n",
    "from detectdd import config\n",
    "\n",
    "icu = 'physionet-data.mimiciv_icu'\n",
    "\n",
    "cs_mean_art_chart_itemids = {\"PA mean pressure (PA Line)\": 226857,\n",
    "                                       \"Arterial Blood Pressure mean\": 220052,\n",
    "                                       \"Non Invasive Blood Pressure mean\": 220181,\n",
    "                                       \"ART BP Mean\": 225312}\n",
    "query_multiplexer = QueryMultiplexer(BigQueryClient().auth())\n",
    "\n",
    "def fetch_blood_pressure_data():\n",
    "    \n",
    "    sql_template = f\"\"\"SELECT ce.subject_id AS subject_id,\n",
    "            ce.stay_id AS stay_id,\n",
    "            ce.hadm_id AS hadm_id,\n",
    "            ce.itemid AS item_id,\n",
    "            ce.charttime AS chart_time,\n",
    "            ce.valuenum AS bp,\n",
    "            IF(ce.itemid IN {tuple(cs_mean_art_chart_itemids.values())}, \"MEAN\", \"SYSTOLIC\") AS abs_type,\n",
    "        FROM `{icu}.chartevents` AS ce\n",
    "        \n",
    "        WHERE ce.itemid IN {tuple(cs_mean_art_chart_itemids.values())}                          --measures of mean arterial BP\n",
    "        AND ($where)\"\"\"\n",
    "    \n",
    "    where_fragment = \"(ce.stay_id= $stay_id AND DATETIME_DIFF(ce.charttime, '$dose_b_time', HOUR) BETWEEN 0 AND 12)\"\n",
    "\n",
    "    multimap_data = {k: v.tolist() for k, v in cohort.groupby('stay_id')['dose_b_time']}\n",
    "    results = query_multiplexer.multiplex_query(sql_template, multi_map_data=multimap_data, where_clause=WhereClauseGenerator(where_fragment, \"stay_id\", \"dose_b_time\"))\n",
    "    return results\n",
    "\n",
    "results = fetch_blood_pressure_data()\n",
    "results"
   ],
   "metadata": {
    "collapsed": false,
    "ExecuteTime": {
     "end_time": "2023-10-23T09:34:50.742220300Z",
     "start_time": "2023-10-23T08:57:09.209243200Z"
    }
   },
   "id": "8b8a6eb3f67f8423"
  },
  {
   "cell_type": "code",
   "execution_count": null,
   "outputs": [],
   "source": [
    "type(results)"
   ],
   "metadata": {
    "collapsed": false,
    "ExecuteTime": {
     "end_time": "2023-10-23T09:34:50.750243700Z",
     "start_time": "2023-10-23T09:34:50.745220300Z"
    }
   },
   "id": "14dd31cde84d716f"
  },
  {
   "cell_type": "code",
   "execution_count": null,
   "outputs": [],
   "source": [
    "len(results)"
   ],
   "metadata": {
    "collapsed": false,
    "ExecuteTime": {
     "start_time": "2023-10-23T09:34:50.747222700Z"
    }
   },
   "id": "86c4e13dfef54ebd"
  },
  {
   "cell_type": "code",
   "execution_count": null,
   "outputs": [],
   "source": [
    "results"
   ],
   "metadata": {
    "collapsed": false,
    "ExecuteTime": {
     "end_time": "2023-10-23T09:34:50.750243700Z",
     "start_time": "2023-10-23T09:34:50.750243700Z"
    }
   },
   "id": "ca3d692ecc236614"
  },
  {
   "cell_type": "code",
   "execution_count": null,
   "outputs": [],
   "source": [],
   "metadata": {
    "collapsed": false,
    "ExecuteTime": {
     "start_time": "2023-10-23T09:34:50.752295600Z"
    }
   },
   "id": "46f01d003a2af2b6"
  }
 ],
 "metadata": {
  "kernelspec": {
   "display_name": "Python 3",
   "language": "python",
   "name": "python3"
  },
  "language_info": {
   "codemirror_mode": {
    "name": "ipython",
    "version": 2
   },
   "file_extension": ".py",
   "mimetype": "text/x-python",
   "name": "python",
   "nbconvert_exporter": "python",
   "pygments_lexer": "ipython2",
   "version": "2.7.6"
  }
 },
 "nbformat": 4,
 "nbformat_minor": 5
}
