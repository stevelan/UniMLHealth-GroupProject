{
 "cells": [
  {
   "cell_type": "markdown",
   "source": [
    "### ML Data pre-processing\n",
    "This notebook is for loading and cleaning the data that will be used to train the ML on.\n",
    "Things like patient heart rate and blood pressure readings that occurred around the time of the administration of the second dose \n",
    "\n",
    "It should persist the data into the \"out\" directory to be consumed by the ml training notebook"
   ],
   "metadata": {
    "collapsed": false
   },
   "id": "2f8191d46f8661e5"
  },
  {
   "cell_type": "code",
   "execution_count": 1,
   "outputs": [
    {
     "name": "stdout",
     "output_type": "stream",
     "text": [
      "Loaded cohort\n",
      "<google.oauth2.credentials.Credentials object at 0x00000218FBCB2590> mimic-iv-desktop\n"
     ]
    },
    {
     "data": {
      "text/plain": "       subject_id   stay_id  drug_a_item_id  drug_b_item_id  \\\n0        13332600  37119470          225869          225866   \n1        18638184  35143302          225869          225866   \n2        18638184  35143302          225869          225866   \n3        18638184  35143302          225869          225866   \n4        14257483  30252483          225866          225905   \n...           ...       ...             ...             ...   \n65809    19220926  32877302          221393          225166   \n65810    19220926  32877302          221393          225166   \n65811    17501152  34654374          221393          225166   \n65812    17501152  34654374          221393          225166   \n65813    17534235  39755864          229618          225855   \n\n              dose_b_time  event_count  \n0     2129-10-31 12:42:00           11  \n1     2128-03-12 08:30:00            5  \n2     2128-03-13 08:42:00            5  \n3     2128-03-13 14:34:00            5  \n4     2177-07-25 23:00:00            7  \n...                   ...          ...  \n65809 2174-06-22 01:21:00            1  \n65810 2174-06-22 04:03:00            1  \n65811 2166-11-23 01:00:00            1  \n65812 2166-11-24 20:57:00            1  \n65813 2117-06-28 21:00:00            1  \n\n[65814 rows x 6 columns]",
      "text/html": "<div>\n<style scoped>\n    .dataframe tbody tr th:only-of-type {\n        vertical-align: middle;\n    }\n\n    .dataframe tbody tr th {\n        vertical-align: top;\n    }\n\n    .dataframe thead th {\n        text-align: right;\n    }\n</style>\n<table border=\"1\" class=\"dataframe\">\n  <thead>\n    <tr style=\"text-align: right;\">\n      <th></th>\n      <th>subject_id</th>\n      <th>stay_id</th>\n      <th>drug_a_item_id</th>\n      <th>drug_b_item_id</th>\n      <th>dose_b_time</th>\n      <th>event_count</th>\n    </tr>\n  </thead>\n  <tbody>\n    <tr>\n      <th>0</th>\n      <td>13332600</td>\n      <td>37119470</td>\n      <td>225869</td>\n      <td>225866</td>\n      <td>2129-10-31 12:42:00</td>\n      <td>11</td>\n    </tr>\n    <tr>\n      <th>1</th>\n      <td>18638184</td>\n      <td>35143302</td>\n      <td>225869</td>\n      <td>225866</td>\n      <td>2128-03-12 08:30:00</td>\n      <td>5</td>\n    </tr>\n    <tr>\n      <th>2</th>\n      <td>18638184</td>\n      <td>35143302</td>\n      <td>225869</td>\n      <td>225866</td>\n      <td>2128-03-13 08:42:00</td>\n      <td>5</td>\n    </tr>\n    <tr>\n      <th>3</th>\n      <td>18638184</td>\n      <td>35143302</td>\n      <td>225869</td>\n      <td>225866</td>\n      <td>2128-03-13 14:34:00</td>\n      <td>5</td>\n    </tr>\n    <tr>\n      <th>4</th>\n      <td>14257483</td>\n      <td>30252483</td>\n      <td>225866</td>\n      <td>225905</td>\n      <td>2177-07-25 23:00:00</td>\n      <td>7</td>\n    </tr>\n    <tr>\n      <th>...</th>\n      <td>...</td>\n      <td>...</td>\n      <td>...</td>\n      <td>...</td>\n      <td>...</td>\n      <td>...</td>\n    </tr>\n    <tr>\n      <th>65809</th>\n      <td>19220926</td>\n      <td>32877302</td>\n      <td>221393</td>\n      <td>225166</td>\n      <td>2174-06-22 01:21:00</td>\n      <td>1</td>\n    </tr>\n    <tr>\n      <th>65810</th>\n      <td>19220926</td>\n      <td>32877302</td>\n      <td>221393</td>\n      <td>225166</td>\n      <td>2174-06-22 04:03:00</td>\n      <td>1</td>\n    </tr>\n    <tr>\n      <th>65811</th>\n      <td>17501152</td>\n      <td>34654374</td>\n      <td>221393</td>\n      <td>225166</td>\n      <td>2166-11-23 01:00:00</td>\n      <td>1</td>\n    </tr>\n    <tr>\n      <th>65812</th>\n      <td>17501152</td>\n      <td>34654374</td>\n      <td>221393</td>\n      <td>225166</td>\n      <td>2166-11-24 20:57:00</td>\n      <td>1</td>\n    </tr>\n    <tr>\n      <th>65813</th>\n      <td>17534235</td>\n      <td>39755864</td>\n      <td>229618</td>\n      <td>225855</td>\n      <td>2117-06-28 21:00:00</td>\n      <td>1</td>\n    </tr>\n  </tbody>\n</table>\n<p>65814 rows × 6 columns</p>\n</div>"
     },
     "execution_count": 1,
     "metadata": {},
     "output_type": "execute_result"
    }
   ],
   "source": [
    "import root_config as rc\n",
    "\n",
    "rc.configure()\n",
    "\n",
    "from detectdd.auth_bigquery import BigQueryClient\n",
    "from detectdd.serializer import Serializer\n",
    "\n",
    "try:\n",
    "    cohort = Serializer().read_cohort()  # need to run 01-cohort.ipynb to produce the cohort\n",
    "except FileNotFoundError:\n",
    "    raise Exception(\"Need to run [01-cohort.ipynb] at least once to create the cohort file in the /out directory\")\n",
    "\n",
    "big_query = BigQueryClient.auth()\n",
    "cohort"
   ],
   "metadata": {
    "collapsed": false,
    "ExecuteTime": {
     "end_time": "2023-10-12T10:38:21.885449700Z",
     "start_time": "2023-10-12T10:38:19.884051400Z"
    }
   },
   "id": "initial_id"
  },
  {
   "cell_type": "code",
   "execution_count": null,
   "outputs": [],
   "source": [
    "## TODO query  "
   ],
   "metadata": {
    "collapsed": false
   },
   "id": "8b8a6eb3f67f8423"
  }
 ],
 "metadata": {
  "kernelspec": {
   "display_name": "Python 3",
   "language": "python",
   "name": "python3"
  },
  "language_info": {
   "codemirror_mode": {
    "name": "ipython",
    "version": 2
   },
   "file_extension": ".py",
   "mimetype": "text/x-python",
   "name": "python",
   "nbconvert_exporter": "python",
   "pygments_lexer": "ipython2",
   "version": "2.7.6"
  }
 },
 "nbformat": 4,
 "nbformat_minor": 5
}
