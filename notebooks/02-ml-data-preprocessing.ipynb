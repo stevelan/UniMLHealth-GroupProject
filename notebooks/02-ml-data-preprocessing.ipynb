{
 "cells": [
  {
   "cell_type": "markdown",
   "source": [
    "### ML Data pre-processing\n",
    "This notebook is for loading and cleaning the data that will be used to train the ML on.\n",
    "Things like patient heart rate and blood pressure readings that occurred around the time of the administration of the second dose \n",
    "\n",
    "It should persist the data into the \"out\" directory to be consumed by the ml training notebook"
   ],
   "metadata": {
    "collapsed": false
   },
   "id": "2f8191d46f8661e5"
  },
  {
   "cell_type": "code",
   "execution_count": null,
   "outputs": [],
   "source": [
    "import pandas as pd\n",
    "import root_config as rc\n",
    "\n",
    "rc.configure()\n",
    "\n",
    "from detectdd.auth_bigquery import BigQueryClient\n",
    "from detectdd.serializer import Serializer\n",
    "\n",
    "try:\n",
    "    serializer = Serializer()\n",
    "    cohort_with_icd = serializer.read_cohort()  # need to run 01-cohort.ipynb to produce the cohort\n",
    "    print(len(cohort_with_icd))\n",
    "    cohort_without_icd = serializer.read_cohort_with_no_icd()\n",
    "    print(len(cohort_without_icd))\n",
    "    cohort = pd.concat([cohort_with_icd, cohort_without_icd])\n",
    "except FileNotFoundError:\n",
    "    raise Exception(\"Need to run [01-cohort.ipynb] at least once to create the cohort file in the /out directory\")\n",
    "\n",
    "\n",
    "big_query = BigQueryClient.auth()\n",
    "cohort.describe()"
   ],
   "metadata": {
    "collapsed": false
   },
   "id": "initial_id"
  },
  {
   "cell_type": "code",
   "execution_count": null,
   "outputs": [],
   "source": [
    "from detectdd.query_multiplexer import QueryMultiplexer, WhereClauseGenerator\n",
    "from detectdd import config\n",
    "\n",
    "icu = 'physionet-data.mimiciv_icu'\n",
    "\n",
    "cs_mean_art_chart_itemids = {\"PA mean pressure (PA Line)\": 226857,\n",
    "                                       \"Arterial Blood Pressure mean\": 220052,\n",
    "                                       \"Non Invasive Blood Pressure mean\": 220181,\n",
    "                                       \"ART BP Mean\": 225312}\n",
    "query_multiplexer = QueryMultiplexer(BigQueryClient().auth())\n",
    "\n",
    "def fetch_blood_pressure_data():\n",
    "    \n",
    "    sql_template = f\"\"\"SELECT ce.subject_id AS subject_id,\n",
    "            ce.stay_id AS stay_id,\n",
    "            ce.hadm_id AS hadm_id,\n",
    "            ce.itemid AS item_id,\n",
    "            ce.charttime AS chart_time,\n",
    "            ce.valuenum AS bp,\n",
    "            IF(ce.itemid IN {tuple(cs_mean_art_chart_itemids.values())}, \"MEAN\", \"SYSTOLIC\") AS abs_type,\n",
    "        FROM `{icu}.chartevents` AS ce\n",
    "        \n",
    "        WHERE ce.itemid IN {tuple(cs_mean_art_chart_itemids.values())}                          --measures of mean arterial BP\n",
    "        AND ($where)\"\"\"\n",
    "    \n",
    "    where_fragment = \"(ce.stay_id= $stay_id AND DATETIME_DIFF(ce.charttime, '$dose_b_time', HOUR) BETWEEN 0 AND 12)\"\n",
    "\n",
    "    multimap_data = {k: v.tolist() for k, v in cohort.groupby('stay_id')['dose_b_time']}\n",
    "    results = query_multiplexer.multiplex_query(sql_template, multi_map_data=multimap_data, where_clause=WhereClauseGenerator(where_fragment, \"stay_id\", \"dose_b_time\"))\n",
    "    return results\n",
    "\n",
    "results = fetch_blood_pressure_data()\n",
    "results"
   ],
   "metadata": {
    "collapsed": false
   },
   "id": "8b8a6eb3f67f8423"
  },
  {
   "cell_type": "code",
   "execution_count": null,
   "outputs": [],
   "source": [
    "type(results)"
   ],
   "metadata": {
    "collapsed": false
   },
   "id": "14dd31cde84d716f"
  },
  {
   "cell_type": "code",
   "execution_count": null,
   "outputs": [],
   "source": [
    "len(results)"
   ],
   "metadata": {
    "collapsed": false
   },
   "id": "86c4e13dfef54ebd"
  },
  {
   "cell_type": "code",
   "execution_count": null,
   "outputs": [],
   "source": [
    "results"
   ],
   "metadata": {
    "collapsed": false
   },
   "id": "ca3d692ecc236614"
  },
  {
   "cell_type": "code",
   "execution_count": null,
   "outputs": [],
   "source": [],
   "metadata": {
    "collapsed": false
   },
   "id": "46f01d003a2af2b6"
  }
 ],
 "metadata": {
  "kernelspec": {
   "display_name": "Python 3",
   "language": "python",
   "name": "python3"
  },
  "language_info": {
   "codemirror_mode": {
    "name": "ipython",
    "version": 2
   },
   "file_extension": ".py",
   "mimetype": "text/x-python",
   "name": "python",
   "nbconvert_exporter": "python",
   "pygments_lexer": "ipython2",
   "version": "2.7.6"
  }
 },
 "nbformat": 4,
 "nbformat_minor": 5
}
