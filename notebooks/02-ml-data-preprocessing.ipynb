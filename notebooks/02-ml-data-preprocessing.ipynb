{
 "cells": [
  {
   "cell_type": "markdown",
   "source": [
    "### ML Data pre-processing\n",
    "This notebook is for loading and cleaning the data that will be used to train the ML on.\n",
    "Things like patient heart rate and blood pressure readings that occurred around the time of the administration of the second dose \n",
    "\n",
    "It should persist the data into the \"out\" directory to be consumed by the ml training notebook"
   ],
   "metadata": {
    "collapsed": false
   },
   "id": "2f8191d46f8661e5"
  },
  {
   "cell_type": "code",
   "execution_count": 4,
   "outputs": [
    {
     "name": "stdout",
     "output_type": "stream",
     "text": [
      "Loaded cohort\n",
      "<google.oauth2.credentials.Credentials object at 0x0000020B8AE67390> mimic-iv-desktop\n"
     ]
    },
    {
     "data": {
      "text/plain": "      subject_id   stay_id  itemid  itemid_1          dose2_time  f0_\n0       11980812  34036698  225850    227533 2155-12-11 17:30:00    4\n1       16337817  37122552  225884    227533 2177-08-04 15:50:00    5\n2       14789655  34831657  225884    227533 2152-08-21 23:00:00    4\n3       17410025  30645946  225859    227533 2187-08-25 13:50:00   23\n4       17410025  30645946  225850    227533 2187-08-25 13:50:00    6\n...          ...       ...     ...       ...                 ...  ...\n6574    15436319  36502055  225869    227533 2125-12-08 09:30:00   15\n6575    18756985  30006983  225869    227533 2159-11-16 06:45:00    6\n6576    12974332  30720284  225884    227533 2130-12-21 11:55:00   14\n6577    12974332  30720284  225869    227533 2130-12-21 11:55:00    3\n6578    17011771  31191820  225884    227533 2177-07-22 19:45:00    1\n\n[6579 rows x 6 columns]",
      "text/html": "<div>\n<style scoped>\n    .dataframe tbody tr th:only-of-type {\n        vertical-align: middle;\n    }\n\n    .dataframe tbody tr th {\n        vertical-align: top;\n    }\n\n    .dataframe thead th {\n        text-align: right;\n    }\n</style>\n<table border=\"1\" class=\"dataframe\">\n  <thead>\n    <tr style=\"text-align: right;\">\n      <th></th>\n      <th>subject_id</th>\n      <th>stay_id</th>\n      <th>itemid</th>\n      <th>itemid_1</th>\n      <th>dose2_time</th>\n      <th>f0_</th>\n    </tr>\n  </thead>\n  <tbody>\n    <tr>\n      <th>0</th>\n      <td>11980812</td>\n      <td>34036698</td>\n      <td>225850</td>\n      <td>227533</td>\n      <td>2155-12-11 17:30:00</td>\n      <td>4</td>\n    </tr>\n    <tr>\n      <th>1</th>\n      <td>16337817</td>\n      <td>37122552</td>\n      <td>225884</td>\n      <td>227533</td>\n      <td>2177-08-04 15:50:00</td>\n      <td>5</td>\n    </tr>\n    <tr>\n      <th>2</th>\n      <td>14789655</td>\n      <td>34831657</td>\n      <td>225884</td>\n      <td>227533</td>\n      <td>2152-08-21 23:00:00</td>\n      <td>4</td>\n    </tr>\n    <tr>\n      <th>3</th>\n      <td>17410025</td>\n      <td>30645946</td>\n      <td>225859</td>\n      <td>227533</td>\n      <td>2187-08-25 13:50:00</td>\n      <td>23</td>\n    </tr>\n    <tr>\n      <th>4</th>\n      <td>17410025</td>\n      <td>30645946</td>\n      <td>225850</td>\n      <td>227533</td>\n      <td>2187-08-25 13:50:00</td>\n      <td>6</td>\n    </tr>\n    <tr>\n      <th>...</th>\n      <td>...</td>\n      <td>...</td>\n      <td>...</td>\n      <td>...</td>\n      <td>...</td>\n      <td>...</td>\n    </tr>\n    <tr>\n      <th>6574</th>\n      <td>15436319</td>\n      <td>36502055</td>\n      <td>225869</td>\n      <td>227533</td>\n      <td>2125-12-08 09:30:00</td>\n      <td>15</td>\n    </tr>\n    <tr>\n      <th>6575</th>\n      <td>18756985</td>\n      <td>30006983</td>\n      <td>225869</td>\n      <td>227533</td>\n      <td>2159-11-16 06:45:00</td>\n      <td>6</td>\n    </tr>\n    <tr>\n      <th>6576</th>\n      <td>12974332</td>\n      <td>30720284</td>\n      <td>225884</td>\n      <td>227533</td>\n      <td>2130-12-21 11:55:00</td>\n      <td>14</td>\n    </tr>\n    <tr>\n      <th>6577</th>\n      <td>12974332</td>\n      <td>30720284</td>\n      <td>225869</td>\n      <td>227533</td>\n      <td>2130-12-21 11:55:00</td>\n      <td>3</td>\n    </tr>\n    <tr>\n      <th>6578</th>\n      <td>17011771</td>\n      <td>31191820</td>\n      <td>225884</td>\n      <td>227533</td>\n      <td>2177-07-22 19:45:00</td>\n      <td>1</td>\n    </tr>\n  </tbody>\n</table>\n<p>6579 rows × 6 columns</p>\n</div>"
     },
     "execution_count": 4,
     "metadata": {},
     "output_type": "execute_result"
    }
   ],
   "source": [
    "from detectdd.auth_bigquery import BigQueryClient\n",
    "from detectdd.serializer import Serializer\n",
    "try:\n",
    "    cohort = Serializer().read_cohort() # need to run 01-cohort.ipynb to produce the cohort\n",
    "except FileNotFoundError:\n",
    "    raise Exception(\"Need to run [01-cohort.ipynb] at least once to create the cohort file in the /out directory\")\n",
    "    \n",
    "big_query = BigQueryClient.auth()\n",
    "cohort"
   ],
   "metadata": {
    "collapsed": false,
    "ExecuteTime": {
     "start_time": "2023-10-12T02:58:12.497508600Z"
    }
   },
   "id": "initial_id"
  },
  {
   "cell_type": "code",
   "execution_count": null,
   "outputs": [],
   "source": [
    "## TODO query  "
   ],
   "metadata": {
    "collapsed": false
   },
   "id": "8b8a6eb3f67f8423"
  }
 ],
 "metadata": {
  "kernelspec": {
   "display_name": "Python 3",
   "language": "python",
   "name": "python3"
  },
  "language_info": {
   "codemirror_mode": {
    "name": "ipython",
    "version": 2
   },
   "file_extension": ".py",
   "mimetype": "text/x-python",
   "name": "python",
   "nbconvert_exporter": "python",
   "pygments_lexer": "ipython2",
   "version": "2.7.6"
  }
 },
 "nbformat": 4,
 "nbformat_minor": 5
}
