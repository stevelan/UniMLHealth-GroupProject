{
 "cells": [
  {
   "cell_type": "code",
   "execution_count": 1,
   "id": "initial_id",
   "metadata": {
    "collapsed": true,
    "ExecuteTime": {
     "end_time": "2023-10-26T08:46:44.432921800Z",
     "start_time": "2023-10-26T08:46:40.501055300Z"
    }
   },
   "outputs": [
    {
     "name": "stdout",
     "output_type": "stream",
     "text": [
      "Loaded cohort from ..\\out\\cohort-full.out\n",
      "23924\n",
      "Loaded cohort from ..\\out\\cohort-no-icd-file.out\n",
      "34705\n",
      "<google.oauth2.credentials.Credentials object at 0x0000020236FB10F0> mimic-iv-desktop\n"
     ]
    },
    {
     "data": {
      "text/plain": "            subject_id          hadm_id          stay_id  \\\ncount          58629.0          58629.0          58629.0   \nmean   14997054.585342  25003742.782787  34987309.864197   \nmin         10001884.0       20001361.0       30000484.0   \n25%         12498965.0       22536779.0       32498449.0   \n50%         15014371.0       25015072.0       34993600.0   \n75%         17470891.0       27515027.0       37452361.0   \nmax         19999828.0       29999098.0       39996783.0   \nstd     2868790.150191   2880294.195572   2874105.296021   \n\n                      dose_b_time  event_count  num_icd_codes  \ncount                       58629      58629.0        23924.0  \nmean   2154-02-17 19:00:19.010388     3.192976       1.841331  \nmin           2110-01-18 21:00:00          0.0            1.0  \n25%           2133-12-03 22:32:00          1.0            1.0  \n50%           2153-12-24 22:32:00          2.0            1.0  \n75%           2174-08-12 08:30:00          4.0            2.0  \nmax           2209-05-30 09:27:00         20.0           10.0  \nstd                           NaN     2.563357       1.103696  ",
      "text/html": "<div>\n<style scoped>\n    .dataframe tbody tr th:only-of-type {\n        vertical-align: middle;\n    }\n\n    .dataframe tbody tr th {\n        vertical-align: top;\n    }\n\n    .dataframe thead th {\n        text-align: right;\n    }\n</style>\n<table border=\"1\" class=\"dataframe\">\n  <thead>\n    <tr style=\"text-align: right;\">\n      <th></th>\n      <th>subject_id</th>\n      <th>hadm_id</th>\n      <th>stay_id</th>\n      <th>dose_b_time</th>\n      <th>event_count</th>\n      <th>num_icd_codes</th>\n    </tr>\n  </thead>\n  <tbody>\n    <tr>\n      <th>count</th>\n      <td>58629.0</td>\n      <td>58629.0</td>\n      <td>58629.0</td>\n      <td>58629</td>\n      <td>58629.0</td>\n      <td>23924.0</td>\n    </tr>\n    <tr>\n      <th>mean</th>\n      <td>14997054.585342</td>\n      <td>25003742.782787</td>\n      <td>34987309.864197</td>\n      <td>2154-02-17 19:00:19.010388</td>\n      <td>3.192976</td>\n      <td>1.841331</td>\n    </tr>\n    <tr>\n      <th>min</th>\n      <td>10001884.0</td>\n      <td>20001361.0</td>\n      <td>30000484.0</td>\n      <td>2110-01-18 21:00:00</td>\n      <td>0.0</td>\n      <td>1.0</td>\n    </tr>\n    <tr>\n      <th>25%</th>\n      <td>12498965.0</td>\n      <td>22536779.0</td>\n      <td>32498449.0</td>\n      <td>2133-12-03 22:32:00</td>\n      <td>1.0</td>\n      <td>1.0</td>\n    </tr>\n    <tr>\n      <th>50%</th>\n      <td>15014371.0</td>\n      <td>25015072.0</td>\n      <td>34993600.0</td>\n      <td>2153-12-24 22:32:00</td>\n      <td>2.0</td>\n      <td>1.0</td>\n    </tr>\n    <tr>\n      <th>75%</th>\n      <td>17470891.0</td>\n      <td>27515027.0</td>\n      <td>37452361.0</td>\n      <td>2174-08-12 08:30:00</td>\n      <td>4.0</td>\n      <td>2.0</td>\n    </tr>\n    <tr>\n      <th>max</th>\n      <td>19999828.0</td>\n      <td>29999098.0</td>\n      <td>39996783.0</td>\n      <td>2209-05-30 09:27:00</td>\n      <td>20.0</td>\n      <td>10.0</td>\n    </tr>\n    <tr>\n      <th>std</th>\n      <td>2868790.150191</td>\n      <td>2880294.195572</td>\n      <td>2874105.296021</td>\n      <td>NaN</td>\n      <td>2.563357</td>\n      <td>1.103696</td>\n    </tr>\n  </tbody>\n</table>\n</div>"
     },
     "execution_count": 1,
     "metadata": {},
     "output_type": "execute_result"
    }
   ],
   "source": [
    "import root_config as rc\n",
    "from detectdd import config\n",
    "import pandas as pd\n",
    "\n",
    "rc.configure()\n",
    "\n",
    "from detectdd.auth_bigquery import BigQueryClient\n",
    "from detectdd.serializer import Serializer\n",
    "try:\n",
    "    serializer = Serializer()\n",
    "    cohort_with_icd = serializer.read_cohort()  # need to run 01-cohort.ipynb to produce the cohort\n",
    "    print(len(cohort_with_icd))\n",
    "    cohort_without_icd = serializer.read_cohort_with_no_icd()\n",
    "    print(len(cohort_without_icd))\n",
    "    cohort = pd.concat([cohort_with_icd, cohort_without_icd])\n",
    "except FileNotFoundError:\n",
    "    raise Exception(\"Need to run [01-cohort.ipynb] at least once to create the cohort file in the /out directory\")\n",
    "\n",
    "big_query = BigQueryClient.auth()\n",
    "\n",
    "cohort.describe()"
   ]
  },
  {
   "cell_type": "code",
   "execution_count": null,
   "outputs": [],
   "source": [
    "\n",
    "from detectdd.query_multiplexer import WhereClauseGenerator\n",
    "from detectdd.query_multiplexer import QueryMultiplexer\n",
    "import pandas as pd\n",
    "from detectdd.auth_bigquery import BigQueryClient\n",
    "\n",
    "# Assuming you have a Serializer class that handles reading your saved cohort data\n",
    "serializer = Serializer()\n",
    "\n",
    "# Extract unique subject_ids from the cohort data\n",
    "subject_ids = cohort['subject_id'].unique()\n",
    "\n",
    "# Convert the list of subject_ids to a format suitable for SQL query\n",
    "subject_id_str = ', '.join([str(id) for id in subject_ids])\n",
    "# print(subject_id_str)\n",
    "# Now, let's proceed to fetch the vital signs for these subject_ids from MIMIC\n",
    "\n",
    "query_multiplexer = QueryMultiplexer(big_query)\n",
    "\n",
    "# Write a SQL query to fetch the required vitals where the subject_ids are in your cohort\n",
    "query = \"\"\"\n",
    "SELECT stay_id, subject_id, charttime, heart_rate, sbp, dbp, mbp\n",
    "FROM `physionet-data.mimiciv_derived.vitalsign`\n",
    "WHERE ($where) \n",
    "    AND (heart_rate IS NOT NULL OR sbp IS NOT NULL OR dbp IS NOT NULL OR mbp IS NOT NULL)\n",
    "\"\"\"\n",
    "\n",
    "# query = f\"\"\"\n",
    "# SELECT subject_id, heart_rate, sbp, dbp, mbp\n",
    "# FROM `physionet-data.mimiciv_derived.vitalsign`\n",
    "# WHERE subject_id IN ({subject_id_str}) limit 100\"\"\"\n",
    "\n",
    "where_fragment = \"(stay_id= $stay_id AND charttime > '$dose_b_time' AND charttime < DATETIME_ADD('$dose_b_time', INTERVAL 720 MINUTE))\"\n",
    "\n",
    "multimap_data = {k: v.tolist() for k, v in cohort.groupby('stay_id')['dose_b_time']}\n",
    "results = query_multiplexer.multiplex_query(query, multi_map_data=multimap_data, where_clause=WhereClauseGenerator(where_fragment, \"stay_id\", \"dose_b_time\"))\n",
    "\n",
    "# Run the query\n",
    "# vitals_data = big_query.query(query).to_dataframe()\n",
    "vitals_data = results\n",
    "# Now you have the vital signs data for the patients in your cohort.\n",
    "# You can proceed to clean this data as needed and use it for further analysis or machine learning model training.\n",
    "\n",
    "# If you need to save this data locally for further use in your ML training notebook, you can do so like this:\n",
    "vitals_data.to_csv(config.out_dir /'vitals_data.csv', index=False)\n",
    " "
   ],
   "metadata": {
    "collapsed": false
   },
   "id": "5ef2e9024fb44da9"
  },
  {
   "cell_type": "code",
   "execution_count": null,
   "outputs": [],
   "source": [
    "vitals_data"
   ],
   "metadata": {
    "collapsed": false
   },
   "id": "4c6a7c1e0224d296"
  },
  {
   "cell_type": "code",
   "execution_count": null,
   "outputs": [],
   "source": [
    "\n",
    "vitals_data.to_csv(config.out_dir /'vitals_data-10.csv', index=False)"
   ],
   "metadata": {
    "collapsed": false
   },
   "id": "cc876017788af1f"
  },
  {
   "cell_type": "code",
   "execution_count": null,
   "outputs": [],
   "source": [],
   "metadata": {
    "collapsed": false
   },
   "id": "81a8d88539663d6e"
  }
 ],
 "metadata": {
  "kernelspec": {
   "display_name": "Python 3",
   "language": "python",
   "name": "python3"
  },
  "language_info": {
   "codemirror_mode": {
    "name": "ipython",
    "version": 2
   },
   "file_extension": ".py",
   "mimetype": "text/x-python",
   "name": "python",
   "nbconvert_exporter": "python",
   "pygments_lexer": "ipython2",
   "version": "2.7.6"
  }
 },
 "nbformat": 4,
 "nbformat_minor": 5
}
