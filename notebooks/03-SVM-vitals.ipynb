{
 "cells": [
  {
   "cell_type": "code",
   "execution_count": 115,
   "id": "initial_id",
   "metadata": {
    "collapsed": true,
    "ExecuteTime": {
     "end_time": "2023-11-03T04:07:32.485721200Z",
     "start_time": "2023-11-03T04:07:32.301120200Z"
    }
   },
   "outputs": [],
   "source": [
    "import pandas as pd\n",
    "import root_config as rc\n",
    "rc.configure()\n",
    "from detectdd import config\n"
   ]
  },
  {
   "cell_type": "markdown",
   "source": [
    "# Baselining of ML models using SVM"
   ],
   "metadata": {
    "collapsed": false
   },
   "id": "f3a5f3f08e4f82f5"
  },
  {
   "cell_type": "code",
   "execution_count": 116,
   "outputs": [
    {
     "data": {
      "text/plain": "        Unnamed: 0.1  Unnamed: 0   stay_id          dose_b_time  subject_id  \\\n0                  0           0  30002654  2154-10-19 06:31:00    15978672   \n1                  1           1  30002654  2154-10-19 06:31:00    15978672   \n2                  2           2  30002654  2154-10-19 06:31:00    15978672   \n3                  3           3  30002654  2154-10-19 06:31:00    15978672   \n4                  4           4  30002654  2154-10-19 06:31:00    15978672   \n...              ...         ...       ...                  ...         ...   \n457101        457101         785  39945913  2183-06-16 15:48:00    19733670   \n457102        457102         786  39945913  2183-06-16 15:48:00    19733670   \n457103        457103         787  39945913  2183-06-16 15:48:00    19733670   \n457104        457104         788  39945913  2183-06-16 15:48:00    19733670   \n457105        457105         789  39945913  2183-06-16 15:48:00    19733670   \n\n                  charttime  heart_rate    sbp   dbp   mbp  \n0       2154-10-19 06:05:00         NaN  112.0  64.0  77.0  \n1       2154-10-19 13:00:00        65.0  109.0  67.0  77.0  \n2       2154-10-19 15:00:00        71.0    NaN   NaN   NaN  \n3       2154-10-19 10:00:00        67.0    NaN   NaN   NaN  \n4       2154-10-19 08:00:00        69.0    NaN   NaN   NaN  \n...                     ...         ...    ...   ...   ...  \n457101  2183-06-17 01:00:00       108.0  104.0  49.0  66.0  \n457102  2183-06-16 18:00:00       117.0   88.0  44.0  57.0  \n457103  2183-06-16 17:00:00       115.0  100.0  44.0  60.0  \n457104  2183-06-16 15:00:00       126.0   95.0  46.0  61.0  \n457105  2183-06-16 14:00:00       114.0  116.0  47.0  65.0  \n\n[457106 rows x 10 columns]",
      "text/html": "<div>\n<style scoped>\n    .dataframe tbody tr th:only-of-type {\n        vertical-align: middle;\n    }\n\n    .dataframe tbody tr th {\n        vertical-align: top;\n    }\n\n    .dataframe thead th {\n        text-align: right;\n    }\n</style>\n<table border=\"1\" class=\"dataframe\">\n  <thead>\n    <tr style=\"text-align: right;\">\n      <th></th>\n      <th>Unnamed: 0.1</th>\n      <th>Unnamed: 0</th>\n      <th>stay_id</th>\n      <th>dose_b_time</th>\n      <th>subject_id</th>\n      <th>charttime</th>\n      <th>heart_rate</th>\n      <th>sbp</th>\n      <th>dbp</th>\n      <th>mbp</th>\n    </tr>\n  </thead>\n  <tbody>\n    <tr>\n      <th>0</th>\n      <td>0</td>\n      <td>0</td>\n      <td>30002654</td>\n      <td>2154-10-19 06:31:00</td>\n      <td>15978672</td>\n      <td>2154-10-19 06:05:00</td>\n      <td>NaN</td>\n      <td>112.0</td>\n      <td>64.0</td>\n      <td>77.0</td>\n    </tr>\n    <tr>\n      <th>1</th>\n      <td>1</td>\n      <td>1</td>\n      <td>30002654</td>\n      <td>2154-10-19 06:31:00</td>\n      <td>15978672</td>\n      <td>2154-10-19 13:00:00</td>\n      <td>65.0</td>\n      <td>109.0</td>\n      <td>67.0</td>\n      <td>77.0</td>\n    </tr>\n    <tr>\n      <th>2</th>\n      <td>2</td>\n      <td>2</td>\n      <td>30002654</td>\n      <td>2154-10-19 06:31:00</td>\n      <td>15978672</td>\n      <td>2154-10-19 15:00:00</td>\n      <td>71.0</td>\n      <td>NaN</td>\n      <td>NaN</td>\n      <td>NaN</td>\n    </tr>\n    <tr>\n      <th>3</th>\n      <td>3</td>\n      <td>3</td>\n      <td>30002654</td>\n      <td>2154-10-19 06:31:00</td>\n      <td>15978672</td>\n      <td>2154-10-19 10:00:00</td>\n      <td>67.0</td>\n      <td>NaN</td>\n      <td>NaN</td>\n      <td>NaN</td>\n    </tr>\n    <tr>\n      <th>4</th>\n      <td>4</td>\n      <td>4</td>\n      <td>30002654</td>\n      <td>2154-10-19 06:31:00</td>\n      <td>15978672</td>\n      <td>2154-10-19 08:00:00</td>\n      <td>69.0</td>\n      <td>NaN</td>\n      <td>NaN</td>\n      <td>NaN</td>\n    </tr>\n    <tr>\n      <th>...</th>\n      <td>...</td>\n      <td>...</td>\n      <td>...</td>\n      <td>...</td>\n      <td>...</td>\n      <td>...</td>\n      <td>...</td>\n      <td>...</td>\n      <td>...</td>\n      <td>...</td>\n    </tr>\n    <tr>\n      <th>457101</th>\n      <td>457101</td>\n      <td>785</td>\n      <td>39945913</td>\n      <td>2183-06-16 15:48:00</td>\n      <td>19733670</td>\n      <td>2183-06-17 01:00:00</td>\n      <td>108.0</td>\n      <td>104.0</td>\n      <td>49.0</td>\n      <td>66.0</td>\n    </tr>\n    <tr>\n      <th>457102</th>\n      <td>457102</td>\n      <td>786</td>\n      <td>39945913</td>\n      <td>2183-06-16 15:48:00</td>\n      <td>19733670</td>\n      <td>2183-06-16 18:00:00</td>\n      <td>117.0</td>\n      <td>88.0</td>\n      <td>44.0</td>\n      <td>57.0</td>\n    </tr>\n    <tr>\n      <th>457103</th>\n      <td>457103</td>\n      <td>787</td>\n      <td>39945913</td>\n      <td>2183-06-16 15:48:00</td>\n      <td>19733670</td>\n      <td>2183-06-16 17:00:00</td>\n      <td>115.0</td>\n      <td>100.0</td>\n      <td>44.0</td>\n      <td>60.0</td>\n    </tr>\n    <tr>\n      <th>457104</th>\n      <td>457104</td>\n      <td>788</td>\n      <td>39945913</td>\n      <td>2183-06-16 15:48:00</td>\n      <td>19733670</td>\n      <td>2183-06-16 15:00:00</td>\n      <td>126.0</td>\n      <td>95.0</td>\n      <td>46.0</td>\n      <td>61.0</td>\n    </tr>\n    <tr>\n      <th>457105</th>\n      <td>457105</td>\n      <td>789</td>\n      <td>39945913</td>\n      <td>2183-06-16 15:48:00</td>\n      <td>19733670</td>\n      <td>2183-06-16 14:00:00</td>\n      <td>114.0</td>\n      <td>116.0</td>\n      <td>47.0</td>\n      <td>65.0</td>\n    </tr>\n  </tbody>\n</table>\n<p>457106 rows × 10 columns</p>\n</div>"
     },
     "execution_count": 116,
     "metadata": {},
     "output_type": "execute_result"
    }
   ],
   "source": [
    "filename = 'vitals_data_before_and_after_ABCD.csv'\n",
    "# filename ='vitals_data_before_and_after_ABC.csv'\n",
    "with_label_1 = pd.read_csv(config.out_dir / filename)\n",
    "with_label_1"
   ],
   "metadata": {
    "collapsed": false,
    "ExecuteTime": {
     "end_time": "2023-11-03T04:07:32.849803300Z",
     "start_time": "2023-11-03T04:07:32.321066200Z"
    }
   },
   "id": "1ef142ecc65f27c0"
  },
  {
   "cell_type": "code",
   "execution_count": 117,
   "outputs": [
    {
     "data": {
      "text/plain": "        Unnamed: 0.1  heart_rate    sbp   dbp   mbp\n0                  0         NaN  112.0  64.0  77.0\n1                  1        65.0  109.0  67.0  77.0\n2                  2        71.0    NaN   NaN   NaN\n3                  3        67.0    NaN   NaN   NaN\n4                  4        69.0    NaN   NaN   NaN\n...              ...         ...    ...   ...   ...\n457101        457101       108.0  104.0  49.0  66.0\n457102        457102       117.0   88.0  44.0  57.0\n457103        457103       115.0  100.0  44.0  60.0\n457104        457104       126.0   95.0  46.0  61.0\n457105        457105       114.0  116.0  47.0  65.0\n\n[457106 rows x 5 columns]",
      "text/html": "<div>\n<style scoped>\n    .dataframe tbody tr th:only-of-type {\n        vertical-align: middle;\n    }\n\n    .dataframe tbody tr th {\n        vertical-align: top;\n    }\n\n    .dataframe thead th {\n        text-align: right;\n    }\n</style>\n<table border=\"1\" class=\"dataframe\">\n  <thead>\n    <tr style=\"text-align: right;\">\n      <th></th>\n      <th>Unnamed: 0.1</th>\n      <th>heart_rate</th>\n      <th>sbp</th>\n      <th>dbp</th>\n      <th>mbp</th>\n    </tr>\n  </thead>\n  <tbody>\n    <tr>\n      <th>0</th>\n      <td>0</td>\n      <td>NaN</td>\n      <td>112.0</td>\n      <td>64.0</td>\n      <td>77.0</td>\n    </tr>\n    <tr>\n      <th>1</th>\n      <td>1</td>\n      <td>65.0</td>\n      <td>109.0</td>\n      <td>67.0</td>\n      <td>77.0</td>\n    </tr>\n    <tr>\n      <th>2</th>\n      <td>2</td>\n      <td>71.0</td>\n      <td>NaN</td>\n      <td>NaN</td>\n      <td>NaN</td>\n    </tr>\n    <tr>\n      <th>3</th>\n      <td>3</td>\n      <td>67.0</td>\n      <td>NaN</td>\n      <td>NaN</td>\n      <td>NaN</td>\n    </tr>\n    <tr>\n      <th>4</th>\n      <td>4</td>\n      <td>69.0</td>\n      <td>NaN</td>\n      <td>NaN</td>\n      <td>NaN</td>\n    </tr>\n    <tr>\n      <th>...</th>\n      <td>...</td>\n      <td>...</td>\n      <td>...</td>\n      <td>...</td>\n      <td>...</td>\n    </tr>\n    <tr>\n      <th>457101</th>\n      <td>457101</td>\n      <td>108.0</td>\n      <td>104.0</td>\n      <td>49.0</td>\n      <td>66.0</td>\n    </tr>\n    <tr>\n      <th>457102</th>\n      <td>457102</td>\n      <td>117.0</td>\n      <td>88.0</td>\n      <td>44.0</td>\n      <td>57.0</td>\n    </tr>\n    <tr>\n      <th>457103</th>\n      <td>457103</td>\n      <td>115.0</td>\n      <td>100.0</td>\n      <td>44.0</td>\n      <td>60.0</td>\n    </tr>\n    <tr>\n      <th>457104</th>\n      <td>457104</td>\n      <td>126.0</td>\n      <td>95.0</td>\n      <td>46.0</td>\n      <td>61.0</td>\n    </tr>\n    <tr>\n      <th>457105</th>\n      <td>457105</td>\n      <td>114.0</td>\n      <td>116.0</td>\n      <td>47.0</td>\n      <td>65.0</td>\n    </tr>\n  </tbody>\n</table>\n<p>457106 rows × 5 columns</p>\n</div>"
     },
     "execution_count": 117,
     "metadata": {},
     "output_type": "execute_result"
    }
   ],
   "source": [
    "with_label_1 = with_label_1.drop(['stay_id', 'subject_id', 'charttime'], axis=1)\n",
    "with_label_1 = with_label_1.drop('Unnamed: 0', axis=1)\n",
    "with_label_1 = with_label_1.drop('dose_b_time', axis=1)\n",
    "with_label_1"
   ],
   "metadata": {
    "collapsed": false,
    "ExecuteTime": {
     "end_time": "2023-11-03T04:07:32.945974600Z",
     "start_time": "2023-11-03T04:07:32.849803300Z"
    }
   },
   "id": "7441bc5b065297bf"
  },
  {
   "cell_type": "code",
   "execution_count": 118,
   "outputs": [
    {
     "data": {
      "text/plain": "        Unnamed: 0.1  heart_rate    sbp   dbp   mbp  label\n0                  0         NaN  112.0  64.0  77.0      1\n1                  1        65.0  109.0  67.0  77.0      1\n2                  2        71.0    NaN   NaN   NaN      1\n3                  3        67.0    NaN   NaN   NaN      1\n4                  4        69.0    NaN   NaN   NaN      1\n...              ...         ...    ...   ...   ...    ...\n457101        457101       108.0  104.0  49.0  66.0      1\n457102        457102       117.0   88.0  44.0  57.0      1\n457103        457103       115.0  100.0  44.0  60.0      1\n457104        457104       126.0   95.0  46.0  61.0      1\n457105        457105       114.0  116.0  47.0  65.0      1\n\n[457106 rows x 6 columns]",
      "text/html": "<div>\n<style scoped>\n    .dataframe tbody tr th:only-of-type {\n        vertical-align: middle;\n    }\n\n    .dataframe tbody tr th {\n        vertical-align: top;\n    }\n\n    .dataframe thead th {\n        text-align: right;\n    }\n</style>\n<table border=\"1\" class=\"dataframe\">\n  <thead>\n    <tr style=\"text-align: right;\">\n      <th></th>\n      <th>Unnamed: 0.1</th>\n      <th>heart_rate</th>\n      <th>sbp</th>\n      <th>dbp</th>\n      <th>mbp</th>\n      <th>label</th>\n    </tr>\n  </thead>\n  <tbody>\n    <tr>\n      <th>0</th>\n      <td>0</td>\n      <td>NaN</td>\n      <td>112.0</td>\n      <td>64.0</td>\n      <td>77.0</td>\n      <td>1</td>\n    </tr>\n    <tr>\n      <th>1</th>\n      <td>1</td>\n      <td>65.0</td>\n      <td>109.0</td>\n      <td>67.0</td>\n      <td>77.0</td>\n      <td>1</td>\n    </tr>\n    <tr>\n      <th>2</th>\n      <td>2</td>\n      <td>71.0</td>\n      <td>NaN</td>\n      <td>NaN</td>\n      <td>NaN</td>\n      <td>1</td>\n    </tr>\n    <tr>\n      <th>3</th>\n      <td>3</td>\n      <td>67.0</td>\n      <td>NaN</td>\n      <td>NaN</td>\n      <td>NaN</td>\n      <td>1</td>\n    </tr>\n    <tr>\n      <th>4</th>\n      <td>4</td>\n      <td>69.0</td>\n      <td>NaN</td>\n      <td>NaN</td>\n      <td>NaN</td>\n      <td>1</td>\n    </tr>\n    <tr>\n      <th>...</th>\n      <td>...</td>\n      <td>...</td>\n      <td>...</td>\n      <td>...</td>\n      <td>...</td>\n      <td>...</td>\n    </tr>\n    <tr>\n      <th>457101</th>\n      <td>457101</td>\n      <td>108.0</td>\n      <td>104.0</td>\n      <td>49.0</td>\n      <td>66.0</td>\n      <td>1</td>\n    </tr>\n    <tr>\n      <th>457102</th>\n      <td>457102</td>\n      <td>117.0</td>\n      <td>88.0</td>\n      <td>44.0</td>\n      <td>57.0</td>\n      <td>1</td>\n    </tr>\n    <tr>\n      <th>457103</th>\n      <td>457103</td>\n      <td>115.0</td>\n      <td>100.0</td>\n      <td>44.0</td>\n      <td>60.0</td>\n      <td>1</td>\n    </tr>\n    <tr>\n      <th>457104</th>\n      <td>457104</td>\n      <td>126.0</td>\n      <td>95.0</td>\n      <td>46.0</td>\n      <td>61.0</td>\n      <td>1</td>\n    </tr>\n    <tr>\n      <th>457105</th>\n      <td>457105</td>\n      <td>114.0</td>\n      <td>116.0</td>\n      <td>47.0</td>\n      <td>65.0</td>\n      <td>1</td>\n    </tr>\n  </tbody>\n</table>\n<p>457106 rows × 6 columns</p>\n</div>"
     },
     "execution_count": 118,
     "metadata": {},
     "output_type": "execute_result"
    }
   ],
   "source": [
    "with_label_1['label'] = 1\n",
    "with_label_1\n"
   ],
   "metadata": {
    "collapsed": false,
    "ExecuteTime": {
     "end_time": "2023-11-03T04:07:32.955980800Z",
     "start_time": "2023-11-03T04:07:32.915470300Z"
    }
   },
   "id": "68bb8a808e0f112"
  },
  {
   "cell_type": "code",
   "execution_count": 119,
   "outputs": [
    {
     "name": "stdout",
     "output_type": "stream",
     "text": [
      "Unnamed: 0.1         0\n",
      "heart_rate      122243\n",
      "sbp             113495\n",
      "dbp             113551\n",
      "mbp             113140\n",
      "label                0\n",
      "dtype: int64\n"
     ]
    }
   ],
   "source": [
    "missing_values = with_label_1.isnull().sum()\n",
    "print(missing_values)"
   ],
   "metadata": {
    "collapsed": false,
    "ExecuteTime": {
     "end_time": "2023-11-03T04:07:32.986896800Z",
     "start_time": "2023-11-03T04:07:32.944976600Z"
    }
   },
   "id": "cf5da0d460c2a9c4"
  },
  {
   "cell_type": "code",
   "execution_count": 120,
   "outputs": [
    {
     "data": {
      "text/plain": "        heart_rate    sbp   dbp   mbp  label\n0             65.0  112.0  64.0  77.0      1\n1             65.0  109.0  67.0  77.0      1\n2             71.0  109.0  67.0  77.0      1\n3             67.0  109.0  67.0  77.0      1\n4             69.0  109.0  67.0  77.0      1\n...            ...    ...   ...   ...    ...\n457101       108.0  104.0  49.0  66.0      1\n457102       117.0   88.0  44.0  57.0      1\n457103       115.0  100.0  44.0  60.0      1\n457104       126.0   95.0  46.0  61.0      1\n457105       114.0  116.0  47.0  65.0      1\n\n[457106 rows x 5 columns]",
      "text/html": "<div>\n<style scoped>\n    .dataframe tbody tr th:only-of-type {\n        vertical-align: middle;\n    }\n\n    .dataframe tbody tr th {\n        vertical-align: top;\n    }\n\n    .dataframe thead th {\n        text-align: right;\n    }\n</style>\n<table border=\"1\" class=\"dataframe\">\n  <thead>\n    <tr style=\"text-align: right;\">\n      <th></th>\n      <th>heart_rate</th>\n      <th>sbp</th>\n      <th>dbp</th>\n      <th>mbp</th>\n      <th>label</th>\n    </tr>\n  </thead>\n  <tbody>\n    <tr>\n      <th>0</th>\n      <td>65.0</td>\n      <td>112.0</td>\n      <td>64.0</td>\n      <td>77.0</td>\n      <td>1</td>\n    </tr>\n    <tr>\n      <th>1</th>\n      <td>65.0</td>\n      <td>109.0</td>\n      <td>67.0</td>\n      <td>77.0</td>\n      <td>1</td>\n    </tr>\n    <tr>\n      <th>2</th>\n      <td>71.0</td>\n      <td>109.0</td>\n      <td>67.0</td>\n      <td>77.0</td>\n      <td>1</td>\n    </tr>\n    <tr>\n      <th>3</th>\n      <td>67.0</td>\n      <td>109.0</td>\n      <td>67.0</td>\n      <td>77.0</td>\n      <td>1</td>\n    </tr>\n    <tr>\n      <th>4</th>\n      <td>69.0</td>\n      <td>109.0</td>\n      <td>67.0</td>\n      <td>77.0</td>\n      <td>1</td>\n    </tr>\n    <tr>\n      <th>...</th>\n      <td>...</td>\n      <td>...</td>\n      <td>...</td>\n      <td>...</td>\n      <td>...</td>\n    </tr>\n    <tr>\n      <th>457101</th>\n      <td>108.0</td>\n      <td>104.0</td>\n      <td>49.0</td>\n      <td>66.0</td>\n      <td>1</td>\n    </tr>\n    <tr>\n      <th>457102</th>\n      <td>117.0</td>\n      <td>88.0</td>\n      <td>44.0</td>\n      <td>57.0</td>\n      <td>1</td>\n    </tr>\n    <tr>\n      <th>457103</th>\n      <td>115.0</td>\n      <td>100.0</td>\n      <td>44.0</td>\n      <td>60.0</td>\n      <td>1</td>\n    </tr>\n    <tr>\n      <th>457104</th>\n      <td>126.0</td>\n      <td>95.0</td>\n      <td>46.0</td>\n      <td>61.0</td>\n      <td>1</td>\n    </tr>\n    <tr>\n      <th>457105</th>\n      <td>114.0</td>\n      <td>116.0</td>\n      <td>47.0</td>\n      <td>65.0</td>\n      <td>1</td>\n    </tr>\n  </tbody>\n</table>\n<p>457106 rows × 5 columns</p>\n</div>"
     },
     "execution_count": 120,
     "metadata": {},
     "output_type": "execute_result"
    }
   ],
   "source": [
    "cols_to_fill = ['heart_rate', 'sbp', 'dbp', 'mbp']\n",
    "\n",
    "for col in cols_to_fill:\n",
    "    with_label_1[col].fillna(method='ffill', inplace=True)\n",
    "    with_label_1[col].fillna(method='bfill', inplace=True)\n",
    "\n",
    "with_label_1 = with_label_1.drop('Unnamed: 0.1', axis=1)\n",
    "with_label_1"
   ],
   "metadata": {
    "collapsed": false,
    "ExecuteTime": {
     "end_time": "2023-11-03T04:07:33.080193100Z",
     "start_time": "2023-11-03T04:07:32.960966900Z"
    }
   },
   "id": "924fc999374a22f3"
  },
  {
   "cell_type": "code",
   "execution_count": 121,
   "outputs": [
    {
     "data": {
      "text/plain": "         Unnamed: 0.1  Unnamed: 0   stay_id          dose_b_time  subject_id  \\\n0                   0           0  30000484  2136-01-15 22:02:00    18421337   \n1                   1           1  30000484  2136-01-15 22:02:00    18421337   \n2                   2           2  30000484  2136-01-15 22:02:00    18421337   \n3                   3           3  30000484  2136-01-15 22:02:00    18421337   \n4                   4           4  30000484  2136-01-15 22:02:00    18421337   \n...               ...         ...       ...                  ...         ...   \n1060725       1060725          24  39323481  2121-03-10 08:34:00    11652327   \n1060726       1060726          25  39323481  2121-03-10 08:34:00    11652327   \n1060727       1060727          26  39323481  2121-03-10 08:34:00    11652327   \n1060728       1060728          27  39323481  2121-03-10 08:34:00    11652327   \n1060729       1060729          28  39323481  2121-03-10 08:34:00    11652327   \n\n                   charttime  heart_rate    sbp    dbp   mbp  \n0        2136-01-15 18:00:00        89.0  103.0   22.0  41.0  \n1        2136-01-16 01:00:00        99.0    NaN    NaN   NaN  \n2        2136-01-15 14:30:00         NaN  129.0  113.0   NaN  \n3        2136-01-16 00:00:00        97.0    NaN    NaN   NaN  \n4        2136-01-15 14:00:00        92.0    NaN    NaN  58.0  \n...                      ...         ...    ...    ...   ...  \n1060725  2121-03-10 19:00:00       119.0  108.0   56.0  72.0  \n1060726  2121-03-09 22:30:00       111.0  139.0   71.0  94.0  \n1060727  2121-03-09 22:15:00       109.0  125.0   63.0  85.0  \n1060728  2121-03-09 22:00:00       110.0  129.0   65.0  87.0  \n1060729  2121-03-10 08:00:00       112.0  100.0   52.0  67.0  \n\n[1060730 rows x 10 columns]",
      "text/html": "<div>\n<style scoped>\n    .dataframe tbody tr th:only-of-type {\n        vertical-align: middle;\n    }\n\n    .dataframe tbody tr th {\n        vertical-align: top;\n    }\n\n    .dataframe thead th {\n        text-align: right;\n    }\n</style>\n<table border=\"1\" class=\"dataframe\">\n  <thead>\n    <tr style=\"text-align: right;\">\n      <th></th>\n      <th>Unnamed: 0.1</th>\n      <th>Unnamed: 0</th>\n      <th>stay_id</th>\n      <th>dose_b_time</th>\n      <th>subject_id</th>\n      <th>charttime</th>\n      <th>heart_rate</th>\n      <th>sbp</th>\n      <th>dbp</th>\n      <th>mbp</th>\n    </tr>\n  </thead>\n  <tbody>\n    <tr>\n      <th>0</th>\n      <td>0</td>\n      <td>0</td>\n      <td>30000484</td>\n      <td>2136-01-15 22:02:00</td>\n      <td>18421337</td>\n      <td>2136-01-15 18:00:00</td>\n      <td>89.0</td>\n      <td>103.0</td>\n      <td>22.0</td>\n      <td>41.0</td>\n    </tr>\n    <tr>\n      <th>1</th>\n      <td>1</td>\n      <td>1</td>\n      <td>30000484</td>\n      <td>2136-01-15 22:02:00</td>\n      <td>18421337</td>\n      <td>2136-01-16 01:00:00</td>\n      <td>99.0</td>\n      <td>NaN</td>\n      <td>NaN</td>\n      <td>NaN</td>\n    </tr>\n    <tr>\n      <th>2</th>\n      <td>2</td>\n      <td>2</td>\n      <td>30000484</td>\n      <td>2136-01-15 22:02:00</td>\n      <td>18421337</td>\n      <td>2136-01-15 14:30:00</td>\n      <td>NaN</td>\n      <td>129.0</td>\n      <td>113.0</td>\n      <td>NaN</td>\n    </tr>\n    <tr>\n      <th>3</th>\n      <td>3</td>\n      <td>3</td>\n      <td>30000484</td>\n      <td>2136-01-15 22:02:00</td>\n      <td>18421337</td>\n      <td>2136-01-16 00:00:00</td>\n      <td>97.0</td>\n      <td>NaN</td>\n      <td>NaN</td>\n      <td>NaN</td>\n    </tr>\n    <tr>\n      <th>4</th>\n      <td>4</td>\n      <td>4</td>\n      <td>30000484</td>\n      <td>2136-01-15 22:02:00</td>\n      <td>18421337</td>\n      <td>2136-01-15 14:00:00</td>\n      <td>92.0</td>\n      <td>NaN</td>\n      <td>NaN</td>\n      <td>58.0</td>\n    </tr>\n    <tr>\n      <th>...</th>\n      <td>...</td>\n      <td>...</td>\n      <td>...</td>\n      <td>...</td>\n      <td>...</td>\n      <td>...</td>\n      <td>...</td>\n      <td>...</td>\n      <td>...</td>\n      <td>...</td>\n    </tr>\n    <tr>\n      <th>1060725</th>\n      <td>1060725</td>\n      <td>24</td>\n      <td>39323481</td>\n      <td>2121-03-10 08:34:00</td>\n      <td>11652327</td>\n      <td>2121-03-10 19:00:00</td>\n      <td>119.0</td>\n      <td>108.0</td>\n      <td>56.0</td>\n      <td>72.0</td>\n    </tr>\n    <tr>\n      <th>1060726</th>\n      <td>1060726</td>\n      <td>25</td>\n      <td>39323481</td>\n      <td>2121-03-10 08:34:00</td>\n      <td>11652327</td>\n      <td>2121-03-09 22:30:00</td>\n      <td>111.0</td>\n      <td>139.0</td>\n      <td>71.0</td>\n      <td>94.0</td>\n    </tr>\n    <tr>\n      <th>1060727</th>\n      <td>1060727</td>\n      <td>26</td>\n      <td>39323481</td>\n      <td>2121-03-10 08:34:00</td>\n      <td>11652327</td>\n      <td>2121-03-09 22:15:00</td>\n      <td>109.0</td>\n      <td>125.0</td>\n      <td>63.0</td>\n      <td>85.0</td>\n    </tr>\n    <tr>\n      <th>1060728</th>\n      <td>1060728</td>\n      <td>27</td>\n      <td>39323481</td>\n      <td>2121-03-10 08:34:00</td>\n      <td>11652327</td>\n      <td>2121-03-09 22:00:00</td>\n      <td>110.0</td>\n      <td>129.0</td>\n      <td>65.0</td>\n      <td>87.0</td>\n    </tr>\n    <tr>\n      <th>1060729</th>\n      <td>1060729</td>\n      <td>28</td>\n      <td>39323481</td>\n      <td>2121-03-10 08:34:00</td>\n      <td>11652327</td>\n      <td>2121-03-10 08:00:00</td>\n      <td>112.0</td>\n      <td>100.0</td>\n      <td>52.0</td>\n      <td>67.0</td>\n    </tr>\n  </tbody>\n</table>\n<p>1060730 rows × 10 columns</p>\n</div>"
     },
     "execution_count": 121,
     "metadata": {},
     "output_type": "execute_result"
    }
   ],
   "source": [
    "with_label_0 = pd.read_csv('vitals_data_before_and_after_no_drug_interaction.csv')\n",
    "with_label_0"
   ],
   "metadata": {
    "collapsed": false,
    "ExecuteTime": {
     "end_time": "2023-11-03T04:07:34.303112700Z",
     "start_time": "2023-11-03T04:07:33.007793100Z"
    }
   },
   "id": "ecbf6eeffccdf7a9"
  },
  {
   "cell_type": "code",
   "execution_count": 122,
   "outputs": [
    {
     "data": {
      "text/plain": "         heart_rate    sbp    dbp   mbp\n0              89.0  103.0   22.0  41.0\n1              99.0    NaN    NaN   NaN\n2               NaN  129.0  113.0   NaN\n3              97.0    NaN    NaN   NaN\n4              92.0    NaN    NaN  58.0\n...             ...    ...    ...   ...\n1060725       119.0  108.0   56.0  72.0\n1060726       111.0  139.0   71.0  94.0\n1060727       109.0  125.0   63.0  85.0\n1060728       110.0  129.0   65.0  87.0\n1060729       112.0  100.0   52.0  67.0\n\n[1060730 rows x 4 columns]",
      "text/html": "<div>\n<style scoped>\n    .dataframe tbody tr th:only-of-type {\n        vertical-align: middle;\n    }\n\n    .dataframe tbody tr th {\n        vertical-align: top;\n    }\n\n    .dataframe thead th {\n        text-align: right;\n    }\n</style>\n<table border=\"1\" class=\"dataframe\">\n  <thead>\n    <tr style=\"text-align: right;\">\n      <th></th>\n      <th>heart_rate</th>\n      <th>sbp</th>\n      <th>dbp</th>\n      <th>mbp</th>\n    </tr>\n  </thead>\n  <tbody>\n    <tr>\n      <th>0</th>\n      <td>89.0</td>\n      <td>103.0</td>\n      <td>22.0</td>\n      <td>41.0</td>\n    </tr>\n    <tr>\n      <th>1</th>\n      <td>99.0</td>\n      <td>NaN</td>\n      <td>NaN</td>\n      <td>NaN</td>\n    </tr>\n    <tr>\n      <th>2</th>\n      <td>NaN</td>\n      <td>129.0</td>\n      <td>113.0</td>\n      <td>NaN</td>\n    </tr>\n    <tr>\n      <th>3</th>\n      <td>97.0</td>\n      <td>NaN</td>\n      <td>NaN</td>\n      <td>NaN</td>\n    </tr>\n    <tr>\n      <th>4</th>\n      <td>92.0</td>\n      <td>NaN</td>\n      <td>NaN</td>\n      <td>58.0</td>\n    </tr>\n    <tr>\n      <th>...</th>\n      <td>...</td>\n      <td>...</td>\n      <td>...</td>\n      <td>...</td>\n    </tr>\n    <tr>\n      <th>1060725</th>\n      <td>119.0</td>\n      <td>108.0</td>\n      <td>56.0</td>\n      <td>72.0</td>\n    </tr>\n    <tr>\n      <th>1060726</th>\n      <td>111.0</td>\n      <td>139.0</td>\n      <td>71.0</td>\n      <td>94.0</td>\n    </tr>\n    <tr>\n      <th>1060727</th>\n      <td>109.0</td>\n      <td>125.0</td>\n      <td>63.0</td>\n      <td>85.0</td>\n    </tr>\n    <tr>\n      <th>1060728</th>\n      <td>110.0</td>\n      <td>129.0</td>\n      <td>65.0</td>\n      <td>87.0</td>\n    </tr>\n    <tr>\n      <th>1060729</th>\n      <td>112.0</td>\n      <td>100.0</td>\n      <td>52.0</td>\n      <td>67.0</td>\n    </tr>\n  </tbody>\n</table>\n<p>1060730 rows × 4 columns</p>\n</div>"
     },
     "execution_count": 122,
     "metadata": {},
     "output_type": "execute_result"
    }
   ],
   "source": [
    "with_label_0 = with_label_0.drop(['stay_id', 'subject_id', 'charttime'], axis=1)\n",
    "with_label_0 = with_label_0.drop('Unnamed: 0', axis=1)\n",
    "with_label_0 = with_label_0.drop('Unnamed: 0.1', axis=1)\n",
    "with_label_0 = with_label_0.drop('dose_b_time', axis=1)\n",
    "with_label_0"
   ],
   "metadata": {
    "collapsed": false,
    "ExecuteTime": {
     "end_time": "2023-11-03T04:07:34.450834100Z",
     "start_time": "2023-11-03T04:07:34.302115100Z"
    }
   },
   "id": "1a9274904f690f5d"
  },
  {
   "cell_type": "code",
   "execution_count": 123,
   "outputs": [
    {
     "data": {
      "text/plain": "         heart_rate    sbp    dbp   mbp\n0              89.0  103.0   22.0  41.0\n1              99.0  103.0   22.0  41.0\n2              99.0  129.0  113.0  41.0\n3              97.0  129.0  113.0  41.0\n4              92.0  129.0  113.0  58.0\n...             ...    ...    ...   ...\n1060725       119.0  108.0   56.0  72.0\n1060726       111.0  139.0   71.0  94.0\n1060727       109.0  125.0   63.0  85.0\n1060728       110.0  129.0   65.0  87.0\n1060729       112.0  100.0   52.0  67.0\n\n[1060730 rows x 4 columns]",
      "text/html": "<div>\n<style scoped>\n    .dataframe tbody tr th:only-of-type {\n        vertical-align: middle;\n    }\n\n    .dataframe tbody tr th {\n        vertical-align: top;\n    }\n\n    .dataframe thead th {\n        text-align: right;\n    }\n</style>\n<table border=\"1\" class=\"dataframe\">\n  <thead>\n    <tr style=\"text-align: right;\">\n      <th></th>\n      <th>heart_rate</th>\n      <th>sbp</th>\n      <th>dbp</th>\n      <th>mbp</th>\n    </tr>\n  </thead>\n  <tbody>\n    <tr>\n      <th>0</th>\n      <td>89.0</td>\n      <td>103.0</td>\n      <td>22.0</td>\n      <td>41.0</td>\n    </tr>\n    <tr>\n      <th>1</th>\n      <td>99.0</td>\n      <td>103.0</td>\n      <td>22.0</td>\n      <td>41.0</td>\n    </tr>\n    <tr>\n      <th>2</th>\n      <td>99.0</td>\n      <td>129.0</td>\n      <td>113.0</td>\n      <td>41.0</td>\n    </tr>\n    <tr>\n      <th>3</th>\n      <td>97.0</td>\n      <td>129.0</td>\n      <td>113.0</td>\n      <td>41.0</td>\n    </tr>\n    <tr>\n      <th>4</th>\n      <td>92.0</td>\n      <td>129.0</td>\n      <td>113.0</td>\n      <td>58.0</td>\n    </tr>\n    <tr>\n      <th>...</th>\n      <td>...</td>\n      <td>...</td>\n      <td>...</td>\n      <td>...</td>\n    </tr>\n    <tr>\n      <th>1060725</th>\n      <td>119.0</td>\n      <td>108.0</td>\n      <td>56.0</td>\n      <td>72.0</td>\n    </tr>\n    <tr>\n      <th>1060726</th>\n      <td>111.0</td>\n      <td>139.0</td>\n      <td>71.0</td>\n      <td>94.0</td>\n    </tr>\n    <tr>\n      <th>1060727</th>\n      <td>109.0</td>\n      <td>125.0</td>\n      <td>63.0</td>\n      <td>85.0</td>\n    </tr>\n    <tr>\n      <th>1060728</th>\n      <td>110.0</td>\n      <td>129.0</td>\n      <td>65.0</td>\n      <td>87.0</td>\n    </tr>\n    <tr>\n      <th>1060729</th>\n      <td>112.0</td>\n      <td>100.0</td>\n      <td>52.0</td>\n      <td>67.0</td>\n    </tr>\n  </tbody>\n</table>\n<p>1060730 rows × 4 columns</p>\n</div>"
     },
     "execution_count": 123,
     "metadata": {},
     "output_type": "execute_result"
    }
   ],
   "source": [
    "cols_to_fill = ['heart_rate', 'sbp', 'dbp', 'mbp']\n",
    "\n",
    "for col in cols_to_fill:\n",
    "    with_label_0[col].fillna(method='ffill', inplace=True)\n",
    "    with_label_0[col].fillna(method='bfill', inplace=True)\n",
    "\n",
    "with_label_0"
   ],
   "metadata": {
    "collapsed": false,
    "ExecuteTime": {
     "end_time": "2023-11-03T04:07:34.529675500Z",
     "start_time": "2023-11-03T04:07:34.440344600Z"
    }
   },
   "id": "b411b5e74fbde9b0"
  },
  {
   "cell_type": "code",
   "execution_count": 124,
   "outputs": [
    {
     "name": "stdout",
     "output_type": "stream",
     "text": [
      "heart_rate    0\n",
      "sbp           0\n",
      "dbp           0\n",
      "mbp           0\n",
      "dtype: int64\n"
     ]
    }
   ],
   "source": [
    "missing_values = with_label_0.isnull().sum()\n",
    "print(missing_values)"
   ],
   "metadata": {
    "collapsed": false,
    "ExecuteTime": {
     "end_time": "2023-11-03T04:07:34.529675500Z",
     "start_time": "2023-11-03T04:07:34.488733200Z"
    }
   },
   "id": "55b3cea18ba16811"
  },
  {
   "cell_type": "code",
   "execution_count": 125,
   "outputs": [
    {
     "data": {
      "text/plain": "         heart_rate    sbp    dbp   mbp  label\n0              89.0  103.0   22.0  41.0      0\n1              99.0  103.0   22.0  41.0      0\n2              99.0  129.0  113.0  41.0      0\n3              97.0  129.0  113.0  41.0      0\n4              92.0  129.0  113.0  58.0      0\n...             ...    ...    ...   ...    ...\n1060725       119.0  108.0   56.0  72.0      0\n1060726       111.0  139.0   71.0  94.0      0\n1060727       109.0  125.0   63.0  85.0      0\n1060728       110.0  129.0   65.0  87.0      0\n1060729       112.0  100.0   52.0  67.0      0\n\n[1060730 rows x 5 columns]",
      "text/html": "<div>\n<style scoped>\n    .dataframe tbody tr th:only-of-type {\n        vertical-align: middle;\n    }\n\n    .dataframe tbody tr th {\n        vertical-align: top;\n    }\n\n    .dataframe thead th {\n        text-align: right;\n    }\n</style>\n<table border=\"1\" class=\"dataframe\">\n  <thead>\n    <tr style=\"text-align: right;\">\n      <th></th>\n      <th>heart_rate</th>\n      <th>sbp</th>\n      <th>dbp</th>\n      <th>mbp</th>\n      <th>label</th>\n    </tr>\n  </thead>\n  <tbody>\n    <tr>\n      <th>0</th>\n      <td>89.0</td>\n      <td>103.0</td>\n      <td>22.0</td>\n      <td>41.0</td>\n      <td>0</td>\n    </tr>\n    <tr>\n      <th>1</th>\n      <td>99.0</td>\n      <td>103.0</td>\n      <td>22.0</td>\n      <td>41.0</td>\n      <td>0</td>\n    </tr>\n    <tr>\n      <th>2</th>\n      <td>99.0</td>\n      <td>129.0</td>\n      <td>113.0</td>\n      <td>41.0</td>\n      <td>0</td>\n    </tr>\n    <tr>\n      <th>3</th>\n      <td>97.0</td>\n      <td>129.0</td>\n      <td>113.0</td>\n      <td>41.0</td>\n      <td>0</td>\n    </tr>\n    <tr>\n      <th>4</th>\n      <td>92.0</td>\n      <td>129.0</td>\n      <td>113.0</td>\n      <td>58.0</td>\n      <td>0</td>\n    </tr>\n    <tr>\n      <th>...</th>\n      <td>...</td>\n      <td>...</td>\n      <td>...</td>\n      <td>...</td>\n      <td>...</td>\n    </tr>\n    <tr>\n      <th>1060725</th>\n      <td>119.0</td>\n      <td>108.0</td>\n      <td>56.0</td>\n      <td>72.0</td>\n      <td>0</td>\n    </tr>\n    <tr>\n      <th>1060726</th>\n      <td>111.0</td>\n      <td>139.0</td>\n      <td>71.0</td>\n      <td>94.0</td>\n      <td>0</td>\n    </tr>\n    <tr>\n      <th>1060727</th>\n      <td>109.0</td>\n      <td>125.0</td>\n      <td>63.0</td>\n      <td>85.0</td>\n      <td>0</td>\n    </tr>\n    <tr>\n      <th>1060728</th>\n      <td>110.0</td>\n      <td>129.0</td>\n      <td>65.0</td>\n      <td>87.0</td>\n      <td>0</td>\n    </tr>\n    <tr>\n      <th>1060729</th>\n      <td>112.0</td>\n      <td>100.0</td>\n      <td>52.0</td>\n      <td>67.0</td>\n      <td>0</td>\n    </tr>\n  </tbody>\n</table>\n<p>1060730 rows × 5 columns</p>\n</div>"
     },
     "execution_count": 125,
     "metadata": {},
     "output_type": "execute_result"
    }
   ],
   "source": [
    "with_label_0['label'] = 0\n",
    "with_label_0"
   ],
   "metadata": {
    "collapsed": false,
    "ExecuteTime": {
     "end_time": "2023-11-03T04:07:34.577036800Z",
     "start_time": "2023-11-03T04:07:34.502695500Z"
    }
   },
   "id": "d814312a95d0c9cc"
  },
  {
   "cell_type": "code",
   "execution_count": 126,
   "outputs": [
    {
     "data": {
      "text/plain": "         heart_rate    sbp    dbp   mbp  label\n0              89.0  103.0   22.0  41.0      0\n1              99.0  103.0   22.0  41.0      0\n2              99.0  129.0  113.0  41.0      0\n3              97.0  129.0  113.0  41.0      0\n4              92.0  129.0  113.0  58.0      0\n...             ...    ...    ...   ...    ...\n1517831       108.0  104.0   49.0  66.0      1\n1517832       117.0   88.0   44.0  57.0      1\n1517833       115.0  100.0   44.0  60.0      1\n1517834       126.0   95.0   46.0  61.0      1\n1517835       114.0  116.0   47.0  65.0      1\n\n[1517836 rows x 5 columns]",
      "text/html": "<div>\n<style scoped>\n    .dataframe tbody tr th:only-of-type {\n        vertical-align: middle;\n    }\n\n    .dataframe tbody tr th {\n        vertical-align: top;\n    }\n\n    .dataframe thead th {\n        text-align: right;\n    }\n</style>\n<table border=\"1\" class=\"dataframe\">\n  <thead>\n    <tr style=\"text-align: right;\">\n      <th></th>\n      <th>heart_rate</th>\n      <th>sbp</th>\n      <th>dbp</th>\n      <th>mbp</th>\n      <th>label</th>\n    </tr>\n  </thead>\n  <tbody>\n    <tr>\n      <th>0</th>\n      <td>89.0</td>\n      <td>103.0</td>\n      <td>22.0</td>\n      <td>41.0</td>\n      <td>0</td>\n    </tr>\n    <tr>\n      <th>1</th>\n      <td>99.0</td>\n      <td>103.0</td>\n      <td>22.0</td>\n      <td>41.0</td>\n      <td>0</td>\n    </tr>\n    <tr>\n      <th>2</th>\n      <td>99.0</td>\n      <td>129.0</td>\n      <td>113.0</td>\n      <td>41.0</td>\n      <td>0</td>\n    </tr>\n    <tr>\n      <th>3</th>\n      <td>97.0</td>\n      <td>129.0</td>\n      <td>113.0</td>\n      <td>41.0</td>\n      <td>0</td>\n    </tr>\n    <tr>\n      <th>4</th>\n      <td>92.0</td>\n      <td>129.0</td>\n      <td>113.0</td>\n      <td>58.0</td>\n      <td>0</td>\n    </tr>\n    <tr>\n      <th>...</th>\n      <td>...</td>\n      <td>...</td>\n      <td>...</td>\n      <td>...</td>\n      <td>...</td>\n    </tr>\n    <tr>\n      <th>1517831</th>\n      <td>108.0</td>\n      <td>104.0</td>\n      <td>49.0</td>\n      <td>66.0</td>\n      <td>1</td>\n    </tr>\n    <tr>\n      <th>1517832</th>\n      <td>117.0</td>\n      <td>88.0</td>\n      <td>44.0</td>\n      <td>57.0</td>\n      <td>1</td>\n    </tr>\n    <tr>\n      <th>1517833</th>\n      <td>115.0</td>\n      <td>100.0</td>\n      <td>44.0</td>\n      <td>60.0</td>\n      <td>1</td>\n    </tr>\n    <tr>\n      <th>1517834</th>\n      <td>126.0</td>\n      <td>95.0</td>\n      <td>46.0</td>\n      <td>61.0</td>\n      <td>1</td>\n    </tr>\n    <tr>\n      <th>1517835</th>\n      <td>114.0</td>\n      <td>116.0</td>\n      <td>47.0</td>\n      <td>65.0</td>\n      <td>1</td>\n    </tr>\n  </tbody>\n</table>\n<p>1517836 rows × 5 columns</p>\n</div>"
     },
     "execution_count": 126,
     "metadata": {},
     "output_type": "execute_result"
    }
   ],
   "source": [
    "combined_original_df = pd.concat([with_label_0, with_label_1], ignore_index=True)\n",
    "combined_original_df"
   ],
   "metadata": {
    "collapsed": false,
    "ExecuteTime": {
     "end_time": "2023-11-03T04:07:34.626893500Z",
     "start_time": "2023-11-03T04:07:34.533615200Z"
    }
   },
   "id": "3a65a54853451a22"
  },
  {
   "cell_type": "code",
   "execution_count": 127,
   "outputs": [
    {
     "name": "stdout",
     "output_type": "stream",
     "text": [
      "1517836\n",
      "1517836\n"
     ]
    }
   ],
   "source": [
    "print(len(combined_original_df))\n",
    "print(len(combined_original_df.dropna()))\n"
   ],
   "metadata": {
    "collapsed": false,
    "ExecuteTime": {
     "end_time": "2023-11-03T04:07:34.725652100Z",
     "start_time": "2023-11-03T04:07:34.581993600Z"
    }
   },
   "id": "4d1e02793770213c"
  },
  {
   "cell_type": "markdown",
   "source": [
    "# Train model"
   ],
   "metadata": {
    "collapsed": false
   },
   "id": "9a65c7e1d50abfbd"
  },
  {
   "cell_type": "code",
   "execution_count": 128,
   "outputs": [],
   "source": [
    "sampled_with_label_0 = with_label_0.sample(n=50000, random_state=42)\n",
    "sampled_with_label_1 = with_label_1.sample(n=50000, random_state=42)"
   ],
   "metadata": {
    "collapsed": false,
    "ExecuteTime": {
     "end_time": "2023-11-03T04:07:34.774095Z",
     "start_time": "2023-11-03T04:07:34.628889100Z"
    }
   },
   "id": "49f344fe22d5af7f"
  },
  {
   "cell_type": "code",
   "execution_count": 129,
   "outputs": [],
   "source": [
    "combined_df = pd.concat([sampled_with_label_0, sampled_with_label_1], ignore_index=True)"
   ],
   "metadata": {
    "collapsed": false,
    "ExecuteTime": {
     "end_time": "2023-11-03T04:07:34.774095Z",
     "start_time": "2023-11-03T04:07:34.707699600Z"
    }
   },
   "id": "46f1e70f983f3a47"
  },
  {
   "cell_type": "code",
   "execution_count": 130,
   "outputs": [
    {
     "name": "stdout",
     "output_type": "stream",
     "text": [
      "50000\n",
      "50000\n"
     ]
    }
   ],
   "source": [
    "v_sampled_with_label_0 = with_label_0.sample(n=50000, random_state=42)\n",
    "V_sampled_with_label_1 = with_label_1.sample(n=50000, random_state=42)\n",
    "print(len(v_sampled_with_label_0))\n",
    "print(len(V_sampled_with_label_1))"
   ],
   "metadata": {
    "collapsed": false,
    "ExecuteTime": {
     "end_time": "2023-11-03T04:07:34.874341500Z",
     "start_time": "2023-11-03T04:07:34.724655200Z"
    }
   },
   "id": "adc3aa9a8e45bf18"
  },
  {
   "cell_type": "code",
   "execution_count": 131,
   "outputs": [],
   "source": [
    "v_df = pd.concat([sampled_with_label_0, sampled_with_label_1], ignore_index=True)"
   ],
   "metadata": {
    "collapsed": false,
    "ExecuteTime": {
     "end_time": "2023-11-03T04:07:34.902267100Z",
     "start_time": "2023-11-03T04:07:34.803019200Z"
    }
   },
   "id": "ff624d95b058b5f7"
  },
  {
   "cell_type": "code",
   "execution_count": 132,
   "outputs": [
    {
     "name": "stdout",
     "output_type": "stream",
     "text": [
      "[LibSVM]Accuracy: 0.5485\n",
      "              precision    recall  f1-score   support\n",
      "\n",
      "           0       0.55      0.57      0.56     10035\n",
      "           1       0.55      0.53      0.54      9965\n",
      "\n",
      "    accuracy                           0.55     20000\n",
      "   macro avg       0.55      0.55      0.55     20000\n",
      "weighted avg       0.55      0.55      0.55     20000\n"
     ]
    }
   ],
   "source": [
    "from sklearn.model_selection import train_test_split\n",
    "from sklearn.preprocessing import StandardScaler\n",
    "from sklearn.svm import SVC\n",
    "from sklearn.metrics import classification_report, accuracy_score\n",
    "\n",
    "X = combined_df.drop('label', axis=1).values\n",
    "y = combined_df['label'].values\n",
    "\n",
    "X_train, X_test, y_train, y_test = train_test_split(X, y, test_size=0.2, random_state=42)\n",
    "\n",
    "scaler = StandardScaler()\n",
    "X_train = scaler.fit_transform(X_train)\n",
    "X_test = scaler.transform(X_test)\n",
    "\n",
    "clf = SVC(kernel='rbf', verbose=True)  \n",
    "clf.fit(X_train, y_train)\n",
    "\n",
    "y_pred = clf.predict(X_test)\n",
    "\n",
    "print(\"Accuracy:\", accuracy_score(y_test, y_pred))\n",
    "print(classification_report(y_test, y_pred))"
   ],
   "metadata": {
    "collapsed": false,
    "ExecuteTime": {
     "end_time": "2023-11-03T04:13:38.779447200Z",
     "start_time": "2023-11-03T04:07:34.818976200Z"
    }
   },
   "id": "9740db2700bc8910"
  },
  {
   "cell_type": "code",
   "execution_count": 133,
   "outputs": [
    {
     "name": "stdout",
     "output_type": "stream",
     "text": [
      "Confusion Matrix:\n",
      "[[5711 4324]\n",
      " [4706 5259]]\n",
      "vitals_data_before_and_after_ABCD.csv\n",
      "\n",
      "********* MCC: 0.0969\n"
     ]
    }
   ],
   "source": [
    "from sklearn.metrics import confusion_matrix, matthews_corrcoef\n",
    "\n",
    "conf_matrix = confusion_matrix(y_test, y_pred)\n",
    "print(\"Confusion Matrix:\")\n",
    "print(conf_matrix)\n",
    "\n",
    "mcc_value = matthews_corrcoef(y_test, y_pred)\n",
    "print(filename)\n",
    "print(\"\\n********* MCC:\", round(mcc_value, 4))\n"
   ],
   "metadata": {
    "collapsed": false,
    "ExecuteTime": {
     "end_time": "2023-11-03T04:13:38.823782800Z",
     "start_time": "2023-11-03T04:13:38.779447200Z"
    }
   },
   "id": "e0d6ca5435a9a60f"
  },
  {
   "cell_type": "code",
   "execution_count": 134,
   "outputs": [
    {
     "data": {
      "text/plain": "<Figure size 640x480 with 2 Axes>",
      "image/png": "[encoded data removed]"
     },
     "metadata": {},
     "output_type": "display_data"
    }
   ],
   "source": [
    "import seaborn as sns\n",
    "import matplotlib.pyplot as plt\n",
    "\n",
    "cm = confusion_matrix(y_test, y_pred)\n",
    "sns.heatmap(cm, annot=True, fmt=\"d\")\n",
    "plt.ylabel('Actual')\n",
    "plt.xlabel('Predicted')\n",
    "plt.show()"
   ],
   "metadata": {
    "collapsed": false,
    "ExecuteTime": {
     "end_time": "2023-11-03T04:13:39.001953800Z",
     "start_time": "2023-11-03T04:13:38.809782300Z"
    }
   },
   "id": "de58ae40a92f7ced"
  },
  {
   "cell_type": "code",
   "execution_count": 135,
   "outputs": [],
   "source": [
    "# from sklearn.metrics import accuracy_score\n",
    "# \n",
    "# X = v_df.drop('label', axis=1).values\n",
    "# y = v_df['label'].values\n",
    "# \n",
    "# X_scaled = scaler.transform(X)\n",
    "# \n",
    "# y_pred = clf.predict(X_scaled)\n",
    "# \n",
    "# accuracy = accuracy_score(y, y_pred)\n",
    "# print(f\"Accuracy: {accuracy * 100:.2f}%\")\n"
   ],
   "metadata": {
    "collapsed": false,
    "ExecuteTime": {
     "end_time": "2023-11-03T04:13:39.013934800Z",
     "start_time": "2023-11-03T04:13:38.998962200Z"
    }
   },
   "id": "5a02022d389a745f"
  },
  {
   "cell_type": "code",
   "execution_count": 136,
   "outputs": [],
   "source": [
    "# from sklearn.metrics import confusion_matrix\n",
    "# import seaborn as sns\n",
    "# import matplotlib.pyplot as plt\n",
    "# \n",
    "# cm = confusion_matrix(y, y_pred)\n",
    "# sns.heatmap(cm, annot=True, fmt=\"d\")\n",
    "# plt.ylabel('Actual')\n",
    "# plt.xlabel('Predicted')\n",
    "# plt.show()"
   ],
   "metadata": {
    "collapsed": false,
    "ExecuteTime": {
     "end_time": "2023-11-03T04:13:39.074040700Z",
     "start_time": "2023-11-03T04:13:39.014919200Z"
    }
   },
   "id": "77bc7eb2db053865"
  },
  {
   "cell_type": "code",
   "execution_count": 137,
   "outputs": [],
   "source": [
    "# from sklearn.metrics import roc_curve, auc\n",
    "# \n",
    "# fpr, tpr, thresholds = roc_curve(y, y_pred)\n",
    "# roc_auc = auc(fpr, tpr)\n",
    "# \n",
    "# plt.figure()\n",
    "# plt.plot(fpr, tpr, color='darkorange', label='ROC curve (area = %0.2f)' % roc_auc)\n",
    "# plt.plot([0, 1], [0, 1], color='navy', linestyle='--')\n",
    "# plt.xlim([0.0, 1.0])\n",
    "# plt.ylim([0.0, 1.05])\n",
    "# plt.xlabel('False Positive Rate')\n",
    "# plt.ylabel('True Positive Rate')\n",
    "# plt.title('Receiver Operating Characteristic Curve')\n",
    "# plt.legend(loc=\"lower right\")\n",
    "# plt.show()\n"
   ],
   "metadata": {
    "collapsed": false,
    "ExecuteTime": {
     "end_time": "2023-11-03T04:13:39.074040700Z",
     "start_time": "2023-11-03T04:13:39.028896200Z"
    }
   },
   "id": "e3d3430f069c8a02"
  }
 ],
 "metadata": {
  "kernelspec": {
   "display_name": "Python 3",
   "language": "python",
   "name": "python3"
  },
  "language_info": {
   "codemirror_mode": {
    "name": "ipython",
    "version": 2
   },
   "file_extension": ".py",
   "mimetype": "text/x-python",
   "name": "python",
   "nbconvert_exporter": "python",
   "pygments_lexer": "ipython2",
   "version": "2.7.6"
  }
 },
 "nbformat": 4,
 "nbformat_minor": 5
}
