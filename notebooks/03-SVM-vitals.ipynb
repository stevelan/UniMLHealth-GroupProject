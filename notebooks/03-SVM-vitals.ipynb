{
 "cells": [
  {
   "cell_type": "code",
   "execution_count": 1,
   "id": "initial_id",
   "metadata": {
    "collapsed": true,
    "ExecuteTime": {
     "end_time": "2023-11-02T03:45:44.052496100Z",
     "start_time": "2023-11-02T03:45:44.037484100Z"
    }
   },
   "outputs": [],
   "source": [
    "import pandas as pd"
   ]
  },
  {
   "cell_type": "code",
   "execution_count": 2,
   "outputs": [
    {
     "data": {
      "text/plain": "        Unnamed: 0   stay_id          dose_b_time  subject_id  \\\n0                0  30000484  2136-01-15 00:59:00    18421337   \n1                1  30000484  2136-01-15 00:59:00    18421337   \n2                2  30000484  2136-01-15 00:59:00    18421337   \n3                3  30000484  2136-01-15 00:59:00    18421337   \n4                4  30000484  2136-01-15 00:59:00    18421337   \n...            ...       ...                  ...         ...   \n645011         525  38985738  2149-10-13 08:45:00    18321272   \n645012         526  38985738  2149-10-13 08:45:00    18321272   \n645013         527  38985738  2149-10-13 08:45:00    18321272   \n645014         528  38985738  2149-10-13 08:45:00    18321272   \n645015         529  38985738  2149-10-13 08:45:00    18321272   \n\n                  charttime  heart_rate    sbp   dbp   mbp  \n0       2136-01-15 03:00:00        84.0   90.0  44.0  54.0  \n1       2136-01-15 07:00:00        83.0   88.0  38.0  50.0  \n2       2136-01-15 09:00:00        83.0  111.0  23.0  46.0  \n3       2136-01-15 08:00:00        90.0  113.0  61.0  75.0  \n4       2136-01-14 18:38:00       106.0    NaN   NaN   NaN  \n...                     ...         ...    ...   ...   ...  \n645011  2149-10-13 00:00:00       103.0    NaN   NaN   NaN  \n645012  2149-10-13 08:00:00       103.0  123.0  74.0  86.0  \n645013  2149-10-13 16:00:00       100.0  127.0  56.0  74.0  \n645014  2149-10-13 17:00:00       107.0  134.0  76.0  88.0  \n645015  2149-10-12 21:00:00       117.0    NaN   NaN   NaN  \n\n[645016 rows x 9 columns]",
      "text/html": "<div>\n<style scoped>\n    .dataframe tbody tr th:only-of-type {\n        vertical-align: middle;\n    }\n\n    .dataframe tbody tr th {\n        vertical-align: top;\n    }\n\n    .dataframe thead th {\n        text-align: right;\n    }\n</style>\n<table border=\"1\" class=\"dataframe\">\n  <thead>\n    <tr style=\"text-align: right;\">\n      <th></th>\n      <th>Unnamed: 0</th>\n      <th>stay_id</th>\n      <th>dose_b_time</th>\n      <th>subject_id</th>\n      <th>charttime</th>\n      <th>heart_rate</th>\n      <th>sbp</th>\n      <th>dbp</th>\n      <th>mbp</th>\n    </tr>\n  </thead>\n  <tbody>\n    <tr>\n      <th>0</th>\n      <td>0</td>\n      <td>30000484</td>\n      <td>2136-01-15 00:59:00</td>\n      <td>18421337</td>\n      <td>2136-01-15 03:00:00</td>\n      <td>84.0</td>\n      <td>90.0</td>\n      <td>44.0</td>\n      <td>54.0</td>\n    </tr>\n    <tr>\n      <th>1</th>\n      <td>1</td>\n      <td>30000484</td>\n      <td>2136-01-15 00:59:00</td>\n      <td>18421337</td>\n      <td>2136-01-15 07:00:00</td>\n      <td>83.0</td>\n      <td>88.0</td>\n      <td>38.0</td>\n      <td>50.0</td>\n    </tr>\n    <tr>\n      <th>2</th>\n      <td>2</td>\n      <td>30000484</td>\n      <td>2136-01-15 00:59:00</td>\n      <td>18421337</td>\n      <td>2136-01-15 09:00:00</td>\n      <td>83.0</td>\n      <td>111.0</td>\n      <td>23.0</td>\n      <td>46.0</td>\n    </tr>\n    <tr>\n      <th>3</th>\n      <td>3</td>\n      <td>30000484</td>\n      <td>2136-01-15 00:59:00</td>\n      <td>18421337</td>\n      <td>2136-01-15 08:00:00</td>\n      <td>90.0</td>\n      <td>113.0</td>\n      <td>61.0</td>\n      <td>75.0</td>\n    </tr>\n    <tr>\n      <th>4</th>\n      <td>4</td>\n      <td>30000484</td>\n      <td>2136-01-15 00:59:00</td>\n      <td>18421337</td>\n      <td>2136-01-14 18:38:00</td>\n      <td>106.0</td>\n      <td>NaN</td>\n      <td>NaN</td>\n      <td>NaN</td>\n    </tr>\n    <tr>\n      <th>...</th>\n      <td>...</td>\n      <td>...</td>\n      <td>...</td>\n      <td>...</td>\n      <td>...</td>\n      <td>...</td>\n      <td>...</td>\n      <td>...</td>\n      <td>...</td>\n    </tr>\n    <tr>\n      <th>645011</th>\n      <td>525</td>\n      <td>38985738</td>\n      <td>2149-10-13 08:45:00</td>\n      <td>18321272</td>\n      <td>2149-10-13 00:00:00</td>\n      <td>103.0</td>\n      <td>NaN</td>\n      <td>NaN</td>\n      <td>NaN</td>\n    </tr>\n    <tr>\n      <th>645012</th>\n      <td>526</td>\n      <td>38985738</td>\n      <td>2149-10-13 08:45:00</td>\n      <td>18321272</td>\n      <td>2149-10-13 08:00:00</td>\n      <td>103.0</td>\n      <td>123.0</td>\n      <td>74.0</td>\n      <td>86.0</td>\n    </tr>\n    <tr>\n      <th>645013</th>\n      <td>527</td>\n      <td>38985738</td>\n      <td>2149-10-13 08:45:00</td>\n      <td>18321272</td>\n      <td>2149-10-13 16:00:00</td>\n      <td>100.0</td>\n      <td>127.0</td>\n      <td>56.0</td>\n      <td>74.0</td>\n    </tr>\n    <tr>\n      <th>645014</th>\n      <td>528</td>\n      <td>38985738</td>\n      <td>2149-10-13 08:45:00</td>\n      <td>18321272</td>\n      <td>2149-10-13 17:00:00</td>\n      <td>107.0</td>\n      <td>134.0</td>\n      <td>76.0</td>\n      <td>88.0</td>\n    </tr>\n    <tr>\n      <th>645015</th>\n      <td>529</td>\n      <td>38985738</td>\n      <td>2149-10-13 08:45:00</td>\n      <td>18321272</td>\n      <td>2149-10-12 21:00:00</td>\n      <td>117.0</td>\n      <td>NaN</td>\n      <td>NaN</td>\n      <td>NaN</td>\n    </tr>\n  </tbody>\n</table>\n<p>645016 rows × 9 columns</p>\n</div>"
     },
     "execution_count": 2,
     "metadata": {},
     "output_type": "execute_result"
    }
   ],
   "source": [
    "with_label_1 = pd.read_csv('vitals_data_before_and_after.csv')\n",
    "with_label_1"
   ],
   "metadata": {
    "collapsed": false,
    "ExecuteTime": {
     "end_time": "2023-11-02T03:45:44.840174500Z",
     "start_time": "2023-11-02T03:45:44.053497300Z"
    }
   },
   "id": "1ef142ecc65f27c0"
  },
  {
   "cell_type": "code",
   "execution_count": 3,
   "outputs": [
    {
     "data": {
      "text/plain": "        heart_rate    sbp   dbp   mbp\n0             84.0   90.0  44.0  54.0\n1             83.0   88.0  38.0  50.0\n2             83.0  111.0  23.0  46.0\n3             90.0  113.0  61.0  75.0\n4            106.0    NaN   NaN   NaN\n...            ...    ...   ...   ...\n645011       103.0    NaN   NaN   NaN\n645012       103.0  123.0  74.0  86.0\n645013       100.0  127.0  56.0  74.0\n645014       107.0  134.0  76.0  88.0\n645015       117.0    NaN   NaN   NaN\n\n[645016 rows x 4 columns]",
      "text/html": "<div>\n<style scoped>\n    .dataframe tbody tr th:only-of-type {\n        vertical-align: middle;\n    }\n\n    .dataframe tbody tr th {\n        vertical-align: top;\n    }\n\n    .dataframe thead th {\n        text-align: right;\n    }\n</style>\n<table border=\"1\" class=\"dataframe\">\n  <thead>\n    <tr style=\"text-align: right;\">\n      <th></th>\n      <th>heart_rate</th>\n      <th>sbp</th>\n      <th>dbp</th>\n      <th>mbp</th>\n    </tr>\n  </thead>\n  <tbody>\n    <tr>\n      <th>0</th>\n      <td>84.0</td>\n      <td>90.0</td>\n      <td>44.0</td>\n      <td>54.0</td>\n    </tr>\n    <tr>\n      <th>1</th>\n      <td>83.0</td>\n      <td>88.0</td>\n      <td>38.0</td>\n      <td>50.0</td>\n    </tr>\n    <tr>\n      <th>2</th>\n      <td>83.0</td>\n      <td>111.0</td>\n      <td>23.0</td>\n      <td>46.0</td>\n    </tr>\n    <tr>\n      <th>3</th>\n      <td>90.0</td>\n      <td>113.0</td>\n      <td>61.0</td>\n      <td>75.0</td>\n    </tr>\n    <tr>\n      <th>4</th>\n      <td>106.0</td>\n      <td>NaN</td>\n      <td>NaN</td>\n      <td>NaN</td>\n    </tr>\n    <tr>\n      <th>...</th>\n      <td>...</td>\n      <td>...</td>\n      <td>...</td>\n      <td>...</td>\n    </tr>\n    <tr>\n      <th>645011</th>\n      <td>103.0</td>\n      <td>NaN</td>\n      <td>NaN</td>\n      <td>NaN</td>\n    </tr>\n    <tr>\n      <th>645012</th>\n      <td>103.0</td>\n      <td>123.0</td>\n      <td>74.0</td>\n      <td>86.0</td>\n    </tr>\n    <tr>\n      <th>645013</th>\n      <td>100.0</td>\n      <td>127.0</td>\n      <td>56.0</td>\n      <td>74.0</td>\n    </tr>\n    <tr>\n      <th>645014</th>\n      <td>107.0</td>\n      <td>134.0</td>\n      <td>76.0</td>\n      <td>88.0</td>\n    </tr>\n    <tr>\n      <th>645015</th>\n      <td>117.0</td>\n      <td>NaN</td>\n      <td>NaN</td>\n      <td>NaN</td>\n    </tr>\n  </tbody>\n</table>\n<p>645016 rows × 4 columns</p>\n</div>"
     },
     "execution_count": 3,
     "metadata": {},
     "output_type": "execute_result"
    }
   ],
   "source": [
    "with_label_1 = with_label_1.drop(['stay_id', 'subject_id', 'charttime'], axis=1)\n",
    "with_label_1 = with_label_1.drop('Unnamed: 0', axis=1)\n",
    "with_label_1 = with_label_1.drop('dose_b_time', axis=1)\n",
    "with_label_1"
   ],
   "metadata": {
    "collapsed": false,
    "ExecuteTime": {
     "end_time": "2023-11-02T03:45:44.948679700Z",
     "start_time": "2023-11-02T03:45:44.842674100Z"
    }
   },
   "id": "7441bc5b065297bf"
  },
  {
   "cell_type": "code",
   "execution_count": 4,
   "outputs": [
    {
     "data": {
      "text/plain": "        heart_rate    sbp   dbp   mbp  label\n0             84.0   90.0  44.0  54.0      1\n1             83.0   88.0  38.0  50.0      1\n2             83.0  111.0  23.0  46.0      1\n3             90.0  113.0  61.0  75.0      1\n4            106.0    NaN   NaN   NaN      1\n...            ...    ...   ...   ...    ...\n645011       103.0    NaN   NaN   NaN      1\n645012       103.0  123.0  74.0  86.0      1\n645013       100.0  127.0  56.0  74.0      1\n645014       107.0  134.0  76.0  88.0      1\n645015       117.0    NaN   NaN   NaN      1\n\n[645016 rows x 5 columns]",
      "text/html": "<div>\n<style scoped>\n    .dataframe tbody tr th:only-of-type {\n        vertical-align: middle;\n    }\n\n    .dataframe tbody tr th {\n        vertical-align: top;\n    }\n\n    .dataframe thead th {\n        text-align: right;\n    }\n</style>\n<table border=\"1\" class=\"dataframe\">\n  <thead>\n    <tr style=\"text-align: right;\">\n      <th></th>\n      <th>heart_rate</th>\n      <th>sbp</th>\n      <th>dbp</th>\n      <th>mbp</th>\n      <th>label</th>\n    </tr>\n  </thead>\n  <tbody>\n    <tr>\n      <th>0</th>\n      <td>84.0</td>\n      <td>90.0</td>\n      <td>44.0</td>\n      <td>54.0</td>\n      <td>1</td>\n    </tr>\n    <tr>\n      <th>1</th>\n      <td>83.0</td>\n      <td>88.0</td>\n      <td>38.0</td>\n      <td>50.0</td>\n      <td>1</td>\n    </tr>\n    <tr>\n      <th>2</th>\n      <td>83.0</td>\n      <td>111.0</td>\n      <td>23.0</td>\n      <td>46.0</td>\n      <td>1</td>\n    </tr>\n    <tr>\n      <th>3</th>\n      <td>90.0</td>\n      <td>113.0</td>\n      <td>61.0</td>\n      <td>75.0</td>\n      <td>1</td>\n    </tr>\n    <tr>\n      <th>4</th>\n      <td>106.0</td>\n      <td>NaN</td>\n      <td>NaN</td>\n      <td>NaN</td>\n      <td>1</td>\n    </tr>\n    <tr>\n      <th>...</th>\n      <td>...</td>\n      <td>...</td>\n      <td>...</td>\n      <td>...</td>\n      <td>...</td>\n    </tr>\n    <tr>\n      <th>645011</th>\n      <td>103.0</td>\n      <td>NaN</td>\n      <td>NaN</td>\n      <td>NaN</td>\n      <td>1</td>\n    </tr>\n    <tr>\n      <th>645012</th>\n      <td>103.0</td>\n      <td>123.0</td>\n      <td>74.0</td>\n      <td>86.0</td>\n      <td>1</td>\n    </tr>\n    <tr>\n      <th>645013</th>\n      <td>100.0</td>\n      <td>127.0</td>\n      <td>56.0</td>\n      <td>74.0</td>\n      <td>1</td>\n    </tr>\n    <tr>\n      <th>645014</th>\n      <td>107.0</td>\n      <td>134.0</td>\n      <td>76.0</td>\n      <td>88.0</td>\n      <td>1</td>\n    </tr>\n    <tr>\n      <th>645015</th>\n      <td>117.0</td>\n      <td>NaN</td>\n      <td>NaN</td>\n      <td>NaN</td>\n      <td>1</td>\n    </tr>\n  </tbody>\n</table>\n<p>645016 rows × 5 columns</p>\n</div>"
     },
     "execution_count": 4,
     "metadata": {},
     "output_type": "execute_result"
    }
   ],
   "source": [
    "with_label_1['label'] = 1\n",
    "with_label_1"
   ],
   "metadata": {
    "collapsed": false,
    "ExecuteTime": {
     "end_time": "2023-11-02T03:45:44.950680300Z",
     "start_time": "2023-11-02T03:45:44.903175300Z"
    }
   },
   "id": "68bb8a808e0f112"
  },
  {
   "cell_type": "code",
   "execution_count": 5,
   "outputs": [
    {
     "name": "stdout",
     "output_type": "stream",
     "text": [
      "heart_rate    160710\n",
      "sbp           160346\n",
      "dbp           160405\n",
      "mbp           160468\n",
      "label              0\n",
      "dtype: int64\n"
     ]
    }
   ],
   "source": [
    "missing_values = with_label_1.isnull().sum()\n",
    "print(missing_values)"
   ],
   "metadata": {
    "collapsed": false,
    "ExecuteTime": {
     "end_time": "2023-11-02T03:45:44.951680400Z",
     "start_time": "2023-11-02T03:45:44.935263800Z"
    }
   },
   "id": "cf5da0d460c2a9c4"
  },
  {
   "cell_type": "code",
   "execution_count": 6,
   "outputs": [
    {
     "data": {
      "text/plain": "        heart_rate    sbp   dbp    mbp  label\n0             84.0   90.0  44.0   54.0      1\n1             83.0   88.0  38.0   50.0      1\n2             83.0  111.0  23.0   46.0      1\n3             90.0  113.0  61.0   75.0      1\n4            106.0  113.0  61.0   75.0      1\n...            ...    ...   ...    ...    ...\n645011       103.0  123.0  93.0  100.0      1\n645012       103.0  123.0  74.0   86.0      1\n645013       100.0  127.0  56.0   74.0      1\n645014       107.0  134.0  76.0   88.0      1\n645015       117.0  134.0  76.0   88.0      1\n\n[645016 rows x 5 columns]",
      "text/html": "<div>\n<style scoped>\n    .dataframe tbody tr th:only-of-type {\n        vertical-align: middle;\n    }\n\n    .dataframe tbody tr th {\n        vertical-align: top;\n    }\n\n    .dataframe thead th {\n        text-align: right;\n    }\n</style>\n<table border=\"1\" class=\"dataframe\">\n  <thead>\n    <tr style=\"text-align: right;\">\n      <th></th>\n      <th>heart_rate</th>\n      <th>sbp</th>\n      <th>dbp</th>\n      <th>mbp</th>\n      <th>label</th>\n    </tr>\n  </thead>\n  <tbody>\n    <tr>\n      <th>0</th>\n      <td>84.0</td>\n      <td>90.0</td>\n      <td>44.0</td>\n      <td>54.0</td>\n      <td>1</td>\n    </tr>\n    <tr>\n      <th>1</th>\n      <td>83.0</td>\n      <td>88.0</td>\n      <td>38.0</td>\n      <td>50.0</td>\n      <td>1</td>\n    </tr>\n    <tr>\n      <th>2</th>\n      <td>83.0</td>\n      <td>111.0</td>\n      <td>23.0</td>\n      <td>46.0</td>\n      <td>1</td>\n    </tr>\n    <tr>\n      <th>3</th>\n      <td>90.0</td>\n      <td>113.0</td>\n      <td>61.0</td>\n      <td>75.0</td>\n      <td>1</td>\n    </tr>\n    <tr>\n      <th>4</th>\n      <td>106.0</td>\n      <td>113.0</td>\n      <td>61.0</td>\n      <td>75.0</td>\n      <td>1</td>\n    </tr>\n    <tr>\n      <th>...</th>\n      <td>...</td>\n      <td>...</td>\n      <td>...</td>\n      <td>...</td>\n      <td>...</td>\n    </tr>\n    <tr>\n      <th>645011</th>\n      <td>103.0</td>\n      <td>123.0</td>\n      <td>93.0</td>\n      <td>100.0</td>\n      <td>1</td>\n    </tr>\n    <tr>\n      <th>645012</th>\n      <td>103.0</td>\n      <td>123.0</td>\n      <td>74.0</td>\n      <td>86.0</td>\n      <td>1</td>\n    </tr>\n    <tr>\n      <th>645013</th>\n      <td>100.0</td>\n      <td>127.0</td>\n      <td>56.0</td>\n      <td>74.0</td>\n      <td>1</td>\n    </tr>\n    <tr>\n      <th>645014</th>\n      <td>107.0</td>\n      <td>134.0</td>\n      <td>76.0</td>\n      <td>88.0</td>\n      <td>1</td>\n    </tr>\n    <tr>\n      <th>645015</th>\n      <td>117.0</td>\n      <td>134.0</td>\n      <td>76.0</td>\n      <td>88.0</td>\n      <td>1</td>\n    </tr>\n  </tbody>\n</table>\n<p>645016 rows × 5 columns</p>\n</div>"
     },
     "execution_count": 6,
     "metadata": {},
     "output_type": "execute_result"
    }
   ],
   "source": [
    "cols_to_fill = ['heart_rate', 'sbp', 'dbp', 'mbp']\n",
    "\n",
    "for col in cols_to_fill:\n",
    "    with_label_1[col].fillna(method='ffill', inplace=True)\n",
    "    with_label_1[col].fillna(method='bfill', inplace=True)\n",
    "\n",
    "with_label_1"
   ],
   "metadata": {
    "collapsed": false,
    "ExecuteTime": {
     "end_time": "2023-11-02T03:45:45.069046100Z",
     "start_time": "2023-11-02T03:45:44.949680100Z"
    }
   },
   "id": "924fc999374a22f3"
  },
  {
   "cell_type": "code",
   "execution_count": 7,
   "outputs": [
    {
     "data": {
      "text/plain": "         Unnamed: 0.1  Unnamed: 0   stay_id          dose_b_time  subject_id  \\\n0                   0           0  30000484  2136-01-15 22:02:00    18421337   \n1                   1           1  30000484  2136-01-15 22:02:00    18421337   \n2                   2           2  30000484  2136-01-15 22:02:00    18421337   \n3                   3           3  30000484  2136-01-15 22:02:00    18421337   \n4                   4           4  30000484  2136-01-15 22:02:00    18421337   \n...               ...         ...       ...                  ...         ...   \n1060725       1060725          24  39323481  2121-03-10 08:34:00    11652327   \n1060726       1060726          25  39323481  2121-03-10 08:34:00    11652327   \n1060727       1060727          26  39323481  2121-03-10 08:34:00    11652327   \n1060728       1060728          27  39323481  2121-03-10 08:34:00    11652327   \n1060729       1060729          28  39323481  2121-03-10 08:34:00    11652327   \n\n                   charttime  heart_rate    sbp    dbp   mbp  \n0        2136-01-15 18:00:00        89.0  103.0   22.0  41.0  \n1        2136-01-16 01:00:00        99.0    NaN    NaN   NaN  \n2        2136-01-15 14:30:00         NaN  129.0  113.0   NaN  \n3        2136-01-16 00:00:00        97.0    NaN    NaN   NaN  \n4        2136-01-15 14:00:00        92.0    NaN    NaN  58.0  \n...                      ...         ...    ...    ...   ...  \n1060725  2121-03-10 19:00:00       119.0  108.0   56.0  72.0  \n1060726  2121-03-09 22:30:00       111.0  139.0   71.0  94.0  \n1060727  2121-03-09 22:15:00       109.0  125.0   63.0  85.0  \n1060728  2121-03-09 22:00:00       110.0  129.0   65.0  87.0  \n1060729  2121-03-10 08:00:00       112.0  100.0   52.0  67.0  \n\n[1060730 rows x 10 columns]",
      "text/html": "<div>\n<style scoped>\n    .dataframe tbody tr th:only-of-type {\n        vertical-align: middle;\n    }\n\n    .dataframe tbody tr th {\n        vertical-align: top;\n    }\n\n    .dataframe thead th {\n        text-align: right;\n    }\n</style>\n<table border=\"1\" class=\"dataframe\">\n  <thead>\n    <tr style=\"text-align: right;\">\n      <th></th>\n      <th>Unnamed: 0.1</th>\n      <th>Unnamed: 0</th>\n      <th>stay_id</th>\n      <th>dose_b_time</th>\n      <th>subject_id</th>\n      <th>charttime</th>\n      <th>heart_rate</th>\n      <th>sbp</th>\n      <th>dbp</th>\n      <th>mbp</th>\n    </tr>\n  </thead>\n  <tbody>\n    <tr>\n      <th>0</th>\n      <td>0</td>\n      <td>0</td>\n      <td>30000484</td>\n      <td>2136-01-15 22:02:00</td>\n      <td>18421337</td>\n      <td>2136-01-15 18:00:00</td>\n      <td>89.0</td>\n      <td>103.0</td>\n      <td>22.0</td>\n      <td>41.0</td>\n    </tr>\n    <tr>\n      <th>1</th>\n      <td>1</td>\n      <td>1</td>\n      <td>30000484</td>\n      <td>2136-01-15 22:02:00</td>\n      <td>18421337</td>\n      <td>2136-01-16 01:00:00</td>\n      <td>99.0</td>\n      <td>NaN</td>\n      <td>NaN</td>\n      <td>NaN</td>\n    </tr>\n    <tr>\n      <th>2</th>\n      <td>2</td>\n      <td>2</td>\n      <td>30000484</td>\n      <td>2136-01-15 22:02:00</td>\n      <td>18421337</td>\n      <td>2136-01-15 14:30:00</td>\n      <td>NaN</td>\n      <td>129.0</td>\n      <td>113.0</td>\n      <td>NaN</td>\n    </tr>\n    <tr>\n      <th>3</th>\n      <td>3</td>\n      <td>3</td>\n      <td>30000484</td>\n      <td>2136-01-15 22:02:00</td>\n      <td>18421337</td>\n      <td>2136-01-16 00:00:00</td>\n      <td>97.0</td>\n      <td>NaN</td>\n      <td>NaN</td>\n      <td>NaN</td>\n    </tr>\n    <tr>\n      <th>4</th>\n      <td>4</td>\n      <td>4</td>\n      <td>30000484</td>\n      <td>2136-01-15 22:02:00</td>\n      <td>18421337</td>\n      <td>2136-01-15 14:00:00</td>\n      <td>92.0</td>\n      <td>NaN</td>\n      <td>NaN</td>\n      <td>58.0</td>\n    </tr>\n    <tr>\n      <th>...</th>\n      <td>...</td>\n      <td>...</td>\n      <td>...</td>\n      <td>...</td>\n      <td>...</td>\n      <td>...</td>\n      <td>...</td>\n      <td>...</td>\n      <td>...</td>\n      <td>...</td>\n    </tr>\n    <tr>\n      <th>1060725</th>\n      <td>1060725</td>\n      <td>24</td>\n      <td>39323481</td>\n      <td>2121-03-10 08:34:00</td>\n      <td>11652327</td>\n      <td>2121-03-10 19:00:00</td>\n      <td>119.0</td>\n      <td>108.0</td>\n      <td>56.0</td>\n      <td>72.0</td>\n    </tr>\n    <tr>\n      <th>1060726</th>\n      <td>1060726</td>\n      <td>25</td>\n      <td>39323481</td>\n      <td>2121-03-10 08:34:00</td>\n      <td>11652327</td>\n      <td>2121-03-09 22:30:00</td>\n      <td>111.0</td>\n      <td>139.0</td>\n      <td>71.0</td>\n      <td>94.0</td>\n    </tr>\n    <tr>\n      <th>1060727</th>\n      <td>1060727</td>\n      <td>26</td>\n      <td>39323481</td>\n      <td>2121-03-10 08:34:00</td>\n      <td>11652327</td>\n      <td>2121-03-09 22:15:00</td>\n      <td>109.0</td>\n      <td>125.0</td>\n      <td>63.0</td>\n      <td>85.0</td>\n    </tr>\n    <tr>\n      <th>1060728</th>\n      <td>1060728</td>\n      <td>27</td>\n      <td>39323481</td>\n      <td>2121-03-10 08:34:00</td>\n      <td>11652327</td>\n      <td>2121-03-09 22:00:00</td>\n      <td>110.0</td>\n      <td>129.0</td>\n      <td>65.0</td>\n      <td>87.0</td>\n    </tr>\n    <tr>\n      <th>1060729</th>\n      <td>1060729</td>\n      <td>28</td>\n      <td>39323481</td>\n      <td>2121-03-10 08:34:00</td>\n      <td>11652327</td>\n      <td>2121-03-10 08:00:00</td>\n      <td>112.0</td>\n      <td>100.0</td>\n      <td>52.0</td>\n      <td>67.0</td>\n    </tr>\n  </tbody>\n</table>\n<p>1060730 rows × 10 columns</p>\n</div>"
     },
     "execution_count": 7,
     "metadata": {},
     "output_type": "execute_result"
    }
   ],
   "source": [
    "with_label_0 = pd.read_csv('vitals_data_before_and_after_no_drug_interaction.csv')\n",
    "with_label_0"
   ],
   "metadata": {
    "collapsed": false,
    "ExecuteTime": {
     "end_time": "2023-11-02T03:45:46.190355900Z",
     "start_time": "2023-11-02T03:45:44.993799100Z"
    }
   },
   "id": "ecbf6eeffccdf7a9"
  },
  {
   "cell_type": "code",
   "execution_count": 8,
   "outputs": [
    {
     "data": {
      "text/plain": "         heart_rate    sbp    dbp   mbp\n0              89.0  103.0   22.0  41.0\n1              99.0    NaN    NaN   NaN\n2               NaN  129.0  113.0   NaN\n3              97.0    NaN    NaN   NaN\n4              92.0    NaN    NaN  58.0\n...             ...    ...    ...   ...\n1060725       119.0  108.0   56.0  72.0\n1060726       111.0  139.0   71.0  94.0\n1060727       109.0  125.0   63.0  85.0\n1060728       110.0  129.0   65.0  87.0\n1060729       112.0  100.0   52.0  67.0\n\n[1060730 rows x 4 columns]",
      "text/html": "<div>\n<style scoped>\n    .dataframe tbody tr th:only-of-type {\n        vertical-align: middle;\n    }\n\n    .dataframe tbody tr th {\n        vertical-align: top;\n    }\n\n    .dataframe thead th {\n        text-align: right;\n    }\n</style>\n<table border=\"1\" class=\"dataframe\">\n  <thead>\n    <tr style=\"text-align: right;\">\n      <th></th>\n      <th>heart_rate</th>\n      <th>sbp</th>\n      <th>dbp</th>\n      <th>mbp</th>\n    </tr>\n  </thead>\n  <tbody>\n    <tr>\n      <th>0</th>\n      <td>89.0</td>\n      <td>103.0</td>\n      <td>22.0</td>\n      <td>41.0</td>\n    </tr>\n    <tr>\n      <th>1</th>\n      <td>99.0</td>\n      <td>NaN</td>\n      <td>NaN</td>\n      <td>NaN</td>\n    </tr>\n    <tr>\n      <th>2</th>\n      <td>NaN</td>\n      <td>129.0</td>\n      <td>113.0</td>\n      <td>NaN</td>\n    </tr>\n    <tr>\n      <th>3</th>\n      <td>97.0</td>\n      <td>NaN</td>\n      <td>NaN</td>\n      <td>NaN</td>\n    </tr>\n    <tr>\n      <th>4</th>\n      <td>92.0</td>\n      <td>NaN</td>\n      <td>NaN</td>\n      <td>58.0</td>\n    </tr>\n    <tr>\n      <th>...</th>\n      <td>...</td>\n      <td>...</td>\n      <td>...</td>\n      <td>...</td>\n    </tr>\n    <tr>\n      <th>1060725</th>\n      <td>119.0</td>\n      <td>108.0</td>\n      <td>56.0</td>\n      <td>72.0</td>\n    </tr>\n    <tr>\n      <th>1060726</th>\n      <td>111.0</td>\n      <td>139.0</td>\n      <td>71.0</td>\n      <td>94.0</td>\n    </tr>\n    <tr>\n      <th>1060727</th>\n      <td>109.0</td>\n      <td>125.0</td>\n      <td>63.0</td>\n      <td>85.0</td>\n    </tr>\n    <tr>\n      <th>1060728</th>\n      <td>110.0</td>\n      <td>129.0</td>\n      <td>65.0</td>\n      <td>87.0</td>\n    </tr>\n    <tr>\n      <th>1060729</th>\n      <td>112.0</td>\n      <td>100.0</td>\n      <td>52.0</td>\n      <td>67.0</td>\n    </tr>\n  </tbody>\n</table>\n<p>1060730 rows × 4 columns</p>\n</div>"
     },
     "execution_count": 8,
     "metadata": {},
     "output_type": "execute_result"
    }
   ],
   "source": [
    "with_label_0 = with_label_0.drop(['stay_id', 'subject_id', 'charttime'], axis=1)\n",
    "with_label_0 = with_label_0.drop('Unnamed: 0', axis=1)\n",
    "with_label_0 = with_label_0.drop('Unnamed: 0.1', axis=1)\n",
    "with_label_0 = with_label_0.drop('dose_b_time', axis=1)\n",
    "with_label_0"
   ],
   "metadata": {
    "collapsed": false,
    "ExecuteTime": {
     "end_time": "2023-11-02T03:45:46.310916900Z",
     "start_time": "2023-11-02T03:45:46.188355500Z"
    }
   },
   "id": "1a9274904f690f5d"
  },
  {
   "cell_type": "code",
   "execution_count": 9,
   "outputs": [
    {
     "data": {
      "text/plain": "         heart_rate    sbp    dbp   mbp\n0              89.0  103.0   22.0  41.0\n1              99.0  103.0   22.0  41.0\n2              99.0  129.0  113.0  41.0\n3              97.0  129.0  113.0  41.0\n4              92.0  129.0  113.0  58.0\n...             ...    ...    ...   ...\n1060725       119.0  108.0   56.0  72.0\n1060726       111.0  139.0   71.0  94.0\n1060727       109.0  125.0   63.0  85.0\n1060728       110.0  129.0   65.0  87.0\n1060729       112.0  100.0   52.0  67.0\n\n[1060730 rows x 4 columns]",
      "text/html": "<div>\n<style scoped>\n    .dataframe tbody tr th:only-of-type {\n        vertical-align: middle;\n    }\n\n    .dataframe tbody tr th {\n        vertical-align: top;\n    }\n\n    .dataframe thead th {\n        text-align: right;\n    }\n</style>\n<table border=\"1\" class=\"dataframe\">\n  <thead>\n    <tr style=\"text-align: right;\">\n      <th></th>\n      <th>heart_rate</th>\n      <th>sbp</th>\n      <th>dbp</th>\n      <th>mbp</th>\n    </tr>\n  </thead>\n  <tbody>\n    <tr>\n      <th>0</th>\n      <td>89.0</td>\n      <td>103.0</td>\n      <td>22.0</td>\n      <td>41.0</td>\n    </tr>\n    <tr>\n      <th>1</th>\n      <td>99.0</td>\n      <td>103.0</td>\n      <td>22.0</td>\n      <td>41.0</td>\n    </tr>\n    <tr>\n      <th>2</th>\n      <td>99.0</td>\n      <td>129.0</td>\n      <td>113.0</td>\n      <td>41.0</td>\n    </tr>\n    <tr>\n      <th>3</th>\n      <td>97.0</td>\n      <td>129.0</td>\n      <td>113.0</td>\n      <td>41.0</td>\n    </tr>\n    <tr>\n      <th>4</th>\n      <td>92.0</td>\n      <td>129.0</td>\n      <td>113.0</td>\n      <td>58.0</td>\n    </tr>\n    <tr>\n      <th>...</th>\n      <td>...</td>\n      <td>...</td>\n      <td>...</td>\n      <td>...</td>\n    </tr>\n    <tr>\n      <th>1060725</th>\n      <td>119.0</td>\n      <td>108.0</td>\n      <td>56.0</td>\n      <td>72.0</td>\n    </tr>\n    <tr>\n      <th>1060726</th>\n      <td>111.0</td>\n      <td>139.0</td>\n      <td>71.0</td>\n      <td>94.0</td>\n    </tr>\n    <tr>\n      <th>1060727</th>\n      <td>109.0</td>\n      <td>125.0</td>\n      <td>63.0</td>\n      <td>85.0</td>\n    </tr>\n    <tr>\n      <th>1060728</th>\n      <td>110.0</td>\n      <td>129.0</td>\n      <td>65.0</td>\n      <td>87.0</td>\n    </tr>\n    <tr>\n      <th>1060729</th>\n      <td>112.0</td>\n      <td>100.0</td>\n      <td>52.0</td>\n      <td>67.0</td>\n    </tr>\n  </tbody>\n</table>\n<p>1060730 rows × 4 columns</p>\n</div>"
     },
     "execution_count": 9,
     "metadata": {},
     "output_type": "execute_result"
    }
   ],
   "source": [
    "cols_to_fill = ['heart_rate', 'sbp', 'dbp', 'mbp']\n",
    "\n",
    "for col in cols_to_fill:\n",
    "    with_label_0[col].fillna(method='ffill', inplace=True)\n",
    "    with_label_0[col].fillna(method='bfill', inplace=True)\n",
    "\n",
    "with_label_0"
   ],
   "metadata": {
    "collapsed": false,
    "ExecuteTime": {
     "end_time": "2023-11-02T03:45:46.385862800Z",
     "start_time": "2023-11-02T03:45:46.297416100Z"
    }
   },
   "id": "b411b5e74fbde9b0"
  },
  {
   "cell_type": "code",
   "execution_count": 10,
   "outputs": [
    {
     "name": "stdout",
     "output_type": "stream",
     "text": [
      "heart_rate    0\n",
      "sbp           0\n",
      "dbp           0\n",
      "mbp           0\n",
      "dtype: int64\n"
     ]
    }
   ],
   "source": [
    "missing_values = with_label_0.isnull().sum()\n",
    "print(missing_values)"
   ],
   "metadata": {
    "collapsed": false,
    "ExecuteTime": {
     "end_time": "2023-11-02T03:45:46.449376300Z",
     "start_time": "2023-11-02T03:45:46.362362400Z"
    }
   },
   "id": "55b3cea18ba16811"
  },
  {
   "cell_type": "code",
   "execution_count": 11,
   "outputs": [
    {
     "data": {
      "text/plain": "         heart_rate    sbp    dbp   mbp  label\n0              89.0  103.0   22.0  41.0      0\n1              99.0  103.0   22.0  41.0      0\n2              99.0  129.0  113.0  41.0      0\n3              97.0  129.0  113.0  41.0      0\n4              92.0  129.0  113.0  58.0      0\n...             ...    ...    ...   ...    ...\n1060725       119.0  108.0   56.0  72.0      0\n1060726       111.0  139.0   71.0  94.0      0\n1060727       109.0  125.0   63.0  85.0      0\n1060728       110.0  129.0   65.0  87.0      0\n1060729       112.0  100.0   52.0  67.0      0\n\n[1060730 rows x 5 columns]",
      "text/html": "<div>\n<style scoped>\n    .dataframe tbody tr th:only-of-type {\n        vertical-align: middle;\n    }\n\n    .dataframe tbody tr th {\n        vertical-align: top;\n    }\n\n    .dataframe thead th {\n        text-align: right;\n    }\n</style>\n<table border=\"1\" class=\"dataframe\">\n  <thead>\n    <tr style=\"text-align: right;\">\n      <th></th>\n      <th>heart_rate</th>\n      <th>sbp</th>\n      <th>dbp</th>\n      <th>mbp</th>\n      <th>label</th>\n    </tr>\n  </thead>\n  <tbody>\n    <tr>\n      <th>0</th>\n      <td>89.0</td>\n      <td>103.0</td>\n      <td>22.0</td>\n      <td>41.0</td>\n      <td>0</td>\n    </tr>\n    <tr>\n      <th>1</th>\n      <td>99.0</td>\n      <td>103.0</td>\n      <td>22.0</td>\n      <td>41.0</td>\n      <td>0</td>\n    </tr>\n    <tr>\n      <th>2</th>\n      <td>99.0</td>\n      <td>129.0</td>\n      <td>113.0</td>\n      <td>41.0</td>\n      <td>0</td>\n    </tr>\n    <tr>\n      <th>3</th>\n      <td>97.0</td>\n      <td>129.0</td>\n      <td>113.0</td>\n      <td>41.0</td>\n      <td>0</td>\n    </tr>\n    <tr>\n      <th>4</th>\n      <td>92.0</td>\n      <td>129.0</td>\n      <td>113.0</td>\n      <td>58.0</td>\n      <td>0</td>\n    </tr>\n    <tr>\n      <th>...</th>\n      <td>...</td>\n      <td>...</td>\n      <td>...</td>\n      <td>...</td>\n      <td>...</td>\n    </tr>\n    <tr>\n      <th>1060725</th>\n      <td>119.0</td>\n      <td>108.0</td>\n      <td>56.0</td>\n      <td>72.0</td>\n      <td>0</td>\n    </tr>\n    <tr>\n      <th>1060726</th>\n      <td>111.0</td>\n      <td>139.0</td>\n      <td>71.0</td>\n      <td>94.0</td>\n      <td>0</td>\n    </tr>\n    <tr>\n      <th>1060727</th>\n      <td>109.0</td>\n      <td>125.0</td>\n      <td>63.0</td>\n      <td>85.0</td>\n      <td>0</td>\n    </tr>\n    <tr>\n      <th>1060728</th>\n      <td>110.0</td>\n      <td>129.0</td>\n      <td>65.0</td>\n      <td>87.0</td>\n      <td>0</td>\n    </tr>\n    <tr>\n      <th>1060729</th>\n      <td>112.0</td>\n      <td>100.0</td>\n      <td>52.0</td>\n      <td>67.0</td>\n      <td>0</td>\n    </tr>\n  </tbody>\n</table>\n<p>1060730 rows × 5 columns</p>\n</div>"
     },
     "execution_count": 11,
     "metadata": {},
     "output_type": "execute_result"
    }
   ],
   "source": [
    "with_label_0['label'] = 0\n",
    "with_label_0"
   ],
   "metadata": {
    "collapsed": false,
    "ExecuteTime": {
     "end_time": "2023-11-02T03:45:46.482384800Z",
     "start_time": "2023-11-02T03:45:46.374363600Z"
    }
   },
   "id": "d814312a95d0c9cc"
  },
  {
   "cell_type": "code",
   "execution_count": 12,
   "outputs": [
    {
     "data": {
      "text/plain": "         heart_rate    sbp    dbp    mbp  label\n0              89.0  103.0   22.0   41.0      0\n1              99.0  103.0   22.0   41.0      0\n2              99.0  129.0  113.0   41.0      0\n3              97.0  129.0  113.0   41.0      0\n4              92.0  129.0  113.0   58.0      0\n...             ...    ...    ...    ...    ...\n1705741       103.0  123.0   93.0  100.0      1\n1705742       103.0  123.0   74.0   86.0      1\n1705743       100.0  127.0   56.0   74.0      1\n1705744       107.0  134.0   76.0   88.0      1\n1705745       117.0  134.0   76.0   88.0      1\n\n[1705746 rows x 5 columns]",
      "text/html": "<div>\n<style scoped>\n    .dataframe tbody tr th:only-of-type {\n        vertical-align: middle;\n    }\n\n    .dataframe tbody tr th {\n        vertical-align: top;\n    }\n\n    .dataframe thead th {\n        text-align: right;\n    }\n</style>\n<table border=\"1\" class=\"dataframe\">\n  <thead>\n    <tr style=\"text-align: right;\">\n      <th></th>\n      <th>heart_rate</th>\n      <th>sbp</th>\n      <th>dbp</th>\n      <th>mbp</th>\n      <th>label</th>\n    </tr>\n  </thead>\n  <tbody>\n    <tr>\n      <th>0</th>\n      <td>89.0</td>\n      <td>103.0</td>\n      <td>22.0</td>\n      <td>41.0</td>\n      <td>0</td>\n    </tr>\n    <tr>\n      <th>1</th>\n      <td>99.0</td>\n      <td>103.0</td>\n      <td>22.0</td>\n      <td>41.0</td>\n      <td>0</td>\n    </tr>\n    <tr>\n      <th>2</th>\n      <td>99.0</td>\n      <td>129.0</td>\n      <td>113.0</td>\n      <td>41.0</td>\n      <td>0</td>\n    </tr>\n    <tr>\n      <th>3</th>\n      <td>97.0</td>\n      <td>129.0</td>\n      <td>113.0</td>\n      <td>41.0</td>\n      <td>0</td>\n    </tr>\n    <tr>\n      <th>4</th>\n      <td>92.0</td>\n      <td>129.0</td>\n      <td>113.0</td>\n      <td>58.0</td>\n      <td>0</td>\n    </tr>\n    <tr>\n      <th>...</th>\n      <td>...</td>\n      <td>...</td>\n      <td>...</td>\n      <td>...</td>\n      <td>...</td>\n    </tr>\n    <tr>\n      <th>1705741</th>\n      <td>103.0</td>\n      <td>123.0</td>\n      <td>93.0</td>\n      <td>100.0</td>\n      <td>1</td>\n    </tr>\n    <tr>\n      <th>1705742</th>\n      <td>103.0</td>\n      <td>123.0</td>\n      <td>74.0</td>\n      <td>86.0</td>\n      <td>1</td>\n    </tr>\n    <tr>\n      <th>1705743</th>\n      <td>100.0</td>\n      <td>127.0</td>\n      <td>56.0</td>\n      <td>74.0</td>\n      <td>1</td>\n    </tr>\n    <tr>\n      <th>1705744</th>\n      <td>107.0</td>\n      <td>134.0</td>\n      <td>76.0</td>\n      <td>88.0</td>\n      <td>1</td>\n    </tr>\n    <tr>\n      <th>1705745</th>\n      <td>117.0</td>\n      <td>134.0</td>\n      <td>76.0</td>\n      <td>88.0</td>\n      <td>1</td>\n    </tr>\n  </tbody>\n</table>\n<p>1705746 rows × 5 columns</p>\n</div>"
     },
     "execution_count": 12,
     "metadata": {},
     "output_type": "execute_result"
    }
   ],
   "source": [
    "combined_original_df = pd.concat([with_label_0, with_label_1], ignore_index=True)\n",
    "combined_original_df"
   ],
   "metadata": {
    "collapsed": false,
    "ExecuteTime": {
     "end_time": "2023-11-02T03:45:46.484376300Z",
     "start_time": "2023-11-02T03:45:46.407361500Z"
    }
   },
   "id": "3a65a54853451a22"
  },
  {
   "cell_type": "markdown",
   "source": [
    "# Train model"
   ],
   "metadata": {
    "collapsed": false
   },
   "id": "9a65c7e1d50abfbd"
  },
  {
   "cell_type": "code",
   "execution_count": 13,
   "outputs": [],
   "source": [
    "sampled_with_label_0 = with_label_0.sample(n=50000, random_state=42)\n",
    "sampled_with_label_1 = with_label_1.sample(n=50000, random_state=42)"
   ],
   "metadata": {
    "collapsed": false,
    "ExecuteTime": {
     "end_time": "2023-11-02T03:45:46.580913Z",
     "start_time": "2023-11-02T03:45:46.454376400Z"
    }
   },
   "id": "49f344fe22d5af7f"
  },
  {
   "cell_type": "code",
   "execution_count": 14,
   "outputs": [],
   "source": [
    "combined_df = pd.concat([sampled_with_label_0, sampled_with_label_1], ignore_index=True)"
   ],
   "metadata": {
    "collapsed": false,
    "ExecuteTime": {
     "end_time": "2023-11-02T03:45:46.581412900Z",
     "start_time": "2023-11-02T03:45:46.527880900Z"
    }
   },
   "id": "46f1e70f983f3a47"
  },
  {
   "cell_type": "code",
   "execution_count": 15,
   "outputs": [],
   "source": [
    "v_sampled_with_label_0 = with_label_0.sample(n=50000, random_state=42)\n",
    "V_sampled_with_label_1 = with_label_1.sample(n=50000, random_state=42)"
   ],
   "metadata": {
    "collapsed": false,
    "ExecuteTime": {
     "end_time": "2023-11-02T03:45:46.764665600Z",
     "start_time": "2023-11-02T03:45:46.544413Z"
    }
   },
   "id": "adc3aa9a8e45bf18"
  },
  {
   "cell_type": "code",
   "execution_count": 16,
   "outputs": [],
   "source": [
    "v_df = pd.concat([sampled_with_label_0, sampled_with_label_1], ignore_index=True)"
   ],
   "metadata": {
    "collapsed": false,
    "ExecuteTime": {
     "end_time": "2023-11-02T03:45:46.765165700Z",
     "start_time": "2023-11-02T03:45:46.605412900Z"
    }
   },
   "id": "ff624d95b058b5f7"
  },
  {
   "cell_type": "code",
   "execution_count": 17,
   "outputs": [
    {
     "name": "stdout",
     "output_type": "stream",
     "text": [
      "Accuracy: 0.5869\n",
      "              precision    recall  f1-score   support\n",
      "\n",
      "           0       0.59      0.59      0.59     10035\n",
      "           1       0.59      0.58      0.58      9965\n",
      "\n",
      "    accuracy                           0.59     20000\n",
      "   macro avg       0.59      0.59      0.59     20000\n",
      "weighted avg       0.59      0.59      0.59     20000\n"
     ]
    }
   ],
   "source": [
    "from sklearn.model_selection import train_test_split\n",
    "from sklearn.preprocessing import StandardScaler\n",
    "from sklearn.svm import SVC\n",
    "from sklearn.metrics import classification_report, accuracy_score\n",
    "\n",
    "X = combined_df.drop('label', axis=1).values\n",
    "y = combined_df['label'].values\n",
    "\n",
    "X_train, X_test, y_train, y_test = train_test_split(X, y, test_size=0.2, random_state=42)\n",
    "\n",
    "scaler = StandardScaler()\n",
    "X_train = scaler.fit_transform(X_train)\n",
    "X_test = scaler.transform(X_test)\n",
    "\n",
    "clf = SVC(kernel='rbf')  \n",
    "clf.fit(X_train, y_train)\n",
    "\n",
    "y_pred = clf.predict(X_test)\n",
    "\n",
    "print(\"Accuracy:\", accuracy_score(y_test, y_pred))\n",
    "print(classification_report(y_test, y_pred))"
   ],
   "metadata": {
    "collapsed": false,
    "ExecuteTime": {
     "end_time": "2023-11-02T03:49:27.810562600Z",
     "start_time": "2023-11-02T03:45:46.625413Z"
    }
   },
   "id": "9740db2700bc8910"
  },
  {
   "cell_type": "code",
   "execution_count": 18,
   "outputs": [
    {
     "name": "stdout",
     "output_type": "stream",
     "text": [
      "Confusion Matrix:\n",
      "[[5940 4095]\n",
      " [4167 5798]]\n",
      "\n",
      "MCC: 0.17377356225771193\n"
     ]
    }
   ],
   "source": [
    "from sklearn.metrics import confusion_matrix, matthews_corrcoef\n",
    "\n",
    "conf_matrix = confusion_matrix(y_test, y_pred)\n",
    "print(\"Confusion Matrix:\")\n",
    "print(conf_matrix)\n",
    "\n",
    "mcc_value = matthews_corrcoef(y_test, y_pred)\n",
    "print(\"\\nMCC:\", mcc_value)\n"
   ],
   "metadata": {
    "collapsed": false,
    "ExecuteTime": {
     "end_time": "2023-11-02T03:49:27.827598400Z",
     "start_time": "2023-11-02T03:49:27.809563200Z"
    }
   },
   "id": "e0d6ca5435a9a60f"
  },
  {
   "cell_type": "code",
   "execution_count": 22,
   "outputs": [
    {
     "data": {
      "text/plain": "<Figure size 640x480 with 2 Axes>",
      "image/png": "[encoded data removed]"
     },
     "metadata": {},
     "output_type": "display_data"
    }
   ],
   "source": [
    "import seaborn as sns\n",
    "import matplotlib.pyplot as plt\n",
    "\n",
    "cm = confusion_matrix(y_test, y_pred)\n",
    "sns.heatmap(cm, annot=True, fmt=\"d\")\n",
    "plt.ylabel('Actual')\n",
    "plt.xlabel('Predicted')\n",
    "plt.show()"
   ],
   "metadata": {
    "collapsed": false,
    "ExecuteTime": {
     "end_time": "2023-11-02T03:56:58.258674400Z",
     "start_time": "2023-11-02T03:56:57.990195400Z"
    }
   },
   "id": "de58ae40a92f7ced"
  },
  {
   "cell_type": "code",
   "execution_count": 19,
   "outputs": [],
   "source": [
    "# from sklearn.metrics import accuracy_score\n",
    "# \n",
    "# X = v_df.drop('label', axis=1).values\n",
    "# y = v_df['label'].values\n",
    "# \n",
    "# X_scaled = scaler.transform(X)\n",
    "# \n",
    "# y_pred = clf.predict(X_scaled)\n",
    "# \n",
    "# accuracy = accuracy_score(y, y_pred)\n",
    "# print(f\"Accuracy: {accuracy * 100:.2f}%\")\n"
   ],
   "metadata": {
    "collapsed": false,
    "ExecuteTime": {
     "end_time": "2023-11-02T03:49:27.881783600Z",
     "start_time": "2023-11-02T03:49:27.824075200Z"
    }
   },
   "id": "5a02022d389a745f"
  },
  {
   "cell_type": "code",
   "execution_count": 20,
   "outputs": [],
   "source": [
    "# from sklearn.metrics import confusion_matrix\n",
    "# import seaborn as sns\n",
    "# import matplotlib.pyplot as plt\n",
    "# \n",
    "# cm = confusion_matrix(y, y_pred)\n",
    "# sns.heatmap(cm, annot=True, fmt=\"d\")\n",
    "# plt.ylabel('Actual')\n",
    "# plt.xlabel('Predicted')\n",
    "# plt.show()"
   ],
   "metadata": {
    "collapsed": false,
    "ExecuteTime": {
     "end_time": "2023-11-02T03:49:27.901924300Z",
     "start_time": "2023-11-02T03:49:27.838846300Z"
    }
   },
   "id": "77bc7eb2db053865"
  },
  {
   "cell_type": "code",
   "execution_count": 21,
   "outputs": [],
   "source": [
    "# from sklearn.metrics import roc_curve, auc\n",
    "# \n",
    "# fpr, tpr, thresholds = roc_curve(y, y_pred)\n",
    "# roc_auc = auc(fpr, tpr)\n",
    "# \n",
    "# plt.figure()\n",
    "# plt.plot(fpr, tpr, color='darkorange', label='ROC curve (area = %0.2f)' % roc_auc)\n",
    "# plt.plot([0, 1], [0, 1], color='navy', linestyle='--')\n",
    "# plt.xlim([0.0, 1.0])\n",
    "# plt.ylim([0.0, 1.05])\n",
    "# plt.xlabel('False Positive Rate')\n",
    "# plt.ylabel('True Positive Rate')\n",
    "# plt.title('Receiver Operating Characteristic Curve')\n",
    "# plt.legend(loc=\"lower right\")\n",
    "# plt.show()\n"
   ],
   "metadata": {
    "collapsed": false,
    "ExecuteTime": {
     "end_time": "2023-11-02T03:49:27.902914300Z",
     "start_time": "2023-11-02T03:49:27.854041500Z"
    }
   },
   "id": "e3d3430f069c8a02"
  }
 ],
 "metadata": {
  "kernelspec": {
   "display_name": "Python 3",
   "language": "python",
   "name": "python3"
  },
  "language_info": {
   "codemirror_mode": {
    "name": "ipython",
    "version": 2
   },
   "file_extension": ".py",
   "mimetype": "text/x-python",
   "name": "python",
   "nbconvert_exporter": "python",
   "pygments_lexer": "ipython2",
   "version": "2.7.6"
  }
 },
 "nbformat": 4,
 "nbformat_minor": 5
}
