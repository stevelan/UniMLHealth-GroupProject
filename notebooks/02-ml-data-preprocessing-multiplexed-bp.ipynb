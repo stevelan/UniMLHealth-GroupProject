{
 "cells": [
  {
   "cell_type": "markdown",
   "source": [
    "### This is a copu of ml-data-preprocessing, written to help with scaffolding for the query multiplexer.\n",
    "### 02-ml-data-preprocessing is still the main preprocessing file\n",
    "\n",
    "### ML Data pre-processing\n",
    "This notebook is for loading and cleaning the data that will be used to train the ML on.\n",
    "Things like patient heart rate and blood pressure readings that occurred around the time of the administration of the second dose \n",
    "\n",
    "It should persist the data into the \"out\" directory to be consumed by the ml training notebook"
   ],
   "metadata": {
    "collapsed": false
   },
   "id": "2f8191d46f8661e5"
  },
  {
   "cell_type": "code",
   "execution_count": 7,
   "outputs": [
    {
     "name": "stdout",
     "output_type": "stream",
     "text": [
      "Loading cohort\n",
      "Loaded cohort from ..\\out\\cohort-full.out\n",
      "            subject_id          hadm_id          stay_id  \\\n",
      "count          13051.0          13051.0          13051.0   \n",
      "mean   14897172.711363  25209949.443951  34898688.696881   \n",
      "min         10007795.0       20025078.0       30004144.0   \n",
      "25%         12410891.0       22708248.5       32484982.0   \n",
      "50%         14881763.0       25332191.0       34898310.0   \n",
      "75%         17399295.0       27761005.0       37248820.0   \n",
      "max         19995127.0       29996046.0       39986786.0   \n",
      "std     2865019.433527     2898130.8584    2816369.37509   \n",
      "\n",
      "                      dose_b_time  event_count  num_icd_codes  \n",
      "count                       13051      13051.0        13051.0  \n",
      "mean   2154-04-29 07:20:28.462187     3.130105       1.368631  \n",
      "min           2110-02-10 06:30:00          0.0            1.0  \n",
      "25%           2133-10-12 15:41:00          1.0            1.0  \n",
      "50%           2154-01-30 06:00:00          2.0            1.0  \n",
      "75%           2175-05-28 11:48:00          4.0            2.0  \n",
      "max           2209-05-30 09:27:00         17.0            8.0  \n",
      "std                           NaN      2.54921       0.732053  \n",
      "13051\n",
      "Loaded cohort from ..\\out\\cohort-no-icd-file.out\n",
      "45578\n",
      "<google.oauth2.credentials.Credentials object at 0x0000018160775960> mimic-iv-desktop\n"
     ]
    }
   ],
   "source": [
    "import root_config as rc\n",
    "from detectdd import config\n",
    "import pandas as pd\n",
    "\n",
    "rc.configure()\n",
    "\n",
    "from detectdd.auth_bigquery import BigQueryClient\n",
    "from detectdd.serializer import Serializer\n",
    "\n",
    "print(\"Loading cohort\")\n",
    "\n",
    "try:\n",
    "    serializer = Serializer()\n",
    "    cohort_with_icd = serializer.read_cohort()  # need to run 01-cohort.ipynb to produce the cohort\n",
    "    print(cohort_with_icd.describe())\n",
    "    print(len(cohort_with_icd))\n",
    "    cohort_without_icd = serializer.read_cohort_with_no_icd()\n",
    "    print(len(cohort_without_icd))\n",
    "    cohort = pd.concat([cohort_with_icd.head(10000), cohort_without_icd.head(10000)])\n",
    "except FileNotFoundError:\n",
    "    raise Exception(\"Need to run [01-cohort.ipynb] at least once to create the cohort file in the /out directory\")\n",
    "\n",
    "big_query = BigQueryClient.auth()\n",
    "\n",
    "\n",
    "from detectdd.query_multiplexer import WhereClauseGenerator\n",
    "from detectdd.query_multiplexer import QueryMultiplexer\n",
    "import pandas as pd\n",
    "from detectdd.auth_bigquery import BigQueryClient\n",
    "\n",
    "cohort_with_no_ddi = pd.read_csv(config.out_dir / 'non-drug-interactions.csv')\n",
    "\n",
    "cohort_with_no_ddi[\"dose_b_time\"] = cohort_with_no_ddi[\"dose_b_time\"].astype(\"datetime64[s]\")\n",
    "\n",
    "cohort_with_no_ddi.nunique()\n",
    "\n",
    "# fetch this data set\n",
    "data_cohort=cohort_with_icd\n",
    "cohort_filename = \"vitals_data_before_and_after.csv\"\n",
    "\n",
    "#data_cohort=cohort_with_no_ddi\n",
    "#cohort_filename = \"vitals_data_before_and_after_no_drug_interaction.csv\""
   ],
   "metadata": {
    "collapsed": false,
    "ExecuteTime": {
     "end_time": "2023-10-31T03:37:15.817715600Z",
     "start_time": "2023-10-31T03:37:13.790450800Z"
    }
   },
   "id": "46f01d003a2af2b6"
  },
  {
   "cell_type": "code",
   "execution_count": 8,
   "outputs": [
    {
     "name": "stdout",
     "output_type": "stream",
     "text": [
      "Executing query 1, with 5032 pairs at 2023-10-31 14:37:16.133567\n",
      "Partitioning key value pairs 5032\n",
      "Number of partitions 6 with partition_size 838.6666666666666\n",
      "Got result with 26942 values\n",
      "Got result with 26868 values\n",
      "Got result with 26415 values\n",
      "Got result with 26378 values\n",
      "Got result with 26163 values\n",
      "Got result with 26874 values\n",
      "Executing query 2, with 3956 pairs at 2023-10-31 14:46:44.671047\n",
      "Partitioning key value pairs 3956\n",
      "Number of partitions 6 with partition_size 659.3333333333334\n",
      "Got result with 21280 values\n",
      "Got result with 20874 values\n",
      "Got result with 20634 values\n",
      "Got result with 20748 values\n",
      "Got result with 21058 values\n",
      "Got result with 21364 values\n",
      "Executing query 3, with 2932 pairs at 2023-10-31 14:53:29.828329\n",
      "Partitioning key value pairs 2932\n",
      "Number of partitions 6 with partition_size 488.6666666666667\n",
      "Got result with 15701 values\n",
      "Got result with 15625 values\n",
      "Got result with 15836 values\n",
      "Got result with 15496 values\n",
      "Got result with 15512 values\n",
      "Got result with 15921 values\n",
      "Executing query 4, with 2134 pairs at 2023-10-31 14:58:31.010131\n",
      "Partitioning key value pairs 2134\n",
      "Number of partitions 6 with partition_size 355.6666666666667\n",
      "Got result with 11701 values\n",
      "Got result with 11331 values\n",
      "Got result with 11562 values\n",
      "Got result with 11358 values\n",
      "Got result with 11636 values\n",
      "Got result with 11903 values\n",
      "Executing query 5, with 1543 pairs at 2023-10-31 15:01:44.688557\n",
      "Partitioning key value pairs 1543\n",
      "Number of partitions 6 with partition_size 257.1666666666667\n",
      "Got result with 8523 values\n",
      "Got result with 8471 values\n",
      "Got result with 8177 values\n",
      "Got result with 8076 values\n",
      "Got result with 8390 values\n",
      "Got result with 8702 values\n",
      "Executing query 6, with 1090 pairs at 2023-10-31 15:03:36.486289\n",
      "Single partition\n",
      "Got result with 36172 values\n",
      "Executing query 7, with 765 pairs at 2023-10-31 15:05:26.278900\n",
      "Single partition\n",
      "Got result with 25143 values\n",
      "Executing query 8, with 584 pairs at 2023-10-31 15:06:17.376816\n",
      "Single partition\n",
      "Got result with 19743 values\n",
      "Executing query 9, with 462 pairs at 2023-10-31 15:07:21.578377\n",
      "Single partition\n",
      "Got result with 15599 values\n",
      "Executing query 10, with 363 pairs at 2023-10-31 15:07:51.463574\n",
      "Single partition\n",
      "Got result with 11839 values\n",
      "Executing query 11, with 302 pairs at 2023-10-31 15:08:14.614131\n",
      "Single partition\n",
      "Got result with 9992 values\n",
      "Executing query 12, with 244 pairs at 2023-10-31 15:08:33.847095\n",
      "Single partition\n",
      "Got result with 8294 values\n",
      "Executing query 13, with 197 pairs at 2023-10-31 15:08:50.175257\n",
      "Single partition\n",
      "Got result with 6353 values\n",
      "Executing query 14, with 147 pairs at 2023-10-31 15:09:02.519790\n",
      "Single partition\n",
      "Got result with 4599 values\n",
      "Executing query 15, with 118 pairs at 2023-10-31 15:09:13.142469\n",
      "Single partition\n",
      "Got result with 3732 values\n",
      "Executing query 16, with 78 pairs at 2023-10-31 15:09:21.459344\n",
      "Single partition\n",
      "Got result with 2376 values\n",
      "Executing query 17, with 36 pairs at 2023-10-31 15:09:27.431403\n",
      "Single partition\n",
      "Got result with 1125 values\n",
      "Executing query 18, with 17 pairs at 2023-10-31 15:09:30.717048\n",
      "Single partition\n",
      "Got result with 530 values\n"
     ]
    }
   ],
   "source": [
    "\n",
    "# Assuming you have a Serializer class that handles reading your saved cohort data\n",
    "serializer = Serializer()\n",
    "\n",
    "# Extract unique subject_ids from the cohort data\n",
    "subject_ids = data_cohort['subject_id'].unique()\n",
    "\n",
    "# Convert the list of subject_ids to a format suitable for SQL query\n",
    "subject_id_str = ', '.join([str(id) for id in subject_ids])\n",
    "# print(subject_id_str)\n",
    "# Now, let's proceed to fetch the vital signs for these subject_ids from MIMIC\n",
    "\n",
    "query_multiplexer = QueryMultiplexer(big_query)\n",
    "\n",
    "# Write a SQL query to fetch the required vitals where the subject_ids are in your cohort\n",
    "query = \"\"\"\n",
    "SELECT stay_id, subject_id, charttime, heart_rate, sbp, dbp, mbp\n",
    "FROM `physionet-data.mimiciv_derived.vitalsign`\n",
    "WHERE ($where) \n",
    "    AND (heart_rate IS NOT NULL OR sbp IS NOT NULL OR dbp IS NOT NULL OR mbp IS NOT NULL)\n",
    "\"\"\"\n",
    "\n",
    "# query = f\"\"\"\n",
    "# SELECT subject_id, heart_rate, sbp, dbp, mbp\n",
    "# FROM `physionet-data.mimiciv_derived.vitalsign`\n",
    "# WHERE subject_id IN ({subject_id_str}) limit 100\"\"\"\n",
    "\n",
    "where_fragment = \"(stay_id= $stay_id AND charttime > DATETIME_ADD('$dose_b_time', INTERVAL -720 MINUTE) AND charttime < DATETIME_ADD('$dose_b_time', INTERVAL 720 MINUTE))\"\n",
    "\n",
    "multimap_data = {k: v.tolist() for k, v in data_cohort.groupby('stay_id')['dose_b_time']}\n",
    "results = query_multiplexer.multiplex_query(query, multi_map_data=multimap_data,\n",
    "                                            where_clause=WhereClauseGenerator(where_fragment, \"stay_id\", \"dose_b_time\"))"
   ],
   "metadata": {
    "collapsed": false,
    "ExecuteTime": {
     "end_time": "2023-10-31T04:09:33.562728300Z",
     "start_time": "2023-10-31T03:37:15.824695600Z"
    }
   },
   "id": "d647680bc5e6edd4"
  },
  {
   "cell_type": "code",
   "execution_count": 9,
   "outputs": [
    {
     "data": {
      "text/plain": "                         dose_b_time       subject_id  \\\ncount                         645016         645016.0   \nmean   2154-10-22 22:26:14.314991616  14959710.879011   \nmin              2110-02-10 06:30:00       10003400.0   \n25%              2134-10-08 07:30:00       12465457.0   \n50%              2154-08-31 23:13:00       14993854.0   \n75%              2175-05-28 20:09:00       17444849.0   \nmax              2209-05-30 09:27:00       19999828.0   \nstd                              NaN   2861290.591336   \n\n                        charttime     heart_rate            sbp  \\\ncount                      645016  484306.000000  484670.000000   \nmean   2154-10-22 22:27:30.666217      88.689389     115.707828   \nmin           2110-02-09 22:10:00       1.000000      11.000000   \n25%           2134-10-08 18:45:00      75.000000     100.000000   \n50%           2154-09-01 00:02:30      88.000000     113.000000   \n75%           2175-05-29 00:40:00     100.000000     129.000000   \nmax           2209-05-30 17:02:00     229.000000     328.000000   \nstd                           NaN      18.825960      21.872007   \n\n                 dbp            mbp  \ncount  484611.000000  484548.000000  \nmean       61.483698      76.540531  \nmin         2.000000       1.000000  \n25%        51.000000      66.000000  \n50%        60.000000      74.000000  \n75%        70.000000      85.000000  \nmax       279.000000     299.000000  \nstd        14.721063      15.996281  ",
      "text/html": "<div>\n<style scoped>\n    .dataframe tbody tr th:only-of-type {\n        vertical-align: middle;\n    }\n\n    .dataframe tbody tr th {\n        vertical-align: top;\n    }\n\n    .dataframe thead th {\n        text-align: right;\n    }\n</style>\n<table border=\"1\" class=\"dataframe\">\n  <thead>\n    <tr style=\"text-align: right;\">\n      <th></th>\n      <th>dose_b_time</th>\n      <th>subject_id</th>\n      <th>charttime</th>\n      <th>heart_rate</th>\n      <th>sbp</th>\n      <th>dbp</th>\n      <th>mbp</th>\n    </tr>\n  </thead>\n  <tbody>\n    <tr>\n      <th>count</th>\n      <td>645016</td>\n      <td>645016.0</td>\n      <td>645016</td>\n      <td>484306.000000</td>\n      <td>484670.000000</td>\n      <td>484611.000000</td>\n      <td>484548.000000</td>\n    </tr>\n    <tr>\n      <th>mean</th>\n      <td>2154-10-22 22:26:14.314991616</td>\n      <td>14959710.879011</td>\n      <td>2154-10-22 22:27:30.666217</td>\n      <td>88.689389</td>\n      <td>115.707828</td>\n      <td>61.483698</td>\n      <td>76.540531</td>\n    </tr>\n    <tr>\n      <th>min</th>\n      <td>2110-02-10 06:30:00</td>\n      <td>10003400.0</td>\n      <td>2110-02-09 22:10:00</td>\n      <td>1.000000</td>\n      <td>11.000000</td>\n      <td>2.000000</td>\n      <td>1.000000</td>\n    </tr>\n    <tr>\n      <th>25%</th>\n      <td>2134-10-08 07:30:00</td>\n      <td>12465457.0</td>\n      <td>2134-10-08 18:45:00</td>\n      <td>75.000000</td>\n      <td>100.000000</td>\n      <td>51.000000</td>\n      <td>66.000000</td>\n    </tr>\n    <tr>\n      <th>50%</th>\n      <td>2154-08-31 23:13:00</td>\n      <td>14993854.0</td>\n      <td>2154-09-01 00:02:30</td>\n      <td>88.000000</td>\n      <td>113.000000</td>\n      <td>60.000000</td>\n      <td>74.000000</td>\n    </tr>\n    <tr>\n      <th>75%</th>\n      <td>2175-05-28 20:09:00</td>\n      <td>17444849.0</td>\n      <td>2175-05-29 00:40:00</td>\n      <td>100.000000</td>\n      <td>129.000000</td>\n      <td>70.000000</td>\n      <td>85.000000</td>\n    </tr>\n    <tr>\n      <th>max</th>\n      <td>2209-05-30 09:27:00</td>\n      <td>19999828.0</td>\n      <td>2209-05-30 17:02:00</td>\n      <td>229.000000</td>\n      <td>328.000000</td>\n      <td>279.000000</td>\n      <td>299.000000</td>\n    </tr>\n    <tr>\n      <th>std</th>\n      <td>NaN</td>\n      <td>2861290.591336</td>\n      <td>NaN</td>\n      <td>18.825960</td>\n      <td>21.872007</td>\n      <td>14.721063</td>\n      <td>15.996281</td>\n    </tr>\n  </tbody>\n</table>\n</div>"
     },
     "execution_count": 9,
     "metadata": {},
     "output_type": "execute_result"
    }
   ],
   "source": [
    "# Run the query\n",
    "vitals_data = results\n",
    "vitals_data.describe()"
   ],
   "metadata": {
    "collapsed": false,
    "ExecuteTime": {
     "end_time": "2023-10-31T04:09:33.747151200Z",
     "start_time": "2023-10-31T04:09:33.561731600Z"
    }
   },
   "id": "474a0506f1d2389f"
  },
  {
   "cell_type": "code",
   "execution_count": 11,
   "outputs": [],
   "source": [
    "vitals_data.to_csv(config.out_dir / cohort_filename)"
   ],
   "metadata": {
    "collapsed": false,
    "ExecuteTime": {
     "end_time": "2023-10-31T04:15:01.813322200Z",
     "start_time": "2023-10-31T04:14:57.113372200Z"
    }
   },
   "id": "7c015c4efeb05f4"
  },
  {
   "cell_type": "code",
   "execution_count": 13,
   "outputs": [],
   "source": [
    "pd.read_csv(config.out_dir /\"vitals_data_no_drug_interaction.csv\").to_csv(config.out_dir / \"vitals_data_before_and_after_no_drug_interaction.csv\")"
   ],
   "metadata": {
    "collapsed": false,
    "ExecuteTime": {
     "end_time": "2023-10-31T04:17:17.592441600Z",
     "start_time": "2023-10-31T04:17:11.161139Z"
    }
   },
   "id": "560b905c68cdabb5"
  },
  {
   "cell_type": "code",
   "execution_count": null,
   "outputs": [],
   "source": [],
   "metadata": {
    "collapsed": false
   },
   "id": "6be30134e5cb403b"
  }
 ],
 "metadata": {
  "kernelspec": {
   "display_name": "Python 3",
   "language": "python",
   "name": "python3"
  },
  "language_info": {
   "codemirror_mode": {
    "name": "ipython",
    "version": 2
   },
   "file_extension": ".py",
   "mimetype": "text/x-python",
   "name": "python",
   "nbconvert_exporter": "python",
   "pygments_lexer": "ipython2",
   "version": "2.7.6"
  }
 },
 "nbformat": 4,
 "nbformat_minor": 5
}
