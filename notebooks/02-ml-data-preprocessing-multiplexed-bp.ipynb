{
 "cells": [
  {
   "cell_type": "markdown",
   "source": [
    "### This is a copu of ml-data-preprocessing, written to help with scaffolding for the query multiplexer.\n",
    "### 02-ml-data-preprocessing is still the main preprocessing file\n",
    "\n",
    "### ML Data pre-processing\n",
    "This notebook is for loading and cleaning the data that will be used to train the ML on.\n",
    "Things like patient heart rate and blood pressure readings that occurred around the time of the administration of the second dose \n",
    "\n",
    "It should persist the data into the \"out\" directory to be consumed by the ml training notebook"
   ],
   "metadata": {
    "collapsed": false
   },
   "id": "2f8191d46f8661e5"
  },
  {
   "cell_type": "code",
   "execution_count": 1,
   "outputs": [
    {
     "name": "stdout",
     "output_type": "stream",
     "text": [
      "Loading cohort\n",
      "Loaded cohort from ..\\out\\cohort-full.out\n",
      "            subject_id          hadm_id          stay_id  \\\n",
      "count           7356.0           7356.0           7356.0   \n",
      "mean   14943046.671017  25021995.427814  34998651.263187   \n",
      "min         10004733.0       20038242.0       30004144.0   \n",
      "25%         12474247.0       22532253.0       32482959.0   \n",
      "50%         14886080.0       25085291.0       34996638.0   \n",
      "75%         17444849.0       27536715.0       37456269.0   \n",
      "max         19983257.0       29996046.0       39999230.0   \n",
      "std     2871783.101868   2893328.688213   2905726.423783   \n",
      "\n",
      "                      dose_b_time  event_count  admin_count  num_icd_codes  \n",
      "count                        7356       7356.0  7356.000000         7356.0  \n",
      "mean   2153-12-28 12:40:12.960848     7.245922     4.754486        1.40348  \n",
      "min           2110-02-10 22:06:00          0.0     1.000000            1.0  \n",
      "25%           2133-04-08 13:30:00          2.0     1.000000            1.0  \n",
      "50%           2153-11-24 17:32:00          5.0     3.000000            1.0  \n",
      "75%           2176-03-08 10:37:30         10.0     7.000000            2.0  \n",
      "max           2209-05-30 02:04:00         56.0    21.000000            8.0  \n",
      "std                           NaN     7.078622     4.384550       0.755534  \n",
      "7356\n",
      "Loaded cohort from ..\\out\\cohort-no-icd-file.out\n",
      "24993\n",
      "<google.oauth2.credentials.Credentials object at 0x000002A366647E80> mimic-iv-desktop\n"
     ]
    }
   ],
   "source": [
    "import root_config as rc\n",
    "from detectdd import config\n",
    "import pandas as pd\n",
    "\n",
    "rc.configure()\n",
    "\n",
    "from detectdd.auth_bigquery import BigQueryClient\n",
    "from detectdd.serializer import Serializer\n",
    "\n",
    "print(\"Loading cohort\")\n",
    "\n",
    "try:\n",
    "    serializer = Serializer()\n",
    "    cohort_with_icd = serializer.read_cohort()  # need to run 01-cohort.ipynb to produce the cohort\n",
    "    print(cohort_with_icd.describe())\n",
    "    print(len(cohort_with_icd))\n",
    "    cohort_without_icd = serializer.read_cohort_with_no_icd()\n",
    "    print(len(cohort_without_icd))\n",
    "    cohort = pd.concat([cohort_with_icd.head(10000), cohort_without_icd.head(10000)])\n",
    "except FileNotFoundError:\n",
    "    raise Exception(\"Need to run [01-cohort.ipynb] at least once to create the cohort file in the /out directory\")\n",
    "\n",
    "big_query = BigQueryClient.auth()\n",
    "\n",
    "\n",
    "from detectdd.query_multiplexer import WhereClauseGenerator\n",
    "from detectdd.query_multiplexer import QueryMultiplexer\n",
    "import pandas as pd\n",
    "from detectdd.auth_bigquery import BigQueryClient\n",
    "\n",
    "cohort_with_no_ddi = pd.read_csv(config.out_dir / 'non-drug-interactions.csv')\n",
    "\n",
    "cohort_with_no_ddi[\"dose_b_time\"] = cohort_with_no_ddi[\"dose_b_time\"].astype(\"datetime64[s]\")\n",
    "\n",
    "cohort_with_no_ddi.nunique()\n",
    "\n",
    "# fetch this data set\n",
    "data_cohort=cohort_with_icd\n",
    "cohort_filename = \"vitals_data_before_and_after.csv\"\n",
    "\n",
    "#data_cohort=cohort_with_no_ddi\n",
    "#cohort_filename = \"vitals_data_before_and_after_no_drug_interaction.csv\""
   ],
   "metadata": {
    "collapsed": false,
    "ExecuteTime": {
     "end_time": "2023-11-01T06:40:35.341024300Z",
     "start_time": "2023-11-01T06:40:33.954119Z"
    }
   },
   "id": "46f01d003a2af2b6"
  },
  {
   "cell_type": "code",
   "execution_count": 2,
   "outputs": [
    {
     "name": "stdout",
     "output_type": "stream",
     "text": [
      "Executing query 1, with 1697 pairs at 2023-11-01 17:40:35.444264\n",
      "Partitioning key value pairs 1697\n",
      "Number of partitions 6 with partition_size 282.8333333333333\n",
      "Got result with 9084 values\n",
      "Got result with 9634 values\n",
      "Got result with 9594 values\n",
      "Got result with 9648 values\n",
      "Got result with 9445 values\n",
      "Got result with 9372 values\n",
      "Executing query 2, with 1194 pairs at 2023-11-01 17:42:29.327415\n",
      "Single partition\n",
      "Got result with 39873 values\n",
      "Executing query 3, with 896 pairs at 2023-11-01 17:43:59.865507\n",
      "Single partition\n",
      "Got result with 29777 values\n",
      "Executing query 4, with 690 pairs at 2023-11-01 17:45:01.314372\n",
      "Single partition\n",
      "Got result with 23420 values\n",
      "Executing query 5, with 546 pairs at 2023-11-01 17:45:45.149220\n",
      "Single partition\n",
      "Got result with 17791 values\n",
      "Executing query 6, with 460 pairs at 2023-11-01 17:46:20.825052\n",
      "Single partition\n",
      "Got result with 15077 values\n",
      "Executing query 7, with 384 pairs at 2023-11-01 17:46:49.242237\n",
      "Single partition\n",
      "Got result with 12497 values\n",
      "Executing query 8, with 323 pairs at 2023-11-01 17:47:14.678468\n",
      "Single partition\n",
      "Got result with 10558 values\n",
      "Executing query 9, with 263 pairs at 2023-11-01 17:47:45.567939\n",
      "Single partition\n",
      "Got result with 8483 values\n",
      "Executing query 10, with 214 pairs at 2023-11-01 17:48:00.591106\n",
      "Single partition\n",
      "Got result with 7091 values\n",
      "Executing query 11, with 178 pairs at 2023-11-01 17:48:13.527916\n",
      "Single partition\n",
      "Got result with 5666 values\n",
      "Executing query 12, with 147 pairs at 2023-11-01 17:48:28.139919\n",
      "Single partition\n",
      "Got result with 4679 values\n",
      "Executing query 13, with 119 pairs at 2023-11-01 17:48:36.975811\n",
      "Single partition\n",
      "Got result with 3749 values\n",
      "Executing query 14, with 93 pairs at 2023-11-01 17:48:45.618938\n",
      "Single partition\n",
      "Got result with 3075 values\n",
      "Executing query 15, with 68 pairs at 2023-11-01 17:48:52.449790\n",
      "Single partition\n",
      "Got result with 2080 values\n",
      "Executing query 16, with 40 pairs at 2023-11-01 17:48:57.870603\n",
      "Single partition\n",
      "Got result with 1258 values\n",
      "Executing query 17, with 27 pairs at 2023-11-01 17:49:01.828480\n",
      "Single partition\n",
      "Got result with 805 values\n",
      "Executing query 18, with 17 pairs at 2023-11-01 17:49:05.175934\n",
      "Single partition\n",
      "Got result with 530 values\n"
     ]
    }
   ],
   "source": [
    "\n",
    "# Assuming you have a Serializer class that handles reading your saved cohort data\n",
    "serializer = Serializer()\n",
    "\n",
    "# Extract unique subject_ids from the cohort data\n",
    "subject_ids = data_cohort['subject_id'].unique()\n",
    "\n",
    "# Convert the list of subject_ids to a format suitable for SQL query\n",
    "subject_id_str = ', '.join([str(id) for id in subject_ids])\n",
    "# print(subject_id_str)\n",
    "# Now, let's proceed to fetch the vital signs for these subject_ids from MIMIC\n",
    "\n",
    "query_multiplexer = QueryMultiplexer(big_query)\n",
    "\n",
    "# Write a SQL query to fetch the required vitals where the subject_ids are in your cohort\n",
    "query = \"\"\"\n",
    "SELECT stay_id, subject_id, charttime, heart_rate, sbp, dbp, mbp\n",
    "FROM `physionet-data.mimiciv_derived.vitalsign`\n",
    "WHERE ($where) \n",
    "    AND (heart_rate IS NOT NULL OR sbp IS NOT NULL OR dbp IS NOT NULL OR mbp IS NOT NULL)\n",
    "\"\"\"\n",
    "\n",
    "# query = f\"\"\"\n",
    "# SELECT subject_id, heart_rate, sbp, dbp, mbp\n",
    "# FROM `physionet-data.mimiciv_derived.vitalsign`\n",
    "# WHERE subject_id IN ({subject_id_str}) limit 100\"\"\"\n",
    "\n",
    "where_fragment = \"(stay_id= $stay_id AND charttime > DATETIME_ADD('$dose_b_time', INTERVAL -720 MINUTE) AND charttime < DATETIME_ADD('$dose_b_time', INTERVAL 720 MINUTE))\"\n",
    "\n",
    "multimap_data = {k: v.tolist() for k, v in data_cohort.groupby('stay_id')['dose_b_time']}\n",
    "results = query_multiplexer.multiplex_query(query, multi_map_data=multimap_data,\n",
    "                                            where_clause=WhereClauseGenerator(where_fragment, \"stay_id\", \"dose_b_time\"))"
   ],
   "metadata": {
    "collapsed": false,
    "ExecuteTime": {
     "end_time": "2023-11-01T06:49:07.939587Z",
     "start_time": "2023-11-01T06:40:35.347007700Z"
    }
   },
   "id": "d647680bc5e6edd4"
  },
  {
   "cell_type": "code",
   "execution_count": 3,
   "outputs": [
    {
     "data": {
      "text/plain": "                         dose_b_time       subject_id  \\\ncount                         243186         243186.0   \nmean   2154-03-31 06:27:29.784363008  14989478.751289   \nmin              2110-02-10 22:06:00       10004733.0   \n25%              2133-10-26 10:05:00       12492737.0   \n50%              2154-01-27 08:30:00       14998916.0   \n75%              2176-02-10 05:12:00       17529736.0   \nmax              2209-05-30 02:04:00       19983257.0   \nstd                              NaN   2881415.701602   \n\n                        charttime     heart_rate            sbp  \\\ncount                      243186  187107.000000  190323.000000   \nmean   2154-03-31 06:28:17.823888      90.283604     116.679622   \nmin           2110-02-10 10:15:00       5.000000       8.000000   \n25%           2133-10-26 10:33:45      77.000000     101.000000   \n50%           2154-01-27 00:57:30      89.000000     114.000000   \n75%           2176-02-09 23:00:00     102.000000     130.000000   \nmax           2209-05-30 14:00:00     217.000000     329.000000   \nstd                           NaN      19.654878      21.948004   \n\n                 dbp            mbp  \ncount  190279.000000  190385.000000  \nmean       61.421599      77.438982  \nmin         1.000000       1.000000  \n25%        52.000000      67.000000  \n50%        60.000000      75.000000  \n75%        69.000000      86.000000  \nmax       290.000000     299.000000  \nstd        14.326254      15.926375  ",
      "text/html": "<div>\n<style scoped>\n    .dataframe tbody tr th:only-of-type {\n        vertical-align: middle;\n    }\n\n    .dataframe tbody tr th {\n        vertical-align: top;\n    }\n\n    .dataframe thead th {\n        text-align: right;\n    }\n</style>\n<table border=\"1\" class=\"dataframe\">\n  <thead>\n    <tr style=\"text-align: right;\">\n      <th></th>\n      <th>dose_b_time</th>\n      <th>subject_id</th>\n      <th>charttime</th>\n      <th>heart_rate</th>\n      <th>sbp</th>\n      <th>dbp</th>\n      <th>mbp</th>\n    </tr>\n  </thead>\n  <tbody>\n    <tr>\n      <th>count</th>\n      <td>243186</td>\n      <td>243186.0</td>\n      <td>243186</td>\n      <td>187107.000000</td>\n      <td>190323.000000</td>\n      <td>190279.000000</td>\n      <td>190385.000000</td>\n    </tr>\n    <tr>\n      <th>mean</th>\n      <td>2154-03-31 06:27:29.784363008</td>\n      <td>14989478.751289</td>\n      <td>2154-03-31 06:28:17.823888</td>\n      <td>90.283604</td>\n      <td>116.679622</td>\n      <td>61.421599</td>\n      <td>77.438982</td>\n    </tr>\n    <tr>\n      <th>min</th>\n      <td>2110-02-10 22:06:00</td>\n      <td>10004733.0</td>\n      <td>2110-02-10 10:15:00</td>\n      <td>5.000000</td>\n      <td>8.000000</td>\n      <td>1.000000</td>\n      <td>1.000000</td>\n    </tr>\n    <tr>\n      <th>25%</th>\n      <td>2133-10-26 10:05:00</td>\n      <td>12492737.0</td>\n      <td>2133-10-26 10:33:45</td>\n      <td>77.000000</td>\n      <td>101.000000</td>\n      <td>52.000000</td>\n      <td>67.000000</td>\n    </tr>\n    <tr>\n      <th>50%</th>\n      <td>2154-01-27 08:30:00</td>\n      <td>14998916.0</td>\n      <td>2154-01-27 00:57:30</td>\n      <td>89.000000</td>\n      <td>114.000000</td>\n      <td>60.000000</td>\n      <td>75.000000</td>\n    </tr>\n    <tr>\n      <th>75%</th>\n      <td>2176-02-10 05:12:00</td>\n      <td>17529736.0</td>\n      <td>2176-02-09 23:00:00</td>\n      <td>102.000000</td>\n      <td>130.000000</td>\n      <td>69.000000</td>\n      <td>86.000000</td>\n    </tr>\n    <tr>\n      <th>max</th>\n      <td>2209-05-30 02:04:00</td>\n      <td>19983257.0</td>\n      <td>2209-05-30 14:00:00</td>\n      <td>217.000000</td>\n      <td>329.000000</td>\n      <td>290.000000</td>\n      <td>299.000000</td>\n    </tr>\n    <tr>\n      <th>std</th>\n      <td>NaN</td>\n      <td>2881415.701602</td>\n      <td>NaN</td>\n      <td>19.654878</td>\n      <td>21.948004</td>\n      <td>14.326254</td>\n      <td>15.926375</td>\n    </tr>\n  </tbody>\n</table>\n</div>"
     },
     "execution_count": 3,
     "metadata": {},
     "output_type": "execute_result"
    }
   ],
   "source": [
    "# Run the query\n",
    "vitals_data = results\n",
    "vitals_data.describe()"
   ],
   "metadata": {
    "collapsed": false,
    "ExecuteTime": {
     "end_time": "2023-11-01T06:49:08.012302300Z",
     "start_time": "2023-11-01T06:49:07.935598Z"
    }
   },
   "id": "474a0506f1d2389f"
  },
  {
   "cell_type": "code",
   "execution_count": 4,
   "outputs": [],
   "source": [
    "vitals_data.to_csv(config.out_dir / cohort_filename)"
   ],
   "metadata": {
    "collapsed": false,
    "ExecuteTime": {
     "end_time": "2023-11-01T06:49:09.882572800Z",
     "start_time": "2023-11-01T06:49:08.013303500Z"
    }
   },
   "id": "7c015c4efeb05f4"
  },
  {
   "cell_type": "code",
   "execution_count": 5,
   "outputs": [],
   "source": [],
   "metadata": {
    "collapsed": false,
    "ExecuteTime": {
     "end_time": "2023-11-01T06:49:15.621759400Z",
     "start_time": "2023-11-01T06:49:15.608624200Z"
    }
   },
   "id": "6be30134e5cb403b"
  }
 ],
 "metadata": {
  "kernelspec": {
   "display_name": "Python 3",
   "language": "python",
   "name": "python3"
  },
  "language_info": {
   "codemirror_mode": {
    "name": "ipython",
    "version": 2
   },
   "file_extension": ".py",
   "mimetype": "text/x-python",
   "name": "python",
   "nbconvert_exporter": "python",
   "pygments_lexer": "ipython2",
   "version": "2.7.6"
  }
 },
 "nbformat": 4,
 "nbformat_minor": 5
}
