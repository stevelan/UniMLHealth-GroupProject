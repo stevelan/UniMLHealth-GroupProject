{
 "cells": [
  {
   "cell_type": "markdown",
   "source": [
    "### This is a copu of ml-data-preprocessing, written to help with scaffolding for the query multiplexer.\n",
    "### 02-ml-data-preprocessing is still the main preprocessing file\n",
    "\n",
    "### ML Data pre-processing\n",
    "This notebook is for loading and cleaning the data that will be used to train the ML on.\n",
    "Things like patient heart rate and blood pressure readings that occurred around the time of the administration of the second dose \n",
    "\n",
    "It should persist the data into the \"out\" directory to be consumed by the ml training notebook"
   ],
   "metadata": {
    "collapsed": false
   },
   "id": "2f8191d46f8661e5"
  },
  {
   "cell_type": "code",
   "execution_count": 1,
   "outputs": [
    {
     "name": "stdout",
     "output_type": "stream",
     "text": [
      "Loaded cohort from ..\\out\\cohort-full.out\n",
      "<google.oauth2.credentials.Credentials object at 0x000002919A7260B0> assignment-1-395912\n"
     ]
    },
    {
     "data": {
      "text/plain": "            subject_id          stay_id  drug_a_item_id  drug_b_item_id  \\\ncount          65814.0          65814.0         65814.0         65814.0   \nmean   14861841.983545  34935152.596742   225337.914061   223402.287659   \nmin         10002428.0       30000484.0        221347.0        221289.0   \n25%        12350214.75       32259031.0        225855.0        221744.0   \n50%         14767018.0       34928659.0        225869.0        221744.0   \n75%         17362900.0       37550329.0        225892.0        225798.0   \nmax         19999840.0       39999230.0        229618.0        229233.0   \nstd     2903605.512713   2950984.617329     1422.498681     2057.698826   \n\n                      dose_b_time  event_count  \ncount                       65814      65814.0  \nmean   2154-08-20 12:07:36.738081     7.232534  \nmin           2110-01-19 21:15:00          1.0  \n25%           2134-03-24 07:48:00          1.0  \n50%           2155-03-14 18:23:00          3.0  \n75%           2174-09-03 21:18:00          8.0  \nmax           2209-05-31 15:15:00        304.0  \nstd                           NaN    16.848738  ",
      "text/html": "<div>\n<style scoped>\n    .dataframe tbody tr th:only-of-type {\n        vertical-align: middle;\n    }\n\n    .dataframe tbody tr th {\n        vertical-align: top;\n    }\n\n    .dataframe thead th {\n        text-align: right;\n    }\n</style>\n<table border=\"1\" class=\"dataframe\">\n  <thead>\n    <tr style=\"text-align: right;\">\n      <th></th>\n      <th>subject_id</th>\n      <th>stay_id</th>\n      <th>drug_a_item_id</th>\n      <th>drug_b_item_id</th>\n      <th>dose_b_time</th>\n      <th>event_count</th>\n    </tr>\n  </thead>\n  <tbody>\n    <tr>\n      <th>count</th>\n      <td>65814.0</td>\n      <td>65814.0</td>\n      <td>65814.0</td>\n      <td>65814.0</td>\n      <td>65814</td>\n      <td>65814.0</td>\n    </tr>\n    <tr>\n      <th>mean</th>\n      <td>14861841.983545</td>\n      <td>34935152.596742</td>\n      <td>225337.914061</td>\n      <td>223402.287659</td>\n      <td>2154-08-20 12:07:36.738081</td>\n      <td>7.232534</td>\n    </tr>\n    <tr>\n      <th>min</th>\n      <td>10002428.0</td>\n      <td>30000484.0</td>\n      <td>221347.0</td>\n      <td>221289.0</td>\n      <td>2110-01-19 21:15:00</td>\n      <td>1.0</td>\n    </tr>\n    <tr>\n      <th>25%</th>\n      <td>12350214.75</td>\n      <td>32259031.0</td>\n      <td>225855.0</td>\n      <td>221744.0</td>\n      <td>2134-03-24 07:48:00</td>\n      <td>1.0</td>\n    </tr>\n    <tr>\n      <th>50%</th>\n      <td>14767018.0</td>\n      <td>34928659.0</td>\n      <td>225869.0</td>\n      <td>221744.0</td>\n      <td>2155-03-14 18:23:00</td>\n      <td>3.0</td>\n    </tr>\n    <tr>\n      <th>75%</th>\n      <td>17362900.0</td>\n      <td>37550329.0</td>\n      <td>225892.0</td>\n      <td>225798.0</td>\n      <td>2174-09-03 21:18:00</td>\n      <td>8.0</td>\n    </tr>\n    <tr>\n      <th>max</th>\n      <td>19999840.0</td>\n      <td>39999230.0</td>\n      <td>229618.0</td>\n      <td>229233.0</td>\n      <td>2209-05-31 15:15:00</td>\n      <td>304.0</td>\n    </tr>\n    <tr>\n      <th>std</th>\n      <td>2903605.512713</td>\n      <td>2950984.617329</td>\n      <td>1422.498681</td>\n      <td>2057.698826</td>\n      <td>NaN</td>\n      <td>16.848738</td>\n    </tr>\n  </tbody>\n</table>\n</div>"
     },
     "execution_count": 1,
     "metadata": {},
     "output_type": "execute_result"
    }
   ],
   "source": [
    "import root_config as rc\n",
    "\n",
    "rc.configure()\n",
    "\n",
    "from detectdd.auth_bigquery import BigQueryClient\n",
    "from detectdd.serializer import Serializer\n",
    "\n",
    "try:\n",
    "    cohort = Serializer().read_cohort()  # need to run 01-cohort.ipynb to produce the cohort\n",
    "except FileNotFoundError:\n",
    "    raise Exception(\"Need to run [01-cohort.ipynb] at least once to create the cohort file in the /out directory\")\n",
    "\n",
    "\n",
    "big_query = BigQueryClient.auth()\n",
    "\n",
    "cohort.describe()"
   ],
   "metadata": {
    "collapsed": false,
    "ExecuteTime": {
     "end_time": "2023-10-23T11:22:53.869282700Z",
     "start_time": "2023-10-23T11:22:46.551078900Z"
    }
   },
   "id": "initial_id"
  },
  {
   "cell_type": "code",
   "execution_count": null,
   "outputs": [
    {
     "name": "stdout",
     "output_type": "stream",
     "text": [
      "<google.oauth2.credentials.Credentials object at 0x000002919797CCA0> assignment-1-395912\n",
      "Executing query 1, with 6664 pairs at 2023-10-23 22:22:55.452801\n",
      "Got result with 99653 values\n",
      "Executing query 2, with 5050 pairs at 2023-10-23 22:34:32.790569\n",
      "Got result with 76379 values\n",
      "Executing query 3, with 4039 pairs at 2023-10-23 22:36:37.295186\n",
      "Got result with 61486 values\n",
      "Executing query 4, with 3349 pairs at 2023-10-23 22:37:54.672622\n",
      "Got result with 51480 values\n",
      "Executing query 5, with 2847 pairs at 2023-10-23 22:38:58.948496\n",
      "Got result with 43810 values\n",
      "Executing query 6, with 2469 pairs at 2023-10-23 22:39:38.382006\n",
      "Got result with 37974 values\n",
      "Executing query 7, with 2186 pairs at 2023-10-23 22:40:23.245421\n",
      "Got result with 33779 values\n",
      "Executing query 8, with 1917 pairs at 2023-10-23 22:40:56.118133\n",
      "Got result with 29692 values\n",
      "Executing query 9, with 1717 pairs at 2023-10-23 22:41:18.546727\n",
      "Got result with 27052 values\n",
      "Executing query 10, with 1566 pairs at 2023-10-23 22:41:41.084933\n",
      "Got result with 24668 values\n",
      "Executing query 11, with 1451 pairs at 2023-10-23 22:42:01.678968\n",
      "Got result with 22538 values\n",
      "Executing query 12, with 1318 pairs at 2023-10-23 22:42:17.717207\n",
      "Got result with 20969 values\n",
      "Executing query 13, with 1201 pairs at 2023-10-23 22:42:36.034662\n"
     ]
    }
   ],
   "source": [
    "from detectdd.query_multiplexer import QueryMultiplexer, WhereClauseGenerator\n",
    "from detectdd import config\n",
    "\n",
    "icu = 'physionet-data.mimiciv_icu'\n",
    "\n",
    "cs_mean_art_chart_itemids = {\"PA mean pressure (PA Line)\": 226857,\n",
    "                                       \"Arterial Blood Pressure mean\": 220052,\n",
    "                                       \"Non Invasive Blood Pressure mean\": 220181,\n",
    "                                       \"ART BP Mean\": 225312}\n",
    "query_multiplexer = QueryMultiplexer(BigQueryClient().auth())\n",
    "\n",
    "def fetch_blood_pressure_data():\n",
    "    \n",
    "    sql_template = f\"\"\"SELECT ce.subject_id AS subject_id,\n",
    "            ce.stay_id AS stay_id,\n",
    "            ce.hadm_id AS hadm_id,\n",
    "            ce.itemid AS item_id,\n",
    "            ce.charttime AS chart_time,\n",
    "            ce.valuenum AS bp,\n",
    "            IF(ce.itemid IN {tuple(cs_mean_art_chart_itemids.values())}, \"MEAN\", \"SYSTOLIC\") AS abs_type,\n",
    "        FROM `{icu}.chartevents` AS ce\n",
    "        \n",
    "        WHERE ce.itemid IN {tuple(cs_mean_art_chart_itemids.values())}                          --measures of mean arterial BP\n",
    "        AND ($where)\"\"\"\n",
    "    \n",
    "    where_fragment = \"(ce.stay_id= $stay_id AND DATETIME_DIFF(ce.charttime, '$dose_b_time', HOUR) BETWEEN 0 AND 12)\"\n",
    "\n",
    "    multimap_data = {k: v.tolist() for k, v in cohort.groupby('stay_id')['dose_b_time']}\n",
    "    results = query_multiplexer.multiplex_query(sql_template, multi_map_data=multimap_data, where_clause=WhereClauseGenerator(where_fragment, \"stay_id\", \"dose_b_time\"))\n",
    "    return results\n",
    "\n",
    "results = fetch_blood_pressure_data()\n",
    "results"
   ],
   "metadata": {
    "collapsed": false,
    "is_executing": true,
    "ExecuteTime": {
     "start_time": "2023-10-23T11:22:53.896768200Z"
    }
   },
   "id": "8b8a6eb3f67f8423"
  },
  {
   "cell_type": "code",
   "execution_count": 1,
   "outputs": [
    {
     "ename": "NameError",
     "evalue": "name 'results' is not defined",
     "output_type": "error",
     "traceback": [
      "\u001B[1;31m---------------------------------------------------------------------------\u001B[0m",
      "\u001B[1;31mNameError\u001B[0m                                 Traceback (most recent call last)",
      "Cell \u001B[1;32mIn[1], line 1\u001B[0m\n\u001B[1;32m----> 1\u001B[0m \u001B[38;5;28mtype\u001B[39m(\u001B[43mresults\u001B[49m)\n",
      "\u001B[1;31mNameError\u001B[0m: name 'results' is not defined"
     ]
    }
   ],
   "source": [
    "type(results)"
   ],
   "metadata": {
    "collapsed": false,
    "ExecuteTime": {
     "end_time": "2023-10-26T06:37:21.801839900Z",
     "start_time": "2023-10-26T06:37:20.956471300Z"
    }
   },
   "id": "14dd31cde84d716f"
  },
  {
   "cell_type": "code",
   "execution_count": null,
   "outputs": [],
   "source": [
    "len(results)"
   ],
   "metadata": {
    "collapsed": false,
    "ExecuteTime": {
     "end_time": "2023-10-26T06:37:21.809879400Z",
     "start_time": "2023-10-26T06:37:21.802839900Z"
    }
   },
   "id": "86c4e13dfef54ebd"
  },
  {
   "cell_type": "code",
   "execution_count": null,
   "outputs": [],
   "source": [
    "results"
   ],
   "metadata": {
    "collapsed": false,
    "ExecuteTime": {
     "start_time": "2023-10-26T06:37:21.807870700Z"
    }
   },
   "id": "ca3d692ecc236614"
  },
  {
   "cell_type": "code",
   "execution_count": null,
   "outputs": [],
   "source": [],
   "metadata": {
    "collapsed": false,
    "is_executing": true
   },
   "id": "46f01d003a2af2b6"
  }
 ],
 "metadata": {
  "kernelspec": {
   "display_name": "Python 3",
   "language": "python",
   "name": "python3"
  },
  "language_info": {
   "codemirror_mode": {
    "name": "ipython",
    "version": 2
   },
   "file_extension": ".py",
   "mimetype": "text/x-python",
   "name": "python",
   "nbconvert_exporter": "python",
   "pygments_lexer": "ipython2",
   "version": "2.7.6"
  }
 },
 "nbformat": 4,
 "nbformat_minor": 5
}
