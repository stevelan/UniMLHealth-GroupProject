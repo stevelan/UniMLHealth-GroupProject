{
 "cells": [
  {
   "cell_type": "code",
   "execution_count": 32,
   "outputs": [
    {
     "name": "stdout",
     "output_type": "stream",
     "text": [
      "The autoreload extension is already loaded. To reload it, use:\n",
      "  %reload_ext autoreload\n"
     ]
    }
   ],
   "source": [
    "%load_ext autoreload\n",
    "%autoreload 2\n",
    "\n",
    "import pandas as pd\n",
    "from google.cloud import bigquery\n",
    "import google.auth\n",
    "\n",
    "from fuzzywuzzy import fuzz\n",
    "from fuzzywuzzy import process\n",
    "\n",
    "from detectdd.config import *"
   ],
   "metadata": {
    "collapsed": false,
    "ExecuteTime": {
     "end_time": "2023-10-12T02:24:19.607737Z",
     "start_time": "2023-10-12T02:24:19.493129200Z"
    }
   }
  },
  {
   "cell_type": "code",
   "execution_count": 33,
   "outputs": [
    {
     "name": "stdout",
     "output_type": "stream",
     "text": [
      "<google.oauth2.credentials.Credentials object at 0x0000022806B19CD0> mimic-iv-desktop\n"
     ]
    }
   ],
   "source": [
    "def get_client(c,p):\n",
    "    return bigquery.Client(p, c)\n",
    "\n",
    "def get_gcreds(scopes = None):\n",
    "    if scopes is None:\n",
    "        scopes = [\"https://www.googleapis.com/auth/bigquery\"]\n",
    "    return google.auth.default(\n",
    "        scopes )\n",
    "\n",
    "def get_authed_client():\n",
    "    cred = get_gcreds()\n",
    "    print(*cred)\n",
    "    return get_client(*cred)\n",
    "\n",
    "def main():\n",
    "    mimic_drugs = f\"\"\"\n",
    "        SELECT itemid, label, abbreviation, category, unitname\n",
    "        FROM {icu_d_items}\n",
    "        WHERE linksto='inputevents' \"\"\"\n",
    "\n",
    "    mimic_job = get_authed_client().query(mimic_drugs)\n",
    "    df = mimic_job.to_dataframe()\n",
    "    df.label = df.label.fillna(\"\")\n",
    "    df.label = df.label.apply(str.lower)\n",
    "    return df\n",
    "\n",
    "icu_drugs = main()"
   ],
   "metadata": {
    "collapsed": false,
    "ExecuteTime": {
     "end_time": "2023-10-12T02:24:24.071900800Z",
     "start_time": "2023-10-12T02:24:19.581806Z"
    }
   }
  },
  {
   "cell_type": "code",
   "execution_count": 34,
   "outputs": [
    {
     "data": {
      "text/plain": "                                             PRODUCTID PRODUCTNDC  \\\n0       0002-0800_662164fd-5ea0-4a08-bfd1-6b08bdd73342  0002-0800   \n1       0002-1200_480fceef-6596-4478-97de-677c155506b3  0002-1200   \n2       0002-1210_151a431b-f07b-4959-b6fa-c41ff80364c8  0002-1210   \n3       0002-1433_d4ca0797-5a21-4962-bed1-2c4c9b52d78b  0002-1433   \n4       0002-1434_d4ca0797-5a21-4962-bed1-2c4c9b52d78b  0002-1434   \n...                                                ...        ...   \n105042  99207-466_a594be33-33ce-4304-a6fe-65a4eeda3f19  99207-466   \n105043  99207-467_a594be33-33ce-4304-a6fe-65a4eeda3f19  99207-467   \n105044  99207-525_a075b415-7d7c-405a-9645-bdd4c4f92990  99207-525   \n105045  99207-850_e52ec481-1114-4f09-9be0-311e5eb52fa1  99207-850   \n105046  99528-606_9751cf90-5fd1-74a4-e053-2a95a90afb9f  99528-606   \n\n                PRODUCTTYPENAME  PROPRIETARYNAME PROPRIETARYNAMESUFFIX  \\\n0                HUMAN OTC DRUG  sterile diluent                   NaN   \n1       HUMAN PRESCRIPTION DRUG           amyvid                   NaN   \n2       HUMAN PRESCRIPTION DRUG           tauvid                   NaN   \n3       HUMAN PRESCRIPTION DRUG        trulicity                   NaN   \n4       HUMAN PRESCRIPTION DRUG        trulicity                   NaN   \n...                         ...              ...                   ...   \n105042  HUMAN PRESCRIPTION DRUG          solodyn                   NaN   \n105043  HUMAN PRESCRIPTION DRUG          solodyn                   NaN   \n105044  HUMAN PRESCRIPTION DRUG            vanos                   NaN   \n105045  HUMAN PRESCRIPTION DRUG             luzu                   NaN   \n105046           HUMAN OTC DRUG          valerin                   NaN   \n\n                                    NONPROPRIETARYNAME  \\\n0                                              diluent   \n1                                     florbetapir f 18   \n2                                    flortaucipir f-18   \n3                                          dulaglutide   \n4                                          dulaglutide   \n...                                                ...   \n105042                       minocycline hydrochloride   \n105043                       minocycline hydrochloride   \n105044                                    fluocinonide   \n105045                                    luliconazole   \n105046  valerian root, passiflora, magnesium carbonate   \n\n                               DOSAGEFORMNAME     ROUTENAME  \\\n0                         INJECTION, SOLUTION  SUBCUTANEOUS   \n1                         INJECTION, SOLUTION   INTRAVENOUS   \n2                         INJECTION, SOLUTION   INTRAVENOUS   \n3                         INJECTION, SOLUTION  SUBCUTANEOUS   \n4                         INJECTION, SOLUTION  SUBCUTANEOUS   \n...                                       ...           ...   \n105042  TABLET, FILM COATED, EXTENDED RELEASE          ORAL   \n105043  TABLET, FILM COATED, EXTENDED RELEASE          ORAL   \n105044                                  CREAM       TOPICAL   \n105045                                  CREAM       TOPICAL   \n105046                                 TABLET          ORAL   \n\n        STARTMARKETINGDATE  ENDMARKETINGDATE   MARKETINGCATEGORYNAME  \\\n0                 19870710               NaN                     BLA   \n1                 20120601               NaN                     NDA   \n2                 20200528               NaN                     NDA   \n3                 20140918               NaN                     BLA   \n4                 20140918               NaN                     BLA   \n...                    ...               ...                     ...   \n105042            20100927               NaN                     NDA   \n105043            20100927               NaN                     NDA   \n105044            20060313               NaN                     NDA   \n105045            20131114               NaN                     NDA   \n105046            19860612               NaN  UNAPPROVED HOMEOPATHIC   \n\n       APPLICATIONNUMBER            LABELERNAME  \\\n0              BLA018781  Eli Lilly and Company   \n1              NDA202008  Eli Lilly and Company   \n2              NDA212123  Eli Lilly and Company   \n3              BLA125469  Eli Lilly and Company   \n4              BLA125469  Eli Lilly and Company   \n...                  ...                    ...   \n105042         NDA050808   Bausch Health US LLC   \n105043         NDA050808   Bausch Health US LLC   \n105044         NDA021758  Bausch Health US, LLC   \n105045         NDA204153  Bausch Health US, LLC   \n105046               NaN    Wonder Laboratories   \n\n                                            SUBSTANCENAME  \\\n0                                                   WATER   \n1                                        FLORBETAPIR F-18   \n2                                       FLORTAUCIPIR F-18   \n3                                             DULAGLUTIDE   \n4                                             DULAGLUTIDE   \n...                                                   ...   \n105042                          MINOCYCLINE HYDROCHLORIDE   \n105043                          MINOCYCLINE HYDROCHLORIDE   \n105044                                       FLUOCINONIDE   \n105045                                       LULICONAZOLE   \n105046  VALERIAN; PASSIFLORA INCARNATA FLOWER; MAGNESI...   \n\n       ACTIVE_NUMERATOR_STRENGTH            ACTIVE_INGRED_UNIT  \\\n0                              1                         mL/mL   \n1                             51                        mCi/mL   \n2                             51                        mCi/mL   \n3                           0.75                       mg/.5mL   \n4                            1.5                       mg/.5mL   \n...                          ...                           ...   \n105042                        80                          mg/1   \n105043                       105                          mg/1   \n105044                         1                          mg/g   \n105045                        10                          mg/g   \n105046                   6; 3; 1  [hp_X]/1; [hp_X]/1; [hp_X]/1   \n\n                                            PHARM_CLASSES DEASCHEDULE  \\\n0                                                     NaN         NaN   \n1       Radioactive Diagnostic Agent [EPC],Positron Em...         NaN   \n2                                                     NaN         NaN   \n3       GLP-1 Receptor Agonist [EPC],Glucagon-Like Pep...         NaN   \n4       GLP-1 Receptor Agonist [EPC],Glucagon-Like Pep...         NaN   \n...                                                   ...         ...   \n105042   Tetracycline-class Drug [EPC],Tetracyclines [CS]         NaN   \n105043   Tetracycline-class Drug [EPC],Tetracyclines [CS]         NaN   \n105044  Corticosteroid [EPC],Corticosteroid Hormone Re...         NaN   \n105045  Azole Antifungal [EPC],Azoles [CS],Cytochrome ...         NaN   \n105046                                                NaN         NaN   \n\n       NDC_EXCLUDE_FLAG  LISTING_RECORD_CERTIFIED_THROUGH  \n0                     N                        20221231.0  \n1                     N                        20221231.0  \n2                     N                        20221231.0  \n3                     N                        20221231.0  \n4                     N                        20221231.0  \n...                 ...                               ...  \n105042                N                        20221231.0  \n105043                N                        20221231.0  \n105044                N                        20221231.0  \n105045                N                        20221231.0  \n105046                N                        20221231.0  \n\n[105047 rows x 20 columns]",
      "text/html": "<div>\n<style scoped>\n    .dataframe tbody tr th:only-of-type {\n        vertical-align: middle;\n    }\n\n    .dataframe tbody tr th {\n        vertical-align: top;\n    }\n\n    .dataframe thead th {\n        text-align: right;\n    }\n</style>\n<table border=\"1\" class=\"dataframe\">\n  <thead>\n    <tr style=\"text-align: right;\">\n      <th></th>\n      <th>PRODUCTID</th>\n      <th>PRODUCTNDC</th>\n      <th>PRODUCTTYPENAME</th>\n      <th>PROPRIETARYNAME</th>\n      <th>PROPRIETARYNAMESUFFIX</th>\n      <th>NONPROPRIETARYNAME</th>\n      <th>DOSAGEFORMNAME</th>\n      <th>ROUTENAME</th>\n      <th>STARTMARKETINGDATE</th>\n      <th>ENDMARKETINGDATE</th>\n      <th>MARKETINGCATEGORYNAME</th>\n      <th>APPLICATIONNUMBER</th>\n      <th>LABELERNAME</th>\n      <th>SUBSTANCENAME</th>\n      <th>ACTIVE_NUMERATOR_STRENGTH</th>\n      <th>ACTIVE_INGRED_UNIT</th>\n      <th>PHARM_CLASSES</th>\n      <th>DEASCHEDULE</th>\n      <th>NDC_EXCLUDE_FLAG</th>\n      <th>LISTING_RECORD_CERTIFIED_THROUGH</th>\n    </tr>\n  </thead>\n  <tbody>\n    <tr>\n      <th>0</th>\n      <td>0002-0800_662164fd-5ea0-4a08-bfd1-6b08bdd73342</td>\n      <td>0002-0800</td>\n      <td>HUMAN OTC DRUG</td>\n      <td>sterile diluent</td>\n      <td>NaN</td>\n      <td>diluent</td>\n      <td>INJECTION, SOLUTION</td>\n      <td>SUBCUTANEOUS</td>\n      <td>19870710</td>\n      <td>NaN</td>\n      <td>BLA</td>\n      <td>BLA018781</td>\n      <td>Eli Lilly and Company</td>\n      <td>WATER</td>\n      <td>1</td>\n      <td>mL/mL</td>\n      <td>NaN</td>\n      <td>NaN</td>\n      <td>N</td>\n      <td>20221231.0</td>\n    </tr>\n    <tr>\n      <th>1</th>\n      <td>0002-1200_480fceef-6596-4478-97de-677c155506b3</td>\n      <td>0002-1200</td>\n      <td>HUMAN PRESCRIPTION DRUG</td>\n      <td>amyvid</td>\n      <td>NaN</td>\n      <td>florbetapir f 18</td>\n      <td>INJECTION, SOLUTION</td>\n      <td>INTRAVENOUS</td>\n      <td>20120601</td>\n      <td>NaN</td>\n      <td>NDA</td>\n      <td>NDA202008</td>\n      <td>Eli Lilly and Company</td>\n      <td>FLORBETAPIR F-18</td>\n      <td>51</td>\n      <td>mCi/mL</td>\n      <td>Radioactive Diagnostic Agent [EPC],Positron Em...</td>\n      <td>NaN</td>\n      <td>N</td>\n      <td>20221231.0</td>\n    </tr>\n    <tr>\n      <th>2</th>\n      <td>0002-1210_151a431b-f07b-4959-b6fa-c41ff80364c8</td>\n      <td>0002-1210</td>\n      <td>HUMAN PRESCRIPTION DRUG</td>\n      <td>tauvid</td>\n      <td>NaN</td>\n      <td>flortaucipir f-18</td>\n      <td>INJECTION, SOLUTION</td>\n      <td>INTRAVENOUS</td>\n      <td>20200528</td>\n      <td>NaN</td>\n      <td>NDA</td>\n      <td>NDA212123</td>\n      <td>Eli Lilly and Company</td>\n      <td>FLORTAUCIPIR F-18</td>\n      <td>51</td>\n      <td>mCi/mL</td>\n      <td>NaN</td>\n      <td>NaN</td>\n      <td>N</td>\n      <td>20221231.0</td>\n    </tr>\n    <tr>\n      <th>3</th>\n      <td>0002-1433_d4ca0797-5a21-4962-bed1-2c4c9b52d78b</td>\n      <td>0002-1433</td>\n      <td>HUMAN PRESCRIPTION DRUG</td>\n      <td>trulicity</td>\n      <td>NaN</td>\n      <td>dulaglutide</td>\n      <td>INJECTION, SOLUTION</td>\n      <td>SUBCUTANEOUS</td>\n      <td>20140918</td>\n      <td>NaN</td>\n      <td>BLA</td>\n      <td>BLA125469</td>\n      <td>Eli Lilly and Company</td>\n      <td>DULAGLUTIDE</td>\n      <td>0.75</td>\n      <td>mg/.5mL</td>\n      <td>GLP-1 Receptor Agonist [EPC],Glucagon-Like Pep...</td>\n      <td>NaN</td>\n      <td>N</td>\n      <td>20221231.0</td>\n    </tr>\n    <tr>\n      <th>4</th>\n      <td>0002-1434_d4ca0797-5a21-4962-bed1-2c4c9b52d78b</td>\n      <td>0002-1434</td>\n      <td>HUMAN PRESCRIPTION DRUG</td>\n      <td>trulicity</td>\n      <td>NaN</td>\n      <td>dulaglutide</td>\n      <td>INJECTION, SOLUTION</td>\n      <td>SUBCUTANEOUS</td>\n      <td>20140918</td>\n      <td>NaN</td>\n      <td>BLA</td>\n      <td>BLA125469</td>\n      <td>Eli Lilly and Company</td>\n      <td>DULAGLUTIDE</td>\n      <td>1.5</td>\n      <td>mg/.5mL</td>\n      <td>GLP-1 Receptor Agonist [EPC],Glucagon-Like Pep...</td>\n      <td>NaN</td>\n      <td>N</td>\n      <td>20221231.0</td>\n    </tr>\n    <tr>\n      <th>...</th>\n      <td>...</td>\n      <td>...</td>\n      <td>...</td>\n      <td>...</td>\n      <td>...</td>\n      <td>...</td>\n      <td>...</td>\n      <td>...</td>\n      <td>...</td>\n      <td>...</td>\n      <td>...</td>\n      <td>...</td>\n      <td>...</td>\n      <td>...</td>\n      <td>...</td>\n      <td>...</td>\n      <td>...</td>\n      <td>...</td>\n      <td>...</td>\n      <td>...</td>\n    </tr>\n    <tr>\n      <th>105042</th>\n      <td>99207-466_a594be33-33ce-4304-a6fe-65a4eeda3f19</td>\n      <td>99207-466</td>\n      <td>HUMAN PRESCRIPTION DRUG</td>\n      <td>solodyn</td>\n      <td>NaN</td>\n      <td>minocycline hydrochloride</td>\n      <td>TABLET, FILM COATED, EXTENDED RELEASE</td>\n      <td>ORAL</td>\n      <td>20100927</td>\n      <td>NaN</td>\n      <td>NDA</td>\n      <td>NDA050808</td>\n      <td>Bausch Health US LLC</td>\n      <td>MINOCYCLINE HYDROCHLORIDE</td>\n      <td>80</td>\n      <td>mg/1</td>\n      <td>Tetracycline-class Drug [EPC],Tetracyclines [CS]</td>\n      <td>NaN</td>\n      <td>N</td>\n      <td>20221231.0</td>\n    </tr>\n    <tr>\n      <th>105043</th>\n      <td>99207-467_a594be33-33ce-4304-a6fe-65a4eeda3f19</td>\n      <td>99207-467</td>\n      <td>HUMAN PRESCRIPTION DRUG</td>\n      <td>solodyn</td>\n      <td>NaN</td>\n      <td>minocycline hydrochloride</td>\n      <td>TABLET, FILM COATED, EXTENDED RELEASE</td>\n      <td>ORAL</td>\n      <td>20100927</td>\n      <td>NaN</td>\n      <td>NDA</td>\n      <td>NDA050808</td>\n      <td>Bausch Health US LLC</td>\n      <td>MINOCYCLINE HYDROCHLORIDE</td>\n      <td>105</td>\n      <td>mg/1</td>\n      <td>Tetracycline-class Drug [EPC],Tetracyclines [CS]</td>\n      <td>NaN</td>\n      <td>N</td>\n      <td>20221231.0</td>\n    </tr>\n    <tr>\n      <th>105044</th>\n      <td>99207-525_a075b415-7d7c-405a-9645-bdd4c4f92990</td>\n      <td>99207-525</td>\n      <td>HUMAN PRESCRIPTION DRUG</td>\n      <td>vanos</td>\n      <td>NaN</td>\n      <td>fluocinonide</td>\n      <td>CREAM</td>\n      <td>TOPICAL</td>\n      <td>20060313</td>\n      <td>NaN</td>\n      <td>NDA</td>\n      <td>NDA021758</td>\n      <td>Bausch Health US, LLC</td>\n      <td>FLUOCINONIDE</td>\n      <td>1</td>\n      <td>mg/g</td>\n      <td>Corticosteroid [EPC],Corticosteroid Hormone Re...</td>\n      <td>NaN</td>\n      <td>N</td>\n      <td>20221231.0</td>\n    </tr>\n    <tr>\n      <th>105045</th>\n      <td>99207-850_e52ec481-1114-4f09-9be0-311e5eb52fa1</td>\n      <td>99207-850</td>\n      <td>HUMAN PRESCRIPTION DRUG</td>\n      <td>luzu</td>\n      <td>NaN</td>\n      <td>luliconazole</td>\n      <td>CREAM</td>\n      <td>TOPICAL</td>\n      <td>20131114</td>\n      <td>NaN</td>\n      <td>NDA</td>\n      <td>NDA204153</td>\n      <td>Bausch Health US, LLC</td>\n      <td>LULICONAZOLE</td>\n      <td>10</td>\n      <td>mg/g</td>\n      <td>Azole Antifungal [EPC],Azoles [CS],Cytochrome ...</td>\n      <td>NaN</td>\n      <td>N</td>\n      <td>20221231.0</td>\n    </tr>\n    <tr>\n      <th>105046</th>\n      <td>99528-606_9751cf90-5fd1-74a4-e053-2a95a90afb9f</td>\n      <td>99528-606</td>\n      <td>HUMAN OTC DRUG</td>\n      <td>valerin</td>\n      <td>NaN</td>\n      <td>valerian root, passiflora, magnesium carbonate</td>\n      <td>TABLET</td>\n      <td>ORAL</td>\n      <td>19860612</td>\n      <td>NaN</td>\n      <td>UNAPPROVED HOMEOPATHIC</td>\n      <td>NaN</td>\n      <td>Wonder Laboratories</td>\n      <td>VALERIAN; PASSIFLORA INCARNATA FLOWER; MAGNESI...</td>\n      <td>6; 3; 1</td>\n      <td>[hp_X]/1; [hp_X]/1; [hp_X]/1</td>\n      <td>NaN</td>\n      <td>NaN</td>\n      <td>N</td>\n      <td>20221231.0</td>\n    </tr>\n  </tbody>\n</table>\n<p>105047 rows × 20 columns</p>\n</div>"
     },
     "execution_count": 34,
     "metadata": {},
     "output_type": "execute_result"
    }
   ],
   "source": [
    "def read_drugs():\n",
    "    df = pd.read_csv(data_dir / \"NDC_product_table.csv\", encoding='ISO-8859-1')\n",
    "    df.NONPROPRIETARYNAME = df.NONPROPRIETARYNAME.fillna(\"\")\n",
    "    df.NONPROPRIETARYNAME = df.NONPROPRIETARYNAME.apply(str.lower)\n",
    "    df.PROPRIETARYNAME = df.PROPRIETARYNAME.fillna(\"\")\n",
    "    df.PROPRIETARYNAME = df.PROPRIETARYNAME.apply(str.lower)\n",
    "    return df\n",
    "ndc_drug_synonyms = read_drugs()\n",
    "ndc_drug_synonyms"
   ],
   "metadata": {
    "collapsed": false,
    "ExecuteTime": {
     "end_time": "2023-10-12T02:24:24.614607200Z",
     "start_time": "2023-10-12T02:24:24.073903300Z"
    }
   }
  },
  {
   "cell_type": "code",
   "execution_count": 35,
   "outputs": [
    {
     "name": "stdout",
     "output_type": "stream",
     "text": [
      "Loaded drug index with 34681 synonyms\n"
     ]
    }
   ],
   "source": [
    "from detectdd.drug_index import DrugIndex\n",
    "\n",
    "drug_index = DrugIndex.init_with_drugbank()\n"
   ],
   "metadata": {
    "collapsed": false,
    "ExecuteTime": {
     "end_time": "2023-10-12T02:24:25.708437700Z",
     "start_time": "2023-10-12T02:24:24.607625900Z"
    }
   }
  },
  {
   "cell_type": "code",
   "execution_count": 36,
   "outputs": [],
   "source": [
    "def read_hosp_drugs():\n",
    "    sql_hosp_drugs_query = \"\"\"\n",
    "    SELECT \"\"\"\n",
    "    get_authed_client()"
   ],
   "metadata": {
    "collapsed": false,
    "ExecuteTime": {
     "end_time": "2023-10-12T02:24:25.779869700Z",
     "start_time": "2023-10-12T02:24:25.703463600Z"
    }
   }
  },
  {
   "cell_type": "code",
   "execution_count": 37,
   "outputs": [
    {
     "name": "stdout",
     "output_type": "stream",
     "text": [
      "itemid                              474\n",
      "label                               474\n",
      "category                            474\n",
      "PRODUCTID_x                          71\n",
      "NONPROPRIETARYNAME_x                 71\n",
      "PRODUCTID_y                          77\n",
      "PRODUCTNDC                           77\n",
      "PRODUCTTYPENAME                      77\n",
      "PROPRIETARYNAME                      77\n",
      "PROPRIETARYNAMESUFFIX                 2\n",
      "NONPROPRIETARYNAME_y                 77\n",
      "DOSAGEFORMNAME                       77\n",
      "ROUTENAME                            77\n",
      "STARTMARKETINGDATE                   77\n",
      "ENDMARKETINGDATE                      4\n",
      "MARKETINGCATEGORYNAME                77\n",
      "APPLICATIONNUMBER                    74\n",
      "LABELERNAME                          77\n",
      "SUBSTANCENAME                        76\n",
      "ACTIVE_NUMERATOR_STRENGTH            76\n",
      "ACTIVE_INGRED_UNIT                   76\n",
      "PHARM_CLASSES                        66\n",
      "DEASCHEDULE                           3\n",
      "NDC_EXCLUDE_FLAG                     77\n",
      "LISTING_RECORD_CERTIFIED_THROUGH     73\n",
      "_merge                              474\n",
      "dtype: int64\n"
     ]
    },
    {
     "data": {
      "text/plain": "     itemid                    label                     category  \\\n0    222139        potassium acetate      Nutrition - Supplements   \n1    222190               ranitidine       Nutrition - Parenteral   \n2    225801               lipids 20%       Nutrition - Parenteral   \n3    225916            tpn w/ lipids       Nutrition - Parenteral   \n4    225917       tpn without lipids       Nutrition - Parenteral   \n..      ...                      ...                          ...   \n469  221209                peptisorb  Fluids - Other (Not In Use)   \n470  221210                  suplena  Fluids - Other (Not In Use)   \n471  221211  sodium bicarbonate 1,4%  Fluids - Other (Not In Use)   \n472  221212             saline 0,18%  Fluids - Other (Not In Use)   \n473  221213               saline 30%  Fluids - Other (Not In Use)   \n\n                                        PRODUCTID_x NONPROPRIETARYNAME_x  \\\n0    0409-3294_500bb334-6d33-4bb1-b081-f505423f2872    potassium acetate   \n1    0904-6715_0b8b6ed2-7d1d-4d6d-86f9-0f86fb06b738           ranitidine   \n2                                               NaN                  NaN   \n3                                               NaN                  NaN   \n4                                               NaN                  NaN   \n..                                              ...                  ...   \n469                                             NaN                  NaN   \n470                                             NaN                  NaN   \n471                                             NaN                  NaN   \n472                                             NaN                  NaN   \n473                                             NaN                  NaN   \n\n                                        PRODUCTID_y PRODUCTNDC  \\\n0    0409-3294_500bb334-6d33-4bb1-b081-f505423f2872  0409-3294   \n1    0904-6921_2a917fc5-06a6-d0e3-f8d4-39013116a446  0904-6921   \n2                                               NaN        NaN   \n3                                               NaN        NaN   \n4                                               NaN        NaN   \n..                                              ...        ...   \n469                                             NaN        NaN   \n470                                             NaN        NaN   \n471                                             NaN        NaN   \n472                                             NaN        NaN   \n473                                             NaN        NaN   \n\n             PRODUCTTYPENAME    PROPRIETARYNAME PROPRIETARYNAMESUFFIX  ...  \\\n0    HUMAN PRESCRIPTION DRUG  potassium acetate                   NaN  ...   \n1             HUMAN OTC DRUG         ranitidine                   NaN  ...   \n2                        NaN                NaN                   NaN  ...   \n3                        NaN                NaN                   NaN  ...   \n4                        NaN                NaN                   NaN  ...   \n..                       ...                ...                   ...  ...   \n469                      NaN                NaN                   NaN  ...   \n470                      NaN                NaN                   NaN  ...   \n471                      NaN                NaN                   NaN  ...   \n472                      NaN                NaN                   NaN  ...   \n473                      NaN                NaN                   NaN  ...   \n\n    APPLICATIONNUMBER            LABELERNAME             SUBSTANCENAME  \\\n0           NDA018896          Hospira, Inc.         POTASSIUM ACETATE   \n1          ANDA075294  MAJOR PHARMACEUTICALS  RANITIDINE HYDROCHLORIDE   \n2                 NaN                    NaN                       NaN   \n3                 NaN                    NaN                       NaN   \n4                 NaN                    NaN                       NaN   \n..                ...                    ...                       ...   \n469               NaN                    NaN                       NaN   \n470               NaN                    NaN                       NaN   \n471               NaN                    NaN                       NaN   \n472               NaN                    NaN                       NaN   \n473               NaN                    NaN                       NaN   \n\n     ACTIVE_NUMERATOR_STRENGTH  ACTIVE_INGRED_UNIT  \\\n0                        196.3               mg/mL   \n1                           75                mg/1   \n2                          NaN                 NaN   \n3                          NaN                 NaN   \n4                          NaN                 NaN   \n..                         ...                 ...   \n469                        NaN                 NaN   \n470                        NaN                 NaN   \n471                        NaN                 NaN   \n472                        NaN                 NaN   \n473                        NaN                 NaN   \n\n                                         PHARM_CLASSES DEASCHEDULE  \\\n0    Potassium Compounds [CS],Potassium Salt [EPC],...         NaN   \n1                                                  NaN         NaN   \n2                                                  NaN         NaN   \n3                                                  NaN         NaN   \n4                                                  NaN         NaN   \n..                                                 ...         ...   \n469                                                NaN         NaN   \n470                                                NaN         NaN   \n471                                                NaN         NaN   \n472                                                NaN         NaN   \n473                                                NaN         NaN   \n\n    NDC_EXCLUDE_FLAG LISTING_RECORD_CERTIFIED_THROUGH     _merge  \n0                  N                       20221231.0       both  \n1                  N                       20221231.0       both  \n2                NaN                              NaN  left_only  \n3                NaN                              NaN  left_only  \n4                NaN                              NaN  left_only  \n..               ...                              ...        ...  \n469              NaN                              NaN  left_only  \n470              NaN                              NaN  left_only  \n471              NaN                              NaN  left_only  \n472              NaN                              NaN  left_only  \n473              NaN                              NaN  left_only  \n\n[474 rows x 26 columns]",
      "text/html": "<div>\n<style scoped>\n    .dataframe tbody tr th:only-of-type {\n        vertical-align: middle;\n    }\n\n    .dataframe tbody tr th {\n        vertical-align: top;\n    }\n\n    .dataframe thead th {\n        text-align: right;\n    }\n</style>\n<table border=\"1\" class=\"dataframe\">\n  <thead>\n    <tr style=\"text-align: right;\">\n      <th></th>\n      <th>itemid</th>\n      <th>label</th>\n      <th>category</th>\n      <th>PRODUCTID_x</th>\n      <th>NONPROPRIETARYNAME_x</th>\n      <th>PRODUCTID_y</th>\n      <th>PRODUCTNDC</th>\n      <th>PRODUCTTYPENAME</th>\n      <th>PROPRIETARYNAME</th>\n      <th>PROPRIETARYNAMESUFFIX</th>\n      <th>...</th>\n      <th>APPLICATIONNUMBER</th>\n      <th>LABELERNAME</th>\n      <th>SUBSTANCENAME</th>\n      <th>ACTIVE_NUMERATOR_STRENGTH</th>\n      <th>ACTIVE_INGRED_UNIT</th>\n      <th>PHARM_CLASSES</th>\n      <th>DEASCHEDULE</th>\n      <th>NDC_EXCLUDE_FLAG</th>\n      <th>LISTING_RECORD_CERTIFIED_THROUGH</th>\n      <th>_merge</th>\n    </tr>\n  </thead>\n  <tbody>\n    <tr>\n      <th>0</th>\n      <td>222139</td>\n      <td>potassium acetate</td>\n      <td>Nutrition - Supplements</td>\n      <td>0409-3294_500bb334-6d33-4bb1-b081-f505423f2872</td>\n      <td>potassium acetate</td>\n      <td>0409-3294_500bb334-6d33-4bb1-b081-f505423f2872</td>\n      <td>0409-3294</td>\n      <td>HUMAN PRESCRIPTION DRUG</td>\n      <td>potassium acetate</td>\n      <td>NaN</td>\n      <td>...</td>\n      <td>NDA018896</td>\n      <td>Hospira, Inc.</td>\n      <td>POTASSIUM ACETATE</td>\n      <td>196.3</td>\n      <td>mg/mL</td>\n      <td>Potassium Compounds [CS],Potassium Salt [EPC],...</td>\n      <td>NaN</td>\n      <td>N</td>\n      <td>20221231.0</td>\n      <td>both</td>\n    </tr>\n    <tr>\n      <th>1</th>\n      <td>222190</td>\n      <td>ranitidine</td>\n      <td>Nutrition - Parenteral</td>\n      <td>0904-6715_0b8b6ed2-7d1d-4d6d-86f9-0f86fb06b738</td>\n      <td>ranitidine</td>\n      <td>0904-6921_2a917fc5-06a6-d0e3-f8d4-39013116a446</td>\n      <td>0904-6921</td>\n      <td>HUMAN OTC DRUG</td>\n      <td>ranitidine</td>\n      <td>NaN</td>\n      <td>...</td>\n      <td>ANDA075294</td>\n      <td>MAJOR PHARMACEUTICALS</td>\n      <td>RANITIDINE HYDROCHLORIDE</td>\n      <td>75</td>\n      <td>mg/1</td>\n      <td>NaN</td>\n      <td>NaN</td>\n      <td>N</td>\n      <td>20221231.0</td>\n      <td>both</td>\n    </tr>\n    <tr>\n      <th>2</th>\n      <td>225801</td>\n      <td>lipids 20%</td>\n      <td>Nutrition - Parenteral</td>\n      <td>NaN</td>\n      <td>NaN</td>\n      <td>NaN</td>\n      <td>NaN</td>\n      <td>NaN</td>\n      <td>NaN</td>\n      <td>NaN</td>\n      <td>...</td>\n      <td>NaN</td>\n      <td>NaN</td>\n      <td>NaN</td>\n      <td>NaN</td>\n      <td>NaN</td>\n      <td>NaN</td>\n      <td>NaN</td>\n      <td>NaN</td>\n      <td>NaN</td>\n      <td>left_only</td>\n    </tr>\n    <tr>\n      <th>3</th>\n      <td>225916</td>\n      <td>tpn w/ lipids</td>\n      <td>Nutrition - Parenteral</td>\n      <td>NaN</td>\n      <td>NaN</td>\n      <td>NaN</td>\n      <td>NaN</td>\n      <td>NaN</td>\n      <td>NaN</td>\n      <td>NaN</td>\n      <td>...</td>\n      <td>NaN</td>\n      <td>NaN</td>\n      <td>NaN</td>\n      <td>NaN</td>\n      <td>NaN</td>\n      <td>NaN</td>\n      <td>NaN</td>\n      <td>NaN</td>\n      <td>NaN</td>\n      <td>left_only</td>\n    </tr>\n    <tr>\n      <th>4</th>\n      <td>225917</td>\n      <td>tpn without lipids</td>\n      <td>Nutrition - Parenteral</td>\n      <td>NaN</td>\n      <td>NaN</td>\n      <td>NaN</td>\n      <td>NaN</td>\n      <td>NaN</td>\n      <td>NaN</td>\n      <td>NaN</td>\n      <td>...</td>\n      <td>NaN</td>\n      <td>NaN</td>\n      <td>NaN</td>\n      <td>NaN</td>\n      <td>NaN</td>\n      <td>NaN</td>\n      <td>NaN</td>\n      <td>NaN</td>\n      <td>NaN</td>\n      <td>left_only</td>\n    </tr>\n    <tr>\n      <th>...</th>\n      <td>...</td>\n      <td>...</td>\n      <td>...</td>\n      <td>...</td>\n      <td>...</td>\n      <td>...</td>\n      <td>...</td>\n      <td>...</td>\n      <td>...</td>\n      <td>...</td>\n      <td>...</td>\n      <td>...</td>\n      <td>...</td>\n      <td>...</td>\n      <td>...</td>\n      <td>...</td>\n      <td>...</td>\n      <td>...</td>\n      <td>...</td>\n      <td>...</td>\n      <td>...</td>\n    </tr>\n    <tr>\n      <th>469</th>\n      <td>221209</td>\n      <td>peptisorb</td>\n      <td>Fluids - Other (Not In Use)</td>\n      <td>NaN</td>\n      <td>NaN</td>\n      <td>NaN</td>\n      <td>NaN</td>\n      <td>NaN</td>\n      <td>NaN</td>\n      <td>NaN</td>\n      <td>...</td>\n      <td>NaN</td>\n      <td>NaN</td>\n      <td>NaN</td>\n      <td>NaN</td>\n      <td>NaN</td>\n      <td>NaN</td>\n      <td>NaN</td>\n      <td>NaN</td>\n      <td>NaN</td>\n      <td>left_only</td>\n    </tr>\n    <tr>\n      <th>470</th>\n      <td>221210</td>\n      <td>suplena</td>\n      <td>Fluids - Other (Not In Use)</td>\n      <td>NaN</td>\n      <td>NaN</td>\n      <td>NaN</td>\n      <td>NaN</td>\n      <td>NaN</td>\n      <td>NaN</td>\n      <td>NaN</td>\n      <td>...</td>\n      <td>NaN</td>\n      <td>NaN</td>\n      <td>NaN</td>\n      <td>NaN</td>\n      <td>NaN</td>\n      <td>NaN</td>\n      <td>NaN</td>\n      <td>NaN</td>\n      <td>NaN</td>\n      <td>left_only</td>\n    </tr>\n    <tr>\n      <th>471</th>\n      <td>221211</td>\n      <td>sodium bicarbonate 1,4%</td>\n      <td>Fluids - Other (Not In Use)</td>\n      <td>NaN</td>\n      <td>NaN</td>\n      <td>NaN</td>\n      <td>NaN</td>\n      <td>NaN</td>\n      <td>NaN</td>\n      <td>NaN</td>\n      <td>...</td>\n      <td>NaN</td>\n      <td>NaN</td>\n      <td>NaN</td>\n      <td>NaN</td>\n      <td>NaN</td>\n      <td>NaN</td>\n      <td>NaN</td>\n      <td>NaN</td>\n      <td>NaN</td>\n      <td>left_only</td>\n    </tr>\n    <tr>\n      <th>472</th>\n      <td>221212</td>\n      <td>saline 0,18%</td>\n      <td>Fluids - Other (Not In Use)</td>\n      <td>NaN</td>\n      <td>NaN</td>\n      <td>NaN</td>\n      <td>NaN</td>\n      <td>NaN</td>\n      <td>NaN</td>\n      <td>NaN</td>\n      <td>...</td>\n      <td>NaN</td>\n      <td>NaN</td>\n      <td>NaN</td>\n      <td>NaN</td>\n      <td>NaN</td>\n      <td>NaN</td>\n      <td>NaN</td>\n      <td>NaN</td>\n      <td>NaN</td>\n      <td>left_only</td>\n    </tr>\n    <tr>\n      <th>473</th>\n      <td>221213</td>\n      <td>saline 30%</td>\n      <td>Fluids - Other (Not In Use)</td>\n      <td>NaN</td>\n      <td>NaN</td>\n      <td>NaN</td>\n      <td>NaN</td>\n      <td>NaN</td>\n      <td>NaN</td>\n      <td>NaN</td>\n      <td>...</td>\n      <td>NaN</td>\n      <td>NaN</td>\n      <td>NaN</td>\n      <td>NaN</td>\n      <td>NaN</td>\n      <td>NaN</td>\n      <td>NaN</td>\n      <td>NaN</td>\n      <td>NaN</td>\n      <td>left_only</td>\n    </tr>\n  </tbody>\n</table>\n<p>474 rows × 26 columns</p>\n</div>"
     },
     "execution_count": 37,
     "metadata": {},
     "output_type": "execute_result"
    }
   ],
   "source": [
    "def match():\n",
    "    df = icu_drugs.merge(\n",
    "        ndc_drug_synonyms.drop_duplicates(subset=\"NONPROPRIETARYNAME\"), left_on= ['label'], right_on=['NONPROPRIETARYNAME'], how='left', indicator=True)[['itemid', 'label', 'category', 'PRODUCTID', 'NONPROPRIETARYNAME']]\\\n",
    "        .merge(ndc_drug_synonyms.drop_duplicates(subset=\"PROPRIETARYNAME\"), left_on=['label'], right_on='PROPRIETARYNAME', how='left', indicator=True)\n",
    "    print(df.count())\n",
    "    return df\n",
    "\n",
    "\n",
    "matched = match()\n",
    "matched"
   ],
   "metadata": {
    "collapsed": false,
    "ExecuteTime": {
     "end_time": "2023-10-12T02:24:25.952404500Z",
     "start_time": "2023-10-12T02:24:25.782889200Z"
    }
   }
  },
  {
   "cell_type": "code",
   "execution_count": 38,
   "outputs": [
    {
     "name": "stdout",
     "output_type": "stream",
     "text": [
      "Found match with score (100) : potassium acetate - potassium acetate\n",
      "0\n",
      "Found match with score (100) : ranitidine - ranitidine hydrochloride\n",
      "1\n",
      "2\n",
      "3\n",
      "4\n",
      "5\n",
      "6\n",
      "7\n",
      "Found match with score (100) : hepatamine - hepatamine\n",
      "8\n",
      "9\n",
      "10\n",
      "11\n",
      "Found match with score (97) : potassium phosphate - potassium phosphates\n",
      "12\n",
      "Found match with score (100) : sodium acetate - sodium acetate\n",
      "13\n",
      "Found match with score (100) : dextrose pn - dextrose\n",
      "14\n",
      "15\n",
      "16\n",
      "17\n",
      "18\n",
      "19\n",
      "20\n",
      "21\n",
      "Found match with score (100) : vanilla scandi shake (mixed) - vanilla\n",
      "22\n",
      "23\n",
      "Found match with score (100) : vanilla lactose free scandi shake (mixed) - vanilla\n",
      "24\n",
      "25\n",
      "26\n",
      "27\n",
      "Found match with score (100) : vancomycin - vancomycin hydrochloride\n",
      "28\n",
      "Found match with score (100) : acyclovir - acyclovir\n",
      "29\n",
      "Found match with score (100) : ambisome - ambisome\n",
      "30\n",
      "Found match with score (100) : amikacin - amikacin sulfate\n",
      "31\n",
      "Found match with score (100) : ampicillin - ampicillin and sulbactam\n",
      "32\n",
      "Found match with score (100) : ampicillin/sulbactam (unasyn) - ampicillin\n",
      "33\n",
      "Found match with score (100) : atovaquone - atovaquone\n",
      "34\n",
      "Found match with score (100) : azithromycin - azithromycin\n",
      "35\n",
      "Found match with score (100) : aztreonam - aztreonam\n",
      "36\n",
      "Found match with score (100) : caspofungin - caspofungin acetate\n",
      "37\n",
      "Found match with score (100) : cefazolin - cefazolin\n",
      "38\n",
      "Found match with score (100) : cefepime - cefepime hydrochloride and dextrose\n",
      "39\n",
      "Found match with score (100) : ceftazidime - ceftazidime and dextrose\n",
      "40\n",
      "Found match with score (100) : ceftriaxone - ceftriaxone\n",
      "41\n",
      "Found match with score (100) : chloroquine - chloroquine phosphate\n",
      "42\n",
      "Found match with score (100) : ciprofloxacin - ciprofloxacin\n",
      "43\n",
      "Found match with score (100) : clindamycin - clindamycin phosphate\n",
      "44\n",
      "45\n",
      "Found match with score (100) : daptomycin - daptomycin\n",
      "46\n",
      "Found match with score (100) : doxycycline - doxycycline\n",
      "47\n",
      "Found match with score (100) : erythromycin - erythromycin\n",
      "48\n",
      "Found match with score (100) : ethambutol - ethambutol hydrochloride\n",
      "49\n",
      "Found match with score (100) : fluconazole - fluconazole\n",
      "50\n",
      "Found match with score (100) : foscarnet - foscarnet sodium\n",
      "51\n",
      "Found match with score (91) : gancyclovir - ganciclovir\n",
      "52\n",
      "Found match with score (100) : gentamicin - gentamicin sulfate in sodium chloride\n",
      "53\n",
      "Found match with score (100) : imipenem/cilastatin - imipenem and cilastatin\n",
      "54\n",
      "Found match with score (100) : isoniazid - isoniazid\n",
      "55\n",
      "Found match with score (100) : levofloxacin - levofloxacin\n",
      "56\n",
      "Found match with score (100) : linezolid - linezolid\n",
      "57\n",
      "Found match with score (100) : mefloquine - mefloquine hydrochloride\n",
      "58\n",
      "Found match with score (100) : meropenem - meropenem and sodium chloride\n",
      "59\n",
      "Found match with score (100) : metronidazole - metronidazole\n",
      "60\n",
      "Found match with score (100) : micafungin - micafungin\n",
      "61\n",
      "Found match with score (100) : moxifloxacin - moxifloxacin hydrochloride\n",
      "62\n",
      "Found match with score (100) : nafcillin - nafcillin\n",
      "63\n",
      "Found match with score (100) : oxacillin - oxacillin\n",
      "64\n",
      "Found match with score (100) : penicillin g potassium - penicillin g potassium\n",
      "65\n",
      "Found match with score (100) : piperacillin - piperacillin and tazobactam\n",
      "66\n",
      "Found match with score (100) : piperacillin/tazobactam (zosyn) - piperacillin, tazobactam\n",
      "67\n",
      "Found match with score (100) : pyrazinamide - pyrazinamide\n",
      "68\n",
      "Found match with score (100) : quinine - quinine sulfate\n",
      "69\n",
      "Found match with score (100) : ribavirin - ribavirin\n",
      "70\n",
      "Found match with score (100) : rifampin - rifampin\n",
      "71\n",
      "Found match with score (100) : bactrim (smx/tmp) - bactrim\n",
      "72\n",
      "73\n",
      "Found match with score (100) : tobramycin - tobramycin\n",
      "74\n",
      "Found match with score (93) : valgancyclovir - valganciclovir\n",
      "75\n",
      "Found match with score (100) : voriconazole - voriconazole\n",
      "76\n",
      "77\n",
      "Found match with score (100) : tamiflu - tamiflu\n",
      "78\n",
      "Found match with score (100) : chloramphenicol - chloramphenicol sodium succinate\n",
      "79\n",
      "Found match with score (100) : ertapenem sodium (invanz) - ertapenem sodium\n",
      "80\n",
      "Found match with score (100) : tigecycline - tigecycline\n",
      "81\n",
      "82\n",
      "Found match with score (100) : dextrose 5% - dextrose\n",
      "214\n",
      "Found match with score (100) : dextrose 10% - dextrose\n",
      "215\n",
      "Found match with score (100) : dextrose 50% - dextrose\n",
      "216\n",
      "217\n",
      "218\n",
      "219\n",
      "220\n",
      "221\n",
      "222\n",
      "223\n",
      "224\n",
      "225\n",
      "226\n",
      "227\n",
      "228\n",
      "229\n",
      "230\n",
      "231\n",
      "Found match with score (100) : solution - sodium chlorode hypertonicity ophthalmic solution\n",
      "232\n",
      "Found match with score (100) : sterile water - sterile water\n",
      "233\n",
      "234\n",
      "235\n",
      "236\n",
      "237\n",
      "238\n",
      "239\n",
      "240\n",
      "241\n",
      "242\n",
      "243\n",
      "244\n",
      "245\n",
      "Found match with score (100) : sodium bicarbonate 8.4% (amp) - sodium bicarbonate\n",
      "246\n",
      "Found match with score (100) : dextrose 20% - dextrose\n",
      "247\n",
      "Found match with score (100) : dextrose 30% - dextrose\n",
      "248\n",
      "Found match with score (100) : dextrose 40% - dextrose\n",
      "249\n",
      "250\n",
      "251\n",
      "252\n",
      "253\n",
      "254\n",
      "255\n",
      "256\n",
      "257\n",
      "258\n",
      "259\n",
      "260\n",
      "261\n",
      "262\n",
      "263\n",
      "264\n",
      "265\n",
      "266\n",
      "267\n",
      "268\n",
      "269\n",
      "270\n",
      "271\n",
      "272\n",
      "273\n",
      "274\n",
      "275\n",
      "276\n",
      "277\n",
      "278\n",
      "279\n",
      "280\n",
      "281\n",
      "282\n",
      "283\n",
      "284\n",
      "285\n",
      "286\n",
      "287\n",
      "288\n",
      "289\n",
      "290\n",
      "291\n",
      "292\n",
      "293\n",
      "294\n",
      "295\n",
      "296\n",
      "297\n",
      "298\n",
      "299\n",
      "300\n",
      "301\n",
      "302\n",
      "303\n",
      "304\n",
      "305\n",
      "306\n",
      "307\n",
      "308\n",
      "309\n",
      "310\n",
      "311\n",
      "312\n",
      "313\n",
      "314\n",
      "315\n",
      "316\n",
      "317\n",
      "318\n",
      "319\n",
      "320\n",
      "321\n",
      "322\n",
      "323\n",
      "324\n",
      "325\n",
      "326\n",
      "327\n",
      "328\n",
      "329\n",
      "330\n",
      "331\n",
      "332\n",
      "333\n",
      "334\n",
      "335\n",
      "336\n",
      "337\n",
      "338\n",
      "339\n",
      "340\n",
      "341\n",
      "342\n",
      "343\n",
      "344\n",
      "345\n",
      "346\n",
      "347\n",
      "348\n",
      "349\n",
      "350\n",
      "351\n",
      "352\n",
      "353\n",
      "354\n",
      "355\n",
      "Found match with score (100) : vital 1.5 (full) - vital\n",
      "356\n",
      "357\n",
      "358\n",
      "359\n",
      "360\n",
      "Found match with score (100) : vital high protein (full) - vital\n",
      "361\n",
      "362\n",
      "Found match with score (91) : albumin 25% - albuminar-25\n",
      "363\n",
      "364\n",
      "365\n",
      "366\n",
      "367\n",
      "368\n",
      "369\n",
      "370\n",
      "Found match with score (100) : hetastarch (hespan) 6% - hespan\n",
      "371\n",
      "372\n",
      "373\n",
      "374\n",
      "Found match with score (100) : profilnine - profilnine\n",
      "375\n",
      "376\n",
      "377\n",
      "378\n",
      "379\n",
      "380\n",
      "381\n",
      "382\n",
      "383\n",
      "384\n",
      "385\n",
      "386\n",
      "387\n",
      "388\n",
      "389\n",
      "Found match with score (100) : albumin (human) 20% - albumin (human)\n",
      "390\n",
      "Found match with score (100) : albumin (human) 4% - albumin (human)\n",
      "391\n",
      "392\n",
      "393\n",
      "Found match with score (100) : dextrose 20.% - dextrose\n",
      "394\n",
      "Found match with score (100) : ringers - ringers\n",
      "395\n",
      "Found match with score (100) : saline 0,9% - saline\n",
      "396\n",
      "Found match with score (100) : ringers lactate - ringers\n",
      "397\n",
      "Found match with score (100) : ringers acetate - ringers\n",
      "398\n",
      "Found match with score (100) : saline 0,255% - saline\n",
      "399\n",
      "Found match with score (100) : saline 0,3% - saline\n",
      "400\n",
      "Found match with score (100) : saline 0,45% - saline\n",
      "401\n",
      "Found match with score (100) : saline 0,65% - saline\n",
      "402\n",
      "Found match with score (100) : saline 3% - saline\n",
      "403\n",
      "Found match with score (100) : dextrose 4,3% / saline 0,18% - dextrose\n",
      "404\n",
      "Found match with score (100) : dextrose 5% / saline 0,9% - dextrose\n",
      "405\n",
      "Found match with score (100) : dextrose 5% / saline 0,45% - dextrose\n",
      "406\n",
      "Found match with score (100) : dextrose 2,5% / saline 0,45% - dextrose\n",
      "407\n",
      "Found match with score (100) : dextrose 5% / ringers lactate - dextrose\n",
      "408\n",
      "Found match with score (100) : dextrose 10% / ringers lactate - dextrose\n",
      "409\n",
      "410\n",
      "411\n",
      "412\n",
      "413\n",
      "414\n",
      "415\n",
      "416\n",
      "Found match with score (100) : hextend (hetastarch 6% in lactate) - hextend\n",
      "417\n",
      "Found match with score (100) : intralipid 10% - intralipid\n",
      "418\n",
      "Found match with score (100) : intralipid 20% - intralipid\n",
      "419\n",
      "Found match with score (100) : intralipid 30% - intralipid\n",
      "420\n",
      "Found match with score (100) : mannitol 5% - mannitol\n",
      "421\n",
      "Found match with score (100) : mannitol 10% - mannitol\n",
      "422\n",
      "Found match with score (100) : mannitol 15% - mannitol\n",
      "423\n",
      "Found match with score (100) : mannitol 20% - mannitol\n",
      "424\n",
      "Found match with score (100) : mannitol 25% - mannitol\n",
      "425\n",
      "426\n",
      "Found match with score (100) : dextran 40 / dextrose 5% (gentran - rheomacrodex) - dextrose\n",
      "427\n",
      "428\n",
      "Found match with score (100) : dextran 70 / dextrose 5% (gentran - macrodex - rescueflow) - dextrose\n",
      "429\n",
      "430\n",
      "431\n",
      "432\n",
      "433\n",
      "434\n",
      "435\n",
      "436\n",
      "437\n",
      "438\n",
      "439\n",
      "Found match with score (100) : dextrose 19% - dextrose\n",
      "440\n",
      "441\n",
      "442\n",
      "Found match with score (100) : dextrose 2,5% - dextrose\n",
      "443\n",
      "444\n",
      "445\n",
      "446\n",
      "447\n",
      "448\n",
      "449\n",
      "450\n",
      "451\n",
      "452\n",
      "453\n",
      "454\n",
      "455\n",
      "456\n",
      "457\n",
      "458\n",
      "459\n",
      "460\n",
      "461\n",
      "462\n",
      "463\n",
      "464\n",
      "465\n",
      "466\n",
      "467\n",
      "Found match with score (100) : normosol - normosol-r\n",
      "468\n",
      "469\n",
      "470\n",
      "Found match with score (100) : sodium bicarbonate 1,4% - sodium bicarbonate\n",
      "471\n",
      "Found match with score (100) : saline 0,18% - saline\n",
      "472\n",
      "Found match with score (100) : saline 30% - saline\n",
      "473\n"
     ]
    },
    {
     "data": {
      "text/plain": "     index  itemid                    label                norm_label  score  \\\n0        0  222139        potassium acetate         potassium acetate    100   \n1        1  222190               ranitidine  ranitidine hydrochloride    100   \n2        8  225921               hepatamine                hepatamine    100   \n3       12  225925      potassium phosphate      potassium phosphates     97   \n4       13  225926           sodium acetate            sodium acetate    100   \n..     ...     ...                      ...                       ...    ...   \n103    443  221017            dextrose 2,5%                  dextrose    100   \n104    468  221208                 normosol                normosol-r    100   \n105    471  221211  sodium bicarbonate 1,4%        sodium bicarbonate    100   \n106    472  221212             saline 0,18%                    saline    100   \n107    473  221213               saline 30%                    saline    100   \n\n     norm_index  \n0          9428  \n1         11999  \n2          5882  \n3          9571  \n4          9430  \n..          ...  \n103        5806  \n104        9594  \n105        9051  \n106       26481  \n107       26481  \n\n[108 rows x 6 columns]",
      "text/html": "<div>\n<style scoped>\n    .dataframe tbody tr th:only-of-type {\n        vertical-align: middle;\n    }\n\n    .dataframe tbody tr th {\n        vertical-align: top;\n    }\n\n    .dataframe thead th {\n        text-align: right;\n    }\n</style>\n<table border=\"1\" class=\"dataframe\">\n  <thead>\n    <tr style=\"text-align: right;\">\n      <th></th>\n      <th>index</th>\n      <th>itemid</th>\n      <th>label</th>\n      <th>norm_label</th>\n      <th>score</th>\n      <th>norm_index</th>\n    </tr>\n  </thead>\n  <tbody>\n    <tr>\n      <th>0</th>\n      <td>0</td>\n      <td>222139</td>\n      <td>potassium acetate</td>\n      <td>potassium acetate</td>\n      <td>100</td>\n      <td>9428</td>\n    </tr>\n    <tr>\n      <th>1</th>\n      <td>1</td>\n      <td>222190</td>\n      <td>ranitidine</td>\n      <td>ranitidine hydrochloride</td>\n      <td>100</td>\n      <td>11999</td>\n    </tr>\n    <tr>\n      <th>2</th>\n      <td>8</td>\n      <td>225921</td>\n      <td>hepatamine</td>\n      <td>hepatamine</td>\n      <td>100</td>\n      <td>5882</td>\n    </tr>\n    <tr>\n      <th>3</th>\n      <td>12</td>\n      <td>225925</td>\n      <td>potassium phosphate</td>\n      <td>potassium phosphates</td>\n      <td>97</td>\n      <td>9571</td>\n    </tr>\n    <tr>\n      <th>4</th>\n      <td>13</td>\n      <td>225926</td>\n      <td>sodium acetate</td>\n      <td>sodium acetate</td>\n      <td>100</td>\n      <td>9430</td>\n    </tr>\n    <tr>\n      <th>...</th>\n      <td>...</td>\n      <td>...</td>\n      <td>...</td>\n      <td>...</td>\n      <td>...</td>\n      <td>...</td>\n    </tr>\n    <tr>\n      <th>103</th>\n      <td>443</td>\n      <td>221017</td>\n      <td>dextrose 2,5%</td>\n      <td>dextrose</td>\n      <td>100</td>\n      <td>5806</td>\n    </tr>\n    <tr>\n      <th>104</th>\n      <td>468</td>\n      <td>221208</td>\n      <td>normosol</td>\n      <td>normosol-r</td>\n      <td>100</td>\n      <td>9594</td>\n    </tr>\n    <tr>\n      <th>105</th>\n      <td>471</td>\n      <td>221211</td>\n      <td>sodium bicarbonate 1,4%</td>\n      <td>sodium bicarbonate</td>\n      <td>100</td>\n      <td>9051</td>\n    </tr>\n    <tr>\n      <th>106</th>\n      <td>472</td>\n      <td>221212</td>\n      <td>saline 0,18%</td>\n      <td>saline</td>\n      <td>100</td>\n      <td>26481</td>\n    </tr>\n    <tr>\n      <th>107</th>\n      <td>473</td>\n      <td>221213</td>\n      <td>saline 30%</td>\n      <td>saline</td>\n      <td>100</td>\n      <td>26481</td>\n    </tr>\n  </tbody>\n</table>\n<p>108 rows × 6 columns</p>\n</div>"
     },
     "execution_count": 38,
     "metadata": {},
     "output_type": "execute_result"
    }
   ],
   "source": [
    "\n",
    "def fuzzy_match(str1, str2):\n",
    "    return fuzz.token_set_ratio(str1, str2)\n",
    "\n",
    "def match_dataframe(df1, key1, df2, key2, threshold=90):\n",
    "    matches = []\n",
    "    # matches = pd.DataFrame(columns=['index', 'label', 'norm_label', 'match0', 'match1'])\n",
    "    for i, row in df1.iterrows():\n",
    "        drug_name = row[key1]\n",
    "        fast = True\n",
    "        to_match = df2[key2]\n",
    "        if fast:\n",
    "            to_match = to_match.loc[to_match.str.startswith(drug_name[0])] # speed up fuzzy matching by only considering synonyms that start with the same letter\n",
    "\n",
    "        match = process.extractOne(drug_name, to_match, scorer=fuzzy_match)\n",
    "\n",
    "        if match[1] >= threshold:\n",
    "            print(f\"Found match with score ({str(match[1])}) : {row[key1]} - {match[0]}\")\n",
    "            matches.append([i, row['itemid'],row[key1], match[0], match[1], match[2]])\n",
    "        print(i)\n",
    "\n",
    "    return pd.DataFrame(matches, columns=['index', 'itemid', 'label', 'norm_label', 'score', 'norm_index'])\n",
    "\n",
    "\n",
    "\n",
    "def fuzzy_merge():\n",
    "    medications = icu_drugs.loc[(~matched['category'].isin(['Medications']))]\n",
    "    return match_dataframe(medications, \"label\", ndc_drug_synonyms, \"PROPRIETARYNAME\")\n",
    "\n",
    "fuzzy_matched = fuzzy_merge()\n",
    "fuzzy_matched"
   ],
   "metadata": {
    "collapsed": false,
    "ExecuteTime": {
     "end_time": "2023-10-12T02:25:03.017995500Z",
     "start_time": "2023-10-12T02:24:25.956393800Z"
    }
   }
  },
  {
   "cell_type": "code",
   "execution_count": 39,
   "outputs": [
    {
     "data": {
      "text/plain": "     index  itemid                    label                norm_label  score  \\\n0        0  222139        potassium acetate         potassium acetate    100   \n1        1  222190               ranitidine  ranitidine hydrochloride    100   \n2        8  225921               hepatamine                hepatamine    100   \n3       12  225925      potassium phosphate      potassium phosphates     97   \n4       13  225926           sodium acetate            sodium acetate    100   \n..     ...     ...                      ...                       ...    ...   \n103    443  221017            dextrose 2,5%                  dextrose    100   \n104    468  221208                 normosol                normosol-r    100   \n105    471  221211  sodium bicarbonate 1,4%        sodium bicarbonate    100   \n106    472  221212             saline 0,18%                    saline    100   \n107    473  221213               saline 30%                    saline    100   \n\n     norm_index  \n0          9428  \n1         11999  \n2          5882  \n3          9571  \n4          9430  \n..          ...  \n103        5806  \n104        9594  \n105        9051  \n106       26481  \n107       26481  \n\n[108 rows x 6 columns]",
      "text/html": "<div>\n<style scoped>\n    .dataframe tbody tr th:only-of-type {\n        vertical-align: middle;\n    }\n\n    .dataframe tbody tr th {\n        vertical-align: top;\n    }\n\n    .dataframe thead th {\n        text-align: right;\n    }\n</style>\n<table border=\"1\" class=\"dataframe\">\n  <thead>\n    <tr style=\"text-align: right;\">\n      <th></th>\n      <th>index</th>\n      <th>itemid</th>\n      <th>label</th>\n      <th>norm_label</th>\n      <th>score</th>\n      <th>norm_index</th>\n    </tr>\n  </thead>\n  <tbody>\n    <tr>\n      <th>0</th>\n      <td>0</td>\n      <td>222139</td>\n      <td>potassium acetate</td>\n      <td>potassium acetate</td>\n      <td>100</td>\n      <td>9428</td>\n    </tr>\n    <tr>\n      <th>1</th>\n      <td>1</td>\n      <td>222190</td>\n      <td>ranitidine</td>\n      <td>ranitidine hydrochloride</td>\n      <td>100</td>\n      <td>11999</td>\n    </tr>\n    <tr>\n      <th>2</th>\n      <td>8</td>\n      <td>225921</td>\n      <td>hepatamine</td>\n      <td>hepatamine</td>\n      <td>100</td>\n      <td>5882</td>\n    </tr>\n    <tr>\n      <th>3</th>\n      <td>12</td>\n      <td>225925</td>\n      <td>potassium phosphate</td>\n      <td>potassium phosphates</td>\n      <td>97</td>\n      <td>9571</td>\n    </tr>\n    <tr>\n      <th>4</th>\n      <td>13</td>\n      <td>225926</td>\n      <td>sodium acetate</td>\n      <td>sodium acetate</td>\n      <td>100</td>\n      <td>9430</td>\n    </tr>\n    <tr>\n      <th>...</th>\n      <td>...</td>\n      <td>...</td>\n      <td>...</td>\n      <td>...</td>\n      <td>...</td>\n      <td>...</td>\n    </tr>\n    <tr>\n      <th>103</th>\n      <td>443</td>\n      <td>221017</td>\n      <td>dextrose 2,5%</td>\n      <td>dextrose</td>\n      <td>100</td>\n      <td>5806</td>\n    </tr>\n    <tr>\n      <th>104</th>\n      <td>468</td>\n      <td>221208</td>\n      <td>normosol</td>\n      <td>normosol-r</td>\n      <td>100</td>\n      <td>9594</td>\n    </tr>\n    <tr>\n      <th>105</th>\n      <td>471</td>\n      <td>221211</td>\n      <td>sodium bicarbonate 1,4%</td>\n      <td>sodium bicarbonate</td>\n      <td>100</td>\n      <td>9051</td>\n    </tr>\n    <tr>\n      <th>106</th>\n      <td>472</td>\n      <td>221212</td>\n      <td>saline 0,18%</td>\n      <td>saline</td>\n      <td>100</td>\n      <td>26481</td>\n    </tr>\n    <tr>\n      <th>107</th>\n      <td>473</td>\n      <td>221213</td>\n      <td>saline 30%</td>\n      <td>saline</td>\n      <td>100</td>\n      <td>26481</td>\n    </tr>\n  </tbody>\n</table>\n<p>108 rows × 6 columns</p>\n</div>"
     },
     "execution_count": 39,
     "metadata": {},
     "output_type": "execute_result"
    }
   ],
   "source": [
    "fuzzy_matched"
   ],
   "metadata": {
    "collapsed": false,
    "ExecuteTime": {
     "end_time": "2023-10-12T02:25:03.133045600Z",
     "start_time": "2023-10-12T02:25:03.018995Z"
    }
   }
  },
  {
   "cell_type": "code",
   "execution_count": 40,
   "outputs": [
    {
     "data": {
      "text/plain": "                                              PRODUCTID  PRODUCTNDC  \\\n3136     0143-9584_941776c0-fd84-4e62-99c9-55a2a847783d   0143-9584   \n3137     0143-9585_941776c0-fd84-4e62-99c9-55a2a847783d   0143-9585   \n3138     0143-9586_941776c0-fd84-4e62-99c9-55a2a847783d   0143-9586   \n3139     0143-9587_941776c0-fd84-4e62-99c9-55a2a847783d   0143-9587   \n3173     0143-9679_96744b85-c7c2-47d5-93fb-4fb55adb54ba   0143-9679   \n...                                                 ...         ...   \n98961    76045-203_d2efb821-f0f9-494d-bed9-71852d2f6fa7   76045-203   \n98962    76045-206_d2efb821-f0f9-494d-bed9-71852d2f6fa7   76045-206   \n98963    76045-208_d2efb821-f0f9-494d-bed9-71852d2f6fa7   76045-208   \n102164  79739-7097_392a969d-1e14-4ad8-835c-a47be4983067  79739-7097   \n103654   81376-701_bf66ec76-e8fb-b7c3-e053-2995a90a0a42   81376-701   \n\n                PRODUCTTYPENAME PROPRIETARYNAME PROPRIETARYNAMESUFFIX  \\\n3136    HUMAN PRESCRIPTION DRUG  glycopyrrolate                   NaN   \n3137    HUMAN PRESCRIPTION DRUG  glycopyrrolate                   NaN   \n3138    HUMAN PRESCRIPTION DRUG  glycopyrrolate                   NaN   \n3139    HUMAN PRESCRIPTION DRUG  glycopyrrolate                   NaN   \n3173    HUMAN PRESCRIPTION DRUG  glycopyrrolate                   NaN   \n...                         ...             ...                   ...   \n98961   HUMAN PRESCRIPTION DRUG  glycopyrrolate                   NaN   \n98962   HUMAN PRESCRIPTION DRUG  glycopyrrolate                   NaN   \n98963   HUMAN PRESCRIPTION DRUG  glycopyrrolate                   NaN   \n102164  HUMAN PRESCRIPTION DRUG  glycopyrrolate                   NaN   \n103654           HUMAN OTC DRUG   glycolic acid                   NaN   \n\n                 NONPROPRIETARYNAME       DOSAGEFORMNAME  \\\n3136                 glycopyrrolate            INJECTION   \n3137                 glycopyrrolate            INJECTION   \n3138                 glycopyrrolate            INJECTION   \n3139                 glycopyrrolate            INJECTION   \n3173                 glycopyrrolate            INJECTION   \n...                             ...                  ...   \n98961                glycopyrrolate  INJECTION, SOLUTION   \n98962                glycopyrrolate  INJECTION, SOLUTION   \n98963                glycopyrrolate  INJECTION, SOLUTION   \n102164               glycopyrrolate               TABLET   \n103654  pari 30% glycolic acid peel               LIQUID   \n\n                         ROUTENAME  STARTMARKETINGDATE  ENDMARKETINGDATE  \\\n3136    INTRAMUSCULAR; INTRAVENOUS            20150601               NaN   \n3137    INTRAMUSCULAR; INTRAVENOUS            20150601               NaN   \n3138    INTRAMUSCULAR; INTRAVENOUS            20150601               NaN   \n3139    INTRAMUSCULAR; INTRAVENOUS            20150601               NaN   \n3173    INTRAMUSCULAR; INTRAVENOUS            20110921               NaN   \n...                            ...                 ...               ...   \n98961   INTRAMUSCULAR; INTRAVENOUS            20180725               NaN   \n98962   INTRAMUSCULAR; INTRAVENOUS            20201030               NaN   \n98963   INTRAMUSCULAR; INTRAVENOUS            20201030               NaN   \n102164                        ORAL            20120312               NaN   \n103654                     TOPICAL            20210412               NaN   \n\n        MARKETINGCATEGORYNAME APPLICATIONNUMBER  \\\n3136                     ANDA        ANDA090963   \n3137                     ANDA        ANDA090963   \n3138                     ANDA        ANDA090963   \n3139                     ANDA        ANDA090963   \n3173                     ANDA        ANDA090963   \n...                       ...               ...   \n98961                    ANDA        ANDA209024   \n98962                    ANDA        ANDA209024   \n98963                    ANDA        ANDA209024   \n102164                   ANDA        ANDA091522   \n103654  UNAPPROVED DRUG OTHER               NaN   \n\n                           LABELERNAME   SUBSTANCENAME  \\\n3136    Hikma Pharmaceuticals USA Inc.  GLYCOPYRROLATE   \n3137    Hikma Pharmaceuticals USA Inc.  GLYCOPYRROLATE   \n3138    Hikma Pharmaceuticals USA Inc.  GLYCOPYRROLATE   \n3139    Hikma Pharmaceuticals USA Inc.  GLYCOPYRROLATE   \n3173    Hikma Pharmaceuticals USA Inc.  GLYCOPYRROLATE   \n...                                ...             ...   \n98961          Fresenius Kabi USA, LLC  GLYCOPYRROLATE   \n98962          Fresenius Kabi USA, LLC  GLYCOPYRROLATE   \n98963          Fresenius Kabi USA, LLC  GLYCOPYRROLATE   \n102164       LGM Pharma Solutions, LLC  GLYCOPYRROLATE   \n103654                SSG Ventures Inc   GLYCOLIC ACID   \n\n       ACTIVE_NUMERATOR_STRENGTH ACTIVE_INGRED_UNIT  \\\n3136                         0.2              mg/mL   \n3137                         0.2              mg/mL   \n3138                         0.2              mg/mL   \n3139                         0.2              mg/mL   \n3173                         0.2              mg/mL   \n...                          ...                ...   \n98961                        0.2              mg/mL   \n98962                        0.2              mg/mL   \n98963                        0.2              mg/mL   \n102164                       1.5               mg/1   \n103654                         9             g/30mL   \n\n                                            PHARM_CLASSES DEASCHEDULE  \\\n3136    Anticholinergic [EPC],Cholinergic Antagonists ...         NaN   \n3137    Anticholinergic [EPC],Cholinergic Antagonists ...         NaN   \n3138    Anticholinergic [EPC],Cholinergic Antagonists ...         NaN   \n3139    Anticholinergic [EPC],Cholinergic Antagonists ...         NaN   \n3173    Anticholinergic [EPC],Cholinergic Antagonists ...         NaN   \n...                                                   ...         ...   \n98961   Anticholinergic [EPC],Cholinergic Antagonists ...         NaN   \n98962   Anticholinergic [EPC],Cholinergic Antagonists ...         NaN   \n98963   Anticholinergic [EPC],Cholinergic Antagonists ...         NaN   \n102164  Anticholinergic [EPC],Cholinergic Antagonists ...         NaN   \n103654                                                NaN         NaN   \n\n       NDC_EXCLUDE_FLAG  LISTING_RECORD_CERTIFIED_THROUGH  \n3136                  N                        20221231.0  \n3137                  N                        20221231.0  \n3138                  N                        20221231.0  \n3139                  N                        20221231.0  \n3173                  N                        20221231.0  \n...                 ...                               ...  \n98961                 N                        20221231.0  \n98962                 N                        20221231.0  \n98963                 N                        20221231.0  \n102164                N                        20221231.0  \n103654                N                        20221231.0  \n\n[177 rows x 20 columns]",
      "text/html": "<div>\n<style scoped>\n    .dataframe tbody tr th:only-of-type {\n        vertical-align: middle;\n    }\n\n    .dataframe tbody tr th {\n        vertical-align: top;\n    }\n\n    .dataframe thead th {\n        text-align: right;\n    }\n</style>\n<table border=\"1\" class=\"dataframe\">\n  <thead>\n    <tr style=\"text-align: right;\">\n      <th></th>\n      <th>PRODUCTID</th>\n      <th>PRODUCTNDC</th>\n      <th>PRODUCTTYPENAME</th>\n      <th>PROPRIETARYNAME</th>\n      <th>PROPRIETARYNAMESUFFIX</th>\n      <th>NONPROPRIETARYNAME</th>\n      <th>DOSAGEFORMNAME</th>\n      <th>ROUTENAME</th>\n      <th>STARTMARKETINGDATE</th>\n      <th>ENDMARKETINGDATE</th>\n      <th>MARKETINGCATEGORYNAME</th>\n      <th>APPLICATIONNUMBER</th>\n      <th>LABELERNAME</th>\n      <th>SUBSTANCENAME</th>\n      <th>ACTIVE_NUMERATOR_STRENGTH</th>\n      <th>ACTIVE_INGRED_UNIT</th>\n      <th>PHARM_CLASSES</th>\n      <th>DEASCHEDULE</th>\n      <th>NDC_EXCLUDE_FLAG</th>\n      <th>LISTING_RECORD_CERTIFIED_THROUGH</th>\n    </tr>\n  </thead>\n  <tbody>\n    <tr>\n      <th>3136</th>\n      <td>0143-9584_941776c0-fd84-4e62-99c9-55a2a847783d</td>\n      <td>0143-9584</td>\n      <td>HUMAN PRESCRIPTION DRUG</td>\n      <td>glycopyrrolate</td>\n      <td>NaN</td>\n      <td>glycopyrrolate</td>\n      <td>INJECTION</td>\n      <td>INTRAMUSCULAR; INTRAVENOUS</td>\n      <td>20150601</td>\n      <td>NaN</td>\n      <td>ANDA</td>\n      <td>ANDA090963</td>\n      <td>Hikma Pharmaceuticals USA Inc.</td>\n      <td>GLYCOPYRROLATE</td>\n      <td>0.2</td>\n      <td>mg/mL</td>\n      <td>Anticholinergic [EPC],Cholinergic Antagonists ...</td>\n      <td>NaN</td>\n      <td>N</td>\n      <td>20221231.0</td>\n    </tr>\n    <tr>\n      <th>3137</th>\n      <td>0143-9585_941776c0-fd84-4e62-99c9-55a2a847783d</td>\n      <td>0143-9585</td>\n      <td>HUMAN PRESCRIPTION DRUG</td>\n      <td>glycopyrrolate</td>\n      <td>NaN</td>\n      <td>glycopyrrolate</td>\n      <td>INJECTION</td>\n      <td>INTRAMUSCULAR; INTRAVENOUS</td>\n      <td>20150601</td>\n      <td>NaN</td>\n      <td>ANDA</td>\n      <td>ANDA090963</td>\n      <td>Hikma Pharmaceuticals USA Inc.</td>\n      <td>GLYCOPYRROLATE</td>\n      <td>0.2</td>\n      <td>mg/mL</td>\n      <td>Anticholinergic [EPC],Cholinergic Antagonists ...</td>\n      <td>NaN</td>\n      <td>N</td>\n      <td>20221231.0</td>\n    </tr>\n    <tr>\n      <th>3138</th>\n      <td>0143-9586_941776c0-fd84-4e62-99c9-55a2a847783d</td>\n      <td>0143-9586</td>\n      <td>HUMAN PRESCRIPTION DRUG</td>\n      <td>glycopyrrolate</td>\n      <td>NaN</td>\n      <td>glycopyrrolate</td>\n      <td>INJECTION</td>\n      <td>INTRAMUSCULAR; INTRAVENOUS</td>\n      <td>20150601</td>\n      <td>NaN</td>\n      <td>ANDA</td>\n      <td>ANDA090963</td>\n      <td>Hikma Pharmaceuticals USA Inc.</td>\n      <td>GLYCOPYRROLATE</td>\n      <td>0.2</td>\n      <td>mg/mL</td>\n      <td>Anticholinergic [EPC],Cholinergic Antagonists ...</td>\n      <td>NaN</td>\n      <td>N</td>\n      <td>20221231.0</td>\n    </tr>\n    <tr>\n      <th>3139</th>\n      <td>0143-9587_941776c0-fd84-4e62-99c9-55a2a847783d</td>\n      <td>0143-9587</td>\n      <td>HUMAN PRESCRIPTION DRUG</td>\n      <td>glycopyrrolate</td>\n      <td>NaN</td>\n      <td>glycopyrrolate</td>\n      <td>INJECTION</td>\n      <td>INTRAMUSCULAR; INTRAVENOUS</td>\n      <td>20150601</td>\n      <td>NaN</td>\n      <td>ANDA</td>\n      <td>ANDA090963</td>\n      <td>Hikma Pharmaceuticals USA Inc.</td>\n      <td>GLYCOPYRROLATE</td>\n      <td>0.2</td>\n      <td>mg/mL</td>\n      <td>Anticholinergic [EPC],Cholinergic Antagonists ...</td>\n      <td>NaN</td>\n      <td>N</td>\n      <td>20221231.0</td>\n    </tr>\n    <tr>\n      <th>3173</th>\n      <td>0143-9679_96744b85-c7c2-47d5-93fb-4fb55adb54ba</td>\n      <td>0143-9679</td>\n      <td>HUMAN PRESCRIPTION DRUG</td>\n      <td>glycopyrrolate</td>\n      <td>NaN</td>\n      <td>glycopyrrolate</td>\n      <td>INJECTION</td>\n      <td>INTRAMUSCULAR; INTRAVENOUS</td>\n      <td>20110921</td>\n      <td>NaN</td>\n      <td>ANDA</td>\n      <td>ANDA090963</td>\n      <td>Hikma Pharmaceuticals USA Inc.</td>\n      <td>GLYCOPYRROLATE</td>\n      <td>0.2</td>\n      <td>mg/mL</td>\n      <td>Anticholinergic [EPC],Cholinergic Antagonists ...</td>\n      <td>NaN</td>\n      <td>N</td>\n      <td>20221231.0</td>\n    </tr>\n    <tr>\n      <th>...</th>\n      <td>...</td>\n      <td>...</td>\n      <td>...</td>\n      <td>...</td>\n      <td>...</td>\n      <td>...</td>\n      <td>...</td>\n      <td>...</td>\n      <td>...</td>\n      <td>...</td>\n      <td>...</td>\n      <td>...</td>\n      <td>...</td>\n      <td>...</td>\n      <td>...</td>\n      <td>...</td>\n      <td>...</td>\n      <td>...</td>\n      <td>...</td>\n      <td>...</td>\n    </tr>\n    <tr>\n      <th>98961</th>\n      <td>76045-203_d2efb821-f0f9-494d-bed9-71852d2f6fa7</td>\n      <td>76045-203</td>\n      <td>HUMAN PRESCRIPTION DRUG</td>\n      <td>glycopyrrolate</td>\n      <td>NaN</td>\n      <td>glycopyrrolate</td>\n      <td>INJECTION, SOLUTION</td>\n      <td>INTRAMUSCULAR; INTRAVENOUS</td>\n      <td>20180725</td>\n      <td>NaN</td>\n      <td>ANDA</td>\n      <td>ANDA209024</td>\n      <td>Fresenius Kabi USA, LLC</td>\n      <td>GLYCOPYRROLATE</td>\n      <td>0.2</td>\n      <td>mg/mL</td>\n      <td>Anticholinergic [EPC],Cholinergic Antagonists ...</td>\n      <td>NaN</td>\n      <td>N</td>\n      <td>20221231.0</td>\n    </tr>\n    <tr>\n      <th>98962</th>\n      <td>76045-206_d2efb821-f0f9-494d-bed9-71852d2f6fa7</td>\n      <td>76045-206</td>\n      <td>HUMAN PRESCRIPTION DRUG</td>\n      <td>glycopyrrolate</td>\n      <td>NaN</td>\n      <td>glycopyrrolate</td>\n      <td>INJECTION, SOLUTION</td>\n      <td>INTRAMUSCULAR; INTRAVENOUS</td>\n      <td>20201030</td>\n      <td>NaN</td>\n      <td>ANDA</td>\n      <td>ANDA209024</td>\n      <td>Fresenius Kabi USA, LLC</td>\n      <td>GLYCOPYRROLATE</td>\n      <td>0.2</td>\n      <td>mg/mL</td>\n      <td>Anticholinergic [EPC],Cholinergic Antagonists ...</td>\n      <td>NaN</td>\n      <td>N</td>\n      <td>20221231.0</td>\n    </tr>\n    <tr>\n      <th>98963</th>\n      <td>76045-208_d2efb821-f0f9-494d-bed9-71852d2f6fa7</td>\n      <td>76045-208</td>\n      <td>HUMAN PRESCRIPTION DRUG</td>\n      <td>glycopyrrolate</td>\n      <td>NaN</td>\n      <td>glycopyrrolate</td>\n      <td>INJECTION, SOLUTION</td>\n      <td>INTRAMUSCULAR; INTRAVENOUS</td>\n      <td>20201030</td>\n      <td>NaN</td>\n      <td>ANDA</td>\n      <td>ANDA209024</td>\n      <td>Fresenius Kabi USA, LLC</td>\n      <td>GLYCOPYRROLATE</td>\n      <td>0.2</td>\n      <td>mg/mL</td>\n      <td>Anticholinergic [EPC],Cholinergic Antagonists ...</td>\n      <td>NaN</td>\n      <td>N</td>\n      <td>20221231.0</td>\n    </tr>\n    <tr>\n      <th>102164</th>\n      <td>79739-7097_392a969d-1e14-4ad8-835c-a47be4983067</td>\n      <td>79739-7097</td>\n      <td>HUMAN PRESCRIPTION DRUG</td>\n      <td>glycopyrrolate</td>\n      <td>NaN</td>\n      <td>glycopyrrolate</td>\n      <td>TABLET</td>\n      <td>ORAL</td>\n      <td>20120312</td>\n      <td>NaN</td>\n      <td>ANDA</td>\n      <td>ANDA091522</td>\n      <td>LGM Pharma Solutions, LLC</td>\n      <td>GLYCOPYRROLATE</td>\n      <td>1.5</td>\n      <td>mg/1</td>\n      <td>Anticholinergic [EPC],Cholinergic Antagonists ...</td>\n      <td>NaN</td>\n      <td>N</td>\n      <td>20221231.0</td>\n    </tr>\n    <tr>\n      <th>103654</th>\n      <td>81376-701_bf66ec76-e8fb-b7c3-e053-2995a90a0a42</td>\n      <td>81376-701</td>\n      <td>HUMAN OTC DRUG</td>\n      <td>glycolic acid</td>\n      <td>NaN</td>\n      <td>pari 30% glycolic acid peel</td>\n      <td>LIQUID</td>\n      <td>TOPICAL</td>\n      <td>20210412</td>\n      <td>NaN</td>\n      <td>UNAPPROVED DRUG OTHER</td>\n      <td>NaN</td>\n      <td>SSG Ventures Inc</td>\n      <td>GLYCOLIC ACID</td>\n      <td>9</td>\n      <td>g/30mL</td>\n      <td>NaN</td>\n      <td>NaN</td>\n      <td>N</td>\n      <td>20221231.0</td>\n    </tr>\n  </tbody>\n</table>\n<p>177 rows × 20 columns</p>\n</div>"
     },
     "execution_count": 40,
     "metadata": {},
     "output_type": "execute_result"
    }
   ],
   "source": [
    "m1 = ndc_drug_synonyms['PROPRIETARYNAME'].str.startswith(\"glyc\")\n",
    "ndc_drug_synonyms.loc[m1]\n"
   ],
   "metadata": {
    "collapsed": false,
    "ExecuteTime": {
     "end_time": "2023-10-12T02:25:03.250120400Z",
     "start_time": "2023-10-12T02:25:03.103536400Z"
    }
   }
  },
  {
   "cell_type": "code",
   "execution_count": 41,
   "outputs": [
    {
     "data": {
      "text/plain": "                             itemid  label  PRODUCTID_x  NONPROPRIETARYNAME_x  \\\ncategory                                                                        \nAntibiotics                      17     17            0                     0   \nBlood Products/Colloids          25     25            0                     0   \nFluids - Other (Not In Use)      83     83            0                     0   \nFluids/Intake                    36     36            0                     0   \nMedications                      96     96            0                     0   \nNutrition - Enteral             112    112            0                     0   \nNutrition - Parenteral            8      8            0                     0   \nNutrition - Supplements          15     15            0                     0   \n\n                             PRODUCTID_y  PRODUCTNDC  PRODUCTTYPENAME  \\\ncategory                                                                \nAntibiotics                            0           0                0   \nBlood Products/Colloids                0           0                0   \nFluids - Other (Not In Use)            0           0                0   \nFluids/Intake                          0           0                0   \nMedications                            0           0                0   \nNutrition - Enteral                    0           0                0   \nNutrition - Parenteral                 0           0                0   \nNutrition - Supplements                0           0                0   \n\n                             PROPRIETARYNAME  PROPRIETARYNAMESUFFIX  \\\ncategory                                                              \nAntibiotics                                0                      0   \nBlood Products/Colloids                    0                      0   \nFluids - Other (Not In Use)                0                      0   \nFluids/Intake                              0                      0   \nMedications                                0                      0   \nNutrition - Enteral                        0                      0   \nNutrition - Parenteral                     0                      0   \nNutrition - Supplements                    0                      0   \n\n                             NONPROPRIETARYNAME_y  ...  APPLICATIONNUMBER  \\\ncategory                                           ...                      \nAntibiotics                                     0  ...                  0   \nBlood Products/Colloids                         0  ...                  0   \nFluids - Other (Not In Use)                     0  ...                  0   \nFluids/Intake                                   0  ...                  0   \nMedications                                     0  ...                  0   \nNutrition - Enteral                             0  ...                  0   \nNutrition - Parenteral                          0  ...                  0   \nNutrition - Supplements                         0  ...                  0   \n\n                             LABELERNAME  SUBSTANCENAME  \\\ncategory                                                  \nAntibiotics                            0              0   \nBlood Products/Colloids                0              0   \nFluids - Other (Not In Use)            0              0   \nFluids/Intake                          0              0   \nMedications                            0              0   \nNutrition - Enteral                    0              0   \nNutrition - Parenteral                 0              0   \nNutrition - Supplements                0              0   \n\n                             ACTIVE_NUMERATOR_STRENGTH  ACTIVE_INGRED_UNIT  \\\ncategory                                                                     \nAntibiotics                                          0                   0   \nBlood Products/Colloids                              0                   0   \nFluids - Other (Not In Use)                          0                   0   \nFluids/Intake                                        0                   0   \nMedications                                          0                   0   \nNutrition - Enteral                                  0                   0   \nNutrition - Parenteral                               0                   0   \nNutrition - Supplements                              0                   0   \n\n                             PHARM_CLASSES  DEASCHEDULE  NDC_EXCLUDE_FLAG  \\\ncategory                                                                    \nAntibiotics                              0            0                 0   \nBlood Products/Colloids                  0            0                 0   \nFluids - Other (Not In Use)              0            0                 0   \nFluids/Intake                            0            0                 0   \nMedications                              0            0                 0   \nNutrition - Enteral                      0            0                 0   \nNutrition - Parenteral                   0            0                 0   \nNutrition - Supplements                  0            0                 0   \n\n                             LISTING_RECORD_CERTIFIED_THROUGH  _merge  \ncategory                                                               \nAntibiotics                                                 0      17  \nBlood Products/Colloids                                     0      25  \nFluids - Other (Not In Use)                                 0      83  \nFluids/Intake                                               0      36  \nMedications                                                 0      96  \nNutrition - Enteral                                         0     112  \nNutrition - Parenteral                                      0       8  \nNutrition - Supplements                                     0      15  \n\n[8 rows x 25 columns]",
      "text/html": "<div>\n<style scoped>\n    .dataframe tbody tr th:only-of-type {\n        vertical-align: middle;\n    }\n\n    .dataframe tbody tr th {\n        vertical-align: top;\n    }\n\n    .dataframe thead th {\n        text-align: right;\n    }\n</style>\n<table border=\"1\" class=\"dataframe\">\n  <thead>\n    <tr style=\"text-align: right;\">\n      <th></th>\n      <th>itemid</th>\n      <th>label</th>\n      <th>PRODUCTID_x</th>\n      <th>NONPROPRIETARYNAME_x</th>\n      <th>PRODUCTID_y</th>\n      <th>PRODUCTNDC</th>\n      <th>PRODUCTTYPENAME</th>\n      <th>PROPRIETARYNAME</th>\n      <th>PROPRIETARYNAMESUFFIX</th>\n      <th>NONPROPRIETARYNAME_y</th>\n      <th>...</th>\n      <th>APPLICATIONNUMBER</th>\n      <th>LABELERNAME</th>\n      <th>SUBSTANCENAME</th>\n      <th>ACTIVE_NUMERATOR_STRENGTH</th>\n      <th>ACTIVE_INGRED_UNIT</th>\n      <th>PHARM_CLASSES</th>\n      <th>DEASCHEDULE</th>\n      <th>NDC_EXCLUDE_FLAG</th>\n      <th>LISTING_RECORD_CERTIFIED_THROUGH</th>\n      <th>_merge</th>\n    </tr>\n    <tr>\n      <th>category</th>\n      <th></th>\n      <th></th>\n      <th></th>\n      <th></th>\n      <th></th>\n      <th></th>\n      <th></th>\n      <th></th>\n      <th></th>\n      <th></th>\n      <th></th>\n      <th></th>\n      <th></th>\n      <th></th>\n      <th></th>\n      <th></th>\n      <th></th>\n      <th></th>\n      <th></th>\n      <th></th>\n      <th></th>\n    </tr>\n  </thead>\n  <tbody>\n    <tr>\n      <th>Antibiotics</th>\n      <td>17</td>\n      <td>17</td>\n      <td>0</td>\n      <td>0</td>\n      <td>0</td>\n      <td>0</td>\n      <td>0</td>\n      <td>0</td>\n      <td>0</td>\n      <td>0</td>\n      <td>...</td>\n      <td>0</td>\n      <td>0</td>\n      <td>0</td>\n      <td>0</td>\n      <td>0</td>\n      <td>0</td>\n      <td>0</td>\n      <td>0</td>\n      <td>0</td>\n      <td>17</td>\n    </tr>\n    <tr>\n      <th>Blood Products/Colloids</th>\n      <td>25</td>\n      <td>25</td>\n      <td>0</td>\n      <td>0</td>\n      <td>0</td>\n      <td>0</td>\n      <td>0</td>\n      <td>0</td>\n      <td>0</td>\n      <td>0</td>\n      <td>...</td>\n      <td>0</td>\n      <td>0</td>\n      <td>0</td>\n      <td>0</td>\n      <td>0</td>\n      <td>0</td>\n      <td>0</td>\n      <td>0</td>\n      <td>0</td>\n      <td>25</td>\n    </tr>\n    <tr>\n      <th>Fluids - Other (Not In Use)</th>\n      <td>83</td>\n      <td>83</td>\n      <td>0</td>\n      <td>0</td>\n      <td>0</td>\n      <td>0</td>\n      <td>0</td>\n      <td>0</td>\n      <td>0</td>\n      <td>0</td>\n      <td>...</td>\n      <td>0</td>\n      <td>0</td>\n      <td>0</td>\n      <td>0</td>\n      <td>0</td>\n      <td>0</td>\n      <td>0</td>\n      <td>0</td>\n      <td>0</td>\n      <td>83</td>\n    </tr>\n    <tr>\n      <th>Fluids/Intake</th>\n      <td>36</td>\n      <td>36</td>\n      <td>0</td>\n      <td>0</td>\n      <td>0</td>\n      <td>0</td>\n      <td>0</td>\n      <td>0</td>\n      <td>0</td>\n      <td>0</td>\n      <td>...</td>\n      <td>0</td>\n      <td>0</td>\n      <td>0</td>\n      <td>0</td>\n      <td>0</td>\n      <td>0</td>\n      <td>0</td>\n      <td>0</td>\n      <td>0</td>\n      <td>36</td>\n    </tr>\n    <tr>\n      <th>Medications</th>\n      <td>96</td>\n      <td>96</td>\n      <td>0</td>\n      <td>0</td>\n      <td>0</td>\n      <td>0</td>\n      <td>0</td>\n      <td>0</td>\n      <td>0</td>\n      <td>0</td>\n      <td>...</td>\n      <td>0</td>\n      <td>0</td>\n      <td>0</td>\n      <td>0</td>\n      <td>0</td>\n      <td>0</td>\n      <td>0</td>\n      <td>0</td>\n      <td>0</td>\n      <td>96</td>\n    </tr>\n    <tr>\n      <th>Nutrition - Enteral</th>\n      <td>112</td>\n      <td>112</td>\n      <td>0</td>\n      <td>0</td>\n      <td>0</td>\n      <td>0</td>\n      <td>0</td>\n      <td>0</td>\n      <td>0</td>\n      <td>0</td>\n      <td>...</td>\n      <td>0</td>\n      <td>0</td>\n      <td>0</td>\n      <td>0</td>\n      <td>0</td>\n      <td>0</td>\n      <td>0</td>\n      <td>0</td>\n      <td>0</td>\n      <td>112</td>\n    </tr>\n    <tr>\n      <th>Nutrition - Parenteral</th>\n      <td>8</td>\n      <td>8</td>\n      <td>0</td>\n      <td>0</td>\n      <td>0</td>\n      <td>0</td>\n      <td>0</td>\n      <td>0</td>\n      <td>0</td>\n      <td>0</td>\n      <td>...</td>\n      <td>0</td>\n      <td>0</td>\n      <td>0</td>\n      <td>0</td>\n      <td>0</td>\n      <td>0</td>\n      <td>0</td>\n      <td>0</td>\n      <td>0</td>\n      <td>8</td>\n    </tr>\n    <tr>\n      <th>Nutrition - Supplements</th>\n      <td>15</td>\n      <td>15</td>\n      <td>0</td>\n      <td>0</td>\n      <td>0</td>\n      <td>0</td>\n      <td>0</td>\n      <td>0</td>\n      <td>0</td>\n      <td>0</td>\n      <td>...</td>\n      <td>0</td>\n      <td>0</td>\n      <td>0</td>\n      <td>0</td>\n      <td>0</td>\n      <td>0</td>\n      <td>0</td>\n      <td>0</td>\n      <td>0</td>\n      <td>15</td>\n    </tr>\n  </tbody>\n</table>\n<p>8 rows × 25 columns</p>\n</div>"
     },
     "execution_count": 41,
     "metadata": {},
     "output_type": "execute_result"
    }
   ],
   "source": [
    "m1 = ~matched['PRODUCTID_x'].isnull()\n",
    "m2 = ~matched['PRODUCTID_y'].isnull()\n",
    "has_product_id = m1 | m2\n",
    "matched.loc[~has_product_id].groupby('category').count()\n"
   ],
   "metadata": {
    "collapsed": false,
    "ExecuteTime": {
     "end_time": "2023-10-12T02:25:03.380695600Z",
     "start_time": "2023-10-12T02:25:03.225647500Z"
    }
   }
  },
  {
   "cell_type": "code",
   "execution_count": 42,
   "outputs": [
    {
     "data": {
      "text/plain": "     itemid                   label                     category  \\\n0    222139       potassium acetate      Nutrition - Supplements   \n1    222190              ranitidine       Nutrition - Parenteral   \n8    225921              hepatamine      Nutrition - Supplements   \n11   225924       hydrochloric acid      Nutrition - Supplements   \n13   225926          sodium acetate      Nutrition - Supplements   \n28   225798              vancomycin                  Antibiotics   \n29   225837               acyclovir                  Antibiotics   \n30   225838                ambisome                  Antibiotics   \n31   225840                amikacin                  Antibiotics   \n32   225842              ampicillin                  Antibiotics   \n34   225844              atovaquone                  Antibiotics   \n35   225845            azithromycin                  Antibiotics   \n36   225847               aztreonam                  Antibiotics   \n38   225850               cefazolin                  Antibiotics   \n39   225851                cefepime                  Antibiotics   \n40   225853             ceftazidime                  Antibiotics   \n41   225855             ceftriaxone                  Antibiotics   \n43   225859           ciprofloxacin                  Antibiotics   \n44   225860             clindamycin                  Antibiotics   \n46   225863              daptomycin                  Antibiotics   \n47   225865             doxycycline                  Antibiotics   \n48   225866            erythromycin                  Antibiotics   \n50   225869             fluconazole                  Antibiotics   \n51   225871               foscarnet                  Antibiotics   \n53   225875              gentamicin                  Antibiotics   \n55   225877               isoniazid                  Antibiotics   \n56   225879            levofloxacin                  Antibiotics   \n57   225881               linezolid                  Antibiotics   \n59   225883               meropenem                  Antibiotics   \n60   225884           metronidazole                  Antibiotics   \n61   225885              micafungin                  Antibiotics   \n62   225886            moxifloxacin                  Antibiotics   \n63   225888               nafcillin                  Antibiotics   \n64   225889               oxacillin                  Antibiotics   \n65   225890  penicillin g potassium                  Antibiotics   \n68   225895            pyrazinamide                  Antibiotics   \n69   225896                 quinine                  Antibiotics   \n70   225897               ribavirin                  Antibiotics   \n71   225898                rifampin                  Antibiotics   \n74   225902              tobramycin                  Antibiotics   \n76   225905            voriconazole                  Antibiotics   \n78   228003                 tamiflu                  Antibiotics   \n81   229064             tigecycline                  Antibiotics   \n233  225944           sterile water                Fluids/Intake   \n372  225795              dextran 40      Blood Products/Colloids   \n375  225915              profilnine      Blood Products/Colloids   \n395  220953                 ringers  Fluids - Other (Not In Use)   \n\n                                         PRODUCTID_x    NONPROPRIETARYNAME_x  \\\n0     0409-3294_500bb334-6d33-4bb1-b081-f505423f2872       potassium acetate   \n1     0904-6715_0b8b6ed2-7d1d-4d6d-86f9-0f86fb06b738              ranitidine   \n8                                                NaN                     NaN   \n11    0220-3466_8643994f-4e14-4572-e053-2991aa0a5b78       hydrochloric acid   \n13    0409-3299_416a7d2a-271d-4b08-a491-1e8a13650b86          sodium acetate   \n28    68001-338_c91fb4b4-7b6c-c700-e053-2995a90a6bc2              vancomycin   \n29    0093-3630_8c3d75a1-fe85-49ca-9bb4-af670f910bf8               acyclovir   \n30                                               NaN                     NaN   \n31    71558-590_8b43768c-f7ba-4f33-8509-65a526b0422e                amikacin   \n32    0781-2144_e8f470a8-ec75-4c1e-84d8-766372f61cf3              ampicillin   \n34    0121-0888_bfdd518d-bce2-9f70-e053-2995a90a78ef              atovaquone   \n35    0093-2026_7270990f-ef58-443e-9a3d-ff320d19b578            azithromycin   \n36    0003-2560_e44ad54c-6b64-4505-af49-1810176c0114               aztreonam   \n38    0143-9261_ea333849-55d3-4257-94e5-d70ba608f8c5               cefazolin   \n39    0338-1301_8265fead-a9b5-427c-a00f-ca3aad75fc0e                cefepime   \n40    0264-3143_1d079269-bc0b-4010-a279-5121bac76caa             ceftazidime   \n41    0143-9678_2d8a9168-ad6a-4cf3-a776-74288ea53e21             ceftriaxone   \n43    0143-9927_4aae87bb-5c42-4b1b-a409-fa51313ff945           ciprofloxacin   \n44    16781-462_70272df5-dd46-4060-bed1-f89a7e8a6121             clindamycin   \n46    0143-9378_2f2c583e-2e90-4de6-a12a-2f24dc42a245              daptomycin   \n47    0069-0970_9f76e888-1fa7-4deb-a68f-e8d55d586693             doxycycline   \n48    0093-5571_ae45bc79-d364-47fb-ba1e-b6204757d7aa            erythromycin   \n50    0049-3410_bd043f46-5ae0-43ac-a1b6-4da67640bc78             fluconazole   \n51                                               NaN                     NaN   \n53   51662-1508_c915aae5-c4e8-16cd-e053-2995a90a8b43              gentamicin   \n55    0527-1109_458431c7-41c7-48f4-a8f6-b6b6ccc7cbe2               isoniazid   \n56    0143-9315_05cdb9d7-2bce-400d-8565-8a76c4a1a8e3            levofloxacin   \n57    0009-4992_dadada4c-83d4-4526-8341-9df1fd642f63               linezolid   \n59    0069-0314_581f5471-6975-4e7d-a18d-c052ebe0ddae               meropenem   \n60    0025-1942_77224e53-27e6-42ed-9b68-e94215b94346           metronidazole   \n61    42023-229_1efe8cd3-3642-4057-ba8d-c1e9b7ff1e83              micafungin   \n62    0378-5430_df168a81-9f81-440b-b0bc-50006aea42b7            moxifloxacin   \n63    0338-1017_fab05f8a-91b1-4989-9303-6fad475449bb               nafcillin   \n64    0338-1013_a2cb0859-e793-4c68-93b6-d59ed48bc763               oxacillin   \n65    0049-0420_228f3a34-6654-470c-b14f-9fbf29cfa329  penicillin g potassium   \n68    0904-6696_e8edf655-b5ce-4691-9c12-a3cdbb0d1549            pyrazinamide   \n69    65162-811_7702bd7e-da76-4116-b5d8-162416d06104                 quinine   \n70    0085-1318_c1e62cfb-c88b-4f4a-bfc0-351c71f64062               ribavirin   \n71    0068-0597_3f891ec7-5a07-4609-9c4a-e3490ef63085                rifampin   \n74    0065-0643_fca87dbc-0a61-40ef-8c16-56e196df6258              tobramycin   \n76    0049-3160_7cc9ba1d-cebd-49b9-940b-8d5137c7012e            voriconazole   \n78                                               NaN                     NaN   \n81    0008-4990_7e88761a-2780-431b-83b9-f5de38a73de6             tigecycline   \n233   0006-4309_84254f95-cdc7-451d-92bb-0fc7b6110560           sterile water   \n372   0409-7418_fe237c48-a413-4661-94c1-2ad17c5223cd              dextran 40   \n375                                              NaN                     NaN   \n395                                              NaN                     NaN   \n\n                                         PRODUCTID_y  PRODUCTNDC  \\\n0     0409-3294_500bb334-6d33-4bb1-b081-f505423f2872   0409-3294   \n1     0904-6921_2a917fc5-06a6-d0e3-f8d4-39013116a446   0904-6921   \n8     0264-9371_c1f4d7ca-8c22-4562-a49b-9d201be140fb   0264-9371   \n11                                               NaN         NaN   \n13    0409-3299_416a7d2a-271d-4b08-a491-1e8a13650b86   0409-3299   \n28    25021-157_eb393d1e-aff3-4a65-aae8-28418a1aec6c   25021-157   \n29    0093-3630_8c3d75a1-fe85-49ca-9bb4-af670f910bf8   0093-3630   \n30    0469-3051_8f57e867-909b-4a7c-bd4e-1e9427f5005b   0469-3051   \n31                                               NaN         NaN   \n32    0409-3718_1e43e05b-8ec3-4ce4-bdfc-f47516ef2efe   0409-3718   \n34    0121-0888_bfdd518d-bce2-9f70-e053-2995a90a78ef   0121-0888   \n35    0093-2026_7270990f-ef58-443e-9a3d-ff320d19b578   0093-2026   \n36    63323-401_32bbf2a5-bd2f-4b54-b017-ffba5c1dd3fb   63323-401   \n38    0143-9261_ea333849-55d3-4257-94e5-d70ba608f8c5   0143-9261   \n39    0338-1301_8265fead-a9b5-427c-a00f-ca3aad75fc0e   0338-1301   \n40    25021-127_6b34b5ad-001f-4c39-8415-a223eb692b46   25021-127   \n41    0143-9678_2d8a9168-ad6a-4cf3-a776-74288ea53e21   0143-9678   \n43    0143-9927_4aae87bb-5c42-4b1b-a409-fa51313ff945   0143-9927   \n44    17478-120_1e9cca62-01e0-414e-8afb-4d93825c245c   17478-120   \n46    0143-9378_2f2c583e-2e90-4de6-a12a-2f24dc42a245   0143-9378   \n47    0115-1327_25e3946b-93e0-40f2-9ca6-d96b9b1c1476   0115-1327   \n48    0093-5571_ae45bc79-d364-47fb-ba1e-b6204757d7aa   0093-5571   \n50    0143-9666_edf61edf-3bb9-4231-847e-1601072ad56f   0143-9666   \n51    63323-875_773fcafd-38ca-4aeb-9ecd-e7d436560ddb   63323-875   \n53   51662-1508_c915aae5-c4e8-16cd-e053-2995a90a8b43  51662-1508   \n55    0527-1109_458431c7-41c7-48f4-a8f6-b6b6ccc7cbe2   0527-1109   \n56    0143-9315_05cdb9d7-2bce-400d-8565-8a76c4a1a8e3   0143-9315   \n57    0054-0319_7fac7605-d411-4cbd-bc84-95949660b4f3   0054-0319   \n59    0409-1390_fffa4718-560d-4eec-8931-50fa12c9d693   0409-1390   \n60    0115-1474_943c4651-3d73-4af2-b4b7-b7d9027f73f4   0115-1474   \n61    0143-9361_cafa9061-bee0-48bf-938f-ba688ded1140   0143-9361   \n62    0378-5430_df168a81-9f81-440b-b0bc-50006aea42b7   0378-5430   \n63    0338-1017_fab05f8a-91b1-4989-9303-6fad475449bb   0338-1017   \n64    0338-1013_a2cb0859-e793-4c68-93b6-d59ed48bc763   0338-1013   \n65    0338-1021_af719889-896c-4e53-92ed-59283a748c4a   0338-1021   \n68    0904-6696_e8edf655-b5ce-4691-9c12-a3cdbb0d1549   0904-6696   \n69                                               NaN         NaN   \n70    42494-423_48e8b38f-e794-438f-bf24-66d0363e4829   42494-423   \n71    0143-9230_5e3e309a-9718-4b42-8d80-0651b1813fbd   0143-9230   \n74    0093-3750_845bdd43-8de7-4f7f-b838-fd62d3bca3ac   0093-3750   \n76    0378-1626_bd2c50f4-ce30-4c78-8aac-5489056d341c   0378-1626   \n78    0004-0800_ce6467c3-e42d-4c77-8918-1bbcec3f6e41   0004-0800   \n81    0781-3481_6cf55dda-55df-48ee-9fe1-944ce41f93a0   0781-3481   \n233   0264-7385_ed933e44-2560-495b-879c-99c6a0bf8ba0   0264-7385   \n372                                              NaN         NaN   \n375  68516-3207_fbe7e210-6345-4dc5-89fb-1cdd475ac5d8  68516-3207   \n395   0264-7780_f8ccf9ad-0426-4288-afc7-0cf99f12391f   0264-7780   \n\n             PRODUCTTYPENAME         PROPRIETARYNAME PROPRIETARYNAMESUFFIX  \\\n0    HUMAN PRESCRIPTION DRUG       potassium acetate                   NaN   \n1             HUMAN OTC DRUG              ranitidine                   NaN   \n8    HUMAN PRESCRIPTION DRUG              hepatamine                   NaN   \n11                       NaN                     NaN                   NaN   \n13   HUMAN PRESCRIPTION DRUG          sodium acetate                   NaN   \n28   HUMAN PRESCRIPTION DRUG              vancomycin                   NaN   \n29   HUMAN PRESCRIPTION DRUG               acyclovir                   NaN   \n30   HUMAN PRESCRIPTION DRUG                ambisome                   NaN   \n31                       NaN                     NaN                   NaN   \n32   HUMAN PRESCRIPTION DRUG              ampicillin                   NaN   \n34   HUMAN PRESCRIPTION DRUG              atovaquone                   NaN   \n35   HUMAN PRESCRIPTION DRUG            azithromycin                   NaN   \n36   HUMAN PRESCRIPTION DRUG               aztreonam                   NaN   \n38   HUMAN PRESCRIPTION DRUG               cefazolin                   NaN   \n39   HUMAN PRESCRIPTION DRUG                cefepime                   NaN   \n40   HUMAN PRESCRIPTION DRUG             ceftazidime                   NaN   \n41   HUMAN PRESCRIPTION DRUG             ceftriaxone                   NaN   \n43   HUMAN PRESCRIPTION DRUG           ciprofloxacin                   NaN   \n44   HUMAN PRESCRIPTION DRUG             clindamycin                   NaN   \n46   HUMAN PRESCRIPTION DRUG              daptomycin                   NaN   \n47   HUMAN PRESCRIPTION DRUG             doxycycline                   NaN   \n48   HUMAN PRESCRIPTION DRUG            erythromycin                   NaN   \n50   HUMAN PRESCRIPTION DRUG             fluconazole                   NaN   \n51   HUMAN PRESCRIPTION DRUG               foscarnet                   NaN   \n53   HUMAN PRESCRIPTION DRUG              gentamicin                   NaN   \n55   HUMAN PRESCRIPTION DRUG               isoniazid                   NaN   \n56   HUMAN PRESCRIPTION DRUG            levofloxacin                   NaN   \n57   HUMAN PRESCRIPTION DRUG               linezolid                   NaN   \n59   HUMAN PRESCRIPTION DRUG               meropenem                   NaN   \n60   HUMAN PRESCRIPTION DRUG           metronidazole                   NaN   \n61   HUMAN PRESCRIPTION DRUG              micafungin                   NaN   \n62   HUMAN PRESCRIPTION DRUG            moxifloxacin                   NaN   \n63   HUMAN PRESCRIPTION DRUG               nafcillin                   NaN   \n64   HUMAN PRESCRIPTION DRUG               oxacillin                   NaN   \n65   HUMAN PRESCRIPTION DRUG  penicillin g potassium                   NaN   \n68   HUMAN PRESCRIPTION DRUG            pyrazinamide                   NaN   \n69                       NaN                     NaN                   NaN   \n70   HUMAN PRESCRIPTION DRUG               ribavirin                   NaN   \n71   HUMAN PRESCRIPTION DRUG                rifampin                   NaN   \n74   HUMAN PRESCRIPTION DRUG              tobramycin                   NaN   \n76   HUMAN PRESCRIPTION DRUG            voriconazole                   NaN   \n78   HUMAN PRESCRIPTION DRUG                 tamiflu                   NaN   \n81   HUMAN PRESCRIPTION DRUG             tigecycline                   NaN   \n233  HUMAN PRESCRIPTION DRUG           sterile water                   NaN   \n372                      NaN                     NaN                   NaN   \n375        PLASMA DERIVATIVE              profilnine                   NaN   \n395  HUMAN PRESCRIPTION DRUG                 ringers                   NaN   \n\n     ... APPLICATIONNUMBER                             LABELERNAME  \\\n0    ...         NDA018896                           Hospira, Inc.   \n1    ...        ANDA075294                   MAJOR PHARMACEUTICALS   \n8    ...         NDA018676                   B. Braun Medical Inc.   \n11   ...               NaN                                     NaN   \n13   ...         NDA018893                           Hospira, Inc.   \n28   ...        ANDA200837                  Sagent Pharmaceuticals   \n29   ...         NDA021478              Teva Pharmaceuticals, Inc.   \n30   ...         NDA050740                Astellas Pharma US, Inc.   \n31   ...               NaN                                     NaN   \n32   ...        ANDA061395                            Hospira, Inc   \n34   ...        ANDA209105         Pharmaceutical Associates, Inc.   \n35   ...        ANDA065246          Teva Pharmaceuticals USA, Inc.   \n36   ...        ANDA065439                 Fresenius Kabi USA, LLC   \n38   ...        ANDA065143          West-Ward Pharmaceuticals Corp   \n39   ...         NDA050817           Baxter Healthcare Corporation   \n40   ...        ANDA062640                  Sagent Pharmaceuticals   \n41   ...        ANDA090701          Hikma Pharmaceuticals USA Inc.   \n43   ...        ANDA076558          Hikma Pharmaceuticals USA Inc.   \n44   ...        ANDA203048                             Akorn, Inc.   \n46   ...        ANDA212022          Hikma Pharmaceuticals USA Inc.   \n47   ...        ANDA200065  Amneal Pharmaceuticals of New York LLC   \n48   ...        ANDA214549          Teva Pharmaceuticals USA, Inc.   \n50   ...        ANDA078764          Hikma Pharmaceuticals USA Inc.   \n51   ...        ANDA212483                 Fresenius Kabi USA, LLC   \n53   ...        ANDA062366  HF Acquisition Co LLC, DBA HealthFirst   \n55   ...        ANDA089776                   Lannett Company, Inc.   \n56   ...        ANDA091375          Hikma Pharmaceuticals USA Inc.   \n57   ...        ANDA200068          Hikma Pharmaceuticals USA Inc.   \n59   ...        ANDA091404                           Hospira, Inc.   \n60   ...        ANDA077547  Amneal Pharmaceuticals of New York LLC   \n61   ...        ANDA213261          Hikma Pharmaceuticals USA Inc.   \n62   ...        ANDA206447              Mylan Pharmaceuticals Inc.   \n63   ...         NDA050655           Baxter Healthcare Corporation   \n64   ...         NDA050640           Baxter Healthcare Corporation   \n65   ...         NDA050638           Baxter Healthcare Corporation   \n68   ...        ANDA080157                   Major Pharmaceuticals   \n69   ...               NaN                                     NaN   \n70   ...         NDA018859                 Cameron Pharmaceuticals   \n71   ...        ANDA205039          Hikma Pharmaceuticals USA Inc.   \n74   ...        ANDA210915          Teva Pharmaceuticals USA, Inc.   \n76   ...        ANDA090547              Mylan Pharmaceuticals Inc.   \n78   ...         NDA021087                         Genentech, Inc.   \n81   ...        ANDA091620                              Sandoz Inc   \n233  ...         NDA019633                   B. Braun Medical Inc.   \n372  ...               NaN                                     NaN   \n375  ...         BLA102476                        GRIFOLS USA, LLC   \n395  ...         NDA020002                   B. Braun Medical Inc.   \n\n                                         SUBSTANCENAME  \\\n0                                    POTASSIUM ACETATE   \n1                             RANITIDINE HYDROCHLORIDE   \n8    ISOLEUCINE; LEUCINE; LYSINE ACETATE; METHIONIN...   \n11                                                 NaN   \n13                            SODIUM ACETATE ANHYDROUS   \n28                            VANCOMYCIN HYDROCHLORIDE   \n29                                           ACYCLOVIR   \n30                                      AMPHOTERICIN B   \n31                                                 NaN   \n32                                   AMPICILLIN SODIUM   \n34                                          ATOVAQUONE   \n35                            AZITHROMYCIN MONOHYDRATE   \n36                                           AZTREONAM   \n38                                    CEFAZOLIN SODIUM   \n39                              CEFEPIME HYDROCHLORIDE   \n40                                         CEFTAZIDIME   \n41                                  CEFTRIAXONE SODIUM   \n43                         CIPROFLOXACIN HYDROCHLORIDE   \n44                               CLINDAMYCIN PHOSPHATE   \n46                                          DAPTOMYCIN   \n47                                         DOXYCYCLINE   \n48                                        ERYTHROMYCIN   \n50                                         FLUCONAZOLE   \n51                                    FOSCARNET SODIUM   \n53                                  GENTAMICIN SULFATE   \n55                                           ISONIAZID   \n56                                        LEVOFLOXACIN   \n57                                           LINEZOLID   \n59                                           MEROPENEM   \n60                                       METRONIDAZOLE   \n61                                          MICAFUNGIN   \n62                          MOXIFLOXACIN HYDROCHLORIDE   \n63                                    NAFCILLIN SODIUM   \n64                                    OXACILLIN SODIUM   \n65                              PENICILLIN G POTASSIUM   \n68                                        PYRAZINAMIDE   \n69                                                 NaN   \n70                                           RIBAVIRIN   \n71                                            RIFAMPIN   \n74                                          TOBRAMYCIN   \n76                                        VORICONAZOLE   \n78                               OSELTAMIVIR PHOSPHATE   \n81                                         TIGECYCLINE   \n233                                              WATER   \n372                                                NaN   \n375                                                NaN   \n395  SODIUM CHLORIDE; CALCIUM CHLORIDE; POTASSIUM C...   \n\n                             ACTIVE_NUMERATOR_STRENGTH  \\\n0                                                196.3   \n1                                                   75   \n8    .9; 1.1; .61; .1; .1; .45; .066; .84; .77; .6;...   \n11                                                 NaN   \n13                                                 164   \n28                                                   5   \n29                                                  50   \n30                                                  50   \n31                                                 NaN   \n32                                                 500   \n34                                                 750   \n35                                                 200   \n36                                                   1   \n38                                                  10   \n39                                                   1   \n40                                                   1   \n41                                                  10   \n43                                                 250   \n44                                                 300   \n46                                                 500   \n47                                                 150   \n48                                                 250   \n50                                                   2   \n51                                                  24   \n53                                                  40   \n55                                                 300   \n56                                                 250   \n57                                                 100   \n59                                                 500   \n60                                                 7.5   \n61                                                  10   \n62                                                   5   \n63                                                   1   \n64                                                   1   \n65                                             1000000   \n68                                                 500   \n69                                                 NaN   \n70                                                   6   \n71                                                 600   \n74                                                 300   \n76                                                  50   \n78                                                  75   \n81                                                  50   \n233                                                  1   \n372                                                NaN   \n375                                                NaN   \n395                                     .86; .033; .03   \n\n                                    ACTIVE_INGRED_UNIT  \\\n0                                                mg/mL   \n1                                                 mg/1   \n8    g/100mL; g/100mL; g/100mL; g/100mL; g/100mL; g...   \n11                                                 NaN   \n13                                               mg/mL   \n28                                             g/100mL   \n29                                                mg/g   \n30                                           mg/12.5mL   \n31                                                 NaN   \n32                                                mg/1   \n34                                              mg/5mL   \n35                                              mg/5mL   \n36                                                 g/1   \n38                                                 g/1   \n39                                              g/50mL   \n40                                                 g/1   \n41                                                 g/1   \n43                                                mg/1   \n44                                             mg/50mL   \n46                                             mg/10mL   \n47                                                mg/1   \n48                                                mg/1   \n50                                               mg/mL   \n51                                               mg/mL   \n53                                               mg/mL   \n55                                                mg/1   \n56                                             mg/50mL   \n57                                              mg/5mL   \n59                                             mg/10mL   \n60                                                mg/g   \n61                                               mg/mL   \n62                                               mg/mL   \n63                                              g/50mL   \n64                                              g/50mL   \n65                                           [iU]/50mL   \n68                                                mg/1   \n69                                                 NaN   \n70                                                 g/1   \n71                                                mg/1   \n74                                              mg/4mL   \n76                                                mg/1   \n78                                                mg/1   \n81                                             mg/10mL   \n233                                              mL/mL   \n372                                                NaN   \n375                                                NaN   \n395                          g/100mL; g/100mL; g/100mL   \n\n                                         PHARM_CLASSES DEASCHEDULE  \\\n0    Potassium Compounds [CS],Potassium Salt [EPC],...         NaN   \n1                                                  NaN         NaN   \n8                    Amino Acid [EPC],Amino Acids [CS]         NaN   \n11                                                 NaN         NaN   \n13                                                 NaN         NaN   \n28   Glycopeptide Antibacterial [EPC],Glycopeptides...         NaN   \n29   DNA Polymerase Inhibitors [MoA],Herpes Simplex...         NaN   \n30   Lipid-based Polyene Antifungal [EPC],Polyene A...         NaN   \n31                                                 NaN         NaN   \n32   Penicillin-class Antibacterial [EPC],Penicilli...         NaN   \n34              Antimalarial [EPC],Antiprotozoal [EPC]         NaN   \n35       Macrolide Antimicrobial [EPC],Macrolides [CS]         NaN   \n36     Monobactam Antibacterial [EPC],Monobactams [CS]         NaN   \n38   Cephalosporin Antibacterial [EPC],Cephalospori...         NaN   \n39   Cephalosporin Antibacterial [EPC],Cephalospori...         NaN   \n40   Cephalosporin Antibacterial [EPC],Cephalospori...         NaN   \n41   Cephalosporin Antibacterial [EPC],Cephalospori...         NaN   \n43       Quinolone Antimicrobial [EPC],Quinolones [CS]         NaN   \n44   Decreased Sebaceous Gland Activity [PE],Lincos...         NaN   \n46   Lipopeptide Antibacterial [EPC],Lipopeptides [CS]         NaN   \n47    Tetracycline-class Drug [EPC],Tetracyclines [CS]         NaN   \n48   Decreased Sebaceous Gland Activity [PE],Macrol...         NaN   \n50   Azole Antifungal [EPC],Azoles [CS],Cytochrome ...         NaN   \n51   DNA Polymerase Inhibitors [MoA],Pyrophosphate ...         NaN   \n53   Aminoglycoside Antibacterial [EPC],Aminoglycos...         NaN   \n55                             Antimycobacterial [EPC]         NaN   \n56                                                 NaN         NaN   \n57   Oxazolidinone Antibacterial [EPC],Oxazolidinon...         NaN   \n59          Carbapenems [CS],Penem Antibacterial [EPC]         NaN   \n60   Nitroimidazole Antimicrobial [EPC],Nitroimidaz...         NaN   \n61     Echinocandin Antifungal [EPC],Lipopeptides [CS]         NaN   \n62       Quinolone Antimicrobial [EPC],Quinolones [CS]         NaN   \n63   Penicillin-class Antibacterial [EPC],Penicilli...         NaN   \n64   Penicillin-class Antibacterial [EPC],Penicilli...         NaN   \n65   Penicillin-class Antibacterial [EPC],Penicilli...         NaN   \n68                             Antimycobacterial [EPC]         NaN   \n69                                                 NaN         NaN   \n70   Nucleoside Analog [EXT],Nucleoside Analog Anti...         NaN   \n71       Rifamycin Antibacterial [EPC],Rifamycins [CS]         NaN   \n74   Aminoglycoside Antibacterial [EPC],Aminoglycos...         NaN   \n76   Azole Antifungal [EPC],Azoles [CS],Cytochrome ...         NaN   \n78   Neuraminidase Inhibitor [EPC],Neuraminidase In...         NaN   \n81   Tetracycline-class Antibacterial [EPC],Tetracy...         NaN   \n233                                                NaN         NaN   \n372                                                NaN         NaN   \n375                                                NaN         NaN   \n395  Blood Coagulation Factor [EPC],Increased Coagu...         NaN   \n\n    NDC_EXCLUDE_FLAG LISTING_RECORD_CERTIFIED_THROUGH     _merge  \n0                  N                       20221231.0       both  \n1                  N                       20221231.0       both  \n8                  N                       20221231.0       both  \n11               NaN                              NaN  left_only  \n13                 N                       20221231.0       both  \n28                 N                       20221231.0       both  \n29                 N                       20221231.0       both  \n30                 N                       20221231.0       both  \n31               NaN                              NaN  left_only  \n32                 N                       20221231.0       both  \n34                 N                       20221231.0       both  \n35                 N                       20221231.0       both  \n36                 N                       20221231.0       both  \n38                 N                       20221231.0       both  \n39                 N                       20221231.0       both  \n40                 N                       20221231.0       both  \n41                 N                       20221231.0       both  \n43                 N                       20221231.0       both  \n44                 N                       20221231.0       both  \n46                 N                       20221231.0       both  \n47                 N                       20221231.0       both  \n48                 N                       20221231.0       both  \n50                 N                       20221231.0       both  \n51                 N                       20221231.0       both  \n53                 N                       20221231.0       both  \n55                 N                       20221231.0       both  \n56                 N                       20221231.0       both  \n57                 N                       20221231.0       both  \n59                 N                       20221231.0       both  \n60                 N                       20221231.0       both  \n61                 N                       20221231.0       both  \n62                 N                       20221231.0       both  \n63                 N                       20221231.0       both  \n64                 N                       20221231.0       both  \n65                 N                       20221231.0       both  \n68                 N                       20221231.0       both  \n69               NaN                              NaN  left_only  \n70                 N                       20221231.0       both  \n71                 N                       20221231.0       both  \n74                 N                       20221231.0       both  \n76                 N                       20221231.0       both  \n78                 N                       20221231.0       both  \n81                 N                       20221231.0       both  \n233                N                       20221231.0       both  \n372              NaN                              NaN  left_only  \n375                N                       20231231.0       both  \n395                N                       20221231.0       both  \n\n[47 rows x 26 columns]",
      "text/html": "<div>\n<style scoped>\n    .dataframe tbody tr th:only-of-type {\n        vertical-align: middle;\n    }\n\n    .dataframe tbody tr th {\n        vertical-align: top;\n    }\n\n    .dataframe thead th {\n        text-align: right;\n    }\n</style>\n<table border=\"1\" class=\"dataframe\">\n  <thead>\n    <tr style=\"text-align: right;\">\n      <th></th>\n      <th>itemid</th>\n      <th>label</th>\n      <th>category</th>\n      <th>PRODUCTID_x</th>\n      <th>NONPROPRIETARYNAME_x</th>\n      <th>PRODUCTID_y</th>\n      <th>PRODUCTNDC</th>\n      <th>PRODUCTTYPENAME</th>\n      <th>PROPRIETARYNAME</th>\n      <th>PROPRIETARYNAMESUFFIX</th>\n      <th>...</th>\n      <th>APPLICATIONNUMBER</th>\n      <th>LABELERNAME</th>\n      <th>SUBSTANCENAME</th>\n      <th>ACTIVE_NUMERATOR_STRENGTH</th>\n      <th>ACTIVE_INGRED_UNIT</th>\n      <th>PHARM_CLASSES</th>\n      <th>DEASCHEDULE</th>\n      <th>NDC_EXCLUDE_FLAG</th>\n      <th>LISTING_RECORD_CERTIFIED_THROUGH</th>\n      <th>_merge</th>\n    </tr>\n  </thead>\n  <tbody>\n    <tr>\n      <th>0</th>\n      <td>222139</td>\n      <td>potassium acetate</td>\n      <td>Nutrition - Supplements</td>\n      <td>0409-3294_500bb334-6d33-4bb1-b081-f505423f2872</td>\n      <td>potassium acetate</td>\n      <td>0409-3294_500bb334-6d33-4bb1-b081-f505423f2872</td>\n      <td>0409-3294</td>\n      <td>HUMAN PRESCRIPTION DRUG</td>\n      <td>potassium acetate</td>\n      <td>NaN</td>\n      <td>...</td>\n      <td>NDA018896</td>\n      <td>Hospira, Inc.</td>\n      <td>POTASSIUM ACETATE</td>\n      <td>196.3</td>\n      <td>mg/mL</td>\n      <td>Potassium Compounds [CS],Potassium Salt [EPC],...</td>\n      <td>NaN</td>\n      <td>N</td>\n      <td>20221231.0</td>\n      <td>both</td>\n    </tr>\n    <tr>\n      <th>1</th>\n      <td>222190</td>\n      <td>ranitidine</td>\n      <td>Nutrition - Parenteral</td>\n      <td>0904-6715_0b8b6ed2-7d1d-4d6d-86f9-0f86fb06b738</td>\n      <td>ranitidine</td>\n      <td>0904-6921_2a917fc5-06a6-d0e3-f8d4-39013116a446</td>\n      <td>0904-6921</td>\n      <td>HUMAN OTC DRUG</td>\n      <td>ranitidine</td>\n      <td>NaN</td>\n      <td>...</td>\n      <td>ANDA075294</td>\n      <td>MAJOR PHARMACEUTICALS</td>\n      <td>RANITIDINE HYDROCHLORIDE</td>\n      <td>75</td>\n      <td>mg/1</td>\n      <td>NaN</td>\n      <td>NaN</td>\n      <td>N</td>\n      <td>20221231.0</td>\n      <td>both</td>\n    </tr>\n    <tr>\n      <th>8</th>\n      <td>225921</td>\n      <td>hepatamine</td>\n      <td>Nutrition - Supplements</td>\n      <td>NaN</td>\n      <td>NaN</td>\n      <td>0264-9371_c1f4d7ca-8c22-4562-a49b-9d201be140fb</td>\n      <td>0264-9371</td>\n      <td>HUMAN PRESCRIPTION DRUG</td>\n      <td>hepatamine</td>\n      <td>NaN</td>\n      <td>...</td>\n      <td>NDA018676</td>\n      <td>B. Braun Medical Inc.</td>\n      <td>ISOLEUCINE; LEUCINE; LYSINE ACETATE; METHIONIN...</td>\n      <td>.9; 1.1; .61; .1; .1; .45; .066; .84; .77; .6;...</td>\n      <td>g/100mL; g/100mL; g/100mL; g/100mL; g/100mL; g...</td>\n      <td>Amino Acid [EPC],Amino Acids [CS]</td>\n      <td>NaN</td>\n      <td>N</td>\n      <td>20221231.0</td>\n      <td>both</td>\n    </tr>\n    <tr>\n      <th>11</th>\n      <td>225924</td>\n      <td>hydrochloric acid</td>\n      <td>Nutrition - Supplements</td>\n      <td>0220-3466_8643994f-4e14-4572-e053-2991aa0a5b78</td>\n      <td>hydrochloric acid</td>\n      <td>NaN</td>\n      <td>NaN</td>\n      <td>NaN</td>\n      <td>NaN</td>\n      <td>NaN</td>\n      <td>...</td>\n      <td>NaN</td>\n      <td>NaN</td>\n      <td>NaN</td>\n      <td>NaN</td>\n      <td>NaN</td>\n      <td>NaN</td>\n      <td>NaN</td>\n      <td>NaN</td>\n      <td>NaN</td>\n      <td>left_only</td>\n    </tr>\n    <tr>\n      <th>13</th>\n      <td>225926</td>\n      <td>sodium acetate</td>\n      <td>Nutrition - Supplements</td>\n      <td>0409-3299_416a7d2a-271d-4b08-a491-1e8a13650b86</td>\n      <td>sodium acetate</td>\n      <td>0409-3299_416a7d2a-271d-4b08-a491-1e8a13650b86</td>\n      <td>0409-3299</td>\n      <td>HUMAN PRESCRIPTION DRUG</td>\n      <td>sodium acetate</td>\n      <td>NaN</td>\n      <td>...</td>\n      <td>NDA018893</td>\n      <td>Hospira, Inc.</td>\n      <td>SODIUM ACETATE ANHYDROUS</td>\n      <td>164</td>\n      <td>mg/mL</td>\n      <td>NaN</td>\n      <td>NaN</td>\n      <td>N</td>\n      <td>20221231.0</td>\n      <td>both</td>\n    </tr>\n    <tr>\n      <th>28</th>\n      <td>225798</td>\n      <td>vancomycin</td>\n      <td>Antibiotics</td>\n      <td>68001-338_c91fb4b4-7b6c-c700-e053-2995a90a6bc2</td>\n      <td>vancomycin</td>\n      <td>25021-157_eb393d1e-aff3-4a65-aae8-28418a1aec6c</td>\n      <td>25021-157</td>\n      <td>HUMAN PRESCRIPTION DRUG</td>\n      <td>vancomycin</td>\n      <td>NaN</td>\n      <td>...</td>\n      <td>ANDA200837</td>\n      <td>Sagent Pharmaceuticals</td>\n      <td>VANCOMYCIN HYDROCHLORIDE</td>\n      <td>5</td>\n      <td>g/100mL</td>\n      <td>Glycopeptide Antibacterial [EPC],Glycopeptides...</td>\n      <td>NaN</td>\n      <td>N</td>\n      <td>20221231.0</td>\n      <td>both</td>\n    </tr>\n    <tr>\n      <th>29</th>\n      <td>225837</td>\n      <td>acyclovir</td>\n      <td>Antibiotics</td>\n      <td>0093-3630_8c3d75a1-fe85-49ca-9bb4-af670f910bf8</td>\n      <td>acyclovir</td>\n      <td>0093-3630_8c3d75a1-fe85-49ca-9bb4-af670f910bf8</td>\n      <td>0093-3630</td>\n      <td>HUMAN PRESCRIPTION DRUG</td>\n      <td>acyclovir</td>\n      <td>NaN</td>\n      <td>...</td>\n      <td>NDA021478</td>\n      <td>Teva Pharmaceuticals, Inc.</td>\n      <td>ACYCLOVIR</td>\n      <td>50</td>\n      <td>mg/g</td>\n      <td>DNA Polymerase Inhibitors [MoA],Herpes Simplex...</td>\n      <td>NaN</td>\n      <td>N</td>\n      <td>20221231.0</td>\n      <td>both</td>\n    </tr>\n    <tr>\n      <th>30</th>\n      <td>225838</td>\n      <td>ambisome</td>\n      <td>Antibiotics</td>\n      <td>NaN</td>\n      <td>NaN</td>\n      <td>0469-3051_8f57e867-909b-4a7c-bd4e-1e9427f5005b</td>\n      <td>0469-3051</td>\n      <td>HUMAN PRESCRIPTION DRUG</td>\n      <td>ambisome</td>\n      <td>NaN</td>\n      <td>...</td>\n      <td>NDA050740</td>\n      <td>Astellas Pharma US, Inc.</td>\n      <td>AMPHOTERICIN B</td>\n      <td>50</td>\n      <td>mg/12.5mL</td>\n      <td>Lipid-based Polyene Antifungal [EPC],Polyene A...</td>\n      <td>NaN</td>\n      <td>N</td>\n      <td>20221231.0</td>\n      <td>both</td>\n    </tr>\n    <tr>\n      <th>31</th>\n      <td>225840</td>\n      <td>amikacin</td>\n      <td>Antibiotics</td>\n      <td>71558-590_8b43768c-f7ba-4f33-8509-65a526b0422e</td>\n      <td>amikacin</td>\n      <td>NaN</td>\n      <td>NaN</td>\n      <td>NaN</td>\n      <td>NaN</td>\n      <td>NaN</td>\n      <td>...</td>\n      <td>NaN</td>\n      <td>NaN</td>\n      <td>NaN</td>\n      <td>NaN</td>\n      <td>NaN</td>\n      <td>NaN</td>\n      <td>NaN</td>\n      <td>NaN</td>\n      <td>NaN</td>\n      <td>left_only</td>\n    </tr>\n    <tr>\n      <th>32</th>\n      <td>225842</td>\n      <td>ampicillin</td>\n      <td>Antibiotics</td>\n      <td>0781-2144_e8f470a8-ec75-4c1e-84d8-766372f61cf3</td>\n      <td>ampicillin</td>\n      <td>0409-3718_1e43e05b-8ec3-4ce4-bdfc-f47516ef2efe</td>\n      <td>0409-3718</td>\n      <td>HUMAN PRESCRIPTION DRUG</td>\n      <td>ampicillin</td>\n      <td>NaN</td>\n      <td>...</td>\n      <td>ANDA061395</td>\n      <td>Hospira, Inc</td>\n      <td>AMPICILLIN SODIUM</td>\n      <td>500</td>\n      <td>mg/1</td>\n      <td>Penicillin-class Antibacterial [EPC],Penicilli...</td>\n      <td>NaN</td>\n      <td>N</td>\n      <td>20221231.0</td>\n      <td>both</td>\n    </tr>\n    <tr>\n      <th>34</th>\n      <td>225844</td>\n      <td>atovaquone</td>\n      <td>Antibiotics</td>\n      <td>0121-0888_bfdd518d-bce2-9f70-e053-2995a90a78ef</td>\n      <td>atovaquone</td>\n      <td>0121-0888_bfdd518d-bce2-9f70-e053-2995a90a78ef</td>\n      <td>0121-0888</td>\n      <td>HUMAN PRESCRIPTION DRUG</td>\n      <td>atovaquone</td>\n      <td>NaN</td>\n      <td>...</td>\n      <td>ANDA209105</td>\n      <td>Pharmaceutical Associates, Inc.</td>\n      <td>ATOVAQUONE</td>\n      <td>750</td>\n      <td>mg/5mL</td>\n      <td>Antimalarial [EPC],Antiprotozoal [EPC]</td>\n      <td>NaN</td>\n      <td>N</td>\n      <td>20221231.0</td>\n      <td>both</td>\n    </tr>\n    <tr>\n      <th>35</th>\n      <td>225845</td>\n      <td>azithromycin</td>\n      <td>Antibiotics</td>\n      <td>0093-2026_7270990f-ef58-443e-9a3d-ff320d19b578</td>\n      <td>azithromycin</td>\n      <td>0093-2026_7270990f-ef58-443e-9a3d-ff320d19b578</td>\n      <td>0093-2026</td>\n      <td>HUMAN PRESCRIPTION DRUG</td>\n      <td>azithromycin</td>\n      <td>NaN</td>\n      <td>...</td>\n      <td>ANDA065246</td>\n      <td>Teva Pharmaceuticals USA, Inc.</td>\n      <td>AZITHROMYCIN MONOHYDRATE</td>\n      <td>200</td>\n      <td>mg/5mL</td>\n      <td>Macrolide Antimicrobial [EPC],Macrolides [CS]</td>\n      <td>NaN</td>\n      <td>N</td>\n      <td>20221231.0</td>\n      <td>both</td>\n    </tr>\n    <tr>\n      <th>36</th>\n      <td>225847</td>\n      <td>aztreonam</td>\n      <td>Antibiotics</td>\n      <td>0003-2560_e44ad54c-6b64-4505-af49-1810176c0114</td>\n      <td>aztreonam</td>\n      <td>63323-401_32bbf2a5-bd2f-4b54-b017-ffba5c1dd3fb</td>\n      <td>63323-401</td>\n      <td>HUMAN PRESCRIPTION DRUG</td>\n      <td>aztreonam</td>\n      <td>NaN</td>\n      <td>...</td>\n      <td>ANDA065439</td>\n      <td>Fresenius Kabi USA, LLC</td>\n      <td>AZTREONAM</td>\n      <td>1</td>\n      <td>g/1</td>\n      <td>Monobactam Antibacterial [EPC],Monobactams [CS]</td>\n      <td>NaN</td>\n      <td>N</td>\n      <td>20221231.0</td>\n      <td>both</td>\n    </tr>\n    <tr>\n      <th>38</th>\n      <td>225850</td>\n      <td>cefazolin</td>\n      <td>Antibiotics</td>\n      <td>0143-9261_ea333849-55d3-4257-94e5-d70ba608f8c5</td>\n      <td>cefazolin</td>\n      <td>0143-9261_ea333849-55d3-4257-94e5-d70ba608f8c5</td>\n      <td>0143-9261</td>\n      <td>HUMAN PRESCRIPTION DRUG</td>\n      <td>cefazolin</td>\n      <td>NaN</td>\n      <td>...</td>\n      <td>ANDA065143</td>\n      <td>West-Ward Pharmaceuticals Corp</td>\n      <td>CEFAZOLIN SODIUM</td>\n      <td>10</td>\n      <td>g/1</td>\n      <td>Cephalosporin Antibacterial [EPC],Cephalospori...</td>\n      <td>NaN</td>\n      <td>N</td>\n      <td>20221231.0</td>\n      <td>both</td>\n    </tr>\n    <tr>\n      <th>39</th>\n      <td>225851</td>\n      <td>cefepime</td>\n      <td>Antibiotics</td>\n      <td>0338-1301_8265fead-a9b5-427c-a00f-ca3aad75fc0e</td>\n      <td>cefepime</td>\n      <td>0338-1301_8265fead-a9b5-427c-a00f-ca3aad75fc0e</td>\n      <td>0338-1301</td>\n      <td>HUMAN PRESCRIPTION DRUG</td>\n      <td>cefepime</td>\n      <td>NaN</td>\n      <td>...</td>\n      <td>NDA050817</td>\n      <td>Baxter Healthcare Corporation</td>\n      <td>CEFEPIME HYDROCHLORIDE</td>\n      <td>1</td>\n      <td>g/50mL</td>\n      <td>Cephalosporin Antibacterial [EPC],Cephalospori...</td>\n      <td>NaN</td>\n      <td>N</td>\n      <td>20221231.0</td>\n      <td>both</td>\n    </tr>\n    <tr>\n      <th>40</th>\n      <td>225853</td>\n      <td>ceftazidime</td>\n      <td>Antibiotics</td>\n      <td>0264-3143_1d079269-bc0b-4010-a279-5121bac76caa</td>\n      <td>ceftazidime</td>\n      <td>25021-127_6b34b5ad-001f-4c39-8415-a223eb692b46</td>\n      <td>25021-127</td>\n      <td>HUMAN PRESCRIPTION DRUG</td>\n      <td>ceftazidime</td>\n      <td>NaN</td>\n      <td>...</td>\n      <td>ANDA062640</td>\n      <td>Sagent Pharmaceuticals</td>\n      <td>CEFTAZIDIME</td>\n      <td>1</td>\n      <td>g/1</td>\n      <td>Cephalosporin Antibacterial [EPC],Cephalospori...</td>\n      <td>NaN</td>\n      <td>N</td>\n      <td>20221231.0</td>\n      <td>both</td>\n    </tr>\n    <tr>\n      <th>41</th>\n      <td>225855</td>\n      <td>ceftriaxone</td>\n      <td>Antibiotics</td>\n      <td>0143-9678_2d8a9168-ad6a-4cf3-a776-74288ea53e21</td>\n      <td>ceftriaxone</td>\n      <td>0143-9678_2d8a9168-ad6a-4cf3-a776-74288ea53e21</td>\n      <td>0143-9678</td>\n      <td>HUMAN PRESCRIPTION DRUG</td>\n      <td>ceftriaxone</td>\n      <td>NaN</td>\n      <td>...</td>\n      <td>ANDA090701</td>\n      <td>Hikma Pharmaceuticals USA Inc.</td>\n      <td>CEFTRIAXONE SODIUM</td>\n      <td>10</td>\n      <td>g/1</td>\n      <td>Cephalosporin Antibacterial [EPC],Cephalospori...</td>\n      <td>NaN</td>\n      <td>N</td>\n      <td>20221231.0</td>\n      <td>both</td>\n    </tr>\n    <tr>\n      <th>43</th>\n      <td>225859</td>\n      <td>ciprofloxacin</td>\n      <td>Antibiotics</td>\n      <td>0143-9927_4aae87bb-5c42-4b1b-a409-fa51313ff945</td>\n      <td>ciprofloxacin</td>\n      <td>0143-9927_4aae87bb-5c42-4b1b-a409-fa51313ff945</td>\n      <td>0143-9927</td>\n      <td>HUMAN PRESCRIPTION DRUG</td>\n      <td>ciprofloxacin</td>\n      <td>NaN</td>\n      <td>...</td>\n      <td>ANDA076558</td>\n      <td>Hikma Pharmaceuticals USA Inc.</td>\n      <td>CIPROFLOXACIN HYDROCHLORIDE</td>\n      <td>250</td>\n      <td>mg/1</td>\n      <td>Quinolone Antimicrobial [EPC],Quinolones [CS]</td>\n      <td>NaN</td>\n      <td>N</td>\n      <td>20221231.0</td>\n      <td>both</td>\n    </tr>\n    <tr>\n      <th>44</th>\n      <td>225860</td>\n      <td>clindamycin</td>\n      <td>Antibiotics</td>\n      <td>16781-462_70272df5-dd46-4060-bed1-f89a7e8a6121</td>\n      <td>clindamycin</td>\n      <td>17478-120_1e9cca62-01e0-414e-8afb-4d93825c245c</td>\n      <td>17478-120</td>\n      <td>HUMAN PRESCRIPTION DRUG</td>\n      <td>clindamycin</td>\n      <td>NaN</td>\n      <td>...</td>\n      <td>ANDA203048</td>\n      <td>Akorn, Inc.</td>\n      <td>CLINDAMYCIN PHOSPHATE</td>\n      <td>300</td>\n      <td>mg/50mL</td>\n      <td>Decreased Sebaceous Gland Activity [PE],Lincos...</td>\n      <td>NaN</td>\n      <td>N</td>\n      <td>20221231.0</td>\n      <td>both</td>\n    </tr>\n    <tr>\n      <th>46</th>\n      <td>225863</td>\n      <td>daptomycin</td>\n      <td>Antibiotics</td>\n      <td>0143-9378_2f2c583e-2e90-4de6-a12a-2f24dc42a245</td>\n      <td>daptomycin</td>\n      <td>0143-9378_2f2c583e-2e90-4de6-a12a-2f24dc42a245</td>\n      <td>0143-9378</td>\n      <td>HUMAN PRESCRIPTION DRUG</td>\n      <td>daptomycin</td>\n      <td>NaN</td>\n      <td>...</td>\n      <td>ANDA212022</td>\n      <td>Hikma Pharmaceuticals USA Inc.</td>\n      <td>DAPTOMYCIN</td>\n      <td>500</td>\n      <td>mg/10mL</td>\n      <td>Lipopeptide Antibacterial [EPC],Lipopeptides [CS]</td>\n      <td>NaN</td>\n      <td>N</td>\n      <td>20221231.0</td>\n      <td>both</td>\n    </tr>\n    <tr>\n      <th>47</th>\n      <td>225865</td>\n      <td>doxycycline</td>\n      <td>Antibiotics</td>\n      <td>0069-0970_9f76e888-1fa7-4deb-a68f-e8d55d586693</td>\n      <td>doxycycline</td>\n      <td>0115-1327_25e3946b-93e0-40f2-9ca6-d96b9b1c1476</td>\n      <td>0115-1327</td>\n      <td>HUMAN PRESCRIPTION DRUG</td>\n      <td>doxycycline</td>\n      <td>NaN</td>\n      <td>...</td>\n      <td>ANDA200065</td>\n      <td>Amneal Pharmaceuticals of New York LLC</td>\n      <td>DOXYCYCLINE</td>\n      <td>150</td>\n      <td>mg/1</td>\n      <td>Tetracycline-class Drug [EPC],Tetracyclines [CS]</td>\n      <td>NaN</td>\n      <td>N</td>\n      <td>20221231.0</td>\n      <td>both</td>\n    </tr>\n    <tr>\n      <th>48</th>\n      <td>225866</td>\n      <td>erythromycin</td>\n      <td>Antibiotics</td>\n      <td>0093-5571_ae45bc79-d364-47fb-ba1e-b6204757d7aa</td>\n      <td>erythromycin</td>\n      <td>0093-5571_ae45bc79-d364-47fb-ba1e-b6204757d7aa</td>\n      <td>0093-5571</td>\n      <td>HUMAN PRESCRIPTION DRUG</td>\n      <td>erythromycin</td>\n      <td>NaN</td>\n      <td>...</td>\n      <td>ANDA214549</td>\n      <td>Teva Pharmaceuticals USA, Inc.</td>\n      <td>ERYTHROMYCIN</td>\n      <td>250</td>\n      <td>mg/1</td>\n      <td>Decreased Sebaceous Gland Activity [PE],Macrol...</td>\n      <td>NaN</td>\n      <td>N</td>\n      <td>20221231.0</td>\n      <td>both</td>\n    </tr>\n    <tr>\n      <th>50</th>\n      <td>225869</td>\n      <td>fluconazole</td>\n      <td>Antibiotics</td>\n      <td>0049-3410_bd043f46-5ae0-43ac-a1b6-4da67640bc78</td>\n      <td>fluconazole</td>\n      <td>0143-9666_edf61edf-3bb9-4231-847e-1601072ad56f</td>\n      <td>0143-9666</td>\n      <td>HUMAN PRESCRIPTION DRUG</td>\n      <td>fluconazole</td>\n      <td>NaN</td>\n      <td>...</td>\n      <td>ANDA078764</td>\n      <td>Hikma Pharmaceuticals USA Inc.</td>\n      <td>FLUCONAZOLE</td>\n      <td>2</td>\n      <td>mg/mL</td>\n      <td>Azole Antifungal [EPC],Azoles [CS],Cytochrome ...</td>\n      <td>NaN</td>\n      <td>N</td>\n      <td>20221231.0</td>\n      <td>both</td>\n    </tr>\n    <tr>\n      <th>51</th>\n      <td>225871</td>\n      <td>foscarnet</td>\n      <td>Antibiotics</td>\n      <td>NaN</td>\n      <td>NaN</td>\n      <td>63323-875_773fcafd-38ca-4aeb-9ecd-e7d436560ddb</td>\n      <td>63323-875</td>\n      <td>HUMAN PRESCRIPTION DRUG</td>\n      <td>foscarnet</td>\n      <td>NaN</td>\n      <td>...</td>\n      <td>ANDA212483</td>\n      <td>Fresenius Kabi USA, LLC</td>\n      <td>FOSCARNET SODIUM</td>\n      <td>24</td>\n      <td>mg/mL</td>\n      <td>DNA Polymerase Inhibitors [MoA],Pyrophosphate ...</td>\n      <td>NaN</td>\n      <td>N</td>\n      <td>20221231.0</td>\n      <td>both</td>\n    </tr>\n    <tr>\n      <th>53</th>\n      <td>225875</td>\n      <td>gentamicin</td>\n      <td>Antibiotics</td>\n      <td>51662-1508_c915aae5-c4e8-16cd-e053-2995a90a8b43</td>\n      <td>gentamicin</td>\n      <td>51662-1508_c915aae5-c4e8-16cd-e053-2995a90a8b43</td>\n      <td>51662-1508</td>\n      <td>HUMAN PRESCRIPTION DRUG</td>\n      <td>gentamicin</td>\n      <td>NaN</td>\n      <td>...</td>\n      <td>ANDA062366</td>\n      <td>HF Acquisition Co LLC, DBA HealthFirst</td>\n      <td>GENTAMICIN SULFATE</td>\n      <td>40</td>\n      <td>mg/mL</td>\n      <td>Aminoglycoside Antibacterial [EPC],Aminoglycos...</td>\n      <td>NaN</td>\n      <td>N</td>\n      <td>20221231.0</td>\n      <td>both</td>\n    </tr>\n    <tr>\n      <th>55</th>\n      <td>225877</td>\n      <td>isoniazid</td>\n      <td>Antibiotics</td>\n      <td>0527-1109_458431c7-41c7-48f4-a8f6-b6b6ccc7cbe2</td>\n      <td>isoniazid</td>\n      <td>0527-1109_458431c7-41c7-48f4-a8f6-b6b6ccc7cbe2</td>\n      <td>0527-1109</td>\n      <td>HUMAN PRESCRIPTION DRUG</td>\n      <td>isoniazid</td>\n      <td>NaN</td>\n      <td>...</td>\n      <td>ANDA089776</td>\n      <td>Lannett Company, Inc.</td>\n      <td>ISONIAZID</td>\n      <td>300</td>\n      <td>mg/1</td>\n      <td>Antimycobacterial [EPC]</td>\n      <td>NaN</td>\n      <td>N</td>\n      <td>20221231.0</td>\n      <td>both</td>\n    </tr>\n    <tr>\n      <th>56</th>\n      <td>225879</td>\n      <td>levofloxacin</td>\n      <td>Antibiotics</td>\n      <td>0143-9315_05cdb9d7-2bce-400d-8565-8a76c4a1a8e3</td>\n      <td>levofloxacin</td>\n      <td>0143-9315_05cdb9d7-2bce-400d-8565-8a76c4a1a8e3</td>\n      <td>0143-9315</td>\n      <td>HUMAN PRESCRIPTION DRUG</td>\n      <td>levofloxacin</td>\n      <td>NaN</td>\n      <td>...</td>\n      <td>ANDA091375</td>\n      <td>Hikma Pharmaceuticals USA Inc.</td>\n      <td>LEVOFLOXACIN</td>\n      <td>250</td>\n      <td>mg/50mL</td>\n      <td>NaN</td>\n      <td>NaN</td>\n      <td>N</td>\n      <td>20221231.0</td>\n      <td>both</td>\n    </tr>\n    <tr>\n      <th>57</th>\n      <td>225881</td>\n      <td>linezolid</td>\n      <td>Antibiotics</td>\n      <td>0009-4992_dadada4c-83d4-4526-8341-9df1fd642f63</td>\n      <td>linezolid</td>\n      <td>0054-0319_7fac7605-d411-4cbd-bc84-95949660b4f3</td>\n      <td>0054-0319</td>\n      <td>HUMAN PRESCRIPTION DRUG</td>\n      <td>linezolid</td>\n      <td>NaN</td>\n      <td>...</td>\n      <td>ANDA200068</td>\n      <td>Hikma Pharmaceuticals USA Inc.</td>\n      <td>LINEZOLID</td>\n      <td>100</td>\n      <td>mg/5mL</td>\n      <td>Oxazolidinone Antibacterial [EPC],Oxazolidinon...</td>\n      <td>NaN</td>\n      <td>N</td>\n      <td>20221231.0</td>\n      <td>both</td>\n    </tr>\n    <tr>\n      <th>59</th>\n      <td>225883</td>\n      <td>meropenem</td>\n      <td>Antibiotics</td>\n      <td>0069-0314_581f5471-6975-4e7d-a18d-c052ebe0ddae</td>\n      <td>meropenem</td>\n      <td>0409-1390_fffa4718-560d-4eec-8931-50fa12c9d693</td>\n      <td>0409-1390</td>\n      <td>HUMAN PRESCRIPTION DRUG</td>\n      <td>meropenem</td>\n      <td>NaN</td>\n      <td>...</td>\n      <td>ANDA091404</td>\n      <td>Hospira, Inc.</td>\n      <td>MEROPENEM</td>\n      <td>500</td>\n      <td>mg/10mL</td>\n      <td>Carbapenems [CS],Penem Antibacterial [EPC]</td>\n      <td>NaN</td>\n      <td>N</td>\n      <td>20221231.0</td>\n      <td>both</td>\n    </tr>\n    <tr>\n      <th>60</th>\n      <td>225884</td>\n      <td>metronidazole</td>\n      <td>Antibiotics</td>\n      <td>0025-1942_77224e53-27e6-42ed-9b68-e94215b94346</td>\n      <td>metronidazole</td>\n      <td>0115-1474_943c4651-3d73-4af2-b4b7-b7d9027f73f4</td>\n      <td>0115-1474</td>\n      <td>HUMAN PRESCRIPTION DRUG</td>\n      <td>metronidazole</td>\n      <td>NaN</td>\n      <td>...</td>\n      <td>ANDA077547</td>\n      <td>Amneal Pharmaceuticals of New York LLC</td>\n      <td>METRONIDAZOLE</td>\n      <td>7.5</td>\n      <td>mg/g</td>\n      <td>Nitroimidazole Antimicrobial [EPC],Nitroimidaz...</td>\n      <td>NaN</td>\n      <td>N</td>\n      <td>20221231.0</td>\n      <td>both</td>\n    </tr>\n    <tr>\n      <th>61</th>\n      <td>225885</td>\n      <td>micafungin</td>\n      <td>Antibiotics</td>\n      <td>42023-229_1efe8cd3-3642-4057-ba8d-c1e9b7ff1e83</td>\n      <td>micafungin</td>\n      <td>0143-9361_cafa9061-bee0-48bf-938f-ba688ded1140</td>\n      <td>0143-9361</td>\n      <td>HUMAN PRESCRIPTION DRUG</td>\n      <td>micafungin</td>\n      <td>NaN</td>\n      <td>...</td>\n      <td>ANDA213261</td>\n      <td>Hikma Pharmaceuticals USA Inc.</td>\n      <td>MICAFUNGIN</td>\n      <td>10</td>\n      <td>mg/mL</td>\n      <td>Echinocandin Antifungal [EPC],Lipopeptides [CS]</td>\n      <td>NaN</td>\n      <td>N</td>\n      <td>20221231.0</td>\n      <td>both</td>\n    </tr>\n    <tr>\n      <th>62</th>\n      <td>225886</td>\n      <td>moxifloxacin</td>\n      <td>Antibiotics</td>\n      <td>0378-5430_df168a81-9f81-440b-b0bc-50006aea42b7</td>\n      <td>moxifloxacin</td>\n      <td>0378-5430_df168a81-9f81-440b-b0bc-50006aea42b7</td>\n      <td>0378-5430</td>\n      <td>HUMAN PRESCRIPTION DRUG</td>\n      <td>moxifloxacin</td>\n      <td>NaN</td>\n      <td>...</td>\n      <td>ANDA206447</td>\n      <td>Mylan Pharmaceuticals Inc.</td>\n      <td>MOXIFLOXACIN HYDROCHLORIDE</td>\n      <td>5</td>\n      <td>mg/mL</td>\n      <td>Quinolone Antimicrobial [EPC],Quinolones [CS]</td>\n      <td>NaN</td>\n      <td>N</td>\n      <td>20221231.0</td>\n      <td>both</td>\n    </tr>\n    <tr>\n      <th>63</th>\n      <td>225888</td>\n      <td>nafcillin</td>\n      <td>Antibiotics</td>\n      <td>0338-1017_fab05f8a-91b1-4989-9303-6fad475449bb</td>\n      <td>nafcillin</td>\n      <td>0338-1017_fab05f8a-91b1-4989-9303-6fad475449bb</td>\n      <td>0338-1017</td>\n      <td>HUMAN PRESCRIPTION DRUG</td>\n      <td>nafcillin</td>\n      <td>NaN</td>\n      <td>...</td>\n      <td>NDA050655</td>\n      <td>Baxter Healthcare Corporation</td>\n      <td>NAFCILLIN SODIUM</td>\n      <td>1</td>\n      <td>g/50mL</td>\n      <td>Penicillin-class Antibacterial [EPC],Penicilli...</td>\n      <td>NaN</td>\n      <td>N</td>\n      <td>20221231.0</td>\n      <td>both</td>\n    </tr>\n    <tr>\n      <th>64</th>\n      <td>225889</td>\n      <td>oxacillin</td>\n      <td>Antibiotics</td>\n      <td>0338-1013_a2cb0859-e793-4c68-93b6-d59ed48bc763</td>\n      <td>oxacillin</td>\n      <td>0338-1013_a2cb0859-e793-4c68-93b6-d59ed48bc763</td>\n      <td>0338-1013</td>\n      <td>HUMAN PRESCRIPTION DRUG</td>\n      <td>oxacillin</td>\n      <td>NaN</td>\n      <td>...</td>\n      <td>NDA050640</td>\n      <td>Baxter Healthcare Corporation</td>\n      <td>OXACILLIN SODIUM</td>\n      <td>1</td>\n      <td>g/50mL</td>\n      <td>Penicillin-class Antibacterial [EPC],Penicilli...</td>\n      <td>NaN</td>\n      <td>N</td>\n      <td>20221231.0</td>\n      <td>both</td>\n    </tr>\n    <tr>\n      <th>65</th>\n      <td>225890</td>\n      <td>penicillin g potassium</td>\n      <td>Antibiotics</td>\n      <td>0049-0420_228f3a34-6654-470c-b14f-9fbf29cfa329</td>\n      <td>penicillin g potassium</td>\n      <td>0338-1021_af719889-896c-4e53-92ed-59283a748c4a</td>\n      <td>0338-1021</td>\n      <td>HUMAN PRESCRIPTION DRUG</td>\n      <td>penicillin g potassium</td>\n      <td>NaN</td>\n      <td>...</td>\n      <td>NDA050638</td>\n      <td>Baxter Healthcare Corporation</td>\n      <td>PENICILLIN G POTASSIUM</td>\n      <td>1000000</td>\n      <td>[iU]/50mL</td>\n      <td>Penicillin-class Antibacterial [EPC],Penicilli...</td>\n      <td>NaN</td>\n      <td>N</td>\n      <td>20221231.0</td>\n      <td>both</td>\n    </tr>\n    <tr>\n      <th>68</th>\n      <td>225895</td>\n      <td>pyrazinamide</td>\n      <td>Antibiotics</td>\n      <td>0904-6696_e8edf655-b5ce-4691-9c12-a3cdbb0d1549</td>\n      <td>pyrazinamide</td>\n      <td>0904-6696_e8edf655-b5ce-4691-9c12-a3cdbb0d1549</td>\n      <td>0904-6696</td>\n      <td>HUMAN PRESCRIPTION DRUG</td>\n      <td>pyrazinamide</td>\n      <td>NaN</td>\n      <td>...</td>\n      <td>ANDA080157</td>\n      <td>Major Pharmaceuticals</td>\n      <td>PYRAZINAMIDE</td>\n      <td>500</td>\n      <td>mg/1</td>\n      <td>Antimycobacterial [EPC]</td>\n      <td>NaN</td>\n      <td>N</td>\n      <td>20221231.0</td>\n      <td>both</td>\n    </tr>\n    <tr>\n      <th>69</th>\n      <td>225896</td>\n      <td>quinine</td>\n      <td>Antibiotics</td>\n      <td>65162-811_7702bd7e-da76-4116-b5d8-162416d06104</td>\n      <td>quinine</td>\n      <td>NaN</td>\n      <td>NaN</td>\n      <td>NaN</td>\n      <td>NaN</td>\n      <td>NaN</td>\n      <td>...</td>\n      <td>NaN</td>\n      <td>NaN</td>\n      <td>NaN</td>\n      <td>NaN</td>\n      <td>NaN</td>\n      <td>NaN</td>\n      <td>NaN</td>\n      <td>NaN</td>\n      <td>NaN</td>\n      <td>left_only</td>\n    </tr>\n    <tr>\n      <th>70</th>\n      <td>225897</td>\n      <td>ribavirin</td>\n      <td>Antibiotics</td>\n      <td>0085-1318_c1e62cfb-c88b-4f4a-bfc0-351c71f64062</td>\n      <td>ribavirin</td>\n      <td>42494-423_48e8b38f-e794-438f-bf24-66d0363e4829</td>\n      <td>42494-423</td>\n      <td>HUMAN PRESCRIPTION DRUG</td>\n      <td>ribavirin</td>\n      <td>NaN</td>\n      <td>...</td>\n      <td>NDA018859</td>\n      <td>Cameron Pharmaceuticals</td>\n      <td>RIBAVIRIN</td>\n      <td>6</td>\n      <td>g/1</td>\n      <td>Nucleoside Analog [EXT],Nucleoside Analog Anti...</td>\n      <td>NaN</td>\n      <td>N</td>\n      <td>20221231.0</td>\n      <td>both</td>\n    </tr>\n    <tr>\n      <th>71</th>\n      <td>225898</td>\n      <td>rifampin</td>\n      <td>Antibiotics</td>\n      <td>0068-0597_3f891ec7-5a07-4609-9c4a-e3490ef63085</td>\n      <td>rifampin</td>\n      <td>0143-9230_5e3e309a-9718-4b42-8d80-0651b1813fbd</td>\n      <td>0143-9230</td>\n      <td>HUMAN PRESCRIPTION DRUG</td>\n      <td>rifampin</td>\n      <td>NaN</td>\n      <td>...</td>\n      <td>ANDA205039</td>\n      <td>Hikma Pharmaceuticals USA Inc.</td>\n      <td>RIFAMPIN</td>\n      <td>600</td>\n      <td>mg/1</td>\n      <td>Rifamycin Antibacterial [EPC],Rifamycins [CS]</td>\n      <td>NaN</td>\n      <td>N</td>\n      <td>20221231.0</td>\n      <td>both</td>\n    </tr>\n    <tr>\n      <th>74</th>\n      <td>225902</td>\n      <td>tobramycin</td>\n      <td>Antibiotics</td>\n      <td>0065-0643_fca87dbc-0a61-40ef-8c16-56e196df6258</td>\n      <td>tobramycin</td>\n      <td>0093-3750_845bdd43-8de7-4f7f-b838-fd62d3bca3ac</td>\n      <td>0093-3750</td>\n      <td>HUMAN PRESCRIPTION DRUG</td>\n      <td>tobramycin</td>\n      <td>NaN</td>\n      <td>...</td>\n      <td>ANDA210915</td>\n      <td>Teva Pharmaceuticals USA, Inc.</td>\n      <td>TOBRAMYCIN</td>\n      <td>300</td>\n      <td>mg/4mL</td>\n      <td>Aminoglycoside Antibacterial [EPC],Aminoglycos...</td>\n      <td>NaN</td>\n      <td>N</td>\n      <td>20221231.0</td>\n      <td>both</td>\n    </tr>\n    <tr>\n      <th>76</th>\n      <td>225905</td>\n      <td>voriconazole</td>\n      <td>Antibiotics</td>\n      <td>0049-3160_7cc9ba1d-cebd-49b9-940b-8d5137c7012e</td>\n      <td>voriconazole</td>\n      <td>0378-1626_bd2c50f4-ce30-4c78-8aac-5489056d341c</td>\n      <td>0378-1626</td>\n      <td>HUMAN PRESCRIPTION DRUG</td>\n      <td>voriconazole</td>\n      <td>NaN</td>\n      <td>...</td>\n      <td>ANDA090547</td>\n      <td>Mylan Pharmaceuticals Inc.</td>\n      <td>VORICONAZOLE</td>\n      <td>50</td>\n      <td>mg/1</td>\n      <td>Azole Antifungal [EPC],Azoles [CS],Cytochrome ...</td>\n      <td>NaN</td>\n      <td>N</td>\n      <td>20221231.0</td>\n      <td>both</td>\n    </tr>\n    <tr>\n      <th>78</th>\n      <td>228003</td>\n      <td>tamiflu</td>\n      <td>Antibiotics</td>\n      <td>NaN</td>\n      <td>NaN</td>\n      <td>0004-0800_ce6467c3-e42d-4c77-8918-1bbcec3f6e41</td>\n      <td>0004-0800</td>\n      <td>HUMAN PRESCRIPTION DRUG</td>\n      <td>tamiflu</td>\n      <td>NaN</td>\n      <td>...</td>\n      <td>NDA021087</td>\n      <td>Genentech, Inc.</td>\n      <td>OSELTAMIVIR PHOSPHATE</td>\n      <td>75</td>\n      <td>mg/1</td>\n      <td>Neuraminidase Inhibitor [EPC],Neuraminidase In...</td>\n      <td>NaN</td>\n      <td>N</td>\n      <td>20221231.0</td>\n      <td>both</td>\n    </tr>\n    <tr>\n      <th>81</th>\n      <td>229064</td>\n      <td>tigecycline</td>\n      <td>Antibiotics</td>\n      <td>0008-4990_7e88761a-2780-431b-83b9-f5de38a73de6</td>\n      <td>tigecycline</td>\n      <td>0781-3481_6cf55dda-55df-48ee-9fe1-944ce41f93a0</td>\n      <td>0781-3481</td>\n      <td>HUMAN PRESCRIPTION DRUG</td>\n      <td>tigecycline</td>\n      <td>NaN</td>\n      <td>...</td>\n      <td>ANDA091620</td>\n      <td>Sandoz Inc</td>\n      <td>TIGECYCLINE</td>\n      <td>50</td>\n      <td>mg/10mL</td>\n      <td>Tetracycline-class Antibacterial [EPC],Tetracy...</td>\n      <td>NaN</td>\n      <td>N</td>\n      <td>20221231.0</td>\n      <td>both</td>\n    </tr>\n    <tr>\n      <th>233</th>\n      <td>225944</td>\n      <td>sterile water</td>\n      <td>Fluids/Intake</td>\n      <td>0006-4309_84254f95-cdc7-451d-92bb-0fc7b6110560</td>\n      <td>sterile water</td>\n      <td>0264-7385_ed933e44-2560-495b-879c-99c6a0bf8ba0</td>\n      <td>0264-7385</td>\n      <td>HUMAN PRESCRIPTION DRUG</td>\n      <td>sterile water</td>\n      <td>NaN</td>\n      <td>...</td>\n      <td>NDA019633</td>\n      <td>B. Braun Medical Inc.</td>\n      <td>WATER</td>\n      <td>1</td>\n      <td>mL/mL</td>\n      <td>NaN</td>\n      <td>NaN</td>\n      <td>N</td>\n      <td>20221231.0</td>\n      <td>both</td>\n    </tr>\n    <tr>\n      <th>372</th>\n      <td>225795</td>\n      <td>dextran 40</td>\n      <td>Blood Products/Colloids</td>\n      <td>0409-7418_fe237c48-a413-4661-94c1-2ad17c5223cd</td>\n      <td>dextran 40</td>\n      <td>NaN</td>\n      <td>NaN</td>\n      <td>NaN</td>\n      <td>NaN</td>\n      <td>NaN</td>\n      <td>...</td>\n      <td>NaN</td>\n      <td>NaN</td>\n      <td>NaN</td>\n      <td>NaN</td>\n      <td>NaN</td>\n      <td>NaN</td>\n      <td>NaN</td>\n      <td>NaN</td>\n      <td>NaN</td>\n      <td>left_only</td>\n    </tr>\n    <tr>\n      <th>375</th>\n      <td>225915</td>\n      <td>profilnine</td>\n      <td>Blood Products/Colloids</td>\n      <td>NaN</td>\n      <td>NaN</td>\n      <td>68516-3207_fbe7e210-6345-4dc5-89fb-1cdd475ac5d8</td>\n      <td>68516-3207</td>\n      <td>PLASMA DERIVATIVE</td>\n      <td>profilnine</td>\n      <td>NaN</td>\n      <td>...</td>\n      <td>BLA102476</td>\n      <td>GRIFOLS USA, LLC</td>\n      <td>NaN</td>\n      <td>NaN</td>\n      <td>NaN</td>\n      <td>NaN</td>\n      <td>NaN</td>\n      <td>N</td>\n      <td>20231231.0</td>\n      <td>both</td>\n    </tr>\n    <tr>\n      <th>395</th>\n      <td>220953</td>\n      <td>ringers</td>\n      <td>Fluids - Other (Not In Use)</td>\n      <td>NaN</td>\n      <td>NaN</td>\n      <td>0264-7780_f8ccf9ad-0426-4288-afc7-0cf99f12391f</td>\n      <td>0264-7780</td>\n      <td>HUMAN PRESCRIPTION DRUG</td>\n      <td>ringers</td>\n      <td>NaN</td>\n      <td>...</td>\n      <td>NDA020002</td>\n      <td>B. Braun Medical Inc.</td>\n      <td>SODIUM CHLORIDE; CALCIUM CHLORIDE; POTASSIUM C...</td>\n      <td>.86; .033; .03</td>\n      <td>g/100mL; g/100mL; g/100mL</td>\n      <td>Blood Coagulation Factor [EPC],Increased Coagu...</td>\n      <td>NaN</td>\n      <td>N</td>\n      <td>20221231.0</td>\n      <td>both</td>\n    </tr>\n  </tbody>\n</table>\n<p>47 rows × 26 columns</p>\n</div>"
     },
     "execution_count": 42,
     "metadata": {},
     "output_type": "execute_result"
    }
   ],
   "source": [
    "matched.loc[(~matched['category'].isin(['Medications'])) & has_product_id]"
   ],
   "metadata": {
    "collapsed": false,
    "ExecuteTime": {
     "end_time": "2023-10-12T02:25:03.479062400Z",
     "start_time": "2023-10-12T02:25:03.321288700Z"
    }
   }
  },
  {
   "cell_type": "code",
   "execution_count": 43,
   "outputs": [
    {
     "data": {
      "text/plain": "     itemid                    label        abbreviation  \\\n0    222139        potassium acetate   Potassium ACEtate   \n1    222190               ranitidine          Ranitidine   \n2    225801               lipids 20%          Lipids 20%   \n3    225916            tpn w/ lipids       TPN w/ Lipids   \n4    225917       tpn without lipids  TPN without Lipids   \n..      ...                      ...                 ...   \n469  221209                peptisorb           Peptisorb   \n470  221210                  suplena             Suplena   \n471  221211  sodium bicarbonate 1,4%          NaBic 1,4%   \n472  221212             saline 0,18%        Saline 0,18%   \n473  221213               saline 30%          Saline 30%   \n\n                        category unitname  \n0        Nutrition - Supplements      mEq  \n1         Nutrition - Parenteral       mg  \n2         Nutrition - Parenteral       mL  \n3         Nutrition - Parenteral       mL  \n4         Nutrition - Parenteral       mL  \n..                           ...      ...  \n469  Fluids - Other (Not In Use)       mL  \n470  Fluids - Other (Not In Use)       mL  \n471  Fluids - Other (Not In Use)       mL  \n472  Fluids - Other (Not In Use)       mL  \n473  Fluids - Other (Not In Use)       mL  \n\n[474 rows x 5 columns]",
      "text/html": "<div>\n<style scoped>\n    .dataframe tbody tr th:only-of-type {\n        vertical-align: middle;\n    }\n\n    .dataframe tbody tr th {\n        vertical-align: top;\n    }\n\n    .dataframe thead th {\n        text-align: right;\n    }\n</style>\n<table border=\"1\" class=\"dataframe\">\n  <thead>\n    <tr style=\"text-align: right;\">\n      <th></th>\n      <th>itemid</th>\n      <th>label</th>\n      <th>abbreviation</th>\n      <th>category</th>\n      <th>unitname</th>\n    </tr>\n  </thead>\n  <tbody>\n    <tr>\n      <th>0</th>\n      <td>222139</td>\n      <td>potassium acetate</td>\n      <td>Potassium ACEtate</td>\n      <td>Nutrition - Supplements</td>\n      <td>mEq</td>\n    </tr>\n    <tr>\n      <th>1</th>\n      <td>222190</td>\n      <td>ranitidine</td>\n      <td>Ranitidine</td>\n      <td>Nutrition - Parenteral</td>\n      <td>mg</td>\n    </tr>\n    <tr>\n      <th>2</th>\n      <td>225801</td>\n      <td>lipids 20%</td>\n      <td>Lipids 20%</td>\n      <td>Nutrition - Parenteral</td>\n      <td>mL</td>\n    </tr>\n    <tr>\n      <th>3</th>\n      <td>225916</td>\n      <td>tpn w/ lipids</td>\n      <td>TPN w/ Lipids</td>\n      <td>Nutrition - Parenteral</td>\n      <td>mL</td>\n    </tr>\n    <tr>\n      <th>4</th>\n      <td>225917</td>\n      <td>tpn without lipids</td>\n      <td>TPN without Lipids</td>\n      <td>Nutrition - Parenteral</td>\n      <td>mL</td>\n    </tr>\n    <tr>\n      <th>...</th>\n      <td>...</td>\n      <td>...</td>\n      <td>...</td>\n      <td>...</td>\n      <td>...</td>\n    </tr>\n    <tr>\n      <th>469</th>\n      <td>221209</td>\n      <td>peptisorb</td>\n      <td>Peptisorb</td>\n      <td>Fluids - Other (Not In Use)</td>\n      <td>mL</td>\n    </tr>\n    <tr>\n      <th>470</th>\n      <td>221210</td>\n      <td>suplena</td>\n      <td>Suplena</td>\n      <td>Fluids - Other (Not In Use)</td>\n      <td>mL</td>\n    </tr>\n    <tr>\n      <th>471</th>\n      <td>221211</td>\n      <td>sodium bicarbonate 1,4%</td>\n      <td>NaBic 1,4%</td>\n      <td>Fluids - Other (Not In Use)</td>\n      <td>mL</td>\n    </tr>\n    <tr>\n      <th>472</th>\n      <td>221212</td>\n      <td>saline 0,18%</td>\n      <td>Saline 0,18%</td>\n      <td>Fluids - Other (Not In Use)</td>\n      <td>mL</td>\n    </tr>\n    <tr>\n      <th>473</th>\n      <td>221213</td>\n      <td>saline 30%</td>\n      <td>Saline 30%</td>\n      <td>Fluids - Other (Not In Use)</td>\n      <td>mL</td>\n    </tr>\n  </tbody>\n</table>\n<p>474 rows × 5 columns</p>\n</div>"
     },
     "execution_count": 43,
     "metadata": {},
     "output_type": "execute_result"
    }
   ],
   "source": [
    "icu_drugs"
   ],
   "metadata": {
    "collapsed": false,
    "ExecuteTime": {
     "end_time": "2023-10-12T02:25:03.612299500Z",
     "start_time": "2023-10-12T02:25:03.427658100Z"
    }
   }
  },
  {
   "cell_type": "code",
   "execution_count": 44,
   "outputs": [
    {
     "data": {
      "text/plain": "       DDInterID_A              Drug_A  DDInterID_B             Drug_B  Level\n7      DDInter1683  sodium bicarbonate   DDInter582       dolutegravir  Major\n541    DDInter1073           linezolid   DDInter652        epinephrine  Major\n1165     DDInter66            amikacin  DDInter1123           mannitol  Major\n1175     DDInter68           amiloride  DDInter1495  potassium acetate  Major\n1226    DDInter177          benazepril  DDInter1495  potassium acetate  Major\n...            ...                 ...          ...                ...    ...\n9775    DDInter656          eplerenone  DDInter1495  potassium acetate  Major\n9868    DDInter658          eprosartan  DDInter1495  potassium acetate  Major\n10075   DDInter743         fluconazole   DDInter542         dicoumarol  Major\n10192   DDInter781          fosinopril  DDInter1495  potassium acetate  Major\n10792   DDInter542          dicoumarol  DDInter1256          nafcillin  Major\n\n[65 rows x 5 columns]",
      "text/html": "<div>\n<style scoped>\n    .dataframe tbody tr th:only-of-type {\n        vertical-align: middle;\n    }\n\n    .dataframe tbody tr th {\n        vertical-align: top;\n    }\n\n    .dataframe thead th {\n        text-align: right;\n    }\n</style>\n<table border=\"1\" class=\"dataframe\">\n  <thead>\n    <tr style=\"text-align: right;\">\n      <th></th>\n      <th>DDInterID_A</th>\n      <th>Drug_A</th>\n      <th>DDInterID_B</th>\n      <th>Drug_B</th>\n      <th>Level</th>\n    </tr>\n  </thead>\n  <tbody>\n    <tr>\n      <th>7</th>\n      <td>DDInter1683</td>\n      <td>sodium bicarbonate</td>\n      <td>DDInter582</td>\n      <td>dolutegravir</td>\n      <td>Major</td>\n    </tr>\n    <tr>\n      <th>541</th>\n      <td>DDInter1073</td>\n      <td>linezolid</td>\n      <td>DDInter652</td>\n      <td>epinephrine</td>\n      <td>Major</td>\n    </tr>\n    <tr>\n      <th>1165</th>\n      <td>DDInter66</td>\n      <td>amikacin</td>\n      <td>DDInter1123</td>\n      <td>mannitol</td>\n      <td>Major</td>\n    </tr>\n    <tr>\n      <th>1175</th>\n      <td>DDInter68</td>\n      <td>amiloride</td>\n      <td>DDInter1495</td>\n      <td>potassium acetate</td>\n      <td>Major</td>\n    </tr>\n    <tr>\n      <th>1226</th>\n      <td>DDInter177</td>\n      <td>benazepril</td>\n      <td>DDInter1495</td>\n      <td>potassium acetate</td>\n      <td>Major</td>\n    </tr>\n    <tr>\n      <th>...</th>\n      <td>...</td>\n      <td>...</td>\n      <td>...</td>\n      <td>...</td>\n      <td>...</td>\n    </tr>\n    <tr>\n      <th>9775</th>\n      <td>DDInter656</td>\n      <td>eplerenone</td>\n      <td>DDInter1495</td>\n      <td>potassium acetate</td>\n      <td>Major</td>\n    </tr>\n    <tr>\n      <th>9868</th>\n      <td>DDInter658</td>\n      <td>eprosartan</td>\n      <td>DDInter1495</td>\n      <td>potassium acetate</td>\n      <td>Major</td>\n    </tr>\n    <tr>\n      <th>10075</th>\n      <td>DDInter743</td>\n      <td>fluconazole</td>\n      <td>DDInter542</td>\n      <td>dicoumarol</td>\n      <td>Major</td>\n    </tr>\n    <tr>\n      <th>10192</th>\n      <td>DDInter781</td>\n      <td>fosinopril</td>\n      <td>DDInter1495</td>\n      <td>potassium acetate</td>\n      <td>Major</td>\n    </tr>\n    <tr>\n      <th>10792</th>\n      <td>DDInter542</td>\n      <td>dicoumarol</td>\n      <td>DDInter1256</td>\n      <td>nafcillin</td>\n      <td>Major</td>\n    </tr>\n  </tbody>\n</table>\n<p>65 rows × 5 columns</p>\n</div>"
     },
     "execution_count": 44,
     "metadata": {},
     "output_type": "execute_result"
    }
   ],
   "source": [
    "def read_ddinter():\n",
    "    df = pd.read_csv(ddinter_data_dir / \"ddinter_downloads_code_B.csv\")\n",
    "    df.Drug_B = df.Drug_B.fillna(\"\")\n",
    "    df.Drug_B = df.Drug_B.apply(str.lower)\n",
    "    df.Drug_B = df.Drug_B.fillna(\"\")\n",
    "    df.Drug_B = df.Drug_B.apply(str.lower)\n",
    "\n",
    "    df.Drug_A = df.Drug_A.fillna(\"\")\n",
    "    df.Drug_A = df.Drug_A.apply(str.lower)\n",
    "    df.Drug_A = df.Drug_A.fillna(\"\")\n",
    "    df.Drug_A = df.Drug_A.apply(str.lower)\n",
    "    return df\n",
    "\n",
    "ddinter = read_ddinter()\n",
    "cleaned= ddinter\n",
    "cleaned.loc[(cleaned['Drug_B'].isin( fuzzy_matched['norm_label']) | cleaned['Drug_A'].isin( fuzzy_matched['norm_label'])) & cleaned.Level.isin( ['Major'])]\n"
   ],
   "metadata": {
    "collapsed": false,
    "ExecuteTime": {
     "end_time": "2023-10-12T02:25:03.791379100Z",
     "start_time": "2023-10-12T02:25:03.523114600Z"
    }
   }
  },
  {
   "cell_type": "code",
   "execution_count": 45,
   "outputs": [
    {
     "name": "stdout",
     "output_type": "stream",
     "text": [
      "18\n",
      "(first_ie.itemid IN (225837) AND second_ie.itemid IN (227533,221211)) OR (first_ie.itemid IN (225843) AND second_ie.itemid IN (220988,220989,220990,220991,220992)) OR (first_ie.itemid IN (225844) AND second_ie.itemid IN (227533,221211)) OR (first_ie.itemid IN (225845) AND second_ie.itemid IN (227533,220988,220989,220990,220991,220992,221211)) OR (first_ie.itemid IN (225850) AND second_ie.itemid IN (227533,221211)) OR (first_ie.itemid IN (225855) AND second_ie.itemid IN (227533,221211)) OR (first_ie.itemid IN (225859) AND second_ie.itemid IN (227533,220988,220989,220990,220991,220992,221211)) OR (first_ie.itemid IN (225865) AND second_ie.itemid IN (225926,227533,220988,220989,220990,220991,220992,221211)) OR (first_ie.itemid IN (225866) AND second_ie.itemid IN (227533,220988,220989,220990,220991,220992,221211)) OR (first_ie.itemid IN (225869) AND second_ie.itemid IN (227533,220988,220989,220990,220991,220992,221211)) OR (first_ie.itemid IN (225873) AND second_ie.itemid IN (227533,221211)) OR (first_ie.itemid IN (225879) AND second_ie.itemid IN (227533,221211)) OR (first_ie.itemid IN (225881) AND second_ie.itemid IN (227533,220988,220989,220990,220991,220992,221211)) OR (first_ie.itemid IN (220988,220989,220990,220991,220992) AND second_ie.itemid IN (225837,225850,225855,225873,225884,225903,227533,221211)) OR (first_ie.itemid IN (225884) AND second_ie.itemid IN (227533,221211)) OR (first_ie.itemid IN (227533,221211) AND second_ie.itemid IN (225903)) OR (first_ie.itemid IN (225902) AND second_ie.itemid IN (227533,220988,220989,220990,220991,220992,221211)) OR (first_ie.itemid IN (225905) AND second_ie.itemid IN (227533,221211))\n",
      "\n",
      "\n",
      " SELECT first_ie.subject_id, first_ie.stay_id, first_ie.itemid, second_ie.itemid, MAX(second_ie.starttime) as dose2_time, count(*)\n",
      "        FROM `physionet-data.mimiciv_icu.inputevents` as first_ie\n",
      "        INNER JOIN `physionet-data.mimiciv_icu.inputevents` as second_ie ON first_ie.stay_id = second_ie.stay_id\n",
      "        WHERE (first_ie.itemid IN (225837) AND second_ie.itemid IN (227533,221211)) OR (first_ie.itemid IN (225843) AND second_ie.itemid IN (220988,220989,220990,220991,220992)) OR (first_ie.itemid IN (225844) AND second_ie.itemid IN (227533,221211)) OR (first_ie.itemid IN (225845) AND second_ie.itemid IN (227533,220988,220989,220990,220991,220992,221211)) OR (first_ie.itemid IN (225850) AND second_ie.itemid IN (227533,221211)) OR (first_ie.itemid IN (225855) AND second_ie.itemid IN (227533,221211)) OR (first_ie.itemid IN (225859) AND second_ie.itemid IN (227533,220988,220989,220990,220991,220992,221211)) OR (first_ie.itemid IN (225865) AND second_ie.itemid IN (225926,227533,220988,220989,220990,220991,220992,221211)) OR (first_ie.itemid IN (225866) AND second_ie.itemid IN (227533,220988,220989,220990,220991,220992,221211)) OR (first_ie.itemid IN (225869) AND second_ie.itemid IN (227533,220988,220989,220990,220991,220992,221211)) OR (first_ie.itemid IN (225873) AND second_ie.itemid IN (227533,221211)) OR (first_ie.itemid IN (225879) AND second_ie.itemid IN (227533,221211)) OR (first_ie.itemid IN (225881) AND second_ie.itemid IN (227533,220988,220989,220990,220991,220992,221211)) OR (first_ie.itemid IN (220988,220989,220990,220991,220992) AND second_ie.itemid IN (225837,225850,225855,225873,225884,225903,227533,221211)) OR (first_ie.itemid IN (225884) AND second_ie.itemid IN (227533,221211)) OR (first_ie.itemid IN (227533,221211) AND second_ie.itemid IN (225903)) OR (first_ie.itemid IN (225902) AND second_ie.itemid IN (227533,220988,220989,220990,220991,220992,221211)) OR (first_ie.itemid IN (225905) AND second_ie.itemid IN (227533,221211)) AND first_ie.amount > 0\n",
      "            AND second_ie.amount > 0\n",
      "            AND first_ie.starttime < second_ie.starttime\n",
      "            AND DATETIME_DIFF(second_ie.starttime, first_ie.starttime, MINUTE) < 300\n",
      "        GROUP BY first_ie.subject_id, first_ie.stay_id, first_ie.itemid, second_ie.itemid, second_ie.starttime\n",
      "\n",
      "    \n",
      "<google.oauth2.credentials.Credentials object at 0x00000228083DA350> mimic-iv-desktop\n"
     ]
    },
    {
     "data": {
      "text/plain": "      subject_id   stay_id  itemid  itemid_1          dose2_time  f0_\n0       11980812  34036698  225850    227533 2155-12-11 17:30:00    4\n1       16337817  37122552  225884    227533 2177-08-04 15:50:00    5\n2       14789655  34831657  225884    227533 2152-08-21 23:00:00    4\n3       17410025  30645946  225859    227533 2187-08-25 13:50:00   23\n4       17410025  30645946  225850    227533 2187-08-25 13:50:00    6\n...          ...       ...     ...       ...                 ...  ...\n6574    15436319  36502055  225869    227533 2125-12-08 09:30:00   15\n6575    18756985  30006983  225869    227533 2159-11-16 06:45:00    6\n6576    12974332  30720284  225884    227533 2130-12-21 11:55:00   14\n6577    12974332  30720284  225869    227533 2130-12-21 11:55:00    3\n6578    17011771  31191820  225884    227533 2177-07-22 19:45:00    1\n\n[6579 rows x 6 columns]",
      "text/html": "<div>\n<style scoped>\n    .dataframe tbody tr th:only-of-type {\n        vertical-align: middle;\n    }\n\n    .dataframe tbody tr th {\n        vertical-align: top;\n    }\n\n    .dataframe thead th {\n        text-align: right;\n    }\n</style>\n<table border=\"1\" class=\"dataframe\">\n  <thead>\n    <tr style=\"text-align: right;\">\n      <th></th>\n      <th>subject_id</th>\n      <th>stay_id</th>\n      <th>itemid</th>\n      <th>itemid_1</th>\n      <th>dose2_time</th>\n      <th>f0_</th>\n    </tr>\n  </thead>\n  <tbody>\n    <tr>\n      <th>0</th>\n      <td>11980812</td>\n      <td>34036698</td>\n      <td>225850</td>\n      <td>227533</td>\n      <td>2155-12-11 17:30:00</td>\n      <td>4</td>\n    </tr>\n    <tr>\n      <th>1</th>\n      <td>16337817</td>\n      <td>37122552</td>\n      <td>225884</td>\n      <td>227533</td>\n      <td>2177-08-04 15:50:00</td>\n      <td>5</td>\n    </tr>\n    <tr>\n      <th>2</th>\n      <td>14789655</td>\n      <td>34831657</td>\n      <td>225884</td>\n      <td>227533</td>\n      <td>2152-08-21 23:00:00</td>\n      <td>4</td>\n    </tr>\n    <tr>\n      <th>3</th>\n      <td>17410025</td>\n      <td>30645946</td>\n      <td>225859</td>\n      <td>227533</td>\n      <td>2187-08-25 13:50:00</td>\n      <td>23</td>\n    </tr>\n    <tr>\n      <th>4</th>\n      <td>17410025</td>\n      <td>30645946</td>\n      <td>225850</td>\n      <td>227533</td>\n      <td>2187-08-25 13:50:00</td>\n      <td>6</td>\n    </tr>\n    <tr>\n      <th>...</th>\n      <td>...</td>\n      <td>...</td>\n      <td>...</td>\n      <td>...</td>\n      <td>...</td>\n      <td>...</td>\n    </tr>\n    <tr>\n      <th>6574</th>\n      <td>15436319</td>\n      <td>36502055</td>\n      <td>225869</td>\n      <td>227533</td>\n      <td>2125-12-08 09:30:00</td>\n      <td>15</td>\n    </tr>\n    <tr>\n      <th>6575</th>\n      <td>18756985</td>\n      <td>30006983</td>\n      <td>225869</td>\n      <td>227533</td>\n      <td>2159-11-16 06:45:00</td>\n      <td>6</td>\n    </tr>\n    <tr>\n      <th>6576</th>\n      <td>12974332</td>\n      <td>30720284</td>\n      <td>225884</td>\n      <td>227533</td>\n      <td>2130-12-21 11:55:00</td>\n      <td>14</td>\n    </tr>\n    <tr>\n      <th>6577</th>\n      <td>12974332</td>\n      <td>30720284</td>\n      <td>225869</td>\n      <td>227533</td>\n      <td>2130-12-21 11:55:00</td>\n      <td>3</td>\n    </tr>\n    <tr>\n      <th>6578</th>\n      <td>17011771</td>\n      <td>31191820</td>\n      <td>225884</td>\n      <td>227533</td>\n      <td>2177-07-22 19:45:00</td>\n      <td>1</td>\n    </tr>\n  </tbody>\n</table>\n<p>6579 rows × 6 columns</p>\n</div>"
     },
     "execution_count": 45,
     "metadata": {},
     "output_type": "execute_result"
    }
   ],
   "source": [
    "def query_for_drug_interactions():\n",
    "    multimap = cleaned.groupby('Drug_A')['Drug_B'].apply(list).to_dict()\n",
    "    clauses= []\n",
    "    for key in multimap.keys():\n",
    "        first_ids = fuzzy_matched.loc[(fuzzy_matched['norm_label'] == key)]['itemid']\n",
    "\n",
    "        second_ids = fuzzy_matched.loc[(fuzzy_matched['norm_label'].isin(multimap[key]))]['itemid']\n",
    "        if first_ids.any() & second_ids.any():\n",
    "            sql = f\"(first_ie.itemid IN ({','.join([str(item) for item in first_ids if item])}) AND second_ie.itemid IN ({','.join([str(item) for item in second_ids if item])}))\"\n",
    "            clauses.append(sql)\n",
    "    print(len(clauses))\n",
    "    clause = \" OR \".join(clauses)\n",
    "    print (clause)\n",
    "\n",
    "    icu = \"physionet-data.mimiciv_icu\"\n",
    "\n",
    "    sql = f\"\"\"SELECT first_ie.subject_id, first_ie.stay_id, first_ie.itemid, second_ie.itemid, MAX(second_ie.starttime) as dose2_time, count(*)\n",
    "        FROM `{icu}.inputevents` as first_ie\n",
    "        INNER JOIN `{icu}.inputevents` as second_ie ON first_ie.stay_id = second_ie.stay_id\n",
    "        WHERE {clause} AND first_ie.amount > 0\n",
    "            AND second_ie.amount > 0\n",
    "            AND first_ie.starttime < second_ie.starttime\n",
    "            AND DATETIME_DIFF(second_ie.starttime, first_ie.starttime, MINUTE) < 300\n",
    "        GROUP BY first_ie.subject_id, first_ie.stay_id, first_ie.itemid, second_ie.itemid, second_ie.starttime\n",
    "\n",
    "    \"\"\"\n",
    "    print(\"\\n\\n\",sql)\n",
    "    mimic_job = get_authed_client().query(sql)\n",
    "    return mimic_job.to_dataframe()\n",
    "\n",
    "drug_interactions = query_for_drug_interactions()\n",
    "drug_interactions"
   ],
   "metadata": {
    "collapsed": false,
    "ExecuteTime": {
     "end_time": "2023-10-12T02:25:10.170914700Z",
     "start_time": "2023-10-12T02:25:03.652206500Z"
    }
   }
  },
  {
   "cell_type": "code",
   "execution_count": 46,
   "outputs": [
    {
     "name": "stdout",
     "output_type": "stream",
     "text": [
      "Saved cohort\n"
     ]
    }
   ],
   "source": [
    "from detectdd.serializer import Serializer\n",
    "\n",
    "serializer = Serializer()\n",
    "serializer.write_cohort(drug_interactions)"
   ],
   "metadata": {
    "collapsed": false,
    "ExecuteTime": {
     "end_time": "2023-10-12T02:25:10.290589900Z",
     "start_time": "2023-10-12T02:25:10.164929900Z"
    }
   }
  },
  {
   "cell_type": "code",
   "execution_count": 47,
   "outputs": [
    {
     "name": "stdout",
     "output_type": "stream",
     "text": [
      "Loaded cohort\n"
     ]
    },
    {
     "data": {
      "text/plain": "      subject_id   stay_id  itemid  itemid_1          dose2_time  f0_\n0       11980812  34036698  225850    227533 2155-12-11 17:30:00    4\n1       16337817  37122552  225884    227533 2177-08-04 15:50:00    5\n2       14789655  34831657  225884    227533 2152-08-21 23:00:00    4\n3       17410025  30645946  225859    227533 2187-08-25 13:50:00   23\n4       17410025  30645946  225850    227533 2187-08-25 13:50:00    6\n...          ...       ...     ...       ...                 ...  ...\n6574    15436319  36502055  225869    227533 2125-12-08 09:30:00   15\n6575    18756985  30006983  225869    227533 2159-11-16 06:45:00    6\n6576    12974332  30720284  225884    227533 2130-12-21 11:55:00   14\n6577    12974332  30720284  225869    227533 2130-12-21 11:55:00    3\n6578    17011771  31191820  225884    227533 2177-07-22 19:45:00    1\n\n[6579 rows x 6 columns]",
      "text/html": "<div>\n<style scoped>\n    .dataframe tbody tr th:only-of-type {\n        vertical-align: middle;\n    }\n\n    .dataframe tbody tr th {\n        vertical-align: top;\n    }\n\n    .dataframe thead th {\n        text-align: right;\n    }\n</style>\n<table border=\"1\" class=\"dataframe\">\n  <thead>\n    <tr style=\"text-align: right;\">\n      <th></th>\n      <th>subject_id</th>\n      <th>stay_id</th>\n      <th>itemid</th>\n      <th>itemid_1</th>\n      <th>dose2_time</th>\n      <th>f0_</th>\n    </tr>\n  </thead>\n  <tbody>\n    <tr>\n      <th>0</th>\n      <td>11980812</td>\n      <td>34036698</td>\n      <td>225850</td>\n      <td>227533</td>\n      <td>2155-12-11 17:30:00</td>\n      <td>4</td>\n    </tr>\n    <tr>\n      <th>1</th>\n      <td>16337817</td>\n      <td>37122552</td>\n      <td>225884</td>\n      <td>227533</td>\n      <td>2177-08-04 15:50:00</td>\n      <td>5</td>\n    </tr>\n    <tr>\n      <th>2</th>\n      <td>14789655</td>\n      <td>34831657</td>\n      <td>225884</td>\n      <td>227533</td>\n      <td>2152-08-21 23:00:00</td>\n      <td>4</td>\n    </tr>\n    <tr>\n      <th>3</th>\n      <td>17410025</td>\n      <td>30645946</td>\n      <td>225859</td>\n      <td>227533</td>\n      <td>2187-08-25 13:50:00</td>\n      <td>23</td>\n    </tr>\n    <tr>\n      <th>4</th>\n      <td>17410025</td>\n      <td>30645946</td>\n      <td>225850</td>\n      <td>227533</td>\n      <td>2187-08-25 13:50:00</td>\n      <td>6</td>\n    </tr>\n    <tr>\n      <th>...</th>\n      <td>...</td>\n      <td>...</td>\n      <td>...</td>\n      <td>...</td>\n      <td>...</td>\n      <td>...</td>\n    </tr>\n    <tr>\n      <th>6574</th>\n      <td>15436319</td>\n      <td>36502055</td>\n      <td>225869</td>\n      <td>227533</td>\n      <td>2125-12-08 09:30:00</td>\n      <td>15</td>\n    </tr>\n    <tr>\n      <th>6575</th>\n      <td>18756985</td>\n      <td>30006983</td>\n      <td>225869</td>\n      <td>227533</td>\n      <td>2159-11-16 06:45:00</td>\n      <td>6</td>\n    </tr>\n    <tr>\n      <th>6576</th>\n      <td>12974332</td>\n      <td>30720284</td>\n      <td>225884</td>\n      <td>227533</td>\n      <td>2130-12-21 11:55:00</td>\n      <td>14</td>\n    </tr>\n    <tr>\n      <th>6577</th>\n      <td>12974332</td>\n      <td>30720284</td>\n      <td>225869</td>\n      <td>227533</td>\n      <td>2130-12-21 11:55:00</td>\n      <td>3</td>\n    </tr>\n    <tr>\n      <th>6578</th>\n      <td>17011771</td>\n      <td>31191820</td>\n      <td>225884</td>\n      <td>227533</td>\n      <td>2177-07-22 19:45:00</td>\n      <td>1</td>\n    </tr>\n  </tbody>\n</table>\n<p>6579 rows × 6 columns</p>\n</div>"
     },
     "execution_count": 47,
     "metadata": {},
     "output_type": "execute_result"
    }
   ],
   "source": [
    "serializer.read_cohort()"
   ],
   "metadata": {
    "collapsed": false,
    "ExecuteTime": {
     "end_time": "2023-10-12T02:25:10.368770400Z",
     "start_time": "2023-10-12T02:25:10.240218800Z"
    }
   }
  },
  {
   "cell_type": "code",
   "execution_count": 48,
   "outputs": [
    {
     "data": {
      "text/plain": "      subject_id   stay_id  itemid  itemid_1          dose2_time  f0_\n0       11980812  34036698  225850    227533 2155-12-11 17:30:00    4\n1       16337817  37122552  225884    227533 2177-08-04 15:50:00    5\n2       14789655  34831657  225884    227533 2152-08-21 23:00:00    4\n3       17410025  30645946  225859    227533 2187-08-25 13:50:00   23\n4       17410025  30645946  225850    227533 2187-08-25 13:50:00    6\n...          ...       ...     ...       ...                 ...  ...\n6574    15436319  36502055  225869    227533 2125-12-08 09:30:00   15\n6575    18756985  30006983  225869    227533 2159-11-16 06:45:00    6\n6576    12974332  30720284  225884    227533 2130-12-21 11:55:00   14\n6577    12974332  30720284  225869    227533 2130-12-21 11:55:00    3\n6578    17011771  31191820  225884    227533 2177-07-22 19:45:00    1\n\n[6579 rows x 6 columns]",
      "text/html": "<div>\n<style scoped>\n    .dataframe tbody tr th:only-of-type {\n        vertical-align: middle;\n    }\n\n    .dataframe tbody tr th {\n        vertical-align: top;\n    }\n\n    .dataframe thead th {\n        text-align: right;\n    }\n</style>\n<table border=\"1\" class=\"dataframe\">\n  <thead>\n    <tr style=\"text-align: right;\">\n      <th></th>\n      <th>subject_id</th>\n      <th>stay_id</th>\n      <th>itemid</th>\n      <th>itemid_1</th>\n      <th>dose2_time</th>\n      <th>f0_</th>\n    </tr>\n  </thead>\n  <tbody>\n    <tr>\n      <th>0</th>\n      <td>11980812</td>\n      <td>34036698</td>\n      <td>225850</td>\n      <td>227533</td>\n      <td>2155-12-11 17:30:00</td>\n      <td>4</td>\n    </tr>\n    <tr>\n      <th>1</th>\n      <td>16337817</td>\n      <td>37122552</td>\n      <td>225884</td>\n      <td>227533</td>\n      <td>2177-08-04 15:50:00</td>\n      <td>5</td>\n    </tr>\n    <tr>\n      <th>2</th>\n      <td>14789655</td>\n      <td>34831657</td>\n      <td>225884</td>\n      <td>227533</td>\n      <td>2152-08-21 23:00:00</td>\n      <td>4</td>\n    </tr>\n    <tr>\n      <th>3</th>\n      <td>17410025</td>\n      <td>30645946</td>\n      <td>225859</td>\n      <td>227533</td>\n      <td>2187-08-25 13:50:00</td>\n      <td>23</td>\n    </tr>\n    <tr>\n      <th>4</th>\n      <td>17410025</td>\n      <td>30645946</td>\n      <td>225850</td>\n      <td>227533</td>\n      <td>2187-08-25 13:50:00</td>\n      <td>6</td>\n    </tr>\n    <tr>\n      <th>...</th>\n      <td>...</td>\n      <td>...</td>\n      <td>...</td>\n      <td>...</td>\n      <td>...</td>\n      <td>...</td>\n    </tr>\n    <tr>\n      <th>6574</th>\n      <td>15436319</td>\n      <td>36502055</td>\n      <td>225869</td>\n      <td>227533</td>\n      <td>2125-12-08 09:30:00</td>\n      <td>15</td>\n    </tr>\n    <tr>\n      <th>6575</th>\n      <td>18756985</td>\n      <td>30006983</td>\n      <td>225869</td>\n      <td>227533</td>\n      <td>2159-11-16 06:45:00</td>\n      <td>6</td>\n    </tr>\n    <tr>\n      <th>6576</th>\n      <td>12974332</td>\n      <td>30720284</td>\n      <td>225884</td>\n      <td>227533</td>\n      <td>2130-12-21 11:55:00</td>\n      <td>14</td>\n    </tr>\n    <tr>\n      <th>6577</th>\n      <td>12974332</td>\n      <td>30720284</td>\n      <td>225869</td>\n      <td>227533</td>\n      <td>2130-12-21 11:55:00</td>\n      <td>3</td>\n    </tr>\n    <tr>\n      <th>6578</th>\n      <td>17011771</td>\n      <td>31191820</td>\n      <td>225884</td>\n      <td>227533</td>\n      <td>2177-07-22 19:45:00</td>\n      <td>1</td>\n    </tr>\n  </tbody>\n</table>\n<p>6579 rows × 6 columns</p>\n</div>"
     },
     "execution_count": 48,
     "metadata": {},
     "output_type": "execute_result"
    }
   ],
   "source": [
    "drug_interactions"
   ],
   "metadata": {
    "collapsed": false,
    "ExecuteTime": {
     "end_time": "2023-10-12T02:25:10.477971500Z",
     "start_time": "2023-10-12T02:25:10.333361600Z"
    }
   }
  },
  {
   "cell_type": "code",
   "execution_count": 48,
   "outputs": [],
   "source": [],
   "metadata": {
    "collapsed": false,
    "ExecuteTime": {
     "end_time": "2023-10-12T02:25:10.477971500Z",
     "start_time": "2023-10-12T02:25:10.419067600Z"
    }
   }
  }
 ],
 "metadata": {
  "kernelspec": {
   "display_name": "Python 3",
   "language": "python",
   "name": "python3"
  },
  "language_info": {
   "codemirror_mode": {
    "name": "ipython",
    "version": 2
   },
   "file_extension": ".py",
   "mimetype": "text/x-python",
   "name": "python",
   "nbconvert_exporter": "python",
   "pygments_lexer": "ipython2",
   "version": "2.7.6"
  }
 },
 "nbformat": 4,
 "nbformat_minor": 0
}
